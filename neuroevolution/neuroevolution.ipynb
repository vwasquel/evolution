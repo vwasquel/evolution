{
 "cells": [
  {
   "cell_type": "markdown",
   "id": "aa744f2c",
   "metadata": {
    "slideshow": {
     "slide_type": "slide"
    }
   },
   "source": [
    "# <center> EVOLUTIONARY COMPUTATION \n",
    "## <center> EVOLUTION OF NEURAL NETWORKS\n",
    "<center>\n",
    "<img src=\"../imgs/logo.png\" width=\"30%\"></center>"
   ]
  },
  {
   "cell_type": "markdown",
   "id": "4b85de1f",
   "metadata": {},
   "source": [
    "<center> Paul Templier - paul.templier@isae-supaero.fr"
   ]
  },
  {
   "cell_type": "markdown",
   "id": "broken-charleston",
   "metadata": {
    "slideshow": {
     "slide_type": "slide"
    }
   },
   "source": [
    "## Motivation"
   ]
  },
  {
   "cell_type": "markdown",
   "id": "polish-validation",
   "metadata": {
    "cell_style": "center"
   },
   "source": [
    "<center><img src=\"../imgs/agent_representations.png\" width=\"50%\">\n",
    "\n",
    "<!-- $\\pi: s\\rightarrow a$ -->"
   ]
  },
  {
   "cell_type": "markdown",
   "id": "amended-cologne",
   "metadata": {
    "cell_style": "center",
    "slideshow": {
     "slide_type": "subslide"
    }
   },
   "source": [
    "## Evolution of neural networks\n",
    "\n",
    "<center><img src=\"../imgs/intro_neuroevolution.png\" width=\"50%\">\n",
    "\n",
    "*Miikkulainen, Risto. \"Evolution of neural networks.\" Proceedings of the Genetic and Evolutionary Computation Conference Companion. 2017*"
   ]
  },
  {
   "cell_type": "markdown",
   "id": "gross-lafayette",
   "metadata": {
    "slideshow": {
     "slide_type": "slide"
    }
   },
   "source": [
    "## Neural Networks"
   ]
  },
  {
   "cell_type": "markdown",
   "id": "legal-prototype",
   "metadata": {},
   "source": [
    "### Neuron model\n",
    "<center><img src=\"../imgs/neuron.jpg\" width=\"50%\">\n"
   ]
  },
  {
   "cell_type": "markdown",
   "id": "miniature-township",
   "metadata": {
    "slideshow": {
     "slide_type": "subslide"
    }
   },
   "source": [
    "### Artificial neuron\n",
    "\n",
    "<center><img src=\"../imgs/neuron_model.jpeg\" width=\"50%\">\n",
    "\n",
    "<center>cs231n.github.io\n",
    "\n",
    "<!-- $f(\\sum_{i}{w_i x_i} +b)$ -->\n",
    "\n",
    "$w_i$: weights  \n",
    "$x_i$: output of previous neurons  \n",
    "$b$: bias  \n",
    "$f$: activation function to break linearity \n",
    "\n",
    "\n"
   ]
  },
  {
   "cell_type": "markdown",
   "id": "2832487f",
   "metadata": {
    "slideshow": {
     "slide_type": "subslide"
    }
   },
   "source": [
    "### Artificial Neural Network\n",
    "<center><img src=\"../imgs/neural_network.png\" width=\"50%\">\n",
    "    \n",
    "    \n",
    "$(y_1 ... y_n) = F(x_1 ... x_m)$\n",
    "    \n",
    "    \n",
    "*Source: https://medium.com/swlh/neural-networks-4b6f719f9d75*"
   ]
  },
  {
   "cell_type": "markdown",
   "id": "initial-railway",
   "metadata": {
    "cell_style": "center",
    "slideshow": {
     "slide_type": "slide"
    }
   },
   "source": [
    "## <center> Exercise </center>\n",
    "<br>  \n",
    "<center> Break into groups and discuss: </center>\n",
    "<br>\n",
    "<center>What do we need in the genome to optimize a neural network? How would you encode it? </center>\n",
    "<br>\n",
    "<center>Can you find mutation and crossover operators on your encoding?</center>"
   ]
  },
  {
   "cell_type": "markdown",
   "id": "structured-winning",
   "metadata": {
    "slideshow": {
     "slide_type": "slide"
    }
   },
   "source": [
    "# <center> NEUROEVOLUTION </center>"
   ]
  },
  {
   "cell_type": "markdown",
   "id": "closing-australia",
   "metadata": {
    "cell_style": "split",
    "slideshow": {
     "slide_type": "-"
    }
   },
   "source": [
    "<center><img src=\"../imgs/cellular_encoding.png\" width=\"60%\">\n",
    "\n",
    "Gruau, Frederic, and Darrell Whitley. \"Adding learning to the cellular development of neural networks: Evolution and the Baldwin effect.\" Evolutionary computation 1.3 (1993): 213-233. "
   ]
  },
  {
   "cell_type": "markdown",
   "id": "weird-conspiracy",
   "metadata": {
    "cell_style": "split"
   },
   "source": [
    "<center><img src=\"../imgs/barr.png\" width=\"50%\">\n",
    "\n",
    "Fleischer, Kurt, and Alan H. Barr. \"A simulation testbed for the study of multicellular development: The multiple mechanisms of morphogenesis.\" 1994 "
   ]
  },
  {
   "cell_type": "markdown",
   "id": "reliable-abortion",
   "metadata": {
    "slideshow": {
     "slide_type": "subslide"
    }
   },
   "source": [
    "# <center> NeuroEvolution of Augmenting Topologies (NEAT) </center>"
   ]
  },
  {
   "cell_type": "markdown",
   "id": "final-hybrid",
   "metadata": {
    "cell_style": "center"
   },
   "source": [
    "<center><img src=\"../imgs/neat_encoding.png\" width=\"60%\">\n",
    "        \n",
    "Stanley, Kenneth O., and Risto Miikkulainen. \"Evolving neural networks through augmenting topologies.\" Evolutionary computation 10.2 (2002): 99-127 "
   ]
  },
  {
   "cell_type": "markdown",
   "id": "silver-infection",
   "metadata": {},
   "source": [
    "    \n",
    "Stanley, Kenneth O., and Risto Miikkulainen. \"Evolving neural networks through augmenting topologies.\" Evolutionary computation 10.2 (2002): 99-127 "
   ]
  },
  {
   "cell_type": "markdown",
   "id": "fitted-centre",
   "metadata": {
    "slideshow": {
     "slide_type": "subslide"
    }
   },
   "source": [
    "# <center> NEUROEVOLUTION: FIXED ARCHITECTURE </center>\n",
    "\n",
    "<center><img src=\"../imgs/ne_basics.png\" width=\"50%\">\n",
    "\n",
    "Miikkulainen, Risto. \"Evolution of neural networks.\" Proceedings of the Genetic and Evolutionary Computation Conference Companion. 2017. "
   ]
  },
  {
   "cell_type": "markdown",
   "id": "7f7cc9dc",
   "metadata": {
    "slideshow": {
     "slide_type": "subslide"
    }
   },
   "source": [
    "# <center> PROBLEMS WITH NEUROEVOLUTION </center>\n",
    "\n",
    "<center><img src=\"../imgs/ne_problems.png\" width=\"40%\">\n",
    "\n",
    "Miikkulainen, Risto. \"Evolution of neural networks.\" Proceedings of the Genetic and Evolutionary Computation Conference Companion. 2017. "
   ]
  },
  {
   "cell_type": "markdown",
   "id": "5dc2e085",
   "metadata": {
    "slideshow": {
     "slide_type": "slide"
    }
   },
   "source": [
    "# <center> INDIRECT ENCODING </center>\n",
    "\n",
    "<center><img src=\"../imgs/encoding.png\" width=\"50%\">\n",
    "    \n"
   ]
  },
  {
   "cell_type": "markdown",
   "id": "27eb7a98",
   "metadata": {
    "slideshow": {
     "slide_type": "subslide"
    }
   },
   "source": [
    "# <center> HyperNEAT </center>\n",
    "\n",
    "<center><img src=\"../imgs/indirect_hyperneat.png\" width=\"50%\">\n",
    "\n",
    "<center><img src=\"../imgs/hyperneat.png\" width=\"50%\">\n",
    "    \n",
    "Stanley, Kenneth O.; D'Ambrosio, David B.; Gauci, Jason (2009-01-14). \"A Hypercube-Based Encoding for Evolving Large-Scale Neural Networks\". Artificial Life journal 15(2), Cambridge, MA: MIT Press, 2009"
   ]
  },
  {
   "cell_type": "markdown",
   "id": "c1b3a847",
   "metadata": {
    "slideshow": {
     "slide_type": "subslide"
    }
   },
   "source": [
    "# <center> GENE: Geometric Encoding for NeuroEvolution </center>\n",
    "\n",
    "<center><img src=\"../imgs/indirect_transform.png\" width=\"50%\">\n",
    "   "
   ]
  },
  {
   "cell_type": "markdown",
   "id": "50dfcf11",
   "metadata": {
    "cell_style": "split"
   },
   "source": [
    "<center><img src=\"../imgs/coordsnet_coordinates.png\" width=\"40%\">"
   ]
  },
  {
   "cell_type": "markdown",
   "id": "a6bff363",
   "metadata": {
    "cell_style": "split"
   },
   "source": [
    "<center><img src=\"../imgs/coordsnet_graph.png\" width=\"50%\">"
   ]
  },
  {
   "cell_type": "markdown",
   "id": "89a296ae",
   "metadata": {},
   "source": [
    "*Paul Templier, Emmanuel Rachelson, and Dennis G. Wilson. 2021. A Geometric Encoding for Neural Network Evolution. In 2021 Genetic and Evolutionary Computation Conference (GECCO ’21), July 10–14, 2021, Lille, France. ACM, New York, NY, USA, 9 pages. https://doi.org/10.1145/3449639.3459361*"
   ]
  },
  {
   "cell_type": "markdown",
   "id": "803f40bd",
   "metadata": {
    "slideshow": {
     "slide_type": "slide"
    }
   },
   "source": [
    "# Notebook"
   ]
  },
  {
   "cell_type": "code",
   "execution_count": 1,
   "id": "legislative-touch",
   "metadata": {
    "slideshow": {
     "slide_type": "-"
    }
   },
   "outputs": [
    {
     "name": "stderr",
     "output_type": "stream",
     "text": [
      "\u001b[32m\u001b[1m   Updating\u001b[22m\u001b[39m registry at `~/.julia/registries/General`\n",
      "######################################################################### 100,0%\n",
      "\u001b[32m\u001b[1m  Resolving\u001b[22m\u001b[39m package versions...\n",
      "\u001b[32m\u001b[1mNo Changes\u001b[22m\u001b[39m to `~/.julia/environments/v1.5/Project.toml`\n",
      "\u001b[32m\u001b[1mNo Changes\u001b[22m\u001b[39m to `~/.julia/environments/v1.5/Manifest.toml`\n"
     ]
    }
   ],
   "source": [
    "using Pkg\n",
    "pkg\"add PyCall Flux Plots Random Statistics ArcadeLearningEnvironment Reel Images ImageView\""
   ]
  },
  {
   "cell_type": "code",
   "execution_count": 7,
   "id": "center-exposure",
   "metadata": {
    "slideshow": {
     "slide_type": "-"
    }
   },
   "outputs": [],
   "source": [
    "using PyCall\n",
    "using Flux\n",
    "using Plots\n",
    "using Random\n",
    "using Statistics"
   ]
  },
  {
   "cell_type": "code",
   "execution_count": 8,
   "id": "portable-future",
   "metadata": {},
   "outputs": [
    {
     "data": {
      "text/plain": [
       "PyObject <module 'gym' from '/home/disc/p.templier/miniconda3/lib/python3.8/site-packages/gym/__init__.py'>"
      ]
     },
     "execution_count": 8,
     "metadata": {},
     "output_type": "execute_result"
    }
   ],
   "source": [
    "gym = pyimport(\"gym\")"
   ]
  },
  {
   "cell_type": "markdown",
   "id": "friendly-staff",
   "metadata": {
    "slideshow": {
     "slide_type": "subslide"
    }
   },
   "source": [
    "## Gym CartPole\n",
    "\n",
    "<img src=\"../imgs/cartpole.gif\" width=\"50%\">\n",
    "\n",
    "https://github.com/adibyte95/CartPole-OpenAI-GYM/blob/master/gif%20images/reinforcement-gif.gif"
   ]
  },
  {
   "cell_type": "code",
   "execution_count": 9,
   "id": "happy-method",
   "metadata": {
    "cell_style": "center",
    "slideshow": {
     "slide_type": "subslide"
    }
   },
   "outputs": [
    {
     "data": {
      "text/plain": [
       "Individual"
      ]
     },
     "execution_count": 9,
     "metadata": {},
     "output_type": "execute_result"
    }
   ],
   "source": [
    "mutable struct Individual\n",
    "    genes::Array{Float64}\n",
    "    fitness::Float64\n",
    "    layers::Array{Int64}\n",
    "    model\n",
    "end\n",
    "\n",
    "function Individual(layers::Array, genes::Array{Float64})\n",
    "    model = make_network(layers)\n",
    "    \n",
    "    ind = Individual(genes, -Inf, layers, model)\n",
    "    \n",
    "    set_weights!(ind) \n",
    "    ind\n",
    "end\n",
    "\n",
    "function Individual(layers::Array)\n",
    "    model = make_network(layers)\n",
    "    \n",
    "    param_lengths = [length(p) for p in params(model)]\n",
    "    genes = rand(sum(param_lengths))\n",
    "    \n",
    "    ind = Individual(genes, -Inf, layers, model)\n",
    "    set_weights!(ind)  \n",
    "    ind\n",
    "end"
   ]
  },
  {
   "cell_type": "code",
   "execution_count": 10,
   "id": "voluntary-communist",
   "metadata": {
    "cell_style": "center",
    "slideshow": {
     "slide_type": "subslide"
    }
   },
   "outputs": [
    {
     "data": {
      "text/plain": [
       "mutate (generic function with 1 method)"
      ]
     },
     "execution_count": 10,
     "metadata": {},
     "output_type": "execute_result"
    }
   ],
   "source": [
    "function set_weights!(ind::Individual)    \n",
    "    start = 1\n",
    "    for p in params(ind.model)\n",
    "        p .= reshape(ind.genes[start:(start+length(p)-1)], size(p))\n",
    "        start += length(p)\n",
    "    end\n",
    "    ind\n",
    "end\n",
    "\n",
    "function make_network(layers::Array)\n",
    "    l = []\n",
    "    for i in 1:length(layers)-1\n",
    "        d = Dense(layers[i], layers[i+1], Flux.relu)\n",
    "        push!(l, d)\n",
    "    end\n",
    "    Chain(l...)\n",
    "end\n",
    "\n",
    "function mutate(ind::Individual; \n",
    "        mutation_rate::Float64=1.0/length(ind.genes))\n",
    "    new_genes = copy(ind.genes)\n",
    "    for i in eachindex(new_genes)\n",
    "        if rand() < mutation_rate\n",
    "            new_genes[i] = rand()\n",
    "        end\n",
    "    end\n",
    "    Individual(ind.layers, new_genes)\n",
    "end"
   ]
  },
  {
   "cell_type": "markdown",
   "id": "phantom-amino",
   "metadata": {
    "slideshow": {
     "slide_type": "subslide"
    }
   },
   "source": [
    "## Cartpole"
   ]
  },
  {
   "cell_type": "code",
   "execution_count": 11,
   "id": "included-merit",
   "metadata": {},
   "outputs": [
    {
     "data": {
      "text/plain": [
       "evaluate! (generic function with 1 method)"
      ]
     },
     "execution_count": 11,
     "metadata": {},
     "output_type": "execute_result"
    }
   ],
   "source": [
    "function play_cartpole(ind::Individual, render=false)\n",
    "    env_name=\"CartPole-v1\"\n",
    "    env = gym.make(env_name)\n",
    "    env.seed(0)\n",
    "    obs = env.reset()\n",
    "    total_reward = 0.0\n",
    "    done = false\n",
    "    for i in 1:200\n",
    "        action = ind.model(obs)\n",
    "        action = argmax(action) - 1\n",
    "        \n",
    "        obs, reward, done, _ = env.step(action)\n",
    "        if render\n",
    "            env.render(mode=\"human\")\n",
    "        end\n",
    "        total_reward += reward\n",
    "    end\n",
    "    env.close()\n",
    "    total_reward\n",
    "end\n",
    "\n",
    "function evaluate!(ind::Individual, objective::Function)\n",
    "    ind.fitness = objective(ind)\n",
    "end"
   ]
  },
  {
   "cell_type": "code",
   "execution_count": 15,
   "id": "acting-windows",
   "metadata": {
    "slideshow": {
     "slide_type": "-"
    }
   },
   "outputs": [
    {
     "data": {
      "text/plain": [
       "2299"
      ]
     },
     "execution_count": 15,
     "metadata": {},
     "output_type": "execute_result"
    }
   ],
   "source": [
    "layers = [4, 16, 16, 2]\n",
    "ind = Individual(layers)\n",
    "n = length(ind.genes)\n",
    "n_gens = Int(round(n * log(n)))"
   ]
  },
  {
   "cell_type": "code",
   "execution_count": 16,
   "id": "durable-means",
   "metadata": {
    "scrolled": false,
    "slideshow": {
     "slide_type": "subslide"
    }
   },
   "outputs": [
    {
     "name": "stdout",
     "output_type": "stream",
     "text": [
      "2299/2299 > 200.0\t\t299 > 200.0\t\t2299 > 200.0\t\t2299 > 200.0\t\t2299 > 200.0\t\t\r"
     ]
    },
    {
     "data": {
      "image/svg+xml": [
       "<?xml version=\"1.0\" encoding=\"utf-8\"?>\n",
       "<svg xmlns=\"http://www.w3.org/2000/svg\" xmlns:xlink=\"http://www.w3.org/1999/xlink\" width=\"600\" height=\"400\" viewBox=\"0 0 2400 1600\">\n",
       "<defs>\n",
       "  <clipPath id=\"clip810\">\n",
       "    <rect x=\"0\" y=\"0\" width=\"2400\" height=\"1600\"/>\n",
       "  </clipPath>\n",
       "</defs>\n",
       "<path clip-path=\"url(#clip810)\" d=\"\n",
       "M0 1600 L2400 1600 L2400 0 L0 0  Z\n",
       "  \" fill=\"#ffffff\" fill-rule=\"evenodd\" fill-opacity=\"1\"/>\n",
       "<defs>\n",
       "  <clipPath id=\"clip811\">\n",
       "    <rect x=\"480\" y=\"0\" width=\"1681\" height=\"1600\"/>\n",
       "  </clipPath>\n",
       "</defs>\n",
       "<path clip-path=\"url(#clip810)\" d=\"\n",
       "M170.857 1486.45 L2352.76 1486.45 L2352.76 47.2441 L170.857 47.2441  Z\n",
       "  \" fill=\"#ffffff\" fill-rule=\"evenodd\" fill-opacity=\"1\"/>\n",
       "<defs>\n",
       "  <clipPath id=\"clip812\">\n",
       "    <rect x=\"170\" y=\"47\" width=\"2183\" height=\"1440\"/>\n",
       "  </clipPath>\n",
       "</defs>\n",
       "<polyline clip-path=\"url(#clip812)\" style=\"stroke:#000000; stroke-width:2; stroke-opacity:0.1; fill:none\" points=\"\n",
       "  231.714,1486.45 231.714,47.2441 \n",
       "  \"/>\n",
       "<polyline clip-path=\"url(#clip812)\" style=\"stroke:#000000; stroke-width:2; stroke-opacity:0.1; fill:none\" points=\"\n",
       "  679.58,1486.45 679.58,47.2441 \n",
       "  \"/>\n",
       "<polyline clip-path=\"url(#clip812)\" style=\"stroke:#000000; stroke-width:2; stroke-opacity:0.1; fill:none\" points=\"\n",
       "  1127.45,1486.45 1127.45,47.2441 \n",
       "  \"/>\n",
       "<polyline clip-path=\"url(#clip812)\" style=\"stroke:#000000; stroke-width:2; stroke-opacity:0.1; fill:none\" points=\"\n",
       "  1575.31,1486.45 1575.31,47.2441 \n",
       "  \"/>\n",
       "<polyline clip-path=\"url(#clip812)\" style=\"stroke:#000000; stroke-width:2; stroke-opacity:0.1; fill:none\" points=\"\n",
       "  2023.18,1486.45 2023.18,47.2441 \n",
       "  \"/>\n",
       "<polyline clip-path=\"url(#clip810)\" style=\"stroke:#000000; stroke-width:4; stroke-opacity:1; fill:none\" points=\"\n",
       "  170.857,1486.45 2352.76,1486.45 \n",
       "  \"/>\n",
       "<polyline clip-path=\"url(#clip810)\" style=\"stroke:#000000; stroke-width:4; stroke-opacity:1; fill:none\" points=\"\n",
       "  231.714,1486.45 231.714,1469.18 \n",
       "  \"/>\n",
       "<polyline clip-path=\"url(#clip810)\" style=\"stroke:#000000; stroke-width:4; stroke-opacity:1; fill:none\" points=\"\n",
       "  679.58,1486.45 679.58,1469.18 \n",
       "  \"/>\n",
       "<polyline clip-path=\"url(#clip810)\" style=\"stroke:#000000; stroke-width:4; stroke-opacity:1; fill:none\" points=\"\n",
       "  1127.45,1486.45 1127.45,1469.18 \n",
       "  \"/>\n",
       "<polyline clip-path=\"url(#clip810)\" style=\"stroke:#000000; stroke-width:4; stroke-opacity:1; fill:none\" points=\"\n",
       "  1575.31,1486.45 1575.31,1469.18 \n",
       "  \"/>\n",
       "<polyline clip-path=\"url(#clip810)\" style=\"stroke:#000000; stroke-width:4; stroke-opacity:1; fill:none\" points=\"\n",
       "  2023.18,1486.45 2023.18,1469.18 \n",
       "  \"/>\n",
       "<path clip-path=\"url(#clip810)\" d=\"M 0 0 M231.714 1515.64 Q228.102 1515.64 226.274 1519.2 Q224.468 1522.75 224.468 1529.87 Q224.468 1536.98 226.274 1540.55 Q228.102 1544.09 231.714 1544.09 Q235.348 1544.09 237.153 1540.55 Q238.982 1536.98 238.982 1529.87 Q238.982 1522.75 237.153 1519.2 Q235.348 1515.64 231.714 1515.64 M231.714 1511.93 Q237.524 1511.93 240.579 1516.54 Q243.658 1521.12 243.658 1529.87 Q243.658 1538.6 240.579 1543.21 Q237.524 1547.79 231.714 1547.79 Q225.903 1547.79 222.825 1543.21 Q219.769 1538.6 219.769 1529.87 Q219.769 1521.12 222.825 1516.54 Q225.903 1511.93 231.714 1511.93 Z\" fill=\"#000000\" fill-rule=\"evenodd\" fill-opacity=\"1\" /><path clip-path=\"url(#clip810)\" d=\"M 0 0 M639.198 1512.56 L657.555 1512.56 L657.555 1516.5 L643.481 1516.5 L643.481 1524.97 Q644.499 1524.62 645.518 1524.46 Q646.536 1524.27 647.555 1524.27 Q653.342 1524.27 656.721 1527.44 Q660.101 1530.62 660.101 1536.03 Q660.101 1541.61 656.629 1544.71 Q653.157 1547.79 646.837 1547.79 Q644.661 1547.79 642.393 1547.42 Q640.147 1547.05 637.74 1546.31 L637.74 1541.61 Q639.823 1542.74 642.046 1543.3 Q644.268 1543.86 646.745 1543.86 Q650.749 1543.86 653.087 1541.75 Q655.425 1539.64 655.425 1536.03 Q655.425 1532.42 653.087 1530.31 Q650.749 1528.21 646.745 1528.21 Q644.87 1528.21 642.995 1528.62 Q641.143 1529.04 639.198 1529.92 L639.198 1512.56 Z\" fill=\"#000000\" fill-rule=\"evenodd\" fill-opacity=\"1\" /><path clip-path=\"url(#clip810)\" d=\"M 0 0 M679.314 1515.64 Q675.703 1515.64 673.874 1519.2 Q672.069 1522.75 672.069 1529.87 Q672.069 1536.98 673.874 1540.55 Q675.703 1544.09 679.314 1544.09 Q682.948 1544.09 684.754 1540.55 Q686.582 1536.98 686.582 1529.87 Q686.582 1522.75 684.754 1519.2 Q682.948 1515.64 679.314 1515.64 M679.314 1511.93 Q685.124 1511.93 688.18 1516.54 Q691.258 1521.12 691.258 1529.87 Q691.258 1538.6 688.18 1543.21 Q685.124 1547.79 679.314 1547.79 Q673.504 1547.79 670.425 1543.21 Q667.37 1538.6 667.37 1529.87 Q667.37 1521.12 670.425 1516.54 Q673.504 1511.93 679.314 1511.93 Z\" fill=\"#000000\" fill-rule=\"evenodd\" fill-opacity=\"1\" /><path clip-path=\"url(#clip810)\" d=\"M 0 0 M709.476 1515.64 Q705.865 1515.64 704.036 1519.2 Q702.23 1522.75 702.23 1529.87 Q702.23 1536.98 704.036 1540.55 Q705.865 1544.09 709.476 1544.09 Q713.11 1544.09 714.916 1540.55 Q716.744 1536.98 716.744 1529.87 Q716.744 1522.75 714.916 1519.2 Q713.11 1515.64 709.476 1515.64 M709.476 1511.93 Q715.286 1511.93 718.341 1516.54 Q721.42 1521.12 721.42 1529.87 Q721.42 1538.6 718.341 1543.21 Q715.286 1547.79 709.476 1547.79 Q703.666 1547.79 700.587 1543.21 Q697.531 1538.6 697.531 1529.87 Q697.531 1521.12 700.587 1516.54 Q703.666 1511.93 709.476 1511.93 Z\" fill=\"#000000\" fill-rule=\"evenodd\" fill-opacity=\"1\" /><path clip-path=\"url(#clip810)\" d=\"M 0 0 M1071.97 1543.18 L1079.61 1543.18 L1079.61 1516.82 L1071.3 1518.49 L1071.3 1514.23 L1079.56 1512.56 L1084.24 1512.56 L1084.24 1543.18 L1091.88 1543.18 L1091.88 1547.12 L1071.97 1547.12 L1071.97 1543.18 Z\" fill=\"#000000\" fill-rule=\"evenodd\" fill-opacity=\"1\" /><path clip-path=\"url(#clip810)\" d=\"M 0 0 M1111.32 1515.64 Q1107.71 1515.64 1105.88 1519.2 Q1104.08 1522.75 1104.08 1529.87 Q1104.08 1536.98 1105.88 1540.55 Q1107.71 1544.09 1111.32 1544.09 Q1114.96 1544.09 1116.76 1540.55 Q1118.59 1536.98 1118.59 1529.87 Q1118.59 1522.75 1116.76 1519.2 Q1114.96 1515.64 1111.32 1515.64 M1111.32 1511.93 Q1117.13 1511.93 1120.19 1516.54 Q1123.27 1521.12 1123.27 1529.87 Q1123.27 1538.6 1120.19 1543.21 Q1117.13 1547.79 1111.32 1547.79 Q1105.51 1547.79 1102.44 1543.21 Q1099.38 1538.6 1099.38 1529.87 Q1099.38 1521.12 1102.44 1516.54 Q1105.51 1511.93 1111.32 1511.93 Z\" fill=\"#000000\" fill-rule=\"evenodd\" fill-opacity=\"1\" /><path clip-path=\"url(#clip810)\" d=\"M 0 0 M1141.49 1515.64 Q1137.87 1515.64 1136.05 1519.2 Q1134.24 1522.75 1134.24 1529.87 Q1134.24 1536.98 1136.05 1540.55 Q1137.87 1544.09 1141.49 1544.09 Q1145.12 1544.09 1146.93 1540.55 Q1148.75 1536.98 1148.75 1529.87 Q1148.75 1522.75 1146.93 1519.2 Q1145.12 1515.64 1141.49 1515.64 M1141.49 1511.93 Q1147.3 1511.93 1150.35 1516.54 Q1153.43 1521.12 1153.43 1529.87 Q1153.43 1538.6 1150.35 1543.21 Q1147.3 1547.79 1141.49 1547.79 Q1135.68 1547.79 1132.6 1543.21 Q1129.54 1538.6 1129.54 1529.87 Q1129.54 1521.12 1132.6 1516.54 Q1135.68 1511.93 1141.49 1511.93 Z\" fill=\"#000000\" fill-rule=\"evenodd\" fill-opacity=\"1\" /><path clip-path=\"url(#clip810)\" d=\"M 0 0 M1171.65 1515.64 Q1168.04 1515.64 1166.21 1519.2 Q1164.4 1522.75 1164.4 1529.87 Q1164.4 1536.98 1166.21 1540.55 Q1168.04 1544.09 1171.65 1544.09 Q1175.28 1544.09 1177.09 1540.55 Q1178.92 1536.98 1178.92 1529.87 Q1178.92 1522.75 1177.09 1519.2 Q1175.28 1515.64 1171.65 1515.64 M1171.65 1511.93 Q1177.46 1511.93 1180.51 1516.54 Q1183.59 1521.12 1183.59 1529.87 Q1183.59 1538.6 1180.51 1543.21 Q1177.46 1547.79 1171.65 1547.79 Q1165.84 1547.79 1162.76 1543.21 Q1159.7 1538.6 1159.7 1529.87 Q1159.7 1521.12 1162.76 1516.54 Q1165.84 1511.93 1171.65 1511.93 Z\" fill=\"#000000\" fill-rule=\"evenodd\" fill-opacity=\"1\" /><path clip-path=\"url(#clip810)\" d=\"M 0 0 M1519.84 1543.18 L1527.48 1543.18 L1527.48 1516.82 L1519.17 1518.49 L1519.17 1514.23 L1527.43 1512.56 L1532.11 1512.56 L1532.11 1543.18 L1539.75 1543.18 L1539.75 1547.12 L1519.84 1547.12 L1519.84 1543.18 Z\" fill=\"#000000\" fill-rule=\"evenodd\" fill-opacity=\"1\" /><path clip-path=\"url(#clip810)\" d=\"M 0 0 M1549.24 1512.56 L1567.59 1512.56 L1567.59 1516.5 L1553.52 1516.5 L1553.52 1524.97 Q1554.54 1524.62 1555.56 1524.46 Q1556.57 1524.27 1557.59 1524.27 Q1563.38 1524.27 1566.76 1527.44 Q1570.14 1530.62 1570.14 1536.03 Q1570.14 1541.61 1566.67 1544.71 Q1563.2 1547.79 1556.88 1547.79 Q1554.7 1547.79 1552.43 1547.42 Q1550.19 1547.05 1547.78 1546.31 L1547.78 1541.61 Q1549.86 1542.74 1552.08 1543.3 Q1554.31 1543.86 1556.78 1543.86 Q1560.79 1543.86 1563.13 1541.75 Q1565.46 1539.64 1565.46 1536.03 Q1565.46 1532.42 1563.13 1530.31 Q1560.79 1528.21 1556.78 1528.21 Q1554.91 1528.21 1553.03 1528.62 Q1551.18 1529.04 1549.24 1529.92 L1549.24 1512.56 Z\" fill=\"#000000\" fill-rule=\"evenodd\" fill-opacity=\"1\" /><path clip-path=\"url(#clip810)\" d=\"M 0 0 M1589.35 1515.64 Q1585.74 1515.64 1583.91 1519.2 Q1582.11 1522.75 1582.11 1529.87 Q1582.11 1536.98 1583.91 1540.55 Q1585.74 1544.09 1589.35 1544.09 Q1592.99 1544.09 1594.79 1540.55 Q1596.62 1536.98 1596.62 1529.87 Q1596.62 1522.75 1594.79 1519.2 Q1592.99 1515.64 1589.35 1515.64 M1589.35 1511.93 Q1595.16 1511.93 1598.22 1516.54 Q1601.3 1521.12 1601.3 1529.87 Q1601.3 1538.6 1598.22 1543.21 Q1595.16 1547.79 1589.35 1547.79 Q1583.54 1547.79 1580.46 1543.21 Q1577.41 1538.6 1577.41 1529.87 Q1577.41 1521.12 1580.46 1516.54 Q1583.54 1511.93 1589.35 1511.93 Z\" fill=\"#000000\" fill-rule=\"evenodd\" fill-opacity=\"1\" /><path clip-path=\"url(#clip810)\" d=\"M 0 0 M1619.51 1515.64 Q1615.9 1515.64 1614.07 1519.2 Q1612.27 1522.75 1612.27 1529.87 Q1612.27 1536.98 1614.07 1540.55 Q1615.9 1544.09 1619.51 1544.09 Q1623.15 1544.09 1624.95 1540.55 Q1626.78 1536.98 1626.78 1529.87 Q1626.78 1522.75 1624.95 1519.2 Q1623.15 1515.64 1619.51 1515.64 M1619.51 1511.93 Q1625.32 1511.93 1628.38 1516.54 Q1631.46 1521.12 1631.46 1529.87 Q1631.46 1538.6 1628.38 1543.21 Q1625.32 1547.79 1619.51 1547.79 Q1613.7 1547.79 1610.63 1543.21 Q1607.57 1538.6 1607.57 1529.87 Q1607.57 1521.12 1610.63 1516.54 Q1613.7 1511.93 1619.51 1511.93 Z\" fill=\"#000000\" fill-rule=\"evenodd\" fill-opacity=\"1\" /><path clip-path=\"url(#clip810)\" d=\"M 0 0 M1971.79 1543.18 L1988.11 1543.18 L1988.11 1547.12 L1966.17 1547.12 L1966.17 1543.18 Q1968.83 1540.43 1973.41 1535.8 Q1978.02 1531.15 1979.2 1529.81 Q1981.44 1527.28 1982.32 1525.55 Q1983.23 1523.79 1983.23 1522.1 Q1983.23 1519.34 1981.28 1517.61 Q1979.36 1515.87 1976.26 1515.87 Q1974.06 1515.87 1971.61 1516.63 Q1969.18 1517.4 1966.4 1518.95 L1966.4 1514.23 Q1969.22 1513.09 1971.68 1512.51 Q1974.13 1511.93 1976.17 1511.93 Q1981.54 1511.93 1984.73 1514.62 Q1987.93 1517.31 1987.93 1521.8 Q1987.93 1523.93 1987.12 1525.85 Q1986.33 1527.74 1984.22 1530.34 Q1983.64 1531.01 1980.54 1534.23 Q1977.44 1537.42 1971.79 1543.18 Z\" fill=\"#000000\" fill-rule=\"evenodd\" fill-opacity=\"1\" /><path clip-path=\"url(#clip810)\" d=\"M 0 0 M2007.93 1515.64 Q2004.31 1515.64 2002.49 1519.2 Q2000.68 1522.75 2000.68 1529.87 Q2000.68 1536.98 2002.49 1540.55 Q2004.31 1544.09 2007.93 1544.09 Q2011.56 1544.09 2013.37 1540.55 Q2015.19 1536.98 2015.19 1529.87 Q2015.19 1522.75 2013.37 1519.2 Q2011.56 1515.64 2007.93 1515.64 M2007.93 1511.93 Q2013.74 1511.93 2016.79 1516.54 Q2019.87 1521.12 2019.87 1529.87 Q2019.87 1538.6 2016.79 1543.21 Q2013.74 1547.79 2007.93 1547.79 Q2002.12 1547.79 1999.04 1543.21 Q1995.98 1538.6 1995.98 1529.87 Q1995.98 1521.12 1999.04 1516.54 Q2002.12 1511.93 2007.93 1511.93 Z\" fill=\"#000000\" fill-rule=\"evenodd\" fill-opacity=\"1\" /><path clip-path=\"url(#clip810)\" d=\"M 0 0 M2038.09 1515.64 Q2034.48 1515.64 2032.65 1519.2 Q2030.84 1522.75 2030.84 1529.87 Q2030.84 1536.98 2032.65 1540.55 Q2034.48 1544.09 2038.09 1544.09 Q2041.72 1544.09 2043.53 1540.55 Q2045.36 1536.98 2045.36 1529.87 Q2045.36 1522.75 2043.53 1519.2 Q2041.72 1515.64 2038.09 1515.64 M2038.09 1511.93 Q2043.9 1511.93 2046.95 1516.54 Q2050.03 1521.12 2050.03 1529.87 Q2050.03 1538.6 2046.95 1543.21 Q2043.9 1547.79 2038.09 1547.79 Q2032.28 1547.79 2029.2 1543.21 Q2026.14 1538.6 2026.14 1529.87 Q2026.14 1521.12 2029.2 1516.54 Q2032.28 1511.93 2038.09 1511.93 Z\" fill=\"#000000\" fill-rule=\"evenodd\" fill-opacity=\"1\" /><path clip-path=\"url(#clip810)\" d=\"M 0 0 M2068.25 1515.64 Q2064.64 1515.64 2062.81 1519.2 Q2061 1522.75 2061 1529.87 Q2061 1536.98 2062.81 1540.55 Q2064.64 1544.09 2068.25 1544.09 Q2071.88 1544.09 2073.69 1540.55 Q2075.52 1536.98 2075.52 1529.87 Q2075.52 1522.75 2073.69 1519.2 Q2071.88 1515.64 2068.25 1515.64 M2068.25 1511.93 Q2074.06 1511.93 2077.11 1516.54 Q2080.19 1521.12 2080.19 1529.87 Q2080.19 1538.6 2077.11 1543.21 Q2074.06 1547.79 2068.25 1547.79 Q2062.44 1547.79 2059.36 1543.21 Q2056.3 1538.6 2056.3 1529.87 Q2056.3 1521.12 2059.36 1516.54 Q2062.44 1511.93 2068.25 1511.93 Z\" fill=\"#000000\" fill-rule=\"evenodd\" fill-opacity=\"1\" /><polyline clip-path=\"url(#clip812)\" style=\"stroke:#000000; stroke-width:2; stroke-opacity:0.1; fill:none\" points=\"\n",
       "  170.857,1159.88 2352.76,1159.88 \n",
       "  \"/>\n",
       "<polyline clip-path=\"url(#clip812)\" style=\"stroke:#000000; stroke-width:2; stroke-opacity:0.1; fill:none\" points=\"\n",
       "  170.857,802.576 2352.76,802.576 \n",
       "  \"/>\n",
       "<polyline clip-path=\"url(#clip812)\" style=\"stroke:#000000; stroke-width:2; stroke-opacity:0.1; fill:none\" points=\"\n",
       "  170.857,445.276 2352.76,445.276 \n",
       "  \"/>\n",
       "<polyline clip-path=\"url(#clip812)\" style=\"stroke:#000000; stroke-width:2; stroke-opacity:0.1; fill:none\" points=\"\n",
       "  170.857,87.9763 2352.76,87.9763 \n",
       "  \"/>\n",
       "<polyline clip-path=\"url(#clip810)\" style=\"stroke:#000000; stroke-width:4; stroke-opacity:1; fill:none\" points=\"\n",
       "  170.857,1486.45 170.857,47.2441 \n",
       "  \"/>\n",
       "<polyline clip-path=\"url(#clip810)\" style=\"stroke:#000000; stroke-width:4; stroke-opacity:1; fill:none\" points=\"\n",
       "  170.857,1159.88 197.04,1159.88 \n",
       "  \"/>\n",
       "<polyline clip-path=\"url(#clip810)\" style=\"stroke:#000000; stroke-width:4; stroke-opacity:1; fill:none\" points=\"\n",
       "  170.857,802.576 197.04,802.576 \n",
       "  \"/>\n",
       "<polyline clip-path=\"url(#clip810)\" style=\"stroke:#000000; stroke-width:4; stroke-opacity:1; fill:none\" points=\"\n",
       "  170.857,445.276 197.04,445.276 \n",
       "  \"/>\n",
       "<polyline clip-path=\"url(#clip810)\" style=\"stroke:#000000; stroke-width:4; stroke-opacity:1; fill:none\" points=\"\n",
       "  170.857,87.9763 197.04,87.9763 \n",
       "  \"/>\n",
       "<path clip-path=\"url(#clip810)\" d=\"M 0 0 M82.7975 1142.6 L101.154 1142.6 L101.154 1146.53 L87.0799 1146.53 L87.0799 1155 Q88.0984 1154.66 89.1169 1154.49 Q90.1354 1154.31 91.1539 1154.31 Q96.941 1154.31 100.321 1157.48 Q103.7 1160.65 103.7 1166.07 Q103.7 1171.65 100.228 1174.75 Q96.7558 1177.83 90.4364 1177.83 Q88.2604 1177.83 85.9919 1177.46 Q83.7466 1177.09 81.3392 1176.35 L81.3392 1171.65 Q83.4225 1172.78 85.6447 1173.34 Q87.8669 1173.89 90.3438 1173.89 Q94.3484 1173.89 96.6863 1171.79 Q99.0243 1169.68 99.0243 1166.07 Q99.0243 1162.46 96.6863 1160.35 Q94.3484 1158.24 90.3438 1158.24 Q88.4688 1158.24 86.5938 1158.66 Q84.7419 1159.08 82.7975 1159.96 L82.7975 1142.6 Z\" fill=\"#000000\" fill-rule=\"evenodd\" fill-opacity=\"1\" /><path clip-path=\"url(#clip810)\" d=\"M 0 0 M122.913 1145.67 Q119.302 1145.67 117.473 1149.24 Q115.668 1152.78 115.668 1159.91 Q115.668 1167.02 117.473 1170.58 Q119.302 1174.12 122.913 1174.12 Q126.547 1174.12 128.353 1170.58 Q130.182 1167.02 130.182 1159.91 Q130.182 1152.78 128.353 1149.24 Q126.547 1145.67 122.913 1145.67 M122.913 1141.97 Q128.723 1141.97 131.779 1146.58 Q134.857 1151.16 134.857 1159.91 Q134.857 1168.64 131.779 1173.24 Q128.723 1177.83 122.913 1177.83 Q117.103 1177.83 114.024 1173.24 Q110.969 1168.64 110.969 1159.91 Q110.969 1151.16 114.024 1146.58 Q117.103 1141.97 122.913 1141.97 Z\" fill=\"#000000\" fill-rule=\"evenodd\" fill-opacity=\"1\" /><path clip-path=\"url(#clip810)\" d=\"M 0 0 M53.3995 815.921 L61.0384 815.921 L61.0384 789.555 L52.7282 791.222 L52.7282 786.963 L60.9921 785.296 L65.668 785.296 L65.668 815.921 L73.3068 815.921 L73.3068 819.856 L53.3995 819.856 L53.3995 815.921 Z\" fill=\"#000000\" fill-rule=\"evenodd\" fill-opacity=\"1\" /><path clip-path=\"url(#clip810)\" d=\"M 0 0 M92.7512 788.375 Q89.1401 788.375 87.3114 791.939 Q85.5058 795.481 85.5058 802.611 Q85.5058 809.717 87.3114 813.282 Q89.1401 816.824 92.7512 816.824 Q96.3854 816.824 98.1909 813.282 Q100.02 809.717 100.02 802.611 Q100.02 795.481 98.1909 791.939 Q96.3854 788.375 92.7512 788.375 M92.7512 784.671 Q98.5613 784.671 101.617 789.277 Q104.696 793.861 104.696 802.611 Q104.696 811.337 101.617 815.944 Q98.5613 820.527 92.7512 820.527 Q86.941 820.527 83.8623 815.944 Q80.8068 811.337 80.8068 802.611 Q80.8068 793.861 83.8623 789.277 Q86.941 784.671 92.7512 784.671 Z\" fill=\"#000000\" fill-rule=\"evenodd\" fill-opacity=\"1\" /><path clip-path=\"url(#clip810)\" d=\"M 0 0 M122.913 788.375 Q119.302 788.375 117.473 791.939 Q115.668 795.481 115.668 802.611 Q115.668 809.717 117.473 813.282 Q119.302 816.824 122.913 816.824 Q126.547 816.824 128.353 813.282 Q130.182 809.717 130.182 802.611 Q130.182 795.481 128.353 791.939 Q126.547 788.375 122.913 788.375 M122.913 784.671 Q128.723 784.671 131.779 789.277 Q134.857 793.861 134.857 802.611 Q134.857 811.337 131.779 815.944 Q128.723 820.527 122.913 820.527 Q117.103 820.527 114.024 815.944 Q110.969 811.337 110.969 802.611 Q110.969 793.861 114.024 789.277 Q117.103 784.671 122.913 784.671 Z\" fill=\"#000000\" fill-rule=\"evenodd\" fill-opacity=\"1\" /><path clip-path=\"url(#clip810)\" d=\"M 0 0 M53.3995 458.621 L61.0384 458.621 L61.0384 432.255 L52.7282 433.922 L52.7282 429.663 L60.9921 427.996 L65.668 427.996 L65.668 458.621 L73.3068 458.621 L73.3068 462.556 L53.3995 462.556 L53.3995 458.621 Z\" fill=\"#000000\" fill-rule=\"evenodd\" fill-opacity=\"1\" /><path clip-path=\"url(#clip810)\" d=\"M 0 0 M82.7975 427.996 L101.154 427.996 L101.154 431.931 L87.0799 431.931 L87.0799 440.403 Q88.0984 440.056 89.1169 439.894 Q90.1354 439.709 91.1539 439.709 Q96.941 439.709 100.321 442.88 Q103.7 446.052 103.7 451.468 Q103.7 457.047 100.228 460.149 Q96.7558 463.227 90.4364 463.227 Q88.2604 463.227 85.9919 462.857 Q83.7466 462.487 81.3392 461.746 L81.3392 457.047 Q83.4225 458.181 85.6447 458.737 Q87.8669 459.292 90.3438 459.292 Q94.3484 459.292 96.6863 457.186 Q99.0243 455.079 99.0243 451.468 Q99.0243 447.857 96.6863 445.751 Q94.3484 443.644 90.3438 443.644 Q88.4688 443.644 86.5938 444.061 Q84.7419 444.478 82.7975 445.357 L82.7975 427.996 Z\" fill=\"#000000\" fill-rule=\"evenodd\" fill-opacity=\"1\" /><path clip-path=\"url(#clip810)\" d=\"M 0 0 M122.913 431.075 Q119.302 431.075 117.473 434.64 Q115.668 438.181 115.668 445.311 Q115.668 452.417 117.473 455.982 Q119.302 459.524 122.913 459.524 Q126.547 459.524 128.353 455.982 Q130.182 452.417 130.182 445.311 Q130.182 438.181 128.353 434.64 Q126.547 431.075 122.913 431.075 M122.913 427.371 Q128.723 427.371 131.779 431.978 Q134.857 436.561 134.857 445.311 Q134.857 454.038 131.779 458.644 Q128.723 463.227 122.913 463.227 Q117.103 463.227 114.024 458.644 Q110.969 454.038 110.969 445.311 Q110.969 436.561 114.024 431.978 Q117.103 427.371 122.913 427.371 Z\" fill=\"#000000\" fill-rule=\"evenodd\" fill-opacity=\"1\" /><path clip-path=\"url(#clip810)\" d=\"M 0 0 M56.6171 101.321 L72.9365 101.321 L72.9365 105.256 L50.9921 105.256 L50.9921 101.321 Q53.6541 98.5665 58.2375 93.9369 Q62.8439 89.2841 64.0245 87.9416 Q66.2698 85.4184 67.1494 83.6823 Q68.0522 81.9231 68.0522 80.2333 Q68.0522 77.4786 66.1078 75.7425 Q64.1865 74.0064 61.0847 74.0064 Q58.8856 74.0064 56.4319 74.7703 Q54.0014 75.5342 51.2236 77.0851 L51.2236 72.3629 Q54.0477 71.2287 56.5014 70.65 Q58.955 70.0713 60.9921 70.0713 Q66.3624 70.0713 69.5568 72.7565 Q72.7513 75.4416 72.7513 79.9323 Q72.7513 82.062 71.9411 83.9832 Q71.1541 85.8814 69.0476 88.474 Q68.4689 89.1453 65.367 92.3628 Q62.2652 95.5573 56.6171 101.321 Z\" fill=\"#000000\" fill-rule=\"evenodd\" fill-opacity=\"1\" /><path clip-path=\"url(#clip810)\" d=\"M 0 0 M92.7512 73.775 Q89.1401 73.775 87.3114 77.3398 Q85.5058 80.8814 85.5058 88.011 Q85.5058 95.1174 87.3114 98.6822 Q89.1401 102.224 92.7512 102.224 Q96.3854 102.224 98.1909 98.6822 Q100.02 95.1174 100.02 88.011 Q100.02 80.8814 98.1909 77.3398 Q96.3854 73.775 92.7512 73.775 M92.7512 70.0713 Q98.5613 70.0713 101.617 74.6777 Q104.696 79.261 104.696 88.011 Q104.696 96.7378 101.617 101.344 Q98.5613 105.928 92.7512 105.928 Q86.941 105.928 83.8623 101.344 Q80.8068 96.7378 80.8068 88.011 Q80.8068 79.261 83.8623 74.6777 Q86.941 70.0713 92.7512 70.0713 Z\" fill=\"#000000\" fill-rule=\"evenodd\" fill-opacity=\"1\" /><path clip-path=\"url(#clip810)\" d=\"M 0 0 M122.913 73.775 Q119.302 73.775 117.473 77.3398 Q115.668 80.8814 115.668 88.011 Q115.668 95.1174 117.473 98.6822 Q119.302 102.224 122.913 102.224 Q126.547 102.224 128.353 98.6822 Q130.182 95.1174 130.182 88.011 Q130.182 80.8814 128.353 77.3398 Q126.547 73.775 122.913 73.775 M122.913 70.0713 Q128.723 70.0713 131.779 74.6777 Q134.857 79.261 134.857 88.011 Q134.857 96.7378 131.779 101.344 Q128.723 105.928 122.913 105.928 Q117.103 105.928 114.024 101.344 Q110.969 96.7378 110.969 88.011 Q110.969 79.261 114.024 74.6777 Q117.103 70.0713 122.913 70.0713 Z\" fill=\"#000000\" fill-rule=\"evenodd\" fill-opacity=\"1\" /><polyline clip-path=\"url(#clip812)\" style=\"stroke:#009af9; stroke-width:4; stroke-opacity:1; fill:none\" points=\"\n",
       "  232.609,1445.72 233.505,1445.72 234.401,1445.72 235.296,1445.72 236.192,1445.72 237.088,1445.72 237.984,1445.72 238.879,1445.72 239.775,1445.72 240.671,1445.72 \n",
       "  241.567,1445.72 242.462,1445.72 243.358,1445.72 244.254,1445.72 245.15,1445.72 246.045,1445.72 246.941,1445.72 247.837,1445.72 248.732,1445.72 249.628,1445.72 \n",
       "  250.524,1445.72 251.42,1445.72 252.315,1445.72 253.211,1445.72 254.107,1445.72 255.003,1445.72 255.898,1445.72 256.794,1445.72 257.69,1445.72 258.586,1445.72 \n",
       "  259.481,1445.72 260.377,1445.72 261.273,1445.72 262.168,1445.72 263.064,1445.72 263.96,1445.72 264.856,1445.72 265.751,1445.72 266.647,1445.72 267.543,1445.72 \n",
       "  268.439,1445.72 269.334,1445.72 270.23,1445.72 271.126,1445.72 272.022,1445.72 272.917,1445.72 273.813,1445.72 274.709,1445.72 275.604,1445.72 276.5,1445.72 \n",
       "  277.396,1445.72 278.292,1445.72 279.187,1445.72 280.083,1445.72 280.979,1445.72 281.875,1445.72 282.77,1445.72 283.666,1445.72 284.562,1445.72 285.458,1445.72 \n",
       "  286.353,1445.72 287.249,1445.72 288.145,1445.72 289.04,1445.72 289.936,1445.72 290.832,1445.72 291.728,1445.72 292.623,1445.72 293.519,1445.72 294.415,1445.72 \n",
       "  295.311,1445.72 296.206,1445.72 297.102,1445.72 297.998,1445.72 298.894,1445.72 299.789,1445.72 300.685,1445.72 301.581,1445.72 302.476,1445.72 303.372,1445.72 \n",
       "  304.268,1445.72 305.164,1445.72 306.059,1445.72 306.955,1445.72 307.851,1445.72 308.747,1445.72 309.642,1445.72 310.538,1445.72 311.434,1445.72 312.33,1445.72 \n",
       "  313.225,1445.72 314.121,1445.72 315.017,1445.72 315.912,1445.72 316.808,1445.72 317.704,1445.72 318.6,1445.72 319.495,1445.72 320.391,1445.72 321.287,1445.72 \n",
       "  322.183,1445.72 323.078,1445.72 323.974,1445.72 324.87,1445.72 325.766,1445.72 326.661,1445.72 327.557,1445.72 328.453,1445.72 329.348,1445.72 330.244,1445.72 \n",
       "  331.14,1445.72 332.036,1445.72 332.931,1445.72 333.827,1445.72 334.723,1445.72 335.619,1445.72 336.514,1445.72 337.41,1445.72 338.306,1445.72 339.202,1445.72 \n",
       "  340.097,1445.72 340.993,1445.72 341.889,1445.72 342.784,1445.72 343.68,1445.72 344.576,1445.72 345.472,1445.72 346.367,1445.72 347.263,1445.72 348.159,1445.72 \n",
       "  349.055,1445.72 349.95,1445.72 350.846,1445.72 351.742,1445.72 352.638,1445.72 353.533,1445.72 354.429,1445.72 355.325,1445.72 356.22,1445.72 357.116,1445.72 \n",
       "  358.012,1445.72 358.908,1445.72 359.803,1445.72 360.699,1445.72 361.595,1445.72 362.491,1445.72 363.386,1445.72 364.282,1445.72 365.178,1445.72 366.074,1445.72 \n",
       "  366.969,1445.72 367.865,1445.72 368.761,1445.72 369.656,1445.72 370.552,1445.72 371.448,1445.72 372.344,1445.72 373.239,1445.72 374.135,1445.72 375.031,1445.72 \n",
       "  375.927,1445.72 376.822,1445.72 377.718,1445.72 378.614,1445.72 379.509,1445.72 380.405,1445.72 381.301,1445.72 382.197,1445.72 383.092,1445.72 383.988,1445.72 \n",
       "  384.884,1445.72 385.78,1445.72 386.675,1445.72 387.571,1445.72 388.467,1445.72 389.363,1445.72 390.258,1445.72 391.154,1445.72 392.05,1445.72 392.945,1445.72 \n",
       "  393.841,1445.72 394.737,1445.72 395.633,1445.72 396.528,1445.72 397.424,1445.72 398.32,1445.72 399.216,1445.72 400.111,1445.72 401.007,1445.72 401.903,1445.72 \n",
       "  402.799,1445.72 403.694,1445.72 404.59,1445.72 405.486,1445.72 406.381,1445.72 407.277,1445.72 408.173,1445.72 409.069,1445.72 409.964,1445.72 410.86,1445.72 \n",
       "  411.756,1445.72 412.652,1445.72 413.547,1445.72 414.443,1445.72 415.339,1445.72 416.235,1445.72 417.13,1445.72 418.026,1445.72 418.922,1445.72 419.817,1445.72 \n",
       "  420.713,1445.72 421.609,1445.72 422.505,1445.72 423.4,1445.72 424.296,1445.72 425.192,1445.72 426.088,1445.72 426.983,1445.72 427.879,1445.72 428.775,1445.72 \n",
       "  429.671,1445.72 430.566,1445.72 431.462,1445.72 432.358,1445.72 433.253,1445.72 434.149,1445.72 435.045,1445.72 435.941,1445.72 436.836,1445.72 437.732,1445.72 \n",
       "  438.628,1445.72 439.524,1445.72 440.419,1445.72 441.315,1438.57 442.211,1438.57 443.107,1438.57 444.002,1438.57 444.898,1438.57 445.794,1402.84 446.689,1402.84 \n",
       "  447.585,1402.84 448.481,1381.4 449.377,1381.4 450.272,1381.4 451.168,1381.4 452.064,1381.4 452.96,1381.4 453.855,1374.26 454.751,1374.26 455.647,1374.26 \n",
       "  456.543,1374.26 457.438,1374.26 458.334,1374.26 459.23,1374.26 460.125,1374.26 461.021,1374.26 461.917,1274.21 462.813,1274.21 463.708,1274.21 464.604,1274.21 \n",
       "  465.5,1274.21 466.396,1274.21 467.291,1274.21 468.187,1274.21 469.083,1274.21 469.979,1274.21 470.874,1274.21 471.77,1245.63 472.666,1245.63 473.561,1245.63 \n",
       "  474.457,1245.63 475.353,1245.63 476.249,1245.63 477.144,1245.63 478.04,1245.63 478.936,1245.63 479.832,1245.63 480.727,1245.63 481.623,1245.63 482.519,1245.63 \n",
       "  483.415,1245.63 484.31,1245.63 485.206,1245.63 486.102,1245.63 486.997,1245.63 487.893,1245.63 488.789,1245.63 489.685,1245.63 490.58,1245.63 491.476,1245.63 \n",
       "  492.372,1245.63 493.268,1245.63 494.163,1245.63 495.059,1159.88 495.955,1159.88 496.851,1159.88 497.746,1159.88 498.642,1159.88 499.538,1159.88 500.433,1159.88 \n",
       "  501.329,1159.88 502.225,1159.88 503.121,1159.88 504.016,1138.44 504.912,1138.44 505.808,1138.44 506.704,1138.44 507.599,1138.44 508.495,1138.44 509.391,1138.44 \n",
       "  510.287,1138.44 511.182,1138.44 512.078,1138.44 512.974,1138.44 513.869,1138.44 514.765,1138.44 515.661,1138.44 516.557,1138.44 517.452,1138.44 518.348,1138.44 \n",
       "  519.244,1138.44 520.14,1138.44 521.035,1138.44 521.931,1117 522.827,1117 523.723,1117 524.618,1117 525.514,1117 526.41,1117 527.305,1117 \n",
       "  528.201,1117 529.097,1117 529.993,1117 530.888,1117 531.784,1117 532.68,1117 533.576,1117 534.471,1117 535.367,1117 536.263,1117 \n",
       "  537.159,1117 538.054,1117 538.95,1117 539.846,1016.96 540.741,1016.96 541.637,1016.96 542.533,1016.96 543.429,1016.96 544.324,1016.96 545.22,1016.96 \n",
       "  546.116,1016.96 547.012,1016.96 547.907,1016.96 548.803,1016.96 549.699,1016.96 550.595,1016.96 551.49,1016.96 552.386,1016.96 553.282,1016.96 554.177,1016.96 \n",
       "  555.073,1016.96 555.969,1016.96 556.865,1016.96 557.76,974.08 558.656,974.08 559.552,974.08 560.448,974.08 561.343,974.08 562.239,974.08 563.135,974.08 \n",
       "  564.031,974.08 564.926,974.08 565.822,974.08 566.718,974.08 567.613,974.08 568.509,974.08 569.405,974.08 570.301,974.08 571.196,974.08 572.092,974.08 \n",
       "  572.988,974.08 573.884,974.08 574.779,974.08 575.675,974.08 576.571,974.08 577.467,974.08 578.362,974.08 579.258,974.08 580.154,974.08 581.049,974.08 \n",
       "  581.945,974.08 582.841,974.08 583.737,974.08 584.632,974.08 585.528,974.08 586.424,974.08 587.32,974.08 588.215,974.08 589.111,974.08 590.007,974.08 \n",
       "  590.903,974.08 591.798,974.08 592.694,974.08 593.59,974.08 594.485,974.08 595.381,974.08 596.277,974.08 597.173,974.08 598.068,974.08 598.964,974.08 \n",
       "  599.86,974.08 600.756,974.08 601.651,974.08 602.547,974.08 603.443,974.08 604.339,974.08 605.234,974.08 606.13,974.08 607.026,974.08 607.921,974.08 \n",
       "  608.817,974.08 609.713,974.08 610.609,974.08 611.504,974.08 612.4,974.08 613.296,974.08 614.192,974.08 615.087,974.08 615.983,974.08 616.879,974.08 \n",
       "  617.775,974.08 618.67,974.08 619.566,974.08 620.462,974.08 621.357,974.08 622.253,974.08 623.149,974.08 624.045,974.08 624.94,974.08 625.836,974.08 \n",
       "  626.732,974.08 627.628,974.08 628.523,974.08 629.419,974.08 630.315,974.08 631.211,974.08 632.106,974.08 633.002,974.08 633.898,974.08 634.793,974.08 \n",
       "  635.689,974.08 636.585,974.08 637.481,974.08 638.376,974.08 639.272,974.08 640.168,974.08 641.064,974.08 641.959,974.08 642.855,974.08 643.751,974.08 \n",
       "  644.647,974.08 645.542,974.08 646.438,974.08 647.334,974.08 648.229,952.642 649.125,952.642 650.021,952.642 650.917,952.642 651.812,952.642 652.708,952.642 \n",
       "  653.604,952.642 654.5,952.642 655.395,952.642 656.291,952.642 657.187,952.642 658.083,952.642 658.978,952.642 659.874,952.642 660.77,952.642 661.665,952.642 \n",
       "  662.561,952.642 663.457,952.642 664.353,952.642 665.248,952.642 666.144,952.642 667.04,952.642 667.936,952.642 668.831,952.642 669.727,952.642 670.623,952.642 \n",
       "  671.519,952.642 672.414,952.642 673.31,952.642 674.206,952.642 675.101,952.642 675.997,952.642 676.893,952.642 677.789,952.642 678.684,952.642 679.58,952.642 \n",
       "  680.476,952.642 681.372,952.642 682.267,952.642 683.163,952.642 684.059,952.642 684.955,952.642 685.85,952.642 686.746,952.642 687.642,952.642 688.537,952.642 \n",
       "  689.433,952.642 690.329,952.642 691.225,952.642 692.12,952.642 693.016,952.642 693.912,952.642 694.808,952.642 695.703,952.642 696.599,952.642 697.495,952.642 \n",
       "  698.391,952.642 699.286,952.642 700.182,952.642 701.078,952.642 701.973,952.642 702.869,952.642 703.765,952.642 704.661,952.642 705.556,952.642 706.452,952.642 \n",
       "  707.348,952.642 708.244,952.642 709.139,952.642 710.035,952.642 710.931,952.642 711.827,952.642 712.722,952.642 713.618,952.642 714.514,952.642 715.409,952.642 \n",
       "  716.305,952.642 717.201,952.642 718.097,952.642 718.992,952.642 719.888,952.642 720.784,952.642 721.68,952.642 722.575,952.642 723.471,952.642 724.367,952.642 \n",
       "  725.262,952.642 726.158,952.642 727.054,952.642 727.95,952.642 728.845,952.642 729.741,952.642 730.637,952.642 731.533,952.642 732.428,952.642 733.324,952.642 \n",
       "  734.22,952.642 735.116,952.642 736.011,952.642 736.907,952.642 737.803,952.642 738.698,952.642 739.594,952.642 740.49,952.642 741.386,952.642 742.281,952.642 \n",
       "  743.177,952.642 744.073,952.642 744.969,952.642 745.864,952.642 746.76,952.642 747.656,952.642 748.552,952.642 749.447,952.642 750.343,952.642 751.239,952.642 \n",
       "  752.134,952.642 753.03,952.642 753.926,952.642 754.822,952.642 755.717,952.642 756.613,952.642 757.509,952.642 758.405,952.642 759.3,952.642 760.196,952.642 \n",
       "  761.092,952.642 761.988,952.642 762.883,952.642 763.779,952.642 764.675,952.642 765.57,952.642 766.466,952.642 767.362,952.642 768.258,952.642 769.153,952.642 \n",
       "  770.049,952.642 770.945,952.642 771.841,952.642 772.736,952.642 773.632,952.642 774.528,952.642 775.424,952.642 776.319,952.642 777.215,952.642 778.111,952.642 \n",
       "  779.006,952.642 779.902,952.642 780.798,952.642 781.694,952.642 782.589,952.642 783.485,952.642 784.381,952.642 785.277,952.642 786.172,952.642 787.068,952.642 \n",
       "  787.964,952.642 788.86,952.642 789.755,952.642 790.651,952.642 791.547,952.642 792.442,952.642 793.338,952.642 794.234,952.642 795.13,952.642 796.025,952.642 \n",
       "  796.921,952.642 797.817,952.642 798.713,952.642 799.608,952.642 800.504,952.642 801.4,952.642 802.296,952.642 803.191,952.642 804.087,952.642 804.983,952.642 \n",
       "  805.878,952.642 806.774,952.642 807.67,952.642 808.566,952.642 809.461,952.642 810.357,952.642 811.253,952.642 812.149,952.642 813.044,952.642 813.94,952.642 \n",
       "  814.836,952.642 815.732,952.642 816.627,952.642 817.523,952.642 818.419,952.642 819.314,952.642 820.21,952.642 821.106,952.642 822.002,952.642 822.897,952.642 \n",
       "  823.793,952.642 824.689,952.642 825.585,952.642 826.48,952.642 827.376,952.642 828.272,952.642 829.168,938.35 830.063,938.35 830.959,938.35 831.855,938.35 \n",
       "  832.75,938.35 833.646,938.35 834.542,602.488 835.438,602.488 836.333,602.488 837.229,602.488 838.125,602.488 839.021,602.488 839.916,602.488 840.812,445.276 \n",
       "  841.708,445.276 842.604,445.276 843.499,445.276 844.395,445.276 845.291,87.9763 846.186,87.9763 847.082,87.9763 847.978,87.9763 848.874,87.9763 849.769,87.9763 \n",
       "  850.665,87.9763 851.561,87.9763 852.457,87.9763 853.352,87.9763 854.248,87.9763 855.144,87.9763 856.04,87.9763 856.935,87.9763 857.831,87.9763 858.727,87.9763 \n",
       "  859.622,87.9763 860.518,87.9763 861.414,87.9763 862.31,87.9763 863.205,87.9763 864.101,87.9763 864.997,87.9763 865.893,87.9763 866.788,87.9763 867.684,87.9763 \n",
       "  868.58,87.9763 869.476,87.9763 870.371,87.9763 871.267,87.9763 872.163,87.9763 873.058,87.9763 873.954,87.9763 874.85,87.9763 875.746,87.9763 876.641,87.9763 \n",
       "  877.537,87.9763 878.433,87.9763 879.329,87.9763 880.224,87.9763 881.12,87.9763 882.016,87.9763 882.912,87.9763 883.807,87.9763 884.703,87.9763 885.599,87.9763 \n",
       "  886.494,87.9763 887.39,87.9763 888.286,87.9763 889.182,87.9763 890.077,87.9763 890.973,87.9763 891.869,87.9763 892.765,87.9763 893.66,87.9763 894.556,87.9763 \n",
       "  895.452,87.9763 896.348,87.9763 897.243,87.9763 898.139,87.9763 899.035,87.9763 899.93,87.9763 900.826,87.9763 901.722,87.9763 902.618,87.9763 903.513,87.9763 \n",
       "  904.409,87.9763 905.305,87.9763 906.201,87.9763 907.096,87.9763 907.992,87.9763 908.888,87.9763 909.784,87.9763 910.679,87.9763 911.575,87.9763 912.471,87.9763 \n",
       "  913.366,87.9763 914.262,87.9763 915.158,87.9763 916.054,87.9763 916.949,87.9763 917.845,87.9763 918.741,87.9763 919.637,87.9763 920.532,87.9763 921.428,87.9763 \n",
       "  922.324,87.9763 923.22,87.9763 924.115,87.9763 925.011,87.9763 925.907,87.9763 926.802,87.9763 927.698,87.9763 928.594,87.9763 929.49,87.9763 930.385,87.9763 \n",
       "  931.281,87.9763 932.177,87.9763 933.073,87.9763 933.968,87.9763 934.864,87.9763 935.76,87.9763 936.656,87.9763 937.551,87.9763 938.447,87.9763 939.343,87.9763 \n",
       "  940.238,87.9763 941.134,87.9763 942.03,87.9763 942.926,87.9763 943.821,87.9763 944.717,87.9763 945.613,87.9763 946.509,87.9763 947.404,87.9763 948.3,87.9763 \n",
       "  949.196,87.9763 950.092,87.9763 950.987,87.9763 951.883,87.9763 952.779,87.9763 953.674,87.9763 954.57,87.9763 955.466,87.9763 956.362,87.9763 957.257,87.9763 \n",
       "  958.153,87.9763 959.049,87.9763 959.945,87.9763 960.84,87.9763 961.736,87.9763 962.632,87.9763 963.528,87.9763 964.423,87.9763 965.319,87.9763 966.215,87.9763 \n",
       "  967.11,87.9763 968.006,87.9763 968.902,87.9763 969.798,87.9763 970.693,87.9763 971.589,87.9763 972.485,87.9763 973.381,87.9763 974.276,87.9763 975.172,87.9763 \n",
       "  976.068,87.9763 976.964,87.9763 977.859,87.9763 978.755,87.9763 979.651,87.9763 980.546,87.9763 981.442,87.9763 982.338,87.9763 983.234,87.9763 984.129,87.9763 \n",
       "  985.025,87.9763 985.921,87.9763 986.817,87.9763 987.712,87.9763 988.608,87.9763 989.504,87.9763 990.4,87.9763 991.295,87.9763 992.191,87.9763 993.087,87.9763 \n",
       "  993.982,87.9763 994.878,87.9763 995.774,87.9763 996.67,87.9763 997.565,87.9763 998.461,87.9763 999.357,87.9763 1000.25,87.9763 1001.15,87.9763 1002.04,87.9763 \n",
       "  1002.94,87.9763 1003.84,87.9763 1004.73,87.9763 1005.63,87.9763 1006.52,87.9763 1007.42,87.9763 1008.31,87.9763 1009.21,87.9763 1010.11,87.9763 1011,87.9763 \n",
       "  1011.9,87.9763 1012.79,87.9763 1013.69,87.9763 1014.58,87.9763 1015.48,87.9763 1016.38,87.9763 1017.27,87.9763 1018.17,87.9763 1019.06,87.9763 1019.96,87.9763 \n",
       "  1020.85,87.9763 1021.75,87.9763 1022.65,87.9763 1023.54,87.9763 1024.44,87.9763 1025.33,87.9763 1026.23,87.9763 1027.12,87.9763 1028.02,87.9763 1028.92,87.9763 \n",
       "  1029.81,87.9763 1030.71,87.9763 1031.6,87.9763 1032.5,87.9763 1033.39,87.9763 1034.29,87.9763 1035.19,87.9763 1036.08,87.9763 1036.98,87.9763 1037.87,87.9763 \n",
       "  1038.77,87.9763 1039.66,87.9763 1040.56,87.9763 1041.46,87.9763 1042.35,87.9763 1043.25,87.9763 1044.14,87.9763 1045.04,87.9763 1045.93,87.9763 1046.83,87.9763 \n",
       "  1047.73,87.9763 1048.62,87.9763 1049.52,87.9763 1050.41,87.9763 1051.31,87.9763 1052.21,87.9763 1053.1,87.9763 1054,87.9763 1054.89,87.9763 1055.79,87.9763 \n",
       "  1056.68,87.9763 1057.58,87.9763 1058.48,87.9763 1059.37,87.9763 1060.27,87.9763 1061.16,87.9763 1062.06,87.9763 1062.95,87.9763 1063.85,87.9763 1064.75,87.9763 \n",
       "  1065.64,87.9763 1066.54,87.9763 1067.43,87.9763 1068.33,87.9763 1069.22,87.9763 1070.12,87.9763 1071.02,87.9763 1071.91,87.9763 1072.81,87.9763 1073.7,87.9763 \n",
       "  1074.6,87.9763 1075.49,87.9763 1076.39,87.9763 1077.29,87.9763 1078.18,87.9763 1079.08,87.9763 1079.97,87.9763 1080.87,87.9763 1081.76,87.9763 1082.66,87.9763 \n",
       "  1083.56,87.9763 1084.45,87.9763 1085.35,87.9763 1086.24,87.9763 1087.14,87.9763 1088.03,87.9763 1088.93,87.9763 1089.83,87.9763 1090.72,87.9763 1091.62,87.9763 \n",
       "  1092.51,87.9763 1093.41,87.9763 1094.3,87.9763 1095.2,87.9763 1096.1,87.9763 1096.99,87.9763 1097.89,87.9763 1098.78,87.9763 1099.68,87.9763 1100.57,87.9763 \n",
       "  1101.47,87.9763 1102.37,87.9763 1103.26,87.9763 1104.16,87.9763 1105.05,87.9763 1105.95,87.9763 1106.84,87.9763 1107.74,87.9763 1108.64,87.9763 1109.53,87.9763 \n",
       "  1110.43,87.9763 1111.32,87.9763 1112.22,87.9763 1113.11,87.9763 1114.01,87.9763 1114.91,87.9763 1115.8,87.9763 1116.7,87.9763 1117.59,87.9763 1118.49,87.9763 \n",
       "  1119.39,87.9763 1120.28,87.9763 1121.18,87.9763 1122.07,87.9763 1122.97,87.9763 1123.86,87.9763 1124.76,87.9763 1125.66,87.9763 1126.55,87.9763 1127.45,87.9763 \n",
       "  1128.34,87.9763 1129.24,87.9763 1130.13,87.9763 1131.03,87.9763 1131.93,87.9763 1132.82,87.9763 1133.72,87.9763 1134.61,87.9763 1135.51,87.9763 1136.4,87.9763 \n",
       "  1137.3,87.9763 1138.2,87.9763 1139.09,87.9763 1139.99,87.9763 1140.88,87.9763 1141.78,87.9763 1142.67,87.9763 1143.57,87.9763 1144.47,87.9763 1145.36,87.9763 \n",
       "  1146.26,87.9763 1147.15,87.9763 1148.05,87.9763 1148.94,87.9763 1149.84,87.9763 1150.74,87.9763 1151.63,87.9763 1152.53,87.9763 1153.42,87.9763 1154.32,87.9763 \n",
       "  1155.21,87.9763 1156.11,87.9763 1157.01,87.9763 1157.9,87.9763 1158.8,87.9763 1159.69,87.9763 1160.59,87.9763 1161.48,87.9763 1162.38,87.9763 1163.28,87.9763 \n",
       "  1164.17,87.9763 1165.07,87.9763 1165.96,87.9763 1166.86,87.9763 1167.75,87.9763 1168.65,87.9763 1169.55,87.9763 1170.44,87.9763 1171.34,87.9763 1172.23,87.9763 \n",
       "  1173.13,87.9763 1174.02,87.9763 1174.92,87.9763 1175.82,87.9763 1176.71,87.9763 1177.61,87.9763 1178.5,87.9763 1179.4,87.9763 1180.29,87.9763 1181.19,87.9763 \n",
       "  1182.09,87.9763 1182.98,87.9763 1183.88,87.9763 1184.77,87.9763 1185.67,87.9763 1186.57,87.9763 1187.46,87.9763 1188.36,87.9763 1189.25,87.9763 1190.15,87.9763 \n",
       "  1191.04,87.9763 1191.94,87.9763 1192.84,87.9763 1193.73,87.9763 1194.63,87.9763 1195.52,87.9763 1196.42,87.9763 1197.31,87.9763 1198.21,87.9763 1199.11,87.9763 \n",
       "  1200,87.9763 1200.9,87.9763 1201.79,87.9763 1202.69,87.9763 1203.58,87.9763 1204.48,87.9763 1205.38,87.9763 1206.27,87.9763 1207.17,87.9763 1208.06,87.9763 \n",
       "  1208.96,87.9763 1209.85,87.9763 1210.75,87.9763 1211.65,87.9763 1212.54,87.9763 1213.44,87.9763 1214.33,87.9763 1215.23,87.9763 1216.12,87.9763 1217.02,87.9763 \n",
       "  1217.92,87.9763 1218.81,87.9763 1219.71,87.9763 1220.6,87.9763 1221.5,87.9763 1222.39,87.9763 1223.29,87.9763 1224.19,87.9763 1225.08,87.9763 1225.98,87.9763 \n",
       "  1226.87,87.9763 1227.77,87.9763 1228.66,87.9763 1229.56,87.9763 1230.46,87.9763 1231.35,87.9763 1232.25,87.9763 1233.14,87.9763 1234.04,87.9763 1234.93,87.9763 \n",
       "  1235.83,87.9763 1236.73,87.9763 1237.62,87.9763 1238.52,87.9763 1239.41,87.9763 1240.31,87.9763 1241.2,87.9763 1242.1,87.9763 1243,87.9763 1243.89,87.9763 \n",
       "  1244.79,87.9763 1245.68,87.9763 1246.58,87.9763 1247.47,87.9763 1248.37,87.9763 1249.27,87.9763 1250.16,87.9763 1251.06,87.9763 1251.95,87.9763 1252.85,87.9763 \n",
       "  1253.75,87.9763 1254.64,87.9763 1255.54,87.9763 1256.43,87.9763 1257.33,87.9763 1258.22,87.9763 1259.12,87.9763 1260.02,87.9763 1260.91,87.9763 1261.81,87.9763 \n",
       "  1262.7,87.9763 1263.6,87.9763 1264.49,87.9763 1265.39,87.9763 1266.29,87.9763 1267.18,87.9763 1268.08,87.9763 1268.97,87.9763 1269.87,87.9763 1270.76,87.9763 \n",
       "  1271.66,87.9763 1272.56,87.9763 1273.45,87.9763 1274.35,87.9763 1275.24,87.9763 1276.14,87.9763 1277.03,87.9763 1277.93,87.9763 1278.83,87.9763 1279.72,87.9763 \n",
       "  1280.62,87.9763 1281.51,87.9763 1282.41,87.9763 1283.3,87.9763 1284.2,87.9763 1285.1,87.9763 1285.99,87.9763 1286.89,87.9763 1287.78,87.9763 1288.68,87.9763 \n",
       "  1289.57,87.9763 1290.47,87.9763 1291.37,87.9763 1292.26,87.9763 1293.16,87.9763 1294.05,87.9763 1294.95,87.9763 1295.84,87.9763 1296.74,87.9763 1297.64,87.9763 \n",
       "  1298.53,87.9763 1299.43,87.9763 1300.32,87.9763 1301.22,87.9763 1302.11,87.9763 1303.01,87.9763 1303.91,87.9763 1304.8,87.9763 1305.7,87.9763 1306.59,87.9763 \n",
       "  1307.49,87.9763 1308.38,87.9763 1309.28,87.9763 1310.18,87.9763 1311.07,87.9763 1311.97,87.9763 1312.86,87.9763 1313.76,87.9763 1314.65,87.9763 1315.55,87.9763 \n",
       "  1316.45,87.9763 1317.34,87.9763 1318.24,87.9763 1319.13,87.9763 1320.03,87.9763 1320.93,87.9763 1321.82,87.9763 1322.72,87.9763 1323.61,87.9763 1324.51,87.9763 \n",
       "  1325.4,87.9763 1326.3,87.9763 1327.2,87.9763 1328.09,87.9763 1328.99,87.9763 1329.88,87.9763 1330.78,87.9763 1331.67,87.9763 1332.57,87.9763 1333.47,87.9763 \n",
       "  1334.36,87.9763 1335.26,87.9763 1336.15,87.9763 1337.05,87.9763 1337.94,87.9763 1338.84,87.9763 1339.74,87.9763 1340.63,87.9763 1341.53,87.9763 1342.42,87.9763 \n",
       "  1343.32,87.9763 1344.21,87.9763 1345.11,87.9763 1346.01,87.9763 1346.9,87.9763 1347.8,87.9763 1348.69,87.9763 1349.59,87.9763 1350.48,87.9763 1351.38,87.9763 \n",
       "  1352.28,87.9763 1353.17,87.9763 1354.07,87.9763 1354.96,87.9763 1355.86,87.9763 1356.75,87.9763 1357.65,87.9763 1358.55,87.9763 1359.44,87.9763 1360.34,87.9763 \n",
       "  1361.23,87.9763 1362.13,87.9763 1363.02,87.9763 1363.92,87.9763 1364.82,87.9763 1365.71,87.9763 1366.61,87.9763 1367.5,87.9763 1368.4,87.9763 1369.29,87.9763 \n",
       "  1370.19,87.9763 1371.09,87.9763 1371.98,87.9763 1372.88,87.9763 1373.77,87.9763 1374.67,87.9763 1375.56,87.9763 1376.46,87.9763 1377.36,87.9763 1378.25,87.9763 \n",
       "  1379.15,87.9763 1380.04,87.9763 1380.94,87.9763 1381.83,87.9763 1382.73,87.9763 1383.63,87.9763 1384.52,87.9763 1385.42,87.9763 1386.31,87.9763 1387.21,87.9763 \n",
       "  1388.11,87.9763 1389,87.9763 1389.9,87.9763 1390.79,87.9763 1391.69,87.9763 1392.58,87.9763 1393.48,87.9763 1394.38,87.9763 1395.27,87.9763 1396.17,87.9763 \n",
       "  1397.06,87.9763 1397.96,87.9763 1398.85,87.9763 1399.75,87.9763 1400.65,87.9763 1401.54,87.9763 1402.44,87.9763 1403.33,87.9763 1404.23,87.9763 1405.12,87.9763 \n",
       "  1406.02,87.9763 1406.92,87.9763 1407.81,87.9763 1408.71,87.9763 1409.6,87.9763 1410.5,87.9763 1411.39,87.9763 1412.29,87.9763 1413.19,87.9763 1414.08,87.9763 \n",
       "  1414.98,87.9763 1415.87,87.9763 1416.77,87.9763 1417.66,87.9763 1418.56,87.9763 1419.46,87.9763 1420.35,87.9763 1421.25,87.9763 1422.14,87.9763 1423.04,87.9763 \n",
       "  1423.93,87.9763 1424.83,87.9763 1425.73,87.9763 1426.62,87.9763 1427.52,87.9763 1428.41,87.9763 1429.31,87.9763 1430.2,87.9763 1431.1,87.9763 1432,87.9763 \n",
       "  1432.89,87.9763 1433.79,87.9763 1434.68,87.9763 1435.58,87.9763 1436.47,87.9763 1437.37,87.9763 1438.27,87.9763 1439.16,87.9763 1440.06,87.9763 1440.95,87.9763 \n",
       "  1441.85,87.9763 1442.74,87.9763 1443.64,87.9763 1444.54,87.9763 1445.43,87.9763 1446.33,87.9763 1447.22,87.9763 1448.12,87.9763 1449.01,87.9763 1449.91,87.9763 \n",
       "  1450.81,87.9763 1451.7,87.9763 1452.6,87.9763 1453.49,87.9763 1454.39,87.9763 1455.29,87.9763 1456.18,87.9763 1457.08,87.9763 1457.97,87.9763 1458.87,87.9763 \n",
       "  1459.76,87.9763 1460.66,87.9763 1461.56,87.9763 1462.45,87.9763 1463.35,87.9763 1464.24,87.9763 1465.14,87.9763 1466.03,87.9763 1466.93,87.9763 1467.83,87.9763 \n",
       "  1468.72,87.9763 1469.62,87.9763 1470.51,87.9763 1471.41,87.9763 1472.3,87.9763 1473.2,87.9763 1474.1,87.9763 1474.99,87.9763 1475.89,87.9763 1476.78,87.9763 \n",
       "  1477.68,87.9763 1478.57,87.9763 1479.47,87.9763 1480.37,87.9763 1481.26,87.9763 1482.16,87.9763 1483.05,87.9763 1483.95,87.9763 1484.84,87.9763 1485.74,87.9763 \n",
       "  1486.64,87.9763 1487.53,87.9763 1488.43,87.9763 1489.32,87.9763 1490.22,87.9763 1491.11,87.9763 1492.01,87.9763 1492.91,87.9763 1493.8,87.9763 1494.7,87.9763 \n",
       "  1495.59,87.9763 1496.49,87.9763 1497.38,87.9763 1498.28,87.9763 1499.18,87.9763 1500.07,87.9763 1500.97,87.9763 1501.86,87.9763 1502.76,87.9763 1503.65,87.9763 \n",
       "  1504.55,87.9763 1505.45,87.9763 1506.34,87.9763 1507.24,87.9763 1508.13,87.9763 1509.03,87.9763 1509.92,87.9763 1510.82,87.9763 1511.72,87.9763 1512.61,87.9763 \n",
       "  1513.51,87.9763 1514.4,87.9763 1515.3,87.9763 1516.19,87.9763 1517.09,87.9763 1517.99,87.9763 1518.88,87.9763 1519.78,87.9763 1520.67,87.9763 1521.57,87.9763 \n",
       "  1522.47,87.9763 1523.36,87.9763 1524.26,87.9763 1525.15,87.9763 1526.05,87.9763 1526.94,87.9763 1527.84,87.9763 1528.74,87.9763 1529.63,87.9763 1530.53,87.9763 \n",
       "  1531.42,87.9763 1532.32,87.9763 1533.21,87.9763 1534.11,87.9763 1535.01,87.9763 1535.9,87.9763 1536.8,87.9763 1537.69,87.9763 1538.59,87.9763 1539.48,87.9763 \n",
       "  1540.38,87.9763 1541.28,87.9763 1542.17,87.9763 1543.07,87.9763 1543.96,87.9763 1544.86,87.9763 1545.75,87.9763 1546.65,87.9763 1547.55,87.9763 1548.44,87.9763 \n",
       "  1549.34,87.9763 1550.23,87.9763 1551.13,87.9763 1552.02,87.9763 1552.92,87.9763 1553.82,87.9763 1554.71,87.9763 1555.61,87.9763 1556.5,87.9763 1557.4,87.9763 \n",
       "  1558.29,87.9763 1559.19,87.9763 1560.09,87.9763 1560.98,87.9763 1561.88,87.9763 1562.77,87.9763 1563.67,87.9763 1564.56,87.9763 1565.46,87.9763 1566.36,87.9763 \n",
       "  1567.25,87.9763 1568.15,87.9763 1569.04,87.9763 1569.94,87.9763 1570.83,87.9763 1571.73,87.9763 1572.63,87.9763 1573.52,87.9763 1574.42,87.9763 1575.31,87.9763 \n",
       "  1576.21,87.9763 1577.1,87.9763 1578,87.9763 1578.9,87.9763 1579.79,87.9763 1580.69,87.9763 1581.58,87.9763 1582.48,87.9763 1583.37,87.9763 1584.27,87.9763 \n",
       "  1585.17,87.9763 1586.06,87.9763 1586.96,87.9763 1587.85,87.9763 1588.75,87.9763 1589.64,87.9763 1590.54,87.9763 1591.44,87.9763 1592.33,87.9763 1593.23,87.9763 \n",
       "  1594.12,87.9763 1595.02,87.9763 1595.92,87.9763 1596.81,87.9763 1597.71,87.9763 1598.6,87.9763 1599.5,87.9763 1600.39,87.9763 1601.29,87.9763 1602.19,87.9763 \n",
       "  1603.08,87.9763 1603.98,87.9763 1604.87,87.9763 1605.77,87.9763 1606.66,87.9763 1607.56,87.9763 1608.46,87.9763 1609.35,87.9763 1610.25,87.9763 1611.14,87.9763 \n",
       "  1612.04,87.9763 1612.93,87.9763 1613.83,87.9763 1614.73,87.9763 1615.62,87.9763 1616.52,87.9763 1617.41,87.9763 1618.31,87.9763 1619.2,87.9763 1620.1,87.9763 \n",
       "  1621,87.9763 1621.89,87.9763 1622.79,87.9763 1623.68,87.9763 1624.58,87.9763 1625.47,87.9763 1626.37,87.9763 1627.27,87.9763 1628.16,87.9763 1629.06,87.9763 \n",
       "  1629.95,87.9763 1630.85,87.9763 1631.74,87.9763 1632.64,87.9763 1633.54,87.9763 1634.43,87.9763 1635.33,87.9763 1636.22,87.9763 1637.12,87.9763 1638.01,87.9763 \n",
       "  1638.91,87.9763 1639.81,87.9763 1640.7,87.9763 1641.6,87.9763 1642.49,87.9763 1643.39,87.9763 1644.28,87.9763 1645.18,87.9763 1646.08,87.9763 1646.97,87.9763 \n",
       "  1647.87,87.9763 1648.76,87.9763 1649.66,87.9763 1650.55,87.9763 1651.45,87.9763 1652.35,87.9763 1653.24,87.9763 1654.14,87.9763 1655.03,87.9763 1655.93,87.9763 \n",
       "  1656.82,87.9763 1657.72,87.9763 1658.62,87.9763 1659.51,87.9763 1660.41,87.9763 1661.3,87.9763 1662.2,87.9763 1663.1,87.9763 1663.99,87.9763 1664.89,87.9763 \n",
       "  1665.78,87.9763 1666.68,87.9763 1667.57,87.9763 1668.47,87.9763 1669.37,87.9763 1670.26,87.9763 1671.16,87.9763 1672.05,87.9763 1672.95,87.9763 1673.84,87.9763 \n",
       "  1674.74,87.9763 1675.64,87.9763 1676.53,87.9763 1677.43,87.9763 1678.32,87.9763 1679.22,87.9763 1680.11,87.9763 1681.01,87.9763 1681.91,87.9763 1682.8,87.9763 \n",
       "  1683.7,87.9763 1684.59,87.9763 1685.49,87.9763 1686.38,87.9763 1687.28,87.9763 1688.18,87.9763 1689.07,87.9763 1689.97,87.9763 1690.86,87.9763 1691.76,87.9763 \n",
       "  1692.65,87.9763 1693.55,87.9763 1694.45,87.9763 1695.34,87.9763 1696.24,87.9763 1697.13,87.9763 1698.03,87.9763 1698.92,87.9763 1699.82,87.9763 1700.72,87.9763 \n",
       "  1701.61,87.9763 1702.51,87.9763 1703.4,87.9763 1704.3,87.9763 1705.19,87.9763 1706.09,87.9763 1706.99,87.9763 1707.88,87.9763 1708.78,87.9763 1709.67,87.9763 \n",
       "  1710.57,87.9763 1711.46,87.9763 1712.36,87.9763 1713.26,87.9763 1714.15,87.9763 1715.05,87.9763 1715.94,87.9763 1716.84,87.9763 1717.73,87.9763 1718.63,87.9763 \n",
       "  1719.53,87.9763 1720.42,87.9763 1721.32,87.9763 1722.21,87.9763 1723.11,87.9763 1724,87.9763 1724.9,87.9763 1725.8,87.9763 1726.69,87.9763 1727.59,87.9763 \n",
       "  1728.48,87.9763 1729.38,87.9763 1730.28,87.9763 1731.17,87.9763 1732.07,87.9763 1732.96,87.9763 1733.86,87.9763 1734.75,87.9763 1735.65,87.9763 1736.55,87.9763 \n",
       "  1737.44,87.9763 1738.34,87.9763 1739.23,87.9763 1740.13,87.9763 1741.02,87.9763 1741.92,87.9763 1742.82,87.9763 1743.71,87.9763 1744.61,87.9763 1745.5,87.9763 \n",
       "  1746.4,87.9763 1747.29,87.9763 1748.19,87.9763 1749.09,87.9763 1749.98,87.9763 1750.88,87.9763 1751.77,87.9763 1752.67,87.9763 1753.56,87.9763 1754.46,87.9763 \n",
       "  1755.36,87.9763 1756.25,87.9763 1757.15,87.9763 1758.04,87.9763 1758.94,87.9763 1759.83,87.9763 1760.73,87.9763 1761.63,87.9763 1762.52,87.9763 1763.42,87.9763 \n",
       "  1764.31,87.9763 1765.21,87.9763 1766.1,87.9763 1767,87.9763 1767.9,87.9763 1768.79,87.9763 1769.69,87.9763 1770.58,87.9763 1771.48,87.9763 1772.37,87.9763 \n",
       "  1773.27,87.9763 1774.17,87.9763 1775.06,87.9763 1775.96,87.9763 1776.85,87.9763 1777.75,87.9763 1778.64,87.9763 1779.54,87.9763 1780.44,87.9763 1781.33,87.9763 \n",
       "  1782.23,87.9763 1783.12,87.9763 1784.02,87.9763 1784.91,87.9763 1785.81,87.9763 1786.71,87.9763 1787.6,87.9763 1788.5,87.9763 1789.39,87.9763 1790.29,87.9763 \n",
       "  1791.18,87.9763 1792.08,87.9763 1792.98,87.9763 1793.87,87.9763 1794.77,87.9763 1795.66,87.9763 1796.56,87.9763 1797.46,87.9763 1798.35,87.9763 1799.25,87.9763 \n",
       "  1800.14,87.9763 1801.04,87.9763 1801.93,87.9763 1802.83,87.9763 1803.73,87.9763 1804.62,87.9763 1805.52,87.9763 1806.41,87.9763 1807.31,87.9763 1808.2,87.9763 \n",
       "  1809.1,87.9763 1810,87.9763 1810.89,87.9763 1811.79,87.9763 1812.68,87.9763 1813.58,87.9763 1814.47,87.9763 1815.37,87.9763 1816.27,87.9763 1817.16,87.9763 \n",
       "  1818.06,87.9763 1818.95,87.9763 1819.85,87.9763 1820.74,87.9763 1821.64,87.9763 1822.54,87.9763 1823.43,87.9763 1824.33,87.9763 1825.22,87.9763 1826.12,87.9763 \n",
       "  1827.01,87.9763 1827.91,87.9763 1828.81,87.9763 1829.7,87.9763 1830.6,87.9763 1831.49,87.9763 1832.39,87.9763 1833.28,87.9763 1834.18,87.9763 1835.08,87.9763 \n",
       "  1835.97,87.9763 1836.87,87.9763 1837.76,87.9763 1838.66,87.9763 1839.55,87.9763 1840.45,87.9763 1841.35,87.9763 1842.24,87.9763 1843.14,87.9763 1844.03,87.9763 \n",
       "  1844.93,87.9763 1845.82,87.9763 1846.72,87.9763 1847.62,87.9763 1848.51,87.9763 1849.41,87.9763 1850.3,87.9763 1851.2,87.9763 1852.09,87.9763 1852.99,87.9763 \n",
       "  1853.89,87.9763 1854.78,87.9763 1855.68,87.9763 1856.57,87.9763 1857.47,87.9763 1858.36,87.9763 1859.26,87.9763 1860.16,87.9763 1861.05,87.9763 1861.95,87.9763 \n",
       "  1862.84,87.9763 1863.74,87.9763 1864.64,87.9763 1865.53,87.9763 1866.43,87.9763 1867.32,87.9763 1868.22,87.9763 1869.11,87.9763 1870.01,87.9763 1870.91,87.9763 \n",
       "  1871.8,87.9763 1872.7,87.9763 1873.59,87.9763 1874.49,87.9763 1875.38,87.9763 1876.28,87.9763 1877.18,87.9763 1878.07,87.9763 1878.97,87.9763 1879.86,87.9763 \n",
       "  1880.76,87.9763 1881.65,87.9763 1882.55,87.9763 1883.45,87.9763 1884.34,87.9763 1885.24,87.9763 1886.13,87.9763 1887.03,87.9763 1887.92,87.9763 1888.82,87.9763 \n",
       "  1889.72,87.9763 1890.61,87.9763 1891.51,87.9763 1892.4,87.9763 1893.3,87.9763 1894.19,87.9763 1895.09,87.9763 1895.99,87.9763 1896.88,87.9763 1897.78,87.9763 \n",
       "  1898.67,87.9763 1899.57,87.9763 1900.46,87.9763 1901.36,87.9763 1902.26,87.9763 1903.15,87.9763 1904.05,87.9763 1904.94,87.9763 1905.84,87.9763 1906.73,87.9763 \n",
       "  1907.63,87.9763 1908.53,87.9763 1909.42,87.9763 1910.32,87.9763 1911.21,87.9763 1912.11,87.9763 1913,87.9763 1913.9,87.9763 1914.8,87.9763 1915.69,87.9763 \n",
       "  1916.59,87.9763 1917.48,87.9763 1918.38,87.9763 1919.27,87.9763 1920.17,87.9763 1921.07,87.9763 1921.96,87.9763 1922.86,87.9763 1923.75,87.9763 1924.65,87.9763 \n",
       "  1925.54,87.9763 1926.44,87.9763 1927.34,87.9763 1928.23,87.9763 1929.13,87.9763 1930.02,87.9763 1930.92,87.9763 1931.82,87.9763 1932.71,87.9763 1933.61,87.9763 \n",
       "  1934.5,87.9763 1935.4,87.9763 1936.29,87.9763 1937.19,87.9763 1938.09,87.9763 1938.98,87.9763 1939.88,87.9763 1940.77,87.9763 1941.67,87.9763 1942.56,87.9763 \n",
       "  1943.46,87.9763 1944.36,87.9763 1945.25,87.9763 1946.15,87.9763 1947.04,87.9763 1947.94,87.9763 1948.83,87.9763 1949.73,87.9763 1950.63,87.9763 1951.52,87.9763 \n",
       "  1952.42,87.9763 1953.31,87.9763 1954.21,87.9763 1955.1,87.9763 1956,87.9763 1956.9,87.9763 1957.79,87.9763 1958.69,87.9763 1959.58,87.9763 1960.48,87.9763 \n",
       "  1961.37,87.9763 1962.27,87.9763 1963.17,87.9763 1964.06,87.9763 1964.96,87.9763 1965.85,87.9763 1966.75,87.9763 1967.64,87.9763 1968.54,87.9763 1969.44,87.9763 \n",
       "  1970.33,87.9763 1971.23,87.9763 1972.12,87.9763 1973.02,87.9763 1973.91,87.9763 1974.81,87.9763 1975.71,87.9763 1976.6,87.9763 1977.5,87.9763 1978.39,87.9763 \n",
       "  1979.29,87.9763 1980.18,87.9763 1981.08,87.9763 1981.98,87.9763 1982.87,87.9763 1983.77,87.9763 1984.66,87.9763 1985.56,87.9763 1986.45,87.9763 1987.35,87.9763 \n",
       "  1988.25,87.9763 1989.14,87.9763 1990.04,87.9763 1990.93,87.9763 1991.83,87.9763 1992.72,87.9763 1993.62,87.9763 1994.52,87.9763 1995.41,87.9763 1996.31,87.9763 \n",
       "  1997.2,87.9763 1998.1,87.9763 1999,87.9763 1999.89,87.9763 2000.79,87.9763 2001.68,87.9763 2002.58,87.9763 2003.47,87.9763 2004.37,87.9763 2005.27,87.9763 \n",
       "  2006.16,87.9763 2007.06,87.9763 2007.95,87.9763 2008.85,87.9763 2009.74,87.9763 2010.64,87.9763 2011.54,87.9763 2012.43,87.9763 2013.33,87.9763 2014.22,87.9763 \n",
       "  2015.12,87.9763 2016.01,87.9763 2016.91,87.9763 2017.81,87.9763 2018.7,87.9763 2019.6,87.9763 2020.49,87.9763 2021.39,87.9763 2022.28,87.9763 2023.18,87.9763 \n",
       "  2024.08,87.9763 2024.97,87.9763 2025.87,87.9763 2026.76,87.9763 2027.66,87.9763 2028.55,87.9763 2029.45,87.9763 2030.35,87.9763 2031.24,87.9763 2032.14,87.9763 \n",
       "  2033.03,87.9763 2033.93,87.9763 2034.82,87.9763 2035.72,87.9763 2036.62,87.9763 2037.51,87.9763 2038.41,87.9763 2039.3,87.9763 2040.2,87.9763 2041.09,87.9763 \n",
       "  2041.99,87.9763 2042.89,87.9763 2043.78,87.9763 2044.68,87.9763 2045.57,87.9763 2046.47,87.9763 2047.36,87.9763 2048.26,87.9763 2049.16,87.9763 2050.05,87.9763 \n",
       "  2050.95,87.9763 2051.84,87.9763 2052.74,87.9763 2053.63,87.9763 2054.53,87.9763 2055.43,87.9763 2056.32,87.9763 2057.22,87.9763 2058.11,87.9763 2059.01,87.9763 \n",
       "  2059.9,87.9763 2060.8,87.9763 2061.7,87.9763 2062.59,87.9763 2063.49,87.9763 2064.38,87.9763 2065.28,87.9763 2066.18,87.9763 2067.07,87.9763 2067.97,87.9763 \n",
       "  2068.86,87.9763 2069.76,87.9763 2070.65,87.9763 2071.55,87.9763 2072.45,87.9763 2073.34,87.9763 2074.24,87.9763 2075.13,87.9763 2076.03,87.9763 2076.92,87.9763 \n",
       "  2077.82,87.9763 2078.72,87.9763 2079.61,87.9763 2080.51,87.9763 2081.4,87.9763 2082.3,87.9763 2083.19,87.9763 2084.09,87.9763 2084.99,87.9763 2085.88,87.9763 \n",
       "  2086.78,87.9763 2087.67,87.9763 2088.57,87.9763 2089.46,87.9763 2090.36,87.9763 2091.26,87.9763 2092.15,87.9763 2093.05,87.9763 2093.94,87.9763 2094.84,87.9763 \n",
       "  2095.73,87.9763 2096.63,87.9763 2097.53,87.9763 2098.42,87.9763 2099.32,87.9763 2100.21,87.9763 2101.11,87.9763 2102,87.9763 2102.9,87.9763 2103.8,87.9763 \n",
       "  2104.69,87.9763 2105.59,87.9763 2106.48,87.9763 2107.38,87.9763 2108.27,87.9763 2109.17,87.9763 2110.07,87.9763 2110.96,87.9763 2111.86,87.9763 2112.75,87.9763 \n",
       "  2113.65,87.9763 2114.54,87.9763 2115.44,87.9763 2116.34,87.9763 2117.23,87.9763 2118.13,87.9763 2119.02,87.9763 2119.92,87.9763 2120.81,87.9763 2121.71,87.9763 \n",
       "  2122.61,87.9763 2123.5,87.9763 2124.4,87.9763 2125.29,87.9763 2126.19,87.9763 2127.08,87.9763 2127.98,87.9763 2128.88,87.9763 2129.77,87.9763 2130.67,87.9763 \n",
       "  2131.56,87.9763 2132.46,87.9763 2133.36,87.9763 2134.25,87.9763 2135.15,87.9763 2136.04,87.9763 2136.94,87.9763 2137.83,87.9763 2138.73,87.9763 2139.63,87.9763 \n",
       "  2140.52,87.9763 2141.42,87.9763 2142.31,87.9763 2143.21,87.9763 2144.1,87.9763 2145,87.9763 2145.9,87.9763 2146.79,87.9763 2147.69,87.9763 2148.58,87.9763 \n",
       "  2149.48,87.9763 2150.37,87.9763 2151.27,87.9763 2152.17,87.9763 2153.06,87.9763 2153.96,87.9763 2154.85,87.9763 2155.75,87.9763 2156.64,87.9763 2157.54,87.9763 \n",
       "  2158.44,87.9763 2159.33,87.9763 2160.23,87.9763 2161.12,87.9763 2162.02,87.9763 2162.91,87.9763 2163.81,87.9763 2164.71,87.9763 2165.6,87.9763 2166.5,87.9763 \n",
       "  2167.39,87.9763 2168.29,87.9763 2169.18,87.9763 2170.08,87.9763 2170.98,87.9763 2171.87,87.9763 2172.77,87.9763 2173.66,87.9763 2174.56,87.9763 2175.45,87.9763 \n",
       "  2176.35,87.9763 2177.25,87.9763 2178.14,87.9763 2179.04,87.9763 2179.93,87.9763 2180.83,87.9763 2181.72,87.9763 2182.62,87.9763 2183.52,87.9763 2184.41,87.9763 \n",
       "  2185.31,87.9763 2186.2,87.9763 2187.1,87.9763 2187.99,87.9763 2188.89,87.9763 2189.79,87.9763 2190.68,87.9763 2191.58,87.9763 2192.47,87.9763 2193.37,87.9763 \n",
       "  2194.26,87.9763 2195.16,87.9763 2196.06,87.9763 2196.95,87.9763 2197.85,87.9763 2198.74,87.9763 2199.64,87.9763 2200.54,87.9763 2201.43,87.9763 2202.33,87.9763 \n",
       "  2203.22,87.9763 2204.12,87.9763 2205.01,87.9763 2205.91,87.9763 2206.81,87.9763 2207.7,87.9763 2208.6,87.9763 2209.49,87.9763 2210.39,87.9763 2211.28,87.9763 \n",
       "  2212.18,87.9763 2213.08,87.9763 2213.97,87.9763 2214.87,87.9763 2215.76,87.9763 2216.66,87.9763 2217.55,87.9763 2218.45,87.9763 2219.35,87.9763 2220.24,87.9763 \n",
       "  2221.14,87.9763 2222.03,87.9763 2222.93,87.9763 2223.82,87.9763 2224.72,87.9763 2225.62,87.9763 2226.51,87.9763 2227.41,87.9763 2228.3,87.9763 2229.2,87.9763 \n",
       "  2230.09,87.9763 2230.99,87.9763 2231.89,87.9763 2232.78,87.9763 2233.68,87.9763 2234.57,87.9763 2235.47,87.9763 2236.36,87.9763 2237.26,87.9763 2238.16,87.9763 \n",
       "  2239.05,87.9763 2239.95,87.9763 2240.84,87.9763 2241.74,87.9763 2242.63,87.9763 2243.53,87.9763 2244.43,87.9763 2245.32,87.9763 2246.22,87.9763 2247.11,87.9763 \n",
       "  2248.01,87.9763 2248.9,87.9763 2249.8,87.9763 2250.7,87.9763 2251.59,87.9763 2252.49,87.9763 2253.38,87.9763 2254.28,87.9763 2255.17,87.9763 2256.07,87.9763 \n",
       "  2256.97,87.9763 2257.86,87.9763 2258.76,87.9763 2259.65,87.9763 2260.55,87.9763 2261.44,87.9763 2262.34,87.9763 2263.24,87.9763 2264.13,87.9763 2265.03,87.9763 \n",
       "  2265.92,87.9763 2266.82,87.9763 2267.71,87.9763 2268.61,87.9763 2269.51,87.9763 2270.4,87.9763 2271.3,87.9763 2272.19,87.9763 2273.09,87.9763 2273.99,87.9763 \n",
       "  2274.88,87.9763 2275.78,87.9763 2276.67,87.9763 2277.57,87.9763 2278.46,87.9763 2279.36,87.9763 2280.26,87.9763 2281.15,87.9763 2282.05,87.9763 2282.94,87.9763 \n",
       "  2283.84,87.9763 2284.73,87.9763 2285.63,87.9763 2286.53,87.9763 2287.42,87.9763 2288.32,87.9763 2289.21,87.9763 2290.11,87.9763 2291,87.9763 \n",
       "  \"/>\n",
       "<path clip-path=\"url(#clip810)\" d=\"\n",
       "M1985.16 216.178 L2280.03 216.178 L2280.03 95.2176 L1985.16 95.2176  Z\n",
       "  \" fill=\"#ffffff\" fill-rule=\"evenodd\" fill-opacity=\"1\"/>\n",
       "<polyline clip-path=\"url(#clip810)\" style=\"stroke:#000000; stroke-width:4; stroke-opacity:1; fill:none\" points=\"\n",
       "  1985.16,216.178 2280.03,216.178 2280.03,95.2176 1985.16,95.2176 1985.16,216.178 \n",
       "  \"/>\n",
       "<polyline clip-path=\"url(#clip810)\" style=\"stroke:#009af9; stroke-width:4; stroke-opacity:1; fill:none\" points=\"\n",
       "  2009.41,155.698 2154.87,155.698 \n",
       "  \"/>\n",
       "<path clip-path=\"url(#clip810)\" d=\"M 0 0 M2192.95 175.385 Q2191.15 180.015 2189.43 181.427 Q2187.72 182.839 2184.85 182.839 L2181.45 182.839 L2181.45 179.274 L2183.95 179.274 Q2185.71 179.274 2186.68 178.44 Q2187.65 177.607 2188.83 174.505 L2189.6 172.561 L2179.11 147.052 L2183.62 147.052 L2191.72 167.329 L2199.83 147.052 L2204.34 147.052 L2192.95 175.385 Z\" fill=\"#000000\" fill-rule=\"evenodd\" fill-opacity=\"1\" /><path clip-path=\"url(#clip810)\" d=\"M 0 0 M2211.63 169.042 L2219.27 169.042 L2219.27 142.677 L2210.96 144.343 L2210.96 140.084 L2219.22 138.418 L2223.9 138.418 L2223.9 169.042 L2231.54 169.042 L2231.54 172.978 L2211.63 172.978 L2211.63 169.042 Z\" fill=\"#000000\" fill-rule=\"evenodd\" fill-opacity=\"1\" /></svg>\n"
      ]
     },
     "execution_count": 16,
     "metadata": {},
     "output_type": "execute_result"
    }
   ],
   "source": [
    "fits, parent = one_plus_one(layers, n_gens, play_cartpole)\n",
    "plot(fits)"
   ]
  },
  {
   "cell_type": "markdown",
   "id": "animal-silicon",
   "metadata": {
    "slideshow": {
     "slide_type": "subslide"
    }
   },
   "source": [
    "## 1+$\\lambda$ EA"
   ]
  },
  {
   "cell_type": "code",
   "execution_count": 19,
   "id": "32d7d5d4",
   "metadata": {},
   "outputs": [
    {
     "data": {
      "text/plain": [
       "one_plus_lambda (generic function with 1 method)"
      ]
     },
     "execution_count": 19,
     "metadata": {},
     "output_type": "execute_result"
    }
   ],
   "source": [
    "function one_plus_lambda(layers::Array, num_generations::Int, f::Function, 𝜆::Int)\n",
    "\n",
    "    fits = zeros(num_generations)\n",
    "    expert = Individual(layers::Array)\n",
    "    evaluate!(expert, f)\n",
    "\n",
    "    for i in eachindex(fits)\n",
    "        population = Array{Individual}(undef, 𝜆)\n",
    "        best = 1\n",
    "        for j in eachindex(population)\n",
    "            population[j] = mutate(expert)\n",
    "            evaluate!(population[j], f)\n",
    "            if population[j].fitness > population[best].fitness\n",
    "                best = j\n",
    "            end\n",
    "        end\n",
    "\n",
    "        if population[best].fitness >= expert.fitness\n",
    "            expert = population[best]\n",
    "        end\n",
    "\n",
    "        fits[i] = expert.fitness\n",
    "        print(i, \"/\",  num_generations, \" > \", expert.fitness, \"\\t\\t\\r\")\n",
    "    end\n",
    "    fits, expert\n",
    "end\n"
   ]
  },
  {
   "cell_type": "code",
   "execution_count": 20,
   "id": "41365571",
   "metadata": {
    "slideshow": {
     "slide_type": "subslide"
    }
   },
   "outputs": [
    {
     "data": {
      "text/plain": [
       "460"
      ]
     },
     "execution_count": 20,
     "metadata": {},
     "output_type": "execute_result"
    }
   ],
   "source": [
    "𝜆=5\n",
    "layers = [4, 16, 16, 2]\n",
    "ind = Individual(layers)\n",
    "n = length(ind.genes)\n",
    "n_gens = Int(round(n * log(n) / 𝜆))"
   ]
  },
  {
   "cell_type": "code",
   "execution_count": 31,
   "id": "clinical-illinois",
   "metadata": {
    "slideshow": {
     "slide_type": "-"
    }
   },
   "outputs": [
    {
     "name": "stdout",
     "output_type": "stream",
     "text": [
      "460/460 > 200.0\t\t\r"
     ]
    },
    {
     "data": {
      "image/svg+xml": [
       "<?xml version=\"1.0\" encoding=\"utf-8\"?>\n",
       "<svg xmlns=\"http://www.w3.org/2000/svg\" xmlns:xlink=\"http://www.w3.org/1999/xlink\" width=\"600\" height=\"400\" viewBox=\"0 0 2400 1600\">\n",
       "<defs>\n",
       "  <clipPath id=\"clip900\">\n",
       "    <rect x=\"0\" y=\"0\" width=\"2400\" height=\"1600\"/>\n",
       "  </clipPath>\n",
       "</defs>\n",
       "<path clip-path=\"url(#clip900)\" d=\"\n",
       "M0 1600 L2400 1600 L2400 0 L0 0  Z\n",
       "  \" fill=\"#ffffff\" fill-rule=\"evenodd\" fill-opacity=\"1\"/>\n",
       "<defs>\n",
       "  <clipPath id=\"clip901\">\n",
       "    <rect x=\"480\" y=\"0\" width=\"1681\" height=\"1600\"/>\n",
       "  </clipPath>\n",
       "</defs>\n",
       "<path clip-path=\"url(#clip900)\" d=\"\n",
       "M170.857 1486.45 L2352.76 1486.45 L2352.76 47.2441 L170.857 47.2441  Z\n",
       "  \" fill=\"#ffffff\" fill-rule=\"evenodd\" fill-opacity=\"1\"/>\n",
       "<defs>\n",
       "  <clipPath id=\"clip902\">\n",
       "    <rect x=\"170\" y=\"47\" width=\"2183\" height=\"1440\"/>\n",
       "  </clipPath>\n",
       "</defs>\n",
       "<polyline clip-path=\"url(#clip902)\" style=\"stroke:#000000; stroke-width:2; stroke-opacity:0.1; fill:none\" points=\"\n",
       "  228.125,1486.45 228.125,47.2441 \n",
       "  \"/>\n",
       "<polyline clip-path=\"url(#clip902)\" style=\"stroke:#000000; stroke-width:2; stroke-opacity:0.1; fill:none\" points=\"\n",
       "  676.577,1486.45 676.577,47.2441 \n",
       "  \"/>\n",
       "<polyline clip-path=\"url(#clip902)\" style=\"stroke:#000000; stroke-width:2; stroke-opacity:0.1; fill:none\" points=\"\n",
       "  1125.03,1486.45 1125.03,47.2441 \n",
       "  \"/>\n",
       "<polyline clip-path=\"url(#clip902)\" style=\"stroke:#000000; stroke-width:2; stroke-opacity:0.1; fill:none\" points=\"\n",
       "  1573.48,1486.45 1573.48,47.2441 \n",
       "  \"/>\n",
       "<polyline clip-path=\"url(#clip902)\" style=\"stroke:#000000; stroke-width:2; stroke-opacity:0.1; fill:none\" points=\"\n",
       "  2021.93,1486.45 2021.93,47.2441 \n",
       "  \"/>\n",
       "<polyline clip-path=\"url(#clip900)\" style=\"stroke:#000000; stroke-width:4; stroke-opacity:1; fill:none\" points=\"\n",
       "  170.857,1486.45 2352.76,1486.45 \n",
       "  \"/>\n",
       "<polyline clip-path=\"url(#clip900)\" style=\"stroke:#000000; stroke-width:4; stroke-opacity:1; fill:none\" points=\"\n",
       "  228.125,1486.45 228.125,1469.18 \n",
       "  \"/>\n",
       "<polyline clip-path=\"url(#clip900)\" style=\"stroke:#000000; stroke-width:4; stroke-opacity:1; fill:none\" points=\"\n",
       "  676.577,1486.45 676.577,1469.18 \n",
       "  \"/>\n",
       "<polyline clip-path=\"url(#clip900)\" style=\"stroke:#000000; stroke-width:4; stroke-opacity:1; fill:none\" points=\"\n",
       "  1125.03,1486.45 1125.03,1469.18 \n",
       "  \"/>\n",
       "<polyline clip-path=\"url(#clip900)\" style=\"stroke:#000000; stroke-width:4; stroke-opacity:1; fill:none\" points=\"\n",
       "  1573.48,1486.45 1573.48,1469.18 \n",
       "  \"/>\n",
       "<polyline clip-path=\"url(#clip900)\" style=\"stroke:#000000; stroke-width:4; stroke-opacity:1; fill:none\" points=\"\n",
       "  2021.93,1486.45 2021.93,1469.18 \n",
       "  \"/>\n",
       "<path clip-path=\"url(#clip900)\" d=\"M 0 0 M228.125 1515.64 Q224.514 1515.64 222.685 1519.2 Q220.879 1522.75 220.879 1529.87 Q220.879 1536.98 222.685 1540.55 Q224.514 1544.09 228.125 1544.09 Q231.759 1544.09 233.565 1540.55 Q235.393 1536.98 235.393 1529.87 Q235.393 1522.75 233.565 1519.2 Q231.759 1515.64 228.125 1515.64 M228.125 1511.93 Q233.935 1511.93 236.99 1516.54 Q240.069 1521.12 240.069 1529.87 Q240.069 1538.6 236.99 1543.21 Q233.935 1547.79 228.125 1547.79 Q222.315 1547.79 219.236 1543.21 Q216.18 1538.6 216.18 1529.87 Q216.18 1521.12 219.236 1516.54 Q222.315 1511.93 228.125 1511.93 Z\" fill=\"#000000\" fill-rule=\"evenodd\" fill-opacity=\"1\" /><path clip-path=\"url(#clip900)\" d=\"M 0 0 M636.183 1543.18 L643.822 1543.18 L643.822 1516.82 L635.512 1518.49 L635.512 1514.23 L643.776 1512.56 L648.452 1512.56 L648.452 1543.18 L656.091 1543.18 L656.091 1547.12 L636.183 1547.12 L636.183 1543.18 Z\" fill=\"#000000\" fill-rule=\"evenodd\" fill-opacity=\"1\" /><path clip-path=\"url(#clip900)\" d=\"M 0 0 M675.535 1515.64 Q671.924 1515.64 670.095 1519.2 Q668.29 1522.75 668.29 1529.87 Q668.29 1536.98 670.095 1540.55 Q671.924 1544.09 675.535 1544.09 Q679.169 1544.09 680.975 1540.55 Q682.804 1536.98 682.804 1529.87 Q682.804 1522.75 680.975 1519.2 Q679.169 1515.64 675.535 1515.64 M675.535 1511.93 Q681.345 1511.93 684.401 1516.54 Q687.479 1521.12 687.479 1529.87 Q687.479 1538.6 684.401 1543.21 Q681.345 1547.79 675.535 1547.79 Q669.725 1547.79 666.646 1543.21 Q663.591 1538.6 663.591 1529.87 Q663.591 1521.12 666.646 1516.54 Q669.725 1511.93 675.535 1511.93 Z\" fill=\"#000000\" fill-rule=\"evenodd\" fill-opacity=\"1\" /><path clip-path=\"url(#clip900)\" d=\"M 0 0 M705.697 1515.64 Q702.086 1515.64 700.257 1519.2 Q698.452 1522.75 698.452 1529.87 Q698.452 1536.98 700.257 1540.55 Q702.086 1544.09 705.697 1544.09 Q709.331 1544.09 711.137 1540.55 Q712.965 1536.98 712.965 1529.87 Q712.965 1522.75 711.137 1519.2 Q709.331 1515.64 705.697 1515.64 M705.697 1511.93 Q711.507 1511.93 714.563 1516.54 Q717.641 1521.12 717.641 1529.87 Q717.641 1538.6 714.563 1543.21 Q711.507 1547.79 705.697 1547.79 Q699.887 1547.79 696.808 1543.21 Q693.753 1538.6 693.753 1529.87 Q693.753 1521.12 696.808 1516.54 Q699.887 1511.93 705.697 1511.93 Z\" fill=\"#000000\" fill-rule=\"evenodd\" fill-opacity=\"1\" /><path clip-path=\"url(#clip900)\" d=\"M 0 0 M1088.72 1543.18 L1105.04 1543.18 L1105.04 1547.12 L1083.1 1547.12 L1083.1 1543.18 Q1085.76 1540.43 1090.34 1535.8 Q1094.95 1531.15 1096.13 1529.81 Q1098.37 1527.28 1099.25 1525.55 Q1100.16 1523.79 1100.16 1522.1 Q1100.16 1519.34 1098.21 1517.61 Q1096.29 1515.87 1093.19 1515.87 Q1090.99 1515.87 1088.54 1516.63 Q1086.11 1517.4 1083.33 1518.95 L1083.33 1514.23 Q1086.15 1513.09 1088.61 1512.51 Q1091.06 1511.93 1093.1 1511.93 Q1098.47 1511.93 1101.66 1514.62 Q1104.86 1517.31 1104.86 1521.8 Q1104.86 1523.93 1104.05 1525.85 Q1103.26 1527.74 1101.15 1530.34 Q1100.57 1531.01 1097.47 1534.23 Q1094.37 1537.42 1088.72 1543.18 Z\" fill=\"#000000\" fill-rule=\"evenodd\" fill-opacity=\"1\" /><path clip-path=\"url(#clip900)\" d=\"M 0 0 M1124.86 1515.64 Q1121.24 1515.64 1119.42 1519.2 Q1117.61 1522.75 1117.61 1529.87 Q1117.61 1536.98 1119.42 1540.55 Q1121.24 1544.09 1124.86 1544.09 Q1128.49 1544.09 1130.29 1540.55 Q1132.12 1536.98 1132.12 1529.87 Q1132.12 1522.75 1130.29 1519.2 Q1128.49 1515.64 1124.86 1515.64 M1124.86 1511.93 Q1130.67 1511.93 1133.72 1516.54 Q1136.8 1521.12 1136.8 1529.87 Q1136.8 1538.6 1133.72 1543.21 Q1130.67 1547.79 1124.86 1547.79 Q1119.05 1547.79 1115.97 1543.21 Q1112.91 1538.6 1112.91 1529.87 Q1112.91 1521.12 1115.97 1516.54 Q1119.05 1511.93 1124.86 1511.93 Z\" fill=\"#000000\" fill-rule=\"evenodd\" fill-opacity=\"1\" /><path clip-path=\"url(#clip900)\" d=\"M 0 0 M1155.02 1515.64 Q1151.41 1515.64 1149.58 1519.2 Q1147.77 1522.75 1147.77 1529.87 Q1147.77 1536.98 1149.58 1540.55 Q1151.41 1544.09 1155.02 1544.09 Q1158.65 1544.09 1160.46 1540.55 Q1162.29 1536.98 1162.29 1529.87 Q1162.29 1522.75 1160.46 1519.2 Q1158.65 1515.64 1155.02 1515.64 M1155.02 1511.93 Q1160.83 1511.93 1163.88 1516.54 Q1166.96 1521.12 1166.96 1529.87 Q1166.96 1538.6 1163.88 1543.21 Q1160.83 1547.79 1155.02 1547.79 Q1149.21 1547.79 1146.13 1543.21 Q1143.07 1538.6 1143.07 1529.87 Q1143.07 1521.12 1146.13 1516.54 Q1149.21 1511.93 1155.02 1511.93 Z\" fill=\"#000000\" fill-rule=\"evenodd\" fill-opacity=\"1\" /><path clip-path=\"url(#clip900)\" d=\"M 0 0 M1547.24 1528.49 Q1550.6 1529.2 1552.47 1531.47 Q1554.37 1533.74 1554.37 1537.07 Q1554.37 1542.19 1550.85 1544.99 Q1547.34 1547.79 1540.85 1547.79 Q1538.68 1547.79 1536.36 1547.35 Q1534.07 1546.93 1531.62 1546.08 L1531.62 1541.56 Q1533.56 1542.7 1535.88 1543.28 Q1538.19 1543.86 1540.71 1543.86 Q1545.11 1543.86 1547.4 1542.12 Q1549.72 1540.38 1549.72 1537.07 Q1549.72 1534.02 1547.57 1532.31 Q1545.44 1530.57 1541.62 1530.57 L1537.59 1530.57 L1537.59 1526.73 L1541.8 1526.73 Q1545.25 1526.73 1547.08 1525.36 Q1548.91 1523.97 1548.91 1521.38 Q1548.91 1518.72 1547.01 1517.31 Q1545.14 1515.87 1541.62 1515.87 Q1539.7 1515.87 1537.5 1516.29 Q1535.3 1516.7 1532.66 1517.58 L1532.66 1513.42 Q1535.32 1512.68 1537.64 1512.31 Q1539.97 1511.93 1542.03 1511.93 Q1547.36 1511.93 1550.46 1514.37 Q1553.56 1516.77 1553.56 1520.89 Q1553.56 1523.76 1551.92 1525.75 Q1550.27 1527.72 1547.24 1528.49 Z\" fill=\"#000000\" fill-rule=\"evenodd\" fill-opacity=\"1\" /><path clip-path=\"url(#clip900)\" d=\"M 0 0 M1573.24 1515.64 Q1569.63 1515.64 1567.8 1519.2 Q1565.99 1522.75 1565.99 1529.87 Q1565.99 1536.98 1567.8 1540.55 Q1569.63 1544.09 1573.24 1544.09 Q1576.87 1544.09 1578.68 1540.55 Q1580.51 1536.98 1580.51 1529.87 Q1580.51 1522.75 1578.68 1519.2 Q1576.87 1515.64 1573.24 1515.64 M1573.24 1511.93 Q1579.05 1511.93 1582.1 1516.54 Q1585.18 1521.12 1585.18 1529.87 Q1585.18 1538.6 1582.1 1543.21 Q1579.05 1547.79 1573.24 1547.79 Q1567.43 1547.79 1564.35 1543.21 Q1561.29 1538.6 1561.29 1529.87 Q1561.29 1521.12 1564.35 1516.54 Q1567.43 1511.93 1573.24 1511.93 Z\" fill=\"#000000\" fill-rule=\"evenodd\" fill-opacity=\"1\" /><path clip-path=\"url(#clip900)\" d=\"M 0 0 M1603.4 1515.64 Q1599.79 1515.64 1597.96 1519.2 Q1596.15 1522.75 1596.15 1529.87 Q1596.15 1536.98 1597.96 1540.55 Q1599.79 1544.09 1603.4 1544.09 Q1607.03 1544.09 1608.84 1540.55 Q1610.67 1536.98 1610.67 1529.87 Q1610.67 1522.75 1608.84 1519.2 Q1607.03 1515.64 1603.4 1515.64 M1603.4 1511.93 Q1609.21 1511.93 1612.27 1516.54 Q1615.34 1521.12 1615.34 1529.87 Q1615.34 1538.6 1612.27 1543.21 Q1609.21 1547.79 1603.4 1547.79 Q1597.59 1547.79 1594.51 1543.21 Q1591.46 1538.6 1591.46 1529.87 Q1591.46 1521.12 1594.51 1516.54 Q1597.59 1511.93 1603.4 1511.93 Z\" fill=\"#000000\" fill-rule=\"evenodd\" fill-opacity=\"1\" /><path clip-path=\"url(#clip900)\" d=\"M 0 0 M1995.02 1516.63 L1983.22 1535.08 L1995.02 1535.08 L1995.02 1516.63 M1993.8 1512.56 L1999.68 1512.56 L1999.68 1535.08 L2004.61 1535.08 L2004.61 1538.97 L1999.68 1538.97 L1999.68 1547.12 L1995.02 1547.12 L1995.02 1538.97 L1979.42 1538.97 L1979.42 1534.46 L1993.8 1512.56 Z\" fill=\"#000000\" fill-rule=\"evenodd\" fill-opacity=\"1\" /><path clip-path=\"url(#clip900)\" d=\"M 0 0 M2022.34 1515.64 Q2018.73 1515.64 2016.9 1519.2 Q2015.09 1522.75 2015.09 1529.87 Q2015.09 1536.98 2016.9 1540.55 Q2018.73 1544.09 2022.34 1544.09 Q2025.97 1544.09 2027.78 1540.55 Q2029.61 1536.98 2029.61 1529.87 Q2029.61 1522.75 2027.78 1519.2 Q2025.97 1515.64 2022.34 1515.64 M2022.34 1511.93 Q2028.15 1511.93 2031.2 1516.54 Q2034.28 1521.12 2034.28 1529.87 Q2034.28 1538.6 2031.2 1543.21 Q2028.15 1547.79 2022.34 1547.79 Q2016.53 1547.79 2013.45 1543.21 Q2010.39 1538.6 2010.39 1529.87 Q2010.39 1521.12 2013.45 1516.54 Q2016.53 1511.93 2022.34 1511.93 Z\" fill=\"#000000\" fill-rule=\"evenodd\" fill-opacity=\"1\" /><path clip-path=\"url(#clip900)\" d=\"M 0 0 M2052.5 1515.64 Q2048.89 1515.64 2047.06 1519.2 Q2045.25 1522.75 2045.25 1529.87 Q2045.25 1536.98 2047.06 1540.55 Q2048.89 1544.09 2052.5 1544.09 Q2056.13 1544.09 2057.94 1540.55 Q2059.77 1536.98 2059.77 1529.87 Q2059.77 1522.75 2057.94 1519.2 Q2056.13 1515.64 2052.5 1515.64 M2052.5 1511.93 Q2058.31 1511.93 2061.37 1516.54 Q2064.44 1521.12 2064.44 1529.87 Q2064.44 1538.6 2061.37 1543.21 Q2058.31 1547.79 2052.5 1547.79 Q2046.69 1547.79 2043.61 1543.21 Q2040.56 1538.6 2040.56 1529.87 Q2040.56 1521.12 2043.61 1516.54 Q2046.69 1511.93 2052.5 1511.93 Z\" fill=\"#000000\" fill-rule=\"evenodd\" fill-opacity=\"1\" /><polyline clip-path=\"url(#clip902)\" style=\"stroke:#000000; stroke-width:2; stroke-opacity:0.1; fill:none\" points=\"\n",
       "  170.857,1159.88 2352.76,1159.88 \n",
       "  \"/>\n",
       "<polyline clip-path=\"url(#clip902)\" style=\"stroke:#000000; stroke-width:2; stroke-opacity:0.1; fill:none\" points=\"\n",
       "  170.857,802.576 2352.76,802.576 \n",
       "  \"/>\n",
       "<polyline clip-path=\"url(#clip902)\" style=\"stroke:#000000; stroke-width:2; stroke-opacity:0.1; fill:none\" points=\"\n",
       "  170.857,445.276 2352.76,445.276 \n",
       "  \"/>\n",
       "<polyline clip-path=\"url(#clip902)\" style=\"stroke:#000000; stroke-width:2; stroke-opacity:0.1; fill:none\" points=\"\n",
       "  170.857,87.9763 2352.76,87.9763 \n",
       "  \"/>\n",
       "<polyline clip-path=\"url(#clip900)\" style=\"stroke:#000000; stroke-width:4; stroke-opacity:1; fill:none\" points=\"\n",
       "  170.857,1486.45 170.857,47.2441 \n",
       "  \"/>\n",
       "<polyline clip-path=\"url(#clip900)\" style=\"stroke:#000000; stroke-width:4; stroke-opacity:1; fill:none\" points=\"\n",
       "  170.857,1159.88 197.04,1159.88 \n",
       "  \"/>\n",
       "<polyline clip-path=\"url(#clip900)\" style=\"stroke:#000000; stroke-width:4; stroke-opacity:1; fill:none\" points=\"\n",
       "  170.857,802.576 197.04,802.576 \n",
       "  \"/>\n",
       "<polyline clip-path=\"url(#clip900)\" style=\"stroke:#000000; stroke-width:4; stroke-opacity:1; fill:none\" points=\"\n",
       "  170.857,445.276 197.04,445.276 \n",
       "  \"/>\n",
       "<polyline clip-path=\"url(#clip900)\" style=\"stroke:#000000; stroke-width:4; stroke-opacity:1; fill:none\" points=\"\n",
       "  170.857,87.9763 197.04,87.9763 \n",
       "  \"/>\n",
       "<path clip-path=\"url(#clip900)\" d=\"M 0 0 M82.7975 1142.6 L101.154 1142.6 L101.154 1146.53 L87.0799 1146.53 L87.0799 1155 Q88.0984 1154.66 89.1169 1154.49 Q90.1354 1154.31 91.1539 1154.31 Q96.941 1154.31 100.321 1157.48 Q103.7 1160.65 103.7 1166.07 Q103.7 1171.65 100.228 1174.75 Q96.7558 1177.83 90.4364 1177.83 Q88.2604 1177.83 85.9919 1177.46 Q83.7466 1177.09 81.3392 1176.35 L81.3392 1171.65 Q83.4225 1172.78 85.6447 1173.34 Q87.8669 1173.89 90.3438 1173.89 Q94.3484 1173.89 96.6863 1171.79 Q99.0243 1169.68 99.0243 1166.07 Q99.0243 1162.46 96.6863 1160.35 Q94.3484 1158.24 90.3438 1158.24 Q88.4688 1158.24 86.5938 1158.66 Q84.7419 1159.08 82.7975 1159.96 L82.7975 1142.6 Z\" fill=\"#000000\" fill-rule=\"evenodd\" fill-opacity=\"1\" /><path clip-path=\"url(#clip900)\" d=\"M 0 0 M122.913 1145.67 Q119.302 1145.67 117.473 1149.24 Q115.668 1152.78 115.668 1159.91 Q115.668 1167.02 117.473 1170.58 Q119.302 1174.12 122.913 1174.12 Q126.547 1174.12 128.353 1170.58 Q130.182 1167.02 130.182 1159.91 Q130.182 1152.78 128.353 1149.24 Q126.547 1145.67 122.913 1145.67 M122.913 1141.97 Q128.723 1141.97 131.779 1146.58 Q134.857 1151.16 134.857 1159.91 Q134.857 1168.64 131.779 1173.24 Q128.723 1177.83 122.913 1177.83 Q117.103 1177.83 114.024 1173.24 Q110.969 1168.64 110.969 1159.91 Q110.969 1151.16 114.024 1146.58 Q117.103 1141.97 122.913 1141.97 Z\" fill=\"#000000\" fill-rule=\"evenodd\" fill-opacity=\"1\" /><path clip-path=\"url(#clip900)\" d=\"M 0 0 M53.3995 815.921 L61.0384 815.921 L61.0384 789.555 L52.7282 791.222 L52.7282 786.963 L60.9921 785.296 L65.668 785.296 L65.668 815.921 L73.3068 815.921 L73.3068 819.856 L53.3995 819.856 L53.3995 815.921 Z\" fill=\"#000000\" fill-rule=\"evenodd\" fill-opacity=\"1\" /><path clip-path=\"url(#clip900)\" d=\"M 0 0 M92.7512 788.375 Q89.1401 788.375 87.3114 791.939 Q85.5058 795.481 85.5058 802.611 Q85.5058 809.717 87.3114 813.282 Q89.1401 816.824 92.7512 816.824 Q96.3854 816.824 98.1909 813.282 Q100.02 809.717 100.02 802.611 Q100.02 795.481 98.1909 791.939 Q96.3854 788.375 92.7512 788.375 M92.7512 784.671 Q98.5613 784.671 101.617 789.277 Q104.696 793.861 104.696 802.611 Q104.696 811.337 101.617 815.944 Q98.5613 820.527 92.7512 820.527 Q86.941 820.527 83.8623 815.944 Q80.8068 811.337 80.8068 802.611 Q80.8068 793.861 83.8623 789.277 Q86.941 784.671 92.7512 784.671 Z\" fill=\"#000000\" fill-rule=\"evenodd\" fill-opacity=\"1\" /><path clip-path=\"url(#clip900)\" d=\"M 0 0 M122.913 788.375 Q119.302 788.375 117.473 791.939 Q115.668 795.481 115.668 802.611 Q115.668 809.717 117.473 813.282 Q119.302 816.824 122.913 816.824 Q126.547 816.824 128.353 813.282 Q130.182 809.717 130.182 802.611 Q130.182 795.481 128.353 791.939 Q126.547 788.375 122.913 788.375 M122.913 784.671 Q128.723 784.671 131.779 789.277 Q134.857 793.861 134.857 802.611 Q134.857 811.337 131.779 815.944 Q128.723 820.527 122.913 820.527 Q117.103 820.527 114.024 815.944 Q110.969 811.337 110.969 802.611 Q110.969 793.861 114.024 789.277 Q117.103 784.671 122.913 784.671 Z\" fill=\"#000000\" fill-rule=\"evenodd\" fill-opacity=\"1\" /><path clip-path=\"url(#clip900)\" d=\"M 0 0 M53.3995 458.621 L61.0384 458.621 L61.0384 432.255 L52.7282 433.922 L52.7282 429.663 L60.9921 427.996 L65.668 427.996 L65.668 458.621 L73.3068 458.621 L73.3068 462.556 L53.3995 462.556 L53.3995 458.621 Z\" fill=\"#000000\" fill-rule=\"evenodd\" fill-opacity=\"1\" /><path clip-path=\"url(#clip900)\" d=\"M 0 0 M82.7975 427.996 L101.154 427.996 L101.154 431.931 L87.0799 431.931 L87.0799 440.403 Q88.0984 440.056 89.1169 439.894 Q90.1354 439.709 91.1539 439.709 Q96.941 439.709 100.321 442.88 Q103.7 446.052 103.7 451.468 Q103.7 457.047 100.228 460.149 Q96.7558 463.227 90.4364 463.227 Q88.2604 463.227 85.9919 462.857 Q83.7466 462.487 81.3392 461.746 L81.3392 457.047 Q83.4225 458.181 85.6447 458.737 Q87.8669 459.292 90.3438 459.292 Q94.3484 459.292 96.6863 457.186 Q99.0243 455.079 99.0243 451.468 Q99.0243 447.857 96.6863 445.751 Q94.3484 443.644 90.3438 443.644 Q88.4688 443.644 86.5938 444.061 Q84.7419 444.478 82.7975 445.357 L82.7975 427.996 Z\" fill=\"#000000\" fill-rule=\"evenodd\" fill-opacity=\"1\" /><path clip-path=\"url(#clip900)\" d=\"M 0 0 M122.913 431.075 Q119.302 431.075 117.473 434.64 Q115.668 438.181 115.668 445.311 Q115.668 452.417 117.473 455.982 Q119.302 459.524 122.913 459.524 Q126.547 459.524 128.353 455.982 Q130.182 452.417 130.182 445.311 Q130.182 438.181 128.353 434.64 Q126.547 431.075 122.913 431.075 M122.913 427.371 Q128.723 427.371 131.779 431.978 Q134.857 436.561 134.857 445.311 Q134.857 454.038 131.779 458.644 Q128.723 463.227 122.913 463.227 Q117.103 463.227 114.024 458.644 Q110.969 454.038 110.969 445.311 Q110.969 436.561 114.024 431.978 Q117.103 427.371 122.913 427.371 Z\" fill=\"#000000\" fill-rule=\"evenodd\" fill-opacity=\"1\" /><path clip-path=\"url(#clip900)\" d=\"M 0 0 M56.6171 101.321 L72.9365 101.321 L72.9365 105.256 L50.9921 105.256 L50.9921 101.321 Q53.6541 98.5665 58.2375 93.9369 Q62.8439 89.2841 64.0245 87.9416 Q66.2698 85.4184 67.1494 83.6823 Q68.0522 81.9231 68.0522 80.2333 Q68.0522 77.4786 66.1078 75.7425 Q64.1865 74.0064 61.0847 74.0064 Q58.8856 74.0064 56.4319 74.7703 Q54.0014 75.5342 51.2236 77.0851 L51.2236 72.3629 Q54.0477 71.2287 56.5014 70.65 Q58.955 70.0713 60.9921 70.0713 Q66.3624 70.0713 69.5568 72.7565 Q72.7513 75.4416 72.7513 79.9323 Q72.7513 82.062 71.9411 83.9832 Q71.1541 85.8814 69.0476 88.474 Q68.4689 89.1453 65.367 92.3628 Q62.2652 95.5573 56.6171 101.321 Z\" fill=\"#000000\" fill-rule=\"evenodd\" fill-opacity=\"1\" /><path clip-path=\"url(#clip900)\" d=\"M 0 0 M92.7512 73.775 Q89.1401 73.775 87.3114 77.3398 Q85.5058 80.8814 85.5058 88.011 Q85.5058 95.1174 87.3114 98.6822 Q89.1401 102.224 92.7512 102.224 Q96.3854 102.224 98.1909 98.6822 Q100.02 95.1174 100.02 88.011 Q100.02 80.8814 98.1909 77.3398 Q96.3854 73.775 92.7512 73.775 M92.7512 70.0713 Q98.5613 70.0713 101.617 74.6777 Q104.696 79.261 104.696 88.011 Q104.696 96.7378 101.617 101.344 Q98.5613 105.928 92.7512 105.928 Q86.941 105.928 83.8623 101.344 Q80.8068 96.7378 80.8068 88.011 Q80.8068 79.261 83.8623 74.6777 Q86.941 70.0713 92.7512 70.0713 Z\" fill=\"#000000\" fill-rule=\"evenodd\" fill-opacity=\"1\" /><path clip-path=\"url(#clip900)\" d=\"M 0 0 M122.913 73.775 Q119.302 73.775 117.473 77.3398 Q115.668 80.8814 115.668 88.011 Q115.668 95.1174 117.473 98.6822 Q119.302 102.224 122.913 102.224 Q126.547 102.224 128.353 98.6822 Q130.182 95.1174 130.182 88.011 Q130.182 80.8814 128.353 77.3398 Q126.547 73.775 122.913 73.775 M122.913 70.0713 Q128.723 70.0713 131.779 74.6777 Q134.857 79.261 134.857 88.011 Q134.857 96.7378 131.779 101.344 Q128.723 105.928 122.913 105.928 Q117.103 105.928 114.024 101.344 Q110.969 96.7378 110.969 88.011 Q110.969 79.261 114.024 74.6777 Q117.103 70.0713 122.913 70.0713 Z\" fill=\"#000000\" fill-rule=\"evenodd\" fill-opacity=\"1\" /><polyline clip-path=\"url(#clip902)\" style=\"stroke:#009af9; stroke-width:4; stroke-opacity:1; fill:none\" points=\"\n",
       "  232.609,1445.72 237.094,1445.72 241.578,1445.72 246.063,1445.72 250.547,1445.72 255.032,1445.72 259.516,1445.72 264.001,1445.72 268.485,1445.72 272.97,1445.72 \n",
       "  277.454,1445.72 281.939,1445.72 286.424,1445.72 290.908,1445.72 295.393,1445.72 299.877,1445.72 304.362,1445.72 308.846,1445.72 313.331,1445.72 317.815,1445.72 \n",
       "  322.3,1445.72 326.784,1445.72 331.269,1445.72 335.753,1445.72 340.238,1445.72 344.722,1445.72 349.207,1445.72 353.691,1445.72 358.176,1445.72 362.66,1445.72 \n",
       "  367.145,1445.72 371.629,1445.72 376.114,1445.72 380.598,1445.72 385.083,1445.72 389.567,1445.72 394.052,1445.72 398.537,1445.72 403.021,1445.72 407.506,1445.72 \n",
       "  411.99,1445.72 416.475,1445.72 420.959,1445.72 425.444,1445.72 429.928,1445.72 434.413,1445.72 438.897,1445.72 443.382,1445.72 447.866,1445.72 452.351,1445.72 \n",
       "  456.835,1445.72 461.32,1445.72 465.804,1445.72 470.289,1445.72 474.773,1445.72 479.258,1445.72 483.742,1445.72 488.227,1445.72 492.711,1445.72 497.196,1445.72 \n",
       "  501.68,1445.72 506.165,1445.72 510.65,1445.72 515.134,1445.72 519.619,1445.72 524.103,1445.72 528.588,1445.72 533.072,1445.72 537.557,1445.72 542.041,1445.72 \n",
       "  546.526,1445.72 551.01,1445.72 555.495,1445.72 559.979,1445.72 564.464,1445.72 568.948,1445.72 573.433,1445.72 577.917,1445.72 582.402,1445.72 586.886,1445.72 \n",
       "  591.371,1445.72 595.855,1445.72 600.34,1445.72 604.824,1445.72 609.309,1445.72 613.793,1445.72 618.278,1445.72 622.763,1445.72 627.247,1445.72 631.732,1445.72 \n",
       "  636.216,1445.72 640.701,1445.72 645.185,1445.72 649.67,1445.72 654.154,1445.72 658.639,1445.72 663.123,1445.72 667.608,1445.72 672.092,1445.72 676.577,1445.72 \n",
       "  681.061,1445.72 685.546,1445.72 690.03,1445.72 694.515,1445.72 698.999,1445.72 703.484,1445.72 707.968,1445.72 712.453,1445.72 716.937,1445.72 721.422,1445.72 \n",
       "  725.906,1445.72 730.391,1445.72 734.876,1445.72 739.36,1445.72 743.845,1445.72 748.329,1445.72 752.814,1445.72 757.298,1445.72 761.783,1445.72 766.267,1445.72 \n",
       "  770.752,1445.72 775.236,1445.72 779.721,1445.72 784.205,1445.72 788.69,1445.72 793.174,1445.72 797.659,1445.72 802.143,1445.72 806.628,1445.72 811.112,1445.72 \n",
       "  815.597,1445.72 820.081,1445.72 824.566,1445.72 829.05,1445.72 833.535,1445.72 838.019,1445.72 842.504,1445.72 846.989,1445.72 851.473,1445.72 855.958,1445.72 \n",
       "  860.442,1445.72 864.927,1445.72 869.411,1445.72 873.896,1445.72 878.38,1445.72 882.865,1445.72 887.349,1445.72 891.834,1445.72 896.318,1445.72 900.803,1445.72 \n",
       "  905.287,1445.72 909.772,1445.72 914.256,1445.72 918.741,1445.72 923.225,1445.72 927.71,1445.72 932.194,1445.72 936.679,1445.72 941.163,1445.72 945.648,1445.72 \n",
       "  950.133,1445.72 954.617,1445.72 959.102,1445.72 963.586,1445.72 968.071,1445.72 972.555,1445.72 977.04,1445.72 981.524,1445.72 986.009,1445.72 990.493,1445.72 \n",
       "  994.978,1445.72 999.462,1445.72 1003.95,1445.72 1008.43,1445.72 1012.92,1445.72 1017.4,1445.72 1021.88,1445.72 1026.37,1445.72 1030.85,1445.72 1035.34,1445.72 \n",
       "  1039.82,1445.72 1044.31,1445.72 1048.79,1445.72 1053.28,1445.72 1057.76,1445.72 1062.25,1445.72 1066.73,1445.72 1071.21,1445.72 1075.7,1445.72 1080.18,1445.72 \n",
       "  1084.67,1445.72 1089.15,1445.72 1093.64,1445.72 1098.12,1445.72 1102.61,1445.72 1107.09,1445.72 1111.58,1445.72 1116.06,1445.72 1120.54,1445.72 1125.03,1445.72 \n",
       "  1129.51,1445.72 1134,1445.72 1138.48,1445.72 1142.97,1445.72 1147.45,1445.72 1151.94,1445.72 1156.42,1445.72 1160.9,1445.72 1165.39,1445.72 1169.87,1445.72 \n",
       "  1174.36,1445.72 1178.84,1445.72 1183.33,1445.72 1187.81,1445.72 1192.3,1445.72 1196.78,1445.72 1201.27,1445.72 1205.75,1445.72 1210.23,1445.72 1214.72,1445.72 \n",
       "  1219.2,1302.8 1223.69,1302.8 1228.17,1302.8 1232.66,1295.65 1237.14,1145.58 1241.63,1145.58 1246.11,1124.15 1250.6,1117 1255.08,1117 1259.56,616.78 \n",
       "  1264.05,616.78 1268.53,152.29 1273.02,87.9763 1277.5,87.9763 1281.99,87.9763 1286.47,87.9763 1290.96,87.9763 1295.44,87.9763 1299.93,87.9763 1304.41,87.9763 \n",
       "  1308.89,87.9763 1313.38,87.9763 1317.86,87.9763 1322.35,87.9763 1326.83,87.9763 1331.32,87.9763 1335.8,87.9763 1340.29,87.9763 1344.77,87.9763 1349.25,87.9763 \n",
       "  1353.74,87.9763 1358.22,87.9763 1362.71,87.9763 1367.19,87.9763 1371.68,87.9763 1376.16,87.9763 1380.65,87.9763 1385.13,87.9763 1389.62,87.9763 1394.1,87.9763 \n",
       "  1398.58,87.9763 1403.07,87.9763 1407.55,87.9763 1412.04,87.9763 1416.52,87.9763 1421.01,87.9763 1425.49,87.9763 1429.98,87.9763 1434.46,87.9763 1438.95,87.9763 \n",
       "  1443.43,87.9763 1447.91,87.9763 1452.4,87.9763 1456.88,87.9763 1461.37,87.9763 1465.85,87.9763 1470.34,87.9763 1474.82,87.9763 1479.31,87.9763 1483.79,87.9763 \n",
       "  1488.27,87.9763 1492.76,87.9763 1497.24,87.9763 1501.73,87.9763 1506.21,87.9763 1510.7,87.9763 1515.18,87.9763 1519.67,87.9763 1524.15,87.9763 1528.64,87.9763 \n",
       "  1533.12,87.9763 1537.6,87.9763 1542.09,87.9763 1546.57,87.9763 1551.06,87.9763 1555.54,87.9763 1560.03,87.9763 1564.51,87.9763 1569,87.9763 1573.48,87.9763 \n",
       "  1577.97,87.9763 1582.45,87.9763 1586.93,87.9763 1591.42,87.9763 1595.9,87.9763 1600.39,87.9763 1604.87,87.9763 1609.36,87.9763 1613.84,87.9763 1618.33,87.9763 \n",
       "  1622.81,87.9763 1627.3,87.9763 1631.78,87.9763 1636.26,87.9763 1640.75,87.9763 1645.23,87.9763 1649.72,87.9763 1654.2,87.9763 1658.69,87.9763 1663.17,87.9763 \n",
       "  1667.66,87.9763 1672.14,87.9763 1676.62,87.9763 1681.11,87.9763 1685.59,87.9763 1690.08,87.9763 1694.56,87.9763 1699.05,87.9763 1703.53,87.9763 1708.02,87.9763 \n",
       "  1712.5,87.9763 1716.99,87.9763 1721.47,87.9763 1725.95,87.9763 1730.44,87.9763 1734.92,87.9763 1739.41,87.9763 1743.89,87.9763 1748.38,87.9763 1752.86,87.9763 \n",
       "  1757.35,87.9763 1761.83,87.9763 1766.32,87.9763 1770.8,87.9763 1775.28,87.9763 1779.77,87.9763 1784.25,87.9763 1788.74,87.9763 1793.22,87.9763 1797.71,87.9763 \n",
       "  1802.19,87.9763 1806.68,87.9763 1811.16,87.9763 1815.64,87.9763 1820.13,87.9763 1824.61,87.9763 1829.1,87.9763 1833.58,87.9763 1838.07,87.9763 1842.55,87.9763 \n",
       "  1847.04,87.9763 1851.52,87.9763 1856.01,87.9763 1860.49,87.9763 1864.97,87.9763 1869.46,87.9763 1873.94,87.9763 1878.43,87.9763 1882.91,87.9763 1887.4,87.9763 \n",
       "  1891.88,87.9763 1896.37,87.9763 1900.85,87.9763 1905.34,87.9763 1909.82,87.9763 1914.3,87.9763 1918.79,87.9763 1923.27,87.9763 1927.76,87.9763 1932.24,87.9763 \n",
       "  1936.73,87.9763 1941.21,87.9763 1945.7,87.9763 1950.18,87.9763 1954.67,87.9763 1959.15,87.9763 1963.63,87.9763 1968.12,87.9763 1972.6,87.9763 1977.09,87.9763 \n",
       "  1981.57,87.9763 1986.06,87.9763 1990.54,87.9763 1995.03,87.9763 1999.51,87.9763 2003.99,87.9763 2008.48,87.9763 2012.96,87.9763 2017.45,87.9763 2021.93,87.9763 \n",
       "  2026.42,87.9763 2030.9,87.9763 2035.39,87.9763 2039.87,87.9763 2044.36,87.9763 2048.84,87.9763 2053.32,87.9763 2057.81,87.9763 2062.29,87.9763 2066.78,87.9763 \n",
       "  2071.26,87.9763 2075.75,87.9763 2080.23,87.9763 2084.72,87.9763 2089.2,87.9763 2093.69,87.9763 2098.17,87.9763 2102.65,87.9763 2107.14,87.9763 2111.62,87.9763 \n",
       "  2116.11,87.9763 2120.59,87.9763 2125.08,87.9763 2129.56,87.9763 2134.05,87.9763 2138.53,87.9763 2143.01,87.9763 2147.5,87.9763 2151.98,87.9763 2156.47,87.9763 \n",
       "  2160.95,87.9763 2165.44,87.9763 2169.92,87.9763 2174.41,87.9763 2178.89,87.9763 2183.38,87.9763 2187.86,87.9763 2192.34,87.9763 2196.83,87.9763 2201.31,87.9763 \n",
       "  2205.8,87.9763 2210.28,87.9763 2214.77,87.9763 2219.25,87.9763 2223.74,87.9763 2228.22,87.9763 2232.71,87.9763 2237.19,87.9763 2241.67,87.9763 2246.16,87.9763 \n",
       "  2250.64,87.9763 2255.13,87.9763 2259.61,87.9763 2264.1,87.9763 2268.58,87.9763 2273.07,87.9763 2277.55,87.9763 2282.04,87.9763 2286.52,87.9763 2291,87.9763 \n",
       "  \n",
       "  \"/>\n",
       "<path clip-path=\"url(#clip900)\" d=\"\n",
       "M1985.16 216.178 L2280.03 216.178 L2280.03 95.2176 L1985.16 95.2176  Z\n",
       "  \" fill=\"#ffffff\" fill-rule=\"evenodd\" fill-opacity=\"1\"/>\n",
       "<polyline clip-path=\"url(#clip900)\" style=\"stroke:#000000; stroke-width:4; stroke-opacity:1; fill:none\" points=\"\n",
       "  1985.16,216.178 2280.03,216.178 2280.03,95.2176 1985.16,95.2176 1985.16,216.178 \n",
       "  \"/>\n",
       "<polyline clip-path=\"url(#clip900)\" style=\"stroke:#009af9; stroke-width:4; stroke-opacity:1; fill:none\" points=\"\n",
       "  2009.41,155.698 2154.87,155.698 \n",
       "  \"/>\n",
       "<path clip-path=\"url(#clip900)\" d=\"M 0 0 M2192.95 175.385 Q2191.15 180.015 2189.43 181.427 Q2187.72 182.839 2184.85 182.839 L2181.45 182.839 L2181.45 179.274 L2183.95 179.274 Q2185.71 179.274 2186.68 178.44 Q2187.65 177.607 2188.83 174.505 L2189.6 172.561 L2179.11 147.052 L2183.62 147.052 L2191.72 167.329 L2199.83 147.052 L2204.34 147.052 L2192.95 175.385 Z\" fill=\"#000000\" fill-rule=\"evenodd\" fill-opacity=\"1\" /><path clip-path=\"url(#clip900)\" d=\"M 0 0 M2211.63 169.042 L2219.27 169.042 L2219.27 142.677 L2210.96 144.343 L2210.96 140.084 L2219.22 138.418 L2223.9 138.418 L2223.9 169.042 L2231.54 169.042 L2231.54 172.978 L2211.63 172.978 L2211.63 169.042 Z\" fill=\"#000000\" fill-rule=\"evenodd\" fill-opacity=\"1\" /></svg>\n"
      ]
     },
     "execution_count": 31,
     "metadata": {},
     "output_type": "execute_result"
    }
   ],
   "source": [
    "fits, expert = one_plus_lambda(layers, n_gens, play_cartpole, 𝜆)\n",
    "plot(fits)"
   ]
  },
  {
   "cell_type": "markdown",
   "id": "marked-monthly",
   "metadata": {
    "slideshow": {
     "slide_type": "slide"
    }
   },
   "source": [
    "## Evolutionary Strategies"
   ]
  },
  {
   "cell_type": "code",
   "execution_count": 26,
   "id": "pressing-counter",
   "metadata": {},
   "outputs": [
    {
     "data": {
      "text/plain": [
       "ES (generic function with 4 methods)"
      ]
     },
     "execution_count": 26,
     "metadata": {},
     "output_type": "execute_result"
    }
   ],
   "source": [
    "using Statistics\n",
    "using LinearAlgebra\n",
    "\n",
    "function ES(layers::Array, num_generations::Int, f::Function, npop::Int=50, sigma=0.5, alpha=0.01)\n",
    "    µ = Individual(layers::Array) # Center\n",
    "    n = length(µ.genes)\n",
    "    evaluate!(µ, f)\n",
    "\n",
    "    expert = µ # Best individual so far\n",
    "\n",
    "    fits = zeros(num_generations)\n",
    "\n",
    "    for i in eachindex(fits)\n",
    "        population = Array{Individual}(undef, 𝜆)\n",
    "        best = 1\n",
    "        for j in eachindex(population)\n",
    "            new_genes = expert.genes + randn(n) .* sigma\n",
    "            population[j] = Individual(layers, new_genes)\n",
    "            evaluate!(population[j], f)\n",
    "            if population[j].fitness > population[best].fitness\n",
    "                best = j\n",
    "            end\n",
    "        end\n",
    "\n",
    "        if population[best].fitness >= expert.fitness\n",
    "            expert = population[best]\n",
    "        end\n",
    "\n",
    "        fits[i] = expert.fitness\n",
    "\n",
    "        # TODO: µ update\n",
    "\n",
    "        print(i, \"/\",  num_generations, \" > \", expert.fitness, \"\\t\\t\\r\")\n",
    "    end\n",
    "    fits, expert\n",
    "end\n"
   ]
  },
  {
   "cell_type": "code",
   "execution_count": 5,
   "id": "c90b71d0",
   "metadata": {},
   "outputs": [],
   "source": [
    "## Uncomment and run the next line to load a solution \n",
    "# IJulia.load(\"solutions/es.jl\") "
   ]
  },
  {
   "cell_type": "code",
   "execution_count": 27,
   "id": "superb-sequence",
   "metadata": {
    "slideshow": {
     "slide_type": "subslide"
    }
   },
   "outputs": [
    {
     "data": {
      "text/plain": [
       "386"
      ]
     },
     "execution_count": 27,
     "metadata": {},
     "output_type": "execute_result"
    }
   ],
   "source": [
    "layers = [4, 16, 16, 2]\n",
    "ind = Individual(layers)\n",
    "n = length(ind.genes)"
   ]
  },
  {
   "cell_type": "code",
   "execution_count": 28,
   "id": "personalized-future",
   "metadata": {},
   "outputs": [
    {
     "name": "stdout",
     "output_type": "stream",
     "text": [
      "50/50 > 200.0\t\t\r"
     ]
    },
    {
     "data": {
      "image/svg+xml": [
       "<?xml version=\"1.0\" encoding=\"utf-8\"?>\n",
       "<svg xmlns=\"http://www.w3.org/2000/svg\" xmlns:xlink=\"http://www.w3.org/1999/xlink\" width=\"600\" height=\"400\" viewBox=\"0 0 2400 1600\">\n",
       "<defs>\n",
       "  <clipPath id=\"clip930\">\n",
       "    <rect x=\"0\" y=\"0\" width=\"2400\" height=\"1600\"/>\n",
       "  </clipPath>\n",
       "</defs>\n",
       "<path clip-path=\"url(#clip930)\" d=\"\n",
       "M0 1600 L2400 1600 L2400 0 L0 0  Z\n",
       "  \" fill=\"#ffffff\" fill-rule=\"evenodd\" fill-opacity=\"1\"/>\n",
       "<defs>\n",
       "  <clipPath id=\"clip931\">\n",
       "    <rect x=\"480\" y=\"0\" width=\"1681\" height=\"1600\"/>\n",
       "  </clipPath>\n",
       "</defs>\n",
       "<path clip-path=\"url(#clip930)\" d=\"\n",
       "M169.121 1486.45 L2352.76 1486.45 L2352.76 47.2441 L169.121 47.2441  Z\n",
       "  \" fill=\"#ffffff\" fill-rule=\"evenodd\" fill-opacity=\"1\"/>\n",
       "<defs>\n",
       "  <clipPath id=\"clip932\">\n",
       "    <rect x=\"169\" y=\"47\" width=\"2185\" height=\"1440\"/>\n",
       "  </clipPath>\n",
       "</defs>\n",
       "<polyline clip-path=\"url(#clip932)\" style=\"stroke:#000000; stroke-width:2; stroke-opacity:0.1; fill:none\" points=\"\n",
       "  188.881,1486.45 188.881,47.2441 \n",
       "  \"/>\n",
       "<polyline clip-path=\"url(#clip932)\" style=\"stroke:#000000; stroke-width:2; stroke-opacity:0.1; fill:none\" points=\"\n",
       "  609.296,1486.45 609.296,47.2441 \n",
       "  \"/>\n",
       "<polyline clip-path=\"url(#clip932)\" style=\"stroke:#000000; stroke-width:2; stroke-opacity:0.1; fill:none\" points=\"\n",
       "  1029.71,1486.45 1029.71,47.2441 \n",
       "  \"/>\n",
       "<polyline clip-path=\"url(#clip932)\" style=\"stroke:#000000; stroke-width:2; stroke-opacity:0.1; fill:none\" points=\"\n",
       "  1450.13,1486.45 1450.13,47.2441 \n",
       "  \"/>\n",
       "<polyline clip-path=\"url(#clip932)\" style=\"stroke:#000000; stroke-width:2; stroke-opacity:0.1; fill:none\" points=\"\n",
       "  1870.54,1486.45 1870.54,47.2441 \n",
       "  \"/>\n",
       "<polyline clip-path=\"url(#clip932)\" style=\"stroke:#000000; stroke-width:2; stroke-opacity:0.1; fill:none\" points=\"\n",
       "  2290.95,1486.45 2290.95,47.2441 \n",
       "  \"/>\n",
       "<polyline clip-path=\"url(#clip930)\" style=\"stroke:#000000; stroke-width:4; stroke-opacity:1; fill:none\" points=\"\n",
       "  169.121,1486.45 2352.76,1486.45 \n",
       "  \"/>\n",
       "<polyline clip-path=\"url(#clip930)\" style=\"stroke:#000000; stroke-width:4; stroke-opacity:1; fill:none\" points=\"\n",
       "  188.881,1486.45 188.881,1469.18 \n",
       "  \"/>\n",
       "<polyline clip-path=\"url(#clip930)\" style=\"stroke:#000000; stroke-width:4; stroke-opacity:1; fill:none\" points=\"\n",
       "  609.296,1486.45 609.296,1469.18 \n",
       "  \"/>\n",
       "<polyline clip-path=\"url(#clip930)\" style=\"stroke:#000000; stroke-width:4; stroke-opacity:1; fill:none\" points=\"\n",
       "  1029.71,1486.45 1029.71,1469.18 \n",
       "  \"/>\n",
       "<polyline clip-path=\"url(#clip930)\" style=\"stroke:#000000; stroke-width:4; stroke-opacity:1; fill:none\" points=\"\n",
       "  1450.13,1486.45 1450.13,1469.18 \n",
       "  \"/>\n",
       "<polyline clip-path=\"url(#clip930)\" style=\"stroke:#000000; stroke-width:4; stroke-opacity:1; fill:none\" points=\"\n",
       "  1870.54,1486.45 1870.54,1469.18 \n",
       "  \"/>\n",
       "<polyline clip-path=\"url(#clip930)\" style=\"stroke:#000000; stroke-width:4; stroke-opacity:1; fill:none\" points=\"\n",
       "  2290.95,1486.45 2290.95,1469.18 \n",
       "  \"/>\n",
       "<path clip-path=\"url(#clip930)\" d=\"M 0 0 M188.881 1515.64 Q185.27 1515.64 183.441 1519.2 Q181.635 1522.75 181.635 1529.87 Q181.635 1536.98 183.441 1540.55 Q185.27 1544.09 188.881 1544.09 Q192.515 1544.09 194.321 1540.55 Q196.149 1536.98 196.149 1529.87 Q196.149 1522.75 194.321 1519.2 Q192.515 1515.64 188.881 1515.64 M188.881 1511.93 Q194.691 1511.93 197.747 1516.54 Q200.825 1521.12 200.825 1529.87 Q200.825 1538.6 197.747 1543.21 Q194.691 1547.79 188.881 1547.79 Q183.071 1547.79 179.992 1543.21 Q176.936 1538.6 176.936 1529.87 Q176.936 1521.12 179.992 1516.54 Q183.071 1511.93 188.881 1511.93 Z\" fill=\"#000000\" fill-rule=\"evenodd\" fill-opacity=\"1\" /><path clip-path=\"url(#clip930)\" d=\"M 0 0 M583.983 1543.18 L591.622 1543.18 L591.622 1516.82 L583.312 1518.49 L583.312 1514.23 L591.576 1512.56 L596.252 1512.56 L596.252 1543.18 L603.891 1543.18 L603.891 1547.12 L583.983 1547.12 L583.983 1543.18 Z\" fill=\"#000000\" fill-rule=\"evenodd\" fill-opacity=\"1\" /><path clip-path=\"url(#clip930)\" d=\"M 0 0 M623.335 1515.64 Q619.724 1515.64 617.895 1519.2 Q616.09 1522.75 616.09 1529.87 Q616.09 1536.98 617.895 1540.55 Q619.724 1544.09 623.335 1544.09 Q626.969 1544.09 628.775 1540.55 Q630.603 1536.98 630.603 1529.87 Q630.603 1522.75 628.775 1519.2 Q626.969 1515.64 623.335 1515.64 M623.335 1511.93 Q629.145 1511.93 632.201 1516.54 Q635.279 1521.12 635.279 1529.87 Q635.279 1538.6 632.201 1543.21 Q629.145 1547.79 623.335 1547.79 Q617.525 1547.79 614.446 1543.21 Q611.391 1538.6 611.391 1529.87 Q611.391 1521.12 614.446 1516.54 Q617.525 1511.93 623.335 1511.93 Z\" fill=\"#000000\" fill-rule=\"evenodd\" fill-opacity=\"1\" /><path clip-path=\"url(#clip930)\" d=\"M 0 0 M1008.48 1543.18 L1024.8 1543.18 L1024.8 1547.12 L1002.86 1547.12 L1002.86 1543.18 Q1005.52 1540.43 1010.1 1535.8 Q1014.71 1531.15 1015.89 1529.81 Q1018.14 1527.28 1019.02 1525.55 Q1019.92 1523.79 1019.92 1522.1 Q1019.92 1519.34 1017.97 1517.61 Q1016.05 1515.87 1012.95 1515.87 Q1010.75 1515.87 1008.3 1516.63 Q1005.87 1517.4 1003.09 1518.95 L1003.09 1514.23 Q1005.91 1513.09 1008.37 1512.51 Q1010.82 1511.93 1012.86 1511.93 Q1018.23 1511.93 1021.42 1514.62 Q1024.62 1517.31 1024.62 1521.8 Q1024.62 1523.93 1023.81 1525.85 Q1023.02 1527.74 1020.91 1530.34 Q1020.34 1531.01 1017.23 1534.23 Q1014.13 1537.42 1008.48 1543.18 Z\" fill=\"#000000\" fill-rule=\"evenodd\" fill-opacity=\"1\" /><path clip-path=\"url(#clip930)\" d=\"M 0 0 M1044.62 1515.64 Q1041.01 1515.64 1039.18 1519.2 Q1037.37 1522.75 1037.37 1529.87 Q1037.37 1536.98 1039.18 1540.55 Q1041.01 1544.09 1044.62 1544.09 Q1048.25 1544.09 1050.06 1540.55 Q1051.89 1536.98 1051.89 1529.87 Q1051.89 1522.75 1050.06 1519.2 Q1048.25 1515.64 1044.62 1515.64 M1044.62 1511.93 Q1050.43 1511.93 1053.48 1516.54 Q1056.56 1521.12 1056.56 1529.87 Q1056.56 1538.6 1053.48 1543.21 Q1050.43 1547.79 1044.62 1547.79 Q1038.81 1547.79 1035.73 1543.21 Q1032.67 1538.6 1032.67 1529.87 Q1032.67 1521.12 1035.73 1516.54 Q1038.81 1511.93 1044.62 1511.93 Z\" fill=\"#000000\" fill-rule=\"evenodd\" fill-opacity=\"1\" /><path clip-path=\"url(#clip930)\" d=\"M 0 0 M1438.97 1528.49 Q1442.32 1529.2 1444.2 1531.47 Q1446.1 1533.74 1446.1 1537.07 Q1446.1 1542.19 1442.58 1544.99 Q1439.06 1547.79 1432.58 1547.79 Q1430.4 1547.79 1428.09 1547.35 Q1425.8 1546.93 1423.34 1546.08 L1423.34 1541.56 Q1425.29 1542.7 1427.6 1543.28 Q1429.92 1543.86 1432.44 1543.86 Q1436.84 1543.86 1439.13 1542.12 Q1441.44 1540.38 1441.44 1537.07 Q1441.44 1534.02 1439.29 1532.31 Q1437.16 1530.57 1433.34 1530.57 L1429.32 1530.57 L1429.32 1526.73 L1433.53 1526.73 Q1436.98 1526.73 1438.81 1525.36 Q1440.63 1523.97 1440.63 1521.38 Q1440.63 1518.72 1438.74 1517.31 Q1436.86 1515.87 1433.34 1515.87 Q1431.42 1515.87 1429.22 1516.29 Q1427.02 1516.7 1424.38 1517.58 L1424.38 1513.42 Q1427.05 1512.68 1429.36 1512.31 Q1431.7 1511.93 1433.76 1511.93 Q1439.08 1511.93 1442.19 1514.37 Q1445.29 1516.77 1445.29 1520.89 Q1445.29 1523.76 1443.64 1525.75 Q1442 1527.72 1438.97 1528.49 Z\" fill=\"#000000\" fill-rule=\"evenodd\" fill-opacity=\"1\" /><path clip-path=\"url(#clip930)\" d=\"M 0 0 M1464.96 1515.64 Q1461.35 1515.64 1459.52 1519.2 Q1457.72 1522.75 1457.72 1529.87 Q1457.72 1536.98 1459.52 1540.55 Q1461.35 1544.09 1464.96 1544.09 Q1468.6 1544.09 1470.4 1540.55 Q1472.23 1536.98 1472.23 1529.87 Q1472.23 1522.75 1470.4 1519.2 Q1468.6 1515.64 1464.96 1515.64 M1464.96 1511.93 Q1470.77 1511.93 1473.83 1516.54 Q1476.91 1521.12 1476.91 1529.87 Q1476.91 1538.6 1473.83 1543.21 Q1470.77 1547.79 1464.96 1547.79 Q1459.15 1547.79 1456.07 1543.21 Q1453.02 1538.6 1453.02 1529.87 Q1453.02 1521.12 1456.07 1516.54 Q1459.15 1511.93 1464.96 1511.93 Z\" fill=\"#000000\" fill-rule=\"evenodd\" fill-opacity=\"1\" /><path clip-path=\"url(#clip930)\" d=\"M 0 0 M1858.71 1516.63 L1846.91 1535.08 L1858.71 1535.08 L1858.71 1516.63 M1857.48 1512.56 L1863.36 1512.56 L1863.36 1535.08 L1868.29 1535.08 L1868.29 1538.97 L1863.36 1538.97 L1863.36 1547.12 L1858.71 1547.12 L1858.71 1538.97 L1843.11 1538.97 L1843.11 1534.46 L1857.48 1512.56 Z\" fill=\"#000000\" fill-rule=\"evenodd\" fill-opacity=\"1\" /><path clip-path=\"url(#clip930)\" d=\"M 0 0 M1886.03 1515.64 Q1882.42 1515.64 1880.59 1519.2 Q1878.78 1522.75 1878.78 1529.87 Q1878.78 1536.98 1880.59 1540.55 Q1882.42 1544.09 1886.03 1544.09 Q1889.66 1544.09 1891.47 1540.55 Q1893.29 1536.98 1893.29 1529.87 Q1893.29 1522.75 1891.47 1519.2 Q1889.66 1515.64 1886.03 1515.64 M1886.03 1511.93 Q1891.84 1511.93 1894.89 1516.54 Q1897.97 1521.12 1897.97 1529.87 Q1897.97 1538.6 1894.89 1543.21 Q1891.84 1547.79 1886.03 1547.79 Q1880.22 1547.79 1877.14 1543.21 Q1874.08 1538.6 1874.08 1529.87 Q1874.08 1521.12 1877.14 1516.54 Q1880.22 1511.93 1886.03 1511.93 Z\" fill=\"#000000\" fill-rule=\"evenodd\" fill-opacity=\"1\" /><path clip-path=\"url(#clip930)\" d=\"M 0 0 M2265.65 1512.56 L2284.01 1512.56 L2284.01 1516.5 L2269.94 1516.5 L2269.94 1524.97 Q2270.96 1524.62 2271.97 1524.46 Q2272.99 1524.27 2274.01 1524.27 Q2279.8 1524.27 2283.18 1527.44 Q2286.56 1530.62 2286.56 1536.03 Q2286.56 1541.61 2283.08 1544.71 Q2279.61 1547.79 2273.29 1547.79 Q2271.12 1547.79 2268.85 1547.42 Q2266.6 1547.05 2264.2 1546.31 L2264.2 1541.61 Q2266.28 1542.74 2268.5 1543.3 Q2270.72 1543.86 2273.2 1543.86 Q2277.21 1543.86 2279.54 1541.75 Q2281.88 1539.64 2281.88 1536.03 Q2281.88 1532.42 2279.54 1530.31 Q2277.21 1528.21 2273.2 1528.21 Q2271.33 1528.21 2269.45 1528.62 Q2267.6 1529.04 2265.65 1529.92 L2265.65 1512.56 Z\" fill=\"#000000\" fill-rule=\"evenodd\" fill-opacity=\"1\" /><path clip-path=\"url(#clip930)\" d=\"M 0 0 M2305.77 1515.64 Q2302.16 1515.64 2300.33 1519.2 Q2298.52 1522.75 2298.52 1529.87 Q2298.52 1536.98 2300.33 1540.55 Q2302.16 1544.09 2305.77 1544.09 Q2309.4 1544.09 2311.21 1540.55 Q2313.04 1536.98 2313.04 1529.87 Q2313.04 1522.75 2311.21 1519.2 Q2309.4 1515.64 2305.77 1515.64 M2305.77 1511.93 Q2311.58 1511.93 2314.64 1516.54 Q2317.71 1521.12 2317.71 1529.87 Q2317.71 1538.6 2314.64 1543.21 Q2311.58 1547.79 2305.77 1547.79 Q2299.96 1547.79 2296.88 1543.21 Q2293.83 1538.6 2293.83 1529.87 Q2293.83 1521.12 2296.88 1516.54 Q2299.96 1511.93 2305.77 1511.93 Z\" fill=\"#000000\" fill-rule=\"evenodd\" fill-opacity=\"1\" /><polyline clip-path=\"url(#clip932)\" style=\"stroke:#000000; stroke-width:2; stroke-opacity:0.1; fill:none\" points=\"\n",
       "  169.121,1398.9 2352.76,1398.9 \n",
       "  \"/>\n",
       "<polyline clip-path=\"url(#clip932)\" style=\"stroke:#000000; stroke-width:2; stroke-opacity:0.1; fill:none\" points=\"\n",
       "  169.121,1117.99 2352.76,1117.99 \n",
       "  \"/>\n",
       "<polyline clip-path=\"url(#clip932)\" style=\"stroke:#000000; stroke-width:2; stroke-opacity:0.1; fill:none\" points=\"\n",
       "  169.121,837.074 2352.76,837.074 \n",
       "  \"/>\n",
       "<polyline clip-path=\"url(#clip932)\" style=\"stroke:#000000; stroke-width:2; stroke-opacity:0.1; fill:none\" points=\"\n",
       "  169.121,556.162 2352.76,556.162 \n",
       "  \"/>\n",
       "<polyline clip-path=\"url(#clip932)\" style=\"stroke:#000000; stroke-width:2; stroke-opacity:0.1; fill:none\" points=\"\n",
       "  169.121,275.251 2352.76,275.251 \n",
       "  \"/>\n",
       "<polyline clip-path=\"url(#clip930)\" style=\"stroke:#000000; stroke-width:4; stroke-opacity:1; fill:none\" points=\"\n",
       "  169.121,1486.45 169.121,47.2441 \n",
       "  \"/>\n",
       "<polyline clip-path=\"url(#clip930)\" style=\"stroke:#000000; stroke-width:4; stroke-opacity:1; fill:none\" points=\"\n",
       "  169.121,1398.9 195.325,1398.9 \n",
       "  \"/>\n",
       "<polyline clip-path=\"url(#clip930)\" style=\"stroke:#000000; stroke-width:4; stroke-opacity:1; fill:none\" points=\"\n",
       "  169.121,1117.99 195.325,1117.99 \n",
       "  \"/>\n",
       "<polyline clip-path=\"url(#clip930)\" style=\"stroke:#000000; stroke-width:4; stroke-opacity:1; fill:none\" points=\"\n",
       "  169.121,837.074 195.325,837.074 \n",
       "  \"/>\n",
       "<polyline clip-path=\"url(#clip930)\" style=\"stroke:#000000; stroke-width:4; stroke-opacity:1; fill:none\" points=\"\n",
       "  169.121,556.162 195.325,556.162 \n",
       "  \"/>\n",
       "<polyline clip-path=\"url(#clip930)\" style=\"stroke:#000000; stroke-width:4; stroke-opacity:1; fill:none\" points=\"\n",
       "  169.121,275.251 195.325,275.251 \n",
       "  \"/>\n",
       "<path clip-path=\"url(#clip930)\" d=\"M 0 0 M91.5938 1397.03 Q88.4456 1397.03 86.5938 1399.19 Q84.7651 1401.34 84.7651 1405.09 Q84.7651 1408.82 86.5938 1410.99 Q88.4456 1413.14 91.5938 1413.14 Q94.7419 1413.14 96.5706 1410.99 Q98.4224 1408.82 98.4224 1405.09 Q98.4224 1401.34 96.5706 1399.19 Q94.7419 1397.03 91.5938 1397.03 M100.876 1382.38 L100.876 1386.64 Q99.1169 1385.81 97.3113 1385.37 Q95.5289 1384.93 93.7697 1384.93 Q89.1401 1384.93 86.6864 1388.05 Q84.2558 1391.18 83.9086 1397.5 Q85.2743 1395.48 87.3345 1394.42 Q89.3947 1393.33 91.8715 1393.33 Q97.0798 1393.33 100.089 1396.5 Q103.121 1399.65 103.121 1405.09 Q103.121 1410.41 99.9733 1413.63 Q96.8252 1416.85 91.5938 1416.85 Q85.5984 1416.85 82.4271 1412.27 Q79.2559 1407.66 79.2559 1398.93 Q79.2559 1390.74 83.1447 1385.88 Q87.0336 1380.99 93.5845 1380.99 Q95.3437 1380.99 97.1261 1381.34 Q98.9317 1381.69 100.876 1382.38 Z\" fill=\"#000000\" fill-rule=\"evenodd\" fill-opacity=\"1\" /><path clip-path=\"url(#clip930)\" d=\"M 0 0 M121.177 1384.7 Q117.566 1384.7 115.737 1388.26 Q113.932 1391.8 113.932 1398.93 Q113.932 1406.04 115.737 1409.6 Q117.566 1413.14 121.177 1413.14 Q124.811 1413.14 126.617 1409.6 Q128.445 1406.04 128.445 1398.93 Q128.445 1391.8 126.617 1388.26 Q124.811 1384.7 121.177 1384.7 M121.177 1380.99 Q126.987 1380.99 130.043 1385.6 Q133.121 1390.18 133.121 1398.93 Q133.121 1407.66 130.043 1412.27 Q126.987 1416.85 121.177 1416.85 Q115.367 1416.85 112.288 1412.27 Q109.233 1407.66 109.233 1398.93 Q109.233 1390.18 112.288 1385.6 Q115.367 1380.99 121.177 1380.99 Z\" fill=\"#000000\" fill-rule=\"evenodd\" fill-opacity=\"1\" /><path clip-path=\"url(#clip930)\" d=\"M 0 0 M81.154 1134.55 L81.154 1130.29 Q82.9133 1131.12 84.7188 1131.56 Q86.5243 1132 88.2604 1132 Q92.89 1132 95.3206 1128.9 Q97.7743 1125.77 98.1215 1119.43 Q96.7789 1121.42 94.7187 1122.49 Q92.6586 1123.55 90.1586 1123.55 Q84.9734 1123.55 81.941 1120.43 Q78.9318 1117.28 78.9318 1111.84 Q78.9318 1106.52 82.0799 1103.3 Q85.2281 1100.08 90.4595 1100.08 Q96.4548 1100.08 99.603 1104.69 Q102.774 1109.27 102.774 1118.02 Q102.774 1126.19 98.8854 1131.08 Q95.0197 1135.94 88.4688 1135.94 Q86.7095 1135.94 84.904 1135.59 Q83.0984 1135.24 81.154 1134.55 M90.4595 1119.9 Q93.6076 1119.9 95.4363 1117.74 Q97.2882 1115.59 97.2882 1111.84 Q97.2882 1108.11 95.4363 1105.96 Q93.6076 1103.78 90.4595 1103.78 Q87.3114 1103.78 85.4595 1105.96 Q83.6308 1108.11 83.6308 1111.84 Q83.6308 1115.59 85.4595 1117.74 Q87.3114 1119.9 90.4595 1119.9 Z\" fill=\"#000000\" fill-rule=\"evenodd\" fill-opacity=\"1\" /><path clip-path=\"url(#clip930)\" d=\"M 0 0 M121.177 1103.78 Q117.566 1103.78 115.737 1107.35 Q113.932 1110.89 113.932 1118.02 Q113.932 1125.13 115.737 1128.69 Q117.566 1132.23 121.177 1132.23 Q124.811 1132.23 126.617 1128.69 Q128.445 1125.13 128.445 1118.02 Q128.445 1110.89 126.617 1107.35 Q124.811 1103.78 121.177 1103.78 M121.177 1100.08 Q126.987 1100.08 130.043 1104.69 Q133.121 1109.27 133.121 1118.02 Q133.121 1126.75 130.043 1131.35 Q126.987 1135.94 121.177 1135.94 Q115.367 1135.94 112.288 1131.35 Q109.233 1126.75 109.233 1118.02 Q109.233 1109.27 112.288 1104.69 Q115.367 1100.08 121.177 1100.08 Z\" fill=\"#000000\" fill-rule=\"evenodd\" fill-opacity=\"1\" /><path clip-path=\"url(#clip930)\" d=\"M 0 0 M51.6634 850.419 L59.3023 850.419 L59.3023 824.053 L50.9921 825.72 L50.9921 821.461 L59.256 819.794 L63.9319 819.794 L63.9319 850.419 L71.5707 850.419 L71.5707 854.354 L51.6634 854.354 L51.6634 850.419 Z\" fill=\"#000000\" fill-rule=\"evenodd\" fill-opacity=\"1\" /><path clip-path=\"url(#clip930)\" d=\"M 0 0 M85.0429 850.419 L101.362 850.419 L101.362 854.354 L79.4179 854.354 L79.4179 850.419 Q82.0799 847.664 86.6632 843.035 Q91.2697 838.382 92.4502 837.039 Q94.6956 834.516 95.5752 832.78 Q96.478 831.021 96.478 829.331 Q96.478 826.576 94.5336 824.84 Q92.6123 823.104 89.5104 823.104 Q87.3114 823.104 84.8577 823.868 Q82.4271 824.632 79.6494 826.183 L79.6494 821.461 Q82.4734 820.326 84.9271 819.748 Q87.3808 819.169 89.4178 819.169 Q94.7882 819.169 97.9826 821.854 Q101.177 824.539 101.177 829.03 Q101.177 831.16 100.367 833.081 Q99.5798 834.979 97.4734 837.572 Q96.8947 838.243 93.7928 841.46 Q90.691 844.655 85.0429 850.419 Z\" fill=\"#000000\" fill-rule=\"evenodd\" fill-opacity=\"1\" /><path clip-path=\"url(#clip930)\" d=\"M 0 0 M121.177 822.873 Q117.566 822.873 115.737 826.437 Q113.932 829.979 113.932 837.109 Q113.932 844.215 115.737 847.78 Q117.566 851.321 121.177 851.321 Q124.811 851.321 126.617 847.78 Q128.445 844.215 128.445 837.109 Q128.445 829.979 126.617 826.437 Q124.811 822.873 121.177 822.873 M121.177 819.169 Q126.987 819.169 130.043 823.775 Q133.121 828.359 133.121 837.109 Q133.121 845.835 130.043 850.442 Q126.987 855.025 121.177 855.025 Q115.367 855.025 112.288 850.442 Q109.233 845.835 109.233 837.109 Q109.233 828.359 112.288 823.775 Q115.367 819.169 121.177 819.169 Z\" fill=\"#000000\" fill-rule=\"evenodd\" fill-opacity=\"1\" /><path clip-path=\"url(#clip930)\" d=\"M 0 0 M51.6634 569.507 L59.3023 569.507 L59.3023 543.142 L50.9921 544.808 L50.9921 540.549 L59.256 538.882 L63.9319 538.882 L63.9319 569.507 L71.5707 569.507 L71.5707 573.442 L51.6634 573.442 L51.6634 569.507 Z\" fill=\"#000000\" fill-rule=\"evenodd\" fill-opacity=\"1\" /><path clip-path=\"url(#clip930)\" d=\"M 0 0 M81.0614 538.882 L99.4178 538.882 L99.4178 542.817 L85.3438 542.817 L85.3438 551.29 Q86.3623 550.942 87.3808 550.78 Q88.3993 550.595 89.4178 550.595 Q95.2049 550.595 98.5845 553.766 Q101.964 556.938 101.964 562.354 Q101.964 567.933 98.4919 571.035 Q95.0197 574.114 88.7003 574.114 Q86.5243 574.114 84.2558 573.743 Q82.0105 573.373 79.6031 572.632 L79.6031 567.933 Q81.6864 569.067 83.9086 569.623 Q86.1308 570.178 88.6077 570.178 Q92.6123 570.178 94.9502 568.072 Q97.2882 565.965 97.2882 562.354 Q97.2882 558.743 94.9502 556.637 Q92.6123 554.53 88.6077 554.53 Q86.7327 554.53 84.8577 554.947 Q83.0058 555.364 81.0614 556.243 L81.0614 538.882 Z\" fill=\"#000000\" fill-rule=\"evenodd\" fill-opacity=\"1\" /><path clip-path=\"url(#clip930)\" d=\"M 0 0 M121.177 541.961 Q117.566 541.961 115.737 545.526 Q113.932 549.067 113.932 556.197 Q113.932 563.303 115.737 566.868 Q117.566 570.41 121.177 570.41 Q124.811 570.41 126.617 566.868 Q128.445 563.303 128.445 556.197 Q128.445 549.067 126.617 545.526 Q124.811 541.961 121.177 541.961 M121.177 538.257 Q126.987 538.257 130.043 542.864 Q133.121 547.447 133.121 556.197 Q133.121 564.924 130.043 569.53 Q126.987 574.114 121.177 574.114 Q115.367 574.114 112.288 569.53 Q109.233 564.924 109.233 556.197 Q109.233 547.447 112.288 542.864 Q115.367 538.257 121.177 538.257 Z\" fill=\"#000000\" fill-rule=\"evenodd\" fill-opacity=\"1\" /><path clip-path=\"url(#clip930)\" d=\"M 0 0 M51.6634 288.596 L59.3023 288.596 L59.3023 262.23 L50.9921 263.897 L50.9921 259.637 L59.256 257.971 L63.9319 257.971 L63.9319 288.596 L71.5707 288.596 L71.5707 292.531 L51.6634 292.531 L51.6634 288.596 Z\" fill=\"#000000\" fill-rule=\"evenodd\" fill-opacity=\"1\" /><path clip-path=\"url(#clip930)\" d=\"M 0 0 M91.0151 276.119 Q87.6817 276.119 85.7605 277.901 Q83.8623 279.684 83.8623 282.809 Q83.8623 285.933 85.7605 287.716 Q87.6817 289.498 91.0151 289.498 Q94.3484 289.498 96.2697 287.716 Q98.1909 285.91 98.1909 282.809 Q98.1909 279.684 96.2697 277.901 Q94.3715 276.119 91.0151 276.119 M86.3392 274.128 Q83.3299 273.387 81.6401 271.327 Q79.9735 269.267 79.9735 266.304 Q79.9735 262.16 82.9133 259.753 Q85.8762 257.346 91.0151 257.346 Q96.1771 257.346 99.1169 259.753 Q102.057 262.16 102.057 266.304 Q102.057 269.267 100.367 271.327 Q98.7002 273.387 95.7141 274.128 Q99.0937 274.915 100.969 277.207 Q102.867 279.498 102.867 282.809 Q102.867 287.832 99.7882 290.517 Q96.7326 293.202 91.0151 293.202 Q85.2975 293.202 82.2188 290.517 Q79.1633 287.832 79.1633 282.809 Q79.1633 279.498 81.0614 277.207 Q82.9595 274.915 86.3392 274.128 M84.6262 266.744 Q84.6262 269.429 86.2929 270.934 Q87.9827 272.438 91.0151 272.438 Q94.0243 272.438 95.7141 270.934 Q97.4271 269.429 97.4271 266.744 Q97.4271 264.059 95.7141 262.554 Q94.0243 261.049 91.0151 261.049 Q87.9827 261.049 86.2929 262.554 Q84.6262 264.059 84.6262 266.744 Z\" fill=\"#000000\" fill-rule=\"evenodd\" fill-opacity=\"1\" /><path clip-path=\"url(#clip930)\" d=\"M 0 0 M121.177 261.049 Q117.566 261.049 115.737 264.614 Q113.932 268.156 113.932 275.285 Q113.932 282.392 115.737 285.957 Q117.566 289.498 121.177 289.498 Q124.811 289.498 126.617 285.957 Q128.445 282.392 128.445 275.285 Q128.445 268.156 126.617 264.614 Q124.811 261.049 121.177 261.049 M121.177 257.346 Q126.987 257.346 130.043 261.952 Q133.121 266.535 133.121 275.285 Q133.121 284.012 130.043 288.619 Q126.987 293.202 121.177 293.202 Q115.367 293.202 112.288 288.619 Q109.233 284.012 109.233 275.285 Q109.233 266.535 112.288 261.952 Q115.367 257.346 121.177 257.346 Z\" fill=\"#000000\" fill-rule=\"evenodd\" fill-opacity=\"1\" /><polyline clip-path=\"url(#clip932)\" style=\"stroke:#009af9; stroke-width:4; stroke-opacity:1; fill:none\" points=\"\n",
       "  230.922,1445.72 272.964,1146.08 315.005,1146.08 357.047,1146.08 399.088,284.614 441.13,284.614 483.171,87.9763 525.213,87.9763 567.254,87.9763 609.296,87.9763 \n",
       "  651.337,87.9763 693.379,87.9763 735.42,87.9763 777.462,87.9763 819.503,87.9763 861.545,87.9763 903.586,87.9763 945.627,87.9763 987.669,87.9763 1029.71,87.9763 \n",
       "  1071.75,87.9763 1113.79,87.9763 1155.83,87.9763 1197.88,87.9763 1239.92,87.9763 1281.96,87.9763 1324,87.9763 1366.04,87.9763 1408.08,87.9763 1450.13,87.9763 \n",
       "  1492.17,87.9763 1534.21,87.9763 1576.25,87.9763 1618.29,87.9763 1660.33,87.9763 1702.37,87.9763 1744.42,87.9763 1786.46,87.9763 1828.5,87.9763 1870.54,87.9763 \n",
       "  1912.58,87.9763 1954.62,87.9763 1996.66,87.9763 2038.71,87.9763 2080.75,87.9763 2122.79,87.9763 2164.83,87.9763 2206.87,87.9763 2248.91,87.9763 2290.95,87.9763 \n",
       "  \n",
       "  \"/>\n",
       "<path clip-path=\"url(#clip930)\" d=\"\n",
       "M1984.91 216.178 L2279.97 216.178 L2279.97 95.2176 L1984.91 95.2176  Z\n",
       "  \" fill=\"#ffffff\" fill-rule=\"evenodd\" fill-opacity=\"1\"/>\n",
       "<polyline clip-path=\"url(#clip930)\" style=\"stroke:#000000; stroke-width:4; stroke-opacity:1; fill:none\" points=\"\n",
       "  1984.91,216.178 2279.97,216.178 2279.97,95.2176 1984.91,95.2176 1984.91,216.178 \n",
       "  \"/>\n",
       "<polyline clip-path=\"url(#clip930)\" style=\"stroke:#009af9; stroke-width:4; stroke-opacity:1; fill:none\" points=\"\n",
       "  2009.17,155.698 2154.75,155.698 \n",
       "  \"/>\n",
       "<path clip-path=\"url(#clip930)\" d=\"M 0 0 M2192.86 175.385 Q2191.05 180.015 2189.34 181.427 Q2187.62 182.839 2184.75 182.839 L2181.35 182.839 L2181.35 179.274 L2183.85 179.274 Q2185.61 179.274 2186.58 178.44 Q2187.55 177.607 2188.73 174.505 L2189.5 172.561 L2179.01 147.052 L2183.53 147.052 L2191.63 167.329 L2199.73 147.052 L2204.24 147.052 L2192.86 175.385 Z\" fill=\"#000000\" fill-rule=\"evenodd\" fill-opacity=\"1\" /><path clip-path=\"url(#clip930)\" d=\"M 0 0 M2211.54 169.042 L2219.17 169.042 L2219.17 142.677 L2210.86 144.343 L2210.86 140.084 L2219.13 138.418 L2223.8 138.418 L2223.8 169.042 L2231.44 169.042 L2231.44 172.978 L2211.54 172.978 L2211.54 169.042 Z\" fill=\"#000000\" fill-rule=\"evenodd\" fill-opacity=\"1\" /></svg>\n"
      ]
     },
     "execution_count": 28,
     "metadata": {},
     "output_type": "execute_result"
    }
   ],
   "source": [
    "fits, expert = ES(layers, 50, play_cartpole, 5)\n",
    "plot(fits)"
   ]
  },
  {
   "cell_type": "code",
   "execution_count": 98,
   "id": "5e3faf9b",
   "metadata": {},
   "outputs": [
    {
     "data": {
      "text/plain": [
       "200.0"
      ]
     },
     "execution_count": 98,
     "metadata": {},
     "output_type": "execute_result"
    }
   ],
   "source": [
    "play_cartpole(expert, true)"
   ]
  }
 ],
 "metadata": {
  "celltoolbar": "Diaporama",
  "kernelspec": {
   "display_name": "Julia 1.5.3",
   "language": "julia",
   "name": "julia-1.5"
  },
  "language_info": {
   "file_extension": ".jl",
   "mimetype": "application/julia",
   "name": "julia",
   "version": "1.5.3"
  }
 },
 "nbformat": 4,
 "nbformat_minor": 5
}
