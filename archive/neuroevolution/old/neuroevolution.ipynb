{
 "cells": [
  {
   "cell_type": "markdown",
   "id": "aa744f2c",
   "metadata": {
    "cell_style": "center",
    "slideshow": {
     "slide_type": "slide"
    }
   },
   "source": [
    "# <center> EVOLUTIONARY COMPUTATION \n",
    "## <center> EVOLUTION OF NEURAL NETWORKS\n",
    "<center>\n",
    "<img src=\"../imgs/logo.png\" width=\"30%\"></center>"
   ]
  },
  {
   "cell_type": "markdown",
   "id": "4b85de1f",
   "metadata": {},
   "source": [
    "<center> Paul Templier - paul.templier@isae-supaero.fr"
   ]
  },
  {
   "cell_type": "markdown",
   "id": "broken-charleston",
   "metadata": {
    "slideshow": {
     "slide_type": "slide"
    }
   },
   "source": [
    "## Motivation"
   ]
  },
  {
   "cell_type": "markdown",
   "id": "polish-validation",
   "metadata": {
    "cell_style": "center"
   },
   "source": [
    "<center><img src=\"../imgs/agent_representations.png\" width=\"50%\">\n",
    "\n",
    "<!-- $\\pi: s\\rightarrow a$ -->"
   ]
  },
  {
   "cell_type": "markdown",
   "id": "amended-cologne",
   "metadata": {
    "cell_style": "center",
    "slideshow": {
     "slide_type": "subslide"
    }
   },
   "source": [
    "## Evolution of neural networks\n",
    "\n",
    "<center><img src=\"../imgs/intro_neuroevolution.png\" width=\"50%\">\n",
    "\n",
    "*Miikkulainen, Risto. \"Evolution of neural networks.\" Proceedings of the Genetic and Evolutionary Computation Conference Companion. 2017*"
   ]
  },
  {
   "cell_type": "markdown",
   "id": "gross-lafayette",
   "metadata": {
    "slideshow": {
     "slide_type": "slide"
    }
   },
   "source": [
    "## Neural Networks"
   ]
  },
  {
   "cell_type": "markdown",
   "id": "legal-prototype",
   "metadata": {},
   "source": [
    "### Neuron model\n",
    "<center><img src=\"../imgs/neuron.jpg\" width=\"50%\">\n"
   ]
  },
  {
   "cell_type": "markdown",
   "id": "miniature-township",
   "metadata": {
    "slideshow": {
     "slide_type": "subslide"
    }
   },
   "source": [
    "### Artificial neuron\n",
    "\n",
    "<center><img src=\"../imgs/neuron_model.jpeg\" width=\"50%\">\n",
    "\n",
    "<center>cs231n.github.io\n",
    "\n",
    "<!-- $f(\\sum_{i}{w_i x_i} +b)$ -->\n",
    "\n",
    "$w_i$: weights  \n",
    "$x_i$: output of previous neurons  \n",
    "$b$: bias  \n",
    "$f$: activation function to break linearity \n",
    "\n",
    "\n"
   ]
  },
  {
   "cell_type": "markdown",
   "id": "2832487f",
   "metadata": {
    "slideshow": {
     "slide_type": "subslide"
    }
   },
   "source": [
    "### Artificial Neural Network\n",
    "<center><img src=\"../imgs/neural_network.png\" width=\"50%\">\n",
    "    \n",
    "    \n",
    "$(y_1 ... y_n) = F(x_1 ... x_m)$\n",
    "    \n",
    "    \n",
    "*Source: https://medium.com/swlh/neural-networks-4b6f719f9d75*"
   ]
  },
  {
   "cell_type": "markdown",
   "id": "initial-railway",
   "metadata": {
    "cell_style": "center",
    "slideshow": {
     "slide_type": "slide"
    }
   },
   "source": [
    "## <center> Exercise </center>\n",
    "<br>  \n",
    "<center> Break into groups and discuss: </center>\n",
    "<br>\n",
    "<center>What do we need in the genome to optimize a neural network? How would you encode it? </center>\n",
    "<br>\n",
    "<center>Can you find mutation and crossover operators on your encoding?</center>"
   ]
  },
  {
   "cell_type": "markdown",
   "id": "structured-winning",
   "metadata": {
    "slideshow": {
     "slide_type": "slide"
    }
   },
   "source": [
    "# <center> NEUROEVOLUTION </center>"
   ]
  },
  {
   "cell_type": "markdown",
   "id": "closing-australia",
   "metadata": {
    "cell_style": "split",
    "slideshow": {
     "slide_type": "-"
    }
   },
   "source": [
    "<center><img src=\"../imgs/cellular_encoding.png\" width=\"60%\">\n",
    "\n",
    "Gruau, Frederic, and Darrell Whitley. \"Adding learning to the cellular development of neural networks: Evolution and the Baldwin effect.\" Evolutionary computation 1.3 (1993): 213-233. "
   ]
  },
  {
   "cell_type": "markdown",
   "id": "weird-conspiracy",
   "metadata": {
    "cell_style": "split"
   },
   "source": [
    "<center><img src=\"../imgs/barr.png\" width=\"50%\">\n",
    "\n",
    "Fleischer, Kurt, and Alan H. Barr. \"A simulation testbed for the study of multicellular development: The multiple mechanisms of morphogenesis.\" 1994 "
   ]
  },
  {
   "cell_type": "markdown",
   "id": "reliable-abortion",
   "metadata": {
    "slideshow": {
     "slide_type": "subslide"
    }
   },
   "source": [
    "# <center> NeuroEvolution of Augmenting Topologies (NEAT) </center>"
   ]
  },
  {
   "cell_type": "markdown",
   "id": "final-hybrid",
   "metadata": {
    "cell_style": "center"
   },
   "source": [
    "<center><img src=\"../imgs/neat_encoding.png\" width=\"60%\">\n",
    "        \n",
    "Stanley, Kenneth O., and Risto Miikkulainen. \"Evolving neural networks through augmenting topologies.\" Evolutionary computation 10.2 (2002): 99-127 "
   ]
  },
  {
   "cell_type": "markdown",
   "id": "silver-infection",
   "metadata": {},
   "source": [
    "    \n",
    "Stanley, Kenneth O., and Risto Miikkulainen. \"Evolving neural networks through augmenting topologies.\" Evolutionary computation 10.2 (2002): 99-127 "
   ]
  },
  {
   "cell_type": "markdown",
   "id": "fitted-centre",
   "metadata": {
    "slideshow": {
     "slide_type": "subslide"
    }
   },
   "source": [
    "# <center> NEUROEVOLUTION: FIXED ARCHITECTURE </center>\n",
    "\n",
    "    <center><img src=\"../imgs/ne_basics.png\" width=\"50%\">\n",
    "\n",
    "Miikkulainen, Risto. \"Evolution of neural networks.\" Proceedings of the Genetic and Evolutionary Computation Conference Companion. 2017. "
   ]
  },
  {
   "cell_type": "markdown",
   "id": "7f7cc9dc",
   "metadata": {
    "slideshow": {
     "slide_type": "subslide"
    }
   },
   "source": [
    "# <center> PROBLEMS WITH NEUROEVOLUTION </center>\n",
    "\n",
    "<center><img src=\"../imgs/ne_problems.png\" width=\"40%\">\n",
    "\n",
    "Miikkulainen, Risto. \"Evolution of neural networks.\" Proceedings of the Genetic and Evolutionary Computation Conference Companion. 2017. "
   ]
  },
  {
   "cell_type": "markdown",
   "id": "5dc2e085",
   "metadata": {
    "slideshow": {
     "slide_type": "slide"
    }
   },
   "source": [
    "# <center> INDIRECT ENCODING </center>\n",
    "\n",
    "<center><img src=\"../imgs/encoding.png\" width=\"50%\">\n",
    "    \n"
   ]
  },
  {
   "cell_type": "markdown",
   "id": "27eb7a98",
   "metadata": {
    "slideshow": {
     "slide_type": "subslide"
    }
   },
   "source": [
    "# <center> HyperNEAT </center>\n",
    "\n",
    "<center><img src=\"../imgs/indirect_hyperneat.png\" width=\"50%\">\n",
    "\n",
    "<center><img src=\"../imgs/hyperneat.png\" width=\"50%\">\n",
    "    \n",
    "Stanley, Kenneth O.; D'Ambrosio, David B.; Gauci, Jason (2009-01-14). \"A Hypercube-Based Encoding for Evolving Large-Scale Neural Networks\". Artificial Life journal 15(2), Cambridge, MA: MIT Press, 2009"
   ]
  },
  {
   "cell_type": "markdown",
   "id": "c1b3a847",
   "metadata": {
    "slideshow": {
     "slide_type": "subslide"
    }
   },
   "source": [
    "# <center> GENE: Geometric Encoding for NeuroEvolution </center>\n",
    "\n",
    "<center><img src=\"../imgs/indirect_transform.png\" width=\"50%\">\n",
    "   "
   ]
  },
  {
   "cell_type": "markdown",
   "id": "50dfcf11",
   "metadata": {
    "cell_style": "split"
   },
   "source": [
    "<center><img src=\"../imgs/coordsnet_coordinates.png\" width=\"40%\">"
   ]
  },
  {
   "cell_type": "markdown",
   "id": "a6bff363",
   "metadata": {
    "cell_style": "split"
   },
   "source": [
    "<center><img src=\"../imgs/coordsnet_graph.png\" width=\"50%\">"
   ]
  },
  {
   "cell_type": "markdown",
   "id": "89a296ae",
   "metadata": {},
   "source": [
    "*Paul Templier, Emmanuel Rachelson, and Dennis G. Wilson. 2021. A Geometric Encoding for Neural Network Evolution. In 2021 Genetic and Evolutionary Computation Conference (GECCO ’21), July 10–14, 2021, Lille, France. ACM, New York, NY, USA, 9 pages. https://doi.org/10.1145/3449639.3459361*"
   ]
  },
  {
   "cell_type": "markdown",
   "id": "803f40bd",
   "metadata": {
    "slideshow": {
     "slide_type": "slide"
    }
   },
   "source": [
    "# Notebook"
   ]
  },
  {
   "cell_type": "code",
   "execution_count": 1,
   "id": "legislative-touch",
   "metadata": {
    "slideshow": {
     "slide_type": "-"
    }
   },
   "outputs": [
    {
     "name": "stderr",
     "output_type": "stream",
     "text": [
      "\u001b[32m\u001b[1m   Updating\u001b[22m\u001b[39m registry at `~/.julia/registries/General`\n",
      "######################################################################### 100,0%\n",
      "\u001b[32m\u001b[1m  Resolving\u001b[22m\u001b[39m package versions...\n",
      "\u001b[32m\u001b[1mNo Changes\u001b[22m\u001b[39m to `~/.julia/environments/v1.5/Project.toml`\n",
      "\u001b[32m\u001b[1mNo Changes\u001b[22m\u001b[39m to `~/.julia/environments/v1.5/Manifest.toml`\n"
     ]
    }
   ],
   "source": [
    "using Pkg\n",
    "pkg\"add PyCall Flux Plots Random Statistics ArcadeLearningEnvironment Reel ImageView Images\""
   ]
  },
  {
   "cell_type": "code",
   "execution_count": 2,
   "id": "center-exposure",
   "metadata": {
    "slideshow": {
     "slide_type": "-"
    }
   },
   "outputs": [],
   "source": [
    "using PyCall\n",
    "using Flux\n",
    "using Plots\n",
    "using Random\n",
    "using Statistics"
   ]
  },
  {
   "cell_type": "code",
   "execution_count": 3,
   "id": "portable-future",
   "metadata": {},
   "outputs": [
    {
     "data": {
      "text/plain": [
       "PyObject <module 'gym' from '/home/disc/p.templier/miniconda3/lib/python3.8/site-packages/gym/__init__.py'>"
      ]
     },
     "execution_count": 3,
     "metadata": {},
     "output_type": "execute_result"
    }
   ],
   "source": [
    "gym = pyimport(\"gym\")"
   ]
  },
  {
   "cell_type": "markdown",
   "id": "friendly-staff",
   "metadata": {
    "slideshow": {
     "slide_type": "subslide"
    }
   },
   "source": [
    "## Gym CartPole\n",
    "\n",
    "<img src=\"../imgs/cartpole.gif\" width=\"50%\">\n",
    "\n",
    "https://github.com/adibyte95/CartPole-OpenAI-GYM/blob/master/gif%20images/reinforcement-gif.gif"
   ]
  },
  {
   "cell_type": "code",
   "execution_count": 45,
   "id": "happy-method",
   "metadata": {
    "cell_style": "center",
    "slideshow": {
     "slide_type": "subslide"
    }
   },
   "outputs": [
    {
     "data": {
      "text/plain": [
       "Individual"
      ]
     },
     "execution_count": 45,
     "metadata": {},
     "output_type": "execute_result"
    }
   ],
   "source": [
    "mutable struct Individual\n",
    "    genes::Array{Float64}\n",
    "    fitness::Float64\n",
    "    layers::Array{Int64}\n",
    "    model\n",
    "end\n",
    "\n",
    "function Individual(layers::Array, genes::Array{Float64})\n",
    "    model = make_network(layers)\n",
    "    \n",
    "    ind = Individual(genes, -Inf, layers, model)\n",
    "    \n",
    "    set_weights!(ind) \n",
    "    ind\n",
    "end\n",
    "\n",
    "function Individual(layers::Array)\n",
    "    model = make_network(layers)\n",
    "    \n",
    "    param_lengths = [length(p) for p in params(model)]\n",
    "    genes = rand(sum(param_lengths))\n",
    "    \n",
    "    ind = Individual(genes, -Inf, layers, model)\n",
    "    set_weights!(ind)  \n",
    "    ind\n",
    "end"
   ]
  },
  {
   "cell_type": "code",
   "execution_count": 46,
   "id": "voluntary-communist",
   "metadata": {
    "cell_style": "center",
    "slideshow": {
     "slide_type": "subslide"
    }
   },
   "outputs": [
    {
     "data": {
      "text/plain": [
       "mutate (generic function with 1 method)"
      ]
     },
     "execution_count": 46,
     "metadata": {},
     "output_type": "execute_result"
    }
   ],
   "source": [
    "function set_weights!(ind::Individual)    \n",
    "    start = 1\n",
    "    for p in params(ind.model)\n",
    "        p = reshape(ind.genes[start:(start+length(p)-1)], size(p))\n",
    "        start += length(p)\n",
    "    end\n",
    "    ind\n",
    "end\n",
    "\n",
    "function make_network(layers::Array)\n",
    "    l = []\n",
    "    for i in 1:length(layers)-1\n",
    "        d = Dense(layers[i], layers[i+1], Flux.relu)\n",
    "        push!(l, d)\n",
    "    end\n",
    "    Chain(l...)\n",
    "end\n",
    "\n",
    "function mutate(ind::Individual; \n",
    "    mutation_rate::Float64=1.0/length(ind.genes))\n",
    "    new_genes = copy(ind.genes)\n",
    "    for i in eachindex(new_genes)\n",
    "        if rand() < mutation_rate\n",
    "            new_genes[i] = rand()\n",
    "        end\n",
    "    end\n",
    "    Individual(ind.layers, new_genes)\n",
    "end"
   ]
  },
  {
   "cell_type": "markdown",
   "id": "phantom-amino",
   "metadata": {
    "slideshow": {
     "slide_type": "subslide"
    }
   },
   "source": [
    "## Cartpole"
   ]
  },
  {
   "cell_type": "code",
   "execution_count": 36,
   "id": "included-merit",
   "metadata": {},
   "outputs": [
    {
     "data": {
      "text/plain": [
       "evaluate! (generic function with 1 method)"
      ]
     },
     "execution_count": 36,
     "metadata": {},
     "output_type": "execute_result"
    }
   ],
   "source": [
    "function play_cartpole(ind::Individual, render=false)\n",
    "    env_name=\"CartPole-v1\"\n",
    "    env = gym.make(env_name)\n",
    "    env.seed(0)\n",
    "    obs = env.reset()\n",
    "    total_reward = 0.0\n",
    "    done = false\n",
    "    for i in 1:200\n",
    "        action = ind.model(obs)\n",
    "        action = argmax(action) - 1\n",
    "        \n",
    "        obs, reward, done, _ = env.step(action)\n",
    "        if render\n",
    "            env.render(mode=\"human\")\n",
    "        end\n",
    "        total_reward += reward\n",
    "    end\n",
    "    env.close()\n",
    "    total_reward\n",
    "end\n",
    "\n",
    "function evaluate!(ind::Individual, objective::Function)\n",
    "    ind.fitness = objective(ind)\n",
    "end"
   ]
  },
  {
   "cell_type": "markdown",
   "id": "animal-silicon",
   "metadata": {
    "slideshow": {
     "slide_type": "subslide"
    }
   },
   "source": [
    "## 1+$\\lambda$ EA"
   ]
  },
  {
   "cell_type": "code",
   "execution_count": 37,
   "id": "32d7d5d4",
   "metadata": {},
   "outputs": [
    {
     "data": {
      "text/plain": [
       "one_plus_lambda (generic function with 1 method)"
      ]
     },
     "execution_count": 37,
     "metadata": {},
     "output_type": "execute_result"
    }
   ],
   "source": [
    "function one_plus_lambda(layers::Array, num_generations::Int, f::Function, 𝜆::Int)\n",
    "\n",
    "    fits = zeros(num_generations)\n",
    "    expert = Individual(layers::Array)\n",
    "    evaluate!(expert, f)\n",
    "\n",
    "    for i in eachindex(fits)\n",
    "        population = Array{Individual}(undef, 𝜆)\n",
    "        best = 1\n",
    "        for j in eachindex(population)\n",
    "            population[j] = mutate(expert)\n",
    "            evaluate!(population[j], f)\n",
    "            if population[j].fitness > population[best].fitness\n",
    "                best = j\n",
    "            end\n",
    "        end\n",
    "\n",
    "        if population[best].fitness >= expert.fitness\n",
    "            expert = population[best]\n",
    "        end\n",
    "\n",
    "        fits[i] = expert.fitness\n",
    "        print(i, \"/\",  num_generations, \" > \", expert.fitness, \"\\t\\t\\r\")\n",
    "    end\n",
    "    fits, expert\n",
    "end\n"
   ]
  },
  {
   "cell_type": "code",
   "execution_count": 47,
   "id": "41365571",
   "metadata": {
    "cell_style": "center",
    "slideshow": {
     "slide_type": "subslide"
    }
   },
   "outputs": [
    {
     "data": {
      "text/plain": [
       "460"
      ]
     },
     "execution_count": 47,
     "metadata": {},
     "output_type": "execute_result"
    }
   ],
   "source": [
    "𝜆=5\n",
    "layers = [4, 16, 16, 2]\n",
    "ind = Individual(layers)\n",
    "n = length(ind.genes)\n",
    "n_gens = Int(round(n * log(n) / 𝜆))"
   ]
  },
  {
   "cell_type": "code",
   "execution_count": 48,
   "id": "clinical-illinois",
   "metadata": {
    "cell_style": "center",
    "slideshow": {
     "slide_type": "-"
    }
   },
   "outputs": [
    {
     "name": "stdout",
     "output_type": "stream",
     "text": [
      "460/460 > 200.0\t\t\r"
     ]
    },
    {
     "data": {
      "image/svg+xml": [
       "<?xml version=\"1.0\" encoding=\"utf-8\"?>\n",
       "<svg xmlns=\"http://www.w3.org/2000/svg\" xmlns:xlink=\"http://www.w3.org/1999/xlink\" width=\"600\" height=\"400\" viewBox=\"0 0 2400 1600\">\n",
       "<defs>\n",
       "  <clipPath id=\"clip370\">\n",
       "    <rect x=\"0\" y=\"0\" width=\"2400\" height=\"1600\"/>\n",
       "  </clipPath>\n",
       "</defs>\n",
       "<path clip-path=\"url(#clip370)\" d=\"\n",
       "M0 1600 L2400 1600 L2400 0 L0 0  Z\n",
       "  \" fill=\"#ffffff\" fill-rule=\"evenodd\" fill-opacity=\"1\"/>\n",
       "<defs>\n",
       "  <clipPath id=\"clip371\">\n",
       "    <rect x=\"480\" y=\"0\" width=\"1681\" height=\"1600\"/>\n",
       "  </clipPath>\n",
       "</defs>\n",
       "<path clip-path=\"url(#clip370)\" d=\"\n",
       "M170.857 1486.45 L2352.76 1486.45 L2352.76 47.2441 L170.857 47.2441  Z\n",
       "  \" fill=\"#ffffff\" fill-rule=\"evenodd\" fill-opacity=\"1\"/>\n",
       "<defs>\n",
       "  <clipPath id=\"clip372\">\n",
       "    <rect x=\"170\" y=\"47\" width=\"2183\" height=\"1440\"/>\n",
       "  </clipPath>\n",
       "</defs>\n",
       "<polyline clip-path=\"url(#clip372)\" style=\"stroke:#000000; stroke-width:2; stroke-opacity:0.1; fill:none\" points=\"\n",
       "  228.125,1486.45 228.125,47.2441 \n",
       "  \"/>\n",
       "<polyline clip-path=\"url(#clip372)\" style=\"stroke:#000000; stroke-width:2; stroke-opacity:0.1; fill:none\" points=\"\n",
       "  676.577,1486.45 676.577,47.2441 \n",
       "  \"/>\n",
       "<polyline clip-path=\"url(#clip372)\" style=\"stroke:#000000; stroke-width:2; stroke-opacity:0.1; fill:none\" points=\"\n",
       "  1125.03,1486.45 1125.03,47.2441 \n",
       "  \"/>\n",
       "<polyline clip-path=\"url(#clip372)\" style=\"stroke:#000000; stroke-width:2; stroke-opacity:0.1; fill:none\" points=\"\n",
       "  1573.48,1486.45 1573.48,47.2441 \n",
       "  \"/>\n",
       "<polyline clip-path=\"url(#clip372)\" style=\"stroke:#000000; stroke-width:2; stroke-opacity:0.1; fill:none\" points=\"\n",
       "  2021.93,1486.45 2021.93,47.2441 \n",
       "  \"/>\n",
       "<polyline clip-path=\"url(#clip370)\" style=\"stroke:#000000; stroke-width:4; stroke-opacity:1; fill:none\" points=\"\n",
       "  170.857,1486.45 2352.76,1486.45 \n",
       "  \"/>\n",
       "<polyline clip-path=\"url(#clip370)\" style=\"stroke:#000000; stroke-width:4; stroke-opacity:1; fill:none\" points=\"\n",
       "  228.125,1486.45 228.125,1469.18 \n",
       "  \"/>\n",
       "<polyline clip-path=\"url(#clip370)\" style=\"stroke:#000000; stroke-width:4; stroke-opacity:1; fill:none\" points=\"\n",
       "  676.577,1486.45 676.577,1469.18 \n",
       "  \"/>\n",
       "<polyline clip-path=\"url(#clip370)\" style=\"stroke:#000000; stroke-width:4; stroke-opacity:1; fill:none\" points=\"\n",
       "  1125.03,1486.45 1125.03,1469.18 \n",
       "  \"/>\n",
       "<polyline clip-path=\"url(#clip370)\" style=\"stroke:#000000; stroke-width:4; stroke-opacity:1; fill:none\" points=\"\n",
       "  1573.48,1486.45 1573.48,1469.18 \n",
       "  \"/>\n",
       "<polyline clip-path=\"url(#clip370)\" style=\"stroke:#000000; stroke-width:4; stroke-opacity:1; fill:none\" points=\"\n",
       "  2021.93,1486.45 2021.93,1469.18 \n",
       "  \"/>\n",
       "<path clip-path=\"url(#clip370)\" d=\"M 0 0 M228.125 1515.64 Q224.514 1515.64 222.685 1519.2 Q220.879 1522.75 220.879 1529.87 Q220.879 1536.98 222.685 1540.55 Q224.514 1544.09 228.125 1544.09 Q231.759 1544.09 233.565 1540.55 Q235.393 1536.98 235.393 1529.87 Q235.393 1522.75 233.565 1519.2 Q231.759 1515.64 228.125 1515.64 M228.125 1511.93 Q233.935 1511.93 236.99 1516.54 Q240.069 1521.12 240.069 1529.87 Q240.069 1538.6 236.99 1543.21 Q233.935 1547.79 228.125 1547.79 Q222.315 1547.79 219.236 1543.21 Q216.18 1538.6 216.18 1529.87 Q216.18 1521.12 219.236 1516.54 Q222.315 1511.93 228.125 1511.93 Z\" fill=\"#000000\" fill-rule=\"evenodd\" fill-opacity=\"1\" /><path clip-path=\"url(#clip370)\" d=\"M 0 0 M636.183 1543.18 L643.822 1543.18 L643.822 1516.82 L635.512 1518.49 L635.512 1514.23 L643.776 1512.56 L648.452 1512.56 L648.452 1543.18 L656.091 1543.18 L656.091 1547.12 L636.183 1547.12 L636.183 1543.18 Z\" fill=\"#000000\" fill-rule=\"evenodd\" fill-opacity=\"1\" /><path clip-path=\"url(#clip370)\" d=\"M 0 0 M675.535 1515.64 Q671.924 1515.64 670.095 1519.2 Q668.29 1522.75 668.29 1529.87 Q668.29 1536.98 670.095 1540.55 Q671.924 1544.09 675.535 1544.09 Q679.169 1544.09 680.975 1540.55 Q682.804 1536.98 682.804 1529.87 Q682.804 1522.75 680.975 1519.2 Q679.169 1515.64 675.535 1515.64 M675.535 1511.93 Q681.345 1511.93 684.401 1516.54 Q687.479 1521.12 687.479 1529.87 Q687.479 1538.6 684.401 1543.21 Q681.345 1547.79 675.535 1547.79 Q669.725 1547.79 666.646 1543.21 Q663.591 1538.6 663.591 1529.87 Q663.591 1521.12 666.646 1516.54 Q669.725 1511.93 675.535 1511.93 Z\" fill=\"#000000\" fill-rule=\"evenodd\" fill-opacity=\"1\" /><path clip-path=\"url(#clip370)\" d=\"M 0 0 M705.697 1515.64 Q702.086 1515.64 700.257 1519.2 Q698.452 1522.75 698.452 1529.87 Q698.452 1536.98 700.257 1540.55 Q702.086 1544.09 705.697 1544.09 Q709.331 1544.09 711.137 1540.55 Q712.965 1536.98 712.965 1529.87 Q712.965 1522.75 711.137 1519.2 Q709.331 1515.64 705.697 1515.64 M705.697 1511.93 Q711.507 1511.93 714.563 1516.54 Q717.641 1521.12 717.641 1529.87 Q717.641 1538.6 714.563 1543.21 Q711.507 1547.79 705.697 1547.79 Q699.887 1547.79 696.808 1543.21 Q693.753 1538.6 693.753 1529.87 Q693.753 1521.12 696.808 1516.54 Q699.887 1511.93 705.697 1511.93 Z\" fill=\"#000000\" fill-rule=\"evenodd\" fill-opacity=\"1\" /><path clip-path=\"url(#clip370)\" d=\"M 0 0 M1088.72 1543.18 L1105.04 1543.18 L1105.04 1547.12 L1083.1 1547.12 L1083.1 1543.18 Q1085.76 1540.43 1090.34 1535.8 Q1094.95 1531.15 1096.13 1529.81 Q1098.37 1527.28 1099.25 1525.55 Q1100.16 1523.79 1100.16 1522.1 Q1100.16 1519.34 1098.21 1517.61 Q1096.29 1515.87 1093.19 1515.87 Q1090.99 1515.87 1088.54 1516.63 Q1086.11 1517.4 1083.33 1518.95 L1083.33 1514.23 Q1086.15 1513.09 1088.61 1512.51 Q1091.06 1511.93 1093.1 1511.93 Q1098.47 1511.93 1101.66 1514.62 Q1104.86 1517.31 1104.86 1521.8 Q1104.86 1523.93 1104.05 1525.85 Q1103.26 1527.74 1101.15 1530.34 Q1100.57 1531.01 1097.47 1534.23 Q1094.37 1537.42 1088.72 1543.18 Z\" fill=\"#000000\" fill-rule=\"evenodd\" fill-opacity=\"1\" /><path clip-path=\"url(#clip370)\" d=\"M 0 0 M1124.86 1515.64 Q1121.24 1515.64 1119.42 1519.2 Q1117.61 1522.75 1117.61 1529.87 Q1117.61 1536.98 1119.42 1540.55 Q1121.24 1544.09 1124.86 1544.09 Q1128.49 1544.09 1130.29 1540.55 Q1132.12 1536.98 1132.12 1529.87 Q1132.12 1522.75 1130.29 1519.2 Q1128.49 1515.64 1124.86 1515.64 M1124.86 1511.93 Q1130.67 1511.93 1133.72 1516.54 Q1136.8 1521.12 1136.8 1529.87 Q1136.8 1538.6 1133.72 1543.21 Q1130.67 1547.79 1124.86 1547.79 Q1119.05 1547.79 1115.97 1543.21 Q1112.91 1538.6 1112.91 1529.87 Q1112.91 1521.12 1115.97 1516.54 Q1119.05 1511.93 1124.86 1511.93 Z\" fill=\"#000000\" fill-rule=\"evenodd\" fill-opacity=\"1\" /><path clip-path=\"url(#clip370)\" d=\"M 0 0 M1155.02 1515.64 Q1151.41 1515.64 1149.58 1519.2 Q1147.77 1522.75 1147.77 1529.87 Q1147.77 1536.98 1149.58 1540.55 Q1151.41 1544.09 1155.02 1544.09 Q1158.65 1544.09 1160.46 1540.55 Q1162.29 1536.98 1162.29 1529.87 Q1162.29 1522.75 1160.46 1519.2 Q1158.65 1515.64 1155.02 1515.64 M1155.02 1511.93 Q1160.83 1511.93 1163.88 1516.54 Q1166.96 1521.12 1166.96 1529.87 Q1166.96 1538.6 1163.88 1543.21 Q1160.83 1547.79 1155.02 1547.79 Q1149.21 1547.79 1146.13 1543.21 Q1143.07 1538.6 1143.07 1529.87 Q1143.07 1521.12 1146.13 1516.54 Q1149.21 1511.93 1155.02 1511.93 Z\" fill=\"#000000\" fill-rule=\"evenodd\" fill-opacity=\"1\" /><path clip-path=\"url(#clip370)\" d=\"M 0 0 M1547.24 1528.49 Q1550.6 1529.2 1552.47 1531.47 Q1554.37 1533.74 1554.37 1537.07 Q1554.37 1542.19 1550.85 1544.99 Q1547.34 1547.79 1540.85 1547.79 Q1538.68 1547.79 1536.36 1547.35 Q1534.07 1546.93 1531.62 1546.08 L1531.62 1541.56 Q1533.56 1542.7 1535.88 1543.28 Q1538.19 1543.86 1540.71 1543.86 Q1545.11 1543.86 1547.4 1542.12 Q1549.72 1540.38 1549.72 1537.07 Q1549.72 1534.02 1547.57 1532.31 Q1545.44 1530.57 1541.62 1530.57 L1537.59 1530.57 L1537.59 1526.73 L1541.8 1526.73 Q1545.25 1526.73 1547.08 1525.36 Q1548.91 1523.97 1548.91 1521.38 Q1548.91 1518.72 1547.01 1517.31 Q1545.14 1515.87 1541.62 1515.87 Q1539.7 1515.87 1537.5 1516.29 Q1535.3 1516.7 1532.66 1517.58 L1532.66 1513.42 Q1535.32 1512.68 1537.64 1512.31 Q1539.97 1511.93 1542.03 1511.93 Q1547.36 1511.93 1550.46 1514.37 Q1553.56 1516.77 1553.56 1520.89 Q1553.56 1523.76 1551.92 1525.75 Q1550.27 1527.72 1547.24 1528.49 Z\" fill=\"#000000\" fill-rule=\"evenodd\" fill-opacity=\"1\" /><path clip-path=\"url(#clip370)\" d=\"M 0 0 M1573.24 1515.64 Q1569.63 1515.64 1567.8 1519.2 Q1565.99 1522.75 1565.99 1529.87 Q1565.99 1536.98 1567.8 1540.55 Q1569.63 1544.09 1573.24 1544.09 Q1576.87 1544.09 1578.68 1540.55 Q1580.51 1536.98 1580.51 1529.87 Q1580.51 1522.75 1578.68 1519.2 Q1576.87 1515.64 1573.24 1515.64 M1573.24 1511.93 Q1579.05 1511.93 1582.1 1516.54 Q1585.18 1521.12 1585.18 1529.87 Q1585.18 1538.6 1582.1 1543.21 Q1579.05 1547.79 1573.24 1547.79 Q1567.43 1547.79 1564.35 1543.21 Q1561.29 1538.6 1561.29 1529.87 Q1561.29 1521.12 1564.35 1516.54 Q1567.43 1511.93 1573.24 1511.93 Z\" fill=\"#000000\" fill-rule=\"evenodd\" fill-opacity=\"1\" /><path clip-path=\"url(#clip370)\" d=\"M 0 0 M1603.4 1515.64 Q1599.79 1515.64 1597.96 1519.2 Q1596.15 1522.75 1596.15 1529.87 Q1596.15 1536.98 1597.96 1540.55 Q1599.79 1544.09 1603.4 1544.09 Q1607.03 1544.09 1608.84 1540.55 Q1610.67 1536.98 1610.67 1529.87 Q1610.67 1522.75 1608.84 1519.2 Q1607.03 1515.64 1603.4 1515.64 M1603.4 1511.93 Q1609.21 1511.93 1612.27 1516.54 Q1615.34 1521.12 1615.34 1529.87 Q1615.34 1538.6 1612.27 1543.21 Q1609.21 1547.79 1603.4 1547.79 Q1597.59 1547.79 1594.51 1543.21 Q1591.46 1538.6 1591.46 1529.87 Q1591.46 1521.12 1594.51 1516.54 Q1597.59 1511.93 1603.4 1511.93 Z\" fill=\"#000000\" fill-rule=\"evenodd\" fill-opacity=\"1\" /><path clip-path=\"url(#clip370)\" d=\"M 0 0 M1995.02 1516.63 L1983.22 1535.08 L1995.02 1535.08 L1995.02 1516.63 M1993.8 1512.56 L1999.68 1512.56 L1999.68 1535.08 L2004.61 1535.08 L2004.61 1538.97 L1999.68 1538.97 L1999.68 1547.12 L1995.02 1547.12 L1995.02 1538.97 L1979.42 1538.97 L1979.42 1534.46 L1993.8 1512.56 Z\" fill=\"#000000\" fill-rule=\"evenodd\" fill-opacity=\"1\" /><path clip-path=\"url(#clip370)\" d=\"M 0 0 M2022.34 1515.64 Q2018.73 1515.64 2016.9 1519.2 Q2015.09 1522.75 2015.09 1529.87 Q2015.09 1536.98 2016.9 1540.55 Q2018.73 1544.09 2022.34 1544.09 Q2025.97 1544.09 2027.78 1540.55 Q2029.61 1536.98 2029.61 1529.87 Q2029.61 1522.75 2027.78 1519.2 Q2025.97 1515.64 2022.34 1515.64 M2022.34 1511.93 Q2028.15 1511.93 2031.2 1516.54 Q2034.28 1521.12 2034.28 1529.87 Q2034.28 1538.6 2031.2 1543.21 Q2028.15 1547.79 2022.34 1547.79 Q2016.53 1547.79 2013.45 1543.21 Q2010.39 1538.6 2010.39 1529.87 Q2010.39 1521.12 2013.45 1516.54 Q2016.53 1511.93 2022.34 1511.93 Z\" fill=\"#000000\" fill-rule=\"evenodd\" fill-opacity=\"1\" /><path clip-path=\"url(#clip370)\" d=\"M 0 0 M2052.5 1515.64 Q2048.89 1515.64 2047.06 1519.2 Q2045.25 1522.75 2045.25 1529.87 Q2045.25 1536.98 2047.06 1540.55 Q2048.89 1544.09 2052.5 1544.09 Q2056.13 1544.09 2057.94 1540.55 Q2059.77 1536.98 2059.77 1529.87 Q2059.77 1522.75 2057.94 1519.2 Q2056.13 1515.64 2052.5 1515.64 M2052.5 1511.93 Q2058.31 1511.93 2061.37 1516.54 Q2064.44 1521.12 2064.44 1529.87 Q2064.44 1538.6 2061.37 1543.21 Q2058.31 1547.79 2052.5 1547.79 Q2046.69 1547.79 2043.61 1543.21 Q2040.56 1538.6 2040.56 1529.87 Q2040.56 1521.12 2043.61 1516.54 Q2046.69 1511.93 2052.5 1511.93 Z\" fill=\"#000000\" fill-rule=\"evenodd\" fill-opacity=\"1\" /><polyline clip-path=\"url(#clip372)\" style=\"stroke:#000000; stroke-width:2; stroke-opacity:0.1; fill:none\" points=\"\n",
       "  170.857,1258.44 2352.76,1258.44 \n",
       "  \"/>\n",
       "<polyline clip-path=\"url(#clip372)\" style=\"stroke:#000000; stroke-width:2; stroke-opacity:0.1; fill:none\" points=\"\n",
       "  170.857,868.286 2352.76,868.286 \n",
       "  \"/>\n",
       "<polyline clip-path=\"url(#clip372)\" style=\"stroke:#000000; stroke-width:2; stroke-opacity:0.1; fill:none\" points=\"\n",
       "  170.857,478.131 2352.76,478.131 \n",
       "  \"/>\n",
       "<polyline clip-path=\"url(#clip372)\" style=\"stroke:#000000; stroke-width:2; stroke-opacity:0.1; fill:none\" points=\"\n",
       "  170.857,87.9763 2352.76,87.9763 \n",
       "  \"/>\n",
       "<polyline clip-path=\"url(#clip370)\" style=\"stroke:#000000; stroke-width:4; stroke-opacity:1; fill:none\" points=\"\n",
       "  170.857,1486.45 170.857,47.2441 \n",
       "  \"/>\n",
       "<polyline clip-path=\"url(#clip370)\" style=\"stroke:#000000; stroke-width:4; stroke-opacity:1; fill:none\" points=\"\n",
       "  170.857,1258.44 197.04,1258.44 \n",
       "  \"/>\n",
       "<polyline clip-path=\"url(#clip370)\" style=\"stroke:#000000; stroke-width:4; stroke-opacity:1; fill:none\" points=\"\n",
       "  170.857,868.286 197.04,868.286 \n",
       "  \"/>\n",
       "<polyline clip-path=\"url(#clip370)\" style=\"stroke:#000000; stroke-width:4; stroke-opacity:1; fill:none\" points=\"\n",
       "  170.857,478.131 197.04,478.131 \n",
       "  \"/>\n",
       "<polyline clip-path=\"url(#clip370)\" style=\"stroke:#000000; stroke-width:4; stroke-opacity:1; fill:none\" points=\"\n",
       "  170.857,87.9763 197.04,87.9763 \n",
       "  \"/>\n",
       "<path clip-path=\"url(#clip370)\" d=\"M 0 0 M82.7975 1241.16 L101.154 1241.16 L101.154 1245.1 L87.0799 1245.1 L87.0799 1253.57 Q88.0984 1253.22 89.1169 1253.06 Q90.1354 1252.87 91.1539 1252.87 Q96.941 1252.87 100.321 1256.05 Q103.7 1259.22 103.7 1264.63 Q103.7 1270.21 100.228 1273.31 Q96.7558 1276.39 90.4364 1276.39 Q88.2604 1276.39 85.9919 1276.02 Q83.7466 1275.65 81.3392 1274.91 L81.3392 1270.21 Q83.4225 1271.35 85.6447 1271.9 Q87.8669 1272.46 90.3438 1272.46 Q94.3484 1272.46 96.6863 1270.35 Q99.0243 1268.24 99.0243 1264.63 Q99.0243 1261.02 96.6863 1258.92 Q94.3484 1256.81 90.3438 1256.81 Q88.4688 1256.81 86.5938 1257.23 Q84.7419 1257.64 82.7975 1258.52 L82.7975 1241.16 Z\" fill=\"#000000\" fill-rule=\"evenodd\" fill-opacity=\"1\" /><path clip-path=\"url(#clip370)\" d=\"M 0 0 M122.913 1244.24 Q119.302 1244.24 117.473 1247.8 Q115.668 1251.35 115.668 1258.48 Q115.668 1265.58 117.473 1269.15 Q119.302 1272.69 122.913 1272.69 Q126.547 1272.69 128.353 1269.15 Q130.182 1265.58 130.182 1258.48 Q130.182 1251.35 128.353 1247.8 Q126.547 1244.24 122.913 1244.24 M122.913 1240.54 Q128.723 1240.54 131.779 1245.14 Q134.857 1249.73 134.857 1258.48 Q134.857 1267.2 131.779 1271.81 Q128.723 1276.39 122.913 1276.39 Q117.103 1276.39 114.024 1271.81 Q110.969 1267.2 110.969 1258.48 Q110.969 1249.73 114.024 1245.14 Q117.103 1240.54 122.913 1240.54 Z\" fill=\"#000000\" fill-rule=\"evenodd\" fill-opacity=\"1\" /><path clip-path=\"url(#clip370)\" d=\"M 0 0 M53.3995 881.631 L61.0384 881.631 L61.0384 855.266 L52.7282 856.932 L52.7282 852.673 L60.9921 851.006 L65.668 851.006 L65.668 881.631 L73.3068 881.631 L73.3068 885.566 L53.3995 885.566 L53.3995 881.631 Z\" fill=\"#000000\" fill-rule=\"evenodd\" fill-opacity=\"1\" /><path clip-path=\"url(#clip370)\" d=\"M 0 0 M92.7512 854.085 Q89.1401 854.085 87.3114 857.65 Q85.5058 861.191 85.5058 868.321 Q85.5058 875.427 87.3114 878.992 Q89.1401 882.534 92.7512 882.534 Q96.3854 882.534 98.1909 878.992 Q100.02 875.427 100.02 868.321 Q100.02 861.191 98.1909 857.65 Q96.3854 854.085 92.7512 854.085 M92.7512 850.381 Q98.5613 850.381 101.617 854.988 Q104.696 859.571 104.696 868.321 Q104.696 877.048 101.617 881.654 Q98.5613 886.238 92.7512 886.238 Q86.941 886.238 83.8623 881.654 Q80.8068 877.048 80.8068 868.321 Q80.8068 859.571 83.8623 854.988 Q86.941 850.381 92.7512 850.381 Z\" fill=\"#000000\" fill-rule=\"evenodd\" fill-opacity=\"1\" /><path clip-path=\"url(#clip370)\" d=\"M 0 0 M122.913 854.085 Q119.302 854.085 117.473 857.65 Q115.668 861.191 115.668 868.321 Q115.668 875.427 117.473 878.992 Q119.302 882.534 122.913 882.534 Q126.547 882.534 128.353 878.992 Q130.182 875.427 130.182 868.321 Q130.182 861.191 128.353 857.65 Q126.547 854.085 122.913 854.085 M122.913 850.381 Q128.723 850.381 131.779 854.988 Q134.857 859.571 134.857 868.321 Q134.857 877.048 131.779 881.654 Q128.723 886.238 122.913 886.238 Q117.103 886.238 114.024 881.654 Q110.969 877.048 110.969 868.321 Q110.969 859.571 114.024 854.988 Q117.103 850.381 122.913 850.381 Z\" fill=\"#000000\" fill-rule=\"evenodd\" fill-opacity=\"1\" /><path clip-path=\"url(#clip370)\" d=\"M 0 0 M53.3995 491.476 L61.0384 491.476 L61.0384 465.111 L52.7282 466.777 L52.7282 462.518 L60.9921 460.851 L65.668 460.851 L65.668 491.476 L73.3068 491.476 L73.3068 495.411 L53.3995 495.411 L53.3995 491.476 Z\" fill=\"#000000\" fill-rule=\"evenodd\" fill-opacity=\"1\" /><path clip-path=\"url(#clip370)\" d=\"M 0 0 M82.7975 460.851 L101.154 460.851 L101.154 464.786 L87.0799 464.786 L87.0799 473.259 Q88.0984 472.911 89.1169 472.749 Q90.1354 472.564 91.1539 472.564 Q96.941 472.564 100.321 475.735 Q103.7 478.907 103.7 484.323 Q103.7 489.902 100.228 493.004 Q96.7558 496.083 90.4364 496.083 Q88.2604 496.083 85.9919 495.712 Q83.7466 495.342 81.3392 494.601 L81.3392 489.902 Q83.4225 491.036 85.6447 491.592 Q87.8669 492.147 90.3438 492.147 Q94.3484 492.147 96.6863 490.041 Q99.0243 487.934 99.0243 484.323 Q99.0243 480.712 96.6863 478.606 Q94.3484 476.499 90.3438 476.499 Q88.4688 476.499 86.5938 476.916 Q84.7419 477.333 82.7975 478.212 L82.7975 460.851 Z\" fill=\"#000000\" fill-rule=\"evenodd\" fill-opacity=\"1\" /><path clip-path=\"url(#clip370)\" d=\"M 0 0 M122.913 463.93 Q119.302 463.93 117.473 467.495 Q115.668 471.036 115.668 478.166 Q115.668 485.272 117.473 488.837 Q119.302 492.379 122.913 492.379 Q126.547 492.379 128.353 488.837 Q130.182 485.272 130.182 478.166 Q130.182 471.036 128.353 467.495 Q126.547 463.93 122.913 463.93 M122.913 460.226 Q128.723 460.226 131.779 464.833 Q134.857 469.416 134.857 478.166 Q134.857 486.893 131.779 491.499 Q128.723 496.083 122.913 496.083 Q117.103 496.083 114.024 491.499 Q110.969 486.893 110.969 478.166 Q110.969 469.416 114.024 464.833 Q117.103 460.226 122.913 460.226 Z\" fill=\"#000000\" fill-rule=\"evenodd\" fill-opacity=\"1\" /><path clip-path=\"url(#clip370)\" d=\"M 0 0 M56.6171 101.321 L72.9365 101.321 L72.9365 105.256 L50.9921 105.256 L50.9921 101.321 Q53.6541 98.5665 58.2375 93.9369 Q62.8439 89.2841 64.0245 87.9416 Q66.2698 85.4184 67.1494 83.6823 Q68.0522 81.9231 68.0522 80.2333 Q68.0522 77.4786 66.1078 75.7425 Q64.1865 74.0064 61.0847 74.0064 Q58.8856 74.0064 56.4319 74.7703 Q54.0014 75.5342 51.2236 77.0851 L51.2236 72.3629 Q54.0477 71.2287 56.5014 70.65 Q58.955 70.0713 60.9921 70.0713 Q66.3624 70.0713 69.5568 72.7565 Q72.7513 75.4416 72.7513 79.9323 Q72.7513 82.062 71.9411 83.9832 Q71.1541 85.8814 69.0476 88.474 Q68.4689 89.1453 65.367 92.3628 Q62.2652 95.5573 56.6171 101.321 Z\" fill=\"#000000\" fill-rule=\"evenodd\" fill-opacity=\"1\" /><path clip-path=\"url(#clip370)\" d=\"M 0 0 M92.7512 73.775 Q89.1401 73.775 87.3114 77.3398 Q85.5058 80.8814 85.5058 88.011 Q85.5058 95.1174 87.3114 98.6822 Q89.1401 102.224 92.7512 102.224 Q96.3854 102.224 98.1909 98.6822 Q100.02 95.1174 100.02 88.011 Q100.02 80.8814 98.1909 77.3398 Q96.3854 73.775 92.7512 73.775 M92.7512 70.0713 Q98.5613 70.0713 101.617 74.6777 Q104.696 79.261 104.696 88.011 Q104.696 96.7378 101.617 101.344 Q98.5613 105.928 92.7512 105.928 Q86.941 105.928 83.8623 101.344 Q80.8068 96.7378 80.8068 88.011 Q80.8068 79.261 83.8623 74.6777 Q86.941 70.0713 92.7512 70.0713 Z\" fill=\"#000000\" fill-rule=\"evenodd\" fill-opacity=\"1\" /><path clip-path=\"url(#clip370)\" d=\"M 0 0 M122.913 73.775 Q119.302 73.775 117.473 77.3398 Q115.668 80.8814 115.668 88.011 Q115.668 95.1174 117.473 98.6822 Q119.302 102.224 122.913 102.224 Q126.547 102.224 128.353 98.6822 Q130.182 95.1174 130.182 88.011 Q130.182 80.8814 128.353 77.3398 Q126.547 73.775 122.913 73.775 M122.913 70.0713 Q128.723 70.0713 131.779 74.6777 Q134.857 79.261 134.857 88.011 Q134.857 96.7378 131.779 101.344 Q128.723 105.928 122.913 105.928 Q117.103 105.928 114.024 101.344 Q110.969 96.7378 110.969 88.011 Q110.969 79.261 114.024 74.6777 Q117.103 70.0713 122.913 70.0713 Z\" fill=\"#000000\" fill-rule=\"evenodd\" fill-opacity=\"1\" /><polyline clip-path=\"url(#clip372)\" style=\"stroke:#009af9; stroke-width:4; stroke-opacity:1; fill:none\" points=\"\n",
       "  232.609,1445.72 237.094,1437.91 241.578,87.9763 246.063,87.9763 250.547,87.9763 255.032,87.9763 259.516,87.9763 264.001,87.9763 268.485,87.9763 272.97,87.9763 \n",
       "  277.454,87.9763 281.939,87.9763 286.424,87.9763 290.908,87.9763 295.393,87.9763 299.877,87.9763 304.362,87.9763 308.846,87.9763 313.331,87.9763 317.815,87.9763 \n",
       "  322.3,87.9763 326.784,87.9763 331.269,87.9763 335.753,87.9763 340.238,87.9763 344.722,87.9763 349.207,87.9763 353.691,87.9763 358.176,87.9763 362.66,87.9763 \n",
       "  367.145,87.9763 371.629,87.9763 376.114,87.9763 380.598,87.9763 385.083,87.9763 389.567,87.9763 394.052,87.9763 398.537,87.9763 403.021,87.9763 407.506,87.9763 \n",
       "  411.99,87.9763 416.475,87.9763 420.959,87.9763 425.444,87.9763 429.928,87.9763 434.413,87.9763 438.897,87.9763 443.382,87.9763 447.866,87.9763 452.351,87.9763 \n",
       "  456.835,87.9763 461.32,87.9763 465.804,87.9763 470.289,87.9763 474.773,87.9763 479.258,87.9763 483.742,87.9763 488.227,87.9763 492.711,87.9763 497.196,87.9763 \n",
       "  501.68,87.9763 506.165,87.9763 510.65,87.9763 515.134,87.9763 519.619,87.9763 524.103,87.9763 528.588,87.9763 533.072,87.9763 537.557,87.9763 542.041,87.9763 \n",
       "  546.526,87.9763 551.01,87.9763 555.495,87.9763 559.979,87.9763 564.464,87.9763 568.948,87.9763 573.433,87.9763 577.917,87.9763 582.402,87.9763 586.886,87.9763 \n",
       "  591.371,87.9763 595.855,87.9763 600.34,87.9763 604.824,87.9763 609.309,87.9763 613.793,87.9763 618.278,87.9763 622.763,87.9763 627.247,87.9763 631.732,87.9763 \n",
       "  636.216,87.9763 640.701,87.9763 645.185,87.9763 649.67,87.9763 654.154,87.9763 658.639,87.9763 663.123,87.9763 667.608,87.9763 672.092,87.9763 676.577,87.9763 \n",
       "  681.061,87.9763 685.546,87.9763 690.03,87.9763 694.515,87.9763 698.999,87.9763 703.484,87.9763 707.968,87.9763 712.453,87.9763 716.937,87.9763 721.422,87.9763 \n",
       "  725.906,87.9763 730.391,87.9763 734.876,87.9763 739.36,87.9763 743.845,87.9763 748.329,87.9763 752.814,87.9763 757.298,87.9763 761.783,87.9763 766.267,87.9763 \n",
       "  770.752,87.9763 775.236,87.9763 779.721,87.9763 784.205,87.9763 788.69,87.9763 793.174,87.9763 797.659,87.9763 802.143,87.9763 806.628,87.9763 811.112,87.9763 \n",
       "  815.597,87.9763 820.081,87.9763 824.566,87.9763 829.05,87.9763 833.535,87.9763 838.019,87.9763 842.504,87.9763 846.989,87.9763 851.473,87.9763 855.958,87.9763 \n",
       "  860.442,87.9763 864.927,87.9763 869.411,87.9763 873.896,87.9763 878.38,87.9763 882.865,87.9763 887.349,87.9763 891.834,87.9763 896.318,87.9763 900.803,87.9763 \n",
       "  905.287,87.9763 909.772,87.9763 914.256,87.9763 918.741,87.9763 923.225,87.9763 927.71,87.9763 932.194,87.9763 936.679,87.9763 941.163,87.9763 945.648,87.9763 \n",
       "  950.133,87.9763 954.617,87.9763 959.102,87.9763 963.586,87.9763 968.071,87.9763 972.555,87.9763 977.04,87.9763 981.524,87.9763 986.009,87.9763 990.493,87.9763 \n",
       "  994.978,87.9763 999.462,87.9763 1003.95,87.9763 1008.43,87.9763 1012.92,87.9763 1017.4,87.9763 1021.88,87.9763 1026.37,87.9763 1030.85,87.9763 1035.34,87.9763 \n",
       "  1039.82,87.9763 1044.31,87.9763 1048.79,87.9763 1053.28,87.9763 1057.76,87.9763 1062.25,87.9763 1066.73,87.9763 1071.21,87.9763 1075.7,87.9763 1080.18,87.9763 \n",
       "  1084.67,87.9763 1089.15,87.9763 1093.64,87.9763 1098.12,87.9763 1102.61,87.9763 1107.09,87.9763 1111.58,87.9763 1116.06,87.9763 1120.54,87.9763 1125.03,87.9763 \n",
       "  1129.51,87.9763 1134,87.9763 1138.48,87.9763 1142.97,87.9763 1147.45,87.9763 1151.94,87.9763 1156.42,87.9763 1160.9,87.9763 1165.39,87.9763 1169.87,87.9763 \n",
       "  1174.36,87.9763 1178.84,87.9763 1183.33,87.9763 1187.81,87.9763 1192.3,87.9763 1196.78,87.9763 1201.27,87.9763 1205.75,87.9763 1210.23,87.9763 1214.72,87.9763 \n",
       "  1219.2,87.9763 1223.69,87.9763 1228.17,87.9763 1232.66,87.9763 1237.14,87.9763 1241.63,87.9763 1246.11,87.9763 1250.6,87.9763 1255.08,87.9763 1259.56,87.9763 \n",
       "  1264.05,87.9763 1268.53,87.9763 1273.02,87.9763 1277.5,87.9763 1281.99,87.9763 1286.47,87.9763 1290.96,87.9763 1295.44,87.9763 1299.93,87.9763 1304.41,87.9763 \n",
       "  1308.89,87.9763 1313.38,87.9763 1317.86,87.9763 1322.35,87.9763 1326.83,87.9763 1331.32,87.9763 1335.8,87.9763 1340.29,87.9763 1344.77,87.9763 1349.25,87.9763 \n",
       "  1353.74,87.9763 1358.22,87.9763 1362.71,87.9763 1367.19,87.9763 1371.68,87.9763 1376.16,87.9763 1380.65,87.9763 1385.13,87.9763 1389.62,87.9763 1394.1,87.9763 \n",
       "  1398.58,87.9763 1403.07,87.9763 1407.55,87.9763 1412.04,87.9763 1416.52,87.9763 1421.01,87.9763 1425.49,87.9763 1429.98,87.9763 1434.46,87.9763 1438.95,87.9763 \n",
       "  1443.43,87.9763 1447.91,87.9763 1452.4,87.9763 1456.88,87.9763 1461.37,87.9763 1465.85,87.9763 1470.34,87.9763 1474.82,87.9763 1479.31,87.9763 1483.79,87.9763 \n",
       "  1488.27,87.9763 1492.76,87.9763 1497.24,87.9763 1501.73,87.9763 1506.21,87.9763 1510.7,87.9763 1515.18,87.9763 1519.67,87.9763 1524.15,87.9763 1528.64,87.9763 \n",
       "  1533.12,87.9763 1537.6,87.9763 1542.09,87.9763 1546.57,87.9763 1551.06,87.9763 1555.54,87.9763 1560.03,87.9763 1564.51,87.9763 1569,87.9763 1573.48,87.9763 \n",
       "  1577.97,87.9763 1582.45,87.9763 1586.93,87.9763 1591.42,87.9763 1595.9,87.9763 1600.39,87.9763 1604.87,87.9763 1609.36,87.9763 1613.84,87.9763 1618.33,87.9763 \n",
       "  1622.81,87.9763 1627.3,87.9763 1631.78,87.9763 1636.26,87.9763 1640.75,87.9763 1645.23,87.9763 1649.72,87.9763 1654.2,87.9763 1658.69,87.9763 1663.17,87.9763 \n",
       "  1667.66,87.9763 1672.14,87.9763 1676.62,87.9763 1681.11,87.9763 1685.59,87.9763 1690.08,87.9763 1694.56,87.9763 1699.05,87.9763 1703.53,87.9763 1708.02,87.9763 \n",
       "  1712.5,87.9763 1716.99,87.9763 1721.47,87.9763 1725.95,87.9763 1730.44,87.9763 1734.92,87.9763 1739.41,87.9763 1743.89,87.9763 1748.38,87.9763 1752.86,87.9763 \n",
       "  1757.35,87.9763 1761.83,87.9763 1766.32,87.9763 1770.8,87.9763 1775.28,87.9763 1779.77,87.9763 1784.25,87.9763 1788.74,87.9763 1793.22,87.9763 1797.71,87.9763 \n",
       "  1802.19,87.9763 1806.68,87.9763 1811.16,87.9763 1815.64,87.9763 1820.13,87.9763 1824.61,87.9763 1829.1,87.9763 1833.58,87.9763 1838.07,87.9763 1842.55,87.9763 \n",
       "  1847.04,87.9763 1851.52,87.9763 1856.01,87.9763 1860.49,87.9763 1864.97,87.9763 1869.46,87.9763 1873.94,87.9763 1878.43,87.9763 1882.91,87.9763 1887.4,87.9763 \n",
       "  1891.88,87.9763 1896.37,87.9763 1900.85,87.9763 1905.34,87.9763 1909.82,87.9763 1914.3,87.9763 1918.79,87.9763 1923.27,87.9763 1927.76,87.9763 1932.24,87.9763 \n",
       "  1936.73,87.9763 1941.21,87.9763 1945.7,87.9763 1950.18,87.9763 1954.67,87.9763 1959.15,87.9763 1963.63,87.9763 1968.12,87.9763 1972.6,87.9763 1977.09,87.9763 \n",
       "  1981.57,87.9763 1986.06,87.9763 1990.54,87.9763 1995.03,87.9763 1999.51,87.9763 2003.99,87.9763 2008.48,87.9763 2012.96,87.9763 2017.45,87.9763 2021.93,87.9763 \n",
       "  2026.42,87.9763 2030.9,87.9763 2035.39,87.9763 2039.87,87.9763 2044.36,87.9763 2048.84,87.9763 2053.32,87.9763 2057.81,87.9763 2062.29,87.9763 2066.78,87.9763 \n",
       "  2071.26,87.9763 2075.75,87.9763 2080.23,87.9763 2084.72,87.9763 2089.2,87.9763 2093.69,87.9763 2098.17,87.9763 2102.65,87.9763 2107.14,87.9763 2111.62,87.9763 \n",
       "  2116.11,87.9763 2120.59,87.9763 2125.08,87.9763 2129.56,87.9763 2134.05,87.9763 2138.53,87.9763 2143.01,87.9763 2147.5,87.9763 2151.98,87.9763 2156.47,87.9763 \n",
       "  2160.95,87.9763 2165.44,87.9763 2169.92,87.9763 2174.41,87.9763 2178.89,87.9763 2183.38,87.9763 2187.86,87.9763 2192.34,87.9763 2196.83,87.9763 2201.31,87.9763 \n",
       "  2205.8,87.9763 2210.28,87.9763 2214.77,87.9763 2219.25,87.9763 2223.74,87.9763 2228.22,87.9763 2232.71,87.9763 2237.19,87.9763 2241.67,87.9763 2246.16,87.9763 \n",
       "  2250.64,87.9763 2255.13,87.9763 2259.61,87.9763 2264.1,87.9763 2268.58,87.9763 2273.07,87.9763 2277.55,87.9763 2282.04,87.9763 2286.52,87.9763 2291,87.9763 \n",
       "  \n",
       "  \"/>\n",
       "<path clip-path=\"url(#clip370)\" d=\"\n",
       "M1985.16 216.178 L2280.03 216.178 L2280.03 95.2176 L1985.16 95.2176  Z\n",
       "  \" fill=\"#ffffff\" fill-rule=\"evenodd\" fill-opacity=\"1\"/>\n",
       "<polyline clip-path=\"url(#clip370)\" style=\"stroke:#000000; stroke-width:4; stroke-opacity:1; fill:none\" points=\"\n",
       "  1985.16,216.178 2280.03,216.178 2280.03,95.2176 1985.16,95.2176 1985.16,216.178 \n",
       "  \"/>\n",
       "<polyline clip-path=\"url(#clip370)\" style=\"stroke:#009af9; stroke-width:4; stroke-opacity:1; fill:none\" points=\"\n",
       "  2009.41,155.698 2154.87,155.698 \n",
       "  \"/>\n",
       "<path clip-path=\"url(#clip370)\" d=\"M 0 0 M2192.95 175.385 Q2191.15 180.015 2189.43 181.427 Q2187.72 182.839 2184.85 182.839 L2181.45 182.839 L2181.45 179.274 L2183.95 179.274 Q2185.71 179.274 2186.68 178.44 Q2187.65 177.607 2188.83 174.505 L2189.6 172.561 L2179.11 147.052 L2183.62 147.052 L2191.72 167.329 L2199.83 147.052 L2204.34 147.052 L2192.95 175.385 Z\" fill=\"#000000\" fill-rule=\"evenodd\" fill-opacity=\"1\" /><path clip-path=\"url(#clip370)\" d=\"M 0 0 M2211.63 169.042 L2219.27 169.042 L2219.27 142.677 L2210.96 144.343 L2210.96 140.084 L2219.22 138.418 L2223.9 138.418 L2223.9 169.042 L2231.54 169.042 L2231.54 172.978 L2211.63 172.978 L2211.63 169.042 Z\" fill=\"#000000\" fill-rule=\"evenodd\" fill-opacity=\"1\" /></svg>\n"
      ]
     },
     "execution_count": 48,
     "metadata": {},
     "output_type": "execute_result"
    }
   ],
   "source": [
    "fits, expert = one_plus_lambda(layers, n_gens, play_cartpole, 𝜆)\n",
    "plot(fits)"
   ]
  },
  {
   "cell_type": "markdown",
   "id": "marked-monthly",
   "metadata": {
    "slideshow": {
     "slide_type": "slide"
    }
   },
   "source": [
    "## Evolutionary Strategies"
   ]
  },
  {
   "cell_type": "code",
   "execution_count": 40,
   "id": "pressing-counter",
   "metadata": {},
   "outputs": [
    {
     "data": {
      "text/plain": [
       "ES (generic function with 4 methods)"
      ]
     },
     "execution_count": 40,
     "metadata": {},
     "output_type": "execute_result"
    }
   ],
   "source": [
    "using Statistics\n",
    "using LinearAlgebra\n",
    "\n",
    "function ES(layers::Array, num_generations::Int, f::Function, npop::Int=50, sigma=0.5, alpha=0.01)\n",
    "    µ = Individual(layers::Array) # Center\n",
    "    n = length(µ.genes)\n",
    "    evaluate!(µ, f)\n",
    "\n",
    "    expert = µ # Best individual so far\n",
    "\n",
    "    fits = zeros(num_generations)\n",
    "\n",
    "    for i in eachindex(fits)\n",
    "        population = Array{Individual}(undef, 𝜆)\n",
    "        best = 1\n",
    "        for j in eachindex(population)\n",
    "            new_genes = µ.genes + randn(n) .* sigma\n",
    "            population[j] = Individual(layers, new_genes)\n",
    "            evaluate!(population[j], f)\n",
    "            if population[j].fitness > population[best].fitness\n",
    "                best = j\n",
    "            end\n",
    "        end\n",
    "\n",
    "        if population[best].fitness >= expert.fitness\n",
    "            expert = population[best]\n",
    "        end\n",
    "\n",
    "        fits[i] = expert.fitness\n",
    "\n",
    "        # TODO: µ update\n",
    "\n",
    "        print(i, \"/\",  num_generations, \" > \", expert.fitness, \"\\t\\t\\r\")\n",
    "    end\n",
    "    fits, expert\n",
    "end\n"
   ]
  },
  {
   "cell_type": "code",
   "execution_count": 41,
   "id": "c90b71d0",
   "metadata": {},
   "outputs": [],
   "source": [
    "## Uncomment and run the next line to load a solution \n",
    "# IJulia.load(\"solutions/es.jl\") "
   ]
  },
  {
   "cell_type": "code",
   "execution_count": 43,
   "id": "superb-sequence",
   "metadata": {
    "slideshow": {
     "slide_type": "subslide"
    }
   },
   "outputs": [
    {
     "data": {
      "text/plain": [
       "386"
      ]
     },
     "execution_count": 43,
     "metadata": {},
     "output_type": "execute_result"
    }
   ],
   "source": [
    "layers = [4, 16, 16, 2]\n",
    "ind = Individual(layers)\n",
    "n = length(ind.genes)"
   ]
  },
  {
   "cell_type": "code",
   "execution_count": 44,
   "id": "personalized-future",
   "metadata": {},
   "outputs": [
    {
     "name": "stdout",
     "output_type": "stream",
     "text": [
      "100/100 > 200.0\t\t\r"
     ]
    },
    {
     "data": {
      "image/svg+xml": [
       "<?xml version=\"1.0\" encoding=\"utf-8\"?>\n",
       "<svg xmlns=\"http://www.w3.org/2000/svg\" xmlns:xlink=\"http://www.w3.org/1999/xlink\" width=\"600\" height=\"400\" viewBox=\"0 0 2400 1600\">\n",
       "<defs>\n",
       "  <clipPath id=\"clip330\">\n",
       "    <rect x=\"0\" y=\"0\" width=\"2400\" height=\"1600\"/>\n",
       "  </clipPath>\n",
       "</defs>\n",
       "<path clip-path=\"url(#clip330)\" d=\"\n",
       "M0 1600 L2400 1600 L2400 0 L0 0  Z\n",
       "  \" fill=\"#ffffff\" fill-rule=\"evenodd\" fill-opacity=\"1\"/>\n",
       "<defs>\n",
       "  <clipPath id=\"clip331\">\n",
       "    <rect x=\"480\" y=\"0\" width=\"1681\" height=\"1600\"/>\n",
       "  </clipPath>\n",
       "</defs>\n",
       "<path clip-path=\"url(#clip330)\" d=\"\n",
       "M170.857 1486.45 L2352.76 1486.45 L2352.76 47.2441 L170.857 47.2441  Z\n",
       "  \" fill=\"#ffffff\" fill-rule=\"evenodd\" fill-opacity=\"1\"/>\n",
       "<defs>\n",
       "  <clipPath id=\"clip332\">\n",
       "    <rect x=\"170\" y=\"47\" width=\"2183\" height=\"1440\"/>\n",
       "  </clipPath>\n",
       "</defs>\n",
       "<polyline clip-path=\"url(#clip332)\" style=\"stroke:#000000; stroke-width:2; stroke-opacity:0.1; fill:none\" points=\"\n",
       "  211.817,1486.45 211.817,47.2441 \n",
       "  \"/>\n",
       "<polyline clip-path=\"url(#clip332)\" style=\"stroke:#000000; stroke-width:2; stroke-opacity:0.1; fill:none\" points=\"\n",
       "  731.614,1486.45 731.614,47.2441 \n",
       "  \"/>\n",
       "<polyline clip-path=\"url(#clip332)\" style=\"stroke:#000000; stroke-width:2; stroke-opacity:0.1; fill:none\" points=\"\n",
       "  1251.41,1486.45 1251.41,47.2441 \n",
       "  \"/>\n",
       "<polyline clip-path=\"url(#clip332)\" style=\"stroke:#000000; stroke-width:2; stroke-opacity:0.1; fill:none\" points=\"\n",
       "  1771.21,1486.45 1771.21,47.2441 \n",
       "  \"/>\n",
       "<polyline clip-path=\"url(#clip332)\" style=\"stroke:#000000; stroke-width:2; stroke-opacity:0.1; fill:none\" points=\"\n",
       "  2291,1486.45 2291,47.2441 \n",
       "  \"/>\n",
       "<polyline clip-path=\"url(#clip330)\" style=\"stroke:#000000; stroke-width:4; stroke-opacity:1; fill:none\" points=\"\n",
       "  170.857,1486.45 2352.76,1486.45 \n",
       "  \"/>\n",
       "<polyline clip-path=\"url(#clip330)\" style=\"stroke:#000000; stroke-width:4; stroke-opacity:1; fill:none\" points=\"\n",
       "  211.817,1486.45 211.817,1469.18 \n",
       "  \"/>\n",
       "<polyline clip-path=\"url(#clip330)\" style=\"stroke:#000000; stroke-width:4; stroke-opacity:1; fill:none\" points=\"\n",
       "  731.614,1486.45 731.614,1469.18 \n",
       "  \"/>\n",
       "<polyline clip-path=\"url(#clip330)\" style=\"stroke:#000000; stroke-width:4; stroke-opacity:1; fill:none\" points=\"\n",
       "  1251.41,1486.45 1251.41,1469.18 \n",
       "  \"/>\n",
       "<polyline clip-path=\"url(#clip330)\" style=\"stroke:#000000; stroke-width:4; stroke-opacity:1; fill:none\" points=\"\n",
       "  1771.21,1486.45 1771.21,1469.18 \n",
       "  \"/>\n",
       "<polyline clip-path=\"url(#clip330)\" style=\"stroke:#000000; stroke-width:4; stroke-opacity:1; fill:none\" points=\"\n",
       "  2291,1486.45 2291,1469.18 \n",
       "  \"/>\n",
       "<path clip-path=\"url(#clip330)\" d=\"M 0 0 M211.817 1515.64 Q208.206 1515.64 206.378 1519.2 Q204.572 1522.75 204.572 1529.87 Q204.572 1536.98 206.378 1540.55 Q208.206 1544.09 211.817 1544.09 Q215.452 1544.09 217.257 1540.55 Q219.086 1536.98 219.086 1529.87 Q219.086 1522.75 217.257 1519.2 Q215.452 1515.64 211.817 1515.64 M211.817 1511.93 Q217.628 1511.93 220.683 1516.54 Q223.762 1521.12 223.762 1529.87 Q223.762 1538.6 220.683 1543.21 Q217.628 1547.79 211.817 1547.79 Q206.007 1547.79 202.929 1543.21 Q199.873 1538.6 199.873 1529.87 Q199.873 1521.12 202.929 1516.54 Q206.007 1511.93 211.817 1511.93 Z\" fill=\"#000000\" fill-rule=\"evenodd\" fill-opacity=\"1\" /><path clip-path=\"url(#clip330)\" d=\"M 0 0 M710.885 1543.18 L727.204 1543.18 L727.204 1547.12 L705.26 1547.12 L705.26 1543.18 Q707.922 1540.43 712.505 1535.8 Q717.112 1531.15 718.292 1529.81 Q720.538 1527.28 721.417 1525.55 Q722.32 1523.79 722.32 1522.1 Q722.32 1519.34 720.376 1517.61 Q718.454 1515.87 715.353 1515.87 Q713.154 1515.87 710.7 1516.63 Q708.269 1517.4 705.492 1518.95 L705.492 1514.23 Q708.316 1513.09 710.769 1512.51 Q713.223 1511.93 715.26 1511.93 Q720.63 1511.93 723.825 1514.62 Q727.019 1517.31 727.019 1521.8 Q727.019 1523.93 726.209 1525.85 Q725.422 1527.74 723.315 1530.34 Q722.737 1531.01 719.635 1534.23 Q716.533 1537.42 710.885 1543.18 Z\" fill=\"#000000\" fill-rule=\"evenodd\" fill-opacity=\"1\" /><path clip-path=\"url(#clip330)\" d=\"M 0 0 M737.065 1512.56 L755.422 1512.56 L755.422 1516.5 L741.348 1516.5 L741.348 1524.97 Q742.366 1524.62 743.385 1524.46 Q744.403 1524.27 745.422 1524.27 Q751.209 1524.27 754.588 1527.44 Q757.968 1530.62 757.968 1536.03 Q757.968 1541.61 754.496 1544.71 Q751.024 1547.79 744.704 1547.79 Q742.528 1547.79 740.26 1547.42 Q738.014 1547.05 735.607 1546.31 L735.607 1541.61 Q737.69 1542.74 739.913 1543.3 Q742.135 1543.86 744.612 1543.86 Q748.616 1543.86 750.954 1541.75 Q753.292 1539.64 753.292 1536.03 Q753.292 1532.42 750.954 1530.31 Q748.616 1528.21 744.612 1528.21 Q742.737 1528.21 740.862 1528.62 Q739.01 1529.04 737.065 1529.92 L737.065 1512.56 Z\" fill=\"#000000\" fill-rule=\"evenodd\" fill-opacity=\"1\" /><path clip-path=\"url(#clip330)\" d=\"M 0 0 M1226.11 1512.56 L1244.47 1512.56 L1244.47 1516.5 L1230.39 1516.5 L1230.39 1524.97 Q1231.41 1524.62 1232.43 1524.46 Q1233.45 1524.27 1234.47 1524.27 Q1240.25 1524.27 1243.63 1527.44 Q1247.01 1530.62 1247.01 1536.03 Q1247.01 1541.61 1243.54 1544.71 Q1240.07 1547.79 1233.75 1547.79 Q1231.57 1547.79 1229.3 1547.42 Q1227.06 1547.05 1224.65 1546.31 L1224.65 1541.61 Q1226.73 1542.74 1228.96 1543.3 Q1231.18 1543.86 1233.66 1543.86 Q1237.66 1543.86 1240 1541.75 Q1242.34 1539.64 1242.34 1536.03 Q1242.34 1532.42 1240 1530.31 Q1237.66 1528.21 1233.66 1528.21 Q1231.78 1528.21 1229.91 1528.62 Q1228.05 1529.04 1226.11 1529.92 L1226.11 1512.56 Z\" fill=\"#000000\" fill-rule=\"evenodd\" fill-opacity=\"1\" /><path clip-path=\"url(#clip330)\" d=\"M 0 0 M1266.23 1515.64 Q1262.61 1515.64 1260.79 1519.2 Q1258.98 1522.75 1258.98 1529.87 Q1258.98 1536.98 1260.79 1540.55 Q1262.61 1544.09 1266.23 1544.09 Q1269.86 1544.09 1271.67 1540.55 Q1273.49 1536.98 1273.49 1529.87 Q1273.49 1522.75 1271.67 1519.2 Q1269.86 1515.64 1266.23 1515.64 M1266.23 1511.93 Q1272.04 1511.93 1275.09 1516.54 Q1278.17 1521.12 1278.17 1529.87 Q1278.17 1538.6 1275.09 1543.21 Q1272.04 1547.79 1266.23 1547.79 Q1260.42 1547.79 1257.34 1543.21 Q1254.28 1538.6 1254.28 1529.87 Q1254.28 1521.12 1257.34 1516.54 Q1260.42 1511.93 1266.23 1511.93 Z\" fill=\"#000000\" fill-rule=\"evenodd\" fill-opacity=\"1\" /><path clip-path=\"url(#clip330)\" d=\"M 0 0 M1745.06 1512.56 L1767.28 1512.56 L1767.28 1514.55 L1754.74 1547.12 L1749.85 1547.12 L1761.66 1516.5 L1745.06 1516.5 L1745.06 1512.56 Z\" fill=\"#000000\" fill-rule=\"evenodd\" fill-opacity=\"1\" /><path clip-path=\"url(#clip330)\" d=\"M 0 0 M1776.45 1512.56 L1794.81 1512.56 L1794.81 1516.5 L1780.73 1516.5 L1780.73 1524.97 Q1781.75 1524.62 1782.77 1524.46 Q1783.79 1524.27 1784.81 1524.27 Q1790.59 1524.27 1793.97 1527.44 Q1797.35 1530.62 1797.35 1536.03 Q1797.35 1541.61 1793.88 1544.71 Q1790.41 1547.79 1784.09 1547.79 Q1781.91 1547.79 1779.64 1547.42 Q1777.4 1547.05 1774.99 1546.31 L1774.99 1541.61 Q1777.08 1542.74 1779.3 1543.3 Q1781.52 1543.86 1784 1543.86 Q1788 1543.86 1790.34 1541.75 Q1792.68 1539.64 1792.68 1536.03 Q1792.68 1532.42 1790.34 1530.31 Q1788 1528.21 1784 1528.21 Q1782.12 1528.21 1780.25 1528.62 Q1778.39 1529.04 1776.45 1529.92 L1776.45 1512.56 Z\" fill=\"#000000\" fill-rule=\"evenodd\" fill-opacity=\"1\" /><path clip-path=\"url(#clip330)\" d=\"M 0 0 M2250.61 1543.18 L2258.25 1543.18 L2258.25 1516.82 L2249.94 1518.49 L2249.94 1514.23 L2258.2 1512.56 L2262.88 1512.56 L2262.88 1543.18 L2270.52 1543.18 L2270.52 1547.12 L2250.61 1547.12 L2250.61 1543.18 Z\" fill=\"#000000\" fill-rule=\"evenodd\" fill-opacity=\"1\" /><path clip-path=\"url(#clip330)\" d=\"M 0 0 M2289.96 1515.64 Q2286.35 1515.64 2284.52 1519.2 Q2282.72 1522.75 2282.72 1529.87 Q2282.72 1536.98 2284.52 1540.55 Q2286.35 1544.09 2289.96 1544.09 Q2293.6 1544.09 2295.4 1540.55 Q2297.23 1536.98 2297.23 1529.87 Q2297.23 1522.75 2295.4 1519.2 Q2293.6 1515.64 2289.96 1515.64 M2289.96 1511.93 Q2295.77 1511.93 2298.83 1516.54 Q2301.91 1521.12 2301.91 1529.87 Q2301.91 1538.6 2298.83 1543.21 Q2295.77 1547.79 2289.96 1547.79 Q2284.15 1547.79 2281.07 1543.21 Q2278.02 1538.6 2278.02 1529.87 Q2278.02 1521.12 2281.07 1516.54 Q2284.15 1511.93 2289.96 1511.93 Z\" fill=\"#000000\" fill-rule=\"evenodd\" fill-opacity=\"1\" /><path clip-path=\"url(#clip330)\" d=\"M 0 0 M2320.12 1515.64 Q2316.51 1515.64 2314.68 1519.2 Q2312.88 1522.75 2312.88 1529.87 Q2312.88 1536.98 2314.68 1540.55 Q2316.51 1544.09 2320.12 1544.09 Q2323.76 1544.09 2325.56 1540.55 Q2327.39 1536.98 2327.39 1529.87 Q2327.39 1522.75 2325.56 1519.2 Q2323.76 1515.64 2320.12 1515.64 M2320.12 1511.93 Q2325.93 1511.93 2328.99 1516.54 Q2332.07 1521.12 2332.07 1529.87 Q2332.07 1538.6 2328.99 1543.21 Q2325.93 1547.79 2320.12 1547.79 Q2314.31 1547.79 2311.24 1543.21 Q2308.18 1538.6 2308.18 1529.87 Q2308.18 1521.12 2311.24 1516.54 Q2314.31 1511.93 2320.12 1511.93 Z\" fill=\"#000000\" fill-rule=\"evenodd\" fill-opacity=\"1\" /><polyline clip-path=\"url(#clip332)\" style=\"stroke:#000000; stroke-width:2; stroke-opacity:0.1; fill:none\" points=\"\n",
       "  170.857,1285.98 2352.76,1285.98 \n",
       "  \"/>\n",
       "<polyline clip-path=\"url(#clip332)\" style=\"stroke:#000000; stroke-width:2; stroke-opacity:0.1; fill:none\" points=\"\n",
       "  170.857,886.647 2352.76,886.647 \n",
       "  \"/>\n",
       "<polyline clip-path=\"url(#clip332)\" style=\"stroke:#000000; stroke-width:2; stroke-opacity:0.1; fill:none\" points=\"\n",
       "  170.857,487.311 2352.76,487.311 \n",
       "  \"/>\n",
       "<polyline clip-path=\"url(#clip332)\" style=\"stroke:#000000; stroke-width:2; stroke-opacity:0.1; fill:none\" points=\"\n",
       "  170.857,87.9763 2352.76,87.9763 \n",
       "  \"/>\n",
       "<polyline clip-path=\"url(#clip330)\" style=\"stroke:#000000; stroke-width:4; stroke-opacity:1; fill:none\" points=\"\n",
       "  170.857,1486.45 170.857,47.2441 \n",
       "  \"/>\n",
       "<polyline clip-path=\"url(#clip330)\" style=\"stroke:#000000; stroke-width:4; stroke-opacity:1; fill:none\" points=\"\n",
       "  170.857,1285.98 197.04,1285.98 \n",
       "  \"/>\n",
       "<polyline clip-path=\"url(#clip330)\" style=\"stroke:#000000; stroke-width:4; stroke-opacity:1; fill:none\" points=\"\n",
       "  170.857,886.647 197.04,886.647 \n",
       "  \"/>\n",
       "<polyline clip-path=\"url(#clip330)\" style=\"stroke:#000000; stroke-width:4; stroke-opacity:1; fill:none\" points=\"\n",
       "  170.857,487.311 197.04,487.311 \n",
       "  \"/>\n",
       "<polyline clip-path=\"url(#clip330)\" style=\"stroke:#000000; stroke-width:4; stroke-opacity:1; fill:none\" points=\"\n",
       "  170.857,87.9763 197.04,87.9763 \n",
       "  \"/>\n",
       "<path clip-path=\"url(#clip330)\" d=\"M 0 0 M82.7975 1268.7 L101.154 1268.7 L101.154 1272.64 L87.0799 1272.64 L87.0799 1281.11 Q88.0984 1280.76 89.1169 1280.6 Q90.1354 1280.41 91.1539 1280.41 Q96.941 1280.41 100.321 1283.59 Q103.7 1286.76 103.7 1292.17 Q103.7 1297.75 100.228 1300.85 Q96.7558 1303.93 90.4364 1303.93 Q88.2604 1303.93 85.9919 1303.56 Q83.7466 1303.19 81.3392 1302.45 L81.3392 1297.75 Q83.4225 1298.89 85.6447 1299.44 Q87.8669 1300 90.3438 1300 Q94.3484 1300 96.6863 1297.89 Q99.0243 1295.78 99.0243 1292.17 Q99.0243 1288.56 96.6863 1286.46 Q94.3484 1284.35 90.3438 1284.35 Q88.4688 1284.35 86.5938 1284.77 Q84.7419 1285.18 82.7975 1286.06 L82.7975 1268.7 Z\" fill=\"#000000\" fill-rule=\"evenodd\" fill-opacity=\"1\" /><path clip-path=\"url(#clip330)\" d=\"M 0 0 M122.913 1271.78 Q119.302 1271.78 117.473 1275.35 Q115.668 1278.89 115.668 1286.02 Q115.668 1293.12 117.473 1296.69 Q119.302 1300.23 122.913 1300.23 Q126.547 1300.23 128.353 1296.69 Q130.182 1293.12 130.182 1286.02 Q130.182 1278.89 128.353 1275.35 Q126.547 1271.78 122.913 1271.78 M122.913 1268.08 Q128.723 1268.08 131.779 1272.68 Q134.857 1277.27 134.857 1286.02 Q134.857 1294.74 131.779 1299.35 Q128.723 1303.93 122.913 1303.93 Q117.103 1303.93 114.024 1299.35 Q110.969 1294.74 110.969 1286.02 Q110.969 1277.27 114.024 1272.68 Q117.103 1268.08 122.913 1268.08 Z\" fill=\"#000000\" fill-rule=\"evenodd\" fill-opacity=\"1\" /><path clip-path=\"url(#clip330)\" d=\"M 0 0 M53.3995 899.991 L61.0384 899.991 L61.0384 873.626 L52.7282 875.292 L52.7282 871.033 L60.9921 869.367 L65.668 869.367 L65.668 899.991 L73.3068 899.991 L73.3068 903.927 L53.3995 903.927 L53.3995 899.991 Z\" fill=\"#000000\" fill-rule=\"evenodd\" fill-opacity=\"1\" /><path clip-path=\"url(#clip330)\" d=\"M 0 0 M92.7512 872.445 Q89.1401 872.445 87.3114 876.01 Q85.5058 879.552 85.5058 886.681 Q85.5058 893.788 87.3114 897.352 Q89.1401 900.894 92.7512 900.894 Q96.3854 900.894 98.1909 897.352 Q100.02 893.788 100.02 886.681 Q100.02 879.552 98.1909 876.01 Q96.3854 872.445 92.7512 872.445 M92.7512 868.742 Q98.5613 868.742 101.617 873.348 Q104.696 877.931 104.696 886.681 Q104.696 895.408 101.617 900.015 Q98.5613 904.598 92.7512 904.598 Q86.941 904.598 83.8623 900.015 Q80.8068 895.408 80.8068 886.681 Q80.8068 877.931 83.8623 873.348 Q86.941 868.742 92.7512 868.742 Z\" fill=\"#000000\" fill-rule=\"evenodd\" fill-opacity=\"1\" /><path clip-path=\"url(#clip330)\" d=\"M 0 0 M122.913 872.445 Q119.302 872.445 117.473 876.01 Q115.668 879.552 115.668 886.681 Q115.668 893.788 117.473 897.352 Q119.302 900.894 122.913 900.894 Q126.547 900.894 128.353 897.352 Q130.182 893.788 130.182 886.681 Q130.182 879.552 128.353 876.01 Q126.547 872.445 122.913 872.445 M122.913 868.742 Q128.723 868.742 131.779 873.348 Q134.857 877.931 134.857 886.681 Q134.857 895.408 131.779 900.015 Q128.723 904.598 122.913 904.598 Q117.103 904.598 114.024 900.015 Q110.969 895.408 110.969 886.681 Q110.969 877.931 114.024 873.348 Q117.103 868.742 122.913 868.742 Z\" fill=\"#000000\" fill-rule=\"evenodd\" fill-opacity=\"1\" /><path clip-path=\"url(#clip330)\" d=\"M 0 0 M53.3995 500.656 L61.0384 500.656 L61.0384 474.291 L52.7282 475.957 L52.7282 471.698 L60.9921 470.031 L65.668 470.031 L65.668 500.656 L73.3068 500.656 L73.3068 504.591 L53.3995 504.591 L53.3995 500.656 Z\" fill=\"#000000\" fill-rule=\"evenodd\" fill-opacity=\"1\" /><path clip-path=\"url(#clip330)\" d=\"M 0 0 M82.7975 470.031 L101.154 470.031 L101.154 473.967 L87.0799 473.967 L87.0799 482.439 Q88.0984 482.092 89.1169 481.929 Q90.1354 481.744 91.1539 481.744 Q96.941 481.744 100.321 484.916 Q103.7 488.087 103.7 493.503 Q103.7 499.082 100.228 502.184 Q96.7558 505.263 90.4364 505.263 Q88.2604 505.263 85.9919 504.892 Q83.7466 504.522 81.3392 503.781 L81.3392 499.082 Q83.4225 500.216 85.6447 500.772 Q87.8669 501.328 90.3438 501.328 Q94.3484 501.328 96.6863 499.221 Q99.0243 497.115 99.0243 493.503 Q99.0243 489.892 96.6863 487.786 Q94.3484 485.679 90.3438 485.679 Q88.4688 485.679 86.5938 486.096 Q84.7419 486.513 82.7975 487.392 L82.7975 470.031 Z\" fill=\"#000000\" fill-rule=\"evenodd\" fill-opacity=\"1\" /><path clip-path=\"url(#clip330)\" d=\"M 0 0 M122.913 473.11 Q119.302 473.11 117.473 476.675 Q115.668 480.217 115.668 487.346 Q115.668 494.453 117.473 498.017 Q119.302 501.559 122.913 501.559 Q126.547 501.559 128.353 498.017 Q130.182 494.453 130.182 487.346 Q130.182 480.217 128.353 476.675 Q126.547 473.11 122.913 473.11 M122.913 469.406 Q128.723 469.406 131.779 474.013 Q134.857 478.596 134.857 487.346 Q134.857 496.073 131.779 500.679 Q128.723 505.263 122.913 505.263 Q117.103 505.263 114.024 500.679 Q110.969 496.073 110.969 487.346 Q110.969 478.596 114.024 474.013 Q117.103 469.406 122.913 469.406 Z\" fill=\"#000000\" fill-rule=\"evenodd\" fill-opacity=\"1\" /><path clip-path=\"url(#clip330)\" d=\"M 0 0 M56.6171 101.321 L72.9365 101.321 L72.9365 105.256 L50.9921 105.256 L50.9921 101.321 Q53.6541 98.5665 58.2375 93.9369 Q62.8439 89.2841 64.0245 87.9416 Q66.2698 85.4184 67.1494 83.6823 Q68.0522 81.9231 68.0522 80.2333 Q68.0522 77.4786 66.1078 75.7425 Q64.1865 74.0064 61.0847 74.0064 Q58.8856 74.0064 56.4319 74.7703 Q54.0014 75.5342 51.2236 77.0851 L51.2236 72.3629 Q54.0477 71.2287 56.5014 70.65 Q58.955 70.0713 60.9921 70.0713 Q66.3624 70.0713 69.5568 72.7565 Q72.7513 75.4416 72.7513 79.9323 Q72.7513 82.062 71.9411 83.9832 Q71.1541 85.8814 69.0476 88.474 Q68.4689 89.1453 65.367 92.3628 Q62.2652 95.5573 56.6171 101.321 Z\" fill=\"#000000\" fill-rule=\"evenodd\" fill-opacity=\"1\" /><path clip-path=\"url(#clip330)\" d=\"M 0 0 M92.7512 73.775 Q89.1401 73.775 87.3114 77.3398 Q85.5058 80.8814 85.5058 88.011 Q85.5058 95.1174 87.3114 98.6822 Q89.1401 102.224 92.7512 102.224 Q96.3854 102.224 98.1909 98.6822 Q100.02 95.1174 100.02 88.011 Q100.02 80.8814 98.1909 77.3398 Q96.3854 73.775 92.7512 73.775 M92.7512 70.0713 Q98.5613 70.0713 101.617 74.6777 Q104.696 79.261 104.696 88.011 Q104.696 96.7378 101.617 101.344 Q98.5613 105.928 92.7512 105.928 Q86.941 105.928 83.8623 101.344 Q80.8068 96.7378 80.8068 88.011 Q80.8068 79.261 83.8623 74.6777 Q86.941 70.0713 92.7512 70.0713 Z\" fill=\"#000000\" fill-rule=\"evenodd\" fill-opacity=\"1\" /><path clip-path=\"url(#clip330)\" d=\"M 0 0 M122.913 73.775 Q119.302 73.775 117.473 77.3398 Q115.668 80.8814 115.668 88.011 Q115.668 95.1174 117.473 98.6822 Q119.302 102.224 122.913 102.224 Q126.547 102.224 128.353 98.6822 Q130.182 95.1174 130.182 88.011 Q130.182 80.8814 128.353 77.3398 Q126.547 73.775 122.913 73.775 M122.913 70.0713 Q128.723 70.0713 131.779 74.6777 Q134.857 79.261 134.857 88.011 Q134.857 96.7378 131.779 101.344 Q128.723 105.928 122.913 105.928 Q117.103 105.928 114.024 101.344 Q110.969 96.7378 110.969 88.011 Q110.969 79.261 114.024 74.6777 Q117.103 70.0713 122.913 70.0713 Z\" fill=\"#000000\" fill-rule=\"evenodd\" fill-opacity=\"1\" /><polyline clip-path=\"url(#clip332)\" style=\"stroke:#009af9; stroke-width:4; stroke-opacity:1; fill:none\" points=\"\n",
       "  232.609,1445.72 253.401,1445.72 274.193,511.272 294.985,279.657 315.777,279.657 336.569,279.657 357.36,279.657 378.152,279.657 398.944,279.657 419.736,279.657 \n",
       "  440.528,279.657 461.32,279.657 482.112,279.657 502.904,279.657 523.695,279.657 544.487,87.9763 565.279,87.9763 586.071,87.9763 606.863,87.9763 627.655,87.9763 \n",
       "  648.447,87.9763 669.238,87.9763 690.03,87.9763 710.822,87.9763 731.614,87.9763 752.406,87.9763 773.198,87.9763 793.99,87.9763 814.782,87.9763 835.573,87.9763 \n",
       "  856.365,87.9763 877.157,87.9763 897.949,87.9763 918.741,87.9763 939.533,87.9763 960.325,87.9763 981.116,87.9763 1001.91,87.9763 1022.7,87.9763 1043.49,87.9763 \n",
       "  1064.28,87.9763 1085.08,87.9763 1105.87,87.9763 1126.66,87.9763 1147.45,87.9763 1168.24,87.9763 1189.04,87.9763 1209.83,87.9763 1230.62,87.9763 1251.41,87.9763 \n",
       "  1272.2,87.9763 1292.99,87.9763 1313.79,87.9763 1334.58,87.9763 1355.37,87.9763 1376.16,87.9763 1396.95,87.9763 1417.75,87.9763 1438.54,87.9763 1459.33,87.9763 \n",
       "  1480.12,87.9763 1500.91,87.9763 1521.7,87.9763 1542.5,87.9763 1563.29,87.9763 1584.08,87.9763 1604.87,87.9763 1625.66,87.9763 1646.46,87.9763 1667.25,87.9763 \n",
       "  1688.04,87.9763 1708.83,87.9763 1729.62,87.9763 1750.42,87.9763 1771.21,87.9763 1792,87.9763 1812.79,87.9763 1833.58,87.9763 1854.37,87.9763 1875.17,87.9763 \n",
       "  1895.96,87.9763 1916.75,87.9763 1937.54,87.9763 1958.33,87.9763 1979.13,87.9763 1999.92,87.9763 2020.71,87.9763 2041.5,87.9763 2062.29,87.9763 2083.09,87.9763 \n",
       "  2103.88,87.9763 2124.67,87.9763 2145.46,87.9763 2166.25,87.9763 2187.04,87.9763 2207.84,87.9763 2228.63,87.9763 2249.42,87.9763 2270.21,87.9763 2291,87.9763 \n",
       "  \n",
       "  \"/>\n",
       "<path clip-path=\"url(#clip330)\" d=\"\n",
       "M1985.16 216.178 L2280.03 216.178 L2280.03 95.2176 L1985.16 95.2176  Z\n",
       "  \" fill=\"#ffffff\" fill-rule=\"evenodd\" fill-opacity=\"1\"/>\n",
       "<polyline clip-path=\"url(#clip330)\" style=\"stroke:#000000; stroke-width:4; stroke-opacity:1; fill:none\" points=\"\n",
       "  1985.16,216.178 2280.03,216.178 2280.03,95.2176 1985.16,95.2176 1985.16,216.178 \n",
       "  \"/>\n",
       "<polyline clip-path=\"url(#clip330)\" style=\"stroke:#009af9; stroke-width:4; stroke-opacity:1; fill:none\" points=\"\n",
       "  2009.41,155.698 2154.87,155.698 \n",
       "  \"/>\n",
       "<path clip-path=\"url(#clip330)\" d=\"M 0 0 M2192.95 175.385 Q2191.15 180.015 2189.43 181.427 Q2187.72 182.839 2184.85 182.839 L2181.45 182.839 L2181.45 179.274 L2183.95 179.274 Q2185.71 179.274 2186.68 178.44 Q2187.65 177.607 2188.83 174.505 L2189.6 172.561 L2179.11 147.052 L2183.62 147.052 L2191.72 167.329 L2199.83 147.052 L2204.34 147.052 L2192.95 175.385 Z\" fill=\"#000000\" fill-rule=\"evenodd\" fill-opacity=\"1\" /><path clip-path=\"url(#clip330)\" d=\"M 0 0 M2211.63 169.042 L2219.27 169.042 L2219.27 142.677 L2210.96 144.343 L2210.96 140.084 L2219.22 138.418 L2223.9 138.418 L2223.9 169.042 L2231.54 169.042 L2231.54 172.978 L2211.63 172.978 L2211.63 169.042 Z\" fill=\"#000000\" fill-rule=\"evenodd\" fill-opacity=\"1\" /></svg>\n"
      ]
     },
     "execution_count": 44,
     "metadata": {},
     "output_type": "execute_result"
    }
   ],
   "source": [
    "fits, expert = ES(layers, 100, play_cartpole, 5)\n",
    "plot(fits)"
   ]
  },
  {
   "cell_type": "code",
   "execution_count": 26,
   "id": "5e3faf9b",
   "metadata": {},
   "outputs": [
    {
     "data": {
      "text/plain": [
       "200.0"
      ]
     },
     "execution_count": 26,
     "metadata": {},
     "output_type": "execute_result"
    }
   ],
   "source": [
    "play_cartpole(expert, true)"
   ]
  },
  {
   "cell_type": "code",
   "execution_count": null,
   "id": "f6b09e97",
   "metadata": {},
   "outputs": [],
   "source": []
  }
 ],
 "metadata": {
  "celltoolbar": "Diaporama",
  "kernelspec": {
   "display_name": "Julia 1.5.3",
   "language": "julia",
   "name": "julia-1.5"
  },
  "language_info": {
   "file_extension": ".jl",
   "mimetype": "application/julia",
   "name": "julia",
   "version": "1.5.3"
  }
 },
 "nbformat": 4,
 "nbformat_minor": 5
}
