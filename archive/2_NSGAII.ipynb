{
 "cells": [
  {
   "cell_type": "markdown",
   "metadata": {
    "slideshow": {
     "slide_type": "slide"
    }
   },
   "source": [
    "<img src=\"../imgs/logo.png\" width=\"20%\" align=\"right\" style=\"margin:0px 20px\">\n",
    "\n",
    "\n",
    "# Evolutionary Computation\n",
    "\n",
    "## 3.2 NSGA-II\n",
    "\n",
    "<a rel=\"license\" href=\"http://creativecommons.org/licenses/by-sa/4.0/\"><img alt=\"Creative Commons License\" align=\"left\" src=\"https://i.creativecommons.org/l/by-sa/4.0/80x15.png\" /></a>&nbsp;| Dennis G. Wilson | <a href=\"https://d9w.github.io/evolution/\">https://d9w.github.io/evolution/</a>"
   ]
  },
  {
   "cell_type": "markdown",
   "metadata": {
    "slideshow": {
     "slide_type": "slide"
    }
   },
   "source": [
    "## Outline\n",
    "\n",
    "1. [The Knapsack Problem](#knapsack)\n",
    "2. [Evolution](#evolution)\n",
    "3. [Visualization](#visualization)"
   ]
  },
  {
   "cell_type": "code",
   "execution_count": 1,
   "metadata": {
    "slideshow": {
     "slide_type": "slide"
    }
   },
   "outputs": [],
   "source": [
    "using NSGAII\n",
    "using JuMP\n",
    "import GLPK\n",
    "using Plots\n",
    "default(show=:ijulia)"
   ]
  },
  {
   "cell_type": "markdown",
   "metadata": {
    "slideshow": {
     "slide_type": "fragment"
    }
   },
   "source": [
    "To experiment with NSGAII we'll be using a rather new implementation of it from Github: https://github.com/gsoleilhac/NSGAII.jl/.\n",
    "\n",
    "This implementation isn't so complicated and if we look at the code, we can see that much of it resembles our [notebook code](https://github.com/d9w/evolution/blob/master/2_ga/1_GAs.ipynb) on Genetic Algorithms. Let's look at the [functions](https://github.com/gsoleilhac/NSGAII.jl/blob/master/src/functions.jl) code which contains the main Genetic Algorithm loop, as well as the [NSGA-II](http://repository.ias.ac.in/83498/1/2-a.pdf) Fast Non-Dominated Sort and Crowding Distance Algorithm. Notice the structure of individuals in the code and how rank is stored; we will use this information later."
   ]
  },
  {
   "cell_type": "markdown",
   "metadata": {
    "slideshow": {
     "slide_type": "slide"
    }
   },
   "source": [
    "## <a id=\"knapsack\"></a>The Knapsack Problem"
   ]
  },
  {
   "cell_type": "markdown",
   "metadata": {
    "slideshow": {
     "slide_type": "fragment"
    }
   },
   "source": [
    "<img src=\"https://imgs.xkcd.com/comics/np_complete.png\">\n",
    "<div style=\"text-align:center\"><a href=\"https://xkcd.com/287/\">XKCD on the Knapsack Problem</a></div>\n"
   ]
  },
  {
   "cell_type": "markdown",
   "metadata": {
    "slideshow": {
     "slide_type": "slide"
    }
   },
   "source": [
    "Imagine we're travelling and our bag has a maximum weight limit. We want to fill this bag with items of different value and maximize the total value in our bag, as long as it stays in the weight limit. This is known as the \"knapsack problem\".\n",
    "<img src=\"../imgs/knapsack.png\" width=\"30%\" height=\"auto\">\n",
    "Instead of a bag with items, you could imagine a scenario like the comic. You want to order different appetizers, but you only want to spend a fixed maximum amount. How can you get the best appetizers?"
   ]
  },
  {
   "cell_type": "markdown",
   "metadata": {
    "slideshow": {
     "slide_type": "slide"
    }
   },
   "source": [
    "Let's look at an example, specifically using the version of the Knapsack problem known as the \"0-1 knapsack problem\" where we can have at most 1 copy of each item. We'll use 5 items and randomly geneate values for them."
   ]
  },
  {
   "cell_type": "code",
   "execution_count": 2,
   "metadata": {
    "slideshow": {
     "slide_type": "fragment"
    }
   },
   "outputs": [
    {
     "name": "stdout",
     "output_type": "stream",
     "text": [
      "[66, 75, 78, 88, 57] total value: 364\n"
     ]
    }
   ],
   "source": [
    "n = 5\n",
    "values = rand(0:100, n)\n",
    "println(values, \" total value: \", sum(values))"
   ]
  },
  {
   "cell_type": "code",
   "execution_count": 3,
   "metadata": {
    "slideshow": {
     "slide_type": "fragment"
    }
   },
   "outputs": [
    {
     "name": "stdout",
     "output_type": "stream",
     "text": [
      "[17, 19, 18, 14, 11] total weight: 79\n"
     ]
    }
   ],
   "source": [
    "weights = rand(10:20, n)\n",
    "max_weight = 55\n",
    "println(weights, \" total weight: \", sum(weights))"
   ]
  },
  {
   "cell_type": "markdown",
   "metadata": {
    "slideshow": {
     "slide_type": "fragment"
    }
   },
   "source": [
    "We won't be able to take all items because of the maximum weight of 55. We'll express our choice of items using a binary string, 1 if we take the item and 0 otherwise."
   ]
  },
  {
   "cell_type": "code",
   "execution_count": 4,
   "metadata": {
    "slideshow": {
     "slide_type": "fragment"
    }
   },
   "outputs": [
    {
     "name": "stdout",
     "output_type": "stream",
     "text": [
      "Bool[1, 1, 1, 1, 0]\n"
     ]
    }
   ],
   "source": [
    "using Random: bitrand\n",
    "choices = bitrand(n)\n",
    "println(choices)"
   ]
  },
  {
   "cell_type": "markdown",
   "metadata": {
    "slideshow": {
     "slide_type": "slide"
    }
   },
   "source": [
    "The total value of our knapsack is therefore the sum of the element-wise multiplication of our choices and the individual item values."
   ]
  },
  {
   "cell_type": "code",
   "execution_count": 5,
   "metadata": {
    "slideshow": {
     "slide_type": "fragment"
    }
   },
   "outputs": [
    {
     "data": {
      "text/plain": [
       "307"
      ]
     },
     "execution_count": 5,
     "metadata": {},
     "output_type": "execute_result"
    }
   ],
   "source": [
    "sum(choices .* values)"
   ]
  },
  {
   "cell_type": "markdown",
   "metadata": {
    "slideshow": {
     "slide_type": "fragment"
    }
   },
   "source": [
    "In other words, the dot product of the two vectors."
   ]
  },
  {
   "cell_type": "code",
   "execution_count": 6,
   "metadata": {
    "slideshow": {
     "slide_type": "fragment"
    }
   },
   "outputs": [
    {
     "data": {
      "text/plain": [
       "307"
      ]
     },
     "execution_count": 6,
     "metadata": {},
     "output_type": "execute_result"
    }
   ],
   "source": [
    "using LinearAlgebra: dot\n",
    "dot(choices, values)"
   ]
  },
  {
   "cell_type": "markdown",
   "metadata": {
    "slideshow": {
     "slide_type": "fragment"
    }
   },
   "source": [
    "We can also use the dot product to check if our choices fall under the weight limit"
   ]
  },
  {
   "cell_type": "code",
   "execution_count": 7,
   "metadata": {
    "slideshow": {
     "slide_type": "fragment"
    }
   },
   "outputs": [
    {
     "data": {
      "text/plain": [
       "(68, 55)"
      ]
     },
     "execution_count": 7,
     "metadata": {},
     "output_type": "execute_result"
    }
   ],
   "source": [
    "dot(choices, weights), max_weight"
   ]
  },
  {
   "cell_type": "markdown",
   "metadata": {
    "slideshow": {
     "slide_type": "slide"
    }
   },
   "source": [
    "Let's say you and a friend are travelling together and to make it cheaper, you're sharing a bag. You and your friend assign different values to each item based on what you want to bring on the trip. Your preferences are in `values` and your friends preferences are:"
   ]
  },
  {
   "cell_type": "code",
   "execution_count": 8,
   "metadata": {
    "slideshow": {
     "slide_type": "fragment"
    }
   },
   "outputs": [
    {
     "name": "stdout",
     "output_type": "stream",
     "text": [
      "You:\t[66, 75, 78, 88, 57] total value: 364\n",
      "Friend:\t[21, 43, 94, 57, 59] total value: 274\n"
     ]
    }
   ],
   "source": [
    "values2 = rand(0:100, n)\n",
    "println(\"You:\\t\", values, \" total value: \", sum(values))\n",
    "println(\"Friend:\\t\", values2, \" total value: \", sum(values2))"
   ]
  },
  {
   "cell_type": "markdown",
   "metadata": {
    "slideshow": {
     "slide_type": "fragment"
    }
   },
   "source": [
    "Let's see who is happier with the choices we made"
   ]
  },
  {
   "cell_type": "code",
   "execution_count": 9,
   "metadata": {
    "slideshow": {
     "slide_type": "fragment"
    }
   },
   "outputs": [
    {
     "name": "stdout",
     "output_type": "stream",
     "text": [
      "Bool[0, 0, 0, 1, 0]\n",
      "weight: 14\n",
      "You: 88 Friend: 57\n"
     ]
    }
   ],
   "source": [
    "choices = bitrand(n)\n",
    "println(choices)\n",
    "println(\"weight: \", dot(choices, weights))\n",
    "println(\"You: \", dot(choices, values), \" Friend: \", dot(choices, values2))"
   ]
  },
  {
   "cell_type": "markdown",
   "metadata": {
    "slideshow": {
     "slide_type": "fragment"
    }
   },
   "source": [
    "This is the multi-objective version of the Knapsack problem where we use $K$ different value vectors for $K$ objectives."
   ]
  },
  {
   "cell_type": "markdown",
   "metadata": {
    "slideshow": {
     "slide_type": "slide"
    }
   },
   "source": [
    "[The Knapsack problem](https://en.wikipedia.org/wiki/Knapsack_problem) has been thoroughly studied in theoretical computer science and evolutionary computation is not the only choice for solving it; dynamic programming and mixed integer programming are what [JuMP](https://github.com/JuliaOpt/JuMP.jl), an optimization library, uses."
   ]
  },
  {
   "cell_type": "code",
   "execution_count": 10,
   "metadata": {
    "slideshow": {
     "slide_type": "fragment"
    }
   },
   "outputs": [],
   "source": [
    "m = Model(GLPK.Optimizer)\n",
    "@variable(m, x[1:n], Bin)\n",
    "# Objective: maximize profit\n",
    "@objective(m, Max, dot(values, x))\n",
    "# Constraint: can carry all\n",
    "@constraint(m, dot(weights, x) <= max_weight)\n",
    "# Solve problem using MIP solver\n",
    "optimize!(m);"
   ]
  },
  {
   "cell_type": "code",
   "execution_count": 11,
   "metadata": {},
   "outputs": [
    {
     "data": {
      "text/latex": [
       "$$ 66 x_{1} + 75 x_{2} + 78 x_{3} + 88 x_{4} + 57 x_{5} $$"
      ],
      "text/plain": [
       "66 x[1] + 75 x[2] + 78 x[3] + 88 x[4] + 57 x[5]"
      ]
     },
     "execution_count": 11,
     "metadata": {},
     "output_type": "execute_result"
    }
   ],
   "source": [
    "objective_function(m)"
   ]
  },
  {
   "cell_type": "code",
   "execution_count": 12,
   "metadata": {
    "slideshow": {
     "slide_type": "fragment"
    }
   },
   "outputs": [
    {
     "name": "stdout",
     "output_type": "stream",
     "text": [
      "Objective is: 241.0\n",
      "Solution is:\n",
      "x[1] = 0.0, p[1]/w[1] = 3.8823529411764706\n",
      "x[2] = 1.0, p[2]/w[2] = 3.9473684210526314\n",
      "x[3] = 1.0, p[3]/w[3] = 4.333333333333333\n",
      "x[4] = 1.0, p[4]/w[4] = 6.285714285714286\n",
      "x[5] = 0.0, p[5]/w[5] = 5.181818181818182\n"
     ]
    }
   ],
   "source": [
    "println(\"Objective is: \", objective_value(m))\n",
    "println(\"Solution is:\")\n",
    "for i in 1:n\n",
    "    print(\"x[$i] = \", value(x[i]))\n",
    "    println(\", p[$i]/w[$i] = \", values[i]/weights[i])\n",
    "end"
   ]
  },
  {
   "cell_type": "markdown",
   "metadata": {
    "slideshow": {
     "slide_type": "slide"
    }
   },
   "source": [
    "## <a id=\"evolution\"></a>Evolution"
   ]
  },
  {
   "cell_type": "markdown",
   "metadata": {
    "slideshow": {
     "slide_type": "fragment"
    }
   },
   "source": [
    "We will apply NSGA-II to the Knapsack problem. First, let's scale up the number of items to 100. "
   ]
  },
  {
   "cell_type": "code",
   "execution_count": 13,
   "metadata": {
    "slideshow": {
     "slide_type": "fragment"
    }
   },
   "outputs": [
    {
     "data": {
      "text/plain": [
       "100×2 Matrix{Float64}:\n",
       " 0.404134   0.740335\n",
       " 0.544791   0.594728\n",
       " 0.770568   0.231129\n",
       " 0.207641   0.933292\n",
       " 0.899537   0.598436\n",
       " 0.634425   0.196581\n",
       " 0.881412   0.337124\n",
       " 0.381864   0.434156\n",
       " 0.306869   0.825232\n",
       " 0.0983791  0.12246\n",
       " 0.931771   0.90705\n",
       " 0.177647   0.478874\n",
       " 0.85553    0.563009\n",
       " ⋮          \n",
       " 0.414086   0.477798\n",
       " 0.897744   0.80783\n",
       " 0.629399   0.390703\n",
       " 0.948684   0.723636\n",
       " 0.206905   0.720063\n",
       " 0.993587   0.514392\n",
       " 0.117563   0.104716\n",
       " 0.310299   0.834215\n",
       " 0.308307   0.313993\n",
       " 0.52361    0.787822\n",
       " 0.47241    0.757743\n",
       " 0.13343    0.468167"
      ]
     },
     "execution_count": 13,
     "metadata": {},
     "output_type": "execute_result"
    }
   ],
   "source": [
    "n = 100\n",
    "n_objectives = 2\n",
    "values = rand(n, n_objectives)"
   ]
  },
  {
   "cell_type": "markdown",
   "metadata": {
    "slideshow": {
     "slide_type": "slide"
    }
   },
   "source": [
    "Let's normalize our fitness values by their sum, so that the total maximum value is 1.0. This will help with plotting later."
   ]
  },
  {
   "cell_type": "code",
   "execution_count": 14,
   "metadata": {
    "slideshow": {
     "slide_type": "fragment"
    }
   },
   "outputs": [
    {
     "data": {
      "text/plain": [
       "1×2 Matrix{Float64}:\n",
       " 1.0  1.0"
      ]
     },
     "execution_count": 14,
     "metadata": {},
     "output_type": "execute_result"
    }
   ],
   "source": [
    "values = values ./ sum(values, dims=1);\n",
    "sum(values, dims=1)"
   ]
  },
  {
   "cell_type": "markdown",
   "metadata": {
    "slideshow": {
     "slide_type": "slide"
    }
   },
   "source": [
    "Similarly, let's normalize the weights to sum to 1 and set a maximum weight of 0.5, meaning we can keep only half the items on average. This will let us change the number of items more easily later on but doesn't impact the problem in any way."
   ]
  },
  {
   "cell_type": "code",
   "execution_count": 15,
   "metadata": {
    "slideshow": {
     "slide_type": "fragment"
    }
   },
   "outputs": [
    {
     "data": {
      "text/plain": [
       "0.5"
      ]
     },
     "execution_count": 15,
     "metadata": {},
     "output_type": "execute_result"
    }
   ],
   "source": [
    "weights = rand(n)\n",
    "weights = weights ./ sum(weights)\n",
    "max_weight = 0.5"
   ]
  },
  {
   "cell_type": "markdown",
   "metadata": {
    "slideshow": {
     "slide_type": "slide"
    }
   },
   "source": [
    "Let's write our objective function which will compute the value of our knapsack using each different column of profit values."
   ]
  },
  {
   "cell_type": "code",
   "execution_count": 16,
   "metadata": {
    "slideshow": {
     "slide_type": "fragment"
    }
   },
   "outputs": [
    {
     "data": {
      "text/plain": [
       "objective (generic function with 1 method)"
      ]
     },
     "execution_count": 16,
     "metadata": {},
     "output_type": "execute_result"
    }
   ],
   "source": [
    "function objective(genes::AbstractArray)\n",
    "    fits = zeros(n_objectives)\n",
    "    for i in 1:n_objectives\n",
    "        fits[i] = dot(genes, values[:, i])\n",
    "    end\n",
    "    tuple(fits...)\n",
    "end"
   ]
  },
  {
   "cell_type": "markdown",
   "metadata": {
    "slideshow": {
     "slide_type": "slide"
    }
   },
   "source": [
    "We'll add in our weight constraint separately. This is used in the evaluation of individuals and is considered a part of our objective function, but is handled separately. Our lecture on evolution with constraints will go into more detail on that. For this NSGA-II implementation, we return 0 if the condition passes and the distance from meeting the condition otherwise."
   ]
  },
  {
   "cell_type": "code",
   "execution_count": 17,
   "metadata": {
    "slideshow": {
     "slide_type": "fragment"
    }
   },
   "outputs": [
    {
     "data": {
      "text/plain": [
       "constraint (generic function with 1 method)"
      ]
     },
     "execution_count": 17,
     "metadata": {},
     "output_type": "execute_result"
    }
   ],
   "source": [
    "function constraint(genes::AbstractArray)\n",
    "    sum_weights = dot(genes, weights)\n",
    "    return sum_weights <= max_weight ? 0 : sum_weights - max_weight\n",
    "end"
   ]
  },
  {
   "cell_type": "markdown",
   "metadata": {
    "slideshow": {
     "slide_type": "slide"
    }
   },
   "source": [
    "That's all, so now we're ready to run NSGA-II. Let's run it for 100 generations on a population of 100. The function returns the set of non-dominated individuals at the end"
   ]
  },
  {
   "cell_type": "code",
   "execution_count": 18,
   "metadata": {
    "slideshow": {
     "slide_type": "fragment"
    }
   },
   "outputs": [
    {
     "data": {
      "text/plain": [
       "indiv([100010101110110...100011101001111] : (0.704247596117315, 0.7217207911300159) | rank : 1)"
      ]
     },
     "execution_count": 18,
     "metadata": {},
     "output_type": "execute_result"
    }
   ],
   "source": [
    "popsize = 100\n",
    "nbgen = 100\n",
    "init() = bitrand(n)\n",
    "non_dominated =  nsga_max(popsize, nbgen, objective, init, fCV=constraint)\n",
    "non_dominated[1]"
   ]
  },
  {
   "cell_type": "markdown",
   "metadata": {
    "slideshow": {
     "slide_type": "slide"
    }
   },
   "source": [
    "Let's see what type of total profit values we have from our two objectives."
   ]
  },
  {
   "cell_type": "code",
   "execution_count": 19,
   "metadata": {
    "slideshow": {
     "slide_type": "fragment"
    }
   },
   "outputs": [
    {
     "data": {
      "text/plain": [
       "4-element Vector{Vector{Float64}}:\n",
       " [0.704247596117315, 0.7217207911300159]\n",
       " [0.7196423948757986, 0.6796052193847617]\n",
       " [0.7098650090924997, 0.709444694010031]\n",
       " [0.7194636226908061, 0.6882824079058576]"
      ]
     },
     "execution_count": 19,
     "metadata": {},
     "output_type": "execute_result"
    }
   ],
   "source": [
    "unique([collect(i.y) for i in non_dominated])"
   ]
  },
  {
   "cell_type": "markdown",
   "metadata": {
    "slideshow": {
     "slide_type": "slide"
    }
   },
   "source": [
    "Finally, we can compare this value to a value obtained by JuMP. Note that JuMP can only currently perform single objective optimization, so we need to solve the different objectives separately."
   ]
  },
  {
   "cell_type": "code",
   "execution_count": 20,
   "metadata": {
    "slideshow": {
     "slide_type": "fragment"
    }
   },
   "outputs": [
    {
     "name": "stdout",
     "output_type": "stream",
     "text": [
      "Objective 1: 0.791366018095301\n",
      "Objective 2: 0.6293884554219276"
     ]
    }
   ],
   "source": [
    "m = Model(GLPK.Optimizer)\n",
    "@variable(m, x[1:n], Bin)\n",
    "# Objective: maximize profit\n",
    "@objective(m, Max, dot(values[:, 1], x))\n",
    "# Constraint: can carry all\n",
    "@constraint(m, dot(weights, x) <= max_weight)\n",
    "# Solve problem using MIP solver\n",
    "optimize!(m)\n",
    "println(\"Objective 1: \", objective_value(m))\n",
    "print(\"Objective 2: \")\n",
    "o2 = sum([value(x[i])*values[i, 2] for i in 1:n])\n",
    "print(o2)"
   ]
  },
  {
   "cell_type": "markdown",
   "metadata": {
    "slideshow": {
     "slide_type": "slide"
    }
   },
   "source": [
    "<div class=\"alert alert-success\">\n",
    "    <b>Exercise 1</b>\n",
    "    <br/>\n",
    "    Increase the problem difficulty by increasing the number of items and reducing the weight limit. How does NSGA-II do?\n",
    "    <br/>\n",
    "</div>"
   ]
  },
  {
   "cell_type": "markdown",
   "metadata": {},
   "source": [
    "<div class=\"alert alert-success\">\n",
    "    <b>Exercise 2</b>\n",
    "    <br/>\n",
    "    Increase the number of objectives to 5. What do you observe about the solutions found by NSGA-II? How do they compare with the solutions found by JuMP?\n",
    "    <br/>\n",
    "</div>"
   ]
  },
  {
   "cell_type": "markdown",
   "metadata": {
    "slideshow": {
     "slide_type": "slide"
    }
   },
   "source": [
    "## <a id=\"visualization\"></a>Visualization"
   ]
  },
  {
   "cell_type": "markdown",
   "metadata": {
    "slideshow": {
     "slide_type": "fragment"
    }
   },
   "source": [
    "To better understand NSGA-II's evolution, let's observe the population over time."
   ]
  },
  {
   "cell_type": "code",
   "execution_count": 21,
   "metadata": {
    "slideshow": {
     "slide_type": "slide"
    }
   },
   "outputs": [
    {
     "data": {
      "image/svg+xml": [
       "<?xml version=\"1.0\" encoding=\"utf-8\"?>\n",
       "<svg xmlns=\"http://www.w3.org/2000/svg\" xmlns:xlink=\"http://www.w3.org/1999/xlink\" width=\"600\" height=\"400\" viewBox=\"0 0 2400 1600\">\n",
       "<defs>\n",
       "  <clipPath id=\"clip1100\">\n",
       "    <rect x=\"0\" y=\"0\" width=\"2400\" height=\"1600\"/>\n",
       "  </clipPath>\n",
       "</defs>\n",
       "<path clip-path=\"url(#clip1100)\" d=\"\n",
       "M0 1600 L2400 1600 L2400 0 L0 0  Z\n",
       "  \" fill=\"#ffffff\" fill-rule=\"evenodd\" fill-opacity=\"1\"/>\n",
       "<defs>\n",
       "  <clipPath id=\"clip1101\">\n",
       "    <rect x=\"480\" y=\"0\" width=\"1681\" height=\"1600\"/>\n",
       "  </clipPath>\n",
       "</defs>\n",
       "<path clip-path=\"url(#clip1100)\" d=\"\n",
       "M148.334 1486.45 L2352.76 1486.45 L2352.76 47.2441 L148.334 47.2441  Z\n",
       "  \" fill=\"#ffffff\" fill-rule=\"evenodd\" fill-opacity=\"1\"/>\n",
       "<defs>\n",
       "  <clipPath id=\"clip1102\">\n",
       "    <rect x=\"148\" y=\"47\" width=\"2205\" height=\"1440\"/>\n",
       "  </clipPath>\n",
       "</defs>\n",
       "<polyline clip-path=\"url(#clip1102)\" style=\"stroke:#000000; stroke-width:2; stroke-opacity:0.1; fill:none\" points=\"\n",
       "  148.334,1486.45 148.334,47.2441 \n",
       "  \"/>\n",
       "<polyline clip-path=\"url(#clip1102)\" style=\"stroke:#000000; stroke-width:2; stroke-opacity:0.1; fill:none\" points=\"\n",
       "  589.219,1486.45 589.219,47.2441 \n",
       "  \"/>\n",
       "<polyline clip-path=\"url(#clip1102)\" style=\"stroke:#000000; stroke-width:2; stroke-opacity:0.1; fill:none\" points=\"\n",
       "  1030.1,1486.45 1030.1,47.2441 \n",
       "  \"/>\n",
       "<polyline clip-path=\"url(#clip1102)\" style=\"stroke:#000000; stroke-width:2; stroke-opacity:0.1; fill:none\" points=\"\n",
       "  1470.99,1486.45 1470.99,47.2441 \n",
       "  \"/>\n",
       "<polyline clip-path=\"url(#clip1102)\" style=\"stroke:#000000; stroke-width:2; stroke-opacity:0.1; fill:none\" points=\"\n",
       "  1911.87,1486.45 1911.87,47.2441 \n",
       "  \"/>\n",
       "<polyline clip-path=\"url(#clip1102)\" style=\"stroke:#000000; stroke-width:2; stroke-opacity:0.1; fill:none\" points=\"\n",
       "  2352.76,1486.45 2352.76,47.2441 \n",
       "  \"/>\n",
       "<polyline clip-path=\"url(#clip1102)\" style=\"stroke:#000000; stroke-width:2; stroke-opacity:0.1; fill:none\" points=\"\n",
       "  148.334,1486.45 2352.76,1486.45 \n",
       "  \"/>\n",
       "<polyline clip-path=\"url(#clip1102)\" style=\"stroke:#000000; stroke-width:2; stroke-opacity:0.1; fill:none\" points=\"\n",
       "  148.334,1198.61 2352.76,1198.61 \n",
       "  \"/>\n",
       "<polyline clip-path=\"url(#clip1102)\" style=\"stroke:#000000; stroke-width:2; stroke-opacity:0.1; fill:none\" points=\"\n",
       "  148.334,910.766 2352.76,910.766 \n",
       "  \"/>\n",
       "<polyline clip-path=\"url(#clip1102)\" style=\"stroke:#000000; stroke-width:2; stroke-opacity:0.1; fill:none\" points=\"\n",
       "  148.334,622.926 2352.76,622.926 \n",
       "  \"/>\n",
       "<polyline clip-path=\"url(#clip1102)\" style=\"stroke:#000000; stroke-width:2; stroke-opacity:0.1; fill:none\" points=\"\n",
       "  148.334,335.085 2352.76,335.085 \n",
       "  \"/>\n",
       "<polyline clip-path=\"url(#clip1102)\" style=\"stroke:#000000; stroke-width:2; stroke-opacity:0.1; fill:none\" points=\"\n",
       "  148.334,47.2441 2352.76,47.2441 \n",
       "  \"/>\n",
       "<polyline clip-path=\"url(#clip1100)\" style=\"stroke:#000000; stroke-width:4; stroke-opacity:1; fill:none\" points=\"\n",
       "  148.334,1486.45 2352.76,1486.45 \n",
       "  \"/>\n",
       "<polyline clip-path=\"url(#clip1100)\" style=\"stroke:#000000; stroke-width:4; stroke-opacity:1; fill:none\" points=\"\n",
       "  148.334,1486.45 148.334,47.2441 \n",
       "  \"/>\n",
       "<polyline clip-path=\"url(#clip1100)\" style=\"stroke:#000000; stroke-width:4; stroke-opacity:1; fill:none\" points=\"\n",
       "  148.334,1486.45 148.334,1469.18 \n",
       "  \"/>\n",
       "<polyline clip-path=\"url(#clip1100)\" style=\"stroke:#000000; stroke-width:4; stroke-opacity:1; fill:none\" points=\"\n",
       "  589.219,1486.45 589.219,1469.18 \n",
       "  \"/>\n",
       "<polyline clip-path=\"url(#clip1100)\" style=\"stroke:#000000; stroke-width:4; stroke-opacity:1; fill:none\" points=\"\n",
       "  1030.1,1486.45 1030.1,1469.18 \n",
       "  \"/>\n",
       "<polyline clip-path=\"url(#clip1100)\" style=\"stroke:#000000; stroke-width:4; stroke-opacity:1; fill:none\" points=\"\n",
       "  1470.99,1486.45 1470.99,1469.18 \n",
       "  \"/>\n",
       "<polyline clip-path=\"url(#clip1100)\" style=\"stroke:#000000; stroke-width:4; stroke-opacity:1; fill:none\" points=\"\n",
       "  1911.87,1486.45 1911.87,1469.18 \n",
       "  \"/>\n",
       "<polyline clip-path=\"url(#clip1100)\" style=\"stroke:#000000; stroke-width:4; stroke-opacity:1; fill:none\" points=\"\n",
       "  2352.76,1486.45 2352.76,1469.18 \n",
       "  \"/>\n",
       "<polyline clip-path=\"url(#clip1100)\" style=\"stroke:#000000; stroke-width:4; stroke-opacity:1; fill:none\" points=\"\n",
       "  148.334,1486.45 174.787,1486.45 \n",
       "  \"/>\n",
       "<polyline clip-path=\"url(#clip1100)\" style=\"stroke:#000000; stroke-width:4; stroke-opacity:1; fill:none\" points=\"\n",
       "  148.334,1198.61 174.787,1198.61 \n",
       "  \"/>\n",
       "<polyline clip-path=\"url(#clip1100)\" style=\"stroke:#000000; stroke-width:4; stroke-opacity:1; fill:none\" points=\"\n",
       "  148.334,910.766 174.787,910.766 \n",
       "  \"/>\n",
       "<polyline clip-path=\"url(#clip1100)\" style=\"stroke:#000000; stroke-width:4; stroke-opacity:1; fill:none\" points=\"\n",
       "  148.334,622.926 174.787,622.926 \n",
       "  \"/>\n",
       "<polyline clip-path=\"url(#clip1100)\" style=\"stroke:#000000; stroke-width:4; stroke-opacity:1; fill:none\" points=\"\n",
       "  148.334,335.085 174.787,335.085 \n",
       "  \"/>\n",
       "<polyline clip-path=\"url(#clip1100)\" style=\"stroke:#000000; stroke-width:4; stroke-opacity:1; fill:none\" points=\"\n",
       "  148.334,47.2441 174.787,47.2441 \n",
       "  \"/>\n",
       "<path clip-path=\"url(#clip1100)\" d=\"M 0 0 M129.851 1508.44 Q126.24 1508.44 124.411 1512 Q122.605 1515.55 122.605 1522.67 Q122.605 1529.78 124.411 1533.35 Q126.24 1536.89 129.851 1536.89 Q133.485 1536.89 135.29 1533.35 Q137.119 1529.78 137.119 1522.67 Q137.119 1515.55 135.29 1512 Q133.485 1508.44 129.851 1508.44 M129.851 1504.73 Q135.661 1504.73 138.716 1509.34 Q141.795 1513.92 141.795 1522.67 Q141.795 1531.4 138.716 1536.01 Q135.661 1540.59 129.851 1540.59 Q124.041 1540.59 120.962 1536.01 Q117.906 1531.4 117.906 1522.67 Q117.906 1513.92 120.962 1509.34 Q124.041 1504.73 129.851 1504.73 Z\" fill=\"#000000\" fill-rule=\"evenodd\" fill-opacity=\"1\" /><path clip-path=\"url(#clip1100)\" d=\"M 0 0 M146.864 1534.04 L151.749 1534.04 L151.749 1539.92 L146.864 1539.92 L146.864 1534.04 Z\" fill=\"#000000\" fill-rule=\"evenodd\" fill-opacity=\"1\" /><path clip-path=\"url(#clip1100)\" d=\"M 0 0 M166.818 1508.44 Q163.207 1508.44 161.378 1512 Q159.573 1515.55 159.573 1522.67 Q159.573 1529.78 161.378 1533.35 Q163.207 1536.89 166.818 1536.89 Q170.452 1536.89 172.258 1533.35 Q174.087 1529.78 174.087 1522.67 Q174.087 1515.55 172.258 1512 Q170.452 1508.44 166.818 1508.44 M166.818 1504.73 Q172.628 1504.73 175.684 1509.34 Q178.762 1513.92 178.762 1522.67 Q178.762 1531.4 175.684 1536.01 Q172.628 1540.59 166.818 1540.59 Q161.008 1540.59 157.929 1536.01 Q154.874 1531.4 154.874 1522.67 Q154.874 1513.92 157.929 1509.34 Q161.008 1504.73 166.818 1504.73 Z\" fill=\"#000000\" fill-rule=\"evenodd\" fill-opacity=\"1\" /><path clip-path=\"url(#clip1100)\" d=\"M 0 0 M571.534 1508.44 Q567.923 1508.44 566.094 1512 Q564.288 1515.55 564.288 1522.67 Q564.288 1529.78 566.094 1533.35 Q567.923 1536.89 571.534 1536.89 Q575.168 1536.89 576.973 1533.35 Q578.802 1529.78 578.802 1522.67 Q578.802 1515.55 576.973 1512 Q575.168 1508.44 571.534 1508.44 M571.534 1504.73 Q577.344 1504.73 580.399 1509.34 Q583.478 1513.92 583.478 1522.67 Q583.478 1531.4 580.399 1536.01 Q577.344 1540.59 571.534 1540.59 Q565.723 1540.59 562.645 1536.01 Q559.589 1531.4 559.589 1522.67 Q559.589 1513.92 562.645 1509.34 Q565.723 1504.73 571.534 1504.73 Z\" fill=\"#000000\" fill-rule=\"evenodd\" fill-opacity=\"1\" /><path clip-path=\"url(#clip1100)\" d=\"M 0 0 M588.547 1534.04 L593.432 1534.04 L593.432 1539.92 L588.547 1539.92 L588.547 1534.04 Z\" fill=\"#000000\" fill-rule=\"evenodd\" fill-opacity=\"1\" /><path clip-path=\"url(#clip1100)\" d=\"M 0 0 M602.529 1535.98 L618.848 1535.98 L618.848 1539.92 L596.904 1539.92 L596.904 1535.98 Q599.566 1533.23 604.149 1528.6 Q608.756 1523.95 609.936 1522.61 Q612.182 1520.08 613.061 1518.35 Q613.964 1516.59 613.964 1514.9 Q613.964 1512.14 612.019 1510.41 Q610.098 1508.67 606.996 1508.67 Q604.797 1508.67 602.344 1509.43 Q599.913 1510.2 597.135 1511.75 L597.135 1507.03 Q599.959 1505.89 602.413 1505.31 Q604.867 1504.73 606.904 1504.73 Q612.274 1504.73 615.469 1507.42 Q618.663 1510.11 618.663 1514.6 Q618.663 1516.73 617.853 1518.65 Q617.066 1520.54 614.959 1523.14 Q614.381 1523.81 611.279 1527.03 Q608.177 1530.22 602.529 1535.98 Z\" fill=\"#000000\" fill-rule=\"evenodd\" fill-opacity=\"1\" /><path clip-path=\"url(#clip1100)\" d=\"M 0 0 M1011.38 1508.44 Q1007.77 1508.44 1005.94 1512 Q1004.13 1515.55 1004.13 1522.67 Q1004.13 1529.78 1005.94 1533.35 Q1007.77 1536.89 1011.38 1536.89 Q1015.01 1536.89 1016.82 1533.35 Q1018.64 1529.78 1018.64 1522.67 Q1018.64 1515.55 1016.82 1512 Q1015.01 1508.44 1011.38 1508.44 M1011.38 1504.73 Q1017.19 1504.73 1020.24 1509.34 Q1023.32 1513.92 1023.32 1522.67 Q1023.32 1531.4 1020.24 1536.01 Q1017.19 1540.59 1011.38 1540.59 Q1005.57 1540.59 1002.49 1536.01 Q999.432 1531.4 999.432 1522.67 Q999.432 1513.92 1002.49 1509.34 Q1005.57 1504.73 1011.38 1504.73 Z\" fill=\"#000000\" fill-rule=\"evenodd\" fill-opacity=\"1\" /><path clip-path=\"url(#clip1100)\" d=\"M 0 0 M1028.39 1534.04 L1033.27 1534.04 L1033.27 1539.92 L1028.39 1539.92 L1028.39 1534.04 Z\" fill=\"#000000\" fill-rule=\"evenodd\" fill-opacity=\"1\" /><path clip-path=\"url(#clip1100)\" d=\"M 0 0 M1051.19 1509.43 L1039.39 1527.88 L1051.19 1527.88 L1051.19 1509.43 M1049.96 1505.36 L1055.84 1505.36 L1055.84 1527.88 L1060.77 1527.88 L1060.77 1531.77 L1055.84 1531.77 L1055.84 1539.92 L1051.19 1539.92 L1051.19 1531.77 L1035.59 1531.77 L1035.59 1527.26 L1049.96 1505.36 Z\" fill=\"#000000\" fill-rule=\"evenodd\" fill-opacity=\"1\" /><path clip-path=\"url(#clip1100)\" d=\"M 0 0 M1452.42 1508.44 Q1448.81 1508.44 1446.98 1512 Q1445.18 1515.55 1445.18 1522.67 Q1445.18 1529.78 1446.98 1533.35 Q1448.81 1536.89 1452.42 1536.89 Q1456.06 1536.89 1457.86 1533.35 Q1459.69 1529.78 1459.69 1522.67 Q1459.69 1515.55 1457.86 1512 Q1456.06 1508.44 1452.42 1508.44 M1452.42 1504.73 Q1458.23 1504.73 1461.29 1509.34 Q1464.37 1513.92 1464.37 1522.67 Q1464.37 1531.4 1461.29 1536.01 Q1458.23 1540.59 1452.42 1540.59 Q1446.61 1540.59 1443.53 1536.01 Q1440.48 1531.4 1440.48 1522.67 Q1440.48 1513.92 1443.53 1509.34 Q1446.61 1504.73 1452.42 1504.73 Z\" fill=\"#000000\" fill-rule=\"evenodd\" fill-opacity=\"1\" /><path clip-path=\"url(#clip1100)\" d=\"M 0 0 M1469.44 1534.04 L1474.32 1534.04 L1474.32 1539.92 L1469.44 1539.92 L1469.44 1534.04 Z\" fill=\"#000000\" fill-rule=\"evenodd\" fill-opacity=\"1\" /><path clip-path=\"url(#clip1100)\" d=\"M 0 0 M1489.97 1520.78 Q1486.82 1520.78 1484.97 1522.93 Q1483.14 1525.08 1483.14 1528.83 Q1483.14 1532.56 1484.97 1534.73 Q1486.82 1536.89 1489.97 1536.89 Q1493.12 1536.89 1494.95 1534.73 Q1496.8 1532.56 1496.8 1528.83 Q1496.8 1525.08 1494.95 1522.93 Q1493.12 1520.78 1489.97 1520.78 M1499.25 1506.12 L1499.25 1510.38 Q1497.49 1509.55 1495.69 1509.11 Q1493.9 1508.67 1492.14 1508.67 Q1487.51 1508.67 1485.06 1511.8 Q1482.63 1514.92 1482.28 1521.24 Q1483.65 1519.23 1485.71 1518.16 Q1487.77 1517.07 1490.25 1517.07 Q1495.45 1517.07 1498.46 1520.24 Q1501.5 1523.39 1501.5 1528.83 Q1501.5 1534.16 1498.35 1537.37 Q1495.2 1540.59 1489.97 1540.59 Q1483.97 1540.59 1480.8 1536.01 Q1477.63 1531.4 1477.63 1522.67 Q1477.63 1514.48 1481.52 1509.62 Q1485.41 1504.73 1491.96 1504.73 Q1493.72 1504.73 1495.5 1505.08 Q1497.31 1505.43 1499.25 1506.12 Z\" fill=\"#000000\" fill-rule=\"evenodd\" fill-opacity=\"1\" /><path clip-path=\"url(#clip1100)\" d=\"M 0 0 M1893.43 1508.44 Q1889.82 1508.44 1887.99 1512 Q1886.19 1515.55 1886.19 1522.67 Q1886.19 1529.78 1887.99 1533.35 Q1889.82 1536.89 1893.43 1536.89 Q1897.07 1536.89 1898.87 1533.35 Q1900.7 1529.78 1900.7 1522.67 Q1900.7 1515.55 1898.87 1512 Q1897.07 1508.44 1893.43 1508.44 M1893.43 1504.73 Q1899.24 1504.73 1902.3 1509.34 Q1905.38 1513.92 1905.38 1522.67 Q1905.38 1531.4 1902.3 1536.01 Q1899.24 1540.59 1893.43 1540.59 Q1887.62 1540.59 1884.55 1536.01 Q1881.49 1531.4 1881.49 1522.67 Q1881.49 1513.92 1884.55 1509.34 Q1887.62 1504.73 1893.43 1504.73 Z\" fill=\"#000000\" fill-rule=\"evenodd\" fill-opacity=\"1\" /><path clip-path=\"url(#clip1100)\" d=\"M 0 0 M1910.45 1534.04 L1915.33 1534.04 L1915.33 1539.92 L1910.45 1539.92 L1910.45 1534.04 Z\" fill=\"#000000\" fill-rule=\"evenodd\" fill-opacity=\"1\" /><path clip-path=\"url(#clip1100)\" d=\"M 0 0 M1930.4 1523.51 Q1927.07 1523.51 1925.15 1525.29 Q1923.25 1527.07 1923.25 1530.2 Q1923.25 1533.32 1925.15 1535.11 Q1927.07 1536.89 1930.4 1536.89 Q1933.73 1536.89 1935.66 1535.11 Q1937.58 1533.3 1937.58 1530.2 Q1937.58 1527.07 1935.66 1525.29 Q1933.76 1523.51 1930.4 1523.51 M1925.73 1521.52 Q1922.72 1520.78 1921.03 1518.72 Q1919.36 1516.66 1919.36 1513.69 Q1919.36 1509.55 1922.3 1507.14 Q1925.26 1504.73 1930.4 1504.73 Q1935.56 1504.73 1938.5 1507.14 Q1941.44 1509.55 1941.44 1513.69 Q1941.44 1516.66 1939.75 1518.72 Q1938.09 1520.78 1935.1 1521.52 Q1938.48 1522.3 1940.36 1524.6 Q1942.25 1526.89 1942.25 1530.2 Q1942.25 1535.22 1939.17 1537.91 Q1936.12 1540.59 1930.4 1540.59 Q1924.68 1540.59 1921.61 1537.91 Q1918.55 1535.22 1918.55 1530.2 Q1918.55 1526.89 1920.45 1524.6 Q1922.35 1522.3 1925.73 1521.52 M1924.01 1514.13 Q1924.01 1516.82 1925.68 1518.32 Q1927.37 1519.83 1930.4 1519.83 Q1933.41 1519.83 1935.1 1518.32 Q1936.81 1516.82 1936.81 1514.13 Q1936.81 1511.45 1935.1 1509.94 Q1933.41 1508.44 1930.4 1508.44 Q1927.37 1508.44 1925.68 1509.94 Q1924.01 1511.45 1924.01 1514.13 Z\" fill=\"#000000\" fill-rule=\"evenodd\" fill-opacity=\"1\" /><path clip-path=\"url(#clip1100)\" d=\"M 0 0 M2324.65 1535.98 L2332.29 1535.98 L2332.29 1509.62 L2323.98 1511.29 L2323.98 1507.03 L2332.25 1505.36 L2336.92 1505.36 L2336.92 1535.98 L2344.56 1535.98 L2344.56 1539.92 L2324.65 1539.92 L2324.65 1535.98 Z\" fill=\"#000000\" fill-rule=\"evenodd\" fill-opacity=\"1\" /><path clip-path=\"url(#clip1100)\" d=\"M 0 0 M2349.63 1534.04 L2354.52 1534.04 L2354.52 1539.92 L2349.63 1539.92 L2349.63 1534.04 Z\" fill=\"#000000\" fill-rule=\"evenodd\" fill-opacity=\"1\" /><path clip-path=\"url(#clip1100)\" d=\"M 0 0 M2369.58 1508.44 Q2365.97 1508.44 2364.14 1512 Q2362.34 1515.55 2362.34 1522.67 Q2362.34 1529.78 2364.14 1533.35 Q2365.97 1536.89 2369.58 1536.89 Q2373.22 1536.89 2375.02 1533.35 Q2376.85 1529.78 2376.85 1522.67 Q2376.85 1515.55 2375.02 1512 Q2373.22 1508.44 2369.58 1508.44 M2369.58 1504.73 Q2375.39 1504.73 2378.45 1509.34 Q2381.53 1513.92 2381.53 1522.67 Q2381.53 1531.4 2378.45 1536.01 Q2375.39 1540.59 2369.58 1540.59 Q2363.77 1540.59 2360.7 1536.01 Q2357.64 1531.4 2357.64 1522.67 Q2357.64 1513.92 2360.7 1509.34 Q2363.77 1504.73 2369.58 1504.73 Z\" fill=\"#000000\" fill-rule=\"evenodd\" fill-opacity=\"1\" /><path clip-path=\"url(#clip1100)\" d=\"M 0 0 M75.4226 1472.25 Q71.8115 1472.25 69.9828 1475.81 Q68.1773 1479.35 68.1773 1486.48 Q68.1773 1493.59 69.9828 1497.15 Q71.8115 1500.7 75.4226 1500.7 Q79.0569 1500.7 80.8624 1497.15 Q82.6911 1493.59 82.6911 1486.48 Q82.6911 1479.35 80.8624 1475.81 Q79.0569 1472.25 75.4226 1472.25 M75.4226 1468.54 Q81.2328 1468.54 84.2883 1473.15 Q87.367 1477.73 87.367 1486.48 Q87.367 1495.21 84.2883 1499.82 Q81.2328 1504.4 75.4226 1504.4 Q69.6125 1504.4 66.5338 1499.82 Q63.4782 1495.21 63.4782 1486.48 Q63.4782 1477.73 66.5338 1473.15 Q69.6125 1468.54 75.4226 1468.54 Z\" fill=\"#000000\" fill-rule=\"evenodd\" fill-opacity=\"1\" /><path clip-path=\"url(#clip1100)\" d=\"M 0 0 M92.4364 1497.85 L97.3206 1497.85 L97.3206 1503.73 L92.4364 1503.73 L92.4364 1497.85 Z\" fill=\"#000000\" fill-rule=\"evenodd\" fill-opacity=\"1\" /><path clip-path=\"url(#clip1100)\" d=\"M 0 0 M112.39 1472.25 Q108.779 1472.25 106.95 1475.81 Q105.145 1479.35 105.145 1486.48 Q105.145 1493.59 106.95 1497.15 Q108.779 1500.7 112.39 1500.7 Q116.024 1500.7 117.83 1497.15 Q119.658 1493.59 119.658 1486.48 Q119.658 1479.35 117.83 1475.81 Q116.024 1472.25 112.39 1472.25 M112.39 1468.54 Q118.2 1468.54 121.256 1473.15 Q124.334 1477.73 124.334 1486.48 Q124.334 1495.21 121.256 1499.82 Q118.2 1504.4 112.39 1504.4 Q106.58 1504.4 103.501 1499.82 Q100.446 1495.21 100.446 1486.48 Q100.446 1477.73 103.501 1473.15 Q106.58 1468.54 112.39 1468.54 Z\" fill=\"#000000\" fill-rule=\"evenodd\" fill-opacity=\"1\" /><path clip-path=\"url(#clip1100)\" d=\"M 0 0 M77.0198 1184.41 Q73.4087 1184.41 71.58 1187.97 Q69.7745 1191.51 69.7745 1198.64 Q69.7745 1205.75 71.58 1209.31 Q73.4087 1212.85 77.0198 1212.85 Q80.6541 1212.85 82.4596 1209.31 Q84.2883 1205.75 84.2883 1198.64 Q84.2883 1191.51 82.4596 1187.97 Q80.6541 1184.41 77.0198 1184.41 M77.0198 1180.7 Q82.83 1180.7 85.8855 1185.31 Q88.9642 1189.89 88.9642 1198.64 Q88.9642 1207.37 85.8855 1211.98 Q82.83 1216.56 77.0198 1216.56 Q71.2097 1216.56 68.131 1211.98 Q65.0754 1207.37 65.0754 1198.64 Q65.0754 1189.89 68.131 1185.31 Q71.2097 1180.7 77.0198 1180.7 Z\" fill=\"#000000\" fill-rule=\"evenodd\" fill-opacity=\"1\" /><path clip-path=\"url(#clip1100)\" d=\"M 0 0 M94.0336 1210.01 L98.9179 1210.01 L98.9179 1215.89 L94.0336 1215.89 L94.0336 1210.01 Z\" fill=\"#000000\" fill-rule=\"evenodd\" fill-opacity=\"1\" /><path clip-path=\"url(#clip1100)\" d=\"M 0 0 M108.015 1211.95 L124.334 1211.95 L124.334 1215.89 L102.39 1215.89 L102.39 1211.95 Q105.052 1209.2 109.635 1204.57 Q114.242 1199.91 115.422 1198.57 Q117.668 1196.05 118.547 1194.31 Q119.45 1192.55 119.45 1190.86 Q119.45 1188.11 117.506 1186.37 Q115.584 1184.64 112.483 1184.64 Q110.284 1184.64 107.83 1185.4 Q105.399 1186.17 102.622 1187.72 L102.622 1182.99 Q105.446 1181.86 107.899 1181.28 Q110.353 1180.7 112.39 1180.7 Q117.76 1180.7 120.955 1183.39 Q124.149 1186.07 124.149 1190.56 Q124.149 1192.69 123.339 1194.61 Q122.552 1196.51 120.446 1199.1 Q119.867 1199.78 116.765 1202.99 Q113.663 1206.19 108.015 1211.95 Z\" fill=\"#000000\" fill-rule=\"evenodd\" fill-opacity=\"1\" /><path clip-path=\"url(#clip1100)\" d=\"M 0 0 M74.9365 896.565 Q71.3254 896.565 69.4967 900.13 Q67.6912 903.671 67.6912 910.801 Q67.6912 917.908 69.4967 921.472 Q71.3254 925.014 74.9365 925.014 Q78.5707 925.014 80.3763 921.472 Q82.205 917.908 82.205 910.801 Q82.205 903.671 80.3763 900.13 Q78.5707 896.565 74.9365 896.565 M74.9365 892.861 Q80.7467 892.861 83.8022 897.468 Q86.8809 902.051 86.8809 910.801 Q86.8809 919.528 83.8022 924.134 Q80.7467 928.718 74.9365 928.718 Q69.1264 928.718 66.0477 924.134 Q62.9921 919.528 62.9921 910.801 Q62.9921 902.051 66.0477 897.468 Q69.1264 892.861 74.9365 892.861 Z\" fill=\"#000000\" fill-rule=\"evenodd\" fill-opacity=\"1\" /><path clip-path=\"url(#clip1100)\" d=\"M 0 0 M91.9503 922.167 L96.8345 922.167 L96.8345 928.046 L91.9503 928.046 L91.9503 922.167 Z\" fill=\"#000000\" fill-rule=\"evenodd\" fill-opacity=\"1\" /><path clip-path=\"url(#clip1100)\" d=\"M 0 0 M114.751 897.56 L102.946 916.009 L114.751 916.009 L114.751 897.56 M113.524 893.486 L119.404 893.486 L119.404 916.009 L124.334 916.009 L124.334 919.898 L119.404 919.898 L119.404 928.046 L114.751 928.046 L114.751 919.898 L99.1493 919.898 L99.1493 915.384 L113.524 893.486 Z\" fill=\"#000000\" fill-rule=\"evenodd\" fill-opacity=\"1\" /><path clip-path=\"url(#clip1100)\" d=\"M 0 0 M75.2606 608.724 Q71.6495 608.724 69.8208 612.289 Q68.0152 615.831 68.0152 622.96 Q68.0152 630.067 69.8208 633.632 Q71.6495 637.173 75.2606 637.173 Q78.8948 637.173 80.7004 633.632 Q82.5291 630.067 82.5291 622.96 Q82.5291 615.831 80.7004 612.289 Q78.8948 608.724 75.2606 608.724 M75.2606 605.021 Q81.0707 605.021 84.1263 609.627 Q87.205 614.21 87.205 622.96 Q87.205 631.687 84.1263 636.294 Q81.0707 640.877 75.2606 640.877 Q69.4504 640.877 66.3717 636.294 Q63.3162 631.687 63.3162 622.96 Q63.3162 614.21 66.3717 609.627 Q69.4504 605.021 75.2606 605.021 Z\" fill=\"#000000\" fill-rule=\"evenodd\" fill-opacity=\"1\" /><path clip-path=\"url(#clip1100)\" d=\"M 0 0 M92.2744 634.326 L97.1586 634.326 L97.1586 640.206 L92.2744 640.206 L92.2744 634.326 Z\" fill=\"#000000\" fill-rule=\"evenodd\" fill-opacity=\"1\" /><path clip-path=\"url(#clip1100)\" d=\"M 0 0 M112.807 621.062 Q109.659 621.062 107.807 623.215 Q105.978 625.368 105.978 629.118 Q105.978 632.845 107.807 635.02 Q109.659 637.173 112.807 637.173 Q115.955 637.173 117.783 635.02 Q119.635 632.845 119.635 629.118 Q119.635 625.368 117.783 623.215 Q115.955 621.062 112.807 621.062 M122.089 606.409 L122.089 610.669 Q120.33 609.835 118.524 609.396 Q116.742 608.956 114.983 608.956 Q110.353 608.956 107.899 612.081 Q105.469 615.206 105.122 621.525 Q106.487 619.511 108.547 618.446 Q110.608 617.359 113.084 617.359 Q118.293 617.359 121.302 620.53 Q124.334 623.678 124.334 629.118 Q124.334 634.442 121.186 637.659 Q118.038 640.877 112.807 640.877 Q106.811 640.877 103.64 636.294 Q100.469 631.687 100.469 622.96 Q100.469 614.766 104.358 609.905 Q108.247 605.021 114.797 605.021 Q116.557 605.021 118.339 605.368 Q120.145 605.715 122.089 606.409 Z\" fill=\"#000000\" fill-rule=\"evenodd\" fill-opacity=\"1\" /><path clip-path=\"url(#clip1100)\" d=\"M 0 0 M75.5152 320.884 Q71.9041 320.884 70.0754 324.448 Q68.2699 327.99 68.2699 335.12 Q68.2699 342.226 70.0754 345.791 Q71.9041 349.332 75.5152 349.332 Q79.1494 349.332 80.955 345.791 Q82.7837 342.226 82.7837 335.12 Q82.7837 327.99 80.955 324.448 Q79.1494 320.884 75.5152 320.884 M75.5152 317.18 Q81.3254 317.18 84.3809 321.786 Q87.4596 326.37 87.4596 335.12 Q87.4596 343.846 84.3809 348.453 Q81.3254 353.036 75.5152 353.036 Q69.7051 353.036 66.6264 348.453 Q63.5708 343.846 63.5708 335.12 Q63.5708 326.37 66.6264 321.786 Q69.7051 317.18 75.5152 317.18 Z\" fill=\"#000000\" fill-rule=\"evenodd\" fill-opacity=\"1\" /><path clip-path=\"url(#clip1100)\" d=\"M 0 0 M92.529 346.485 L97.4132 346.485 L97.4132 352.365 L92.529 352.365 L92.529 346.485 Z\" fill=\"#000000\" fill-rule=\"evenodd\" fill-opacity=\"1\" /><path clip-path=\"url(#clip1100)\" d=\"M 0 0 M112.483 335.953 Q109.149 335.953 107.228 337.735 Q105.33 339.518 105.33 342.643 Q105.33 345.768 107.228 347.55 Q109.149 349.332 112.483 349.332 Q115.816 349.332 117.737 347.55 Q119.658 345.745 119.658 342.643 Q119.658 339.518 117.737 337.735 Q115.839 335.953 112.483 335.953 M107.807 333.962 Q104.797 333.221 103.108 331.161 Q101.441 329.101 101.441 326.138 Q101.441 321.995 104.381 319.587 Q107.344 317.18 112.483 317.18 Q117.645 317.18 120.584 319.587 Q123.524 321.995 123.524 326.138 Q123.524 329.101 121.834 331.161 Q120.168 333.221 117.182 333.962 Q120.561 334.749 122.436 337.041 Q124.334 339.333 124.334 342.643 Q124.334 347.666 121.256 350.351 Q118.2 353.036 112.483 353.036 Q106.765 353.036 103.686 350.351 Q100.631 347.666 100.631 342.643 Q100.631 339.333 102.529 337.041 Q104.427 334.749 107.807 333.962 M106.094 326.578 Q106.094 329.263 107.76 330.768 Q109.45 332.272 112.483 332.272 Q115.492 332.272 117.182 330.768 Q118.895 329.263 118.895 326.578 Q118.895 323.893 117.182 322.388 Q115.492 320.884 112.483 320.884 Q109.45 320.884 107.76 322.388 Q106.094 323.893 106.094 326.578 Z\" fill=\"#000000\" fill-rule=\"evenodd\" fill-opacity=\"1\" /><path clip-path=\"url(#clip1100)\" d=\"M 0 0 M67.4597 60.5889 L75.0985 60.5889 L75.0985 34.2233 L66.7884 35.89 L66.7884 31.6308 L75.0522 29.9641 L79.7281 29.9641 L79.7281 60.5889 L87.367 60.5889 L87.367 64.5241 L67.4597 64.5241 L67.4597 60.5889 Z\" fill=\"#000000\" fill-rule=\"evenodd\" fill-opacity=\"1\" /><path clip-path=\"url(#clip1100)\" d=\"M 0 0 M92.4364 58.6445 L97.3206 58.6445 L97.3206 64.5241 L92.4364 64.5241 L92.4364 58.6445 Z\" fill=\"#000000\" fill-rule=\"evenodd\" fill-opacity=\"1\" /><path clip-path=\"url(#clip1100)\" d=\"M 0 0 M112.39 33.0428 Q108.779 33.0428 106.95 36.6076 Q105.145 40.1492 105.145 47.2788 Q105.145 54.3853 106.95 57.9501 Q108.779 61.4917 112.39 61.4917 Q116.024 61.4917 117.83 57.9501 Q119.658 54.3853 119.658 47.2788 Q119.658 40.1492 117.83 36.6076 Q116.024 33.0428 112.39 33.0428 M112.39 29.3391 Q118.2 29.3391 121.256 33.9456 Q124.334 38.5289 124.334 47.2788 Q124.334 56.0056 121.256 60.6121 Q118.2 65.1954 112.39 65.1954 Q106.58 65.1954 103.501 60.6121 Q100.446 56.0056 100.446 47.2788 Q100.446 38.5289 103.501 33.9456 Q106.58 29.3391 112.39 29.3391 Z\" fill=\"#000000\" fill-rule=\"evenodd\" fill-opacity=\"1\" /><circle clip-path=\"url(#clip1102)\" cx=\"1697.71\" cy=\"423.4\" r=\"14\" fill=\"#009af9\" fill-rule=\"evenodd\" fill-opacity=\"1\" stroke=\"#000000\" stroke-opacity=\"1\" stroke-width=\"3.2\"/>\n",
       "<circle clip-path=\"url(#clip1102)\" cx=\"1776.47\" cy=\"449.547\" r=\"14\" fill=\"#009af9\" fill-rule=\"evenodd\" fill-opacity=\"1\" stroke=\"#000000\" stroke-opacity=\"1\" stroke-width=\"3.2\"/>\n",
       "<circle clip-path=\"url(#clip1102)\" cx=\"1776.47\" cy=\"449.547\" r=\"14\" fill=\"#009af9\" fill-rule=\"evenodd\" fill-opacity=\"1\" stroke=\"#000000\" stroke-opacity=\"1\" stroke-width=\"3.2\"/>\n",
       "<circle clip-path=\"url(#clip1102)\" cx=\"1776.47\" cy=\"449.547\" r=\"14\" fill=\"#009af9\" fill-rule=\"evenodd\" fill-opacity=\"1\" stroke=\"#000000\" stroke-opacity=\"1\" stroke-width=\"3.2\"/>\n",
       "<circle clip-path=\"url(#clip1102)\" cx=\"1776.47\" cy=\"449.547\" r=\"14\" fill=\"#009af9\" fill-rule=\"evenodd\" fill-opacity=\"1\" stroke=\"#000000\" stroke-opacity=\"1\" stroke-width=\"3.2\"/>\n",
       "<circle clip-path=\"url(#clip1102)\" cx=\"1776.47\" cy=\"449.547\" r=\"14\" fill=\"#009af9\" fill-rule=\"evenodd\" fill-opacity=\"1\" stroke=\"#000000\" stroke-opacity=\"1\" stroke-width=\"3.2\"/>\n",
       "<circle clip-path=\"url(#clip1102)\" cx=\"1776.47\" cy=\"449.547\" r=\"14\" fill=\"#009af9\" fill-rule=\"evenodd\" fill-opacity=\"1\" stroke=\"#000000\" stroke-opacity=\"1\" stroke-width=\"3.2\"/>\n",
       "<circle clip-path=\"url(#clip1102)\" cx=\"1776.47\" cy=\"449.547\" r=\"14\" fill=\"#009af9\" fill-rule=\"evenodd\" fill-opacity=\"1\" stroke=\"#000000\" stroke-opacity=\"1\" stroke-width=\"3.2\"/>\n",
       "<circle clip-path=\"url(#clip1102)\" cx=\"1776.47\" cy=\"449.547\" r=\"14\" fill=\"#009af9\" fill-rule=\"evenodd\" fill-opacity=\"1\" stroke=\"#000000\" stroke-opacity=\"1\" stroke-width=\"3.2\"/>\n",
       "<circle clip-path=\"url(#clip1102)\" cx=\"1776.47\" cy=\"449.547\" r=\"14\" fill=\"#009af9\" fill-rule=\"evenodd\" fill-opacity=\"1\" stroke=\"#000000\" stroke-opacity=\"1\" stroke-width=\"3.2\"/>\n",
       "<circle clip-path=\"url(#clip1102)\" cx=\"1724.73\" cy=\"438.85\" r=\"14\" fill=\"#009af9\" fill-rule=\"evenodd\" fill-opacity=\"1\" stroke=\"#000000\" stroke-opacity=\"1\" stroke-width=\"3.2\"/>\n",
       "<circle clip-path=\"url(#clip1102)\" cx=\"1725.78\" cy=\"446.024\" r=\"14\" fill=\"#009af9\" fill-rule=\"evenodd\" fill-opacity=\"1\" stroke=\"#000000\" stroke-opacity=\"1\" stroke-width=\"3.2\"/>\n",
       "<circle clip-path=\"url(#clip1102)\" cx=\"1776.47\" cy=\"449.547\" r=\"14\" fill=\"#009af9\" fill-rule=\"evenodd\" fill-opacity=\"1\" stroke=\"#000000\" stroke-opacity=\"1\" stroke-width=\"3.2\"/>\n",
       "<circle clip-path=\"url(#clip1102)\" cx=\"1776.47\" cy=\"449.547\" r=\"14\" fill=\"#009af9\" fill-rule=\"evenodd\" fill-opacity=\"1\" stroke=\"#000000\" stroke-opacity=\"1\" stroke-width=\"3.2\"/>\n",
       "<circle clip-path=\"url(#clip1102)\" cx=\"1725.78\" cy=\"446.024\" r=\"14\" fill=\"#009af9\" fill-rule=\"evenodd\" fill-opacity=\"1\" stroke=\"#000000\" stroke-opacity=\"1\" stroke-width=\"3.2\"/>\n",
       "<circle clip-path=\"url(#clip1102)\" cx=\"1767.87\" cy=\"449.004\" r=\"14\" fill=\"#009af9\" fill-rule=\"evenodd\" fill-opacity=\"1\" stroke=\"#000000\" stroke-opacity=\"1\" stroke-width=\"3.2\"/>\n",
       "<circle clip-path=\"url(#clip1102)\" cx=\"1776.47\" cy=\"449.547\" r=\"14\" fill=\"#009af9\" fill-rule=\"evenodd\" fill-opacity=\"1\" stroke=\"#000000\" stroke-opacity=\"1\" stroke-width=\"3.2\"/>\n",
       "<circle clip-path=\"url(#clip1102)\" cx=\"1776.47\" cy=\"449.547\" r=\"14\" fill=\"#009af9\" fill-rule=\"evenodd\" fill-opacity=\"1\" stroke=\"#000000\" stroke-opacity=\"1\" stroke-width=\"3.2\"/>\n",
       "<circle clip-path=\"url(#clip1102)\" cx=\"1776.47\" cy=\"449.547\" r=\"14\" fill=\"#009af9\" fill-rule=\"evenodd\" fill-opacity=\"1\" stroke=\"#000000\" stroke-opacity=\"1\" stroke-width=\"3.2\"/>\n",
       "<circle clip-path=\"url(#clip1102)\" cx=\"1767.87\" cy=\"449.004\" r=\"14\" fill=\"#009af9\" fill-rule=\"evenodd\" fill-opacity=\"1\" stroke=\"#000000\" stroke-opacity=\"1\" stroke-width=\"3.2\"/>\n",
       "<circle clip-path=\"url(#clip1102)\" cx=\"1776.47\" cy=\"449.547\" r=\"14\" fill=\"#009af9\" fill-rule=\"evenodd\" fill-opacity=\"1\" stroke=\"#000000\" stroke-opacity=\"1\" stroke-width=\"3.2\"/>\n",
       "<circle clip-path=\"url(#clip1102)\" cx=\"1776.47\" cy=\"449.547\" r=\"14\" fill=\"#009af9\" fill-rule=\"evenodd\" fill-opacity=\"1\" stroke=\"#000000\" stroke-opacity=\"1\" stroke-width=\"3.2\"/>\n",
       "<circle clip-path=\"url(#clip1102)\" cx=\"1776.47\" cy=\"449.547\" r=\"14\" fill=\"#009af9\" fill-rule=\"evenodd\" fill-opacity=\"1\" stroke=\"#000000\" stroke-opacity=\"1\" stroke-width=\"3.2\"/>\n",
       "<circle clip-path=\"url(#clip1102)\" cx=\"1776.47\" cy=\"449.547\" r=\"14\" fill=\"#009af9\" fill-rule=\"evenodd\" fill-opacity=\"1\" stroke=\"#000000\" stroke-opacity=\"1\" stroke-width=\"3.2\"/>\n",
       "<circle clip-path=\"url(#clip1102)\" cx=\"1776.47\" cy=\"449.547\" r=\"14\" fill=\"#009af9\" fill-rule=\"evenodd\" fill-opacity=\"1\" stroke=\"#000000\" stroke-opacity=\"1\" stroke-width=\"3.2\"/>\n",
       "<circle clip-path=\"url(#clip1102)\" cx=\"1776.47\" cy=\"449.547\" r=\"14\" fill=\"#009af9\" fill-rule=\"evenodd\" fill-opacity=\"1\" stroke=\"#000000\" stroke-opacity=\"1\" stroke-width=\"3.2\"/>\n",
       "<circle clip-path=\"url(#clip1102)\" cx=\"1776.47\" cy=\"449.547\" r=\"14\" fill=\"#009af9\" fill-rule=\"evenodd\" fill-opacity=\"1\" stroke=\"#000000\" stroke-opacity=\"1\" stroke-width=\"3.2\"/>\n",
       "<circle clip-path=\"url(#clip1102)\" cx=\"1776.47\" cy=\"449.547\" r=\"14\" fill=\"#009af9\" fill-rule=\"evenodd\" fill-opacity=\"1\" stroke=\"#000000\" stroke-opacity=\"1\" stroke-width=\"3.2\"/>\n",
       "<circle clip-path=\"url(#clip1102)\" cx=\"1776.47\" cy=\"449.547\" r=\"14\" fill=\"#009af9\" fill-rule=\"evenodd\" fill-opacity=\"1\" stroke=\"#000000\" stroke-opacity=\"1\" stroke-width=\"3.2\"/>\n",
       "<circle clip-path=\"url(#clip1102)\" cx=\"1776.47\" cy=\"449.547\" r=\"14\" fill=\"#009af9\" fill-rule=\"evenodd\" fill-opacity=\"1\" stroke=\"#000000\" stroke-opacity=\"1\" stroke-width=\"3.2\"/>\n",
       "<circle clip-path=\"url(#clip1102)\" cx=\"1776.47\" cy=\"449.547\" r=\"14\" fill=\"#009af9\" fill-rule=\"evenodd\" fill-opacity=\"1\" stroke=\"#000000\" stroke-opacity=\"1\" stroke-width=\"3.2\"/>\n",
       "<circle clip-path=\"url(#clip1102)\" cx=\"1776.47\" cy=\"449.547\" r=\"14\" fill=\"#009af9\" fill-rule=\"evenodd\" fill-opacity=\"1\" stroke=\"#000000\" stroke-opacity=\"1\" stroke-width=\"3.2\"/>\n",
       "<circle clip-path=\"url(#clip1102)\" cx=\"1776.47\" cy=\"449.547\" r=\"14\" fill=\"#009af9\" fill-rule=\"evenodd\" fill-opacity=\"1\" stroke=\"#000000\" stroke-opacity=\"1\" stroke-width=\"3.2\"/>\n",
       "<circle clip-path=\"url(#clip1102)\" cx=\"1776.47\" cy=\"449.547\" r=\"14\" fill=\"#009af9\" fill-rule=\"evenodd\" fill-opacity=\"1\" stroke=\"#000000\" stroke-opacity=\"1\" stroke-width=\"3.2\"/>\n",
       "<circle clip-path=\"url(#clip1102)\" cx=\"1776.47\" cy=\"449.547\" r=\"14\" fill=\"#009af9\" fill-rule=\"evenodd\" fill-opacity=\"1\" stroke=\"#000000\" stroke-opacity=\"1\" stroke-width=\"3.2\"/>\n",
       "<circle clip-path=\"url(#clip1102)\" cx=\"1776.47\" cy=\"449.547\" r=\"14\" fill=\"#009af9\" fill-rule=\"evenodd\" fill-opacity=\"1\" stroke=\"#000000\" stroke-opacity=\"1\" stroke-width=\"3.2\"/>\n",
       "<circle clip-path=\"url(#clip1102)\" cx=\"1776.47\" cy=\"449.547\" r=\"14\" fill=\"#009af9\" fill-rule=\"evenodd\" fill-opacity=\"1\" stroke=\"#000000\" stroke-opacity=\"1\" stroke-width=\"3.2\"/>\n",
       "<circle clip-path=\"url(#clip1102)\" cx=\"1776.47\" cy=\"449.547\" r=\"14\" fill=\"#009af9\" fill-rule=\"evenodd\" fill-opacity=\"1\" stroke=\"#000000\" stroke-opacity=\"1\" stroke-width=\"3.2\"/>\n",
       "<circle clip-path=\"url(#clip1102)\" cx=\"1776.47\" cy=\"449.547\" r=\"14\" fill=\"#009af9\" fill-rule=\"evenodd\" fill-opacity=\"1\" stroke=\"#000000\" stroke-opacity=\"1\" stroke-width=\"3.2\"/>\n",
       "<circle clip-path=\"url(#clip1102)\" cx=\"1776.47\" cy=\"449.547\" r=\"14\" fill=\"#009af9\" fill-rule=\"evenodd\" fill-opacity=\"1\" stroke=\"#000000\" stroke-opacity=\"1\" stroke-width=\"3.2\"/>\n",
       "<circle clip-path=\"url(#clip1102)\" cx=\"1776.47\" cy=\"449.547\" r=\"14\" fill=\"#009af9\" fill-rule=\"evenodd\" fill-opacity=\"1\" stroke=\"#000000\" stroke-opacity=\"1\" stroke-width=\"3.2\"/>\n",
       "<circle clip-path=\"url(#clip1102)\" cx=\"1776.47\" cy=\"449.547\" r=\"14\" fill=\"#009af9\" fill-rule=\"evenodd\" fill-opacity=\"1\" stroke=\"#000000\" stroke-opacity=\"1\" stroke-width=\"3.2\"/>\n",
       "<circle clip-path=\"url(#clip1102)\" cx=\"1776.47\" cy=\"449.547\" r=\"14\" fill=\"#009af9\" fill-rule=\"evenodd\" fill-opacity=\"1\" stroke=\"#000000\" stroke-opacity=\"1\" stroke-width=\"3.2\"/>\n",
       "<circle clip-path=\"url(#clip1102)\" cx=\"1776.47\" cy=\"449.547\" r=\"14\" fill=\"#009af9\" fill-rule=\"evenodd\" fill-opacity=\"1\" stroke=\"#000000\" stroke-opacity=\"1\" stroke-width=\"3.2\"/>\n",
       "<circle clip-path=\"url(#clip1102)\" cx=\"1776.47\" cy=\"449.547\" r=\"14\" fill=\"#009af9\" fill-rule=\"evenodd\" fill-opacity=\"1\" stroke=\"#000000\" stroke-opacity=\"1\" stroke-width=\"3.2\"/>\n",
       "<circle clip-path=\"url(#clip1102)\" cx=\"1776.47\" cy=\"449.547\" r=\"14\" fill=\"#009af9\" fill-rule=\"evenodd\" fill-opacity=\"1\" stroke=\"#000000\" stroke-opacity=\"1\" stroke-width=\"3.2\"/>\n",
       "<circle clip-path=\"url(#clip1102)\" cx=\"1776.47\" cy=\"449.547\" r=\"14\" fill=\"#009af9\" fill-rule=\"evenodd\" fill-opacity=\"1\" stroke=\"#000000\" stroke-opacity=\"1\" stroke-width=\"3.2\"/>\n",
       "<circle clip-path=\"url(#clip1102)\" cx=\"1776.47\" cy=\"449.547\" r=\"14\" fill=\"#009af9\" fill-rule=\"evenodd\" fill-opacity=\"1\" stroke=\"#000000\" stroke-opacity=\"1\" stroke-width=\"3.2\"/>\n",
       "<circle clip-path=\"url(#clip1102)\" cx=\"1776.47\" cy=\"449.547\" r=\"14\" fill=\"#009af9\" fill-rule=\"evenodd\" fill-opacity=\"1\" stroke=\"#000000\" stroke-opacity=\"1\" stroke-width=\"3.2\"/>\n",
       "<circle clip-path=\"url(#clip1102)\" cx=\"1776.47\" cy=\"449.547\" r=\"14\" fill=\"#009af9\" fill-rule=\"evenodd\" fill-opacity=\"1\" stroke=\"#000000\" stroke-opacity=\"1\" stroke-width=\"3.2\"/>\n",
       "<circle clip-path=\"url(#clip1102)\" cx=\"1776.47\" cy=\"449.547\" r=\"14\" fill=\"#009af9\" fill-rule=\"evenodd\" fill-opacity=\"1\" stroke=\"#000000\" stroke-opacity=\"1\" stroke-width=\"3.2\"/>\n",
       "<circle clip-path=\"url(#clip1102)\" cx=\"1776.47\" cy=\"449.547\" r=\"14\" fill=\"#009af9\" fill-rule=\"evenodd\" fill-opacity=\"1\" stroke=\"#000000\" stroke-opacity=\"1\" stroke-width=\"3.2\"/>\n",
       "<circle clip-path=\"url(#clip1102)\" cx=\"1776.47\" cy=\"449.547\" r=\"14\" fill=\"#009af9\" fill-rule=\"evenodd\" fill-opacity=\"1\" stroke=\"#000000\" stroke-opacity=\"1\" stroke-width=\"3.2\"/>\n",
       "<circle clip-path=\"url(#clip1102)\" cx=\"1776.47\" cy=\"449.547\" r=\"14\" fill=\"#009af9\" fill-rule=\"evenodd\" fill-opacity=\"1\" stroke=\"#000000\" stroke-opacity=\"1\" stroke-width=\"3.2\"/>\n",
       "<circle clip-path=\"url(#clip1102)\" cx=\"1776.47\" cy=\"449.547\" r=\"14\" fill=\"#009af9\" fill-rule=\"evenodd\" fill-opacity=\"1\" stroke=\"#000000\" stroke-opacity=\"1\" stroke-width=\"3.2\"/>\n",
       "<circle clip-path=\"url(#clip1102)\" cx=\"1776.47\" cy=\"449.547\" r=\"14\" fill=\"#009af9\" fill-rule=\"evenodd\" fill-opacity=\"1\" stroke=\"#000000\" stroke-opacity=\"1\" stroke-width=\"3.2\"/>\n",
       "<circle clip-path=\"url(#clip1102)\" cx=\"1776.47\" cy=\"449.547\" r=\"14\" fill=\"#009af9\" fill-rule=\"evenodd\" fill-opacity=\"1\" stroke=\"#000000\" stroke-opacity=\"1\" stroke-width=\"3.2\"/>\n",
       "<circle clip-path=\"url(#clip1102)\" cx=\"1776.47\" cy=\"449.547\" r=\"14\" fill=\"#009af9\" fill-rule=\"evenodd\" fill-opacity=\"1\" stroke=\"#000000\" stroke-opacity=\"1\" stroke-width=\"3.2\"/>\n",
       "<circle clip-path=\"url(#clip1102)\" cx=\"1776.47\" cy=\"449.547\" r=\"14\" fill=\"#009af9\" fill-rule=\"evenodd\" fill-opacity=\"1\" stroke=\"#000000\" stroke-opacity=\"1\" stroke-width=\"3.2\"/>\n",
       "<circle clip-path=\"url(#clip1102)\" cx=\"1776.47\" cy=\"449.547\" r=\"14\" fill=\"#009af9\" fill-rule=\"evenodd\" fill-opacity=\"1\" stroke=\"#000000\" stroke-opacity=\"1\" stroke-width=\"3.2\"/>\n",
       "<circle clip-path=\"url(#clip1102)\" cx=\"1776.47\" cy=\"449.547\" r=\"14\" fill=\"#009af9\" fill-rule=\"evenodd\" fill-opacity=\"1\" stroke=\"#000000\" stroke-opacity=\"1\" stroke-width=\"3.2\"/>\n",
       "<circle clip-path=\"url(#clip1102)\" cx=\"1776.47\" cy=\"449.547\" r=\"14\" fill=\"#009af9\" fill-rule=\"evenodd\" fill-opacity=\"1\" stroke=\"#000000\" stroke-opacity=\"1\" stroke-width=\"3.2\"/>\n",
       "<circle clip-path=\"url(#clip1102)\" cx=\"1776.47\" cy=\"449.547\" r=\"14\" fill=\"#009af9\" fill-rule=\"evenodd\" fill-opacity=\"1\" stroke=\"#000000\" stroke-opacity=\"1\" stroke-width=\"3.2\"/>\n",
       "<circle clip-path=\"url(#clip1102)\" cx=\"1776.47\" cy=\"449.547\" r=\"14\" fill=\"#009af9\" fill-rule=\"evenodd\" fill-opacity=\"1\" stroke=\"#000000\" stroke-opacity=\"1\" stroke-width=\"3.2\"/>\n",
       "<circle clip-path=\"url(#clip1102)\" cx=\"1776.47\" cy=\"449.547\" r=\"14\" fill=\"#009af9\" fill-rule=\"evenodd\" fill-opacity=\"1\" stroke=\"#000000\" stroke-opacity=\"1\" stroke-width=\"3.2\"/>\n",
       "<circle clip-path=\"url(#clip1102)\" cx=\"1776.47\" cy=\"449.547\" r=\"14\" fill=\"#009af9\" fill-rule=\"evenodd\" fill-opacity=\"1\" stroke=\"#000000\" stroke-opacity=\"1\" stroke-width=\"3.2\"/>\n",
       "<circle clip-path=\"url(#clip1102)\" cx=\"1776.47\" cy=\"449.547\" r=\"14\" fill=\"#009af9\" fill-rule=\"evenodd\" fill-opacity=\"1\" stroke=\"#000000\" stroke-opacity=\"1\" stroke-width=\"3.2\"/>\n",
       "<circle clip-path=\"url(#clip1102)\" cx=\"1776.47\" cy=\"449.547\" r=\"14\" fill=\"#009af9\" fill-rule=\"evenodd\" fill-opacity=\"1\" stroke=\"#000000\" stroke-opacity=\"1\" stroke-width=\"3.2\"/>\n",
       "<circle clip-path=\"url(#clip1102)\" cx=\"1776.47\" cy=\"449.547\" r=\"14\" fill=\"#009af9\" fill-rule=\"evenodd\" fill-opacity=\"1\" stroke=\"#000000\" stroke-opacity=\"1\" stroke-width=\"3.2\"/>\n",
       "<circle clip-path=\"url(#clip1102)\" cx=\"1776.47\" cy=\"449.547\" r=\"14\" fill=\"#009af9\" fill-rule=\"evenodd\" fill-opacity=\"1\" stroke=\"#000000\" stroke-opacity=\"1\" stroke-width=\"3.2\"/>\n",
       "<circle clip-path=\"url(#clip1102)\" cx=\"1776.47\" cy=\"449.547\" r=\"14\" fill=\"#009af9\" fill-rule=\"evenodd\" fill-opacity=\"1\" stroke=\"#000000\" stroke-opacity=\"1\" stroke-width=\"3.2\"/>\n",
       "<circle clip-path=\"url(#clip1102)\" cx=\"1776.47\" cy=\"449.547\" r=\"14\" fill=\"#009af9\" fill-rule=\"evenodd\" fill-opacity=\"1\" stroke=\"#000000\" stroke-opacity=\"1\" stroke-width=\"3.2\"/>\n",
       "<circle clip-path=\"url(#clip1102)\" cx=\"1776.47\" cy=\"449.547\" r=\"14\" fill=\"#009af9\" fill-rule=\"evenodd\" fill-opacity=\"1\" stroke=\"#000000\" stroke-opacity=\"1\" stroke-width=\"3.2\"/>\n",
       "<circle clip-path=\"url(#clip1102)\" cx=\"1776.47\" cy=\"449.547\" r=\"14\" fill=\"#009af9\" fill-rule=\"evenodd\" fill-opacity=\"1\" stroke=\"#000000\" stroke-opacity=\"1\" stroke-width=\"3.2\"/>\n",
       "<circle clip-path=\"url(#clip1102)\" cx=\"1776.47\" cy=\"449.547\" r=\"14\" fill=\"#009af9\" fill-rule=\"evenodd\" fill-opacity=\"1\" stroke=\"#000000\" stroke-opacity=\"1\" stroke-width=\"3.2\"/>\n",
       "<circle clip-path=\"url(#clip1102)\" cx=\"1776.47\" cy=\"449.547\" r=\"14\" fill=\"#009af9\" fill-rule=\"evenodd\" fill-opacity=\"1\" stroke=\"#000000\" stroke-opacity=\"1\" stroke-width=\"3.2\"/>\n",
       "<circle clip-path=\"url(#clip1102)\" cx=\"1776.47\" cy=\"449.547\" r=\"14\" fill=\"#009af9\" fill-rule=\"evenodd\" fill-opacity=\"1\" stroke=\"#000000\" stroke-opacity=\"1\" stroke-width=\"3.2\"/>\n",
       "<circle clip-path=\"url(#clip1102)\" cx=\"1776.47\" cy=\"449.547\" r=\"14\" fill=\"#009af9\" fill-rule=\"evenodd\" fill-opacity=\"1\" stroke=\"#000000\" stroke-opacity=\"1\" stroke-width=\"3.2\"/>\n",
       "<circle clip-path=\"url(#clip1102)\" cx=\"1776.47\" cy=\"449.547\" r=\"14\" fill=\"#009af9\" fill-rule=\"evenodd\" fill-opacity=\"1\" stroke=\"#000000\" stroke-opacity=\"1\" stroke-width=\"3.2\"/>\n",
       "<circle clip-path=\"url(#clip1102)\" cx=\"1776.47\" cy=\"449.547\" r=\"14\" fill=\"#009af9\" fill-rule=\"evenodd\" fill-opacity=\"1\" stroke=\"#000000\" stroke-opacity=\"1\" stroke-width=\"3.2\"/>\n",
       "<circle clip-path=\"url(#clip1102)\" cx=\"1776.47\" cy=\"449.547\" r=\"14\" fill=\"#009af9\" fill-rule=\"evenodd\" fill-opacity=\"1\" stroke=\"#000000\" stroke-opacity=\"1\" stroke-width=\"3.2\"/>\n",
       "<circle clip-path=\"url(#clip1102)\" cx=\"1776.47\" cy=\"449.547\" r=\"14\" fill=\"#009af9\" fill-rule=\"evenodd\" fill-opacity=\"1\" stroke=\"#000000\" stroke-opacity=\"1\" stroke-width=\"3.2\"/>\n",
       "<circle clip-path=\"url(#clip1102)\" cx=\"1776.47\" cy=\"449.547\" r=\"14\" fill=\"#009af9\" fill-rule=\"evenodd\" fill-opacity=\"1\" stroke=\"#000000\" stroke-opacity=\"1\" stroke-width=\"3.2\"/>\n",
       "<circle clip-path=\"url(#clip1102)\" cx=\"1776.47\" cy=\"449.547\" r=\"14\" fill=\"#009af9\" fill-rule=\"evenodd\" fill-opacity=\"1\" stroke=\"#000000\" stroke-opacity=\"1\" stroke-width=\"3.2\"/>\n",
       "<circle clip-path=\"url(#clip1102)\" cx=\"1776.47\" cy=\"449.547\" r=\"14\" fill=\"#009af9\" fill-rule=\"evenodd\" fill-opacity=\"1\" stroke=\"#000000\" stroke-opacity=\"1\" stroke-width=\"3.2\"/>\n",
       "<circle clip-path=\"url(#clip1102)\" cx=\"1776.47\" cy=\"449.547\" r=\"14\" fill=\"#009af9\" fill-rule=\"evenodd\" fill-opacity=\"1\" stroke=\"#000000\" stroke-opacity=\"1\" stroke-width=\"3.2\"/>\n",
       "<circle clip-path=\"url(#clip1102)\" cx=\"1776.47\" cy=\"449.547\" r=\"14\" fill=\"#009af9\" fill-rule=\"evenodd\" fill-opacity=\"1\" stroke=\"#000000\" stroke-opacity=\"1\" stroke-width=\"3.2\"/>\n",
       "<circle clip-path=\"url(#clip1102)\" cx=\"1776.47\" cy=\"449.547\" r=\"14\" fill=\"#009af9\" fill-rule=\"evenodd\" fill-opacity=\"1\" stroke=\"#000000\" stroke-opacity=\"1\" stroke-width=\"3.2\"/>\n",
       "<circle clip-path=\"url(#clip1102)\" cx=\"1697.71\" cy=\"423.4\" r=\"14\" fill=\"#009af9\" fill-rule=\"evenodd\" fill-opacity=\"1\" stroke=\"#000000\" stroke-opacity=\"1\" stroke-width=\"3.2\"/>\n",
       "<circle clip-path=\"url(#clip1102)\" cx=\"1724.73\" cy=\"438.85\" r=\"14\" fill=\"#009af9\" fill-rule=\"evenodd\" fill-opacity=\"1\" stroke=\"#000000\" stroke-opacity=\"1\" stroke-width=\"3.2\"/>\n",
       "<circle clip-path=\"url(#clip1102)\" cx=\"1776.47\" cy=\"449.547\" r=\"14\" fill=\"#009af9\" fill-rule=\"evenodd\" fill-opacity=\"1\" stroke=\"#000000\" stroke-opacity=\"1\" stroke-width=\"3.2\"/>\n",
       "<circle clip-path=\"url(#clip1102)\" cx=\"1776.47\" cy=\"449.547\" r=\"14\" fill=\"#009af9\" fill-rule=\"evenodd\" fill-opacity=\"1\" stroke=\"#000000\" stroke-opacity=\"1\" stroke-width=\"3.2\"/>\n",
       "<circle clip-path=\"url(#clip1102)\" cx=\"1776.47\" cy=\"449.547\" r=\"14\" fill=\"#009af9\" fill-rule=\"evenodd\" fill-opacity=\"1\" stroke=\"#000000\" stroke-opacity=\"1\" stroke-width=\"3.2\"/>\n",
       "<circle clip-path=\"url(#clip1102)\" cx=\"1776.47\" cy=\"449.547\" r=\"14\" fill=\"#009af9\" fill-rule=\"evenodd\" fill-opacity=\"1\" stroke=\"#000000\" stroke-opacity=\"1\" stroke-width=\"3.2\"/>\n",
       "<circle clip-path=\"url(#clip1102)\" cx=\"1776.47\" cy=\"449.547\" r=\"14\" fill=\"#009af9\" fill-rule=\"evenodd\" fill-opacity=\"1\" stroke=\"#000000\" stroke-opacity=\"1\" stroke-width=\"3.2\"/>\n",
       "<circle clip-path=\"url(#clip1102)\" cx=\"1776.47\" cy=\"449.547\" r=\"14\" fill=\"#009af9\" fill-rule=\"evenodd\" fill-opacity=\"1\" stroke=\"#000000\" stroke-opacity=\"1\" stroke-width=\"3.2\"/>\n",
       "<circle clip-path=\"url(#clip1102)\" cx=\"1776.47\" cy=\"449.547\" r=\"14\" fill=\"#009af9\" fill-rule=\"evenodd\" fill-opacity=\"1\" stroke=\"#000000\" stroke-opacity=\"1\" stroke-width=\"3.2\"/>\n",
       "<circle clip-path=\"url(#clip1102)\" cx=\"1776.47\" cy=\"449.547\" r=\"14\" fill=\"#009af9\" fill-rule=\"evenodd\" fill-opacity=\"1\" stroke=\"#000000\" stroke-opacity=\"1\" stroke-width=\"3.2\"/>\n",
       "<circle clip-path=\"url(#clip1102)\" cx=\"1776.47\" cy=\"449.547\" r=\"14\" fill=\"#009af9\" fill-rule=\"evenodd\" fill-opacity=\"1\" stroke=\"#000000\" stroke-opacity=\"1\" stroke-width=\"3.2\"/>\n",
       "<circle clip-path=\"url(#clip1102)\" cx=\"1776.47\" cy=\"449.547\" r=\"14\" fill=\"#009af9\" fill-rule=\"evenodd\" fill-opacity=\"1\" stroke=\"#000000\" stroke-opacity=\"1\" stroke-width=\"3.2\"/>\n",
       "<circle clip-path=\"url(#clip1102)\" cx=\"1776.47\" cy=\"449.547\" r=\"14\" fill=\"#009af9\" fill-rule=\"evenodd\" fill-opacity=\"1\" stroke=\"#000000\" stroke-opacity=\"1\" stroke-width=\"3.2\"/>\n",
       "<circle clip-path=\"url(#clip1102)\" cx=\"1776.47\" cy=\"449.547\" r=\"14\" fill=\"#009af9\" fill-rule=\"evenodd\" fill-opacity=\"1\" stroke=\"#000000\" stroke-opacity=\"1\" stroke-width=\"3.2\"/>\n",
       "<circle clip-path=\"url(#clip1102)\" cx=\"1776.47\" cy=\"449.547\" r=\"14\" fill=\"#009af9\" fill-rule=\"evenodd\" fill-opacity=\"1\" stroke=\"#000000\" stroke-opacity=\"1\" stroke-width=\"3.2\"/>\n",
       "<circle clip-path=\"url(#clip1102)\" cx=\"1776.47\" cy=\"449.547\" r=\"14\" fill=\"#009af9\" fill-rule=\"evenodd\" fill-opacity=\"1\" stroke=\"#000000\" stroke-opacity=\"1\" stroke-width=\"3.2\"/>\n",
       "<circle clip-path=\"url(#clip1102)\" cx=\"1776.47\" cy=\"449.547\" r=\"14\" fill=\"#009af9\" fill-rule=\"evenodd\" fill-opacity=\"1\" stroke=\"#000000\" stroke-opacity=\"1\" stroke-width=\"3.2\"/>\n",
       "<circle clip-path=\"url(#clip1102)\" cx=\"1776.47\" cy=\"449.547\" r=\"14\" fill=\"#009af9\" fill-rule=\"evenodd\" fill-opacity=\"1\" stroke=\"#000000\" stroke-opacity=\"1\" stroke-width=\"3.2\"/>\n",
       "<circle clip-path=\"url(#clip1102)\" cx=\"1776.47\" cy=\"449.547\" r=\"14\" fill=\"#009af9\" fill-rule=\"evenodd\" fill-opacity=\"1\" stroke=\"#000000\" stroke-opacity=\"1\" stroke-width=\"3.2\"/>\n",
       "<circle clip-path=\"url(#clip1102)\" cx=\"1776.47\" cy=\"449.547\" r=\"14\" fill=\"#009af9\" fill-rule=\"evenodd\" fill-opacity=\"1\" stroke=\"#000000\" stroke-opacity=\"1\" stroke-width=\"3.2\"/>\n",
       "<circle clip-path=\"url(#clip1102)\" cx=\"1776.47\" cy=\"449.547\" r=\"14\" fill=\"#009af9\" fill-rule=\"evenodd\" fill-opacity=\"1\" stroke=\"#000000\" stroke-opacity=\"1\" stroke-width=\"3.2\"/>\n",
       "<circle clip-path=\"url(#clip1102)\" cx=\"1776.47\" cy=\"449.547\" r=\"14\" fill=\"#009af9\" fill-rule=\"evenodd\" fill-opacity=\"1\" stroke=\"#000000\" stroke-opacity=\"1\" stroke-width=\"3.2\"/>\n",
       "<circle clip-path=\"url(#clip1102)\" cx=\"1776.47\" cy=\"449.547\" r=\"14\" fill=\"#009af9\" fill-rule=\"evenodd\" fill-opacity=\"1\" stroke=\"#000000\" stroke-opacity=\"1\" stroke-width=\"3.2\"/>\n",
       "<circle clip-path=\"url(#clip1102)\" cx=\"1776.47\" cy=\"449.547\" r=\"14\" fill=\"#009af9\" fill-rule=\"evenodd\" fill-opacity=\"1\" stroke=\"#000000\" stroke-opacity=\"1\" stroke-width=\"3.2\"/>\n",
       "<circle clip-path=\"url(#clip1102)\" cx=\"1776.47\" cy=\"449.547\" r=\"14\" fill=\"#009af9\" fill-rule=\"evenodd\" fill-opacity=\"1\" stroke=\"#000000\" stroke-opacity=\"1\" stroke-width=\"3.2\"/>\n",
       "<circle clip-path=\"url(#clip1102)\" cx=\"1776.47\" cy=\"449.547\" r=\"14\" fill=\"#009af9\" fill-rule=\"evenodd\" fill-opacity=\"1\" stroke=\"#000000\" stroke-opacity=\"1\" stroke-width=\"3.2\"/>\n",
       "<circle clip-path=\"url(#clip1102)\" cx=\"1776.47\" cy=\"449.547\" r=\"14\" fill=\"#009af9\" fill-rule=\"evenodd\" fill-opacity=\"1\" stroke=\"#000000\" stroke-opacity=\"1\" stroke-width=\"3.2\"/>\n",
       "<circle clip-path=\"url(#clip1102)\" cx=\"1776.47\" cy=\"449.547\" r=\"14\" fill=\"#009af9\" fill-rule=\"evenodd\" fill-opacity=\"1\" stroke=\"#000000\" stroke-opacity=\"1\" stroke-width=\"3.2\"/>\n",
       "<circle clip-path=\"url(#clip1102)\" cx=\"1776.47\" cy=\"449.547\" r=\"14\" fill=\"#009af9\" fill-rule=\"evenodd\" fill-opacity=\"1\" stroke=\"#000000\" stroke-opacity=\"1\" stroke-width=\"3.2\"/>\n",
       "<circle clip-path=\"url(#clip1102)\" cx=\"1776.47\" cy=\"449.547\" r=\"14\" fill=\"#009af9\" fill-rule=\"evenodd\" fill-opacity=\"1\" stroke=\"#000000\" stroke-opacity=\"1\" stroke-width=\"3.2\"/>\n",
       "<circle clip-path=\"url(#clip1102)\" cx=\"1776.47\" cy=\"449.547\" r=\"14\" fill=\"#009af9\" fill-rule=\"evenodd\" fill-opacity=\"1\" stroke=\"#000000\" stroke-opacity=\"1\" stroke-width=\"3.2\"/>\n",
       "<circle clip-path=\"url(#clip1102)\" cx=\"1776.47\" cy=\"449.547\" r=\"14\" fill=\"#009af9\" fill-rule=\"evenodd\" fill-opacity=\"1\" stroke=\"#000000\" stroke-opacity=\"1\" stroke-width=\"3.2\"/>\n",
       "<circle clip-path=\"url(#clip1102)\" cx=\"1776.47\" cy=\"449.547\" r=\"14\" fill=\"#009af9\" fill-rule=\"evenodd\" fill-opacity=\"1\" stroke=\"#000000\" stroke-opacity=\"1\" stroke-width=\"3.2\"/>\n",
       "<circle clip-path=\"url(#clip1102)\" cx=\"1776.47\" cy=\"449.547\" r=\"14\" fill=\"#009af9\" fill-rule=\"evenodd\" fill-opacity=\"1\" stroke=\"#000000\" stroke-opacity=\"1\" stroke-width=\"3.2\"/>\n",
       "<circle clip-path=\"url(#clip1102)\" cx=\"1767.87\" cy=\"449.004\" r=\"14\" fill=\"#009af9\" fill-rule=\"evenodd\" fill-opacity=\"1\" stroke=\"#000000\" stroke-opacity=\"1\" stroke-width=\"3.2\"/>\n",
       "<circle clip-path=\"url(#clip1102)\" cx=\"1767.87\" cy=\"449.004\" r=\"14\" fill=\"#009af9\" fill-rule=\"evenodd\" fill-opacity=\"1\" stroke=\"#000000\" stroke-opacity=\"1\" stroke-width=\"3.2\"/>\n",
       "<circle clip-path=\"url(#clip1102)\" cx=\"1767.87\" cy=\"449.004\" r=\"14\" fill=\"#009af9\" fill-rule=\"evenodd\" fill-opacity=\"1\" stroke=\"#000000\" stroke-opacity=\"1\" stroke-width=\"3.2\"/>\n",
       "<circle clip-path=\"url(#clip1102)\" cx=\"1725.78\" cy=\"446.024\" r=\"14\" fill=\"#009af9\" fill-rule=\"evenodd\" fill-opacity=\"1\" stroke=\"#000000\" stroke-opacity=\"1\" stroke-width=\"3.2\"/>\n",
       "<circle clip-path=\"url(#clip1102)\" cx=\"1725.78\" cy=\"446.024\" r=\"14\" fill=\"#009af9\" fill-rule=\"evenodd\" fill-opacity=\"1\" stroke=\"#000000\" stroke-opacity=\"1\" stroke-width=\"3.2\"/>\n",
       "<circle clip-path=\"url(#clip1102)\" cx=\"1724.73\" cy=\"438.85\" r=\"14\" fill=\"#009af9\" fill-rule=\"evenodd\" fill-opacity=\"1\" stroke=\"#000000\" stroke-opacity=\"1\" stroke-width=\"3.2\"/>\n",
       "<circle clip-path=\"url(#clip1102)\" cx=\"1724.73\" cy=\"438.85\" r=\"14\" fill=\"#009af9\" fill-rule=\"evenodd\" fill-opacity=\"1\" stroke=\"#000000\" stroke-opacity=\"1\" stroke-width=\"3.2\"/>\n",
       "<circle clip-path=\"url(#clip1102)\" cx=\"1724.73\" cy=\"438.85\" r=\"14\" fill=\"#009af9\" fill-rule=\"evenodd\" fill-opacity=\"1\" stroke=\"#000000\" stroke-opacity=\"1\" stroke-width=\"3.2\"/>\n",
       "<circle clip-path=\"url(#clip1102)\" cx=\"1724.73\" cy=\"438.85\" r=\"14\" fill=\"#009af9\" fill-rule=\"evenodd\" fill-opacity=\"1\" stroke=\"#000000\" stroke-opacity=\"1\" stroke-width=\"3.2\"/>\n",
       "<circle clip-path=\"url(#clip1102)\" cx=\"1724.73\" cy=\"438.85\" r=\"14\" fill=\"#009af9\" fill-rule=\"evenodd\" fill-opacity=\"1\" stroke=\"#000000\" stroke-opacity=\"1\" stroke-width=\"3.2\"/>\n",
       "<circle clip-path=\"url(#clip1102)\" cx=\"1724.73\" cy=\"438.85\" r=\"14\" fill=\"#009af9\" fill-rule=\"evenodd\" fill-opacity=\"1\" stroke=\"#000000\" stroke-opacity=\"1\" stroke-width=\"3.2\"/>\n",
       "<circle clip-path=\"url(#clip1102)\" cx=\"1724.73\" cy=\"438.85\" r=\"14\" fill=\"#009af9\" fill-rule=\"evenodd\" fill-opacity=\"1\" stroke=\"#000000\" stroke-opacity=\"1\" stroke-width=\"3.2\"/>\n",
       "<circle clip-path=\"url(#clip1102)\" cx=\"1776.47\" cy=\"449.547\" r=\"14\" fill=\"#009af9\" fill-rule=\"evenodd\" fill-opacity=\"1\" stroke=\"#000000\" stroke-opacity=\"1\" stroke-width=\"3.2\"/>\n",
       "<circle clip-path=\"url(#clip1102)\" cx=\"1776.47\" cy=\"449.547\" r=\"14\" fill=\"#009af9\" fill-rule=\"evenodd\" fill-opacity=\"1\" stroke=\"#000000\" stroke-opacity=\"1\" stroke-width=\"3.2\"/>\n",
       "<circle clip-path=\"url(#clip1102)\" cx=\"1776.47\" cy=\"449.547\" r=\"14\" fill=\"#009af9\" fill-rule=\"evenodd\" fill-opacity=\"1\" stroke=\"#000000\" stroke-opacity=\"1\" stroke-width=\"3.2\"/>\n",
       "<circle clip-path=\"url(#clip1102)\" cx=\"1776.47\" cy=\"449.547\" r=\"14\" fill=\"#009af9\" fill-rule=\"evenodd\" fill-opacity=\"1\" stroke=\"#000000\" stroke-opacity=\"1\" stroke-width=\"3.2\"/>\n",
       "<circle clip-path=\"url(#clip1102)\" cx=\"1776.47\" cy=\"449.547\" r=\"14\" fill=\"#009af9\" fill-rule=\"evenodd\" fill-opacity=\"1\" stroke=\"#000000\" stroke-opacity=\"1\" stroke-width=\"3.2\"/>\n",
       "<circle clip-path=\"url(#clip1102)\" cx=\"1776.47\" cy=\"449.547\" r=\"14\" fill=\"#009af9\" fill-rule=\"evenodd\" fill-opacity=\"1\" stroke=\"#000000\" stroke-opacity=\"1\" stroke-width=\"3.2\"/>\n",
       "<circle clip-path=\"url(#clip1102)\" cx=\"1776.47\" cy=\"449.547\" r=\"14\" fill=\"#009af9\" fill-rule=\"evenodd\" fill-opacity=\"1\" stroke=\"#000000\" stroke-opacity=\"1\" stroke-width=\"3.2\"/>\n",
       "<circle clip-path=\"url(#clip1102)\" cx=\"1776.47\" cy=\"449.547\" r=\"14\" fill=\"#009af9\" fill-rule=\"evenodd\" fill-opacity=\"1\" stroke=\"#000000\" stroke-opacity=\"1\" stroke-width=\"3.2\"/>\n",
       "<circle clip-path=\"url(#clip1102)\" cx=\"1776.47\" cy=\"449.547\" r=\"14\" fill=\"#009af9\" fill-rule=\"evenodd\" fill-opacity=\"1\" stroke=\"#000000\" stroke-opacity=\"1\" stroke-width=\"3.2\"/>\n",
       "<circle clip-path=\"url(#clip1102)\" cx=\"1776.47\" cy=\"449.547\" r=\"14\" fill=\"#009af9\" fill-rule=\"evenodd\" fill-opacity=\"1\" stroke=\"#000000\" stroke-opacity=\"1\" stroke-width=\"3.2\"/>\n",
       "<circle clip-path=\"url(#clip1102)\" cx=\"1776.47\" cy=\"449.547\" r=\"14\" fill=\"#009af9\" fill-rule=\"evenodd\" fill-opacity=\"1\" stroke=\"#000000\" stroke-opacity=\"1\" stroke-width=\"3.2\"/>\n",
       "<circle clip-path=\"url(#clip1102)\" cx=\"1776.47\" cy=\"449.547\" r=\"14\" fill=\"#009af9\" fill-rule=\"evenodd\" fill-opacity=\"1\" stroke=\"#000000\" stroke-opacity=\"1\" stroke-width=\"3.2\"/>\n",
       "<circle clip-path=\"url(#clip1102)\" cx=\"1776.47\" cy=\"449.547\" r=\"14\" fill=\"#009af9\" fill-rule=\"evenodd\" fill-opacity=\"1\" stroke=\"#000000\" stroke-opacity=\"1\" stroke-width=\"3.2\"/>\n",
       "<circle clip-path=\"url(#clip1102)\" cx=\"1776.47\" cy=\"449.547\" r=\"14\" fill=\"#009af9\" fill-rule=\"evenodd\" fill-opacity=\"1\" stroke=\"#000000\" stroke-opacity=\"1\" stroke-width=\"3.2\"/>\n",
       "<circle clip-path=\"url(#clip1102)\" cx=\"1776.47\" cy=\"449.547\" r=\"14\" fill=\"#009af9\" fill-rule=\"evenodd\" fill-opacity=\"1\" stroke=\"#000000\" stroke-opacity=\"1\" stroke-width=\"3.2\"/>\n",
       "<circle clip-path=\"url(#clip1102)\" cx=\"1776.47\" cy=\"449.547\" r=\"14\" fill=\"#009af9\" fill-rule=\"evenodd\" fill-opacity=\"1\" stroke=\"#000000\" stroke-opacity=\"1\" stroke-width=\"3.2\"/>\n",
       "<circle clip-path=\"url(#clip1102)\" cx=\"1776.47\" cy=\"449.547\" r=\"14\" fill=\"#009af9\" fill-rule=\"evenodd\" fill-opacity=\"1\" stroke=\"#000000\" stroke-opacity=\"1\" stroke-width=\"3.2\"/>\n",
       "<circle clip-path=\"url(#clip1102)\" cx=\"1776.47\" cy=\"449.547\" r=\"14\" fill=\"#009af9\" fill-rule=\"evenodd\" fill-opacity=\"1\" stroke=\"#000000\" stroke-opacity=\"1\" stroke-width=\"3.2\"/>\n",
       "<circle clip-path=\"url(#clip1102)\" cx=\"1776.47\" cy=\"449.547\" r=\"14\" fill=\"#009af9\" fill-rule=\"evenodd\" fill-opacity=\"1\" stroke=\"#000000\" stroke-opacity=\"1\" stroke-width=\"3.2\"/>\n",
       "<circle clip-path=\"url(#clip1102)\" cx=\"1776.47\" cy=\"449.547\" r=\"14\" fill=\"#009af9\" fill-rule=\"evenodd\" fill-opacity=\"1\" stroke=\"#000000\" stroke-opacity=\"1\" stroke-width=\"3.2\"/>\n",
       "<circle clip-path=\"url(#clip1102)\" cx=\"1776.47\" cy=\"449.547\" r=\"14\" fill=\"#009af9\" fill-rule=\"evenodd\" fill-opacity=\"1\" stroke=\"#000000\" stroke-opacity=\"1\" stroke-width=\"3.2\"/>\n",
       "<circle clip-path=\"url(#clip1102)\" cx=\"1776.47\" cy=\"449.547\" r=\"14\" fill=\"#009af9\" fill-rule=\"evenodd\" fill-opacity=\"1\" stroke=\"#000000\" stroke-opacity=\"1\" stroke-width=\"3.2\"/>\n",
       "<circle clip-path=\"url(#clip1102)\" cx=\"1776.47\" cy=\"449.547\" r=\"14\" fill=\"#009af9\" fill-rule=\"evenodd\" fill-opacity=\"1\" stroke=\"#000000\" stroke-opacity=\"1\" stroke-width=\"3.2\"/>\n",
       "<circle clip-path=\"url(#clip1102)\" cx=\"1776.47\" cy=\"449.547\" r=\"14\" fill=\"#009af9\" fill-rule=\"evenodd\" fill-opacity=\"1\" stroke=\"#000000\" stroke-opacity=\"1\" stroke-width=\"3.2\"/>\n",
       "<circle clip-path=\"url(#clip1102)\" cx=\"1776.47\" cy=\"449.547\" r=\"14\" fill=\"#009af9\" fill-rule=\"evenodd\" fill-opacity=\"1\" stroke=\"#000000\" stroke-opacity=\"1\" stroke-width=\"3.2\"/>\n",
       "<circle clip-path=\"url(#clip1102)\" cx=\"1776.47\" cy=\"449.547\" r=\"14\" fill=\"#009af9\" fill-rule=\"evenodd\" fill-opacity=\"1\" stroke=\"#000000\" stroke-opacity=\"1\" stroke-width=\"3.2\"/>\n",
       "<circle clip-path=\"url(#clip1102)\" cx=\"1776.47\" cy=\"449.547\" r=\"14\" fill=\"#009af9\" fill-rule=\"evenodd\" fill-opacity=\"1\" stroke=\"#000000\" stroke-opacity=\"1\" stroke-width=\"3.2\"/>\n",
       "<circle clip-path=\"url(#clip1102)\" cx=\"1776.47\" cy=\"449.547\" r=\"14\" fill=\"#009af9\" fill-rule=\"evenodd\" fill-opacity=\"1\" stroke=\"#000000\" stroke-opacity=\"1\" stroke-width=\"3.2\"/>\n",
       "<circle clip-path=\"url(#clip1102)\" cx=\"1776.47\" cy=\"449.547\" r=\"14\" fill=\"#009af9\" fill-rule=\"evenodd\" fill-opacity=\"1\" stroke=\"#000000\" stroke-opacity=\"1\" stroke-width=\"3.2\"/>\n",
       "<circle clip-path=\"url(#clip1102)\" cx=\"1776.47\" cy=\"449.547\" r=\"14\" fill=\"#009af9\" fill-rule=\"evenodd\" fill-opacity=\"1\" stroke=\"#000000\" stroke-opacity=\"1\" stroke-width=\"3.2\"/>\n",
       "<circle clip-path=\"url(#clip1102)\" cx=\"1776.47\" cy=\"449.547\" r=\"14\" fill=\"#009af9\" fill-rule=\"evenodd\" fill-opacity=\"1\" stroke=\"#000000\" stroke-opacity=\"1\" stroke-width=\"3.2\"/>\n",
       "<circle clip-path=\"url(#clip1102)\" cx=\"1776.47\" cy=\"449.547\" r=\"14\" fill=\"#009af9\" fill-rule=\"evenodd\" fill-opacity=\"1\" stroke=\"#000000\" stroke-opacity=\"1\" stroke-width=\"3.2\"/>\n",
       "<circle clip-path=\"url(#clip1102)\" cx=\"1776.47\" cy=\"449.547\" r=\"14\" fill=\"#009af9\" fill-rule=\"evenodd\" fill-opacity=\"1\" stroke=\"#000000\" stroke-opacity=\"1\" stroke-width=\"3.2\"/>\n",
       "<circle clip-path=\"url(#clip1102)\" cx=\"1776.47\" cy=\"449.547\" r=\"14\" fill=\"#009af9\" fill-rule=\"evenodd\" fill-opacity=\"1\" stroke=\"#000000\" stroke-opacity=\"1\" stroke-width=\"3.2\"/>\n",
       "<circle clip-path=\"url(#clip1102)\" cx=\"1776.47\" cy=\"449.547\" r=\"14\" fill=\"#009af9\" fill-rule=\"evenodd\" fill-opacity=\"1\" stroke=\"#000000\" stroke-opacity=\"1\" stroke-width=\"3.2\"/>\n",
       "<circle clip-path=\"url(#clip1102)\" cx=\"1776.47\" cy=\"449.547\" r=\"14\" fill=\"#009af9\" fill-rule=\"evenodd\" fill-opacity=\"1\" stroke=\"#000000\" stroke-opacity=\"1\" stroke-width=\"3.2\"/>\n",
       "<circle clip-path=\"url(#clip1102)\" cx=\"1776.47\" cy=\"449.547\" r=\"14\" fill=\"#009af9\" fill-rule=\"evenodd\" fill-opacity=\"1\" stroke=\"#000000\" stroke-opacity=\"1\" stroke-width=\"3.2\"/>\n",
       "<circle clip-path=\"url(#clip1102)\" cx=\"1776.47\" cy=\"449.547\" r=\"14\" fill=\"#009af9\" fill-rule=\"evenodd\" fill-opacity=\"1\" stroke=\"#000000\" stroke-opacity=\"1\" stroke-width=\"3.2\"/>\n",
       "<circle clip-path=\"url(#clip1102)\" cx=\"1776.47\" cy=\"449.547\" r=\"14\" fill=\"#009af9\" fill-rule=\"evenodd\" fill-opacity=\"1\" stroke=\"#000000\" stroke-opacity=\"1\" stroke-width=\"3.2\"/>\n",
       "<circle clip-path=\"url(#clip1102)\" cx=\"1776.47\" cy=\"449.547\" r=\"14\" fill=\"#009af9\" fill-rule=\"evenodd\" fill-opacity=\"1\" stroke=\"#000000\" stroke-opacity=\"1\" stroke-width=\"3.2\"/>\n",
       "<circle clip-path=\"url(#clip1102)\" cx=\"1776.47\" cy=\"449.547\" r=\"14\" fill=\"#009af9\" fill-rule=\"evenodd\" fill-opacity=\"1\" stroke=\"#000000\" stroke-opacity=\"1\" stroke-width=\"3.2\"/>\n",
       "<circle clip-path=\"url(#clip1102)\" cx=\"1776.47\" cy=\"449.547\" r=\"14\" fill=\"#009af9\" fill-rule=\"evenodd\" fill-opacity=\"1\" stroke=\"#000000\" stroke-opacity=\"1\" stroke-width=\"3.2\"/>\n",
       "<circle clip-path=\"url(#clip1102)\" cx=\"1776.47\" cy=\"449.547\" r=\"14\" fill=\"#009af9\" fill-rule=\"evenodd\" fill-opacity=\"1\" stroke=\"#000000\" stroke-opacity=\"1\" stroke-width=\"3.2\"/>\n",
       "<circle clip-path=\"url(#clip1102)\" cx=\"1752.16\" cy=\"449.855\" r=\"14\" fill=\"#009af9\" fill-rule=\"evenodd\" fill-opacity=\"1\" stroke=\"#000000\" stroke-opacity=\"1\" stroke-width=\"3.2\"/>\n",
       "<circle clip-path=\"url(#clip1102)\" cx=\"1752.16\" cy=\"449.855\" r=\"14\" fill=\"#009af9\" fill-rule=\"evenodd\" fill-opacity=\"1\" stroke=\"#000000\" stroke-opacity=\"1\" stroke-width=\"3.2\"/>\n",
       "<circle clip-path=\"url(#clip1102)\" cx=\"1752.16\" cy=\"449.855\" r=\"14\" fill=\"#009af9\" fill-rule=\"evenodd\" fill-opacity=\"1\" stroke=\"#000000\" stroke-opacity=\"1\" stroke-width=\"3.2\"/>\n",
       "<circle clip-path=\"url(#clip1102)\" cx=\"1753.21\" cy=\"457.03\" r=\"14\" fill=\"#009af9\" fill-rule=\"evenodd\" fill-opacity=\"1\" stroke=\"#000000\" stroke-opacity=\"1\" stroke-width=\"3.2\"/>\n",
       "<circle clip-path=\"url(#clip1102)\" cx=\"1774.22\" cy=\"470.995\" r=\"14\" fill=\"#009af9\" fill-rule=\"evenodd\" fill-opacity=\"1\" stroke=\"#000000\" stroke-opacity=\"1\" stroke-width=\"3.2\"/>\n",
       "<circle clip-path=\"url(#clip1102)\" cx=\"1753.21\" cy=\"457.03\" r=\"14\" fill=\"#009af9\" fill-rule=\"evenodd\" fill-opacity=\"1\" stroke=\"#000000\" stroke-opacity=\"1\" stroke-width=\"3.2\"/>\n",
       "<circle clip-path=\"url(#clip1102)\" cx=\"1752.16\" cy=\"449.855\" r=\"14\" fill=\"#009af9\" fill-rule=\"evenodd\" fill-opacity=\"1\" stroke=\"#000000\" stroke-opacity=\"1\" stroke-width=\"3.2\"/>\n",
       "<circle clip-path=\"url(#clip1102)\" cx=\"1737.36\" cy=\"454.458\" r=\"14\" fill=\"#009af9\" fill-rule=\"evenodd\" fill-opacity=\"1\" stroke=\"#000000\" stroke-opacity=\"1\" stroke-width=\"3.2\"/>\n",
       "<circle clip-path=\"url(#clip1102)\" cx=\"1739.16\" cy=\"459.568\" r=\"14\" fill=\"#009af9\" fill-rule=\"evenodd\" fill-opacity=\"1\" stroke=\"#000000\" stroke-opacity=\"1\" stroke-width=\"3.2\"/>\n",
       "<circle clip-path=\"url(#clip1102)\" cx=\"1740.26\" cy=\"466.282\" r=\"14\" fill=\"#009af9\" fill-rule=\"evenodd\" fill-opacity=\"1\" stroke=\"#000000\" stroke-opacity=\"1\" stroke-width=\"3.2\"/>\n",
       "<circle clip-path=\"url(#clip1102)\" cx=\"1676.84\" cy=\"471.5\" r=\"14\" fill=\"#009af9\" fill-rule=\"evenodd\" fill-opacity=\"1\" stroke=\"#000000\" stroke-opacity=\"1\" stroke-width=\"3.2\"/>\n",
       "<circle clip-path=\"url(#clip1102)\" cx=\"1776.47\" cy=\"449.547\" r=\"14\" fill=\"#009af9\" fill-rule=\"evenodd\" fill-opacity=\"1\" stroke=\"#000000\" stroke-opacity=\"1\" stroke-width=\"3.2\"/>\n",
       "<circle clip-path=\"url(#clip1102)\" cx=\"1776.47\" cy=\"449.547\" r=\"14\" fill=\"#009af9\" fill-rule=\"evenodd\" fill-opacity=\"1\" stroke=\"#000000\" stroke-opacity=\"1\" stroke-width=\"3.2\"/>\n",
       "<circle clip-path=\"url(#clip1102)\" cx=\"1776.47\" cy=\"449.547\" r=\"14\" fill=\"#009af9\" fill-rule=\"evenodd\" fill-opacity=\"1\" stroke=\"#000000\" stroke-opacity=\"1\" stroke-width=\"3.2\"/>\n",
       "<circle clip-path=\"url(#clip1102)\" cx=\"1776.47\" cy=\"449.547\" r=\"14\" fill=\"#009af9\" fill-rule=\"evenodd\" fill-opacity=\"1\" stroke=\"#000000\" stroke-opacity=\"1\" stroke-width=\"3.2\"/>\n",
       "<circle clip-path=\"url(#clip1102)\" cx=\"1776.47\" cy=\"449.547\" r=\"14\" fill=\"#009af9\" fill-rule=\"evenodd\" fill-opacity=\"1\" stroke=\"#000000\" stroke-opacity=\"1\" stroke-width=\"3.2\"/>\n",
       "<circle clip-path=\"url(#clip1102)\" cx=\"1776.47\" cy=\"449.547\" r=\"14\" fill=\"#009af9\" fill-rule=\"evenodd\" fill-opacity=\"1\" stroke=\"#000000\" stroke-opacity=\"1\" stroke-width=\"3.2\"/>\n",
       "<circle clip-path=\"url(#clip1102)\" cx=\"1715.95\" cy=\"466.59\" r=\"14\" fill=\"#009af9\" fill-rule=\"evenodd\" fill-opacity=\"1\" stroke=\"#000000\" stroke-opacity=\"1\" stroke-width=\"3.2\"/>\n",
       "<circle clip-path=\"url(#clip1102)\" cx=\"1776.47\" cy=\"449.547\" r=\"14\" fill=\"#009af9\" fill-rule=\"evenodd\" fill-opacity=\"1\" stroke=\"#000000\" stroke-opacity=\"1\" stroke-width=\"3.2\"/>\n",
       "<circle clip-path=\"url(#clip1102)\" cx=\"1776.47\" cy=\"449.547\" r=\"14\" fill=\"#009af9\" fill-rule=\"evenodd\" fill-opacity=\"1\" stroke=\"#000000\" stroke-opacity=\"1\" stroke-width=\"3.2\"/>\n",
       "<circle clip-path=\"url(#clip1102)\" cx=\"1776.47\" cy=\"449.547\" r=\"14\" fill=\"#009af9\" fill-rule=\"evenodd\" fill-opacity=\"1\" stroke=\"#000000\" stroke-opacity=\"1\" stroke-width=\"3.2\"/>\n",
       "<circle clip-path=\"url(#clip1102)\" cx=\"1776.47\" cy=\"449.547\" r=\"14\" fill=\"#009af9\" fill-rule=\"evenodd\" fill-opacity=\"1\" stroke=\"#000000\" stroke-opacity=\"1\" stroke-width=\"3.2\"/>\n",
       "<circle clip-path=\"url(#clip1102)\" cx=\"1776.47\" cy=\"449.547\" r=\"14\" fill=\"#009af9\" fill-rule=\"evenodd\" fill-opacity=\"1\" stroke=\"#000000\" stroke-opacity=\"1\" stroke-width=\"3.2\"/>\n",
       "<circle clip-path=\"url(#clip1102)\" cx=\"1697.71\" cy=\"423.4\" r=\"14\" fill=\"#e26f46\" fill-rule=\"evenodd\" fill-opacity=\"1\" stroke=\"#000000\" stroke-opacity=\"1\" stroke-width=\"3.2\"/>\n",
       "<circle clip-path=\"url(#clip1102)\" cx=\"1776.47\" cy=\"449.547\" r=\"14\" fill=\"#e26f46\" fill-rule=\"evenodd\" fill-opacity=\"1\" stroke=\"#000000\" stroke-opacity=\"1\" stroke-width=\"3.2\"/>\n",
       "<circle clip-path=\"url(#clip1102)\" cx=\"1776.47\" cy=\"449.547\" r=\"14\" fill=\"#e26f46\" fill-rule=\"evenodd\" fill-opacity=\"1\" stroke=\"#000000\" stroke-opacity=\"1\" stroke-width=\"3.2\"/>\n",
       "<circle clip-path=\"url(#clip1102)\" cx=\"1776.47\" cy=\"449.547\" r=\"14\" fill=\"#e26f46\" fill-rule=\"evenodd\" fill-opacity=\"1\" stroke=\"#000000\" stroke-opacity=\"1\" stroke-width=\"3.2\"/>\n",
       "<circle clip-path=\"url(#clip1102)\" cx=\"1776.47\" cy=\"449.547\" r=\"14\" fill=\"#e26f46\" fill-rule=\"evenodd\" fill-opacity=\"1\" stroke=\"#000000\" stroke-opacity=\"1\" stroke-width=\"3.2\"/>\n",
       "<circle clip-path=\"url(#clip1102)\" cx=\"1776.47\" cy=\"449.547\" r=\"14\" fill=\"#e26f46\" fill-rule=\"evenodd\" fill-opacity=\"1\" stroke=\"#000000\" stroke-opacity=\"1\" stroke-width=\"3.2\"/>\n",
       "<circle clip-path=\"url(#clip1102)\" cx=\"1776.47\" cy=\"449.547\" r=\"14\" fill=\"#e26f46\" fill-rule=\"evenodd\" fill-opacity=\"1\" stroke=\"#000000\" stroke-opacity=\"1\" stroke-width=\"3.2\"/>\n",
       "<circle clip-path=\"url(#clip1102)\" cx=\"1776.47\" cy=\"449.547\" r=\"14\" fill=\"#e26f46\" fill-rule=\"evenodd\" fill-opacity=\"1\" stroke=\"#000000\" stroke-opacity=\"1\" stroke-width=\"3.2\"/>\n",
       "<circle clip-path=\"url(#clip1102)\" cx=\"1776.47\" cy=\"449.547\" r=\"14\" fill=\"#e26f46\" fill-rule=\"evenodd\" fill-opacity=\"1\" stroke=\"#000000\" stroke-opacity=\"1\" stroke-width=\"3.2\"/>\n",
       "<circle clip-path=\"url(#clip1102)\" cx=\"1776.47\" cy=\"449.547\" r=\"14\" fill=\"#e26f46\" fill-rule=\"evenodd\" fill-opacity=\"1\" stroke=\"#000000\" stroke-opacity=\"1\" stroke-width=\"3.2\"/>\n",
       "<circle clip-path=\"url(#clip1102)\" cx=\"1724.73\" cy=\"438.85\" r=\"14\" fill=\"#e26f46\" fill-rule=\"evenodd\" fill-opacity=\"1\" stroke=\"#000000\" stroke-opacity=\"1\" stroke-width=\"3.2\"/>\n",
       "<circle clip-path=\"url(#clip1102)\" cx=\"1725.78\" cy=\"446.024\" r=\"14\" fill=\"#e26f46\" fill-rule=\"evenodd\" fill-opacity=\"1\" stroke=\"#000000\" stroke-opacity=\"1\" stroke-width=\"3.2\"/>\n",
       "<circle clip-path=\"url(#clip1102)\" cx=\"1776.47\" cy=\"449.547\" r=\"14\" fill=\"#e26f46\" fill-rule=\"evenodd\" fill-opacity=\"1\" stroke=\"#000000\" stroke-opacity=\"1\" stroke-width=\"3.2\"/>\n",
       "<circle clip-path=\"url(#clip1102)\" cx=\"1776.47\" cy=\"449.547\" r=\"14\" fill=\"#e26f46\" fill-rule=\"evenodd\" fill-opacity=\"1\" stroke=\"#000000\" stroke-opacity=\"1\" stroke-width=\"3.2\"/>\n",
       "<circle clip-path=\"url(#clip1102)\" cx=\"1725.78\" cy=\"446.024\" r=\"14\" fill=\"#e26f46\" fill-rule=\"evenodd\" fill-opacity=\"1\" stroke=\"#000000\" stroke-opacity=\"1\" stroke-width=\"3.2\"/>\n",
       "<circle clip-path=\"url(#clip1102)\" cx=\"1767.87\" cy=\"449.004\" r=\"14\" fill=\"#e26f46\" fill-rule=\"evenodd\" fill-opacity=\"1\" stroke=\"#000000\" stroke-opacity=\"1\" stroke-width=\"3.2\"/>\n",
       "<circle clip-path=\"url(#clip1102)\" cx=\"1776.47\" cy=\"449.547\" r=\"14\" fill=\"#e26f46\" fill-rule=\"evenodd\" fill-opacity=\"1\" stroke=\"#000000\" stroke-opacity=\"1\" stroke-width=\"3.2\"/>\n",
       "<circle clip-path=\"url(#clip1102)\" cx=\"1776.47\" cy=\"449.547\" r=\"14\" fill=\"#e26f46\" fill-rule=\"evenodd\" fill-opacity=\"1\" stroke=\"#000000\" stroke-opacity=\"1\" stroke-width=\"3.2\"/>\n",
       "<circle clip-path=\"url(#clip1102)\" cx=\"1776.47\" cy=\"449.547\" r=\"14\" fill=\"#e26f46\" fill-rule=\"evenodd\" fill-opacity=\"1\" stroke=\"#000000\" stroke-opacity=\"1\" stroke-width=\"3.2\"/>\n",
       "<circle clip-path=\"url(#clip1102)\" cx=\"1767.87\" cy=\"449.004\" r=\"14\" fill=\"#e26f46\" fill-rule=\"evenodd\" fill-opacity=\"1\" stroke=\"#000000\" stroke-opacity=\"1\" stroke-width=\"3.2\"/>\n",
       "<circle clip-path=\"url(#clip1102)\" cx=\"1776.47\" cy=\"449.547\" r=\"14\" fill=\"#e26f46\" fill-rule=\"evenodd\" fill-opacity=\"1\" stroke=\"#000000\" stroke-opacity=\"1\" stroke-width=\"3.2\"/>\n",
       "<circle clip-path=\"url(#clip1102)\" cx=\"1776.47\" cy=\"449.547\" r=\"14\" fill=\"#e26f46\" fill-rule=\"evenodd\" fill-opacity=\"1\" stroke=\"#000000\" stroke-opacity=\"1\" stroke-width=\"3.2\"/>\n",
       "<circle clip-path=\"url(#clip1102)\" cx=\"1776.47\" cy=\"449.547\" r=\"14\" fill=\"#e26f46\" fill-rule=\"evenodd\" fill-opacity=\"1\" stroke=\"#000000\" stroke-opacity=\"1\" stroke-width=\"3.2\"/>\n",
       "<circle clip-path=\"url(#clip1102)\" cx=\"1776.47\" cy=\"449.547\" r=\"14\" fill=\"#e26f46\" fill-rule=\"evenodd\" fill-opacity=\"1\" stroke=\"#000000\" stroke-opacity=\"1\" stroke-width=\"3.2\"/>\n",
       "<circle clip-path=\"url(#clip1102)\" cx=\"1776.47\" cy=\"449.547\" r=\"14\" fill=\"#e26f46\" fill-rule=\"evenodd\" fill-opacity=\"1\" stroke=\"#000000\" stroke-opacity=\"1\" stroke-width=\"3.2\"/>\n",
       "<circle clip-path=\"url(#clip1102)\" cx=\"1776.47\" cy=\"449.547\" r=\"14\" fill=\"#e26f46\" fill-rule=\"evenodd\" fill-opacity=\"1\" stroke=\"#000000\" stroke-opacity=\"1\" stroke-width=\"3.2\"/>\n",
       "<circle clip-path=\"url(#clip1102)\" cx=\"1776.47\" cy=\"449.547\" r=\"14\" fill=\"#e26f46\" fill-rule=\"evenodd\" fill-opacity=\"1\" stroke=\"#000000\" stroke-opacity=\"1\" stroke-width=\"3.2\"/>\n",
       "<circle clip-path=\"url(#clip1102)\" cx=\"1776.47\" cy=\"449.547\" r=\"14\" fill=\"#e26f46\" fill-rule=\"evenodd\" fill-opacity=\"1\" stroke=\"#000000\" stroke-opacity=\"1\" stroke-width=\"3.2\"/>\n",
       "<circle clip-path=\"url(#clip1102)\" cx=\"1776.47\" cy=\"449.547\" r=\"14\" fill=\"#e26f46\" fill-rule=\"evenodd\" fill-opacity=\"1\" stroke=\"#000000\" stroke-opacity=\"1\" stroke-width=\"3.2\"/>\n",
       "<circle clip-path=\"url(#clip1102)\" cx=\"1776.47\" cy=\"449.547\" r=\"14\" fill=\"#e26f46\" fill-rule=\"evenodd\" fill-opacity=\"1\" stroke=\"#000000\" stroke-opacity=\"1\" stroke-width=\"3.2\"/>\n",
       "<circle clip-path=\"url(#clip1102)\" cx=\"1776.47\" cy=\"449.547\" r=\"14\" fill=\"#e26f46\" fill-rule=\"evenodd\" fill-opacity=\"1\" stroke=\"#000000\" stroke-opacity=\"1\" stroke-width=\"3.2\"/>\n",
       "<circle clip-path=\"url(#clip1102)\" cx=\"1776.47\" cy=\"449.547\" r=\"14\" fill=\"#e26f46\" fill-rule=\"evenodd\" fill-opacity=\"1\" stroke=\"#000000\" stroke-opacity=\"1\" stroke-width=\"3.2\"/>\n",
       "<circle clip-path=\"url(#clip1102)\" cx=\"1776.47\" cy=\"449.547\" r=\"14\" fill=\"#e26f46\" fill-rule=\"evenodd\" fill-opacity=\"1\" stroke=\"#000000\" stroke-opacity=\"1\" stroke-width=\"3.2\"/>\n",
       "<circle clip-path=\"url(#clip1102)\" cx=\"1776.47\" cy=\"449.547\" r=\"14\" fill=\"#e26f46\" fill-rule=\"evenodd\" fill-opacity=\"1\" stroke=\"#000000\" stroke-opacity=\"1\" stroke-width=\"3.2\"/>\n",
       "<circle clip-path=\"url(#clip1102)\" cx=\"1776.47\" cy=\"449.547\" r=\"14\" fill=\"#e26f46\" fill-rule=\"evenodd\" fill-opacity=\"1\" stroke=\"#000000\" stroke-opacity=\"1\" stroke-width=\"3.2\"/>\n",
       "<circle clip-path=\"url(#clip1102)\" cx=\"1776.47\" cy=\"449.547\" r=\"14\" fill=\"#e26f46\" fill-rule=\"evenodd\" fill-opacity=\"1\" stroke=\"#000000\" stroke-opacity=\"1\" stroke-width=\"3.2\"/>\n",
       "<circle clip-path=\"url(#clip1102)\" cx=\"1776.47\" cy=\"449.547\" r=\"14\" fill=\"#e26f46\" fill-rule=\"evenodd\" fill-opacity=\"1\" stroke=\"#000000\" stroke-opacity=\"1\" stroke-width=\"3.2\"/>\n",
       "<circle clip-path=\"url(#clip1102)\" cx=\"1776.47\" cy=\"449.547\" r=\"14\" fill=\"#e26f46\" fill-rule=\"evenodd\" fill-opacity=\"1\" stroke=\"#000000\" stroke-opacity=\"1\" stroke-width=\"3.2\"/>\n",
       "<circle clip-path=\"url(#clip1102)\" cx=\"1776.47\" cy=\"449.547\" r=\"14\" fill=\"#e26f46\" fill-rule=\"evenodd\" fill-opacity=\"1\" stroke=\"#000000\" stroke-opacity=\"1\" stroke-width=\"3.2\"/>\n",
       "<circle clip-path=\"url(#clip1102)\" cx=\"1776.47\" cy=\"449.547\" r=\"14\" fill=\"#e26f46\" fill-rule=\"evenodd\" fill-opacity=\"1\" stroke=\"#000000\" stroke-opacity=\"1\" stroke-width=\"3.2\"/>\n",
       "<circle clip-path=\"url(#clip1102)\" cx=\"1776.47\" cy=\"449.547\" r=\"14\" fill=\"#e26f46\" fill-rule=\"evenodd\" fill-opacity=\"1\" stroke=\"#000000\" stroke-opacity=\"1\" stroke-width=\"3.2\"/>\n",
       "<circle clip-path=\"url(#clip1102)\" cx=\"1776.47\" cy=\"449.547\" r=\"14\" fill=\"#e26f46\" fill-rule=\"evenodd\" fill-opacity=\"1\" stroke=\"#000000\" stroke-opacity=\"1\" stroke-width=\"3.2\"/>\n",
       "<circle clip-path=\"url(#clip1102)\" cx=\"1776.47\" cy=\"449.547\" r=\"14\" fill=\"#e26f46\" fill-rule=\"evenodd\" fill-opacity=\"1\" stroke=\"#000000\" stroke-opacity=\"1\" stroke-width=\"3.2\"/>\n",
       "<circle clip-path=\"url(#clip1102)\" cx=\"1776.47\" cy=\"449.547\" r=\"14\" fill=\"#e26f46\" fill-rule=\"evenodd\" fill-opacity=\"1\" stroke=\"#000000\" stroke-opacity=\"1\" stroke-width=\"3.2\"/>\n",
       "<circle clip-path=\"url(#clip1102)\" cx=\"1776.47\" cy=\"449.547\" r=\"14\" fill=\"#e26f46\" fill-rule=\"evenodd\" fill-opacity=\"1\" stroke=\"#000000\" stroke-opacity=\"1\" stroke-width=\"3.2\"/>\n",
       "<circle clip-path=\"url(#clip1102)\" cx=\"1776.47\" cy=\"449.547\" r=\"14\" fill=\"#e26f46\" fill-rule=\"evenodd\" fill-opacity=\"1\" stroke=\"#000000\" stroke-opacity=\"1\" stroke-width=\"3.2\"/>\n",
       "<circle clip-path=\"url(#clip1102)\" cx=\"1776.47\" cy=\"449.547\" r=\"14\" fill=\"#e26f46\" fill-rule=\"evenodd\" fill-opacity=\"1\" stroke=\"#000000\" stroke-opacity=\"1\" stroke-width=\"3.2\"/>\n",
       "<circle clip-path=\"url(#clip1102)\" cx=\"1776.47\" cy=\"449.547\" r=\"14\" fill=\"#e26f46\" fill-rule=\"evenodd\" fill-opacity=\"1\" stroke=\"#000000\" stroke-opacity=\"1\" stroke-width=\"3.2\"/>\n",
       "<circle clip-path=\"url(#clip1102)\" cx=\"1776.47\" cy=\"449.547\" r=\"14\" fill=\"#e26f46\" fill-rule=\"evenodd\" fill-opacity=\"1\" stroke=\"#000000\" stroke-opacity=\"1\" stroke-width=\"3.2\"/>\n",
       "<circle clip-path=\"url(#clip1102)\" cx=\"1776.47\" cy=\"449.547\" r=\"14\" fill=\"#e26f46\" fill-rule=\"evenodd\" fill-opacity=\"1\" stroke=\"#000000\" stroke-opacity=\"1\" stroke-width=\"3.2\"/>\n",
       "<circle clip-path=\"url(#clip1102)\" cx=\"1776.47\" cy=\"449.547\" r=\"14\" fill=\"#e26f46\" fill-rule=\"evenodd\" fill-opacity=\"1\" stroke=\"#000000\" stroke-opacity=\"1\" stroke-width=\"3.2\"/>\n",
       "<circle clip-path=\"url(#clip1102)\" cx=\"1776.47\" cy=\"449.547\" r=\"14\" fill=\"#e26f46\" fill-rule=\"evenodd\" fill-opacity=\"1\" stroke=\"#000000\" stroke-opacity=\"1\" stroke-width=\"3.2\"/>\n",
       "<circle clip-path=\"url(#clip1102)\" cx=\"1776.47\" cy=\"449.547\" r=\"14\" fill=\"#e26f46\" fill-rule=\"evenodd\" fill-opacity=\"1\" stroke=\"#000000\" stroke-opacity=\"1\" stroke-width=\"3.2\"/>\n",
       "<circle clip-path=\"url(#clip1102)\" cx=\"1776.47\" cy=\"449.547\" r=\"14\" fill=\"#e26f46\" fill-rule=\"evenodd\" fill-opacity=\"1\" stroke=\"#000000\" stroke-opacity=\"1\" stroke-width=\"3.2\"/>\n",
       "<circle clip-path=\"url(#clip1102)\" cx=\"1776.47\" cy=\"449.547\" r=\"14\" fill=\"#e26f46\" fill-rule=\"evenodd\" fill-opacity=\"1\" stroke=\"#000000\" stroke-opacity=\"1\" stroke-width=\"3.2\"/>\n",
       "<circle clip-path=\"url(#clip1102)\" cx=\"1776.47\" cy=\"449.547\" r=\"14\" fill=\"#e26f46\" fill-rule=\"evenodd\" fill-opacity=\"1\" stroke=\"#000000\" stroke-opacity=\"1\" stroke-width=\"3.2\"/>\n",
       "<circle clip-path=\"url(#clip1102)\" cx=\"1776.47\" cy=\"449.547\" r=\"14\" fill=\"#e26f46\" fill-rule=\"evenodd\" fill-opacity=\"1\" stroke=\"#000000\" stroke-opacity=\"1\" stroke-width=\"3.2\"/>\n",
       "<circle clip-path=\"url(#clip1102)\" cx=\"1776.47\" cy=\"449.547\" r=\"14\" fill=\"#e26f46\" fill-rule=\"evenodd\" fill-opacity=\"1\" stroke=\"#000000\" stroke-opacity=\"1\" stroke-width=\"3.2\"/>\n",
       "<circle clip-path=\"url(#clip1102)\" cx=\"1776.47\" cy=\"449.547\" r=\"14\" fill=\"#e26f46\" fill-rule=\"evenodd\" fill-opacity=\"1\" stroke=\"#000000\" stroke-opacity=\"1\" stroke-width=\"3.2\"/>\n",
       "<circle clip-path=\"url(#clip1102)\" cx=\"1776.47\" cy=\"449.547\" r=\"14\" fill=\"#e26f46\" fill-rule=\"evenodd\" fill-opacity=\"1\" stroke=\"#000000\" stroke-opacity=\"1\" stroke-width=\"3.2\"/>\n",
       "<circle clip-path=\"url(#clip1102)\" cx=\"1776.47\" cy=\"449.547\" r=\"14\" fill=\"#e26f46\" fill-rule=\"evenodd\" fill-opacity=\"1\" stroke=\"#000000\" stroke-opacity=\"1\" stroke-width=\"3.2\"/>\n",
       "<circle clip-path=\"url(#clip1102)\" cx=\"1776.47\" cy=\"449.547\" r=\"14\" fill=\"#e26f46\" fill-rule=\"evenodd\" fill-opacity=\"1\" stroke=\"#000000\" stroke-opacity=\"1\" stroke-width=\"3.2\"/>\n",
       "<circle clip-path=\"url(#clip1102)\" cx=\"1776.47\" cy=\"449.547\" r=\"14\" fill=\"#e26f46\" fill-rule=\"evenodd\" fill-opacity=\"1\" stroke=\"#000000\" stroke-opacity=\"1\" stroke-width=\"3.2\"/>\n",
       "<circle clip-path=\"url(#clip1102)\" cx=\"1776.47\" cy=\"449.547\" r=\"14\" fill=\"#e26f46\" fill-rule=\"evenodd\" fill-opacity=\"1\" stroke=\"#000000\" stroke-opacity=\"1\" stroke-width=\"3.2\"/>\n",
       "<circle clip-path=\"url(#clip1102)\" cx=\"1776.47\" cy=\"449.547\" r=\"14\" fill=\"#e26f46\" fill-rule=\"evenodd\" fill-opacity=\"1\" stroke=\"#000000\" stroke-opacity=\"1\" stroke-width=\"3.2\"/>\n",
       "<circle clip-path=\"url(#clip1102)\" cx=\"1776.47\" cy=\"449.547\" r=\"14\" fill=\"#e26f46\" fill-rule=\"evenodd\" fill-opacity=\"1\" stroke=\"#000000\" stroke-opacity=\"1\" stroke-width=\"3.2\"/>\n",
       "<circle clip-path=\"url(#clip1102)\" cx=\"1776.47\" cy=\"449.547\" r=\"14\" fill=\"#e26f46\" fill-rule=\"evenodd\" fill-opacity=\"1\" stroke=\"#000000\" stroke-opacity=\"1\" stroke-width=\"3.2\"/>\n",
       "<circle clip-path=\"url(#clip1102)\" cx=\"1776.47\" cy=\"449.547\" r=\"14\" fill=\"#e26f46\" fill-rule=\"evenodd\" fill-opacity=\"1\" stroke=\"#000000\" stroke-opacity=\"1\" stroke-width=\"3.2\"/>\n",
       "<circle clip-path=\"url(#clip1102)\" cx=\"1776.47\" cy=\"449.547\" r=\"14\" fill=\"#e26f46\" fill-rule=\"evenodd\" fill-opacity=\"1\" stroke=\"#000000\" stroke-opacity=\"1\" stroke-width=\"3.2\"/>\n",
       "<circle clip-path=\"url(#clip1102)\" cx=\"1776.47\" cy=\"449.547\" r=\"14\" fill=\"#e26f46\" fill-rule=\"evenodd\" fill-opacity=\"1\" stroke=\"#000000\" stroke-opacity=\"1\" stroke-width=\"3.2\"/>\n",
       "<circle clip-path=\"url(#clip1102)\" cx=\"1776.47\" cy=\"449.547\" r=\"14\" fill=\"#e26f46\" fill-rule=\"evenodd\" fill-opacity=\"1\" stroke=\"#000000\" stroke-opacity=\"1\" stroke-width=\"3.2\"/>\n",
       "<circle clip-path=\"url(#clip1102)\" cx=\"1776.47\" cy=\"449.547\" r=\"14\" fill=\"#e26f46\" fill-rule=\"evenodd\" fill-opacity=\"1\" stroke=\"#000000\" stroke-opacity=\"1\" stroke-width=\"3.2\"/>\n",
       "<circle clip-path=\"url(#clip1102)\" cx=\"1776.47\" cy=\"449.547\" r=\"14\" fill=\"#e26f46\" fill-rule=\"evenodd\" fill-opacity=\"1\" stroke=\"#000000\" stroke-opacity=\"1\" stroke-width=\"3.2\"/>\n",
       "<circle clip-path=\"url(#clip1102)\" cx=\"1776.47\" cy=\"449.547\" r=\"14\" fill=\"#e26f46\" fill-rule=\"evenodd\" fill-opacity=\"1\" stroke=\"#000000\" stroke-opacity=\"1\" stroke-width=\"3.2\"/>\n",
       "<circle clip-path=\"url(#clip1102)\" cx=\"1776.47\" cy=\"449.547\" r=\"14\" fill=\"#e26f46\" fill-rule=\"evenodd\" fill-opacity=\"1\" stroke=\"#000000\" stroke-opacity=\"1\" stroke-width=\"3.2\"/>\n",
       "<circle clip-path=\"url(#clip1102)\" cx=\"1776.47\" cy=\"449.547\" r=\"14\" fill=\"#e26f46\" fill-rule=\"evenodd\" fill-opacity=\"1\" stroke=\"#000000\" stroke-opacity=\"1\" stroke-width=\"3.2\"/>\n",
       "<circle clip-path=\"url(#clip1102)\" cx=\"1776.47\" cy=\"449.547\" r=\"14\" fill=\"#e26f46\" fill-rule=\"evenodd\" fill-opacity=\"1\" stroke=\"#000000\" stroke-opacity=\"1\" stroke-width=\"3.2\"/>\n",
       "<circle clip-path=\"url(#clip1102)\" cx=\"1776.47\" cy=\"449.547\" r=\"14\" fill=\"#e26f46\" fill-rule=\"evenodd\" fill-opacity=\"1\" stroke=\"#000000\" stroke-opacity=\"1\" stroke-width=\"3.2\"/>\n",
       "<circle clip-path=\"url(#clip1102)\" cx=\"1776.47\" cy=\"449.547\" r=\"14\" fill=\"#e26f46\" fill-rule=\"evenodd\" fill-opacity=\"1\" stroke=\"#000000\" stroke-opacity=\"1\" stroke-width=\"3.2\"/>\n",
       "<circle clip-path=\"url(#clip1102)\" cx=\"1776.47\" cy=\"449.547\" r=\"14\" fill=\"#e26f46\" fill-rule=\"evenodd\" fill-opacity=\"1\" stroke=\"#000000\" stroke-opacity=\"1\" stroke-width=\"3.2\"/>\n",
       "<circle clip-path=\"url(#clip1102)\" cx=\"1776.47\" cy=\"449.547\" r=\"14\" fill=\"#e26f46\" fill-rule=\"evenodd\" fill-opacity=\"1\" stroke=\"#000000\" stroke-opacity=\"1\" stroke-width=\"3.2\"/>\n",
       "<circle clip-path=\"url(#clip1102)\" cx=\"1776.47\" cy=\"449.547\" r=\"14\" fill=\"#e26f46\" fill-rule=\"evenodd\" fill-opacity=\"1\" stroke=\"#000000\" stroke-opacity=\"1\" stroke-width=\"3.2\"/>\n",
       "<circle clip-path=\"url(#clip1102)\" cx=\"1776.47\" cy=\"449.547\" r=\"14\" fill=\"#e26f46\" fill-rule=\"evenodd\" fill-opacity=\"1\" stroke=\"#000000\" stroke-opacity=\"1\" stroke-width=\"3.2\"/>\n",
       "<circle clip-path=\"url(#clip1102)\" cx=\"1776.47\" cy=\"449.547\" r=\"14\" fill=\"#e26f46\" fill-rule=\"evenodd\" fill-opacity=\"1\" stroke=\"#000000\" stroke-opacity=\"1\" stroke-width=\"3.2\"/>\n",
       "<circle clip-path=\"url(#clip1102)\" cx=\"1776.47\" cy=\"449.547\" r=\"14\" fill=\"#e26f46\" fill-rule=\"evenodd\" fill-opacity=\"1\" stroke=\"#000000\" stroke-opacity=\"1\" stroke-width=\"3.2\"/>\n",
       "<circle clip-path=\"url(#clip1102)\" cx=\"1776.47\" cy=\"449.547\" r=\"14\" fill=\"#e26f46\" fill-rule=\"evenodd\" fill-opacity=\"1\" stroke=\"#000000\" stroke-opacity=\"1\" stroke-width=\"3.2\"/>\n",
       "<circle clip-path=\"url(#clip1102)\" cx=\"1776.47\" cy=\"449.547\" r=\"14\" fill=\"#e26f46\" fill-rule=\"evenodd\" fill-opacity=\"1\" stroke=\"#000000\" stroke-opacity=\"1\" stroke-width=\"3.2\"/>\n",
       "<circle clip-path=\"url(#clip1102)\" cx=\"1776.47\" cy=\"449.547\" r=\"14\" fill=\"#e26f46\" fill-rule=\"evenodd\" fill-opacity=\"1\" stroke=\"#000000\" stroke-opacity=\"1\" stroke-width=\"3.2\"/>\n",
       "<circle clip-path=\"url(#clip1102)\" cx=\"1697.71\" cy=\"423.4\" r=\"14\" fill=\"#e26f46\" fill-rule=\"evenodd\" fill-opacity=\"1\" stroke=\"#000000\" stroke-opacity=\"1\" stroke-width=\"3.2\"/>\n",
       "<circle clip-path=\"url(#clip1102)\" cx=\"1724.73\" cy=\"438.85\" r=\"14\" fill=\"#e26f46\" fill-rule=\"evenodd\" fill-opacity=\"1\" stroke=\"#000000\" stroke-opacity=\"1\" stroke-width=\"3.2\"/>\n",
       "<circle clip-path=\"url(#clip1102)\" cx=\"1776.47\" cy=\"449.547\" r=\"14\" fill=\"#e26f46\" fill-rule=\"evenodd\" fill-opacity=\"1\" stroke=\"#000000\" stroke-opacity=\"1\" stroke-width=\"3.2\"/>\n",
       "<circle clip-path=\"url(#clip1102)\" cx=\"1776.47\" cy=\"449.547\" r=\"14\" fill=\"#e26f46\" fill-rule=\"evenodd\" fill-opacity=\"1\" stroke=\"#000000\" stroke-opacity=\"1\" stroke-width=\"3.2\"/>\n",
       "<circle clip-path=\"url(#clip1102)\" cx=\"1776.47\" cy=\"449.547\" r=\"14\" fill=\"#e26f46\" fill-rule=\"evenodd\" fill-opacity=\"1\" stroke=\"#000000\" stroke-opacity=\"1\" stroke-width=\"3.2\"/>\n",
       "<circle clip-path=\"url(#clip1102)\" cx=\"1776.47\" cy=\"449.547\" r=\"14\" fill=\"#e26f46\" fill-rule=\"evenodd\" fill-opacity=\"1\" stroke=\"#000000\" stroke-opacity=\"1\" stroke-width=\"3.2\"/>\n",
       "<circle clip-path=\"url(#clip1102)\" cx=\"1776.47\" cy=\"449.547\" r=\"14\" fill=\"#e26f46\" fill-rule=\"evenodd\" fill-opacity=\"1\" stroke=\"#000000\" stroke-opacity=\"1\" stroke-width=\"3.2\"/>\n",
       "<circle clip-path=\"url(#clip1102)\" cx=\"1776.47\" cy=\"449.547\" r=\"14\" fill=\"#e26f46\" fill-rule=\"evenodd\" fill-opacity=\"1\" stroke=\"#000000\" stroke-opacity=\"1\" stroke-width=\"3.2\"/>\n",
       "<circle clip-path=\"url(#clip1102)\" cx=\"1776.47\" cy=\"449.547\" r=\"14\" fill=\"#e26f46\" fill-rule=\"evenodd\" fill-opacity=\"1\" stroke=\"#000000\" stroke-opacity=\"1\" stroke-width=\"3.2\"/>\n",
       "<circle clip-path=\"url(#clip1102)\" cx=\"1776.47\" cy=\"449.547\" r=\"14\" fill=\"#e26f46\" fill-rule=\"evenodd\" fill-opacity=\"1\" stroke=\"#000000\" stroke-opacity=\"1\" stroke-width=\"3.2\"/>\n",
       "<circle clip-path=\"url(#clip1102)\" cx=\"1776.47\" cy=\"449.547\" r=\"14\" fill=\"#e26f46\" fill-rule=\"evenodd\" fill-opacity=\"1\" stroke=\"#000000\" stroke-opacity=\"1\" stroke-width=\"3.2\"/>\n",
       "<circle clip-path=\"url(#clip1102)\" cx=\"1776.47\" cy=\"449.547\" r=\"14\" fill=\"#e26f46\" fill-rule=\"evenodd\" fill-opacity=\"1\" stroke=\"#000000\" stroke-opacity=\"1\" stroke-width=\"3.2\"/>\n",
       "<circle clip-path=\"url(#clip1102)\" cx=\"1776.47\" cy=\"449.547\" r=\"14\" fill=\"#e26f46\" fill-rule=\"evenodd\" fill-opacity=\"1\" stroke=\"#000000\" stroke-opacity=\"1\" stroke-width=\"3.2\"/>\n",
       "<circle clip-path=\"url(#clip1102)\" cx=\"1776.47\" cy=\"449.547\" r=\"14\" fill=\"#e26f46\" fill-rule=\"evenodd\" fill-opacity=\"1\" stroke=\"#000000\" stroke-opacity=\"1\" stroke-width=\"3.2\"/>\n",
       "<circle clip-path=\"url(#clip1102)\" cx=\"1776.47\" cy=\"449.547\" r=\"14\" fill=\"#e26f46\" fill-rule=\"evenodd\" fill-opacity=\"1\" stroke=\"#000000\" stroke-opacity=\"1\" stroke-width=\"3.2\"/>\n",
       "<circle clip-path=\"url(#clip1102)\" cx=\"1776.47\" cy=\"449.547\" r=\"14\" fill=\"#e26f46\" fill-rule=\"evenodd\" fill-opacity=\"1\" stroke=\"#000000\" stroke-opacity=\"1\" stroke-width=\"3.2\"/>\n",
       "<circle clip-path=\"url(#clip1102)\" cx=\"1776.47\" cy=\"449.547\" r=\"14\" fill=\"#e26f46\" fill-rule=\"evenodd\" fill-opacity=\"1\" stroke=\"#000000\" stroke-opacity=\"1\" stroke-width=\"3.2\"/>\n",
       "<circle clip-path=\"url(#clip1102)\" cx=\"1776.47\" cy=\"449.547\" r=\"14\" fill=\"#e26f46\" fill-rule=\"evenodd\" fill-opacity=\"1\" stroke=\"#000000\" stroke-opacity=\"1\" stroke-width=\"3.2\"/>\n",
       "<circle clip-path=\"url(#clip1102)\" cx=\"1776.47\" cy=\"449.547\" r=\"14\" fill=\"#e26f46\" fill-rule=\"evenodd\" fill-opacity=\"1\" stroke=\"#000000\" stroke-opacity=\"1\" stroke-width=\"3.2\"/>\n",
       "<circle clip-path=\"url(#clip1102)\" cx=\"1776.47\" cy=\"449.547\" r=\"14\" fill=\"#e26f46\" fill-rule=\"evenodd\" fill-opacity=\"1\" stroke=\"#000000\" stroke-opacity=\"1\" stroke-width=\"3.2\"/>\n",
       "<circle clip-path=\"url(#clip1102)\" cx=\"1776.47\" cy=\"449.547\" r=\"14\" fill=\"#e26f46\" fill-rule=\"evenodd\" fill-opacity=\"1\" stroke=\"#000000\" stroke-opacity=\"1\" stroke-width=\"3.2\"/>\n",
       "<circle clip-path=\"url(#clip1102)\" cx=\"1776.47\" cy=\"449.547\" r=\"14\" fill=\"#e26f46\" fill-rule=\"evenodd\" fill-opacity=\"1\" stroke=\"#000000\" stroke-opacity=\"1\" stroke-width=\"3.2\"/>\n",
       "<circle clip-path=\"url(#clip1102)\" cx=\"1776.47\" cy=\"449.547\" r=\"14\" fill=\"#e26f46\" fill-rule=\"evenodd\" fill-opacity=\"1\" stroke=\"#000000\" stroke-opacity=\"1\" stroke-width=\"3.2\"/>\n",
       "<circle clip-path=\"url(#clip1102)\" cx=\"1776.47\" cy=\"449.547\" r=\"14\" fill=\"#e26f46\" fill-rule=\"evenodd\" fill-opacity=\"1\" stroke=\"#000000\" stroke-opacity=\"1\" stroke-width=\"3.2\"/>\n",
       "<circle clip-path=\"url(#clip1102)\" cx=\"1776.47\" cy=\"449.547\" r=\"14\" fill=\"#e26f46\" fill-rule=\"evenodd\" fill-opacity=\"1\" stroke=\"#000000\" stroke-opacity=\"1\" stroke-width=\"3.2\"/>\n",
       "<circle clip-path=\"url(#clip1102)\" cx=\"1776.47\" cy=\"449.547\" r=\"14\" fill=\"#e26f46\" fill-rule=\"evenodd\" fill-opacity=\"1\" stroke=\"#000000\" stroke-opacity=\"1\" stroke-width=\"3.2\"/>\n",
       "<circle clip-path=\"url(#clip1102)\" cx=\"1776.47\" cy=\"449.547\" r=\"14\" fill=\"#e26f46\" fill-rule=\"evenodd\" fill-opacity=\"1\" stroke=\"#000000\" stroke-opacity=\"1\" stroke-width=\"3.2\"/>\n",
       "<circle clip-path=\"url(#clip1102)\" cx=\"1776.47\" cy=\"449.547\" r=\"14\" fill=\"#e26f46\" fill-rule=\"evenodd\" fill-opacity=\"1\" stroke=\"#000000\" stroke-opacity=\"1\" stroke-width=\"3.2\"/>\n",
       "<circle clip-path=\"url(#clip1102)\" cx=\"1776.47\" cy=\"449.547\" r=\"14\" fill=\"#e26f46\" fill-rule=\"evenodd\" fill-opacity=\"1\" stroke=\"#000000\" stroke-opacity=\"1\" stroke-width=\"3.2\"/>\n",
       "<circle clip-path=\"url(#clip1102)\" cx=\"1776.47\" cy=\"449.547\" r=\"14\" fill=\"#e26f46\" fill-rule=\"evenodd\" fill-opacity=\"1\" stroke=\"#000000\" stroke-opacity=\"1\" stroke-width=\"3.2\"/>\n",
       "<circle clip-path=\"url(#clip1102)\" cx=\"1776.47\" cy=\"449.547\" r=\"14\" fill=\"#e26f46\" fill-rule=\"evenodd\" fill-opacity=\"1\" stroke=\"#000000\" stroke-opacity=\"1\" stroke-width=\"3.2\"/>\n",
       "<circle clip-path=\"url(#clip1102)\" cx=\"1776.47\" cy=\"449.547\" r=\"14\" fill=\"#e26f46\" fill-rule=\"evenodd\" fill-opacity=\"1\" stroke=\"#000000\" stroke-opacity=\"1\" stroke-width=\"3.2\"/>\n",
       "<circle clip-path=\"url(#clip1102)\" cx=\"1776.47\" cy=\"449.547\" r=\"14\" fill=\"#e26f46\" fill-rule=\"evenodd\" fill-opacity=\"1\" stroke=\"#000000\" stroke-opacity=\"1\" stroke-width=\"3.2\"/>\n",
       "<circle clip-path=\"url(#clip1102)\" cx=\"1776.47\" cy=\"449.547\" r=\"14\" fill=\"#e26f46\" fill-rule=\"evenodd\" fill-opacity=\"1\" stroke=\"#000000\" stroke-opacity=\"1\" stroke-width=\"3.2\"/>\n",
       "<circle clip-path=\"url(#clip1102)\" cx=\"1767.87\" cy=\"449.004\" r=\"14\" fill=\"#e26f46\" fill-rule=\"evenodd\" fill-opacity=\"1\" stroke=\"#000000\" stroke-opacity=\"1\" stroke-width=\"3.2\"/>\n",
       "<circle clip-path=\"url(#clip1102)\" cx=\"1767.87\" cy=\"449.004\" r=\"14\" fill=\"#e26f46\" fill-rule=\"evenodd\" fill-opacity=\"1\" stroke=\"#000000\" stroke-opacity=\"1\" stroke-width=\"3.2\"/>\n",
       "<circle clip-path=\"url(#clip1102)\" cx=\"1767.87\" cy=\"449.004\" r=\"14\" fill=\"#e26f46\" fill-rule=\"evenodd\" fill-opacity=\"1\" stroke=\"#000000\" stroke-opacity=\"1\" stroke-width=\"3.2\"/>\n",
       "<circle clip-path=\"url(#clip1102)\" cx=\"1725.78\" cy=\"446.024\" r=\"14\" fill=\"#e26f46\" fill-rule=\"evenodd\" fill-opacity=\"1\" stroke=\"#000000\" stroke-opacity=\"1\" stroke-width=\"3.2\"/>\n",
       "<circle clip-path=\"url(#clip1102)\" cx=\"1725.78\" cy=\"446.024\" r=\"14\" fill=\"#e26f46\" fill-rule=\"evenodd\" fill-opacity=\"1\" stroke=\"#000000\" stroke-opacity=\"1\" stroke-width=\"3.2\"/>\n",
       "<circle clip-path=\"url(#clip1102)\" cx=\"1724.73\" cy=\"438.85\" r=\"14\" fill=\"#e26f46\" fill-rule=\"evenodd\" fill-opacity=\"1\" stroke=\"#000000\" stroke-opacity=\"1\" stroke-width=\"3.2\"/>\n",
       "<circle clip-path=\"url(#clip1102)\" cx=\"1724.73\" cy=\"438.85\" r=\"14\" fill=\"#e26f46\" fill-rule=\"evenodd\" fill-opacity=\"1\" stroke=\"#000000\" stroke-opacity=\"1\" stroke-width=\"3.2\"/>\n",
       "<circle clip-path=\"url(#clip1102)\" cx=\"1724.73\" cy=\"438.85\" r=\"14\" fill=\"#e26f46\" fill-rule=\"evenodd\" fill-opacity=\"1\" stroke=\"#000000\" stroke-opacity=\"1\" stroke-width=\"3.2\"/>\n",
       "<circle clip-path=\"url(#clip1102)\" cx=\"1724.73\" cy=\"438.85\" r=\"14\" fill=\"#e26f46\" fill-rule=\"evenodd\" fill-opacity=\"1\" stroke=\"#000000\" stroke-opacity=\"1\" stroke-width=\"3.2\"/>\n",
       "<circle clip-path=\"url(#clip1102)\" cx=\"1724.73\" cy=\"438.85\" r=\"14\" fill=\"#e26f46\" fill-rule=\"evenodd\" fill-opacity=\"1\" stroke=\"#000000\" stroke-opacity=\"1\" stroke-width=\"3.2\"/>\n",
       "<circle clip-path=\"url(#clip1102)\" cx=\"1724.73\" cy=\"438.85\" r=\"14\" fill=\"#e26f46\" fill-rule=\"evenodd\" fill-opacity=\"1\" stroke=\"#000000\" stroke-opacity=\"1\" stroke-width=\"3.2\"/>\n",
       "<circle clip-path=\"url(#clip1102)\" cx=\"1724.73\" cy=\"438.85\" r=\"14\" fill=\"#e26f46\" fill-rule=\"evenodd\" fill-opacity=\"1\" stroke=\"#000000\" stroke-opacity=\"1\" stroke-width=\"3.2\"/>\n",
       "<circle clip-path=\"url(#clip1102)\" cx=\"1776.47\" cy=\"449.547\" r=\"14\" fill=\"#e26f46\" fill-rule=\"evenodd\" fill-opacity=\"1\" stroke=\"#000000\" stroke-opacity=\"1\" stroke-width=\"3.2\"/>\n",
       "<circle clip-path=\"url(#clip1102)\" cx=\"1776.47\" cy=\"449.547\" r=\"14\" fill=\"#e26f46\" fill-rule=\"evenodd\" fill-opacity=\"1\" stroke=\"#000000\" stroke-opacity=\"1\" stroke-width=\"3.2\"/>\n",
       "<circle clip-path=\"url(#clip1102)\" cx=\"1776.47\" cy=\"449.547\" r=\"14\" fill=\"#e26f46\" fill-rule=\"evenodd\" fill-opacity=\"1\" stroke=\"#000000\" stroke-opacity=\"1\" stroke-width=\"3.2\"/>\n",
       "<circle clip-path=\"url(#clip1102)\" cx=\"1776.47\" cy=\"449.547\" r=\"14\" fill=\"#e26f46\" fill-rule=\"evenodd\" fill-opacity=\"1\" stroke=\"#000000\" stroke-opacity=\"1\" stroke-width=\"3.2\"/>\n",
       "<circle clip-path=\"url(#clip1102)\" cx=\"1776.47\" cy=\"449.547\" r=\"14\" fill=\"#e26f46\" fill-rule=\"evenodd\" fill-opacity=\"1\" stroke=\"#000000\" stroke-opacity=\"1\" stroke-width=\"3.2\"/>\n",
       "<circle clip-path=\"url(#clip1102)\" cx=\"1776.47\" cy=\"449.547\" r=\"14\" fill=\"#e26f46\" fill-rule=\"evenodd\" fill-opacity=\"1\" stroke=\"#000000\" stroke-opacity=\"1\" stroke-width=\"3.2\"/>\n",
       "<circle clip-path=\"url(#clip1102)\" cx=\"1776.47\" cy=\"449.547\" r=\"14\" fill=\"#e26f46\" fill-rule=\"evenodd\" fill-opacity=\"1\" stroke=\"#000000\" stroke-opacity=\"1\" stroke-width=\"3.2\"/>\n",
       "<circle clip-path=\"url(#clip1102)\" cx=\"1776.47\" cy=\"449.547\" r=\"14\" fill=\"#e26f46\" fill-rule=\"evenodd\" fill-opacity=\"1\" stroke=\"#000000\" stroke-opacity=\"1\" stroke-width=\"3.2\"/>\n",
       "<circle clip-path=\"url(#clip1102)\" cx=\"1776.47\" cy=\"449.547\" r=\"14\" fill=\"#e26f46\" fill-rule=\"evenodd\" fill-opacity=\"1\" stroke=\"#000000\" stroke-opacity=\"1\" stroke-width=\"3.2\"/>\n",
       "<circle clip-path=\"url(#clip1102)\" cx=\"1776.47\" cy=\"449.547\" r=\"14\" fill=\"#e26f46\" fill-rule=\"evenodd\" fill-opacity=\"1\" stroke=\"#000000\" stroke-opacity=\"1\" stroke-width=\"3.2\"/>\n",
       "<circle clip-path=\"url(#clip1102)\" cx=\"1776.47\" cy=\"449.547\" r=\"14\" fill=\"#e26f46\" fill-rule=\"evenodd\" fill-opacity=\"1\" stroke=\"#000000\" stroke-opacity=\"1\" stroke-width=\"3.2\"/>\n",
       "<circle clip-path=\"url(#clip1102)\" cx=\"1776.47\" cy=\"449.547\" r=\"14\" fill=\"#e26f46\" fill-rule=\"evenodd\" fill-opacity=\"1\" stroke=\"#000000\" stroke-opacity=\"1\" stroke-width=\"3.2\"/>\n",
       "<circle clip-path=\"url(#clip1102)\" cx=\"1776.47\" cy=\"449.547\" r=\"14\" fill=\"#e26f46\" fill-rule=\"evenodd\" fill-opacity=\"1\" stroke=\"#000000\" stroke-opacity=\"1\" stroke-width=\"3.2\"/>\n",
       "<circle clip-path=\"url(#clip1102)\" cx=\"1776.47\" cy=\"449.547\" r=\"14\" fill=\"#e26f46\" fill-rule=\"evenodd\" fill-opacity=\"1\" stroke=\"#000000\" stroke-opacity=\"1\" stroke-width=\"3.2\"/>\n",
       "<circle clip-path=\"url(#clip1102)\" cx=\"1776.47\" cy=\"449.547\" r=\"14\" fill=\"#e26f46\" fill-rule=\"evenodd\" fill-opacity=\"1\" stroke=\"#000000\" stroke-opacity=\"1\" stroke-width=\"3.2\"/>\n",
       "<circle clip-path=\"url(#clip1102)\" cx=\"1776.47\" cy=\"449.547\" r=\"14\" fill=\"#e26f46\" fill-rule=\"evenodd\" fill-opacity=\"1\" stroke=\"#000000\" stroke-opacity=\"1\" stroke-width=\"3.2\"/>\n",
       "<circle clip-path=\"url(#clip1102)\" cx=\"1776.47\" cy=\"449.547\" r=\"14\" fill=\"#e26f46\" fill-rule=\"evenodd\" fill-opacity=\"1\" stroke=\"#000000\" stroke-opacity=\"1\" stroke-width=\"3.2\"/>\n",
       "<circle clip-path=\"url(#clip1102)\" cx=\"1776.47\" cy=\"449.547\" r=\"14\" fill=\"#e26f46\" fill-rule=\"evenodd\" fill-opacity=\"1\" stroke=\"#000000\" stroke-opacity=\"1\" stroke-width=\"3.2\"/>\n",
       "<circle clip-path=\"url(#clip1102)\" cx=\"1776.47\" cy=\"449.547\" r=\"14\" fill=\"#e26f46\" fill-rule=\"evenodd\" fill-opacity=\"1\" stroke=\"#000000\" stroke-opacity=\"1\" stroke-width=\"3.2\"/>\n",
       "<circle clip-path=\"url(#clip1102)\" cx=\"1776.47\" cy=\"449.547\" r=\"14\" fill=\"#e26f46\" fill-rule=\"evenodd\" fill-opacity=\"1\" stroke=\"#000000\" stroke-opacity=\"1\" stroke-width=\"3.2\"/>\n",
       "<circle clip-path=\"url(#clip1102)\" cx=\"1776.47\" cy=\"449.547\" r=\"14\" fill=\"#e26f46\" fill-rule=\"evenodd\" fill-opacity=\"1\" stroke=\"#000000\" stroke-opacity=\"1\" stroke-width=\"3.2\"/>\n",
       "<circle clip-path=\"url(#clip1102)\" cx=\"1776.47\" cy=\"449.547\" r=\"14\" fill=\"#e26f46\" fill-rule=\"evenodd\" fill-opacity=\"1\" stroke=\"#000000\" stroke-opacity=\"1\" stroke-width=\"3.2\"/>\n",
       "<circle clip-path=\"url(#clip1102)\" cx=\"1776.47\" cy=\"449.547\" r=\"14\" fill=\"#e26f46\" fill-rule=\"evenodd\" fill-opacity=\"1\" stroke=\"#000000\" stroke-opacity=\"1\" stroke-width=\"3.2\"/>\n",
       "<circle clip-path=\"url(#clip1102)\" cx=\"1776.47\" cy=\"449.547\" r=\"14\" fill=\"#e26f46\" fill-rule=\"evenodd\" fill-opacity=\"1\" stroke=\"#000000\" stroke-opacity=\"1\" stroke-width=\"3.2\"/>\n",
       "<circle clip-path=\"url(#clip1102)\" cx=\"1776.47\" cy=\"449.547\" r=\"14\" fill=\"#e26f46\" fill-rule=\"evenodd\" fill-opacity=\"1\" stroke=\"#000000\" stroke-opacity=\"1\" stroke-width=\"3.2\"/>\n",
       "<circle clip-path=\"url(#clip1102)\" cx=\"1776.47\" cy=\"449.547\" r=\"14\" fill=\"#e26f46\" fill-rule=\"evenodd\" fill-opacity=\"1\" stroke=\"#000000\" stroke-opacity=\"1\" stroke-width=\"3.2\"/>\n",
       "<circle clip-path=\"url(#clip1102)\" cx=\"1776.47\" cy=\"449.547\" r=\"14\" fill=\"#e26f46\" fill-rule=\"evenodd\" fill-opacity=\"1\" stroke=\"#000000\" stroke-opacity=\"1\" stroke-width=\"3.2\"/>\n",
       "<circle clip-path=\"url(#clip1102)\" cx=\"1776.47\" cy=\"449.547\" r=\"14\" fill=\"#e26f46\" fill-rule=\"evenodd\" fill-opacity=\"1\" stroke=\"#000000\" stroke-opacity=\"1\" stroke-width=\"3.2\"/>\n",
       "<circle clip-path=\"url(#clip1102)\" cx=\"1776.47\" cy=\"449.547\" r=\"14\" fill=\"#e26f46\" fill-rule=\"evenodd\" fill-opacity=\"1\" stroke=\"#000000\" stroke-opacity=\"1\" stroke-width=\"3.2\"/>\n",
       "<circle clip-path=\"url(#clip1102)\" cx=\"1776.47\" cy=\"449.547\" r=\"14\" fill=\"#e26f46\" fill-rule=\"evenodd\" fill-opacity=\"1\" stroke=\"#000000\" stroke-opacity=\"1\" stroke-width=\"3.2\"/>\n",
       "<circle clip-path=\"url(#clip1102)\" cx=\"1776.47\" cy=\"449.547\" r=\"14\" fill=\"#e26f46\" fill-rule=\"evenodd\" fill-opacity=\"1\" stroke=\"#000000\" stroke-opacity=\"1\" stroke-width=\"3.2\"/>\n",
       "<circle clip-path=\"url(#clip1102)\" cx=\"1776.47\" cy=\"449.547\" r=\"14\" fill=\"#e26f46\" fill-rule=\"evenodd\" fill-opacity=\"1\" stroke=\"#000000\" stroke-opacity=\"1\" stroke-width=\"3.2\"/>\n",
       "<circle clip-path=\"url(#clip1102)\" cx=\"1776.47\" cy=\"449.547\" r=\"14\" fill=\"#e26f46\" fill-rule=\"evenodd\" fill-opacity=\"1\" stroke=\"#000000\" stroke-opacity=\"1\" stroke-width=\"3.2\"/>\n",
       "<circle clip-path=\"url(#clip1102)\" cx=\"1776.47\" cy=\"449.547\" r=\"14\" fill=\"#e26f46\" fill-rule=\"evenodd\" fill-opacity=\"1\" stroke=\"#000000\" stroke-opacity=\"1\" stroke-width=\"3.2\"/>\n",
       "<circle clip-path=\"url(#clip1102)\" cx=\"1776.47\" cy=\"449.547\" r=\"14\" fill=\"#e26f46\" fill-rule=\"evenodd\" fill-opacity=\"1\" stroke=\"#000000\" stroke-opacity=\"1\" stroke-width=\"3.2\"/>\n",
       "<circle clip-path=\"url(#clip1102)\" cx=\"1776.47\" cy=\"449.547\" r=\"14\" fill=\"#e26f46\" fill-rule=\"evenodd\" fill-opacity=\"1\" stroke=\"#000000\" stroke-opacity=\"1\" stroke-width=\"3.2\"/>\n",
       "<circle clip-path=\"url(#clip1102)\" cx=\"1776.47\" cy=\"449.547\" r=\"14\" fill=\"#e26f46\" fill-rule=\"evenodd\" fill-opacity=\"1\" stroke=\"#000000\" stroke-opacity=\"1\" stroke-width=\"3.2\"/>\n",
       "<circle clip-path=\"url(#clip1102)\" cx=\"1776.47\" cy=\"449.547\" r=\"14\" fill=\"#e26f46\" fill-rule=\"evenodd\" fill-opacity=\"1\" stroke=\"#000000\" stroke-opacity=\"1\" stroke-width=\"3.2\"/>\n",
       "<circle clip-path=\"url(#clip1102)\" cx=\"1776.47\" cy=\"449.547\" r=\"14\" fill=\"#e26f46\" fill-rule=\"evenodd\" fill-opacity=\"1\" stroke=\"#000000\" stroke-opacity=\"1\" stroke-width=\"3.2\"/>\n",
       "<circle clip-path=\"url(#clip1102)\" cx=\"1776.47\" cy=\"449.547\" r=\"14\" fill=\"#e26f46\" fill-rule=\"evenodd\" fill-opacity=\"1\" stroke=\"#000000\" stroke-opacity=\"1\" stroke-width=\"3.2\"/>\n",
       "<circle clip-path=\"url(#clip1102)\" cx=\"1776.47\" cy=\"449.547\" r=\"14\" fill=\"#e26f46\" fill-rule=\"evenodd\" fill-opacity=\"1\" stroke=\"#000000\" stroke-opacity=\"1\" stroke-width=\"3.2\"/>\n",
       "<circle clip-path=\"url(#clip1102)\" cx=\"1776.47\" cy=\"449.547\" r=\"14\" fill=\"#e26f46\" fill-rule=\"evenodd\" fill-opacity=\"1\" stroke=\"#000000\" stroke-opacity=\"1\" stroke-width=\"3.2\"/>\n",
       "<circle clip-path=\"url(#clip1102)\" cx=\"1776.47\" cy=\"449.547\" r=\"14\" fill=\"#e26f46\" fill-rule=\"evenodd\" fill-opacity=\"1\" stroke=\"#000000\" stroke-opacity=\"1\" stroke-width=\"3.2\"/>\n",
       "</svg>\n"
      ]
     },
     "metadata": {},
     "output_type": "display_data"
    }
   ],
   "source": [
    "function plot_pop(P)\n",
    "    scatter([i.y[1] for i in P], [i.y[2] for i in P], xlims=(0.0, 1.0), ylims=(0.0, 1.0), legend=:none)\n",
    "    ND = filter(indiv -> indiv.rank == 1, P)\n",
    "    scatter!([i.y[1] for i in ND], [i.y[2] for i in ND], legend=:none)\n",
    "end\n",
    "\n",
    "nsga_max(popsize, nbgen, objective, init, fCV=constraint, fplot=plot_pop, plotevery=1, showprogress=true);"
   ]
  },
  {
   "cell_type": "markdown",
   "metadata": {
    "slideshow": {
     "slide_type": "slide"
    }
   },
   "source": [
    "This type of visualization, plotting one objective function as X and another as Y, allows us to see the Pareto front for 2 dimensions easily. However, once we increase the number of objectives, this plot is much less useful as we'll always be constrained to looking at 2 dimensions, or at best 3."
   ]
  },
  {
   "cell_type": "markdown",
   "metadata": {
    "slideshow": {
     "slide_type": "fragment"
    }
   },
   "source": [
    "<div class=\"alert alert-success\">\n",
    "    <b>Exercise 3</b>\n",
    "    <br/>\n",
    "    Change the number of objectives to 3. Then use a <tt>scatter3d</tt> plot instead of a <tt>scatter</tt> plot to plot the evolution over 3 objectives.\n",
    "    <br/>\n",
    "    <ul>\n",
    "        <li>Can you still observe the Pareto front?</li>\n",
    "        <li>Can you identify non-dominated individuals easily</li>\n",
    "        <li>Do you see the performance for each objective</li>\n",
    "    </ul>\n",
    "    <br/>\n",
    "</div>"
   ]
  },
  {
   "cell_type": "markdown",
   "metadata": {
    "slideshow": {
     "slide_type": "slide"
    }
   },
   "source": [
    "Another way to look at the different objectives is to plot the different objectives on the `x` axis and the fitness values on the `y` axis. Each individual in a population is then represented as a line. This is known as a Parallel Coordinate Plot. Let's try this method, increasing the number of objectives to 10."
   ]
  },
  {
   "cell_type": "code",
   "execution_count": 22,
   "metadata": {
    "slideshow": {
     "slide_type": "fragment"
    }
   },
   "outputs": [
    {
     "data": {
      "text/plain": [
       "init (generic function with 1 method)"
      ]
     },
     "execution_count": 22,
     "metadata": {},
     "output_type": "execute_result"
    }
   ],
   "source": [
    "n = 100\n",
    "n_objectives = 10\n",
    "values = rand(n, n_objectives)\n",
    "values = values ./ sum(values, dims=1)\n",
    "weights = rand(n)\n",
    "weights = weights ./ sum(weights)\n",
    "max_weight = 0.5\n",
    "popsize = 100\n",
    "nbgen = 50\n",
    "init() = bitrand(n)"
   ]
  },
  {
   "cell_type": "code",
   "execution_count": 23,
   "metadata": {
    "slideshow": {
     "slide_type": "slide"
    }
   },
   "outputs": [
    {
     "data": {
      "image/svg+xml": [
       "<?xml version=\"1.0\" encoding=\"utf-8\"?>\n",
       "<svg xmlns=\"http://www.w3.org/2000/svg\" xmlns:xlink=\"http://www.w3.org/1999/xlink\" width=\"600\" height=\"400\" viewBox=\"0 0 2400 1600\">\n",
       "<defs>\n",
       "  <clipPath id=\"clip3500\">\n",
       "    <rect x=\"0\" y=\"0\" width=\"2400\" height=\"1600\"/>\n",
       "  </clipPath>\n",
       "</defs>\n",
       "<path clip-path=\"url(#clip3500)\" d=\"\n",
       "M0 1600 L2400 1600 L2400 0 L0 0  Z\n",
       "  \" fill=\"#ffffff\" fill-rule=\"evenodd\" fill-opacity=\"1\"/>\n",
       "<defs>\n",
       "  <clipPath id=\"clip3501\">\n",
       "    <rect x=\"480\" y=\"0\" width=\"1681\" height=\"1600\"/>\n",
       "  </clipPath>\n",
       "</defs>\n",
       "<path clip-path=\"url(#clip3500)\" d=\"\n",
       "M175.024 1486.45 L2352.76 1486.45 L2352.76 47.2441 L175.024 47.2441  Z\n",
       "  \" fill=\"#ffffff\" fill-rule=\"evenodd\" fill-opacity=\"1\"/>\n",
       "<defs>\n",
       "  <clipPath id=\"clip3502\">\n",
       "    <rect x=\"175\" y=\"47\" width=\"2179\" height=\"1440\"/>\n",
       "  </clipPath>\n",
       "</defs>\n",
       "<polyline clip-path=\"url(#clip3502)\" style=\"stroke:#000000; stroke-width:2; stroke-opacity:0.1; fill:none\" points=\"\n",
       "  416.994,1486.45 416.994,47.2441 \n",
       "  \"/>\n",
       "<polyline clip-path=\"url(#clip3502)\" style=\"stroke:#000000; stroke-width:2; stroke-opacity:0.1; fill:none\" points=\"\n",
       "  900.935,1486.45 900.935,47.2441 \n",
       "  \"/>\n",
       "<polyline clip-path=\"url(#clip3502)\" style=\"stroke:#000000; stroke-width:2; stroke-opacity:0.1; fill:none\" points=\"\n",
       "  1384.88,1486.45 1384.88,47.2441 \n",
       "  \"/>\n",
       "<polyline clip-path=\"url(#clip3502)\" style=\"stroke:#000000; stroke-width:2; stroke-opacity:0.1; fill:none\" points=\"\n",
       "  1868.82,1486.45 1868.82,47.2441 \n",
       "  \"/>\n",
       "<polyline clip-path=\"url(#clip3502)\" style=\"stroke:#000000; stroke-width:2; stroke-opacity:0.1; fill:none\" points=\"\n",
       "  2352.76,1486.45 2352.76,47.2441 \n",
       "  \"/>\n",
       "<polyline clip-path=\"url(#clip3502)\" style=\"stroke:#000000; stroke-width:2; stroke-opacity:0.1; fill:none\" points=\"\n",
       "  175.024,1228.34 2352.76,1228.34 \n",
       "  \"/>\n",
       "<polyline clip-path=\"url(#clip3502)\" style=\"stroke:#000000; stroke-width:2; stroke-opacity:0.1; fill:none\" points=\"\n",
       "  175.024,966.679 2352.76,966.679 \n",
       "  \"/>\n",
       "<polyline clip-path=\"url(#clip3502)\" style=\"stroke:#000000; stroke-width:2; stroke-opacity:0.1; fill:none\" points=\"\n",
       "  175.024,705.014 2352.76,705.014 \n",
       "  \"/>\n",
       "<polyline clip-path=\"url(#clip3502)\" style=\"stroke:#000000; stroke-width:2; stroke-opacity:0.1; fill:none\" points=\"\n",
       "  175.024,443.35 2352.76,443.35 \n",
       "  \"/>\n",
       "<polyline clip-path=\"url(#clip3502)\" style=\"stroke:#000000; stroke-width:2; stroke-opacity:0.1; fill:none\" points=\"\n",
       "  175.024,181.686 2352.76,181.686 \n",
       "  \"/>\n",
       "<polyline clip-path=\"url(#clip3500)\" style=\"stroke:#000000; stroke-width:4; stroke-opacity:1; fill:none\" points=\"\n",
       "  175.024,1486.45 2352.76,1486.45 \n",
       "  \"/>\n",
       "<polyline clip-path=\"url(#clip3500)\" style=\"stroke:#000000; stroke-width:4; stroke-opacity:1; fill:none\" points=\"\n",
       "  175.024,1486.45 175.024,47.2441 \n",
       "  \"/>\n",
       "<polyline clip-path=\"url(#clip3500)\" style=\"stroke:#000000; stroke-width:4; stroke-opacity:1; fill:none\" points=\"\n",
       "  416.994,1486.45 416.994,1469.18 \n",
       "  \"/>\n",
       "<polyline clip-path=\"url(#clip3500)\" style=\"stroke:#000000; stroke-width:4; stroke-opacity:1; fill:none\" points=\"\n",
       "  900.935,1486.45 900.935,1469.18 \n",
       "  \"/>\n",
       "<polyline clip-path=\"url(#clip3500)\" style=\"stroke:#000000; stroke-width:4; stroke-opacity:1; fill:none\" points=\"\n",
       "  1384.88,1486.45 1384.88,1469.18 \n",
       "  \"/>\n",
       "<polyline clip-path=\"url(#clip3500)\" style=\"stroke:#000000; stroke-width:4; stroke-opacity:1; fill:none\" points=\"\n",
       "  1868.82,1486.45 1868.82,1469.18 \n",
       "  \"/>\n",
       "<polyline clip-path=\"url(#clip3500)\" style=\"stroke:#000000; stroke-width:4; stroke-opacity:1; fill:none\" points=\"\n",
       "  2352.76,1486.45 2352.76,1469.18 \n",
       "  \"/>\n",
       "<polyline clip-path=\"url(#clip3500)\" style=\"stroke:#000000; stroke-width:4; stroke-opacity:1; fill:none\" points=\"\n",
       "  175.024,1228.34 201.157,1228.34 \n",
       "  \"/>\n",
       "<polyline clip-path=\"url(#clip3500)\" style=\"stroke:#000000; stroke-width:4; stroke-opacity:1; fill:none\" points=\"\n",
       "  175.024,966.679 201.157,966.679 \n",
       "  \"/>\n",
       "<polyline clip-path=\"url(#clip3500)\" style=\"stroke:#000000; stroke-width:4; stroke-opacity:1; fill:none\" points=\"\n",
       "  175.024,705.014 201.157,705.014 \n",
       "  \"/>\n",
       "<polyline clip-path=\"url(#clip3500)\" style=\"stroke:#000000; stroke-width:4; stroke-opacity:1; fill:none\" points=\"\n",
       "  175.024,443.35 201.157,443.35 \n",
       "  \"/>\n",
       "<polyline clip-path=\"url(#clip3500)\" style=\"stroke:#000000; stroke-width:4; stroke-opacity:1; fill:none\" points=\"\n",
       "  175.024,181.686 201.157,181.686 \n",
       "  \"/>\n",
       "<path clip-path=\"url(#clip3500)\" d=\"M 0 0 M411.647 1535.98 L427.966 1535.98 L427.966 1539.92 L406.022 1539.92 L406.022 1535.98 Q408.684 1533.23 413.267 1528.6 Q417.874 1523.95 419.054 1522.61 Q421.3 1520.08 422.179 1518.35 Q423.082 1516.59 423.082 1514.9 Q423.082 1512.14 421.138 1510.41 Q419.216 1508.67 416.115 1508.67 Q413.916 1508.67 411.462 1509.43 Q409.031 1510.2 406.254 1511.75 L406.254 1507.03 Q409.078 1505.89 411.531 1505.31 Q413.985 1504.73 416.022 1504.73 Q421.392 1504.73 424.587 1507.42 Q427.781 1510.11 427.781 1514.6 Q427.781 1516.73 426.971 1518.65 Q426.184 1520.54 424.078 1523.14 Q423.499 1523.81 420.397 1527.03 Q417.295 1530.22 411.647 1535.98 Z\" fill=\"#000000\" fill-rule=\"evenodd\" fill-opacity=\"1\" /><path clip-path=\"url(#clip3500)\" d=\"M 0 0 M903.944 1509.43 L892.138 1527.88 L903.944 1527.88 L903.944 1509.43 M902.717 1505.36 L908.597 1505.36 L908.597 1527.88 L913.527 1527.88 L913.527 1531.77 L908.597 1531.77 L908.597 1539.92 L903.944 1539.92 L903.944 1531.77 L888.342 1531.77 L888.342 1527.26 L902.717 1505.36 Z\" fill=\"#000000\" fill-rule=\"evenodd\" fill-opacity=\"1\" /><path clip-path=\"url(#clip3500)\" d=\"M 0 0 M1385.28 1520.78 Q1382.13 1520.78 1380.28 1522.93 Q1378.45 1525.08 1378.45 1528.83 Q1378.45 1532.56 1380.28 1534.73 Q1382.13 1536.89 1385.28 1536.89 Q1388.43 1536.89 1390.26 1534.73 Q1392.11 1532.56 1392.11 1528.83 Q1392.11 1525.08 1390.26 1522.93 Q1388.43 1520.78 1385.28 1520.78 M1394.56 1506.12 L1394.56 1510.38 Q1392.8 1509.55 1391 1509.11 Q1389.22 1508.67 1387.46 1508.67 Q1382.83 1508.67 1380.37 1511.8 Q1377.94 1514.92 1377.6 1521.24 Q1378.96 1519.23 1381.02 1518.16 Q1383.08 1517.07 1385.56 1517.07 Q1390.77 1517.07 1393.78 1520.24 Q1396.81 1523.39 1396.81 1528.83 Q1396.81 1534.16 1393.66 1537.37 Q1390.51 1540.59 1385.28 1540.59 Q1379.28 1540.59 1376.11 1536.01 Q1372.94 1531.4 1372.94 1522.67 Q1372.94 1514.48 1376.83 1509.62 Q1380.72 1504.73 1387.27 1504.73 Q1389.03 1504.73 1390.81 1505.08 Q1392.62 1505.43 1394.56 1506.12 Z\" fill=\"#000000\" fill-rule=\"evenodd\" fill-opacity=\"1\" /><path clip-path=\"url(#clip3500)\" d=\"M 0 0 M1868.82 1523.51 Q1865.48 1523.51 1863.56 1525.29 Q1861.66 1527.07 1861.66 1530.2 Q1861.66 1533.32 1863.56 1535.11 Q1865.48 1536.89 1868.82 1536.89 Q1872.15 1536.89 1874.07 1535.11 Q1875.99 1533.3 1875.99 1530.2 Q1875.99 1527.07 1874.07 1525.29 Q1872.17 1523.51 1868.82 1523.51 M1864.14 1521.52 Q1861.13 1520.78 1859.44 1518.72 Q1857.77 1516.66 1857.77 1513.69 Q1857.77 1509.55 1860.71 1507.14 Q1863.68 1504.73 1868.82 1504.73 Q1873.98 1504.73 1876.92 1507.14 Q1879.86 1509.55 1879.86 1513.69 Q1879.86 1516.66 1878.17 1518.72 Q1876.5 1520.78 1873.51 1521.52 Q1876.89 1522.3 1878.77 1524.6 Q1880.67 1526.89 1880.67 1530.2 Q1880.67 1535.22 1877.59 1537.91 Q1874.53 1540.59 1868.82 1540.59 Q1863.1 1540.59 1860.02 1537.91 Q1856.96 1535.22 1856.96 1530.2 Q1856.96 1526.89 1858.86 1524.6 Q1860.76 1522.3 1864.14 1521.52 M1862.43 1514.13 Q1862.43 1516.82 1864.09 1518.32 Q1865.78 1519.83 1868.82 1519.83 Q1871.82 1519.83 1873.51 1518.32 Q1875.23 1516.82 1875.23 1514.13 Q1875.23 1511.45 1873.51 1509.94 Q1871.82 1508.44 1868.82 1508.44 Q1865.78 1508.44 1864.09 1509.94 Q1862.43 1511.45 1862.43 1514.13 Z\" fill=\"#000000\" fill-rule=\"evenodd\" fill-opacity=\"1\" /><path clip-path=\"url(#clip3500)\" d=\"M 0 0 M2329.63 1535.98 L2337.27 1535.98 L2337.27 1509.62 L2328.96 1511.29 L2328.96 1507.03 L2337.22 1505.36 L2341.9 1505.36 L2341.9 1535.98 L2349.54 1535.98 L2349.54 1539.92 L2329.63 1539.92 L2329.63 1535.98 Z\" fill=\"#000000\" fill-rule=\"evenodd\" fill-opacity=\"1\" /><path clip-path=\"url(#clip3500)\" d=\"M 0 0 M2364.61 1508.44 Q2361 1508.44 2359.17 1512 Q2357.36 1515.55 2357.36 1522.67 Q2357.36 1529.78 2359.17 1533.35 Q2361 1536.89 2364.61 1536.89 Q2368.24 1536.89 2370.05 1533.35 Q2371.88 1529.78 2371.88 1522.67 Q2371.88 1515.55 2370.05 1512 Q2368.24 1508.44 2364.61 1508.44 M2364.61 1504.73 Q2370.42 1504.73 2373.47 1509.34 Q2376.55 1513.92 2376.55 1522.67 Q2376.55 1531.4 2373.47 1536.01 Q2370.42 1540.59 2364.61 1540.59 Q2358.8 1540.59 2355.72 1536.01 Q2352.66 1531.4 2352.66 1522.67 Q2352.66 1513.92 2355.72 1509.34 Q2358.8 1504.73 2364.61 1504.73 Z\" fill=\"#000000\" fill-rule=\"evenodd\" fill-opacity=\"1\" /><path clip-path=\"url(#clip3500)\" d=\"M 0 0 M76.0939 1214.14 Q72.4828 1214.14 70.6541 1217.71 Q68.8486 1221.25 68.8486 1228.38 Q68.8486 1235.48 70.6541 1239.05 Q72.4828 1242.59 76.0939 1242.59 Q79.7281 1242.59 81.5337 1239.05 Q83.3624 1235.48 83.3624 1228.38 Q83.3624 1221.25 81.5337 1217.71 Q79.7281 1214.14 76.0939 1214.14 M76.0939 1210.44 Q81.9041 1210.44 84.9596 1215.04 Q88.0383 1219.63 88.0383 1228.38 Q88.0383 1237.1 84.9596 1241.71 Q81.9041 1246.29 76.0939 1246.29 Q70.2838 1246.29 67.2051 1241.71 Q64.1495 1237.1 64.1495 1228.38 Q64.1495 1219.63 67.2051 1215.04 Q70.2838 1210.44 76.0939 1210.44 Z\" fill=\"#000000\" fill-rule=\"evenodd\" fill-opacity=\"1\" /><path clip-path=\"url(#clip3500)\" d=\"M 0 0 M93.1077 1239.74 L97.9919 1239.74 L97.9919 1245.62 L93.1077 1245.62 L93.1077 1239.74 Z\" fill=\"#000000\" fill-rule=\"evenodd\" fill-opacity=\"1\" /><path clip-path=\"url(#clip3500)\" d=\"M 0 0 M103.108 1211.06 L121.464 1211.06 L121.464 1215 L107.39 1215 L107.39 1223.47 Q108.409 1223.12 109.427 1222.96 Q110.446 1222.78 111.464 1222.78 Q117.251 1222.78 120.631 1225.95 Q124.01 1229.12 124.01 1234.54 Q124.01 1240.11 120.538 1243.22 Q117.066 1246.29 110.746 1246.29 Q108.571 1246.29 106.302 1245.92 Q104.057 1245.55 101.649 1244.81 L101.649 1240.11 Q103.733 1241.25 105.955 1241.8 Q108.177 1242.36 110.654 1242.36 Q114.659 1242.36 116.996 1240.25 Q119.334 1238.15 119.334 1234.54 Q119.334 1230.92 116.996 1228.82 Q114.659 1226.71 110.654 1226.71 Q108.779 1226.71 106.904 1227.13 Q105.052 1227.54 103.108 1228.42 L103.108 1211.06 Z\" fill=\"#000000\" fill-rule=\"evenodd\" fill-opacity=\"1\" /><path clip-path=\"url(#clip3500)\" d=\"M 0 0 M139.08 1214.14 Q135.469 1214.14 133.64 1217.71 Q131.834 1221.25 131.834 1228.38 Q131.834 1235.48 133.64 1239.05 Q135.469 1242.59 139.08 1242.59 Q142.714 1242.59 144.519 1239.05 Q146.348 1235.48 146.348 1228.38 Q146.348 1221.25 144.519 1217.71 Q142.714 1214.14 139.08 1214.14 M139.08 1210.44 Q144.89 1210.44 147.945 1215.04 Q151.024 1219.63 151.024 1228.38 Q151.024 1237.1 147.945 1241.71 Q144.89 1246.29 139.08 1246.29 Q133.27 1246.29 130.191 1241.71 Q127.135 1237.1 127.135 1228.38 Q127.135 1219.63 130.191 1215.04 Q133.27 1210.44 139.08 1210.44 Z\" fill=\"#000000\" fill-rule=\"evenodd\" fill-opacity=\"1\" /><path clip-path=\"url(#clip3500)\" d=\"M 0 0 M77.0893 952.478 Q73.4782 952.478 71.6495 956.042 Q69.8439 959.584 69.8439 966.714 Q69.8439 973.82 71.6495 977.385 Q73.4782 980.926 77.0893 980.926 Q80.7235 980.926 82.5291 977.385 Q84.3578 973.82 84.3578 966.714 Q84.3578 959.584 82.5291 956.042 Q80.7235 952.478 77.0893 952.478 M77.0893 948.774 Q82.8994 948.774 85.955 953.38 Q89.0337 957.964 89.0337 966.714 Q89.0337 975.44 85.955 980.047 Q82.8994 984.63 77.0893 984.63 Q71.2791 984.63 68.2004 980.047 Q65.1449 975.44 65.1449 966.714 Q65.1449 957.964 68.2004 953.38 Q71.2791 948.774 77.0893 948.774 Z\" fill=\"#000000\" fill-rule=\"evenodd\" fill-opacity=\"1\" /><path clip-path=\"url(#clip3500)\" d=\"M 0 0 M94.1031 978.079 L98.9873 978.079 L98.9873 983.959 L94.1031 983.959 L94.1031 978.079 Z\" fill=\"#000000\" fill-rule=\"evenodd\" fill-opacity=\"1\" /><path clip-path=\"url(#clip3500)\" d=\"M 0 0 M104.103 949.399 L122.459 949.399 L122.459 953.334 L108.385 953.334 L108.385 961.806 Q109.404 961.459 110.422 961.297 Q111.441 961.112 112.459 961.112 Q118.246 961.112 121.626 964.283 Q125.006 967.454 125.006 972.871 Q125.006 978.45 121.533 981.551 Q118.061 984.63 111.742 984.63 Q109.566 984.63 107.297 984.26 Q105.052 983.889 102.645 983.149 L102.645 978.45 Q104.728 979.584 106.95 980.139 Q109.172 980.695 111.649 980.695 Q115.654 980.695 117.992 978.589 Q120.33 976.482 120.33 972.871 Q120.33 969.26 117.992 967.153 Q115.654 965.047 111.649 965.047 Q109.774 965.047 107.899 965.464 Q106.047 965.88 104.103 966.76 L104.103 949.399 Z\" fill=\"#000000\" fill-rule=\"evenodd\" fill-opacity=\"1\" /><path clip-path=\"url(#clip3500)\" d=\"M 0 0 M130.121 949.399 L148.478 949.399 L148.478 953.334 L134.404 953.334 L134.404 961.806 Q135.422 961.459 136.441 961.297 Q137.459 961.112 138.478 961.112 Q144.265 961.112 147.644 964.283 Q151.024 967.454 151.024 972.871 Q151.024 978.45 147.552 981.551 Q144.08 984.63 137.76 984.63 Q135.584 984.63 133.316 984.26 Q131.07 983.889 128.663 983.149 L128.663 978.45 Q130.746 979.584 132.969 980.139 Q135.191 980.695 137.668 980.695 Q141.672 980.695 144.01 978.589 Q146.348 976.482 146.348 972.871 Q146.348 969.26 144.01 967.153 Q141.672 965.047 137.668 965.047 Q135.793 965.047 133.918 965.464 Q132.066 965.88 130.121 966.76 L130.121 949.399 Z\" fill=\"#000000\" fill-rule=\"evenodd\" fill-opacity=\"1\" /><path clip-path=\"url(#clip3500)\" d=\"M 0 0 M74.9365 690.813 Q71.3254 690.813 69.4967 694.378 Q67.6912 697.92 67.6912 705.049 Q67.6912 712.156 69.4967 715.72 Q71.3254 719.262 74.9365 719.262 Q78.5707 719.262 80.3763 715.72 Q82.205 712.156 82.205 705.049 Q82.205 697.92 80.3763 694.378 Q78.5707 690.813 74.9365 690.813 M74.9365 687.109 Q80.7467 687.109 83.8022 691.716 Q86.8809 696.299 86.8809 705.049 Q86.8809 713.776 83.8022 718.382 Q80.7467 722.966 74.9365 722.966 Q69.1264 722.966 66.0477 718.382 Q62.9921 713.776 62.9921 705.049 Q62.9921 696.299 66.0477 691.716 Q69.1264 687.109 74.9365 687.109 Z\" fill=\"#000000\" fill-rule=\"evenodd\" fill-opacity=\"1\" /><path clip-path=\"url(#clip3500)\" d=\"M 0 0 M91.9503 716.415 L96.8345 716.415 L96.8345 722.294 L91.9503 722.294 L91.9503 716.415 Z\" fill=\"#000000\" fill-rule=\"evenodd\" fill-opacity=\"1\" /><path clip-path=\"url(#clip3500)\" d=\"M 0 0 M112.483 703.151 Q109.334 703.151 107.483 705.304 Q105.654 707.457 105.654 711.207 Q105.654 714.933 107.483 717.109 Q109.334 719.262 112.483 719.262 Q115.631 719.262 117.459 717.109 Q119.311 714.933 119.311 711.207 Q119.311 707.457 117.459 705.304 Q115.631 703.151 112.483 703.151 M121.765 688.498 L121.765 692.758 Q120.006 691.924 118.2 691.484 Q116.418 691.045 114.659 691.045 Q110.029 691.045 107.575 694.17 Q105.145 697.295 104.797 703.614 Q106.163 701.6 108.223 700.535 Q110.284 699.447 112.76 699.447 Q117.969 699.447 120.978 702.619 Q124.01 705.767 124.01 711.207 Q124.01 716.531 120.862 719.748 Q117.714 722.966 112.483 722.966 Q106.487 722.966 103.316 718.382 Q100.145 713.776 100.145 705.049 Q100.145 696.855 104.034 691.994 Q107.922 687.109 114.473 687.109 Q116.233 687.109 118.015 687.457 Q119.821 687.804 121.765 688.498 Z\" fill=\"#000000\" fill-rule=\"evenodd\" fill-opacity=\"1\" /><path clip-path=\"url(#clip3500)\" d=\"M 0 0 M139.08 690.813 Q135.469 690.813 133.64 694.378 Q131.834 697.92 131.834 705.049 Q131.834 712.156 133.64 715.72 Q135.469 719.262 139.08 719.262 Q142.714 719.262 144.519 715.72 Q146.348 712.156 146.348 705.049 Q146.348 697.92 144.519 694.378 Q142.714 690.813 139.08 690.813 M139.08 687.109 Q144.89 687.109 147.945 691.716 Q151.024 696.299 151.024 705.049 Q151.024 713.776 147.945 718.382 Q144.89 722.966 139.08 722.966 Q133.27 722.966 130.191 718.382 Q127.135 713.776 127.135 705.049 Q127.135 696.299 130.191 691.716 Q133.27 687.109 139.08 687.109 Z\" fill=\"#000000\" fill-rule=\"evenodd\" fill-opacity=\"1\" /><path clip-path=\"url(#clip3500)\" d=\"M 0 0 M75.9319 429.149 Q72.3208 429.149 70.4921 432.713 Q68.6865 436.255 68.6865 443.385 Q68.6865 450.491 70.4921 454.056 Q72.3208 457.598 75.9319 457.598 Q79.5661 457.598 81.3717 454.056 Q83.2004 450.491 83.2004 443.385 Q83.2004 436.255 81.3717 432.713 Q79.5661 429.149 75.9319 429.149 M75.9319 425.445 Q81.742 425.445 84.7976 430.051 Q87.8763 434.635 87.8763 443.385 Q87.8763 452.111 84.7976 456.718 Q81.742 461.301 75.9319 461.301 Q70.1217 461.301 67.043 456.718 Q63.9875 452.111 63.9875 443.385 Q63.9875 434.635 67.043 430.051 Q70.1217 425.445 75.9319 425.445 Z\" fill=\"#000000\" fill-rule=\"evenodd\" fill-opacity=\"1\" /><path clip-path=\"url(#clip3500)\" d=\"M 0 0 M92.9457 454.75 L97.8299 454.75 L97.8299 460.63 L92.9457 460.63 L92.9457 454.75 Z\" fill=\"#000000\" fill-rule=\"evenodd\" fill-opacity=\"1\" /><path clip-path=\"url(#clip3500)\" d=\"M 0 0 M113.478 441.487 Q110.33 441.487 108.478 443.639 Q106.649 445.792 106.649 449.542 Q106.649 453.269 108.478 455.445 Q110.33 457.598 113.478 457.598 Q116.626 457.598 118.455 455.445 Q120.307 453.269 120.307 449.542 Q120.307 445.792 118.455 443.639 Q116.626 441.487 113.478 441.487 M122.76 426.834 L122.76 431.093 Q121.001 430.26 119.196 429.82 Q117.413 429.38 115.654 429.38 Q111.024 429.38 108.571 432.505 Q106.14 435.63 105.793 441.95 Q107.159 439.936 109.219 438.871 Q111.279 437.783 113.756 437.783 Q118.964 437.783 121.973 440.954 Q125.006 444.102 125.006 449.542 Q125.006 454.866 121.858 458.084 Q118.709 461.301 113.478 461.301 Q107.483 461.301 104.311 456.718 Q101.14 452.111 101.14 443.385 Q101.14 435.19 105.029 430.329 Q108.918 425.445 115.469 425.445 Q117.228 425.445 119.01 425.792 Q120.816 426.139 122.76 426.834 Z\" fill=\"#000000\" fill-rule=\"evenodd\" fill-opacity=\"1\" /><path clip-path=\"url(#clip3500)\" d=\"M 0 0 M130.121 426.07 L148.478 426.07 L148.478 430.005 L134.404 430.005 L134.404 438.477 Q135.422 438.13 136.441 437.968 Q137.459 437.783 138.478 437.783 Q144.265 437.783 147.644 440.954 Q151.024 444.125 151.024 449.542 Q151.024 455.121 147.552 458.223 Q144.08 461.301 137.76 461.301 Q135.584 461.301 133.316 460.931 Q131.07 460.561 128.663 459.82 L128.663 455.121 Q130.746 456.255 132.969 456.811 Q135.191 457.366 137.668 457.366 Q141.672 457.366 144.01 455.26 Q146.348 453.153 146.348 449.542 Q146.348 445.931 144.01 443.825 Q141.672 441.718 137.668 441.718 Q135.793 441.718 133.918 442.135 Q132.066 442.551 130.121 443.431 L130.121 426.07 Z\" fill=\"#000000\" fill-rule=\"evenodd\" fill-opacity=\"1\" /><path clip-path=\"url(#clip3500)\" d=\"M 0 0 M76.0013 167.484 Q72.3902 167.484 70.5615 171.049 Q68.756 174.591 68.756 181.72 Q68.756 188.827 70.5615 192.391 Q72.3902 195.933 76.0013 195.933 Q79.6356 195.933 81.4411 192.391 Q83.2698 188.827 83.2698 181.72 Q83.2698 174.591 81.4411 171.049 Q79.6356 167.484 76.0013 167.484 M76.0013 163.781 Q81.8115 163.781 84.867 168.387 Q87.9457 172.97 87.9457 181.72 Q87.9457 190.447 84.867 195.054 Q81.8115 199.637 76.0013 199.637 Q70.1912 199.637 67.1125 195.054 Q64.0569 190.447 64.0569 181.72 Q64.0569 172.97 67.1125 168.387 Q70.1912 163.781 76.0013 163.781 Z\" fill=\"#000000\" fill-rule=\"evenodd\" fill-opacity=\"1\" /><path clip-path=\"url(#clip3500)\" d=\"M 0 0 M93.0151 193.086 L97.8993 193.086 L97.8993 198.966 L93.0151 198.966 L93.0151 193.086 Z\" fill=\"#000000\" fill-rule=\"evenodd\" fill-opacity=\"1\" /><path clip-path=\"url(#clip3500)\" d=\"M 0 0 M101.788 164.406 L124.01 164.406 L124.01 166.396 L111.464 198.966 L106.58 198.966 L118.385 168.341 L101.788 168.341 L101.788 164.406 Z\" fill=\"#000000\" fill-rule=\"evenodd\" fill-opacity=\"1\" /><path clip-path=\"url(#clip3500)\" d=\"M 0 0 M139.08 167.484 Q135.469 167.484 133.64 171.049 Q131.834 174.591 131.834 181.72 Q131.834 188.827 133.64 192.391 Q135.469 195.933 139.08 195.933 Q142.714 195.933 144.519 192.391 Q146.348 188.827 146.348 181.72 Q146.348 174.591 144.519 171.049 Q142.714 167.484 139.08 167.484 M139.08 163.781 Q144.89 163.781 147.945 168.387 Q151.024 172.97 151.024 181.72 Q151.024 190.447 147.945 195.054 Q144.89 199.637 139.08 199.637 Q133.27 199.637 130.191 195.054 Q127.135 190.447 127.135 181.72 Q127.135 172.97 130.191 168.387 Q133.27 163.781 139.08 163.781 Z\" fill=\"#000000\" fill-rule=\"evenodd\" fill-opacity=\"1\" /><polyline clip-path=\"url(#clip3502)\" style=\"stroke:#0000ff; stroke-width:4; stroke-opacity:1; fill:none\" points=\"\n",
       "  175.024,183.074 416.994,458.975 658.964,564.043 900.935,839.649 1142.9,740.813 1384.88,559.61 1626.85,482.216 1868.82,470.794 2110.79,445.851 2352.76,781.68 \n",
       "  \n",
       "  \"/>\n",
       "<polyline clip-path=\"url(#clip3502)\" style=\"stroke:#0000ff; stroke-width:4; stroke-opacity:1; fill:none\" points=\"\n",
       "  175.024,489.903 416.994,401.674 658.964,825.134 900.935,583.306 1142.9,941.785 1384.88,716.261 1626.85,616.27 1868.82,688.714 2110.79,487.006 2352.76,411.518 \n",
       "  \n",
       "  \"/>\n",
       "<polyline clip-path=\"url(#clip3502)\" style=\"stroke:#0000ff; stroke-width:4; stroke-opacity:1; fill:none\" points=\"\n",
       "  175.024,310.179 416.994,361.938 658.964,496.594 900.935,475.915 1142.9,577.379 1384.88,432.941 1626.85,401.252 1868.82,485.229 2110.79,244.094 2352.76,598.577 \n",
       "  \n",
       "  \"/>\n",
       "<polyline clip-path=\"url(#clip3502)\" style=\"stroke:#0000ff; stroke-width:4; stroke-opacity:1; fill:none\" points=\"\n",
       "  175.024,656.804 416.994,659.783 658.964,675.937 900.935,227.033 1142.9,798.769 1384.88,754.457 1626.85,571.617 1868.82,613.709 2110.79,729.074 2352.76,657.576 \n",
       "  \n",
       "  \"/>\n",
       "<polyline clip-path=\"url(#clip3502)\" style=\"stroke:#0000ff; stroke-width:4; stroke-opacity:1; fill:none\" points=\"\n",
       "  175.024,348.795 416.994,394.747 658.964,551.582 900.935,413.339 1142.9,538.612 1384.88,436.445 1626.85,273.234 1868.82,389.556 2110.79,301.117 2352.76,693.588 \n",
       "  \n",
       "  \"/>\n",
       "<polyline clip-path=\"url(#clip3502)\" style=\"stroke:#0000ff; stroke-width:4; stroke-opacity:1; fill:none\" points=\"\n",
       "  175.024,415.676 416.994,272.271 658.964,592.786 900.935,613.151 1142.9,622.123 1384.88,554.812 1626.85,398.209 1868.82,541.431 2110.79,397.89 2352.76,566.379 \n",
       "  \n",
       "  \"/>\n",
       "<polyline clip-path=\"url(#clip3502)\" style=\"stroke:#0000ff; stroke-width:4; stroke-opacity:1; fill:none\" points=\"\n",
       "  175.024,675.499 416.994,761.637 658.964,753.167 900.935,359.546 1142.9,528.641 1384.88,785.465 1626.85,542.547 1868.82,626.711 2110.79,783.781 2352.76,687.584 \n",
       "  \n",
       "  \"/>\n",
       "<polyline clip-path=\"url(#clip3502)\" style=\"stroke:#0000ff; stroke-width:4; stroke-opacity:1; fill:none\" points=\"\n",
       "  175.024,805.939 416.994,636.143 658.964,574.066 900.935,578.346 1142.9,921.19 1384.88,525.539 1626.85,550.721 1868.82,470.816 2110.79,678.681 2352.76,580.965 \n",
       "  \n",
       "  \"/>\n",
       "<polyline clip-path=\"url(#clip3502)\" style=\"stroke:#0000ff; stroke-width:4; stroke-opacity:1; fill:none\" points=\"\n",
       "  175.024,530.391 416.994,578.986 658.964,775.638 900.935,543.811 1142.9,964.761 1384.88,786.943 1626.85,625.238 1868.82,384.808 2110.79,581.535 2352.76,430.678 \n",
       "  \n",
       "  \"/>\n",
       "<polyline clip-path=\"url(#clip3502)\" style=\"stroke:#0000ff; stroke-width:4; stroke-opacity:1; fill:none\" points=\"\n",
       "  175.024,474.783 416.994,552.06 658.964,633.022 900.935,585.694 1142.9,740.637 1384.88,715.536 1626.85,260.397 1868.82,656.727 2110.79,389.852 2352.76,524.44 \n",
       "  \n",
       "  \"/>\n",
       "<polyline clip-path=\"url(#clip3502)\" style=\"stroke:#0000ff; stroke-width:4; stroke-opacity:1; fill:none\" points=\"\n",
       "  175.024,453.071 416.994,568.306 658.964,690.377 900.935,485.259 1142.9,1020.8 1384.88,490.993 1626.85,446.435 1868.82,435.684 2110.79,445.836 2352.76,464.839 \n",
       "  \n",
       "  \"/>\n",
       "<polyline clip-path=\"url(#clip3502)\" style=\"stroke:#0000ff; stroke-width:4; stroke-opacity:1; fill:none\" points=\"\n",
       "  175.024,589.781 416.994,946.549 658.964,720.328 900.935,601.623 1142.9,832.514 1384.88,837.13 1626.85,635.356 1868.82,809.1 2110.79,621.971 2352.76,180.179 \n",
       "  \n",
       "  \"/>\n",
       "<polyline clip-path=\"url(#clip3502)\" style=\"stroke:#0000ff; stroke-width:4; stroke-opacity:1; fill:none\" points=\"\n",
       "  175.024,574.622 416.994,869.691 658.964,673.95 900.935,484.182 1142.9,827.108 1384.88,720.442 1626.85,567.579 1868.82,620.902 2110.79,617.969 2352.76,375.937 \n",
       "  \n",
       "  \"/>\n",
       "<polyline clip-path=\"url(#clip3502)\" style=\"stroke:#0000ff; stroke-width:4; stroke-opacity:1; fill:none\" points=\"\n",
       "  175.024,590.984 416.994,716.916 658.964,570.087 900.935,476.428 1142.9,661.318 1384.88,900.259 1626.85,701.304 1868.82,676.944 2110.79,717.967 2352.76,560.188 \n",
       "  \n",
       "  \"/>\n",
       "<polyline clip-path=\"url(#clip3502)\" style=\"stroke:#0000ff; stroke-width:4; stroke-opacity:1; fill:none\" points=\"\n",
       "  175.024,591.615 416.994,884.835 658.964,643.558 900.935,625.046 1142.9,742.285 1384.88,735.315 1626.85,636.401 1868.82,502.954 2110.79,825.387 2352.76,567.939 \n",
       "  \n",
       "  \"/>\n",
       "<polyline clip-path=\"url(#clip3502)\" style=\"stroke:#0000ff; stroke-width:4; stroke-opacity:1; fill:none\" points=\"\n",
       "  175.024,356.742 416.994,521.617 658.964,378.149 900.935,493.599 1142.9,553.37 1384.88,471.803 1626.85,381.869 1868.82,562.185 2110.79,458.801 2352.76,497.364 \n",
       "  \n",
       "  \"/>\n",
       "<polyline clip-path=\"url(#clip3502)\" style=\"stroke:#0000ff; stroke-width:4; stroke-opacity:1; fill:none\" points=\"\n",
       "  175.024,517.745 416.994,958.359 658.964,622.809 900.935,385.934 1142.9,719.644 1384.88,856.72 1626.85,591.473 1868.82,707.605 2110.79,617.891 2352.76,396.051 \n",
       "  \n",
       "  \"/>\n",
       "<polyline clip-path=\"url(#clip3502)\" style=\"stroke:#0000ff; stroke-width:4; stroke-opacity:1; fill:none\" points=\"\n",
       "  175.024,645.882 416.994,547.904 658.964,808.339 900.935,760.677 1142.9,983.129 1384.88,521.494 1626.85,730.362 1868.82,716.068 2110.79,812.853 2352.76,389.69 \n",
       "  \n",
       "  \"/>\n",
       "<polyline clip-path=\"url(#clip3502)\" style=\"stroke:#0000ff; stroke-width:4; stroke-opacity:1; fill:none\" points=\"\n",
       "  175.024,447.118 416.994,891.453 658.964,795.339 900.935,421.047 1142.9,646.796 1384.88,725.45 1626.85,456.25 1868.82,378.414 2110.79,618.605 2352.76,381.064 \n",
       "  \n",
       "  \"/>\n",
       "<polyline clip-path=\"url(#clip3502)\" style=\"stroke:#0000ff; stroke-width:4; stroke-opacity:1; fill:none\" points=\"\n",
       "  175.024,633.16 416.994,777.942 658.964,645.883 900.935,588.958 1142.9,835.112 1384.88,600.602 1626.85,554.535 1868.82,581.501 2110.79,436.465 2352.76,469.436 \n",
       "  \n",
       "  \"/>\n",
       "<polyline clip-path=\"url(#clip3502)\" style=\"stroke:#0000ff; stroke-width:4; stroke-opacity:1; fill:none\" points=\"\n",
       "  175.024,651.378 416.994,575.176 658.964,443.982 900.935,385.423 1142.9,525.918 1384.88,751.319 1626.85,460.266 1868.82,493.427 2110.79,611.482 2352.76,508.572 \n",
       "  \n",
       "  \"/>\n",
       "<polyline clip-path=\"url(#clip3502)\" style=\"stroke:#0000ff; stroke-width:4; stroke-opacity:1; fill:none\" points=\"\n",
       "  175.024,65.5251 416.994,458.154 658.964,580.364 900.935,713.283 1142.9,670.435 1384.88,542.331 1626.85,401.806 1868.82,482.337 2110.79,357.202 2352.76,713.065 \n",
       "  \n",
       "  \"/>\n",
       "<polyline clip-path=\"url(#clip3502)\" style=\"stroke:#0000ff; stroke-width:4; stroke-opacity:1; fill:none\" points=\"\n",
       "  175.024,259.657 416.994,697.337 658.964,513.009 900.935,611.248 1142.9,558.1 1384.88,374.183 1626.85,358.713 1868.82,289.564 2110.79,548.944 2352.76,584.13 \n",
       "  \n",
       "  \"/>\n",
       "<polyline clip-path=\"url(#clip3502)\" style=\"stroke:#0000ff; stroke-width:4; stroke-opacity:1; fill:none\" points=\"\n",
       "  175.024,542.596 416.994,403.917 658.964,527.388 900.935,570.04 1142.9,584.321 1384.88,435.87 1626.85,594.418 1868.82,836.094 2110.79,496.859 2352.76,527.707 \n",
       "  \n",
       "  \"/>\n",
       "<polyline clip-path=\"url(#clip3502)\" style=\"stroke:#0000ff; stroke-width:4; stroke-opacity:1; fill:none\" points=\"\n",
       "  175.024,682.704 416.994,597.052 658.964,897.6 900.935,420.376 1142.9,804.899 1384.88,829.808 1626.85,381.831 1868.82,577.216 2110.79,462.113 2352.76,479.111 \n",
       "  \n",
       "  \"/>\n",
       "<polyline clip-path=\"url(#clip3502)\" style=\"stroke:#0000ff; stroke-width:4; stroke-opacity:1; fill:none\" points=\"\n",
       "  175.024,653.553 416.994,473.128 658.964,687.614 900.935,235.907 1142.9,693.222 1384.88,650.623 1626.85,508.361 1868.82,641.441 2110.79,602.74 2352.76,517.349 \n",
       "  \n",
       "  \"/>\n",
       "<polyline clip-path=\"url(#clip3502)\" style=\"stroke:#0000ff; stroke-width:4; stroke-opacity:1; fill:none\" points=\"\n",
       "  175.024,677.321 416.994,655.121 658.964,598.355 900.935,649.755 1142.9,354.845 1384.88,838.449 1626.85,661.938 1868.82,810.493 2110.79,874.129 2352.76,764.749 \n",
       "  \n",
       "  \"/>\n",
       "<polyline clip-path=\"url(#clip3502)\" style=\"stroke:#0000ff; stroke-width:4; stroke-opacity:1; fill:none\" points=\"\n",
       "  175.024,489.903 416.994,401.674 658.964,825.134 900.935,583.306 1142.9,941.785 1384.88,716.261 1626.85,616.27 1868.82,688.714 2110.79,487.006 2352.76,411.518 \n",
       "  \n",
       "  \"/>\n",
       "<polyline clip-path=\"url(#clip3502)\" style=\"stroke:#0000ff; stroke-width:4; stroke-opacity:1; fill:none\" points=\"\n",
       "  175.024,721.929 416.994,597.301 658.964,810.746 900.935,478.921 1142.9,867.726 1384.88,783.168 1626.85,614.217 1868.82,858.53 2110.79,660.27 2352.76,478.795 \n",
       "  \n",
       "  \"/>\n",
       "<polyline clip-path=\"url(#clip3502)\" style=\"stroke:#0000ff; stroke-width:4; stroke-opacity:1; fill:none\" points=\"\n",
       "  175.024,771.127 416.994,830.778 658.964,890.804 900.935,424.882 1142.9,882.648 1384.88,835.558 1626.85,578.816 1868.82,639.299 2110.79,585.45 2352.76,378.272 \n",
       "  \n",
       "  \"/>\n",
       "<polyline clip-path=\"url(#clip3502)\" style=\"stroke:#0000ff; stroke-width:4; stroke-opacity:1; fill:none\" points=\"\n",
       "  175.024,487.277 416.994,474.885 658.964,315.759 900.935,501.101 1142.9,567.756 1384.88,230.638 1626.85,405.73 1868.82,478.937 2110.79,536.946 2352.76,635.508 \n",
       "  \n",
       "  \"/>\n",
       "<polyline clip-path=\"url(#clip3502)\" style=\"stroke:#0000ff; stroke-width:4; stroke-opacity:1; fill:none\" points=\"\n",
       "  175.024,770.393 416.994,568.702 658.964,539.639 900.935,363.624 1142.9,715.39 1384.88,709.624 1626.85,572.857 1868.82,618.573 2110.79,788.52 2352.76,627.626 \n",
       "  \n",
       "  \"/>\n",
       "<polyline clip-path=\"url(#clip3502)\" style=\"stroke:#0000ff; stroke-width:4; stroke-opacity:1; fill:none\" points=\"\n",
       "  175.024,791.534 416.994,988.283 658.964,728.1 900.935,471.357 1142.9,783.556 1384.88,814.885 1626.85,702.386 1868.82,889.365 2110.79,889.206 2352.76,349.794 \n",
       "  \n",
       "  \"/>\n",
       "<polyline clip-path=\"url(#clip3502)\" style=\"stroke:#0000ff; stroke-width:4; stroke-opacity:1; fill:none\" points=\"\n",
       "  175.024,484.854 416.994,550.192 658.964,363.264 900.935,477.981 1142.9,612.017 1384.88,392.996 1626.85,435.874 1868.82,558.023 2110.79,505.044 2352.76,600.649 \n",
       "  \n",
       "  \"/>\n",
       "<polyline clip-path=\"url(#clip3502)\" style=\"stroke:#0000ff; stroke-width:4; stroke-opacity:1; fill:none\" points=\"\n",
       "  175.024,621.468 416.994,905.021 658.964,659.704 900.935,461.4 1142.9,930.48 1384.88,597.862 1626.85,602.763 1868.82,585.735 2110.79,538.428 2352.76,375.531 \n",
       "  \n",
       "  \"/>\n",
       "<polyline clip-path=\"url(#clip3502)\" style=\"stroke:#0000ff; stroke-width:4; stroke-opacity:1; fill:none\" points=\"\n",
       "  175.024,537.494 416.994,707.388 658.964,518.626 900.935,652.722 1142.9,774.061 1384.88,409.995 1626.85,609.878 1868.82,577.123 2110.79,560.87 2352.76,447.949 \n",
       "  \n",
       "  \"/>\n",
       "<polyline clip-path=\"url(#clip3502)\" style=\"stroke:#0000ff; stroke-width:4; stroke-opacity:1; fill:none\" points=\"\n",
       "  175.024,389.121 416.994,735.767 658.964,738.055 900.935,560.523 1142.9,906.079 1384.88,879.092 1626.85,624.015 1868.82,410.147 2110.79,623.097 2352.76,379.171 \n",
       "  \n",
       "  \"/>\n",
       "<polyline clip-path=\"url(#clip3502)\" style=\"stroke:#0000ff; stroke-width:4; stroke-opacity:1; fill:none\" points=\"\n",
       "  175.024,475.09 416.994,474.605 658.964,620.616 900.935,519.08 1142.9,609.012 1384.88,569.646 1626.85,235.784 1868.82,554.657 2110.79,432.338 2352.76,772.63 \n",
       "  \n",
       "  \"/>\n",
       "<polyline clip-path=\"url(#clip3502)\" style=\"stroke:#0000ff; stroke-width:4; stroke-opacity:1; fill:none\" points=\"\n",
       "  175.024,258.756 416.994,593.117 658.964,742.913 900.935,502.742 1142.9,492.901 1384.88,750.488 1626.85,439.951 1868.82,333.101 2110.79,578.606 2352.76,552.574 \n",
       "  \n",
       "  \"/>\n",
       "<polyline clip-path=\"url(#clip3502)\" style=\"stroke:#0000ff; stroke-width:4; stroke-opacity:1; fill:none\" points=\"\n",
       "  175.024,587.068 416.994,518.529 658.964,649.929 900.935,578.21 1142.9,933.537 1384.88,494.332 1626.85,596.346 1868.82,456.741 2110.79,558.667 2352.76,434.74 \n",
       "  \n",
       "  \"/>\n",
       "<polyline clip-path=\"url(#clip3502)\" style=\"stroke:#0000ff; stroke-width:4; stroke-opacity:1; fill:none\" points=\"\n",
       "  175.024,588.425 416.994,936.983 658.964,852.107 900.935,565.446 1142.9,711.61 1384.88,993.116 1626.85,498.917 1868.82,768.969 2110.79,579.543 2352.76,629.421 \n",
       "  \n",
       "  \"/>\n",
       "<polyline clip-path=\"url(#clip3502)\" style=\"stroke:#0000ff; stroke-width:4; stroke-opacity:1; fill:none\" points=\"\n",
       "  175.024,721.572 416.994,1108.32 658.964,816.214 900.935,707.198 1142.9,930.428 1384.88,776.284 1626.85,606.245 1868.82,511.546 2110.79,771.159 2352.76,384.621 \n",
       "  \n",
       "  \"/>\n",
       "<polyline clip-path=\"url(#clip3502)\" style=\"stroke:#0000ff; stroke-width:4; stroke-opacity:1; fill:none\" points=\"\n",
       "  175.024,458.145 416.994,772.5 658.964,588.072 900.935,659.274 1142.9,549.064 1384.88,599.564 1626.85,529.168 1868.82,513.339 2110.79,661.195 2352.76,793.149 \n",
       "  \n",
       "  \"/>\n",
       "<polyline clip-path=\"url(#clip3502)\" style=\"stroke:#0000ff; stroke-width:4; stroke-opacity:1; fill:none\" points=\"\n",
       "  175.024,417.272 416.994,563.252 658.964,812.448 900.935,958.169 1142.9,1015.87 1384.88,702.467 1626.85,756.247 1868.82,649.614 2110.79,669.768 2352.76,825.645 \n",
       "  \n",
       "  \"/>\n",
       "<polyline clip-path=\"url(#clip3502)\" style=\"stroke:#0000ff; stroke-width:4; stroke-opacity:1; fill:none\" points=\"\n",
       "  175.024,839.882 416.994,972.054 658.964,724.129 900.935,652.206 1142.9,921.202 1384.88,839.626 1626.85,704.199 1868.82,919.039 2110.79,897.6 2352.76,534.007 \n",
       "  \n",
       "  \"/>\n",
       "<polyline clip-path=\"url(#clip3502)\" style=\"stroke:#0000ff; stroke-width:4; stroke-opacity:1; fill:none\" points=\"\n",
       "  175.024,375.742 416.994,437.619 658.964,652.343 900.935,616.26 1142.9,670.885 1384.88,523.866 1626.85,427.99 1868.82,671.623 2110.79,525.4 2352.76,715.421 \n",
       "  \n",
       "  \"/>\n",
       "<polyline clip-path=\"url(#clip3502)\" style=\"stroke:#0000ff; stroke-width:4; stroke-opacity:1; fill:none\" points=\"\n",
       "  175.024,687.473 416.994,758.214 658.964,969.24 900.935,581.379 1142.9,883.124 1384.88,847.231 1626.85,729.944 1868.82,772.327 2110.79,858.064 2352.76,632.479 \n",
       "  \n",
       "  \"/>\n",
       "<polyline clip-path=\"url(#clip3502)\" style=\"stroke:#0000ff; stroke-width:4; stroke-opacity:1; fill:none\" points=\"\n",
       "  175.024,706.38 416.994,764.095 658.964,1026.94 900.935,760.747 1142.9,1095.1 1384.88,710.482 1626.85,656.234 1868.82,658.181 2110.79,647.264 2352.76,568.11 \n",
       "  \n",
       "  \"/>\n",
       "<polyline clip-path=\"url(#clip3502)\" style=\"stroke:#0000ff; stroke-width:4; stroke-opacity:1; fill:none\" points=\"\n",
       "  175.024,711.483 416.994,689.318 658.964,999.193 900.935,841.915 1142.9,1199.38 1384.88,647.884 1626.85,876.775 1868.82,910.646 2110.79,923.312 2352.76,731.071 \n",
       "  \n",
       "  \"/>\n",
       "<polyline clip-path=\"url(#clip3502)\" style=\"stroke:#0000ff; stroke-width:4; stroke-opacity:1; fill:none\" points=\"\n",
       "  175.024,721.572 416.994,1108.32 658.964,816.214 900.935,707.198 1142.9,930.428 1384.88,776.284 1626.85,606.245 1868.82,511.546 2110.79,771.159 2352.76,384.621 \n",
       "  \n",
       "  \"/>\n",
       "<polyline clip-path=\"url(#clip3502)\" style=\"stroke:#0000ff; stroke-width:4; stroke-opacity:1; fill:none\" points=\"\n",
       "  175.024,256.934 416.994,362.363 658.964,694.42 900.935,787.187 1142.9,974.508 1384.88,542.299 1626.85,538.863 1868.82,627.571 2110.79,450.443 2352.76,649.623 \n",
       "  \n",
       "  \"/>\n",
       "<polyline clip-path=\"url(#clip3502)\" style=\"stroke:#0000ff; stroke-width:4; stroke-opacity:1; fill:none\" points=\"\n",
       "  175.024,537.717 416.994,880.033 658.964,685.343 900.935,719.836 1142.9,783.166 1384.88,755.388 1626.85,692.553 1868.82,663.485 2110.79,603.202 2352.76,341.312 \n",
       "  \n",
       "  \"/>\n",
       "<polyline clip-path=\"url(#clip3502)\" style=\"stroke:#0000ff; stroke-width:4; stroke-opacity:1; fill:none\" points=\"\n",
       "  175.024,279.27 416.994,510.03 658.964,524.413 900.935,423.145 1142.9,433.767 1384.88,593.066 1626.85,455.861 1868.82,565.454 2110.79,409.474 2352.76,452.182 \n",
       "  \n",
       "  \"/>\n",
       "<polyline clip-path=\"url(#clip3502)\" style=\"stroke:#0000ff; stroke-width:4; stroke-opacity:1; fill:none\" points=\"\n",
       "  175.024,47.2441 416.994,549.431 658.964,544.264 900.935,370.069 1142.9,461.915 1384.88,559.497 1626.85,333.318 1868.82,275.966 2110.79,216.118 2352.76,657.529 \n",
       "  \n",
       "  \"/>\n",
       "<polyline clip-path=\"url(#clip3502)\" style=\"stroke:#0000ff; stroke-width:4; stroke-opacity:1; fill:none\" points=\"\n",
       "  175.024,576.708 416.994,413.949 658.964,604.488 900.935,632.034 1142.9,741.602 1384.88,494.675 1626.85,293.409 1868.82,450.326 2110.79,696.327 2352.76,745.378 \n",
       "  \n",
       "  \"/>\n",
       "<polyline clip-path=\"url(#clip3502)\" style=\"stroke:#0000ff; stroke-width:4; stroke-opacity:1; fill:none\" points=\"\n",
       "  175.024,275.165 416.994,445.388 658.964,475.33 900.935,457.266 1142.9,567.487 1384.88,179.184 1626.85,353.615 1868.82,462.251 2110.79,182.779 2352.76,490.312 \n",
       "  \n",
       "  \"/>\n",
       "<polyline clip-path=\"url(#clip3502)\" style=\"stroke:#0000ff; stroke-width:4; stroke-opacity:1; fill:none\" points=\"\n",
       "  175.024,558.679 416.994,779.692 658.964,391.977 900.935,373.273 1142.9,442.16 1384.88,677.049 1626.85,530.663 1868.82,533.155 2110.79,806.49 2352.76,511.152 \n",
       "  \n",
       "  \"/>\n",
       "<polyline clip-path=\"url(#clip3502)\" style=\"stroke:#0000ff; stroke-width:4; stroke-opacity:1; fill:none\" points=\"\n",
       "  175.024,624.748 416.994,523.566 658.964,892.788 900.935,566.973 1142.9,1042.45 1384.88,666.314 1626.85,486.78 1868.82,657.215 2110.79,418.186 2352.76,275.544 \n",
       "  \n",
       "  \"/>\n",
       "<polyline clip-path=\"url(#clip3502)\" style=\"stroke:#0000ff; stroke-width:4; stroke-opacity:1; fill:none\" points=\"\n",
       "  175.024,353.635 416.994,503.512 658.964,512.644 900.935,353.658 1142.9,568.305 1384.88,629.205 1626.85,378.23 1868.82,758.218 2110.79,393.201 2352.76,381.125 \n",
       "  \n",
       "  \"/>\n",
       "<polyline clip-path=\"url(#clip3502)\" style=\"stroke:#0000ff; stroke-width:4; stroke-opacity:1; fill:none\" points=\"\n",
       "  175.024,485.657 416.994,866.663 658.964,567.922 900.935,542.778 1142.9,933.976 1384.88,537.785 1626.85,587.59 1868.82,522.956 2110.79,552.431 2352.76,255.904 \n",
       "  \n",
       "  \"/>\n",
       "<polyline clip-path=\"url(#clip3502)\" style=\"stroke:#0000ff; stroke-width:4; stroke-opacity:1; fill:none\" points=\"\n",
       "  175.024,415.299 416.994,547.7 658.964,520.384 900.935,552.64 1142.9,795.035 1384.88,382.738 1626.85,534.955 1868.82,286.472 2110.79,376.816 2352.76,486.285 \n",
       "  \n",
       "  \"/>\n",
       "<polyline clip-path=\"url(#clip3502)\" style=\"stroke:#0000ff; stroke-width:4; stroke-opacity:1; fill:none\" points=\"\n",
       "  175.024,330.201 416.994,516.434 658.964,523.78 900.935,360.954 1142.9,586.774 1384.88,681.94 1626.85,408.423 1868.82,745.606 2110.79,363.969 2352.76,385.731 \n",
       "  \n",
       "  \"/>\n",
       "<polyline clip-path=\"url(#clip3502)\" style=\"stroke:#0000ff; stroke-width:4; stroke-opacity:1; fill:none\" points=\"\n",
       "  175.024,912.034 416.994,793.98 658.964,1127.16 900.935,836.752 1142.9,1174.32 1384.88,928.394 1626.85,865.262 1868.82,1095.04 2110.79,993.241 2352.76,685.878 \n",
       "  \n",
       "  \"/>\n",
       "<polyline clip-path=\"url(#clip3502)\" style=\"stroke:#0000ff; stroke-width:4; stroke-opacity:1; fill:none\" points=\"\n",
       "  175.024,640.127 416.994,810.348 658.964,708.065 900.935,537.118 1142.9,884.68 1384.88,955.138 1626.85,492.048 1868.82,636.693 2110.79,673.5 2352.76,361.76 \n",
       "  \n",
       "  \"/>\n",
       "<polyline clip-path=\"url(#clip3502)\" style=\"stroke:#0000ff; stroke-width:4; stroke-opacity:1; fill:none\" points=\"\n",
       "  175.024,460.365 416.994,615.288 658.964,658.524 900.935,635.598 1142.9,607.607 1384.88,547.078 1626.85,406.101 1868.82,804.563 2110.79,510.392 2352.76,680.905 \n",
       "  \n",
       "  \"/>\n",
       "<polyline clip-path=\"url(#clip3502)\" style=\"stroke:#0000ff; stroke-width:4; stroke-opacity:1; fill:none\" points=\"\n",
       "  175.024,319.812 416.994,402.528 658.964,689.305 900.935,648.028 1142.9,789.585 1384.88,533.534 1626.85,301.081 1868.82,718.285 2110.79,438.667 2352.76,615.048 \n",
       "  \n",
       "  \"/>\n",
       "<polyline clip-path=\"url(#clip3502)\" style=\"stroke:#0000ff; stroke-width:4; stroke-opacity:1; fill:none\" points=\"\n",
       "  175.024,625.785 416.994,980.273 658.964,837.899 900.935,581.1 1142.9,779.947 1384.88,785.593 1626.85,561.181 1868.82,580.037 2110.79,680.977 2352.76,304.25 \n",
       "  \n",
       "  \"/>\n",
       "<polyline clip-path=\"url(#clip3502)\" style=\"stroke:#0000ff; stroke-width:4; stroke-opacity:1; fill:none\" points=\"\n",
       "  175.024,222.272 416.994,465.673 658.964,535.042 900.935,500.497 1142.9,499.97 1384.88,480.182 1626.85,255.802 1868.82,274.539 2110.79,318.488 2352.76,751.891 \n",
       "  \n",
       "  \"/>\n",
       "<polyline clip-path=\"url(#clip3502)\" style=\"stroke:#0000ff; stroke-width:4; stroke-opacity:1; fill:none\" points=\"\n",
       "  175.024,612.707 416.994,702.4 658.964,489.977 900.935,525.139 1142.9,765.18 1384.88,787.909 1626.85,675.855 1868.82,790.185 2110.79,844.102 2352.76,695.175 \n",
       "  \n",
       "  \"/>\n",
       "<polyline clip-path=\"url(#clip3502)\" style=\"stroke:#0000ff; stroke-width:4; stroke-opacity:1; fill:none\" points=\"\n",
       "  175.024,722.895 416.994,700.807 658.964,729.462 900.935,769.423 1142.9,910.73 1384.88,551.053 1626.85,737.704 1868.82,825.696 2110.79,706.242 2352.76,439.59 \n",
       "  \n",
       "  \"/>\n",
       "<polyline clip-path=\"url(#clip3502)\" style=\"stroke:#0000ff; stroke-width:4; stroke-opacity:1; fill:none\" points=\"\n",
       "  175.024,311.193 416.994,252.567 658.964,329.908 900.935,468.592 1142.9,600.418 1384.88,380.567 1626.85,254.253 1868.82,422.913 2110.79,205.305 2352.76,540.262 \n",
       "  \n",
       "  \"/>\n",
       "<polyline clip-path=\"url(#clip3502)\" style=\"stroke:#0000ff; stroke-width:4; stroke-opacity:1; fill:none\" points=\"\n",
       "  175.024,151.976 416.994,273.025 658.964,482.547 900.935,544.8 1142.9,648.734 1384.88,309.727 1626.85,229.913 1868.82,521.071 2110.79,168.428 2352.76,630.118 \n",
       "  \n",
       "  \"/>\n",
       "<polyline clip-path=\"url(#clip3502)\" style=\"stroke:#0000ff; stroke-width:4; stroke-opacity:1; fill:none\" points=\"\n",
       "  175.024,877.957 416.994,838.417 658.964,837.9 900.935,688.015 1142.9,986.691 1384.88,744.816 1626.85,770.938 1868.82,850.999 2110.79,1072.75 2352.76,630.068 \n",
       "  \n",
       "  \"/>\n",
       "<polyline clip-path=\"url(#clip3502)\" style=\"stroke:#0000ff; stroke-width:4; stroke-opacity:1; fill:none\" points=\"\n",
       "  175.024,545.905 416.994,602.211 658.964,833.829 900.935,796.302 1142.9,1022.15 1384.88,579.874 1626.85,674.336 1868.82,625.418 2110.79,737.67 2352.76,713.595 \n",
       "  \n",
       "  \"/>\n",
       "<polyline clip-path=\"url(#clip3502)\" style=\"stroke:#0000ff; stroke-width:4; stroke-opacity:1; fill:none\" points=\"\n",
       "  175.024,662.732 416.994,513.166 658.964,414.491 900.935,548.884 1142.9,618.46 1384.88,412.975 1626.85,567.662 1868.82,546.696 2110.79,675.185 2352.76,479.067 \n",
       "  \n",
       "  \"/>\n",
       "<polyline clip-path=\"url(#clip3502)\" style=\"stroke:#0000ff; stroke-width:4; stroke-opacity:1; fill:none\" points=\"\n",
       "  175.024,594.74 416.994,1024.8 658.964,860.323 900.935,589.926 1142.9,783.745 1384.88,774.777 1626.85,497.384 1868.82,510.976 2110.79,693.799 2352.76,325.647 \n",
       "  \n",
       "  \"/>\n",
       "<polyline clip-path=\"url(#clip3502)\" style=\"stroke:#0000ff; stroke-width:4; stroke-opacity:1; fill:none\" points=\"\n",
       "  175.024,438.388 416.994,308.535 658.964,577.894 900.935,527.119 1142.9,645.949 1384.88,442.402 1626.85,443.952 1868.82,464.04 2110.79,399.536 2352.76,657.159 \n",
       "  \n",
       "  \"/>\n",
       "<polyline clip-path=\"url(#clip3502)\" style=\"stroke:#0000ff; stroke-width:4; stroke-opacity:1; fill:none\" points=\"\n",
       "  175.024,453.899 416.994,910.876 658.964,774.086 900.935,534.306 1142.9,787.877 1384.88,866.201 1626.85,665.161 1868.82,780.241 2110.79,497.978 2352.76,217.116 \n",
       "  \n",
       "  \"/>\n",
       "<polyline clip-path=\"url(#clip3502)\" style=\"stroke:#0000ff; stroke-width:4; stroke-opacity:1; fill:none\" points=\"\n",
       "  175.024,700.532 416.994,763.065 658.964,638.515 900.935,756.176 1142.9,855.62 1384.88,681.305 1626.85,480.806 1868.82,848.523 2110.79,649.571 2352.76,383.694 \n",
       "  \n",
       "  \"/>\n",
       "<polyline clip-path=\"url(#clip3502)\" style=\"stroke:#0000ff; stroke-width:4; stroke-opacity:1; fill:none\" points=\"\n",
       "  175.024,399.269 416.994,523.982 658.964,751.242 900.935,648.125 1142.9,928.038 1384.88,674.581 1626.85,487.13 1868.82,417.501 2110.79,334.21 2352.76,396.209 \n",
       "  \n",
       "  \"/>\n",
       "<polyline clip-path=\"url(#clip3502)\" style=\"stroke:#0000ff; stroke-width:4; stroke-opacity:1; fill:none\" points=\"\n",
       "  175.024,651.001 416.994,675.753 658.964,646.645 900.935,525.955 1142.9,333.307 1384.88,904.168 1626.85,651.051 1868.82,726.452 2110.79,900.422 2352.76,637.243 \n",
       "  \n",
       "  \"/>\n",
       "<polyline clip-path=\"url(#clip3502)\" style=\"stroke:#ffa500; stroke-width:4; stroke-opacity:1; fill:none\" points=\"\n",
       "  175.024,489.076 416.994,176.414 658.964,648.028 900.935,651.601 1142.9,814.066 1384.88,497.946 1626.85,472.403 1868.82,635.054 2110.79,460.581 2352.76,632.36 \n",
       "  \n",
       "  \"/>\n",
       "<polyline clip-path=\"url(#clip3502)\" style=\"stroke:#ffa500; stroke-width:4; stroke-opacity:1; fill:none\" points=\"\n",
       "  175.024,528.049 416.994,898.129 658.964,479.097 900.935,637.306 1142.9,704.615 1384.88,661.788 1626.85,447.637 1868.82,804.804 2110.79,685.475 2352.76,240.633 \n",
       "  \n",
       "  \"/>\n",
       "<polyline clip-path=\"url(#clip3502)\" style=\"stroke:#ffa500; stroke-width:4; stroke-opacity:1; fill:none\" points=\"\n",
       "  175.024,415.094 416.994,661.788 658.964,694.662 900.935,495.123 1142.9,1016.87 1384.88,605.429 1626.85,503.226 1868.82,704.377 2110.79,445.834 2352.76,298.976 \n",
       "  \n",
       "  \"/>\n",
       "<polyline clip-path=\"url(#clip3502)\" style=\"stroke:#ffa500; stroke-width:4; stroke-opacity:1; fill:none\" points=\"\n",
       "  175.024,656.866 416.994,1019.51 658.964,816.035 900.935,662.493 1142.9,848.117 1384.88,710.571 1626.85,548.31 1868.82,461.476 2110.79,714.3 2352.76,358.762 \n",
       "  \n",
       "  \"/>\n",
       "<polyline clip-path=\"url(#clip3502)\" style=\"stroke:#ffa500; stroke-width:4; stroke-opacity:1; fill:none\" points=\"\n",
       "  175.024,421.278 416.994,900.946 658.964,803.522 900.935,650.458 1142.9,871.476 1384.88,672.326 1626.85,696.49 1868.82,538.197 2110.79,495.067 2352.76,366.819 \n",
       "  \n",
       "  \"/>\n",
       "<polyline clip-path=\"url(#clip3502)\" style=\"stroke:#ffa500; stroke-width:4; stroke-opacity:1; fill:none\" points=\"\n",
       "  175.024,446.481 416.994,528.588 658.964,324.245 900.935,541.958 1142.9,542.49 1384.88,156.081 1626.85,475.488 1868.82,475.145 2110.79,416.879 2352.76,440.037 \n",
       "  \n",
       "  \"/>\n",
       "<polyline clip-path=\"url(#clip3502)\" style=\"stroke:#ffa500; stroke-width:4; stroke-opacity:1; fill:none\" points=\"\n",
       "  175.024,573.251 416.994,640.561 658.964,745.816 900.935,325.051 1142.9,509.792 1384.88,960.239 1626.85,562.271 1868.82,449.297 2110.79,775.717 2352.76,483.108 \n",
       "  \n",
       "  \"/>\n",
       "<polyline clip-path=\"url(#clip3502)\" style=\"stroke:#ffa500; stroke-width:4; stroke-opacity:1; fill:none\" points=\"\n",
       "  175.024,642.662 416.994,595.03 658.964,891.432 900.935,367.148 1142.9,765.801 1384.88,761.043 1626.85,335.349 1868.82,540.807 2110.79,345.491 2352.76,485.067 \n",
       "  \n",
       "  \"/>\n",
       "<polyline clip-path=\"url(#clip3502)\" style=\"stroke:#ffa500; stroke-width:4; stroke-opacity:1; fill:none\" points=\"\n",
       "  175.024,281.619 416.994,437.62 658.964,453.583 900.935,541.112 1142.9,527.638 1384.88,507.842 1626.85,142.201 1868.82,528.842 2110.79,353.599 2352.76,486.653 \n",
       "  \n",
       "  \"/>\n",
       "<polyline clip-path=\"url(#clip3502)\" style=\"stroke:#ffa500; stroke-width:4; stroke-opacity:1; fill:none\" points=\"\n",
       "  175.024,239.06 416.994,434.807 658.964,403.982 900.935,370.895 1142.9,535.083 1384.88,171.174 1626.85,267.916 1868.82,447.38 2110.79,97.3289 2352.76,490.092 \n",
       "  \n",
       "  \"/>\n",
       "<polyline clip-path=\"url(#clip3502)\" style=\"stroke:#ffa500; stroke-width:4; stroke-opacity:1; fill:none\" points=\"\n",
       "  175.024,552.689 416.994,729.444 658.964,466.947 900.935,582.615 1142.9,284.446 1384.88,742.517 1626.85,590.105 1868.82,619.996 2110.79,909.518 2352.76,774.427 \n",
       "  \n",
       "  \"/>\n",
       "<polyline clip-path=\"url(#clip3502)\" style=\"stroke:#ffa500; stroke-width:4; stroke-opacity:1; fill:none\" points=\"\n",
       "  175.024,465.777 416.994,539.562 658.964,760.252 900.935,88.0774 1142.9,512.661 1384.88,714.757 1626.85,433.091 1868.82,568.874 2110.79,658.771 2352.76,497.907 \n",
       "  \n",
       "  \"/>\n",
       "<polyline clip-path=\"url(#clip3502)\" style=\"stroke:#ffa500; stroke-width:4; stroke-opacity:1; fill:none\" points=\"\n",
       "  175.024,194.995 416.994,662.552 658.964,640.95 900.935,420.7 1142.9,549.967 1384.88,444.686 1626.85,284.896 1868.82,164.088 2110.79,544.055 2352.76,516.066 \n",
       "  \n",
       "  \"/>\n",
       "<polyline clip-path=\"url(#clip3502)\" style=\"stroke:#ffa500; stroke-width:4; stroke-opacity:1; fill:none\" points=\"\n",
       "  175.024,379.695 416.994,387.802 658.964,183.836 900.935,472.953 1142.9,495.485 1384.88,226.048 1626.85,310.383 1868.82,360.952 2110.79,435.827 2352.76,540.224 \n",
       "  \n",
       "  \"/>\n",
       "<polyline clip-path=\"url(#clip3502)\" style=\"stroke:#ffa500; stroke-width:4; stroke-opacity:1; fill:none\" points=\"\n",
       "  175.024,632.116 416.994,908.984 658.964,709.035 900.935,519.174 1142.9,822.783 1384.88,801.164 1626.85,582.808 1868.82,761.331 2110.79,628.607 2352.76,119.066 \n",
       "  \n",
       "  \"/>\n",
       "<polyline clip-path=\"url(#clip3502)\" style=\"stroke:#ffa500; stroke-width:4; stroke-opacity:1; fill:none\" points=\"\n",
       "  175.024,613.4 416.994,856.375 658.964,424.519 900.935,375.381 1142.9,444.281 1384.88,744.971 1626.85,569.767 1868.82,625.805 2110.79,885.853 2352.76,532.053 \n",
       "  \n",
       "  \"/>\n",
       "<polyline clip-path=\"url(#clip3502)\" style=\"stroke:#ffa500; stroke-width:4; stroke-opacity:1; fill:none\" points=\"\n",
       "  175.024,632.838 416.994,752.862 658.964,788.767 900.935,568.5 1142.9,904.728 1384.88,750.298 1626.85,590.52 1868.82,752.146 2110.79,467.205 2352.76,179.253 \n",
       "  \n",
       "  \"/>\n",
       "<polyline clip-path=\"url(#clip3502)\" style=\"stroke:#ffa500; stroke-width:4; stroke-opacity:1; fill:none\" points=\"\n",
       "  175.024,651.001 416.994,675.753 658.964,646.645 900.935,525.955 1142.9,333.307 1384.88,904.168 1626.85,651.051 1868.82,726.452 2110.79,900.422 2352.76,637.243 \n",
       "  \n",
       "  \"/>\n",
       "<polyline clip-path=\"url(#clip3502)\" style=\"stroke:#ffa500; stroke-width:4; stroke-opacity:1; fill:none\" points=\"\n",
       "  175.024,453.899 416.994,910.876 658.964,774.086 900.935,534.306 1142.9,787.877 1384.88,866.201 1626.85,665.161 1868.82,780.241 2110.79,497.978 2352.76,217.116 \n",
       "  \n",
       "  \"/>\n",
       "<polyline clip-path=\"url(#clip3502)\" style=\"stroke:#ffa500; stroke-width:4; stroke-opacity:1; fill:none\" points=\"\n",
       "  175.024,47.2441 416.994,549.431 658.964,544.264 900.935,370.069 1142.9,461.915 1384.88,559.497 1626.85,333.318 1868.82,275.966 2110.79,216.118 2352.76,657.529 \n",
       "  \n",
       "  \"/>\n",
       "<polyline clip-path=\"url(#clip3502)\" style=\"stroke:#ffa500; stroke-width:4; stroke-opacity:1; fill:none\" points=\"\n",
       "  175.024,808.861 416.994,672.808 658.964,561.401 900.935,220.55 1142.9,548.061 1384.88,611.26 1626.85,596.7 1868.82,726.164 2110.79,865.331 2352.76,767.053 \n",
       "  \n",
       "  \"/>\n",
       "<polyline clip-path=\"url(#clip3502)\" style=\"stroke:#ffa500; stroke-width:4; stroke-opacity:1; fill:none\" points=\"\n",
       "  175.024,808.861 416.994,672.808 658.964,561.401 900.935,220.55 1142.9,548.061 1384.88,611.26 1626.85,596.7 1868.82,726.164 2110.79,865.331 2352.76,767.053 \n",
       "  \n",
       "  \"/>\n",
       "<polyline clip-path=\"url(#clip3502)\" style=\"stroke:#ffa500; stroke-width:4; stroke-opacity:1; fill:none\" points=\"\n",
       "  175.024,332.986 416.994,614.324 658.964,621.687 900.935,523.014 1142.9,947.233 1384.88,639.941 1626.85,502.832 1868.82,494.952 2110.79,604.148 2352.76,311.027 \n",
       "  \n",
       "  \"/>\n",
       "<polyline clip-path=\"url(#clip3502)\" style=\"stroke:#ffa500; stroke-width:4; stroke-opacity:1; fill:none\" points=\"\n",
       "  175.024,540.348 416.994,779.016 658.964,640.807 900.935,484.64 1142.9,808.494 1384.88,842.969 1626.85,447.838 1868.82,578.825 2110.79,583.597 2352.76,341.121 \n",
       "  \n",
       "  \"/>\n",
       "<polyline clip-path=\"url(#clip3502)\" style=\"stroke:#ffa500; stroke-width:4; stroke-opacity:1; fill:none\" points=\"\n",
       "  175.024,94.3323 416.994,402.944 658.964,547.76 900.935,729.18 1142.9,675.174 1384.88,541.801 1626.85,301.43 1868.82,478.571 2110.79,354.691 2352.76,735.714 \n",
       "  \n",
       "  \"/>\n",
       "<polyline clip-path=\"url(#clip3502)\" style=\"stroke:#ffa500; stroke-width:4; stroke-opacity:1; fill:none\" points=\"\n",
       "  175.024,652.936 416.994,816.893 658.964,418.545 900.935,578.81 1142.9,756.038 1384.88,487.111 1626.85,620.997 1868.82,637.673 2110.79,657.656 2352.76,370.823 \n",
       "  \n",
       "  \"/>\n",
       "<polyline clip-path=\"url(#clip3502)\" style=\"stroke:#ffa500; stroke-width:4; stroke-opacity:1; fill:none\" points=\"\n",
       "  175.024,550.771 416.994,615.32 658.964,509.762 900.935,594.966 1142.9,298.027 1384.88,733.521 1626.85,594.887 1868.82,647.028 2110.79,788.304 2352.76,609.427 \n",
       "  \n",
       "  \"/>\n",
       "<polyline clip-path=\"url(#clip3502)\" style=\"stroke:#ffa500; stroke-width:4; stroke-opacity:1; fill:none\" points=\"\n",
       "  175.024,474.921 416.994,393.963 658.964,237.55 900.935,470.148 1142.9,536.436 1384.88,226.237 1626.85,338.978 1868.82,420.309 2110.79,442.335 2352.76,598.826 \n",
       "  \n",
       "  \"/>\n",
       "<polyline clip-path=\"url(#clip3502)\" style=\"stroke:#ffa500; stroke-width:4; stroke-opacity:1; fill:none\" points=\"\n",
       "  175.024,514.127 416.994,700.813 658.964,637.883 900.935,250.736 1142.9,417.823 1384.88,689.005 1626.85,435.959 1868.82,529.664 2110.79,681.584 2352.76,590.28 \n",
       "  \n",
       "  \"/>\n",
       "<polyline clip-path=\"url(#clip3502)\" style=\"stroke:#ffa500; stroke-width:4; stroke-opacity:1; fill:none\" points=\"\n",
       "  175.024,450.383 416.994,520.401 658.964,593.065 900.935,579.835 1142.9,634.584 1384.88,888.341 1626.85,275.944 1868.82,678.331 2110.79,383.964 2352.76,411.838 \n",
       "  \n",
       "  \"/>\n",
       "<polyline clip-path=\"url(#clip3502)\" style=\"stroke:#ffa500; stroke-width:4; stroke-opacity:1; fill:none\" points=\"\n",
       "  175.024,298.552 416.994,713.011 658.964,709.362 900.935,529.772 1142.9,947.627 1384.88,743.86 1626.85,639.998 1868.82,342.748 2110.79,523.782 2352.76,420.276 \n",
       "  \n",
       "  \"/>\n",
       "<polyline clip-path=\"url(#clip3502)\" style=\"stroke:#ffa500; stroke-width:4; stroke-opacity:1; fill:none\" points=\"\n",
       "  175.024,61.98 416.994,406.021 658.964,505.731 900.935,711.411 1142.9,636.244 1384.88,476.38 1626.85,359.72 1868.82,408.172 2110.79,324.003 2352.76,704.251 \n",
       "  \n",
       "  \"/>\n",
       "<polyline clip-path=\"url(#clip3502)\" style=\"stroke:#ffa500; stroke-width:4; stroke-opacity:1; fill:none\" points=\"\n",
       "  175.024,623.148 416.994,661.199 658.964,724.686 900.935,383.338 1142.9,586.981 1384.88,818.44 1626.85,343.161 1868.82,594.439 2110.79,467.074 2352.76,444.803 \n",
       "  \n",
       "  \"/>\n",
       "<polyline clip-path=\"url(#clip3502)\" style=\"stroke:#ffa500; stroke-width:4; stroke-opacity:1; fill:none\" points=\"\n",
       "  175.024,660.295 416.994,507.037 658.964,470.273 900.935,180.14 1142.9,472.208 1384.88,719.91 1626.85,520.499 1868.82,471.497 2110.79,678.548 2352.76,497.885 \n",
       "  \n",
       "  \"/>\n",
       "<polyline clip-path=\"url(#clip3502)\" style=\"stroke:#ffa500; stroke-width:4; stroke-opacity:1; fill:none\" points=\"\n",
       "  175.024,122.105 416.994,579.094 658.964,530.491 900.935,430.573 1142.9,494.116 1384.88,580.801 1626.85,329.155 1868.82,313.391 2110.79,303.724 2352.76,685.271 \n",
       "  \n",
       "  \"/>\n",
       "<polyline clip-path=\"url(#clip3502)\" style=\"stroke:#ffa500; stroke-width:4; stroke-opacity:1; fill:none\" points=\"\n",
       "  175.024,147.858 416.994,477.855 658.964,566.105 900.935,673.891 1142.9,737.143 1384.88,437.667 1626.85,322.583 1868.82,559.474 2110.79,319.295 2352.76,662.793 \n",
       "  \n",
       "  \"/>\n",
       "<polyline clip-path=\"url(#clip3502)\" style=\"stroke:#ffa500; stroke-width:4; stroke-opacity:1; fill:none\" points=\"\n",
       "  175.024,185.534 416.994,359.896 658.964,385.636 900.935,426.184 1142.9,473.115 1384.88,275.308 1626.85,246.763 1868.82,366.476 2110.79,132.724 2352.76,563.013 \n",
       "  \n",
       "  \"/>\n",
       "<polyline clip-path=\"url(#clip3502)\" style=\"stroke:#ffa500; stroke-width:4; stroke-opacity:1; fill:none\" points=\"\n",
       "  175.024,488.773 416.994,228.338 658.964,760.696 900.935,801.226 1142.9,991.642 1384.88,585.382 1626.85,524.103 1868.82,669.631 2110.79,508.196 2352.76,660.025 \n",
       "  \n",
       "  \"/>\n",
       "<polyline clip-path=\"url(#clip3502)\" style=\"stroke:#ffa500; stroke-width:4; stroke-opacity:1; fill:none\" points=\"\n",
       "  175.024,235.841 416.994,286.7 658.964,413.565 900.935,316.449 1142.9,466.623 1384.88,382.169 1626.85,219.154 1868.82,421.526 2110.79,137.662 2352.76,531.549 \n",
       "  \n",
       "  \"/>\n",
       "<polyline clip-path=\"url(#clip3502)\" style=\"stroke:#ffa500; stroke-width:4; stroke-opacity:1; fill:none\" points=\"\n",
       "  175.024,275.454 416.994,396.257 658.964,377.161 900.935,501.405 1142.9,476.96 1384.88,290.355 1626.85,425.44 1868.82,294.141 2110.79,320.904 2352.76,693.013 \n",
       "  \n",
       "  \"/>\n",
       "<polyline clip-path=\"url(#clip3502)\" style=\"stroke:#ffa500; stroke-width:4; stroke-opacity:1; fill:none\" points=\"\n",
       "  175.024,265.18 416.994,502.457 658.964,502.708 900.935,430.243 1142.9,483.996 1384.88,524.215 1626.85,338.469 1868.82,500.111 2110.79,393.317 2352.76,390.042 \n",
       "  \n",
       "  \"/>\n",
       "<polyline clip-path=\"url(#clip3502)\" style=\"stroke:#ffa500; stroke-width:4; stroke-opacity:1; fill:none\" points=\"\n",
       "  175.024,217.357 416.994,502.751 658.964,571.095 900.935,473.187 1142.9,451.318 1384.88,656.151 1626.85,204.213 1868.82,219.827 2110.79,385.914 2352.76,549.887 \n",
       "  \n",
       "  \"/>\n",
       "<polyline clip-path=\"url(#clip3502)\" style=\"stroke:#ffa500; stroke-width:4; stroke-opacity:1; fill:none\" points=\"\n",
       "  175.024,589.594 416.994,824.377 658.964,577.007 900.935,416.658 1142.9,732.028 1384.88,717.65 1626.85,526.559 1868.82,800.482 2110.79,657.149 2352.76,127.042 \n",
       "  \n",
       "  \"/>\n",
       "<polyline clip-path=\"url(#clip3502)\" style=\"stroke:#ffa500; stroke-width:4; stroke-opacity:1; fill:none\" points=\"\n",
       "  175.024,454.647 416.994,852.578 658.964,552.917 900.935,454.067 1142.9,661.148 1384.88,732.598 1626.85,543.428 1868.82,759.857 2110.79,589.313 2352.76,136.006 \n",
       "  \n",
       "  \"/>\n",
       "<polyline clip-path=\"url(#clip3502)\" style=\"stroke:#ffa500; stroke-width:4; stroke-opacity:1; fill:none\" points=\"\n",
       "  175.024,536.473 416.994,470.276 658.964,613.8 900.935,105.874 1142.9,573.984 1384.88,665.774 1626.85,442.952 1868.82,575.158 2110.79,607.004 2352.76,541.359 \n",
       "  \n",
       "  \"/>\n",
       "<polyline clip-path=\"url(#clip3502)\" style=\"stroke:#ffa500; stroke-width:4; stroke-opacity:1; fill:none\" points=\"\n",
       "  175.024,510.168 416.994,819.56 658.964,653.602 900.935,523.949 1142.9,713.363 1384.88,687.26 1626.85,511.33 1868.82,665.488 2110.79,475.436 2352.76,137.377 \n",
       "  \n",
       "  \"/>\n",
       "<polyline clip-path=\"url(#clip3502)\" style=\"stroke:#ffa500; stroke-width:4; stroke-opacity:1; fill:none\" points=\"\n",
       "  175.024,164.476 416.994,370.652 658.964,505.63 900.935,343.702 1142.9,459.019 1384.88,577.537 1626.85,266.05 1868.82,208.633 2110.79,260.217 2352.76,556.756 \n",
       "  \n",
       "  \"/>\n",
       "<polyline clip-path=\"url(#clip3502)\" style=\"stroke:#ffa500; stroke-width:4; stroke-opacity:1; fill:none\" points=\"\n",
       "  175.024,72.3834 416.994,533.834 658.964,397.854 900.935,610.439 1142.9,374.013 1384.88,471.652 1626.85,230.542 1868.82,417.617 2110.79,272.762 2352.76,557.271 \n",
       "  \n",
       "  \"/>\n",
       "<polyline clip-path=\"url(#clip3502)\" style=\"stroke:#ffa500; stroke-width:4; stroke-opacity:1; fill:none\" points=\"\n",
       "  175.024,235.843 416.994,304.649 658.964,485.156 900.935,300.151 1142.9,506.845 1384.88,542.897 1626.85,197.845 1868.82,262.867 2110.79,249.089 2352.76,522.938 \n",
       "  \n",
       "  \"/>\n",
       "<polyline clip-path=\"url(#clip3502)\" style=\"stroke:#ffa500; stroke-width:4; stroke-opacity:1; fill:none\" points=\"\n",
       "  175.024,490.11 416.994,215.57 658.964,629.209 900.935,442.623 1142.9,668.47 1384.88,476.444 1626.85,438.794 1868.82,423.711 2110.79,452.888 2352.76,519.433 \n",
       "  \n",
       "  \"/>\n",
       "<polyline clip-path=\"url(#clip3502)\" style=\"stroke:#ffa500; stroke-width:4; stroke-opacity:1; fill:none\" points=\"\n",
       "  175.024,433.363 416.994,326.28 658.964,316.965 900.935,450.188 1142.9,467.205 1384.88,280.098 1626.85,442.946 1868.82,342.383 2110.79,406.533 2352.76,639.891 \n",
       "  \n",
       "  \"/>\n",
       "<polyline clip-path=\"url(#clip3502)\" style=\"stroke:#ffa500; stroke-width:4; stroke-opacity:1; fill:none\" points=\"\n",
       "  175.024,553.633 416.994,678.672 658.964,496.298 900.935,452.702 1142.9,776.261 1384.88,577.937 1626.85,428.147 1868.82,771.993 2110.79,545.468 2352.76,184.63 \n",
       "  \n",
       "  \"/>\n",
       "<polyline clip-path=\"url(#clip3502)\" style=\"stroke:#ffa500; stroke-width:4; stroke-opacity:1; fill:none\" points=\"\n",
       "  175.024,412.574 416.994,432.964 658.964,747.384 900.935,464.226 1142.9,842.222 1384.88,651.951 1626.85,466.337 1868.82,628.981 2110.79,313.384 2352.76,240.16 \n",
       "  \n",
       "  \"/>\n",
       "<polyline clip-path=\"url(#clip3502)\" style=\"stroke:#ffa500; stroke-width:4; stroke-opacity:1; fill:none\" points=\"\n",
       "  175.024,382.601 416.994,513.299 658.964,469.834 900.935,513.416 1142.9,374.464 1384.88,453.187 1626.85,256.727 1868.82,606.902 2110.79,440.96 2352.76,559.627 \n",
       "  \n",
       "  \"/>\n",
       "<polyline clip-path=\"url(#clip3502)\" style=\"stroke:#ffa500; stroke-width:4; stroke-opacity:1; fill:none\" points=\"\n",
       "  175.024,81.3609 416.994,422.129 658.964,567.289 900.935,267.635 1142.9,458.391 1384.88,571.23 1626.85,275.377 1868.82,341.696 2110.79,293.876 2352.76,507.146 \n",
       "  \n",
       "  \"/>\n",
       "<polyline clip-path=\"url(#clip3502)\" style=\"stroke:#ffa500; stroke-width:4; stroke-opacity:1; fill:none\" points=\"\n",
       "  175.024,466.862 416.994,666.888 658.964,438.225 900.935,263.524 1142.9,556.985 1384.88,834.401 1626.85,508.734 1868.82,566.239 2110.79,635.794 2352.76,506.657 \n",
       "  \n",
       "  \"/>\n",
       "<polyline clip-path=\"url(#clip3502)\" style=\"stroke:#ffa500; stroke-width:4; stroke-opacity:1; fill:none\" points=\"\n",
       "  175.024,226.818 416.994,265.135 658.964,463.773 900.935,545.788 1142.9,687.776 1384.88,365.861 1626.85,188.351 1868.82,581.429 2110.79,309.211 2352.76,623.417 \n",
       "  \n",
       "  \"/>\n",
       "<polyline clip-path=\"url(#clip3502)\" style=\"stroke:#ffa500; stroke-width:4; stroke-opacity:1; fill:none\" points=\"\n",
       "  175.024,174.962 416.994,393.556 658.964,585.602 900.935,325.449 1142.9,492.316 1384.88,593.27 1626.85,339.196 1868.82,255.488 2110.79,341.115 2352.76,502.184 \n",
       "  \n",
       "  \"/>\n",
       "<polyline clip-path=\"url(#clip3502)\" style=\"stroke:#ffa500; stroke-width:4; stroke-opacity:1; fill:none\" points=\"\n",
       "  175.024,522.257 416.994,513.164 658.964,417.12 900.935,583.287 1142.9,595.308 1384.88,158.701 1626.85,509.127 1868.82,512.553 2110.79,429.222 2352.76,565.385 \n",
       "  \n",
       "  \"/>\n",
       "<polyline clip-path=\"url(#clip3502)\" style=\"stroke:#ffa500; stroke-width:4; stroke-opacity:1; fill:none\" points=\"\n",
       "  175.024,166.821 416.994,469.814 658.964,515.665 900.935,391.339 1142.9,514.145 1384.88,614.767 1626.85,388.614 1868.82,700.731 2110.79,302.56 2352.76,265.831 \n",
       "  \n",
       "  \"/>\n",
       "<polyline clip-path=\"url(#clip3502)\" style=\"stroke:#ffa500; stroke-width:4; stroke-opacity:1; fill:none\" points=\"\n",
       "  175.024,319.725 416.994,426.371 658.964,437.092 900.935,524.464 1142.9,488.028 1384.88,434.313 1626.85,492.011 1868.82,347.345 2110.79,373.14 2352.76,668.734 \n",
       "  \n",
       "  \"/>\n",
       "<polyline clip-path=\"url(#clip3502)\" style=\"stroke:#ffa500; stroke-width:4; stroke-opacity:1; fill:none\" points=\"\n",
       "  175.024,252.391 416.994,265.428 658.964,453.711 900.935,312.918 1142.9,511.917 1384.88,512.117 1626.85,180.372 1868.82,307.932 2110.79,227.372 2352.76,487.452 \n",
       "  \n",
       "  \"/>\n",
       "<polyline clip-path=\"url(#clip3502)\" style=\"stroke:#ffa500; stroke-width:4; stroke-opacity:1; fill:none\" points=\"\n",
       "  175.024,575.229 416.994,910.218 658.964,491.633 900.935,592.4 1142.9,709.75 1384.88,506.957 1626.85,644.025 1868.82,746.37 2110.79,675.405 2352.76,273.925 \n",
       "  \n",
       "  \"/>\n",
       "<polyline clip-path=\"url(#clip3502)\" style=\"stroke:#ffa500; stroke-width:4; stroke-opacity:1; fill:none\" points=\"\n",
       "  175.024,208.955 416.994,601.594 658.964,407.285 900.935,378.251 1142.9,471.112 1384.88,673.527 1626.85,448.039 1868.82,663.214 2110.79,355.971 2352.76,294.607 \n",
       "  \n",
       "  \"/>\n",
       "<polyline clip-path=\"url(#clip3502)\" style=\"stroke:#ffa500; stroke-width:4; stroke-opacity:1; fill:none\" points=\"\n",
       "  175.024,412.796 416.994,399.245 658.964,281.838 900.935,397.581 1142.9,472.063 1384.88,290.443 1626.85,288.051 1868.82,469.81 2110.79,421.833 2352.76,565.712 \n",
       "  \n",
       "  \"/>\n",
       "<polyline clip-path=\"url(#clip3502)\" style=\"stroke:#ffa500; stroke-width:4; stroke-opacity:1; fill:none\" points=\"\n",
       "  175.024,638.059 416.994,736.094 658.964,368.232 900.935,566.653 1142.9,787.071 1384.88,560.87 1626.85,549.732 1868.82,650.054 2110.79,632.607 2352.76,329.082 \n",
       "  \n",
       "  \"/>\n",
       "<polyline clip-path=\"url(#clip3502)\" style=\"stroke:#ffa500; stroke-width:4; stroke-opacity:1; fill:none\" points=\"\n",
       "  175.024,144.579 416.994,467.062 658.964,432.03 900.935,653.377 1142.9,463.576 1384.88,552.412 1626.85,168.853 1868.82,537.214 2110.79,262.257 2352.76,571.719 \n",
       "  \n",
       "  \"/>\n",
       "<polyline clip-path=\"url(#clip3502)\" style=\"stroke:#ffa500; stroke-width:4; stroke-opacity:1; fill:none\" points=\"\n",
       "  175.024,387.691 416.994,381.082 658.964,518.041 900.935,444.508 1142.9,562.109 1384.88,459.225 1626.85,217.793 1868.82,436.682 2110.79,286.778 2352.76,703.822 \n",
       "  \n",
       "  \"/>\n",
       "<polyline clip-path=\"url(#clip3502)\" style=\"stroke:#ffa500; stroke-width:4; stroke-opacity:1; fill:none\" points=\"\n",
       "  175.024,573.251 416.994,640.561 658.964,745.816 900.935,325.051 1142.9,509.792 1384.88,960.239 1626.85,562.271 1868.82,449.297 2110.79,775.717 2352.76,483.108 \n",
       "  \n",
       "  \"/>\n",
       "<polyline clip-path=\"url(#clip3502)\" style=\"stroke:#ffa500; stroke-width:4; stroke-opacity:1; fill:none\" points=\"\n",
       "  175.024,428.944 416.994,836.328 658.964,681.045 900.935,584.291 1142.9,996.059 1384.88,641.295 1626.85,579.918 1868.82,511.52 2110.79,495.582 2352.76,329.97 \n",
       "  \n",
       "  \"/>\n",
       "<polyline clip-path=\"url(#clip3502)\" style=\"stroke:#ffa500; stroke-width:4; stroke-opacity:1; fill:none\" points=\"\n",
       "  175.024,399.876 416.994,540.501 658.964,664.157 900.935,606.427 1142.9,788.551 1384.88,854.338 1626.85,348.281 1868.82,542.526 2110.79,337.481 2352.76,333.862 \n",
       "  \n",
       "  \"/>\n",
       "<polyline clip-path=\"url(#clip3502)\" style=\"stroke:#ffa500; stroke-width:4; stroke-opacity:1; fill:none\" points=\"\n",
       "  175.024,155.589 416.994,334.87 658.964,430.986 900.935,661.957 1142.9,822.665 1384.88,269.251 1626.85,357.535 1868.82,589.641 2110.79,187.735 2352.76,614.309 \n",
       "  \n",
       "  \"/>\n",
       "<polyline clip-path=\"url(#clip3502)\" style=\"stroke:#ffa500; stroke-width:4; stroke-opacity:1; fill:none\" points=\"\n",
       "  175.024,240.022 416.994,253.233 658.964,292.919 900.935,378.358 1142.9,514.629 1384.88,218.704 1626.85,225.652 1868.82,264.163 2110.79,259.108 2352.76,461.104 \n",
       "  \n",
       "  \"/>\n",
       "<polyline clip-path=\"url(#clip3502)\" style=\"stroke:#ffa500; stroke-width:4; stroke-opacity:1; fill:none\" points=\"\n",
       "  175.024,347.398 416.994,566.501 658.964,425.521 900.935,540.341 1142.9,685.524 1384.88,232.884 1626.85,468.353 1868.82,399.07 2110.79,317.604 2352.76,460.919 \n",
       "  \n",
       "  \"/>\n",
       "<polyline clip-path=\"url(#clip3502)\" style=\"stroke:#ffa500; stroke-width:4; stroke-opacity:1; fill:none\" points=\"\n",
       "  175.024,321.184 416.994,633.525 658.964,445.32 900.935,363.633 1142.9,725.936 1384.88,755.255 1626.85,521.073 1868.82,456.857 2110.79,513.407 2352.76,460.69 \n",
       "  \n",
       "  \"/>\n",
       "<polyline clip-path=\"url(#clip3502)\" style=\"stroke:#ffa500; stroke-width:4; stroke-opacity:1; fill:none\" points=\"\n",
       "  175.024,335.446 416.994,561.66 658.964,783.819 900.935,454.876 1142.9,774.858 1384.88,627.318 1626.85,398.115 1868.82,415.238 2110.79,425.242 2352.76,450.344 \n",
       "  \n",
       "  \"/>\n",
       "<polyline clip-path=\"url(#clip3502)\" style=\"stroke:#ffa500; stroke-width:4; stroke-opacity:1; fill:none\" points=\"\n",
       "  175.024,190.268 416.994,474.179 658.964,522.771 900.935,544.035 1142.9,432.772 1384.88,638.789 1626.85,211.359 1868.82,551.83 2110.79,315.784 2352.76,583.649 \n",
       "  \n",
       "  \"/>\n",
       "<polyline clip-path=\"url(#clip3502)\" style=\"stroke:#ffa500; stroke-width:4; stroke-opacity:1; fill:none\" points=\"\n",
       "  175.024,464.414 416.994,778.074 658.964,538.343 900.935,623.503 1142.9,647.524 1384.88,654.986 1626.85,363.496 1868.82,688.325 2110.79,509.457 2352.76,359.396 \n",
       "  \n",
       "  \"/>\n",
       "<polyline clip-path=\"url(#clip3502)\" style=\"stroke:#ffa500; stroke-width:4; stroke-opacity:1; fill:none\" points=\"\n",
       "  175.024,94.3323 416.994,402.944 658.964,547.76 900.935,729.18 1142.9,675.174 1384.88,541.801 1626.85,301.43 1868.82,478.571 2110.79,354.691 2352.76,735.714 \n",
       "  \n",
       "  \"/>\n",
       "<polyline clip-path=\"url(#clip3502)\" style=\"stroke:#ffa500; stroke-width:4; stroke-opacity:1; fill:none\" points=\"\n",
       "  175.024,551.384 416.994,245.845 658.964,476.345 900.935,618.434 1142.9,844.382 1384.88,321.724 1626.85,311.309 1868.82,557.436 2110.79,475.319 2352.76,550.802 \n",
       "  \n",
       "  \"/>\n",
       "<polyline clip-path=\"url(#clip3502)\" style=\"stroke:#ffa500; stroke-width:4; stroke-opacity:1; fill:none\" points=\"\n",
       "  175.024,222.056 416.994,641.683 658.964,747.811 900.935,483.447 1142.9,697.86 1384.88,779.358 1626.85,531.197 1868.82,278.175 2110.79,453.123 2352.76,424.178 \n",
       "  \n",
       "  \"/>\n",
       "<polyline clip-path=\"url(#clip3502)\" style=\"stroke:#ffa500; stroke-width:4; stroke-opacity:1; fill:none\" points=\"\n",
       "  175.024,501.473 416.994,604.827 658.964,718.711 900.935,468.716 1142.9,1013.13 1384.88,501.444 1626.85,412.55 1868.82,514.952 2110.79,453.535 2352.76,373.96 \n",
       "  \n",
       "  \"/>\n",
       "<polyline clip-path=\"url(#clip3502)\" style=\"stroke:#ffa500; stroke-width:4; stroke-opacity:1; fill:none\" points=\"\n",
       "  175.024,562.405 416.994,738.043 658.964,633.053 900.935,358.572 1142.9,418.35 1384.88,700.2 1626.85,409.563 1868.82,481.77 2110.79,694.721 2352.76,586.708 \n",
       "  \n",
       "  \"/>\n",
       "<polyline clip-path=\"url(#clip3502)\" style=\"stroke:#ffa500; stroke-width:4; stroke-opacity:1; fill:none\" points=\"\n",
       "  175.024,543.629 416.994,443.073 658.964,508.569 900.935,361.062 1142.9,438.726 1384.88,414.368 1626.85,560.809 1868.82,624.751 2110.79,489.166 2352.76,414.779 \n",
       "  \n",
       "  \"/>\n",
       "<polyline clip-path=\"url(#clip3502)\" style=\"stroke:#ffa500; stroke-width:4; stroke-opacity:1; fill:none\" points=\"\n",
       "  175.024,185.627 416.994,701.507 658.964,690.083 900.935,547.376 1142.9,832.693 1384.88,670.117 1626.85,612.336 1868.82,310.336 2110.79,355.808 2352.76,414.324 \n",
       "  \n",
       "  \"/>\n",
       "<polyline clip-path=\"url(#clip3502)\" style=\"stroke:#ffa500; stroke-width:4; stroke-opacity:1; fill:none\" points=\"\n",
       "  175.024,337.889 416.994,387.686 658.964,312.973 900.935,418.314 1142.9,519.977 1384.88,429.245 1626.85,375.935 1868.82,355.608 2110.79,369.462 2352.76,375.134 \n",
       "  \n",
       "  \"/>\n",
       "<polyline clip-path=\"url(#clip3502)\" style=\"stroke:#ffa500; stroke-width:4; stroke-opacity:1; fill:none\" points=\"\n",
       "  175.024,225.669 416.994,703.528 658.964,696.25 900.935,600.604 1142.9,871.791 1384.88,738.883 1626.85,658.818 1868.82,346.745 2110.79,472.43 2352.76,408.369 \n",
       "  \n",
       "  \"/>\n",
       "<polyline clip-path=\"url(#clip3502)\" style=\"stroke:#ffa500; stroke-width:4; stroke-opacity:1; fill:none\" points=\"\n",
       "  175.024,483.369 416.994,527.972 658.964,616.504 900.935,149.959 1142.9,551.29 1384.88,752.701 1626.85,404.389 1868.82,406.281 2110.79,695.219 2352.76,389.762 \n",
       "  \n",
       "  \"/>\n",
       "<polyline clip-path=\"url(#clip3502)\" style=\"stroke:#ffa500; stroke-width:4; stroke-opacity:1; fill:none\" points=\"\n",
       "  175.024,461.257 416.994,822.097 658.964,708.764 900.935,612.638 1142.9,848.433 1384.88,777.128 1626.85,510.638 1868.82,270.024 2110.79,691.664 2352.76,400.311 \n",
       "  \n",
       "  \"/>\n",
       "<polyline clip-path=\"url(#clip3502)\" style=\"stroke:#ffa500; stroke-width:4; stroke-opacity:1; fill:none\" points=\"\n",
       "  175.024,625.029 416.994,420.138 658.964,408.857 900.935,533.917 1142.9,639.404 1384.88,345.81 1626.85,218.151 1868.82,365.911 2110.79,695.784 2352.76,649.782 \n",
       "  \n",
       "  \"/>\n",
       "<polyline clip-path=\"url(#clip3502)\" style=\"stroke:#ffa500; stroke-width:4; stroke-opacity:1; fill:none\" points=\"\n",
       "  175.024,218.271 416.994,681.762 658.964,491.348 900.935,410.623 1142.9,527.445 1384.88,425.223 1626.85,383.366 1868.82,456.97 2110.79,312.093 2352.76,404.553 \n",
       "  \n",
       "  \"/>\n",
       "<polyline clip-path=\"url(#clip3502)\" style=\"stroke:#ffa500; stroke-width:4; stroke-opacity:1; fill:none\" points=\"\n",
       "  175.024,306.634 416.994,309.806 658.964,421.961 900.935,474.043 1142.9,543.188 1384.88,366.99 1626.85,359.166 1868.82,411.064 2110.79,210.895 2352.76,589.762 \n",
       "  \n",
       "  \"/>\n",
       "<polyline clip-path=\"url(#clip3502)\" style=\"stroke:#ffa500; stroke-width:4; stroke-opacity:1; fill:none\" points=\"\n",
       "  175.024,356.055 416.994,396.915 658.964,536.352 900.935,385.064 1142.9,516.697 1384.88,596.189 1626.85,170.265 1868.82,428.218 2110.79,321.063 2352.76,546.392 \n",
       "  \n",
       "  \"/>\n",
       "<polyline clip-path=\"url(#clip3502)\" style=\"stroke:#ffa500; stroke-width:4; stroke-opacity:1; fill:none\" points=\"\n",
       "  175.024,344.753 416.994,898.33 658.964,517.174 900.935,392.93 1142.9,706.077 1384.88,840.201 1626.85,552.553 1868.82,795.234 2110.79,491.42 2352.76,192.128 \n",
       "  \n",
       "  \"/>\n",
       "<polyline clip-path=\"url(#clip3502)\" style=\"stroke:#ffa500; stroke-width:4; stroke-opacity:1; fill:none\" points=\"\n",
       "  175.024,648.186 416.994,755.828 658.964,399.965 900.935,277.653 1142.9,553.284 1384.88,767.023 1626.85,640.864 1868.82,712.908 2110.79,857.014 2352.76,517.252 \n",
       "  \n",
       "  \"/>\n",
       "<polyline clip-path=\"url(#clip3502)\" style=\"stroke:#ffa500; stroke-width:4; stroke-opacity:1; fill:none\" points=\"\n",
       "  175.024,86.1394 416.994,535.766 658.964,510.723 900.935,401.238 1142.9,485.412 1384.88,582.277 1626.85,277.877 1868.82,323.092 2110.79,201.778 2352.76,667.763 \n",
       "  \n",
       "  \"/>\n",
       "<polyline clip-path=\"url(#clip3502)\" style=\"stroke:#ffa500; stroke-width:4; stroke-opacity:1; fill:none\" points=\"\n",
       "  175.024,192.948 416.994,262.811 658.964,504.454 900.935,528.856 1142.9,650.892 1384.88,350.911 1626.85,246.772 1868.82,608.372 2110.79,368.353 2352.76,583.708 \n",
       "  \n",
       "  \"/>\n",
       "<polyline clip-path=\"url(#clip3502)\" style=\"stroke:#ffa500; stroke-width:4; stroke-opacity:1; fill:none\" points=\"\n",
       "  175.024,506.523 416.994,711.345 658.964,550.675 900.935,378.296 1142.9,713.453 1384.88,718.995 1626.85,373.525 1868.82,489.946 2110.79,608.795 2352.76,271.871 \n",
       "  \n",
       "  \"/>\n",
       "<polyline clip-path=\"url(#clip3502)\" style=\"stroke:#ffa500; stroke-width:4; stroke-opacity:1; fill:none\" points=\"\n",
       "  175.024,245.248 416.994,339.622 658.964,431.273 900.935,392.636 1142.9,538.468 1384.88,478.448 1626.85,309.002 1868.82,426.273 2110.79,238.213 2352.76,465.099 \n",
       "  \n",
       "  \"/>\n",
       "<polyline clip-path=\"url(#clip3502)\" style=\"stroke:#ffa500; stroke-width:4; stroke-opacity:1; fill:none\" points=\"\n",
       "  175.024,259.702 416.994,376.813 658.964,559.344 900.935,340.897 1142.9,499.971 1384.88,577.726 1626.85,294.645 1868.82,267.99 2110.79,266.726 2352.76,615.358 \n",
       "  \n",
       "  \"/>\n",
       "<polyline clip-path=\"url(#clip3502)\" style=\"stroke:#ffa500; stroke-width:4; stroke-opacity:1; fill:none\" points=\"\n",
       "  175.024,213.676 416.994,410.753 658.964,499.686 900.935,569.694 1142.9,498.052 1384.88,559.946 1626.85,149.86 1868.82,435.426 2110.79,273.972 2352.76,611.567 \n",
       "  \n",
       "  \"/>\n",
       "<polyline clip-path=\"url(#clip3502)\" style=\"stroke:#ffa500; stroke-width:4; stroke-opacity:1; fill:none\" points=\"\n",
       "  175.024,345.188 416.994,477.567 658.964,555.74 900.935,476.963 1142.9,762.648 1384.88,557.919 1626.85,408.193 1868.82,396.17 2110.79,346.022 2352.76,421.564 \n",
       "  \n",
       "  \"/>\n",
       "<polyline clip-path=\"url(#clip3502)\" style=\"stroke:#ffa500; stroke-width:4; stroke-opacity:1; fill:none\" points=\"\n",
       "  175.024,463.181 416.994,577.09 658.964,283.128 900.935,367.507 1142.9,369.77 1384.88,577.157 1626.85,427.134 1868.82,496.085 2110.79,588.383 2352.76,546.544 \n",
       "  \n",
       "  \"/>\n",
       "<polyline clip-path=\"url(#clip3502)\" style=\"stroke:#ffa500; stroke-width:4; stroke-opacity:1; fill:none\" points=\"\n",
       "  175.024,341.875 416.994,477.117 658.964,486.403 900.935,422.044 1142.9,488.062 1384.88,393.5 1626.85,254.938 1868.82,212.375 2110.79,421.755 2352.76,502.89 \n",
       "  \n",
       "  \"/>\n",
       "<polyline clip-path=\"url(#clip3502)\" style=\"stroke:#ffa500; stroke-width:4; stroke-opacity:1; fill:none\" points=\"\n",
       "  175.024,526.97 416.994,759.507 658.964,457.345 900.935,367.42 1142.9,580.596 1384.88,836.104 1626.85,648.178 1868.82,732.571 2110.79,752.024 2352.76,427.16 \n",
       "  \n",
       "  \"/>\n",
       "<polyline clip-path=\"url(#clip3502)\" style=\"stroke:#ffa500; stroke-width:4; stroke-opacity:1; fill:none\" points=\"\n",
       "  175.024,512.165 416.994,380.277 658.964,625.866 900.935,218.579 1142.9,644.303 1384.88,580.329 1626.85,428.318 1868.82,568.329 2110.79,516.312 2352.76,486.402 \n",
       "  \n",
       "  \"/>\n",
       "<polyline clip-path=\"url(#clip3502)\" style=\"stroke:#ffa500; stroke-width:4; stroke-opacity:1; fill:none\" points=\"\n",
       "  175.024,223.317 416.994,430.383 658.964,611.57 900.935,395.733 1142.9,467.681 1384.88,626.537 1626.85,327.95 1868.82,306.921 2110.79,246.677 2352.76,612.203 \n",
       "  \n",
       "  \"/>\n",
       "<polyline clip-path=\"url(#clip3502)\" style=\"stroke:#ffa500; stroke-width:4; stroke-opacity:1; fill:none\" points=\"\n",
       "  175.024,247.502 416.994,564.921 658.964,430.558 900.935,643.546 1142.9,531.162 1384.88,496.109 1626.85,200.143 1868.82,463.113 2110.79,275.84 2352.76,637.036 \n",
       "  \n",
       "  \"/>\n",
       "<polyline clip-path=\"url(#clip3502)\" style=\"stroke:#ffa500; stroke-width:4; stroke-opacity:1; fill:none\" points=\"\n",
       "  175.024,575.227 416.994,740.471 658.964,360.533 900.935,386.039 1142.9,447.232 1384.88,646.269 1626.85,513.19 1868.82,578.22 2110.79,784.773 2352.76,475.665 \n",
       "  \n",
       "  \"/>\n",
       "<polyline clip-path=\"url(#clip3502)\" style=\"stroke:#ffa500; stroke-width:4; stroke-opacity:1; fill:none\" points=\"\n",
       "  175.024,648.186 416.994,755.828 658.964,399.965 900.935,277.653 1142.9,553.284 1384.88,767.023 1626.85,640.864 1868.82,712.908 2110.79,857.014 2352.76,517.252 \n",
       "  \n",
       "  \"/>\n",
       "<polyline clip-path=\"url(#clip3502)\" style=\"stroke:#ffa500; stroke-width:4; stroke-opacity:1; fill:none\" points=\"\n",
       "  175.024,255.705 416.994,297.397 658.964,576.729 900.935,464.786 1142.9,666.731 1384.88,573.405 1626.85,342.239 1868.82,509.893 2110.79,263.089 2352.76,367.553 \n",
       "  \n",
       "  \"/>\n",
       "<polyline clip-path=\"url(#clip3502)\" style=\"stroke:#ffa500; stroke-width:4; stroke-opacity:1; fill:none\" points=\"\n",
       "  175.024,526.97 416.994,759.507 658.964,457.345 900.935,367.42 1142.9,580.596 1384.88,836.104 1626.85,648.178 1868.82,732.571 2110.79,752.024 2352.76,427.16 \n",
       "  \n",
       "  \"/>\n",
       "<polyline clip-path=\"url(#clip3502)\" style=\"stroke:#ffa500; stroke-width:4; stroke-opacity:1; fill:none\" points=\"\n",
       "  175.024,399.876 416.994,540.501 658.964,664.157 900.935,606.427 1142.9,788.551 1384.88,854.338 1626.85,348.281 1868.82,542.526 2110.79,337.481 2352.76,333.862 \n",
       "  \n",
       "  \"/>\n",
       "<polyline clip-path=\"url(#clip3502)\" style=\"stroke:#ffa500; stroke-width:4; stroke-opacity:1; fill:none\" points=\"\n",
       "  175.024,478.971 416.994,418.096 658.964,508.533 900.935,166.011 1142.9,475.91 1384.88,787.288 1626.85,388.37 1868.82,324.829 2110.79,457.328 2352.76,487.29 \n",
       "  \n",
       "  \"/>\n",
       "<polyline clip-path=\"url(#clip3502)\" style=\"stroke:#ffa500; stroke-width:4; stroke-opacity:1; fill:none\" points=\"\n",
       "  175.024,575.227 416.994,740.471 658.964,360.533 900.935,386.039 1142.9,447.232 1384.88,646.269 1626.85,513.19 1868.82,578.22 2110.79,784.773 2352.76,475.665 \n",
       "  \n",
       "  \"/>\n",
       "<polyline clip-path=\"url(#clip3502)\" style=\"stroke:#ffa500; stroke-width:4; stroke-opacity:1; fill:none\" points=\"\n",
       "  175.024,478.971 416.994,418.096 658.964,508.533 900.935,166.011 1142.9,475.91 1384.88,787.288 1626.85,388.37 1868.82,324.829 2110.79,457.328 2352.76,487.29 \n",
       "  \n",
       "  \"/>\n",
       "<polyline clip-path=\"url(#clip3502)\" style=\"stroke:#ffa500; stroke-width:4; stroke-opacity:1; fill:none\" points=\"\n",
       "  175.024,47.2441 416.994,549.431 658.964,544.264 900.935,370.069 1142.9,461.915 1384.88,559.497 1626.85,333.318 1868.82,275.966 2110.79,216.118 2352.76,657.529 \n",
       "  \n",
       "  \"/>\n",
       "<polyline clip-path=\"url(#clip3502)\" style=\"stroke:#ffa500; stroke-width:4; stroke-opacity:1; fill:none\" points=\"\n",
       "  175.024,155.589 416.994,334.87 658.964,430.986 900.935,661.957 1142.9,822.665 1384.88,269.251 1626.85,357.535 1868.82,589.641 2110.79,187.735 2352.76,614.309 \n",
       "  \n",
       "  \"/>\n",
       "<polyline clip-path=\"url(#clip3502)\" style=\"stroke:#ffa500; stroke-width:4; stroke-opacity:1; fill:none\" points=\"\n",
       "  175.024,648.186 416.994,755.828 658.964,399.965 900.935,277.653 1142.9,553.284 1384.88,767.023 1626.85,640.864 1868.82,712.908 2110.79,857.014 2352.76,517.252 \n",
       "  \n",
       "  \"/>\n",
       "</svg>\n"
      ]
     },
     "metadata": {},
     "output_type": "display_data"
    }
   ],
   "source": [
    "ymin = Inf\n",
    "ymax = -Inf\n",
    "function plot_pop(P)\n",
    "    global ymin = min(ymin, minimum([minimum(i.y) for i in P]))\n",
    "    global ymax = max(ymax, maximum([maximum(i.y) for i in P]))\n",
    "    plot(xlims=(1, n_objectives), ylims=(ymin, ymax))\n",
    "    ND = filter(indiv -> indiv.rank == 1, P)\n",
    "    dominated = filter(indiv->indiv.rank != 1, P)\n",
    "    for i in dominated\n",
    "        plot!(1:n_objectives, collect(i.y), legend=:none, color=:blue)\n",
    "    end\n",
    "    for i in ND\n",
    "        plot!(1:n_objectives, collect(i.y), legend=:none, color=:orange)\n",
    "    end\n",
    "    sleep(2.0)\n",
    "end\n",
    "\n",
    "non_dominated = nsga_max(popsize, 50, objective, init, fCV=constraint,\n",
    "    fplot=plot_pop, plotevery=10, showprogress=true);"
   ]
  },
  {
   "cell_type": "markdown",
   "metadata": {
    "slideshow": {
     "slide_type": "slide"
    }
   },
   "source": [
    "<div class=\"alert alert-success\">\n",
    "    <b>Exercise 4</b>\n",
    "    <br/>\n",
    "Gradually increase $K$, the number of objectives, and watch the number of non-dominated individuals in the population over evolution. What do you notice as $K$ increases?\n",
    "    <br/>\n",
    "</div>"
   ]
  },
  {
   "cell_type": "code",
   "execution_count": null,
   "metadata": {},
   "outputs": [],
   "source": []
  }
 ],
 "metadata": {
  "@webio": {
   "lastCommId": null,
   "lastKernelId": null
  },
  "celltoolbar": "Slideshow",
  "kernelspec": {
   "display_name": "Julia 1.6.1",
   "language": "julia",
   "name": "julia-1.6"
  },
  "language_info": {
   "file_extension": ".jl",
   "mimetype": "application/julia",
   "name": "julia",
   "version": "1.6.1"
  }
 },
 "nbformat": 4,
 "nbformat_minor": 2
}
