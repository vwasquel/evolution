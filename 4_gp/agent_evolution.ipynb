{
 "cells": [
  {
   "cell_type": "markdown",
   "metadata": {
    "slideshow": {
     "slide_type": "slide"
    }
   },
   "source": [
    "<img src=\"../imgs/logo.png\" width=\"20%\" align=\"right\" style=\"margin:0px 20px\">\n",
    "\n",
    "\n",
    "# Evolutionary Computation\n",
    "\n",
    "## Project: Evolution of Agents\n",
    "\n",
    "<a rel=\"license\" href=\"http://creativecommons.org/licenses/by-sa/4.0/\"><img alt=\"Creative Commons License\" align=\"left\" src=\"https://i.creativecommons.org/l/by-sa/4.0/80x15.png\" /></a>&nbsp;| Dennis G. Wilson | <a href=\"https://d9w.github.io/evolution/\">https://d9w.github.io/evolution/</a>"
   ]
  },
  {
   "cell_type": "markdown",
   "metadata": {
    "slideshow": {
     "slide_type": "slide"
    }
   },
   "source": [
    "# Outline\n",
    "\n",
    "1. [Reinforcement Learning](#rl)\n",
    "2. [Evolving Agents](#evolving)\n",
    "3. [Atari games](#atari)\n",
    "4. [CGP](#cgp)\n",
    "5. [Neuroevolution](#neuroevo)\n",
    "6. [Comparison](#comparison)"
   ]
  },
  {
   "cell_type": "markdown",
   "metadata": {
    "slideshow": {
     "slide_type": "fragment"
    }
   },
   "source": [
    "In this project, you have been asked to evolve an agent to play a video game. In this notebook, we'll see an example of that as well as a brief explanation on agent evolution."
   ]
  },
  {
   "cell_type": "markdown",
   "metadata": {
    "slideshow": {
     "slide_type": "slide"
    }
   },
   "source": [
    "# <a id=\"rl\"></a> Reinforcement Learning"
   ]
  },
  {
   "cell_type": "markdown",
   "metadata": {
    "slideshow": {
     "slide_type": "fragment"
    }
   },
   "source": [
    "The field of Reinforcement Learning provides a good framework for understanding the actions of an agent in an environment which rewards specific actions. There are many resources about RL online, including Emmanuel Rachelson's [class](https://github.com/erachelson/RLclass) which is taught in the SDD Master's program at Supaero. We'll look at a brief overview as it relates to evolution."
   ]
  },
  {
   "cell_type": "markdown",
   "metadata": {
    "slideshow": {
     "slide_type": "slide"
    }
   },
   "source": [
    "In RL, an agent acts based on a policy $\\pi$,   which uses state information $S_t$ to take an action $A_t$. Based on this action, the environment rewards the agent $R_{t+1}$ and the agent moves into a new state $S_{t+1}$. "
   ]
  },
  {
   "cell_type": "markdown",
   "metadata": {
    "slideshow": {
     "slide_type": "fragment"
    }
   },
   "source": [
    "<img src=\"../imgs/erl.png\" width=\"35%\">"
   ]
  },
  {
   "cell_type": "markdown",
   "metadata": {
    "slideshow": {
     "slide_type": "slide"
    }
   },
   "source": [
    "The standard objective function for an evolutionary algorithm when applied to this problem is the sum total of the reward over all timesteps in an episode, from $t=0$ to the end of the episode $t=T$.\n",
    "\n",
    "$$\\sum_{t=0}^{t=T} R_{t}$$"
   ]
  },
  {
   "cell_type": "markdown",
   "metadata": {
    "slideshow": {
     "slide_type": "slide"
    }
   },
   "source": [
    "In other words, evolution is aiming to maximize the total reward over all states $S$ observed and actions $A$ taken  during this episode. The set of states observed and actions taken depends on the current individual $\\pi$ (or policy), where an action $a$ for a given state $s$ is determined by $a=\\pi(s)$. A different way to write the objective function is:\n",
    "\n",
    "$$\\sum_{t=0}^{t=T} r(s_t, \\pi(s_t))$$\n",
    "\n",
    "where $r$ is the reward function of the problem. The optimization of the total reward over the entire episode is very different from Reinforcement Learning algorithms, which maximize the reward over individual state, action $(S,A)$ pairs and many of which aim to approximate $r$. In most evolutionary computation, all that matters is the total reward."
   ]
  },
  {
   "cell_type": "markdown",
   "metadata": {
    "slideshow": {
     "slide_type": "slide"
    }
   },
   "source": [
    "<div class=\"alert alert-warning\">\n",
    "    <h3>Reminder</h3>\n",
    "    \n",
    "In an evolutionary algorithm, the total reward is not the only fitness objective possible. Quality diversity algorithms like MAP-Elites use behavior metrics which measure a different objective than reward over an episode. Using total reward is a good way to compare evolutionary methods to Reinforcement Learning algorithms, but it is not the only option for evolutionary fitness functions.\n",
    "</div>"
   ]
  },
  {
   "cell_type": "markdown",
   "metadata": {
    "slideshow": {
     "slide_type": "slide"
    }
   },
   "source": [
    "# <a id=\"evolving\"></a>Evolving Agents"
   ]
  },
  {
   "cell_type": "markdown",
   "metadata": {
    "slideshow": {
     "slide_type": "fragment"
    }
   },
   "source": [
    "When evolving agents, there are many options for representing the agent. The agent needs only to be able to taken an action $a$ at every step $s$, in other words the agent is $\\pi$ and we'll use the agent to compute $a=\\pi(s)$. Any representation of a function is possible: a layered artificial neural network where weights are optimized by evolution; a complex ANN where structure and weights are evolved; a genetic program; a gene regulatory network; any evolvable function representation works!"
   ]
  },
  {
   "cell_type": "markdown",
   "metadata": {
    "slideshow": {
     "slide_type": "slide"
    }
   },
   "source": [
    "<img src=\"../imgs/agent_representations.png\" width=\"50%\">"
   ]
  },
  {
   "cell_type": "markdown",
   "metadata": {
    "slideshow": {
     "slide_type": "slide"
    }
   },
   "source": [
    "The evaluation of an individual is therefore a multi-step process. Given an individual's genes $G$, a phenotype $P$ is computed. The genes can take many forms, as can the phenotypes. One example is a binary gene regulatory network, where binary genes encode protein tags which inform the weights of the final network, which is the phenotype. Another is the integer genotype used in NEAT, which encodes neurons and their connections in the phenotype which is a neural network."
   ]
  },
  {
   "cell_type": "markdown",
   "metadata": {
    "slideshow": {
     "slide_type": "fragment"
    }
   },
   "source": [
    "<img src=\"../imgs/gene_pheno_behavior.png\" width=\"70%\">"
   ]
  },
  {
   "cell_type": "markdown",
   "metadata": {
    "slideshow": {
     "slide_type": "slide"
    }
   },
   "source": [
    " For evaluation, $P$ must be capable of representing a function $\\pi$ which computes $a=\\pi(s)$ or sometimes $a_t=\\pi(s_t, r(s_{t-1}, a_{t-1}))$, where the reward from the previous step is also provided. The evaluation of the agent which informs its chances of passing on genetic information is then based on its behavior in a simulated environment."
   ]
  },
  {
   "cell_type": "markdown",
   "metadata": {
    "slideshow": {
     "slide_type": "fragment"
    }
   },
   "source": [
    "In this notebook, we'll compare Cartesian Genetic Programming, where our agent is a function graph, and neuroevolution, using a $(1, \\lambda)$ evolutionary strategy to evolve the weights of a 2 layer neural network. We'll use Atari games as the environment, specifically Ms. Pacman."
   ]
  },
  {
   "cell_type": "markdown",
   "metadata": {
    "slideshow": {
     "slide_type": "slide"
    }
   },
   "source": [
    "# <a id=\"atari\"></a> Atari games"
   ]
  },
  {
   "cell_type": "markdown",
   "metadata": {
    "slideshow": {
     "slide_type": "fragment"
    }
   },
   "source": [
    "For a game environment, we'll use the [Arcade Learning Environment](https://github.com/mgbellemare/Arcade-Learning-Environment), which allows us to emulate and manipulate Atari games. There is a [Julia wrapper](https://github.com/JuliaReinforcementLearning/ArcadeLearningEnvironment.jl) which I've only tested on Linux, although the [atari-py](https://github.com/openai/atari-py) package mentions Windows support"
   ]
  },
  {
   "cell_type": "code",
   "execution_count": 1,
   "metadata": {
    "slideshow": {
     "slide_type": "slide"
    }
   },
   "outputs": [
    {
     "name": "stderr",
     "output_type": "stream",
     "text": [
      "\u001b[32m\u001b[1m   Updating\u001b[22m\u001b[39m registry at `~/.julia/registries/General`\n",
      "\u001b[32m\u001b[1m  Resolving\u001b[22m\u001b[39m package versions...\n",
      "\u001b[32m\u001b[1mNo Changes\u001b[22m\u001b[39m to `~/.julia/environments/v1.5/Project.toml`\n",
      "\u001b[32m\u001b[1mNo Changes\u001b[22m\u001b[39m to `~/.julia/environments/v1.5/Manifest.toml`\n"
     ]
    }
   ],
   "source": [
    "using Pkg\n",
    "pkg\"add ArcadeLearningEnvironment\""
   ]
  },
  {
   "cell_type": "markdown",
   "metadata": {
    "slideshow": {
     "slide_type": "fragment"
    }
   },
   "source": [
    "This package automatically installs a number of ROMs from the `atari-py` repository"
   ]
  },
  {
   "cell_type": "code",
   "execution_count": 2,
   "metadata": {
    "slideshow": {
     "slide_type": "fragment"
    }
   },
   "outputs": [
    {
     "name": "stderr",
     "output_type": "stream",
     "text": [
      "A.L.E: Arcade Learning Environment (version 0.6.0)\n",
      "[Powered by Stella]\n",
      "Use -help for help screen.\n"
     ]
    },
    {
     "data": {
      "text/plain": [
       "Ptr{Nothing} @0x000000000329b6c0"
      ]
     },
     "execution_count": 2,
     "metadata": {},
     "output_type": "execute_result"
    }
   ],
   "source": [
    "using ArcadeLearningEnvironment\n",
    "ale = ALE_new()"
   ]
  },
  {
   "cell_type": "code",
   "execution_count": 3,
   "metadata": {
    "slideshow": {
     "slide_type": "slide"
    }
   },
   "outputs": [
    {
     "data": {
      "text/plain": [
       "74-element Array{String,1}:\n",
       " \"air_raid\"\n",
       " \"alien\"\n",
       " \"amidar\"\n",
       " \"assault\"\n",
       " \"asterix\"\n",
       " \"asteroids\"\n",
       " \"atlantis\"\n",
       " \"bank_heist\"\n",
       " \"battle_zone\"\n",
       " \"beam_rider\"\n",
       " \"berzerk\"\n",
       " \"bowling\"\n",
       " \"boxing\"\n",
       " ⋮\n",
       " \"star_gunner\"\n",
       " \"surround\"\n",
       " \"tennis\"\n",
       " \"time_pilot\"\n",
       " \"trondead\"\n",
       " \"tutankham\"\n",
       " \"up_n_down\"\n",
       " \"venture\"\n",
       " \"video_pinball\"\n",
       " \"wizard_of_wor\"\n",
       " \"yars_revenge\"\n",
       " \"zaxxon\""
      ]
     },
     "execution_count": 3,
     "metadata": {},
     "output_type": "execute_result"
    }
   ],
   "source": [
    "getROMList()"
   ]
  },
  {
   "cell_type": "markdown",
   "metadata": {
    "slideshow": {
     "slide_type": "slide"
    }
   },
   "source": [
    "We'll look at  Ms. Pacman as an example. Instead of using the entire action set, we'll only use the actions available in this game. Since the \"fire\" button isn't used in Ms. Pacman, the only actions are the 8 directions from the joystick and no input."
   ]
  },
  {
   "cell_type": "code",
   "execution_count": 4,
   "metadata": {
    "slideshow": {
     "slide_type": "fragment"
    }
   },
   "outputs": [
    {
     "name": "stderr",
     "output_type": "stream",
     "text": [
      "Game console created:\n",
      "  ROM file:  /home/disc/p.templier/.julia/artifacts/9b7774e2f34581dc08d0979a8172c6d157be1f2d/ms_pacman.bin\n",
      "  Cart Name: Ms. Pac-Man (1982) (Atari)\n",
      "  Cart MD5:  87e79cd41ce136fd4f72cc6e2c161bee\n",
      "  Display Format:  AUTO-DETECT ==> NTSC\n",
      "  ROM Size:        8192\n",
      "  Bankswitch Type: AUTO-DETECT ==> F8\n",
      "\n",
      "\n",
      "WARNING: Possibly unsupported ROM: mismatched MD5.\n",
      "Cartridge_MD5: 87e79cd41ce136fd4f72cc6e2c161bee\n",
      "Cartridge_name: Ms. Pac-Man (1982) (Atari)\n",
      "\n",
      "Running ROM file...\n",
      "Random seed is 0\n"
     ]
    },
    {
     "data": {
      "text/plain": [
       "9-element Array{Int64,1}:\n",
       " 0\n",
       " 2\n",
       " 3\n",
       " 4\n",
       " 5\n",
       " 6\n",
       " 7\n",
       " 8\n",
       " 9"
      ]
     },
     "execution_count": 4,
     "metadata": {},
     "output_type": "execute_result"
    }
   ],
   "source": [
    "loadROM(ale, \"ms_pacman\")\n",
    "actions = getMinimalActionSet(ale)"
   ]
  },
  {
   "cell_type": "markdown",
   "metadata": {
    "slideshow": {
     "slide_type": "slide"
    }
   },
   "source": [
    "Let's see what the environment looks like."
   ]
  },
  {
   "cell_type": "code",
   "execution_count": 5,
   "metadata": {
    "slideshow": {
     "slide_type": "fragment"
    }
   },
   "outputs": [
    {
     "name": "stderr",
     "output_type": "stream",
     "text": [
      "Gtk-Message: 17:24:17.401: Failed to load module \"canberra-gtk-module\"\n",
      "Gtk-Message: 17:24:17.402: Failed to load module \"canberra-gtk-module\"\n"
     ]
    },
    {
     "data": {
      "text/plain": [
       "get_screen (generic function with 1 method)"
      ]
     },
     "execution_count": 5,
     "metadata": {},
     "output_type": "execute_result"
    }
   ],
   "source": [
    "using Images, ImageView\n",
    "function get_screen(ale)\n",
    "    screen = reshape(getScreenRGB(ale), (3, getScreenWidth(ale), getScreenHeight(ale))) ./ 256\n",
    "    colorview(RGB, permutedims(screen, [1, 3, 2]))\n",
    "end"
   ]
  },
  {
   "cell_type": "code",
   "execution_count": 6,
   "metadata": {
    "slideshow": {
     "slide_type": "fragment"
    }
   },
   "outputs": [
    {
     "data": {
      "image/png": "[encoded data removed]",
      "text/plain": [
       "210×160 reshape(reinterpret(RGB{Float64}, ::Array{Float64,3}), 210, 160) with eltype RGB{Float64}:\n",
       " RGB{Float64}(0.0,0.0,0.0)                 …  RGB{Float64}(0.0,0.0,0.0)\n",
       " RGB{Float64}(0.890625,0.433594,0.433594)     RGB{Float64}(0.890625,0.433594,0.433594)\n",
       " RGB{Float64}(0.890625,0.433594,0.433594)     RGB{Float64}(0.890625,0.433594,0.433594)\n",
       " RGB{Float64}(0.890625,0.433594,0.433594)     RGB{Float64}(0.890625,0.433594,0.433594)\n",
       " RGB{Float64}(0.890625,0.433594,0.433594)     RGB{Float64}(0.890625,0.433594,0.433594)\n",
       " RGB{Float64}(0.890625,0.433594,0.433594)  …  RGB{Float64}(0.890625,0.433594,0.433594)\n",
       " RGB{Float64}(0.890625,0.433594,0.433594)     RGB{Float64}(0.890625,0.433594,0.433594)\n",
       " RGB{Float64}(0.890625,0.433594,0.433594)     RGB{Float64}(0.890625,0.433594,0.433594)\n",
       " RGB{Float64}(0.890625,0.433594,0.433594)     RGB{Float64}(0.890625,0.433594,0.433594)\n",
       " RGB{Float64}(0.890625,0.433594,0.433594)     RGB{Float64}(0.890625,0.433594,0.433594)\n",
       " RGB{Float64}(0.890625,0.433594,0.433594)  …  RGB{Float64}(0.890625,0.433594,0.433594)\n",
       " RGB{Float64}(0.890625,0.433594,0.433594)     RGB{Float64}(0.890625,0.433594,0.433594)\n",
       " RGB{Float64}(0.890625,0.433594,0.433594)     RGB{Float64}(0.890625,0.433594,0.433594)\n",
       " ⋮                                         ⋱  \n",
       " RGB{Float64}(0.0,0.0,0.0)                    RGB{Float64}(0.0,0.0,0.0)\n",
       " RGB{Float64}(0.0,0.0,0.0)                    RGB{Float64}(0.0,0.0,0.0)\n",
       " RGB{Float64}(0.0,0.0,0.0)                 …  RGB{Float64}(0.0,0.0,0.0)\n",
       " RGB{Float64}(0.0,0.0,0.0)                    RGB{Float64}(0.0,0.0,0.0)\n",
       " RGB{Float64}(0.0,0.0,0.0)                    RGB{Float64}(0.0,0.0,0.0)\n",
       " RGB{Float64}(0.0,0.0,0.0)                    RGB{Float64}(0.0,0.0,0.0)\n",
       " RGB{Float64}(0.0,0.0,0.0)                    RGB{Float64}(0.0,0.0,0.0)\n",
       " RGB{Float64}(0.0,0.0,0.0)                 …  RGB{Float64}(0.0,0.0,0.0)\n",
       " RGB{Float64}(0.0,0.0,0.0)                    RGB{Float64}(0.0,0.0,0.0)\n",
       " RGB{Float64}(0.0,0.0,0.0)                    RGB{Float64}(0.0,0.0,0.0)\n",
       " RGB{Float64}(0.0,0.0,0.0)                    RGB{Float64}(0.0,0.0,0.0)\n",
       " RGB{Float64}(0.0,0.0,0.0)                    RGB{Float64}(0.0,0.0,0.0)"
      ]
     },
     "execution_count": 6,
     "metadata": {},
     "output_type": "execute_result"
    }
   ],
   "source": [
    "get_screen(ale)"
   ]
  },
  {
   "cell_type": "markdown",
   "metadata": {
    "slideshow": {
     "slide_type": "slide"
    }
   },
   "source": [
    "Let's watch the environment as our agent takes random actions."
   ]
  },
  {
   "cell_type": "code",
   "execution_count": 7,
   "metadata": {
    "slideshow": {
     "slide_type": "fragment"
    }
   },
   "outputs": [],
   "source": [
    "using Reel\n",
    "Reel.set_output_type(\"gif\");"
   ]
  },
  {
   "cell_type": "code",
   "execution_count": 8,
   "metadata": {
    "slideshow": {
     "slide_type": "fragment"
    }
   },
   "outputs": [
    {
     "name": "stderr",
     "output_type": "stream",
     "text": [
      "Game console created:\n",
      "  ROM file:  /home/disc/p.templier/.julia/artifacts/9b7774e2f34581dc08d0979a8172c6d157be1f2d/ms_pacman.bin\n",
      "  Cart Name: Ms. Pac-Man (1982) (Atari)\n",
      "  Cart MD5:  87e79cd41ce136fd4f72cc6e2c161bee\n",
      "  Display Format:  AUTO-DETECT ==> NTSC\n",
      "  ROM Size:        8192\n",
      "  Bankswitch Type: AUTO-DETECT ==> F8\n",
      "\n",
      "\n",
      "WARNING: Possibly unsupported ROM: mismatched MD5.\n",
      "Cartridge_MD5: 87e79cd41ce136fd4f72cc6e2c161bee\n",
      "Cartridge_name: Ms. Pac-Man (1982) (Atari)\n",
      "\n",
      "Running ROM file...\n",
      "Random seed is 0\n"
     ]
    }
   ],
   "source": [
    "loadROM(ale, \"ms_pacman\")\n",
    "frames = Frames(MIME(\"image/png\"), fps=60)\n",
    "total_reward = 0\n",
    "while ~game_over(ale)\n",
    "    total_reward += act(ale, rand(actions))\n",
    "    push!(frames, get_screen(ale))\n",
    "end\n",
    "reset_game(ale)"
   ]
  },
  {
   "cell_type": "code",
   "execution_count": 9,
   "metadata": {
    "slideshow": {
     "slide_type": "slide"
    }
   },
   "outputs": [
    {
     "data": {
      "text/html": [
       "<img src=\"files/reel-16954084552730177372.gif?7848075619349038617\" />"
      ],
      "text/plain": [
       "Frames{MIME{Symbol(\"image/png\")}}(\"/tmp/jl_aoDoA3\", 0x00000000000006c9, 60.0, nothing)"
      ]
     },
     "execution_count": 9,
     "metadata": {},
     "output_type": "execute_result"
    }
   ],
   "source": [
    "frames"
   ]
  },
  {
   "cell_type": "markdown",
   "metadata": {
    "slideshow": {
     "slide_type": "slide"
    }
   },
   "source": [
    "For the state of our environment, we have two options: the pixels, as we saw in the [class on CGP](https://d9w.github.io/evolution/4_gp/2_cgp.html), and the RAM, the memory of the game. We'll use the RAM in this example since it is much smaller and evolution will be faster since we don't need to get the screen every step."
   ]
  },
  {
   "cell_type": "code",
   "execution_count": 10,
   "metadata": {
    "slideshow": {
     "slide_type": "fragment"
    }
   },
   "outputs": [
    {
     "name": "stderr",
     "output_type": "stream",
     "text": [
      "Game console created:\n",
      "  ROM file:  /home/disc/p.templier/.julia/artifacts/9b7774e2f34581dc08d0979a8172c6d157be1f2d/ms_pacman.bin\n",
      "  Cart Name: Ms. Pac-Man (1982) (Atari)\n",
      "  Cart MD5:  87e79cd41ce136fd4f72cc6e2c161bee\n",
      "  Display Format:  AUTO-DETECT ==> NTSC\n",
      "  ROM Size:        8192\n",
      "  Bankswitch Type: AUTO-DETECT ==> F8\n",
      "\n",
      "\n",
      "WARNING: Possibly unsupported ROM: mismatched MD5.\n",
      "Cartridge_MD5: 87e79cd41ce136fd4f72cc6e2c161bee\n",
      "Cartridge_name: Ms. Pac-Man (1982) (Atari)\n",
      "\n",
      "Running ROM file...\n",
      "Random seed is 0\n"
     ]
    }
   ],
   "source": [
    "loadROM(ale, \"ms_pacman\")"
   ]
  },
  {
   "cell_type": "code",
   "execution_count": 11,
   "metadata": {
    "slideshow": {
     "slide_type": "slide"
    }
   },
   "outputs": [
    {
     "data": {
      "text/plain": [
       "128-element Array{UInt8,1}:\n",
       " 0x00\n",
       " 0x70\n",
       " 0x72\n",
       " 0x73\n",
       " 0x00\n",
       " 0x03\n",
       " 0x58\n",
       " 0x58\n",
       " 0x58\n",
       " 0x58\n",
       " 0x58\n",
       " 0x00\n",
       " 0x50\n",
       "    ⋮\n",
       " 0x00\n",
       " 0x3f\n",
       " 0x00\n",
       " 0x00\n",
       " 0x00\n",
       " 0x00\n",
       " 0x00\n",
       " 0x02\n",
       " 0x42\n",
       " 0xf0\n",
       " 0x92\n",
       " 0xd7"
      ]
     },
     "execution_count": 11,
     "metadata": {},
     "output_type": "execute_result"
    }
   ],
   "source": [
    "getRAM(ale)"
   ]
  },
  {
   "cell_type": "markdown",
   "metadata": {
    "slideshow": {
     "slide_type": "slide"
    }
   },
   "source": [
    "# <a id=\"cgp\"></a>CGP"
   ]
  },
  {
   "cell_type": "markdown",
   "metadata": {
    "slideshow": {
     "slide_type": "fragment"
    }
   },
   "source": [
    "Let's evolve our first agent. We'll use `Cambrian.jl` and `CartesianGeneticProgramming.jl` to evolve a function graph using CGP which takes in the RAM values and outputs a value per action, which we'll use the maximum of to determine the action at each step."
   ]
  },
  {
   "cell_type": "code",
   "execution_count": 12,
   "metadata": {
    "slideshow": {
     "slide_type": "slide"
    }
   },
   "outputs": [
    {
     "name": "stdout",
     "output_type": "stream",
     "text": [
      "\u001b[?25l    "
     ]
    },
    {
     "name": "stderr",
     "output_type": "stream",
     "text": [
      "\u001b[32m\u001b[1m    Cloning\u001b[22m\u001b[39m git-repo `https://github.com/d9w/Cambrian.jl`\n"
     ]
    },
    {
     "name": "stdout",
     "output_type": "stream",
     "text": [
      "\u001b[36m\u001b[1mFetching:\u001b[22m\u001b[39m [>                                        ]  0.0 %\r",
      "    \u001b[36m\u001b[1mFetching:\u001b[22m\u001b[39m [=>                                       ]  0.3 %\r",
      "    \u001b[36m\u001b[1mFetching:\u001b[22m\u001b[39m [=>                                       ]  0.5 %\r",
      "    \u001b[36m\u001b[1mFetching:\u001b[22m\u001b[39m [=>                                       ]  0.8 %\r",
      "    \u001b[36m\u001b[1mFetching:\u001b[22m\u001b[39m [=>                                       ]  1.0 %\r",
      "    \u001b[36m\u001b[1mFetching:\u001b[22m\u001b[39m [=>                                       ]  1.3 %\r",
      "    \u001b[36m\u001b[1mFetching:\u001b[22m\u001b[39m [=>                                       ]  1.5 %\r",
      "    \u001b[36m\u001b[1mFetching:\u001b[22m\u001b[39m [=>                                       ]  1.8 %\r",
      "    \u001b[36m\u001b[1mFetching:\u001b[22m\u001b[39m [=>                                       ]  2.0 %\r",
      "    \u001b[36m\u001b[1mFetching:\u001b[22m\u001b[39m [=>                                       ]  2.3 %\r",
      "    \u001b[36m\u001b[1mFetching:\u001b[22m\u001b[39m [==>                                      ]  2.6 %\r",
      "    \u001b[36m\u001b[1mFetching:\u001b[22m\u001b[39m [==>                                      ]  2.8 %\r",
      "    \u001b[36m\u001b[1mFetching:\u001b[22m\u001b[39m [==>                                      ]  3.1 %\r",
      "    \u001b[36m\u001b[1mFetching:\u001b[22m\u001b[39m [==>                                      ]  3.3 %\r",
      "    \u001b[36m\u001b[1mFetching:\u001b[22m\u001b[39m [==>                                      ]  3.6 %\r",
      "    \u001b[36m\u001b[1mFetching:\u001b[22m\u001b[39m [==>                                      ]  3.8 %\r",
      "    \u001b[36m\u001b[1mFetching:\u001b[22m\u001b[39m [==>                                      ]  4.1 %\r",
      "    \u001b[36m\u001b[1mFetching:\u001b[22m\u001b[39m [==>                                      ]  4.3 %\r",
      "    \u001b[36m\u001b[1mFetching:\u001b[22m\u001b[39m [==>                                      ]  4.6 %\r",
      "    \u001b[36m\u001b[1mFetching:\u001b[22m\u001b[39m [==>                                      ]  4.9 %\r",
      "    \u001b[36m\u001b[1mFetching:\u001b[22m\u001b[39m [===>                                     ]  5.1 %\r",
      "    \u001b[36m\u001b[1mFetching:\u001b[22m\u001b[39m [===>                                     ]  5.4 %\r",
      "    \u001b[36m\u001b[1mFetching:\u001b[22m\u001b[39m [===>                                     ]  5.6 %\r",
      "    \u001b[36m\u001b[1mFetching:\u001b[22m\u001b[39m [===>                                     ]  5.9 %\r",
      "    \u001b[36m\u001b[1mFetching:\u001b[22m\u001b[39m [===>                                     ]  6.1 %\r",
      "    \u001b[36m\u001b[1mFetching:\u001b[22m\u001b[39m [===>                                     ]  6.4 %\r",
      "    \u001b[36m\u001b[1mFetching:\u001b[22m\u001b[39m [===>                                     ]  6.6 %\r",
      "    \u001b[36m\u001b[1mFetching:\u001b[22m\u001b[39m [===>                                     ]  6.9 %\r",
      "    \u001b[36m\u001b[1mFetching:\u001b[22m\u001b[39m [===>                                     ]  7.2 %\r",
      "    \u001b[36m\u001b[1mFetching:\u001b[22m\u001b[39m [===>                                     ]  7.4 %\r",
      "    \u001b[36m\u001b[1mFetching:\u001b[22m\u001b[39m [====>                                    ]  7.7 %\r",
      "    \u001b[36m\u001b[1mFetching:\u001b[22m\u001b[39m [====>                                    ]  7.9 %\r",
      "    \u001b[36m\u001b[1mFetching:\u001b[22m\u001b[39m [====>                                    ]  8.2 %\r",
      "    \u001b[36m\u001b[1mFetching:\u001b[22m\u001b[39m [====>                                    ]  8.4 %\r",
      "    \u001b[36m\u001b[1mFetching:\u001b[22m\u001b[39m [====>                                    ]  8.7 %\r",
      "    \u001b[36m\u001b[1mFetching:\u001b[22m\u001b[39m [====>                                    ]  9.0 %\r",
      "    \u001b[36m\u001b[1mFetching:\u001b[22m\u001b[39m [====>                                    ]  9.2 %\r",
      "    \u001b[36m\u001b[1mFetching:\u001b[22m\u001b[39m [====>                                    ]  9.5 %\r",
      "    \u001b[36m\u001b[1mFetching:\u001b[22m\u001b[39m [====>                                    ]  9.7 %\r",
      "    \u001b[36m\u001b[1mFetching:\u001b[22m\u001b[39m [====>                                    ]  10.0 %\r",
      "    \u001b[36m\u001b[1mFetching:\u001b[22m\u001b[39m [=====>                                   ]  10.2 %\r",
      "    \u001b[36m\u001b[1mFetching:\u001b[22m\u001b[39m [=====>                                   ]  10.5 %\r",
      "    \u001b[36m\u001b[1mFetching:\u001b[22m\u001b[39m [=====>                                   ]  10.7 %\r",
      "    \u001b[36m\u001b[1mFetching:\u001b[22m\u001b[39m [=====>                                   ]  11.0 %\r",
      "    \u001b[36m\u001b[1mFetching:\u001b[22m\u001b[39m [=====>                                   ]  11.3 %\r",
      "    \u001b[36m\u001b[1mFetching:\u001b[22m\u001b[39m [=====>                                   ]  11.5 %\r",
      "    \u001b[36m\u001b[1mFetching:\u001b[22m\u001b[39m [=====>                                   ]  11.8 %\r",
      "    \u001b[36m\u001b[1mFetching:\u001b[22m\u001b[39m [=====>                                   ]  12.0 %\r",
      "    \u001b[36m\u001b[1mFetching:\u001b[22m\u001b[39m [=====>                                   ]  12.3 %\r",
      "    \u001b[36m\u001b[1mFetching:\u001b[22m\u001b[39m [======>                                  ]  12.5 %\r",
      "    \u001b[36m\u001b[1mFetching:\u001b[22m\u001b[39m [======>                                  ]  12.8 %\r",
      "    \u001b[36m\u001b[1mFetching:\u001b[22m\u001b[39m [======>                                  ]  13.0 %\r",
      "    \u001b[36m\u001b[1mFetching:\u001b[22m\u001b[39m [======>                                  ]  13.3 %\r",
      "    \u001b[36m\u001b[1mFetching:\u001b[22m\u001b[39m [======>                                  ]  13.6 %\r",
      "    \u001b[36m\u001b[1mFetching:\u001b[22m\u001b[39m [======>                                  ]  13.8 %\r",
      "    \u001b[36m\u001b[1mFetching:\u001b[22m\u001b[39m [======>                                  ]  14.1 %\r",
      "    \u001b[36m\u001b[1mFetching:\u001b[22m\u001b[39m [======>                                  ]  14.3 %\r",
      "    \u001b[36m\u001b[1mFetching:\u001b[22m\u001b[39m [======>                                  ]  14.6 %\r",
      "    \u001b[36m\u001b[1mFetching:\u001b[22m\u001b[39m [======>                                  ]  14.8 %\r",
      "    \u001b[36m\u001b[1mFetching:\u001b[22m\u001b[39m [=======>                                 ]  15.1 %\r",
      "    \u001b[36m\u001b[1mFetching:\u001b[22m\u001b[39m [=======>                                 ]  15.3 %\r",
      "    \u001b[36m\u001b[1mFetching:\u001b[22m\u001b[39m [=======>                                 ]  15.6 %\r",
      "    \u001b[36m\u001b[1mFetching:\u001b[22m\u001b[39m [=======>                                 ]  15.9 %\r",
      "    \u001b[36m\u001b[1mFetching:\u001b[22m\u001b[39m [=======>                                 ]  16.1 %\r",
      "    \u001b[36m\u001b[1mFetching:\u001b[22m\u001b[39m [=======>                                 ]  16.4 %\r",
      "    \u001b[36m\u001b[1mFetching:\u001b[22m\u001b[39m [=======>                                 ]  16.6 %\r",
      "    \u001b[36m\u001b[1mFetching:\u001b[22m\u001b[39m [=======>                                 ]  16.9 %\r",
      "    \u001b[36m\u001b[1mFetching:\u001b[22m\u001b[39m [=======>                                 ]  17.1 %\r",
      "    \u001b[36m\u001b[1mFetching:\u001b[22m\u001b[39m [=======>                                 ]  17.4 %\r",
      "    \u001b[36m\u001b[1mFetching:\u001b[22m\u001b[39m [========>                                ]  17.6 %\r",
      "    \u001b[36m\u001b[1mFetching:\u001b[22m\u001b[39m [========>                                ]  17.9 %\r",
      "    \u001b[36m\u001b[1mFetching:\u001b[22m\u001b[39m [========>                                ]  18.2 %\r",
      "    \u001b[36m\u001b[1mFetching:\u001b[22m\u001b[39m [========>                                ]  18.4 %\r",
      "    \u001b[36m\u001b[1mFetching:\u001b[22m\u001b[39m [========>                                ]  18.7 %\r",
      "    \u001b[36m\u001b[1mFetching:\u001b[22m\u001b[39m [========>                                ]  18.9 %\r",
      "    \u001b[36m\u001b[1mFetching:\u001b[22m\u001b[39m [========>                                ]  19.2 %\r",
      "    \u001b[36m\u001b[1mFetching:\u001b[22m\u001b[39m [========>                                ]  19.4 %\r",
      "    \u001b[36m\u001b[1mFetching:\u001b[22m\u001b[39m [========>                                ]  19.7 %\r",
      "    \u001b[36m\u001b[1mFetching:\u001b[22m\u001b[39m [========>                                ]  19.9 %\r",
      "    \u001b[36m\u001b[1mFetching:\u001b[22m\u001b[39m [=========>                               ]  20.2 %\r",
      "    \u001b[36m\u001b[1mFetching:\u001b[22m\u001b[39m [=========>                               ]  20.5 %\r",
      "    \u001b[36m\u001b[1mFetching:\u001b[22m\u001b[39m [=========>                               ]  20.7 %\r",
      "    \u001b[36m\u001b[1mFetching:\u001b[22m\u001b[39m [=========>                               ]  21.0 %\r",
      "    \u001b[36m\u001b[1mFetching:\u001b[22m\u001b[39m [=========>                               ]  21.2 %\r",
      "    \u001b[36m\u001b[1mFetching:\u001b[22m\u001b[39m [=========>                               ]  21.5 %\r",
      "    \u001b[36m\u001b[1mFetching:\u001b[22m\u001b[39m [=========>                               ]  21.7 %\r",
      "    \u001b[36m\u001b[1mFetching:\u001b[22m\u001b[39m [=========>                               ]  22.0 %\r",
      "    \u001b[36m\u001b[1mFetching:\u001b[22m\u001b[39m [=========>                               ]  22.3 %\r",
      "    \u001b[36m\u001b[1mFetching:\u001b[22m\u001b[39m [==========>                              ]  22.5 %\r",
      "    \u001b[36m\u001b[1mFetching:\u001b[22m\u001b[39m [==========>                              ]  22.8 %\r",
      "    \u001b[36m\u001b[1mFetching:\u001b[22m\u001b[39m [==========>                              ]  23.0 %\r",
      "    \u001b[36m\u001b[1mFetching:\u001b[22m\u001b[39m [==========>                              ]  23.3 %\r",
      "    \u001b[36m\u001b[1mFetching:\u001b[22m\u001b[39m [==========>                              ]  23.5 %\r",
      "    \u001b[36m\u001b[1mFetching:\u001b[22m\u001b[39m [==========>                              ]  23.8 %\r",
      "    \u001b[36m\u001b[1mFetching:\u001b[22m\u001b[39m [==========>                              ]  24.0 %\r",
      "    \u001b[36m\u001b[1mFetching:\u001b[22m\u001b[39m [==========>                              ]  24.3 %\r",
      "    \u001b[36m\u001b[1mFetching:\u001b[22m\u001b[39m [==========>                              ]  24.6 %\r",
      "    \u001b[36m\u001b[1mFetching:\u001b[22m\u001b[39m [==========>                              ]  24.8 %\r",
      "    \u001b[36m\u001b[1mFetching:\u001b[22m\u001b[39m [===========>                             ]  25.1 %\r",
      "    \u001b[36m\u001b[1mFetching:\u001b[22m\u001b[39m [===========>                             ]  25.3 %\r",
      "    \u001b[36m\u001b[1mFetching:\u001b[22m\u001b[39m [===========>                             ]  25.6 %\r",
      "    \u001b[36m\u001b[1mFetching:\u001b[22m\u001b[39m [===========>                             ]  25.8 %\r",
      "    \u001b[36m\u001b[1mFetching:\u001b[22m\u001b[39m [===========>                             ]  26.1 %\r",
      "    \u001b[36m\u001b[1mFetching:\u001b[22m\u001b[39m [===========>                             ]  26.3 %\r",
      "    \u001b[36m\u001b[1mFetching:\u001b[22m\u001b[39m [===========>                             ]  26.6 %\r",
      "    \u001b[36m\u001b[1mFetching:\u001b[22m\u001b[39m [===========>                             ]  26.9 %\r",
      "    \u001b[36m\u001b[1mFetching:\u001b[22m\u001b[39m [===========>                             ]  27.1 %\r",
      "    \u001b[36m\u001b[1mFetching:\u001b[22m\u001b[39m [===========>                             ]  27.4 %\r",
      "    \u001b[36m\u001b[1mFetching:\u001b[22m\u001b[39m [============>                            ]  27.6 %\r",
      "    \u001b[36m\u001b[1mFetching:\u001b[22m\u001b[39m [============>                            ]  27.9 %\r",
      "    \u001b[36m\u001b[1mFetching:\u001b[22m\u001b[39m [============>                            ]  28.1 %\r",
      "    \u001b[36m\u001b[1mFetching:\u001b[22m\u001b[39m [============>                            ]  28.4 %\r",
      "    \u001b[36m\u001b[1mFetching:\u001b[22m\u001b[39m [============>                            ]  28.6 %\r",
      "    \u001b[36m\u001b[1mFetching:\u001b[22m\u001b[39m [============>                            ]  28.9 %\r",
      "    \u001b[36m\u001b[1mFetching:\u001b[22m\u001b[39m [============>                            ]  29.2 %\r",
      "    \u001b[36m\u001b[1mFetching:\u001b[22m\u001b[39m [============>                            ]  29.4 %\r",
      "    \u001b[36m\u001b[1mFetching:\u001b[22m\u001b[39m [============>                            ]  29.7 %\r",
      "    \u001b[36m\u001b[1mFetching:\u001b[22m\u001b[39m [============>                            ]  29.9 %\r",
      "    \u001b[36m\u001b[1mFetching:\u001b[22m\u001b[39m [=============>                           ]  30.2 %\r",
      "    \u001b[36m\u001b[1mFetching:\u001b[22m\u001b[39m [=============>                           ]  30.4 %\r",
      "    \u001b[36m\u001b[1mFetching:\u001b[22m\u001b[39m [=============>                           ]  30.7 %"
     ]
    },
    {
     "name": "stdout",
     "output_type": "stream",
     "text": [
      "\r",
      "    \u001b[36m\u001b[1mFetching:\u001b[22m\u001b[39m [=============>                           ]  30.9 %\r",
      "    \u001b[36m\u001b[1mFetching:\u001b[22m\u001b[39m [=============>                           ]  31.2 %\r",
      "    \u001b[36m\u001b[1mFetching:\u001b[22m\u001b[39m [=============>                           ]  31.5 %\r",
      "    \u001b[36m\u001b[1mFetching:\u001b[22m\u001b[39m [=============>                           ]  31.7 %\r",
      "    \u001b[36m\u001b[1mFetching:\u001b[22m\u001b[39m [=============>                           ]  32.0 %\r",
      "    \u001b[36m\u001b[1mFetching:\u001b[22m\u001b[39m [=============>                           ]  32.2 %\r",
      "    \u001b[36m\u001b[1mFetching:\u001b[22m\u001b[39m [=============>                           ]  32.5 %\r",
      "    \u001b[36m\u001b[1mFetching:\u001b[22m\u001b[39m [==============>                          ]  32.7 %\r",
      "    \u001b[36m\u001b[1mFetching:\u001b[22m\u001b[39m [==============>                          ]  33.0 %\r",
      "    \u001b[36m\u001b[1mFetching:\u001b[22m\u001b[39m [==============>                          ]  33.2 %\r",
      "    \u001b[36m\u001b[1mFetching:\u001b[22m\u001b[39m [==============>                          ]  33.5 %\r",
      "    \u001b[36m\u001b[1mFetching:\u001b[22m\u001b[39m [==============>                          ]  33.8 %\r",
      "    \u001b[36m\u001b[1mFetching:\u001b[22m\u001b[39m [==============>                          ]  34.0 %\r",
      "    \u001b[36m\u001b[1mFetching:\u001b[22m\u001b[39m [==============>                          ]  34.3 %\r",
      "    \u001b[36m\u001b[1mFetching:\u001b[22m\u001b[39m [==============>                          ]  34.5 %\r",
      "    \u001b[36m\u001b[1mFetching:\u001b[22m\u001b[39m [==============>                          ]  34.8 %\r",
      "    \u001b[36m\u001b[1mFetching:\u001b[22m\u001b[39m [===============>                         ]  35.0 %\r",
      "    \u001b[36m\u001b[1mFetching:\u001b[22m\u001b[39m [===============>                         ]  35.3 %\r",
      "    \u001b[36m\u001b[1mFetching:\u001b[22m\u001b[39m [===============>                         ]  35.5 %\r",
      "    \u001b[36m\u001b[1mFetching:\u001b[22m\u001b[39m [===============>                         ]  35.8 %\r",
      "    \u001b[36m\u001b[1mFetching:\u001b[22m\u001b[39m [===============>                         ]  36.1 %\r",
      "    \u001b[36m\u001b[1mFetching:\u001b[22m\u001b[39m [===============>                         ]  36.3 %\r",
      "    \u001b[36m\u001b[1mFetching:\u001b[22m\u001b[39m [===============>                         ]  36.6 %\r",
      "    \u001b[36m\u001b[1mFetching:\u001b[22m\u001b[39m [===============>                         ]  36.8 %\r",
      "    \u001b[36m\u001b[1mFetching:\u001b[22m\u001b[39m [===============>                         ]  37.1 %\r",
      "    \u001b[36m\u001b[1mFetching:\u001b[22m\u001b[39m [===============>                         ]  37.3 %\r",
      "    \u001b[36m\u001b[1mFetching:\u001b[22m\u001b[39m [================>                        ]  37.6 %\r",
      "    \u001b[36m\u001b[1mFetching:\u001b[22m\u001b[39m [================>                        ]  37.9 %\r",
      "    \u001b[36m\u001b[1mFetching:\u001b[22m\u001b[39m [================>                        ]  38.1 %\r",
      "    \u001b[36m\u001b[1mFetching:\u001b[22m\u001b[39m [================>                        ]  38.4 %\r",
      "    \u001b[36m\u001b[1mFetching:\u001b[22m\u001b[39m [================>                        ]  38.6 %\r",
      "    \u001b[36m\u001b[1mFetching:\u001b[22m\u001b[39m [================>                        ]  38.9 %\r",
      "    \u001b[36m\u001b[1mFetching:\u001b[22m\u001b[39m [================>                        ]  39.1 %\r",
      "    \u001b[36m\u001b[1mFetching:\u001b[22m\u001b[39m [================>                        ]  39.4 %\r",
      "    \u001b[36m\u001b[1mFetching:\u001b[22m\u001b[39m [================>                        ]  39.6 %\r",
      "    \u001b[36m\u001b[1mFetching:\u001b[22m\u001b[39m [================>                        ]  39.9 %\r",
      "    \u001b[36m\u001b[1mFetching:\u001b[22m\u001b[39m [=================>                       ]  40.2 %\r",
      "    \u001b[36m\u001b[1mFetching:\u001b[22m\u001b[39m [=================>                       ]  40.4 %\r",
      "    \u001b[36m\u001b[1mFetching:\u001b[22m\u001b[39m [=================>                       ]  40.7 %\r",
      "    \u001b[36m\u001b[1mFetching:\u001b[22m\u001b[39m [=================>                       ]  40.9 %\r",
      "    \u001b[36m\u001b[1mFetching:\u001b[22m\u001b[39m [=================>                       ]  41.2 %\r",
      "    \u001b[36m\u001b[1mFetching:\u001b[22m\u001b[39m [=================>                       ]  41.4 %\r",
      "    \u001b[36m\u001b[1mFetching:\u001b[22m\u001b[39m [=================>                       ]  41.7 %\r",
      "    \u001b[36m\u001b[1mFetching:\u001b[22m\u001b[39m [=================>                       ]  41.9 %\r",
      "    \u001b[36m\u001b[1mFetching:\u001b[22m\u001b[39m [=================>                       ]  42.2 %\r",
      "    \u001b[36m\u001b[1mFetching:\u001b[22m\u001b[39m [=================>                       ]  42.5 %\r",
      "    \u001b[36m\u001b[1mFetching:\u001b[22m\u001b[39m [==================>                      ]  42.7 %\r",
      "    \u001b[36m\u001b[1mFetching:\u001b[22m\u001b[39m [==================>                      ]  43.0 %\r",
      "    \u001b[36m\u001b[1mFetching:\u001b[22m\u001b[39m [==================>                      ]  43.2 %\r",
      "    \u001b[36m\u001b[1mFetching:\u001b[22m\u001b[39m [==================>                      ]  43.5 %\r",
      "    \u001b[36m\u001b[1mFetching:\u001b[22m\u001b[39m [==================>                      ]  43.7 %\r",
      "    \u001b[36m\u001b[1mFetching:\u001b[22m\u001b[39m [==================>                      ]  44.0 %\r",
      "    \u001b[36m\u001b[1mFetching:\u001b[22m\u001b[39m [==================>                      ]  44.2 %\r",
      "    \u001b[36m\u001b[1mFetching:\u001b[22m\u001b[39m [==================>                      ]  44.5 %\r",
      "    \u001b[36m\u001b[1mFetching:\u001b[22m\u001b[39m [==================>                      ]  44.8 %\r",
      "    \u001b[36m\u001b[1mFetching:\u001b[22m\u001b[39m [===================>                     ]  45.0 %\r",
      "    \u001b[36m\u001b[1mFetching:\u001b[22m\u001b[39m [===================>                     ]  45.3 %\r",
      "    \u001b[36m\u001b[1mFetching:\u001b[22m\u001b[39m [===================>                     ]  45.5 %\r",
      "    \u001b[36m\u001b[1mFetching:\u001b[22m\u001b[39m [===================>                     ]  45.8 %\r",
      "    \u001b[36m\u001b[1mFetching:\u001b[22m\u001b[39m [===================>                     ]  46.0 %\r",
      "    \u001b[36m\u001b[1mFetching:\u001b[22m\u001b[39m [===================>                     ]  46.3 %\r",
      "    \u001b[36m\u001b[1mFetching:\u001b[22m\u001b[39m [===================>                     ]  46.5 %\r",
      "    \u001b[36m\u001b[1mFetching:\u001b[22m\u001b[39m [===================>                     ]  46.8 %\r",
      "    \u001b[36m\u001b[1mFetching:\u001b[22m\u001b[39m [===================>                     ]  47.1 %\r",
      "    \u001b[36m\u001b[1mFetching:\u001b[22m\u001b[39m [===================>                     ]  47.3 %\r",
      "    \u001b[36m\u001b[1mFetching:\u001b[22m\u001b[39m [====================>                    ]  47.6 %\r",
      "    \u001b[36m\u001b[1mFetching:\u001b[22m\u001b[39m [====================>                    ]  47.8 %\r",
      "    \u001b[36m\u001b[1mFetching:\u001b[22m\u001b[39m [====================>                    ]  48.1 %\r",
      "    \u001b[36m\u001b[1mFetching:\u001b[22m\u001b[39m [====================>                    ]  48.3 %\r",
      "    \u001b[36m\u001b[1mFetching:\u001b[22m\u001b[39m [====================>                    ]  48.6 %\r",
      "    \u001b[36m\u001b[1mFetching:\u001b[22m\u001b[39m [====================>                    ]  48.8 %\r",
      "    \u001b[36m\u001b[1mFetching:\u001b[22m\u001b[39m [====================>                    ]  49.1 %\r",
      "    \u001b[36m\u001b[1mFetching:\u001b[22m\u001b[39m [====================>                    ]  49.4 %\r",
      "    \u001b[36m\u001b[1mFetching:\u001b[22m\u001b[39m [====================>                    ]  49.6 %\r",
      "    \u001b[36m\u001b[1mFetching:\u001b[22m\u001b[39m [====================>                    ]  49.9 %\r",
      "    \u001b[36m\u001b[1mFetching:\u001b[22m\u001b[39m [=====================>                   ]  50.1 %\r",
      "    \u001b[36m\u001b[1mFetching:\u001b[22m\u001b[39m [=====================>                   ]  50.4 %\r",
      "    \u001b[36m\u001b[1mFetching:\u001b[22m\u001b[39m [=====================>                   ]  50.6 %\r",
      "    \u001b[36m\u001b[1mFetching:\u001b[22m\u001b[39m [=====================>                   ]  50.9 %\r",
      "    \u001b[36m\u001b[1mFetching:\u001b[22m\u001b[39m [=====================>                   ]  51.2 %\r",
      "    \u001b[36m\u001b[1mFetching:\u001b[22m\u001b[39m [=====================>                   ]  51.4 %\r",
      "    \u001b[36m\u001b[1mFetching:\u001b[22m\u001b[39m [=====================>                   ]  51.7 %\r",
      "    \u001b[36m\u001b[1mFetching:\u001b[22m\u001b[39m [=====================>                   ]  51.9 %\r",
      "    \u001b[36m\u001b[1mFetching:\u001b[22m\u001b[39m [=====================>                   ]  52.2 %\r",
      "    \u001b[36m\u001b[1mFetching:\u001b[22m\u001b[39m [=====================>                   ]  52.4 %\r",
      "    \u001b[36m\u001b[1mFetching:\u001b[22m\u001b[39m [======================>                  ]  52.7 %\r",
      "    \u001b[36m\u001b[1mFetching:\u001b[22m\u001b[39m [======================>                  ]  52.9 %\r",
      "    \u001b[36m\u001b[1mFetching:\u001b[22m\u001b[39m [======================>                  ]  53.2 %\r",
      "    \u001b[36m\u001b[1mFetching:\u001b[22m\u001b[39m [======================>                  ]  53.5 %\r",
      "    \u001b[36m\u001b[1mFetching:\u001b[22m\u001b[39m [======================>                  ]  53.7 %\r",
      "    \u001b[36m\u001b[1mFetching:\u001b[22m\u001b[39m [======================>                  ]  54.0 %\r",
      "    \u001b[36m\u001b[1mFetching:\u001b[22m\u001b[39m [======================>                  ]  54.2 %\r",
      "    \u001b[36m\u001b[1mFetching:\u001b[22m\u001b[39m [======================>                  ]  54.5 %\r",
      "    \u001b[36m\u001b[1mFetching:\u001b[22m\u001b[39m [======================>                  ]  54.7 %\r",
      "    \u001b[36m\u001b[1mFetching:\u001b[22m\u001b[39m [======================>                  ]  55.0 %\r",
      "    \u001b[36m\u001b[1mFetching:\u001b[22m\u001b[39m [=======================>                 ]  55.2 %\r",
      "    \u001b[36m\u001b[1mFetching:\u001b[22m\u001b[39m [=======================>                 ]  55.5 %\r",
      "    \u001b[36m\u001b[1mFetching:\u001b[22m\u001b[39m [=======================>                 ]  55.8 %\r",
      "    \u001b[36m\u001b[1mFetching:\u001b[22m\u001b[39m [=======================>                 ]  56.0 %\r",
      "    \u001b[36m\u001b[1mFetching:\u001b[22m\u001b[39m [=======================>                 ]  56.3 %\r",
      "    \u001b[36m\u001b[1mFetching:\u001b[22m\u001b[39m [=======================>                 ]  56.5 %\r",
      "    \u001b[36m\u001b[1mFetching:\u001b[22m\u001b[39m [=======================>                 ]  56.8 %\r",
      "    \u001b[36m\u001b[1mFetching:\u001b[22m\u001b[39m [=======================>                 ]  57.0 %\r",
      "    \u001b[36m\u001b[1mFetching:\u001b[22m\u001b[39m [=======================>                 ]  57.3 %\r",
      "    \u001b[36m\u001b[1mFetching:\u001b[22m\u001b[39m [========================>                ]  57.5 %\r",
      "    \u001b[36m\u001b[1mFetching:\u001b[22m\u001b[39m [========================>                ]  57.8 %\r",
      "    \u001b[36m\u001b[1mFetching:\u001b[22m\u001b[39m [========================>                ]  58.1 %\r",
      "    \u001b[36m\u001b[1mFetching:\u001b[22m\u001b[39m [========================>                ]  58.3 %\r",
      "    \u001b[36m\u001b[1mFetching:\u001b[22m\u001b[39m [========================>                ]  58.6 %\r",
      "    \u001b[36m\u001b[1mFetching:\u001b[22m\u001b[39m [========================>                ]  58.8 %\r",
      "    \u001b[36m\u001b[1mFetching:\u001b[22m\u001b[39m [========================>                ]  59.1 %\r",
      "    \u001b[36m\u001b[1mFetching:\u001b[22m\u001b[39m [========================>                ]  59.3 %\r",
      "    \u001b[36m\u001b[1mFetching:\u001b[22m\u001b[39m [========================>                ]  59.6 %\r",
      "    \u001b[36m\u001b[1mFetching:\u001b[22m\u001b[39m [========================>                ]  59.8 %\r",
      "    \u001b[36m\u001b[1mFetching:\u001b[22m\u001b[39m [=========================>               ]  60.1 %\r",
      "    \u001b[36m\u001b[1mFetching:\u001b[22m\u001b[39m [=========================>               ]  60.4 %\r",
      "    \u001b[36m\u001b[1mFetching:\u001b[22m\u001b[39m [=========================>               ]  60.6 %\r",
      "    \u001b[36m\u001b[1mFetching:\u001b[22m\u001b[39m [=========================>               ]  60.9 %\r",
      "    \u001b[36m\u001b[1mFetching:\u001b[22m\u001b[39m [=========================>               ]  61.1 %\r",
      "    \u001b[36m\u001b[1mFetching:\u001b[22m\u001b[39m [=========================>               ]  61.4 %\r",
      "    \u001b[36m\u001b[1mFetching:\u001b[22m\u001b[39m [=========================>"
     ]
    },
    {
     "name": "stdout",
     "output_type": "stream",
     "text": [
      "               ]  61.6 %\r",
      "    \u001b[36m\u001b[1mFetching:\u001b[22m\u001b[39m [=========================>               ]  61.9 %\r",
      "    \u001b[36m\u001b[1mFetching:\u001b[22m\u001b[39m [=========================>               ]  62.1 %\r",
      "    \u001b[36m\u001b[1mFetching:\u001b[22m\u001b[39m [=========================>               ]  62.4 %\r",
      "    \u001b[36m\u001b[1mFetching:\u001b[22m\u001b[39m [==========================>              ]  62.7 %\r",
      "    \u001b[36m\u001b[1mFetching:\u001b[22m\u001b[39m [==========================>              ]  62.9 %\r",
      "    \u001b[36m\u001b[1mFetching:\u001b[22m\u001b[39m [==========================>              ]  63.2 %\r",
      "    \u001b[36m\u001b[1mFetching:\u001b[22m\u001b[39m [==========================>              ]  63.4 %\r",
      "    \u001b[36m\u001b[1mFetching:\u001b[22m\u001b[39m [==========================>              ]  63.7 %\r",
      "    \u001b[36m\u001b[1mFetching:\u001b[22m\u001b[39m [==========================>              ]  63.9 %\r",
      "    \u001b[36m\u001b[1mFetching:\u001b[22m\u001b[39m [==========================>              ]  64.2 %\r",
      "    \u001b[36m\u001b[1mFetching:\u001b[22m\u001b[39m [==========================>              ]  64.5 %\r",
      "    \u001b[36m\u001b[1mFetching:\u001b[22m\u001b[39m [==========================>              ]  64.7 %\r",
      "    \u001b[36m\u001b[1mFetching:\u001b[22m\u001b[39m [==========================>              ]  65.0 %\r",
      "    \u001b[36m\u001b[1mFetching:\u001b[22m\u001b[39m [===========================>             ]  65.2 %\r",
      "    \u001b[36m\u001b[1mFetching:\u001b[22m\u001b[39m [===========================>             ]  65.5 %\r",
      "    \u001b[36m\u001b[1mFetching:\u001b[22m\u001b[39m [===========================>             ]  65.7 %\r",
      "    \u001b[36m\u001b[1mFetching:\u001b[22m\u001b[39m [===========================>             ]  66.0 %\r",
      "    \u001b[36m\u001b[1mFetching:\u001b[22m\u001b[39m [===========================>             ]  66.2 %\r",
      "    \u001b[36m\u001b[1mFetching:\u001b[22m\u001b[39m [===========================>             ]  66.5 %\r",
      "    \u001b[36m\u001b[1mFetching:\u001b[22m\u001b[39m [===========================>             ]  66.8 %\r",
      "    \u001b[36m\u001b[1mFetching:\u001b[22m\u001b[39m [===========================>             ]  67.0 %\r",
      "    \u001b[36m\u001b[1mFetching:\u001b[22m\u001b[39m [===========================>             ]  67.3 %\r",
      "    \u001b[36m\u001b[1mFetching:\u001b[22m\u001b[39m [============================>            ]  67.5 %\r",
      "    \u001b[36m\u001b[1mFetching:\u001b[22m\u001b[39m [============================>            ]  67.8 %\r",
      "    \u001b[36m\u001b[1mFetching:\u001b[22m\u001b[39m [============================>            ]  68.0 %\r",
      "    \u001b[36m\u001b[1mFetching:\u001b[22m\u001b[39m [============================>            ]  68.3 %\r",
      "    \u001b[36m\u001b[1mFetching:\u001b[22m\u001b[39m [============================>            ]  68.5 %\r",
      "    \u001b[36m\u001b[1mFetching:\u001b[22m\u001b[39m [============================>            ]  68.8 %\r",
      "    \u001b[36m\u001b[1mFetching:\u001b[22m\u001b[39m [============================>            ]  69.1 %\r",
      "    \u001b[36m\u001b[1mFetching:\u001b[22m\u001b[39m [============================>            ]  69.3 %\r",
      "    \u001b[36m\u001b[1mFetching:\u001b[22m\u001b[39m [============================>            ]  69.6 %\r",
      "    \u001b[36m\u001b[1mFetching:\u001b[22m\u001b[39m [============================>            ]  69.8 %\r",
      "    \u001b[36m\u001b[1mFetching:\u001b[22m\u001b[39m [=============================>           ]  70.1 %\r",
      "    \u001b[36m\u001b[1mFetching:\u001b[22m\u001b[39m [=============================>           ]  70.3 %\r",
      "    \u001b[36m\u001b[1mFetching:\u001b[22m\u001b[39m [=============================>           ]  70.6 %\r",
      "    \u001b[36m\u001b[1mFetching:\u001b[22m\u001b[39m [=============================>           ]  70.8 %\r",
      "    \u001b[36m\u001b[1mFetching:\u001b[22m\u001b[39m [=============================>           ]  71.1 %\r",
      "    \u001b[36m\u001b[1mFetching:\u001b[22m\u001b[39m [=============================>           ]  71.4 %\r",
      "    \u001b[36m\u001b[1mFetching:\u001b[22m\u001b[39m [=============================>           ]  71.6 %\r",
      "    \u001b[36m\u001b[1mFetching:\u001b[22m\u001b[39m [=============================>           ]  71.9 %\r",
      "    \u001b[36m\u001b[1mFetching:\u001b[22m\u001b[39m [=============================>           ]  72.1 %\r",
      "    \u001b[36m\u001b[1mFetching:\u001b[22m\u001b[39m [=============================>           ]  72.4 %\r",
      "    \u001b[36m\u001b[1mFetching:\u001b[22m\u001b[39m [==============================>          ]  72.6 %\r",
      "    \u001b[36m\u001b[1mFetching:\u001b[22m\u001b[39m [==============================>          ]  72.9 %\r",
      "    \u001b[36m\u001b[1mFetching:\u001b[22m\u001b[39m [==============================>          ]  73.1 %\r",
      "    \u001b[36m\u001b[1mFetching:\u001b[22m\u001b[39m [==============================>          ]  73.4 %\r",
      "    \u001b[36m\u001b[1mFetching:\u001b[22m\u001b[39m [==============================>          ]  73.7 %\r",
      "    \u001b[36m\u001b[1mFetching:\u001b[22m\u001b[39m [==============================>          ]  73.9 %\r",
      "    \u001b[36m\u001b[1mFetching:\u001b[22m\u001b[39m [==============================>          ]  74.2 %\r",
      "    \u001b[36m\u001b[1mFetching:\u001b[22m\u001b[39m [==============================>          ]  74.4 %\r",
      "    \u001b[36m\u001b[1mFetching:\u001b[22m\u001b[39m [==============================>          ]  74.7 %\r",
      "    \u001b[36m\u001b[1mFetching:\u001b[22m\u001b[39m [==============================>          ]  74.9 %\r",
      "    \u001b[36m\u001b[1mFetching:\u001b[22m\u001b[39m [===============================>         ]  75.2 %\r",
      "    \u001b[36m\u001b[1mFetching:\u001b[22m\u001b[39m [===============================>         ]  75.4 %\r",
      "    \u001b[36m\u001b[1mFetching:\u001b[22m\u001b[39m [===============================>         ]  75.7 %\r",
      "    \u001b[36m\u001b[1mFetching:\u001b[22m\u001b[39m [===============================>         ]  76.0 %\r",
      "    \u001b[36m\u001b[1mFetching:\u001b[22m\u001b[39m [===============================>         ]  76.2 %\r",
      "    \u001b[36m\u001b[1mFetching:\u001b[22m\u001b[39m [===============================>         ]  76.5 %\r",
      "    \u001b[36m\u001b[1mFetching:\u001b[22m\u001b[39m [===============================>         ]  76.7 %\r",
      "    \u001b[36m\u001b[1mFetching:\u001b[22m\u001b[39m [===============================>         ]  77.0 %\r",
      "    \u001b[36m\u001b[1mFetching:\u001b[22m\u001b[39m [===============================>         ]  77.2 %\r",
      "    \u001b[36m\u001b[1mFetching:\u001b[22m\u001b[39m [===============================>         ]  77.5 %\r",
      "    \u001b[36m\u001b[1mFetching:\u001b[22m\u001b[39m [================================>        ]  77.7 %\r",
      "    \u001b[36m\u001b[1mFetching:\u001b[22m\u001b[39m [================================>        ]  78.0 %\r",
      "    \u001b[36m\u001b[1mFetching:\u001b[22m\u001b[39m [================================>        ]  78.3 %\r",
      "    \u001b[36m\u001b[1mFetching:\u001b[22m\u001b[39m [================================>        ]  78.5 %\r",
      "    \u001b[36m\u001b[1mFetching:\u001b[22m\u001b[39m [================================>        ]  78.8 %\r",
      "    \u001b[36m\u001b[1mFetching:\u001b[22m\u001b[39m [================================>        ]  79.0 %\r",
      "    \u001b[36m\u001b[1mFetching:\u001b[22m\u001b[39m [================================>        ]  79.3 %\r",
      "    \u001b[36m\u001b[1mFetching:\u001b[22m\u001b[39m [================================>        ]  79.5 %\r",
      "    \u001b[36m\u001b[1mFetching:\u001b[22m\u001b[39m [================================>        ]  79.8 %\r",
      "    \u001b[36m\u001b[1mFetching:\u001b[22m\u001b[39m [=================================>       ]  80.1 %\r",
      "    \u001b[36m\u001b[1mFetching:\u001b[22m\u001b[39m [=================================>       ]  80.3 %\r",
      "    \u001b[36m\u001b[1mFetching:\u001b[22m\u001b[39m [=================================>       ]  80.6 %\r",
      "    \u001b[36m\u001b[1mFetching:\u001b[22m\u001b[39m [=================================>       ]  80.8 %\r",
      "    \u001b[36m\u001b[1mFetching:\u001b[22m\u001b[39m [=================================>       ]  81.1 %\r",
      "    \u001b[36m\u001b[1mFetching:\u001b[22m\u001b[39m [=================================>       ]  81.3 %\r",
      "    \u001b[36m\u001b[1mFetching:\u001b[22m\u001b[39m [=================================>       ]  81.6 %\r",
      "    \u001b[36m\u001b[1mFetching:\u001b[22m\u001b[39m [=================================>       ]  81.8 %\r",
      "    \u001b[36m\u001b[1mFetching:\u001b[22m\u001b[39m [=================================>       ]  82.1 %\r",
      "    \u001b[36m\u001b[1mFetching:\u001b[22m\u001b[39m [=================================>       ]  82.4 %\r",
      "    \u001b[36m\u001b[1mFetching:\u001b[22m\u001b[39m [==================================>      ]  82.6 %\r",
      "    \u001b[36m\u001b[1mFetching:\u001b[22m\u001b[39m [==================================>      ]  82.9 %\r",
      "    \u001b[36m\u001b[1mFetching:\u001b[22m\u001b[39m [==================================>      ]  83.1 %\r",
      "    \u001b[36m\u001b[1mFetching:\u001b[22m\u001b[39m [==================================>      ]  83.4 %\r",
      "    \u001b[36m\u001b[1mFetching:\u001b[22m\u001b[39m [==================================>      ]  83.6 %\r",
      "    \u001b[36m\u001b[1mFetching:\u001b[22m\u001b[39m [==================================>      ]  83.9 %\r",
      "    \u001b[36m\u001b[1mFetching:\u001b[22m\u001b[39m [==================================>      ]  84.1 %\r",
      "    \u001b[36m\u001b[1mFetching:\u001b[22m\u001b[39m [==================================>      ]  84.4 %\r",
      "    \u001b[36m\u001b[1mFetching:\u001b[22m\u001b[39m [==================================>      ]  84.7 %\r",
      "    \u001b[36m\u001b[1mFetching:\u001b[22m\u001b[39m [==================================>      ]  84.9 %\r",
      "    \u001b[36m\u001b[1mFetching:\u001b[22m\u001b[39m [===================================>     ]  85.2 %\r",
      "    \u001b[36m\u001b[1mFetching:\u001b[22m\u001b[39m [===================================>     ]  85.4 %\r",
      "    \u001b[36m\u001b[1mFetching:\u001b[22m\u001b[39m [===================================>     ]  85.7 %\r",
      "    \u001b[36m\u001b[1mFetching:\u001b[22m\u001b[39m [===================================>     ]  85.9 %\r",
      "    \u001b[36m\u001b[1mFetching:\u001b[22m\u001b[39m [===================================>     ]  86.2 %\r",
      "    \u001b[36m\u001b[1mFetching:\u001b[22m\u001b[39m [===================================>     ]  86.4 %\r",
      "    \u001b[36m\u001b[1mFetching:\u001b[22m\u001b[39m [===================================>     ]  86.7 %\r",
      "    \u001b[36m\u001b[1mFetching:\u001b[22m\u001b[39m [===================================>     ]  87.0 %\r",
      "    \u001b[36m\u001b[1mFetching:\u001b[22m\u001b[39m [===================================>     ]  87.2 %\r",
      "    \u001b[36m\u001b[1mFetching:\u001b[22m\u001b[39m [===================================>     ]  87.5 %\r",
      "    \u001b[36m\u001b[1mFetching:\u001b[22m\u001b[39m [====================================>    ]  87.7 %\r",
      "    \u001b[36m\u001b[1mFetching:\u001b[22m\u001b[39m [====================================>    ]  88.0 %\r",
      "    \u001b[36m\u001b[1mFetching:\u001b[22m\u001b[39m [====================================>    ]  88.2 %\r",
      "    \u001b[36m\u001b[1mFetching:\u001b[22m\u001b[39m [====================================>    ]  88.5 %\r",
      "    \u001b[36m\u001b[1mFetching:\u001b[22m\u001b[39m [====================================>    ]  88.7 %\r",
      "    \u001b[36m\u001b[1mFetching:\u001b[22m\u001b[39m [====================================>    ]  89.0 %\r",
      "    \u001b[36m\u001b[1mFetching:\u001b[22m\u001b[39m [====================================>    ]  89.3 %\r",
      "    \u001b[36m\u001b[1mFetching:\u001b[22m\u001b[39m [====================================>    ]  89.5 %\r",
      "    \u001b[36m\u001b[1mFetching:\u001b[22m\u001b[39m [====================================>    ]  89.8 %\r",
      "    \u001b[36m\u001b[1mFetching:\u001b[22m\u001b[39m [=====================================>   ]  90.0 %\r",
      "    \u001b[36m\u001b[1mFetching:\u001b[22m\u001b[39m [=====================================>   ]  90.3 %\r",
      "    \u001b[36m\u001b[1mFetching:\u001b[22m\u001b[39m [=====================================>   ]  90.5 %\r",
      "    \u001b[36m\u001b[1mFetching:\u001b[22m\u001b[39m [=====================================>   ]  90.8 %\r",
      "    \u001b[36m\u001b[1mFetching:\u001b[22m\u001b[39m [=====================================>   ]  91.0 %\r",
      "    \u001b[36m\u001b[1mFetching:\u001b[22m\u001b[39m [=====================================>   ]  91.3 %\r",
      "    \u001b[36m\u001b[1mFetching:\u001b[22m\u001b[39m [=====================================>   ]  91.6 %\r",
      "    \u001b[36m\u001b[1mFetching:\u001b[22m\u001b[39m [=====================================>   ]  91.8 %\r",
      "    \u001b[36m\u001b[1mFetching:\u001b[22m\u001b[39m [=====================================>   ]  92.1 %\r",
      "    \u001b[36m\u001b[1mFetching:\u001b[22m\u001b[39m [=====================================>   ]  92.3 %\r",
      "    \u001b[36m\u001b[1mFetching:\u001b[22m\u001b[39m"
     ]
    },
    {
     "name": "stdout",
     "output_type": "stream",
     "text": [
      "\u001b[2K\u001b[?25h\u001b[?25l    g:\u001b[22m\u001b[39m [========================================>]  100.0 %"
     ]
    },
    {
     "name": "stderr",
     "output_type": "stream",
     "text": [
      "\u001b[32m\u001b[1m   Updating\u001b[22m\u001b[39m git-repo `https://github.com/d9w/Cambrian.jl`\n"
     ]
    },
    {
     "name": "stdout",
     "output_type": "stream",
     "text": [
      "\u001b[36m\u001b[1mFetching:\u001b[22m\u001b[39m [>                                        ]  0.0 %\r",
      "    \u001b[36m\u001b[1mFetching:\u001b[22m\u001b[39m [=====>                                   ]  11.1 %\r",
      "    \u001b[36m\u001b[1mFetching:\u001b[22m\u001b[39m [=========>                               ]  22.2 %\r",
      "    \u001b[36m\u001b[1mFetching:\u001b[22m\u001b[39m [==============>                          ]  33.3 %\r",
      "    \u001b[36m\u001b[1mFetching:\u001b[22m\u001b[39m [==================>                      ]  44.4 %\r",
      "    \u001b[36m\u001b[1mFetching:\u001b[22m\u001b[39m [=======================>                 ]  55.6 %\r",
      "    \u001b[36m\u001b[1mFetching:\u001b[22m\u001b[39m [===========================>             ]  66.7 %\r",
      "    \u001b[36m\u001b[1mFetching:\u001b[22m\u001b[39m [================================>        ]  77.8 %\r",
      "    \u001b[36m\u001b[1mFetching:\u001b[22m\u001b[39m [====================================>    ]  88.9 %\r",
      "    \u001b[36m\u001b[1mFetching:\u001b[22m\u001b[39m [========================================>]  100.0 %\r",
      "\u001b[2K\u001b[?25h"
     ]
    },
    {
     "name": "stderr",
     "output_type": "stream",
     "text": [
      "\u001b[32m\u001b[1m  Resolving\u001b[22m\u001b[39m package versions...\n",
      "\u001b[32m\u001b[1mUpdating\u001b[22m\u001b[39m `~/.julia/environments/v1.5/Project.toml`\n",
      " \u001b[90m [7f27c84d] \u001b[39m"
     ]
    },
    {
     "name": "stdout",
     "output_type": "stream",
     "text": [
      "\u001b[?25l    "
     ]
    },
    {
     "name": "stderr",
     "output_type": "stream",
     "text": [
      "\u001b[92m+ Cambrian v0.2.1 `https://github.com/d9w/Cambrian.jl#master`\u001b[39m\n",
      "\u001b[32m\u001b[1mUpdating\u001b[22m\u001b[39m `~/.julia/environments/v1.5/Manifest.toml`\n",
      " \u001b[90m [7f27c84d] \u001b[39m\u001b[92m+ Cambrian v0.2.1 `https://github.com/d9w/Cambrian.jl#master`\u001b[39m\n",
      " \u001b[90m [ddb6d928] \u001b[39m\u001b[92m+ YAML v0.4.6\u001b[39m\n",
      "\u001b[32m\u001b[1m    Cloning\u001b[22m\u001b[39m git-repo `https://github.com/d9w/CartesianGeneticProgramming.jl`\n"
     ]
    },
    {
     "name": "stdout",
     "output_type": "stream",
     "text": [
      "\u001b[36m\u001b[1mFetching:\u001b[22m\u001b[39m [>                                        ]  0.0 %\r",
      "    \u001b[36m\u001b[1mFetching:\u001b[22m\u001b[39m [=>                                       ]  0.1 %\r",
      "    \u001b[36m\u001b[1mFetching:\u001b[22m\u001b[39m [=>                                       ]  0.2 %\r",
      "    \u001b[36m\u001b[1mFetching:\u001b[22m\u001b[39m [=>                                       ]  0.3 %\r",
      "    \u001b[36m\u001b[1mFetching:\u001b[22m\u001b[39m [=>                                       ]  0.4 %\r",
      "    \u001b[36m\u001b[1mFetching:\u001b[22m\u001b[39m [=>                                       ]  0.5 %\r",
      "    \u001b[36m\u001b[1mFetching:\u001b[22m\u001b[39m [=>                                       ]  0.6 %\r",
      "    \u001b[36m\u001b[1mFetching:\u001b[22m\u001b[39m [=>                                       ]  0.7 %\r",
      "    \u001b[36m\u001b[1mFetching:\u001b[22m\u001b[39m [=>                                       ]  0.8 %\r",
      "    \u001b[36m\u001b[1mFetching:\u001b[22m\u001b[39m [=>                                       ]  0.9 %\r",
      "    \u001b[36m\u001b[1mFetching:\u001b[22m\u001b[39m [=>                                       ]  1.0 %\r",
      "    \u001b[36m\u001b[1mFetching:\u001b[22m\u001b[39m [=>                                       ]  1.1 %\r",
      "    \u001b[36m\u001b[1mFetching:\u001b[22m\u001b[39m [=>                                       ]  1.2 %\r",
      "    \u001b[36m\u001b[1mFetching:\u001b[22m\u001b[39m [=>                                       ]  1.3 %\r",
      "    \u001b[36m\u001b[1mFetching:\u001b[22m\u001b[39m [=>                                       ]  1.4 %\r",
      "    \u001b[36m\u001b[1mFetching:\u001b[22m\u001b[39m [=>                                       ]  1.6 %\r",
      "    \u001b[36m\u001b[1mFetching:\u001b[22m\u001b[39m [=>                                       ]  1.7 %\r",
      "    \u001b[36m\u001b[1mFetching:\u001b[22m\u001b[39m [=>                                       ]  1.8 %\r",
      "    \u001b[36m\u001b[1mFetching:\u001b[22m\u001b[39m [=>                                       ]  1.9 %\r",
      "    \u001b[36m\u001b[1mFetching:\u001b[22m\u001b[39m [=>                                       ]  2.0 %\r",
      "    \u001b[36m\u001b[1mFetching:\u001b[22m\u001b[39m [=>                                       ]  2.1 %\r",
      "    \u001b[36m\u001b[1mFetching:\u001b[22m\u001b[39m [=>                                       ]  2.2 %\r",
      "    \u001b[36m\u001b[1mFetching:\u001b[22m\u001b[39m [=>                                       ]  2.3 %\r",
      "    \u001b[36m\u001b[1mFetching:\u001b[22m\u001b[39m [=>                                       ]  2.4 %\r",
      "    \u001b[36m\u001b[1mFetching:\u001b[22m\u001b[39m [=>                                       ]  2.5 %\r",
      "    \u001b[36m\u001b[1mFetching:\u001b[22m\u001b[39m [==>                                      ]  2.6 %\r",
      "    \u001b[36m\u001b[1mFetching:\u001b[22m\u001b[39m [==>                                      ]  2.7 %\r",
      "    \u001b[36m\u001b[1mFetching:\u001b[22m\u001b[39m [==>                                      ]  2.8 %\r",
      "    \u001b[36m\u001b[1mFetching:\u001b[22m\u001b[39m [==>                                      ]  2.9 %\r",
      "    \u001b[36m\u001b[1mFetching:\u001b[22m\u001b[39m [==>                                      ]  3.0 %\r",
      "    \u001b[36m\u001b[1mFetching:\u001b[22m\u001b[39m [==>                                      ]  3.1 %\r",
      "    \u001b[36m\u001b[1mFetching:\u001b[22m\u001b[39m [==>                                      ]  3.2 %\r",
      "    \u001b[36m\u001b[1mFetching:\u001b[22m\u001b[39m [==>                                      ]  3.3 %\r",
      "    \u001b[36m\u001b[1mFetching:\u001b[22m\u001b[39m [==>                                      ]  3.4 %\r",
      "    \u001b[36m\u001b[1mFetching:\u001b[22m\u001b[39m [==>                                      ]  3.5 %\r",
      "    \u001b[36m\u001b[1mFetching:\u001b[22m\u001b[39m [==>                                      ]  3.6 %\r",
      "    \u001b[36m\u001b[1mFetching:\u001b[22m\u001b[39m [==>                                      ]  3.7 %\r",
      "    \u001b[36m\u001b[1mFetching:\u001b[22m\u001b[39m [==>                                      ]  3.8 %\r",
      "    \u001b[36m\u001b[1mFetching:\u001b[22m\u001b[39m [==>                                      ]  3.9 %\r",
      "    \u001b[36m\u001b[1mFetching:\u001b[22m\u001b[39m [==>                                      ]  4.0 %\r",
      "    \u001b[36m\u001b[1mFetching:\u001b[22m\u001b[39m [==>                                      ]  4.1 %\r",
      "    \u001b[36m\u001b[1mFetching:\u001b[22m\u001b[39m [==>                                      ]  4.2 %\r",
      "    \u001b[36m\u001b[1mFetching:\u001b[22m\u001b[39m [==>                                      ]  4.3 %\r",
      "    \u001b[36m\u001b[1mFetching:\u001b[22m\u001b[39m [==>                                      ]  4.4 %\r",
      "    \u001b[36m\u001b[1mFetching:\u001b[22m\u001b[39m [==>                                      ]  4.6 %\r",
      "    \u001b[36m\u001b[1mFetching:\u001b[22m\u001b[39m [==>                                      ]  4.7 %\r",
      "    \u001b[36m\u001b[1mFetching:\u001b[22m\u001b[39m [==>                                      ]  4.8 %\r",
      "    \u001b[36m\u001b[1mFetching:\u001b[22m\u001b[39m [==>                                      ]  4.9 %\r",
      "    \u001b[36m\u001b[1mFetching:\u001b[22m\u001b[39m [==>                                      ]  5.0 %\r",
      "    \u001b[36m\u001b[1mFetching:\u001b[22m\u001b[39m [===>                                     ]  5.1 %\r",
      "    \u001b[36m\u001b[1mFetching:\u001b[22m\u001b[39m [===>                                     ]  5.2 %\r",
      "    \u001b[36m\u001b[1mFetching:\u001b[22m\u001b[39m [===>                                     ]  5.3 %\r",
      "    \u001b[36m\u001b[1mFetching:\u001b[22m\u001b[39m [===>                                     ]  5.4 %\r",
      "    \u001b[36m\u001b[1mFetching:\u001b[22m\u001b[39m [===>                                     ]  5.5 %\r",
      "    \u001b[36m\u001b[1mFetching:\u001b[22m\u001b[39m [===>                                     ]  5.6 %\r",
      "    \u001b[36m\u001b[1mFetching:\u001b[22m\u001b[39m [===>                                     ]  5.7 %\r",
      "    \u001b[36m\u001b[1mFetching:\u001b[22m\u001b[39m [===>                                     ]  5.8 %\r",
      "    \u001b[36m\u001b[1mFetching:\u001b[22m\u001b[39m [===>                                     ]  5.9 %\r",
      "    \u001b[36m\u001b[1mFetching:\u001b[22m\u001b[39m [===>                                     ]  6.0 %\r",
      "    \u001b[36m\u001b[1mFetching:\u001b[22m\u001b[39m [===>                                     ]  6.1 %\r",
      "    \u001b[36m\u001b[1mFetching:\u001b[22m\u001b[39m [===>                                     ]  6.2 %\r",
      "    \u001b[36m\u001b[1mFetching:\u001b[22m\u001b[39m [===>                                     ]  6.3 %\r",
      "    \u001b[36m\u001b[1mFetching:\u001b[22m\u001b[39m [===>                                     ]  6.4 %\r",
      "    \u001b[36m\u001b[1mFetching:\u001b[22m\u001b[39m [===>                                     ]  6.5 %\r",
      "    \u001b[36m\u001b[1mFetching:\u001b[22m\u001b[39m [===>                                     ]  6.6 %\r",
      "    \u001b[36m\u001b[1mFetching:\u001b[22m\u001b[39m [===>                                     ]  6.7 %\r",
      "    \u001b[36m\u001b[1mFetching:\u001b[22m\u001b[39m [===>                                     ]  6.8 %\r",
      "    \u001b[36m\u001b[1mFetching:\u001b[22m\u001b[39m [===>                                     ]  6.9 %\r",
      "    \u001b[36m\u001b[1mFetching:\u001b[22m\u001b[39m [===>                                     ]  7.0 %\r",
      "    \u001b[36m\u001b[1mFetching:\u001b[22m\u001b[39m [===>                                     ]  7.1 %\r",
      "    \u001b[36m\u001b[1mFetching:\u001b[22m\u001b[39m [===>                                     ]  7.2 %\r",
      "    \u001b[36m\u001b[1mFetching:\u001b[22m\u001b[39m [===>                                     ]  7.3 %\r",
      "    \u001b[36m\u001b[1mFetching:\u001b[22m\u001b[39m [===>                                     ]  7.4 %\r",
      "    \u001b[36m\u001b[1mFetching:\u001b[22m\u001b[39m [====>                                    ]  7.6 %\r",
      "    \u001b[36m\u001b[1mFetching:\u001b[22m\u001b[39m [====>                                    ]  7.7 %\r",
      "    \u001b[36m\u001b[1mFetching:\u001b[22m\u001b[39m [====>                                    ]  7.8 %\r",
      "    \u001b[36m\u001b[1mFetching:\u001b[22m\u001b[39m [====>                                    ]  7.9 %\r",
      "    \u001b[36m\u001b[1mFetching:\u001b[22m\u001b[39m [====>                                    ]  8.0 %\r",
      "    \u001b[36m\u001b[1mFetching:\u001b[22m\u001b[39m [====>                                    ]  8.1 %\r",
      "    \u001b[36m\u001b[1mFetching:\u001b[22m\u001b[39m [====>                                    ]  8.2 %\r",
      "    \u001b[36m\u001b[1mFetching:\u001b[22m\u001b[39m [====>                                    ]  8.3 %\r",
      "    \u001b[36m\u001b[1mFetching:\u001b[22m\u001b[39m [====>                                    ]  8.4 %\r",
      "    \u001b[36m\u001b[1mFetching:\u001b[22m\u001b[39m [====>                                    ]  8.5 %\r",
      "    \u001b[36m\u001b[1mFetching:\u001b[22m\u001b[39m [====>                                    ]  8.6 %\r",
      "    \u001b[36m\u001b[1mFetching:\u001b[22m\u001b[39m [====>                                    ]  8.7 %\r",
      "    \u001b[36m\u001b[1mFetching:\u001b[22m\u001b[39m [====>                                    ]  8.8 %\r",
      "    \u001b[36m\u001b[1mFetching:\u001b[22m\u001b[39m [====>                                    ]  8.9 %\r",
      "    \u001b[36m\u001b[1mFetching:\u001b[22m\u001b[39m [====>                                    ]  9.0 %\r",
      "    \u001b[36m\u001b[1mFetching:\u001b[22m\u001b[39m [====>                                    ]  9.1 %\r",
      "    \u001b[36m\u001b[1mFetching:\u001b[22m\u001b[39m [====>                                    ]  9.2 %\r",
      "    \u001b[36m\u001b[1mFetching:\u001b[22m\u001b[39m [====>                                    ]  9.3 %\r",
      "    \u001b[36m\u001b[1mFetching:\u001b[22m\u001b[39m [====>                                    ]  9.4 %\r",
      "    \u001b[36m\u001b[1mFetching:\u001b[22m\u001b[39m [====>                                    ]  9.5 %\r",
      "    \u001b[36m\u001b[1mFetching:\u001b[22m\u001b[39m [====>                                    ]  9.6 %\r",
      "    \u001b[36m\u001b[1mFetching:\u001b[22m\u001b[39m [====>                                    ]  9.7 %\r",
      "    \u001b[36m\u001b[1mFetching:\u001b[22m\u001b[39m [====>                                    ]  9.8 %\r",
      "    \u001b[36m\u001b[1mFetching:\u001b[22m\u001b[39m [====>                                    ]  9.9 %\r",
      "    \u001b[36m\u001b[1mFetching:\u001b[22m\u001b[39m [=====>                                   ]  10.0 %\r",
      "    \u001b[36m\u001b[1mFetching:\u001b[22m\u001b[39m [=====>                                   ]  10.1 %\r",
      "    \u001b[36m\u001b[1mFetching:\u001b[22m\u001b[39m [=====>                                   ]  10.2 %\r",
      "    \u001b[36m\u001b[1mFetching:\u001b[22m\u001b[39m [=====>                                   ]  10.3 %\r",
      "    \u001b[36m\u001b[1mFetching:\u001b[22m\u001b[39m [=====>                                   ]  10.5 %\r",
      "    \u001b[36m\u001b[1mFetching:\u001b[22m\u001b[39m [=====>                                   ]  10.6 %\r",
      "    \u001b[36m\u001b[1mFetching:\u001b[22m\u001b[39m [=====>                                   ]  10.7 %\r",
      "    \u001b[36m\u001b[1mFetching:\u001b[22m\u001b[39m [=====>                                   ]  10.8 %\r",
      "    \u001b[36m\u001b[1mFetching:\u001b[22m\u001b[39m [=====>                                   ]  10.9 %\r",
      "    \u001b[36m\u001b[1mFetching:\u001b[22m\u001b[39m [=====>                                   ]  11.0 %\r",
      "    \u001b[36m\u001b[1mFetching:\u001b[22m\u001b[39m [=====>                                   ]  11.1 %\r",
      "    \u001b[36m\u001b[1mFetching:\u001b[22m\u001b[39m [=====>                                   ]  11.2 %\r",
      "    \u001b[36m\u001b[1mFetching:\u001b[22m\u001b[39m [=====>                                   ]  11.3 %\r",
      "    \u001b[36m\u001b[1mFetching:\u001b[22m\u001b[39m [=====>                                   ]  11.4 %\r",
      "    \u001b[36m\u001b[1mFetching:\u001b[22m\u001b[39m [=====>                                   ]  11.5 %\r",
      "    \u001b[36m\u001b[1mFetching:\u001b[22m\u001b[39m [=====>                                   ]  11.6 %\r",
      "    \u001b[36m\u001b[1mFetching:\u001b[22m\u001b[39m [=====>                                   ]  11.7 %\r",
      "    \u001b[36m\u001b[1mFetching:\u001b[22m\u001b[39m [=====>                                   ]  11.8 %\r",
      "    \u001b[36m\u001b[1mFetching:\u001b[22m\u001b[39m [=====>                                   ]  11.9 %\r",
      "    \u001b[36m\u001b[1mFetching:\u001b[22m\u001b[39m [=====>                                   ]  12.0 %\r",
      "    \u001b[36m\u001b[1mFetching:\u001b[22m\u001b[39m [=====>                                   ]  12.1 %\r",
      "    \u001b[36m\u001b[1mFetching:\u001b[22m\u001b[39m [=====>                                   ]  12.2 %\r",
      "    \u001b[36m\u001b[1mFetching:\u001b[22m\u001b[39m [=====>                                   ]  12.3 %\r",
      "    \u001b[36m\u001b[1mFetching:\u001b[22m\u001b[39m [=====>                                   ]  12.4 %\r",
      "    \u001b[36m\u001b[1mFetching:\u001b[22m\u001b[39m [======>                                  ]  "
     ]
    },
    {
     "name": "stdout",
     "output_type": "stream",
     "text": [
      "\u001b[2K\u001b[?25h\u001b[?25l    g:\u001b[22m\u001b[39m [========================================>]  99.9 %>                             ]  26.4 %\u001b[36m\u001b[1mFetching:\u001b[22m\u001b[39m [================>                        ]  38.9 %                   ]  51.3 % [==========================>              ]  63.8 %76.3 %>    ]  88.8 % ]  95.7 %"
     ]
    },
    {
     "name": "stderr",
     "output_type": "stream",
     "text": [
      "\u001b[32m\u001b[1m   Updating\u001b[22m\u001b[39m git-repo `https://github.com/d9w/CartesianGeneticProgramming.jl`\n"
     ]
    },
    {
     "name": "stdout",
     "output_type": "stream",
     "text": [
      "\u001b[36m\u001b[1mFetching:\u001b[22m\u001b[39m [>                                        ]  0.0 %\r",
      "    \u001b[36m\u001b[1mFetching:\u001b[22m\u001b[39m [=>                                       ]  2.1 %\r",
      "    \u001b[36m\u001b[1mFetching:\u001b[22m\u001b[39m [==>                                      ]  4.3 %\r",
      "    \u001b[36m\u001b[1mFetching:\u001b[22m\u001b[39m [===>                                     ]  6.4 %\r",
      "    \u001b[36m\u001b[1mFetching:\u001b[22m\u001b[39m [====>                                    ]  8.5 %\r",
      "    \u001b[36m\u001b[1mFetching:\u001b[22m\u001b[39m [=====>                                   ]  10.6 %\r",
      "    \u001b[36m\u001b[1mFetching:\u001b[22m\u001b[39m [======>                                  ]  12.8 %\r",
      "    \u001b[36m\u001b[1mFetching:\u001b[22m\u001b[39m [======>                                  ]  14.9 %\r",
      "    \u001b[36m\u001b[1mFetching:\u001b[22m\u001b[39m [=======>                                 ]  17.0 %\r",
      "    \u001b[36m\u001b[1mFetching:\u001b[22m\u001b[39m [========>                                ]  19.1 %\r",
      "    \u001b[36m\u001b[1mFetching:\u001b[22m\u001b[39m [=========>                               ]  21.3 %\r",
      "    \u001b[36m\u001b[1mFetching:\u001b[22m\u001b[39m [==========>                              ]  23.4 %\r",
      "    \u001b[36m\u001b[1mFetching:\u001b[22m\u001b[39m [===========>                             ]  25.5 %\r",
      "    \u001b[36m\u001b[1mFetching:\u001b[22m\u001b[39m [============>                            ]  27.7 %\r",
      "    \u001b[36m\u001b[1mFetching:\u001b[22m\u001b[39m [============>                            ]  29.8 %\r",
      "    \u001b[36m\u001b[1mFetching:\u001b[22m\u001b[39m [=============>                           ]  31.9 %\r",
      "    \u001b[36m\u001b[1mFetching:\u001b[22m\u001b[39m [==============>                          ]  34.0 %\r",
      "    \u001b[36m\u001b[1mFetching:\u001b[22m\u001b[39m [===============>                         ]  36.2 %\r",
      "    \u001b[36m\u001b[1mFetching:\u001b[22m\u001b[39m [================>                        ]  38.3 %\r",
      "    \u001b[36m\u001b[1mFetching:\u001b[22m\u001b[39m [=================>                       ]  40.4 %\r",
      "    \u001b[36m\u001b[1mFetching:\u001b[22m\u001b[39m [==================>                      ]  42.6 %\r",
      "    \u001b[36m\u001b[1mFetching:\u001b[22m\u001b[39m [==================>                      ]  44.7 %\r",
      "    \u001b[36m\u001b[1mFetching:\u001b[22m\u001b[39m [===================>                     ]  46.8 %\r",
      "    \u001b[36m\u001b[1mFetching:\u001b[22m\u001b[39m [====================>                    ]  48.9 %\r",
      "    \u001b[36m\u001b[1mFetching:\u001b[22m\u001b[39m [=====================>                   ]  51.1 %\r",
      "    \u001b[36m\u001b[1mFetching:\u001b[22m\u001b[39m [======================>                  ]  53.2 %\r",
      "    \u001b[36m\u001b[1mFetching:\u001b[22m\u001b[39m [=======================>                 ]  55.3 %\r",
      "    \u001b[36m\u001b[1mFetching:\u001b[22m\u001b[39m [=======================>                 ]  57.4 %\r",
      "    \u001b[36m\u001b[1mFetching:\u001b[22m\u001b[39m [========================>                ]  59.6 %\r",
      "    \u001b[36m\u001b[1mFetching:\u001b[22m\u001b[39m [=========================>               ]  61.7 %\r",
      "    \u001b[36m\u001b[1mFetching:\u001b[22m\u001b[39m [==========================>              ]  63.8 %\r",
      "    \u001b[36m\u001b[1mFetching:\u001b[22m\u001b[39m [===========================>             ]  66.0 %\r",
      "    \u001b[36m\u001b[1mFetching:\u001b[22m\u001b[39m [============================>            ]  68.1 %\r",
      "    \u001b[36m\u001b[1mFetching:\u001b[22m\u001b[39m [=============================>           ]  70.2 %\r",
      "    \u001b[36m\u001b[1mFetching:\u001b[22m\u001b[39m [=============================>           ]  72.3 %\r",
      "    \u001b[36m\u001b[1mFetching:\u001b[22m\u001b[39m [==============================>          ]  74.5 %\r",
      "    \u001b[36m\u001b[1mFetching:\u001b[22m\u001b[39m [===============================>         ]  76.6 %\r",
      "    \u001b[36m\u001b[1mFetching:\u001b[22m\u001b[39m [================================>        ]  78.7 %\r",
      "    \u001b[36m\u001b[1mFetching:\u001b[22m\u001b[39m [=================================>       ]  80.9 %\r",
      "    \u001b[36m\u001b[1mFetching:\u001b[22m\u001b[39m [==================================>      ]  83.0 %\r",
      "    \u001b[36m\u001b[1mFetching:\u001b[22m\u001b[39m [===================================>     ]  85.1 %\r",
      "    \u001b[36m\u001b[1mFetching:\u001b[22m\u001b[39m [===================================>     ]  87.2 %\r",
      "    \u001b[36m\u001b[1mFetching:\u001b[22m\u001b[39m [====================================>    ]  89.4 %\r",
      "    \u001b[36m\u001b[1mFetching:\u001b[22m\u001b[39m [=====================================>   ]  91.5 %\r",
      "    \u001b[36m\u001b[1mFetching:\u001b[22m\u001b[39m [======================================>  ]  93.6 %\r",
      "    \u001b[36m\u001b[1mFetching:\u001b[22m\u001b[39m [=======================================> ]  95.7 %\r",
      "    \u001b[36m\u001b[1mFetching:\u001b[22m\u001b[39m [========================================>]  97.9 %\r",
      "    \u001b[36m\u001b[1mFetching:\u001b[22m\u001b[39m [========================================>]  100.0 %\r",
      "\u001b[2K\u001b[?25h"
     ]
    },
    {
     "name": "stderr",
     "output_type": "stream",
     "text": [
      "\u001b[32m\u001b[1m  Resolving\u001b[22m\u001b[39m package versions...\n",
      "\u001b[32m\u001b[1mUpdating\u001b[22m\u001b[39m `~/.julia/environments/v1.5/Project.toml`\n",
      " \u001b[90m [a58c8383] \u001b[39m\u001b[92m+ CartesianGeneticProgramming v0.1.0 `https://github.com/d9w/CartesianGeneticProgramming.jl#master`\u001b[39m\n",
      "\u001b[32m\u001b[1mUpdating\u001b[22m\u001b[39m `~/.julia/environments/v1.5/Manifest.toml`\n",
      " \u001b[90m [a58c8383] \u001b[39m\u001b[92m+ CartesianGeneticProgramming v0.1.0 `https://github.com/d9w/CartesianGeneticProgramming.jl#master`\u001b[39m\n"
     ]
    }
   ],
   "source": [
    "pkg\"add https://github.com/d9w/Cambrian.jl\"\n",
    "pkg\"add https://github.com/d9w/CartesianGeneticProgramming.jl\""
   ]
  },
  {
   "cell_type": "code",
   "execution_count": 13,
   "metadata": {
    "slideshow": {
     "slide_type": "slide"
    }
   },
   "outputs": [
    {
     "name": "stderr",
     "output_type": "stream",
     "text": [
      "┌ Info: Precompiling CartesianGeneticProgramming [a58c8383-ac42-4eac-b920-efb5a098c09c]\n",
      "└ @ Base loading.jl:1278\n",
      "WARNING: Method definition get_config(Base.Dict{K, V} where V where K) in module Cambrian at /home/disc/p.templier/.julia/packages/Cambrian/pcP88/src/config.jl:16 overwritten in module CartesianGeneticProgramming at /home/disc/p.templier/.julia/packages/CartesianGeneticProgramming/giaEi/src/config.jl:5.\n",
      "  ** incremental compilation may be fatally broken for this module **\n",
      "\n"
     ]
    }
   ],
   "source": [
    "using Cambrian\n",
    "using CartesianGeneticProgramming"
   ]
  },
  {
   "cell_type": "markdown",
   "metadata": {
    "slideshow": {
     "slide_type": "fragment"
    }
   },
   "source": [
    "An example configuration for CGP on this problem is provided in `atari.yaml`. This specifies which functions CGP can choose from, how many rows and columns there are, and what the mutation rate is."
   ]
  },
  {
   "cell_type": "code",
   "execution_count": 14,
   "metadata": {
    "slideshow": {
     "slide_type": "fragment"
    }
   },
   "outputs": [
    {
     "ename": "LoadError",
     "evalue": "MethodError: no method matching setindex!(::NamedTuple{(:two_arity, :m_rate, :functions, :d_fitness, :save_gen, :out_m_rate, :id, :n_elite, :n_population, :rows, :n_gen, :seed, :columns, :log_gen),Tuple{BitArray{1},Float64,Array{Function,1},Int64,Int64,Float64,String,Int64,Int64,Int64,Int64,Int64,Int64,Int64}}, ::Int64, ::String)",
     "output_type": "error",
     "traceback": [
      "MethodError: no method matching setindex!(::NamedTuple{(:two_arity, :m_rate, :functions, :d_fitness, :save_gen, :out_m_rate, :id, :n_elite, :n_population, :rows, :n_gen, :seed, :columns, :log_gen),Tuple{BitArray{1},Float64,Array{Function,1},Int64,Int64,Float64,String,Int64,Int64,Int64,Int64,Int64,Int64,Int64}}, ::Int64, ::String)",
      "",
      "Stacktrace:",
      " [1] top-level scope at In[14]:2",
      " [2] include_string(::Function, ::Module, ::String, ::String) at ./loading.jl:1091"
     ]
    }
   ],
   "source": [
    "cfg = get_config(\"atari.yaml\")\n",
    "cfg[\"n_in\"] = length(getRAM(ale))\n",
    "cfg[\"n_out\"] = length(actions)\n",
    "cfg"
   ]
  },
  {
   "cell_type": "markdown",
   "metadata": {
    "slideshow": {
     "slide_type": "slide"
    }
   },
   "source": [
    "We'll define our objective function allowing us to also use this function to visualize an agent as it plays."
   ]
  },
  {
   "cell_type": "code",
   "execution_count": 15,
   "metadata": {
    "slideshow": {
     "slide_type": "fragment"
    }
   },
   "outputs": [
    {
     "data": {
      "text/plain": [
       "play_atari (generic function with 1 method)"
      ]
     },
     "execution_count": 15,
     "metadata": {},
     "output_type": "execute_result"
    }
   ],
   "source": [
    "cgp_fits = []\n",
    "function play_atari(ind::CGPInd; render=false, seed=0)\n",
    "    ale = ALE_new()\n",
    "    loadROM(ale, \"ms_pacman\")\n",
    "    if render\n",
    "        frames = Frames(MIME(\"image/png\"), fps=6)\n",
    "    end\n",
    "    f = 0\n",
    "    total_reward = 0\n",
    "    while ~game_over(ale) && f < 18000\n",
    "        inputs = getRAM(ale) ./ typemax(UInt8)\n",
    "        output = process(ind, inputs)\n",
    "        total_reward += act(ale, actions[argmax(output)])\n",
    "        if render && mod(f, 10) == 0\n",
    "            push!(frames, get_screen(ale))\n",
    "        end\n",
    "        f += 1\n",
    "    end\n",
    "    ALE_del(ale)\n",
    "    if render\n",
    "        return total_reward, frames\n",
    "    end\n",
    "    push!(cgp_fits, total_reward)\n",
    "    [total_reward]\n",
    "end"
   ]
  },
  {
   "cell_type": "markdown",
   "metadata": {
    "slideshow": {
     "slide_type": "slide"
    }
   },
   "source": [
    "Let's see how a random individual does"
   ]
  },
  {
   "cell_type": "code",
   "execution_count": 16,
   "metadata": {
    "slideshow": {
     "slide_type": "fragment"
    }
   },
   "outputs": [
    {
     "ename": "LoadError",
     "evalue": "type NamedTuple has no field n_out",
     "output_type": "error",
     "traceback": [
      "type NamedTuple has no field n_out",
      "",
      "Stacktrace:",
      " [1] getproperty(::NamedTuple{(:two_arity, :m_rate, :functions, :d_fitness, :save_gen, :out_m_rate, :id, :n_elite, :n_population, :rows, :n_gen, :seed, :columns, :log_gen),Tuple{BitArray{1},Float64,Array{Function,1},Int64,Int64,Float64,String,Int64,Int64,Int64,Int64,Int64,Int64,Int64}}, ::Symbol) at ./Base.jl:33",
      " [2] CGPInd(::NamedTuple{(:two_arity, :m_rate, :functions, :d_fitness, :save_gen, :out_m_rate, :id, :n_elite, :n_population, :rows, :n_gen, :seed, :columns, :log_gen),Tuple{BitArray{1},Float64,Array{Function,1},Int64,Int64,Float64,String,Int64,Int64,Int64,Int64,Int64,Int64,Int64}}) at /home/disc/p.templier/.julia/packages/CartesianGeneticProgramming/giaEi/src/individual.jl:99",
      " [3] top-level scope at In[16]:1",
      " [4] include_string(::Function, ::Module, ::String, ::String) at ./loading.jl:1091"
     ]
    }
   ],
   "source": [
    "ind = CGPInd(cfg);\n",
    "@timev total_reward, frames = play_atari(ind; render=true)"
   ]
  },
  {
   "cell_type": "code",
   "execution_count": 17,
   "metadata": {
    "slideshow": {
     "slide_type": "slide"
    }
   },
   "outputs": [
    {
     "data": {
      "text/html": [
       "<img src=\"files/reel-16954084552730177372.gif?7239968727875177934\" />"
      ],
      "text/plain": [
       "Frames{MIME{Symbol(\"image/png\")}}(\"/tmp/jl_aoDoA3\", 0x00000000000006c9, 60.0, \"reel-16954084552730177372.gif\")"
      ]
     },
     "execution_count": 17,
     "metadata": {},
     "output_type": "execute_result"
    }
   ],
   "source": [
    "frames"
   ]
  },
  {
   "cell_type": "markdown",
   "metadata": {
    "slideshow": {
     "slide_type": "slide"
    }
   },
   "source": [
    "The rendering evaluation took a while if we consider that during evolution, we'll run this function hundreds or thousands of times. Let's see how long it takes without rendering."
   ]
  },
  {
   "cell_type": "code",
   "execution_count": 18,
   "metadata": {
    "slideshow": {
     "slide_type": "fragment"
    }
   },
   "outputs": [
    {
     "ename": "LoadError",
     "evalue": "UndefVarError: ind not defined",
     "output_type": "error",
     "traceback": [
      "UndefVarError: ind not defined",
      "",
      "Stacktrace:",
      " [1] top-level scope at ./timing.jl:208 [inlined]",
      " [2] top-level scope at ./In[18]:0",
      " [3] include_string(::Function, ::Module, ::String, ::String) at ./loading.jl:1091"
     ]
    }
   ],
   "source": [
    "@timev total_reward = play_atari(ind)"
   ]
  },
  {
   "cell_type": "markdown",
   "metadata": {
    "slideshow": {
     "slide_type": "slide"
    }
   },
   "source": [
    "That's better. Let's run the evolution for 20 generations, evaluating 5 individuals each time ($\\lambda$=5) for a total of 100 evaluations."
   ]
  },
  {
   "cell_type": "code",
   "execution_count": 19,
   "metadata": {
    "slideshow": {
     "slide_type": "fragment"
    }
   },
   "outputs": [
    {
     "ename": "LoadError",
     "evalue": "UndefVarError: evolution not defined",
     "output_type": "error",
     "traceback": [
      "UndefVarError: evolution not defined",
      "",
      "Stacktrace:",
      " [1] getproperty(::Module, ::Symbol) at ./Base.jl:26",
      " [2] top-level scope at In[19]:2",
      " [3] include_string(::Function, ::Module, ::String, ::String) at ./loading.jl:1091"
     ]
    }
   ],
   "source": [
    "cgp_fits = []\n",
    "evo = CartesianGeneticProgramming.evolution(cfg, play_atari);"
   ]
  },
  {
   "cell_type": "code",
   "execution_count": 20,
   "metadata": {
    "slideshow": {
     "slide_type": "fragment"
    }
   },
   "outputs": [
    {
     "ename": "LoadError",
     "evalue": "UndefVarError: evo not defined",
     "output_type": "error",
     "traceback": [
      "UndefVarError: evo not defined",
      "",
      "Stacktrace:",
      " [1] top-level scope at ./In[20]:2",
      " [2] include_string(::Function, ::Module, ::String, ::String) at ./loading.jl:1091"
     ]
    }
   ],
   "source": [
    "for i in 1:20\n",
    "    Cambrian.step!(evo)\n",
    "end"
   ]
  },
  {
   "cell_type": "markdown",
   "metadata": {
    "slideshow": {
     "slide_type": "slide"
    }
   },
   "source": [
    "Let's observe the best individual from evolution and display its actions."
   ]
  },
  {
   "cell_type": "code",
   "execution_count": 21,
   "metadata": {
    "slideshow": {
     "slide_type": "fragment"
    }
   },
   "outputs": [
    {
     "ename": "LoadError",
     "evalue": "UndefVarError: evo not defined",
     "output_type": "error",
     "traceback": [
      "UndefVarError: evo not defined",
      "",
      "Stacktrace:",
      " [1] top-level scope at In[21]:1",
      " [2] include_string(::Function, ::Module, ::String, ::String) at ./loading.jl:1091"
     ]
    }
   ],
   "source": [
    "best = sort(evo.population)[end];\n",
    "total_reward, frames = play_atari(best, render=true)"
   ]
  },
  {
   "cell_type": "code",
   "execution_count": 22,
   "metadata": {
    "slideshow": {
     "slide_type": "slide"
    }
   },
   "outputs": [
    {
     "data": {
      "text/html": [
       "<img src=\"files/reel-16954084552730177372.gif?10034004208056248097\" />"
      ],
      "text/plain": [
       "Frames{MIME{Symbol(\"image/png\")}}(\"/tmp/jl_aoDoA3\", 0x00000000000006c9, 60.0, \"reel-16954084552730177372.gif\")"
      ]
     },
     "execution_count": 22,
     "metadata": {},
     "output_type": "execute_result"
    }
   ],
   "source": [
    "frames"
   ]
  },
  {
   "cell_type": "markdown",
   "metadata": {
    "slideshow": {
     "slide_type": "slide"
    }
   },
   "source": [
    "# <a id=\"neuroevo\"></a> Neuroevolution"
   ]
  },
  {
   "cell_type": "markdown",
   "metadata": {
    "slideshow": {
     "slide_type": "fragment"
    }
   },
   "source": [
    "For our second approach, we'll evolve the weights of a neural network using the $(1, \\lambda)$ evolutionary strategy we in the [evolutionary strategies tutorial](https://github.com/d9w/evolution/blob/master/5_strategies/1_ES.ipynb). For the neural network, we'll use [Flux](fluxml.ai) to define the neural network - we'll use a 2 layer network with (32, 16) neurons."
   ]
  },
  {
   "cell_type": "code",
   "execution_count": 23,
   "metadata": {
    "slideshow": {
     "slide_type": "slide"
    }
   },
   "outputs": [],
   "source": [
    "using Flux"
   ]
  },
  {
   "cell_type": "code",
   "execution_count": 24,
   "metadata": {
    "slideshow": {
     "slide_type": "fragment"
    }
   },
   "outputs": [
    {
     "data": {
      "text/plain": [
       "Chain(Dense(128, 32), Dense(32, 16), Dense(16, 9))"
      ]
     },
     "execution_count": 24,
     "metadata": {},
     "output_type": "execute_result"
    }
   ],
   "source": [
    "n_in = length(getRAM(ale))\n",
    "n_out = length(actions)\n",
    "model = Chain(\n",
    "    Dense(n_in, 32),\n",
    "    Dense(32, 16),\n",
    "    Dense(16, n_out))"
   ]
  },
  {
   "cell_type": "markdown",
   "metadata": {
    "slideshow": {
     "slide_type": "slide"
    }
   },
   "source": [
    "We can test this neural network with some game inputs"
   ]
  },
  {
   "cell_type": "code",
   "execution_count": 25,
   "metadata": {
    "slideshow": {
     "slide_type": "fragment"
    }
   },
   "outputs": [
    {
     "data": {
      "text/plain": [
       "9-element Array{Float64,1}:\n",
       "  0.6804448990639601\n",
       "  0.12522224244178054\n",
       "  0.07644968894893361\n",
       " -1.4851971225781537\n",
       " -0.10725210434113233\n",
       "  0.3687640810630569\n",
       " -0.5294668809652945\n",
       " -0.5639860894798863\n",
       " -0.2958228107503746"
      ]
     },
     "execution_count": 25,
     "metadata": {},
     "output_type": "execute_result"
    }
   ],
   "source": [
    "model(getRAM(ale) ./ typemax(UInt8))"
   ]
  },
  {
   "cell_type": "markdown",
   "metadata": {
    "slideshow": {
     "slide_type": "slide"
    }
   },
   "source": [
    "We need to redefine our Atari function to use a neural network."
   ]
  },
  {
   "cell_type": "code",
   "execution_count": 26,
   "metadata": {
    "slideshow": {
     "slide_type": "fragment"
    }
   },
   "outputs": [
    {
     "data": {
      "text/plain": [
       "play_atari (generic function with 2 methods)"
      ]
     },
     "execution_count": 26,
     "metadata": {},
     "output_type": "execute_result"
    }
   ],
   "source": [
    "function play_atari(model::Chain; render=false, seed=0)\n",
    "    loadROM(ale, \"ms_pacman\")\n",
    "    if render\n",
    "        frames = Frames(MIME(\"image/png\"), fps=6)\n",
    "    end\n",
    "    f = 0\n",
    "    total_reward = 0\n",
    "    while ~game_over(ale) && f < 18000\n",
    "        inputs = getRAM(ale) ./ typemax(UInt8)\n",
    "        output = model(inputs)\n",
    "        total_reward += act(ale, actions[argmax(output)])\n",
    "        if render && mod(f, 10) == 0\n",
    "            push!(frames, get_screen(ale))\n",
    "        end\n",
    "        f += 1\n",
    "    end\n",
    "    reset_game(ale)\n",
    "    if render\n",
    "        return total_reward, frames\n",
    "    end\n",
    "    total_reward\n",
    "end"
   ]
  },
  {
   "cell_type": "markdown",
   "metadata": {
    "slideshow": {
     "slide_type": "slide"
    }
   },
   "source": [
    "Let's see how a random neural network plays"
   ]
  },
  {
   "cell_type": "code",
   "execution_count": 27,
   "metadata": {
    "slideshow": {
     "slide_type": "fragment"
    }
   },
   "outputs": [
    {
     "name": "stderr",
     "output_type": "stream",
     "text": [
      "Game console created:\n",
      "  ROM file:  /home/disc/p.templier/.julia/artifacts/9b7774e2f34581dc08d0979a8172c6d157be1f2d/ms_pacman.bin\n",
      "  Cart Name: Ms. Pac-Man (1982) (Atari)\n",
      "  Cart MD5:  87e79cd41ce136fd4f72cc6e2c161bee\n",
      "  Display Format:  AUTO-DETECT ==> NTSC\n",
      "  ROM Size:        8192\n",
      "  Bankswitch Type: AUTO-DETECT ==> F8\n",
      "\n",
      "\n",
      "WARNING: Possibly unsupported ROM: mismatched MD5.\n",
      "Cartridge_MD5: 87e79cd41ce136fd4f72cc6e2c161bee\n",
      "Cartridge_name: Ms. Pac-Man (1982) (Atari)\n",
      "\n",
      "Running ROM file...\n",
      "Random seed is 0\n"
     ]
    },
    {
     "data": {
      "text/plain": [
       "610"
      ]
     },
     "execution_count": 27,
     "metadata": {},
     "output_type": "execute_result"
    }
   ],
   "source": [
    "total_reward, frames = play_atari(model, render=true)\n",
    "total_reward"
   ]
  },
  {
   "cell_type": "code",
   "execution_count": 28,
   "metadata": {
    "slideshow": {
     "slide_type": "slide"
    }
   },
   "outputs": [
    {
     "data": {
      "text/html": [
       "<img src=\"files/reel-13288623224124944699.gif?13750604656852753514\" />"
      ],
      "text/plain": [
       "Frames{MIME{Symbol(\"image/png\")}}(\"/tmp/jl_gT77pZ\", 0x00000000000000e1, 6.0, nothing)"
      ]
     },
     "execution_count": 28,
     "metadata": {},
     "output_type": "execute_result"
    }
   ],
   "source": [
    "frames"
   ]
  },
  {
   "cell_type": "markdown",
   "metadata": {
    "slideshow": {
     "slide_type": "slide"
    }
   },
   "source": [
    "We're not quite ready to evolve the weights, however. To do that, we need to make a function that transforms genes into a neural network. Let's see how many parameters our network has."
   ]
  },
  {
   "cell_type": "code",
   "execution_count": 29,
   "metadata": {
    "slideshow": {
     "slide_type": "fragment"
    }
   },
   "outputs": [
    {
     "data": {
      "text/plain": [
       "6-element Array{Int64,1}:\n",
       " 4096\n",
       "   32\n",
       "  512\n",
       "   16\n",
       "  144\n",
       "    9"
      ]
     },
     "execution_count": 29,
     "metadata": {},
     "output_type": "execute_result"
    }
   ],
   "source": [
    "param_lengths = [length(p) for p in params(model)]"
   ]
  },
  {
   "cell_type": "code",
   "execution_count": 30,
   "metadata": {
    "slideshow": {
     "slide_type": "fragment"
    }
   },
   "outputs": [
    {
     "data": {
      "text/plain": [
       "4809"
      ]
     },
     "execution_count": 30,
     "metadata": {},
     "output_type": "execute_result"
    }
   ],
   "source": [
    "ndims = sum(param_lengths)"
   ]
  },
  {
   "cell_type": "markdown",
   "metadata": {
    "slideshow": {
     "slide_type": "slide"
    }
   },
   "source": [
    "So we'll optimize 4809 genes and use them as the weights and biases of our neural network (the phenotype) to evaluate them. We need to defined a function that takes in the genes and returns a neural network with those genes and weights and biases."
   ]
  },
  {
   "cell_type": "code",
   "execution_count": 31,
   "metadata": {
    "slideshow": {
     "slide_type": "fragment"
    }
   },
   "outputs": [
    {
     "data": {
      "text/plain": [
       "set_weights (generic function with 1 method)"
      ]
     },
     "execution_count": 31,
     "metadata": {},
     "output_type": "execute_result"
    }
   ],
   "source": [
    "function set_weights(x::Array{Float64})\n",
    "    model = Chain(\n",
    "        Dense(n_in, 32),\n",
    "        Dense(32, 16),\n",
    "        Dense(16, n_out))\n",
    "    start = 1\n",
    "    for p in params(model)\n",
    "        p .= reshape(x[start:(start+length(p)-1)], size(p))\n",
    "        start += length(p)\n",
    "    end\n",
    "    model\n",
    "end"
   ]
  },
  {
   "cell_type": "markdown",
   "metadata": {
    "slideshow": {
     "slide_type": "slide"
    }
   },
   "source": [
    "Let's see if that worked. If we set all weights to 0, the output should always be 0."
   ]
  },
  {
   "cell_type": "code",
   "execution_count": 32,
   "metadata": {
    "slideshow": {
     "slide_type": "fragment"
    }
   },
   "outputs": [
    {
     "data": {
      "text/plain": [
       "Chain(Dense(128, 32), Dense(32, 16), Dense(16, 9))"
      ]
     },
     "execution_count": 32,
     "metadata": {},
     "output_type": "execute_result"
    }
   ],
   "source": [
    "model = set_weights(zeros(ndims))"
   ]
  },
  {
   "cell_type": "code",
   "execution_count": 33,
   "metadata": {
    "slideshow": {
     "slide_type": "fragment"
    }
   },
   "outputs": [
    {
     "data": {
      "text/plain": [
       "9-element Array{Float64,1}:\n",
       " 0.0\n",
       " 0.0\n",
       " 0.0\n",
       " 0.0\n",
       " 0.0\n",
       " 0.0\n",
       " 0.0\n",
       " 0.0\n",
       " 0.0"
      ]
     },
     "execution_count": 33,
     "metadata": {},
     "output_type": "execute_result"
    }
   ],
   "source": [
    "model(rand(128))"
   ]
  },
  {
   "cell_type": "markdown",
   "metadata": {
    "slideshow": {
     "slide_type": "slide"
    }
   },
   "source": [
    "Now that we have our genotype to phenotype mapping function, we can create the objective function."
   ]
  },
  {
   "cell_type": "code",
   "execution_count": 34,
   "metadata": {
    "slideshow": {
     "slide_type": "fragment"
    }
   },
   "outputs": [
    {
     "data": {
      "text/plain": [
       "objective (generic function with 1 method)"
      ]
     },
     "execution_count": 34,
     "metadata": {},
     "output_type": "execute_result"
    }
   ],
   "source": [
    "function objective(x::Array{Float64})\n",
    "    model = set_weights(x)\n",
    "    play_atari(model)\n",
    "end"
   ]
  },
  {
   "cell_type": "markdown",
   "metadata": {
    "slideshow": {
     "slide_type": "slide"
    }
   },
   "source": [
    "Finally, we'll import the ES step function from the evolutionary strategies tutorial."
   ]
  },
  {
   "cell_type": "code",
   "execution_count": 35,
   "metadata": {
    "slideshow": {
     "slide_type": "fragment"
    }
   },
   "outputs": [
    {
     "data": {
      "text/plain": [
       "step (generic function with 1 method)"
      ]
     },
     "execution_count": 35,
     "metadata": {},
     "output_type": "execute_result"
    }
   ],
   "source": [
    "using Statistics\n",
    "using LinearAlgebra\n",
    "function step(x::Array{Float64}, objective::Function; npop=20, sigma=0.5, alpha=0.1)\n",
    "    N = randn(npop, length(x))\n",
    "    P = repeat(x, 1, npop)' .+ sigma .* N\n",
    "    R = zeros(npop)\n",
    "    for i in eachindex(R)\n",
    "        R[i] = objective(P[i, :])\n",
    "    end\n",
    "    A = (R .- mean(R)) ./ std(R)\n",
    "        \n",
    "    x .+ alpha/(npop * sigma) .* [dot(N[:, i], A) for i in 1:size(N, 2)], R, P\n",
    "end"
   ]
  },
  {
   "cell_type": "markdown",
   "metadata": {
    "slideshow": {
     "slide_type": "slide"
    }
   },
   "source": [
    "Let's create a random individual and see its performance."
   ]
  },
  {
   "cell_type": "code",
   "execution_count": 36,
   "metadata": {
    "slideshow": {
     "slide_type": "fragment"
    }
   },
   "outputs": [
    {
     "name": "stderr",
     "output_type": "stream",
     "text": [
      "Game console created:\n",
      "  ROM file:  /home/disc/p.templier/.julia/artifacts/9b7774e2f34581dc08d0979a8172c6d157be1f2d/ms_pacman.bin\n",
      "  Cart Name: Ms. Pac-Man (1982) (Atari)\n",
      "  Cart MD5:  87e79cd41ce136fd4f72cc6e2c161bee\n",
      "  Display Format:  AUTO-DETECT ==> NTSC\n",
      "  ROM Size:        8192\n",
      "  Bankswitch Type: AUTO-DETECT ==> F8\n",
      "\n",
      "\n",
      "WARNING: Possibly unsupported ROM: mismatched MD5.\n",
      "Cartridge_MD5: 87e79cd41ce136fd4f72cc6e2c161bee\n",
      "Cartridge_name: Ms. Pac-Man (1982) (Atari)\n",
      "\n",
      "Running ROM file...\n",
      "Random seed is 0\n"
     ]
    },
    {
     "data": {
      "text/plain": [
       "210"
      ]
     },
     "execution_count": 36,
     "metadata": {},
     "output_type": "execute_result"
    }
   ],
   "source": [
    "x = rand(ndims);\n",
    "objective(x)"
   ]
  },
  {
   "cell_type": "markdown",
   "metadata": {
    "slideshow": {
     "slide_type": "slide"
    }
   },
   "source": [
    "Not great, but it'll do as a starting point. We'll run the first generation and get back $x$, the new center of our population, $R$, the array of all fitness values, and $P$, the population matrix."
   ]
  },
  {
   "cell_type": "code",
   "execution_count": 37,
   "metadata": {
    "slideshow": {
     "slide_type": "fragment"
    }
   },
   "outputs": [
    {
     "name": "stderr",
     "output_type": "stream",
     "text": [
      "Game console created:\n",
      "  ROM file:  /home/disc/p.templier/.julia/artifacts/9b7774e2f34581dc08d0979a8172c6d157be1f2d/ms_pacman.bin\n",
      "  Cart Name: Ms. Pac-Man (1982) (Atari)\n",
      "  Cart MD5:  87e79cd41ce136fd4f72cc6e2c161bee\n",
      "  Display Format:  AUTO-DETECT ==> NTSC\n",
      "  ROM Size:        8192\n",
      "  Bankswitch Type: AUTO-DETECT ==> F8\n",
      "\n",
      "\n",
      "WARNING: Possibly unsupported ROM: mismatched MD5.\n",
      "Cartridge_MD5: 87e79cd41ce136fd4f72cc6e2c161bee\n",
      "Cartridge_name: Ms. Pac-Man (1982) (Atari)\n",
      "\n",
      "Running ROM file...\n",
      "Random seed is 0\n",
      "Game console created:\n",
      "  ROM file:  /home/disc/p.templier/.julia/artifacts/9b7774e2f34581dc08d0979a8172c6d157be1f2d/ms_pacman.bin\n",
      "  Cart Name: Ms. Pac-Man (1982) (Atari)\n",
      "  Cart MD5:  87e79cd41ce136fd4f72cc6e2c161bee\n",
      "  Display Format:  AUTO-DETECT ==> NTSC\n",
      "  ROM Size:        8192\n",
      "  Bankswitch Type: AUTO-DETECT ==> F8\n",
      "\n",
      "\n",
      "WARNING: Possibly unsupported ROM: mismatched MD5.\n",
      "Cartridge_MD5: 87e79cd41ce136fd4f72cc6e2c161bee\n",
      "Cartridge_name: Ms. Pac-Man (1982) (Atari)\n",
      "\n",
      "Running ROM file...\n",
      "Random seed is 0\n",
      "Game console created:\n",
      "  ROM file:  /home/disc/p.templier/.julia/artifacts/9b7774e2f34581dc08d0979a8172c6d157be1f2d/ms_pacman.bin\n",
      "  Cart Name: Ms. Pac-Man (1982) (Atari)\n",
      "  Cart MD5:  87e79cd41ce136fd4f72cc6e2c161bee\n",
      "  Display Format:  AUTO-DETECT ==> NTSC\n",
      "  ROM Size:        8192\n",
      "  Bankswitch Type: AUTO-DETECT ==> F8\n",
      "\n",
      "\n",
      "WARNING: Possibly unsupported ROM: mismatched MD5.\n",
      "Cartridge_MD5: 87e79cd41ce136fd4f72cc6e2c161bee\n",
      "Cartridge_name: Ms. Pac-Man (1982) (Atari)\n",
      "\n",
      "Running ROM file...\n",
      "Random seed is 0\n",
      "Game console created:\n",
      "  ROM file:  /home/disc/p.templier/.julia/artifacts/9b7774e2f34581dc08d0979a8172c6d157be1f2d/ms_pacman.bin\n",
      "  Cart Name: Ms. Pac-Man (1982) (Atari)\n",
      "  Cart MD5:  87e79cd41ce136fd4f72cc6e2c161bee\n",
      "  Display Format:  AUTO-DETECT ==> NTSC\n",
      "  ROM Size:        8192\n",
      "  Bankswitch Type: AUTO-DETECT ==> F8\n",
      "\n",
      "\n",
      "WARNING: Possibly unsupported ROM: mismatched MD5.\n",
      "Cartridge_MD5: 87e79cd41ce136fd4f72cc6e2c161bee\n",
      "Cartridge_name: Ms. Pac-Man (1982) (Atari)\n",
      "\n",
      "Running ROM file...\n",
      "Random seed is 0\n",
      "Game console created:\n",
      "  ROM file:  /home/disc/p.templier/.julia/artifacts/9b7774e2f34581dc08d0979a8172c6d157be1f2d/ms_pacman.bin\n",
      "  Cart Name: Ms. Pac-Man (1982) (Atari)\n",
      "  Cart MD5:  87e79cd41ce136fd4f72cc6e2c161bee\n",
      "  Display Format:  AUTO-DETECT ==> NTSC\n",
      "  ROM Size:        8192\n",
      "  Bankswitch Type: AUTO-DETECT ==> F8\n",
      "\n",
      "\n",
      "WARNING: Possibly unsupported ROM: mismatched MD5.\n",
      "Cartridge_MD5: 87e79cd41ce136fd4f72cc6e2c161bee\n",
      "Cartridge_name: Ms. Pac-Man (1982) (Atari)\n",
      "\n",
      "Running ROM file...\n",
      "Random seed is 0\n",
      "Game console created:\n",
      "  ROM file:  /home/disc/p.templier/.julia/artifacts/9b7774e2f34581dc08d0979a8172c6d157be1f2d/ms_pacman.bin\n",
      "  Cart Name: Ms. Pac-Man (1982) (Atari)\n",
      "  Cart MD5:  87e79cd41ce136fd4f72cc6e2c161bee\n",
      "  Display Format:  AUTO-DETECT ==> NTSC\n",
      "  ROM Size:        8192\n",
      "  Bankswitch Type: AUTO-DETECT ==> F8\n",
      "\n",
      "\n",
      "WARNING: Possibly unsupported ROM: mismatched MD5.\n",
      "Cartridge_MD5: 87e79cd41ce136fd4f72cc6e2c161bee\n",
      "Cartridge_name: Ms. Pac-Man (1982) (Atari)\n",
      "\n",
      "Running ROM file...\n",
      "Random seed is 0\n",
      "Game console created:\n",
      "  ROM file:  /home/disc/p.templier/.julia/artifacts/9b7774e2f34581dc08d0979a8172c6d157be1f2d/ms_pacman.bin\n",
      "  Cart Name: Ms. Pac-Man (1982) (Atari)\n",
      "  Cart MD5:  87e79cd41ce136fd4f72cc6e2c161bee\n",
      "  Display Format:  AUTO-DETECT ==> NTSC\n",
      "  ROM Size:        8192\n",
      "  Bankswitch Type: AUTO-DETECT ==> F8\n",
      "\n",
      "\n",
      "WARNING: Possibly unsupported ROM: mismatched MD5.\n",
      "Cartridge_MD5: 87e79cd41ce136fd4f72cc6e2c161bee\n",
      "Cartridge_name: Ms. Pac-Man (1982) (Atari)\n",
      "\n",
      "Running ROM file...\n",
      "Random seed is 0\n",
      "Game console created:\n",
      "  ROM file:  /home/disc/p.templier/.julia/artifacts/9b7774e2f34581dc08d0979a8172c6d157be1f2d/ms_pacman.bin\n",
      "  Cart Name: Ms. Pac-Man (1982) (Atari)\n",
      "  Cart MD5:  87e79cd41ce136fd4f72cc6e2c161bee\n",
      "  Display Format:  AUTO-DETECT ==> NTSC\n",
      "  ROM Size:        8192\n",
      "  Bankswitch Type: AUTO-DETECT ==> F8\n",
      "\n",
      "\n",
      "WARNING: Possibly unsupported ROM: mismatched MD5.\n",
      "Cartridge_MD5: 87e79cd41ce136fd4f72cc6e2c161bee\n",
      "Cartridge_name: Ms. Pac-Man (1982) (Atari)\n",
      "\n",
      "Running ROM file...\n",
      "Random seed is 0\n",
      "Game console created:\n",
      "  ROM file:  /home/disc/p.templier/.julia/artifacts/9b7774e2f34581dc08d0979a8172c6d157be1f2d/ms_pacman.bin\n",
      "  Cart Name: Ms. Pac-Man (1982) (Atari)\n",
      "  Cart MD5:  87e79cd41ce136fd4f72cc6e2c161bee\n",
      "  Display Format:  AUTO-DETECT ==> NTSC\n",
      "  ROM Size:        8192\n",
      "  Bankswitch Type: AUTO-DETECT ==> F8\n",
      "\n",
      "\n",
      "WARNING: Possibly unsupported ROM: mismatched MD5.\n",
      "Cartridge_MD5: 87e79cd41ce136fd4f72cc6e2c161bee\n",
      "Cartridge_name: Ms. Pac-Man (1982) (Atari)\n",
      "\n",
      "Running ROM file...\n",
      "Random seed is 0\n",
      "Game console created:\n",
      "  ROM file:  /home/disc/p.templier/.julia/artifacts/9b7774e2f34581dc08d0979a8172c6d157be1f2d/ms_pacman.bin\n",
      "  Cart Name: Ms. Pac-Man (1982) (Atari)\n",
      "  Cart MD5:  87e79cd41ce136fd4f72cc6e2c161bee\n",
      "  Display Format:  AUTO-DETECT ==> NTSC\n",
      "  ROM Size:        8192\n",
      "  Bankswitch Type: AUTO-DETECT ==> F8\n",
      "\n",
      "\n",
      "WARNING: Possibly unsupported ROM: mismatched MD5.\n",
      "Cartridge_MD5: 87e79cd41ce136fd4f72cc6e2c161bee\n",
      "Cartridge_name: Ms. Pac-Man (1982) (Atari)\n",
      "\n",
      "Running ROM file...\n",
      "Random seed is 0\n",
      "Game console created:\n",
      "  ROM file:  /home/disc/p.templier/.julia/artifacts/9b7774e2f34581dc08d0979a8172c6d157be1f2d/ms_pacman.bin\n",
      "  Cart Name: Ms. Pac-Man (1982) (Atari)\n",
      "  Cart MD5:  87e79cd41ce136fd4f72cc6e2c161bee\n",
      "  Display Format:  AUTO-DETECT ==> NTSC\n",
      "  ROM Size:        8192\n",
      "  Bankswitch Type: AUTO-DETECT ==> F8\n",
      "\n",
      "\n",
      "WARNING: Possibly unsupported ROM: mismatched MD5.\n",
      "Cartridge_MD5: 87e79cd41ce136fd4f72cc6e2c161bee\n",
      "Cartridge_name: Ms. Pac-Man (1982) (Atari)\n",
      "\n",
      "Running ROM file...\n",
      "Random seed is 0\n",
      "Game console created:\n",
      "  ROM file:  /home/disc/p.templier/.julia/artifacts/9b7774e2f34581dc08d0979a8172c6d157be1f2d/ms_pacman.bin\n",
      "  Cart Name: Ms. Pac-Man (1982) (Atari)\n",
      "  Cart MD5:  87e79cd41ce136fd4f72cc6e2c161bee\n",
      "  Display Format:  AUTO-DETECT ==> NTSC\n",
      "  ROM Size:        8192\n",
      "  Bankswitch Type: AUTO-DETECT ==> F8\n",
      "\n",
      "\n",
      "WARNING: Possibly unsupported ROM: mismatched MD5.\n",
      "Cartridge_MD5: 87e79cd41ce136fd4f72cc6e2c161bee\n",
      "Cartridge_name: Ms. Pac-Man (1982) (Atari)\n",
      "\n",
      "Running ROM file...\n",
      "Random seed is 0\n",
      "Game console created:\n",
      "  ROM file:  /home/disc/p.templier/.julia/artifacts/9b7774e2f34581dc08d0979a8172c6d157be1f2d/ms_pacman.bin\n",
      "  Cart Name: Ms. Pac-Man (1982) (Atari)\n",
      "  Cart MD5:  87e79cd41ce136fd4f72cc6e2c161bee\n",
      "  Display Format:  AUTO-DETECT ==> NTSC\n",
      "  ROM Size:        8192\n",
      "  Bankswitch Type: AUTO-DETECT ==> F8\n",
      "\n",
      "\n",
      "WARNING: Possibly unsupported ROM: mismatched MD5.\n",
      "Cartridge_MD5: 87e79cd41ce136fd4f72cc6e2c161bee\n",
      "Cartridge_name: Ms. Pac-Man (1982) (Atari)\n",
      "\n",
      "Running ROM file...\n",
      "Random seed is 0\n",
      "Game console created:\n",
      "  ROM file:  /home/disc/p.templier/.julia/artifacts/9b7774e2f34581dc08d0979a8172c6d157be1f2d/ms_pacman.bin\n",
      "  Cart Name: Ms. Pac-Man (1982) (Atari)\n",
      "  Cart MD5:  87e79cd41ce136fd4f72cc6e2c161bee\n",
      "  Display Format:  AUTO-DETECT ==> NTSC\n",
      "  ROM Size:        8192\n",
      "  Bankswitch Type: AUTO-DETECT ==> F8\n",
      "\n",
      "\n",
      "WARNING: Possibly unsupported ROM: mismatched MD5.\n",
      "Cartridge_MD5: 87e79cd41ce136fd4f72cc6e2c161bee\n",
      "Cartridge_name: Ms. Pac-Man (1982) (Atari)\n",
      "\n",
      "Running ROM file...\n",
      "Random seed is 0\n",
      "Game console created:\n",
      "  ROM file:  /home/disc/p.templier/.julia/artifacts/9b7774e2f34581dc08d0979a8172c6d157be1f2d/ms_pacman.bin\n",
      "  Cart Name: Ms. Pac-Man (1982) (Atari)\n",
      "  Cart MD5:  87e79cd41ce136fd4f72cc6e2c161bee\n",
      "  Display Format:  AUTO-DETECT ==> NTSC\n",
      "  ROM Size:        8192\n",
      "  Bankswitch Type: AUTO-DETECT ==> F8\n",
      "\n",
      "\n",
      "WARNING: Possibly unsupported ROM: mismatched MD5.\n",
      "Cartridge_MD5: 87e79cd41ce136fd4f72cc6e2c161bee\n",
      "Cartridge_name: Ms. Pac-Man (1982) (Atari)\n",
      "\n",
      "Running ROM file...\n",
      "Random seed is 0\n",
      "Game console created:\n",
      "  ROM file:  /home/disc/p.templier/.julia/artifacts/9b7774e2f34581dc08d0979a8172c6d157be1f2d/ms_pacman.bin\n",
      "  Cart Name: Ms. Pac-Man (1982) (Atari)\n",
      "  Cart MD5:  87e79cd41ce136fd4f72cc6e2c161bee\n",
      "  Display Format:  AUTO-DETECT ==> NTSC\n",
      "  ROM Size:        8192\n",
      "  Bankswitch Type: AUTO-DETECT ==> F8\n",
      "\n",
      "\n",
      "WARNING: Possibly unsupported ROM: mismatched MD5.\n",
      "Cartridge_MD5: 87e79cd41ce136fd4f72cc6e2c161bee\n",
      "Cartridge_name: Ms. Pac-Man (1982) (Atari)\n",
      "\n",
      "Running ROM file...\n",
      "Random seed is 0\n",
      "Game console created:\n",
      "  ROM file:  /home/disc/p.templier/.julia/artifacts/9b7774e2f34581dc08d0979a8172c6d157be1f2d/ms_pacman.bin\n",
      "  Cart Name: Ms. Pac-Man (1982) (Atari)\n",
      "  Cart MD5:  87e79cd41ce136fd4f72cc6e2c161bee\n",
      "  Display Format:  AUTO-DETECT ==> NTSC\n",
      "  ROM Size:        8192\n",
      "  Bankswitch Type: AUTO-DETECT ==> F8\n",
      "\n",
      "\n",
      "WARNING: Possibly unsupported ROM: mismatched MD5.\n",
      "Cartridge_MD5: 87e79cd41ce136fd4f72cc6e2c161bee\n",
      "Cartridge_name: Ms. Pac-Man (1982) (Atari)\n",
      "\n",
      "Running ROM file...\n",
      "Random seed is 0\n",
      "Game console created:\n",
      "  ROM file:  /home/disc/p.templier/.julia/artifacts/9b7774e2f34581dc08d0979a8172c6d157be1f2d/ms_pacman.bin\n",
      "  Cart Name: Ms. Pac-Man (1982) (Atari)\n",
      "  Cart MD5:  87e79cd41ce136fd4f72cc6e2c161bee\n",
      "  Display Format:  AUTO-DETECT ==> NTSC\n",
      "  ROM Size:        8192\n",
      "  Bankswitch Type: AUTO-DETECT ==> F8\n",
      "\n",
      "\n",
      "WARNING: Possibly unsupported ROM: mismatched MD5.\n",
      "Cartridge_MD5: 87e79cd41ce136fd4f72cc6e2c161bee\n",
      "Cartridge_name: Ms. Pac-Man (1982) (Atari)\n",
      "\n",
      "Running ROM file...\n",
      "Random seed is 0\n",
      "Game console created:\n",
      "  ROM file:  /home/disc/p.templier/.julia/artifacts/9b7774e2f34581dc08d0979a8172c6d157be1f2d/ms_pacman.bin\n",
      "  Cart Name: Ms. Pac-Man (1982) (Atari)\n",
      "  Cart MD5:  87e79cd41ce136fd4f72cc6e2c161bee\n",
      "  Display Format:  AUTO-DETECT ==> NTSC\n",
      "  ROM Size:        8192\n",
      "  Bankswitch Type: AUTO-DETECT ==> F8\n",
      "\n",
      "\n",
      "WARNING: Possibly unsupported ROM: mismatched MD5.\n",
      "Cartridge_MD5: 87e79cd41ce136fd4f72cc6e2c161bee\n",
      "Cartridge_name: Ms. Pac-Man (1982) (Atari)\n",
      "\n",
      "Running ROM file...\n",
      "Random seed is 0\n",
      "Game console created:\n",
      "  ROM file:  /home/disc/p.templier/.julia/artifacts/9b7774e2f34581dc08d0979a8172c6d157be1f2d/ms_pacman.bin\n",
      "  Cart Name: Ms. Pac-Man (1982) (Atari)\n",
      "  Cart MD5:  87e79cd41ce136fd4f72cc6e2c161bee\n",
      "  Display Format:  AUTO-DETECT ==> NTSC\n",
      "  ROM Size:        8192\n",
      "  Bankswitch Type: AUTO-DETECT ==> F8\n",
      "\n",
      "\n",
      "WARNING: Possibly unsupported ROM: mismatched MD5.\n",
      "Cartridge_MD5: 87e79cd41ce136fd4f72cc6e2c161bee\n",
      "Cartridge_name: Ms. Pac-Man (1982) (Atari)\n",
      "\n",
      "Running ROM file...\n",
      "Random seed is 0\n"
     ]
    }
   ],
   "source": [
    "x, R, P = step(x, objective);"
   ]
  },
  {
   "cell_type": "markdown",
   "metadata": {
    "slideshow": {
     "slide_type": "slide"
    }
   },
   "source": [
    "Let's see what the best individual we found was. Note that this isn't our new $x$, its whichever individual we observed with the best fitness. $x$ should have moved in the direction of that individual's genes, but is also based on fitness values from the entire population."
   ]
  },
  {
   "cell_type": "code",
   "execution_count": 38,
   "metadata": {
    "scrolled": true,
    "slideshow": {
     "slide_type": "fragment"
    }
   },
   "outputs": [
    {
     "data": {
      "text/plain": [
       "(210.0, 2)"
      ]
     },
     "execution_count": 38,
     "metadata": {},
     "output_type": "execute_result"
    }
   ],
   "source": [
    "(maximum(R), argmax(R))"
   ]
  },
  {
   "cell_type": "markdown",
   "metadata": {
    "slideshow": {
     "slide_type": "slide"
    }
   },
   "source": [
    "We'll run this for 4 more generations, keeping track of the best individual each generation."
   ]
  },
  {
   "cell_type": "code",
   "execution_count": 39,
   "metadata": {
    "slideshow": {
     "slide_type": "fragment"
    }
   },
   "outputs": [
    {
     "data": {
      "text/plain": [
       "210.0"
      ]
     },
     "execution_count": 39,
     "metadata": {},
     "output_type": "execute_result"
    }
   ],
   "source": [
    "es_fits = []\n",
    "append!(es_fits, R)\n",
    "best_ind = P[argmax(R), :]\n",
    "best_fit = maximum(R)"
   ]
  },
  {
   "cell_type": "code",
   "execution_count": 40,
   "metadata": {
    "slideshow": {
     "slide_type": "fragment"
    }
   },
   "outputs": [
    {
     "name": "stdout",
     "output_type": "stream",
     "text": [
      "770.040\n",
      "770.0"
     ]
    },
    {
     "name": "stderr",
     "output_type": "stream",
     "text": [
      "Game console created:\n",
      "  ROM file:  /home/disc/p.templier/.julia/artifacts/9b7774e2f34581dc08d0979a8172c6d157be1f2d/ms_pacman.bin\n",
      "  Cart Name: Ms. Pac-Man (1982) (Atari)\n",
      "  Cart MD5:  87e79cd41ce136fd4f72cc6e2c161bee\n",
      "  Display Format:  AUTO-DETECT ==> NTSC\n",
      "  ROM Size:        8192\n",
      "  Bankswitch Type: AUTO-DETECT ==> F8\n",
      "\n",
      "\n",
      "WARNING: Possibly unsupported ROM: mismatched MD5.\n",
      "Cartridge_MD5: 87e79cd41ce136fd4f72cc6e2c161bee\n",
      "Cartridge_name: Ms. Pac-Man (1982) (Atari)\n",
      "\n",
      "Running ROM file...\n",
      "Random seed is 0\n",
      "Game console created:\n",
      "  ROM file:  /home/disc/p.templier/.julia/artifacts/9b7774e2f34581dc08d0979a8172c6d157be1f2d/ms_pacman.bin\n",
      "  Cart Name: Ms. Pac-Man (1982) (Atari)\n",
      "  Cart MD5:  87e79cd41ce136fd4f72cc6e2c161bee\n",
      "  Display Format:  AUTO-DETECT ==> NTSC\n",
      "  ROM Size:        8192\n",
      "  Bankswitch Type: AUTO-DETECT ==> F8\n",
      "\n",
      "\n",
      "WARNING: Possibly unsupported ROM: mismatched MD5.\n",
      "Cartridge_MD5: 87e79cd41ce136fd4f72cc6e2c161bee\n",
      "Cartridge_name: Ms. Pac-Man (1982) (Atari)\n",
      "\n",
      "Running ROM file...\n",
      "Random seed is 0\n",
      "Game console created:\n",
      "  ROM file:  /home/disc/p.templier/.julia/artifacts/9b7774e2f34581dc08d0979a8172c6d157be1f2d/ms_pacman.bin\n",
      "  Cart Name: Ms. Pac-Man (1982) (Atari)\n",
      "  Cart MD5:  87e79cd41ce136fd4f72cc6e2c161bee\n",
      "  Display Format:  AUTO-DETECT ==> NTSC\n",
      "  ROM Size:        8192\n",
      "  Bankswitch Type: AUTO-DETECT ==> F8\n",
      "\n",
      "\n",
      "WARNING: Possibly unsupported ROM: mismatched MD5.\n",
      "Cartridge_MD5: 87e79cd41ce136fd4f72cc6e2c161bee\n",
      "Cartridge_name: Ms. Pac-Man (1982) (Atari)\n",
      "\n",
      "Running ROM file...\n",
      "Random seed is 0\n",
      "Game console created:\n",
      "  ROM file:  /home/disc/p.templier/.julia/artifacts/9b7774e2f34581dc08d0979a8172c6d157be1f2d/ms_pacman.bin\n",
      "  Cart Name: Ms. Pac-Man (1982) (Atari)\n",
      "  Cart MD5:  87e79cd41ce136fd4f72cc6e2c161bee\n",
      "  Display Format:  AUTO-DETECT ==> NTSC\n",
      "  ROM Size:        8192\n",
      "  Bankswitch Type: AUTO-DETECT ==> F8\n",
      "\n",
      "\n",
      "WARNING: Possibly unsupported ROM: mismatched MD5.\n",
      "Cartridge_MD5: 87e79cd41ce136fd4f72cc6e2c161bee\n",
      "Cartridge_name: Ms. Pac-Man (1982) (Atari)\n",
      "\n",
      "Running ROM file...\n",
      "Random seed is 0\n",
      "Game console created:\n",
      "  ROM file:  /home/disc/p.templier/.julia/artifacts/9b7774e2f34581dc08d0979a8172c6d157be1f2d/ms_pacman.bin\n",
      "  Cart Name: Ms. Pac-Man (1982) (Atari)\n",
      "  Cart MD5:  87e79cd41ce136fd4f72cc6e2c161bee\n",
      "  Display Format:  AUTO-DETECT ==> NTSC\n",
      "  ROM Size:        8192\n",
      "  Bankswitch Type: AUTO-DETECT ==> F8\n",
      "\n",
      "\n",
      "WARNING: Possibly unsupported ROM: mismatched MD5.\n",
      "Cartridge_MD5: 87e79cd41ce136fd4f72cc6e2c161bee\n",
      "Cartridge_name: Ms. Pac-Man (1982) (Atari)\n",
      "\n",
      "Running ROM file...\n",
      "Random seed is 0\n",
      "Game console created:\n",
      "  ROM file:  /home/disc/p.templier/.julia/artifacts/9b7774e2f34581dc08d0979a8172c6d157be1f2d/ms_pacman.bin\n",
      "  Cart Name: Ms. Pac-Man (1982) (Atari)\n",
      "  Cart MD5:  87e79cd41ce136fd4f72cc6e2c161bee\n",
      "  Display Format:  AUTO-DETECT ==> NTSC\n",
      "  ROM Size:        8192\n",
      "  Bankswitch Type: AUTO-DETECT ==> F8\n",
      "\n",
      "\n",
      "WARNING: Possibly unsupported ROM: mismatched MD5.\n",
      "Cartridge_MD5: 87e79cd41ce136fd4f72cc6e2c161bee\n",
      "Cartridge_name: Ms. Pac-Man (1982) (Atari)\n",
      "\n",
      "Running ROM file...\n",
      "Random seed is 0\n",
      "Game console created:\n",
      "  ROM file:  /home/disc/p.templier/.julia/artifacts/9b7774e2f34581dc08d0979a8172c6d157be1f2d/ms_pacman.bin\n",
      "  Cart Name: Ms. Pac-Man (1982) (Atari)\n",
      "  Cart MD5:  87e79cd41ce136fd4f72cc6e2c161bee\n",
      "  Display Format:  AUTO-DETECT ==> NTSC\n",
      "  ROM Size:        8192\n",
      "  Bankswitch Type: AUTO-DETECT ==> F8\n",
      "\n",
      "\n",
      "WARNING: Possibly unsupported ROM: mismatched MD5.\n",
      "Cartridge_MD5: 87e79cd41ce136fd4f72cc6e2c161bee\n",
      "Cartridge_name: Ms. Pac-Man (1982) (Atari)\n",
      "\n",
      "Running ROM file...\n",
      "Random seed is 0\n",
      "Game console created:\n",
      "  ROM file:  /home/disc/p.templier/.julia/artifacts/9b7774e2f34581dc08d0979a8172c6d157be1f2d/ms_pacman.bin\n",
      "  Cart Name: Ms. Pac-Man (1982) (Atari)\n",
      "  Cart MD5:  87e79cd41ce136fd4f72cc6e2c161bee\n",
      "  Display Format:  AUTO-DETECT ==> NTSC\n",
      "  ROM Size:        8192\n",
      "  Bankswitch Type: AUTO-DETECT ==> F8\n",
      "\n",
      "\n",
      "WARNING: Possibly unsupported ROM: mismatched MD5.\n",
      "Cartridge_MD5: 87e79cd41ce136fd4f72cc6e2c161bee\n",
      "Cartridge_name: Ms. Pac-Man (1982) (Atari)\n",
      "\n",
      "Running ROM file...\n",
      "Random seed is 0\n",
      "Game console created:\n",
      "  ROM file:  /home/disc/p.templier/.julia/artifacts/9b7774e2f34581dc08d0979a8172c6d157be1f2d/ms_pacman.bin\n",
      "  Cart Name: Ms. Pac-Man (1982) (Atari)\n",
      "  Cart MD5:  87e79cd41ce136fd4f72cc6e2c161bee\n",
      "  Display Format:  AUTO-DETECT ==> NTSC\n",
      "  ROM Size:        8192\n",
      "  Bankswitch Type: AUTO-DETECT ==> F8\n",
      "\n",
      "\n",
      "WARNING: Possibly unsupported ROM: mismatched MD5.\n",
      "Cartridge_MD5: 87e79cd41ce136fd4f72cc6e2c161bee\n",
      "Cartridge_name: Ms. Pac-Man (1982) (Atari)\n",
      "\n",
      "Running ROM file...\n",
      "Random seed is 0\n",
      "Game console created:\n",
      "  ROM file:  /home/disc/p.templier/.julia/artifacts/9b7774e2f34581dc08d0979a8172c6d157be1f2d/ms_pacman.bin\n",
      "  Cart Name: Ms. Pac-Man (1982) (Atari)\n",
      "  Cart MD5:  87e79cd41ce136fd4f72cc6e2c161bee\n",
      "  Display Format:  AUTO-DETECT ==> NTSC\n",
      "  ROM Size:        8192\n",
      "  Bankswitch Type: AUTO-DETECT ==> F8\n",
      "\n",
      "\n",
      "WARNING: Possibly unsupported ROM: mismatched MD5.\n",
      "Cartridge_MD5: 87e79cd41ce136fd4f72cc6e2c161bee\n",
      "Cartridge_name: Ms. Pac-Man (1982) (Atari)\n",
      "\n",
      "Running ROM file...\n",
      "Random seed is 0\n",
      "Game console created:\n",
      "  ROM file:  /home/disc/p.templier/.julia/artifacts/9b7774e2f34581dc08d0979a8172c6d157be1f2d/ms_pacman.bin\n",
      "  Cart Name: Ms. Pac-Man (1982) (Atari)\n",
      "  Cart MD5:  87e79cd41ce136fd4f72cc6e2c161bee\n",
      "  Display Format:  AUTO-DETECT ==> NTSC\n",
      "  ROM Size:        8192\n",
      "  Bankswitch Type: AUTO-DETECT ==> F8\n",
      "\n",
      "\n",
      "WARNING: Possibly unsupported ROM: mismatched MD5.\n",
      "Cartridge_MD5: 87e79cd41ce136fd4f72cc6e2c161bee\n",
      "Cartridge_name: Ms. Pac-Man (1982) (Atari)\n",
      "\n",
      "Running ROM file...\n",
      "Random seed is 0\n",
      "Game console created:\n",
      "  ROM file:  /home/disc/p.templier/.julia/artifacts/9b7774e2f34581dc08d0979a8172c6d157be1f2d/ms_pacman.bin\n",
      "  Cart Name: Ms. Pac-Man (1982) (Atari)\n",
      "  Cart MD5:  87e79cd41ce136fd4f72cc6e2c161bee\n",
      "  Display Format:  AUTO-DETECT ==> NTSC\n",
      "  ROM Size:        8192\n",
      "  Bankswitch Type: AUTO-DETECT ==> F8\n",
      "\n",
      "\n",
      "WARNING: Possibly unsupported ROM: mismatched MD5.\n",
      "Cartridge_MD5: 87e79cd41ce136fd4f72cc6e2c161bee\n",
      "Cartridge_name: Ms. Pac-Man (1982) (Atari)\n",
      "\n",
      "Running ROM file...\n",
      "Random seed is 0\n",
      "Game console created:\n",
      "  ROM file:  /home/disc/p.templier/.julia/artifacts/9b7774e2f34581dc08d0979a8172c6d157be1f2d/ms_pacman.bin\n",
      "  Cart Name: Ms. Pac-Man (1982) (Atari)\n",
      "  Cart MD5:  87e79cd41ce136fd4f72cc6e2c161bee\n",
      "  Display Format:  AUTO-DETECT ==> NTSC\n",
      "  ROM Size:        8192\n",
      "  Bankswitch Type: AUTO-DETECT ==> F8\n",
      "\n",
      "\n",
      "WARNING: Possibly unsupported ROM: mismatched MD5.\n",
      "Cartridge_MD5: 87e79cd41ce136fd4f72cc6e2c161bee\n",
      "Cartridge_name: Ms. Pac-Man (1982) (Atari)\n",
      "\n",
      "Running ROM file...\n",
      "Random seed is 0\n",
      "Game console created:\n",
      "  ROM file:  /home/disc/p.templier/.julia/artifacts/9b7774e2f34581dc08d0979a8172c6d157be1f2d/ms_pacman.bin\n",
      "  Cart Name: Ms. Pac-Man (1982) (Atari)\n",
      "  Cart MD5:  87e79cd41ce136fd4f72cc6e2c161bee\n",
      "  Display Format:  AUTO-DETECT ==> NTSC\n",
      "  ROM Size:        8192\n",
      "  Bankswitch Type: AUTO-DETECT ==> F8\n",
      "\n",
      "\n",
      "WARNING: Possibly unsupported ROM: mismatched MD5.\n",
      "Cartridge_MD5: 87e79cd41ce136fd4f72cc6e2c161bee\n",
      "Cartridge_name: Ms. Pac-Man (1982) (Atari)\n",
      "\n",
      "Running ROM file...\n",
      "Random seed is 0\n",
      "Game console created:\n",
      "  ROM file:  /home/disc/p.templier/.julia/artifacts/9b7774e2f34581dc08d0979a8172c6d157be1f2d/ms_pacman.bin\n",
      "  Cart Name: Ms. Pac-Man (1982) (Atari)\n",
      "  Cart MD5:  87e79cd41ce136fd4f72cc6e2c161bee\n",
      "  Display Format:  AUTO-DETECT ==> NTSC\n",
      "  ROM Size:        8192\n",
      "  Bankswitch Type: AUTO-DETECT ==> F8\n",
      "\n",
      "\n",
      "WARNING: Possibly unsupported ROM: mismatched MD5.\n",
      "Cartridge_MD5: 87e79cd41ce136fd4f72cc6e2c161bee\n",
      "Cartridge_name: Ms. Pac-Man (1982) (Atari)\n",
      "\n",
      "Running ROM file...\n",
      "Random seed is 0\n",
      "Game console created:\n",
      "  ROM file:  /home/disc/p.templier/.julia/artifacts/9b7774e2f34581dc08d0979a8172c6d157be1f2d/ms_pacman.bin\n",
      "  Cart Name: Ms. Pac-Man (1982) (Atari)\n",
      "  Cart MD5:  87e79cd41ce136fd4f72cc6e2c161bee\n",
      "  Display Format:  AUTO-DETECT ==> NTSC\n",
      "  ROM Size:        8192\n",
      "  Bankswitch Type: AUTO-DETECT ==> F8\n",
      "\n",
      "\n",
      "WARNING: Possibly unsupported ROM: mismatched MD5.\n",
      "Cartridge_MD5: 87e79cd41ce136fd4f72cc6e2c161bee\n",
      "Cartridge_name: Ms. Pac-Man (1982) (Atari)\n",
      "\n",
      "Running ROM file...\n",
      "Random seed is 0\n",
      "Game console created:\n",
      "  ROM file:  /home/disc/p.templier/.julia/artifacts/9b7774e2f34581dc08d0979a8172c6d157be1f2d/ms_pacman.bin\n",
      "  Cart Name: Ms. Pac-Man (1982) (Atari)\n",
      "  Cart MD5:  87e79cd41ce136fd4f72cc6e2c161bee\n",
      "  Display Format:  AUTO-DETECT ==> NTSC\n",
      "  ROM Size:        8192\n",
      "  Bankswitch Type: AUTO-DETECT ==> F8\n",
      "\n",
      "\n",
      "WARNING: Possibly unsupported ROM: mismatched MD5.\n",
      "Cartridge_MD5: 87e79cd41ce136fd4f72cc6e2c161bee\n",
      "Cartridge_name: Ms. Pac-Man (1982) (Atari)\n",
      "\n",
      "Running ROM file...\n",
      "Random seed is 0\n",
      "Game console created:\n",
      "  ROM file:  /home/disc/p.templier/.julia/artifacts/9b7774e2f34581dc08d0979a8172c6d157be1f2d/ms_pacman.bin\n",
      "  Cart Name: Ms. Pac-Man (1982) (Atari)\n",
      "  Cart MD5:  87e79cd41ce136fd4f72cc6e2c161bee\n",
      "  Display Format:  AUTO-DETECT ==> NTSC\n",
      "  ROM Size:        8192\n",
      "  Bankswitch Type: AUTO-DETECT ==> F8\n",
      "\n",
      "\n",
      "WARNING: Possibly unsupported ROM: mismatched MD5.\n",
      "Cartridge_MD5: 87e79cd41ce136fd4f72cc6e2c161bee\n",
      "Cartridge_name: Ms. Pac-Man (1982) (Atari)\n",
      "\n",
      "Running ROM file...\n",
      "Random seed is 0\n",
      "Game console created:\n",
      "  ROM file:  /home/disc/p.templier/.julia/artifacts/9b7774e2f34581dc08d0979a8172c6d157be1f2d/ms_pacman.bin\n",
      "  Cart Name: Ms. Pac-Man (1982) (Atari)\n",
      "  Cart MD5:  87e79cd41ce136fd4f72cc6e2c161bee\n",
      "  Display Format:  AUTO-DETECT ==> NTSC\n",
      "  ROM Size:        8192\n",
      "  Bankswitch Type: AUTO-DETECT ==> F8\n",
      "\n",
      "\n",
      "WARNING: Possibly unsupported ROM: mismatched MD5.\n",
      "Cartridge_MD5: 87e79cd41ce136fd4f72cc6e2c161bee\n",
      "Cartridge_name: Ms. Pac-Man (1982) (Atari)\n",
      "\n",
      "Running ROM file...\n",
      "Random seed is 0\n",
      "Game console created:\n",
      "  ROM file:  /home/disc/p.templier/.julia/artifacts/9b7774e2f34581dc08d0979a8172c6d157be1f2d/ms_pacman.bin\n",
      "  Cart Name: Ms. Pac-Man (1982) (Atari)\n",
      "  Cart MD5:  87e79cd41ce136fd4f72cc6e2c161bee\n",
      "  Display Format:  AUTO-DETECT ==> NTSC\n",
      "  ROM Size:        8192\n",
      "  Bankswitch Type: AUTO-DETECT ==> F8\n",
      "\n",
      "\n",
      "WARNING: Possibly unsupported ROM: mismatched MD5.\n",
      "Cartridge_MD5: 87e79cd41ce136fd4f72cc6e2c161bee\n",
      "Cartridge_name: Ms. Pac-Man (1982) (Atari)\n",
      "\n",
      "Running ROM file...\n",
      "Random seed is 0\n"
     ]
    },
    {
     "name": "stdout",
     "output_type": "stream",
     "text": [
      "60\n"
     ]
    },
    {
     "name": "stderr",
     "output_type": "stream",
     "text": [
      "Game console created:\n",
      "  ROM file:  /home/disc/p.templier/.julia/artifacts/9b7774e2f34581dc08d0979a8172c6d157be1f2d/ms_pacman.bin\n",
      "  Cart Name: Ms. Pac-Man (1982) (Atari)\n",
      "  Cart MD5:  87e79cd41ce136fd4f72cc6e2c161bee\n",
      "  Display Format:  AUTO-DETECT ==> NTSC\n",
      "  ROM Size:        8192\n",
      "  Bankswitch Type: AUTO-DETECT ==> F8\n",
      "\n",
      "\n",
      "WARNING: Possibly unsupported ROM: mismatched MD5.\n",
      "Cartridge_MD5: 87e79cd41ce136fd4f72cc6e2c161bee\n",
      "Cartridge_name: Ms. Pac-Man (1982) (Atari)\n",
      "\n",
      "Running ROM file...\n",
      "Random seed is 0\n",
      "Game console created:\n",
      "  ROM file:  /home/disc/p.templier/.julia/artifacts/9b7774e2f34581dc08d0979a8172c6d157be1f2d/ms_pacman.bin\n",
      "  Cart Name: Ms. Pac-Man (1982) (Atari)\n",
      "  Cart MD5:  87e79cd41ce136fd4f72cc6e2c161bee\n",
      "  Display Format:  AUTO-DETECT ==> NTSC\n",
      "  ROM Size:        8192\n",
      "  Bankswitch Type: AUTO-DETECT ==> F8\n",
      "\n",
      "\n",
      "WARNING: Possibly unsupported ROM: mismatched MD5.\n",
      "Cartridge_MD5: 87e79cd41ce136fd4f72cc6e2c161bee\n",
      "Cartridge_name: Ms. Pac-Man (1982) (Atari)\n",
      "\n",
      "Running ROM file...\n",
      "Random seed is 0\n",
      "Game console created:\n",
      "  ROM file:  /home/disc/p.templier/.julia/artifacts/9b7774e2f34581dc08d0979a8172c6d157be1f2d/ms_pacman.bin\n",
      "  Cart Name: Ms. Pac-Man (1982) (Atari)\n",
      "  Cart MD5:  87e79cd41ce136fd4f72cc6e2c161bee\n",
      "  Display Format:  AUTO-DETECT ==> NTSC\n",
      "  ROM Size:        8192\n",
      "  Bankswitch Type: AUTO-DETECT ==> F8\n",
      "\n",
      "\n",
      "WARNING: Possibly unsupported ROM: mismatched MD5.\n",
      "Cartridge_MD5: 87e79cd41ce136fd4f72cc6e2c161bee\n",
      "Cartridge_name: Ms. Pac-Man (1982) (Atari)\n",
      "\n",
      "Running ROM file...\n",
      "Random seed is 0\n",
      "Game console created:\n",
      "  ROM file:  /home/disc/p.templier/.julia/artifacts/9b7774e2f34581dc08d0979a8172c6d157be1f2d/ms_pacman.bin\n",
      "  Cart Name: Ms. Pac-Man (1982) (Atari)\n",
      "  Cart MD5:  87e79cd41ce136fd4f72cc6e2c161bee\n",
      "  Display Format:  AUTO-DETECT ==> NTSC\n",
      "  ROM Size:        8192\n",
      "  Bankswitch Type: AUTO-DETECT ==> F8\n",
      "\n",
      "\n",
      "WARNING: Possibly unsupported ROM: mismatched MD5.\n",
      "Cartridge_MD5: 87e79cd41ce136fd4f72cc6e2c161bee\n",
      "Cartridge_name: Ms. Pac-Man (1982) (Atari)\n",
      "\n",
      "Running ROM file...\n",
      "Random seed is 0\n",
      "Game console created:\n",
      "  ROM file:  /home/disc/p.templier/.julia/artifacts/9b7774e2f34581dc08d0979a8172c6d157be1f2d/ms_pacman.bin\n",
      "  Cart Name: Ms. Pac-Man (1982) (Atari)\n",
      "  Cart MD5:  87e79cd41ce136fd4f72cc6e2c161bee\n",
      "  Display Format:  AUTO-DETECT ==> NTSC\n",
      "  ROM Size:        8192\n",
      "  Bankswitch Type: AUTO-DETECT ==> F8\n",
      "\n",
      "\n",
      "WARNING: Possibly unsupported ROM: mismatched MD5.\n",
      "Cartridge_MD5: 87e79cd41ce136fd4f72cc6e2c161bee\n",
      "Cartridge_name: Ms. Pac-Man (1982) (Atari)\n",
      "\n",
      "Running ROM file...\n",
      "Random seed is 0\n",
      "Game console created:\n",
      "  ROM file:  /home/disc/p.templier/.julia/artifacts/9b7774e2f34581dc08d0979a8172c6d157be1f2d/ms_pacman.bin\n",
      "  Cart Name: Ms. Pac-Man (1982) (Atari)\n",
      "  Cart MD5:  87e79cd41ce136fd4f72cc6e2c161bee\n",
      "  Display Format:  AUTO-DETECT ==> NTSC\n",
      "  ROM Size:        8192\n",
      "  Bankswitch Type: AUTO-DETECT ==> F8\n",
      "\n",
      "\n",
      "WARNING: Possibly unsupported ROM: mismatched MD5.\n",
      "Cartridge_MD5: 87e79cd41ce136fd4f72cc6e2c161bee\n",
      "Cartridge_name: Ms. Pac-Man (1982) (Atari)\n",
      "\n",
      "Running ROM file...\n",
      "Random seed is 0\n",
      "Game console created:\n",
      "  ROM file:  /home/disc/p.templier/.julia/artifacts/9b7774e2f34581dc08d0979a8172c6d157be1f2d/ms_pacman.bin\n",
      "  Cart Name: Ms. Pac-Man (1982) (Atari)\n",
      "  Cart MD5:  87e79cd41ce136fd4f72cc6e2c161bee\n",
      "  Display Format:  AUTO-DETECT ==> NTSC\n",
      "  ROM Size:        8192\n",
      "  Bankswitch Type: AUTO-DETECT ==> F8\n",
      "\n",
      "\n",
      "WARNING: Possibly unsupported ROM: mismatched MD5.\n",
      "Cartridge_MD5: 87e79cd41ce136fd4f72cc6e2c161bee\n",
      "Cartridge_name: Ms. Pac-Man (1982) (Atari)\n",
      "\n",
      "Running ROM file...\n",
      "Random seed is 0\n",
      "Game console created:\n",
      "  ROM file:  /home/disc/p.templier/.julia/artifacts/9b7774e2f34581dc08d0979a8172c6d157be1f2d/ms_pacman.bin\n",
      "  Cart Name: Ms. Pac-Man (1982) (Atari)\n",
      "  Cart MD5:  87e79cd41ce136fd4f72cc6e2c161bee\n",
      "  Display Format:  AUTO-DETECT ==> NTSC\n",
      "  ROM Size:        8192\n",
      "  Bankswitch Type: AUTO-DETECT ==> F8\n",
      "\n",
      "\n",
      "WARNING: Possibly unsupported ROM: mismatched MD5.\n",
      "Cartridge_MD5: 87e79cd41ce136fd4f72cc6e2c161bee\n",
      "Cartridge_name: Ms. Pac-Man (1982) (Atari)\n",
      "\n",
      "Running ROM file...\n",
      "Random seed is 0\n",
      "Game console created:\n",
      "  ROM file:  /home/disc/p.templier/.julia/artifacts/9b7774e2f34581dc08d0979a8172c6d157be1f2d/ms_pacman.bin\n",
      "  Cart Name: Ms. Pac-Man (1982) (Atari)\n",
      "  Cart MD5:  87e79cd41ce136fd4f72cc6e2c161bee\n",
      "  Display Format:  AUTO-DETECT ==> NTSC\n",
      "  ROM Size:        8192\n",
      "  Bankswitch Type: AUTO-DETECT ==> F8\n",
      "\n",
      "\n",
      "WARNING: Possibly unsupported ROM: mismatched MD5.\n",
      "Cartridge_MD5: 87e79cd41ce136fd4f72cc6e2c161bee\n",
      "Cartridge_name: Ms. Pac-Man (1982) (Atari)\n",
      "\n",
      "Running ROM file...\n",
      "Random seed is 0\n",
      "Game console created:\n",
      "  ROM file:  /home/disc/p.templier/.julia/artifacts/9b7774e2f34581dc08d0979a8172c6d157be1f2d/ms_pacman.bin\n",
      "  Cart Name: Ms. Pac-Man (1982) (Atari)\n",
      "  Cart MD5:  87e79cd41ce136fd4f72cc6e2c161bee\n",
      "  Display Format:  AUTO-DETECT ==> NTSC\n",
      "  ROM Size:        8192\n",
      "  Bankswitch Type: AUTO-DETECT ==> F8\n",
      "\n",
      "\n",
      "WARNING: Possibly unsupported ROM: mismatched MD5.\n",
      "Cartridge_MD5: 87e79cd41ce136fd4f72cc6e2c161bee\n",
      "Cartridge_name: Ms. Pac-Man (1982) (Atari)\n",
      "\n",
      "Running ROM file...\n",
      "Random seed is 0\n",
      "Game console created:\n",
      "  ROM file:  /home/disc/p.templier/.julia/artifacts/9b7774e2f34581dc08d0979a8172c6d157be1f2d/ms_pacman.bin\n",
      "  Cart Name: Ms. Pac-Man (1982) (Atari)\n",
      "  Cart MD5:  87e79cd41ce136fd4f72cc6e2c161bee\n",
      "  Display Format:  AUTO-DETECT ==> NTSC\n",
      "  ROM Size:        8192\n",
      "  Bankswitch Type: AUTO-DETECT ==> F8\n",
      "\n",
      "\n",
      "WARNING: Possibly unsupported ROM: mismatched MD5.\n",
      "Cartridge_MD5: 87e79cd41ce136fd4f72cc6e2c161bee\n",
      "Cartridge_name: Ms. Pac-Man (1982) (Atari)\n",
      "\n",
      "Running ROM file...\n",
      "Random seed is 0\n",
      "Game console created:\n",
      "  ROM file:  /home/disc/p.templier/.julia/artifacts/9b7774e2f34581dc08d0979a8172c6d157be1f2d/ms_pacman.bin\n",
      "  Cart Name: Ms. Pac-Man (1982) (Atari)\n",
      "  Cart MD5:  87e79cd41ce136fd4f72cc6e2c161bee\n",
      "  Display Format:  AUTO-DETECT ==> NTSC\n",
      "  ROM Size:        8192\n",
      "  Bankswitch Type: AUTO-DETECT ==> F8\n",
      "\n",
      "\n",
      "WARNING: Possibly unsupported ROM: mismatched MD5.\n",
      "Cartridge_MD5: 87e79cd41ce136fd4f72cc6e2c161bee\n",
      "Cartridge_name: Ms. Pac-Man (1982) (Atari)\n",
      "\n",
      "Running ROM file...\n",
      "Random seed is 0\n",
      "Game console created:\n",
      "  ROM file:  /home/disc/p.templier/.julia/artifacts/9b7774e2f34581dc08d0979a8172c6d157be1f2d/ms_pacman.bin\n",
      "  Cart Name: Ms. Pac-Man (1982) (Atari)\n",
      "  Cart MD5:  87e79cd41ce136fd4f72cc6e2c161bee\n",
      "  Display Format:  AUTO-DETECT ==> NTSC\n",
      "  ROM Size:        8192\n",
      "  Bankswitch Type: AUTO-DETECT ==> F8\n",
      "\n",
      "\n",
      "WARNING: Possibly unsupported ROM: mismatched MD5.\n",
      "Cartridge_MD5: 87e79cd41ce136fd4f72cc6e2c161bee\n",
      "Cartridge_name: Ms. Pac-Man (1982) (Atari)\n",
      "\n",
      "Running ROM file...\n",
      "Random seed is 0\n",
      "Game console created:\n",
      "  ROM file:  /home/disc/p.templier/.julia/artifacts/9b7774e2f34581dc08d0979a8172c6d157be1f2d/ms_pacman.bin\n",
      "  Cart Name: Ms. Pac-Man (1982) (Atari)\n",
      "  Cart MD5:  87e79cd41ce136fd4f72cc6e2c161bee\n",
      "  Display Format:  AUTO-DETECT ==> NTSC\n",
      "  ROM Size:        8192\n",
      "  Bankswitch Type: AUTO-DETECT ==> F8\n",
      "\n",
      "\n",
      "WARNING: Possibly unsupported ROM: mismatched MD5.\n",
      "Cartridge_MD5: 87e79cd41ce136fd4f72cc6e2c161bee\n",
      "Cartridge_name: Ms. Pac-Man (1982) (Atari)\n",
      "\n",
      "Running ROM file...\n",
      "Random seed is 0\n",
      "Game console created:\n",
      "  ROM file:  /home/disc/p.templier/.julia/artifacts/9b7774e2f34581dc08d0979a8172c6d157be1f2d/ms_pacman.bin\n",
      "  Cart Name: Ms. Pac-Man (1982) (Atari)\n",
      "  Cart MD5:  87e79cd41ce136fd4f72cc6e2c161bee\n",
      "  Display Format:  AUTO-DETECT ==> NTSC\n",
      "  ROM Size:        8192\n",
      "  Bankswitch Type: AUTO-DETECT ==> F8\n",
      "\n",
      "\n",
      "WARNING: Possibly unsupported ROM: mismatched MD5.\n",
      "Cartridge_MD5: 87e79cd41ce136fd4f72cc6e2c161bee\n",
      "Cartridge_name: Ms. Pac-Man (1982) (Atari)\n",
      "\n",
      "Running ROM file...\n",
      "Random seed is 0\n",
      "Game console created:\n",
      "  ROM file:  /home/disc/p.templier/.julia/artifacts/9b7774e2f34581dc08d0979a8172c6d157be1f2d/ms_pacman.bin\n",
      "  Cart Name: Ms. Pac-Man (1982) (Atari)\n",
      "  Cart MD5:  87e79cd41ce136fd4f72cc6e2c161bee\n",
      "  Display Format:  AUTO-DETECT ==> NTSC\n",
      "  ROM Size:        8192\n",
      "  Bankswitch Type: AUTO-DETECT ==> F8\n",
      "\n",
      "\n",
      "WARNING: Possibly unsupported ROM: mismatched MD5.\n",
      "Cartridge_MD5: 87e79cd41ce136fd4f72cc6e2c161bee\n",
      "Cartridge_name: Ms. Pac-Man (1982) (Atari)\n",
      "\n",
      "Running ROM file...\n",
      "Random seed is 0\n",
      "Game console created:\n",
      "  ROM file:  /home/disc/p.templier/.julia/artifacts/9b7774e2f34581dc08d0979a8172c6d157be1f2d/ms_pacman.bin\n",
      "  Cart Name: Ms. Pac-Man (1982) (Atari)\n",
      "  Cart MD5:  87e79cd41ce136fd4f72cc6e2c161bee\n",
      "  Display Format:  AUTO-DETECT ==> NTSC\n",
      "  ROM Size:        8192\n",
      "  Bankswitch Type: AUTO-DETECT ==> F8\n",
      "\n",
      "\n",
      "WARNING: Possibly unsupported ROM: mismatched MD5.\n",
      "Cartridge_MD5: 87e79cd41ce136fd4f72cc6e2c161bee\n",
      "Cartridge_name: Ms. Pac-Man (1982) (Atari)\n",
      "\n",
      "Running ROM file...\n",
      "Random seed is 0\n",
      "Game console created:\n",
      "  ROM file:  /home/disc/p.templier/.julia/artifacts/9b7774e2f34581dc08d0979a8172c6d157be1f2d/ms_pacman.bin\n",
      "  Cart Name: Ms. Pac-Man (1982) (Atari)\n",
      "  Cart MD5:  87e79cd41ce136fd4f72cc6e2c161bee\n",
      "  Display Format:  AUTO-DETECT ==> NTSC\n",
      "  ROM Size:        8192\n",
      "  Bankswitch Type: AUTO-DETECT ==> F8\n",
      "\n",
      "\n",
      "WARNING: Possibly unsupported ROM: mismatched MD5.\n",
      "Cartridge_MD5: 87e79cd41ce136fd4f72cc6e2c161bee\n",
      "Cartridge_name: Ms. Pac-Man (1982) (Atari)\n",
      "\n",
      "Running ROM file...\n",
      "Random seed is 0\n",
      "Game console created:\n",
      "  ROM file:  /home/disc/p.templier/.julia/artifacts/9b7774e2f34581dc08d0979a8172c6d157be1f2d/ms_pacman.bin\n",
      "  Cart Name: Ms. Pac-Man (1982) (Atari)\n",
      "  Cart MD5:  87e79cd41ce136fd4f72cc6e2c161bee\n",
      "  Display Format:  AUTO-DETECT ==> NTSC\n",
      "  ROM Size:        8192\n",
      "  Bankswitch Type: AUTO-DETECT ==> F8\n",
      "\n",
      "\n",
      "WARNING: Possibly unsupported ROM: mismatched MD5.\n",
      "Cartridge_MD5: 87e79cd41ce136fd4f72cc6e2c161bee\n",
      "Cartridge_name: Ms. Pac-Man (1982) (Atari)\n",
      "\n",
      "Running ROM file...\n",
      "Random seed is 0\n",
      "Game console created:\n",
      "  ROM file:  /home/disc/p.templier/.julia/artifacts/9b7774e2f34581dc08d0979a8172c6d157be1f2d/ms_pacman.bin\n",
      "  Cart Name: Ms. Pac-Man (1982) (Atari)\n",
      "  Cart MD5:  87e79cd41ce136fd4f72cc6e2c161bee\n",
      "  Display Format:  AUTO-DETECT ==> NTSC\n",
      "  ROM Size:        8192\n",
      "  Bankswitch Type: AUTO-DETECT ==> F8\n",
      "\n",
      "\n",
      "WARNING: Possibly unsupported ROM: mismatched MD5.\n",
      "Cartridge_MD5: 87e79cd41ce136fd4f72cc6e2c161bee\n",
      "Cartridge_name: Ms. Pac-Man (1982) (Atari)\n",
      "\n",
      "Running ROM file...\n",
      "Random seed is 0\n"
     ]
    },
    {
     "name": "stdout",
     "output_type": "stream",
     "text": [
      "770.080\n",
      "770.0"
     ]
    },
    {
     "name": "stderr",
     "output_type": "stream",
     "text": [
      "Game console created:\n",
      "  ROM file:  /home/disc/p.templier/.julia/artifacts/9b7774e2f34581dc08d0979a8172c6d157be1f2d/ms_pacman.bin\n",
      "  Cart Name: Ms. Pac-Man (1982) (Atari)\n",
      "  Cart MD5:  87e79cd41ce136fd4f72cc6e2c161bee\n",
      "  Display Format:  AUTO-DETECT ==> NTSC\n",
      "  ROM Size:        8192\n",
      "  Bankswitch Type: AUTO-DETECT ==> F8\n",
      "\n",
      "\n",
      "WARNING: Possibly unsupported ROM: mismatched MD5.\n",
      "Cartridge_MD5: 87e79cd41ce136fd4f72cc6e2c161bee\n",
      "Cartridge_name: Ms. Pac-Man (1982) (Atari)\n",
      "\n",
      "Running ROM file...\n",
      "Random seed is 0\n",
      "Game console created:\n",
      "  ROM file:  /home/disc/p.templier/.julia/artifacts/9b7774e2f34581dc08d0979a8172c6d157be1f2d/ms_pacman.bin\n",
      "  Cart Name: Ms. Pac-Man (1982) (Atari)\n",
      "  Cart MD5:  87e79cd41ce136fd4f72cc6e2c161bee\n",
      "  Display Format:  AUTO-DETECT ==> NTSC\n",
      "  ROM Size:        8192\n",
      "  Bankswitch Type: AUTO-DETECT ==> F8\n",
      "\n",
      "\n",
      "WARNING: Possibly unsupported ROM: mismatched MD5.\n",
      "Cartridge_MD5: 87e79cd41ce136fd4f72cc6e2c161bee\n",
      "Cartridge_name: Ms. Pac-Man (1982) (Atari)\n",
      "\n",
      "Running ROM file...\n",
      "Random seed is 0\n",
      "Game console created:\n",
      "  ROM file:  /home/disc/p.templier/.julia/artifacts/9b7774e2f34581dc08d0979a8172c6d157be1f2d/ms_pacman.bin\n",
      "  Cart Name: Ms. Pac-Man (1982) (Atari)\n",
      "  Cart MD5:  87e79cd41ce136fd4f72cc6e2c161bee\n",
      "  Display Format:  AUTO-DETECT ==> NTSC\n",
      "  ROM Size:        8192\n",
      "  Bankswitch Type: AUTO-DETECT ==> F8\n",
      "\n",
      "\n",
      "WARNING: Possibly unsupported ROM: mismatched MD5.\n",
      "Cartridge_MD5: 87e79cd41ce136fd4f72cc6e2c161bee\n",
      "Cartridge_name: Ms. Pac-Man (1982) (Atari)\n",
      "\n",
      "Running ROM file...\n",
      "Random seed is 0\n",
      "Game console created:\n",
      "  ROM file:  /home/disc/p.templier/.julia/artifacts/9b7774e2f34581dc08d0979a8172c6d157be1f2d/ms_pacman.bin\n",
      "  Cart Name: Ms. Pac-Man (1982) (Atari)\n",
      "  Cart MD5:  87e79cd41ce136fd4f72cc6e2c161bee\n",
      "  Display Format:  AUTO-DETECT ==> NTSC\n",
      "  ROM Size:        8192\n",
      "  Bankswitch Type: AUTO-DETECT ==> F8\n",
      "\n",
      "\n",
      "WARNING: Possibly unsupported ROM: mismatched MD5.\n",
      "Cartridge_MD5: 87e79cd41ce136fd4f72cc6e2c161bee\n",
      "Cartridge_name: Ms. Pac-Man (1982) (Atari)\n",
      "\n",
      "Running ROM file...\n",
      "Random seed is 0\n",
      "Game console created:\n",
      "  ROM file:  /home/disc/p.templier/.julia/artifacts/9b7774e2f34581dc08d0979a8172c6d157be1f2d/ms_pacman.bin\n",
      "  Cart Name: Ms. Pac-Man (1982) (Atari)\n",
      "  Cart MD5:  87e79cd41ce136fd4f72cc6e2c161bee\n",
      "  Display Format:  AUTO-DETECT ==> NTSC\n",
      "  ROM Size:        8192\n",
      "  Bankswitch Type: AUTO-DETECT ==> F8\n",
      "\n",
      "\n",
      "WARNING: Possibly unsupported ROM: mismatched MD5.\n",
      "Cartridge_MD5: 87e79cd41ce136fd4f72cc6e2c161bee\n",
      "Cartridge_name: Ms. Pac-Man (1982) (Atari)\n",
      "\n",
      "Running ROM file...\n",
      "Random seed is 0\n",
      "Game console created:\n",
      "  ROM file:  /home/disc/p.templier/.julia/artifacts/9b7774e2f34581dc08d0979a8172c6d157be1f2d/ms_pacman.bin\n",
      "  Cart Name: Ms. Pac-Man (1982) (Atari)\n",
      "  Cart MD5:  87e79cd41ce136fd4f72cc6e2c161bee\n",
      "  Display Format:  AUTO-DETECT ==> NTSC\n",
      "  ROM Size:        8192\n",
      "  Bankswitch Type: AUTO-DETECT ==> F8\n",
      "\n",
      "\n",
      "WARNING: Possibly unsupported ROM: mismatched MD5.\n",
      "Cartridge_MD5: 87e79cd41ce136fd4f72cc6e2c161bee\n",
      "Cartridge_name: Ms. Pac-Man (1982) (Atari)\n",
      "\n",
      "Running ROM file...\n",
      "Random seed is 0\n",
      "Game console created:\n",
      "  ROM file:  /home/disc/p.templier/.julia/artifacts/9b7774e2f34581dc08d0979a8172c6d157be1f2d/ms_pacman.bin\n",
      "  Cart Name: Ms. Pac-Man (1982) (Atari)\n",
      "  Cart MD5:  87e79cd41ce136fd4f72cc6e2c161bee\n",
      "  Display Format:  AUTO-DETECT ==> NTSC\n",
      "  ROM Size:        8192\n",
      "  Bankswitch Type: AUTO-DETECT ==> F8\n",
      "\n",
      "\n",
      "WARNING: Possibly unsupported ROM: mismatched MD5.\n",
      "Cartridge_MD5: 87e79cd41ce136fd4f72cc6e2c161bee\n",
      "Cartridge_name: Ms. Pac-Man (1982) (Atari)\n",
      "\n",
      "Running ROM file...\n",
      "Random seed is 0\n",
      "Game console created:\n",
      "  ROM file:  /home/disc/p.templier/.julia/artifacts/9b7774e2f34581dc08d0979a8172c6d157be1f2d/ms_pacman.bin\n",
      "  Cart Name: Ms. Pac-Man (1982) (Atari)\n",
      "  Cart MD5:  87e79cd41ce136fd4f72cc6e2c161bee\n",
      "  Display Format:  AUTO-DETECT ==> NTSC\n",
      "  ROM Size:        8192\n",
      "  Bankswitch Type: AUTO-DETECT ==> F8\n",
      "\n",
      "\n",
      "WARNING: Possibly unsupported ROM: mismatched MD5.\n",
      "Cartridge_MD5: 87e79cd41ce136fd4f72cc6e2c161bee\n",
      "Cartridge_name: Ms. Pac-Man (1982) (Atari)\n",
      "\n",
      "Running ROM file...\n",
      "Random seed is 0\n",
      "Game console created:\n",
      "  ROM file:  /home/disc/p.templier/.julia/artifacts/9b7774e2f34581dc08d0979a8172c6d157be1f2d/ms_pacman.bin\n",
      "  Cart Name: Ms. Pac-Man (1982) (Atari)\n",
      "  Cart MD5:  87e79cd41ce136fd4f72cc6e2c161bee\n",
      "  Display Format:  AUTO-DETECT ==> NTSC\n",
      "  ROM Size:        8192\n",
      "  Bankswitch Type: AUTO-DETECT ==> F8\n",
      "\n",
      "\n",
      "WARNING: Possibly unsupported ROM: mismatched MD5.\n",
      "Cartridge_MD5: 87e79cd41ce136fd4f72cc6e2c161bee\n",
      "Cartridge_name: Ms. Pac-Man (1982) (Atari)\n",
      "\n",
      "Running ROM file...\n",
      "Random seed is 0\n",
      "Game console created:\n",
      "  ROM file:  /home/disc/p.templier/.julia/artifacts/9b7774e2f34581dc08d0979a8172c6d157be1f2d/ms_pacman.bin\n",
      "  Cart Name: Ms. Pac-Man (1982) (Atari)\n",
      "  Cart MD5:  87e79cd41ce136fd4f72cc6e2c161bee\n",
      "  Display Format:  AUTO-DETECT ==> NTSC\n",
      "  ROM Size:        8192\n",
      "  Bankswitch Type: AUTO-DETECT ==> F8\n",
      "\n",
      "\n",
      "WARNING: Possibly unsupported ROM: mismatched MD5.\n",
      "Cartridge_MD5: 87e79cd41ce136fd4f72cc6e2c161bee\n",
      "Cartridge_name: Ms. Pac-Man (1982) (Atari)\n",
      "\n",
      "Running ROM file...\n",
      "Random seed is 0\n",
      "Game console created:\n",
      "  ROM file:  /home/disc/p.templier/.julia/artifacts/9b7774e2f34581dc08d0979a8172c6d157be1f2d/ms_pacman.bin\n",
      "  Cart Name: Ms. Pac-Man (1982) (Atari)\n",
      "  Cart MD5:  87e79cd41ce136fd4f72cc6e2c161bee\n",
      "  Display Format:  AUTO-DETECT ==> NTSC\n",
      "  ROM Size:        8192\n",
      "  Bankswitch Type: AUTO-DETECT ==> F8\n",
      "\n",
      "\n",
      "WARNING: Possibly unsupported ROM: mismatched MD5.\n",
      "Cartridge_MD5: 87e79cd41ce136fd4f72cc6e2c161bee\n",
      "Cartridge_name: Ms. Pac-Man (1982) (Atari)\n",
      "\n",
      "Running ROM file...\n",
      "Random seed is 0\n",
      "Game console created:\n",
      "  ROM file:  /home/disc/p.templier/.julia/artifacts/9b7774e2f34581dc08d0979a8172c6d157be1f2d/ms_pacman.bin\n",
      "  Cart Name: Ms. Pac-Man (1982) (Atari)\n",
      "  Cart MD5:  87e79cd41ce136fd4f72cc6e2c161bee\n",
      "  Display Format:  AUTO-DETECT ==> NTSC\n",
      "  ROM Size:        8192\n",
      "  Bankswitch Type: AUTO-DETECT ==> F8\n",
      "\n",
      "\n",
      "WARNING: Possibly unsupported ROM: mismatched MD5.\n",
      "Cartridge_MD5: 87e79cd41ce136fd4f72cc6e2c161bee\n",
      "Cartridge_name: Ms. Pac-Man (1982) (Atari)\n",
      "\n",
      "Running ROM file...\n",
      "Random seed is 0\n",
      "Game console created:\n",
      "  ROM file:  /home/disc/p.templier/.julia/artifacts/9b7774e2f34581dc08d0979a8172c6d157be1f2d/ms_pacman.bin\n",
      "  Cart Name: Ms. Pac-Man (1982) (Atari)\n",
      "  Cart MD5:  87e79cd41ce136fd4f72cc6e2c161bee\n",
      "  Display Format:  AUTO-DETECT ==> NTSC\n",
      "  ROM Size:        8192\n",
      "  Bankswitch Type: AUTO-DETECT ==> F8\n",
      "\n",
      "\n",
      "WARNING: Possibly unsupported ROM: mismatched MD5.\n",
      "Cartridge_MD5: 87e79cd41ce136fd4f72cc6e2c161bee\n",
      "Cartridge_name: Ms. Pac-Man (1982) (Atari)\n",
      "\n",
      "Running ROM file...\n",
      "Random seed is 0\n",
      "Game console created:\n",
      "  ROM file:  /home/disc/p.templier/.julia/artifacts/9b7774e2f34581dc08d0979a8172c6d157be1f2d/ms_pacman.bin\n",
      "  Cart Name: Ms. Pac-Man (1982) (Atari)\n",
      "  Cart MD5:  87e79cd41ce136fd4f72cc6e2c161bee\n",
      "  Display Format:  AUTO-DETECT ==> NTSC\n",
      "  ROM Size:        8192\n",
      "  Bankswitch Type: AUTO-DETECT ==> F8\n",
      "\n",
      "\n",
      "WARNING: Possibly unsupported ROM: mismatched MD5.\n",
      "Cartridge_MD5: 87e79cd41ce136fd4f72cc6e2c161bee\n",
      "Cartridge_name: Ms. Pac-Man (1982) (Atari)\n",
      "\n",
      "Running ROM file...\n",
      "Random seed is 0\n",
      "Game console created:\n",
      "  ROM file:  /home/disc/p.templier/.julia/artifacts/9b7774e2f34581dc08d0979a8172c6d157be1f2d/ms_pacman.bin\n",
      "  Cart Name: Ms. Pac-Man (1982) (Atari)\n",
      "  Cart MD5:  87e79cd41ce136fd4f72cc6e2c161bee\n",
      "  Display Format:  AUTO-DETECT ==> NTSC\n",
      "  ROM Size:        8192\n",
      "  Bankswitch Type: AUTO-DETECT ==> F8\n",
      "\n",
      "\n",
      "WARNING: Possibly unsupported ROM: mismatched MD5.\n",
      "Cartridge_MD5: 87e79cd41ce136fd4f72cc6e2c161bee\n",
      "Cartridge_name: Ms. Pac-Man (1982) (Atari)\n",
      "\n",
      "Running ROM file...\n",
      "Random seed is 0\n",
      "Game console created:\n",
      "  ROM file:  /home/disc/p.templier/.julia/artifacts/9b7774e2f34581dc08d0979a8172c6d157be1f2d/ms_pacman.bin\n",
      "  Cart Name: Ms. Pac-Man (1982) (Atari)\n",
      "  Cart MD5:  87e79cd41ce136fd4f72cc6e2c161bee\n",
      "  Display Format:  AUTO-DETECT ==> NTSC\n",
      "  ROM Size:        8192\n",
      "  Bankswitch Type: AUTO-DETECT ==> F8\n",
      "\n",
      "\n",
      "WARNING: Possibly unsupported ROM: mismatched MD5.\n",
      "Cartridge_MD5: 87e79cd41ce136fd4f72cc6e2c161bee\n",
      "Cartridge_name: Ms. Pac-Man (1982) (Atari)\n",
      "\n",
      "Running ROM file...\n",
      "Random seed is 0\n",
      "Game console created:\n",
      "  ROM file:  /home/disc/p.templier/.julia/artifacts/9b7774e2f34581dc08d0979a8172c6d157be1f2d/ms_pacman.bin\n",
      "  Cart Name: Ms. Pac-Man (1982) (Atari)\n",
      "  Cart MD5:  87e79cd41ce136fd4f72cc6e2c161bee\n",
      "  Display Format:  AUTO-DETECT ==> NTSC\n",
      "  ROM Size:        8192\n",
      "  Bankswitch Type: AUTO-DETECT ==> F8\n",
      "\n",
      "\n",
      "WARNING: Possibly unsupported ROM: mismatched MD5.\n",
      "Cartridge_MD5: 87e79cd41ce136fd4f72cc6e2c161bee\n",
      "Cartridge_name: Ms. Pac-Man (1982) (Atari)\n",
      "\n",
      "Running ROM file...\n",
      "Random seed is 0\n",
      "Game console created:\n",
      "  ROM file:  /home/disc/p.templier/.julia/artifacts/9b7774e2f34581dc08d0979a8172c6d157be1f2d/ms_pacman.bin\n",
      "  Cart Name: Ms. Pac-Man (1982) (Atari)\n",
      "  Cart MD5:  87e79cd41ce136fd4f72cc6e2c161bee\n",
      "  Display Format:  AUTO-DETECT ==> NTSC\n",
      "  ROM Size:        8192\n",
      "  Bankswitch Type: AUTO-DETECT ==> F8\n",
      "\n",
      "\n",
      "WARNING: Possibly unsupported ROM: mismatched MD5.\n",
      "Cartridge_MD5: 87e79cd41ce136fd4f72cc6e2c161bee\n",
      "Cartridge_name: Ms. Pac-Man (1982) (Atari)\n",
      "\n",
      "Running ROM file...\n",
      "Random seed is 0\n",
      "Game console created:\n",
      "  ROM file:  /home/disc/p.templier/.julia/artifacts/9b7774e2f34581dc08d0979a8172c6d157be1f2d/ms_pacman.bin\n",
      "  Cart Name: Ms. Pac-Man (1982) (Atari)\n",
      "  Cart MD5:  87e79cd41ce136fd4f72cc6e2c161bee\n",
      "  Display Format:  AUTO-DETECT ==> NTSC\n",
      "  ROM Size:        8192\n",
      "  Bankswitch Type: AUTO-DETECT ==> F8\n",
      "\n",
      "\n",
      "WARNING: Possibly unsupported ROM: mismatched MD5.\n",
      "Cartridge_MD5: 87e79cd41ce136fd4f72cc6e2c161bee\n",
      "Cartridge_name: Ms. Pac-Man (1982) (Atari)\n",
      "\n",
      "Running ROM file...\n",
      "Random seed is 0\n",
      "Game console created:\n",
      "  ROM file:  /home/disc/p.templier/.julia/artifacts/9b7774e2f34581dc08d0979a8172c6d157be1f2d/ms_pacman.bin\n",
      "  Cart Name: Ms. Pac-Man (1982) (Atari)\n",
      "  Cart MD5:  87e79cd41ce136fd4f72cc6e2c161bee\n",
      "  Display Format:  AUTO-DETECT ==> NTSC\n",
      "  ROM Size:        8192\n",
      "  Bankswitch Type: AUTO-DETECT ==> F8\n",
      "\n",
      "\n",
      "WARNING: Possibly unsupported ROM: mismatched MD5.\n",
      "Cartridge_MD5: 87e79cd41ce136fd4f72cc6e2c161bee\n",
      "Cartridge_name: Ms. Pac-Man (1982) (Atari)\n",
      "\n",
      "Running ROM file...\n",
      "Random seed is 0\n"
     ]
    },
    {
     "name": "stdout",
     "output_type": "stream",
     "text": [
      "100\n"
     ]
    },
    {
     "name": "stderr",
     "output_type": "stream",
     "text": [
      "Game console created:\n",
      "  ROM file:  /home/disc/p.templier/.julia/artifacts/9b7774e2f34581dc08d0979a8172c6d157be1f2d/ms_pacman.bin\n",
      "  Cart Name: Ms. Pac-Man (1982) (Atari)\n",
      "  Cart MD5:  87e79cd41ce136fd4f72cc6e2c161bee\n",
      "  Display Format:  AUTO-DETECT ==> NTSC\n",
      "  ROM Size:        8192\n",
      "  Bankswitch Type: AUTO-DETECT ==> F8\n",
      "\n",
      "\n",
      "WARNING: Possibly unsupported ROM: mismatched MD5.\n",
      "Cartridge_MD5: 87e79cd41ce136fd4f72cc6e2c161bee\n",
      "Cartridge_name: Ms. Pac-Man (1982) (Atari)\n",
      "\n",
      "Running ROM file...\n",
      "Random seed is 0\n",
      "Game console created:\n",
      "  ROM file:  /home/disc/p.templier/.julia/artifacts/9b7774e2f34581dc08d0979a8172c6d157be1f2d/ms_pacman.bin\n",
      "  Cart Name: Ms. Pac-Man (1982) (Atari)\n",
      "  Cart MD5:  87e79cd41ce136fd4f72cc6e2c161bee\n",
      "  Display Format:  AUTO-DETECT ==> NTSC\n",
      "  ROM Size:        8192\n",
      "  Bankswitch Type: AUTO-DETECT ==> F8\n",
      "\n",
      "\n",
      "WARNING: Possibly unsupported ROM: mismatched MD5.\n",
      "Cartridge_MD5: 87e79cd41ce136fd4f72cc6e2c161bee\n",
      "Cartridge_name: Ms. Pac-Man (1982) (Atari)\n",
      "\n",
      "Running ROM file...\n",
      "Random seed is 0\n",
      "Game console created:\n",
      "  ROM file:  /home/disc/p.templier/.julia/artifacts/9b7774e2f34581dc08d0979a8172c6d157be1f2d/ms_pacman.bin\n",
      "  Cart Name: Ms. Pac-Man (1982) (Atari)\n",
      "  Cart MD5:  87e79cd41ce136fd4f72cc6e2c161bee\n",
      "  Display Format:  AUTO-DETECT ==> NTSC\n",
      "  ROM Size:        8192\n",
      "  Bankswitch Type: AUTO-DETECT ==> F8\n",
      "\n",
      "\n",
      "WARNING: Possibly unsupported ROM: mismatched MD5.\n",
      "Cartridge_MD5: 87e79cd41ce136fd4f72cc6e2c161bee\n",
      "Cartridge_name: Ms. Pac-Man (1982) (Atari)\n",
      "\n",
      "Running ROM file...\n",
      "Random seed is 0\n",
      "Game console created:\n",
      "  ROM file:  /home/disc/p.templier/.julia/artifacts/9b7774e2f34581dc08d0979a8172c6d157be1f2d/ms_pacman.bin\n",
      "  Cart Name: Ms. Pac-Man (1982) (Atari)\n",
      "  Cart MD5:  87e79cd41ce136fd4f72cc6e2c161bee\n",
      "  Display Format:  AUTO-DETECT ==> NTSC\n",
      "  ROM Size:        8192\n",
      "  Bankswitch Type: AUTO-DETECT ==> F8\n",
      "\n",
      "\n",
      "WARNING: Possibly unsupported ROM: mismatched MD5.\n",
      "Cartridge_MD5: 87e79cd41ce136fd4f72cc6e2c161bee\n",
      "Cartridge_name: Ms. Pac-Man (1982) (Atari)\n",
      "\n",
      "Running ROM file...\n",
      "Random seed is 0\n",
      "Game console created:\n",
      "  ROM file:  /home/disc/p.templier/.julia/artifacts/9b7774e2f34581dc08d0979a8172c6d157be1f2d/ms_pacman.bin\n",
      "  Cart Name: Ms. Pac-Man (1982) (Atari)\n",
      "  Cart MD5:  87e79cd41ce136fd4f72cc6e2c161bee\n",
      "  Display Format:  AUTO-DETECT ==> NTSC\n",
      "  ROM Size:        8192\n",
      "  Bankswitch Type: AUTO-DETECT ==> F8\n",
      "\n",
      "\n",
      "WARNING: Possibly unsupported ROM: mismatched MD5.\n",
      "Cartridge_MD5: 87e79cd41ce136fd4f72cc6e2c161bee\n",
      "Cartridge_name: Ms. Pac-Man (1982) (Atari)\n",
      "\n",
      "Running ROM file...\n",
      "Random seed is 0\n",
      "Game console created:\n",
      "  ROM file:  /home/disc/p.templier/.julia/artifacts/9b7774e2f34581dc08d0979a8172c6d157be1f2d/ms_pacman.bin\n",
      "  Cart Name: Ms. Pac-Man (1982) (Atari)\n",
      "  Cart MD5:  87e79cd41ce136fd4f72cc6e2c161bee\n",
      "  Display Format:  AUTO-DETECT ==> NTSC\n",
      "  ROM Size:        8192\n",
      "  Bankswitch Type: AUTO-DETECT ==> F8\n",
      "\n",
      "\n",
      "WARNING: Possibly unsupported ROM: mismatched MD5.\n",
      "Cartridge_MD5: 87e79cd41ce136fd4f72cc6e2c161bee\n",
      "Cartridge_name: Ms. Pac-Man (1982) (Atari)\n",
      "\n",
      "Running ROM file...\n",
      "Random seed is 0\n",
      "Game console created:\n",
      "  ROM file:  /home/disc/p.templier/.julia/artifacts/9b7774e2f34581dc08d0979a8172c6d157be1f2d/ms_pacman.bin\n",
      "  Cart Name: Ms. Pac-Man (1982) (Atari)\n",
      "  Cart MD5:  87e79cd41ce136fd4f72cc6e2c161bee\n",
      "  Display Format:  AUTO-DETECT ==> NTSC\n",
      "  ROM Size:        8192\n",
      "  Bankswitch Type: AUTO-DETECT ==> F8\n",
      "\n",
      "\n",
      "WARNING: Possibly unsupported ROM: mismatched MD5.\n",
      "Cartridge_MD5: 87e79cd41ce136fd4f72cc6e2c161bee\n",
      "Cartridge_name: Ms. Pac-Man (1982) (Atari)\n",
      "\n",
      "Running ROM file...\n",
      "Random seed is 0\n",
      "Game console created:\n",
      "  ROM file:  /home/disc/p.templier/.julia/artifacts/9b7774e2f34581dc08d0979a8172c6d157be1f2d/ms_pacman.bin\n",
      "  Cart Name: Ms. Pac-Man (1982) (Atari)\n",
      "  Cart MD5:  87e79cd41ce136fd4f72cc6e2c161bee\n",
      "  Display Format:  AUTO-DETECT ==> NTSC\n",
      "  ROM Size:        8192\n",
      "  Bankswitch Type: AUTO-DETECT ==> F8\n",
      "\n",
      "\n",
      "WARNING: Possibly unsupported ROM: mismatched MD5.\n",
      "Cartridge_MD5: 87e79cd41ce136fd4f72cc6e2c161bee\n",
      "Cartridge_name: Ms. Pac-Man (1982) (Atari)\n",
      "\n",
      "Running ROM file...\n",
      "Random seed is 0\n",
      "Game console created:\n",
      "  ROM file:  /home/disc/p.templier/.julia/artifacts/9b7774e2f34581dc08d0979a8172c6d157be1f2d/ms_pacman.bin\n",
      "  Cart Name: Ms. Pac-Man (1982) (Atari)\n",
      "  Cart MD5:  87e79cd41ce136fd4f72cc6e2c161bee\n",
      "  Display Format:  AUTO-DETECT ==> NTSC\n",
      "  ROM Size:        8192\n",
      "  Bankswitch Type: AUTO-DETECT ==> F8\n",
      "\n",
      "\n",
      "WARNING: Possibly unsupported ROM: mismatched MD5.\n",
      "Cartridge_MD5: 87e79cd41ce136fd4f72cc6e2c161bee\n",
      "Cartridge_name: Ms. Pac-Man (1982) (Atari)\n",
      "\n",
      "Running ROM file...\n",
      "Random seed is 0\n",
      "Game console created:\n",
      "  ROM file:  /home/disc/p.templier/.julia/artifacts/9b7774e2f34581dc08d0979a8172c6d157be1f2d/ms_pacman.bin\n",
      "  Cart Name: Ms. Pac-Man (1982) (Atari)\n",
      "  Cart MD5:  87e79cd41ce136fd4f72cc6e2c161bee\n",
      "  Display Format:  AUTO-DETECT ==> NTSC\n",
      "  ROM Size:        8192\n",
      "  Bankswitch Type: AUTO-DETECT ==> F8\n",
      "\n",
      "\n",
      "WARNING: Possibly unsupported ROM: mismatched MD5.\n",
      "Cartridge_MD5: 87e79cd41ce136fd4f72cc6e2c161bee\n",
      "Cartridge_name: Ms. Pac-Man (1982) (Atari)\n",
      "\n",
      "Running ROM file...\n",
      "Random seed is 0\n",
      "Game console created:\n",
      "  ROM file:  /home/disc/p.templier/.julia/artifacts/9b7774e2f34581dc08d0979a8172c6d157be1f2d/ms_pacman.bin\n",
      "  Cart Name: Ms. Pac-Man (1982) (Atari)\n",
      "  Cart MD5:  87e79cd41ce136fd4f72cc6e2c161bee\n",
      "  Display Format:  AUTO-DETECT ==> NTSC\n",
      "  ROM Size:        8192\n",
      "  Bankswitch Type: AUTO-DETECT ==> F8\n",
      "\n",
      "\n",
      "WARNING: Possibly unsupported ROM: mismatched MD5.\n",
      "Cartridge_MD5: 87e79cd41ce136fd4f72cc6e2c161bee\n",
      "Cartridge_name: Ms. Pac-Man (1982) (Atari)\n",
      "\n",
      "Running ROM file...\n",
      "Random seed is 0\n",
      "Game console created:\n",
      "  ROM file:  /home/disc/p.templier/.julia/artifacts/9b7774e2f34581dc08d0979a8172c6d157be1f2d/ms_pacman.bin\n",
      "  Cart Name: Ms. Pac-Man (1982) (Atari)\n",
      "  Cart MD5:  87e79cd41ce136fd4f72cc6e2c161bee\n",
      "  Display Format:  AUTO-DETECT ==> NTSC\n",
      "  ROM Size:        8192\n",
      "  Bankswitch Type: AUTO-DETECT ==> F8\n",
      "\n",
      "\n",
      "WARNING: Possibly unsupported ROM: mismatched MD5.\n",
      "Cartridge_MD5: 87e79cd41ce136fd4f72cc6e2c161bee\n",
      "Cartridge_name: Ms. Pac-Man (1982) (Atari)\n",
      "\n",
      "Running ROM file...\n",
      "Random seed is 0\n",
      "Game console created:\n",
      "  ROM file:  /home/disc/p.templier/.julia/artifacts/9b7774e2f34581dc08d0979a8172c6d157be1f2d/ms_pacman.bin\n",
      "  Cart Name: Ms. Pac-Man (1982) (Atari)\n",
      "  Cart MD5:  87e79cd41ce136fd4f72cc6e2c161bee\n",
      "  Display Format:  AUTO-DETECT ==> NTSC\n",
      "  ROM Size:        8192\n",
      "  Bankswitch Type: AUTO-DETECT ==> F8\n",
      "\n",
      "\n",
      "WARNING: Possibly unsupported ROM: mismatched MD5.\n",
      "Cartridge_MD5: 87e79cd41ce136fd4f72cc6e2c161bee\n",
      "Cartridge_name: Ms. Pac-Man (1982) (Atari)\n",
      "\n",
      "Running ROM file...\n",
      "Random seed is 0\n",
      "Game console created:\n",
      "  ROM file:  /home/disc/p.templier/.julia/artifacts/9b7774e2f34581dc08d0979a8172c6d157be1f2d/ms_pacman.bin\n",
      "  Cart Name: Ms. Pac-Man (1982) (Atari)\n",
      "  Cart MD5:  87e79cd41ce136fd4f72cc6e2c161bee\n",
      "  Display Format:  AUTO-DETECT ==> NTSC\n",
      "  ROM Size:        8192\n",
      "  Bankswitch Type: AUTO-DETECT ==> F8\n",
      "\n",
      "\n",
      "WARNING: Possibly unsupported ROM: mismatched MD5.\n",
      "Cartridge_MD5: 87e79cd41ce136fd4f72cc6e2c161bee\n",
      "Cartridge_name: Ms. Pac-Man (1982) (Atari)\n",
      "\n",
      "Running ROM file...\n",
      "Random seed is 0\n",
      "Game console created:\n",
      "  ROM file:  /home/disc/p.templier/.julia/artifacts/9b7774e2f34581dc08d0979a8172c6d157be1f2d/ms_pacman.bin\n",
      "  Cart Name: Ms. Pac-Man (1982) (Atari)\n",
      "  Cart MD5:  87e79cd41ce136fd4f72cc6e2c161bee\n",
      "  Display Format:  AUTO-DETECT ==> NTSC\n",
      "  ROM Size:        8192\n",
      "  Bankswitch Type: AUTO-DETECT ==> F8\n",
      "\n",
      "\n",
      "WARNING: Possibly unsupported ROM: mismatched MD5.\n",
      "Cartridge_MD5: 87e79cd41ce136fd4f72cc6e2c161bee\n",
      "Cartridge_name: Ms. Pac-Man (1982) (Atari)\n",
      "\n",
      "Running ROM file...\n",
      "Random seed is 0\n",
      "Game console created:\n",
      "  ROM file:  /home/disc/p.templier/.julia/artifacts/9b7774e2f34581dc08d0979a8172c6d157be1f2d/ms_pacman.bin\n",
      "  Cart Name: Ms. Pac-Man (1982) (Atari)\n",
      "  Cart MD5:  87e79cd41ce136fd4f72cc6e2c161bee\n",
      "  Display Format:  AUTO-DETECT ==> NTSC\n",
      "  ROM Size:        8192\n",
      "  Bankswitch Type: AUTO-DETECT ==> F8\n",
      "\n",
      "\n",
      "WARNING: Possibly unsupported ROM: mismatched MD5.\n",
      "Cartridge_MD5: 87e79cd41ce136fd4f72cc6e2c161bee\n",
      "Cartridge_name: Ms. Pac-Man (1982) (Atari)\n",
      "\n",
      "Running ROM file...\n",
      "Random seed is 0\n",
      "Game console created:\n",
      "  ROM file:  /home/disc/p.templier/.julia/artifacts/9b7774e2f34581dc08d0979a8172c6d157be1f2d/ms_pacman.bin\n",
      "  Cart Name: Ms. Pac-Man (1982) (Atari)\n",
      "  Cart MD5:  87e79cd41ce136fd4f72cc6e2c161bee\n",
      "  Display Format:  AUTO-DETECT ==> NTSC\n",
      "  ROM Size:        8192\n",
      "  Bankswitch Type: AUTO-DETECT ==> F8\n",
      "\n",
      "\n",
      "WARNING: Possibly unsupported ROM: mismatched MD5.\n",
      "Cartridge_MD5: 87e79cd41ce136fd4f72cc6e2c161bee\n",
      "Cartridge_name: Ms. Pac-Man (1982) (Atari)\n",
      "\n",
      "Running ROM file...\n",
      "Random seed is 0\n",
      "Game console created:\n",
      "  ROM file:  /home/disc/p.templier/.julia/artifacts/9b7774e2f34581dc08d0979a8172c6d157be1f2d/ms_pacman.bin\n",
      "  Cart Name: Ms. Pac-Man (1982) (Atari)\n",
      "  Cart MD5:  87e79cd41ce136fd4f72cc6e2c161bee\n",
      "  Display Format:  AUTO-DETECT ==> NTSC\n",
      "  ROM Size:        8192\n",
      "  Bankswitch Type: AUTO-DETECT ==> F8\n",
      "\n",
      "\n",
      "WARNING: Possibly unsupported ROM: mismatched MD5.\n",
      "Cartridge_MD5: 87e79cd41ce136fd4f72cc6e2c161bee\n",
      "Cartridge_name: Ms. Pac-Man (1982) (Atari)\n",
      "\n",
      "Running ROM file...\n",
      "Random seed is 0\n",
      "Game console created:\n",
      "  ROM file:  /home/disc/p.templier/.julia/artifacts/9b7774e2f34581dc08d0979a8172c6d157be1f2d/ms_pacman.bin\n",
      "  Cart Name: Ms. Pac-Man (1982) (Atari)\n",
      "  Cart MD5:  87e79cd41ce136fd4f72cc6e2c161bee\n",
      "  Display Format:  AUTO-DETECT ==> NTSC\n",
      "  ROM Size:        8192\n",
      "  Bankswitch Type: AUTO-DETECT ==> F8\n",
      "\n",
      "\n",
      "WARNING: Possibly unsupported ROM: mismatched MD5.\n",
      "Cartridge_MD5: 87e79cd41ce136fd4f72cc6e2c161bee\n",
      "Cartridge_name: Ms. Pac-Man (1982) (Atari)\n",
      "\n",
      "Running ROM file...\n",
      "Random seed is 0\n",
      "Game console created:\n",
      "  ROM file:  /home/disc/p.templier/.julia/artifacts/9b7774e2f34581dc08d0979a8172c6d157be1f2d/ms_pacman.bin\n",
      "  Cart Name: Ms. Pac-Man (1982) (Atari)\n",
      "  Cart MD5:  87e79cd41ce136fd4f72cc6e2c161bee\n",
      "  Display Format:  AUTO-DETECT ==> NTSC\n",
      "  ROM Size:        8192\n",
      "  Bankswitch Type: AUTO-DETECT ==> F8\n",
      "\n",
      "\n",
      "WARNING: Possibly unsupported ROM: mismatched MD5.\n",
      "Cartridge_MD5: 87e79cd41ce136fd4f72cc6e2c161bee\n",
      "Cartridge_name: Ms. Pac-Man (1982) (Atari)\n",
      "\n",
      "Running ROM file...\n",
      "Random seed is 0\n"
     ]
    }
   ],
   "source": [
    "for i in 2:5\n",
    "    x, R, P = step(x, objective)\n",
    "    append!(es_fits, R)\n",
    "    if maximum(R) > best_fit\n",
    "        best_fit = maximum(R)\n",
    "        best_ind .= P[argmax(R), :]\n",
    "    end\n",
    "    println(best_fit, length(es_fits))\n",
    "end"
   ]
  },
  {
   "cell_type": "markdown",
   "metadata": {
    "slideshow": {
     "slide_type": "slide"
    }
   },
   "source": [
    "Once that's done, let's see how our best individual does"
   ]
  },
  {
   "cell_type": "code",
   "execution_count": 41,
   "metadata": {
    "slideshow": {
     "slide_type": "fragment"
    }
   },
   "outputs": [
    {
     "name": "stderr",
     "output_type": "stream",
     "text": [
      "Game console created:\n",
      "  ROM file:  /home/disc/p.templier/.julia/artifacts/9b7774e2f34581dc08d0979a8172c6d157be1f2d/ms_pacman.bin\n",
      "  Cart Name: Ms. Pac-Man (1982) (Atari)\n",
      "  Cart MD5:  87e79cd41ce136fd4f72cc6e2c161bee\n",
      "  Display Format:  AUTO-DETECT ==> NTSC\n",
      "  ROM Size:        8192\n",
      "  Bankswitch Type: AUTO-DETECT ==> F8\n",
      "\n",
      "\n",
      "WARNING: Possibly unsupported ROM: mismatched MD5.\n",
      "Cartridge_MD5: 87e79cd41ce136fd4f72cc6e2c161bee\n",
      "Cartridge_name: Ms. Pac-Man (1982) (Atari)\n",
      "\n",
      "Running ROM file...\n",
      "Random seed is 0\n"
     ]
    },
    {
     "data": {
      "text/plain": [
       "(770, Frames{MIME{Symbol(\"image/png\")}}(\"/tmp/jl_ZJF3Sg\", 0x0000000000000108, 6.0, nothing))"
      ]
     },
     "execution_count": 41,
     "metadata": {},
     "output_type": "execute_result"
    }
   ],
   "source": [
    "model = set_weights(best_ind)\n",
    "total_reward, frames = play_atari(model, render=true)"
   ]
  },
  {
   "cell_type": "code",
   "execution_count": 42,
   "metadata": {
    "slideshow": {
     "slide_type": "slide"
    }
   },
   "outputs": [
    {
     "data": {
      "text/html": [
       "<img src=\"files/reel-18411664773618121650.gif?13232196053254672089\" />"
      ],
      "text/plain": [
       "Frames{MIME{Symbol(\"image/png\")}}(\"/tmp/jl_ZJF3Sg\", 0x0000000000000108, 6.0, nothing)"
      ]
     },
     "execution_count": 42,
     "metadata": {},
     "output_type": "execute_result"
    }
   ],
   "source": [
    "frames"
   ]
  },
  {
   "cell_type": "markdown",
   "metadata": {
    "slideshow": {
     "slide_type": "slide"
    }
   },
   "source": [
    "# <a id=\"comparison\"></a> Comparison"
   ]
  },
  {
   "cell_type": "markdown",
   "metadata": {
    "slideshow": {
     "slide_type": "fragment"
    }
   },
   "source": [
    "Now that we have run two different evolutionary methods, we can compare them. Let's look at all 100 evaluations for both method."
   ]
  },
  {
   "cell_type": "code",
   "execution_count": 43,
   "metadata": {
    "slideshow": {
     "slide_type": "slide"
    }
   },
   "outputs": [],
   "source": [
    "using Plots"
   ]
  },
  {
   "cell_type": "code",
   "execution_count": 44,
   "metadata": {
    "slideshow": {
     "slide_type": "fragment"
    }
   },
   "outputs": [
    {
     "data": {
      "image/svg+xml": [
       "<?xml version=\"1.0\" encoding=\"utf-8\"?>\n",
       "<svg xmlns=\"http://www.w3.org/2000/svg\" xmlns:xlink=\"http://www.w3.org/1999/xlink\" width=\"600\" height=\"400\" viewBox=\"0 0 2400 1600\">\n",
       "<defs>\n",
       "  <clipPath id=\"clip420\">\n",
       "    <rect x=\"0\" y=\"0\" width=\"2400\" height=\"1600\"/>\n",
       "  </clipPath>\n",
       "</defs>\n",
       "<path clip-path=\"url(#clip420)\" d=\"\n",
       "M0 1600 L2400 1600 L2400 0 L0 0  Z\n",
       "  \" fill=\"#ffffff\" fill-rule=\"evenodd\" fill-opacity=\"1\"/>\n",
       "<defs>\n",
       "  <clipPath id=\"clip421\">\n",
       "    <rect x=\"480\" y=\"0\" width=\"1681\" height=\"1600\"/>\n",
       "  </clipPath>\n",
       "</defs>\n",
       "<path clip-path=\"url(#clip420)\" d=\"\n",
       "M172.015 1486.45 L2352.76 1486.45 L2352.76 47.2441 L172.015 47.2441  Z\n",
       "  \" fill=\"#ffffff\" fill-rule=\"evenodd\" fill-opacity=\"1\"/>\n",
       "<defs>\n",
       "  <clipPath id=\"clip422\">\n",
       "    <rect x=\"172\" y=\"47\" width=\"2182\" height=\"1440\"/>\n",
       "  </clipPath>\n",
       "</defs>\n",
       "<polyline clip-path=\"url(#clip422)\" style=\"stroke:#000000; stroke-width:2; stroke-opacity:0.1; fill:none\" points=\"\n",
       "  212.953,1486.45 212.953,47.2441 \n",
       "  \"/>\n",
       "<polyline clip-path=\"url(#clip422)\" style=\"stroke:#000000; stroke-width:2; stroke-opacity:0.1; fill:none\" points=\"\n",
       "  732.474,1486.45 732.474,47.2441 \n",
       "  \"/>\n",
       "<polyline clip-path=\"url(#clip422)\" style=\"stroke:#000000; stroke-width:2; stroke-opacity:0.1; fill:none\" points=\"\n",
       "  1251.99,1486.45 1251.99,47.2441 \n",
       "  \"/>\n",
       "<polyline clip-path=\"url(#clip422)\" style=\"stroke:#000000; stroke-width:2; stroke-opacity:0.1; fill:none\" points=\"\n",
       "  1771.52,1486.45 1771.52,47.2441 \n",
       "  \"/>\n",
       "<polyline clip-path=\"url(#clip422)\" style=\"stroke:#000000; stroke-width:2; stroke-opacity:0.1; fill:none\" points=\"\n",
       "  2291.04,1486.45 2291.04,47.2441 \n",
       "  \"/>\n",
       "<polyline clip-path=\"url(#clip420)\" style=\"stroke:#000000; stroke-width:4; stroke-opacity:1; fill:none\" points=\"\n",
       "  172.015,1486.45 2352.76,1486.45 \n",
       "  \"/>\n",
       "<polyline clip-path=\"url(#clip420)\" style=\"stroke:#000000; stroke-width:4; stroke-opacity:1; fill:none\" points=\"\n",
       "  212.953,1486.45 212.953,1469.18 \n",
       "  \"/>\n",
       "<polyline clip-path=\"url(#clip420)\" style=\"stroke:#000000; stroke-width:4; stroke-opacity:1; fill:none\" points=\"\n",
       "  732.474,1486.45 732.474,1469.18 \n",
       "  \"/>\n",
       "<polyline clip-path=\"url(#clip420)\" style=\"stroke:#000000; stroke-width:4; stroke-opacity:1; fill:none\" points=\"\n",
       "  1251.99,1486.45 1251.99,1469.18 \n",
       "  \"/>\n",
       "<polyline clip-path=\"url(#clip420)\" style=\"stroke:#000000; stroke-width:4; stroke-opacity:1; fill:none\" points=\"\n",
       "  1771.52,1486.45 1771.52,1469.18 \n",
       "  \"/>\n",
       "<polyline clip-path=\"url(#clip420)\" style=\"stroke:#000000; stroke-width:4; stroke-opacity:1; fill:none\" points=\"\n",
       "  2291.04,1486.45 2291.04,1469.18 \n",
       "  \"/>\n",
       "<path clip-path=\"url(#clip420)\" d=\"M 0 0 M212.953 1515.64 Q209.342 1515.64 207.513 1519.2 Q205.708 1522.75 205.708 1529.87 Q205.708 1536.98 207.513 1540.55 Q209.342 1544.09 212.953 1544.09 Q216.587 1544.09 218.393 1540.55 Q220.222 1536.98 220.222 1529.87 Q220.222 1522.75 218.393 1519.2 Q216.587 1515.64 212.953 1515.64 M212.953 1511.93 Q218.763 1511.93 221.819 1516.54 Q224.897 1521.12 224.897 1529.87 Q224.897 1538.6 221.819 1543.21 Q218.763 1547.79 212.953 1547.79 Q207.143 1547.79 204.064 1543.21 Q201.009 1538.6 201.009 1529.87 Q201.009 1521.12 204.064 1516.54 Q207.143 1511.93 212.953 1511.93 Z\" fill=\"#000000\" fill-rule=\"evenodd\" fill-opacity=\"1\" /><path clip-path=\"url(#clip420)\" d=\"M 0 0 M711.745 1543.18 L728.064 1543.18 L728.064 1547.12 L706.12 1547.12 L706.12 1543.18 Q708.782 1540.43 713.365 1535.8 Q717.972 1531.15 719.152 1529.81 Q721.398 1527.28 722.277 1525.55 Q723.18 1523.79 723.18 1522.1 Q723.18 1519.34 721.236 1517.61 Q719.314 1515.87 716.213 1515.87 Q714.013 1515.87 711.56 1516.63 Q709.129 1517.4 706.351 1518.95 L706.351 1514.23 Q709.176 1513.09 711.629 1512.51 Q714.083 1511.93 716.12 1511.93 Q721.49 1511.93 724.685 1514.62 Q727.879 1517.31 727.879 1521.8 Q727.879 1523.93 727.069 1525.85 Q726.282 1527.74 724.175 1530.34 Q723.597 1531.01 720.495 1534.23 Q717.393 1537.42 711.745 1543.18 Z\" fill=\"#000000\" fill-rule=\"evenodd\" fill-opacity=\"1\" /><path clip-path=\"url(#clip420)\" d=\"M 0 0 M737.925 1512.56 L756.282 1512.56 L756.282 1516.5 L742.208 1516.5 L742.208 1524.97 Q743.226 1524.62 744.245 1524.46 Q745.263 1524.27 746.282 1524.27 Q752.069 1524.27 755.448 1527.44 Q758.828 1530.62 758.828 1536.03 Q758.828 1541.61 755.356 1544.71 Q751.884 1547.79 745.564 1547.79 Q743.388 1547.79 741.12 1547.42 Q738.874 1547.05 736.467 1546.31 L736.467 1541.61 Q738.55 1542.74 740.773 1543.3 Q742.995 1543.86 745.472 1543.86 Q749.476 1543.86 751.814 1541.75 Q754.152 1539.64 754.152 1536.03 Q754.152 1532.42 751.814 1530.31 Q749.476 1528.21 745.472 1528.21 Q743.597 1528.21 741.722 1528.62 Q739.87 1529.04 737.925 1529.92 L737.925 1512.56 Z\" fill=\"#000000\" fill-rule=\"evenodd\" fill-opacity=\"1\" /><path clip-path=\"url(#clip420)\" d=\"M 0 0 M1226.69 1512.56 L1245.05 1512.56 L1245.05 1516.5 L1230.98 1516.5 L1230.98 1524.97 Q1232 1524.62 1233.01 1524.46 Q1234.03 1524.27 1235.05 1524.27 Q1240.84 1524.27 1244.22 1527.44 Q1247.6 1530.62 1247.6 1536.03 Q1247.6 1541.61 1244.12 1544.71 Q1240.65 1547.79 1234.33 1547.79 Q1232.16 1547.79 1229.89 1547.42 Q1227.64 1547.05 1225.24 1546.31 L1225.24 1541.61 Q1227.32 1542.74 1229.54 1543.3 Q1231.76 1543.86 1234.24 1543.86 Q1238.25 1543.86 1240.58 1541.75 Q1242.92 1539.64 1242.92 1536.03 Q1242.92 1532.42 1240.58 1530.31 Q1238.25 1528.21 1234.24 1528.21 Q1232.37 1528.21 1230.49 1528.62 Q1228.64 1529.04 1226.69 1529.92 L1226.69 1512.56 Z\" fill=\"#000000\" fill-rule=\"evenodd\" fill-opacity=\"1\" /><path clip-path=\"url(#clip420)\" d=\"M 0 0 M1266.81 1515.64 Q1263.2 1515.64 1261.37 1519.2 Q1259.56 1522.75 1259.56 1529.87 Q1259.56 1536.98 1261.37 1540.55 Q1263.2 1544.09 1266.81 1544.09 Q1270.44 1544.09 1272.25 1540.55 Q1274.08 1536.98 1274.08 1529.87 Q1274.08 1522.75 1272.25 1519.2 Q1270.44 1515.64 1266.81 1515.64 M1266.81 1511.93 Q1272.62 1511.93 1275.68 1516.54 Q1278.75 1521.12 1278.75 1529.87 Q1278.75 1538.6 1275.68 1543.21 Q1272.62 1547.79 1266.81 1547.79 Q1261 1547.79 1257.92 1543.21 Q1254.87 1538.6 1254.87 1529.87 Q1254.87 1521.12 1257.92 1516.54 Q1261 1511.93 1266.81 1511.93 Z\" fill=\"#000000\" fill-rule=\"evenodd\" fill-opacity=\"1\" /><path clip-path=\"url(#clip420)\" d=\"M 0 0 M1745.37 1512.56 L1767.59 1512.56 L1767.59 1514.55 L1755.05 1547.12 L1750.16 1547.12 L1761.97 1516.5 L1745.37 1516.5 L1745.37 1512.56 Z\" fill=\"#000000\" fill-rule=\"evenodd\" fill-opacity=\"1\" /><path clip-path=\"url(#clip420)\" d=\"M 0 0 M1776.76 1512.56 L1795.12 1512.56 L1795.12 1516.5 L1781.04 1516.5 L1781.04 1524.97 Q1782.06 1524.62 1783.08 1524.46 Q1784.1 1524.27 1785.12 1524.27 Q1790.9 1524.27 1794.28 1527.44 Q1797.66 1530.62 1797.66 1536.03 Q1797.66 1541.61 1794.19 1544.71 Q1790.72 1547.79 1784.4 1547.79 Q1782.22 1547.79 1779.95 1547.42 Q1777.71 1547.05 1775.3 1546.31 L1775.3 1541.61 Q1777.38 1542.74 1779.61 1543.3 Q1781.83 1543.86 1784.31 1543.86 Q1788.31 1543.86 1790.65 1541.75 Q1792.99 1539.64 1792.99 1536.03 Q1792.99 1532.42 1790.65 1530.31 Q1788.31 1528.21 1784.31 1528.21 Q1782.43 1528.21 1780.56 1528.62 Q1778.7 1529.04 1776.76 1529.92 L1776.76 1512.56 Z\" fill=\"#000000\" fill-rule=\"evenodd\" fill-opacity=\"1\" /><path clip-path=\"url(#clip420)\" d=\"M 0 0 M2250.64 1543.18 L2258.28 1543.18 L2258.28 1516.82 L2249.97 1518.49 L2249.97 1514.23 L2258.24 1512.56 L2262.91 1512.56 L2262.91 1543.18 L2270.55 1543.18 L2270.55 1547.12 L2250.64 1547.12 L2250.64 1543.18 Z\" fill=\"#000000\" fill-rule=\"evenodd\" fill-opacity=\"1\" /><path clip-path=\"url(#clip420)\" d=\"M 0 0 M2290 1515.64 Q2286.38 1515.64 2284.56 1519.2 Q2282.75 1522.75 2282.75 1529.87 Q2282.75 1536.98 2284.56 1540.55 Q2286.38 1544.09 2290 1544.09 Q2293.63 1544.09 2295.43 1540.55 Q2297.26 1536.98 2297.26 1529.87 Q2297.26 1522.75 2295.43 1519.2 Q2293.63 1515.64 2290 1515.64 M2290 1511.93 Q2295.81 1511.93 2298.86 1516.54 Q2301.94 1521.12 2301.94 1529.87 Q2301.94 1538.6 2298.86 1543.21 Q2295.81 1547.79 2290 1547.79 Q2284.19 1547.79 2281.11 1543.21 Q2278.05 1538.6 2278.05 1529.87 Q2278.05 1521.12 2281.11 1516.54 Q2284.19 1511.93 2290 1511.93 Z\" fill=\"#000000\" fill-rule=\"evenodd\" fill-opacity=\"1\" /><path clip-path=\"url(#clip420)\" d=\"M 0 0 M2320.16 1515.64 Q2316.55 1515.64 2314.72 1519.2 Q2312.91 1522.75 2312.91 1529.87 Q2312.91 1536.98 2314.72 1540.55 Q2316.55 1544.09 2320.16 1544.09 Q2323.79 1544.09 2325.6 1540.55 Q2327.43 1536.98 2327.43 1529.87 Q2327.43 1522.75 2325.6 1519.2 Q2323.79 1515.64 2320.16 1515.64 M2320.16 1511.93 Q2325.97 1511.93 2329.02 1516.54 Q2332.1 1521.12 2332.1 1529.87 Q2332.1 1538.6 2329.02 1543.21 Q2325.97 1547.79 2320.16 1547.79 Q2314.35 1547.79 2311.27 1543.21 Q2308.21 1538.6 2308.21 1529.87 Q2308.21 1521.12 2311.27 1516.54 Q2314.35 1511.93 2320.16 1511.93 Z\" fill=\"#000000\" fill-rule=\"evenodd\" fill-opacity=\"1\" /><polyline clip-path=\"url(#clip422)\" style=\"stroke:#000000; stroke-width:2; stroke-opacity:0.1; fill:none\" points=\"\n",
       "  172.015,1369.22 2352.76,1369.22 \n",
       "  \"/>\n",
       "<polyline clip-path=\"url(#clip422)\" style=\"stroke:#000000; stroke-width:2; stroke-opacity:0.1; fill:none\" points=\"\n",
       "  172.015,1177.99 2352.76,1177.99 \n",
       "  \"/>\n",
       "<polyline clip-path=\"url(#clip422)\" style=\"stroke:#000000; stroke-width:2; stroke-opacity:0.1; fill:none\" points=\"\n",
       "  172.015,986.762 2352.76,986.762 \n",
       "  \"/>\n",
       "<polyline clip-path=\"url(#clip422)\" style=\"stroke:#000000; stroke-width:2; stroke-opacity:0.1; fill:none\" points=\"\n",
       "  172.015,795.531 2352.76,795.531 \n",
       "  \"/>\n",
       "<polyline clip-path=\"url(#clip422)\" style=\"stroke:#000000; stroke-width:2; stroke-opacity:0.1; fill:none\" points=\"\n",
       "  172.015,604.3 2352.76,604.3 \n",
       "  \"/>\n",
       "<polyline clip-path=\"url(#clip422)\" style=\"stroke:#000000; stroke-width:2; stroke-opacity:0.1; fill:none\" points=\"\n",
       "  172.015,413.069 2352.76,413.069 \n",
       "  \"/>\n",
       "<polyline clip-path=\"url(#clip422)\" style=\"stroke:#000000; stroke-width:2; stroke-opacity:0.1; fill:none\" points=\"\n",
       "  172.015,221.838 2352.76,221.838 \n",
       "  \"/>\n",
       "<polyline clip-path=\"url(#clip420)\" style=\"stroke:#000000; stroke-width:4; stroke-opacity:1; fill:none\" points=\"\n",
       "  172.015,1486.45 172.015,47.2441 \n",
       "  \"/>\n",
       "<polyline clip-path=\"url(#clip420)\" style=\"stroke:#000000; stroke-width:4; stroke-opacity:1; fill:none\" points=\"\n",
       "  172.015,1369.22 198.184,1369.22 \n",
       "  \"/>\n",
       "<polyline clip-path=\"url(#clip420)\" style=\"stroke:#000000; stroke-width:4; stroke-opacity:1; fill:none\" points=\"\n",
       "  172.015,1177.99 198.184,1177.99 \n",
       "  \"/>\n",
       "<polyline clip-path=\"url(#clip420)\" style=\"stroke:#000000; stroke-width:4; stroke-opacity:1; fill:none\" points=\"\n",
       "  172.015,986.762 198.184,986.762 \n",
       "  \"/>\n",
       "<polyline clip-path=\"url(#clip420)\" style=\"stroke:#000000; stroke-width:4; stroke-opacity:1; fill:none\" points=\"\n",
       "  172.015,795.531 198.184,795.531 \n",
       "  \"/>\n",
       "<polyline clip-path=\"url(#clip420)\" style=\"stroke:#000000; stroke-width:4; stroke-opacity:1; fill:none\" points=\"\n",
       "  172.015,604.3 198.184,604.3 \n",
       "  \"/>\n",
       "<polyline clip-path=\"url(#clip420)\" style=\"stroke:#000000; stroke-width:4; stroke-opacity:1; fill:none\" points=\"\n",
       "  172.015,413.069 198.184,413.069 \n",
       "  \"/>\n",
       "<polyline clip-path=\"url(#clip420)\" style=\"stroke:#000000; stroke-width:4; stroke-opacity:1; fill:none\" points=\"\n",
       "  172.015,221.838 198.184,221.838 \n",
       "  \"/>\n",
       "<path clip-path=\"url(#clip420)\" d=\"M 0 0 M54.5569 1382.57 L62.1958 1382.57 L62.1958 1356.2 L53.8856 1357.87 L53.8856 1353.61 L62.1495 1351.94 L66.8254 1351.94 L66.8254 1382.57 L74.4642 1382.57 L74.4642 1386.5 L54.5569 1386.5 L54.5569 1382.57 Z\" fill=\"#000000\" fill-rule=\"evenodd\" fill-opacity=\"1\" /><path clip-path=\"url(#clip420)\" d=\"M 0 0 M93.9086 1355.02 Q90.2975 1355.02 88.4688 1358.59 Q86.6632 1362.13 86.6632 1369.26 Q86.6632 1376.36 88.4688 1379.93 Q90.2975 1383.47 93.9086 1383.47 Q97.5428 1383.47 99.3483 1379.93 Q101.177 1376.36 101.177 1369.26 Q101.177 1362.13 99.3483 1358.59 Q97.5428 1355.02 93.9086 1355.02 M93.9086 1351.32 Q99.7187 1351.32 102.774 1355.92 Q105.853 1360.51 105.853 1369.26 Q105.853 1377.98 102.774 1382.59 Q99.7187 1387.17 93.9086 1387.17 Q88.0984 1387.17 85.0197 1382.59 Q81.9642 1377.98 81.9642 1369.26 Q81.9642 1360.51 85.0197 1355.92 Q88.0984 1351.32 93.9086 1351.32 Z\" fill=\"#000000\" fill-rule=\"evenodd\" fill-opacity=\"1\" /><path clip-path=\"url(#clip420)\" d=\"M 0 0 M124.07 1355.02 Q120.459 1355.02 118.631 1358.59 Q116.825 1362.13 116.825 1369.26 Q116.825 1376.36 118.631 1379.93 Q120.459 1383.47 124.07 1383.47 Q127.705 1383.47 129.51 1379.93 Q131.339 1376.36 131.339 1369.26 Q131.339 1362.13 129.51 1358.59 Q127.705 1355.02 124.07 1355.02 M124.07 1351.32 Q129.881 1351.32 132.936 1355.92 Q136.015 1360.51 136.015 1369.26 Q136.015 1377.98 132.936 1382.59 Q129.881 1387.17 124.07 1387.17 Q118.26 1387.17 115.182 1382.59 Q112.126 1377.98 112.126 1369.26 Q112.126 1360.51 115.182 1355.92 Q118.26 1351.32 124.07 1351.32 Z\" fill=\"#000000\" fill-rule=\"evenodd\" fill-opacity=\"1\" /><path clip-path=\"url(#clip420)\" d=\"M 0 0 M57.7745 1191.34 L74.0939 1191.34 L74.0939 1195.27 L52.1495 1195.27 L52.1495 1191.34 Q54.8115 1188.58 59.3949 1183.95 Q64.0013 1179.3 65.1819 1177.96 Q67.4272 1175.43 68.3068 1173.7 Q69.2096 1171.94 69.2096 1170.25 Q69.2096 1167.49 67.2652 1165.76 Q65.3439 1164.02 62.2421 1164.02 Q60.043 1164.02 57.5893 1164.79 Q55.1588 1165.55 52.381 1167.1 L52.381 1162.38 Q55.2051 1161.24 57.6588 1160.67 Q60.1124 1160.09 62.1495 1160.09 Q67.5198 1160.09 70.7142 1162.77 Q73.9087 1165.46 73.9087 1169.95 Q73.9087 1172.08 73.0985 1174 Q72.3115 1175.9 70.205 1178.49 Q69.6263 1179.16 66.5245 1182.38 Q63.4226 1185.57 57.7745 1191.34 Z\" fill=\"#000000\" fill-rule=\"evenodd\" fill-opacity=\"1\" /><path clip-path=\"url(#clip420)\" d=\"M 0 0 M93.9086 1163.79 Q90.2975 1163.79 88.4688 1167.36 Q86.6632 1170.9 86.6632 1178.03 Q86.6632 1185.13 88.4688 1188.7 Q90.2975 1192.24 93.9086 1192.24 Q97.5428 1192.24 99.3483 1188.7 Q101.177 1185.13 101.177 1178.03 Q101.177 1170.9 99.3483 1167.36 Q97.5428 1163.79 93.9086 1163.79 M93.9086 1160.09 Q99.7187 1160.09 102.774 1164.69 Q105.853 1169.28 105.853 1178.03 Q105.853 1186.75 102.774 1191.36 Q99.7187 1195.94 93.9086 1195.94 Q88.0984 1195.94 85.0197 1191.36 Q81.9642 1186.75 81.9642 1178.03 Q81.9642 1169.28 85.0197 1164.69 Q88.0984 1160.09 93.9086 1160.09 Z\" fill=\"#000000\" fill-rule=\"evenodd\" fill-opacity=\"1\" /><path clip-path=\"url(#clip420)\" d=\"M 0 0 M124.07 1163.79 Q120.459 1163.79 118.631 1167.36 Q116.825 1170.9 116.825 1178.03 Q116.825 1185.13 118.631 1188.7 Q120.459 1192.24 124.07 1192.24 Q127.705 1192.24 129.51 1188.7 Q131.339 1185.13 131.339 1178.03 Q131.339 1170.9 129.51 1167.36 Q127.705 1163.79 124.07 1163.79 M124.07 1160.09 Q129.881 1160.09 132.936 1164.69 Q136.015 1169.28 136.015 1178.03 Q136.015 1186.75 132.936 1191.36 Q129.881 1195.94 124.07 1195.94 Q118.26 1195.94 115.182 1191.36 Q112.126 1186.75 112.126 1178.03 Q112.126 1169.28 115.182 1164.69 Q118.26 1160.09 124.07 1160.09 Z\" fill=\"#000000\" fill-rule=\"evenodd\" fill-opacity=\"1\" /><path clip-path=\"url(#clip420)\" d=\"M 0 0 M67.9133 985.407 Q71.2698 986.125 73.1448 988.393 Q75.0429 990.662 75.0429 993.995 Q75.0429 999.111 71.5244 1001.91 Q68.0059 1004.71 61.5245 1004.71 Q59.3486 1004.71 57.0338 1004.27 Q54.7421 1003.86 52.2884 1003 L52.2884 998.486 Q54.2328 999.62 56.5477 1000.2 Q58.8625 1000.78 61.3856 1000.78 Q65.7837 1000.78 68.0754 999.042 Q70.3902 997.305 70.3902 993.995 Q70.3902 990.94 68.2374 989.227 Q66.1078 987.491 62.2884 987.491 L58.2606 987.491 L58.2606 983.648 L62.4735 983.648 Q65.9226 983.648 67.7513 982.282 Q69.58 980.893 69.58 978.301 Q69.58 975.639 67.6819 974.227 Q65.8069 972.792 62.2884 972.792 Q60.3671 972.792 58.168 973.208 Q55.969 973.625 53.3301 974.505 L53.3301 970.338 Q55.9921 969.597 58.3069 969.227 Q60.6449 968.857 62.705 968.857 Q68.0291 968.857 71.1309 971.287 Q74.2327 973.694 74.2327 977.815 Q74.2327 980.685 72.5892 982.676 Q70.9457 984.643 67.9133 985.407 Z\" fill=\"#000000\" fill-rule=\"evenodd\" fill-opacity=\"1\" /><path clip-path=\"url(#clip420)\" d=\"M 0 0 M93.9086 972.56 Q90.2975 972.56 88.4688 976.125 Q86.6632 979.667 86.6632 986.796 Q86.6632 993.903 88.4688 997.467 Q90.2975 1001.01 93.9086 1001.01 Q97.5428 1001.01 99.3483 997.467 Q101.177 993.903 101.177 986.796 Q101.177 979.667 99.3483 976.125 Q97.5428 972.56 93.9086 972.56 M93.9086 968.857 Q99.7187 968.857 102.774 973.463 Q105.853 978.046 105.853 986.796 Q105.853 995.523 102.774 1000.13 Q99.7187 1004.71 93.9086 1004.71 Q88.0984 1004.71 85.0197 1000.13 Q81.9642 995.523 81.9642 986.796 Q81.9642 978.046 85.0197 973.463 Q88.0984 968.857 93.9086 968.857 Z\" fill=\"#000000\" fill-rule=\"evenodd\" fill-opacity=\"1\" /><path clip-path=\"url(#clip420)\" d=\"M 0 0 M124.07 972.56 Q120.459 972.56 118.631 976.125 Q116.825 979.667 116.825 986.796 Q116.825 993.903 118.631 997.467 Q120.459 1001.01 124.07 1001.01 Q127.705 1001.01 129.51 997.467 Q131.339 993.903 131.339 986.796 Q131.339 979.667 129.51 976.125 Q127.705 972.56 124.07 972.56 M124.07 968.857 Q129.881 968.857 132.936 973.463 Q136.015 978.046 136.015 986.796 Q136.015 995.523 132.936 1000.13 Q129.881 1004.71 124.07 1004.71 Q118.26 1004.71 115.182 1000.13 Q112.126 995.523 112.126 986.796 Q112.126 978.046 115.182 973.463 Q118.26 968.857 124.07 968.857 Z\" fill=\"#000000\" fill-rule=\"evenodd\" fill-opacity=\"1\" /><path clip-path=\"url(#clip420)\" d=\"M 0 0 M66.5939 782.325 L54.7884 800.774 L66.5939 800.774 L66.5939 782.325 M65.367 778.251 L71.2466 778.251 L71.2466 800.774 L76.1772 800.774 L76.1772 804.663 L71.2466 804.663 L71.2466 812.811 L66.5939 812.811 L66.5939 804.663 L50.9921 804.663 L50.9921 800.149 L65.367 778.251 Z\" fill=\"#000000\" fill-rule=\"evenodd\" fill-opacity=\"1\" /><path clip-path=\"url(#clip420)\" d=\"M 0 0 M93.9086 781.329 Q90.2975 781.329 88.4688 784.894 Q86.6632 788.436 86.6632 795.565 Q86.6632 802.672 88.4688 806.237 Q90.2975 809.778 93.9086 809.778 Q97.5428 809.778 99.3483 806.237 Q101.177 802.672 101.177 795.565 Q101.177 788.436 99.3483 784.894 Q97.5428 781.329 93.9086 781.329 M93.9086 777.626 Q99.7187 777.626 102.774 782.232 Q105.853 786.815 105.853 795.565 Q105.853 804.292 102.774 808.899 Q99.7187 813.482 93.9086 813.482 Q88.0984 813.482 85.0197 808.899 Q81.9642 804.292 81.9642 795.565 Q81.9642 786.815 85.0197 782.232 Q88.0984 777.626 93.9086 777.626 Z\" fill=\"#000000\" fill-rule=\"evenodd\" fill-opacity=\"1\" /><path clip-path=\"url(#clip420)\" d=\"M 0 0 M124.07 781.329 Q120.459 781.329 118.631 784.894 Q116.825 788.436 116.825 795.565 Q116.825 802.672 118.631 806.237 Q120.459 809.778 124.07 809.778 Q127.705 809.778 129.51 806.237 Q131.339 802.672 131.339 795.565 Q131.339 788.436 129.51 784.894 Q127.705 781.329 124.07 781.329 M124.07 777.626 Q129.881 777.626 132.936 782.232 Q136.015 786.815 136.015 795.565 Q136.015 804.292 132.936 808.899 Q129.881 813.482 124.07 813.482 Q118.26 813.482 115.182 808.899 Q112.126 804.292 112.126 795.565 Q112.126 786.815 115.182 782.232 Q118.26 777.626 124.07 777.626 Z\" fill=\"#000000\" fill-rule=\"evenodd\" fill-opacity=\"1\" /><path clip-path=\"url(#clip420)\" d=\"M 0 0 M53.793 587.02 L72.1494 587.02 L72.1494 590.955 L58.0754 590.955 L58.0754 599.427 Q59.0939 599.08 60.1124 598.918 Q61.131 598.733 62.1495 598.733 Q67.9365 598.733 71.3161 601.904 Q74.6957 605.075 74.6957 610.492 Q74.6957 616.07 71.2235 619.172 Q67.7513 622.251 61.4319 622.251 Q59.256 622.251 56.9875 621.881 Q54.7421 621.51 52.3347 620.77 L52.3347 616.07 Q54.418 617.205 56.6402 617.76 Q58.8625 618.316 61.3393 618.316 Q65.3439 618.316 67.6819 616.209 Q70.0198 614.103 70.0198 610.492 Q70.0198 606.881 67.6819 604.774 Q65.3439 602.668 61.3393 602.668 Q59.4643 602.668 57.5893 603.084 Q55.7375 603.501 53.793 604.381 L53.793 587.02 Z\" fill=\"#000000\" fill-rule=\"evenodd\" fill-opacity=\"1\" /><path clip-path=\"url(#clip420)\" d=\"M 0 0 M93.9086 590.098 Q90.2975 590.098 88.4688 593.663 Q86.6632 597.205 86.6632 604.334 Q86.6632 611.441 88.4688 615.006 Q90.2975 618.547 93.9086 618.547 Q97.5428 618.547 99.3483 615.006 Q101.177 611.441 101.177 604.334 Q101.177 597.205 99.3483 593.663 Q97.5428 590.098 93.9086 590.098 M93.9086 586.395 Q99.7187 586.395 102.774 591.001 Q105.853 595.584 105.853 604.334 Q105.853 613.061 102.774 617.668 Q99.7187 622.251 93.9086 622.251 Q88.0984 622.251 85.0197 617.668 Q81.9642 613.061 81.9642 604.334 Q81.9642 595.584 85.0197 591.001 Q88.0984 586.395 93.9086 586.395 Z\" fill=\"#000000\" fill-rule=\"evenodd\" fill-opacity=\"1\" /><path clip-path=\"url(#clip420)\" d=\"M 0 0 M124.07 590.098 Q120.459 590.098 118.631 593.663 Q116.825 597.205 116.825 604.334 Q116.825 611.441 118.631 615.006 Q120.459 618.547 124.07 618.547 Q127.705 618.547 129.51 615.006 Q131.339 611.441 131.339 604.334 Q131.339 597.205 129.51 593.663 Q127.705 590.098 124.07 590.098 M124.07 586.395 Q129.881 586.395 132.936 591.001 Q136.015 595.584 136.015 604.334 Q136.015 613.061 132.936 617.668 Q129.881 622.251 124.07 622.251 Q118.26 622.251 115.182 617.668 Q112.126 613.061 112.126 604.334 Q112.126 595.584 115.182 591.001 Q118.26 586.395 124.07 586.395 Z\" fill=\"#000000\" fill-rule=\"evenodd\" fill-opacity=\"1\" /><path clip-path=\"url(#clip420)\" d=\"M 0 0 M64.3254 411.205 Q61.1773 411.205 59.3254 413.358 Q57.4967 415.511 57.4967 419.261 Q57.4967 422.988 59.3254 425.164 Q61.1773 427.316 64.3254 427.316 Q67.4735 427.316 69.3022 425.164 Q71.1541 422.988 71.1541 419.261 Q71.1541 415.511 69.3022 413.358 Q67.4735 411.205 64.3254 411.205 M73.6077 396.553 L73.6077 400.812 Q71.8485 399.979 70.0429 399.539 Q68.2606 399.099 66.5013 399.099 Q61.8717 399.099 59.418 402.224 Q56.9875 405.349 56.6402 411.668 Q58.006 409.654 60.0662 408.59 Q62.1263 407.502 64.6032 407.502 Q69.8115 407.502 72.8207 410.673 Q75.8531 413.821 75.8531 419.261 Q75.8531 424.585 72.705 427.803 Q69.5568 431.02 64.3254 431.02 Q58.33 431.02 55.1588 426.437 Q51.9875 421.83 51.9875 413.104 Q51.9875 404.909 55.8764 400.048 Q59.7652 395.164 66.3161 395.164 Q68.0754 395.164 69.8578 395.511 Q71.6633 395.858 73.6077 396.553 Z\" fill=\"#000000\" fill-rule=\"evenodd\" fill-opacity=\"1\" /><path clip-path=\"url(#clip420)\" d=\"M 0 0 M93.9086 398.868 Q90.2975 398.868 88.4688 402.432 Q86.6632 405.974 86.6632 413.104 Q86.6632 420.21 88.4688 423.775 Q90.2975 427.316 93.9086 427.316 Q97.5428 427.316 99.3483 423.775 Q101.177 420.21 101.177 413.104 Q101.177 405.974 99.3483 402.432 Q97.5428 398.868 93.9086 398.868 M93.9086 395.164 Q99.7187 395.164 102.774 399.77 Q105.853 404.354 105.853 413.104 Q105.853 421.83 102.774 426.437 Q99.7187 431.02 93.9086 431.02 Q88.0984 431.02 85.0197 426.437 Q81.9642 421.83 81.9642 413.104 Q81.9642 404.354 85.0197 399.77 Q88.0984 395.164 93.9086 395.164 Z\" fill=\"#000000\" fill-rule=\"evenodd\" fill-opacity=\"1\" /><path clip-path=\"url(#clip420)\" d=\"M 0 0 M124.07 398.868 Q120.459 398.868 118.631 402.432 Q116.825 405.974 116.825 413.104 Q116.825 420.21 118.631 423.775 Q120.459 427.316 124.07 427.316 Q127.705 427.316 129.51 423.775 Q131.339 420.21 131.339 413.104 Q131.339 405.974 129.51 402.432 Q127.705 398.868 124.07 398.868 M124.07 395.164 Q129.881 395.164 132.936 399.77 Q136.015 404.354 136.015 413.104 Q136.015 421.83 132.936 426.437 Q129.881 431.02 124.07 431.02 Q118.26 431.02 115.182 426.437 Q112.126 421.83 112.126 413.104 Q112.126 404.354 115.182 399.77 Q118.26 395.164 124.07 395.164 Z\" fill=\"#000000\" fill-rule=\"evenodd\" fill-opacity=\"1\" /><path clip-path=\"url(#clip420)\" d=\"M 0 0 M52.5662 204.558 L74.7883 204.558 L74.7883 206.549 L62.2421 239.118 L57.3578 239.118 L69.1633 208.493 L52.5662 208.493 L52.5662 204.558 Z\" fill=\"#000000\" fill-rule=\"evenodd\" fill-opacity=\"1\" /><path clip-path=\"url(#clip420)\" d=\"M 0 0 M93.9086 207.637 Q90.2975 207.637 88.4688 211.201 Q86.6632 214.743 86.6632 221.873 Q86.6632 228.979 88.4688 232.544 Q90.2975 236.086 93.9086 236.086 Q97.5428 236.086 99.3483 232.544 Q101.177 228.979 101.177 221.873 Q101.177 214.743 99.3483 211.201 Q97.5428 207.637 93.9086 207.637 M93.9086 203.933 Q99.7187 203.933 102.774 208.539 Q105.853 213.123 105.853 221.873 Q105.853 230.599 102.774 235.206 Q99.7187 239.789 93.9086 239.789 Q88.0984 239.789 85.0197 235.206 Q81.9642 230.599 81.9642 221.873 Q81.9642 213.123 85.0197 208.539 Q88.0984 203.933 93.9086 203.933 Z\" fill=\"#000000\" fill-rule=\"evenodd\" fill-opacity=\"1\" /><path clip-path=\"url(#clip420)\" d=\"M 0 0 M124.07 207.637 Q120.459 207.637 118.631 211.201 Q116.825 214.743 116.825 221.873 Q116.825 228.979 118.631 232.544 Q120.459 236.086 124.07 236.086 Q127.705 236.086 129.51 232.544 Q131.339 228.979 131.339 221.873 Q131.339 214.743 129.51 211.201 Q127.705 207.637 124.07 207.637 M124.07 203.933 Q129.881 203.933 132.936 208.539 Q136.015 213.123 136.015 221.873 Q136.015 230.599 132.936 235.206 Q129.881 239.789 124.07 239.789 Q118.26 239.789 115.182 235.206 Q112.126 230.599 112.126 221.873 Q112.126 213.123 115.182 208.539 Q118.26 203.933 124.07 203.933 Z\" fill=\"#000000\" fill-rule=\"evenodd\" fill-opacity=\"1\" /><polyline clip-path=\"url(#clip422)\" style=\"stroke:#e26f46; stroke-width:4; stroke-opacity:1; fill:none\" points=\"\n",
       "  233.734,1445.72 254.515,1158.87 275.296,1158.87 296.076,1158.87 316.857,1426.59 337.638,1426.59 358.419,1426.59 379.2,1445.72 399.981,1158.87 420.761,1445.72 \n",
       "  441.542,1158.87 462.323,1158.87 483.104,1426.59 503.885,1426.59 524.666,1426.59 545.446,1426.59 566.227,1426.59 587.008,1426.59 607.789,1158.87 628.57,1158.87 \n",
       "  649.351,1158.87 670.131,1426.59 690.912,1158.87 711.693,1426.59 732.474,1426.59 753.255,1426.59 774.036,1445.72 794.817,1158.87 815.597,1426.59 836.378,1426.59 \n",
       "  857.159,87.9763 877.94,1445.72 898.721,1426.59 919.502,1158.87 940.282,1426.59 961.063,1445.72 981.844,1445.72 1002.62,1158.87 1023.41,1158.87 1044.19,1445.72 \n",
       "  1064.97,1445.72 1085.75,1158.87 1106.53,1445.72 1127.31,1158.87 1148.09,1426.59 1168.87,1445.72 1189.65,1158.87 1210.43,1426.59 1231.21,1158.87 1251.99,1158.87 \n",
       "  1272.78,1158.87 1293.56,1445.72 1314.34,1426.59 1335.12,1445.72 1355.9,1426.59 1376.68,1158.87 1397.46,1426.59 1418.24,1158.87 1439.02,1158.87 1459.8,1158.87 \n",
       "  1480.58,1158.87 1501.36,1445.72 1522.15,1158.87 1542.93,1426.59 1563.71,1426.59 1584.49,1158.87 1605.27,1445.72 1626.05,1445.72 1646.83,1158.87 1667.61,1426.59 \n",
       "  1688.39,1426.59 1709.17,1388.35 1729.95,1158.87 1750.74,1158.87 1771.52,1445.72 1792.3,1158.87 1813.08,1158.87 1833.86,1158.87 1854.64,1158.87 1875.42,1158.87 \n",
       "  1896.2,1158.87 1916.98,1445.72 1937.76,1158.87 1958.54,1445.72 1979.32,1158.87 2000.11,1426.59 2020.89,1445.72 2041.67,1158.87 2062.45,1158.87 2083.23,1158.87 \n",
       "  2104.01,1158.87 2124.79,1158.87 2145.57,1158.87 2166.35,1158.87 2187.13,1158.87 2207.91,1426.59 2228.69,1158.87 2249.48,1158.87 2270.26,1158.87 2291.04,1158.87 \n",
       "  \n",
       "  \"/>\n",
       "<path clip-path=\"url(#clip420)\" d=\"\n",
       "M1943.62 276.658 L2280.06 276.658 L2280.06 95.2176 L1943.62 95.2176  Z\n",
       "  \" fill=\"#ffffff\" fill-rule=\"evenodd\" fill-opacity=\"1\"/>\n",
       "<polyline clip-path=\"url(#clip420)\" style=\"stroke:#000000; stroke-width:4; stroke-opacity:1; fill:none\" points=\"\n",
       "  1943.62,276.658 2280.06,276.658 2280.06,95.2176 1943.62,95.2176 1943.62,276.658 \n",
       "  \"/>\n",
       "<polyline clip-path=\"url(#clip420)\" style=\"stroke:#009af9; stroke-width:4; stroke-opacity:1; fill:none\" points=\"\n",
       "  1967.85,155.698 2113.23,155.698 \n",
       "  \"/>\n",
       "<path clip-path=\"url(#clip420)\" d=\"M 0 0 M2165.33 141.08 L2165.33 146.01 Q2162.97 143.811 2160.28 142.723 Q2157.62 141.635 2154.61 141.635 Q2148.69 141.635 2145.54 145.269 Q2142.39 148.88 2142.39 155.732 Q2142.39 162.561 2145.54 166.195 Q2148.69 169.806 2154.61 169.806 Q2157.62 169.806 2160.28 168.718 Q2162.97 167.63 2165.33 165.431 L2165.33 170.316 Q2162.88 171.982 2160.12 172.816 Q2157.39 173.649 2154.34 173.649 Q2146.49 173.649 2141.97 168.857 Q2137.46 164.042 2137.46 155.732 Q2137.46 147.399 2141.97 142.607 Q2146.49 137.793 2154.34 137.793 Q2157.44 137.793 2160.17 138.626 Q2162.92 139.436 2165.33 141.08 Z\" fill=\"#000000\" fill-rule=\"evenodd\" fill-opacity=\"1\" /><path clip-path=\"url(#clip420)\" d=\"M 0 0 M2196.12 168.047 L2196.12 158.765 L2188.48 158.765 L2188.48 154.922 L2200.75 154.922 L2200.75 169.76 Q2198.04 171.681 2194.78 172.677 Q2191.51 173.649 2187.81 173.649 Q2179.71 173.649 2175.12 168.927 Q2170.56 164.181 2170.56 155.732 Q2170.56 147.26 2175.12 142.538 Q2179.71 137.793 2187.81 137.793 Q2191.19 137.793 2194.22 138.626 Q2197.28 139.459 2199.84 141.08 L2199.84 146.056 Q2197.25 143.857 2194.34 142.746 Q2191.42 141.635 2188.2 141.635 Q2181.86 141.635 2178.66 145.177 Q2175.49 148.718 2175.49 155.732 Q2175.49 162.723 2178.66 166.265 Q2181.86 169.806 2188.2 169.806 Q2190.68 169.806 2192.62 169.39 Q2194.57 168.95 2196.12 168.047 Z\" fill=\"#000000\" fill-rule=\"evenodd\" fill-opacity=\"1\" /><path clip-path=\"url(#clip420)\" d=\"M 0 0 M2213.96 142.26 L2213.96 155.246 L2219.84 155.246 Q2223.11 155.246 2224.89 153.556 Q2226.67 151.867 2226.67 148.742 Q2226.67 145.64 2224.89 143.95 Q2223.11 142.26 2219.84 142.26 L2213.96 142.26 M2209.29 138.418 L2219.84 138.418 Q2225.65 138.418 2228.62 141.056 Q2231.6 143.672 2231.6 148.742 Q2231.6 153.857 2228.62 156.473 Q2225.65 159.089 2219.84 159.089 L2213.96 159.089 L2213.96 172.978 L2209.29 172.978 L2209.29 138.418 Z\" fill=\"#000000\" fill-rule=\"evenodd\" fill-opacity=\"1\" /><polyline clip-path=\"url(#clip420)\" style=\"stroke:#e26f46; stroke-width:4; stroke-opacity:1; fill:none\" points=\"\n",
       "  1967.85,216.178 2113.23,216.178 \n",
       "  \"/>\n",
       "<path clip-path=\"url(#clip420)\" d=\"M 0 0 M2137.46 198.898 L2159.31 198.898 L2159.31 202.833 L2142.14 202.833 L2142.14 213.064 L2158.59 213.064 L2158.59 216.999 L2142.14 216.999 L2142.14 229.522 L2159.73 229.522 L2159.73 233.458 L2137.46 233.458 L2137.46 198.898 Z\" fill=\"#000000\" fill-rule=\"evenodd\" fill-opacity=\"1\" /><path clip-path=\"url(#clip420)\" d=\"M 0 0 M2188.13 200.032 L2188.13 204.592 Q2185.47 203.319 2183.11 202.694 Q2180.75 202.069 2178.55 202.069 Q2174.73 202.069 2172.65 203.55 Q2170.59 205.032 2170.59 207.763 Q2170.59 210.055 2171.95 211.235 Q2173.34 212.393 2177.18 213.11 L2180.01 213.689 Q2185.24 214.685 2187.71 217.208 Q2190.21 219.708 2190.21 223.921 Q2190.21 228.944 2186.84 231.536 Q2183.48 234.129 2176.97 234.129 Q2174.52 234.129 2171.74 233.573 Q2168.99 233.018 2166.03 231.93 L2166.03 227.115 Q2168.87 228.712 2171.6 229.522 Q2174.34 230.333 2176.97 230.333 Q2180.98 230.333 2183.15 228.759 Q2185.33 227.184 2185.33 224.268 Q2185.33 221.722 2183.76 220.286 Q2182.21 218.851 2178.64 218.134 L2175.79 217.578 Q2170.56 216.536 2168.22 214.314 Q2165.89 212.092 2165.89 208.134 Q2165.89 203.55 2169.1 200.911 Q2172.34 198.273 2178.02 198.273 Q2180.45 198.273 2182.97 198.712 Q2185.49 199.152 2188.13 200.032 Z\" fill=\"#000000\" fill-rule=\"evenodd\" fill-opacity=\"1\" /></svg>\n"
      ]
     },
     "execution_count": 44,
     "metadata": {},
     "output_type": "execute_result"
    }
   ],
   "source": [
    "plot(cgp_fits, label=\"CGP\")\n",
    "plot!(es_fits, label=\"ES\")"
   ]
  },
  {
   "cell_type": "markdown",
   "metadata": {
    "slideshow": {
     "slide_type": "slide"
    }
   },
   "source": [
    "Seeing each individual evaluation is useful for understanding our optimization behavior. For example, with CGP, we can note that once it finds a good performing individual, it will test many other individuals which appear to have exactly the same behavior. Furthermore, most CGP mutations greatly decrease the overall fitness, bringing it down to the random action baseline of 60 or 70."
   ]
  },
  {
   "cell_type": "markdown",
   "metadata": {
    "slideshow": {
     "slide_type": "fragment"
    }
   },
   "source": [
    "For the neuroevolutionary strategy, we see that it doesn't build well off of previously observed individuals, with many sampled individuals at the random baseline. While the center of the genes is moving along the approximated gradient, the points sampled are chosen randomly and could have very low fitness values."
   ]
  },
  {
   "cell_type": "markdown",
   "metadata": {
    "slideshow": {
     "slide_type": "fragment"
    }
   },
   "source": [
    "These sort of insights are useful for improving evolutionary methods. Finally, to better compare the two methods, we'll look at only the maximum fitness found over the entire evolution."
   ]
  },
  {
   "cell_type": "code",
   "execution_count": 45,
   "metadata": {
    "slideshow": {
     "slide_type": "slide"
    }
   },
   "outputs": [
    {
     "data": {
      "image/svg+xml": [
       "<?xml version=\"1.0\" encoding=\"utf-8\"?>\n",
       "<svg xmlns=\"http://www.w3.org/2000/svg\" xmlns:xlink=\"http://www.w3.org/1999/xlink\" width=\"600\" height=\"400\" viewBox=\"0 0 2400 1600\">\n",
       "<defs>\n",
       "  <clipPath id=\"clip460\">\n",
       "    <rect x=\"0\" y=\"0\" width=\"2400\" height=\"1600\"/>\n",
       "  </clipPath>\n",
       "</defs>\n",
       "<path clip-path=\"url(#clip460)\" d=\"\n",
       "M0 1600 L2400 1600 L2400 0 L0 0  Z\n",
       "  \" fill=\"#ffffff\" fill-rule=\"evenodd\" fill-opacity=\"1\"/>\n",
       "<defs>\n",
       "  <clipPath id=\"clip461\">\n",
       "    <rect x=\"480\" y=\"0\" width=\"1681\" height=\"1600\"/>\n",
       "  </clipPath>\n",
       "</defs>\n",
       "<path clip-path=\"url(#clip460)\" d=\"\n",
       "M172.015 1486.45 L2352.76 1486.45 L2352.76 47.2441 L172.015 47.2441  Z\n",
       "  \" fill=\"#ffffff\" fill-rule=\"evenodd\" fill-opacity=\"1\"/>\n",
       "<defs>\n",
       "  <clipPath id=\"clip462\">\n",
       "    <rect x=\"172\" y=\"47\" width=\"2182\" height=\"1440\"/>\n",
       "  </clipPath>\n",
       "</defs>\n",
       "<polyline clip-path=\"url(#clip462)\" style=\"stroke:#000000; stroke-width:2; stroke-opacity:0.1; fill:none\" points=\"\n",
       "  212.953,1486.45 212.953,47.2441 \n",
       "  \"/>\n",
       "<polyline clip-path=\"url(#clip462)\" style=\"stroke:#000000; stroke-width:2; stroke-opacity:0.1; fill:none\" points=\"\n",
       "  732.474,1486.45 732.474,47.2441 \n",
       "  \"/>\n",
       "<polyline clip-path=\"url(#clip462)\" style=\"stroke:#000000; stroke-width:2; stroke-opacity:0.1; fill:none\" points=\"\n",
       "  1251.99,1486.45 1251.99,47.2441 \n",
       "  \"/>\n",
       "<polyline clip-path=\"url(#clip462)\" style=\"stroke:#000000; stroke-width:2; stroke-opacity:0.1; fill:none\" points=\"\n",
       "  1771.52,1486.45 1771.52,47.2441 \n",
       "  \"/>\n",
       "<polyline clip-path=\"url(#clip462)\" style=\"stroke:#000000; stroke-width:2; stroke-opacity:0.1; fill:none\" points=\"\n",
       "  2291.04,1486.45 2291.04,47.2441 \n",
       "  \"/>\n",
       "<polyline clip-path=\"url(#clip460)\" style=\"stroke:#000000; stroke-width:4; stroke-opacity:1; fill:none\" points=\"\n",
       "  172.015,1486.45 2352.76,1486.45 \n",
       "  \"/>\n",
       "<polyline clip-path=\"url(#clip460)\" style=\"stroke:#000000; stroke-width:4; stroke-opacity:1; fill:none\" points=\"\n",
       "  212.953,1486.45 212.953,1469.18 \n",
       "  \"/>\n",
       "<polyline clip-path=\"url(#clip460)\" style=\"stroke:#000000; stroke-width:4; stroke-opacity:1; fill:none\" points=\"\n",
       "  732.474,1486.45 732.474,1469.18 \n",
       "  \"/>\n",
       "<polyline clip-path=\"url(#clip460)\" style=\"stroke:#000000; stroke-width:4; stroke-opacity:1; fill:none\" points=\"\n",
       "  1251.99,1486.45 1251.99,1469.18 \n",
       "  \"/>\n",
       "<polyline clip-path=\"url(#clip460)\" style=\"stroke:#000000; stroke-width:4; stroke-opacity:1; fill:none\" points=\"\n",
       "  1771.52,1486.45 1771.52,1469.18 \n",
       "  \"/>\n",
       "<polyline clip-path=\"url(#clip460)\" style=\"stroke:#000000; stroke-width:4; stroke-opacity:1; fill:none\" points=\"\n",
       "  2291.04,1486.45 2291.04,1469.18 \n",
       "  \"/>\n",
       "<path clip-path=\"url(#clip460)\" d=\"M 0 0 M212.953 1515.64 Q209.342 1515.64 207.513 1519.2 Q205.708 1522.75 205.708 1529.87 Q205.708 1536.98 207.513 1540.55 Q209.342 1544.09 212.953 1544.09 Q216.587 1544.09 218.393 1540.55 Q220.222 1536.98 220.222 1529.87 Q220.222 1522.75 218.393 1519.2 Q216.587 1515.64 212.953 1515.64 M212.953 1511.93 Q218.763 1511.93 221.819 1516.54 Q224.897 1521.12 224.897 1529.87 Q224.897 1538.6 221.819 1543.21 Q218.763 1547.79 212.953 1547.79 Q207.143 1547.79 204.064 1543.21 Q201.009 1538.6 201.009 1529.87 Q201.009 1521.12 204.064 1516.54 Q207.143 1511.93 212.953 1511.93 Z\" fill=\"#000000\" fill-rule=\"evenodd\" fill-opacity=\"1\" /><path clip-path=\"url(#clip460)\" d=\"M 0 0 M711.745 1543.18 L728.064 1543.18 L728.064 1547.12 L706.12 1547.12 L706.12 1543.18 Q708.782 1540.43 713.365 1535.8 Q717.972 1531.15 719.152 1529.81 Q721.398 1527.28 722.277 1525.55 Q723.18 1523.79 723.18 1522.1 Q723.18 1519.34 721.236 1517.61 Q719.314 1515.87 716.213 1515.87 Q714.013 1515.87 711.56 1516.63 Q709.129 1517.4 706.351 1518.95 L706.351 1514.23 Q709.176 1513.09 711.629 1512.51 Q714.083 1511.93 716.12 1511.93 Q721.49 1511.93 724.685 1514.62 Q727.879 1517.31 727.879 1521.8 Q727.879 1523.93 727.069 1525.85 Q726.282 1527.74 724.175 1530.34 Q723.597 1531.01 720.495 1534.23 Q717.393 1537.42 711.745 1543.18 Z\" fill=\"#000000\" fill-rule=\"evenodd\" fill-opacity=\"1\" /><path clip-path=\"url(#clip460)\" d=\"M 0 0 M737.925 1512.56 L756.282 1512.56 L756.282 1516.5 L742.208 1516.5 L742.208 1524.97 Q743.226 1524.62 744.245 1524.46 Q745.263 1524.27 746.282 1524.27 Q752.069 1524.27 755.448 1527.44 Q758.828 1530.62 758.828 1536.03 Q758.828 1541.61 755.356 1544.71 Q751.884 1547.79 745.564 1547.79 Q743.388 1547.79 741.12 1547.42 Q738.874 1547.05 736.467 1546.31 L736.467 1541.61 Q738.55 1542.74 740.773 1543.3 Q742.995 1543.86 745.472 1543.86 Q749.476 1543.86 751.814 1541.75 Q754.152 1539.64 754.152 1536.03 Q754.152 1532.42 751.814 1530.31 Q749.476 1528.21 745.472 1528.21 Q743.597 1528.21 741.722 1528.62 Q739.87 1529.04 737.925 1529.92 L737.925 1512.56 Z\" fill=\"#000000\" fill-rule=\"evenodd\" fill-opacity=\"1\" /><path clip-path=\"url(#clip460)\" d=\"M 0 0 M1226.69 1512.56 L1245.05 1512.56 L1245.05 1516.5 L1230.98 1516.5 L1230.98 1524.97 Q1232 1524.62 1233.01 1524.46 Q1234.03 1524.27 1235.05 1524.27 Q1240.84 1524.27 1244.22 1527.44 Q1247.6 1530.62 1247.6 1536.03 Q1247.6 1541.61 1244.12 1544.71 Q1240.65 1547.79 1234.33 1547.79 Q1232.16 1547.79 1229.89 1547.42 Q1227.64 1547.05 1225.24 1546.31 L1225.24 1541.61 Q1227.32 1542.74 1229.54 1543.3 Q1231.76 1543.86 1234.24 1543.86 Q1238.25 1543.86 1240.58 1541.75 Q1242.92 1539.64 1242.92 1536.03 Q1242.92 1532.42 1240.58 1530.31 Q1238.25 1528.21 1234.24 1528.21 Q1232.37 1528.21 1230.49 1528.62 Q1228.64 1529.04 1226.69 1529.92 L1226.69 1512.56 Z\" fill=\"#000000\" fill-rule=\"evenodd\" fill-opacity=\"1\" /><path clip-path=\"url(#clip460)\" d=\"M 0 0 M1266.81 1515.64 Q1263.2 1515.64 1261.37 1519.2 Q1259.56 1522.75 1259.56 1529.87 Q1259.56 1536.98 1261.37 1540.55 Q1263.2 1544.09 1266.81 1544.09 Q1270.44 1544.09 1272.25 1540.55 Q1274.08 1536.98 1274.08 1529.87 Q1274.08 1522.75 1272.25 1519.2 Q1270.44 1515.64 1266.81 1515.64 M1266.81 1511.93 Q1272.62 1511.93 1275.68 1516.54 Q1278.75 1521.12 1278.75 1529.87 Q1278.75 1538.6 1275.68 1543.21 Q1272.62 1547.79 1266.81 1547.79 Q1261 1547.79 1257.92 1543.21 Q1254.87 1538.6 1254.87 1529.87 Q1254.87 1521.12 1257.92 1516.54 Q1261 1511.93 1266.81 1511.93 Z\" fill=\"#000000\" fill-rule=\"evenodd\" fill-opacity=\"1\" /><path clip-path=\"url(#clip460)\" d=\"M 0 0 M1745.37 1512.56 L1767.59 1512.56 L1767.59 1514.55 L1755.05 1547.12 L1750.16 1547.12 L1761.97 1516.5 L1745.37 1516.5 L1745.37 1512.56 Z\" fill=\"#000000\" fill-rule=\"evenodd\" fill-opacity=\"1\" /><path clip-path=\"url(#clip460)\" d=\"M 0 0 M1776.76 1512.56 L1795.12 1512.56 L1795.12 1516.5 L1781.04 1516.5 L1781.04 1524.97 Q1782.06 1524.62 1783.08 1524.46 Q1784.1 1524.27 1785.12 1524.27 Q1790.9 1524.27 1794.28 1527.44 Q1797.66 1530.62 1797.66 1536.03 Q1797.66 1541.61 1794.19 1544.71 Q1790.72 1547.79 1784.4 1547.79 Q1782.22 1547.79 1779.95 1547.42 Q1777.71 1547.05 1775.3 1546.31 L1775.3 1541.61 Q1777.38 1542.74 1779.61 1543.3 Q1781.83 1543.86 1784.31 1543.86 Q1788.31 1543.86 1790.65 1541.75 Q1792.99 1539.64 1792.99 1536.03 Q1792.99 1532.42 1790.65 1530.31 Q1788.31 1528.21 1784.31 1528.21 Q1782.43 1528.21 1780.56 1528.62 Q1778.7 1529.04 1776.76 1529.92 L1776.76 1512.56 Z\" fill=\"#000000\" fill-rule=\"evenodd\" fill-opacity=\"1\" /><path clip-path=\"url(#clip460)\" d=\"M 0 0 M2250.64 1543.18 L2258.28 1543.18 L2258.28 1516.82 L2249.97 1518.49 L2249.97 1514.23 L2258.24 1512.56 L2262.91 1512.56 L2262.91 1543.18 L2270.55 1543.18 L2270.55 1547.12 L2250.64 1547.12 L2250.64 1543.18 Z\" fill=\"#000000\" fill-rule=\"evenodd\" fill-opacity=\"1\" /><path clip-path=\"url(#clip460)\" d=\"M 0 0 M2290 1515.64 Q2286.38 1515.64 2284.56 1519.2 Q2282.75 1522.75 2282.75 1529.87 Q2282.75 1536.98 2284.56 1540.55 Q2286.38 1544.09 2290 1544.09 Q2293.63 1544.09 2295.43 1540.55 Q2297.26 1536.98 2297.26 1529.87 Q2297.26 1522.75 2295.43 1519.2 Q2293.63 1515.64 2290 1515.64 M2290 1511.93 Q2295.81 1511.93 2298.86 1516.54 Q2301.94 1521.12 2301.94 1529.87 Q2301.94 1538.6 2298.86 1543.21 Q2295.81 1547.79 2290 1547.79 Q2284.19 1547.79 2281.11 1543.21 Q2278.05 1538.6 2278.05 1529.87 Q2278.05 1521.12 2281.11 1516.54 Q2284.19 1511.93 2290 1511.93 Z\" fill=\"#000000\" fill-rule=\"evenodd\" fill-opacity=\"1\" /><path clip-path=\"url(#clip460)\" d=\"M 0 0 M2320.16 1515.64 Q2316.55 1515.64 2314.72 1519.2 Q2312.91 1522.75 2312.91 1529.87 Q2312.91 1536.98 2314.72 1540.55 Q2316.55 1544.09 2320.16 1544.09 Q2323.79 1544.09 2325.6 1540.55 Q2327.43 1536.98 2327.43 1529.87 Q2327.43 1522.75 2325.6 1519.2 Q2323.79 1515.64 2320.16 1515.64 M2320.16 1511.93 Q2325.97 1511.93 2329.02 1516.54 Q2332.1 1521.12 2332.1 1529.87 Q2332.1 1538.6 2329.02 1543.21 Q2325.97 1547.79 2320.16 1547.79 Q2314.35 1547.79 2311.27 1543.21 Q2308.21 1538.6 2308.21 1529.87 Q2308.21 1521.12 2311.27 1516.54 Q2314.35 1511.93 2320.16 1511.93 Z\" fill=\"#000000\" fill-rule=\"evenodd\" fill-opacity=\"1\" /><polyline clip-path=\"url(#clip462)\" style=\"stroke:#000000; stroke-width:2; stroke-opacity:0.1; fill:none\" points=\"\n",
       "  172.015,1369.22 2352.76,1369.22 \n",
       "  \"/>\n",
       "<polyline clip-path=\"url(#clip462)\" style=\"stroke:#000000; stroke-width:2; stroke-opacity:0.1; fill:none\" points=\"\n",
       "  172.015,1177.99 2352.76,1177.99 \n",
       "  \"/>\n",
       "<polyline clip-path=\"url(#clip462)\" style=\"stroke:#000000; stroke-width:2; stroke-opacity:0.1; fill:none\" points=\"\n",
       "  172.015,986.762 2352.76,986.762 \n",
       "  \"/>\n",
       "<polyline clip-path=\"url(#clip462)\" style=\"stroke:#000000; stroke-width:2; stroke-opacity:0.1; fill:none\" points=\"\n",
       "  172.015,795.531 2352.76,795.531 \n",
       "  \"/>\n",
       "<polyline clip-path=\"url(#clip462)\" style=\"stroke:#000000; stroke-width:2; stroke-opacity:0.1; fill:none\" points=\"\n",
       "  172.015,604.3 2352.76,604.3 \n",
       "  \"/>\n",
       "<polyline clip-path=\"url(#clip462)\" style=\"stroke:#000000; stroke-width:2; stroke-opacity:0.1; fill:none\" points=\"\n",
       "  172.015,413.069 2352.76,413.069 \n",
       "  \"/>\n",
       "<polyline clip-path=\"url(#clip462)\" style=\"stroke:#000000; stroke-width:2; stroke-opacity:0.1; fill:none\" points=\"\n",
       "  172.015,221.838 2352.76,221.838 \n",
       "  \"/>\n",
       "<polyline clip-path=\"url(#clip460)\" style=\"stroke:#000000; stroke-width:4; stroke-opacity:1; fill:none\" points=\"\n",
       "  172.015,1486.45 172.015,47.2441 \n",
       "  \"/>\n",
       "<polyline clip-path=\"url(#clip460)\" style=\"stroke:#000000; stroke-width:4; stroke-opacity:1; fill:none\" points=\"\n",
       "  172.015,1369.22 198.184,1369.22 \n",
       "  \"/>\n",
       "<polyline clip-path=\"url(#clip460)\" style=\"stroke:#000000; stroke-width:4; stroke-opacity:1; fill:none\" points=\"\n",
       "  172.015,1177.99 198.184,1177.99 \n",
       "  \"/>\n",
       "<polyline clip-path=\"url(#clip460)\" style=\"stroke:#000000; stroke-width:4; stroke-opacity:1; fill:none\" points=\"\n",
       "  172.015,986.762 198.184,986.762 \n",
       "  \"/>\n",
       "<polyline clip-path=\"url(#clip460)\" style=\"stroke:#000000; stroke-width:4; stroke-opacity:1; fill:none\" points=\"\n",
       "  172.015,795.531 198.184,795.531 \n",
       "  \"/>\n",
       "<polyline clip-path=\"url(#clip460)\" style=\"stroke:#000000; stroke-width:4; stroke-opacity:1; fill:none\" points=\"\n",
       "  172.015,604.3 198.184,604.3 \n",
       "  \"/>\n",
       "<polyline clip-path=\"url(#clip460)\" style=\"stroke:#000000; stroke-width:4; stroke-opacity:1; fill:none\" points=\"\n",
       "  172.015,413.069 198.184,413.069 \n",
       "  \"/>\n",
       "<polyline clip-path=\"url(#clip460)\" style=\"stroke:#000000; stroke-width:4; stroke-opacity:1; fill:none\" points=\"\n",
       "  172.015,221.838 198.184,221.838 \n",
       "  \"/>\n",
       "<path clip-path=\"url(#clip460)\" d=\"M 0 0 M54.5569 1382.57 L62.1958 1382.57 L62.1958 1356.2 L53.8856 1357.87 L53.8856 1353.61 L62.1495 1351.94 L66.8254 1351.94 L66.8254 1382.57 L74.4642 1382.57 L74.4642 1386.5 L54.5569 1386.5 L54.5569 1382.57 Z\" fill=\"#000000\" fill-rule=\"evenodd\" fill-opacity=\"1\" /><path clip-path=\"url(#clip460)\" d=\"M 0 0 M93.9086 1355.02 Q90.2975 1355.02 88.4688 1358.59 Q86.6632 1362.13 86.6632 1369.26 Q86.6632 1376.36 88.4688 1379.93 Q90.2975 1383.47 93.9086 1383.47 Q97.5428 1383.47 99.3483 1379.93 Q101.177 1376.36 101.177 1369.26 Q101.177 1362.13 99.3483 1358.59 Q97.5428 1355.02 93.9086 1355.02 M93.9086 1351.32 Q99.7187 1351.32 102.774 1355.92 Q105.853 1360.51 105.853 1369.26 Q105.853 1377.98 102.774 1382.59 Q99.7187 1387.17 93.9086 1387.17 Q88.0984 1387.17 85.0197 1382.59 Q81.9642 1377.98 81.9642 1369.26 Q81.9642 1360.51 85.0197 1355.92 Q88.0984 1351.32 93.9086 1351.32 Z\" fill=\"#000000\" fill-rule=\"evenodd\" fill-opacity=\"1\" /><path clip-path=\"url(#clip460)\" d=\"M 0 0 M124.07 1355.02 Q120.459 1355.02 118.631 1358.59 Q116.825 1362.13 116.825 1369.26 Q116.825 1376.36 118.631 1379.93 Q120.459 1383.47 124.07 1383.47 Q127.705 1383.47 129.51 1379.93 Q131.339 1376.36 131.339 1369.26 Q131.339 1362.13 129.51 1358.59 Q127.705 1355.02 124.07 1355.02 M124.07 1351.32 Q129.881 1351.32 132.936 1355.92 Q136.015 1360.51 136.015 1369.26 Q136.015 1377.98 132.936 1382.59 Q129.881 1387.17 124.07 1387.17 Q118.26 1387.17 115.182 1382.59 Q112.126 1377.98 112.126 1369.26 Q112.126 1360.51 115.182 1355.92 Q118.26 1351.32 124.07 1351.32 Z\" fill=\"#000000\" fill-rule=\"evenodd\" fill-opacity=\"1\" /><path clip-path=\"url(#clip460)\" d=\"M 0 0 M57.7745 1191.34 L74.0939 1191.34 L74.0939 1195.27 L52.1495 1195.27 L52.1495 1191.34 Q54.8115 1188.58 59.3949 1183.95 Q64.0013 1179.3 65.1819 1177.96 Q67.4272 1175.43 68.3068 1173.7 Q69.2096 1171.94 69.2096 1170.25 Q69.2096 1167.49 67.2652 1165.76 Q65.3439 1164.02 62.2421 1164.02 Q60.043 1164.02 57.5893 1164.79 Q55.1588 1165.55 52.381 1167.1 L52.381 1162.38 Q55.2051 1161.24 57.6588 1160.67 Q60.1124 1160.09 62.1495 1160.09 Q67.5198 1160.09 70.7142 1162.77 Q73.9087 1165.46 73.9087 1169.95 Q73.9087 1172.08 73.0985 1174 Q72.3115 1175.9 70.205 1178.49 Q69.6263 1179.16 66.5245 1182.38 Q63.4226 1185.57 57.7745 1191.34 Z\" fill=\"#000000\" fill-rule=\"evenodd\" fill-opacity=\"1\" /><path clip-path=\"url(#clip460)\" d=\"M 0 0 M93.9086 1163.79 Q90.2975 1163.79 88.4688 1167.36 Q86.6632 1170.9 86.6632 1178.03 Q86.6632 1185.13 88.4688 1188.7 Q90.2975 1192.24 93.9086 1192.24 Q97.5428 1192.24 99.3483 1188.7 Q101.177 1185.13 101.177 1178.03 Q101.177 1170.9 99.3483 1167.36 Q97.5428 1163.79 93.9086 1163.79 M93.9086 1160.09 Q99.7187 1160.09 102.774 1164.69 Q105.853 1169.28 105.853 1178.03 Q105.853 1186.75 102.774 1191.36 Q99.7187 1195.94 93.9086 1195.94 Q88.0984 1195.94 85.0197 1191.36 Q81.9642 1186.75 81.9642 1178.03 Q81.9642 1169.28 85.0197 1164.69 Q88.0984 1160.09 93.9086 1160.09 Z\" fill=\"#000000\" fill-rule=\"evenodd\" fill-opacity=\"1\" /><path clip-path=\"url(#clip460)\" d=\"M 0 0 M124.07 1163.79 Q120.459 1163.79 118.631 1167.36 Q116.825 1170.9 116.825 1178.03 Q116.825 1185.13 118.631 1188.7 Q120.459 1192.24 124.07 1192.24 Q127.705 1192.24 129.51 1188.7 Q131.339 1185.13 131.339 1178.03 Q131.339 1170.9 129.51 1167.36 Q127.705 1163.79 124.07 1163.79 M124.07 1160.09 Q129.881 1160.09 132.936 1164.69 Q136.015 1169.28 136.015 1178.03 Q136.015 1186.75 132.936 1191.36 Q129.881 1195.94 124.07 1195.94 Q118.26 1195.94 115.182 1191.36 Q112.126 1186.75 112.126 1178.03 Q112.126 1169.28 115.182 1164.69 Q118.26 1160.09 124.07 1160.09 Z\" fill=\"#000000\" fill-rule=\"evenodd\" fill-opacity=\"1\" /><path clip-path=\"url(#clip460)\" d=\"M 0 0 M67.9133 985.407 Q71.2698 986.125 73.1448 988.393 Q75.0429 990.662 75.0429 993.995 Q75.0429 999.111 71.5244 1001.91 Q68.0059 1004.71 61.5245 1004.71 Q59.3486 1004.71 57.0338 1004.27 Q54.7421 1003.86 52.2884 1003 L52.2884 998.486 Q54.2328 999.62 56.5477 1000.2 Q58.8625 1000.78 61.3856 1000.78 Q65.7837 1000.78 68.0754 999.042 Q70.3902 997.305 70.3902 993.995 Q70.3902 990.94 68.2374 989.227 Q66.1078 987.491 62.2884 987.491 L58.2606 987.491 L58.2606 983.648 L62.4735 983.648 Q65.9226 983.648 67.7513 982.282 Q69.58 980.893 69.58 978.301 Q69.58 975.639 67.6819 974.227 Q65.8069 972.792 62.2884 972.792 Q60.3671 972.792 58.168 973.208 Q55.969 973.625 53.3301 974.505 L53.3301 970.338 Q55.9921 969.597 58.3069 969.227 Q60.6449 968.857 62.705 968.857 Q68.0291 968.857 71.1309 971.287 Q74.2327 973.694 74.2327 977.815 Q74.2327 980.685 72.5892 982.676 Q70.9457 984.643 67.9133 985.407 Z\" fill=\"#000000\" fill-rule=\"evenodd\" fill-opacity=\"1\" /><path clip-path=\"url(#clip460)\" d=\"M 0 0 M93.9086 972.56 Q90.2975 972.56 88.4688 976.125 Q86.6632 979.667 86.6632 986.796 Q86.6632 993.903 88.4688 997.467 Q90.2975 1001.01 93.9086 1001.01 Q97.5428 1001.01 99.3483 997.467 Q101.177 993.903 101.177 986.796 Q101.177 979.667 99.3483 976.125 Q97.5428 972.56 93.9086 972.56 M93.9086 968.857 Q99.7187 968.857 102.774 973.463 Q105.853 978.046 105.853 986.796 Q105.853 995.523 102.774 1000.13 Q99.7187 1004.71 93.9086 1004.71 Q88.0984 1004.71 85.0197 1000.13 Q81.9642 995.523 81.9642 986.796 Q81.9642 978.046 85.0197 973.463 Q88.0984 968.857 93.9086 968.857 Z\" fill=\"#000000\" fill-rule=\"evenodd\" fill-opacity=\"1\" /><path clip-path=\"url(#clip460)\" d=\"M 0 0 M124.07 972.56 Q120.459 972.56 118.631 976.125 Q116.825 979.667 116.825 986.796 Q116.825 993.903 118.631 997.467 Q120.459 1001.01 124.07 1001.01 Q127.705 1001.01 129.51 997.467 Q131.339 993.903 131.339 986.796 Q131.339 979.667 129.51 976.125 Q127.705 972.56 124.07 972.56 M124.07 968.857 Q129.881 968.857 132.936 973.463 Q136.015 978.046 136.015 986.796 Q136.015 995.523 132.936 1000.13 Q129.881 1004.71 124.07 1004.71 Q118.26 1004.71 115.182 1000.13 Q112.126 995.523 112.126 986.796 Q112.126 978.046 115.182 973.463 Q118.26 968.857 124.07 968.857 Z\" fill=\"#000000\" fill-rule=\"evenodd\" fill-opacity=\"1\" /><path clip-path=\"url(#clip460)\" d=\"M 0 0 M66.5939 782.325 L54.7884 800.774 L66.5939 800.774 L66.5939 782.325 M65.367 778.251 L71.2466 778.251 L71.2466 800.774 L76.1772 800.774 L76.1772 804.663 L71.2466 804.663 L71.2466 812.811 L66.5939 812.811 L66.5939 804.663 L50.9921 804.663 L50.9921 800.149 L65.367 778.251 Z\" fill=\"#000000\" fill-rule=\"evenodd\" fill-opacity=\"1\" /><path clip-path=\"url(#clip460)\" d=\"M 0 0 M93.9086 781.329 Q90.2975 781.329 88.4688 784.894 Q86.6632 788.436 86.6632 795.565 Q86.6632 802.672 88.4688 806.237 Q90.2975 809.778 93.9086 809.778 Q97.5428 809.778 99.3483 806.237 Q101.177 802.672 101.177 795.565 Q101.177 788.436 99.3483 784.894 Q97.5428 781.329 93.9086 781.329 M93.9086 777.626 Q99.7187 777.626 102.774 782.232 Q105.853 786.815 105.853 795.565 Q105.853 804.292 102.774 808.899 Q99.7187 813.482 93.9086 813.482 Q88.0984 813.482 85.0197 808.899 Q81.9642 804.292 81.9642 795.565 Q81.9642 786.815 85.0197 782.232 Q88.0984 777.626 93.9086 777.626 Z\" fill=\"#000000\" fill-rule=\"evenodd\" fill-opacity=\"1\" /><path clip-path=\"url(#clip460)\" d=\"M 0 0 M124.07 781.329 Q120.459 781.329 118.631 784.894 Q116.825 788.436 116.825 795.565 Q116.825 802.672 118.631 806.237 Q120.459 809.778 124.07 809.778 Q127.705 809.778 129.51 806.237 Q131.339 802.672 131.339 795.565 Q131.339 788.436 129.51 784.894 Q127.705 781.329 124.07 781.329 M124.07 777.626 Q129.881 777.626 132.936 782.232 Q136.015 786.815 136.015 795.565 Q136.015 804.292 132.936 808.899 Q129.881 813.482 124.07 813.482 Q118.26 813.482 115.182 808.899 Q112.126 804.292 112.126 795.565 Q112.126 786.815 115.182 782.232 Q118.26 777.626 124.07 777.626 Z\" fill=\"#000000\" fill-rule=\"evenodd\" fill-opacity=\"1\" /><path clip-path=\"url(#clip460)\" d=\"M 0 0 M53.793 587.02 L72.1494 587.02 L72.1494 590.955 L58.0754 590.955 L58.0754 599.427 Q59.0939 599.08 60.1124 598.918 Q61.131 598.733 62.1495 598.733 Q67.9365 598.733 71.3161 601.904 Q74.6957 605.075 74.6957 610.492 Q74.6957 616.07 71.2235 619.172 Q67.7513 622.251 61.4319 622.251 Q59.256 622.251 56.9875 621.881 Q54.7421 621.51 52.3347 620.77 L52.3347 616.07 Q54.418 617.205 56.6402 617.76 Q58.8625 618.316 61.3393 618.316 Q65.3439 618.316 67.6819 616.209 Q70.0198 614.103 70.0198 610.492 Q70.0198 606.881 67.6819 604.774 Q65.3439 602.668 61.3393 602.668 Q59.4643 602.668 57.5893 603.084 Q55.7375 603.501 53.793 604.381 L53.793 587.02 Z\" fill=\"#000000\" fill-rule=\"evenodd\" fill-opacity=\"1\" /><path clip-path=\"url(#clip460)\" d=\"M 0 0 M93.9086 590.098 Q90.2975 590.098 88.4688 593.663 Q86.6632 597.205 86.6632 604.334 Q86.6632 611.441 88.4688 615.006 Q90.2975 618.547 93.9086 618.547 Q97.5428 618.547 99.3483 615.006 Q101.177 611.441 101.177 604.334 Q101.177 597.205 99.3483 593.663 Q97.5428 590.098 93.9086 590.098 M93.9086 586.395 Q99.7187 586.395 102.774 591.001 Q105.853 595.584 105.853 604.334 Q105.853 613.061 102.774 617.668 Q99.7187 622.251 93.9086 622.251 Q88.0984 622.251 85.0197 617.668 Q81.9642 613.061 81.9642 604.334 Q81.9642 595.584 85.0197 591.001 Q88.0984 586.395 93.9086 586.395 Z\" fill=\"#000000\" fill-rule=\"evenodd\" fill-opacity=\"1\" /><path clip-path=\"url(#clip460)\" d=\"M 0 0 M124.07 590.098 Q120.459 590.098 118.631 593.663 Q116.825 597.205 116.825 604.334 Q116.825 611.441 118.631 615.006 Q120.459 618.547 124.07 618.547 Q127.705 618.547 129.51 615.006 Q131.339 611.441 131.339 604.334 Q131.339 597.205 129.51 593.663 Q127.705 590.098 124.07 590.098 M124.07 586.395 Q129.881 586.395 132.936 591.001 Q136.015 595.584 136.015 604.334 Q136.015 613.061 132.936 617.668 Q129.881 622.251 124.07 622.251 Q118.26 622.251 115.182 617.668 Q112.126 613.061 112.126 604.334 Q112.126 595.584 115.182 591.001 Q118.26 586.395 124.07 586.395 Z\" fill=\"#000000\" fill-rule=\"evenodd\" fill-opacity=\"1\" /><path clip-path=\"url(#clip460)\" d=\"M 0 0 M64.3254 411.205 Q61.1773 411.205 59.3254 413.358 Q57.4967 415.511 57.4967 419.261 Q57.4967 422.988 59.3254 425.164 Q61.1773 427.316 64.3254 427.316 Q67.4735 427.316 69.3022 425.164 Q71.1541 422.988 71.1541 419.261 Q71.1541 415.511 69.3022 413.358 Q67.4735 411.205 64.3254 411.205 M73.6077 396.553 L73.6077 400.812 Q71.8485 399.979 70.0429 399.539 Q68.2606 399.099 66.5013 399.099 Q61.8717 399.099 59.418 402.224 Q56.9875 405.349 56.6402 411.668 Q58.006 409.654 60.0662 408.59 Q62.1263 407.502 64.6032 407.502 Q69.8115 407.502 72.8207 410.673 Q75.8531 413.821 75.8531 419.261 Q75.8531 424.585 72.705 427.803 Q69.5568 431.02 64.3254 431.02 Q58.33 431.02 55.1588 426.437 Q51.9875 421.83 51.9875 413.104 Q51.9875 404.909 55.8764 400.048 Q59.7652 395.164 66.3161 395.164 Q68.0754 395.164 69.8578 395.511 Q71.6633 395.858 73.6077 396.553 Z\" fill=\"#000000\" fill-rule=\"evenodd\" fill-opacity=\"1\" /><path clip-path=\"url(#clip460)\" d=\"M 0 0 M93.9086 398.868 Q90.2975 398.868 88.4688 402.432 Q86.6632 405.974 86.6632 413.104 Q86.6632 420.21 88.4688 423.775 Q90.2975 427.316 93.9086 427.316 Q97.5428 427.316 99.3483 423.775 Q101.177 420.21 101.177 413.104 Q101.177 405.974 99.3483 402.432 Q97.5428 398.868 93.9086 398.868 M93.9086 395.164 Q99.7187 395.164 102.774 399.77 Q105.853 404.354 105.853 413.104 Q105.853 421.83 102.774 426.437 Q99.7187 431.02 93.9086 431.02 Q88.0984 431.02 85.0197 426.437 Q81.9642 421.83 81.9642 413.104 Q81.9642 404.354 85.0197 399.77 Q88.0984 395.164 93.9086 395.164 Z\" fill=\"#000000\" fill-rule=\"evenodd\" fill-opacity=\"1\" /><path clip-path=\"url(#clip460)\" d=\"M 0 0 M124.07 398.868 Q120.459 398.868 118.631 402.432 Q116.825 405.974 116.825 413.104 Q116.825 420.21 118.631 423.775 Q120.459 427.316 124.07 427.316 Q127.705 427.316 129.51 423.775 Q131.339 420.21 131.339 413.104 Q131.339 405.974 129.51 402.432 Q127.705 398.868 124.07 398.868 M124.07 395.164 Q129.881 395.164 132.936 399.77 Q136.015 404.354 136.015 413.104 Q136.015 421.83 132.936 426.437 Q129.881 431.02 124.07 431.02 Q118.26 431.02 115.182 426.437 Q112.126 421.83 112.126 413.104 Q112.126 404.354 115.182 399.77 Q118.26 395.164 124.07 395.164 Z\" fill=\"#000000\" fill-rule=\"evenodd\" fill-opacity=\"1\" /><path clip-path=\"url(#clip460)\" d=\"M 0 0 M52.5662 204.558 L74.7883 204.558 L74.7883 206.549 L62.2421 239.118 L57.3578 239.118 L69.1633 208.493 L52.5662 208.493 L52.5662 204.558 Z\" fill=\"#000000\" fill-rule=\"evenodd\" fill-opacity=\"1\" /><path clip-path=\"url(#clip460)\" d=\"M 0 0 M93.9086 207.637 Q90.2975 207.637 88.4688 211.201 Q86.6632 214.743 86.6632 221.873 Q86.6632 228.979 88.4688 232.544 Q90.2975 236.086 93.9086 236.086 Q97.5428 236.086 99.3483 232.544 Q101.177 228.979 101.177 221.873 Q101.177 214.743 99.3483 211.201 Q97.5428 207.637 93.9086 207.637 M93.9086 203.933 Q99.7187 203.933 102.774 208.539 Q105.853 213.123 105.853 221.873 Q105.853 230.599 102.774 235.206 Q99.7187 239.789 93.9086 239.789 Q88.0984 239.789 85.0197 235.206 Q81.9642 230.599 81.9642 221.873 Q81.9642 213.123 85.0197 208.539 Q88.0984 203.933 93.9086 203.933 Z\" fill=\"#000000\" fill-rule=\"evenodd\" fill-opacity=\"1\" /><path clip-path=\"url(#clip460)\" d=\"M 0 0 M124.07 207.637 Q120.459 207.637 118.631 211.201 Q116.825 214.743 116.825 221.873 Q116.825 228.979 118.631 232.544 Q120.459 236.086 124.07 236.086 Q127.705 236.086 129.51 232.544 Q131.339 228.979 131.339 221.873 Q131.339 214.743 129.51 211.201 Q127.705 207.637 124.07 207.637 M124.07 203.933 Q129.881 203.933 132.936 208.539 Q136.015 213.123 136.015 221.873 Q136.015 230.599 132.936 235.206 Q129.881 239.789 124.07 239.789 Q118.26 239.789 115.182 235.206 Q112.126 230.599 112.126 221.873 Q112.126 213.123 115.182 208.539 Q118.26 203.933 124.07 203.933 Z\" fill=\"#000000\" fill-rule=\"evenodd\" fill-opacity=\"1\" /><polyline clip-path=\"url(#clip462)\" style=\"stroke:#e26f46; stroke-width:4; stroke-opacity:1; fill:none\" points=\"\n",
       "  233.734,1445.72 254.515,1158.87 275.296,1158.87 296.076,1158.87 316.857,1158.87 337.638,1158.87 358.419,1158.87 379.2,1158.87 399.981,1158.87 420.761,1158.87 \n",
       "  441.542,1158.87 462.323,1158.87 483.104,1158.87 503.885,1158.87 524.666,1158.87 545.446,1158.87 566.227,1158.87 587.008,1158.87 607.789,1158.87 628.57,1158.87 \n",
       "  649.351,1158.87 670.131,1158.87 690.912,1158.87 711.693,1158.87 732.474,1158.87 753.255,1158.87 774.036,1158.87 794.817,1158.87 815.597,1158.87 836.378,1158.87 \n",
       "  857.159,87.9763 877.94,87.9763 898.721,87.9763 919.502,87.9763 940.282,87.9763 961.063,87.9763 981.844,87.9763 1002.62,87.9763 1023.41,87.9763 1044.19,87.9763 \n",
       "  1064.97,87.9763 1085.75,87.9763 1106.53,87.9763 1127.31,87.9763 1148.09,87.9763 1168.87,87.9763 1189.65,87.9763 1210.43,87.9763 1231.21,87.9763 1251.99,87.9763 \n",
       "  1272.78,87.9763 1293.56,87.9763 1314.34,87.9763 1335.12,87.9763 1355.9,87.9763 1376.68,87.9763 1397.46,87.9763 1418.24,87.9763 1439.02,87.9763 1459.8,87.9763 \n",
       "  1480.58,87.9763 1501.36,87.9763 1522.15,87.9763 1542.93,87.9763 1563.71,87.9763 1584.49,87.9763 1605.27,87.9763 1626.05,87.9763 1646.83,87.9763 1667.61,87.9763 \n",
       "  1688.39,87.9763 1709.17,87.9763 1729.95,87.9763 1750.74,87.9763 1771.52,87.9763 1792.3,87.9763 1813.08,87.9763 1833.86,87.9763 1854.64,87.9763 1875.42,87.9763 \n",
       "  1896.2,87.9763 1916.98,87.9763 1937.76,87.9763 1958.54,87.9763 1979.32,87.9763 2000.11,87.9763 2020.89,87.9763 2041.67,87.9763 2062.45,87.9763 2083.23,87.9763 \n",
       "  2104.01,87.9763 2124.79,87.9763 2145.57,87.9763 2166.35,87.9763 2187.13,87.9763 2207.91,87.9763 2228.69,87.9763 2249.48,87.9763 2270.26,87.9763 2291.04,87.9763 \n",
       "  \n",
       "  \"/>\n",
       "<path clip-path=\"url(#clip460)\" d=\"\n",
       "M1943.62 276.658 L2280.06 276.658 L2280.06 95.2176 L1943.62 95.2176  Z\n",
       "  \" fill=\"#ffffff\" fill-rule=\"evenodd\" fill-opacity=\"1\"/>\n",
       "<polyline clip-path=\"url(#clip460)\" style=\"stroke:#000000; stroke-width:4; stroke-opacity:1; fill:none\" points=\"\n",
       "  1943.62,276.658 2280.06,276.658 2280.06,95.2176 1943.62,95.2176 1943.62,276.658 \n",
       "  \"/>\n",
       "<polyline clip-path=\"url(#clip460)\" style=\"stroke:#009af9; stroke-width:4; stroke-opacity:1; fill:none\" points=\"\n",
       "  1967.85,155.698 2113.23,155.698 \n",
       "  \"/>\n",
       "<path clip-path=\"url(#clip460)\" d=\"M 0 0 M2165.33 141.08 L2165.33 146.01 Q2162.97 143.811 2160.28 142.723 Q2157.62 141.635 2154.61 141.635 Q2148.69 141.635 2145.54 145.269 Q2142.39 148.88 2142.39 155.732 Q2142.39 162.561 2145.54 166.195 Q2148.69 169.806 2154.61 169.806 Q2157.62 169.806 2160.28 168.718 Q2162.97 167.63 2165.33 165.431 L2165.33 170.316 Q2162.88 171.982 2160.12 172.816 Q2157.39 173.649 2154.34 173.649 Q2146.49 173.649 2141.97 168.857 Q2137.46 164.042 2137.46 155.732 Q2137.46 147.399 2141.97 142.607 Q2146.49 137.793 2154.34 137.793 Q2157.44 137.793 2160.17 138.626 Q2162.92 139.436 2165.33 141.08 Z\" fill=\"#000000\" fill-rule=\"evenodd\" fill-opacity=\"1\" /><path clip-path=\"url(#clip460)\" d=\"M 0 0 M2196.12 168.047 L2196.12 158.765 L2188.48 158.765 L2188.48 154.922 L2200.75 154.922 L2200.75 169.76 Q2198.04 171.681 2194.78 172.677 Q2191.51 173.649 2187.81 173.649 Q2179.71 173.649 2175.12 168.927 Q2170.56 164.181 2170.56 155.732 Q2170.56 147.26 2175.12 142.538 Q2179.71 137.793 2187.81 137.793 Q2191.19 137.793 2194.22 138.626 Q2197.28 139.459 2199.84 141.08 L2199.84 146.056 Q2197.25 143.857 2194.34 142.746 Q2191.42 141.635 2188.2 141.635 Q2181.86 141.635 2178.66 145.177 Q2175.49 148.718 2175.49 155.732 Q2175.49 162.723 2178.66 166.265 Q2181.86 169.806 2188.2 169.806 Q2190.68 169.806 2192.62 169.39 Q2194.57 168.95 2196.12 168.047 Z\" fill=\"#000000\" fill-rule=\"evenodd\" fill-opacity=\"1\" /><path clip-path=\"url(#clip460)\" d=\"M 0 0 M2213.96 142.26 L2213.96 155.246 L2219.84 155.246 Q2223.11 155.246 2224.89 153.556 Q2226.67 151.867 2226.67 148.742 Q2226.67 145.64 2224.89 143.95 Q2223.11 142.26 2219.84 142.26 L2213.96 142.26 M2209.29 138.418 L2219.84 138.418 Q2225.65 138.418 2228.62 141.056 Q2231.6 143.672 2231.6 148.742 Q2231.6 153.857 2228.62 156.473 Q2225.65 159.089 2219.84 159.089 L2213.96 159.089 L2213.96 172.978 L2209.29 172.978 L2209.29 138.418 Z\" fill=\"#000000\" fill-rule=\"evenodd\" fill-opacity=\"1\" /><polyline clip-path=\"url(#clip460)\" style=\"stroke:#e26f46; stroke-width:4; stroke-opacity:1; fill:none\" points=\"\n",
       "  1967.85,216.178 2113.23,216.178 \n",
       "  \"/>\n",
       "<path clip-path=\"url(#clip460)\" d=\"M 0 0 M2137.46 198.898 L2159.31 198.898 L2159.31 202.833 L2142.14 202.833 L2142.14 213.064 L2158.59 213.064 L2158.59 216.999 L2142.14 216.999 L2142.14 229.522 L2159.73 229.522 L2159.73 233.458 L2137.46 233.458 L2137.46 198.898 Z\" fill=\"#000000\" fill-rule=\"evenodd\" fill-opacity=\"1\" /><path clip-path=\"url(#clip460)\" d=\"M 0 0 M2188.13 200.032 L2188.13 204.592 Q2185.47 203.319 2183.11 202.694 Q2180.75 202.069 2178.55 202.069 Q2174.73 202.069 2172.65 203.55 Q2170.59 205.032 2170.59 207.763 Q2170.59 210.055 2171.95 211.235 Q2173.34 212.393 2177.18 213.11 L2180.01 213.689 Q2185.24 214.685 2187.71 217.208 Q2190.21 219.708 2190.21 223.921 Q2190.21 228.944 2186.84 231.536 Q2183.48 234.129 2176.97 234.129 Q2174.52 234.129 2171.74 233.573 Q2168.99 233.018 2166.03 231.93 L2166.03 227.115 Q2168.87 228.712 2171.6 229.522 Q2174.34 230.333 2176.97 230.333 Q2180.98 230.333 2183.15 228.759 Q2185.33 227.184 2185.33 224.268 Q2185.33 221.722 2183.76 220.286 Q2182.21 218.851 2178.64 218.134 L2175.79 217.578 Q2170.56 216.536 2168.22 214.314 Q2165.89 212.092 2165.89 208.134 Q2165.89 203.55 2169.1 200.911 Q2172.34 198.273 2178.02 198.273 Q2180.45 198.273 2182.97 198.712 Q2185.49 199.152 2188.13 200.032 Z\" fill=\"#000000\" fill-rule=\"evenodd\" fill-opacity=\"1\" /></svg>\n"
      ]
     },
     "execution_count": 45,
     "metadata": {},
     "output_type": "execute_result"
    }
   ],
   "source": [
    "plot(accumulate(max, cgp_fits), label=\"CGP\")\n",
    "plot!(accumulate(max, es_fits), label=\"ES\")"
   ]
  },
  {
   "cell_type": "markdown",
   "metadata": {
    "slideshow": {
     "slide_type": "fragment"
    }
   },
   "source": [
    "CGP is a clear winner here, but of course to do a fair comparison, we should run both algorithms multiple times and then compare the average best fitness found and the standard deviation, ideally using a statistical significance test to see if the results are truly different. For environments with a known maximum fitness, the percentage of average evolutions which reach the maximum is also a very useful metric."
   ]
  },
  {
   "cell_type": "markdown",
   "metadata": {
    "slideshow": {
     "slide_type": "slide"
    }
   },
   "source": [
    "<div class=\"alert alert-info\">\n",
    "    Using the software provided in the project page, experiment with one or multiple evolutionary methods for the evolution of a game-playing agent. In your video presentations, please show and discuss:\n",
    "    <ul>\n",
    "        <li>Which evolutionary algorithm was used, with a brief overview of the algorithm</li>\n",
    "        <li>What, if any, modifications were made to the algorithm</li>\n",
    "        <li>What algorithm parameters were used and if you experimented with the parameters</li>\n",
    "        <li>If you compared to a second method, these details about the second method</li>\n",
    "        <li>Describe the game you were using</li>\n",
    "        <li>The state, actions, and objective function for the game</li>\n",
    "        <li>If any behavior characteristic was used, describe it</li>\n",
    "        <li>The results of evolution showing multiple trials with statistical analysis</li>\n",
    "        <li>Your interpretation of the results</li>\n",
    "        <li>Video of your agent playing the game</li>\n",
    "    </ul>\n",
    "</div>"
   ]
  },
  {
   "cell_type": "markdown",
   "metadata": {
    "slideshow": {
     "slide_type": "slide"
    }
   },
   "source": [
    "As a bonus, let's see an agent that evolved for 10000 generations (to 50000 total evaluations)"
   ]
  },
  {
   "cell_type": "code",
   "execution_count": 46,
   "metadata": {
    "slideshow": {
     "slide_type": "fragment"
    }
   },
   "outputs": [
    {
     "ename": "LoadError",
     "evalue": "ArgumentError: Package JSON not found in current path:\n- Run `import Pkg; Pkg.add(\"JSON\")` to install the JSON package.\n",
     "output_type": "error",
     "traceback": [
      "ArgumentError: Package JSON not found in current path:\n- Run `import Pkg; Pkg.add(\"JSON\")` to install the JSON package.\n",
      "",
      "Stacktrace:",
      " [1] require(::Module, ::Symbol) at ./loading.jl:893",
      " [2] include_string(::Function, ::Module, ::String, ::String) at ./loading.jl:1091"
     ]
    }
   ],
   "source": [
    "using JSON\n",
    "best = JSON.parsefile(\"best.dna\")\n",
    "ind = CGPInd(cfg, Float64.(best[\"chromosome\"]));\n",
    "total_reward, frames = play_atari(ind, render=true)"
   ]
  },
  {
   "cell_type": "code",
   "execution_count": 47,
   "metadata": {
    "slideshow": {
     "slide_type": "slide"
    }
   },
   "outputs": [
    {
     "data": {
      "text/html": [
       "<img src=\"files/reel-18411664773618121650.gif?8028430313648969159\" />"
      ],
      "text/plain": [
       "Frames{MIME{Symbol(\"image/png\")}}(\"/tmp/jl_ZJF3Sg\", 0x0000000000000108, 6.0, \"reel-18411664773618121650.gif\")"
      ]
     },
     "execution_count": 47,
     "metadata": {},
     "output_type": "execute_result"
    }
   ],
   "source": [
    "frames"
   ]
  },
  {
   "cell_type": "markdown",
   "metadata": {
    "slideshow": {
     "slide_type": "fragment"
    }
   },
   "source": [
    "Good luck and have fun!\n",
    "\n",
    "<img src=\"../imgs/cat.gif\" width=\"30%\">"
   ]
  }
 ],
 "metadata": {
  "@webio": {
   "lastCommId": null,
   "lastKernelId": null
  },
  "kernelspec": {
   "display_name": "Julia 1.5.3",
   "language": "julia",
   "name": "julia-1.5"
  },
  "language_info": {
   "file_extension": ".jl",
   "mimetype": "application/julia",
   "name": "julia",
   "version": "1.5.3"
  }
 },
 "nbformat": 4,
 "nbformat_minor": 2
}
