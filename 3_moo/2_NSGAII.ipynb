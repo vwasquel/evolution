{
 "cells": [
  {
   "cell_type": "markdown",
   "metadata": {
    "slideshow": {
     "slide_type": "slide"
    }
   },
   "source": [
    "<img src=\"../imgs/logo.png\" width=\"20%\" align=\"right\" style=\"margin:0px 20px\">\n",
    "\n",
    "\n",
    "# Evolutionary Computation\n",
    "\n",
    "## 3.2 NSGA-II\n",
    "\n",
    "<a rel=\"license\" href=\"http://creativecommons.org/licenses/by-sa/4.0/\"><img alt=\"Creative Commons License\" align=\"left\" src=\"https://i.creativecommons.org/l/by-sa/4.0/80x15.png\" /></a>&nbsp;| Dennis G. Wilson | <a href=\"https://d9w.github.io/evolution/\">https://d9w.github.io/evolution/</a>"
   ]
  },
  {
   "cell_type": "markdown",
   "metadata": {
    "slideshow": {
     "slide_type": "slide"
    }
   },
   "source": [
    "## Outline\n",
    "\n",
    "1. [The Knapsack Problem](#knapsack)\n",
    "2. [Evolution](#evolution)\n",
    "3. [Visualization](#visualization)"
   ]
  },
  {
   "cell_type": "code",
   "execution_count": 3,
   "metadata": {
    "slideshow": {
     "slide_type": "slide"
    }
   },
   "outputs": [],
   "source": [
    "using NSGAII\n",
    "using JuMP, Cbc\n",
    "using Plots\n",
    "default(show=:ijulia)"
   ]
  },
  {
   "cell_type": "markdown",
   "metadata": {
    "slideshow": {
     "slide_type": "fragment"
    }
   },
   "source": [
    "To experiment with NSGAII we'll be using a rather new implementation of it from Github: https://github.com/gsoleilhac/NSGAII.jl/.\n",
    "\n",
    "This implementation isn't so complicated and if we look at the code, we can see that much of it resembles our [notebook code](https://github.com/d9w/evolution/blob/master/2_ga/1_GAs.ipynb) on Genetic Algorithms. Let's look at the [functions](https://github.com/gsoleilhac/NSGAII.jl/blob/master/src/functions.jl) code which contains the main Genetic Algorithm loop, as well as the [NSGA-II](http://repository.ias.ac.in/83498/1/2-a.pdf) Fast Non-Dominated Sort and Crowding Distance Algorithm."
   ]
  },
  {
   "cell_type": "markdown",
   "metadata": {
    "slideshow": {
     "slide_type": "slide"
    }
   },
   "source": [
    "## <a id=\"knapsack\"></a>The Knapsack Problem"
   ]
  },
  {
   "cell_type": "markdown",
   "metadata": {
    "slideshow": {
     "slide_type": "fragment"
    }
   },
   "source": [
    "<img src=\"https://imgs.xkcd.com/comics/np_complete.png\">\n",
    "<div style=\"text-align:center\"><a href=\"https://xkcd.com/287/\">XKCD on the Knapsack Problem</a></div>\n"
   ]
  },
  {
   "cell_type": "markdown",
   "metadata": {
    "slideshow": {
     "slide_type": "slide"
    }
   },
   "source": [
    "Imagine we're travelling and our bag has a maximum weight limit. We want to fill this bag with items of different value and maximize the total value in our bag, as long as it stays in the weight limit. This is known as the \"knapsack problem\".\n",
    "<img src=\"../imgs/knapsack.png\" width=\"30%\" height=\"auto\">\n",
    "Instead of a bag with items, you could imagine a scenario like the comic. You want to order different appetizers, but you only want to spend a fixed maximum amount. How can you get the best appetizers?"
   ]
  },
  {
   "cell_type": "markdown",
   "metadata": {
    "slideshow": {
     "slide_type": "slide"
    }
   },
   "source": [
    "Let's look at an example, specifically using the version of the Knapsack problem known as the \"0-1 knapsack problem\" where we can have at most 1 copy of each item. We'll use 5 items and randomly geneate values for them."
   ]
  },
  {
   "cell_type": "code",
   "execution_count": 4,
   "metadata": {
    "slideshow": {
     "slide_type": "fragment"
    }
   },
   "outputs": [
    {
     "name": "stdout",
     "output_type": "stream",
     "text": [
      "[85, 14, 82, 11, 2] total value: 194\n"
     ]
    }
   ],
   "source": [
    "n = 5\n",
    "values = rand(0:100, n)\n",
    "println(values, \" total value: \", sum(values))"
   ]
  },
  {
   "cell_type": "code",
   "execution_count": 5,
   "metadata": {
    "slideshow": {
     "slide_type": "fragment"
    }
   },
   "outputs": [
    {
     "name": "stdout",
     "output_type": "stream",
     "text": [
      "[15, 19, 11, 19, 15] total weight: 79\n"
     ]
    }
   ],
   "source": [
    "weights = rand(10:20, n)\n",
    "max_weight = 55\n",
    "println(weights, \" total weight: \", sum(weights))"
   ]
  },
  {
   "cell_type": "markdown",
   "metadata": {
    "slideshow": {
     "slide_type": "fragment"
    }
   },
   "source": [
    "We won't be able to take all items because of the maximum weight of 55. We'll express our choice of items using a binary string, 1 if we take the item and 0 otherwise."
   ]
  },
  {
   "cell_type": "code",
   "execution_count": 8,
   "metadata": {
    "slideshow": {
     "slide_type": "fragment"
    }
   },
   "outputs": [
    {
     "name": "stdout",
     "output_type": "stream",
     "text": [
      "Bool[1, 0, 0, 0, 1]\n"
     ]
    }
   ],
   "source": [
    "using Random: bitrand\n",
    "choices = bitrand(n)\n",
    "println(choices)"
   ]
  },
  {
   "cell_type": "markdown",
   "metadata": {
    "slideshow": {
     "slide_type": "slide"
    }
   },
   "source": [
    "The total value of our knapsack is therefore the sum of the element-wise multiplication of our choices and the individual item values."
   ]
  },
  {
   "cell_type": "code",
   "execution_count": 9,
   "metadata": {
    "slideshow": {
     "slide_type": "fragment"
    }
   },
   "outputs": [
    {
     "data": {
      "text/plain": [
       "87"
      ]
     },
     "execution_count": 9,
     "metadata": {},
     "output_type": "execute_result"
    }
   ],
   "source": [
    "sum(choices .* values)"
   ]
  },
  {
   "cell_type": "markdown",
   "metadata": {
    "slideshow": {
     "slide_type": "fragment"
    }
   },
   "source": [
    "In other words, the dot product of the two vectors."
   ]
  },
  {
   "cell_type": "code",
   "execution_count": 10,
   "metadata": {
    "slideshow": {
     "slide_type": "fragment"
    }
   },
   "outputs": [
    {
     "data": {
      "text/plain": [
       "87"
      ]
     },
     "execution_count": 10,
     "metadata": {},
     "output_type": "execute_result"
    }
   ],
   "source": [
    "using LinearAlgebra: dot\n",
    "dot(choices, values)"
   ]
  },
  {
   "cell_type": "markdown",
   "metadata": {
    "slideshow": {
     "slide_type": "fragment"
    }
   },
   "source": [
    "We can also use the dot product to check if our choices fall under the weight limit"
   ]
  },
  {
   "cell_type": "code",
   "execution_count": 11,
   "metadata": {
    "slideshow": {
     "slide_type": "fragment"
    }
   },
   "outputs": [
    {
     "data": {
      "text/plain": [
       "(30, 55)"
      ]
     },
     "execution_count": 11,
     "metadata": {},
     "output_type": "execute_result"
    }
   ],
   "source": [
    "dot(choices, weights), max_weight"
   ]
  },
  {
   "cell_type": "markdown",
   "metadata": {
    "slideshow": {
     "slide_type": "slide"
    }
   },
   "source": [
    "Let's say you and a friend are travelling together and to make it cheaper, you're sharing a bag. You and your friend assign different values to each item based on what you want to bring on the trip. Your preferences are in `values` and your friends preferences are:"
   ]
  },
  {
   "cell_type": "code",
   "execution_count": 12,
   "metadata": {
    "slideshow": {
     "slide_type": "fragment"
    }
   },
   "outputs": [
    {
     "name": "stdout",
     "output_type": "stream",
     "text": [
      "You:\t[85, 14, 82, 11, 2] total value: 194\n",
      "Friend:\t[18, 5, 100, 48, 31] total value: 202\n"
     ]
    }
   ],
   "source": [
    "values2 = rand(0:100, n)\n",
    "println(\"You:\\t\", values, \" total value: \", sum(values))\n",
    "println(\"Friend:\\t\", values2, \" total value: \", sum(values2))"
   ]
  },
  {
   "cell_type": "markdown",
   "metadata": {
    "slideshow": {
     "slide_type": "fragment"
    }
   },
   "source": [
    "Let's see who is happier with the choices we made"
   ]
  },
  {
   "cell_type": "code",
   "execution_count": 13,
   "metadata": {
    "slideshow": {
     "slide_type": "fragment"
    }
   },
   "outputs": [
    {
     "name": "stdout",
     "output_type": "stream",
     "text": [
      "Bool[1, 1, 1, 0, 0]\n",
      "weight: 45\n",
      "You: 181 Friend: 123\n"
     ]
    }
   ],
   "source": [
    "choices = bitrand(n)\n",
    "println(choices)\n",
    "println(\"weight: \", dot(choices, weights))\n",
    "println(\"You: \", dot(choices, values), \" Friend: \", dot(choices, values2))"
   ]
  },
  {
   "cell_type": "markdown",
   "metadata": {
    "slideshow": {
     "slide_type": "fragment"
    }
   },
   "source": [
    "This is the multi-objective version of the Knapsack problem where we use $K$ different value vectors for $K$ objectives."
   ]
  },
  {
   "cell_type": "markdown",
   "metadata": {
    "slideshow": {
     "slide_type": "slide"
    }
   },
   "source": [
    "[The Knapsack problem](https://en.wikipedia.org/wiki/Knapsack_problem) has been thoroughly studied in theoretical computer science and evolutionary computation is not the only choice for solving it; dynamic programming and mixed integer programming are what [JuMP](https://github.com/JuliaOpt/JuMP.jl), an optimization library, uses."
   ]
  },
  {
   "cell_type": "code",
   "execution_count": 14,
   "metadata": {
    "slideshow": {
     "slide_type": "fragment"
    }
   },
   "outputs": [],
   "source": [
    "# Note that this uses JuMP 0.18.6 format, different in JuMP 0.19\n",
    "m = Model(solver=CbcSolver())\n",
    "@variable(m, x[1:n], Bin)\n",
    "# Objective: maximize profit\n",
    "@objective(m, Max, dot(values, x))\n",
    "@objective(m, Max, dot(values2, x))\n",
    "# Constraint: can carry all\n",
    "@constraint(m, dot(weights, x) <= max_weight)\n",
    "# Solve problem using MIP solver\n",
    "status = solve(m);"
   ]
  },
  {
   "cell_type": "code",
   "execution_count": 15,
   "metadata": {
    "slideshow": {
     "slide_type": "fragment"
    }
   },
   "outputs": [
    {
     "name": "stdout",
     "output_type": "stream",
     "text": [
      "Objective is: 179.0\n",
      "Solution is:\n",
      "x[1] = 0.0, p[1]/w[1] = 5.666666666666667, p[1]/w[1] = 1.2\n",
      "x[2] = 0.0, p[2]/w[2] = 0.7368421052631579, p[2]/w[2] = 0.2631578947368421\n",
      "x[3] = 1.0, p[3]/w[3] = 7.454545454545454, p[3]/w[3] = 9.090909090909092\n",
      "x[4] = 1.0, p[4]/w[4] = 0.5789473684210527, p[4]/w[4] = 2.526315789473684\n",
      "x[5] = 1.0, p[5]/w[5] = 0.13333333333333333, p[5]/w[5] = 2.066666666666667\n"
     ]
    }
   ],
   "source": [
    "println(\"Objective is: \", getobjectivevalue(m))\n",
    "println(\"Solution is:\")\n",
    "for i = 1:5\n",
    "    print(\"x[$i] = \", getvalue(x[i]))\n",
    "    print(\", p[$i]/w[$i] = \", values[i]/weights[i])\n",
    "    println(\", p[$i]/w[$i] = \", values2[i]/weights[i])\n",
    "end"
   ]
  },
  {
   "cell_type": "markdown",
   "metadata": {
    "slideshow": {
     "slide_type": "slide"
    }
   },
   "source": [
    "## <a id=\"evolution\"></a>Evolution"
   ]
  },
  {
   "cell_type": "markdown",
   "metadata": {
    "slideshow": {
     "slide_type": "fragment"
    }
   },
   "source": [
    "To apply NSGA-II to this problem, let's scale up the number of items to 100. "
   ]
  },
  {
   "cell_type": "code",
   "execution_count": 16,
   "metadata": {
    "slideshow": {
     "slide_type": "fragment"
    }
   },
   "outputs": [
    {
     "data": {
      "text/plain": [
       "100×2 Array{Float64,2}:\n",
       " 0.764365  0.869784\n",
       " 0.8628    0.145374\n",
       " 0.786608  0.220381\n",
       " 0.292317  0.746009\n",
       " 0.740223  0.458854\n",
       " 0.837326  0.183005\n",
       " 0.101523  0.589247\n",
       " 0.102811  0.515786\n",
       " 0.30715   0.0289671\n",
       " 0.438645  0.224461\n",
       " 0.674547  0.226287\n",
       " 0.295844  0.236163\n",
       " 0.201595  0.834958\n",
       " ⋮         \n",
       " 0.322786  0.410145\n",
       " 0.359373  0.79695\n",
       " 0.345467  0.749549\n",
       " 0.472511  0.92768\n",
       " 0.305932  0.0920728\n",
       " 0.972747  0.964716\n",
       " 0.10382   0.0885798\n",
       " 0.123272  0.941629\n",
       " 0.83467   0.325108\n",
       " 0.622274  0.740083\n",
       " 0.993047  0.441865\n",
       " 0.231091  0.624748"
      ]
     },
     "execution_count": 16,
     "metadata": {},
     "output_type": "execute_result"
    }
   ],
   "source": [
    "n = 100\n",
    "n_objectives = 2\n",
    "values = rand(n, n_objectives)"
   ]
  },
  {
   "cell_type": "markdown",
   "metadata": {
    "slideshow": {
     "slide_type": "slide"
    }
   },
   "source": [
    "Let's normalize our fitness values by their sum, so that the total maximum value is 1.0 which will help with plotting later."
   ]
  },
  {
   "cell_type": "code",
   "execution_count": 17,
   "metadata": {
    "slideshow": {
     "slide_type": "fragment"
    }
   },
   "outputs": [
    {
     "data": {
      "text/plain": [
       "1×2 Array{Float64,2}:\n",
       " 1.0  1.0"
      ]
     },
     "execution_count": 17,
     "metadata": {},
     "output_type": "execute_result"
    }
   ],
   "source": [
    "values = values ./ sum(values, dims=1);\n",
    "sum(values, dims=1)"
   ]
  },
  {
   "cell_type": "markdown",
   "metadata": {
    "slideshow": {
     "slide_type": "slide"
    }
   },
   "source": [
    "Similarly, let's normalize the weights to sum to 1 and set a maximum weight of 0.5, meaning we can keep only half the items on average. This will let us change the number of items more easily later on but doesn't impact the problem in any way."
   ]
  },
  {
   "cell_type": "code",
   "execution_count": 18,
   "metadata": {
    "slideshow": {
     "slide_type": "fragment"
    }
   },
   "outputs": [
    {
     "data": {
      "text/plain": [
       "0.5"
      ]
     },
     "execution_count": 18,
     "metadata": {},
     "output_type": "execute_result"
    }
   ],
   "source": [
    "weights = rand(n)\n",
    "weights = weights ./ sum(weights)\n",
    "max_weight = 0.5"
   ]
  },
  {
   "cell_type": "markdown",
   "metadata": {
    "slideshow": {
     "slide_type": "slide"
    }
   },
   "source": [
    "Let's write our objective function which will compute the value of our knapsack using each different column of profit values."
   ]
  },
  {
   "cell_type": "code",
   "execution_count": 19,
   "metadata": {
    "slideshow": {
     "slide_type": "fragment"
    }
   },
   "outputs": [
    {
     "data": {
      "text/plain": [
       "objective (generic function with 1 method)"
      ]
     },
     "execution_count": 19,
     "metadata": {},
     "output_type": "execute_result"
    }
   ],
   "source": [
    "function objective(genes::AbstractArray)\n",
    "    fits = zeros(n_objectives)\n",
    "    for i in 1:n_objectives\n",
    "        fits[i] = dot(genes, values[:, i])\n",
    "    end\n",
    "    tuple(fits...)\n",
    "end"
   ]
  },
  {
   "cell_type": "markdown",
   "metadata": {
    "slideshow": {
     "slide_type": "slide"
    }
   },
   "source": [
    "We'll add in our weight constraint separately. This is used in the evaluation of individuals and is considered a part of our objective function, but is handled separately. Our lecture on evolution with constraints will go into more detail on that. For this NSGA-II implementation, we return 0 if the condition passes and the distance from meeting the condition otherwise."
   ]
  },
  {
   "cell_type": "code",
   "execution_count": 20,
   "metadata": {
    "slideshow": {
     "slide_type": "fragment"
    }
   },
   "outputs": [
    {
     "data": {
      "text/plain": [
       "constraint (generic function with 1 method)"
      ]
     },
     "execution_count": 20,
     "metadata": {},
     "output_type": "execute_result"
    }
   ],
   "source": [
    "function constraint(genes::AbstractArray)\n",
    "    sum_weights = dot(genes, weights)\n",
    "    return sum_weights <= max_weight ? 0 : sum_weights - max_weight\n",
    "end"
   ]
  },
  {
   "cell_type": "markdown",
   "metadata": {
    "slideshow": {
     "slide_type": "slide"
    }
   },
   "source": [
    "That's all, so now we're ready to run NSGA-II. Let's run it for 100 generations on a population of 100. The function returns the set of non-dominated individuals at the end"
   ]
  },
  {
   "cell_type": "code",
   "execution_count": 21,
   "metadata": {
    "slideshow": {
     "slide_type": "fragment"
    }
   },
   "outputs": [
    {
     "data": {
      "text/plain": [
       "indiv([101110000110101...011011101011110] : (0.7070360461751031, 0.7623669176804566) | rank : 1)"
      ]
     },
     "execution_count": 21,
     "metadata": {},
     "output_type": "execute_result"
    }
   ],
   "source": [
    "popsize = 100\n",
    "nbgen = 100\n",
    "init() = bitrand(n)\n",
    "non_dominated =  nsga_max(popsize, nbgen, objective, init, fCV=constraint)\n",
    "non_dominated[1]"
   ]
  },
  {
   "cell_type": "markdown",
   "metadata": {
    "slideshow": {
     "slide_type": "slide"
    }
   },
   "source": [
    "Let's see what type of total profit values we have from our two objectives."
   ]
  },
  {
   "cell_type": "code",
   "execution_count": 22,
   "metadata": {
    "slideshow": {
     "slide_type": "fragment"
    }
   },
   "outputs": [
    {
     "data": {
      "text/plain": [
       "11-element Array{Array{Float64,1},1}:\n",
       " [0.7070360461751031, 0.7623669176804566]\n",
       " [0.7645615909501036, 0.7236632142695956]\n",
       " [0.7534426559414977, 0.7356248830288905]\n",
       " [0.7370830324997149, 0.7482505272204969]\n",
       " [0.7462262520849618, 0.7427813211767351]\n",
       " [0.7304502671412842, 0.7574808758956437]\n",
       " [0.7187745960830789, 0.7603366500923863]\n",
       " [0.7331778574555969, 0.7522816880446332]\n",
       " [0.748785606006426, 0.7383627689885042]\n",
       " [0.7522629689950433, 0.7381398492974101]\n",
       " [0.7337769099123841, 0.7484472583085675]"
      ]
     },
     "execution_count": 22,
     "metadata": {},
     "output_type": "execute_result"
    }
   ],
   "source": [
    "unique([collect(i.y) for i in non_dominated])"
   ]
  },
  {
   "cell_type": "markdown",
   "metadata": {
    "slideshow": {
     "slide_type": "slide"
    }
   },
   "source": [
    "Finally, we can compare this value to a value obtained by JuMP"
   ]
  },
  {
   "cell_type": "code",
   "execution_count": 23,
   "metadata": {
    "slideshow": {
     "slide_type": "fragment"
    }
   },
   "outputs": [
    {
     "name": "stdout",
     "output_type": "stream",
     "text": [
      "JuMP: 0.6137428401634349 0.8500114471023089\n"
     ]
    }
   ],
   "source": [
    "m = Model(solver=CbcSolver())\n",
    "@variable(m, x[1:n], Bin)\n",
    "@objective(m, Max, dot(values[:, 1], x))\n",
    "@objective(m, Max, dot(values[:, 2], x))\n",
    "@constraint(m, dot(weights, x) <= max_weight)\n",
    "status = solve(m)\n",
    "best_solution = [getvalue(x[i]) for i in 1:n]\n",
    "println(\"JuMP: \", dot(values[:, 1], best_solution), \" \", dot(values[:, 2], best_solution))"
   ]
  },
  {
   "cell_type": "markdown",
   "metadata": {
    "slideshow": {
     "slide_type": "slide"
    }
   },
   "source": [
    "<div class=\"alert alert-success\">\n",
    "    <b>Exercise 2</b>\n",
    "    <br/>\n",
    "    Increase the problem difficulty by increasing the number of items and reducing the weight limit. How does NSGA-II do?\n",
    "    <br/>\n",
    "</div>"
   ]
  },
  {
   "cell_type": "markdown",
   "metadata": {
    "slideshow": {
     "slide_type": "slide"
    }
   },
   "source": [
    "## <a id=\"visualization\"></a>Visualization"
   ]
  },
  {
   "cell_type": "markdown",
   "metadata": {
    "slideshow": {
     "slide_type": "fragment"
    }
   },
   "source": [
    "To better understand NSGA-II's evolution, let's observe the population over time."
   ]
  },
  {
   "cell_type": "code",
   "execution_count": 28,
   "metadata": {
    "slideshow": {
     "slide_type": "slide"
    }
   },
   "outputs": [
    {
     "data": {
      "image/svg+xml": [
       "<?xml version=\"1.0\" encoding=\"utf-8\"?>\n",
       "<svg xmlns=\"http://www.w3.org/2000/svg\" xmlns:xlink=\"http://www.w3.org/1999/xlink\" width=\"600\" height=\"400\" viewBox=\"0 0 2400 1600\">\n",
       "<defs>\n",
       "  <clipPath id=\"clip3900\">\n",
       "    <rect x=\"0\" y=\"0\" width=\"2400\" height=\"1600\"/>\n",
       "  </clipPath>\n",
       "</defs>\n",
       "<path clip-path=\"url(#clip3900)\" d=\"\n",
       "M0 1600 L2400 1600 L2400 0 L0 0  Z\n",
       "  \" fill=\"#ffffff\" fill-rule=\"evenodd\" fill-opacity=\"1\"/>\n",
       "<defs>\n",
       "  <clipPath id=\"clip3901\">\n",
       "    <rect x=\"480\" y=\"0\" width=\"1681\" height=\"1600\"/>\n",
       "  </clipPath>\n",
       "</defs>\n",
       "<path clip-path=\"url(#clip3900)\" d=\"\n",
       "M153.898 1487.47 L2352.76 1487.47 L2352.76 47.2441 L153.898 47.2441  Z\n",
       "  \" fill=\"#ffffff\" fill-rule=\"evenodd\" fill-opacity=\"1\"/>\n",
       "<defs>\n",
       "  <clipPath id=\"clip3902\">\n",
       "    <rect x=\"153\" y=\"47\" width=\"2200\" height=\"1441\"/>\n",
       "  </clipPath>\n",
       "</defs>\n",
       "<polyline clip-path=\"url(#clip3902)\" style=\"stroke:#000000; stroke-width:2; stroke-opacity:0.1; fill:none\" points=\"\n",
       "  153.898,1487.47 153.898,47.2441 \n",
       "  \"/>\n",
       "<polyline clip-path=\"url(#clip3902)\" style=\"stroke:#000000; stroke-width:2; stroke-opacity:0.1; fill:none\" points=\"\n",
       "  593.67,1487.47 593.67,47.2441 \n",
       "  \"/>\n",
       "<polyline clip-path=\"url(#clip3902)\" style=\"stroke:#000000; stroke-width:2; stroke-opacity:0.1; fill:none\" points=\"\n",
       "  1033.44,1487.47 1033.44,47.2441 \n",
       "  \"/>\n",
       "<polyline clip-path=\"url(#clip3902)\" style=\"stroke:#000000; stroke-width:2; stroke-opacity:0.1; fill:none\" points=\"\n",
       "  1473.21,1487.47 1473.21,47.2441 \n",
       "  \"/>\n",
       "<polyline clip-path=\"url(#clip3902)\" style=\"stroke:#000000; stroke-width:2; stroke-opacity:0.1; fill:none\" points=\"\n",
       "  1912.98,1487.47 1912.98,47.2441 \n",
       "  \"/>\n",
       "<polyline clip-path=\"url(#clip3902)\" style=\"stroke:#000000; stroke-width:2; stroke-opacity:0.1; fill:none\" points=\"\n",
       "  2352.76,1487.47 2352.76,47.2441 \n",
       "  \"/>\n",
       "<polyline clip-path=\"url(#clip3902)\" style=\"stroke:#000000; stroke-width:2; stroke-opacity:0.1; fill:none\" points=\"\n",
       "  153.898,1487.47 2352.76,1487.47 \n",
       "  \"/>\n",
       "<polyline clip-path=\"url(#clip3902)\" style=\"stroke:#000000; stroke-width:2; stroke-opacity:0.1; fill:none\" points=\"\n",
       "  153.898,1199.43 2352.76,1199.43 \n",
       "  \"/>\n",
       "<polyline clip-path=\"url(#clip3902)\" style=\"stroke:#000000; stroke-width:2; stroke-opacity:0.1; fill:none\" points=\"\n",
       "  153.898,911.382 2352.76,911.382 \n",
       "  \"/>\n",
       "<polyline clip-path=\"url(#clip3902)\" style=\"stroke:#000000; stroke-width:2; stroke-opacity:0.1; fill:none\" points=\"\n",
       "  153.898,623.336 2352.76,623.336 \n",
       "  \"/>\n",
       "<polyline clip-path=\"url(#clip3902)\" style=\"stroke:#000000; stroke-width:2; stroke-opacity:0.1; fill:none\" points=\"\n",
       "  153.898,335.29 2352.76,335.29 \n",
       "  \"/>\n",
       "<polyline clip-path=\"url(#clip3902)\" style=\"stroke:#000000; stroke-width:2; stroke-opacity:0.1; fill:none\" points=\"\n",
       "  153.898,47.2441 2352.76,47.2441 \n",
       "  \"/>\n",
       "<polyline clip-path=\"url(#clip3900)\" style=\"stroke:#000000; stroke-width:4; stroke-opacity:1; fill:none\" points=\"\n",
       "  153.898,1487.47 2352.76,1487.47 \n",
       "  \"/>\n",
       "<polyline clip-path=\"url(#clip3900)\" style=\"stroke:#000000; stroke-width:4; stroke-opacity:1; fill:none\" points=\"\n",
       "  153.898,1487.47 153.898,47.2441 \n",
       "  \"/>\n",
       "<polyline clip-path=\"url(#clip3900)\" style=\"stroke:#000000; stroke-width:4; stroke-opacity:1; fill:none\" points=\"\n",
       "  153.898,1487.47 153.898,1470.19 \n",
       "  \"/>\n",
       "<polyline clip-path=\"url(#clip3900)\" style=\"stroke:#000000; stroke-width:4; stroke-opacity:1; fill:none\" points=\"\n",
       "  593.67,1487.47 593.67,1470.19 \n",
       "  \"/>\n",
       "<polyline clip-path=\"url(#clip3900)\" style=\"stroke:#000000; stroke-width:4; stroke-opacity:1; fill:none\" points=\"\n",
       "  1033.44,1487.47 1033.44,1470.19 \n",
       "  \"/>\n",
       "<polyline clip-path=\"url(#clip3900)\" style=\"stroke:#000000; stroke-width:4; stroke-opacity:1; fill:none\" points=\"\n",
       "  1473.21,1487.47 1473.21,1470.19 \n",
       "  \"/>\n",
       "<polyline clip-path=\"url(#clip3900)\" style=\"stroke:#000000; stroke-width:4; stroke-opacity:1; fill:none\" points=\"\n",
       "  1912.98,1487.47 1912.98,1470.19 \n",
       "  \"/>\n",
       "<polyline clip-path=\"url(#clip3900)\" style=\"stroke:#000000; stroke-width:4; stroke-opacity:1; fill:none\" points=\"\n",
       "  2352.76,1487.47 2352.76,1470.19 \n",
       "  \"/>\n",
       "<polyline clip-path=\"url(#clip3900)\" style=\"stroke:#000000; stroke-width:4; stroke-opacity:1; fill:none\" points=\"\n",
       "  153.898,1487.47 180.284,1487.47 \n",
       "  \"/>\n",
       "<polyline clip-path=\"url(#clip3900)\" style=\"stroke:#000000; stroke-width:4; stroke-opacity:1; fill:none\" points=\"\n",
       "  153.898,1199.43 180.284,1199.43 \n",
       "  \"/>\n",
       "<polyline clip-path=\"url(#clip3900)\" style=\"stroke:#000000; stroke-width:4; stroke-opacity:1; fill:none\" points=\"\n",
       "  153.898,911.382 180.284,911.382 \n",
       "  \"/>\n",
       "<polyline clip-path=\"url(#clip3900)\" style=\"stroke:#000000; stroke-width:4; stroke-opacity:1; fill:none\" points=\"\n",
       "  153.898,623.336 180.284,623.336 \n",
       "  \"/>\n",
       "<polyline clip-path=\"url(#clip3900)\" style=\"stroke:#000000; stroke-width:4; stroke-opacity:1; fill:none\" points=\"\n",
       "  153.898,335.29 180.284,335.29 \n",
       "  \"/>\n",
       "<polyline clip-path=\"url(#clip3900)\" style=\"stroke:#000000; stroke-width:4; stroke-opacity:1; fill:none\" points=\"\n",
       "  153.898,47.2441 180.284,47.2441 \n",
       "  \"/>\n",
       "<g clip-path=\"url(#clip3900)\">\n",
       "<text style=\"fill:#000000; fill-opacity:1; font-family:Arial,Helvetica Neue,Helvetica,sans-serif; font-size:48px; text-anchor:middle;\" transform=\"rotate(0, 153.898, 1541.47)\" x=\"153.898\" y=\"1541.47\">0.0</text>\n",
       "</g>\n",
       "<g clip-path=\"url(#clip3900)\">\n",
       "<text style=\"fill:#000000; fill-opacity:1; font-family:Arial,Helvetica Neue,Helvetica,sans-serif; font-size:48px; text-anchor:middle;\" transform=\"rotate(0, 593.67, 1541.47)\" x=\"593.67\" y=\"1541.47\">0.2</text>\n",
       "</g>\n",
       "<g clip-path=\"url(#clip3900)\">\n",
       "<text style=\"fill:#000000; fill-opacity:1; font-family:Arial,Helvetica Neue,Helvetica,sans-serif; font-size:48px; text-anchor:middle;\" transform=\"rotate(0, 1033.44, 1541.47)\" x=\"1033.44\" y=\"1541.47\">0.4</text>\n",
       "</g>\n",
       "<g clip-path=\"url(#clip3900)\">\n",
       "<text style=\"fill:#000000; fill-opacity:1; font-family:Arial,Helvetica Neue,Helvetica,sans-serif; font-size:48px; text-anchor:middle;\" transform=\"rotate(0, 1473.21, 1541.47)\" x=\"1473.21\" y=\"1541.47\">0.6</text>\n",
       "</g>\n",
       "<g clip-path=\"url(#clip3900)\">\n",
       "<text style=\"fill:#000000; fill-opacity:1; font-family:Arial,Helvetica Neue,Helvetica,sans-serif; font-size:48px; text-anchor:middle;\" transform=\"rotate(0, 1912.98, 1541.47)\" x=\"1912.98\" y=\"1541.47\">0.8</text>\n",
       "</g>\n",
       "<g clip-path=\"url(#clip3900)\">\n",
       "<text style=\"fill:#000000; fill-opacity:1; font-family:Arial,Helvetica Neue,Helvetica,sans-serif; font-size:48px; text-anchor:middle;\" transform=\"rotate(0, 2352.76, 1541.47)\" x=\"2352.76\" y=\"1541.47\">1.0</text>\n",
       "</g>\n",
       "<g clip-path=\"url(#clip3900)\">\n",
       "<text style=\"fill:#000000; fill-opacity:1; font-family:Arial,Helvetica Neue,Helvetica,sans-serif; font-size:48px; text-anchor:end;\" transform=\"rotate(0, 129.898, 1504.97)\" x=\"129.898\" y=\"1504.97\">0.0</text>\n",
       "</g>\n",
       "<g clip-path=\"url(#clip3900)\">\n",
       "<text style=\"fill:#000000; fill-opacity:1; font-family:Arial,Helvetica Neue,Helvetica,sans-serif; font-size:48px; text-anchor:end;\" transform=\"rotate(0, 129.898, 1216.93)\" x=\"129.898\" y=\"1216.93\">0.2</text>\n",
       "</g>\n",
       "<g clip-path=\"url(#clip3900)\">\n",
       "<text style=\"fill:#000000; fill-opacity:1; font-family:Arial,Helvetica Neue,Helvetica,sans-serif; font-size:48px; text-anchor:end;\" transform=\"rotate(0, 129.898, 928.882)\" x=\"129.898\" y=\"928.882\">0.4</text>\n",
       "</g>\n",
       "<g clip-path=\"url(#clip3900)\">\n",
       "<text style=\"fill:#000000; fill-opacity:1; font-family:Arial,Helvetica Neue,Helvetica,sans-serif; font-size:48px; text-anchor:end;\" transform=\"rotate(0, 129.898, 640.836)\" x=\"129.898\" y=\"640.836\">0.6</text>\n",
       "</g>\n",
       "<g clip-path=\"url(#clip3900)\">\n",
       "<text style=\"fill:#000000; fill-opacity:1; font-family:Arial,Helvetica Neue,Helvetica,sans-serif; font-size:48px; text-anchor:end;\" transform=\"rotate(0, 129.898, 352.79)\" x=\"129.898\" y=\"352.79\">0.8</text>\n",
       "</g>\n",
       "<g clip-path=\"url(#clip3900)\">\n",
       "<text style=\"fill:#000000; fill-opacity:1; font-family:Arial,Helvetica Neue,Helvetica,sans-serif; font-size:48px; text-anchor:end;\" transform=\"rotate(0, 129.898, 64.7441)\" x=\"129.898\" y=\"64.7441\">1.0</text>\n",
       "</g>\n",
       "<circle clip-path=\"url(#clip3902)\" cx=\"1760.69\" cy=\"371.82\" r=\"14\" fill=\"#009af9\" fill-rule=\"evenodd\" fill-opacity=\"1\" stroke=\"#000000\" stroke-opacity=\"1\" stroke-width=\"3.2\"/>\n",
       "<circle clip-path=\"url(#clip3902)\" cx=\"1854.38\" cy=\"421.597\" r=\"14\" fill=\"#009af9\" fill-rule=\"evenodd\" fill-opacity=\"1\" stroke=\"#000000\" stroke-opacity=\"1\" stroke-width=\"3.2\"/>\n",
       "<circle clip-path=\"url(#clip3902)\" cx=\"1760.69\" cy=\"371.82\" r=\"14\" fill=\"#009af9\" fill-rule=\"evenodd\" fill-opacity=\"1\" stroke=\"#000000\" stroke-opacity=\"1\" stroke-width=\"3.2\"/>\n",
       "<circle clip-path=\"url(#clip3902)\" cx=\"1793.3\" cy=\"375.469\" r=\"14\" fill=\"#009af9\" fill-rule=\"evenodd\" fill-opacity=\"1\" stroke=\"#000000\" stroke-opacity=\"1\" stroke-width=\"3.2\"/>\n",
       "<circle clip-path=\"url(#clip3902)\" cx=\"1801.77\" cy=\"379.067\" r=\"14\" fill=\"#009af9\" fill-rule=\"evenodd\" fill-opacity=\"1\" stroke=\"#000000\" stroke-opacity=\"1\" stroke-width=\"3.2\"/>\n",
       "<circle clip-path=\"url(#clip3902)\" cx=\"1821.94\" cy=\"388.766\" r=\"14\" fill=\"#009af9\" fill-rule=\"evenodd\" fill-opacity=\"1\" stroke=\"#000000\" stroke-opacity=\"1\" stroke-width=\"3.2\"/>\n",
       "<circle clip-path=\"url(#clip3902)\" cx=\"1845.37\" cy=\"401.217\" r=\"14\" fill=\"#009af9\" fill-rule=\"evenodd\" fill-opacity=\"1\" stroke=\"#000000\" stroke-opacity=\"1\" stroke-width=\"3.2\"/>\n",
       "<circle clip-path=\"url(#clip3902)\" cx=\"1823.17\" cy=\"393.492\" r=\"14\" fill=\"#009af9\" fill-rule=\"evenodd\" fill-opacity=\"1\" stroke=\"#000000\" stroke-opacity=\"1\" stroke-width=\"3.2\"/>\n",
       "<circle clip-path=\"url(#clip3902)\" cx=\"1854.38\" cy=\"421.597\" r=\"14\" fill=\"#009af9\" fill-rule=\"evenodd\" fill-opacity=\"1\" stroke=\"#000000\" stroke-opacity=\"1\" stroke-width=\"3.2\"/>\n",
       "<circle clip-path=\"url(#clip3902)\" cx=\"1850.84\" cy=\"410.174\" r=\"14\" fill=\"#009af9\" fill-rule=\"evenodd\" fill-opacity=\"1\" stroke=\"#000000\" stroke-opacity=\"1\" stroke-width=\"3.2\"/>\n",
       "<circle clip-path=\"url(#clip3902)\" cx=\"1845.37\" cy=\"401.217\" r=\"14\" fill=\"#009af9\" fill-rule=\"evenodd\" fill-opacity=\"1\" stroke=\"#000000\" stroke-opacity=\"1\" stroke-width=\"3.2\"/>\n",
       "<circle clip-path=\"url(#clip3902)\" cx=\"1850.84\" cy=\"410.174\" r=\"14\" fill=\"#009af9\" fill-rule=\"evenodd\" fill-opacity=\"1\" stroke=\"#000000\" stroke-opacity=\"1\" stroke-width=\"3.2\"/>\n",
       "<circle clip-path=\"url(#clip3902)\" cx=\"1793.3\" cy=\"375.469\" r=\"14\" fill=\"#009af9\" fill-rule=\"evenodd\" fill-opacity=\"1\" stroke=\"#000000\" stroke-opacity=\"1\" stroke-width=\"3.2\"/>\n",
       "<circle clip-path=\"url(#clip3902)\" cx=\"1801.77\" cy=\"379.067\" r=\"14\" fill=\"#009af9\" fill-rule=\"evenodd\" fill-opacity=\"1\" stroke=\"#000000\" stroke-opacity=\"1\" stroke-width=\"3.2\"/>\n",
       "<circle clip-path=\"url(#clip3902)\" cx=\"1822.15\" cy=\"390.968\" r=\"14\" fill=\"#009af9\" fill-rule=\"evenodd\" fill-opacity=\"1\" stroke=\"#000000\" stroke-opacity=\"1\" stroke-width=\"3.2\"/>\n",
       "<circle clip-path=\"url(#clip3902)\" cx=\"1823.17\" cy=\"393.492\" r=\"14\" fill=\"#009af9\" fill-rule=\"evenodd\" fill-opacity=\"1\" stroke=\"#000000\" stroke-opacity=\"1\" stroke-width=\"3.2\"/>\n",
       "<circle clip-path=\"url(#clip3902)\" cx=\"1821.94\" cy=\"388.766\" r=\"14\" fill=\"#009af9\" fill-rule=\"evenodd\" fill-opacity=\"1\" stroke=\"#000000\" stroke-opacity=\"1\" stroke-width=\"3.2\"/>\n",
       "<circle clip-path=\"url(#clip3902)\" cx=\"1822.15\" cy=\"390.968\" r=\"14\" fill=\"#009af9\" fill-rule=\"evenodd\" fill-opacity=\"1\" stroke=\"#000000\" stroke-opacity=\"1\" stroke-width=\"3.2\"/>\n",
       "<circle clip-path=\"url(#clip3902)\" cx=\"1854.38\" cy=\"421.597\" r=\"14\" fill=\"#009af9\" fill-rule=\"evenodd\" fill-opacity=\"1\" stroke=\"#000000\" stroke-opacity=\"1\" stroke-width=\"3.2\"/>\n",
       "<circle clip-path=\"url(#clip3902)\" cx=\"1854.38\" cy=\"421.597\" r=\"14\" fill=\"#009af9\" fill-rule=\"evenodd\" fill-opacity=\"1\" stroke=\"#000000\" stroke-opacity=\"1\" stroke-width=\"3.2\"/>\n",
       "<circle clip-path=\"url(#clip3902)\" cx=\"1854.38\" cy=\"421.597\" r=\"14\" fill=\"#009af9\" fill-rule=\"evenodd\" fill-opacity=\"1\" stroke=\"#000000\" stroke-opacity=\"1\" stroke-width=\"3.2\"/>\n",
       "<circle clip-path=\"url(#clip3902)\" cx=\"1854.38\" cy=\"421.597\" r=\"14\" fill=\"#009af9\" fill-rule=\"evenodd\" fill-opacity=\"1\" stroke=\"#000000\" stroke-opacity=\"1\" stroke-width=\"3.2\"/>\n",
       "<circle clip-path=\"url(#clip3902)\" cx=\"1854.38\" cy=\"421.597\" r=\"14\" fill=\"#009af9\" fill-rule=\"evenodd\" fill-opacity=\"1\" stroke=\"#000000\" stroke-opacity=\"1\" stroke-width=\"3.2\"/>\n",
       "<circle clip-path=\"url(#clip3902)\" cx=\"1854.38\" cy=\"421.597\" r=\"14\" fill=\"#009af9\" fill-rule=\"evenodd\" fill-opacity=\"1\" stroke=\"#000000\" stroke-opacity=\"1\" stroke-width=\"3.2\"/>\n",
       "<circle clip-path=\"url(#clip3902)\" cx=\"1854.38\" cy=\"421.597\" r=\"14\" fill=\"#009af9\" fill-rule=\"evenodd\" fill-opacity=\"1\" stroke=\"#000000\" stroke-opacity=\"1\" stroke-width=\"3.2\"/>\n",
       "<circle clip-path=\"url(#clip3902)\" cx=\"1854.38\" cy=\"421.597\" r=\"14\" fill=\"#009af9\" fill-rule=\"evenodd\" fill-opacity=\"1\" stroke=\"#000000\" stroke-opacity=\"1\" stroke-width=\"3.2\"/>\n",
       "<circle clip-path=\"url(#clip3902)\" cx=\"1854.38\" cy=\"421.597\" r=\"14\" fill=\"#009af9\" fill-rule=\"evenodd\" fill-opacity=\"1\" stroke=\"#000000\" stroke-opacity=\"1\" stroke-width=\"3.2\"/>\n",
       "<circle clip-path=\"url(#clip3902)\" cx=\"1854.38\" cy=\"421.597\" r=\"14\" fill=\"#009af9\" fill-rule=\"evenodd\" fill-opacity=\"1\" stroke=\"#000000\" stroke-opacity=\"1\" stroke-width=\"3.2\"/>\n",
       "<circle clip-path=\"url(#clip3902)\" cx=\"1854.38\" cy=\"421.597\" r=\"14\" fill=\"#009af9\" fill-rule=\"evenodd\" fill-opacity=\"1\" stroke=\"#000000\" stroke-opacity=\"1\" stroke-width=\"3.2\"/>\n",
       "<circle clip-path=\"url(#clip3902)\" cx=\"1854.38\" cy=\"421.597\" r=\"14\" fill=\"#009af9\" fill-rule=\"evenodd\" fill-opacity=\"1\" stroke=\"#000000\" stroke-opacity=\"1\" stroke-width=\"3.2\"/>\n",
       "<circle clip-path=\"url(#clip3902)\" cx=\"1854.38\" cy=\"421.597\" r=\"14\" fill=\"#009af9\" fill-rule=\"evenodd\" fill-opacity=\"1\" stroke=\"#000000\" stroke-opacity=\"1\" stroke-width=\"3.2\"/>\n",
       "<circle clip-path=\"url(#clip3902)\" cx=\"1854.38\" cy=\"421.597\" r=\"14\" fill=\"#009af9\" fill-rule=\"evenodd\" fill-opacity=\"1\" stroke=\"#000000\" stroke-opacity=\"1\" stroke-width=\"3.2\"/>\n",
       "<circle clip-path=\"url(#clip3902)\" cx=\"1854.38\" cy=\"421.597\" r=\"14\" fill=\"#009af9\" fill-rule=\"evenodd\" fill-opacity=\"1\" stroke=\"#000000\" stroke-opacity=\"1\" stroke-width=\"3.2\"/>\n",
       "<circle clip-path=\"url(#clip3902)\" cx=\"1854.38\" cy=\"421.597\" r=\"14\" fill=\"#009af9\" fill-rule=\"evenodd\" fill-opacity=\"1\" stroke=\"#000000\" stroke-opacity=\"1\" stroke-width=\"3.2\"/>\n",
       "<circle clip-path=\"url(#clip3902)\" cx=\"1854.38\" cy=\"421.597\" r=\"14\" fill=\"#009af9\" fill-rule=\"evenodd\" fill-opacity=\"1\" stroke=\"#000000\" stroke-opacity=\"1\" stroke-width=\"3.2\"/>\n",
       "<circle clip-path=\"url(#clip3902)\" cx=\"1854.38\" cy=\"421.597\" r=\"14\" fill=\"#009af9\" fill-rule=\"evenodd\" fill-opacity=\"1\" stroke=\"#000000\" stroke-opacity=\"1\" stroke-width=\"3.2\"/>\n",
       "<circle clip-path=\"url(#clip3902)\" cx=\"1854.38\" cy=\"421.597\" r=\"14\" fill=\"#009af9\" fill-rule=\"evenodd\" fill-opacity=\"1\" stroke=\"#000000\" stroke-opacity=\"1\" stroke-width=\"3.2\"/>\n",
       "<circle clip-path=\"url(#clip3902)\" cx=\"1854.38\" cy=\"421.597\" r=\"14\" fill=\"#009af9\" fill-rule=\"evenodd\" fill-opacity=\"1\" stroke=\"#000000\" stroke-opacity=\"1\" stroke-width=\"3.2\"/>\n",
       "<circle clip-path=\"url(#clip3902)\" cx=\"1854.38\" cy=\"421.597\" r=\"14\" fill=\"#009af9\" fill-rule=\"evenodd\" fill-opacity=\"1\" stroke=\"#000000\" stroke-opacity=\"1\" stroke-width=\"3.2\"/>\n",
       "<circle clip-path=\"url(#clip3902)\" cx=\"1854.38\" cy=\"421.597\" r=\"14\" fill=\"#009af9\" fill-rule=\"evenodd\" fill-opacity=\"1\" stroke=\"#000000\" stroke-opacity=\"1\" stroke-width=\"3.2\"/>\n",
       "<circle clip-path=\"url(#clip3902)\" cx=\"1854.38\" cy=\"421.597\" r=\"14\" fill=\"#009af9\" fill-rule=\"evenodd\" fill-opacity=\"1\" stroke=\"#000000\" stroke-opacity=\"1\" stroke-width=\"3.2\"/>\n",
       "<circle clip-path=\"url(#clip3902)\" cx=\"1854.38\" cy=\"421.597\" r=\"14\" fill=\"#009af9\" fill-rule=\"evenodd\" fill-opacity=\"1\" stroke=\"#000000\" stroke-opacity=\"1\" stroke-width=\"3.2\"/>\n",
       "<circle clip-path=\"url(#clip3902)\" cx=\"1854.38\" cy=\"421.597\" r=\"14\" fill=\"#009af9\" fill-rule=\"evenodd\" fill-opacity=\"1\" stroke=\"#000000\" stroke-opacity=\"1\" stroke-width=\"3.2\"/>\n",
       "<circle clip-path=\"url(#clip3902)\" cx=\"1854.38\" cy=\"421.597\" r=\"14\" fill=\"#009af9\" fill-rule=\"evenodd\" fill-opacity=\"1\" stroke=\"#000000\" stroke-opacity=\"1\" stroke-width=\"3.2\"/>\n",
       "<circle clip-path=\"url(#clip3902)\" cx=\"1854.38\" cy=\"421.597\" r=\"14\" fill=\"#009af9\" fill-rule=\"evenodd\" fill-opacity=\"1\" stroke=\"#000000\" stroke-opacity=\"1\" stroke-width=\"3.2\"/>\n",
       "<circle clip-path=\"url(#clip3902)\" cx=\"1854.38\" cy=\"421.597\" r=\"14\" fill=\"#009af9\" fill-rule=\"evenodd\" fill-opacity=\"1\" stroke=\"#000000\" stroke-opacity=\"1\" stroke-width=\"3.2\"/>\n",
       "<circle clip-path=\"url(#clip3902)\" cx=\"1854.38\" cy=\"421.597\" r=\"14\" fill=\"#009af9\" fill-rule=\"evenodd\" fill-opacity=\"1\" stroke=\"#000000\" stroke-opacity=\"1\" stroke-width=\"3.2\"/>\n",
       "<circle clip-path=\"url(#clip3902)\" cx=\"1854.38\" cy=\"421.597\" r=\"14\" fill=\"#009af9\" fill-rule=\"evenodd\" fill-opacity=\"1\" stroke=\"#000000\" stroke-opacity=\"1\" stroke-width=\"3.2\"/>\n",
       "<circle clip-path=\"url(#clip3902)\" cx=\"1854.38\" cy=\"421.597\" r=\"14\" fill=\"#009af9\" fill-rule=\"evenodd\" fill-opacity=\"1\" stroke=\"#000000\" stroke-opacity=\"1\" stroke-width=\"3.2\"/>\n",
       "<circle clip-path=\"url(#clip3902)\" cx=\"1854.38\" cy=\"421.597\" r=\"14\" fill=\"#009af9\" fill-rule=\"evenodd\" fill-opacity=\"1\" stroke=\"#000000\" stroke-opacity=\"1\" stroke-width=\"3.2\"/>\n",
       "<circle clip-path=\"url(#clip3902)\" cx=\"1854.38\" cy=\"421.597\" r=\"14\" fill=\"#009af9\" fill-rule=\"evenodd\" fill-opacity=\"1\" stroke=\"#000000\" stroke-opacity=\"1\" stroke-width=\"3.2\"/>\n",
       "<circle clip-path=\"url(#clip3902)\" cx=\"1854.38\" cy=\"421.597\" r=\"14\" fill=\"#009af9\" fill-rule=\"evenodd\" fill-opacity=\"1\" stroke=\"#000000\" stroke-opacity=\"1\" stroke-width=\"3.2\"/>\n",
       "<circle clip-path=\"url(#clip3902)\" cx=\"1854.38\" cy=\"421.597\" r=\"14\" fill=\"#009af9\" fill-rule=\"evenodd\" fill-opacity=\"1\" stroke=\"#000000\" stroke-opacity=\"1\" stroke-width=\"3.2\"/>\n",
       "<circle clip-path=\"url(#clip3902)\" cx=\"1854.38\" cy=\"421.597\" r=\"14\" fill=\"#009af9\" fill-rule=\"evenodd\" fill-opacity=\"1\" stroke=\"#000000\" stroke-opacity=\"1\" stroke-width=\"3.2\"/>\n",
       "<circle clip-path=\"url(#clip3902)\" cx=\"1854.38\" cy=\"421.597\" r=\"14\" fill=\"#009af9\" fill-rule=\"evenodd\" fill-opacity=\"1\" stroke=\"#000000\" stroke-opacity=\"1\" stroke-width=\"3.2\"/>\n",
       "<circle clip-path=\"url(#clip3902)\" cx=\"1854.38\" cy=\"421.597\" r=\"14\" fill=\"#009af9\" fill-rule=\"evenodd\" fill-opacity=\"1\" stroke=\"#000000\" stroke-opacity=\"1\" stroke-width=\"3.2\"/>\n",
       "<circle clip-path=\"url(#clip3902)\" cx=\"1854.38\" cy=\"421.597\" r=\"14\" fill=\"#009af9\" fill-rule=\"evenodd\" fill-opacity=\"1\" stroke=\"#000000\" stroke-opacity=\"1\" stroke-width=\"3.2\"/>\n",
       "<circle clip-path=\"url(#clip3902)\" cx=\"1854.38\" cy=\"421.597\" r=\"14\" fill=\"#009af9\" fill-rule=\"evenodd\" fill-opacity=\"1\" stroke=\"#000000\" stroke-opacity=\"1\" stroke-width=\"3.2\"/>\n",
       "<circle clip-path=\"url(#clip3902)\" cx=\"1854.38\" cy=\"421.597\" r=\"14\" fill=\"#009af9\" fill-rule=\"evenodd\" fill-opacity=\"1\" stroke=\"#000000\" stroke-opacity=\"1\" stroke-width=\"3.2\"/>\n",
       "<circle clip-path=\"url(#clip3902)\" cx=\"1854.38\" cy=\"421.597\" r=\"14\" fill=\"#009af9\" fill-rule=\"evenodd\" fill-opacity=\"1\" stroke=\"#000000\" stroke-opacity=\"1\" stroke-width=\"3.2\"/>\n",
       "<circle clip-path=\"url(#clip3902)\" cx=\"1854.38\" cy=\"421.597\" r=\"14\" fill=\"#009af9\" fill-rule=\"evenodd\" fill-opacity=\"1\" stroke=\"#000000\" stroke-opacity=\"1\" stroke-width=\"3.2\"/>\n",
       "<circle clip-path=\"url(#clip3902)\" cx=\"1854.38\" cy=\"421.597\" r=\"14\" fill=\"#009af9\" fill-rule=\"evenodd\" fill-opacity=\"1\" stroke=\"#000000\" stroke-opacity=\"1\" stroke-width=\"3.2\"/>\n",
       "<circle clip-path=\"url(#clip3902)\" cx=\"1854.38\" cy=\"421.597\" r=\"14\" fill=\"#009af9\" fill-rule=\"evenodd\" fill-opacity=\"1\" stroke=\"#000000\" stroke-opacity=\"1\" stroke-width=\"3.2\"/>\n",
       "<circle clip-path=\"url(#clip3902)\" cx=\"1854.38\" cy=\"421.597\" r=\"14\" fill=\"#009af9\" fill-rule=\"evenodd\" fill-opacity=\"1\" stroke=\"#000000\" stroke-opacity=\"1\" stroke-width=\"3.2\"/>\n",
       "<circle clip-path=\"url(#clip3902)\" cx=\"1854.38\" cy=\"421.597\" r=\"14\" fill=\"#009af9\" fill-rule=\"evenodd\" fill-opacity=\"1\" stroke=\"#000000\" stroke-opacity=\"1\" stroke-width=\"3.2\"/>\n",
       "<circle clip-path=\"url(#clip3902)\" cx=\"1854.38\" cy=\"421.597\" r=\"14\" fill=\"#009af9\" fill-rule=\"evenodd\" fill-opacity=\"1\" stroke=\"#000000\" stroke-opacity=\"1\" stroke-width=\"3.2\"/>\n",
       "<circle clip-path=\"url(#clip3902)\" cx=\"1854.38\" cy=\"421.597\" r=\"14\" fill=\"#009af9\" fill-rule=\"evenodd\" fill-opacity=\"1\" stroke=\"#000000\" stroke-opacity=\"1\" stroke-width=\"3.2\"/>\n",
       "<circle clip-path=\"url(#clip3902)\" cx=\"1854.38\" cy=\"421.597\" r=\"14\" fill=\"#009af9\" fill-rule=\"evenodd\" fill-opacity=\"1\" stroke=\"#000000\" stroke-opacity=\"1\" stroke-width=\"3.2\"/>\n",
       "<circle clip-path=\"url(#clip3902)\" cx=\"1854.38\" cy=\"421.597\" r=\"14\" fill=\"#009af9\" fill-rule=\"evenodd\" fill-opacity=\"1\" stroke=\"#000000\" stroke-opacity=\"1\" stroke-width=\"3.2\"/>\n",
       "<circle clip-path=\"url(#clip3902)\" cx=\"1854.38\" cy=\"421.597\" r=\"14\" fill=\"#009af9\" fill-rule=\"evenodd\" fill-opacity=\"1\" stroke=\"#000000\" stroke-opacity=\"1\" stroke-width=\"3.2\"/>\n",
       "<circle clip-path=\"url(#clip3902)\" cx=\"1854.38\" cy=\"421.597\" r=\"14\" fill=\"#009af9\" fill-rule=\"evenodd\" fill-opacity=\"1\" stroke=\"#000000\" stroke-opacity=\"1\" stroke-width=\"3.2\"/>\n",
       "<circle clip-path=\"url(#clip3902)\" cx=\"1854.38\" cy=\"421.597\" r=\"14\" fill=\"#009af9\" fill-rule=\"evenodd\" fill-opacity=\"1\" stroke=\"#000000\" stroke-opacity=\"1\" stroke-width=\"3.2\"/>\n",
       "<circle clip-path=\"url(#clip3902)\" cx=\"1854.38\" cy=\"421.597\" r=\"14\" fill=\"#009af9\" fill-rule=\"evenodd\" fill-opacity=\"1\" stroke=\"#000000\" stroke-opacity=\"1\" stroke-width=\"3.2\"/>\n",
       "<circle clip-path=\"url(#clip3902)\" cx=\"1854.38\" cy=\"421.597\" r=\"14\" fill=\"#009af9\" fill-rule=\"evenodd\" fill-opacity=\"1\" stroke=\"#000000\" stroke-opacity=\"1\" stroke-width=\"3.2\"/>\n",
       "<circle clip-path=\"url(#clip3902)\" cx=\"1854.38\" cy=\"421.597\" r=\"14\" fill=\"#009af9\" fill-rule=\"evenodd\" fill-opacity=\"1\" stroke=\"#000000\" stroke-opacity=\"1\" stroke-width=\"3.2\"/>\n",
       "<circle clip-path=\"url(#clip3902)\" cx=\"1854.38\" cy=\"421.597\" r=\"14\" fill=\"#009af9\" fill-rule=\"evenodd\" fill-opacity=\"1\" stroke=\"#000000\" stroke-opacity=\"1\" stroke-width=\"3.2\"/>\n",
       "<circle clip-path=\"url(#clip3902)\" cx=\"1854.38\" cy=\"421.597\" r=\"14\" fill=\"#009af9\" fill-rule=\"evenodd\" fill-opacity=\"1\" stroke=\"#000000\" stroke-opacity=\"1\" stroke-width=\"3.2\"/>\n",
       "<circle clip-path=\"url(#clip3902)\" cx=\"1854.38\" cy=\"421.597\" r=\"14\" fill=\"#009af9\" fill-rule=\"evenodd\" fill-opacity=\"1\" stroke=\"#000000\" stroke-opacity=\"1\" stroke-width=\"3.2\"/>\n",
       "<circle clip-path=\"url(#clip3902)\" cx=\"1854.38\" cy=\"421.597\" r=\"14\" fill=\"#009af9\" fill-rule=\"evenodd\" fill-opacity=\"1\" stroke=\"#000000\" stroke-opacity=\"1\" stroke-width=\"3.2\"/>\n",
       "<circle clip-path=\"url(#clip3902)\" cx=\"1854.38\" cy=\"421.597\" r=\"14\" fill=\"#009af9\" fill-rule=\"evenodd\" fill-opacity=\"1\" stroke=\"#000000\" stroke-opacity=\"1\" stroke-width=\"3.2\"/>\n",
       "<circle clip-path=\"url(#clip3902)\" cx=\"1854.38\" cy=\"421.597\" r=\"14\" fill=\"#009af9\" fill-rule=\"evenodd\" fill-opacity=\"1\" stroke=\"#000000\" stroke-opacity=\"1\" stroke-width=\"3.2\"/>\n",
       "<circle clip-path=\"url(#clip3902)\" cx=\"1854.38\" cy=\"421.597\" r=\"14\" fill=\"#009af9\" fill-rule=\"evenodd\" fill-opacity=\"1\" stroke=\"#000000\" stroke-opacity=\"1\" stroke-width=\"3.2\"/>\n",
       "<circle clip-path=\"url(#clip3902)\" cx=\"1854.38\" cy=\"421.597\" r=\"14\" fill=\"#009af9\" fill-rule=\"evenodd\" fill-opacity=\"1\" stroke=\"#000000\" stroke-opacity=\"1\" stroke-width=\"3.2\"/>\n",
       "<circle clip-path=\"url(#clip3902)\" cx=\"1854.38\" cy=\"421.597\" r=\"14\" fill=\"#009af9\" fill-rule=\"evenodd\" fill-opacity=\"1\" stroke=\"#000000\" stroke-opacity=\"1\" stroke-width=\"3.2\"/>\n",
       "<circle clip-path=\"url(#clip3902)\" cx=\"1854.38\" cy=\"421.597\" r=\"14\" fill=\"#009af9\" fill-rule=\"evenodd\" fill-opacity=\"1\" stroke=\"#000000\" stroke-opacity=\"1\" stroke-width=\"3.2\"/>\n",
       "<circle clip-path=\"url(#clip3902)\" cx=\"1854.38\" cy=\"421.597\" r=\"14\" fill=\"#009af9\" fill-rule=\"evenodd\" fill-opacity=\"1\" stroke=\"#000000\" stroke-opacity=\"1\" stroke-width=\"3.2\"/>\n",
       "<circle clip-path=\"url(#clip3902)\" cx=\"1854.38\" cy=\"421.597\" r=\"14\" fill=\"#009af9\" fill-rule=\"evenodd\" fill-opacity=\"1\" stroke=\"#000000\" stroke-opacity=\"1\" stroke-width=\"3.2\"/>\n",
       "<circle clip-path=\"url(#clip3902)\" cx=\"1854.38\" cy=\"421.597\" r=\"14\" fill=\"#009af9\" fill-rule=\"evenodd\" fill-opacity=\"1\" stroke=\"#000000\" stroke-opacity=\"1\" stroke-width=\"3.2\"/>\n",
       "<circle clip-path=\"url(#clip3902)\" cx=\"1854.38\" cy=\"421.597\" r=\"14\" fill=\"#009af9\" fill-rule=\"evenodd\" fill-opacity=\"1\" stroke=\"#000000\" stroke-opacity=\"1\" stroke-width=\"3.2\"/>\n",
       "<circle clip-path=\"url(#clip3902)\" cx=\"1854.38\" cy=\"421.597\" r=\"14\" fill=\"#009af9\" fill-rule=\"evenodd\" fill-opacity=\"1\" stroke=\"#000000\" stroke-opacity=\"1\" stroke-width=\"3.2\"/>\n",
       "<circle clip-path=\"url(#clip3902)\" cx=\"1854.38\" cy=\"421.597\" r=\"14\" fill=\"#009af9\" fill-rule=\"evenodd\" fill-opacity=\"1\" stroke=\"#000000\" stroke-opacity=\"1\" stroke-width=\"3.2\"/>\n",
       "<circle clip-path=\"url(#clip3902)\" cx=\"1854.38\" cy=\"421.597\" r=\"14\" fill=\"#009af9\" fill-rule=\"evenodd\" fill-opacity=\"1\" stroke=\"#000000\" stroke-opacity=\"1\" stroke-width=\"3.2\"/>\n",
       "<circle clip-path=\"url(#clip3902)\" cx=\"1854.38\" cy=\"421.597\" r=\"14\" fill=\"#009af9\" fill-rule=\"evenodd\" fill-opacity=\"1\" stroke=\"#000000\" stroke-opacity=\"1\" stroke-width=\"3.2\"/>\n",
       "<circle clip-path=\"url(#clip3902)\" cx=\"1854.38\" cy=\"421.597\" r=\"14\" fill=\"#009af9\" fill-rule=\"evenodd\" fill-opacity=\"1\" stroke=\"#000000\" stroke-opacity=\"1\" stroke-width=\"3.2\"/>\n",
       "<circle clip-path=\"url(#clip3902)\" cx=\"1854.38\" cy=\"421.597\" r=\"14\" fill=\"#009af9\" fill-rule=\"evenodd\" fill-opacity=\"1\" stroke=\"#000000\" stroke-opacity=\"1\" stroke-width=\"3.2\"/>\n",
       "<circle clip-path=\"url(#clip3902)\" cx=\"1854.38\" cy=\"421.597\" r=\"14\" fill=\"#009af9\" fill-rule=\"evenodd\" fill-opacity=\"1\" stroke=\"#000000\" stroke-opacity=\"1\" stroke-width=\"3.2\"/>\n",
       "<circle clip-path=\"url(#clip3902)\" cx=\"1854.38\" cy=\"421.597\" r=\"14\" fill=\"#009af9\" fill-rule=\"evenodd\" fill-opacity=\"1\" stroke=\"#000000\" stroke-opacity=\"1\" stroke-width=\"3.2\"/>\n",
       "<circle clip-path=\"url(#clip3902)\" cx=\"1854.38\" cy=\"421.597\" r=\"14\" fill=\"#009af9\" fill-rule=\"evenodd\" fill-opacity=\"1\" stroke=\"#000000\" stroke-opacity=\"1\" stroke-width=\"3.2\"/>\n",
       "<circle clip-path=\"url(#clip3902)\" cx=\"1854.38\" cy=\"421.597\" r=\"14\" fill=\"#009af9\" fill-rule=\"evenodd\" fill-opacity=\"1\" stroke=\"#000000\" stroke-opacity=\"1\" stroke-width=\"3.2\"/>\n",
       "<circle clip-path=\"url(#clip3902)\" cx=\"1854.38\" cy=\"421.597\" r=\"14\" fill=\"#009af9\" fill-rule=\"evenodd\" fill-opacity=\"1\" stroke=\"#000000\" stroke-opacity=\"1\" stroke-width=\"3.2\"/>\n",
       "<circle clip-path=\"url(#clip3902)\" cx=\"1854.38\" cy=\"421.597\" r=\"14\" fill=\"#009af9\" fill-rule=\"evenodd\" fill-opacity=\"1\" stroke=\"#000000\" stroke-opacity=\"1\" stroke-width=\"3.2\"/>\n",
       "<circle clip-path=\"url(#clip3902)\" cx=\"1760.69\" cy=\"371.82\" r=\"14\" fill=\"#009af9\" fill-rule=\"evenodd\" fill-opacity=\"1\" stroke=\"#000000\" stroke-opacity=\"1\" stroke-width=\"3.2\"/>\n",
       "<circle clip-path=\"url(#clip3902)\" cx=\"1854.38\" cy=\"421.597\" r=\"14\" fill=\"#009af9\" fill-rule=\"evenodd\" fill-opacity=\"1\" stroke=\"#000000\" stroke-opacity=\"1\" stroke-width=\"3.2\"/>\n",
       "<circle clip-path=\"url(#clip3902)\" cx=\"1854.38\" cy=\"421.597\" r=\"14\" fill=\"#009af9\" fill-rule=\"evenodd\" fill-opacity=\"1\" stroke=\"#000000\" stroke-opacity=\"1\" stroke-width=\"3.2\"/>\n",
       "<circle clip-path=\"url(#clip3902)\" cx=\"1854.38\" cy=\"421.597\" r=\"14\" fill=\"#009af9\" fill-rule=\"evenodd\" fill-opacity=\"1\" stroke=\"#000000\" stroke-opacity=\"1\" stroke-width=\"3.2\"/>\n",
       "<circle clip-path=\"url(#clip3902)\" cx=\"1854.38\" cy=\"421.597\" r=\"14\" fill=\"#009af9\" fill-rule=\"evenodd\" fill-opacity=\"1\" stroke=\"#000000\" stroke-opacity=\"1\" stroke-width=\"3.2\"/>\n",
       "<circle clip-path=\"url(#clip3902)\" cx=\"1854.38\" cy=\"421.597\" r=\"14\" fill=\"#009af9\" fill-rule=\"evenodd\" fill-opacity=\"1\" stroke=\"#000000\" stroke-opacity=\"1\" stroke-width=\"3.2\"/>\n",
       "<circle clip-path=\"url(#clip3902)\" cx=\"1854.38\" cy=\"421.597\" r=\"14\" fill=\"#009af9\" fill-rule=\"evenodd\" fill-opacity=\"1\" stroke=\"#000000\" stroke-opacity=\"1\" stroke-width=\"3.2\"/>\n",
       "<circle clip-path=\"url(#clip3902)\" cx=\"1854.38\" cy=\"421.597\" r=\"14\" fill=\"#009af9\" fill-rule=\"evenodd\" fill-opacity=\"1\" stroke=\"#000000\" stroke-opacity=\"1\" stroke-width=\"3.2\"/>\n",
       "<circle clip-path=\"url(#clip3902)\" cx=\"1854.38\" cy=\"421.597\" r=\"14\" fill=\"#009af9\" fill-rule=\"evenodd\" fill-opacity=\"1\" stroke=\"#000000\" stroke-opacity=\"1\" stroke-width=\"3.2\"/>\n",
       "<circle clip-path=\"url(#clip3902)\" cx=\"1760.69\" cy=\"371.82\" r=\"14\" fill=\"#009af9\" fill-rule=\"evenodd\" fill-opacity=\"1\" stroke=\"#000000\" stroke-opacity=\"1\" stroke-width=\"3.2\"/>\n",
       "<circle clip-path=\"url(#clip3902)\" cx=\"1854.38\" cy=\"421.597\" r=\"14\" fill=\"#009af9\" fill-rule=\"evenodd\" fill-opacity=\"1\" stroke=\"#000000\" stroke-opacity=\"1\" stroke-width=\"3.2\"/>\n",
       "<circle clip-path=\"url(#clip3902)\" cx=\"1854.38\" cy=\"421.597\" r=\"14\" fill=\"#009af9\" fill-rule=\"evenodd\" fill-opacity=\"1\" stroke=\"#000000\" stroke-opacity=\"1\" stroke-width=\"3.2\"/>\n",
       "<circle clip-path=\"url(#clip3902)\" cx=\"1854.38\" cy=\"421.597\" r=\"14\" fill=\"#009af9\" fill-rule=\"evenodd\" fill-opacity=\"1\" stroke=\"#000000\" stroke-opacity=\"1\" stroke-width=\"3.2\"/>\n",
       "<circle clip-path=\"url(#clip3902)\" cx=\"1854.38\" cy=\"421.597\" r=\"14\" fill=\"#009af9\" fill-rule=\"evenodd\" fill-opacity=\"1\" stroke=\"#000000\" stroke-opacity=\"1\" stroke-width=\"3.2\"/>\n",
       "<circle clip-path=\"url(#clip3902)\" cx=\"1854.38\" cy=\"421.597\" r=\"14\" fill=\"#009af9\" fill-rule=\"evenodd\" fill-opacity=\"1\" stroke=\"#000000\" stroke-opacity=\"1\" stroke-width=\"3.2\"/>\n",
       "<circle clip-path=\"url(#clip3902)\" cx=\"1854.38\" cy=\"421.597\" r=\"14\" fill=\"#009af9\" fill-rule=\"evenodd\" fill-opacity=\"1\" stroke=\"#000000\" stroke-opacity=\"1\" stroke-width=\"3.2\"/>\n",
       "<circle clip-path=\"url(#clip3902)\" cx=\"1854.38\" cy=\"421.597\" r=\"14\" fill=\"#009af9\" fill-rule=\"evenodd\" fill-opacity=\"1\" stroke=\"#000000\" stroke-opacity=\"1\" stroke-width=\"3.2\"/>\n",
       "<circle clip-path=\"url(#clip3902)\" cx=\"1854.38\" cy=\"421.597\" r=\"14\" fill=\"#009af9\" fill-rule=\"evenodd\" fill-opacity=\"1\" stroke=\"#000000\" stroke-opacity=\"1\" stroke-width=\"3.2\"/>\n",
       "<circle clip-path=\"url(#clip3902)\" cx=\"1854.38\" cy=\"421.597\" r=\"14\" fill=\"#009af9\" fill-rule=\"evenodd\" fill-opacity=\"1\" stroke=\"#000000\" stroke-opacity=\"1\" stroke-width=\"3.2\"/>\n",
       "<circle clip-path=\"url(#clip3902)\" cx=\"1854.38\" cy=\"421.597\" r=\"14\" fill=\"#009af9\" fill-rule=\"evenodd\" fill-opacity=\"1\" stroke=\"#000000\" stroke-opacity=\"1\" stroke-width=\"3.2\"/>\n",
       "<circle clip-path=\"url(#clip3902)\" cx=\"1854.38\" cy=\"421.597\" r=\"14\" fill=\"#009af9\" fill-rule=\"evenodd\" fill-opacity=\"1\" stroke=\"#000000\" stroke-opacity=\"1\" stroke-width=\"3.2\"/>\n",
       "<circle clip-path=\"url(#clip3902)\" cx=\"1854.38\" cy=\"421.597\" r=\"14\" fill=\"#009af9\" fill-rule=\"evenodd\" fill-opacity=\"1\" stroke=\"#000000\" stroke-opacity=\"1\" stroke-width=\"3.2\"/>\n",
       "<circle clip-path=\"url(#clip3902)\" cx=\"1854.38\" cy=\"421.597\" r=\"14\" fill=\"#009af9\" fill-rule=\"evenodd\" fill-opacity=\"1\" stroke=\"#000000\" stroke-opacity=\"1\" stroke-width=\"3.2\"/>\n",
       "<circle clip-path=\"url(#clip3902)\" cx=\"1854.38\" cy=\"421.597\" r=\"14\" fill=\"#009af9\" fill-rule=\"evenodd\" fill-opacity=\"1\" stroke=\"#000000\" stroke-opacity=\"1\" stroke-width=\"3.2\"/>\n",
       "<circle clip-path=\"url(#clip3902)\" cx=\"1854.38\" cy=\"421.597\" r=\"14\" fill=\"#009af9\" fill-rule=\"evenodd\" fill-opacity=\"1\" stroke=\"#000000\" stroke-opacity=\"1\" stroke-width=\"3.2\"/>\n",
       "<circle clip-path=\"url(#clip3902)\" cx=\"1854.38\" cy=\"421.597\" r=\"14\" fill=\"#009af9\" fill-rule=\"evenodd\" fill-opacity=\"1\" stroke=\"#000000\" stroke-opacity=\"1\" stroke-width=\"3.2\"/>\n",
       "<circle clip-path=\"url(#clip3902)\" cx=\"1854.38\" cy=\"421.597\" r=\"14\" fill=\"#009af9\" fill-rule=\"evenodd\" fill-opacity=\"1\" stroke=\"#000000\" stroke-opacity=\"1\" stroke-width=\"3.2\"/>\n",
       "<circle clip-path=\"url(#clip3902)\" cx=\"1854.38\" cy=\"421.597\" r=\"14\" fill=\"#009af9\" fill-rule=\"evenodd\" fill-opacity=\"1\" stroke=\"#000000\" stroke-opacity=\"1\" stroke-width=\"3.2\"/>\n",
       "<circle clip-path=\"url(#clip3902)\" cx=\"1854.38\" cy=\"421.597\" r=\"14\" fill=\"#009af9\" fill-rule=\"evenodd\" fill-opacity=\"1\" stroke=\"#000000\" stroke-opacity=\"1\" stroke-width=\"3.2\"/>\n",
       "<circle clip-path=\"url(#clip3902)\" cx=\"1854.38\" cy=\"421.597\" r=\"14\" fill=\"#009af9\" fill-rule=\"evenodd\" fill-opacity=\"1\" stroke=\"#000000\" stroke-opacity=\"1\" stroke-width=\"3.2\"/>\n",
       "<circle clip-path=\"url(#clip3902)\" cx=\"1854.38\" cy=\"421.597\" r=\"14\" fill=\"#009af9\" fill-rule=\"evenodd\" fill-opacity=\"1\" stroke=\"#000000\" stroke-opacity=\"1\" stroke-width=\"3.2\"/>\n",
       "<circle clip-path=\"url(#clip3902)\" cx=\"1854.38\" cy=\"421.597\" r=\"14\" fill=\"#009af9\" fill-rule=\"evenodd\" fill-opacity=\"1\" stroke=\"#000000\" stroke-opacity=\"1\" stroke-width=\"3.2\"/>\n",
       "<circle clip-path=\"url(#clip3902)\" cx=\"1854.38\" cy=\"421.597\" r=\"14\" fill=\"#009af9\" fill-rule=\"evenodd\" fill-opacity=\"1\" stroke=\"#000000\" stroke-opacity=\"1\" stroke-width=\"3.2\"/>\n",
       "<circle clip-path=\"url(#clip3902)\" cx=\"1854.38\" cy=\"421.597\" r=\"14\" fill=\"#009af9\" fill-rule=\"evenodd\" fill-opacity=\"1\" stroke=\"#000000\" stroke-opacity=\"1\" stroke-width=\"3.2\"/>\n",
       "<circle clip-path=\"url(#clip3902)\" cx=\"1854.38\" cy=\"421.597\" r=\"14\" fill=\"#009af9\" fill-rule=\"evenodd\" fill-opacity=\"1\" stroke=\"#000000\" stroke-opacity=\"1\" stroke-width=\"3.2\"/>\n",
       "<circle clip-path=\"url(#clip3902)\" cx=\"1854.38\" cy=\"421.597\" r=\"14\" fill=\"#009af9\" fill-rule=\"evenodd\" fill-opacity=\"1\" stroke=\"#000000\" stroke-opacity=\"1\" stroke-width=\"3.2\"/>\n",
       "<circle clip-path=\"url(#clip3902)\" cx=\"1854.38\" cy=\"421.597\" r=\"14\" fill=\"#009af9\" fill-rule=\"evenodd\" fill-opacity=\"1\" stroke=\"#000000\" stroke-opacity=\"1\" stroke-width=\"3.2\"/>\n",
       "<circle clip-path=\"url(#clip3902)\" cx=\"1854.38\" cy=\"421.597\" r=\"14\" fill=\"#009af9\" fill-rule=\"evenodd\" fill-opacity=\"1\" stroke=\"#000000\" stroke-opacity=\"1\" stroke-width=\"3.2\"/>\n",
       "<circle clip-path=\"url(#clip3902)\" cx=\"1854.38\" cy=\"421.597\" r=\"14\" fill=\"#009af9\" fill-rule=\"evenodd\" fill-opacity=\"1\" stroke=\"#000000\" stroke-opacity=\"1\" stroke-width=\"3.2\"/>\n",
       "<circle clip-path=\"url(#clip3902)\" cx=\"1854.38\" cy=\"421.597\" r=\"14\" fill=\"#009af9\" fill-rule=\"evenodd\" fill-opacity=\"1\" stroke=\"#000000\" stroke-opacity=\"1\" stroke-width=\"3.2\"/>\n",
       "<circle clip-path=\"url(#clip3902)\" cx=\"1854.38\" cy=\"421.597\" r=\"14\" fill=\"#009af9\" fill-rule=\"evenodd\" fill-opacity=\"1\" stroke=\"#000000\" stroke-opacity=\"1\" stroke-width=\"3.2\"/>\n",
       "<circle clip-path=\"url(#clip3902)\" cx=\"1854.38\" cy=\"421.597\" r=\"14\" fill=\"#009af9\" fill-rule=\"evenodd\" fill-opacity=\"1\" stroke=\"#000000\" stroke-opacity=\"1\" stroke-width=\"3.2\"/>\n",
       "<circle clip-path=\"url(#clip3902)\" cx=\"1854.38\" cy=\"421.597\" r=\"14\" fill=\"#009af9\" fill-rule=\"evenodd\" fill-opacity=\"1\" stroke=\"#000000\" stroke-opacity=\"1\" stroke-width=\"3.2\"/>\n",
       "<circle clip-path=\"url(#clip3902)\" cx=\"1854.38\" cy=\"421.597\" r=\"14\" fill=\"#009af9\" fill-rule=\"evenodd\" fill-opacity=\"1\" stroke=\"#000000\" stroke-opacity=\"1\" stroke-width=\"3.2\"/>\n",
       "<circle clip-path=\"url(#clip3902)\" cx=\"1854.38\" cy=\"421.597\" r=\"14\" fill=\"#009af9\" fill-rule=\"evenodd\" fill-opacity=\"1\" stroke=\"#000000\" stroke-opacity=\"1\" stroke-width=\"3.2\"/>\n",
       "<circle clip-path=\"url(#clip3902)\" cx=\"1854.38\" cy=\"421.597\" r=\"14\" fill=\"#009af9\" fill-rule=\"evenodd\" fill-opacity=\"1\" stroke=\"#000000\" stroke-opacity=\"1\" stroke-width=\"3.2\"/>\n",
       "<circle clip-path=\"url(#clip3902)\" cx=\"1854.38\" cy=\"421.597\" r=\"14\" fill=\"#009af9\" fill-rule=\"evenodd\" fill-opacity=\"1\" stroke=\"#000000\" stroke-opacity=\"1\" stroke-width=\"3.2\"/>\n",
       "<circle clip-path=\"url(#clip3902)\" cx=\"1854.38\" cy=\"421.597\" r=\"14\" fill=\"#009af9\" fill-rule=\"evenodd\" fill-opacity=\"1\" stroke=\"#000000\" stroke-opacity=\"1\" stroke-width=\"3.2\"/>\n",
       "<circle clip-path=\"url(#clip3902)\" cx=\"1854.38\" cy=\"421.597\" r=\"14\" fill=\"#009af9\" fill-rule=\"evenodd\" fill-opacity=\"1\" stroke=\"#000000\" stroke-opacity=\"1\" stroke-width=\"3.2\"/>\n",
       "<circle clip-path=\"url(#clip3902)\" cx=\"1854.38\" cy=\"421.597\" r=\"14\" fill=\"#009af9\" fill-rule=\"evenodd\" fill-opacity=\"1\" stroke=\"#000000\" stroke-opacity=\"1\" stroke-width=\"3.2\"/>\n",
       "<circle clip-path=\"url(#clip3902)\" cx=\"1854.38\" cy=\"421.597\" r=\"14\" fill=\"#009af9\" fill-rule=\"evenodd\" fill-opacity=\"1\" stroke=\"#000000\" stroke-opacity=\"1\" stroke-width=\"3.2\"/>\n",
       "<circle clip-path=\"url(#clip3902)\" cx=\"1854.38\" cy=\"421.597\" r=\"14\" fill=\"#009af9\" fill-rule=\"evenodd\" fill-opacity=\"1\" stroke=\"#000000\" stroke-opacity=\"1\" stroke-width=\"3.2\"/>\n",
       "<circle clip-path=\"url(#clip3902)\" cx=\"1854.38\" cy=\"421.597\" r=\"14\" fill=\"#009af9\" fill-rule=\"evenodd\" fill-opacity=\"1\" stroke=\"#000000\" stroke-opacity=\"1\" stroke-width=\"3.2\"/>\n",
       "<circle clip-path=\"url(#clip3902)\" cx=\"1854.38\" cy=\"421.597\" r=\"14\" fill=\"#009af9\" fill-rule=\"evenodd\" fill-opacity=\"1\" stroke=\"#000000\" stroke-opacity=\"1\" stroke-width=\"3.2\"/>\n",
       "<circle clip-path=\"url(#clip3902)\" cx=\"1854.38\" cy=\"421.597\" r=\"14\" fill=\"#009af9\" fill-rule=\"evenodd\" fill-opacity=\"1\" stroke=\"#000000\" stroke-opacity=\"1\" stroke-width=\"3.2\"/>\n",
       "<circle clip-path=\"url(#clip3902)\" cx=\"1854.38\" cy=\"421.597\" r=\"14\" fill=\"#009af9\" fill-rule=\"evenodd\" fill-opacity=\"1\" stroke=\"#000000\" stroke-opacity=\"1\" stroke-width=\"3.2\"/>\n",
       "<circle clip-path=\"url(#clip3902)\" cx=\"1854.38\" cy=\"421.597\" r=\"14\" fill=\"#009af9\" fill-rule=\"evenodd\" fill-opacity=\"1\" stroke=\"#000000\" stroke-opacity=\"1\" stroke-width=\"3.2\"/>\n",
       "<circle clip-path=\"url(#clip3902)\" cx=\"1854.38\" cy=\"421.597\" r=\"14\" fill=\"#009af9\" fill-rule=\"evenodd\" fill-opacity=\"1\" stroke=\"#000000\" stroke-opacity=\"1\" stroke-width=\"3.2\"/>\n",
       "<circle clip-path=\"url(#clip3902)\" cx=\"1854.38\" cy=\"421.597\" r=\"14\" fill=\"#009af9\" fill-rule=\"evenodd\" fill-opacity=\"1\" stroke=\"#000000\" stroke-opacity=\"1\" stroke-width=\"3.2\"/>\n",
       "<circle clip-path=\"url(#clip3902)\" cx=\"1854.38\" cy=\"421.597\" r=\"14\" fill=\"#009af9\" fill-rule=\"evenodd\" fill-opacity=\"1\" stroke=\"#000000\" stroke-opacity=\"1\" stroke-width=\"3.2\"/>\n",
       "<circle clip-path=\"url(#clip3902)\" cx=\"1854.38\" cy=\"421.597\" r=\"14\" fill=\"#009af9\" fill-rule=\"evenodd\" fill-opacity=\"1\" stroke=\"#000000\" stroke-opacity=\"1\" stroke-width=\"3.2\"/>\n",
       "<circle clip-path=\"url(#clip3902)\" cx=\"1854.38\" cy=\"421.597\" r=\"14\" fill=\"#009af9\" fill-rule=\"evenodd\" fill-opacity=\"1\" stroke=\"#000000\" stroke-opacity=\"1\" stroke-width=\"3.2\"/>\n",
       "<circle clip-path=\"url(#clip3902)\" cx=\"1854.38\" cy=\"421.597\" r=\"14\" fill=\"#009af9\" fill-rule=\"evenodd\" fill-opacity=\"1\" stroke=\"#000000\" stroke-opacity=\"1\" stroke-width=\"3.2\"/>\n",
       "<circle clip-path=\"url(#clip3902)\" cx=\"1854.38\" cy=\"421.597\" r=\"14\" fill=\"#009af9\" fill-rule=\"evenodd\" fill-opacity=\"1\" stroke=\"#000000\" stroke-opacity=\"1\" stroke-width=\"3.2\"/>\n",
       "<circle clip-path=\"url(#clip3902)\" cx=\"1854.38\" cy=\"421.597\" r=\"14\" fill=\"#009af9\" fill-rule=\"evenodd\" fill-opacity=\"1\" stroke=\"#000000\" stroke-opacity=\"1\" stroke-width=\"3.2\"/>\n",
       "<circle clip-path=\"url(#clip3902)\" cx=\"1854.38\" cy=\"421.597\" r=\"14\" fill=\"#009af9\" fill-rule=\"evenodd\" fill-opacity=\"1\" stroke=\"#000000\" stroke-opacity=\"1\" stroke-width=\"3.2\"/>\n",
       "<circle clip-path=\"url(#clip3902)\" cx=\"1854.38\" cy=\"421.597\" r=\"14\" fill=\"#009af9\" fill-rule=\"evenodd\" fill-opacity=\"1\" stroke=\"#000000\" stroke-opacity=\"1\" stroke-width=\"3.2\"/>\n",
       "<circle clip-path=\"url(#clip3902)\" cx=\"1854.38\" cy=\"421.597\" r=\"14\" fill=\"#009af9\" fill-rule=\"evenodd\" fill-opacity=\"1\" stroke=\"#000000\" stroke-opacity=\"1\" stroke-width=\"3.2\"/>\n",
       "<circle clip-path=\"url(#clip3902)\" cx=\"1850.84\" cy=\"410.174\" r=\"14\" fill=\"#009af9\" fill-rule=\"evenodd\" fill-opacity=\"1\" stroke=\"#000000\" stroke-opacity=\"1\" stroke-width=\"3.2\"/>\n",
       "<circle clip-path=\"url(#clip3902)\" cx=\"1850.84\" cy=\"410.174\" r=\"14\" fill=\"#009af9\" fill-rule=\"evenodd\" fill-opacity=\"1\" stroke=\"#000000\" stroke-opacity=\"1\" stroke-width=\"3.2\"/>\n",
       "<circle clip-path=\"url(#clip3902)\" cx=\"1845.37\" cy=\"401.217\" r=\"14\" fill=\"#009af9\" fill-rule=\"evenodd\" fill-opacity=\"1\" stroke=\"#000000\" stroke-opacity=\"1\" stroke-width=\"3.2\"/>\n",
       "<circle clip-path=\"url(#clip3902)\" cx=\"1845.37\" cy=\"401.217\" r=\"14\" fill=\"#009af9\" fill-rule=\"evenodd\" fill-opacity=\"1\" stroke=\"#000000\" stroke-opacity=\"1\" stroke-width=\"3.2\"/>\n",
       "<circle clip-path=\"url(#clip3902)\" cx=\"1845.37\" cy=\"401.217\" r=\"14\" fill=\"#009af9\" fill-rule=\"evenodd\" fill-opacity=\"1\" stroke=\"#000000\" stroke-opacity=\"1\" stroke-width=\"3.2\"/>\n",
       "<circle clip-path=\"url(#clip3902)\" cx=\"1845.37\" cy=\"401.217\" r=\"14\" fill=\"#009af9\" fill-rule=\"evenodd\" fill-opacity=\"1\" stroke=\"#000000\" stroke-opacity=\"1\" stroke-width=\"3.2\"/>\n",
       "<circle clip-path=\"url(#clip3902)\" cx=\"1845.37\" cy=\"401.217\" r=\"14\" fill=\"#009af9\" fill-rule=\"evenodd\" fill-opacity=\"1\" stroke=\"#000000\" stroke-opacity=\"1\" stroke-width=\"3.2\"/>\n",
       "<circle clip-path=\"url(#clip3902)\" cx=\"1845.37\" cy=\"401.217\" r=\"14\" fill=\"#009af9\" fill-rule=\"evenodd\" fill-opacity=\"1\" stroke=\"#000000\" stroke-opacity=\"1\" stroke-width=\"3.2\"/>\n",
       "<circle clip-path=\"url(#clip3902)\" cx=\"1823.17\" cy=\"393.492\" r=\"14\" fill=\"#009af9\" fill-rule=\"evenodd\" fill-opacity=\"1\" stroke=\"#000000\" stroke-opacity=\"1\" stroke-width=\"3.2\"/>\n",
       "<circle clip-path=\"url(#clip3902)\" cx=\"1823.17\" cy=\"393.492\" r=\"14\" fill=\"#009af9\" fill-rule=\"evenodd\" fill-opacity=\"1\" stroke=\"#000000\" stroke-opacity=\"1\" stroke-width=\"3.2\"/>\n",
       "<circle clip-path=\"url(#clip3902)\" cx=\"1823.17\" cy=\"393.492\" r=\"14\" fill=\"#009af9\" fill-rule=\"evenodd\" fill-opacity=\"1\" stroke=\"#000000\" stroke-opacity=\"1\" stroke-width=\"3.2\"/>\n",
       "<circle clip-path=\"url(#clip3902)\" cx=\"1822.15\" cy=\"390.968\" r=\"14\" fill=\"#009af9\" fill-rule=\"evenodd\" fill-opacity=\"1\" stroke=\"#000000\" stroke-opacity=\"1\" stroke-width=\"3.2\"/>\n",
       "<circle clip-path=\"url(#clip3902)\" cx=\"1821.94\" cy=\"388.766\" r=\"14\" fill=\"#009af9\" fill-rule=\"evenodd\" fill-opacity=\"1\" stroke=\"#000000\" stroke-opacity=\"1\" stroke-width=\"3.2\"/>\n",
       "<circle clip-path=\"url(#clip3902)\" cx=\"1821.94\" cy=\"388.766\" r=\"14\" fill=\"#009af9\" fill-rule=\"evenodd\" fill-opacity=\"1\" stroke=\"#000000\" stroke-opacity=\"1\" stroke-width=\"3.2\"/>\n",
       "<circle clip-path=\"url(#clip3902)\" cx=\"1760.69\" cy=\"371.82\" r=\"14\" fill=\"#009af9\" fill-rule=\"evenodd\" fill-opacity=\"1\" stroke=\"#000000\" stroke-opacity=\"1\" stroke-width=\"3.2\"/>\n",
       "<circle clip-path=\"url(#clip3902)\" cx=\"1854.38\" cy=\"421.597\" r=\"14\" fill=\"#009af9\" fill-rule=\"evenodd\" fill-opacity=\"1\" stroke=\"#000000\" stroke-opacity=\"1\" stroke-width=\"3.2\"/>\n",
       "<circle clip-path=\"url(#clip3902)\" cx=\"1756.01\" cy=\"380.886\" r=\"14\" fill=\"#009af9\" fill-rule=\"evenodd\" fill-opacity=\"1\" stroke=\"#000000\" stroke-opacity=\"1\" stroke-width=\"3.2\"/>\n",
       "<circle clip-path=\"url(#clip3902)\" cx=\"1810.78\" cy=\"399.447\" r=\"14\" fill=\"#009af9\" fill-rule=\"evenodd\" fill-opacity=\"1\" stroke=\"#000000\" stroke-opacity=\"1\" stroke-width=\"3.2\"/>\n",
       "<circle clip-path=\"url(#clip3902)\" cx=\"1816.98\" cy=\"424.041\" r=\"14\" fill=\"#009af9\" fill-rule=\"evenodd\" fill-opacity=\"1\" stroke=\"#000000\" stroke-opacity=\"1\" stroke-width=\"3.2\"/>\n",
       "<circle clip-path=\"url(#clip3902)\" cx=\"1788.11\" cy=\"435.992\" r=\"14\" fill=\"#009af9\" fill-rule=\"evenodd\" fill-opacity=\"1\" stroke=\"#000000\" stroke-opacity=\"1\" stroke-width=\"3.2\"/>\n",
       "<circle clip-path=\"url(#clip3902)\" cx=\"1788.01\" cy=\"402.578\" r=\"14\" fill=\"#009af9\" fill-rule=\"evenodd\" fill-opacity=\"1\" stroke=\"#000000\" stroke-opacity=\"1\" stroke-width=\"3.2\"/>\n",
       "<circle clip-path=\"url(#clip3902)\" cx=\"1779.1\" cy=\"415.612\" r=\"14\" fill=\"#009af9\" fill-rule=\"evenodd\" fill-opacity=\"1\" stroke=\"#000000\" stroke-opacity=\"1\" stroke-width=\"3.2\"/>\n",
       "<circle clip-path=\"url(#clip3902)\" cx=\"1779.1\" cy=\"415.612\" r=\"14\" fill=\"#009af9\" fill-rule=\"evenodd\" fill-opacity=\"1\" stroke=\"#000000\" stroke-opacity=\"1\" stroke-width=\"3.2\"/>\n",
       "<circle clip-path=\"url(#clip3902)\" cx=\"1738.02\" cy=\"408.364\" r=\"14\" fill=\"#009af9\" fill-rule=\"evenodd\" fill-opacity=\"1\" stroke=\"#000000\" stroke-opacity=\"1\" stroke-width=\"3.2\"/>\n",
       "<circle clip-path=\"url(#clip3902)\" cx=\"1779.63\" cy=\"432.394\" r=\"14\" fill=\"#009af9\" fill-rule=\"evenodd\" fill-opacity=\"1\" stroke=\"#000000\" stroke-opacity=\"1\" stroke-width=\"3.2\"/>\n",
       "<circle clip-path=\"url(#clip3902)\" cx=\"1854.38\" cy=\"421.597\" r=\"14\" fill=\"#009af9\" fill-rule=\"evenodd\" fill-opacity=\"1\" stroke=\"#000000\" stroke-opacity=\"1\" stroke-width=\"3.2\"/>\n",
       "<circle clip-path=\"url(#clip3902)\" cx=\"1741.33\" cy=\"385.941\" r=\"14\" fill=\"#009af9\" fill-rule=\"evenodd\" fill-opacity=\"1\" stroke=\"#000000\" stroke-opacity=\"1\" stroke-width=\"3.2\"/>\n",
       "<circle clip-path=\"url(#clip3902)\" cx=\"1854.38\" cy=\"421.597\" r=\"14\" fill=\"#009af9\" fill-rule=\"evenodd\" fill-opacity=\"1\" stroke=\"#000000\" stroke-opacity=\"1\" stroke-width=\"3.2\"/>\n",
       "<circle clip-path=\"url(#clip3902)\" cx=\"1854.38\" cy=\"421.597\" r=\"14\" fill=\"#009af9\" fill-rule=\"evenodd\" fill-opacity=\"1\" stroke=\"#000000\" stroke-opacity=\"1\" stroke-width=\"3.2\"/>\n",
       "<circle clip-path=\"url(#clip3902)\" cx=\"1823.17\" cy=\"393.492\" r=\"14\" fill=\"#009af9\" fill-rule=\"evenodd\" fill-opacity=\"1\" stroke=\"#000000\" stroke-opacity=\"1\" stroke-width=\"3.2\"/>\n",
       "<circle clip-path=\"url(#clip3902)\" cx=\"1854.38\" cy=\"421.597\" r=\"14\" fill=\"#009af9\" fill-rule=\"evenodd\" fill-opacity=\"1\" stroke=\"#000000\" stroke-opacity=\"1\" stroke-width=\"3.2\"/>\n",
       "<circle clip-path=\"url(#clip3902)\" cx=\"1760.69\" cy=\"371.82\" r=\"14\" fill=\"#e26f46\" fill-rule=\"evenodd\" fill-opacity=\"1\" stroke=\"#000000\" stroke-opacity=\"1\" stroke-width=\"3.2\"/>\n",
       "<circle clip-path=\"url(#clip3902)\" cx=\"1854.38\" cy=\"421.597\" r=\"14\" fill=\"#e26f46\" fill-rule=\"evenodd\" fill-opacity=\"1\" stroke=\"#000000\" stroke-opacity=\"1\" stroke-width=\"3.2\"/>\n",
       "<circle clip-path=\"url(#clip3902)\" cx=\"1760.69\" cy=\"371.82\" r=\"14\" fill=\"#e26f46\" fill-rule=\"evenodd\" fill-opacity=\"1\" stroke=\"#000000\" stroke-opacity=\"1\" stroke-width=\"3.2\"/>\n",
       "<circle clip-path=\"url(#clip3902)\" cx=\"1793.3\" cy=\"375.469\" r=\"14\" fill=\"#e26f46\" fill-rule=\"evenodd\" fill-opacity=\"1\" stroke=\"#000000\" stroke-opacity=\"1\" stroke-width=\"3.2\"/>\n",
       "<circle clip-path=\"url(#clip3902)\" cx=\"1801.77\" cy=\"379.067\" r=\"14\" fill=\"#e26f46\" fill-rule=\"evenodd\" fill-opacity=\"1\" stroke=\"#000000\" stroke-opacity=\"1\" stroke-width=\"3.2\"/>\n",
       "<circle clip-path=\"url(#clip3902)\" cx=\"1821.94\" cy=\"388.766\" r=\"14\" fill=\"#e26f46\" fill-rule=\"evenodd\" fill-opacity=\"1\" stroke=\"#000000\" stroke-opacity=\"1\" stroke-width=\"3.2\"/>\n",
       "<circle clip-path=\"url(#clip3902)\" cx=\"1845.37\" cy=\"401.217\" r=\"14\" fill=\"#e26f46\" fill-rule=\"evenodd\" fill-opacity=\"1\" stroke=\"#000000\" stroke-opacity=\"1\" stroke-width=\"3.2\"/>\n",
       "<circle clip-path=\"url(#clip3902)\" cx=\"1823.17\" cy=\"393.492\" r=\"14\" fill=\"#e26f46\" fill-rule=\"evenodd\" fill-opacity=\"1\" stroke=\"#000000\" stroke-opacity=\"1\" stroke-width=\"3.2\"/>\n",
       "<circle clip-path=\"url(#clip3902)\" cx=\"1854.38\" cy=\"421.597\" r=\"14\" fill=\"#e26f46\" fill-rule=\"evenodd\" fill-opacity=\"1\" stroke=\"#000000\" stroke-opacity=\"1\" stroke-width=\"3.2\"/>\n",
       "<circle clip-path=\"url(#clip3902)\" cx=\"1850.84\" cy=\"410.174\" r=\"14\" fill=\"#e26f46\" fill-rule=\"evenodd\" fill-opacity=\"1\" stroke=\"#000000\" stroke-opacity=\"1\" stroke-width=\"3.2\"/>\n",
       "<circle clip-path=\"url(#clip3902)\" cx=\"1845.37\" cy=\"401.217\" r=\"14\" fill=\"#e26f46\" fill-rule=\"evenodd\" fill-opacity=\"1\" stroke=\"#000000\" stroke-opacity=\"1\" stroke-width=\"3.2\"/>\n",
       "<circle clip-path=\"url(#clip3902)\" cx=\"1850.84\" cy=\"410.174\" r=\"14\" fill=\"#e26f46\" fill-rule=\"evenodd\" fill-opacity=\"1\" stroke=\"#000000\" stroke-opacity=\"1\" stroke-width=\"3.2\"/>\n",
       "<circle clip-path=\"url(#clip3902)\" cx=\"1793.3\" cy=\"375.469\" r=\"14\" fill=\"#e26f46\" fill-rule=\"evenodd\" fill-opacity=\"1\" stroke=\"#000000\" stroke-opacity=\"1\" stroke-width=\"3.2\"/>\n",
       "<circle clip-path=\"url(#clip3902)\" cx=\"1801.77\" cy=\"379.067\" r=\"14\" fill=\"#e26f46\" fill-rule=\"evenodd\" fill-opacity=\"1\" stroke=\"#000000\" stroke-opacity=\"1\" stroke-width=\"3.2\"/>\n",
       "<circle clip-path=\"url(#clip3902)\" cx=\"1822.15\" cy=\"390.968\" r=\"14\" fill=\"#e26f46\" fill-rule=\"evenodd\" fill-opacity=\"1\" stroke=\"#000000\" stroke-opacity=\"1\" stroke-width=\"3.2\"/>\n",
       "<circle clip-path=\"url(#clip3902)\" cx=\"1823.17\" cy=\"393.492\" r=\"14\" fill=\"#e26f46\" fill-rule=\"evenodd\" fill-opacity=\"1\" stroke=\"#000000\" stroke-opacity=\"1\" stroke-width=\"3.2\"/>\n",
       "<circle clip-path=\"url(#clip3902)\" cx=\"1821.94\" cy=\"388.766\" r=\"14\" fill=\"#e26f46\" fill-rule=\"evenodd\" fill-opacity=\"1\" stroke=\"#000000\" stroke-opacity=\"1\" stroke-width=\"3.2\"/>\n",
       "<circle clip-path=\"url(#clip3902)\" cx=\"1822.15\" cy=\"390.968\" r=\"14\" fill=\"#e26f46\" fill-rule=\"evenodd\" fill-opacity=\"1\" stroke=\"#000000\" stroke-opacity=\"1\" stroke-width=\"3.2\"/>\n",
       "<circle clip-path=\"url(#clip3902)\" cx=\"1854.38\" cy=\"421.597\" r=\"14\" fill=\"#e26f46\" fill-rule=\"evenodd\" fill-opacity=\"1\" stroke=\"#000000\" stroke-opacity=\"1\" stroke-width=\"3.2\"/>\n",
       "<circle clip-path=\"url(#clip3902)\" cx=\"1854.38\" cy=\"421.597\" r=\"14\" fill=\"#e26f46\" fill-rule=\"evenodd\" fill-opacity=\"1\" stroke=\"#000000\" stroke-opacity=\"1\" stroke-width=\"3.2\"/>\n",
       "<circle clip-path=\"url(#clip3902)\" cx=\"1854.38\" cy=\"421.597\" r=\"14\" fill=\"#e26f46\" fill-rule=\"evenodd\" fill-opacity=\"1\" stroke=\"#000000\" stroke-opacity=\"1\" stroke-width=\"3.2\"/>\n",
       "<circle clip-path=\"url(#clip3902)\" cx=\"1854.38\" cy=\"421.597\" r=\"14\" fill=\"#e26f46\" fill-rule=\"evenodd\" fill-opacity=\"1\" stroke=\"#000000\" stroke-opacity=\"1\" stroke-width=\"3.2\"/>\n",
       "<circle clip-path=\"url(#clip3902)\" cx=\"1854.38\" cy=\"421.597\" r=\"14\" fill=\"#e26f46\" fill-rule=\"evenodd\" fill-opacity=\"1\" stroke=\"#000000\" stroke-opacity=\"1\" stroke-width=\"3.2\"/>\n",
       "<circle clip-path=\"url(#clip3902)\" cx=\"1854.38\" cy=\"421.597\" r=\"14\" fill=\"#e26f46\" fill-rule=\"evenodd\" fill-opacity=\"1\" stroke=\"#000000\" stroke-opacity=\"1\" stroke-width=\"3.2\"/>\n",
       "<circle clip-path=\"url(#clip3902)\" cx=\"1854.38\" cy=\"421.597\" r=\"14\" fill=\"#e26f46\" fill-rule=\"evenodd\" fill-opacity=\"1\" stroke=\"#000000\" stroke-opacity=\"1\" stroke-width=\"3.2\"/>\n",
       "<circle clip-path=\"url(#clip3902)\" cx=\"1854.38\" cy=\"421.597\" r=\"14\" fill=\"#e26f46\" fill-rule=\"evenodd\" fill-opacity=\"1\" stroke=\"#000000\" stroke-opacity=\"1\" stroke-width=\"3.2\"/>\n",
       "<circle clip-path=\"url(#clip3902)\" cx=\"1854.38\" cy=\"421.597\" r=\"14\" fill=\"#e26f46\" fill-rule=\"evenodd\" fill-opacity=\"1\" stroke=\"#000000\" stroke-opacity=\"1\" stroke-width=\"3.2\"/>\n",
       "<circle clip-path=\"url(#clip3902)\" cx=\"1854.38\" cy=\"421.597\" r=\"14\" fill=\"#e26f46\" fill-rule=\"evenodd\" fill-opacity=\"1\" stroke=\"#000000\" stroke-opacity=\"1\" stroke-width=\"3.2\"/>\n",
       "<circle clip-path=\"url(#clip3902)\" cx=\"1854.38\" cy=\"421.597\" r=\"14\" fill=\"#e26f46\" fill-rule=\"evenodd\" fill-opacity=\"1\" stroke=\"#000000\" stroke-opacity=\"1\" stroke-width=\"3.2\"/>\n",
       "<circle clip-path=\"url(#clip3902)\" cx=\"1854.38\" cy=\"421.597\" r=\"14\" fill=\"#e26f46\" fill-rule=\"evenodd\" fill-opacity=\"1\" stroke=\"#000000\" stroke-opacity=\"1\" stroke-width=\"3.2\"/>\n",
       "<circle clip-path=\"url(#clip3902)\" cx=\"1854.38\" cy=\"421.597\" r=\"14\" fill=\"#e26f46\" fill-rule=\"evenodd\" fill-opacity=\"1\" stroke=\"#000000\" stroke-opacity=\"1\" stroke-width=\"3.2\"/>\n",
       "<circle clip-path=\"url(#clip3902)\" cx=\"1854.38\" cy=\"421.597\" r=\"14\" fill=\"#e26f46\" fill-rule=\"evenodd\" fill-opacity=\"1\" stroke=\"#000000\" stroke-opacity=\"1\" stroke-width=\"3.2\"/>\n",
       "<circle clip-path=\"url(#clip3902)\" cx=\"1854.38\" cy=\"421.597\" r=\"14\" fill=\"#e26f46\" fill-rule=\"evenodd\" fill-opacity=\"1\" stroke=\"#000000\" stroke-opacity=\"1\" stroke-width=\"3.2\"/>\n",
       "<circle clip-path=\"url(#clip3902)\" cx=\"1854.38\" cy=\"421.597\" r=\"14\" fill=\"#e26f46\" fill-rule=\"evenodd\" fill-opacity=\"1\" stroke=\"#000000\" stroke-opacity=\"1\" stroke-width=\"3.2\"/>\n",
       "<circle clip-path=\"url(#clip3902)\" cx=\"1854.38\" cy=\"421.597\" r=\"14\" fill=\"#e26f46\" fill-rule=\"evenodd\" fill-opacity=\"1\" stroke=\"#000000\" stroke-opacity=\"1\" stroke-width=\"3.2\"/>\n",
       "<circle clip-path=\"url(#clip3902)\" cx=\"1854.38\" cy=\"421.597\" r=\"14\" fill=\"#e26f46\" fill-rule=\"evenodd\" fill-opacity=\"1\" stroke=\"#000000\" stroke-opacity=\"1\" stroke-width=\"3.2\"/>\n",
       "<circle clip-path=\"url(#clip3902)\" cx=\"1854.38\" cy=\"421.597\" r=\"14\" fill=\"#e26f46\" fill-rule=\"evenodd\" fill-opacity=\"1\" stroke=\"#000000\" stroke-opacity=\"1\" stroke-width=\"3.2\"/>\n",
       "<circle clip-path=\"url(#clip3902)\" cx=\"1854.38\" cy=\"421.597\" r=\"14\" fill=\"#e26f46\" fill-rule=\"evenodd\" fill-opacity=\"1\" stroke=\"#000000\" stroke-opacity=\"1\" stroke-width=\"3.2\"/>\n",
       "<circle clip-path=\"url(#clip3902)\" cx=\"1854.38\" cy=\"421.597\" r=\"14\" fill=\"#e26f46\" fill-rule=\"evenodd\" fill-opacity=\"1\" stroke=\"#000000\" stroke-opacity=\"1\" stroke-width=\"3.2\"/>\n",
       "<circle clip-path=\"url(#clip3902)\" cx=\"1854.38\" cy=\"421.597\" r=\"14\" fill=\"#e26f46\" fill-rule=\"evenodd\" fill-opacity=\"1\" stroke=\"#000000\" stroke-opacity=\"1\" stroke-width=\"3.2\"/>\n",
       "<circle clip-path=\"url(#clip3902)\" cx=\"1854.38\" cy=\"421.597\" r=\"14\" fill=\"#e26f46\" fill-rule=\"evenodd\" fill-opacity=\"1\" stroke=\"#000000\" stroke-opacity=\"1\" stroke-width=\"3.2\"/>\n",
       "<circle clip-path=\"url(#clip3902)\" cx=\"1854.38\" cy=\"421.597\" r=\"14\" fill=\"#e26f46\" fill-rule=\"evenodd\" fill-opacity=\"1\" stroke=\"#000000\" stroke-opacity=\"1\" stroke-width=\"3.2\"/>\n",
       "<circle clip-path=\"url(#clip3902)\" cx=\"1854.38\" cy=\"421.597\" r=\"14\" fill=\"#e26f46\" fill-rule=\"evenodd\" fill-opacity=\"1\" stroke=\"#000000\" stroke-opacity=\"1\" stroke-width=\"3.2\"/>\n",
       "<circle clip-path=\"url(#clip3902)\" cx=\"1854.38\" cy=\"421.597\" r=\"14\" fill=\"#e26f46\" fill-rule=\"evenodd\" fill-opacity=\"1\" stroke=\"#000000\" stroke-opacity=\"1\" stroke-width=\"3.2\"/>\n",
       "<circle clip-path=\"url(#clip3902)\" cx=\"1854.38\" cy=\"421.597\" r=\"14\" fill=\"#e26f46\" fill-rule=\"evenodd\" fill-opacity=\"1\" stroke=\"#000000\" stroke-opacity=\"1\" stroke-width=\"3.2\"/>\n",
       "<circle clip-path=\"url(#clip3902)\" cx=\"1854.38\" cy=\"421.597\" r=\"14\" fill=\"#e26f46\" fill-rule=\"evenodd\" fill-opacity=\"1\" stroke=\"#000000\" stroke-opacity=\"1\" stroke-width=\"3.2\"/>\n",
       "<circle clip-path=\"url(#clip3902)\" cx=\"1854.38\" cy=\"421.597\" r=\"14\" fill=\"#e26f46\" fill-rule=\"evenodd\" fill-opacity=\"1\" stroke=\"#000000\" stroke-opacity=\"1\" stroke-width=\"3.2\"/>\n",
       "<circle clip-path=\"url(#clip3902)\" cx=\"1854.38\" cy=\"421.597\" r=\"14\" fill=\"#e26f46\" fill-rule=\"evenodd\" fill-opacity=\"1\" stroke=\"#000000\" stroke-opacity=\"1\" stroke-width=\"3.2\"/>\n",
       "<circle clip-path=\"url(#clip3902)\" cx=\"1854.38\" cy=\"421.597\" r=\"14\" fill=\"#e26f46\" fill-rule=\"evenodd\" fill-opacity=\"1\" stroke=\"#000000\" stroke-opacity=\"1\" stroke-width=\"3.2\"/>\n",
       "<circle clip-path=\"url(#clip3902)\" cx=\"1854.38\" cy=\"421.597\" r=\"14\" fill=\"#e26f46\" fill-rule=\"evenodd\" fill-opacity=\"1\" stroke=\"#000000\" stroke-opacity=\"1\" stroke-width=\"3.2\"/>\n",
       "<circle clip-path=\"url(#clip3902)\" cx=\"1854.38\" cy=\"421.597\" r=\"14\" fill=\"#e26f46\" fill-rule=\"evenodd\" fill-opacity=\"1\" stroke=\"#000000\" stroke-opacity=\"1\" stroke-width=\"3.2\"/>\n",
       "<circle clip-path=\"url(#clip3902)\" cx=\"1854.38\" cy=\"421.597\" r=\"14\" fill=\"#e26f46\" fill-rule=\"evenodd\" fill-opacity=\"1\" stroke=\"#000000\" stroke-opacity=\"1\" stroke-width=\"3.2\"/>\n",
       "<circle clip-path=\"url(#clip3902)\" cx=\"1854.38\" cy=\"421.597\" r=\"14\" fill=\"#e26f46\" fill-rule=\"evenodd\" fill-opacity=\"1\" stroke=\"#000000\" stroke-opacity=\"1\" stroke-width=\"3.2\"/>\n",
       "<circle clip-path=\"url(#clip3902)\" cx=\"1854.38\" cy=\"421.597\" r=\"14\" fill=\"#e26f46\" fill-rule=\"evenodd\" fill-opacity=\"1\" stroke=\"#000000\" stroke-opacity=\"1\" stroke-width=\"3.2\"/>\n",
       "<circle clip-path=\"url(#clip3902)\" cx=\"1854.38\" cy=\"421.597\" r=\"14\" fill=\"#e26f46\" fill-rule=\"evenodd\" fill-opacity=\"1\" stroke=\"#000000\" stroke-opacity=\"1\" stroke-width=\"3.2\"/>\n",
       "<circle clip-path=\"url(#clip3902)\" cx=\"1854.38\" cy=\"421.597\" r=\"14\" fill=\"#e26f46\" fill-rule=\"evenodd\" fill-opacity=\"1\" stroke=\"#000000\" stroke-opacity=\"1\" stroke-width=\"3.2\"/>\n",
       "<circle clip-path=\"url(#clip3902)\" cx=\"1854.38\" cy=\"421.597\" r=\"14\" fill=\"#e26f46\" fill-rule=\"evenodd\" fill-opacity=\"1\" stroke=\"#000000\" stroke-opacity=\"1\" stroke-width=\"3.2\"/>\n",
       "<circle clip-path=\"url(#clip3902)\" cx=\"1854.38\" cy=\"421.597\" r=\"14\" fill=\"#e26f46\" fill-rule=\"evenodd\" fill-opacity=\"1\" stroke=\"#000000\" stroke-opacity=\"1\" stroke-width=\"3.2\"/>\n",
       "<circle clip-path=\"url(#clip3902)\" cx=\"1854.38\" cy=\"421.597\" r=\"14\" fill=\"#e26f46\" fill-rule=\"evenodd\" fill-opacity=\"1\" stroke=\"#000000\" stroke-opacity=\"1\" stroke-width=\"3.2\"/>\n",
       "<circle clip-path=\"url(#clip3902)\" cx=\"1854.38\" cy=\"421.597\" r=\"14\" fill=\"#e26f46\" fill-rule=\"evenodd\" fill-opacity=\"1\" stroke=\"#000000\" stroke-opacity=\"1\" stroke-width=\"3.2\"/>\n",
       "<circle clip-path=\"url(#clip3902)\" cx=\"1854.38\" cy=\"421.597\" r=\"14\" fill=\"#e26f46\" fill-rule=\"evenodd\" fill-opacity=\"1\" stroke=\"#000000\" stroke-opacity=\"1\" stroke-width=\"3.2\"/>\n",
       "<circle clip-path=\"url(#clip3902)\" cx=\"1854.38\" cy=\"421.597\" r=\"14\" fill=\"#e26f46\" fill-rule=\"evenodd\" fill-opacity=\"1\" stroke=\"#000000\" stroke-opacity=\"1\" stroke-width=\"3.2\"/>\n",
       "<circle clip-path=\"url(#clip3902)\" cx=\"1854.38\" cy=\"421.597\" r=\"14\" fill=\"#e26f46\" fill-rule=\"evenodd\" fill-opacity=\"1\" stroke=\"#000000\" stroke-opacity=\"1\" stroke-width=\"3.2\"/>\n",
       "<circle clip-path=\"url(#clip3902)\" cx=\"1854.38\" cy=\"421.597\" r=\"14\" fill=\"#e26f46\" fill-rule=\"evenodd\" fill-opacity=\"1\" stroke=\"#000000\" stroke-opacity=\"1\" stroke-width=\"3.2\"/>\n",
       "<circle clip-path=\"url(#clip3902)\" cx=\"1854.38\" cy=\"421.597\" r=\"14\" fill=\"#e26f46\" fill-rule=\"evenodd\" fill-opacity=\"1\" stroke=\"#000000\" stroke-opacity=\"1\" stroke-width=\"3.2\"/>\n",
       "<circle clip-path=\"url(#clip3902)\" cx=\"1854.38\" cy=\"421.597\" r=\"14\" fill=\"#e26f46\" fill-rule=\"evenodd\" fill-opacity=\"1\" stroke=\"#000000\" stroke-opacity=\"1\" stroke-width=\"3.2\"/>\n",
       "<circle clip-path=\"url(#clip3902)\" cx=\"1854.38\" cy=\"421.597\" r=\"14\" fill=\"#e26f46\" fill-rule=\"evenodd\" fill-opacity=\"1\" stroke=\"#000000\" stroke-opacity=\"1\" stroke-width=\"3.2\"/>\n",
       "<circle clip-path=\"url(#clip3902)\" cx=\"1854.38\" cy=\"421.597\" r=\"14\" fill=\"#e26f46\" fill-rule=\"evenodd\" fill-opacity=\"1\" stroke=\"#000000\" stroke-opacity=\"1\" stroke-width=\"3.2\"/>\n",
       "<circle clip-path=\"url(#clip3902)\" cx=\"1854.38\" cy=\"421.597\" r=\"14\" fill=\"#e26f46\" fill-rule=\"evenodd\" fill-opacity=\"1\" stroke=\"#000000\" stroke-opacity=\"1\" stroke-width=\"3.2\"/>\n",
       "<circle clip-path=\"url(#clip3902)\" cx=\"1854.38\" cy=\"421.597\" r=\"14\" fill=\"#e26f46\" fill-rule=\"evenodd\" fill-opacity=\"1\" stroke=\"#000000\" stroke-opacity=\"1\" stroke-width=\"3.2\"/>\n",
       "<circle clip-path=\"url(#clip3902)\" cx=\"1854.38\" cy=\"421.597\" r=\"14\" fill=\"#e26f46\" fill-rule=\"evenodd\" fill-opacity=\"1\" stroke=\"#000000\" stroke-opacity=\"1\" stroke-width=\"3.2\"/>\n",
       "<circle clip-path=\"url(#clip3902)\" cx=\"1854.38\" cy=\"421.597\" r=\"14\" fill=\"#e26f46\" fill-rule=\"evenodd\" fill-opacity=\"1\" stroke=\"#000000\" stroke-opacity=\"1\" stroke-width=\"3.2\"/>\n",
       "<circle clip-path=\"url(#clip3902)\" cx=\"1854.38\" cy=\"421.597\" r=\"14\" fill=\"#e26f46\" fill-rule=\"evenodd\" fill-opacity=\"1\" stroke=\"#000000\" stroke-opacity=\"1\" stroke-width=\"3.2\"/>\n",
       "<circle clip-path=\"url(#clip3902)\" cx=\"1854.38\" cy=\"421.597\" r=\"14\" fill=\"#e26f46\" fill-rule=\"evenodd\" fill-opacity=\"1\" stroke=\"#000000\" stroke-opacity=\"1\" stroke-width=\"3.2\"/>\n",
       "<circle clip-path=\"url(#clip3902)\" cx=\"1854.38\" cy=\"421.597\" r=\"14\" fill=\"#e26f46\" fill-rule=\"evenodd\" fill-opacity=\"1\" stroke=\"#000000\" stroke-opacity=\"1\" stroke-width=\"3.2\"/>\n",
       "<circle clip-path=\"url(#clip3902)\" cx=\"1854.38\" cy=\"421.597\" r=\"14\" fill=\"#e26f46\" fill-rule=\"evenodd\" fill-opacity=\"1\" stroke=\"#000000\" stroke-opacity=\"1\" stroke-width=\"3.2\"/>\n",
       "<circle clip-path=\"url(#clip3902)\" cx=\"1854.38\" cy=\"421.597\" r=\"14\" fill=\"#e26f46\" fill-rule=\"evenodd\" fill-opacity=\"1\" stroke=\"#000000\" stroke-opacity=\"1\" stroke-width=\"3.2\"/>\n",
       "<circle clip-path=\"url(#clip3902)\" cx=\"1854.38\" cy=\"421.597\" r=\"14\" fill=\"#e26f46\" fill-rule=\"evenodd\" fill-opacity=\"1\" stroke=\"#000000\" stroke-opacity=\"1\" stroke-width=\"3.2\"/>\n",
       "<circle clip-path=\"url(#clip3902)\" cx=\"1854.38\" cy=\"421.597\" r=\"14\" fill=\"#e26f46\" fill-rule=\"evenodd\" fill-opacity=\"1\" stroke=\"#000000\" stroke-opacity=\"1\" stroke-width=\"3.2\"/>\n",
       "<circle clip-path=\"url(#clip3902)\" cx=\"1854.38\" cy=\"421.597\" r=\"14\" fill=\"#e26f46\" fill-rule=\"evenodd\" fill-opacity=\"1\" stroke=\"#000000\" stroke-opacity=\"1\" stroke-width=\"3.2\"/>\n",
       "<circle clip-path=\"url(#clip3902)\" cx=\"1854.38\" cy=\"421.597\" r=\"14\" fill=\"#e26f46\" fill-rule=\"evenodd\" fill-opacity=\"1\" stroke=\"#000000\" stroke-opacity=\"1\" stroke-width=\"3.2\"/>\n",
       "<circle clip-path=\"url(#clip3902)\" cx=\"1854.38\" cy=\"421.597\" r=\"14\" fill=\"#e26f46\" fill-rule=\"evenodd\" fill-opacity=\"1\" stroke=\"#000000\" stroke-opacity=\"1\" stroke-width=\"3.2\"/>\n",
       "<circle clip-path=\"url(#clip3902)\" cx=\"1854.38\" cy=\"421.597\" r=\"14\" fill=\"#e26f46\" fill-rule=\"evenodd\" fill-opacity=\"1\" stroke=\"#000000\" stroke-opacity=\"1\" stroke-width=\"3.2\"/>\n",
       "<circle clip-path=\"url(#clip3902)\" cx=\"1854.38\" cy=\"421.597\" r=\"14\" fill=\"#e26f46\" fill-rule=\"evenodd\" fill-opacity=\"1\" stroke=\"#000000\" stroke-opacity=\"1\" stroke-width=\"3.2\"/>\n",
       "<circle clip-path=\"url(#clip3902)\" cx=\"1854.38\" cy=\"421.597\" r=\"14\" fill=\"#e26f46\" fill-rule=\"evenodd\" fill-opacity=\"1\" stroke=\"#000000\" stroke-opacity=\"1\" stroke-width=\"3.2\"/>\n",
       "<circle clip-path=\"url(#clip3902)\" cx=\"1854.38\" cy=\"421.597\" r=\"14\" fill=\"#e26f46\" fill-rule=\"evenodd\" fill-opacity=\"1\" stroke=\"#000000\" stroke-opacity=\"1\" stroke-width=\"3.2\"/>\n",
       "<circle clip-path=\"url(#clip3902)\" cx=\"1854.38\" cy=\"421.597\" r=\"14\" fill=\"#e26f46\" fill-rule=\"evenodd\" fill-opacity=\"1\" stroke=\"#000000\" stroke-opacity=\"1\" stroke-width=\"3.2\"/>\n",
       "<circle clip-path=\"url(#clip3902)\" cx=\"1854.38\" cy=\"421.597\" r=\"14\" fill=\"#e26f46\" fill-rule=\"evenodd\" fill-opacity=\"1\" stroke=\"#000000\" stroke-opacity=\"1\" stroke-width=\"3.2\"/>\n",
       "<circle clip-path=\"url(#clip3902)\" cx=\"1854.38\" cy=\"421.597\" r=\"14\" fill=\"#e26f46\" fill-rule=\"evenodd\" fill-opacity=\"1\" stroke=\"#000000\" stroke-opacity=\"1\" stroke-width=\"3.2\"/>\n",
       "<circle clip-path=\"url(#clip3902)\" cx=\"1854.38\" cy=\"421.597\" r=\"14\" fill=\"#e26f46\" fill-rule=\"evenodd\" fill-opacity=\"1\" stroke=\"#000000\" stroke-opacity=\"1\" stroke-width=\"3.2\"/>\n",
       "<circle clip-path=\"url(#clip3902)\" cx=\"1854.38\" cy=\"421.597\" r=\"14\" fill=\"#e26f46\" fill-rule=\"evenodd\" fill-opacity=\"1\" stroke=\"#000000\" stroke-opacity=\"1\" stroke-width=\"3.2\"/>\n",
       "<circle clip-path=\"url(#clip3902)\" cx=\"1854.38\" cy=\"421.597\" r=\"14\" fill=\"#e26f46\" fill-rule=\"evenodd\" fill-opacity=\"1\" stroke=\"#000000\" stroke-opacity=\"1\" stroke-width=\"3.2\"/>\n",
       "<circle clip-path=\"url(#clip3902)\" cx=\"1854.38\" cy=\"421.597\" r=\"14\" fill=\"#e26f46\" fill-rule=\"evenodd\" fill-opacity=\"1\" stroke=\"#000000\" stroke-opacity=\"1\" stroke-width=\"3.2\"/>\n",
       "<circle clip-path=\"url(#clip3902)\" cx=\"1854.38\" cy=\"421.597\" r=\"14\" fill=\"#e26f46\" fill-rule=\"evenodd\" fill-opacity=\"1\" stroke=\"#000000\" stroke-opacity=\"1\" stroke-width=\"3.2\"/>\n",
       "<circle clip-path=\"url(#clip3902)\" cx=\"1854.38\" cy=\"421.597\" r=\"14\" fill=\"#e26f46\" fill-rule=\"evenodd\" fill-opacity=\"1\" stroke=\"#000000\" stroke-opacity=\"1\" stroke-width=\"3.2\"/>\n",
       "<circle clip-path=\"url(#clip3902)\" cx=\"1854.38\" cy=\"421.597\" r=\"14\" fill=\"#e26f46\" fill-rule=\"evenodd\" fill-opacity=\"1\" stroke=\"#000000\" stroke-opacity=\"1\" stroke-width=\"3.2\"/>\n",
       "<circle clip-path=\"url(#clip3902)\" cx=\"1854.38\" cy=\"421.597\" r=\"14\" fill=\"#e26f46\" fill-rule=\"evenodd\" fill-opacity=\"1\" stroke=\"#000000\" stroke-opacity=\"1\" stroke-width=\"3.2\"/>\n",
       "<circle clip-path=\"url(#clip3902)\" cx=\"1854.38\" cy=\"421.597\" r=\"14\" fill=\"#e26f46\" fill-rule=\"evenodd\" fill-opacity=\"1\" stroke=\"#000000\" stroke-opacity=\"1\" stroke-width=\"3.2\"/>\n",
       "<circle clip-path=\"url(#clip3902)\" cx=\"1854.38\" cy=\"421.597\" r=\"14\" fill=\"#e26f46\" fill-rule=\"evenodd\" fill-opacity=\"1\" stroke=\"#000000\" stroke-opacity=\"1\" stroke-width=\"3.2\"/>\n",
       "<circle clip-path=\"url(#clip3902)\" cx=\"1854.38\" cy=\"421.597\" r=\"14\" fill=\"#e26f46\" fill-rule=\"evenodd\" fill-opacity=\"1\" stroke=\"#000000\" stroke-opacity=\"1\" stroke-width=\"3.2\"/>\n",
       "<circle clip-path=\"url(#clip3902)\" cx=\"1854.38\" cy=\"421.597\" r=\"14\" fill=\"#e26f46\" fill-rule=\"evenodd\" fill-opacity=\"1\" stroke=\"#000000\" stroke-opacity=\"1\" stroke-width=\"3.2\"/>\n",
       "<circle clip-path=\"url(#clip3902)\" cx=\"1760.69\" cy=\"371.82\" r=\"14\" fill=\"#e26f46\" fill-rule=\"evenodd\" fill-opacity=\"1\" stroke=\"#000000\" stroke-opacity=\"1\" stroke-width=\"3.2\"/>\n",
       "<circle clip-path=\"url(#clip3902)\" cx=\"1854.38\" cy=\"421.597\" r=\"14\" fill=\"#e26f46\" fill-rule=\"evenodd\" fill-opacity=\"1\" stroke=\"#000000\" stroke-opacity=\"1\" stroke-width=\"3.2\"/>\n",
       "<circle clip-path=\"url(#clip3902)\" cx=\"1854.38\" cy=\"421.597\" r=\"14\" fill=\"#e26f46\" fill-rule=\"evenodd\" fill-opacity=\"1\" stroke=\"#000000\" stroke-opacity=\"1\" stroke-width=\"3.2\"/>\n",
       "<circle clip-path=\"url(#clip3902)\" cx=\"1854.38\" cy=\"421.597\" r=\"14\" fill=\"#e26f46\" fill-rule=\"evenodd\" fill-opacity=\"1\" stroke=\"#000000\" stroke-opacity=\"1\" stroke-width=\"3.2\"/>\n",
       "<circle clip-path=\"url(#clip3902)\" cx=\"1854.38\" cy=\"421.597\" r=\"14\" fill=\"#e26f46\" fill-rule=\"evenodd\" fill-opacity=\"1\" stroke=\"#000000\" stroke-opacity=\"1\" stroke-width=\"3.2\"/>\n",
       "<circle clip-path=\"url(#clip3902)\" cx=\"1854.38\" cy=\"421.597\" r=\"14\" fill=\"#e26f46\" fill-rule=\"evenodd\" fill-opacity=\"1\" stroke=\"#000000\" stroke-opacity=\"1\" stroke-width=\"3.2\"/>\n",
       "<circle clip-path=\"url(#clip3902)\" cx=\"1854.38\" cy=\"421.597\" r=\"14\" fill=\"#e26f46\" fill-rule=\"evenodd\" fill-opacity=\"1\" stroke=\"#000000\" stroke-opacity=\"1\" stroke-width=\"3.2\"/>\n",
       "<circle clip-path=\"url(#clip3902)\" cx=\"1854.38\" cy=\"421.597\" r=\"14\" fill=\"#e26f46\" fill-rule=\"evenodd\" fill-opacity=\"1\" stroke=\"#000000\" stroke-opacity=\"1\" stroke-width=\"3.2\"/>\n",
       "<circle clip-path=\"url(#clip3902)\" cx=\"1854.38\" cy=\"421.597\" r=\"14\" fill=\"#e26f46\" fill-rule=\"evenodd\" fill-opacity=\"1\" stroke=\"#000000\" stroke-opacity=\"1\" stroke-width=\"3.2\"/>\n",
       "<circle clip-path=\"url(#clip3902)\" cx=\"1760.69\" cy=\"371.82\" r=\"14\" fill=\"#e26f46\" fill-rule=\"evenodd\" fill-opacity=\"1\" stroke=\"#000000\" stroke-opacity=\"1\" stroke-width=\"3.2\"/>\n",
       "<circle clip-path=\"url(#clip3902)\" cx=\"1854.38\" cy=\"421.597\" r=\"14\" fill=\"#e26f46\" fill-rule=\"evenodd\" fill-opacity=\"1\" stroke=\"#000000\" stroke-opacity=\"1\" stroke-width=\"3.2\"/>\n",
       "<circle clip-path=\"url(#clip3902)\" cx=\"1854.38\" cy=\"421.597\" r=\"14\" fill=\"#e26f46\" fill-rule=\"evenodd\" fill-opacity=\"1\" stroke=\"#000000\" stroke-opacity=\"1\" stroke-width=\"3.2\"/>\n",
       "<circle clip-path=\"url(#clip3902)\" cx=\"1854.38\" cy=\"421.597\" r=\"14\" fill=\"#e26f46\" fill-rule=\"evenodd\" fill-opacity=\"1\" stroke=\"#000000\" stroke-opacity=\"1\" stroke-width=\"3.2\"/>\n",
       "<circle clip-path=\"url(#clip3902)\" cx=\"1854.38\" cy=\"421.597\" r=\"14\" fill=\"#e26f46\" fill-rule=\"evenodd\" fill-opacity=\"1\" stroke=\"#000000\" stroke-opacity=\"1\" stroke-width=\"3.2\"/>\n",
       "<circle clip-path=\"url(#clip3902)\" cx=\"1854.38\" cy=\"421.597\" r=\"14\" fill=\"#e26f46\" fill-rule=\"evenodd\" fill-opacity=\"1\" stroke=\"#000000\" stroke-opacity=\"1\" stroke-width=\"3.2\"/>\n",
       "<circle clip-path=\"url(#clip3902)\" cx=\"1854.38\" cy=\"421.597\" r=\"14\" fill=\"#e26f46\" fill-rule=\"evenodd\" fill-opacity=\"1\" stroke=\"#000000\" stroke-opacity=\"1\" stroke-width=\"3.2\"/>\n",
       "<circle clip-path=\"url(#clip3902)\" cx=\"1854.38\" cy=\"421.597\" r=\"14\" fill=\"#e26f46\" fill-rule=\"evenodd\" fill-opacity=\"1\" stroke=\"#000000\" stroke-opacity=\"1\" stroke-width=\"3.2\"/>\n",
       "<circle clip-path=\"url(#clip3902)\" cx=\"1854.38\" cy=\"421.597\" r=\"14\" fill=\"#e26f46\" fill-rule=\"evenodd\" fill-opacity=\"1\" stroke=\"#000000\" stroke-opacity=\"1\" stroke-width=\"3.2\"/>\n",
       "<circle clip-path=\"url(#clip3902)\" cx=\"1854.38\" cy=\"421.597\" r=\"14\" fill=\"#e26f46\" fill-rule=\"evenodd\" fill-opacity=\"1\" stroke=\"#000000\" stroke-opacity=\"1\" stroke-width=\"3.2\"/>\n",
       "<circle clip-path=\"url(#clip3902)\" cx=\"1854.38\" cy=\"421.597\" r=\"14\" fill=\"#e26f46\" fill-rule=\"evenodd\" fill-opacity=\"1\" stroke=\"#000000\" stroke-opacity=\"1\" stroke-width=\"3.2\"/>\n",
       "<circle clip-path=\"url(#clip3902)\" cx=\"1854.38\" cy=\"421.597\" r=\"14\" fill=\"#e26f46\" fill-rule=\"evenodd\" fill-opacity=\"1\" stroke=\"#000000\" stroke-opacity=\"1\" stroke-width=\"3.2\"/>\n",
       "<circle clip-path=\"url(#clip3902)\" cx=\"1854.38\" cy=\"421.597\" r=\"14\" fill=\"#e26f46\" fill-rule=\"evenodd\" fill-opacity=\"1\" stroke=\"#000000\" stroke-opacity=\"1\" stroke-width=\"3.2\"/>\n",
       "<circle clip-path=\"url(#clip3902)\" cx=\"1854.38\" cy=\"421.597\" r=\"14\" fill=\"#e26f46\" fill-rule=\"evenodd\" fill-opacity=\"1\" stroke=\"#000000\" stroke-opacity=\"1\" stroke-width=\"3.2\"/>\n",
       "<circle clip-path=\"url(#clip3902)\" cx=\"1854.38\" cy=\"421.597\" r=\"14\" fill=\"#e26f46\" fill-rule=\"evenodd\" fill-opacity=\"1\" stroke=\"#000000\" stroke-opacity=\"1\" stroke-width=\"3.2\"/>\n",
       "<circle clip-path=\"url(#clip3902)\" cx=\"1854.38\" cy=\"421.597\" r=\"14\" fill=\"#e26f46\" fill-rule=\"evenodd\" fill-opacity=\"1\" stroke=\"#000000\" stroke-opacity=\"1\" stroke-width=\"3.2\"/>\n",
       "<circle clip-path=\"url(#clip3902)\" cx=\"1854.38\" cy=\"421.597\" r=\"14\" fill=\"#e26f46\" fill-rule=\"evenodd\" fill-opacity=\"1\" stroke=\"#000000\" stroke-opacity=\"1\" stroke-width=\"3.2\"/>\n",
       "<circle clip-path=\"url(#clip3902)\" cx=\"1854.38\" cy=\"421.597\" r=\"14\" fill=\"#e26f46\" fill-rule=\"evenodd\" fill-opacity=\"1\" stroke=\"#000000\" stroke-opacity=\"1\" stroke-width=\"3.2\"/>\n",
       "<circle clip-path=\"url(#clip3902)\" cx=\"1854.38\" cy=\"421.597\" r=\"14\" fill=\"#e26f46\" fill-rule=\"evenodd\" fill-opacity=\"1\" stroke=\"#000000\" stroke-opacity=\"1\" stroke-width=\"3.2\"/>\n",
       "<circle clip-path=\"url(#clip3902)\" cx=\"1854.38\" cy=\"421.597\" r=\"14\" fill=\"#e26f46\" fill-rule=\"evenodd\" fill-opacity=\"1\" stroke=\"#000000\" stroke-opacity=\"1\" stroke-width=\"3.2\"/>\n",
       "<circle clip-path=\"url(#clip3902)\" cx=\"1854.38\" cy=\"421.597\" r=\"14\" fill=\"#e26f46\" fill-rule=\"evenodd\" fill-opacity=\"1\" stroke=\"#000000\" stroke-opacity=\"1\" stroke-width=\"3.2\"/>\n",
       "<circle clip-path=\"url(#clip3902)\" cx=\"1854.38\" cy=\"421.597\" r=\"14\" fill=\"#e26f46\" fill-rule=\"evenodd\" fill-opacity=\"1\" stroke=\"#000000\" stroke-opacity=\"1\" stroke-width=\"3.2\"/>\n",
       "<circle clip-path=\"url(#clip3902)\" cx=\"1854.38\" cy=\"421.597\" r=\"14\" fill=\"#e26f46\" fill-rule=\"evenodd\" fill-opacity=\"1\" stroke=\"#000000\" stroke-opacity=\"1\" stroke-width=\"3.2\"/>\n",
       "<circle clip-path=\"url(#clip3902)\" cx=\"1854.38\" cy=\"421.597\" r=\"14\" fill=\"#e26f46\" fill-rule=\"evenodd\" fill-opacity=\"1\" stroke=\"#000000\" stroke-opacity=\"1\" stroke-width=\"3.2\"/>\n",
       "<circle clip-path=\"url(#clip3902)\" cx=\"1854.38\" cy=\"421.597\" r=\"14\" fill=\"#e26f46\" fill-rule=\"evenodd\" fill-opacity=\"1\" stroke=\"#000000\" stroke-opacity=\"1\" stroke-width=\"3.2\"/>\n",
       "<circle clip-path=\"url(#clip3902)\" cx=\"1854.38\" cy=\"421.597\" r=\"14\" fill=\"#e26f46\" fill-rule=\"evenodd\" fill-opacity=\"1\" stroke=\"#000000\" stroke-opacity=\"1\" stroke-width=\"3.2\"/>\n",
       "<circle clip-path=\"url(#clip3902)\" cx=\"1854.38\" cy=\"421.597\" r=\"14\" fill=\"#e26f46\" fill-rule=\"evenodd\" fill-opacity=\"1\" stroke=\"#000000\" stroke-opacity=\"1\" stroke-width=\"3.2\"/>\n",
       "<circle clip-path=\"url(#clip3902)\" cx=\"1854.38\" cy=\"421.597\" r=\"14\" fill=\"#e26f46\" fill-rule=\"evenodd\" fill-opacity=\"1\" stroke=\"#000000\" stroke-opacity=\"1\" stroke-width=\"3.2\"/>\n",
       "<circle clip-path=\"url(#clip3902)\" cx=\"1854.38\" cy=\"421.597\" r=\"14\" fill=\"#e26f46\" fill-rule=\"evenodd\" fill-opacity=\"1\" stroke=\"#000000\" stroke-opacity=\"1\" stroke-width=\"3.2\"/>\n",
       "<circle clip-path=\"url(#clip3902)\" cx=\"1854.38\" cy=\"421.597\" r=\"14\" fill=\"#e26f46\" fill-rule=\"evenodd\" fill-opacity=\"1\" stroke=\"#000000\" stroke-opacity=\"1\" stroke-width=\"3.2\"/>\n",
       "<circle clip-path=\"url(#clip3902)\" cx=\"1854.38\" cy=\"421.597\" r=\"14\" fill=\"#e26f46\" fill-rule=\"evenodd\" fill-opacity=\"1\" stroke=\"#000000\" stroke-opacity=\"1\" stroke-width=\"3.2\"/>\n",
       "<circle clip-path=\"url(#clip3902)\" cx=\"1854.38\" cy=\"421.597\" r=\"14\" fill=\"#e26f46\" fill-rule=\"evenodd\" fill-opacity=\"1\" stroke=\"#000000\" stroke-opacity=\"1\" stroke-width=\"3.2\"/>\n",
       "<circle clip-path=\"url(#clip3902)\" cx=\"1854.38\" cy=\"421.597\" r=\"14\" fill=\"#e26f46\" fill-rule=\"evenodd\" fill-opacity=\"1\" stroke=\"#000000\" stroke-opacity=\"1\" stroke-width=\"3.2\"/>\n",
       "<circle clip-path=\"url(#clip3902)\" cx=\"1854.38\" cy=\"421.597\" r=\"14\" fill=\"#e26f46\" fill-rule=\"evenodd\" fill-opacity=\"1\" stroke=\"#000000\" stroke-opacity=\"1\" stroke-width=\"3.2\"/>\n",
       "<circle clip-path=\"url(#clip3902)\" cx=\"1854.38\" cy=\"421.597\" r=\"14\" fill=\"#e26f46\" fill-rule=\"evenodd\" fill-opacity=\"1\" stroke=\"#000000\" stroke-opacity=\"1\" stroke-width=\"3.2\"/>\n",
       "<circle clip-path=\"url(#clip3902)\" cx=\"1854.38\" cy=\"421.597\" r=\"14\" fill=\"#e26f46\" fill-rule=\"evenodd\" fill-opacity=\"1\" stroke=\"#000000\" stroke-opacity=\"1\" stroke-width=\"3.2\"/>\n",
       "<circle clip-path=\"url(#clip3902)\" cx=\"1854.38\" cy=\"421.597\" r=\"14\" fill=\"#e26f46\" fill-rule=\"evenodd\" fill-opacity=\"1\" stroke=\"#000000\" stroke-opacity=\"1\" stroke-width=\"3.2\"/>\n",
       "<circle clip-path=\"url(#clip3902)\" cx=\"1854.38\" cy=\"421.597\" r=\"14\" fill=\"#e26f46\" fill-rule=\"evenodd\" fill-opacity=\"1\" stroke=\"#000000\" stroke-opacity=\"1\" stroke-width=\"3.2\"/>\n",
       "<circle clip-path=\"url(#clip3902)\" cx=\"1854.38\" cy=\"421.597\" r=\"14\" fill=\"#e26f46\" fill-rule=\"evenodd\" fill-opacity=\"1\" stroke=\"#000000\" stroke-opacity=\"1\" stroke-width=\"3.2\"/>\n",
       "<circle clip-path=\"url(#clip3902)\" cx=\"1854.38\" cy=\"421.597\" r=\"14\" fill=\"#e26f46\" fill-rule=\"evenodd\" fill-opacity=\"1\" stroke=\"#000000\" stroke-opacity=\"1\" stroke-width=\"3.2\"/>\n",
       "<circle clip-path=\"url(#clip3902)\" cx=\"1854.38\" cy=\"421.597\" r=\"14\" fill=\"#e26f46\" fill-rule=\"evenodd\" fill-opacity=\"1\" stroke=\"#000000\" stroke-opacity=\"1\" stroke-width=\"3.2\"/>\n",
       "<circle clip-path=\"url(#clip3902)\" cx=\"1854.38\" cy=\"421.597\" r=\"14\" fill=\"#e26f46\" fill-rule=\"evenodd\" fill-opacity=\"1\" stroke=\"#000000\" stroke-opacity=\"1\" stroke-width=\"3.2\"/>\n",
       "<circle clip-path=\"url(#clip3902)\" cx=\"1854.38\" cy=\"421.597\" r=\"14\" fill=\"#e26f46\" fill-rule=\"evenodd\" fill-opacity=\"1\" stroke=\"#000000\" stroke-opacity=\"1\" stroke-width=\"3.2\"/>\n",
       "<circle clip-path=\"url(#clip3902)\" cx=\"1854.38\" cy=\"421.597\" r=\"14\" fill=\"#e26f46\" fill-rule=\"evenodd\" fill-opacity=\"1\" stroke=\"#000000\" stroke-opacity=\"1\" stroke-width=\"3.2\"/>\n",
       "<circle clip-path=\"url(#clip3902)\" cx=\"1854.38\" cy=\"421.597\" r=\"14\" fill=\"#e26f46\" fill-rule=\"evenodd\" fill-opacity=\"1\" stroke=\"#000000\" stroke-opacity=\"1\" stroke-width=\"3.2\"/>\n",
       "<circle clip-path=\"url(#clip3902)\" cx=\"1854.38\" cy=\"421.597\" r=\"14\" fill=\"#e26f46\" fill-rule=\"evenodd\" fill-opacity=\"1\" stroke=\"#000000\" stroke-opacity=\"1\" stroke-width=\"3.2\"/>\n",
       "<circle clip-path=\"url(#clip3902)\" cx=\"1854.38\" cy=\"421.597\" r=\"14\" fill=\"#e26f46\" fill-rule=\"evenodd\" fill-opacity=\"1\" stroke=\"#000000\" stroke-opacity=\"1\" stroke-width=\"3.2\"/>\n",
       "<circle clip-path=\"url(#clip3902)\" cx=\"1854.38\" cy=\"421.597\" r=\"14\" fill=\"#e26f46\" fill-rule=\"evenodd\" fill-opacity=\"1\" stroke=\"#000000\" stroke-opacity=\"1\" stroke-width=\"3.2\"/>\n",
       "<circle clip-path=\"url(#clip3902)\" cx=\"1854.38\" cy=\"421.597\" r=\"14\" fill=\"#e26f46\" fill-rule=\"evenodd\" fill-opacity=\"1\" stroke=\"#000000\" stroke-opacity=\"1\" stroke-width=\"3.2\"/>\n",
       "<circle clip-path=\"url(#clip3902)\" cx=\"1854.38\" cy=\"421.597\" r=\"14\" fill=\"#e26f46\" fill-rule=\"evenodd\" fill-opacity=\"1\" stroke=\"#000000\" stroke-opacity=\"1\" stroke-width=\"3.2\"/>\n",
       "<circle clip-path=\"url(#clip3902)\" cx=\"1854.38\" cy=\"421.597\" r=\"14\" fill=\"#e26f46\" fill-rule=\"evenodd\" fill-opacity=\"1\" stroke=\"#000000\" stroke-opacity=\"1\" stroke-width=\"3.2\"/>\n",
       "<circle clip-path=\"url(#clip3902)\" cx=\"1854.38\" cy=\"421.597\" r=\"14\" fill=\"#e26f46\" fill-rule=\"evenodd\" fill-opacity=\"1\" stroke=\"#000000\" stroke-opacity=\"1\" stroke-width=\"3.2\"/>\n",
       "<circle clip-path=\"url(#clip3902)\" cx=\"1854.38\" cy=\"421.597\" r=\"14\" fill=\"#e26f46\" fill-rule=\"evenodd\" fill-opacity=\"1\" stroke=\"#000000\" stroke-opacity=\"1\" stroke-width=\"3.2\"/>\n",
       "<circle clip-path=\"url(#clip3902)\" cx=\"1854.38\" cy=\"421.597\" r=\"14\" fill=\"#e26f46\" fill-rule=\"evenodd\" fill-opacity=\"1\" stroke=\"#000000\" stroke-opacity=\"1\" stroke-width=\"3.2\"/>\n",
       "<circle clip-path=\"url(#clip3902)\" cx=\"1854.38\" cy=\"421.597\" r=\"14\" fill=\"#e26f46\" fill-rule=\"evenodd\" fill-opacity=\"1\" stroke=\"#000000\" stroke-opacity=\"1\" stroke-width=\"3.2\"/>\n",
       "<circle clip-path=\"url(#clip3902)\" cx=\"1854.38\" cy=\"421.597\" r=\"14\" fill=\"#e26f46\" fill-rule=\"evenodd\" fill-opacity=\"1\" stroke=\"#000000\" stroke-opacity=\"1\" stroke-width=\"3.2\"/>\n",
       "<circle clip-path=\"url(#clip3902)\" cx=\"1854.38\" cy=\"421.597\" r=\"14\" fill=\"#e26f46\" fill-rule=\"evenodd\" fill-opacity=\"1\" stroke=\"#000000\" stroke-opacity=\"1\" stroke-width=\"3.2\"/>\n",
       "<circle clip-path=\"url(#clip3902)\" cx=\"1854.38\" cy=\"421.597\" r=\"14\" fill=\"#e26f46\" fill-rule=\"evenodd\" fill-opacity=\"1\" stroke=\"#000000\" stroke-opacity=\"1\" stroke-width=\"3.2\"/>\n",
       "<circle clip-path=\"url(#clip3902)\" cx=\"1854.38\" cy=\"421.597\" r=\"14\" fill=\"#e26f46\" fill-rule=\"evenodd\" fill-opacity=\"1\" stroke=\"#000000\" stroke-opacity=\"1\" stroke-width=\"3.2\"/>\n",
       "<circle clip-path=\"url(#clip3902)\" cx=\"1850.84\" cy=\"410.174\" r=\"14\" fill=\"#e26f46\" fill-rule=\"evenodd\" fill-opacity=\"1\" stroke=\"#000000\" stroke-opacity=\"1\" stroke-width=\"3.2\"/>\n",
       "<circle clip-path=\"url(#clip3902)\" cx=\"1850.84\" cy=\"410.174\" r=\"14\" fill=\"#e26f46\" fill-rule=\"evenodd\" fill-opacity=\"1\" stroke=\"#000000\" stroke-opacity=\"1\" stroke-width=\"3.2\"/>\n",
       "<circle clip-path=\"url(#clip3902)\" cx=\"1845.37\" cy=\"401.217\" r=\"14\" fill=\"#e26f46\" fill-rule=\"evenodd\" fill-opacity=\"1\" stroke=\"#000000\" stroke-opacity=\"1\" stroke-width=\"3.2\"/>\n",
       "<circle clip-path=\"url(#clip3902)\" cx=\"1845.37\" cy=\"401.217\" r=\"14\" fill=\"#e26f46\" fill-rule=\"evenodd\" fill-opacity=\"1\" stroke=\"#000000\" stroke-opacity=\"1\" stroke-width=\"3.2\"/>\n",
       "<circle clip-path=\"url(#clip3902)\" cx=\"1845.37\" cy=\"401.217\" r=\"14\" fill=\"#e26f46\" fill-rule=\"evenodd\" fill-opacity=\"1\" stroke=\"#000000\" stroke-opacity=\"1\" stroke-width=\"3.2\"/>\n",
       "<circle clip-path=\"url(#clip3902)\" cx=\"1845.37\" cy=\"401.217\" r=\"14\" fill=\"#e26f46\" fill-rule=\"evenodd\" fill-opacity=\"1\" stroke=\"#000000\" stroke-opacity=\"1\" stroke-width=\"3.2\"/>\n",
       "<circle clip-path=\"url(#clip3902)\" cx=\"1845.37\" cy=\"401.217\" r=\"14\" fill=\"#e26f46\" fill-rule=\"evenodd\" fill-opacity=\"1\" stroke=\"#000000\" stroke-opacity=\"1\" stroke-width=\"3.2\"/>\n",
       "<circle clip-path=\"url(#clip3902)\" cx=\"1845.37\" cy=\"401.217\" r=\"14\" fill=\"#e26f46\" fill-rule=\"evenodd\" fill-opacity=\"1\" stroke=\"#000000\" stroke-opacity=\"1\" stroke-width=\"3.2\"/>\n",
       "<circle clip-path=\"url(#clip3902)\" cx=\"1823.17\" cy=\"393.492\" r=\"14\" fill=\"#e26f46\" fill-rule=\"evenodd\" fill-opacity=\"1\" stroke=\"#000000\" stroke-opacity=\"1\" stroke-width=\"3.2\"/>\n",
       "<circle clip-path=\"url(#clip3902)\" cx=\"1823.17\" cy=\"393.492\" r=\"14\" fill=\"#e26f46\" fill-rule=\"evenodd\" fill-opacity=\"1\" stroke=\"#000000\" stroke-opacity=\"1\" stroke-width=\"3.2\"/>\n",
       "<circle clip-path=\"url(#clip3902)\" cx=\"1823.17\" cy=\"393.492\" r=\"14\" fill=\"#e26f46\" fill-rule=\"evenodd\" fill-opacity=\"1\" stroke=\"#000000\" stroke-opacity=\"1\" stroke-width=\"3.2\"/>\n",
       "<circle clip-path=\"url(#clip3902)\" cx=\"1822.15\" cy=\"390.968\" r=\"14\" fill=\"#e26f46\" fill-rule=\"evenodd\" fill-opacity=\"1\" stroke=\"#000000\" stroke-opacity=\"1\" stroke-width=\"3.2\"/>\n",
       "<circle clip-path=\"url(#clip3902)\" cx=\"1821.94\" cy=\"388.766\" r=\"14\" fill=\"#e26f46\" fill-rule=\"evenodd\" fill-opacity=\"1\" stroke=\"#000000\" stroke-opacity=\"1\" stroke-width=\"3.2\"/>\n",
       "<circle clip-path=\"url(#clip3902)\" cx=\"1821.94\" cy=\"388.766\" r=\"14\" fill=\"#e26f46\" fill-rule=\"evenodd\" fill-opacity=\"1\" stroke=\"#000000\" stroke-opacity=\"1\" stroke-width=\"3.2\"/>\n",
       "<circle clip-path=\"url(#clip3902)\" cx=\"1760.69\" cy=\"371.82\" r=\"14\" fill=\"#e26f46\" fill-rule=\"evenodd\" fill-opacity=\"1\" stroke=\"#000000\" stroke-opacity=\"1\" stroke-width=\"3.2\"/>\n",
       "<circle clip-path=\"url(#clip3902)\" cx=\"1854.38\" cy=\"421.597\" r=\"14\" fill=\"#e26f46\" fill-rule=\"evenodd\" fill-opacity=\"1\" stroke=\"#000000\" stroke-opacity=\"1\" stroke-width=\"3.2\"/>\n",
       "</svg>\n"
      ]
     },
     "metadata": {},
     "output_type": "display_data"
    }
   ],
   "source": [
    "function plot_pop(P)\n",
    "    scatter([i.y[1] for i in P], [i.y[2] for i in P], xlims=(0.0, 1.0), ylims=(0.0, 1.0), legend=:none)\n",
    "    ND = filter(indiv -> indiv.rank == 1, P)\n",
    "    scatter!([i.y[1] for i in ND], [i.y[2] for i in ND], legend=:none)\n",
    "end\n",
    "\n",
    "nsga_max(popsize, nbgen, objective, init, fCV=constraint, fplot=plot_pop, plotevery=1, showprogress=false);"
   ]
  },
  {
   "cell_type": "markdown",
   "metadata": {
    "slideshow": {
     "slide_type": "slide"
    }
   },
   "source": [
    "This type of visualization, plotting one objective function as X and another as Y, allows us to see the Pareto front for 2 dimensions easily. However, once we increase the number of objectives, this plot is much less useful as we'll always be constrained to looking at 2 dimensions, or at best 3."
   ]
  },
  {
   "cell_type": "markdown",
   "metadata": {
    "slideshow": {
     "slide_type": "fragment"
    }
   },
   "source": [
    "<div class=\"alert alert-success\">\n",
    "    <b>Exercise 3</b>\n",
    "    <br/>\n",
    "    Change the number of objectives to 3. Then use a <tt>scatter3d</tt> plot instead of a <tt>scatter</tt> plot to plot the evolution over 3 objectives.\n",
    "    <br/>\n",
    "    <ul>\n",
    "        <li>Can you still observe the Pareto front?</li>\n",
    "        <li>Can you identify non-dominated individuals easily</li>\n",
    "        <li>Do you see the performance for each objective</li>\n",
    "    </ul>\n",
    "    <br/>\n",
    "</div>"
   ]
  },
  {
   "cell_type": "markdown",
   "metadata": {
    "slideshow": {
     "slide_type": "slide"
    }
   },
   "source": [
    "Another way to look at the different objectives is to plot the different objectives on the `x` axis and the fitness values on the `y` axis. Each individual in a population is then represented as a line. Let's try this method, increasing the number of objectives to 10."
   ]
  },
  {
   "cell_type": "code",
   "execution_count": 29,
   "metadata": {
    "slideshow": {
     "slide_type": "fragment"
    }
   },
   "outputs": [
    {
     "data": {
      "text/plain": [
       "init (generic function with 1 method)"
      ]
     },
     "execution_count": 29,
     "metadata": {},
     "output_type": "execute_result"
    }
   ],
   "source": [
    "n = 100\n",
    "n_objectives = 10\n",
    "values = rand(n, n_objectives)\n",
    "values = values ./ sum(values, dims=1)\n",
    "weights = rand(n)\n",
    "weights = weights ./ sum(weights)\n",
    "max_weight = 0.5\n",
    "popsize = 100\n",
    "nbgen = 50\n",
    "init() = bitrand(n)"
   ]
  },
  {
   "cell_type": "code",
   "execution_count": 30,
   "metadata": {
    "slideshow": {
     "slide_type": "slide"
    }
   },
   "outputs": [
    {
     "data": {
      "image/svg+xml": [
       "<?xml version=\"1.0\" encoding=\"utf-8\"?>\n",
       "<svg xmlns=\"http://www.w3.org/2000/svg\" xmlns:xlink=\"http://www.w3.org/1999/xlink\" width=\"600\" height=\"400\" viewBox=\"0 0 2400 1600\">\n",
       "<defs>\n",
       "  <clipPath id=\"clip6300\">\n",
       "    <rect x=\"0\" y=\"0\" width=\"2400\" height=\"1600\"/>\n",
       "  </clipPath>\n",
       "</defs>\n",
       "<path clip-path=\"url(#clip6300)\" d=\"\n",
       "M0 1600 L2400 1600 L2400 0 L0 0  Z\n",
       "  \" fill=\"#ffffff\" fill-rule=\"evenodd\" fill-opacity=\"1\"/>\n",
       "<defs>\n",
       "  <clipPath id=\"clip6301\">\n",
       "    <rect x=\"480\" y=\"0\" width=\"1681\" height=\"1600\"/>\n",
       "  </clipPath>\n",
       "</defs>\n",
       "<path clip-path=\"url(#clip6300)\" d=\"\n",
       "M180.66 1487.47 L2352.76 1487.47 L2352.76 47.2441 L180.66 47.2441  Z\n",
       "  \" fill=\"#ffffff\" fill-rule=\"evenodd\" fill-opacity=\"1\"/>\n",
       "<defs>\n",
       "  <clipPath id=\"clip6302\">\n",
       "    <rect x=\"180\" y=\"47\" width=\"2173\" height=\"1441\"/>\n",
       "  </clipPath>\n",
       "</defs>\n",
       "<polyline clip-path=\"url(#clip6302)\" style=\"stroke:#000000; stroke-width:2; stroke-opacity:0.1; fill:none\" points=\"\n",
       "  422.004,1487.47 422.004,47.2441 \n",
       "  \"/>\n",
       "<polyline clip-path=\"url(#clip6302)\" style=\"stroke:#000000; stroke-width:2; stroke-opacity:0.1; fill:none\" points=\"\n",
       "  904.692,1487.47 904.692,47.2441 \n",
       "  \"/>\n",
       "<polyline clip-path=\"url(#clip6302)\" style=\"stroke:#000000; stroke-width:2; stroke-opacity:0.1; fill:none\" points=\"\n",
       "  1387.38,1487.47 1387.38,47.2441 \n",
       "  \"/>\n",
       "<polyline clip-path=\"url(#clip6302)\" style=\"stroke:#000000; stroke-width:2; stroke-opacity:0.1; fill:none\" points=\"\n",
       "  1870.07,1487.47 1870.07,47.2441 \n",
       "  \"/>\n",
       "<polyline clip-path=\"url(#clip6302)\" style=\"stroke:#000000; stroke-width:2; stroke-opacity:0.1; fill:none\" points=\"\n",
       "  2352.76,1487.47 2352.76,47.2441 \n",
       "  \"/>\n",
       "<polyline clip-path=\"url(#clip6302)\" style=\"stroke:#000000; stroke-width:2; stroke-opacity:0.1; fill:none\" points=\"\n",
       "  180.66,1472.6 2352.76,1472.6 \n",
       "  \"/>\n",
       "<polyline clip-path=\"url(#clip6302)\" style=\"stroke:#000000; stroke-width:2; stroke-opacity:0.1; fill:none\" points=\"\n",
       "  180.66,1243.14 2352.76,1243.14 \n",
       "  \"/>\n",
       "<polyline clip-path=\"url(#clip6302)\" style=\"stroke:#000000; stroke-width:2; stroke-opacity:0.1; fill:none\" points=\"\n",
       "  180.66,1013.68 2352.76,1013.68 \n",
       "  \"/>\n",
       "<polyline clip-path=\"url(#clip6302)\" style=\"stroke:#000000; stroke-width:2; stroke-opacity:0.1; fill:none\" points=\"\n",
       "  180.66,784.217 2352.76,784.217 \n",
       "  \"/>\n",
       "<polyline clip-path=\"url(#clip6302)\" style=\"stroke:#000000; stroke-width:2; stroke-opacity:0.1; fill:none\" points=\"\n",
       "  180.66,554.755 2352.76,554.755 \n",
       "  \"/>\n",
       "<polyline clip-path=\"url(#clip6302)\" style=\"stroke:#000000; stroke-width:2; stroke-opacity:0.1; fill:none\" points=\"\n",
       "  180.66,325.292 2352.76,325.292 \n",
       "  \"/>\n",
       "<polyline clip-path=\"url(#clip6302)\" style=\"stroke:#000000; stroke-width:2; stroke-opacity:0.1; fill:none\" points=\"\n",
       "  180.66,95.8304 2352.76,95.8304 \n",
       "  \"/>\n",
       "<polyline clip-path=\"url(#clip6300)\" style=\"stroke:#000000; stroke-width:4; stroke-opacity:1; fill:none\" points=\"\n",
       "  180.66,1487.47 2352.76,1487.47 \n",
       "  \"/>\n",
       "<polyline clip-path=\"url(#clip6300)\" style=\"stroke:#000000; stroke-width:4; stroke-opacity:1; fill:none\" points=\"\n",
       "  180.66,1487.47 180.66,47.2441 \n",
       "  \"/>\n",
       "<polyline clip-path=\"url(#clip6300)\" style=\"stroke:#000000; stroke-width:4; stroke-opacity:1; fill:none\" points=\"\n",
       "  422.004,1487.47 422.004,1470.19 \n",
       "  \"/>\n",
       "<polyline clip-path=\"url(#clip6300)\" style=\"stroke:#000000; stroke-width:4; stroke-opacity:1; fill:none\" points=\"\n",
       "  904.692,1487.47 904.692,1470.19 \n",
       "  \"/>\n",
       "<polyline clip-path=\"url(#clip6300)\" style=\"stroke:#000000; stroke-width:4; stroke-opacity:1; fill:none\" points=\"\n",
       "  1387.38,1487.47 1387.38,1470.19 \n",
       "  \"/>\n",
       "<polyline clip-path=\"url(#clip6300)\" style=\"stroke:#000000; stroke-width:4; stroke-opacity:1; fill:none\" points=\"\n",
       "  1870.07,1487.47 1870.07,1470.19 \n",
       "  \"/>\n",
       "<polyline clip-path=\"url(#clip6300)\" style=\"stroke:#000000; stroke-width:4; stroke-opacity:1; fill:none\" points=\"\n",
       "  2352.76,1487.47 2352.76,1470.19 \n",
       "  \"/>\n",
       "<polyline clip-path=\"url(#clip6300)\" style=\"stroke:#000000; stroke-width:4; stroke-opacity:1; fill:none\" points=\"\n",
       "  180.66,1472.6 206.725,1472.6 \n",
       "  \"/>\n",
       "<polyline clip-path=\"url(#clip6300)\" style=\"stroke:#000000; stroke-width:4; stroke-opacity:1; fill:none\" points=\"\n",
       "  180.66,1243.14 206.725,1243.14 \n",
       "  \"/>\n",
       "<polyline clip-path=\"url(#clip6300)\" style=\"stroke:#000000; stroke-width:4; stroke-opacity:1; fill:none\" points=\"\n",
       "  180.66,1013.68 206.725,1013.68 \n",
       "  \"/>\n",
       "<polyline clip-path=\"url(#clip6300)\" style=\"stroke:#000000; stroke-width:4; stroke-opacity:1; fill:none\" points=\"\n",
       "  180.66,784.217 206.725,784.217 \n",
       "  \"/>\n",
       "<polyline clip-path=\"url(#clip6300)\" style=\"stroke:#000000; stroke-width:4; stroke-opacity:1; fill:none\" points=\"\n",
       "  180.66,554.755 206.725,554.755 \n",
       "  \"/>\n",
       "<polyline clip-path=\"url(#clip6300)\" style=\"stroke:#000000; stroke-width:4; stroke-opacity:1; fill:none\" points=\"\n",
       "  180.66,325.292 206.725,325.292 \n",
       "  \"/>\n",
       "<polyline clip-path=\"url(#clip6300)\" style=\"stroke:#000000; stroke-width:4; stroke-opacity:1; fill:none\" points=\"\n",
       "  180.66,95.8304 206.725,95.8304 \n",
       "  \"/>\n",
       "<g clip-path=\"url(#clip6300)\">\n",
       "<text style=\"fill:#000000; fill-opacity:1; font-family:Arial,Helvetica Neue,Helvetica,sans-serif; font-size:48px; text-anchor:middle;\" transform=\"rotate(0, 422.004, 1541.47)\" x=\"422.004\" y=\"1541.47\">2</text>\n",
       "</g>\n",
       "<g clip-path=\"url(#clip6300)\">\n",
       "<text style=\"fill:#000000; fill-opacity:1; font-family:Arial,Helvetica Neue,Helvetica,sans-serif; font-size:48px; text-anchor:middle;\" transform=\"rotate(0, 904.692, 1541.47)\" x=\"904.692\" y=\"1541.47\">4</text>\n",
       "</g>\n",
       "<g clip-path=\"url(#clip6300)\">\n",
       "<text style=\"fill:#000000; fill-opacity:1; font-family:Arial,Helvetica Neue,Helvetica,sans-serif; font-size:48px; text-anchor:middle;\" transform=\"rotate(0, 1387.38, 1541.47)\" x=\"1387.38\" y=\"1541.47\">6</text>\n",
       "</g>\n",
       "<g clip-path=\"url(#clip6300)\">\n",
       "<text style=\"fill:#000000; fill-opacity:1; font-family:Arial,Helvetica Neue,Helvetica,sans-serif; font-size:48px; text-anchor:middle;\" transform=\"rotate(0, 1870.07, 1541.47)\" x=\"1870.07\" y=\"1541.47\">8</text>\n",
       "</g>\n",
       "<g clip-path=\"url(#clip6300)\">\n",
       "<text style=\"fill:#000000; fill-opacity:1; font-family:Arial,Helvetica Neue,Helvetica,sans-serif; font-size:48px; text-anchor:middle;\" transform=\"rotate(0, 2352.76, 1541.47)\" x=\"2352.76\" y=\"1541.47\">10</text>\n",
       "</g>\n",
       "<g clip-path=\"url(#clip6300)\">\n",
       "<text style=\"fill:#000000; fill-opacity:1; font-family:Arial,Helvetica Neue,Helvetica,sans-serif; font-size:48px; text-anchor:end;\" transform=\"rotate(0, 156.66, 1490.1)\" x=\"156.66\" y=\"1490.1\">0.45</text>\n",
       "</g>\n",
       "<g clip-path=\"url(#clip6300)\">\n",
       "<text style=\"fill:#000000; fill-opacity:1; font-family:Arial,Helvetica Neue,Helvetica,sans-serif; font-size:48px; text-anchor:end;\" transform=\"rotate(0, 156.66, 1260.64)\" x=\"156.66\" y=\"1260.64\">0.50</text>\n",
       "</g>\n",
       "<g clip-path=\"url(#clip6300)\">\n",
       "<text style=\"fill:#000000; fill-opacity:1; font-family:Arial,Helvetica Neue,Helvetica,sans-serif; font-size:48px; text-anchor:end;\" transform=\"rotate(0, 156.66, 1031.18)\" x=\"156.66\" y=\"1031.18\">0.55</text>\n",
       "</g>\n",
       "<g clip-path=\"url(#clip6300)\">\n",
       "<text style=\"fill:#000000; fill-opacity:1; font-family:Arial,Helvetica Neue,Helvetica,sans-serif; font-size:48px; text-anchor:end;\" transform=\"rotate(0, 156.66, 801.717)\" x=\"156.66\" y=\"801.717\">0.60</text>\n",
       "</g>\n",
       "<g clip-path=\"url(#clip6300)\">\n",
       "<text style=\"fill:#000000; fill-opacity:1; font-family:Arial,Helvetica Neue,Helvetica,sans-serif; font-size:48px; text-anchor:end;\" transform=\"rotate(0, 156.66, 572.255)\" x=\"156.66\" y=\"572.255\">0.65</text>\n",
       "</g>\n",
       "<g clip-path=\"url(#clip6300)\">\n",
       "<text style=\"fill:#000000; fill-opacity:1; font-family:Arial,Helvetica Neue,Helvetica,sans-serif; font-size:48px; text-anchor:end;\" transform=\"rotate(0, 156.66, 342.792)\" x=\"156.66\" y=\"342.792\">0.70</text>\n",
       "</g>\n",
       "<g clip-path=\"url(#clip6300)\">\n",
       "<text style=\"fill:#000000; fill-opacity:1; font-family:Arial,Helvetica Neue,Helvetica,sans-serif; font-size:48px; text-anchor:end;\" transform=\"rotate(0, 156.66, 113.33)\" x=\"156.66\" y=\"113.33\">0.75</text>\n",
       "</g>\n",
       "<polyline clip-path=\"url(#clip6302)\" style=\"stroke:#0000ff; stroke-width:4; stroke-opacity:1; fill:none\" points=\"\n",
       "  180.66,565.262 422.004,392.239 663.348,412.709 904.692,659.581 1146.04,347.597 1387.38,695.203 1628.72,519.468 1870.07,787.435 2111.41,675.928 2352.76,582.862 \n",
       "  \n",
       "  \"/>\n",
       "<polyline clip-path=\"url(#clip6302)\" style=\"stroke:#0000ff; stroke-width:4; stroke-opacity:1; fill:none\" points=\"\n",
       "  180.66,962.016 422.004,781.902 663.348,825.276 904.692,754.927 1146.04,997.286 1387.38,941.653 1628.72,837.491 1870.07,895.955 2111.41,543.772 2352.76,212.482 \n",
       "  \n",
       "  \"/>\n",
       "<polyline clip-path=\"url(#clip6302)\" style=\"stroke:#0000ff; stroke-width:4; stroke-opacity:1; fill:none\" points=\"\n",
       "  180.66,858.536 422.004,596.149 663.348,698.558 904.692,819.403 1146.04,666.258 1387.38,748.706 1628.72,736.14 1870.07,925.984 2111.41,559.373 2352.76,341.428 \n",
       "  \n",
       "  \"/>\n",
       "<polyline clip-path=\"url(#clip6302)\" style=\"stroke:#0000ff; stroke-width:4; stroke-opacity:1; fill:none\" points=\"\n",
       "  180.66,642.086 422.004,832.43 663.348,768.071 904.692,700.887 1146.04,737.831 1387.38,818.34 1628.72,1020.45 1870.07,649.164 2111.41,516.223 2352.76,349.381 \n",
       "  \n",
       "  \"/>\n",
       "<polyline clip-path=\"url(#clip6302)\" style=\"stroke:#0000ff; stroke-width:4; stroke-opacity:1; fill:none\" points=\"\n",
       "  180.66,654.596 422.004,934.637 663.348,1115.57 904.692,576.64 1146.04,845.268 1387.38,1034.84 1628.72,594.732 1870.07,1030.92 2111.41,781.377 2352.76,397.632 \n",
       "  \n",
       "  \"/>\n",
       "<polyline clip-path=\"url(#clip6302)\" style=\"stroke:#0000ff; stroke-width:4; stroke-opacity:1; fill:none\" points=\"\n",
       "  180.66,344.795 422.004,334.517 663.348,720.38 904.692,477.653 1146.04,618.948 1387.38,479.377 1628.72,628.547 1870.07,564.08 2111.41,581.393 2352.76,442.476 \n",
       "  \n",
       "  \"/>\n",
       "<polyline clip-path=\"url(#clip6302)\" style=\"stroke:#0000ff; stroke-width:4; stroke-opacity:1; fill:none\" points=\"\n",
       "  180.66,544.477 422.004,535.192 663.348,740.443 904.692,232.91 1146.04,815.104 1387.38,755.527 1628.72,870.684 1870.07,469.188 2111.41,527.878 2352.76,859.805 \n",
       "  \n",
       "  \"/>\n",
       "<polyline clip-path=\"url(#clip6302)\" style=\"stroke:#0000ff; stroke-width:4; stroke-opacity:1; fill:none\" points=\"\n",
       "  180.66,558.247 422.004,310.026 663.348,586.733 904.692,573.06 1146.04,597.319 1387.38,417.972 1628.72,655.735 1870.07,628.953 2111.41,472.033 2352.76,468.375 \n",
       "  \n",
       "  \"/>\n",
       "<polyline clip-path=\"url(#clip6302)\" style=\"stroke:#0000ff; stroke-width:4; stroke-opacity:1; fill:none\" points=\"\n",
       "  180.66,425.428 422.004,378.471 663.348,436.947 904.692,618.977 1146.04,411.063 1387.38,581.573 1628.72,430.99 1870.07,791.624 2111.41,704.566 2352.76,486.38 \n",
       "  \n",
       "  \"/>\n",
       "<polyline clip-path=\"url(#clip6302)\" style=\"stroke:#0000ff; stroke-width:4; stroke-opacity:1; fill:none\" points=\"\n",
       "  180.66,507.117 422.004,200.149 663.348,655.075 904.692,276.531 1146.04,660.624 1387.38,553.729 1628.72,731.027 1870.07,338.538 2111.41,414.972 2352.76,547.334 \n",
       "  \n",
       "  \"/>\n",
       "<polyline clip-path=\"url(#clip6302)\" style=\"stroke:#0000ff; stroke-width:4; stroke-opacity:1; fill:none\" points=\"\n",
       "  180.66,464.446 422.004,267.1 663.348,614.074 904.692,335.66 1146.04,668.851 1387.38,547.755 1628.72,704.105 1870.07,244.169 2111.41,358.514 2352.76,560.544 \n",
       "  \n",
       "  \"/>\n",
       "<polyline clip-path=\"url(#clip6302)\" style=\"stroke:#0000ff; stroke-width:4; stroke-opacity:1; fill:none\" points=\"\n",
       "  180.66,537.736 422.004,545.221 663.348,905.834 904.692,616.082 1146.04,634.922 1387.38,790.497 1628.72,696.375 1870.07,762.857 2111.41,809.989 2352.76,129.671 \n",
       "  \n",
       "  \"/>\n",
       "<polyline clip-path=\"url(#clip6302)\" style=\"stroke:#0000ff; stroke-width:4; stroke-opacity:1; fill:none\" points=\"\n",
       "  180.66,440.186 422.004,375.372 663.348,506.841 904.692,644.081 1146.04,502.611 1387.38,484.43 1628.72,459.315 1870.07,648.295 2111.41,630.606 2352.76,598.18 \n",
       "  \n",
       "  \"/>\n",
       "<polyline clip-path=\"url(#clip6302)\" style=\"stroke:#0000ff; stroke-width:4; stroke-opacity:1; fill:none\" points=\"\n",
       "  180.66,826.344 422.004,766.044 663.348,689.581 904.692,643.079 1146.04,741.177 1387.38,881.187 1628.72,1011.89 1870.07,590.917 2111.41,283.047 2352.76,674.148 \n",
       "  \n",
       "  \"/>\n",
       "<polyline clip-path=\"url(#clip6302)\" style=\"stroke:#0000ff; stroke-width:4; stroke-opacity:1; fill:none\" points=\"\n",
       "  180.66,826.344 422.004,766.044 663.348,689.581 904.692,643.079 1146.04,741.177 1387.38,881.187 1628.72,1011.89 1870.07,590.917 2111.41,283.047 2352.76,674.148 \n",
       "  \n",
       "  \"/>\n",
       "<polyline clip-path=\"url(#clip6302)\" style=\"stroke:#0000ff; stroke-width:4; stroke-opacity:1; fill:none\" points=\"\n",
       "  180.66,621.324 422.004,372.947 663.348,367.872 904.692,718.95 1146.04,476.811 1387.38,608.433 1628.72,733.893 1870.07,708.091 2111.41,594.169 2352.76,555.701 \n",
       "  \n",
       "  \"/>\n",
       "<polyline clip-path=\"url(#clip6302)\" style=\"stroke:#0000ff; stroke-width:4; stroke-opacity:1; fill:none\" points=\"\n",
       "  180.66,616.113 422.004,445.89 663.348,359.126 904.692,516.637 1146.04,484.621 1387.38,471.357 1628.72,570.662 1870.07,434.916 2111.41,663.434 2352.76,554.675 \n",
       "  \n",
       "  \"/>\n",
       "<polyline clip-path=\"url(#clip6302)\" style=\"stroke:#0000ff; stroke-width:4; stroke-opacity:1; fill:none\" points=\"\n",
       "  180.66,590.82 422.004,448.241 663.348,375.666 904.692,614.241 1146.04,384.788 1387.38,639.065 1628.72,518.467 1870.07,673.423 2111.41,628.934 2352.76,554.615 \n",
       "  \n",
       "  \"/>\n",
       "<polyline clip-path=\"url(#clip6302)\" style=\"stroke:#0000ff; stroke-width:4; stroke-opacity:1; fill:none\" points=\"\n",
       "  180.66,489.214 422.004,440.742 663.348,701.178 904.692,585.126 1146.04,671.577 1387.38,501.937 1628.72,693.098 1870.07,505.717 2111.41,596.944 2352.76,674.406 \n",
       "  \n",
       "  \"/>\n",
       "<polyline clip-path=\"url(#clip6302)\" style=\"stroke:#0000ff; stroke-width:4; stroke-opacity:1; fill:none\" points=\"\n",
       "  180.66,418.133 422.004,543.91 663.348,550.661 904.692,539.738 1146.04,581.341 1387.38,724.786 1628.72,521.228 1870.07,434.051 2111.41,532.056 2352.76,513.037 \n",
       "  \n",
       "  \"/>\n",
       "<polyline clip-path=\"url(#clip6302)\" style=\"stroke:#0000ff; stroke-width:4; stroke-opacity:1; fill:none\" points=\"\n",
       "  180.66,491.85 422.004,410.047 663.348,540.939 904.692,548.085 1146.04,629.459 1387.38,428.327 1628.72,676.309 1870.07,554.802 2111.41,610.455 2352.76,507.694 \n",
       "  \n",
       "  \"/>\n",
       "<polyline clip-path=\"url(#clip6302)\" style=\"stroke:#0000ff; stroke-width:4; stroke-opacity:1; fill:none\" points=\"\n",
       "  180.66,490.61 422.004,451.854 663.348,610.9 904.692,420.097 1146.04,793.499 1387.38,636.842 1628.72,731.18 1870.07,472.458 2111.41,362.629 2352.76,504.728 \n",
       "  \n",
       "  \"/>\n",
       "<polyline clip-path=\"url(#clip6302)\" style=\"stroke:#0000ff; stroke-width:4; stroke-opacity:1; fill:none\" points=\"\n",
       "  180.66,502.457 422.004,435.848 663.348,412.663 904.692,621.24 1146.04,583.492 1387.38,553.152 1628.72,474.542 1870.07,701.369 2111.41,671.783 2352.76,675.593 \n",
       "  \n",
       "  \"/>\n",
       "<polyline clip-path=\"url(#clip6302)\" style=\"stroke:#0000ff; stroke-width:4; stroke-opacity:1; fill:none\" points=\"\n",
       "  180.66,474.136 422.004,569.489 663.348,753.285 904.692,234.155 1146.04,760.844 1387.38,697.388 1628.72,810.926 1870.07,433.79 2111.41,623.778 2352.76,682.554 \n",
       "  \n",
       "  \"/>\n",
       "<polyline clip-path=\"url(#clip6302)\" style=\"stroke:#0000ff; stroke-width:4; stroke-opacity:1; fill:none\" points=\"\n",
       "  180.66,728.618 422.004,455.936 663.348,722.214 904.692,662.192 1146.04,769.498 1387.38,837.378 1628.72,910.463 1870.07,785.972 2111.41,386.166 2352.76,462.282 \n",
       "  \n",
       "  \"/>\n",
       "<polyline clip-path=\"url(#clip6302)\" style=\"stroke:#0000ff; stroke-width:4; stroke-opacity:1; fill:none\" points=\"\n",
       "  180.66,427.048 422.004,265.257 663.348,515.588 904.692,382.052 1146.04,492.769 1387.38,511.012 1628.72,586.605 1870.07,410.282 2111.41,576.88 2352.76,451.348 \n",
       "  \n",
       "  \"/>\n",
       "<polyline clip-path=\"url(#clip6302)\" style=\"stroke:#0000ff; stroke-width:4; stroke-opacity:1; fill:none\" points=\"\n",
       "  180.66,558.343 422.004,445.573 663.348,545.959 904.692,530.24 1146.04,661.019 1387.38,684.439 1628.72,619.978 1870.07,482.299 2111.41,484.084 2352.76,450.716 \n",
       "  \n",
       "  \"/>\n",
       "<polyline clip-path=\"url(#clip6302)\" style=\"stroke:#0000ff; stroke-width:4; stroke-opacity:1; fill:none\" points=\"\n",
       "  180.66,727.206 422.004,571.175 663.348,318.052 904.692,661.835 1146.04,535.695 1387.38,665.356 1628.72,621.22 1870.07,782.522 2111.41,726.369 2352.76,697.43 \n",
       "  \n",
       "  \"/>\n",
       "<polyline clip-path=\"url(#clip6302)\" style=\"stroke:#0000ff; stroke-width:4; stroke-opacity:1; fill:none\" points=\"\n",
       "  180.66,401.939 422.004,330.237 663.348,427.523 904.692,364.272 1146.04,453.676 1387.38,514.911 1628.72,538.733 1870.07,512.802 2111.41,589.576 2352.76,446.078 \n",
       "  \n",
       "  \"/>\n",
       "<polyline clip-path=\"url(#clip6302)\" style=\"stroke:#0000ff; stroke-width:4; stroke-opacity:1; fill:none\" points=\"\n",
       "  180.66,709.758 422.004,459.486 663.348,709.942 904.692,638.832 1146.04,802.019 1387.38,830.595 1628.72,949.355 1870.07,787.575 2111.41,369.905 2352.76,444.942 \n",
       "  \n",
       "  \"/>\n",
       "<polyline clip-path=\"url(#clip6302)\" style=\"stroke:#0000ff; stroke-width:4; stroke-opacity:1; fill:none\" points=\"\n",
       "  180.66,479.926 422.004,488.514 663.348,758.416 904.692,424.601 1146.04,726.271 1387.38,548.947 1628.72,677.491 1870.07,387.28 2111.41,409.312 2352.76,712.377 \n",
       "  \n",
       "  \"/>\n",
       "<polyline clip-path=\"url(#clip6302)\" style=\"stroke:#0000ff; stroke-width:4; stroke-opacity:1; fill:none\" points=\"\n",
       "  180.66,558.81 422.004,660.436 663.348,649.052 904.692,269.698 1146.04,769.976 1387.38,921.864 1628.72,789.425 1870.07,749.688 2111.41,665.493 2352.76,422.844 \n",
       "  \n",
       "  \"/>\n",
       "<polyline clip-path=\"url(#clip6302)\" style=\"stroke:#0000ff; stroke-width:4; stroke-opacity:1; fill:none\" points=\"\n",
       "  180.66,480.725 422.004,303.856 663.348,842.013 904.692,414.289 1146.04,635.213 1387.38,670.884 1628.72,734.908 1870.07,611.07 2111.41,654.421 2352.76,422.249 \n",
       "  \n",
       "  \"/>\n",
       "<polyline clip-path=\"url(#clip6302)\" style=\"stroke:#0000ff; stroke-width:4; stroke-opacity:1; fill:none\" points=\"\n",
       "  180.66,571.18 422.004,446.812 663.348,501.361 904.692,541.504 1146.04,384.893 1387.38,569.113 1628.72,468.898 1870.07,764.516 2111.41,756.211 2352.76,410.394 \n",
       "  \n",
       "  \"/>\n",
       "<polyline clip-path=\"url(#clip6302)\" style=\"stroke:#0000ff; stroke-width:4; stroke-opacity:1; fill:none\" points=\"\n",
       "  180.66,673.935 422.004,384.262 663.348,331.35 904.692,673.143 1146.04,537.979 1387.38,716.826 1628.72,625.63 1870.07,614.276 2111.41,666.689 2352.76,727.84 \n",
       "  \n",
       "  \"/>\n",
       "<polyline clip-path=\"url(#clip6302)\" style=\"stroke:#0000ff; stroke-width:4; stroke-opacity:1; fill:none\" points=\"\n",
       "  180.66,546.541 422.004,794.862 663.348,991.844 904.692,655.219 1146.04,868.426 1387.38,969.657 1628.72,437.902 1870.07,935.96 2111.41,714.254 2352.76,390.768 \n",
       "  \n",
       "  \"/>\n",
       "<polyline clip-path=\"url(#clip6302)\" style=\"stroke:#0000ff; stroke-width:4; stroke-opacity:1; fill:none\" points=\"\n",
       "  180.66,768.589 422.004,693.546 663.348,717.949 904.692,661.025 1146.04,812.363 1387.38,780.531 1628.72,960.071 1870.07,780.551 2111.41,371.021 2352.76,375.631 \n",
       "  \n",
       "  \"/>\n",
       "<polyline clip-path=\"url(#clip6302)\" style=\"stroke:#0000ff; stroke-width:4; stroke-opacity:1; fill:none\" points=\"\n",
       "  180.66,597.891 422.004,643.044 663.348,739.776 904.692,564.904 1146.04,813.593 1387.38,748.348 1628.72,796.818 1870.07,701.006 2111.41,783.741 2352.76,359.068 \n",
       "  \n",
       "  \"/>\n",
       "<polyline clip-path=\"url(#clip6302)\" style=\"stroke:#0000ff; stroke-width:4; stroke-opacity:1; fill:none\" points=\"\n",
       "  180.66,422.46 422.004,335.007 663.348,558.49 904.692,631.595 1146.04,512.818 1387.38,624.435 1628.72,490.708 1870.07,726.353 2111.41,696.977 2352.76,352.304 \n",
       "  \n",
       "  \"/>\n",
       "<polyline clip-path=\"url(#clip6302)\" style=\"stroke:#0000ff; stroke-width:4; stroke-opacity:1; fill:none\" points=\"\n",
       "  180.66,542.209 422.004,553.064 663.348,798.912 904.692,606.23 1146.04,842.075 1387.38,717.435 1628.72,932.287 1870.07,588.306 2111.41,735.06 2352.76,351.407 \n",
       "  \n",
       "  \"/>\n",
       "<polyline clip-path=\"url(#clip6302)\" style=\"stroke:#0000ff; stroke-width:4; stroke-opacity:1; fill:none\" points=\"\n",
       "  180.66,679.37 422.004,749.58 663.348,819.598 904.692,257.757 1146.04,1031.99 1387.38,931.258 1628.72,977.91 1870.07,512.91 2111.41,504.704 2352.76,789.314 \n",
       "  \n",
       "  \"/>\n",
       "<polyline clip-path=\"url(#clip6302)\" style=\"stroke:#0000ff; stroke-width:4; stroke-opacity:1; fill:none\" points=\"\n",
       "  180.66,540.961 422.004,578.354 663.348,705.495 904.692,250.506 1146.04,822.926 1387.38,829.265 1628.72,891.097 1870.07,507.132 2111.41,576.691 2352.76,801.207 \n",
       "  \n",
       "  \"/>\n",
       "<polyline clip-path=\"url(#clip6302)\" style=\"stroke:#0000ff; stroke-width:4; stroke-opacity:1; fill:none\" points=\"\n",
       "  180.66,474.483 422.004,329.401 663.348,512.133 904.692,609.518 1146.04,507.341 1387.38,549.027 1628.72,576.07 1870.07,580.282 2111.41,575.415 2352.76,319.633 \n",
       "  \n",
       "  \"/>\n",
       "<polyline clip-path=\"url(#clip6302)\" style=\"stroke:#0000ff; stroke-width:4; stroke-opacity:1; fill:none\" points=\"\n",
       "  180.66,764.627 422.004,915.871 663.348,531.097 904.692,598.885 1146.04,517.603 1387.38,777.253 1628.72,864.607 1870.07,763.246 2111.41,615.617 2352.76,290.264 \n",
       "  \n",
       "  \"/>\n",
       "<polyline clip-path=\"url(#clip6302)\" style=\"stroke:#0000ff; stroke-width:4; stroke-opacity:1; fill:none\" points=\"\n",
       "  180.66,535.316 422.004,479.057 663.348,757.701 904.692,540.769 1146.04,747.273 1387.38,700.617 1628.72,698.454 1870.07,603.835 2111.41,792.916 2352.76,284.194 \n",
       "  \n",
       "  \"/>\n",
       "<polyline clip-path=\"url(#clip6302)\" style=\"stroke:#0000ff; stroke-width:4; stroke-opacity:1; fill:none\" points=\"\n",
       "  180.66,865.597 422.004,891.98 663.348,804.321 904.692,521.419 1146.04,801.191 1387.38,890.421 1628.72,920.75 1870.07,866.841 2111.41,525.808 2352.76,254.99 \n",
       "  \n",
       "  \"/>\n",
       "<polyline clip-path=\"url(#clip6302)\" style=\"stroke:#0000ff; stroke-width:4; stroke-opacity:1; fill:none\" points=\"\n",
       "  180.66,650.402 422.004,702.478 663.348,1036.95 904.692,515.426 1146.04,883.693 1387.38,793.799 1628.72,809.416 1870.07,632.163 2111.41,652.078 2352.76,215.851 \n",
       "  \n",
       "  \"/>\n",
       "<polyline clip-path=\"url(#clip6302)\" style=\"stroke:#0000ff; stroke-width:4; stroke-opacity:1; fill:none\" points=\"\n",
       "  180.66,587.784 422.004,561.156 663.348,807.555 904.692,207.391 1146.04,913.883 1387.38,794.804 1628.72,876.061 1870.07,488.542 2111.41,569.92 2352.76,806.203 \n",
       "  \n",
       "  \"/>\n",
       "<polyline clip-path=\"url(#clip6302)\" style=\"stroke:#0000ff; stroke-width:4; stroke-opacity:1; fill:none\" points=\"\n",
       "  180.66,666.299 422.004,677.453 663.348,730.723 904.692,592.306 1146.04,832.106 1387.38,825.185 1628.72,819.908 1870.07,604.601 2111.41,641.718 2352.76,203.104 \n",
       "  \n",
       "  \"/>\n",
       "<polyline clip-path=\"url(#clip6302)\" style=\"stroke:#0000ff; stroke-width:4; stroke-opacity:1; fill:none\" points=\"\n",
       "  180.66,605.434 422.004,621.012 663.348,937.756 904.692,544.006 1146.04,844.579 1387.38,759.288 1628.72,859.159 1870.07,667.909 2111.41,630.064 2352.76,178.593 \n",
       "  \n",
       "  \"/>\n",
       "<polyline clip-path=\"url(#clip6302)\" style=\"stroke:#0000ff; stroke-width:4; stroke-opacity:1; fill:none\" points=\"\n",
       "  180.66,605.434 422.004,621.012 663.348,937.756 904.692,544.006 1146.04,844.579 1387.38,759.288 1628.72,859.159 1870.07,667.909 2111.41,630.064 2352.76,178.593 \n",
       "  \n",
       "  \"/>\n",
       "<polyline clip-path=\"url(#clip6302)\" style=\"stroke:#0000ff; stroke-width:4; stroke-opacity:1; fill:none\" points=\"\n",
       "  180.66,605.434 422.004,621.012 663.348,937.756 904.692,544.006 1146.04,844.579 1387.38,759.288 1628.72,859.159 1870.07,667.909 2111.41,630.064 2352.76,178.593 \n",
       "  \n",
       "  \"/>\n",
       "<polyline clip-path=\"url(#clip6302)\" style=\"stroke:#0000ff; stroke-width:4; stroke-opacity:1; fill:none\" points=\"\n",
       "  180.66,605.434 422.004,621.012 663.348,937.756 904.692,544.006 1146.04,844.579 1387.38,759.288 1628.72,859.159 1870.07,667.909 2111.41,630.064 2352.76,178.593 \n",
       "  \n",
       "  \"/>\n",
       "<polyline clip-path=\"url(#clip6302)\" style=\"stroke:#0000ff; stroke-width:4; stroke-opacity:1; fill:none\" points=\"\n",
       "  180.66,605.434 422.004,621.012 663.348,937.756 904.692,544.006 1146.04,844.579 1387.38,759.288 1628.72,859.159 1870.07,667.909 2111.41,630.064 2352.76,178.593 \n",
       "  \n",
       "  \"/>\n",
       "<polyline clip-path=\"url(#clip6302)\" style=\"stroke:#0000ff; stroke-width:4; stroke-opacity:1; fill:none\" points=\"\n",
       "  180.66,571.25 422.004,372.155 663.348,816.951 904.692,597.486 1146.04,745.113 1387.38,782.758 1628.72,655.96 1870.07,831.452 2111.41,721.046 2352.76,173.668 \n",
       "  \n",
       "  \"/>\n",
       "<polyline clip-path=\"url(#clip6302)\" style=\"stroke:#0000ff; stroke-width:4; stroke-opacity:1; fill:none\" points=\"\n",
       "  180.66,591.23 422.004,568.227 663.348,597.842 904.692,451.733 1146.04,686.037 1387.38,685.774 1628.72,818.006 1870.07,307.911 2111.41,408.174 2352.76,449.024 \n",
       "  \n",
       "  \"/>\n",
       "<polyline clip-path=\"url(#clip6302)\" style=\"stroke:#0000ff; stroke-width:4; stroke-opacity:1; fill:none\" points=\"\n",
       "  180.66,841.738 422.004,463.297 663.348,510.868 904.692,779.533 1146.04,779.234 1387.38,845.313 1628.72,769.101 1870.07,857.567 2111.41,775.631 2352.76,768.12 \n",
       "  \n",
       "  \"/>\n",
       "<polyline clip-path=\"url(#clip6302)\" style=\"stroke:#0000ff; stroke-width:4; stroke-opacity:1; fill:none\" points=\"\n",
       "  180.66,1032 422.004,818.693 663.348,927.248 904.692,499.356 1146.04,1260.73 1387.38,1103.39 1628.72,1173.5 1870.07,798.644 2111.41,760.258 2352.76,762.096 \n",
       "  \n",
       "  \"/>\n",
       "<polyline clip-path=\"url(#clip6302)\" style=\"stroke:#0000ff; stroke-width:4; stroke-opacity:1; fill:none\" points=\"\n",
       "  180.66,786.974 422.004,604.291 663.348,581.607 904.692,808.786 1146.04,640.218 1387.38,799.653 1628.72,827.512 1870.07,908.805 2111.41,805.142 2352.76,793.88 \n",
       "  \n",
       "  \"/>\n",
       "<polyline clip-path=\"url(#clip6302)\" style=\"stroke:#0000ff; stroke-width:4; stroke-opacity:1; fill:none\" points=\"\n",
       "  180.66,747.163 422.004,546.865 663.348,731.958 904.692,503.301 1146.04,691.966 1387.38,876.34 1628.72,976.435 1870.07,726.249 2111.41,766.11 2352.76,592.272 \n",
       "  \n",
       "  \"/>\n",
       "<polyline clip-path=\"url(#clip6302)\" style=\"stroke:#0000ff; stroke-width:4; stroke-opacity:1; fill:none\" points=\"\n",
       "  180.66,949.688 422.004,740.729 663.348,898.329 904.692,880.372 1146.04,960.737 1387.38,1003.81 1628.72,1003.13 1870.07,1053.37 2111.41,676.991 2352.76,268.406 \n",
       "  \n",
       "  \"/>\n",
       "<polyline clip-path=\"url(#clip6302)\" style=\"stroke:#0000ff; stroke-width:4; stroke-opacity:1; fill:none\" points=\"\n",
       "  180.66,490.743 422.004,448.164 663.348,607.16 904.692,540.827 1146.04,704.648 1387.38,557.198 1628.72,754.662 1870.07,589.398 2111.41,679.454 2352.76,590.527 \n",
       "  \n",
       "  \"/>\n",
       "<polyline clip-path=\"url(#clip6302)\" style=\"stroke:#0000ff; stroke-width:4; stroke-opacity:1; fill:none\" points=\"\n",
       "  180.66,713.149 422.004,850.51 663.348,1138.59 904.692,649.366 1146.04,870.663 1387.38,983.756 1628.72,668.243 1870.07,926.054 2111.41,738.55 2352.76,287.112 \n",
       "  \n",
       "  \"/>\n",
       "<polyline clip-path=\"url(#clip6302)\" style=\"stroke:#0000ff; stroke-width:4; stroke-opacity:1; fill:none\" points=\"\n",
       "  180.66,531.774 422.004,704.155 663.348,874.973 904.692,378.936 1146.04,810.353 1387.38,809.98 1628.72,745.583 1870.07,588.013 2111.41,635.828 2352.76,882.861 \n",
       "  \n",
       "  \"/>\n",
       "<polyline clip-path=\"url(#clip6302)\" style=\"stroke:#0000ff; stroke-width:4; stroke-opacity:1; fill:none\" points=\"\n",
       "  180.66,736.165 422.004,438.336 663.348,681.952 904.692,745.962 1146.04,762.158 1387.38,951.354 1628.72,802.037 1870.07,668.821 2111.41,505.651 2352.76,502.328 \n",
       "  \n",
       "  \"/>\n",
       "<polyline clip-path=\"url(#clip6302)\" style=\"stroke:#0000ff; stroke-width:4; stroke-opacity:1; fill:none\" points=\"\n",
       "  180.66,751.333 422.004,463.721 663.348,878.375 904.692,733.377 1146.04,852.004 1387.38,879.391 1628.72,780.497 1870.07,970.544 2111.41,856.201 2352.76,325.313 \n",
       "  \n",
       "  \"/>\n",
       "<polyline clip-path=\"url(#clip6302)\" style=\"stroke:#0000ff; stroke-width:4; stroke-opacity:1; fill:none\" points=\"\n",
       "  180.66,650.096 422.004,673.64 663.348,744.935 904.692,568.718 1146.04,872.639 1387.38,728.319 1628.72,584.995 1870.07,736.601 2111.41,666.389 2352.76,455.437 \n",
       "  \n",
       "  \"/>\n",
       "<polyline clip-path=\"url(#clip6302)\" style=\"stroke:#0000ff; stroke-width:4; stroke-opacity:1; fill:none\" points=\"\n",
       "  180.66,884.522 422.004,513.248 663.348,817.89 904.692,709.032 1146.04,877.303 1387.38,1055.31 1628.72,987.577 1870.07,836.071 2111.41,462.67 2352.76,448.543 \n",
       "  \n",
       "  \"/>\n",
       "<polyline clip-path=\"url(#clip6302)\" style=\"stroke:#0000ff; stroke-width:4; stroke-opacity:1; fill:none\" points=\"\n",
       "  180.66,648.081 422.004,803.507 663.348,897.165 904.692,447.354 1146.04,982.453 1387.38,995.353 1628.72,790.653 1870.07,676.771 2111.41,683.925 2352.76,824.17 \n",
       "  \n",
       "  \"/>\n",
       "<polyline clip-path=\"url(#clip6302)\" style=\"stroke:#0000ff; stroke-width:4; stroke-opacity:1; fill:none\" points=\"\n",
       "  180.66,878.178 422.004,905.843 663.348,905.837 904.692,467.338 1146.04,1079.79 1387.38,1098.25 1628.72,1074.11 1870.07,766.984 2111.41,696.133 2352.76,604.442 \n",
       "  \n",
       "  \"/>\n",
       "<polyline clip-path=\"url(#clip6302)\" style=\"stroke:#0000ff; stroke-width:4; stroke-opacity:1; fill:none\" points=\"\n",
       "  180.66,628.154 422.004,552.833 663.348,793.421 904.692,233.851 1146.04,861.652 1387.38,772.858 1628.72,928.061 1870.07,505.886 2111.41,559.299 2352.76,876.324 \n",
       "  \n",
       "  \"/>\n",
       "<polyline clip-path=\"url(#clip6302)\" style=\"stroke:#0000ff; stroke-width:4; stroke-opacity:1; fill:none\" points=\"\n",
       "  180.66,526.399 422.004,370.524 663.348,715.198 904.692,544.483 1146.04,787.471 1387.38,691.234 1628.72,878.593 1870.07,489.839 2111.41,573.531 2352.76,802.687 \n",
       "  \n",
       "  \"/>\n",
       "<polyline clip-path=\"url(#clip6302)\" style=\"stroke:#0000ff; stroke-width:4; stroke-opacity:1; fill:none\" points=\"\n",
       "  180.66,812.977 422.004,873.36 663.348,852.246 904.692,626.778 1146.04,888.535 1387.38,888.377 1628.72,945.792 1870.07,821.652 2111.41,669.03 2352.76,653.105 \n",
       "  \n",
       "  \"/>\n",
       "<polyline clip-path=\"url(#clip6302)\" style=\"stroke:#0000ff; stroke-width:4; stroke-opacity:1; fill:none\" points=\"\n",
       "  180.66,746.582 422.004,893.124 663.348,994.269 904.692,614.019 1146.04,968.345 1387.38,860.103 1628.72,844.35 1870.07,809.434 2111.41,748.804 2352.76,507.582 \n",
       "  \n",
       "  \"/>\n",
       "<polyline clip-path=\"url(#clip6302)\" style=\"stroke:#0000ff; stroke-width:4; stroke-opacity:1; fill:none\" points=\"\n",
       "  180.66,840.069 422.004,694.063 663.348,938.037 904.692,546.943 1146.04,958.491 1387.38,1131.44 1628.72,1069.45 1870.07,811.248 2111.41,691.904 2352.76,649.652 \n",
       "  \n",
       "  \"/>\n",
       "<polyline clip-path=\"url(#clip6302)\" style=\"stroke:#0000ff; stroke-width:4; stroke-opacity:1; fill:none\" points=\"\n",
       "  180.66,445.731 422.004,614.354 663.348,582.047 904.692,246.966 1146.04,737.457 1387.38,710.471 1628.72,709.264 1870.07,509.964 2111.41,537.479 2352.76,577.857 \n",
       "  \n",
       "  \"/>\n",
       "<polyline clip-path=\"url(#clip6302)\" style=\"stroke:#0000ff; stroke-width:4; stroke-opacity:1; fill:none\" points=\"\n",
       "  180.66,840.628 422.004,771.386 663.348,976.812 904.692,853.884 1146.04,768.162 1387.38,826.268 1628.72,862.404 1870.07,1041.24 2111.41,791.331 2352.76,515.905 \n",
       "  \n",
       "  \"/>\n",
       "<polyline clip-path=\"url(#clip6302)\" style=\"stroke:#0000ff; stroke-width:4; stroke-opacity:1; fill:none\" points=\"\n",
       "  180.66,807.101 422.004,744.235 663.348,734.426 904.692,689.026 1146.04,904.685 1387.38,851.869 1628.72,794.779 1870.07,606.829 2111.41,487.117 2352.76,316.219 \n",
       "  \n",
       "  \"/>\n",
       "<polyline clip-path=\"url(#clip6302)\" style=\"stroke:#0000ff; stroke-width:4; stroke-opacity:1; fill:none\" points=\"\n",
       "  180.66,856.151 422.004,844.36 663.348,924.116 904.692,765.769 1146.04,832.573 1387.38,889.853 1628.72,1079.69 1870.07,620.445 2111.41,408.789 2352.76,753.159 \n",
       "  \n",
       "  \"/>\n",
       "<polyline clip-path=\"url(#clip6302)\" style=\"stroke:#0000ff; stroke-width:4; stroke-opacity:1; fill:none\" points=\"\n",
       "  180.66,495.287 422.004,379.6 663.348,414.28 904.692,591.348 1146.04,406.606 1387.38,694.847 1628.72,437.485 1870.07,800.458 2111.41,648.086 2352.76,497.929 \n",
       "  \n",
       "  \"/>\n",
       "<polyline clip-path=\"url(#clip6302)\" style=\"stroke:#0000ff; stroke-width:4; stroke-opacity:1; fill:none\" points=\"\n",
       "  180.66,779.817 422.004,684.709 663.348,931.104 904.692,525.91 1146.04,1085.32 1387.38,897.762 1628.72,1231.13 1870.07,757.888 2111.41,711.033 2352.76,889.616 \n",
       "  \n",
       "  \"/>\n",
       "<polyline clip-path=\"url(#clip6302)\" style=\"stroke:#0000ff; stroke-width:4; stroke-opacity:1; fill:none\" points=\"\n",
       "  180.66,697.779 422.004,673.56 663.348,640.72 904.692,418.172 1146.04,755.479 1387.38,757.987 1628.72,890.274 1870.07,656.161 2111.41,760.613 2352.76,829.867 \n",
       "  \n",
       "  \"/>\n",
       "<polyline clip-path=\"url(#clip6302)\" style=\"stroke:#0000ff; stroke-width:4; stroke-opacity:1; fill:none\" points=\"\n",
       "  180.66,616.433 422.004,701.68 663.348,949.88 904.692,565.794 1146.04,840.452 1387.38,790.253 1628.72,758.863 1870.07,682.989 2111.41,703.513 2352.76,218.91 \n",
       "  \n",
       "  \"/>\n",
       "<polyline clip-path=\"url(#clip6302)\" style=\"stroke:#0000ff; stroke-width:4; stroke-opacity:1; fill:none\" points=\"\n",
       "  180.66,574.13 422.004,440.696 663.348,433.995 904.692,664.905 1146.04,368.559 1387.38,583.915 1628.72,545.476 1870.07,795.169 2111.41,653.499 2352.76,446.985 \n",
       "  \n",
       "  \"/>\n",
       "<polyline clip-path=\"url(#clip6302)\" style=\"stroke:#0000ff; stroke-width:4; stroke-opacity:1; fill:none\" points=\"\n",
       "  180.66,457.671 422.004,390.8 663.348,731.434 904.692,500.744 1146.04,622.903 1387.38,627.335 1628.72,741.867 1870.07,255.448 2111.41,443.609 2352.76,630.39 \n",
       "  \n",
       "  \"/>\n",
       "<polyline clip-path=\"url(#clip6302)\" style=\"stroke:#0000ff; stroke-width:4; stroke-opacity:1; fill:none\" points=\"\n",
       "  180.66,613.826 422.004,900.661 663.348,1059.32 904.692,520.292 1146.04,911.817 1387.38,1025.67 1628.72,610.216 1870.07,894.705 2111.41,720.29 2352.76,530.32 \n",
       "  \n",
       "  \"/>\n",
       "<polyline clip-path=\"url(#clip6302)\" style=\"stroke:#0000ff; stroke-width:4; stroke-opacity:1; fill:none\" points=\"\n",
       "  180.66,916.232 422.004,764.398 663.348,911.758 904.692,863.168 1146.04,1122.25 1387.38,878.108 1628.72,902.144 1870.07,894.428 2111.41,655.483 2352.76,355.598 \n",
       "  \n",
       "  \"/>\n",
       "<polyline clip-path=\"url(#clip6302)\" style=\"stroke:#0000ff; stroke-width:4; stroke-opacity:1; fill:none\" points=\"\n",
       "  180.66,645.569 422.004,698.752 663.348,942.959 904.692,327.861 1146.04,1089.04 1387.38,807.598 1628.72,972.447 1870.07,578.847 2111.41,581.917 2352.76,787.78 \n",
       "  \n",
       "  \"/>\n",
       "<polyline clip-path=\"url(#clip6302)\" style=\"stroke:#0000ff; stroke-width:4; stroke-opacity:1; fill:none\" points=\"\n",
       "  180.66,648.85 422.004,430.286 663.348,534.542 904.692,495.272 1146.04,541.12 1387.38,711.631 1628.72,823.506 1870.07,627.509 2111.41,361.356 2352.76,641.538 \n",
       "  \n",
       "  \"/>\n",
       "<polyline clip-path=\"url(#clip6302)\" style=\"stroke:#0000ff; stroke-width:4; stroke-opacity:1; fill:none\" points=\"\n",
       "  180.66,680.07 422.004,633.546 663.348,616.56 904.692,510.346 1146.04,698.59 1387.38,764.129 1628.72,556.703 1870.07,726.679 2111.41,687.12 2352.76,319.239 \n",
       "  \n",
       "  \"/>\n",
       "<polyline clip-path=\"url(#clip6302)\" style=\"stroke:#0000ff; stroke-width:4; stroke-opacity:1; fill:none\" points=\"\n",
       "  180.66,658.296 422.004,556.644 663.348,679.133 904.692,559.124 1146.04,805.643 1387.38,707.048 1628.72,1003.85 1870.07,582.805 2111.41,572.692 2352.76,346.76 \n",
       "  \n",
       "  \"/>\n",
       "<polyline clip-path=\"url(#clip6302)\" style=\"stroke:#0000ff; stroke-width:4; stroke-opacity:1; fill:none\" points=\"\n",
       "  180.66,565.262 422.004,392.239 663.348,412.709 904.692,659.581 1146.04,347.597 1387.38,695.203 1628.72,519.468 1870.07,787.435 2111.41,675.928 2352.76,582.862 \n",
       "  \n",
       "  \"/>\n",
       "<polyline clip-path=\"url(#clip6302)\" style=\"stroke:#0000ff; stroke-width:4; stroke-opacity:1; fill:none\" points=\"\n",
       "  180.66,756.96 422.004,549.388 663.348,664.087 904.692,694.965 1146.04,637.778 1387.38,643.542 1628.72,887.024 1870.07,734.377 2111.41,588.284 2352.76,304.796 \n",
       "  \n",
       "  \"/>\n",
       "<polyline clip-path=\"url(#clip6302)\" style=\"stroke:#0000ff; stroke-width:4; stroke-opacity:1; fill:none\" points=\"\n",
       "  180.66,635.58 422.004,680.156 663.348,861.661 904.692,519.088 1146.04,847.517 1387.38,856.821 1628.72,841.172 1870.07,772.387 2111.41,675.634 2352.76,285.718 \n",
       "  \n",
       "  \"/>\n",
       "<polyline clip-path=\"url(#clip6302)\" style=\"stroke:#0000ff; stroke-width:4; stroke-opacity:1; fill:none\" points=\"\n",
       "  180.66,483.794 422.004,646.831 663.348,890.2 904.692,521.279 1146.04,881.456 1387.38,779.7 1628.72,579.076 1870.07,642.069 2111.41,627.782 2352.76,319.507 \n",
       "  \n",
       "  \"/>\n",
       "<polyline clip-path=\"url(#clip6302)\" style=\"stroke:#0000ff; stroke-width:4; stroke-opacity:1; fill:none\" points=\"\n",
       "  180.66,910.526 422.004,931.974 663.348,984.704 904.692,670.485 1146.04,940.728 1387.38,1210.75 1628.72,785.862 1870.07,944.354 2111.41,688.929 2352.76,626.525 \n",
       "  \n",
       "  \"/>\n",
       "<polyline clip-path=\"url(#clip6302)\" style=\"stroke:#0000ff; stroke-width:4; stroke-opacity:1; fill:none\" points=\"\n",
       "  180.66,785.811 422.004,476.354 663.348,797.513 904.692,595.505 1146.04,863.831 1387.38,947.066 1628.72,984.62 1870.07,808.647 2111.41,396.608 2352.76,486.744 \n",
       "  \n",
       "  \"/>\n",
       "<polyline clip-path=\"url(#clip6302)\" style=\"stroke:#0000ff; stroke-width:4; stroke-opacity:1; fill:none\" points=\"\n",
       "  180.66,583.708 422.004,449.431 663.348,611.66 904.692,654.636 1146.04,483.497 1387.38,795.093 1628.72,587.515 1870.07,620.831 2111.41,505.451 2352.76,711.29 \n",
       "  \n",
       "  \"/>\n",
       "<polyline clip-path=\"url(#clip6302)\" style=\"stroke:#0000ff; stroke-width:4; stroke-opacity:1; fill:none\" points=\"\n",
       "  180.66,558.258 422.004,867.728 663.348,1043.76 904.692,504.929 1146.04,848.722 1387.38,992.474 1628.72,563.415 1870.07,920.895 2111.41,697.932 2352.76,347.457 \n",
       "  \n",
       "  \"/>\n",
       "<polyline clip-path=\"url(#clip6302)\" style=\"stroke:#0000ff; stroke-width:4; stroke-opacity:1; fill:none\" points=\"\n",
       "  180.66,866.121 422.004,870.185 663.348,783.524 904.692,522.827 1146.04,969.029 1387.38,1084.17 1628.72,888.525 1870.07,886.878 2111.41,607.63 2352.76,344.827 \n",
       "  \n",
       "  \"/>\n",
       "<polyline clip-path=\"url(#clip6302)\" style=\"stroke:#0000ff; stroke-width:4; stroke-opacity:1; fill:none\" points=\"\n",
       "  180.66,577.686 422.004,831.853 663.348,786.296 904.692,387.884 1146.04,990.141 1387.38,954.853 1628.72,817.615 1870.07,751.013 2111.41,847.704 2352.76,632.322 \n",
       "  \n",
       "  \"/>\n",
       "<polyline clip-path=\"url(#clip6302)\" style=\"stroke:#0000ff; stroke-width:4; stroke-opacity:1; fill:none\" points=\"\n",
       "  180.66,473.496 422.004,297.201 663.348,382.38 904.692,586.893 1146.04,359.301 1387.38,648.419 1628.72,499.363 1870.07,745.075 2111.41,621.809 2352.76,504.21 \n",
       "  \n",
       "  \"/>\n",
       "<polyline clip-path=\"url(#clip6302)\" style=\"stroke:#0000ff; stroke-width:4; stroke-opacity:1; fill:none\" points=\"\n",
       "  180.66,425.428 422.004,378.471 663.348,436.947 904.692,618.977 1146.04,411.063 1387.38,581.573 1628.72,430.99 1870.07,791.624 2111.41,704.566 2352.76,486.38 \n",
       "  \n",
       "  \"/>\n",
       "<polyline clip-path=\"url(#clip6302)\" style=\"stroke:#0000ff; stroke-width:4; stroke-opacity:1; fill:none\" points=\"\n",
       "  180.66,853.409 422.004,847.738 663.348,761.73 904.692,723.94 1146.04,925.311 1387.38,944.657 1628.72,861.904 1870.07,766.768 2111.41,728.413 2352.76,683.878 \n",
       "  \n",
       "  \"/>\n",
       "<polyline clip-path=\"url(#clip6302)\" style=\"stroke:#0000ff; stroke-width:4; stroke-opacity:1; fill:none\" points=\"\n",
       "  180.66,626.29 422.004,678.981 663.348,769.377 904.692,596.227 1146.04,737.212 1387.38,791.388 1628.72,843.158 1870.07,575.554 2111.41,798.056 2352.76,481.992 \n",
       "  \n",
       "  \"/>\n",
       "<polyline clip-path=\"url(#clip6302)\" style=\"stroke:#ffa500; stroke-width:4; stroke-opacity:1; fill:none\" points=\"\n",
       "  180.66,461.067 422.004,405.285 663.348,763.021 904.692,531.193 1146.04,568.973 1387.38,654.7 1628.72,603.158 1870.07,685.748 2111.41,712.96 2352.76,47.2441 \n",
       "  \n",
       "  \"/>\n",
       "<polyline clip-path=\"url(#clip6302)\" style=\"stroke:#ffa500; stroke-width:4; stroke-opacity:1; fill:none\" points=\"\n",
       "  180.66,648.681 422.004,476.168 663.348,324.393 904.692,726.123 1146.04,545.961 1387.38,394.193 1628.72,824.517 1870.07,513.952 2111.41,631.303 2352.76,718.651 \n",
       "  \n",
       "  \"/>\n",
       "<polyline clip-path=\"url(#clip6302)\" style=\"stroke:#ffa500; stroke-width:4; stroke-opacity:1; fill:none\" points=\"\n",
       "  180.66,682.482 422.004,526.996 663.348,201.032 904.692,656.018 1146.04,488.916 1387.38,517.853 1628.72,829.981 1870.07,448.015 2111.41,554.09 2352.76,720.185 \n",
       "  \n",
       "  \"/>\n",
       "<polyline clip-path=\"url(#clip6302)\" style=\"stroke:#ffa500; stroke-width:4; stroke-opacity:1; fill:none\" points=\"\n",
       "  180.66,871.417 422.004,607.619 663.348,657.847 904.692,584.868 1146.04,913.464 1387.38,902.613 1628.72,920.107 1870.07,738.115 2111.41,491.011 2352.76,234.903 \n",
       "  \n",
       "  \"/>\n",
       "<polyline clip-path=\"url(#clip6302)\" style=\"stroke:#ffa500; stroke-width:4; stroke-opacity:1; fill:none\" points=\"\n",
       "  180.66,357.788 422.004,287.446 663.348,348.108 904.692,433.813 1146.04,587.217 1387.38,545.581 1628.72,824.966 1870.07,374.256 2111.41,300.915 2352.76,540.307 \n",
       "  \n",
       "  \"/>\n",
       "<polyline clip-path=\"url(#clip6302)\" style=\"stroke:#ffa500; stroke-width:4; stroke-opacity:1; fill:none\" points=\"\n",
       "  180.66,373.417 422.004,390.263 663.348,718.145 904.692,441.68 1146.04,596.648 1387.38,527.57 1628.72,660.401 1870.07,271.767 2111.41,481.698 2352.76,541.451 \n",
       "  \n",
       "  \"/>\n",
       "<polyline clip-path=\"url(#clip6302)\" style=\"stroke:#ffa500; stroke-width:4; stroke-opacity:1; fill:none\" points=\"\n",
       "  180.66,407.331 422.004,275.615 663.348,431.052 904.692,510.549 1146.04,390.298 1387.38,368.968 1628.72,359.421 1870.07,551.254 2111.41,530.811 2352.76,513.749 \n",
       "  \n",
       "  \"/>\n",
       "<polyline clip-path=\"url(#clip6302)\" style=\"stroke:#ffa500; stroke-width:4; stroke-opacity:1; fill:none\" points=\"\n",
       "  180.66,344.043 422.004,295.434 663.348,672.009 904.692,363.462 1146.04,624.938 1387.38,476.029 1628.72,675.997 1870.07,214.049 2111.41,367.642 2352.76,550.528 \n",
       "  \n",
       "  \"/>\n",
       "<polyline clip-path=\"url(#clip6302)\" style=\"stroke:#ffa500; stroke-width:4; stroke-opacity:1; fill:none\" points=\"\n",
       "  180.66,546.288 422.004,519.461 663.348,639.718 904.692,215.29 1146.04,817.835 1387.38,779.762 1628.72,919.545 1870.07,521.832 2111.41,516.502 2352.76,814.114 \n",
       "  \n",
       "  \"/>\n",
       "<polyline clip-path=\"url(#clip6302)\" style=\"stroke:#ffa500; stroke-width:4; stroke-opacity:1; fill:none\" points=\"\n",
       "  180.66,625.818 422.004,352.982 663.348,167.296 904.692,635.597 1146.04,392.272 1387.38,564.563 1628.72,533.414 1870.07,643.422 2111.41,680.18 2352.76,563.644 \n",
       "  \n",
       "  \"/>\n",
       "<polyline clip-path=\"url(#clip6302)\" style=\"stroke:#ffa500; stroke-width:4; stroke-opacity:1; fill:none\" points=\"\n",
       "  180.66,437.548 422.004,520.491 663.348,652.557 904.692,467.402 1146.04,549.797 1387.38,671.207 1628.72,622.658 1870.07,728.03 2111.41,751.38 2352.76,233.339 \n",
       "  \n",
       "  \"/>\n",
       "<polyline clip-path=\"url(#clip6302)\" style=\"stroke:#ffa500; stroke-width:4; stroke-opacity:1; fill:none\" points=\"\n",
       "  180.66,392.728 422.004,357.753 663.348,349.872 904.692,155.952 1146.04,525.516 1387.38,667.122 1628.72,666.518 1870.07,422.642 2111.41,558.491 2352.76,570.044 \n",
       "  \n",
       "  \"/>\n",
       "<polyline clip-path=\"url(#clip6302)\" style=\"stroke:#ffa500; stroke-width:4; stroke-opacity:1; fill:none\" points=\"\n",
       "  180.66,718.971 422.004,481.229 663.348,314.038 904.692,696.763 1146.04,458.518 1387.38,696.12 1628.72,705.642 1870.07,718.926 2111.41,643.881 2352.76,705.313 \n",
       "  \n",
       "  \"/>\n",
       "<polyline clip-path=\"url(#clip6302)\" style=\"stroke:#ffa500; stroke-width:4; stroke-opacity:1; fill:none\" points=\"\n",
       "  180.66,285.376 422.004,271.763 663.348,544.587 904.692,396.495 1146.04,522.35 1387.38,402.972 1628.72,564.196 1870.07,393.338 2111.41,481.703 2352.76,397.968 \n",
       "  \n",
       "  \"/>\n",
       "<polyline clip-path=\"url(#clip6302)\" style=\"stroke:#ffa500; stroke-width:4; stroke-opacity:1; fill:none\" points=\"\n",
       "  180.66,938.863 422.004,700.195 663.348,785.261 904.692,699.729 1146.04,942.368 1387.38,923.156 1628.72,817.547 1870.07,882.092 2111.41,487.753 2352.76,181.101 \n",
       "  \n",
       "  \"/>\n",
       "<polyline clip-path=\"url(#clip6302)\" style=\"stroke:#ffa500; stroke-width:4; stroke-opacity:1; fill:none\" points=\"\n",
       "  180.66,616.3 422.004,535.352 663.348,625.208 904.692,440.176 1146.04,798.352 1387.38,852.347 1628.72,690.394 1870.07,560.648 2111.41,428.111 2352.76,386.992 \n",
       "  \n",
       "  \"/>\n",
       "<polyline clip-path=\"url(#clip6302)\" style=\"stroke:#ffa500; stroke-width:4; stroke-opacity:1; fill:none\" points=\"\n",
       "  180.66,317.501 422.004,287.279 663.348,565.225 904.692,451.428 1146.04,486.768 1387.38,394.216 1628.72,441.025 1870.07,336.78 2111.41,514.52 2352.76,433.783 \n",
       "  \n",
       "  \"/>\n",
       "<polyline clip-path=\"url(#clip6302)\" style=\"stroke:#ffa500; stroke-width:4; stroke-opacity:1; fill:none\" points=\"\n",
       "  180.66,546.015 422.004,741.147 663.348,903.25 904.692,689.577 1146.04,747.442 1387.38,821.475 1628.72,393.342 1870.07,864.992 2111.41,728.634 2352.76,406.856 \n",
       "  \n",
       "  \"/>\n",
       "<polyline clip-path=\"url(#clip6302)\" style=\"stroke:#ffa500; stroke-width:4; stroke-opacity:1; fill:none\" points=\"\n",
       "  180.66,396.078 422.004,236.028 663.348,441.305 904.692,570.439 1146.04,422.928 1387.38,350.214 1628.72,370.284 1870.07,567.367 2111.41,504.097 2352.76,482.355 \n",
       "  \n",
       "  \"/>\n",
       "<polyline clip-path=\"url(#clip6302)\" style=\"stroke:#ffa500; stroke-width:4; stroke-opacity:1; fill:none\" points=\"\n",
       "  180.66,375.985 422.004,244.951 663.348,349.619 904.692,334.317 1146.04,439.761 1387.38,486.659 1628.72,536.214 1870.07,441.576 2111.41,517.199 2352.76,425.543 \n",
       "  \n",
       "  \"/>\n",
       "<polyline clip-path=\"url(#clip6302)\" style=\"stroke:#ffa500; stroke-width:4; stroke-opacity:1; fill:none\" points=\"\n",
       "  180.66,347.232 422.004,189.212 663.348,354.315 904.692,321.799 1146.04,378.307 1387.38,457.343 1628.72,495.765 1870.07,290.722 2111.41,456.323 2352.76,351.326 \n",
       "  \n",
       "  \"/>\n",
       "<polyline clip-path=\"url(#clip6302)\" style=\"stroke:#ffa500; stroke-width:4; stroke-opacity:1; fill:none\" points=\"\n",
       "  180.66,563.581 422.004,495.493 663.348,544.874 904.692,443.542 1146.04,751.899 1387.38,858.504 1628.72,762.012 1870.07,587.096 2111.41,348.953 2352.76,362.056 \n",
       "  \n",
       "  \"/>\n",
       "<polyline clip-path=\"url(#clip6302)\" style=\"stroke:#ffa500; stroke-width:4; stroke-opacity:1; fill:none\" points=\"\n",
       "  180.66,706.772 422.004,716.688 663.348,698.488 904.692,396.506 1146.04,677.576 1387.38,807.651 1628.72,744.069 1870.07,734.581 2111.41,494.279 2352.76,171.614 \n",
       "  \n",
       "  \"/>\n",
       "<polyline clip-path=\"url(#clip6302)\" style=\"stroke:#ffa500; stroke-width:4; stroke-opacity:1; fill:none\" points=\"\n",
       "  180.66,461.31 422.004,327.276 663.348,740.117 904.692,486.625 1146.04,666.757 1387.38,724.463 1628.72,633.479 1870.07,317.091 2111.41,435.098 2352.76,701.947 \n",
       "  \n",
       "  \"/>\n",
       "<polyline clip-path=\"url(#clip6302)\" style=\"stroke:#ffa500; stroke-width:4; stroke-opacity:1; fill:none\" points=\"\n",
       "  180.66,609.507 422.004,354.222 663.348,302.847 904.692,459.386 1146.04,380.461 1387.38,758.499 1628.72,601.87 1870.07,515.411 2111.41,184.834 2352.76,367.311 \n",
       "  \n",
       "  \"/>\n",
       "<polyline clip-path=\"url(#clip6302)\" style=\"stroke:#ffa500; stroke-width:4; stroke-opacity:1; fill:none\" points=\"\n",
       "  180.66,718.971 422.004,481.229 663.348,314.038 904.692,696.763 1146.04,458.518 1387.38,696.12 1628.72,705.642 1870.07,718.926 2111.41,643.881 2352.76,705.313 \n",
       "  \n",
       "  \"/>\n",
       "<polyline clip-path=\"url(#clip6302)\" style=\"stroke:#ffa500; stroke-width:4; stroke-opacity:1; fill:none\" points=\"\n",
       "  180.66,344.886 422.004,436.492 663.348,731.174 904.692,495.021 1146.04,664.761 1387.38,370.57 1628.72,521.389 1870.07,375.94 2111.41,581.721 2352.76,504.857 \n",
       "  \n",
       "  \"/>\n",
       "<polyline clip-path=\"url(#clip6302)\" style=\"stroke:#ffa500; stroke-width:4; stroke-opacity:1; fill:none\" points=\"\n",
       "  180.66,375.462 422.004,172.766 663.348,440.309 904.692,368.544 1146.04,351.398 1387.38,515.967 1628.72,526.93 1870.07,532.517 2111.41,483.946 2352.76,277.742 \n",
       "  \n",
       "  \"/>\n",
       "<polyline clip-path=\"url(#clip6302)\" style=\"stroke:#ffa500; stroke-width:4; stroke-opacity:1; fill:none\" points=\"\n",
       "  180.66,409.949 422.004,617.002 663.348,822.505 904.692,718.293 1146.04,632.183 1387.38,750.839 1628.72,741.204 1870.07,598.753 2111.41,694.155 2352.76,222.898 \n",
       "  \n",
       "  \"/>\n",
       "<polyline clip-path=\"url(#clip6302)\" style=\"stroke:#ffa500; stroke-width:4; stroke-opacity:1; fill:none\" points=\"\n",
       "  180.66,694.087 422.004,360.593 663.348,325.691 904.692,586.603 1146.04,505.634 1387.38,647.932 1628.72,655.988 1870.07,614.005 2111.41,637.128 2352.76,675.595 \n",
       "  \n",
       "  \"/>\n",
       "<polyline clip-path=\"url(#clip6302)\" style=\"stroke:#ffa500; stroke-width:4; stroke-opacity:1; fill:none\" points=\"\n",
       "  180.66,640.17 422.004,596.858 663.348,422.362 904.692,528.279 1146.04,683.464 1387.38,696.111 1628.72,741.658 1870.07,406.882 2111.41,360.827 2352.76,461.411 \n",
       "  \n",
       "  \"/>\n",
       "<polyline clip-path=\"url(#clip6302)\" style=\"stroke:#ffa500; stroke-width:4; stroke-opacity:1; fill:none\" points=\"\n",
       "  180.66,493.726 422.004,344.31 663.348,387.471 904.692,548.252 1146.04,404.635 1387.38,437.901 1628.72,342.033 1870.07,578.202 2111.41,553.81 2352.76,631.966 \n",
       "  \n",
       "  \"/>\n",
       "<polyline clip-path=\"url(#clip6302)\" style=\"stroke:#ffa500; stroke-width:4; stroke-opacity:1; fill:none\" points=\"\n",
       "  180.66,422.691 422.004,398.911 663.348,440.109 904.692,289.569 1146.04,536.721 1387.38,679.375 1628.72,668.522 1870.07,513.243 2111.41,659.112 2352.76,556.742 \n",
       "  \n",
       "  \"/>\n",
       "<polyline clip-path=\"url(#clip6302)\" style=\"stroke:#ffa500; stroke-width:4; stroke-opacity:1; fill:none\" points=\"\n",
       "  180.66,736.304 422.004,738.626 663.348,761.723 904.692,452.298 1146.04,746.81 1387.38,778.365 1628.72,745.103 1870.07,756.107 2111.41,549.607 2352.76,257.414 \n",
       "  \n",
       "  \"/>\n",
       "<polyline clip-path=\"url(#clip6302)\" style=\"stroke:#ffa500; stroke-width:4; stroke-opacity:1; fill:none\" points=\"\n",
       "  180.66,347.232 422.004,189.212 663.348,354.315 904.692,321.799 1146.04,378.307 1387.38,457.343 1628.72,495.765 1870.07,290.722 2111.41,456.323 2352.76,351.326 \n",
       "  \n",
       "  \"/>\n",
       "<polyline clip-path=\"url(#clip6302)\" style=\"stroke:#ffa500; stroke-width:4; stroke-opacity:1; fill:none\" points=\"\n",
       "  180.66,347.232 422.004,189.212 663.348,354.315 904.692,321.799 1146.04,378.307 1387.38,457.343 1628.72,495.765 1870.07,290.722 2111.41,456.323 2352.76,351.326 \n",
       "  \n",
       "  \"/>\n",
       "<polyline clip-path=\"url(#clip6302)\" style=\"stroke:#ffa500; stroke-width:4; stroke-opacity:1; fill:none\" points=\"\n",
       "  180.66,496.853 422.004,427.521 663.348,725.434 904.692,656.944 1146.04,746.753 1387.38,545.921 1628.72,657.769 1870.07,501.985 2111.41,577.321 2352.76,187.817 \n",
       "  \n",
       "  \"/>\n",
       "<polyline clip-path=\"url(#clip6302)\" style=\"stroke:#ffa500; stroke-width:4; stroke-opacity:1; fill:none\" points=\"\n",
       "  180.66,736.304 422.004,738.626 663.348,761.723 904.692,452.298 1146.04,746.81 1387.38,778.365 1628.72,745.103 1870.07,756.107 2111.41,549.607 2352.76,257.414 \n",
       "  \n",
       "  \"/>\n",
       "<polyline clip-path=\"url(#clip6302)\" style=\"stroke:#ffa500; stroke-width:4; stroke-opacity:1; fill:none\" points=\"\n",
       "  180.66,361.278 422.004,578.692 663.348,578.024 904.692,250.421 1146.04,744.315 1387.38,648.215 1628.72,552.14 1870.07,473.701 2111.41,651.308 2352.76,412.003 \n",
       "  \n",
       "  \"/>\n",
       "<polyline clip-path=\"url(#clip6302)\" style=\"stroke:#ffa500; stroke-width:4; stroke-opacity:1; fill:none\" points=\"\n",
       "  180.66,318.484 422.004,239.432 663.348,709.051 904.692,408.802 1146.04,587.748 1387.38,532.167 1628.72,676.999 1870.07,328.062 2111.41,414.636 2352.76,578.774 \n",
       "  \n",
       "  \"/>\n",
       "<polyline clip-path=\"url(#clip6302)\" style=\"stroke:#ffa500; stroke-width:4; stroke-opacity:1; fill:none\" points=\"\n",
       "  180.66,455.356 422.004,365.366 663.348,596.613 904.692,568.099 1146.04,525.949 1387.38,366.052 1628.72,410.009 1870.07,586.744 2111.41,604.618 2352.76,544.496 \n",
       "  \n",
       "  \"/>\n",
       "<polyline clip-path=\"url(#clip6302)\" style=\"stroke:#ffa500; stroke-width:4; stroke-opacity:1; fill:none\" points=\"\n",
       "  180.66,511.832 422.004,309.402 663.348,641.157 904.692,516.329 1146.04,648.515 1387.38,706.353 1628.72,591.609 1870.07,660.71 2111.41,621.356 2352.76,129.16 \n",
       "  \n",
       "  \"/>\n",
       "<polyline clip-path=\"url(#clip6302)\" style=\"stroke:#ffa500; stroke-width:4; stroke-opacity:1; fill:none\" points=\"\n",
       "  180.66,693.93 422.004,640.181 663.348,839.24 904.692,630.246 1146.04,716.109 1387.38,865.272 1628.72,696.059 1870.07,863.968 2111.41,691.979 2352.76,125.158 \n",
       "  \n",
       "  \"/>\n",
       "<polyline clip-path=\"url(#clip6302)\" style=\"stroke:#ffa500; stroke-width:4; stroke-opacity:1; fill:none\" points=\"\n",
       "  180.66,525.33 422.004,627.648 663.348,690.026 904.692,383.284 1146.04,621.302 1387.38,677.071 1628.72,778.954 1870.07,494.381 2111.41,612.414 2352.76,142.329 \n",
       "  \n",
       "  \"/>\n",
       "<polyline clip-path=\"url(#clip6302)\" style=\"stroke:#ffa500; stroke-width:4; stroke-opacity:1; fill:none\" points=\"\n",
       "  180.66,441.03 422.004,115.809 663.348,702.363 904.692,477.551 1146.04,718.142 1387.38,599.336 1628.72,638.333 1870.07,672.48 2111.41,497.181 2352.76,227.946 \n",
       "  \n",
       "  \"/>\n",
       "<polyline clip-path=\"url(#clip6302)\" style=\"stroke:#ffa500; stroke-width:4; stroke-opacity:1; fill:none\" points=\"\n",
       "  180.66,430.586 422.004,361.999 663.348,331.081 904.692,569.281 1146.04,405.074 1387.38,618.251 1628.72,600.333 1870.07,608.307 2111.41,463.615 2352.76,647.162 \n",
       "  \n",
       "  \"/>\n",
       "<polyline clip-path=\"url(#clip6302)\" style=\"stroke:#ffa500; stroke-width:4; stroke-opacity:1; fill:none\" points=\"\n",
       "  180.66,637.581 422.004,503.756 663.348,302.533 904.692,608.633 1146.04,509.716 1387.38,623.979 1628.72,555.207 1870.07,748.327 2111.41,712.93 2352.76,614.222 \n",
       "  \n",
       "  \"/>\n",
       "<polyline clip-path=\"url(#clip6302)\" style=\"stroke:#ffa500; stroke-width:4; stroke-opacity:1; fill:none\" points=\"\n",
       "  180.66,334.6 422.004,255.426 663.348,581.487 904.692,513.836 1146.04,575.351 1387.38,484.603 1628.72,571.856 1870.07,583.953 2111.41,437.091 2352.76,573.483 \n",
       "  \n",
       "  \"/>\n",
       "<polyline clip-path=\"url(#clip6302)\" style=\"stroke:#ffa500; stroke-width:4; stroke-opacity:1; fill:none\" points=\"\n",
       "  180.66,525.617 422.004,538.741 663.348,728.172 904.692,209.549 1146.04,847.625 1387.38,748.744 1628.72,909.576 1870.07,470.792 2111.41,511.617 2352.76,842.465 \n",
       "  \n",
       "  \"/>\n",
       "<polyline clip-path=\"url(#clip6302)\" style=\"stroke:#ffa500; stroke-width:4; stroke-opacity:1; fill:none\" points=\"\n",
       "  180.66,431.874 422.004,291.548 663.348,392.506 904.692,532.55 1146.04,365.272 1387.38,391.982 1628.72,395.252 1870.07,491.212 2111.41,529.832 2352.76,581.614 \n",
       "  \n",
       "  \"/>\n",
       "<polyline clip-path=\"url(#clip6302)\" style=\"stroke:#ffa500; stroke-width:4; stroke-opacity:1; fill:none\" points=\"\n",
       "  180.66,277.338 422.004,275.885 663.348,504.255 904.692,393.742 1146.04,394.669 1387.38,432.376 1628.72,354.375 1870.07,499.046 2111.41,445.689 2352.76,424.858 \n",
       "  \n",
       "  \"/>\n",
       "<polyline clip-path=\"url(#clip6302)\" style=\"stroke:#ffa500; stroke-width:4; stroke-opacity:1; fill:none\" points=\"\n",
       "  180.66,315.512 422.004,303.121 663.348,503.333 904.692,570.49 1146.04,464.675 1387.38,347.336 1628.72,406.206 1870.07,452.872 2111.41,581.264 2352.76,479.073 \n",
       "  \n",
       "  \"/>\n",
       "<polyline clip-path=\"url(#clip6302)\" style=\"stroke:#ffa500; stroke-width:4; stroke-opacity:1; fill:none\" points=\"\n",
       "  180.66,435.198 422.004,611.082 663.348,897.562 904.692,717.35 1146.04,607.271 1387.38,806.644 1628.72,706.634 1870.07,737.842 2111.41,694.03 2352.76,256.695 \n",
       "  \n",
       "  \"/>\n",
       "<polyline clip-path=\"url(#clip6302)\" style=\"stroke:#ffa500; stroke-width:4; stroke-opacity:1; fill:none\" points=\"\n",
       "  180.66,285.376 422.004,271.763 663.348,544.587 904.692,396.495 1146.04,522.35 1387.38,402.972 1628.72,564.196 1870.07,393.338 2111.41,481.703 2352.76,397.968 \n",
       "  \n",
       "  \"/>\n",
       "<polyline clip-path=\"url(#clip6302)\" style=\"stroke:#ffa500; stroke-width:4; stroke-opacity:1; fill:none\" points=\"\n",
       "  180.66,461.067 422.004,405.285 663.348,763.021 904.692,531.193 1146.04,568.973 1387.38,654.7 1628.72,603.158 1870.07,685.748 2111.41,712.96 2352.76,47.2441 \n",
       "  \n",
       "  \"/>\n",
       "<polyline clip-path=\"url(#clip6302)\" style=\"stroke:#ffa500; stroke-width:4; stroke-opacity:1; fill:none\" points=\"\n",
       "  180.66,625.818 422.004,352.982 663.348,167.296 904.692,635.597 1146.04,392.272 1387.38,564.563 1628.72,533.414 1870.07,643.422 2111.41,680.18 2352.76,563.644 \n",
       "  \n",
       "  \"/>\n",
       "<polyline clip-path=\"url(#clip6302)\" style=\"stroke:#ffa500; stroke-width:4; stroke-opacity:1; fill:none\" points=\"\n",
       "  180.66,557.233 422.004,578.489 663.348,542.839 904.692,651.019 1146.04,709.347 1387.38,639.699 1628.72,579.246 1870.07,641.193 2111.41,492.019 2352.76,235.285 \n",
       "  \n",
       "  \"/>\n",
       "<polyline clip-path=\"url(#clip6302)\" style=\"stroke:#ffa500; stroke-width:4; stroke-opacity:1; fill:none\" points=\"\n",
       "  180.66,648.681 422.004,476.168 663.348,324.393 904.692,726.123 1146.04,545.961 1387.38,394.193 1628.72,824.517 1870.07,513.952 2111.41,631.303 2352.76,718.651 \n",
       "  \n",
       "  \"/>\n",
       "<polyline clip-path=\"url(#clip6302)\" style=\"stroke:#ffa500; stroke-width:4; stroke-opacity:1; fill:none\" points=\"\n",
       "  180.66,547.462 422.004,212.092 663.348,383.786 904.692,469.034 1146.04,397.697 1387.38,610.838 1628.72,735.7 1870.07,488.41 2111.41,315.167 2352.76,507.751 \n",
       "  \n",
       "  \"/>\n",
       "<polyline clip-path=\"url(#clip6302)\" style=\"stroke:#ffa500; stroke-width:4; stroke-opacity:1; fill:none\" points=\"\n",
       "  180.66,565.714 422.004,607.19 663.348,688.099 904.692,208.924 1146.04,781.4 1387.38,899.092 1628.72,723.701 1870.07,495.812 2111.41,515.959 2352.76,574.494 \n",
       "  \n",
       "  \"/>\n",
       "<polyline clip-path=\"url(#clip6302)\" style=\"stroke:#ffa500; stroke-width:4; stroke-opacity:1; fill:none\" points=\"\n",
       "  180.66,345.839 422.004,185.807 663.348,425.714 904.692,359.236 1146.04,436.823 1387.38,389.126 1628.72,554.2 1870.07,337.098 2111.41,471.629 2352.76,318.417 \n",
       "  \n",
       "  \"/>\n",
       "<polyline clip-path=\"url(#clip6302)\" style=\"stroke:#ffa500; stroke-width:4; stroke-opacity:1; fill:none\" points=\"\n",
       "  180.66,423.056 422.004,382.893 663.348,723.936 904.692,467.295 1146.04,620.724 1387.38,448.767 1628.72,532.107 1870.07,326.406 2111.41,654.319 2352.76,446.38 \n",
       "  \n",
       "  \"/>\n",
       "<polyline clip-path=\"url(#clip6302)\" style=\"stroke:#ffa500; stroke-width:4; stroke-opacity:1; fill:none\" points=\"\n",
       "  180.66,667.87 422.004,763.481 663.348,396.963 904.692,537.562 1146.04,638.435 1387.38,705.264 1628.72,788.587 1870.07,494.087 2111.41,389.833 2352.76,358.914 \n",
       "  \n",
       "  \"/>\n",
       "<polyline clip-path=\"url(#clip6302)\" style=\"stroke:#ffa500; stroke-width:4; stroke-opacity:1; fill:none\" points=\"\n",
       "  180.66,653.902 422.004,679.029 663.348,646.819 904.692,453.59 1146.04,653.324 1387.38,746.708 1628.72,662.603 1870.07,706.883 2111.41,692.417 2352.76,239.435 \n",
       "  \n",
       "  \"/>\n",
       "<polyline clip-path=\"url(#clip6302)\" style=\"stroke:#ffa500; stroke-width:4; stroke-opacity:1; fill:none\" points=\"\n",
       "  180.66,548.609 422.004,655.934 663.348,730.106 904.692,255.161 1146.04,704.527 1387.38,864.702 1628.72,593.191 1870.07,686.811 2111.41,524.165 2352.76,542.378 \n",
       "  \n",
       "  \"/>\n",
       "<polyline clip-path=\"url(#clip6302)\" style=\"stroke:#ffa500; stroke-width:4; stroke-opacity:1; fill:none\" points=\"\n",
       "  180.66,736.304 422.004,738.626 663.348,761.723 904.692,452.298 1146.04,746.81 1387.38,778.365 1628.72,745.103 1870.07,756.107 2111.41,549.607 2352.76,257.414 \n",
       "  \n",
       "  \"/>\n",
       "<polyline clip-path=\"url(#clip6302)\" style=\"stroke:#ffa500; stroke-width:4; stroke-opacity:1; fill:none\" points=\"\n",
       "  180.66,795.051 422.004,552.414 663.348,649.758 904.692,411.356 1146.04,749.595 1387.38,975.626 1628.72,734.463 1870.07,638.758 2111.41,453.344 2352.76,375.006 \n",
       "  \n",
       "  \"/>\n",
       "<polyline clip-path=\"url(#clip6302)\" style=\"stroke:#ffa500; stroke-width:4; stroke-opacity:1; fill:none\" points=\"\n",
       "  180.66,345.135 422.004,290.08 663.348,517.928 904.692,579.799 1146.04,379.25 1387.38,474.178 1628.72,378.936 1870.07,648.292 2111.41,593.581 2352.76,438.399 \n",
       "  \n",
       "  \"/>\n",
       "<polyline clip-path=\"url(#clip6302)\" style=\"stroke:#ffa500; stroke-width:4; stroke-opacity:1; fill:none\" points=\"\n",
       "  180.66,805.126 422.004,346.157 663.348,736.983 904.692,564.887 1146.04,798.748 1387.38,953.038 1628.72,952.355 1870.07,736.959 2111.41,451.233 2352.76,402.164 \n",
       "  \n",
       "  \"/>\n",
       "<polyline clip-path=\"url(#clip6302)\" style=\"stroke:#ffa500; stroke-width:4; stroke-opacity:1; fill:none\" points=\"\n",
       "  180.66,618.94 422.004,379.589 663.348,342.196 904.692,636.978 1146.04,262.616 1387.38,668.87 1628.72,583.73 1870.07,573.42 2111.41,423.02 2352.76,392.543 \n",
       "  \n",
       "  \"/>\n",
       "<polyline clip-path=\"url(#clip6302)\" style=\"stroke:#ffa500; stroke-width:4; stroke-opacity:1; fill:none\" points=\"\n",
       "  180.66,409.121 422.004,546.453 663.348,523.17 904.692,236.335 1146.04,752.246 1387.38,742.217 1628.72,568.373 1870.07,492.505 2111.41,599.761 2352.76,453.712 \n",
       "  \n",
       "  \"/>\n",
       "<polyline clip-path=\"url(#clip6302)\" style=\"stroke:#ffa500; stroke-width:4; stroke-opacity:1; fill:none\" points=\"\n",
       "  180.66,396.078 422.004,236.028 663.348,441.305 904.692,570.439 1146.04,422.928 1387.38,350.214 1628.72,370.284 1870.07,567.367 2111.41,504.097 2352.76,482.355 \n",
       "  \n",
       "  \"/>\n",
       "<polyline clip-path=\"url(#clip6302)\" style=\"stroke:#ffa500; stroke-width:4; stroke-opacity:1; fill:none\" points=\"\n",
       "  180.66,651.508 422.004,550.858 663.348,588.063 904.692,421.83 1146.04,661.004 1387.38,743.563 1628.72,550.305 1870.07,720.624 2111.41,684.591 2352.76,250.067 \n",
       "  \n",
       "  \"/>\n",
       "<polyline clip-path=\"url(#clip6302)\" style=\"stroke:#ffa500; stroke-width:4; stroke-opacity:1; fill:none\" points=\"\n",
       "  180.66,392.728 422.004,357.753 663.348,349.872 904.692,155.952 1146.04,525.516 1387.38,667.122 1628.72,666.518 1870.07,422.642 2111.41,558.491 2352.76,570.044 \n",
       "  \n",
       "  \"/>\n",
       "<polyline clip-path=\"url(#clip6302)\" style=\"stroke:#ffa500; stroke-width:4; stroke-opacity:1; fill:none\" points=\"\n",
       "  180.66,344.886 422.004,436.492 663.348,731.174 904.692,495.021 1146.04,664.761 1387.38,370.57 1628.72,521.389 1870.07,375.94 2111.41,581.721 2352.76,504.857 \n",
       "  \n",
       "  \"/>\n",
       "<polyline clip-path=\"url(#clip6302)\" style=\"stroke:#ffa500; stroke-width:4; stroke-opacity:1; fill:none\" points=\"\n",
       "  180.66,538.528 422.004,485.413 663.348,777.902 904.692,180.649 1146.04,835.672 1387.38,731.482 1628.72,862.048 1870.07,471.691 2111.41,545.86 2352.76,793.116 \n",
       "  \n",
       "  \"/>\n",
       "<polyline clip-path=\"url(#clip6302)\" style=\"stroke:#ffa500; stroke-width:4; stroke-opacity:1; fill:none\" points=\"\n",
       "  180.66,538.528 422.004,485.413 663.348,777.902 904.692,180.649 1146.04,835.672 1387.38,731.482 1628.72,862.048 1870.07,471.691 2111.41,545.86 2352.76,793.116 \n",
       "  \n",
       "  \"/>\n",
       "<polyline clip-path=\"url(#clip6302)\" style=\"stroke:#ffa500; stroke-width:4; stroke-opacity:1; fill:none\" points=\"\n",
       "  180.66,648.681 422.004,476.168 663.348,324.393 904.692,726.123 1146.04,545.961 1387.38,394.193 1628.72,824.517 1870.07,513.952 2111.41,631.303 2352.76,718.651 \n",
       "  \n",
       "  \"/>\n",
       "<polyline clip-path=\"url(#clip6302)\" style=\"stroke:#ffa500; stroke-width:4; stroke-opacity:1; fill:none\" points=\"\n",
       "  180.66,637.059 422.004,500.283 663.348,327.434 904.692,720.87 1146.04,512.183 1387.38,643.606 1628.72,712.446 1870.07,769.771 2111.41,592.367 2352.76,756.888 \n",
       "  \n",
       "  \"/>\n",
       "<polyline clip-path=\"url(#clip6302)\" style=\"stroke:#ffa500; stroke-width:4; stroke-opacity:1; fill:none\" points=\"\n",
       "  180.66,390.652 422.004,306.987 663.348,530.075 904.692,497.871 1146.04,492.055 1387.38,429.777 1628.72,525.837 1870.07,382.555 2111.41,603.662 2352.76,438.812 \n",
       "  \n",
       "  \"/>\n",
       "<polyline clip-path=\"url(#clip6302)\" style=\"stroke:#ffa500; stroke-width:4; stroke-opacity:1; fill:none\" points=\"\n",
       "  180.66,682.482 422.004,526.996 663.348,201.032 904.692,656.018 1146.04,488.916 1387.38,517.853 1628.72,829.981 1870.07,448.015 2111.41,554.09 2352.76,720.185 \n",
       "  \n",
       "  \"/>\n",
       "<polyline clip-path=\"url(#clip6302)\" style=\"stroke:#ffa500; stroke-width:4; stroke-opacity:1; fill:none\" points=\"\n",
       "  180.66,391.757 422.004,288.244 663.348,435.173 904.692,383.445 1146.04,630.458 1387.38,549.127 1628.72,875.52 1870.07,323.429 2111.41,249.48 2352.76,537.248 \n",
       "  \n",
       "  \"/>\n",
       "<polyline clip-path=\"url(#clip6302)\" style=\"stroke:#ffa500; stroke-width:4; stroke-opacity:1; fill:none\" points=\"\n",
       "  180.66,625.818 422.004,352.982 663.348,167.296 904.692,635.597 1146.04,392.272 1387.38,564.563 1628.72,533.414 1870.07,643.422 2111.41,680.18 2352.76,563.644 \n",
       "  \n",
       "  \"/>\n",
       "<polyline clip-path=\"url(#clip6302)\" style=\"stroke:#ffa500; stroke-width:4; stroke-opacity:1; fill:none\" points=\"\n",
       "  180.66,638.097 422.004,464.391 663.348,323.59 904.692,699.407 1146.04,519.297 1387.38,504.673 1628.72,774.897 1870.07,642.8 2111.41,607.971 2352.76,737.011 \n",
       "  \n",
       "  \"/>\n",
       "<polyline clip-path=\"url(#clip6302)\" style=\"stroke:#ffa500; stroke-width:4; stroke-opacity:1; fill:none\" points=\"\n",
       "  180.66,491.815 422.004,425.055 663.348,394.349 904.692,609.519 1146.04,454.346 1387.38,475.26 1628.72,408.416 1870.07,423.801 2111.41,585.679 2352.76,576.421 \n",
       "  \n",
       "  \"/>\n",
       "<polyline clip-path=\"url(#clip6302)\" style=\"stroke:#ffa500; stroke-width:4; stroke-opacity:1; fill:none\" points=\"\n",
       "  180.66,512.487 422.004,551.141 663.348,830.778 904.692,617.025 1146.04,659.834 1387.38,734.692 1628.72,730.945 1870.07,623.769 2111.41,810.114 2352.76,95.8733 \n",
       "  \n",
       "  \"/>\n",
       "<polyline clip-path=\"url(#clip6302)\" style=\"stroke:#ffa500; stroke-width:4; stroke-opacity:1; fill:none\" points=\"\n",
       "  180.66,384.633 422.004,277.832 663.348,388.719 904.692,438.683 1146.04,394.315 1387.38,456.822 1628.72,440.765 1870.07,296.973 2111.41,491.898 2352.76,467.217 \n",
       "  \n",
       "  \"/>\n",
       "<polyline clip-path=\"url(#clip6302)\" style=\"stroke:#ffa500; stroke-width:4; stroke-opacity:1; fill:none\" points=\"\n",
       "  180.66,427.3 422.004,124.103 663.348,493.802 904.692,216.278 1146.04,546.162 1387.38,500.06 1628.72,640.188 1870.07,218.978 2111.41,294.414 2352.76,447.313 \n",
       "  \n",
       "  \"/>\n",
       "<polyline clip-path=\"url(#clip6302)\" style=\"stroke:#ffa500; stroke-width:4; stroke-opacity:1; fill:none\" points=\"\n",
       "  180.66,511.566 422.004,670.545 663.348,640.081 904.692,151.368 1146.04,790.738 1387.38,802.771 1628.72,834.439 1870.07,269.62 2111.41,395.762 2352.76,749.034 \n",
       "  \n",
       "  \"/>\n",
       "<polyline clip-path=\"url(#clip6302)\" style=\"stroke:#ffa500; stroke-width:4; stroke-opacity:1; fill:none\" points=\"\n",
       "  180.66,436.571 422.004,347.745 663.348,411.075 904.692,517.37 1146.04,461.674 1387.38,366.291 1628.72,415.055 1870.07,496.391 2111.41,554.945 2352.76,503.253 \n",
       "  \n",
       "  \"/>\n",
       "<polyline clip-path=\"url(#clip6302)\" style=\"stroke:#ffa500; stroke-width:4; stroke-opacity:1; fill:none\" points=\"\n",
       "  180.66,277.338 422.004,275.885 663.348,504.255 904.692,393.742 1146.04,394.669 1387.38,432.376 1628.72,354.375 1870.07,499.046 2111.41,445.689 2352.76,424.858 \n",
       "  \n",
       "  \"/>\n",
       "<polyline clip-path=\"url(#clip6302)\" style=\"stroke:#ffa500; stroke-width:4; stroke-opacity:1; fill:none\" points=\"\n",
       "  180.66,392.66 422.004,178.522 663.348,381.831 904.692,469.209 1146.04,317.828 1387.38,472.106 1628.72,424.548 1870.07,518.231 2111.41,456.393 2352.76,263.609 \n",
       "  \n",
       "  \"/>\n",
       "<polyline clip-path=\"url(#clip6302)\" style=\"stroke:#ffa500; stroke-width:4; stroke-opacity:1; fill:none\" points=\"\n",
       "  180.66,385.821 422.004,594.625 663.348,539.478 904.692,272.421 1146.04,719.289 1387.38,671.229 1628.72,587.971 1870.07,413.659 2111.41,650.329 2352.76,479.869 \n",
       "  \n",
       "  \"/>\n",
       "<polyline clip-path=\"url(#clip6302)\" style=\"stroke:#ffa500; stroke-width:4; stroke-opacity:1; fill:none\" points=\"\n",
       "  180.66,457.06 422.004,191.038 663.348,544.472 904.692,277.905 1146.04,558.716 1387.38,606.8 1628.72,634.634 1870.07,185.981 2111.41,397.398 2352.76,525.93 \n",
       "  \n",
       "  \"/>\n",
       "<polyline clip-path=\"url(#clip6302)\" style=\"stroke:#ffa500; stroke-width:4; stroke-opacity:1; fill:none\" points=\"\n",
       "  180.66,373.358 422.004,488.754 663.348,760.492 904.692,539.605 1146.04,653.955 1387.38,587.081 1628.72,709.429 1870.07,534.068 2111.41,643.499 2352.76,132.386 \n",
       "  \n",
       "  \"/>\n",
       "</svg>\n"
      ]
     },
     "metadata": {},
     "output_type": "display_data"
    }
   ],
   "source": [
    "ymin = Inf\n",
    "ymax = -Inf\n",
    "function plot_pop(P)\n",
    "    global ymin = min(ymin, minimum([minimum(i.y) for i in P]))\n",
    "    global ymax = max(ymax, maximum([maximum(i.y) for i in P]))\n",
    "    plot(xlims=(1, n_objectives), ylims=(ymin, ymax))\n",
    "    ND = filter(indiv -> indiv.rank == 1, P)\n",
    "    dominated = filter(indiv->indiv.rank != 1, P)\n",
    "    for i in dominated\n",
    "        plot!(1:n_objectives, collect(i.y), legend=:none, color=:blue)\n",
    "    end\n",
    "    for i in ND\n",
    "        plot!(1:n_objectives, collect(i.y), legend=:none, color=:orange)\n",
    "    end\n",
    "    sleep(2.0)\n",
    "end\n",
    "\n",
    "non_dominated = nsga_max(popsize, 50, objective, init, fCV=constraint,\n",
    "    fplot=plot_pop, plotevery=10, showprogress=false);"
   ]
  },
  {
   "cell_type": "markdown",
   "metadata": {
    "slideshow": {
     "slide_type": "slide"
    }
   },
   "source": [
    "<div class=\"alert alert-success\">\n",
    "    <b>Exercise 4</b>\n",
    "    <br/>\n",
    "Gradually increase $K$, the number of objectives, and watch the number of non-dominated individuals in the population over evolution. What do you notice as $K$ increases?\n",
    "    <br/>\n",
    "</div>"
   ]
  }
 ],
 "metadata": {
  "celltoolbar": "Slideshow",
  "kernelspec": {
   "display_name": "Julia 1.4.0-rc2",
   "language": "julia",
   "name": "julia-1.4"
  },
  "language_info": {
   "file_extension": ".jl",
   "mimetype": "application/julia",
   "name": "julia",
   "version": "1.4.0"
  }
 },
 "nbformat": 4,
 "nbformat_minor": 2
}
