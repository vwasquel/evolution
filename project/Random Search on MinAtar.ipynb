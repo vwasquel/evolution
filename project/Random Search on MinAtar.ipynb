{
 "cells": [
  {
   "cell_type": "code",
   "execution_count": 1,
   "metadata": {},
   "outputs": [],
   "source": [
    "import torch\n",
    "import torch.nn as nn\n",
    "import torch.nn.functional as f\n",
    "import torch.optim as optim\n",
    "import time\n",
    "import random, argparse, logging, os\n",
    "from collections import namedtuple\n",
    "from minatar import Environment\n",
    "import matplotlib.pyplot as plt\n",
    "import numpy as np\n",
    "# remove for game display\n",
    "%matplotlib inline"
   ]
  },
  {
   "cell_type": "code",
   "execution_count": 2,
   "metadata": {},
   "outputs": [],
   "source": [
    "NUM_FRAMES = 1000\n",
    "MAX_EVALS = 5000\n",
    "device = \"cpu\""
   ]
  },
  {
   "cell_type": "code",
   "execution_count": 3,
   "metadata": {},
   "outputs": [],
   "source": [
    "class Network(nn.Module):\n",
    "    def __init__(self, in_channels, num_actions):\n",
    "\n",
    "        super(Network, self).__init__()\n",
    "\n",
    "        # One hidden 2D convolution layer:\n",
    "        #   in_channels: variable\n",
    "        #   out_channels: 4\n",
    "        #   kernel_size: 3 of a 3x3 filter matrix\n",
    "        #   stride: 1\n",
    "        self.conv = nn.Conv2d(in_channels, 4, kernel_size=3, stride=1)\n",
    "\n",
    "        # Final fully connected hidden layer:\n",
    "        #   the number of linear unit depends on the output of the conv\n",
    "        #   the output consist 32 rectified units\n",
    "        def size_linear_unit(size, kernel_size=3, stride=1):\n",
    "            return (size - (kernel_size - 1) - 1) // stride + 1\n",
    "        num_linear_units = size_linear_unit(10) * size_linear_unit(10) * 4\n",
    "        self.fc_hidden = nn.Linear(in_features=num_linear_units, out_features=32)\n",
    "\n",
    "        # Output layer:\n",
    "        self.output = nn.Linear(in_features=32, out_features=num_actions)\n",
    "\n",
    "    def forward(self, x):\n",
    "        x = f.relu(self.conv(x))\n",
    "        x = f.relu(self.fc_hidden(x.view(x.size(0), -1)))\n",
    "        return self.output(x)\n",
    "    \n",
    "    def set_params(self, params):\n",
    "        a = torch.tensor(params, device=device).float()\n",
    "        torch.nn.utils.vector_to_parameters(a, self.parameters())\n",
    "        \n",
    "    def get_params(self):\n",
    "        with torch.no_grad():\n",
    "            params = self.parameters()\n",
    "            vec = torch.nn.utils.parameters_to_vector(params)\n",
    "        return vec.to(device).numpy()"
   ]
  },
  {
   "cell_type": "code",
   "execution_count": 4,
   "metadata": {},
   "outputs": [],
   "source": [
    "def get_state(s):\n",
    "    return (torch.tensor(s, device=device).permute(2, 0, 1)).unsqueeze(0).float()"
   ]
  },
  {
   "cell_type": "code",
   "execution_count": 5,
   "metadata": {},
   "outputs": [],
   "source": [
    "env = Environment(\"breakout\", sticky_action_prob=0.0, random_seed=0)\n",
    "env.reset()"
   ]
  },
  {
   "cell_type": "code",
   "execution_count": 6,
   "metadata": {},
   "outputs": [],
   "source": [
    "in_channels = env.state_shape()[2]\n",
    "num_actions = env.num_actions()\n",
    "policy_net = Network(in_channels, num_actions).to(device)"
   ]
  },
  {
   "cell_type": "code",
   "execution_count": 7,
   "metadata": {},
   "outputs": [
    {
     "name": "stdout",
     "output_type": "stream",
     "text": [
      "(10, 10, 4)\n"
     ]
    },
    {
     "data": {
      "image/png": "[encoded data removed]",
      "text/plain": [
       "<Figure size 432x288 with 1 Axes>"
      ]
     },
     "metadata": {
      "needs_background": "light"
     },
     "output_type": "display_data"
    }
   ],
   "source": [
    "print(env.state().shape)\n",
    "plt.imshow(env.state()[:, :, 0]);"
   ]
  },
  {
   "cell_type": "code",
   "execution_count": 8,
   "metadata": {},
   "outputs": [
    {
     "name": "stdout",
     "output_type": "stream",
     "text": [
      "torch.Size([1, 4, 10, 10])\n"
     ]
    },
    {
     "data": {
      "image/png": "[encoded data removed]",
      "text/plain": [
       "<Figure size 432x288 with 1 Axes>"
      ]
     },
     "metadata": {
      "needs_background": "light"
     },
     "output_type": "display_data"
    }
   ],
   "source": [
    "s = get_state(env.state())\n",
    "print(s.shape)\n",
    "plt.imshow(s[:, 0, :, :][0]);"
   ]
  },
  {
   "cell_type": "code",
   "execution_count": 9,
   "metadata": {},
   "outputs": [
    {
     "name": "stdout",
     "output_type": "stream",
     "text": [
      "outputs:  tensor([[ 0.0650,  0.0302, -0.0706,  0.1311, -0.0509,  0.0265]])\n",
      "argmax:  tensor(3)\n"
     ]
    }
   ],
   "source": [
    "with torch.no_grad():\n",
    "    outputs = policy_net(s)\n",
    "    print(\"outputs: \", outputs)\n",
    "    print(\"argmax: \", torch.argmax(outputs))"
   ]
  },
  {
   "cell_type": "code",
   "execution_count": 10,
   "metadata": {},
   "outputs": [],
   "source": [
    "def play(policy_net, display=False):\n",
    "    env = Environment(\"breakout\", sticky_action_prob=0.0, random_seed=0)\n",
    "    env.reset()\n",
    "    is_terminated = False\n",
    "    total_reward = 0.0\n",
    "    t = 0\n",
    "    while (not is_terminated) and t < NUM_FRAMES:\n",
    "        s = get_state(env.state())\n",
    "        with torch.no_grad():\n",
    "            action = torch.argmax(policy_net(s))\n",
    "        reward, is_terminated = env.act(action)\n",
    "        total_reward += reward\n",
    "        t += 1\n",
    "        if display:\n",
    "            env.display_state(1)\n",
    "    return total_reward"
   ]
  },
  {
   "cell_type": "code",
   "execution_count": 11,
   "metadata": {},
   "outputs": [
    {
     "data": {
      "text/plain": [
       "0.0"
      ]
     },
     "execution_count": 11,
     "metadata": {},
     "output_type": "execute_result"
    }
   ],
   "source": [
    "play(policy_net, display=False)"
   ]
  },
  {
   "cell_type": "code",
   "execution_count": 12,
   "metadata": {},
   "outputs": [
    {
     "name": "stdout",
     "output_type": "stream",
     "text": [
      "[-0.16466779  0.02577933 -0.09572713 ...  0.14972208 -0.06523087\n",
      "  0.03031591] 8570\n"
     ]
    }
   ],
   "source": [
    "genes = policy_net.get_params()\n",
    "n_genes = len(genes)\n",
    "print(genes, n_genes)"
   ]
  },
  {
   "cell_type": "code",
   "execution_count": 13,
   "metadata": {},
   "outputs": [
    {
     "data": {
      "text/plain": [
       "array([ 1.77838824e-08,  2.45324064e-08,  4.06576167e-09, ...,\n",
       "       -1.07562787e-08,  2.37985318e-08,  1.95371175e-09])"
      ]
     },
     "execution_count": 13,
     "metadata": {},
     "output_type": "execute_result"
    }
   ],
   "source": [
    "genes = np.random.randn(n_genes)\n",
    "policy_net.set_params(genes)\n",
    "policy_net.get_params() - genes"
   ]
  },
  {
   "cell_type": "code",
   "execution_count": 14,
   "metadata": {},
   "outputs": [
    {
     "name": "stdout",
     "output_type": "stream",
     "text": [
      "1   1.0\n",
      "39   2.0\n",
      "613   3.0\n",
      "1074   4.0\n",
      "3375   5.0\n"
     ]
    }
   ],
   "source": [
    "np.random.seed(4321)\n",
    "best_genes = genes\n",
    "best_fit = 0.0\n",
    "fits = np.zeros(MAX_EVALS)\n",
    "for i in range(MAX_EVALS):\n",
    "    genes = np.random.randn(n_genes)\n",
    "    policy_net.set_params(genes)\n",
    "    fitness = play(policy_net)\n",
    "    if fitness > best_fit:\n",
    "        print(i, \" \", fitness)\n",
    "        best_fit = fitness\n",
    "        best_genes = genes.copy()\n",
    "    fits[i] = best_fit"
   ]
  },
  {
   "cell_type": "code",
   "execution_count": 15,
   "metadata": {},
   "outputs": [
    {
     "data": {
      "image/png": "[encoded data removed]",
      "text/plain": [
       "<Figure size 432x288 with 1 Axes>"
      ]
     },
     "metadata": {
      "needs_background": "light"
     },
     "output_type": "display_data"
    }
   ],
   "source": [
    "plt.plot(fits)\n",
    "plt.xlabel(\"Evaluations\")\n",
    "plt.ylabel(\"Total reward\")\n",
    "plt.title(env.env_name);"
   ]
  },
  {
   "cell_type": "code",
   "execution_count": 16,
   "metadata": {},
   "outputs": [
    {
     "data": {
      "text/plain": [
       "5.0"
      ]
     },
     "execution_count": 16,
     "metadata": {},
     "output_type": "execute_result"
    }
   ],
   "source": [
    "policy_net.set_params(best_genes)\n",
    "play(policy_net, display=False)"
   ]
  },
  {
   "cell_type": "code",
   "execution_count": null,
   "metadata": {},
   "outputs": [],
   "source": []
  },
  {
   "cell_type": "code",
   "execution_count": null,
   "metadata": {},
   "outputs": [],
   "source": []
  }
 ],
 "metadata": {
  "@webio": {
   "lastCommId": null,
   "lastKernelId": null
  },
  "kernelspec": {
   "display_name": "Python 3",
   "language": "python",
   "name": "python3"
  },
  "language_info": {
   "codemirror_mode": {
    "name": "ipython",
    "version": 3
   },
   "file_extension": ".py",
   "mimetype": "text/x-python",
   "name": "python",
   "nbconvert_exporter": "python",
   "pygments_lexer": "ipython3",
   "version": "3.9.5"
  }
 },
 "nbformat": 4,
 "nbformat_minor": 4
}
