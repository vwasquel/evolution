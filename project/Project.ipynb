{
 "cells": [
  {
   "cell_type": "markdown",
   "metadata": {
    "slideshow": {
     "slide_type": "slide"
    }
   },
   "source": [
    "<img src=\"../imgs/logo.png\" width=\"20%\" align=\"right\" style=\"margin:0px 20px\">\n",
    "\n",
    "\n",
    "# Evolutionary Computation\n",
    "\n",
    "## Project: Evolution of Agents\n",
    "\n",
    "<a rel=\"license\" href=\"http://creativecommons.org/licenses/by-sa/4.0/\"><img alt=\"Creative Commons License\" align=\"left\" src=\"https://i.creativecommons.org/l/by-sa/4.0/80x15.png\" /></a>&nbsp;| Dennis G. Wilson | <a href=\"https://d9w.github.io/evolution/\">https://d9w.github.io/evolution/</a>"
   ]
  },
  {
   "cell_type": "markdown",
   "metadata": {
    "slideshow": {
     "slide_type": "slide"
    }
   },
   "source": [
    "# Outline\n",
    "\n",
    "1. [Reinforcement Learning](#rl)\n",
    "2. [Evolving Agents](#evolving)\n",
    "3. [Atari games](#atari)\n",
    "4. [CGP](#cgp)\n",
    "5. [Neuroevolution](#neuroevo)\n",
    "6. [Comparison](#comparison)"
   ]
  },
  {
   "cell_type": "markdown",
   "metadata": {
    "slideshow": {
     "slide_type": "fragment"
    }
   },
   "source": [
    "In this project, you have been asked to evolve an agent to play a video game. In this notebook, we'll see an example of that as well as a brief explanation on agent evolution."
   ]
  },
  {
   "cell_type": "markdown",
   "metadata": {
    "slideshow": {
     "slide_type": "slide"
    }
   },
   "source": [
    "# <a id=\"rl\"></a> Reinforcement Learning"
   ]
  },
  {
   "cell_type": "markdown",
   "metadata": {
    "slideshow": {
     "slide_type": "fragment"
    }
   },
   "source": [
    "The field of Reinforcement Learning provides a good framework for understanding the actions of an agent in an environment which rewards specific actions. There are many resources about RL online, including Emmanuel Rachelson's [class](https://github.com/erachelson/RLclass) which is taught in the SDD Master's program at Supaero. We'll look at a brief overview as it relates to evolution."
   ]
  },
  {
   "cell_type": "markdown",
   "metadata": {
    "slideshow": {
     "slide_type": "slide"
    }
   },
   "source": [
    "In RL, an agent acts based on a policy $\\pi$, which uses state information $S_t$ to take an action $A_t$. Based on this action, the environment rewards the agent $R_{t+1}$ and the agent moves into a new state $S_{t+1}$. "
   ]
  },
  {
   "cell_type": "markdown",
   "metadata": {
    "slideshow": {
     "slide_type": "fragment"
    }
   },
   "source": [
    "<img src=\"../imgs/erl.png\" width=\"35%\">"
   ]
  },
  {
   "cell_type": "markdown",
   "metadata": {
    "slideshow": {
     "slide_type": "slide"
    }
   },
   "source": [
    "The standard objective function for an evolutionary algorithm when applied to this problem is the sum total of the reward over all timesteps in an episode, from $t=0$ to the end of the episode $t=T$.\n",
    "\n",
    "$$\\sum_{t=0}^{t=T} R_{t}$$"
   ]
  },
  {
   "cell_type": "markdown",
   "metadata": {
    "slideshow": {
     "slide_type": "slide"
    }
   },
   "source": [
    "In other words, evolution is aiming to maximize the total reward over all states $S$ observed and actions $A$ taken  during this episode. The set of states observed and actions taken depends on the current individual $\\pi$ (or policy), where an action $a$ for a given state $s$ is determined by $a=\\pi(s)$. A different way to write the objective function is:\n",
    "\n",
    "$$\\sum_{t=0}^{t=T} r(s_t, \\pi(s_t))$$\n",
    "\n",
    "where $r$ is the reward function of the problem. The optimization of the total reward over the entire episode is very different from Reinforcement Learning algorithms, which maximize the reward over individual state, action $(S,A)$ pairs and many of which aim to approximate $r$. In most evolutionary computation, all that matters is the total reward."
   ]
  },
  {
   "cell_type": "markdown",
   "metadata": {
    "slideshow": {
     "slide_type": "slide"
    }
   },
   "source": [
    "<div class=\"alert alert-warning\">\n",
    "    <h3>Reminder</h3>\n",
    "    \n",
    "In an evolutionary algorithm, the total reward is not the only fitness objective possible. Quality diversity algorithms like MAP-Elites use behavior metrics which measure a different objective than reward over an episode. Using total reward is a good way to compare evolutionary methods to Reinforcement Learning algorithms, but it is not the only option for evolutionary fitness functions.\n",
    "</div>"
   ]
  },
  {
   "cell_type": "markdown",
   "metadata": {
    "slideshow": {
     "slide_type": "slide"
    }
   },
   "source": [
    "# <a id=\"evolving\"></a>Evolving Agents"
   ]
  },
  {
   "cell_type": "markdown",
   "metadata": {
    "slideshow": {
     "slide_type": "fragment"
    }
   },
   "source": [
    "When evolving agents, there are many options for representing the agent. The agent needs only to be able to taken an action $a$ at every step $s$, in other words the agent is $\\pi$ and we'll use the agent to compute $a=\\pi(s)$. Any representation of a function is possible: a layered artificial neural network where weights are optimized by evolution; a complex ANN where structure and weights are evolved; a genetic program; a gene regulatory network; any evolvable function representation works!"
   ]
  },
  {
   "cell_type": "markdown",
   "metadata": {
    "slideshow": {
     "slide_type": "slide"
    }
   },
   "source": [
    "<img src=\"../imgs/agent_representations.png\" width=\"50%\">"
   ]
  },
  {
   "cell_type": "markdown",
   "metadata": {
    "slideshow": {
     "slide_type": "slide"
    }
   },
   "source": [
    "The evaluation of an individual is therefore a multi-step process. Given an individual's genes $G$, a phenotype $P$ is computed. The genes can take many forms, as can the phenotypes. One example is a binary gene regulatory network, where binary genes encode protein tags which inform the weights of the final network, which is the phenotype. Another is the integer genotype used in NEAT, which encodes neurons and their connections in the phenotype which is a neural network."
   ]
  },
  {
   "cell_type": "markdown",
   "metadata": {
    "slideshow": {
     "slide_type": "fragment"
    }
   },
   "source": [
    "<img src=\"../imgs/gene_pheno_behavior.png\" width=\"70%\">"
   ]
  },
  {
   "cell_type": "markdown",
   "metadata": {
    "slideshow": {
     "slide_type": "slide"
    }
   },
   "source": [
    " For evaluation, $P$ must be capable of representing a function $\\pi$ which computes $a=\\pi(s)$ or sometimes $a_t=\\pi(s_t, r(s_{t-1}, a_{t-1}))$, where the reward from the previous step is also provided. The evaluation of the agent which informs its chances of passing on genetic information is then based on its behavior in a simulated environment."
   ]
  },
  {
   "cell_type": "markdown",
   "metadata": {
    "slideshow": {
     "slide_type": "fragment"
    }
   },
   "source": [
    "In this notebook, we'll compare Cartesian Genetic Programming, where our agent is a function graph, and neuroevolution, using a $(1, \\lambda)$ evolutionary strategy to evolve the weights of a 2 layer neural network. We'll use Atari games as the environment, specifically Ms. Pacman."
   ]
  },
  {
   "cell_type": "markdown",
   "metadata": {
    "slideshow": {
     "slide_type": "slide"
    }
   },
   "source": [
    "# <a id=\"atari\"></a> Atari games"
   ]
  },
  {
   "cell_type": "markdown",
   "metadata": {
    "slideshow": {
     "slide_type": "fragment"
    }
   },
   "source": [
    "For a game environment, we'll use the [Arcade Learning Environment](https://github.com/mgbellemare/Arcade-Learning-Environment), which allows us to emulate and manipulate Atari games. There is a [Julia wrapper](https://github.com/JuliaReinforcementLearning/ArcadeLearningEnvironment.jl) which I've only tested on Linux, although the [atari-py](https://github.com/openai/atari-py) package mentions Windows support"
   ]
  },
  {
   "cell_type": "code",
   "execution_count": 1,
   "metadata": {
    "slideshow": {
     "slide_type": "slide"
    }
   },
   "outputs": [
    {
     "name": "stderr",
     "output_type": "stream",
     "text": [
      "\u001b[32m\u001b[1m   Updating\u001b[22m\u001b[39m registry at `~/.julia/registries/General`\n"
     ]
    },
    {
     "name": "stdout",
     "output_type": "stream",
     "text": [
      "\u001b[?25l    "
     ]
    },
    {
     "name": "stderr",
     "output_type": "stream",
     "text": [
      "\u001b[32m\u001b[1m   Updating\u001b[22m\u001b[39m git-repo `https://github.com/JuliaRegistries/General.git`\n"
     ]
    },
    {
     "name": "stdout",
     "output_type": "stream",
     "text": [
      "\u001b[2K\u001b[?25h\u001b[?25l\u001b[2Kg:\u001b[22m\u001b[39m [========================================>]  100.0 %"
     ]
    },
    {
     "name": "stderr",
     "output_type": "stream",
     "text": [
      "\u001b[32m\u001b[1m   Updating\u001b[22m\u001b[39m registry at `~/.julia/registries/LyceumRegistry`\n",
      "\u001b[32m\u001b[1m   Updating\u001b[22m\u001b[39m git-repo `https://github.com/Lyceum/LyceumRegistry`\n"
     ]
    },
    {
     "name": "stdout",
     "output_type": "stream",
     "text": [
      "\u001b[?25h"
     ]
    },
    {
     "name": "stderr",
     "output_type": "stream",
     "text": [
      "\u001b[32m\u001b[1m  Resolving\u001b[22m\u001b[39m package versions...\n",
      "\u001b[32m\u001b[1m   Updating\u001b[22m\u001b[39m `~/.julia/environments/v1.4/Project.toml`\n",
      "\u001b[90m [no changes]\u001b[39m\n",
      "\u001b[32m\u001b[1m   Updating\u001b[22m\u001b[39m `~/.julia/environments/v1.4/Manifest.toml`\n",
      "\u001b[90m [no changes]\u001b[39m\n"
     ]
    }
   ],
   "source": [
    "using Pkg\n",
    "pkg\"add ArcadeLearningEnvironment\""
   ]
  },
  {
   "cell_type": "markdown",
   "metadata": {
    "slideshow": {
     "slide_type": "fragment"
    }
   },
   "source": [
    "This package automatically installs a number of ROMs from the `atari-py` repository"
   ]
  },
  {
   "cell_type": "code",
   "execution_count": 2,
   "metadata": {
    "slideshow": {
     "slide_type": "fragment"
    }
   },
   "outputs": [
    {
     "name": "stderr",
     "output_type": "stream",
     "text": [
      "A.L.E: Arcade Learning Environment (version 0.6.0)\n",
      "[Powered by Stella]\n",
      "Use -help for help screen.\n"
     ]
    },
    {
     "data": {
      "text/plain": [
       "Ptr{Nothing} @0x000055d441944550"
      ]
     },
     "execution_count": 2,
     "metadata": {},
     "output_type": "execute_result"
    }
   ],
   "source": [
    "using ArcadeLearningEnvironment\n",
    "ale = ALE_new()"
   ]
  },
  {
   "cell_type": "code",
   "execution_count": 3,
   "metadata": {
    "slideshow": {
     "slide_type": "slide"
    }
   },
   "outputs": [
    {
     "data": {
      "text/plain": [
       "63-element Array{String,1}:\n",
       " \"adventure\"\n",
       " \"air_raid\"\n",
       " \"alien\"\n",
       " \"amidar\"\n",
       " \"assault\"\n",
       " \"asterix\"\n",
       " \"asteroids\"\n",
       " \"atlantis\"\n",
       " \"bank_heist\"\n",
       " \"battle_zone\"\n",
       " \"beam_rider\"\n",
       " \"berzerk\"\n",
       " \"bowling\"\n",
       " ⋮\n",
       " \"solaris\"\n",
       " \"space_invaders\"\n",
       " \"star_gunner\"\n",
       " \"tennis\"\n",
       " \"time_pilot\"\n",
       " \"tutankham\"\n",
       " \"up_n_down\"\n",
       " \"venture\"\n",
       " \"video_pinball\"\n",
       " \"wizard_of_wor\"\n",
       " \"yars_revenge\"\n",
       " \"zaxxon\""
      ]
     },
     "execution_count": 3,
     "metadata": {},
     "output_type": "execute_result"
    }
   ],
   "source": [
    "getROMList()"
   ]
  },
  {
   "cell_type": "markdown",
   "metadata": {
    "slideshow": {
     "slide_type": "slide"
    }
   },
   "source": [
    "We'll look at  Ms. Pacman as an example. Instead of using the entire action set, we'll only use the actions available in this game. Since the \"fire\" button isn't used in Ms. Pacman, the only actions are the 8 directions from the joystick and no input."
   ]
  },
  {
   "cell_type": "code",
   "execution_count": 4,
   "metadata": {
    "slideshow": {
     "slide_type": "fragment"
    }
   },
   "outputs": [
    {
     "name": "stderr",
     "output_type": "stream",
     "text": [
      "Game console created:\n",
      "  ROM file:  /home/d9w/.julia/packages/ArcadeLearningEnvironment/YJh2g/src/../deps/roms/ms_pacman.bin\n",
      "  Cart Name: Ms. Pac-Man (1982) (CCE)\n",
      "  Cart MD5:  9469d18238345d87768e8965f9f4a6b2\n",
      "  Display Format:  AUTO-DETECT ==> NTSC\n",
      "  ROM Size:        8192\n",
      "  Bankswitch Type: AUTO-DETECT ==> F8\n",
      "\n",
      "\n",
      "WARNING: Possibly unsupported ROM: mismatched MD5.\n",
      "Cartridge_MD5: 9469d18238345d87768e8965f9f4a6b2\n",
      "Cartridge_name: Ms. Pac-Man (1982) (CCE)\n",
      "\n",
      "Running ROM file...\n",
      "Random seed is 0\n"
     ]
    },
    {
     "data": {
      "text/plain": [
       "9-element Array{Int64,1}:\n",
       " 0\n",
       " 2\n",
       " 3\n",
       " 4\n",
       " 5\n",
       " 6\n",
       " 7\n",
       " 8\n",
       " 9"
      ]
     },
     "execution_count": 4,
     "metadata": {},
     "output_type": "execute_result"
    }
   ],
   "source": [
    "loadROM(ale, \"ms_pacman\")\n",
    "actions = getMinimalActionSet(ale)"
   ]
  },
  {
   "cell_type": "markdown",
   "metadata": {
    "slideshow": {
     "slide_type": "slide"
    }
   },
   "source": [
    "Let's see what the environment looks like."
   ]
  },
  {
   "cell_type": "code",
   "execution_count": 5,
   "metadata": {
    "slideshow": {
     "slide_type": "fragment"
    }
   },
   "outputs": [
    {
     "data": {
      "text/plain": [
       "get_screen (generic function with 1 method)"
      ]
     },
     "execution_count": 5,
     "metadata": {},
     "output_type": "execute_result"
    }
   ],
   "source": [
    "using Images, ImageView\n",
    "function get_screen(ale)\n",
    "    screen = reshape(getScreenRGB(ale), (3, getScreenWidth(ale), getScreenHeight(ale))) ./ 256\n",
    "    colorview(RGB, permutedims(screen, [1, 3, 2]))\n",
    "end"
   ]
  },
  {
   "cell_type": "code",
   "execution_count": 6,
   "metadata": {
    "slideshow": {
     "slide_type": "fragment"
    }
   },
   "outputs": [
    {
     "data": {
      "image/png": "[encoded data removed]",
      "text/plain": [
       "210×160 reshape(reinterpret(RGB{Float64}, ::Array{Float64,3}), 210, 160) with eltype RGB{Float64}:\n",
       " RGB{Float64}(0.0,0.0,0.0)                 …  RGB{Float64}(0.0,0.0,0.0)\n",
       " RGB{Float64}(0.890625,0.433594,0.433594)     RGB{Float64}(0.890625,0.433594,0.433594)\n",
       " RGB{Float64}(0.890625,0.433594,0.433594)     RGB{Float64}(0.890625,0.433594,0.433594)\n",
       " RGB{Float64}(0.890625,0.433594,0.433594)     RGB{Float64}(0.890625,0.433594,0.433594)\n",
       " RGB{Float64}(0.890625,0.433594,0.433594)     RGB{Float64}(0.890625,0.433594,0.433594)\n",
       " RGB{Float64}(0.890625,0.433594,0.433594)  …  RGB{Float64}(0.890625,0.433594,0.433594)\n",
       " RGB{Float64}(0.890625,0.433594,0.433594)     RGB{Float64}(0.890625,0.433594,0.433594)\n",
       " RGB{Float64}(0.890625,0.433594,0.433594)     RGB{Float64}(0.890625,0.433594,0.433594)\n",
       " RGB{Float64}(0.890625,0.433594,0.433594)     RGB{Float64}(0.890625,0.433594,0.433594)\n",
       " RGB{Float64}(0.890625,0.433594,0.433594)     RGB{Float64}(0.890625,0.433594,0.433594)\n",
       " RGB{Float64}(0.890625,0.433594,0.433594)  …  RGB{Float64}(0.890625,0.433594,0.433594)\n",
       " RGB{Float64}(0.890625,0.433594,0.433594)     RGB{Float64}(0.890625,0.433594,0.433594)\n",
       " RGB{Float64}(0.890625,0.433594,0.433594)     RGB{Float64}(0.890625,0.433594,0.433594)\n",
       " ⋮                                         ⋱  \n",
       " RGB{Float64}(0.0,0.0,0.0)                    RGB{Float64}(0.0,0.0,0.0)\n",
       " RGB{Float64}(0.0,0.0,0.0)                    RGB{Float64}(0.0,0.0,0.0)\n",
       " RGB{Float64}(0.0,0.0,0.0)                 …  RGB{Float64}(0.0,0.0,0.0)\n",
       " RGB{Float64}(0.0,0.0,0.0)                    RGB{Float64}(0.0,0.0,0.0)\n",
       " RGB{Float64}(0.0,0.0,0.0)                    RGB{Float64}(0.0,0.0,0.0)\n",
       " RGB{Float64}(0.0,0.0,0.0)                    RGB{Float64}(0.0,0.0,0.0)\n",
       " RGB{Float64}(0.0,0.0,0.0)                    RGB{Float64}(0.0,0.0,0.0)\n",
       " RGB{Float64}(0.0,0.0,0.0)                 …  RGB{Float64}(0.0,0.0,0.0)\n",
       " RGB{Float64}(0.0,0.0,0.0)                    RGB{Float64}(0.0,0.0,0.0)\n",
       " RGB{Float64}(0.0,0.0,0.0)                    RGB{Float64}(0.0,0.0,0.0)\n",
       " RGB{Float64}(0.0,0.0,0.0)                    RGB{Float64}(0.0,0.0,0.0)\n",
       " RGB{Float64}(0.0,0.0,0.0)                    RGB{Float64}(0.0,0.0,0.0)"
      ]
     },
     "execution_count": 6,
     "metadata": {},
     "output_type": "execute_result"
    }
   ],
   "source": [
    "get_screen(ale)"
   ]
  },
  {
   "cell_type": "markdown",
   "metadata": {
    "slideshow": {
     "slide_type": "slide"
    }
   },
   "source": [
    "Let's watch the environment as our agent takes random actions."
   ]
  },
  {
   "cell_type": "code",
   "execution_count": 7,
   "metadata": {
    "slideshow": {
     "slide_type": "fragment"
    }
   },
   "outputs": [],
   "source": [
    "using Reel\n",
    "Reel.set_output_type(\"gif\");"
   ]
  },
  {
   "cell_type": "code",
   "execution_count": 8,
   "metadata": {
    "slideshow": {
     "slide_type": "fragment"
    }
   },
   "outputs": [
    {
     "name": "stderr",
     "output_type": "stream",
     "text": [
      "Game console created:\n",
      "  ROM file:  /home/d9w/.julia/packages/ArcadeLearningEnvironment/YJh2g/src/../deps/roms/ms_pacman.bin\n",
      "  Cart Name: Ms. Pac-Man (1982) (CCE)\n",
      "  Cart MD5:  9469d18238345d87768e8965f9f4a6b2\n",
      "  Display Format:  AUTO-DETECT ==> NTSC\n",
      "  ROM Size:        8192\n",
      "  Bankswitch Type: AUTO-DETECT ==> F8\n",
      "\n",
      "\n",
      "WARNING: Possibly unsupported ROM: mismatched MD5.\n",
      "Cartridge_MD5: 9469d18238345d87768e8965f9f4a6b2\n",
      "Cartridge_name: Ms. Pac-Man (1982) (CCE)\n",
      "\n",
      "Running ROM file...\n",
      "Random seed is 0\n"
     ]
    }
   ],
   "source": [
    "loadROM(ale, \"ms_pacman\")\n",
    "frames = Frames(MIME(\"image/png\"), fps=60)\n",
    "total_reward = 0\n",
    "while ~game_over(ale)\n",
    "    total_reward += act(ale, rand(actions))\n",
    "    push!(frames, get_screen(ale))\n",
    "end\n",
    "reset_game(ale)"
   ]
  },
  {
   "cell_type": "code",
   "execution_count": 9,
   "metadata": {
    "slideshow": {
     "slide_type": "slide"
    }
   },
   "outputs": [
    {
     "data": {
      "text/html": [
       "<img src=\"files/reel-5479459752427805560.gif?17865159324417707844\" />"
      ],
      "text/plain": [
       "Frames{MIME{Symbol(\"image/png\")}}(\"/tmp/jl_rvYtBQ\", 0x0000000000000809, 60.0, nothing)"
      ]
     },
     "execution_count": 9,
     "metadata": {},
     "output_type": "execute_result"
    }
   ],
   "source": [
    "frames"
   ]
  },
  {
   "cell_type": "markdown",
   "metadata": {
    "slideshow": {
     "slide_type": "slide"
    }
   },
   "source": [
    "For the state of our environment, we have two options: the pixels, as we saw in the [class on CGP](https://d9w.github.io/evolution/4_gp/2_cgp.html), and the RAM, the memory of the game. We'll use the RAM in this example since it is much smaller and evolution will be faster since we don't need to get the screen every step."
   ]
  },
  {
   "cell_type": "code",
   "execution_count": 10,
   "metadata": {
    "slideshow": {
     "slide_type": "fragment"
    }
   },
   "outputs": [
    {
     "name": "stderr",
     "output_type": "stream",
     "text": [
      "Game console created:\n",
      "  ROM file:  /home/d9w/.julia/packages/ArcadeLearningEnvironment/YJh2g/src/../deps/roms/ms_pacman.bin\n",
      "  Cart Name: Ms. Pac-Man (1982) (CCE)\n",
      "  Cart MD5:  9469d18238345d87768e8965f9f4a6b2\n",
      "  Display Format:  AUTO-DETECT ==> NTSC\n",
      "  ROM Size:        8192\n",
      "  Bankswitch Type: AUTO-DETECT ==> F8\n",
      "\n",
      "\n",
      "WARNING: Possibly unsupported ROM: mismatched MD5.\n",
      "Cartridge_MD5: 9469d18238345d87768e8965f9f4a6b2\n",
      "Cartridge_name: Ms. Pac-Man (1982) (CCE)\n",
      "\n",
      "Running ROM file...\n",
      "Random seed is 0\n"
     ]
    }
   ],
   "source": [
    "loadROM(ale, \"ms_pacman\")"
   ]
  },
  {
   "cell_type": "code",
   "execution_count": 11,
   "metadata": {
    "slideshow": {
     "slide_type": "slide"
    }
   },
   "outputs": [
    {
     "data": {
      "text/plain": [
       "128-element Array{UInt8,1}:\n",
       " 0x00\n",
       " 0x70\n",
       " 0x72\n",
       " 0x73\n",
       " 0x00\n",
       " 0x03\n",
       " 0x58\n",
       " 0x58\n",
       " 0x58\n",
       " 0x58\n",
       " 0x58\n",
       " 0x00\n",
       " 0x50\n",
       "    ⋮\n",
       " 0x00\n",
       " 0x3f\n",
       " 0x00\n",
       " 0x00\n",
       " 0x00\n",
       " 0x00\n",
       " 0x00\n",
       " 0x02\n",
       " 0x42\n",
       " 0xf0\n",
       " 0x92\n",
       " 0xd7"
      ]
     },
     "execution_count": 11,
     "metadata": {},
     "output_type": "execute_result"
    }
   ],
   "source": [
    "getRAM(ale)"
   ]
  },
  {
   "cell_type": "markdown",
   "metadata": {
    "slideshow": {
     "slide_type": "slide"
    }
   },
   "source": [
    "# <a id=\"cgp\"></a>CGP"
   ]
  },
  {
   "cell_type": "markdown",
   "metadata": {
    "slideshow": {
     "slide_type": "fragment"
    }
   },
   "source": [
    "Let's evolve our first agent. We'll use `Cambrian.jl` and `CartesianGeneticProgramming.jl` to evolve a function graph using CGP which takes in the RAM values and outputs a value per action, which we'll use the maximum of to determine the action at each step."
   ]
  },
  {
   "cell_type": "code",
   "execution_count": 12,
   "metadata": {
    "slideshow": {
     "slide_type": "slide"
    }
   },
   "outputs": [
    {
     "name": "stdout",
     "output_type": "stream",
     "text": [
      "\u001b[?25l\u001b[2K"
     ]
    },
    {
     "name": "stderr",
     "output_type": "stream",
     "text": [
      "\u001b[32m\u001b[1m   Updating\u001b[22m\u001b[39m git-repo `https://github.com/d9w/Cambrian.jl`\n"
     ]
    },
    {
     "name": "stdout",
     "output_type": "stream",
     "text": [
      "\u001b[?25h"
     ]
    },
    {
     "name": "stderr",
     "output_type": "stream",
     "text": [
      "\u001b[32m\u001b[1m  Resolving\u001b[22m\u001b[39m package versions...\n",
      "\u001b[32m\u001b[1m   Updating\u001b[22m\u001b[39m `~/.julia/environments/v1.4/Project.toml`\n",
      "\u001b[90m [no changes]\u001b[39m\n",
      "\u001b[32m\u001b[1m   Updating\u001b[22m\u001b[39m `~/.julia/environments/v1.4/Manifest.toml`\n",
      "\u001b[90m [no changes]\u001b[39m\n"
     ]
    },
    {
     "name": "stdout",
     "output_type": "stream",
     "text": [
      "\u001b[?25l\u001b[2K"
     ]
    },
    {
     "name": "stderr",
     "output_type": "stream",
     "text": [
      "\u001b[32m\u001b[1m   Updating\u001b[22m\u001b[39m git-repo `https://github.com/d9w/CartesianGeneticProgramming.jl`\n"
     ]
    },
    {
     "name": "stdout",
     "output_type": "stream",
     "text": [
      "\u001b[?25h"
     ]
    },
    {
     "name": "stderr",
     "output_type": "stream",
     "text": [
      "\u001b[32m\u001b[1m  Resolving\u001b[22m\u001b[39m package versions...\n",
      "\u001b[32m\u001b[1m   Updating\u001b[22m\u001b[39m `~/.julia/environments/v1.4/Project.toml`\n",
      "\u001b[90m [no changes]\u001b[39m\n",
      "\u001b[32m\u001b[1m   Updating\u001b[22m\u001b[39m `~/.julia/environments/v1.4/Manifest.toml`\n",
      "\u001b[90m [no changes]\u001b[39m\n"
     ]
    }
   ],
   "source": [
    "pkg\"add https://github.com/d9w/Cambrian.jl\"\n",
    "pkg\"add https://github.com/d9w/CartesianGeneticProgramming.jl\""
   ]
  },
  {
   "cell_type": "code",
   "execution_count": 13,
   "metadata": {
    "slideshow": {
     "slide_type": "slide"
    }
   },
   "outputs": [],
   "source": [
    "using Cambrian\n",
    "using CartesianGeneticProgramming"
   ]
  },
  {
   "cell_type": "markdown",
   "metadata": {
    "slideshow": {
     "slide_type": "fragment"
    }
   },
   "source": [
    "An example configuration for CGP on this problem is provided in `atari.yaml`. This specifies which functions CGP can choose from, how many rows and columns there are, and what the mutation rate is."
   ]
  },
  {
   "cell_type": "code",
   "execution_count": 14,
   "metadata": {
    "slideshow": {
     "slide_type": "fragment"
    }
   },
   "outputs": [
    {
     "data": {
      "text/plain": [
       "Dict{Any,Any} with 15 entries:\n",
       "  \"two_arity\"    => Bool[1, 1, 1, 0, 0, 0, 1, 1]\n",
       "  \"n_in\"         => 128\n",
       "  \"m_rate\"       => 0.1\n",
       "  \"functions\"    => Function[f_add, f_subtract, f_mult, f_abs, f_exp, f_sin, f_…\n",
       "  \"d_fitness\"    => 1\n",
       "  \"save_gen\"     => 10\n",
       "  \"out_m_rate\"   => 0.3\n",
       "  \"n_out\"        => 9\n",
       "  \"n_elite\"      => 1\n",
       "  \"n_population\" => 5\n",
       "  \"rows\"         => 3\n",
       "  \"n_gen\"        => 1000\n",
       "  \"seed\"         => 0\n",
       "  \"columns\"      => 100\n",
       "  \"log_gen\"      => 1"
      ]
     },
     "execution_count": 14,
     "metadata": {},
     "output_type": "execute_result"
    }
   ],
   "source": [
    "cfg = get_config(\"atari.yaml\")\n",
    "cfg[\"n_in\"] = length(getRAM(ale))\n",
    "cfg[\"n_out\"] = length(actions)\n",
    "cfg"
   ]
  },
  {
   "cell_type": "markdown",
   "metadata": {
    "slideshow": {
     "slide_type": "slide"
    }
   },
   "source": [
    "We'll define our objective function allowing us to also use this function to visualize an agent as it plays."
   ]
  },
  {
   "cell_type": "code",
   "execution_count": 15,
   "metadata": {
    "slideshow": {
     "slide_type": "fragment"
    }
   },
   "outputs": [
    {
     "data": {
      "text/plain": [
       "play_atari (generic function with 1 method)"
      ]
     },
     "execution_count": 15,
     "metadata": {},
     "output_type": "execute_result"
    }
   ],
   "source": [
    "cgp_fits = []\n",
    "function play_atari(ind::CGPInd; render=false, seed=0)\n",
    "    ale = ALE_new()\n",
    "    loadROM(ale, \"ms_pacman\")\n",
    "    if render\n",
    "        frames = Frames(MIME(\"image/png\"), fps=6)\n",
    "    end\n",
    "    f = 0\n",
    "    total_reward = 0\n",
    "    while ~game_over(ale) && f < 18000\n",
    "        inputs = getRAM(ale) ./ typemax(UInt8)\n",
    "        output = process(ind, inputs)\n",
    "        total_reward += act(ale, actions[argmax(output)])\n",
    "        if render && mod(f, 10) == 0\n",
    "            push!(frames, get_screen(ale))\n",
    "        end\n",
    "        f += 1\n",
    "    end\n",
    "    ALE_del(ale)\n",
    "    if render\n",
    "        return total_reward, frames\n",
    "    end\n",
    "    push!(cgp_fits, total_reward)\n",
    "    [total_reward]\n",
    "end"
   ]
  },
  {
   "cell_type": "markdown",
   "metadata": {
    "slideshow": {
     "slide_type": "slide"
    }
   },
   "source": [
    "Let's see how a random individual does"
   ]
  },
  {
   "cell_type": "code",
   "execution_count": 16,
   "metadata": {
    "slideshow": {
     "slide_type": "fragment"
    }
   },
   "outputs": [
    {
     "name": "stdout",
     "output_type": "stream",
     "text": [
      "  2.392936 seconds (1.49 M allocations: 470.896 MiB, 1.54% gc time)\n",
      "elapsed time (ns): 2392935523\n",
      "gc time (ns):      36755645\n",
      "bytes allocated:   493770356\n",
      "pool allocs:       1484736\n",
      "non-pool GC allocs:332\n",
      "malloc() calls:    1248\n",
      "GC pauses:         7\n"
     ]
    },
    {
     "name": "stderr",
     "output_type": "stream",
     "text": [
      "A.L.E: Arcade Learning Environment (version 0.6.0)\n",
      "[Powered by Stella]\n",
      "Use -help for help screen.\n",
      "Game console created:\n",
      "  ROM file:  /home/d9w/.julia/packages/ArcadeLearningEnvironment/YJh2g/src/../deps/roms/ms_pacman.bin\n",
      "  Cart Name: Ms. Pac-Man (1982) (CCE)\n",
      "  Cart MD5:  9469d18238345d87768e8965f9f4a6b2\n",
      "  Display Format:  AUTO-DETECT ==> NTSC\n",
      "  ROM Size:        8192\n",
      "  Bankswitch Type: AUTO-DETECT ==> F8\n",
      "\n",
      "\n",
      "WARNING: Possibly unsupported ROM: mismatched MD5.\n",
      "Cartridge_MD5: 9469d18238345d87768e8965f9f4a6b2\n",
      "Cartridge_name: Ms. Pac-Man (1982) (CCE)\n",
      "\n",
      "Running ROM file...\n",
      "Random seed is 0\n"
     ]
    },
    {
     "data": {
      "text/plain": [
       "(70, Frames{MIME{Symbol(\"image/png\")}}(\"/tmp/jl_ky5ywR\", 0x00000000000000d0, 6.0, nothing))"
      ]
     },
     "execution_count": 16,
     "metadata": {},
     "output_type": "execute_result"
    }
   ],
   "source": [
    "ind = CGPInd(cfg);\n",
    "@timev total_reward, frames = play_atari(ind; render=true)"
   ]
  },
  {
   "cell_type": "code",
   "execution_count": 17,
   "metadata": {
    "slideshow": {
     "slide_type": "slide"
    }
   },
   "outputs": [
    {
     "data": {
      "text/html": [
       "<img src=\"files/reel-10370995939955670933.gif?11819985262167110763\" />"
      ],
      "text/plain": [
       "Frames{MIME{Symbol(\"image/png\")}}(\"/tmp/jl_ky5ywR\", 0x00000000000000d0, 6.0, nothing)"
      ]
     },
     "execution_count": 17,
     "metadata": {},
     "output_type": "execute_result"
    }
   ],
   "source": [
    "frames"
   ]
  },
  {
   "cell_type": "markdown",
   "metadata": {
    "slideshow": {
     "slide_type": "slide"
    }
   },
   "source": [
    "The rendering evaluation took a while if we consider that during evolution, we'll run this function hundreds or thousands of times. Let's see how long it takes without rendering."
   ]
  },
  {
   "cell_type": "code",
   "execution_count": 18,
   "metadata": {
    "slideshow": {
     "slide_type": "fragment"
    }
   },
   "outputs": [
    {
     "name": "stdout",
     "output_type": "stream",
     "text": [
      "  0.436167 seconds (120.26 k allocations: 4.810 MiB)\n",
      "elapsed time (ns): 436166923\n",
      "bytes allocated:   5043568\n",
      "pool allocs:       120257\n"
     ]
    },
    {
     "name": "stderr",
     "output_type": "stream",
     "text": [
      "A.L.E: Arcade Learning Environment (version 0.6.0)\n",
      "[Powered by Stella]\n",
      "Use -help for help screen.\n",
      "Game console created:\n",
      "  ROM file:  /home/d9w/.julia/packages/ArcadeLearningEnvironment/YJh2g/src/../deps/roms/ms_pacman.bin\n",
      "  Cart Name: Ms. Pac-Man (1982) (CCE)\n",
      "  Cart MD5:  9469d18238345d87768e8965f9f4a6b2\n",
      "  Display Format:  AUTO-DETECT ==> NTSC\n",
      "  ROM Size:        8192\n",
      "  Bankswitch Type: AUTO-DETECT ==> F8\n",
      "\n",
      "\n",
      "WARNING: Possibly unsupported ROM: mismatched MD5.\n",
      "Cartridge_MD5: 9469d18238345d87768e8965f9f4a6b2\n",
      "Cartridge_name: Ms. Pac-Man (1982) (CCE)\n",
      "\n",
      "Running ROM file...\n",
      "Random seed is 0\n"
     ]
    },
    {
     "data": {
      "text/plain": [
       "1-element Array{Int64,1}:\n",
       " 70"
      ]
     },
     "execution_count": 18,
     "metadata": {},
     "output_type": "execute_result"
    }
   ],
   "source": [
    "@timev total_reward = play_atari(ind)"
   ]
  },
  {
   "cell_type": "markdown",
   "metadata": {
    "slideshow": {
     "slide_type": "slide"
    }
   },
   "source": [
    "That's better. Let's run the evolution for 20 generations, evaluating 5 individuals each time ($\\lambda$=5) for a total of 100 evaluations."
   ]
  },
  {
   "cell_type": "code",
   "execution_count": 19,
   "metadata": {
    "slideshow": {
     "slide_type": "fragment"
    }
   },
   "outputs": [],
   "source": [
    "cgp_fits = []\n",
    "evo = CartesianGeneticProgramming.evolution(cfg, play_atari);"
   ]
  },
  {
   "cell_type": "code",
   "execution_count": 20,
   "metadata": {
    "slideshow": {
     "slide_type": "fragment"
    }
   },
   "outputs": [
    {
     "name": "stderr",
     "output_type": "stream",
     "text": [
      "A.L.E: Arcade Learning Environment (version 0.6.0)\n",
      "[Powered by Stella]\n",
      "Use -help for help screen.\n",
      "Game console created:\n",
      "  ROM file:  /home/d9w/.julia/packages/ArcadeLearningEnvironment/YJh2g/src/../deps/roms/ms_pacman.bin\n",
      "  Cart Name: Ms. Pac-Man (1982) (CCE)\n",
      "  Cart MD5:  9469d18238345d87768e8965f9f4a6b2\n",
      "  Display Format:  AUTO-DETECT ==> NTSC\n",
      "  ROM Size:        8192\n",
      "  Bankswitch Type: AUTO-DETECT ==> F8\n",
      "\n",
      "\n",
      "WARNING: Possibly unsupported ROM: mismatched MD5.\n",
      "Cartridge_MD5: 9469d18238345d87768e8965f9f4a6b2\n",
      "Cartridge_name: Ms. Pac-Man (1982) (CCE)\n",
      "\n",
      "Running ROM file...\n",
      "Random seed is 0\n",
      "A.L.E: Arcade Learning Environment (version 0.6.0)\n",
      "[Powered by Stella]\n",
      "Use -help for help screen.\n",
      "Game console created:\n",
      "  ROM file:  /home/d9w/.julia/packages/ArcadeLearningEnvironment/YJh2g/src/../deps/roms/ms_pacman.bin\n",
      "  Cart Name: Ms. Pac-Man (1982) (CCE)\n",
      "  Cart MD5:  9469d18238345d87768e8965f9f4a6b2\n",
      "  Display Format:  AUTO-DETECT ==> NTSC\n",
      "  ROM Size:        8192\n",
      "  Bankswitch Type: AUTO-DETECT ==> F8\n",
      "\n",
      "\n",
      "WARNING: Possibly unsupported ROM: mismatched MD5.\n",
      "Cartridge_MD5: 9469d18238345d87768e8965f9f4a6b2\n",
      "Cartridge_name: Ms. Pac-Man (1982) (CCE)\n",
      "\n",
      "Running ROM file...\n",
      "Random seed is 0\n",
      "A.L.E: Arcade Learning Environment (version 0.6.0)\n",
      "[Powered by Stella]\n",
      "Use -help for help screen.\n",
      "Game console created:\n",
      "  ROM file:  /home/d9w/.julia/packages/ArcadeLearningEnvironment/YJh2g/src/../deps/roms/ms_pacman.bin\n",
      "  Cart Name: Ms. Pac-Man (1982) (CCE)\n",
      "  Cart MD5:  9469d18238345d87768e8965f9f4a6b2\n",
      "  Display Format:  AUTO-DETECT ==> NTSC\n",
      "  ROM Size:        8192\n",
      "  Bankswitch Type: AUTO-DETECT ==> F8\n",
      "\n",
      "\n",
      "WARNING: Possibly unsupported ROM: mismatched MD5.\n",
      "Cartridge_MD5: 9469d18238345d87768e8965f9f4a6b2\n",
      "Cartridge_name: Ms. Pac-Man (1982) (CCE)\n",
      "\n",
      "Running ROM file...\n",
      "Random seed is 0\n",
      "A.L.E: Arcade Learning Environment (version 0.6.0)\n",
      "[Powered by Stella]\n",
      "Use -help for help screen.\n",
      "Game console created:\n",
      "  ROM file:  /home/d9w/.julia/packages/ArcadeLearningEnvironment/YJh2g/src/../deps/roms/ms_pacman.bin\n",
      "  Cart Name: Ms. Pac-Man (1982) (CCE)\n",
      "  Cart MD5:  9469d18238345d87768e8965f9f4a6b2\n",
      "  Display Format:  AUTO-DETECT ==> NTSC\n",
      "  ROM Size:        8192\n",
      "  Bankswitch Type: AUTO-DETECT ==> F8\n",
      "\n",
      "\n",
      "WARNING: Possibly unsupported ROM: mismatched MD5.\n",
      "Cartridge_MD5: 9469d18238345d87768e8965f9f4a6b2\n",
      "Cartridge_name: Ms. Pac-Man (1982) (CCE)\n",
      "\n",
      "Running ROM file...\n",
      "Random seed is 0\n",
      "A.L.E: Arcade Learning Environment (version 0.6.0)\n",
      "[Powered by Stella]\n",
      "Use -help for help screen.\n",
      "Game console created:\n",
      "  ROM file:  /home/d9w/.julia/packages/ArcadeLearningEnvironment/YJh2g/src/../deps/roms/ms_pacman.bin\n",
      "  Cart Name: Ms. Pac-Man (1982) (CCE)\n",
      "  Cart MD5:  9469d18238345d87768e8965f9f4a6b2\n",
      "  Display Format:  AUTO-DETECT ==> NTSC\n",
      "  ROM Size:        8192\n",
      "  Bankswitch Type: AUTO-DETECT ==> F8\n",
      "\n",
      "\n",
      "WARNING: Possibly unsupported ROM: mismatched MD5.\n",
      "Cartridge_MD5: 9469d18238345d87768e8965f9f4a6b2\n",
      "Cartridge_name: Ms. Pac-Man (1982) (CCE)\n",
      "\n",
      "Running ROM file...\n",
      "Random seed is 0\n",
      "A.L.E: Arcade Learning Environment (version 0.6.0)\n",
      "[Powered by Stella]\n",
      "Use -help for help screen.\n",
      "Game console created:\n",
      "  ROM file:  /home/d9w/.julia/packages/ArcadeLearningEnvironment/YJh2g/src/../deps/roms/ms_pacman.bin\n",
      "  Cart Name: Ms. Pac-Man (1982) (CCE)\n",
      "  Cart MD5:  9469d18238345d87768e8965f9f4a6b2\n",
      "  Display Format:  AUTO-DETECT ==> NTSC\n",
      "  ROM Size:        8192\n",
      "  Bankswitch Type: AUTO-DETECT ==> F8\n",
      "\n",
      "\n",
      "WARNING: Possibly unsupported ROM: mismatched MD5.\n",
      "Cartridge_MD5: 9469d18238345d87768e8965f9f4a6b2\n",
      "Cartridge_name: Ms. Pac-Man (1982) (CCE)\n",
      "\n",
      "Running ROM file...\n",
      "Random seed is 0\n",
      "A.L.E: Arcade Learning Environment (version 0.6.0)\n",
      "[Powered by Stella]\n",
      "Use -help for help screen.\n",
      "Game console created:\n",
      "  ROM file:  /home/d9w/.julia/packages/ArcadeLearningEnvironment/YJh2g/src/../deps/roms/ms_pacman.bin\n",
      "  Cart Name: Ms. Pac-Man (1982) (CCE)\n",
      "  Cart MD5:  9469d18238345d87768e8965f9f4a6b2\n",
      "  Display Format:  AUTO-DETECT ==> NTSC\n",
      "  ROM Size:        8192\n",
      "  Bankswitch Type: AUTO-DETECT ==> F8\n",
      "\n",
      "\n",
      "WARNING: Possibly unsupported ROM: mismatched MD5.\n",
      "Cartridge_MD5: 9469d18238345d87768e8965f9f4a6b2\n",
      "Cartridge_name: Ms. Pac-Man (1982) (CCE)\n",
      "\n",
      "Running ROM file...\n",
      "Random seed is 0\n",
      "A.L.E: Arcade Learning Environment (version 0.6.0)\n",
      "[Powered by Stella]\n",
      "Use -help for help screen.\n",
      "Game console created:\n",
      "  ROM file:  /home/d9w/.julia/packages/ArcadeLearningEnvironment/YJh2g/src/../deps/roms/ms_pacman.bin\n",
      "  Cart Name: Ms. Pac-Man (1982) (CCE)\n",
      "  Cart MD5:  9469d18238345d87768e8965f9f4a6b2\n",
      "  Display Format:  AUTO-DETECT ==> NTSC\n",
      "  ROM Size:        8192\n",
      "  Bankswitch Type: AUTO-DETECT ==> F8\n",
      "\n",
      "\n",
      "WARNING: Possibly unsupported ROM: mismatched MD5.\n",
      "Cartridge_MD5: 9469d18238345d87768e8965f9f4a6b2\n",
      "Cartridge_name: Ms. Pac-Man (1982) (CCE)\n",
      "\n",
      "Running ROM file...\n",
      "Random seed is 0\n",
      "A.L.E: Arcade Learning Environment (version 0.6.0)\n",
      "[Powered by Stella]\n",
      "Use -help for help screen.\n",
      "Game console created:\n",
      "  ROM file:  /home/d9w/.julia/packages/ArcadeLearningEnvironment/YJh2g/src/../deps/roms/ms_pacman.bin\n",
      "  Cart Name: Ms. Pac-Man (1982) (CCE)\n",
      "  Cart MD5:  9469d18238345d87768e8965f9f4a6b2\n",
      "  Display Format:  AUTO-DETECT ==> NTSC\n",
      "  ROM Size:        8192\n",
      "  Bankswitch Type: AUTO-DETECT ==> F8\n",
      "\n",
      "\n",
      "WARNING: Possibly unsupported ROM: mismatched MD5.\n",
      "Cartridge_MD5: 9469d18238345d87768e8965f9f4a6b2\n",
      "Cartridge_name: Ms. Pac-Man (1982) (CCE)\n",
      "\n",
      "Running ROM file...\n",
      "Random seed is 0\n",
      "A.L.E: Arcade Learning Environment (version 0.6.0)\n",
      "[Powered by Stella]\n",
      "Use -help for help screen.\n",
      "Game console created:\n",
      "  ROM file:  /home/d9w/.julia/packages/ArcadeLearningEnvironment/YJh2g/src/../deps/roms/ms_pacman.bin\n",
      "  Cart Name: Ms. Pac-Man (1982) (CCE)\n",
      "  Cart MD5:  9469d18238345d87768e8965f9f4a6b2\n",
      "  Display Format:  AUTO-DETECT ==> NTSC\n",
      "  ROM Size:        8192\n",
      "  Bankswitch Type: AUTO-DETECT ==> F8\n",
      "\n",
      "\n",
      "WARNING: Possibly unsupported ROM: mismatched MD5.\n",
      "Cartridge_MD5: 9469d18238345d87768e8965f9f4a6b2\n",
      "Cartridge_name: Ms. Pac-Man (1982) (CCE)\n",
      "\n",
      "Running ROM file...\n",
      "Random seed is 0\n",
      "A.L.E: Arcade Learning Environment (version 0.6.0)\n",
      "[Powered by Stella]\n",
      "Use -help for help screen.\n",
      "Game console created:\n",
      "  ROM file:  /home/d9w/.julia/packages/ArcadeLearningEnvironment/YJh2g/src/../deps/roms/ms_pacman.bin\n",
      "  Cart Name: Ms. Pac-Man (1982) (CCE)\n",
      "  Cart MD5:  9469d18238345d87768e8965f9f4a6b2\n",
      "  Display Format:  AUTO-DETECT ==> NTSC\n",
      "  ROM Size:        8192\n",
      "  Bankswitch Type: AUTO-DETECT ==> F8\n",
      "\n",
      "\n",
      "WARNING: Possibly unsupported ROM: mismatched MD5.\n",
      "Cartridge_MD5: 9469d18238345d87768e8965f9f4a6b2\n",
      "Cartridge_name: Ms. Pac-Man (1982) (CCE)\n",
      "\n",
      "Running ROM file...\n",
      "Random seed is 0\n",
      "A.L.E: Arcade Learning Environment (version 0.6.0)\n",
      "[Powered by Stella]\n",
      "Use -help for help screen.\n",
      "Game console created:\n",
      "  ROM file:  /home/d9w/.julia/packages/ArcadeLearningEnvironment/YJh2g/src/../deps/roms/ms_pacman.bin\n",
      "  Cart Name: Ms. Pac-Man (1982) (CCE)\n",
      "  Cart MD5:  9469d18238345d87768e8965f9f4a6b2\n",
      "  Display Format:  AUTO-DETECT ==> NTSC\n",
      "  ROM Size:        8192\n",
      "  Bankswitch Type: AUTO-DETECT ==> F8\n",
      "\n",
      "\n",
      "WARNING: Possibly unsupported ROM: mismatched MD5.\n",
      "Cartridge_MD5: 9469d18238345d87768e8965f9f4a6b2\n",
      "Cartridge_name: Ms. Pac-Man (1982) (CCE)\n",
      "\n",
      "Running ROM file...\n",
      "Random seed is 0\n",
      "A.L.E: Arcade Learning Environment (version 0.6.0)\n",
      "[Powered by Stella]\n",
      "Use -help for help screen.\n",
      "Game console created:\n",
      "  ROM file:  /home/d9w/.julia/packages/ArcadeLearningEnvironment/YJh2g/src/../deps/roms/ms_pacman.bin\n",
      "  Cart Name: Ms. Pac-Man (1982) (CCE)\n",
      "  Cart MD5:  9469d18238345d87768e8965f9f4a6b2\n",
      "  Display Format:  AUTO-DETECT ==> NTSC\n",
      "  ROM Size:        8192\n",
      "  Bankswitch Type: AUTO-DETECT ==> F8\n",
      "\n",
      "\n",
      "WARNING: Possibly unsupported ROM: mismatched MD5.\n",
      "Cartridge_MD5: 9469d18238345d87768e8965f9f4a6b2\n",
      "Cartridge_name: Ms. Pac-Man (1982) (CCE)\n",
      "\n",
      "Running ROM file...\n",
      "Random seed is 0\n",
      "A.L.E: Arcade Learning Environment (version 0.6.0)\n",
      "[Powered by Stella]\n",
      "Use -help for help screen.\n",
      "Game console created:\n",
      "  ROM file:  /home/d9w/.julia/packages/ArcadeLearningEnvironment/YJh2g/src/../deps/roms/ms_pacman.bin\n",
      "  Cart Name: Ms. Pac-Man (1982) (CCE)\n",
      "  Cart MD5:  9469d18238345d87768e8965f9f4a6b2\n",
      "  Display Format:  AUTO-DETECT ==> NTSC\n",
      "  ROM Size:        8192\n",
      "  Bankswitch Type: AUTO-DETECT ==> F8\n",
      "\n",
      "\n",
      "WARNING: Possibly unsupported ROM: mismatched MD5.\n",
      "Cartridge_MD5: 9469d18238345d87768e8965f9f4a6b2\n",
      "Cartridge_name: Ms. Pac-Man (1982) (CCE)\n",
      "\n",
      "Running ROM file...\n",
      "Random seed is 0\n",
      "A.L.E: Arcade Learning Environment (version 0.6.0)\n",
      "[Powered by Stella]\n",
      "Use -help for help screen.\n",
      "Game console created:\n",
      "  ROM file:  /home/d9w/.julia/packages/ArcadeLearningEnvironment/YJh2g/src/../deps/roms/ms_pacman.bin\n",
      "  Cart Name: Ms. Pac-Man (1982) (CCE)\n",
      "  Cart MD5:  9469d18238345d87768e8965f9f4a6b2\n",
      "  Display Format:  AUTO-DETECT ==> NTSC\n",
      "  ROM Size:        8192\n",
      "  Bankswitch Type: AUTO-DETECT ==> F8\n",
      "\n",
      "\n",
      "WARNING: Possibly unsupported ROM: mismatched MD5.\n",
      "Cartridge_MD5: 9469d18238345d87768e8965f9f4a6b2\n",
      "Cartridge_name: Ms. Pac-Man (1982) (CCE)\n",
      "\n",
      "Running ROM file...\n",
      "Random seed is 0\n",
      "A.L.E: Arcade Learning Environment (version 0.6.0)\n",
      "[Powered by Stella]\n",
      "Use -help for help screen.\n",
      "Game console created:\n",
      "  ROM file:  /home/d9w/.julia/packages/ArcadeLearningEnvironment/YJh2g/src/../deps/roms/ms_pacman.bin\n",
      "  Cart Name: Ms. Pac-Man (1982) (CCE)\n",
      "  Cart MD5:  9469d18238345d87768e8965f9f4a6b2\n",
      "  Display Format:  AUTO-DETECT ==> NTSC\n",
      "  ROM Size:        8192\n",
      "  Bankswitch Type: AUTO-DETECT ==> F8\n",
      "\n",
      "\n",
      "WARNING: Possibly unsupported ROM: mismatched MD5.\n",
      "Cartridge_MD5: 9469d18238345d87768e8965f9f4a6b2\n",
      "Cartridge_name: Ms. Pac-Man (1982) (CCE)\n",
      "\n",
      "Running ROM file...\n",
      "Random seed is 0\n",
      "A.L.E: Arcade Learning Environment (version 0.6.0)\n",
      "[Powered by Stella]\n",
      "Use -help for help screen.\n",
      "Game console created:\n",
      "  ROM file:  /home/d9w/.julia/packages/ArcadeLearningEnvironment/YJh2g/src/../deps/roms/ms_pacman.bin\n",
      "  Cart Name: Ms. Pac-Man (1982) (CCE)\n",
      "  Cart MD5:  9469d18238345d87768e8965f9f4a6b2\n",
      "  Display Format:  AUTO-DETECT ==> NTSC\n",
      "  ROM Size:        8192\n",
      "  Bankswitch Type: AUTO-DETECT ==> F8\n",
      "\n",
      "\n",
      "WARNING: Possibly unsupported ROM: mismatched MD5.\n",
      "Cartridge_MD5: 9469d18238345d87768e8965f9f4a6b2\n",
      "Cartridge_name: Ms. Pac-Man (1982) (CCE)\n",
      "\n",
      "Running ROM file...\n",
      "Random seed is 0\n",
      "A.L.E: Arcade Learning Environment (version 0.6.0)\n",
      "[Powered by Stella]\n",
      "Use -help for help screen.\n",
      "Game console created:\n",
      "  ROM file:  /home/d9w/.julia/packages/ArcadeLearningEnvironment/YJh2g/src/../deps/roms/ms_pacman.bin\n",
      "  Cart Name: Ms. Pac-Man (1982) (CCE)\n",
      "  Cart MD5:  9469d18238345d87768e8965f9f4a6b2\n",
      "  Display Format:  AUTO-DETECT ==> NTSC\n",
      "  ROM Size:        8192\n",
      "  Bankswitch Type: AUTO-DETECT ==> F8\n",
      "\n",
      "\n",
      "WARNING: Possibly unsupported ROM: mismatched MD5.\n",
      "Cartridge_MD5: 9469d18238345d87768e8965f9f4a6b2\n",
      "Cartridge_name: Ms. Pac-Man (1982) (CCE)\n",
      "\n",
      "Running ROM file...\n",
      "Random seed is 0\n",
      "A.L.E: Arcade Learning Environment (version 0.6.0)\n",
      "[Powered by Stella]\n",
      "Use -help for help screen.\n",
      "Game console created:\n",
      "  ROM file:  /home/d9w/.julia/packages/ArcadeLearningEnvironment/YJh2g/src/../deps/roms/ms_pacman.bin\n",
      "  Cart Name: Ms. Pac-Man (1982) (CCE)\n",
      "  Cart MD5:  9469d18238345d87768e8965f9f4a6b2\n",
      "  Display Format:  AUTO-DETECT ==> NTSC\n",
      "  ROM Size:        8192\n",
      "  Bankswitch Type: AUTO-DETECT ==> F8\n",
      "\n",
      "\n",
      "WARNING: Possibly unsupported ROM: mismatched MD5.\n",
      "Cartridge_MD5: 9469d18238345d87768e8965f9f4a6b2\n",
      "Cartridge_name: Ms. Pac-Man (1982) (CCE)\n",
      "\n",
      "Running ROM file...\n",
      "Random seed is 0\n",
      "A.L.E: Arcade Learning Environment (version 0.6.0)\n",
      "[Powered by Stella]\n",
      "Use -help for help screen.\n",
      "Game console created:\n",
      "  ROM file:  /home/d9w/.julia/packages/ArcadeLearningEnvironment/YJh2g/src/../deps/roms/ms_pacman.bin\n",
      "  Cart Name: Ms. Pac-Man (1982) (CCE)\n",
      "  Cart MD5:  9469d18238345d87768e8965f9f4a6b2\n",
      "  Display Format:  AUTO-DETECT ==> NTSC\n",
      "  ROM Size:        8192\n",
      "  Bankswitch Type: AUTO-DETECT ==> F8\n",
      "\n",
      "\n",
      "WARNING: Possibly unsupported ROM: mismatched MD5.\n",
      "Cartridge_MD5: 9469d18238345d87768e8965f9f4a6b2\n",
      "Cartridge_name: Ms. Pac-Man (1982) (CCE)\n",
      "\n",
      "Running ROM file...\n",
      "Random seed is 0\n",
      "A.L.E: Arcade Learning Environment (version 0.6.0)\n",
      "[Powered by Stella]\n",
      "Use -help for help screen.\n",
      "Game console created:\n",
      "  ROM file:  /home/d9w/.julia/packages/ArcadeLearningEnvironment/YJh2g/src/../deps/roms/ms_pacman.bin\n",
      "  Cart Name: Ms. Pac-Man (1982) (CCE)\n",
      "  Cart MD5:  9469d18238345d87768e8965f9f4a6b2\n",
      "  Display Format:  AUTO-DETECT ==> NTSC\n",
      "  ROM Size:        8192\n",
      "  Bankswitch Type: AUTO-DETECT ==> F8\n",
      "\n",
      "\n",
      "WARNING: Possibly unsupported ROM: mismatched MD5.\n",
      "Cartridge_MD5: 9469d18238345d87768e8965f9f4a6b2\n",
      "Cartridge_name: Ms. Pac-Man (1982) (CCE)\n",
      "\n",
      "Running ROM file...\n",
      "Random seed is 0\n",
      "A.L.E: Arcade Learning Environment (version 0.6.0)\n",
      "[Powered by Stella]\n",
      "Use -help for help screen.\n",
      "Game console created:\n",
      "  ROM file:  /home/d9w/.julia/packages/ArcadeLearningEnvironment/YJh2g/src/../deps/roms/ms_pacman.bin\n",
      "  Cart Name: Ms. Pac-Man (1982) (CCE)\n",
      "  Cart MD5:  9469d18238345d87768e8965f9f4a6b2\n",
      "  Display Format:  AUTO-DETECT ==> NTSC\n",
      "  ROM Size:        8192\n",
      "  Bankswitch Type: AUTO-DETECT ==> F8\n",
      "\n",
      "\n",
      "WARNING: Possibly unsupported ROM: mismatched MD5.\n",
      "Cartridge_MD5: 9469d18238345d87768e8965f9f4a6b2\n",
      "Cartridge_name: Ms. Pac-Man (1982) (CCE)\n",
      "\n",
      "Running ROM file...\n",
      "Random seed is 0\n",
      "A.L.E: Arcade Learning Environment (version 0.6.0)\n",
      "[Powered by Stella]\n",
      "Use -help for help screen.\n",
      "Game console created:\n",
      "  ROM file:  /home/d9w/.julia/packages/ArcadeLearningEnvironment/YJh2g/src/../deps/roms/ms_pacman.bin\n",
      "  Cart Name: Ms. Pac-Man (1982) (CCE)\n",
      "  Cart MD5:  9469d18238345d87768e8965f9f4a6b2\n",
      "  Display Format:  AUTO-DETECT ==> NTSC\n",
      "  ROM Size:        8192\n",
      "  Bankswitch Type: AUTO-DETECT ==> F8\n",
      "\n",
      "\n",
      "WARNING: Possibly unsupported ROM: mismatched MD5.\n",
      "Cartridge_MD5: 9469d18238345d87768e8965f9f4a6b2\n",
      "Cartridge_name: Ms. Pac-Man (1982) (CCE)\n",
      "\n",
      "Running ROM file...\n",
      "Random seed is 0\n",
      "A.L.E: Arcade Learning Environment (version 0.6.0)\n",
      "[Powered by Stella]\n",
      "Use -help for help screen.\n",
      "Game console created:\n",
      "  ROM file:  /home/d9w/.julia/packages/ArcadeLearningEnvironment/YJh2g/src/../deps/roms/ms_pacman.bin\n",
      "  Cart Name: Ms. Pac-Man (1982) (CCE)\n",
      "  Cart MD5:  9469d18238345d87768e8965f9f4a6b2\n",
      "  Display Format:  AUTO-DETECT ==> NTSC\n",
      "  ROM Size:        8192\n",
      "  Bankswitch Type: AUTO-DETECT ==> F8\n",
      "\n",
      "\n",
      "WARNING: Possibly unsupported ROM: mismatched MD5.\n",
      "Cartridge_MD5: 9469d18238345d87768e8965f9f4a6b2\n",
      "Cartridge_name: Ms. Pac-Man (1982) (CCE)\n",
      "\n",
      "Running ROM file...\n",
      "Random seed is 0\n",
      "A.L.E: Arcade Learning Environment (version 0.6.0)\n",
      "[Powered by Stella]\n",
      "Use -help for help screen.\n",
      "Game console created:\n",
      "  ROM file:  /home/d9w/.julia/packages/ArcadeLearningEnvironment/YJh2g/src/../deps/roms/ms_pacman.bin\n",
      "  Cart Name: Ms. Pac-Man (1982) (CCE)\n",
      "  Cart MD5:  9469d18238345d87768e8965f9f4a6b2\n",
      "  Display Format:  AUTO-DETECT ==> NTSC\n",
      "  ROM Size:        8192\n",
      "  Bankswitch Type: AUTO-DETECT ==> F8\n",
      "\n",
      "\n",
      "WARNING: Possibly unsupported ROM: mismatched MD5.\n",
      "Cartridge_MD5: 9469d18238345d87768e8965f9f4a6b2\n",
      "Cartridge_name: Ms. Pac-Man (1982) (CCE)\n",
      "\n",
      "Running ROM file...\n",
      "Random seed is 0\n",
      "A.L.E: Arcade Learning Environment (version 0.6.0)\n",
      "[Powered by Stella]\n",
      "Use -help for help screen.\n",
      "Game console created:\n",
      "  ROM file:  /home/d9w/.julia/packages/ArcadeLearningEnvironment/YJh2g/src/../deps/roms/ms_pacman.bin\n",
      "  Cart Name: Ms. Pac-Man (1982) (CCE)\n",
      "  Cart MD5:  9469d18238345d87768e8965f9f4a6b2\n",
      "  Display Format:  AUTO-DETECT ==> NTSC\n",
      "  ROM Size:        8192\n",
      "  Bankswitch Type: AUTO-DETECT ==> F8\n",
      "\n",
      "\n",
      "WARNING: Possibly unsupported ROM: mismatched MD5.\n",
      "Cartridge_MD5: 9469d18238345d87768e8965f9f4a6b2\n",
      "Cartridge_name: Ms. Pac-Man (1982) (CCE)\n",
      "\n",
      "Running ROM file...\n",
      "Random seed is 0\n",
      "A.L.E: Arcade Learning Environment (version 0.6.0)\n",
      "[Powered by Stella]\n",
      "Use -help for help screen.\n",
      "Game console created:\n",
      "  ROM file:  /home/d9w/.julia/packages/ArcadeLearningEnvironment/YJh2g/src/../deps/roms/ms_pacman.bin\n",
      "  Cart Name: Ms. Pac-Man (1982) (CCE)\n",
      "  Cart MD5:  9469d18238345d87768e8965f9f4a6b2\n",
      "  Display Format:  AUTO-DETECT ==> NTSC\n",
      "  ROM Size:        8192\n",
      "  Bankswitch Type: AUTO-DETECT ==> F8\n",
      "\n",
      "\n",
      "WARNING: Possibly unsupported ROM: mismatched MD5.\n",
      "Cartridge_MD5: 9469d18238345d87768e8965f9f4a6b2\n",
      "Cartridge_name: Ms. Pac-Man (1982) (CCE)\n",
      "\n",
      "Running ROM file...\n",
      "Random seed is 0\n",
      "A.L.E: Arcade Learning Environment (version 0.6.0)\n",
      "[Powered by Stella]\n",
      "Use -help for help screen.\n",
      "Game console created:\n",
      "  ROM file:  /home/d9w/.julia/packages/ArcadeLearningEnvironment/YJh2g/src/../deps/roms/ms_pacman.bin\n",
      "  Cart Name: Ms. Pac-Man (1982) (CCE)\n",
      "  Cart MD5:  9469d18238345d87768e8965f9f4a6b2\n",
      "  Display Format:  AUTO-DETECT ==> NTSC\n",
      "  ROM Size:        8192\n",
      "  Bankswitch Type: AUTO-DETECT ==> F8\n",
      "\n",
      "\n",
      "WARNING: Possibly unsupported ROM: mismatched MD5.\n",
      "Cartridge_MD5: 9469d18238345d87768e8965f9f4a6b2\n",
      "Cartridge_name: Ms. Pac-Man (1982) (CCE)\n",
      "\n",
      "Running ROM file...\n",
      "Random seed is 0\n",
      "A.L.E: Arcade Learning Environment (version 0.6.0)\n",
      "[Powered by Stella]\n",
      "Use -help for help screen.\n",
      "Game console created:\n",
      "  ROM file:  /home/d9w/.julia/packages/ArcadeLearningEnvironment/YJh2g/src/../deps/roms/ms_pacman.bin\n",
      "  Cart Name: Ms. Pac-Man (1982) (CCE)\n",
      "  Cart MD5:  9469d18238345d87768e8965f9f4a6b2\n",
      "  Display Format:  AUTO-DETECT ==> NTSC\n",
      "  ROM Size:        8192\n",
      "  Bankswitch Type: AUTO-DETECT ==> F8\n",
      "\n",
      "\n",
      "WARNING: Possibly unsupported ROM: mismatched MD5.\n",
      "Cartridge_MD5: 9469d18238345d87768e8965f9f4a6b2\n",
      "Cartridge_name: Ms. Pac-Man (1982) (CCE)\n",
      "\n",
      "Running ROM file...\n",
      "Random seed is 0\n",
      "A.L.E: Arcade Learning Environment (version 0.6.0)\n",
      "[Powered by Stella]\n",
      "Use -help for help screen.\n",
      "Game console created:\n",
      "  ROM file:  /home/d9w/.julia/packages/ArcadeLearningEnvironment/YJh2g/src/../deps/roms/ms_pacman.bin\n",
      "  Cart Name: Ms. Pac-Man (1982) (CCE)\n",
      "  Cart MD5:  9469d18238345d87768e8965f9f4a6b2\n",
      "  Display Format:  AUTO-DETECT ==> NTSC\n",
      "  ROM Size:        8192\n",
      "  Bankswitch Type: AUTO-DETECT ==> F8\n",
      "\n",
      "\n",
      "WARNING: Possibly unsupported ROM: mismatched MD5.\n",
      "Cartridge_MD5: 9469d18238345d87768e8965f9f4a6b2\n",
      "Cartridge_name: Ms. Pac-Man (1982) (CCE)\n",
      "\n",
      "Running ROM file...\n",
      "Random seed is 0\n",
      "A.L.E: Arcade Learning Environment (version 0.6.0)\n",
      "[Powered by Stella]\n",
      "Use -help for help screen.\n",
      "Game console created:\n",
      "  ROM file:  /home/d9w/.julia/packages/ArcadeLearningEnvironment/YJh2g/src/../deps/roms/ms_pacman.bin\n",
      "  Cart Name: Ms. Pac-Man (1982) (CCE)\n",
      "  Cart MD5:  9469d18238345d87768e8965f9f4a6b2\n",
      "  Display Format:  AUTO-DETECT ==> NTSC\n",
      "  ROM Size:        8192\n",
      "  Bankswitch Type: AUTO-DETECT ==> F8\n",
      "\n",
      "\n",
      "WARNING: Possibly unsupported ROM: mismatched MD5.\n",
      "Cartridge_MD5: 9469d18238345d87768e8965f9f4a6b2\n",
      "Cartridge_name: Ms. Pac-Man (1982) (CCE)\n",
      "\n",
      "Running ROM file...\n",
      "Random seed is 0\n",
      "A.L.E: Arcade Learning Environment (version 0.6.0)\n",
      "[Powered by Stella]\n",
      "Use -help for help screen.\n",
      "Game console created:\n",
      "  ROM file:  /home/d9w/.julia/packages/ArcadeLearningEnvironment/YJh2g/src/../deps/roms/ms_pacman.bin\n",
      "  Cart Name: Ms. Pac-Man (1982) (CCE)\n",
      "  Cart MD5:  9469d18238345d87768e8965f9f4a6b2\n",
      "  Display Format:  AUTO-DETECT ==> NTSC\n",
      "  ROM Size:        8192\n",
      "  Bankswitch Type: AUTO-DETECT ==> F8\n",
      "\n",
      "\n",
      "WARNING: Possibly unsupported ROM: mismatched MD5.\n",
      "Cartridge_MD5: 9469d18238345d87768e8965f9f4a6b2\n",
      "Cartridge_name: Ms. Pac-Man (1982) (CCE)\n",
      "\n",
      "Running ROM file...\n",
      "Random seed is 0\n",
      "A.L.E: Arcade Learning Environment (version 0.6.0)\n",
      "[Powered by Stella]\n",
      "Use -help for help screen.\n",
      "Game console created:\n",
      "  ROM file:  /home/d9w/.julia/packages/ArcadeLearningEnvironment/YJh2g/src/../deps/roms/ms_pacman.bin\n",
      "  Cart Name: Ms. Pac-Man (1982) (CCE)\n",
      "  Cart MD5:  9469d18238345d87768e8965f9f4a6b2\n",
      "  Display Format:  AUTO-DETECT ==> NTSC\n",
      "  ROM Size:        8192\n",
      "  Bankswitch Type: AUTO-DETECT ==> F8\n",
      "\n",
      "\n",
      "WARNING: Possibly unsupported ROM: mismatched MD5.\n",
      "Cartridge_MD5: 9469d18238345d87768e8965f9f4a6b2\n",
      "Cartridge_name: Ms. Pac-Man (1982) (CCE)\n",
      "\n",
      "Running ROM file...\n",
      "Random seed is 0\n",
      "A.L.E: Arcade Learning Environment (version 0.6.0)\n",
      "[Powered by Stella]\n",
      "Use -help for help screen.\n",
      "Game console created:\n",
      "  ROM file:  /home/d9w/.julia/packages/ArcadeLearningEnvironment/YJh2g/src/../deps/roms/ms_pacman.bin\n",
      "  Cart Name: Ms. Pac-Man (1982) (CCE)\n",
      "  Cart MD5:  9469d18238345d87768e8965f9f4a6b2\n",
      "  Display Format:  AUTO-DETECT ==> NTSC\n",
      "  ROM Size:        8192\n",
      "  Bankswitch Type: AUTO-DETECT ==> F8\n",
      "\n",
      "\n",
      "WARNING: Possibly unsupported ROM: mismatched MD5.\n",
      "Cartridge_MD5: 9469d18238345d87768e8965f9f4a6b2\n",
      "Cartridge_name: Ms. Pac-Man (1982) (CCE)\n",
      "\n",
      "Running ROM file...\n",
      "Random seed is 0\n",
      "A.L.E: Arcade Learning Environment (version 0.6.0)\n",
      "[Powered by Stella]\n",
      "Use -help for help screen.\n",
      "Game console created:\n",
      "  ROM file:  /home/d9w/.julia/packages/ArcadeLearningEnvironment/YJh2g/src/../deps/roms/ms_pacman.bin\n",
      "  Cart Name: Ms. Pac-Man (1982) (CCE)\n",
      "  Cart MD5:  9469d18238345d87768e8965f9f4a6b2\n",
      "  Display Format:  AUTO-DETECT ==> NTSC\n",
      "  ROM Size:        8192\n",
      "  Bankswitch Type: AUTO-DETECT ==> F8\n",
      "\n",
      "\n",
      "WARNING: Possibly unsupported ROM: mismatched MD5.\n",
      "Cartridge_MD5: 9469d18238345d87768e8965f9f4a6b2\n",
      "Cartridge_name: Ms. Pac-Man (1982) (CCE)\n",
      "\n",
      "Running ROM file...\n",
      "Random seed is 0\n",
      "A.L.E: Arcade Learning Environment (version 0.6.0)\n",
      "[Powered by Stella]\n",
      "Use -help for help screen.\n",
      "Game console created:\n",
      "  ROM file:  /home/d9w/.julia/packages/ArcadeLearningEnvironment/YJh2g/src/../deps/roms/ms_pacman.bin\n",
      "  Cart Name: Ms. Pac-Man (1982) (CCE)\n",
      "  Cart MD5:  9469d18238345d87768e8965f9f4a6b2\n",
      "  Display Format:  AUTO-DETECT ==> NTSC\n",
      "  ROM Size:        8192\n",
      "  Bankswitch Type: AUTO-DETECT ==> F8\n",
      "\n",
      "\n",
      "WARNING: Possibly unsupported ROM: mismatched MD5.\n",
      "Cartridge_MD5: 9469d18238345d87768e8965f9f4a6b2\n",
      "Cartridge_name: Ms. Pac-Man (1982) (CCE)\n",
      "\n",
      "Running ROM file...\n",
      "Random seed is 0\n",
      "A.L.E: Arcade Learning Environment (version 0.6.0)\n",
      "[Powered by Stella]\n",
      "Use -help for help screen.\n",
      "Game console created:\n",
      "  ROM file:  /home/d9w/.julia/packages/ArcadeLearningEnvironment/YJh2g/src/../deps/roms/ms_pacman.bin\n",
      "  Cart Name: Ms. Pac-Man (1982) (CCE)\n",
      "  Cart MD5:  9469d18238345d87768e8965f9f4a6b2\n",
      "  Display Format:  AUTO-DETECT ==> NTSC\n",
      "  ROM Size:        8192\n",
      "  Bankswitch Type: AUTO-DETECT ==> F8\n",
      "\n",
      "\n",
      "WARNING: Possibly unsupported ROM: mismatched MD5.\n",
      "Cartridge_MD5: 9469d18238345d87768e8965f9f4a6b2\n",
      "Cartridge_name: Ms. Pac-Man (1982) (CCE)\n",
      "\n",
      "Running ROM file...\n",
      "Random seed is 0\n",
      "A.L.E: Arcade Learning Environment (version 0.6.0)\n",
      "[Powered by Stella]\n",
      "Use -help for help screen.\n",
      "Game console created:\n",
      "  ROM file:  /home/d9w/.julia/packages/ArcadeLearningEnvironment/YJh2g/src/../deps/roms/ms_pacman.bin\n",
      "  Cart Name: Ms. Pac-Man (1982) (CCE)\n",
      "  Cart MD5:  9469d18238345d87768e8965f9f4a6b2\n",
      "  Display Format:  AUTO-DETECT ==> NTSC\n",
      "  ROM Size:        8192\n",
      "  Bankswitch Type: AUTO-DETECT ==> F8\n",
      "\n",
      "\n",
      "WARNING: Possibly unsupported ROM: mismatched MD5.\n",
      "Cartridge_MD5: 9469d18238345d87768e8965f9f4a6b2\n",
      "Cartridge_name: Ms. Pac-Man (1982) (CCE)\n",
      "\n",
      "Running ROM file...\n",
      "Random seed is 0\n",
      "A.L.E: Arcade Learning Environment (version 0.6.0)\n",
      "[Powered by Stella]\n",
      "Use -help for help screen.\n",
      "Game console created:\n",
      "  ROM file:  /home/d9w/.julia/packages/ArcadeLearningEnvironment/YJh2g/src/../deps/roms/ms_pacman.bin\n",
      "  Cart Name: Ms. Pac-Man (1982) (CCE)\n",
      "  Cart MD5:  9469d18238345d87768e8965f9f4a6b2\n",
      "  Display Format:  AUTO-DETECT ==> NTSC\n",
      "  ROM Size:        8192\n",
      "  Bankswitch Type: AUTO-DETECT ==> F8\n",
      "\n",
      "\n",
      "WARNING: Possibly unsupported ROM: mismatched MD5.\n",
      "Cartridge_MD5: 9469d18238345d87768e8965f9f4a6b2\n",
      "Cartridge_name: Ms. Pac-Man (1982) (CCE)\n",
      "\n",
      "Running ROM file...\n",
      "Random seed is 0\n",
      "A.L.E: Arcade Learning Environment (version 0.6.0)\n",
      "[Powered by Stella]\n",
      "Use -help for help screen.\n",
      "Game console created:\n",
      "  ROM file:  /home/d9w/.julia/packages/ArcadeLearningEnvironment/YJh2g/src/../deps/roms/ms_pacman.bin\n",
      "  Cart Name: Ms. Pac-Man (1982) (CCE)\n",
      "  Cart MD5:  9469d18238345d87768e8965f9f4a6b2\n",
      "  Display Format:  AUTO-DETECT ==> NTSC\n",
      "  ROM Size:        8192\n",
      "  Bankswitch Type: AUTO-DETECT ==> F8\n",
      "\n",
      "\n",
      "WARNING: Possibly unsupported ROM: mismatched MD5.\n",
      "Cartridge_MD5: 9469d18238345d87768e8965f9f4a6b2\n",
      "Cartridge_name: Ms. Pac-Man (1982) (CCE)\n",
      "\n",
      "Running ROM file...\n",
      "Random seed is 0\n",
      "A.L.E: Arcade Learning Environment (version 0.6.0)\n",
      "[Powered by Stella]\n",
      "Use -help for help screen.\n",
      "Game console created:\n",
      "  ROM file:  /home/d9w/.julia/packages/ArcadeLearningEnvironment/YJh2g/src/../deps/roms/ms_pacman.bin\n",
      "  Cart Name: Ms. Pac-Man (1982) (CCE)\n",
      "  Cart MD5:  9469d18238345d87768e8965f9f4a6b2\n",
      "  Display Format:  AUTO-DETECT ==> NTSC\n",
      "  ROM Size:        8192\n",
      "  Bankswitch Type: AUTO-DETECT ==> F8\n",
      "\n",
      "\n",
      "WARNING: Possibly unsupported ROM: mismatched MD5.\n",
      "Cartridge_MD5: 9469d18238345d87768e8965f9f4a6b2\n",
      "Cartridge_name: Ms. Pac-Man (1982) (CCE)\n",
      "\n",
      "Running ROM file...\n",
      "Random seed is 0\n",
      "A.L.E: Arcade Learning Environment (version 0.6.0)\n",
      "[Powered by Stella]\n",
      "Use -help for help screen.\n",
      "Game console created:\n",
      "  ROM file:  /home/d9w/.julia/packages/ArcadeLearningEnvironment/YJh2g/src/../deps/roms/ms_pacman.bin\n",
      "  Cart Name: Ms. Pac-Man (1982) (CCE)\n",
      "  Cart MD5:  9469d18238345d87768e8965f9f4a6b2\n",
      "  Display Format:  AUTO-DETECT ==> NTSC\n",
      "  ROM Size:        8192\n",
      "  Bankswitch Type: AUTO-DETECT ==> F8\n",
      "\n",
      "\n",
      "WARNING: Possibly unsupported ROM: mismatched MD5.\n",
      "Cartridge_MD5: 9469d18238345d87768e8965f9f4a6b2\n",
      "Cartridge_name: Ms. Pac-Man (1982) (CCE)\n",
      "\n",
      "Running ROM file...\n",
      "Random seed is 0\n",
      "A.L.E: Arcade Learning Environment (version 0.6.0)\n",
      "[Powered by Stella]\n",
      "Use -help for help screen.\n",
      "Game console created:\n",
      "  ROM file:  /home/d9w/.julia/packages/ArcadeLearningEnvironment/YJh2g/src/../deps/roms/ms_pacman.bin\n",
      "  Cart Name: Ms. Pac-Man (1982) (CCE)\n",
      "  Cart MD5:  9469d18238345d87768e8965f9f4a6b2\n",
      "  Display Format:  AUTO-DETECT ==> NTSC\n",
      "  ROM Size:        8192\n",
      "  Bankswitch Type: AUTO-DETECT ==> F8\n",
      "\n",
      "\n",
      "WARNING: Possibly unsupported ROM: mismatched MD5.\n",
      "Cartridge_MD5: 9469d18238345d87768e8965f9f4a6b2\n",
      "Cartridge_name: Ms. Pac-Man (1982) (CCE)\n",
      "\n",
      "Running ROM file...\n",
      "Random seed is 0\n",
      "A.L.E: Arcade Learning Environment (version 0.6.0)\n",
      "[Powered by Stella]\n",
      "Use -help for help screen.\n",
      "Game console created:\n",
      "  ROM file:  /home/d9w/.julia/packages/ArcadeLearningEnvironment/YJh2g/src/../deps/roms/ms_pacman.bin\n",
      "  Cart Name: Ms. Pac-Man (1982) (CCE)\n",
      "  Cart MD5:  9469d18238345d87768e8965f9f4a6b2\n",
      "  Display Format:  AUTO-DETECT ==> NTSC\n",
      "  ROM Size:        8192\n",
      "  Bankswitch Type: AUTO-DETECT ==> F8\n",
      "\n",
      "\n",
      "WARNING: Possibly unsupported ROM: mismatched MD5.\n",
      "Cartridge_MD5: 9469d18238345d87768e8965f9f4a6b2\n",
      "Cartridge_name: Ms. Pac-Man (1982) (CCE)\n",
      "\n",
      "Running ROM file...\n",
      "Random seed is 0\n",
      "A.L.E: Arcade Learning Environment (version 0.6.0)\n",
      "[Powered by Stella]\n",
      "Use -help for help screen.\n",
      "Game console created:\n",
      "  ROM file:  /home/d9w/.julia/packages/ArcadeLearningEnvironment/YJh2g/src/../deps/roms/ms_pacman.bin\n",
      "  Cart Name: Ms. Pac-Man (1982) (CCE)\n",
      "  Cart MD5:  9469d18238345d87768e8965f9f4a6b2\n",
      "  Display Format:  AUTO-DETECT ==> NTSC\n",
      "  ROM Size:        8192\n",
      "  Bankswitch Type: AUTO-DETECT ==> F8\n",
      "\n",
      "\n",
      "WARNING: Possibly unsupported ROM: mismatched MD5.\n",
      "Cartridge_MD5: 9469d18238345d87768e8965f9f4a6b2\n",
      "Cartridge_name: Ms. Pac-Man (1982) (CCE)\n",
      "\n",
      "Running ROM file...\n",
      "Random seed is 0\n",
      "A.L.E: Arcade Learning Environment (version 0.6.0)\n",
      "[Powered by Stella]\n",
      "Use -help for help screen.\n",
      "Game console created:\n",
      "  ROM file:  /home/d9w/.julia/packages/ArcadeLearningEnvironment/YJh2g/src/../deps/roms/ms_pacman.bin\n",
      "  Cart Name: Ms. Pac-Man (1982) (CCE)\n",
      "  Cart MD5:  9469d18238345d87768e8965f9f4a6b2\n",
      "  Display Format:  AUTO-DETECT ==> NTSC\n",
      "  ROM Size:        8192\n",
      "  Bankswitch Type: AUTO-DETECT ==> F8\n",
      "\n",
      "\n",
      "WARNING: Possibly unsupported ROM: mismatched MD5.\n",
      "Cartridge_MD5: 9469d18238345d87768e8965f9f4a6b2\n",
      "Cartridge_name: Ms. Pac-Man (1982) (CCE)\n",
      "\n",
      "Running ROM file...\n",
      "Random seed is 0\n",
      "A.L.E: Arcade Learning Environment (version 0.6.0)\n",
      "[Powered by Stella]\n",
      "Use -help for help screen.\n",
      "Game console created:\n",
      "  ROM file:  /home/d9w/.julia/packages/ArcadeLearningEnvironment/YJh2g/src/../deps/roms/ms_pacman.bin\n",
      "  Cart Name: Ms. Pac-Man (1982) (CCE)\n",
      "  Cart MD5:  9469d18238345d87768e8965f9f4a6b2\n",
      "  Display Format:  AUTO-DETECT ==> NTSC\n",
      "  ROM Size:        8192\n",
      "  Bankswitch Type: AUTO-DETECT ==> F8\n",
      "\n",
      "\n",
      "WARNING: Possibly unsupported ROM: mismatched MD5.\n",
      "Cartridge_MD5: 9469d18238345d87768e8965f9f4a6b2\n",
      "Cartridge_name: Ms. Pac-Man (1982) (CCE)\n",
      "\n",
      "Running ROM file...\n",
      "Random seed is 0\n",
      "A.L.E: Arcade Learning Environment (version 0.6.0)\n",
      "[Powered by Stella]\n",
      "Use -help for help screen.\n",
      "Game console created:\n",
      "  ROM file:  /home/d9w/.julia/packages/ArcadeLearningEnvironment/YJh2g/src/../deps/roms/ms_pacman.bin\n",
      "  Cart Name: Ms. Pac-Man (1982) (CCE)\n",
      "  Cart MD5:  9469d18238345d87768e8965f9f4a6b2\n",
      "  Display Format:  AUTO-DETECT ==> NTSC\n",
      "  ROM Size:        8192\n",
      "  Bankswitch Type: AUTO-DETECT ==> F8\n",
      "\n",
      "\n",
      "WARNING: Possibly unsupported ROM: mismatched MD5.\n",
      "Cartridge_MD5: 9469d18238345d87768e8965f9f4a6b2\n",
      "Cartridge_name: Ms. Pac-Man (1982) (CCE)\n",
      "\n",
      "Running ROM file...\n",
      "Random seed is 0\n",
      "A.L.E: Arcade Learning Environment (version 0.6.0)\n",
      "[Powered by Stella]\n",
      "Use -help for help screen.\n",
      "Game console created:\n",
      "  ROM file:  /home/d9w/.julia/packages/ArcadeLearningEnvironment/YJh2g/src/../deps/roms/ms_pacman.bin\n",
      "  Cart Name: Ms. Pac-Man (1982) (CCE)\n",
      "  Cart MD5:  9469d18238345d87768e8965f9f4a6b2\n",
      "  Display Format:  AUTO-DETECT ==> NTSC\n",
      "  ROM Size:        8192\n",
      "  Bankswitch Type: AUTO-DETECT ==> F8\n",
      "\n",
      "\n",
      "WARNING: Possibly unsupported ROM: mismatched MD5.\n",
      "Cartridge_MD5: 9469d18238345d87768e8965f9f4a6b2\n",
      "Cartridge_name: Ms. Pac-Man (1982) (CCE)\n",
      "\n",
      "Running ROM file...\n",
      "Random seed is 0\n",
      "A.L.E: Arcade Learning Environment (version 0.6.0)\n",
      "[Powered by Stella]\n",
      "Use -help for help screen.\n",
      "Game console created:\n",
      "  ROM file:  /home/d9w/.julia/packages/ArcadeLearningEnvironment/YJh2g/src/../deps/roms/ms_pacman.bin\n",
      "  Cart Name: Ms. Pac-Man (1982) (CCE)\n",
      "  Cart MD5:  9469d18238345d87768e8965f9f4a6b2\n",
      "  Display Format:  AUTO-DETECT ==> NTSC\n",
      "  ROM Size:        8192\n",
      "  Bankswitch Type: AUTO-DETECT ==> F8\n",
      "\n",
      "\n",
      "WARNING: Possibly unsupported ROM: mismatched MD5.\n",
      "Cartridge_MD5: 9469d18238345d87768e8965f9f4a6b2\n",
      "Cartridge_name: Ms. Pac-Man (1982) (CCE)\n",
      "\n",
      "Running ROM file...\n",
      "Random seed is 0\n",
      "A.L.E: Arcade Learning Environment (version 0.6.0)\n",
      "[Powered by Stella]\n",
      "Use -help for help screen.\n",
      "Game console created:\n",
      "  ROM file:  /home/d9w/.julia/packages/ArcadeLearningEnvironment/YJh2g/src/../deps/roms/ms_pacman.bin\n",
      "  Cart Name: Ms. Pac-Man (1982) (CCE)\n",
      "  Cart MD5:  9469d18238345d87768e8965f9f4a6b2\n",
      "  Display Format:  AUTO-DETECT ==> NTSC\n",
      "  ROM Size:        8192\n",
      "  Bankswitch Type: AUTO-DETECT ==> F8\n",
      "\n",
      "\n",
      "WARNING: Possibly unsupported ROM: mismatched MD5.\n",
      "Cartridge_MD5: 9469d18238345d87768e8965f9f4a6b2\n",
      "Cartridge_name: Ms. Pac-Man (1982) (CCE)\n",
      "\n",
      "Running ROM file...\n",
      "Random seed is 0\n",
      "A.L.E: Arcade Learning Environment (version 0.6.0)\n",
      "[Powered by Stella]\n",
      "Use -help for help screen.\n",
      "Game console created:\n",
      "  ROM file:  /home/d9w/.julia/packages/ArcadeLearningEnvironment/YJh2g/src/../deps/roms/ms_pacman.bin\n",
      "  Cart Name: Ms. Pac-Man (1982) (CCE)\n",
      "  Cart MD5:  9469d18238345d87768e8965f9f4a6b2\n",
      "  Display Format:  AUTO-DETECT ==> NTSC\n",
      "  ROM Size:        8192\n",
      "  Bankswitch Type: AUTO-DETECT ==> F8\n",
      "\n",
      "\n",
      "WARNING: Possibly unsupported ROM: mismatched MD5.\n",
      "Cartridge_MD5: 9469d18238345d87768e8965f9f4a6b2\n",
      "Cartridge_name: Ms. Pac-Man (1982) (CCE)\n",
      "\n",
      "Running ROM file...\n",
      "Random seed is 0\n",
      "A.L.E: Arcade Learning Environment (version 0.6.0)\n",
      "[Powered by Stella]\n",
      "Use -help for help screen.\n",
      "Game console created:\n",
      "  ROM file:  /home/d9w/.julia/packages/ArcadeLearningEnvironment/YJh2g/src/../deps/roms/ms_pacman.bin\n",
      "  Cart Name: Ms. Pac-Man (1982) (CCE)\n",
      "  Cart MD5:  9469d18238345d87768e8965f9f4a6b2\n",
      "  Display Format:  AUTO-DETECT ==> NTSC\n",
      "  ROM Size:        8192\n",
      "  Bankswitch Type: AUTO-DETECT ==> F8\n",
      "\n",
      "\n",
      "WARNING: Possibly unsupported ROM: mismatched MD5.\n",
      "Cartridge_MD5: 9469d18238345d87768e8965f9f4a6b2\n",
      "Cartridge_name: Ms. Pac-Man (1982) (CCE)\n",
      "\n",
      "Running ROM file...\n",
      "Random seed is 0\n",
      "A.L.E: Arcade Learning Environment (version 0.6.0)\n",
      "[Powered by Stella]\n",
      "Use -help for help screen.\n",
      "Game console created:\n",
      "  ROM file:  /home/d9w/.julia/packages/ArcadeLearningEnvironment/YJh2g/src/../deps/roms/ms_pacman.bin\n",
      "  Cart Name: Ms. Pac-Man (1982) (CCE)\n",
      "  Cart MD5:  9469d18238345d87768e8965f9f4a6b2\n",
      "  Display Format:  AUTO-DETECT ==> NTSC\n",
      "  ROM Size:        8192\n",
      "  Bankswitch Type: AUTO-DETECT ==> F8\n",
      "\n",
      "\n",
      "WARNING: Possibly unsupported ROM: mismatched MD5.\n",
      "Cartridge_MD5: 9469d18238345d87768e8965f9f4a6b2\n",
      "Cartridge_name: Ms. Pac-Man (1982) (CCE)\n",
      "\n",
      "Running ROM file...\n",
      "Random seed is 0\n",
      "A.L.E: Arcade Learning Environment (version 0.6.0)\n",
      "[Powered by Stella]\n",
      "Use -help for help screen.\n",
      "Game console created:\n",
      "  ROM file:  /home/d9w/.julia/packages/ArcadeLearningEnvironment/YJh2g/src/../deps/roms/ms_pacman.bin\n",
      "  Cart Name: Ms. Pac-Man (1982) (CCE)\n",
      "  Cart MD5:  9469d18238345d87768e8965f9f4a6b2\n",
      "  Display Format:  AUTO-DETECT ==> NTSC\n",
      "  ROM Size:        8192\n",
      "  Bankswitch Type: AUTO-DETECT ==> F8\n",
      "\n",
      "\n",
      "WARNING: Possibly unsupported ROM: mismatched MD5.\n",
      "Cartridge_MD5: 9469d18238345d87768e8965f9f4a6b2\n",
      "Cartridge_name: Ms. Pac-Man (1982) (CCE)\n",
      "\n",
      "Running ROM file...\n",
      "Random seed is 0\n",
      "A.L.E: Arcade Learning Environment (version 0.6.0)\n",
      "[Powered by Stella]\n",
      "Use -help for help screen.\n",
      "Game console created:\n",
      "  ROM file:  /home/d9w/.julia/packages/ArcadeLearningEnvironment/YJh2g/src/../deps/roms/ms_pacman.bin\n",
      "  Cart Name: Ms. Pac-Man (1982) (CCE)\n",
      "  Cart MD5:  9469d18238345d87768e8965f9f4a6b2\n",
      "  Display Format:  AUTO-DETECT ==> NTSC\n",
      "  ROM Size:        8192\n",
      "  Bankswitch Type: AUTO-DETECT ==> F8\n",
      "\n",
      "\n",
      "WARNING: Possibly unsupported ROM: mismatched MD5.\n",
      "Cartridge_MD5: 9469d18238345d87768e8965f9f4a6b2\n",
      "Cartridge_name: Ms. Pac-Man (1982) (CCE)\n",
      "\n",
      "Running ROM file...\n",
      "Random seed is 0\n",
      "A.L.E: Arcade Learning Environment (version 0.6.0)\n",
      "[Powered by Stella]\n",
      "Use -help for help screen.\n",
      "Game console created:\n",
      "  ROM file:  /home/d9w/.julia/packages/ArcadeLearningEnvironment/YJh2g/src/../deps/roms/ms_pacman.bin\n",
      "  Cart Name: Ms. Pac-Man (1982) (CCE)\n",
      "  Cart MD5:  9469d18238345d87768e8965f9f4a6b2\n",
      "  Display Format:  AUTO-DETECT ==> NTSC\n",
      "  ROM Size:        8192\n",
      "  Bankswitch Type: AUTO-DETECT ==> F8\n",
      "\n",
      "\n",
      "WARNING: Possibly unsupported ROM: mismatched MD5.\n",
      "Cartridge_MD5: 9469d18238345d87768e8965f9f4a6b2\n",
      "Cartridge_name: Ms. Pac-Man (1982) (CCE)\n",
      "\n",
      "Running ROM file...\n",
      "Random seed is 0\n",
      "A.L.E: Arcade Learning Environment (version 0.6.0)\n",
      "[Powered by Stella]\n",
      "Use -help for help screen.\n",
      "Game console created:\n",
      "  ROM file:  /home/d9w/.julia/packages/ArcadeLearningEnvironment/YJh2g/src/../deps/roms/ms_pacman.bin\n",
      "  Cart Name: Ms. Pac-Man (1982) (CCE)\n",
      "  Cart MD5:  9469d18238345d87768e8965f9f4a6b2\n",
      "  Display Format:  AUTO-DETECT ==> NTSC\n",
      "  ROM Size:        8192\n",
      "  Bankswitch Type: AUTO-DETECT ==> F8\n",
      "\n",
      "\n",
      "WARNING: Possibly unsupported ROM: mismatched MD5.\n",
      "Cartridge_MD5: 9469d18238345d87768e8965f9f4a6b2\n",
      "Cartridge_name: Ms. Pac-Man (1982) (CCE)\n",
      "\n",
      "Running ROM file...\n",
      "Random seed is 0\n",
      "A.L.E: Arcade Learning Environment (version 0.6.0)\n",
      "[Powered by Stella]\n",
      "Use -help for help screen.\n",
      "Game console created:\n",
      "  ROM file:  /home/d9w/.julia/packages/ArcadeLearningEnvironment/YJh2g/src/../deps/roms/ms_pacman.bin\n",
      "  Cart Name: Ms. Pac-Man (1982) (CCE)\n",
      "  Cart MD5:  9469d18238345d87768e8965f9f4a6b2\n",
      "  Display Format:  AUTO-DETECT ==> NTSC\n",
      "  ROM Size:        8192\n",
      "  Bankswitch Type: AUTO-DETECT ==> F8\n",
      "\n",
      "\n",
      "WARNING: Possibly unsupported ROM: mismatched MD5.\n",
      "Cartridge_MD5: 9469d18238345d87768e8965f9f4a6b2\n",
      "Cartridge_name: Ms. Pac-Man (1982) (CCE)\n",
      "\n",
      "Running ROM file...\n",
      "Random seed is 0\n",
      "A.L.E: Arcade Learning Environment (version 0.6.0)\n",
      "[Powered by Stella]\n",
      "Use -help for help screen.\n",
      "Game console created:\n",
      "  ROM file:  /home/d9w/.julia/packages/ArcadeLearningEnvironment/YJh2g/src/../deps/roms/ms_pacman.bin\n",
      "  Cart Name: Ms. Pac-Man (1982) (CCE)\n",
      "  Cart MD5:  9469d18238345d87768e8965f9f4a6b2\n",
      "  Display Format:  AUTO-DETECT ==> NTSC\n",
      "  ROM Size:        8192\n",
      "  Bankswitch Type: AUTO-DETECT ==> F8\n",
      "\n",
      "\n",
      "WARNING: Possibly unsupported ROM: mismatched MD5.\n",
      "Cartridge_MD5: 9469d18238345d87768e8965f9f4a6b2\n",
      "Cartridge_name: Ms. Pac-Man (1982) (CCE)\n",
      "\n",
      "Running ROM file...\n",
      "Random seed is 0\n",
      "A.L.E: Arcade Learning Environment (version 0.6.0)\n",
      "[Powered by Stella]\n",
      "Use -help for help screen.\n",
      "Game console created:\n",
      "  ROM file:  /home/d9w/.julia/packages/ArcadeLearningEnvironment/YJh2g/src/../deps/roms/ms_pacman.bin\n",
      "  Cart Name: Ms. Pac-Man (1982) (CCE)\n",
      "  Cart MD5:  9469d18238345d87768e8965f9f4a6b2\n",
      "  Display Format:  AUTO-DETECT ==> NTSC\n",
      "  ROM Size:        8192\n",
      "  Bankswitch Type: AUTO-DETECT ==> F8\n",
      "\n",
      "\n",
      "WARNING: Possibly unsupported ROM: mismatched MD5.\n",
      "Cartridge_MD5: 9469d18238345d87768e8965f9f4a6b2\n",
      "Cartridge_name: Ms. Pac-Man (1982) (CCE)\n",
      "\n",
      "Running ROM file...\n",
      "Random seed is 0\n",
      "A.L.E: Arcade Learning Environment (version 0.6.0)\n",
      "[Powered by Stella]\n",
      "Use -help for help screen.\n",
      "Game console created:\n",
      "  ROM file:  /home/d9w/.julia/packages/ArcadeLearningEnvironment/YJh2g/src/../deps/roms/ms_pacman.bin\n",
      "  Cart Name: Ms. Pac-Man (1982) (CCE)\n",
      "  Cart MD5:  9469d18238345d87768e8965f9f4a6b2\n",
      "  Display Format:  AUTO-DETECT ==> NTSC\n",
      "  ROM Size:        8192\n",
      "  Bankswitch Type: AUTO-DETECT ==> F8\n",
      "\n",
      "\n",
      "WARNING: Possibly unsupported ROM: mismatched MD5.\n",
      "Cartridge_MD5: 9469d18238345d87768e8965f9f4a6b2\n",
      "Cartridge_name: Ms. Pac-Man (1982) (CCE)\n",
      "\n",
      "Running ROM file...\n",
      "Random seed is 0\n",
      "A.L.E: Arcade Learning Environment (version 0.6.0)\n",
      "[Powered by Stella]\n",
      "Use -help for help screen.\n",
      "Game console created:\n",
      "  ROM file:  /home/d9w/.julia/packages/ArcadeLearningEnvironment/YJh2g/src/../deps/roms/ms_pacman.bin\n",
      "  Cart Name: Ms. Pac-Man (1982) (CCE)\n",
      "  Cart MD5:  9469d18238345d87768e8965f9f4a6b2\n",
      "  Display Format:  AUTO-DETECT ==> NTSC\n",
      "  ROM Size:        8192\n",
      "  Bankswitch Type: AUTO-DETECT ==> F8\n",
      "\n",
      "\n",
      "WARNING: Possibly unsupported ROM: mismatched MD5.\n",
      "Cartridge_MD5: 9469d18238345d87768e8965f9f4a6b2\n",
      "Cartridge_name: Ms. Pac-Man (1982) (CCE)\n",
      "\n",
      "Running ROM file...\n",
      "Random seed is 0\n",
      "A.L.E: Arcade Learning Environment (version 0.6.0)\n",
      "[Powered by Stella]\n",
      "Use -help for help screen.\n",
      "Game console created:\n",
      "  ROM file:  /home/d9w/.julia/packages/ArcadeLearningEnvironment/YJh2g/src/../deps/roms/ms_pacman.bin\n",
      "  Cart Name: Ms. Pac-Man (1982) (CCE)\n",
      "  Cart MD5:  9469d18238345d87768e8965f9f4a6b2\n",
      "  Display Format:  AUTO-DETECT ==> NTSC\n",
      "  ROM Size:        8192\n",
      "  Bankswitch Type: AUTO-DETECT ==> F8\n",
      "\n",
      "\n",
      "WARNING: Possibly unsupported ROM: mismatched MD5.\n",
      "Cartridge_MD5: 9469d18238345d87768e8965f9f4a6b2\n",
      "Cartridge_name: Ms. Pac-Man (1982) (CCE)\n",
      "\n",
      "Running ROM file...\n",
      "Random seed is 0\n",
      "A.L.E: Arcade Learning Environment (version 0.6.0)\n",
      "[Powered by Stella]\n",
      "Use -help for help screen.\n",
      "Game console created:\n",
      "  ROM file:  /home/d9w/.julia/packages/ArcadeLearningEnvironment/YJh2g/src/../deps/roms/ms_pacman.bin\n",
      "  Cart Name: Ms. Pac-Man (1982) (CCE)\n",
      "  Cart MD5:  9469d18238345d87768e8965f9f4a6b2\n",
      "  Display Format:  AUTO-DETECT ==> NTSC\n",
      "  ROM Size:        8192\n",
      "  Bankswitch Type: AUTO-DETECT ==> F8\n",
      "\n",
      "\n",
      "WARNING: Possibly unsupported ROM: mismatched MD5.\n",
      "Cartridge_MD5: 9469d18238345d87768e8965f9f4a6b2\n",
      "Cartridge_name: Ms. Pac-Man (1982) (CCE)\n",
      "\n",
      "Running ROM file...\n",
      "Random seed is 0\n",
      "A.L.E: Arcade Learning Environment (version 0.6.0)\n",
      "[Powered by Stella]\n",
      "Use -help for help screen.\n",
      "Game console created:\n",
      "  ROM file:  /home/d9w/.julia/packages/ArcadeLearningEnvironment/YJh2g/src/../deps/roms/ms_pacman.bin\n",
      "  Cart Name: Ms. Pac-Man (1982) (CCE)\n",
      "  Cart MD5:  9469d18238345d87768e8965f9f4a6b2\n",
      "  Display Format:  AUTO-DETECT ==> NTSC\n",
      "  ROM Size:        8192\n",
      "  Bankswitch Type: AUTO-DETECT ==> F8\n",
      "\n",
      "\n",
      "WARNING: Possibly unsupported ROM: mismatched MD5.\n",
      "Cartridge_MD5: 9469d18238345d87768e8965f9f4a6b2\n",
      "Cartridge_name: Ms. Pac-Man (1982) (CCE)\n",
      "\n",
      "Running ROM file...\n",
      "Random seed is 0\n",
      "A.L.E: Arcade Learning Environment (version 0.6.0)\n",
      "[Powered by Stella]\n",
      "Use -help for help screen.\n",
      "Game console created:\n",
      "  ROM file:  /home/d9w/.julia/packages/ArcadeLearningEnvironment/YJh2g/src/../deps/roms/ms_pacman.bin\n",
      "  Cart Name: Ms. Pac-Man (1982) (CCE)\n",
      "  Cart MD5:  9469d18238345d87768e8965f9f4a6b2\n",
      "  Display Format:  AUTO-DETECT ==> NTSC\n",
      "  ROM Size:        8192\n",
      "  Bankswitch Type: AUTO-DETECT ==> F8\n",
      "\n",
      "\n",
      "WARNING: Possibly unsupported ROM: mismatched MD5.\n",
      "Cartridge_MD5: 9469d18238345d87768e8965f9f4a6b2\n",
      "Cartridge_name: Ms. Pac-Man (1982) (CCE)\n",
      "\n",
      "Running ROM file...\n",
      "Random seed is 0\n",
      "A.L.E: Arcade Learning Environment (version 0.6.0)\n",
      "[Powered by Stella]\n",
      "Use -help for help screen.\n",
      "Game console created:\n",
      "  ROM file:  /home/d9w/.julia/packages/ArcadeLearningEnvironment/YJh2g/src/../deps/roms/ms_pacman.bin\n",
      "  Cart Name: Ms. Pac-Man (1982) (CCE)\n",
      "  Cart MD5:  9469d18238345d87768e8965f9f4a6b2\n",
      "  Display Format:  AUTO-DETECT ==> NTSC\n",
      "  ROM Size:        8192\n",
      "  Bankswitch Type: AUTO-DETECT ==> F8\n",
      "\n",
      "\n",
      "WARNING: Possibly unsupported ROM: mismatched MD5.\n",
      "Cartridge_MD5: 9469d18238345d87768e8965f9f4a6b2\n",
      "Cartridge_name: Ms. Pac-Man (1982) (CCE)\n",
      "\n",
      "Running ROM file...\n",
      "Random seed is 0\n",
      "A.L.E: Arcade Learning Environment (version 0.6.0)\n",
      "[Powered by Stella]\n",
      "Use -help for help screen.\n",
      "Game console created:\n",
      "  ROM file:  /home/d9w/.julia/packages/ArcadeLearningEnvironment/YJh2g/src/../deps/roms/ms_pacman.bin\n",
      "  Cart Name: Ms. Pac-Man (1982) (CCE)\n",
      "  Cart MD5:  9469d18238345d87768e8965f9f4a6b2\n",
      "  Display Format:  AUTO-DETECT ==> NTSC\n",
      "  ROM Size:        8192\n",
      "  Bankswitch Type: AUTO-DETECT ==> F8\n",
      "\n",
      "\n",
      "WARNING: Possibly unsupported ROM: mismatched MD5.\n",
      "Cartridge_MD5: 9469d18238345d87768e8965f9f4a6b2\n",
      "Cartridge_name: Ms. Pac-Man (1982) (CCE)\n",
      "\n",
      "Running ROM file...\n",
      "Random seed is 0\n",
      "A.L.E: Arcade Learning Environment (version 0.6.0)\n",
      "[Powered by Stella]\n",
      "Use -help for help screen.\n",
      "Game console created:\n",
      "  ROM file:  /home/d9w/.julia/packages/ArcadeLearningEnvironment/YJh2g/src/../deps/roms/ms_pacman.bin\n",
      "  Cart Name: Ms. Pac-Man (1982) (CCE)\n",
      "  Cart MD5:  9469d18238345d87768e8965f9f4a6b2\n",
      "  Display Format:  AUTO-DETECT ==> NTSC\n",
      "  ROM Size:        8192\n",
      "  Bankswitch Type: AUTO-DETECT ==> F8\n",
      "\n",
      "\n",
      "WARNING: Possibly unsupported ROM: mismatched MD5.\n",
      "Cartridge_MD5: 9469d18238345d87768e8965f9f4a6b2\n",
      "Cartridge_name: Ms. Pac-Man (1982) (CCE)\n",
      "\n",
      "Running ROM file...\n",
      "Random seed is 0\n",
      "A.L.E: Arcade Learning Environment (version 0.6.0)\n",
      "[Powered by Stella]\n",
      "Use -help for help screen.\n",
      "Game console created:\n",
      "  ROM file:  /home/d9w/.julia/packages/ArcadeLearningEnvironment/YJh2g/src/../deps/roms/ms_pacman.bin\n",
      "  Cart Name: Ms. Pac-Man (1982) (CCE)\n",
      "  Cart MD5:  9469d18238345d87768e8965f9f4a6b2\n",
      "  Display Format:  AUTO-DETECT ==> NTSC\n",
      "  ROM Size:        8192\n",
      "  Bankswitch Type: AUTO-DETECT ==> F8\n",
      "\n",
      "\n",
      "WARNING: Possibly unsupported ROM: mismatched MD5.\n",
      "Cartridge_MD5: 9469d18238345d87768e8965f9f4a6b2\n",
      "Cartridge_name: Ms. Pac-Man (1982) (CCE)\n",
      "\n",
      "Running ROM file...\n",
      "Random seed is 0\n",
      "A.L.E: Arcade Learning Environment (version 0.6.0)\n",
      "[Powered by Stella]\n",
      "Use -help for help screen.\n",
      "Game console created:\n",
      "  ROM file:  /home/d9w/.julia/packages/ArcadeLearningEnvironment/YJh2g/src/../deps/roms/ms_pacman.bin\n",
      "  Cart Name: Ms. Pac-Man (1982) (CCE)\n",
      "  Cart MD5:  9469d18238345d87768e8965f9f4a6b2\n",
      "  Display Format:  AUTO-DETECT ==> NTSC\n",
      "  ROM Size:        8192\n",
      "  Bankswitch Type: AUTO-DETECT ==> F8\n",
      "\n",
      "\n",
      "WARNING: Possibly unsupported ROM: mismatched MD5.\n",
      "Cartridge_MD5: 9469d18238345d87768e8965f9f4a6b2\n",
      "Cartridge_name: Ms. Pac-Man (1982) (CCE)\n",
      "\n",
      "Running ROM file...\n",
      "Random seed is 0\n",
      "A.L.E: Arcade Learning Environment (version 0.6.0)\n",
      "[Powered by Stella]\n",
      "Use -help for help screen.\n",
      "Game console created:\n",
      "  ROM file:  /home/d9w/.julia/packages/ArcadeLearningEnvironment/YJh2g/src/../deps/roms/ms_pacman.bin\n",
      "  Cart Name: Ms. Pac-Man (1982) (CCE)\n",
      "  Cart MD5:  9469d18238345d87768e8965f9f4a6b2\n",
      "  Display Format:  AUTO-DETECT ==> NTSC\n",
      "  ROM Size:        8192\n",
      "  Bankswitch Type: AUTO-DETECT ==> F8\n",
      "\n",
      "\n",
      "WARNING: Possibly unsupported ROM: mismatched MD5.\n",
      "Cartridge_MD5: 9469d18238345d87768e8965f9f4a6b2\n",
      "Cartridge_name: Ms. Pac-Man (1982) (CCE)\n",
      "\n",
      "Running ROM file...\n",
      "Random seed is 0\n",
      "A.L.E: Arcade Learning Environment (version 0.6.0)\n",
      "[Powered by Stella]\n",
      "Use -help for help screen.\n",
      "Game console created:\n",
      "  ROM file:  /home/d9w/.julia/packages/ArcadeLearningEnvironment/YJh2g/src/../deps/roms/ms_pacman.bin\n",
      "  Cart Name: Ms. Pac-Man (1982) (CCE)\n",
      "  Cart MD5:  9469d18238345d87768e8965f9f4a6b2\n",
      "  Display Format:  AUTO-DETECT ==> NTSC\n",
      "  ROM Size:        8192\n",
      "  Bankswitch Type: AUTO-DETECT ==> F8\n",
      "\n",
      "\n",
      "WARNING: Possibly unsupported ROM: mismatched MD5.\n",
      "Cartridge_MD5: 9469d18238345d87768e8965f9f4a6b2\n",
      "Cartridge_name: Ms. Pac-Man (1982) (CCE)\n",
      "\n",
      "Running ROM file...\n",
      "Random seed is 0\n",
      "A.L.E: Arcade Learning Environment (version 0.6.0)\n",
      "[Powered by Stella]\n",
      "Use -help for help screen.\n",
      "Game console created:\n",
      "  ROM file:  /home/d9w/.julia/packages/ArcadeLearningEnvironment/YJh2g/src/../deps/roms/ms_pacman.bin\n",
      "  Cart Name: Ms. Pac-Man (1982) (CCE)\n",
      "  Cart MD5:  9469d18238345d87768e8965f9f4a6b2\n",
      "  Display Format:  AUTO-DETECT ==> NTSC\n",
      "  ROM Size:        8192\n",
      "  Bankswitch Type: AUTO-DETECT ==> F8\n",
      "\n",
      "\n",
      "WARNING: Possibly unsupported ROM: mismatched MD5.\n",
      "Cartridge_MD5: 9469d18238345d87768e8965f9f4a6b2\n",
      "Cartridge_name: Ms. Pac-Man (1982) (CCE)\n",
      "\n",
      "Running ROM file...\n",
      "Random seed is 0\n",
      "A.L.E: Arcade Learning Environment (version 0.6.0)\n",
      "[Powered by Stella]\n",
      "Use -help for help screen.\n",
      "Game console created:\n",
      "  ROM file:  /home/d9w/.julia/packages/ArcadeLearningEnvironment/YJh2g/src/../deps/roms/ms_pacman.bin\n",
      "  Cart Name: Ms. Pac-Man (1982) (CCE)\n",
      "  Cart MD5:  9469d18238345d87768e8965f9f4a6b2\n",
      "  Display Format:  AUTO-DETECT ==> NTSC\n",
      "  ROM Size:        8192\n",
      "  Bankswitch Type: AUTO-DETECT ==> F8\n",
      "\n",
      "\n",
      "WARNING: Possibly unsupported ROM: mismatched MD5.\n",
      "Cartridge_MD5: 9469d18238345d87768e8965f9f4a6b2\n",
      "Cartridge_name: Ms. Pac-Man (1982) (CCE)\n",
      "\n",
      "Running ROM file...\n",
      "Random seed is 0\n",
      "A.L.E: Arcade Learning Environment (version 0.6.0)\n",
      "[Powered by Stella]\n",
      "Use -help for help screen.\n",
      "Game console created:\n",
      "  ROM file:  /home/d9w/.julia/packages/ArcadeLearningEnvironment/YJh2g/src/../deps/roms/ms_pacman.bin\n",
      "  Cart Name: Ms. Pac-Man (1982) (CCE)\n",
      "  Cart MD5:  9469d18238345d87768e8965f9f4a6b2\n",
      "  Display Format:  AUTO-DETECT ==> NTSC\n",
      "  ROM Size:        8192\n",
      "  Bankswitch Type: AUTO-DETECT ==> F8\n",
      "\n",
      "\n",
      "WARNING: Possibly unsupported ROM: mismatched MD5.\n",
      "Cartridge_MD5: 9469d18238345d87768e8965f9f4a6b2\n",
      "Cartridge_name: Ms. Pac-Man (1982) (CCE)\n",
      "\n",
      "Running ROM file...\n",
      "Random seed is 0\n",
      "A.L.E: Arcade Learning Environment (version 0.6.0)\n",
      "[Powered by Stella]\n",
      "Use -help for help screen.\n",
      "Game console created:\n",
      "  ROM file:  /home/d9w/.julia/packages/ArcadeLearningEnvironment/YJh2g/src/../deps/roms/ms_pacman.bin\n",
      "  Cart Name: Ms. Pac-Man (1982) (CCE)\n",
      "  Cart MD5:  9469d18238345d87768e8965f9f4a6b2\n",
      "  Display Format:  AUTO-DETECT ==> NTSC\n",
      "  ROM Size:        8192\n",
      "  Bankswitch Type: AUTO-DETECT ==> F8\n",
      "\n",
      "\n",
      "WARNING: Possibly unsupported ROM: mismatched MD5.\n",
      "Cartridge_MD5: 9469d18238345d87768e8965f9f4a6b2\n",
      "Cartridge_name: Ms. Pac-Man (1982) (CCE)\n",
      "\n",
      "Running ROM file...\n",
      "Random seed is 0\n",
      "A.L.E: Arcade Learning Environment (version 0.6.0)\n",
      "[Powered by Stella]\n",
      "Use -help for help screen.\n",
      "Game console created:\n",
      "  ROM file:  /home/d9w/.julia/packages/ArcadeLearningEnvironment/YJh2g/src/../deps/roms/ms_pacman.bin\n",
      "  Cart Name: Ms. Pac-Man (1982) (CCE)\n",
      "  Cart MD5:  9469d18238345d87768e8965f9f4a6b2\n",
      "  Display Format:  AUTO-DETECT ==> NTSC\n",
      "  ROM Size:        8192\n",
      "  Bankswitch Type: AUTO-DETECT ==> F8\n",
      "\n",
      "\n",
      "WARNING: Possibly unsupported ROM: mismatched MD5.\n",
      "Cartridge_MD5: 9469d18238345d87768e8965f9f4a6b2\n",
      "Cartridge_name: Ms. Pac-Man (1982) (CCE)\n",
      "\n",
      "Running ROM file...\n",
      "Random seed is 0\n",
      "A.L.E: Arcade Learning Environment (version 0.6.0)\n",
      "[Powered by Stella]\n",
      "Use -help for help screen.\n",
      "Game console created:\n",
      "  ROM file:  /home/d9w/.julia/packages/ArcadeLearningEnvironment/YJh2g/src/../deps/roms/ms_pacman.bin\n",
      "  Cart Name: Ms. Pac-Man (1982) (CCE)\n",
      "  Cart MD5:  9469d18238345d87768e8965f9f4a6b2\n",
      "  Display Format:  AUTO-DETECT ==> NTSC\n",
      "  ROM Size:        8192\n",
      "  Bankswitch Type: AUTO-DETECT ==> F8\n",
      "\n",
      "\n",
      "WARNING: Possibly unsupported ROM: mismatched MD5.\n",
      "Cartridge_MD5: 9469d18238345d87768e8965f9f4a6b2\n",
      "Cartridge_name: Ms. Pac-Man (1982) (CCE)\n",
      "\n",
      "Running ROM file...\n",
      "Random seed is 0\n",
      "A.L.E: Arcade Learning Environment (version 0.6.0)\n",
      "[Powered by Stella]\n",
      "Use -help for help screen.\n",
      "Game console created:\n",
      "  ROM file:  /home/d9w/.julia/packages/ArcadeLearningEnvironment/YJh2g/src/../deps/roms/ms_pacman.bin\n",
      "  Cart Name: Ms. Pac-Man (1982) (CCE)\n",
      "  Cart MD5:  9469d18238345d87768e8965f9f4a6b2\n",
      "  Display Format:  AUTO-DETECT ==> NTSC\n",
      "  ROM Size:        8192\n",
      "  Bankswitch Type: AUTO-DETECT ==> F8\n",
      "\n",
      "\n",
      "WARNING: Possibly unsupported ROM: mismatched MD5.\n",
      "Cartridge_MD5: 9469d18238345d87768e8965f9f4a6b2\n",
      "Cartridge_name: Ms. Pac-Man (1982) (CCE)\n",
      "\n",
      "Running ROM file...\n",
      "Random seed is 0\n",
      "A.L.E: Arcade Learning Environment (version 0.6.0)\n",
      "[Powered by Stella]\n",
      "Use -help for help screen.\n",
      "Game console created:\n",
      "  ROM file:  /home/d9w/.julia/packages/ArcadeLearningEnvironment/YJh2g/src/../deps/roms/ms_pacman.bin\n",
      "  Cart Name: Ms. Pac-Man (1982) (CCE)\n",
      "  Cart MD5:  9469d18238345d87768e8965f9f4a6b2\n",
      "  Display Format:  AUTO-DETECT ==> NTSC\n",
      "  ROM Size:        8192\n",
      "  Bankswitch Type: AUTO-DETECT ==> F8\n",
      "\n",
      "\n",
      "WARNING: Possibly unsupported ROM: mismatched MD5.\n",
      "Cartridge_MD5: 9469d18238345d87768e8965f9f4a6b2\n",
      "Cartridge_name: Ms. Pac-Man (1982) (CCE)\n",
      "\n",
      "Running ROM file...\n",
      "Random seed is 0\n",
      "A.L.E: Arcade Learning Environment (version 0.6.0)\n",
      "[Powered by Stella]\n",
      "Use -help for help screen.\n",
      "Game console created:\n",
      "  ROM file:  /home/d9w/.julia/packages/ArcadeLearningEnvironment/YJh2g/src/../deps/roms/ms_pacman.bin\n",
      "  Cart Name: Ms. Pac-Man (1982) (CCE)\n",
      "  Cart MD5:  9469d18238345d87768e8965f9f4a6b2\n",
      "  Display Format:  AUTO-DETECT ==> NTSC\n",
      "  ROM Size:        8192\n",
      "  Bankswitch Type: AUTO-DETECT ==> F8\n",
      "\n",
      "\n",
      "WARNING: Possibly unsupported ROM: mismatched MD5.\n",
      "Cartridge_MD5: 9469d18238345d87768e8965f9f4a6b2\n",
      "Cartridge_name: Ms. Pac-Man (1982) (CCE)\n",
      "\n",
      "Running ROM file...\n",
      "Random seed is 0\n",
      "A.L.E: Arcade Learning Environment (version 0.6.0)\n",
      "[Powered by Stella]\n",
      "Use -help for help screen.\n",
      "Game console created:\n",
      "  ROM file:  /home/d9w/.julia/packages/ArcadeLearningEnvironment/YJh2g/src/../deps/roms/ms_pacman.bin\n",
      "  Cart Name: Ms. Pac-Man (1982) (CCE)\n",
      "  Cart MD5:  9469d18238345d87768e8965f9f4a6b2\n",
      "  Display Format:  AUTO-DETECT ==> NTSC\n",
      "  ROM Size:        8192\n",
      "  Bankswitch Type: AUTO-DETECT ==> F8\n",
      "\n",
      "\n",
      "WARNING: Possibly unsupported ROM: mismatched MD5.\n",
      "Cartridge_MD5: 9469d18238345d87768e8965f9f4a6b2\n",
      "Cartridge_name: Ms. Pac-Man (1982) (CCE)\n",
      "\n",
      "Running ROM file...\n",
      "Random seed is 0\n",
      "A.L.E: Arcade Learning Environment (version 0.6.0)\n",
      "[Powered by Stella]\n",
      "Use -help for help screen.\n",
      "Game console created:\n",
      "  ROM file:  /home/d9w/.julia/packages/ArcadeLearningEnvironment/YJh2g/src/../deps/roms/ms_pacman.bin\n",
      "  Cart Name: Ms. Pac-Man (1982) (CCE)\n",
      "  Cart MD5:  9469d18238345d87768e8965f9f4a6b2\n",
      "  Display Format:  AUTO-DETECT ==> NTSC\n",
      "  ROM Size:        8192\n",
      "  Bankswitch Type: AUTO-DETECT ==> F8\n",
      "\n",
      "\n",
      "WARNING: Possibly unsupported ROM: mismatched MD5.\n",
      "Cartridge_MD5: 9469d18238345d87768e8965f9f4a6b2\n",
      "Cartridge_name: Ms. Pac-Man (1982) (CCE)\n",
      "\n",
      "Running ROM file...\n",
      "Random seed is 0\n",
      "A.L.E: Arcade Learning Environment (version 0.6.0)\n",
      "[Powered by Stella]\n",
      "Use -help for help screen.\n",
      "Game console created:\n",
      "  ROM file:  /home/d9w/.julia/packages/ArcadeLearningEnvironment/YJh2g/src/../deps/roms/ms_pacman.bin\n",
      "  Cart Name: Ms. Pac-Man (1982) (CCE)\n",
      "  Cart MD5:  9469d18238345d87768e8965f9f4a6b2\n",
      "  Display Format:  AUTO-DETECT ==> NTSC\n",
      "  ROM Size:        8192\n",
      "  Bankswitch Type: AUTO-DETECT ==> F8\n",
      "\n",
      "\n",
      "WARNING: Possibly unsupported ROM: mismatched MD5.\n",
      "Cartridge_MD5: 9469d18238345d87768e8965f9f4a6b2\n",
      "Cartridge_name: Ms. Pac-Man (1982) (CCE)\n",
      "\n",
      "Running ROM file...\n",
      "Random seed is 0\n",
      "A.L.E: Arcade Learning Environment (version 0.6.0)\n",
      "[Powered by Stella]\n",
      "Use -help for help screen.\n",
      "Game console created:\n",
      "  ROM file:  /home/d9w/.julia/packages/ArcadeLearningEnvironment/YJh2g/src/../deps/roms/ms_pacman.bin\n",
      "  Cart Name: Ms. Pac-Man (1982) (CCE)\n",
      "  Cart MD5:  9469d18238345d87768e8965f9f4a6b2\n",
      "  Display Format:  AUTO-DETECT ==> NTSC\n",
      "  ROM Size:        8192\n",
      "  Bankswitch Type: AUTO-DETECT ==> F8\n",
      "\n",
      "\n",
      "WARNING: Possibly unsupported ROM: mismatched MD5.\n",
      "Cartridge_MD5: 9469d18238345d87768e8965f9f4a6b2\n",
      "Cartridge_name: Ms. Pac-Man (1982) (CCE)\n",
      "\n",
      "Running ROM file...\n",
      "Random seed is 0\n",
      "A.L.E: Arcade Learning Environment (version 0.6.0)\n",
      "[Powered by Stella]\n",
      "Use -help for help screen.\n",
      "Game console created:\n",
      "  ROM file:  /home/d9w/.julia/packages/ArcadeLearningEnvironment/YJh2g/src/../deps/roms/ms_pacman.bin\n",
      "  Cart Name: Ms. Pac-Man (1982) (CCE)\n",
      "  Cart MD5:  9469d18238345d87768e8965f9f4a6b2\n",
      "  Display Format:  AUTO-DETECT ==> NTSC\n",
      "  ROM Size:        8192\n",
      "  Bankswitch Type: AUTO-DETECT ==> F8\n",
      "\n",
      "\n",
      "WARNING: Possibly unsupported ROM: mismatched MD5.\n",
      "Cartridge_MD5: 9469d18238345d87768e8965f9f4a6b2\n",
      "Cartridge_name: Ms. Pac-Man (1982) (CCE)\n",
      "\n",
      "Running ROM file...\n",
      "Random seed is 0\n",
      "A.L.E: Arcade Learning Environment (version 0.6.0)\n",
      "[Powered by Stella]\n",
      "Use -help for help screen.\n",
      "Game console created:\n",
      "  ROM file:  /home/d9w/.julia/packages/ArcadeLearningEnvironment/YJh2g/src/../deps/roms/ms_pacman.bin\n",
      "  Cart Name: Ms. Pac-Man (1982) (CCE)\n",
      "  Cart MD5:  9469d18238345d87768e8965f9f4a6b2\n",
      "  Display Format:  AUTO-DETECT ==> NTSC\n",
      "  ROM Size:        8192\n",
      "  Bankswitch Type: AUTO-DETECT ==> F8\n",
      "\n",
      "\n",
      "WARNING: Possibly unsupported ROM: mismatched MD5.\n",
      "Cartridge_MD5: 9469d18238345d87768e8965f9f4a6b2\n",
      "Cartridge_name: Ms. Pac-Man (1982) (CCE)\n",
      "\n",
      "Running ROM file...\n",
      "Random seed is 0\n",
      "A.L.E: Arcade Learning Environment (version 0.6.0)\n",
      "[Powered by Stella]\n",
      "Use -help for help screen.\n",
      "Game console created:\n",
      "  ROM file:  /home/d9w/.julia/packages/ArcadeLearningEnvironment/YJh2g/src/../deps/roms/ms_pacman.bin\n",
      "  Cart Name: Ms. Pac-Man (1982) (CCE)\n",
      "  Cart MD5:  9469d18238345d87768e8965f9f4a6b2\n",
      "  Display Format:  AUTO-DETECT ==> NTSC\n",
      "  ROM Size:        8192\n",
      "  Bankswitch Type: AUTO-DETECT ==> F8\n",
      "\n",
      "\n",
      "WARNING: Possibly unsupported ROM: mismatched MD5.\n",
      "Cartridge_MD5: 9469d18238345d87768e8965f9f4a6b2\n",
      "Cartridge_name: Ms. Pac-Man (1982) (CCE)\n",
      "\n",
      "Running ROM file...\n",
      "Random seed is 0\n",
      "A.L.E: Arcade Learning Environment (version 0.6.0)\n",
      "[Powered by Stella]\n",
      "Use -help for help screen.\n",
      "Game console created:\n",
      "  ROM file:  /home/d9w/.julia/packages/ArcadeLearningEnvironment/YJh2g/src/../deps/roms/ms_pacman.bin\n",
      "  Cart Name: Ms. Pac-Man (1982) (CCE)\n",
      "  Cart MD5:  9469d18238345d87768e8965f9f4a6b2\n",
      "  Display Format:  AUTO-DETECT ==> NTSC\n",
      "  ROM Size:        8192\n",
      "  Bankswitch Type: AUTO-DETECT ==> F8\n",
      "\n",
      "\n",
      "WARNING: Possibly unsupported ROM: mismatched MD5.\n",
      "Cartridge_MD5: 9469d18238345d87768e8965f9f4a6b2\n",
      "Cartridge_name: Ms. Pac-Man (1982) (CCE)\n",
      "\n",
      "Running ROM file...\n",
      "Random seed is 0\n",
      "A.L.E: Arcade Learning Environment (version 0.6.0)\n",
      "[Powered by Stella]\n",
      "Use -help for help screen.\n",
      "Game console created:\n",
      "  ROM file:  /home/d9w/.julia/packages/ArcadeLearningEnvironment/YJh2g/src/../deps/roms/ms_pacman.bin\n",
      "  Cart Name: Ms. Pac-Man (1982) (CCE)\n",
      "  Cart MD5:  9469d18238345d87768e8965f9f4a6b2\n",
      "  Display Format:  AUTO-DETECT ==> NTSC\n",
      "  ROM Size:        8192\n",
      "  Bankswitch Type: AUTO-DETECT ==> F8\n",
      "\n",
      "\n",
      "WARNING: Possibly unsupported ROM: mismatched MD5.\n",
      "Cartridge_MD5: 9469d18238345d87768e8965f9f4a6b2\n",
      "Cartridge_name: Ms. Pac-Man (1982) (CCE)\n",
      "\n",
      "Running ROM file...\n",
      "Random seed is 0\n",
      "A.L.E: Arcade Learning Environment (version 0.6.0)\n",
      "[Powered by Stella]\n",
      "Use -help for help screen.\n",
      "Game console created:\n",
      "  ROM file:  /home/d9w/.julia/packages/ArcadeLearningEnvironment/YJh2g/src/../deps/roms/ms_pacman.bin\n",
      "  Cart Name: Ms. Pac-Man (1982) (CCE)\n",
      "  Cart MD5:  9469d18238345d87768e8965f9f4a6b2\n",
      "  Display Format:  AUTO-DETECT ==> NTSC\n",
      "  ROM Size:        8192\n",
      "  Bankswitch Type: AUTO-DETECT ==> F8\n",
      "\n",
      "\n",
      "WARNING: Possibly unsupported ROM: mismatched MD5.\n",
      "Cartridge_MD5: 9469d18238345d87768e8965f9f4a6b2\n",
      "Cartridge_name: Ms. Pac-Man (1982) (CCE)\n",
      "\n",
      "Running ROM file...\n",
      "Random seed is 0\n",
      "A.L.E: Arcade Learning Environment (version 0.6.0)\n",
      "[Powered by Stella]\n",
      "Use -help for help screen.\n",
      "Game console created:\n",
      "  ROM file:  /home/d9w/.julia/packages/ArcadeLearningEnvironment/YJh2g/src/../deps/roms/ms_pacman.bin\n",
      "  Cart Name: Ms. Pac-Man (1982) (CCE)\n",
      "  Cart MD5:  9469d18238345d87768e8965f9f4a6b2\n",
      "  Display Format:  AUTO-DETECT ==> NTSC\n",
      "  ROM Size:        8192\n",
      "  Bankswitch Type: AUTO-DETECT ==> F8\n",
      "\n",
      "\n",
      "WARNING: Possibly unsupported ROM: mismatched MD5.\n",
      "Cartridge_MD5: 9469d18238345d87768e8965f9f4a6b2\n",
      "Cartridge_name: Ms. Pac-Man (1982) (CCE)\n",
      "\n",
      "Running ROM file...\n",
      "Random seed is 0\n",
      "A.L.E: Arcade Learning Environment (version 0.6.0)\n",
      "[Powered by Stella]\n",
      "Use -help for help screen.\n",
      "Game console created:\n",
      "  ROM file:  /home/d9w/.julia/packages/ArcadeLearningEnvironment/YJh2g/src/../deps/roms/ms_pacman.bin\n",
      "  Cart Name: Ms. Pac-Man (1982) (CCE)\n",
      "  Cart MD5:  9469d18238345d87768e8965f9f4a6b2\n",
      "  Display Format:  AUTO-DETECT ==> NTSC\n",
      "  ROM Size:        8192\n",
      "  Bankswitch Type: AUTO-DETECT ==> F8\n",
      "\n",
      "\n",
      "WARNING: Possibly unsupported ROM: mismatched MD5.\n",
      "Cartridge_MD5: 9469d18238345d87768e8965f9f4a6b2\n",
      "Cartridge_name: Ms. Pac-Man (1982) (CCE)\n",
      "\n",
      "Running ROM file...\n",
      "Random seed is 0\n",
      "A.L.E: Arcade Learning Environment (version 0.6.0)\n",
      "[Powered by Stella]\n",
      "Use -help for help screen.\n",
      "Game console created:\n",
      "  ROM file:  /home/d9w/.julia/packages/ArcadeLearningEnvironment/YJh2g/src/../deps/roms/ms_pacman.bin\n",
      "  Cart Name: Ms. Pac-Man (1982) (CCE)\n",
      "  Cart MD5:  9469d18238345d87768e8965f9f4a6b2\n",
      "  Display Format:  AUTO-DETECT ==> NTSC\n",
      "  ROM Size:        8192\n",
      "  Bankswitch Type: AUTO-DETECT ==> F8\n",
      "\n",
      "\n",
      "WARNING: Possibly unsupported ROM: mismatched MD5.\n",
      "Cartridge_MD5: 9469d18238345d87768e8965f9f4a6b2\n",
      "Cartridge_name: Ms. Pac-Man (1982) (CCE)\n",
      "\n",
      "Running ROM file...\n",
      "Random seed is 0\n",
      "A.L.E: Arcade Learning Environment (version 0.6.0)\n",
      "[Powered by Stella]\n",
      "Use -help for help screen.\n",
      "Game console created:\n",
      "  ROM file:  /home/d9w/.julia/packages/ArcadeLearningEnvironment/YJh2g/src/../deps/roms/ms_pacman.bin\n",
      "  Cart Name: Ms. Pac-Man (1982) (CCE)\n",
      "  Cart MD5:  9469d18238345d87768e8965f9f4a6b2\n",
      "  Display Format:  AUTO-DETECT ==> NTSC\n",
      "  ROM Size:        8192\n",
      "  Bankswitch Type: AUTO-DETECT ==> F8\n",
      "\n",
      "\n",
      "WARNING: Possibly unsupported ROM: mismatched MD5.\n",
      "Cartridge_MD5: 9469d18238345d87768e8965f9f4a6b2\n",
      "Cartridge_name: Ms. Pac-Man (1982) (CCE)\n",
      "\n",
      "Running ROM file...\n",
      "Random seed is 0\n",
      "A.L.E: Arcade Learning Environment (version 0.6.0)\n",
      "[Powered by Stella]\n",
      "Use -help for help screen.\n",
      "Game console created:\n",
      "  ROM file:  /home/d9w/.julia/packages/ArcadeLearningEnvironment/YJh2g/src/../deps/roms/ms_pacman.bin\n",
      "  Cart Name: Ms. Pac-Man (1982) (CCE)\n",
      "  Cart MD5:  9469d18238345d87768e8965f9f4a6b2\n",
      "  Display Format:  AUTO-DETECT ==> NTSC\n",
      "  ROM Size:        8192\n",
      "  Bankswitch Type: AUTO-DETECT ==> F8\n",
      "\n",
      "\n",
      "WARNING: Possibly unsupported ROM: mismatched MD5.\n",
      "Cartridge_MD5: 9469d18238345d87768e8965f9f4a6b2\n",
      "Cartridge_name: Ms. Pac-Man (1982) (CCE)\n",
      "\n",
      "Running ROM file...\n",
      "Random seed is 0\n",
      "A.L.E: Arcade Learning Environment (version 0.6.0)\n",
      "[Powered by Stella]\n",
      "Use -help for help screen.\n",
      "Game console created:\n",
      "  ROM file:  /home/d9w/.julia/packages/ArcadeLearningEnvironment/YJh2g/src/../deps/roms/ms_pacman.bin\n",
      "  Cart Name: Ms. Pac-Man (1982) (CCE)\n",
      "  Cart MD5:  9469d18238345d87768e8965f9f4a6b2\n",
      "  Display Format:  AUTO-DETECT ==> NTSC\n",
      "  ROM Size:        8192\n",
      "  Bankswitch Type: AUTO-DETECT ==> F8\n",
      "\n",
      "\n",
      "WARNING: Possibly unsupported ROM: mismatched MD5.\n",
      "Cartridge_MD5: 9469d18238345d87768e8965f9f4a6b2\n",
      "Cartridge_name: Ms. Pac-Man (1982) (CCE)\n",
      "\n",
      "Running ROM file...\n",
      "Random seed is 0\n",
      "A.L.E: Arcade Learning Environment (version 0.6.0)\n",
      "[Powered by Stella]\n",
      "Use -help for help screen.\n",
      "Game console created:\n",
      "  ROM file:  /home/d9w/.julia/packages/ArcadeLearningEnvironment/YJh2g/src/../deps/roms/ms_pacman.bin\n",
      "  Cart Name: Ms. Pac-Man (1982) (CCE)\n",
      "  Cart MD5:  9469d18238345d87768e8965f9f4a6b2\n",
      "  Display Format:  AUTO-DETECT ==> NTSC\n",
      "  ROM Size:        8192\n",
      "  Bankswitch Type: AUTO-DETECT ==> F8\n",
      "\n",
      "\n",
      "WARNING: Possibly unsupported ROM: mismatched MD5.\n",
      "Cartridge_MD5: 9469d18238345d87768e8965f9f4a6b2\n",
      "Cartridge_name: Ms. Pac-Man (1982) (CCE)\n",
      "\n",
      "Running ROM file...\n",
      "Random seed is 0\n"
     ]
    }
   ],
   "source": [
    "for i in 1:20\n",
    "    Cambrian.step!(evo)\n",
    "end"
   ]
  },
  {
   "cell_type": "markdown",
   "metadata": {
    "slideshow": {
     "slide_type": "slide"
    }
   },
   "source": [
    "Let's observe the best individual from evolution and display its actions."
   ]
  },
  {
   "cell_type": "code",
   "execution_count": 21,
   "metadata": {
    "slideshow": {
     "slide_type": "fragment"
    }
   },
   "outputs": [
    {
     "name": "stderr",
     "output_type": "stream",
     "text": [
      "A.L.E: Arcade Learning Environment (version 0.6.0)\n",
      "[Powered by Stella]\n",
      "Use -help for help screen.\n",
      "Game console created:\n",
      "  ROM file:  /home/d9w/.julia/packages/ArcadeLearningEnvironment/YJh2g/src/../deps/roms/ms_pacman.bin\n",
      "  Cart Name: Ms. Pac-Man (1982) (CCE)\n",
      "  Cart MD5:  9469d18238345d87768e8965f9f4a6b2\n",
      "  Display Format:  AUTO-DETECT ==> NTSC\n",
      "  ROM Size:        8192\n",
      "  Bankswitch Type: AUTO-DETECT ==> F8\n",
      "\n",
      "\n",
      "WARNING: Possibly unsupported ROM: mismatched MD5.\n",
      "Cartridge_MD5: 9469d18238345d87768e8965f9f4a6b2\n",
      "Cartridge_name: Ms. Pac-Man (1982) (CCE)\n",
      "\n",
      "Running ROM file...\n",
      "Random seed is 0\n"
     ]
    },
    {
     "data": {
      "text/plain": [
       "(440, Frames{MIME{Symbol(\"image/png\")}}(\"/tmp/jl_SpqiCR\", 0x0000000000000104, 6.0, nothing))"
      ]
     },
     "execution_count": 21,
     "metadata": {},
     "output_type": "execute_result"
    }
   ],
   "source": [
    "best = sort(evo.population)[end];\n",
    "total_reward, frames = play_atari(best, render=true)"
   ]
  },
  {
   "cell_type": "code",
   "execution_count": 22,
   "metadata": {
    "slideshow": {
     "slide_type": "slide"
    }
   },
   "outputs": [
    {
     "data": {
      "text/html": [
       "<img src=\"files/reel-9386489057222290819.gif?12901094096644217886\" />"
      ],
      "text/plain": [
       "Frames{MIME{Symbol(\"image/png\")}}(\"/tmp/jl_SpqiCR\", 0x0000000000000104, 6.0, nothing)"
      ]
     },
     "execution_count": 22,
     "metadata": {},
     "output_type": "execute_result"
    }
   ],
   "source": [
    "frames"
   ]
  },
  {
   "cell_type": "markdown",
   "metadata": {
    "slideshow": {
     "slide_type": "slide"
    }
   },
   "source": [
    "# <a id=\"neuroevo\"></a> Neuroevolution"
   ]
  },
  {
   "cell_type": "markdown",
   "metadata": {
    "slideshow": {
     "slide_type": "fragment"
    }
   },
   "source": [
    "For our second approach, we'll evolve the weights of a neural network using the $(1, \\lambda)$ evolutionary strategy we in the [evolutionary strategies tutorial](https://github.com/d9w/evolution/blob/master/5_strategies/1_ES.ipynb). For the neural network, we'll use [Flux](fluxml.ai) to define the neural network - we'll use a 2 layer network with (32, 16) neurons."
   ]
  },
  {
   "cell_type": "code",
   "execution_count": 23,
   "metadata": {
    "slideshow": {
     "slide_type": "slide"
    }
   },
   "outputs": [],
   "source": [
    "using Flux"
   ]
  },
  {
   "cell_type": "code",
   "execution_count": 24,
   "metadata": {
    "slideshow": {
     "slide_type": "fragment"
    }
   },
   "outputs": [
    {
     "data": {
      "text/plain": [
       "Chain(Dense(128, 32), Dense(32, 16), Dense(16, 9))"
      ]
     },
     "execution_count": 24,
     "metadata": {},
     "output_type": "execute_result"
    }
   ],
   "source": [
    "n_in = length(getRAM(ale))\n",
    "n_out = length(actions)\n",
    "model = Chain(\n",
    "    Dense(n_in, 32),\n",
    "    Dense(32, 16),\n",
    "    Dense(16, n_out))"
   ]
  },
  {
   "cell_type": "markdown",
   "metadata": {
    "slideshow": {
     "slide_type": "slide"
    }
   },
   "source": [
    "We can test this neural network with some game inputs"
   ]
  },
  {
   "cell_type": "code",
   "execution_count": 25,
   "metadata": {
    "slideshow": {
     "slide_type": "fragment"
    }
   },
   "outputs": [
    {
     "data": {
      "text/plain": [
       "9-element Array{Float32,1}:\n",
       " -1.2712206\n",
       "  1.0186182\n",
       "  1.2801273\n",
       "  0.96323484\n",
       "  0.53524303\n",
       "  0.39767325\n",
       "  0.101335704\n",
       "  1.4927574\n",
       "  0.32735276"
      ]
     },
     "execution_count": 25,
     "metadata": {},
     "output_type": "execute_result"
    }
   ],
   "source": [
    "model(getRAM(ale) ./ typemax(UInt8))"
   ]
  },
  {
   "cell_type": "markdown",
   "metadata": {
    "slideshow": {
     "slide_type": "slide"
    }
   },
   "source": [
    "We need to redefine our Atari function to use a neural network."
   ]
  },
  {
   "cell_type": "code",
   "execution_count": 26,
   "metadata": {
    "slideshow": {
     "slide_type": "fragment"
    }
   },
   "outputs": [
    {
     "data": {
      "text/plain": [
       "play_atari (generic function with 2 methods)"
      ]
     },
     "execution_count": 26,
     "metadata": {},
     "output_type": "execute_result"
    }
   ],
   "source": [
    "function play_atari(model::Chain; render=false, seed=0)\n",
    "    loadROM(ale, \"ms_pacman\")\n",
    "    if render\n",
    "        frames = Frames(MIME(\"image/png\"), fps=6)\n",
    "    end\n",
    "    f = 0\n",
    "    total_reward = 0\n",
    "    while ~game_over(ale) && f < 18000\n",
    "        inputs = getRAM(ale) ./ typemax(UInt8)\n",
    "        output = model(inputs)\n",
    "        total_reward += act(ale, actions[argmax(output)])\n",
    "        if render && mod(f, 10) == 0\n",
    "            push!(frames, get_screen(ale))\n",
    "        end\n",
    "        f += 1\n",
    "    end\n",
    "    reset_game(ale)\n",
    "    if render\n",
    "        return total_reward, frames\n",
    "    end\n",
    "    total_reward\n",
    "end"
   ]
  },
  {
   "cell_type": "markdown",
   "metadata": {
    "slideshow": {
     "slide_type": "slide"
    }
   },
   "source": [
    "Let's see how a random neural network plays"
   ]
  },
  {
   "cell_type": "code",
   "execution_count": 27,
   "metadata": {
    "slideshow": {
     "slide_type": "fragment"
    }
   },
   "outputs": [
    {
     "name": "stderr",
     "output_type": "stream",
     "text": [
      "Game console created:\n",
      "  ROM file:  /home/d9w/.julia/packages/ArcadeLearningEnvironment/YJh2g/src/../deps/roms/ms_pacman.bin\n",
      "  Cart Name: Ms. Pac-Man (1982) (CCE)\n",
      "  Cart MD5:  9469d18238345d87768e8965f9f4a6b2\n",
      "  Display Format:  AUTO-DETECT ==> NTSC\n",
      "  ROM Size:        8192\n",
      "  Bankswitch Type: AUTO-DETECT ==> F8\n",
      "\n",
      "\n",
      "WARNING: Possibly unsupported ROM: mismatched MD5.\n",
      "Cartridge_MD5: 9469d18238345d87768e8965f9f4a6b2\n",
      "Cartridge_name: Ms. Pac-Man (1982) (CCE)\n",
      "\n",
      "Running ROM file...\n",
      "Random seed is 0\n"
     ]
    },
    {
     "data": {
      "text/plain": [
       "70"
      ]
     },
     "execution_count": 27,
     "metadata": {},
     "output_type": "execute_result"
    }
   ],
   "source": [
    "total_reward, frames = play_atari(model, render=true)\n",
    "total_reward"
   ]
  },
  {
   "cell_type": "code",
   "execution_count": 28,
   "metadata": {
    "slideshow": {
     "slide_type": "slide"
    }
   },
   "outputs": [
    {
     "data": {
      "text/html": [
       "<img src=\"files/reel-13293236764381067067.gif?1829781579952306574\" />"
      ],
      "text/plain": [
       "Frames{MIME{Symbol(\"image/png\")}}(\"/tmp/jl_PKEDZS\", 0x00000000000000d5, 6.0, nothing)"
      ]
     },
     "execution_count": 28,
     "metadata": {},
     "output_type": "execute_result"
    }
   ],
   "source": [
    "frames"
   ]
  },
  {
   "cell_type": "markdown",
   "metadata": {
    "slideshow": {
     "slide_type": "slide"
    }
   },
   "source": [
    "We're not quite ready to evolve the weights, however. To do that, we need to make a function that transforms genes into a neural network. Let's see how many parameters our network has."
   ]
  },
  {
   "cell_type": "code",
   "execution_count": 29,
   "metadata": {
    "slideshow": {
     "slide_type": "fragment"
    }
   },
   "outputs": [
    {
     "data": {
      "text/plain": [
       "6-element Array{Int64,1}:\n",
       " 4096\n",
       "   32\n",
       "  512\n",
       "   16\n",
       "  144\n",
       "    9"
      ]
     },
     "execution_count": 29,
     "metadata": {},
     "output_type": "execute_result"
    }
   ],
   "source": [
    "param_lengths = [length(p) for p in params(model)]"
   ]
  },
  {
   "cell_type": "code",
   "execution_count": 30,
   "metadata": {
    "slideshow": {
     "slide_type": "fragment"
    }
   },
   "outputs": [
    {
     "data": {
      "text/plain": [
       "4809"
      ]
     },
     "execution_count": 30,
     "metadata": {},
     "output_type": "execute_result"
    }
   ],
   "source": [
    "ndims = sum(param_lengths)"
   ]
  },
  {
   "cell_type": "markdown",
   "metadata": {
    "slideshow": {
     "slide_type": "slide"
    }
   },
   "source": [
    "So we'll optimize 4809 genes and use them as the weights and biases of our neural network (the phenotype) to evaluate them. We need to defined a function that takes in the genes and returns a neural network with those genes and weights and biases."
   ]
  },
  {
   "cell_type": "code",
   "execution_count": 31,
   "metadata": {
    "slideshow": {
     "slide_type": "fragment"
    }
   },
   "outputs": [
    {
     "data": {
      "text/plain": [
       "set_weights (generic function with 1 method)"
      ]
     },
     "execution_count": 31,
     "metadata": {},
     "output_type": "execute_result"
    }
   ],
   "source": [
    "function set_weights(x::Array{Float64})\n",
    "    model = Chain(\n",
    "        Dense(n_in, 32),\n",
    "        Dense(32, 16),\n",
    "        Dense(16, n_out))\n",
    "    start = 1\n",
    "    for p in params(model)\n",
    "        p .= reshape(x[start:(start+length(p)-1)], size(p))\n",
    "        start += length(p)\n",
    "    end\n",
    "    model\n",
    "end"
   ]
  },
  {
   "cell_type": "markdown",
   "metadata": {
    "slideshow": {
     "slide_type": "slide"
    }
   },
   "source": [
    "Let's see if that worked. If we set all weights to 0, the output should always be 0."
   ]
  },
  {
   "cell_type": "code",
   "execution_count": 32,
   "metadata": {
    "slideshow": {
     "slide_type": "fragment"
    }
   },
   "outputs": [
    {
     "data": {
      "text/plain": [
       "Chain(Dense(128, 32), Dense(32, 16), Dense(16, 9))"
      ]
     },
     "execution_count": 32,
     "metadata": {},
     "output_type": "execute_result"
    }
   ],
   "source": [
    "model = set_weights(zeros(ndims))"
   ]
  },
  {
   "cell_type": "code",
   "execution_count": 33,
   "metadata": {
    "slideshow": {
     "slide_type": "fragment"
    }
   },
   "outputs": [
    {
     "data": {
      "text/plain": [
       "9-element Array{Float32,1}:\n",
       " -238.71797\n",
       "  329.18237\n",
       "   -8.303442\n",
       "  -48.278893\n",
       "  108.821465\n",
       "   81.84656\n",
       "  -75.78077\n",
       "  -17.442709\n",
       "  325.28726"
      ]
     },
     "execution_count": 33,
     "metadata": {},
     "output_type": "execute_result"
    }
   ],
   "source": [
    "model(rand(128))"
   ]
  },
  {
   "cell_type": "markdown",
   "metadata": {
    "slideshow": {
     "slide_type": "slide"
    }
   },
   "source": [
    "Now that we have our genotype to phenotype mapping function, we can create the objective function."
   ]
  },
  {
   "cell_type": "code",
   "execution_count": 34,
   "metadata": {
    "slideshow": {
     "slide_type": "fragment"
    }
   },
   "outputs": [
    {
     "data": {
      "text/plain": [
       "objective (generic function with 1 method)"
      ]
     },
     "execution_count": 34,
     "metadata": {},
     "output_type": "execute_result"
    }
   ],
   "source": [
    "function objective(x::Array{Float64})\n",
    "    model = set_weights(x)\n",
    "    play_atari(model)\n",
    "end"
   ]
  },
  {
   "cell_type": "markdown",
   "metadata": {
    "slideshow": {
     "slide_type": "slide"
    }
   },
   "source": [
    "Finally, we'll import the ES step function from the evolutionary strategies tutorial."
   ]
  },
  {
   "cell_type": "code",
   "execution_count": 55,
   "metadata": {
    "slideshow": {
     "slide_type": "fragment"
    }
   },
   "outputs": [
    {
     "data": {
      "text/plain": [
       "step (generic function with 1 method)"
      ]
     },
     "execution_count": 55,
     "metadata": {},
     "output_type": "execute_result"
    }
   ],
   "source": [
    "using Statistics\n",
    "using LinearAlgebra\n",
    "function step(x::Array{Float64}, objective::Function; npop=20, sigma=0.5, alpha=0.1)\n",
    "    N = randn(npop, length(x))\n",
    "    P = repeat(x, 1, npop)' .+ sigma .* N\n",
    "    R = zeros(npop)\n",
    "    for i in eachindex(R)\n",
    "        R[i] = objective(P[i, :])\n",
    "    end\n",
    "    A = (R .- mean(R)) ./ std(R)\n",
    "        \n",
    "    x .+ alpha/(npop * sigma) .* [dot(N[:, i], A) for i in 1:size(N, 2)], R, P\n",
    "end"
   ]
  },
  {
   "cell_type": "markdown",
   "metadata": {
    "slideshow": {
     "slide_type": "slide"
    }
   },
   "source": [
    "Let's create a random individual and see its performance."
   ]
  },
  {
   "cell_type": "code",
   "execution_count": 56,
   "metadata": {
    "slideshow": {
     "slide_type": "fragment"
    }
   },
   "outputs": [
    {
     "name": "stderr",
     "output_type": "stream",
     "text": [
      "Game console created:\n",
      "  ROM file:  /home/d9w/.julia/packages/ArcadeLearningEnvironment/YJh2g/src/../deps/roms/ms_pacman.bin\n",
      "  Cart Name: Ms. Pac-Man (1982) (CCE)\n",
      "  Cart MD5:  9469d18238345d87768e8965f9f4a6b2\n",
      "  Display Format:  AUTO-DETECT ==> NTSC\n",
      "  ROM Size:        8192\n",
      "  Bankswitch Type: AUTO-DETECT ==> F8\n",
      "\n",
      "\n",
      "WARNING: Possibly unsupported ROM: mismatched MD5.\n",
      "Cartridge_MD5: 9469d18238345d87768e8965f9f4a6b2\n",
      "Cartridge_name: Ms. Pac-Man (1982) (CCE)\n",
      "\n",
      "Running ROM file...\n",
      "Random seed is 0\n"
     ]
    },
    {
     "data": {
      "text/plain": [
       "60"
      ]
     },
     "execution_count": 56,
     "metadata": {},
     "output_type": "execute_result"
    }
   ],
   "source": [
    "x = rand(ndims);\n",
    "objective(x)"
   ]
  },
  {
   "cell_type": "markdown",
   "metadata": {
    "slideshow": {
     "slide_type": "slide"
    }
   },
   "source": [
    "Not great, but it'll do as a starting point. We'll run the first generation and get back $x$, the new center of our population, $R$, the array of all fitness values, and $P$, the population matrix."
   ]
  },
  {
   "cell_type": "code",
   "execution_count": 57,
   "metadata": {
    "slideshow": {
     "slide_type": "fragment"
    }
   },
   "outputs": [
    {
     "name": "stderr",
     "output_type": "stream",
     "text": [
      "Game console created:\n",
      "  ROM file:  /home/d9w/.julia/packages/ArcadeLearningEnvironment/YJh2g/src/../deps/roms/ms_pacman.bin\n",
      "  Cart Name: Ms. Pac-Man (1982) (CCE)\n",
      "  Cart MD5:  9469d18238345d87768e8965f9f4a6b2\n",
      "  Display Format:  AUTO-DETECT ==> NTSC\n",
      "  ROM Size:        8192\n",
      "  Bankswitch Type: AUTO-DETECT ==> F8\n",
      "\n",
      "\n",
      "WARNING: Possibly unsupported ROM: mismatched MD5.\n",
      "Cartridge_MD5: 9469d18238345d87768e8965f9f4a6b2\n",
      "Cartridge_name: Ms. Pac-Man (1982) (CCE)\n",
      "\n",
      "Running ROM file...\n",
      "Random seed is 0\n",
      "Game console created:\n",
      "  ROM file:  /home/d9w/.julia/packages/ArcadeLearningEnvironment/YJh2g/src/../deps/roms/ms_pacman.bin\n",
      "  Cart Name: Ms. Pac-Man (1982) (CCE)\n",
      "  Cart MD5:  9469d18238345d87768e8965f9f4a6b2\n",
      "  Display Format:  AUTO-DETECT ==> NTSC\n",
      "  ROM Size:        8192\n",
      "  Bankswitch Type: AUTO-DETECT ==> F8\n",
      "\n",
      "\n",
      "WARNING: Possibly unsupported ROM: mismatched MD5.\n",
      "Cartridge_MD5: 9469d18238345d87768e8965f9f4a6b2\n",
      "Cartridge_name: Ms. Pac-Man (1982) (CCE)\n",
      "\n",
      "Running ROM file...\n",
      "Random seed is 0\n",
      "Game console created:\n",
      "  ROM file:  /home/d9w/.julia/packages/ArcadeLearningEnvironment/YJh2g/src/../deps/roms/ms_pacman.bin\n",
      "  Cart Name: Ms. Pac-Man (1982) (CCE)\n",
      "  Cart MD5:  9469d18238345d87768e8965f9f4a6b2\n",
      "  Display Format:  AUTO-DETECT ==> NTSC\n",
      "  ROM Size:        8192\n",
      "  Bankswitch Type: AUTO-DETECT ==> F8\n",
      "\n",
      "\n",
      "WARNING: Possibly unsupported ROM: mismatched MD5.\n",
      "Cartridge_MD5: 9469d18238345d87768e8965f9f4a6b2\n",
      "Cartridge_name: Ms. Pac-Man (1982) (CCE)\n",
      "\n",
      "Running ROM file...\n",
      "Random seed is 0\n",
      "Game console created:\n",
      "  ROM file:  /home/d9w/.julia/packages/ArcadeLearningEnvironment/YJh2g/src/../deps/roms/ms_pacman.bin\n",
      "  Cart Name: Ms. Pac-Man (1982) (CCE)\n",
      "  Cart MD5:  9469d18238345d87768e8965f9f4a6b2\n",
      "  Display Format:  AUTO-DETECT ==> NTSC\n",
      "  ROM Size:        8192\n",
      "  Bankswitch Type: AUTO-DETECT ==> F8\n",
      "\n",
      "\n",
      "WARNING: Possibly unsupported ROM: mismatched MD5.\n",
      "Cartridge_MD5: 9469d18238345d87768e8965f9f4a6b2\n",
      "Cartridge_name: Ms. Pac-Man (1982) (CCE)\n",
      "\n",
      "Running ROM file...\n",
      "Random seed is 0\n",
      "Game console created:\n",
      "  ROM file:  /home/d9w/.julia/packages/ArcadeLearningEnvironment/YJh2g/src/../deps/roms/ms_pacman.bin\n",
      "  Cart Name: Ms. Pac-Man (1982) (CCE)\n",
      "  Cart MD5:  9469d18238345d87768e8965f9f4a6b2\n",
      "  Display Format:  AUTO-DETECT ==> NTSC\n",
      "  ROM Size:        8192\n",
      "  Bankswitch Type: AUTO-DETECT ==> F8\n",
      "\n",
      "\n",
      "WARNING: Possibly unsupported ROM: mismatched MD5.\n",
      "Cartridge_MD5: 9469d18238345d87768e8965f9f4a6b2\n",
      "Cartridge_name: Ms. Pac-Man (1982) (CCE)\n",
      "\n",
      "Running ROM file...\n",
      "Random seed is 0\n",
      "Game console created:\n",
      "  ROM file:  /home/d9w/.julia/packages/ArcadeLearningEnvironment/YJh2g/src/../deps/roms/ms_pacman.bin\n",
      "  Cart Name: Ms. Pac-Man (1982) (CCE)\n",
      "  Cart MD5:  9469d18238345d87768e8965f9f4a6b2\n",
      "  Display Format:  AUTO-DETECT ==> NTSC\n",
      "  ROM Size:        8192\n",
      "  Bankswitch Type: AUTO-DETECT ==> F8\n",
      "\n",
      "\n",
      "WARNING: Possibly unsupported ROM: mismatched MD5.\n",
      "Cartridge_MD5: 9469d18238345d87768e8965f9f4a6b2\n",
      "Cartridge_name: Ms. Pac-Man (1982) (CCE)\n",
      "\n",
      "Running ROM file...\n",
      "Random seed is 0\n",
      "Game console created:\n",
      "  ROM file:  /home/d9w/.julia/packages/ArcadeLearningEnvironment/YJh2g/src/../deps/roms/ms_pacman.bin\n",
      "  Cart Name: Ms. Pac-Man (1982) (CCE)\n",
      "  Cart MD5:  9469d18238345d87768e8965f9f4a6b2\n",
      "  Display Format:  AUTO-DETECT ==> NTSC\n",
      "  ROM Size:        8192\n",
      "  Bankswitch Type: AUTO-DETECT ==> F8\n",
      "\n",
      "\n",
      "WARNING: Possibly unsupported ROM: mismatched MD5.\n",
      "Cartridge_MD5: 9469d18238345d87768e8965f9f4a6b2\n",
      "Cartridge_name: Ms. Pac-Man (1982) (CCE)\n",
      "\n",
      "Running ROM file...\n",
      "Random seed is 0\n",
      "Game console created:\n",
      "  ROM file:  /home/d9w/.julia/packages/ArcadeLearningEnvironment/YJh2g/src/../deps/roms/ms_pacman.bin\n",
      "  Cart Name: Ms. Pac-Man (1982) (CCE)\n",
      "  Cart MD5:  9469d18238345d87768e8965f9f4a6b2\n",
      "  Display Format:  AUTO-DETECT ==> NTSC\n",
      "  ROM Size:        8192\n",
      "  Bankswitch Type: AUTO-DETECT ==> F8\n",
      "\n",
      "\n",
      "WARNING: Possibly unsupported ROM: mismatched MD5.\n",
      "Cartridge_MD5: 9469d18238345d87768e8965f9f4a6b2\n",
      "Cartridge_name: Ms. Pac-Man (1982) (CCE)\n",
      "\n",
      "Running ROM file...\n",
      "Random seed is 0\n",
      "Game console created:\n",
      "  ROM file:  /home/d9w/.julia/packages/ArcadeLearningEnvironment/YJh2g/src/../deps/roms/ms_pacman.bin\n",
      "  Cart Name: Ms. Pac-Man (1982) (CCE)\n",
      "  Cart MD5:  9469d18238345d87768e8965f9f4a6b2\n",
      "  Display Format:  AUTO-DETECT ==> NTSC\n",
      "  ROM Size:        8192\n",
      "  Bankswitch Type: AUTO-DETECT ==> F8\n",
      "\n",
      "\n",
      "WARNING: Possibly unsupported ROM: mismatched MD5.\n",
      "Cartridge_MD5: 9469d18238345d87768e8965f9f4a6b2\n",
      "Cartridge_name: Ms. Pac-Man (1982) (CCE)\n",
      "\n",
      "Running ROM file...\n",
      "Random seed is 0\n",
      "Game console created:\n",
      "  ROM file:  /home/d9w/.julia/packages/ArcadeLearningEnvironment/YJh2g/src/../deps/roms/ms_pacman.bin\n",
      "  Cart Name: Ms. Pac-Man (1982) (CCE)\n",
      "  Cart MD5:  9469d18238345d87768e8965f9f4a6b2\n",
      "  Display Format:  AUTO-DETECT ==> NTSC\n",
      "  ROM Size:        8192\n",
      "  Bankswitch Type: AUTO-DETECT ==> F8\n",
      "\n",
      "\n",
      "WARNING: Possibly unsupported ROM: mismatched MD5.\n",
      "Cartridge_MD5: 9469d18238345d87768e8965f9f4a6b2\n",
      "Cartridge_name: Ms. Pac-Man (1982) (CCE)\n",
      "\n",
      "Running ROM file...\n",
      "Random seed is 0\n",
      "Game console created:\n",
      "  ROM file:  /home/d9w/.julia/packages/ArcadeLearningEnvironment/YJh2g/src/../deps/roms/ms_pacman.bin\n",
      "  Cart Name: Ms. Pac-Man (1982) (CCE)\n",
      "  Cart MD5:  9469d18238345d87768e8965f9f4a6b2\n",
      "  Display Format:  AUTO-DETECT ==> NTSC\n",
      "  ROM Size:        8192\n",
      "  Bankswitch Type: AUTO-DETECT ==> F8\n",
      "\n",
      "\n",
      "WARNING: Possibly unsupported ROM: mismatched MD5.\n",
      "Cartridge_MD5: 9469d18238345d87768e8965f9f4a6b2\n",
      "Cartridge_name: Ms. Pac-Man (1982) (CCE)\n",
      "\n",
      "Running ROM file...\n",
      "Random seed is 0\n",
      "Game console created:\n",
      "  ROM file:  /home/d9w/.julia/packages/ArcadeLearningEnvironment/YJh2g/src/../deps/roms/ms_pacman.bin\n",
      "  Cart Name: Ms. Pac-Man (1982) (CCE)\n",
      "  Cart MD5:  9469d18238345d87768e8965f9f4a6b2\n",
      "  Display Format:  AUTO-DETECT ==> NTSC\n",
      "  ROM Size:        8192\n",
      "  Bankswitch Type: AUTO-DETECT ==> F8\n",
      "\n",
      "\n",
      "WARNING: Possibly unsupported ROM: mismatched MD5.\n",
      "Cartridge_MD5: 9469d18238345d87768e8965f9f4a6b2\n",
      "Cartridge_name: Ms. Pac-Man (1982) (CCE)\n",
      "\n",
      "Running ROM file...\n",
      "Random seed is 0\n",
      "Game console created:\n",
      "  ROM file:  /home/d9w/.julia/packages/ArcadeLearningEnvironment/YJh2g/src/../deps/roms/ms_pacman.bin\n",
      "  Cart Name: Ms. Pac-Man (1982) (CCE)\n",
      "  Cart MD5:  9469d18238345d87768e8965f9f4a6b2\n",
      "  Display Format:  AUTO-DETECT ==> NTSC\n",
      "  ROM Size:        8192\n",
      "  Bankswitch Type: AUTO-DETECT ==> F8\n",
      "\n",
      "\n",
      "WARNING: Possibly unsupported ROM: mismatched MD5.\n",
      "Cartridge_MD5: 9469d18238345d87768e8965f9f4a6b2\n",
      "Cartridge_name: Ms. Pac-Man (1982) (CCE)\n",
      "\n",
      "Running ROM file...\n",
      "Random seed is 0\n",
      "Game console created:\n",
      "  ROM file:  /home/d9w/.julia/packages/ArcadeLearningEnvironment/YJh2g/src/../deps/roms/ms_pacman.bin\n",
      "  Cart Name: Ms. Pac-Man (1982) (CCE)\n",
      "  Cart MD5:  9469d18238345d87768e8965f9f4a6b2\n",
      "  Display Format:  AUTO-DETECT ==> NTSC\n",
      "  ROM Size:        8192\n",
      "  Bankswitch Type: AUTO-DETECT ==> F8\n",
      "\n",
      "\n",
      "WARNING: Possibly unsupported ROM: mismatched MD5.\n",
      "Cartridge_MD5: 9469d18238345d87768e8965f9f4a6b2\n",
      "Cartridge_name: Ms. Pac-Man (1982) (CCE)\n",
      "\n",
      "Running ROM file...\n",
      "Random seed is 0\n",
      "Game console created:\n",
      "  ROM file:  /home/d9w/.julia/packages/ArcadeLearningEnvironment/YJh2g/src/../deps/roms/ms_pacman.bin\n",
      "  Cart Name: Ms. Pac-Man (1982) (CCE)\n",
      "  Cart MD5:  9469d18238345d87768e8965f9f4a6b2\n",
      "  Display Format:  AUTO-DETECT ==> NTSC\n",
      "  ROM Size:        8192\n",
      "  Bankswitch Type: AUTO-DETECT ==> F8\n",
      "\n",
      "\n",
      "WARNING: Possibly unsupported ROM: mismatched MD5.\n",
      "Cartridge_MD5: 9469d18238345d87768e8965f9f4a6b2\n",
      "Cartridge_name: Ms. Pac-Man (1982) (CCE)\n",
      "\n",
      "Running ROM file...\n",
      "Random seed is 0\n",
      "Game console created:\n",
      "  ROM file:  /home/d9w/.julia/packages/ArcadeLearningEnvironment/YJh2g/src/../deps/roms/ms_pacman.bin\n",
      "  Cart Name: Ms. Pac-Man (1982) (CCE)\n",
      "  Cart MD5:  9469d18238345d87768e8965f9f4a6b2\n",
      "  Display Format:  AUTO-DETECT ==> NTSC\n",
      "  ROM Size:        8192\n",
      "  Bankswitch Type: AUTO-DETECT ==> F8\n",
      "\n",
      "\n",
      "WARNING: Possibly unsupported ROM: mismatched MD5.\n",
      "Cartridge_MD5: 9469d18238345d87768e8965f9f4a6b2\n",
      "Cartridge_name: Ms. Pac-Man (1982) (CCE)\n",
      "\n",
      "Running ROM file...\n",
      "Random seed is 0\n",
      "Game console created:\n",
      "  ROM file:  /home/d9w/.julia/packages/ArcadeLearningEnvironment/YJh2g/src/../deps/roms/ms_pacman.bin\n",
      "  Cart Name: Ms. Pac-Man (1982) (CCE)\n",
      "  Cart MD5:  9469d18238345d87768e8965f9f4a6b2\n",
      "  Display Format:  AUTO-DETECT ==> NTSC\n",
      "  ROM Size:        8192\n",
      "  Bankswitch Type: AUTO-DETECT ==> F8\n",
      "\n",
      "\n",
      "WARNING: Possibly unsupported ROM: mismatched MD5.\n",
      "Cartridge_MD5: 9469d18238345d87768e8965f9f4a6b2\n",
      "Cartridge_name: Ms. Pac-Man (1982) (CCE)\n",
      "\n",
      "Running ROM file...\n",
      "Random seed is 0\n",
      "Game console created:\n",
      "  ROM file:  /home/d9w/.julia/packages/ArcadeLearningEnvironment/YJh2g/src/../deps/roms/ms_pacman.bin\n",
      "  Cart Name: Ms. Pac-Man (1982) (CCE)\n",
      "  Cart MD5:  9469d18238345d87768e8965f9f4a6b2\n",
      "  Display Format:  AUTO-DETECT ==> NTSC\n",
      "  ROM Size:        8192\n",
      "  Bankswitch Type: AUTO-DETECT ==> F8\n",
      "\n",
      "\n",
      "WARNING: Possibly unsupported ROM: mismatched MD5.\n",
      "Cartridge_MD5: 9469d18238345d87768e8965f9f4a6b2\n",
      "Cartridge_name: Ms. Pac-Man (1982) (CCE)\n",
      "\n",
      "Running ROM file...\n",
      "Random seed is 0\n",
      "Game console created:\n",
      "  ROM file:  /home/d9w/.julia/packages/ArcadeLearningEnvironment/YJh2g/src/../deps/roms/ms_pacman.bin\n",
      "  Cart Name: Ms. Pac-Man (1982) (CCE)\n",
      "  Cart MD5:  9469d18238345d87768e8965f9f4a6b2\n",
      "  Display Format:  AUTO-DETECT ==> NTSC\n",
      "  ROM Size:        8192\n",
      "  Bankswitch Type: AUTO-DETECT ==> F8\n",
      "\n",
      "\n",
      "WARNING: Possibly unsupported ROM: mismatched MD5.\n",
      "Cartridge_MD5: 9469d18238345d87768e8965f9f4a6b2\n",
      "Cartridge_name: Ms. Pac-Man (1982) (CCE)\n",
      "\n",
      "Running ROM file...\n",
      "Random seed is 0\n",
      "Game console created:\n",
      "  ROM file:  /home/d9w/.julia/packages/ArcadeLearningEnvironment/YJh2g/src/../deps/roms/ms_pacman.bin\n",
      "  Cart Name: Ms. Pac-Man (1982) (CCE)\n",
      "  Cart MD5:  9469d18238345d87768e8965f9f4a6b2\n",
      "  Display Format:  AUTO-DETECT ==> NTSC\n",
      "  ROM Size:        8192\n",
      "  Bankswitch Type: AUTO-DETECT ==> F8\n",
      "\n",
      "\n",
      "WARNING: Possibly unsupported ROM: mismatched MD5.\n",
      "Cartridge_MD5: 9469d18238345d87768e8965f9f4a6b2\n",
      "Cartridge_name: Ms. Pac-Man (1982) (CCE)\n",
      "\n",
      "Running ROM file...\n",
      "Random seed is 0\n"
     ]
    }
   ],
   "source": [
    "x, R, P = step(x, objective);"
   ]
  },
  {
   "cell_type": "markdown",
   "metadata": {
    "slideshow": {
     "slide_type": "slide"
    }
   },
   "source": [
    "Let's see what the best individual we found was. Note that this isn't our new $x$, its whichever individual we observed with the best fitness. $x$ should have moved in the direction of that individual's genes, but is also based on fitness values from the entire population."
   ]
  },
  {
   "cell_type": "code",
   "execution_count": 58,
   "metadata": {
    "scrolled": true,
    "slideshow": {
     "slide_type": "fragment"
    }
   },
   "outputs": [
    {
     "data": {
      "text/plain": [
       "(90.0, 1)"
      ]
     },
     "execution_count": 58,
     "metadata": {},
     "output_type": "execute_result"
    }
   ],
   "source": [
    "(maximum(R), argmax(R))"
   ]
  },
  {
   "cell_type": "markdown",
   "metadata": {
    "slideshow": {
     "slide_type": "slide"
    }
   },
   "source": [
    "We'll run this for 4 more generations, keeping track of the best individual each generation."
   ]
  },
  {
   "cell_type": "code",
   "execution_count": 59,
   "metadata": {
    "slideshow": {
     "slide_type": "fragment"
    }
   },
   "outputs": [
    {
     "data": {
      "text/plain": [
       "90.0"
      ]
     },
     "execution_count": 59,
     "metadata": {},
     "output_type": "execute_result"
    }
   ],
   "source": [
    "es_fits = []\n",
    "append!(es_fits, R)\n",
    "best_ind = P[argmax(R), :]\n",
    "best_fit = maximum(R)"
   ]
  },
  {
   "cell_type": "code",
   "execution_count": 60,
   "metadata": {
    "slideshow": {
     "slide_type": "fragment"
    }
   },
   "outputs": [
    {
     "name": "stdout",
     "output_type": "stream",
     "text": [
      "280.040\n",
      "280.0"
     ]
    },
    {
     "name": "stderr",
     "output_type": "stream",
     "text": [
      "Game console created:\n",
      "  ROM file:  /home/d9w/.julia/packages/ArcadeLearningEnvironment/YJh2g/src/../deps/roms/ms_pacman.bin\n",
      "  Cart Name: Ms. Pac-Man (1982) (CCE)\n",
      "  Cart MD5:  9469d18238345d87768e8965f9f4a6b2\n",
      "  Display Format:  AUTO-DETECT ==> NTSC\n",
      "  ROM Size:        8192\n",
      "  Bankswitch Type: AUTO-DETECT ==> F8\n",
      "\n",
      "\n",
      "WARNING: Possibly unsupported ROM: mismatched MD5.\n",
      "Cartridge_MD5: 9469d18238345d87768e8965f9f4a6b2\n",
      "Cartridge_name: Ms. Pac-Man (1982) (CCE)\n",
      "\n",
      "Running ROM file...\n",
      "Random seed is 0\n",
      "Game console created:\n",
      "  ROM file:  /home/d9w/.julia/packages/ArcadeLearningEnvironment/YJh2g/src/../deps/roms/ms_pacman.bin\n",
      "  Cart Name: Ms. Pac-Man (1982) (CCE)\n",
      "  Cart MD5:  9469d18238345d87768e8965f9f4a6b2\n",
      "  Display Format:  AUTO-DETECT ==> NTSC\n",
      "  ROM Size:        8192\n",
      "  Bankswitch Type: AUTO-DETECT ==> F8\n",
      "\n",
      "\n",
      "WARNING: Possibly unsupported ROM: mismatched MD5.\n",
      "Cartridge_MD5: 9469d18238345d87768e8965f9f4a6b2\n",
      "Cartridge_name: Ms. Pac-Man (1982) (CCE)\n",
      "\n",
      "Running ROM file...\n",
      "Random seed is 0\n",
      "Game console created:\n",
      "  ROM file:  /home/d9w/.julia/packages/ArcadeLearningEnvironment/YJh2g/src/../deps/roms/ms_pacman.bin\n",
      "  Cart Name: Ms. Pac-Man (1982) (CCE)\n",
      "  Cart MD5:  9469d18238345d87768e8965f9f4a6b2\n",
      "  Display Format:  AUTO-DETECT ==> NTSC\n",
      "  ROM Size:        8192\n",
      "  Bankswitch Type: AUTO-DETECT ==> F8\n",
      "\n",
      "\n",
      "WARNING: Possibly unsupported ROM: mismatched MD5.\n",
      "Cartridge_MD5: 9469d18238345d87768e8965f9f4a6b2\n",
      "Cartridge_name: Ms. Pac-Man (1982) (CCE)\n",
      "\n",
      "Running ROM file...\n",
      "Random seed is 0\n",
      "Game console created:\n",
      "  ROM file:  /home/d9w/.julia/packages/ArcadeLearningEnvironment/YJh2g/src/../deps/roms/ms_pacman.bin\n",
      "  Cart Name: Ms. Pac-Man (1982) (CCE)\n",
      "  Cart MD5:  9469d18238345d87768e8965f9f4a6b2\n",
      "  Display Format:  AUTO-DETECT ==> NTSC\n",
      "  ROM Size:        8192\n",
      "  Bankswitch Type: AUTO-DETECT ==> F8\n",
      "\n",
      "\n",
      "WARNING: Possibly unsupported ROM: mismatched MD5.\n",
      "Cartridge_MD5: 9469d18238345d87768e8965f9f4a6b2\n",
      "Cartridge_name: Ms. Pac-Man (1982) (CCE)\n",
      "\n",
      "Running ROM file...\n",
      "Random seed is 0\n",
      "Game console created:\n",
      "  ROM file:  /home/d9w/.julia/packages/ArcadeLearningEnvironment/YJh2g/src/../deps/roms/ms_pacman.bin\n",
      "  Cart Name: Ms. Pac-Man (1982) (CCE)\n",
      "  Cart MD5:  9469d18238345d87768e8965f9f4a6b2\n",
      "  Display Format:  AUTO-DETECT ==> NTSC\n",
      "  ROM Size:        8192\n",
      "  Bankswitch Type: AUTO-DETECT ==> F8\n",
      "\n",
      "\n",
      "WARNING: Possibly unsupported ROM: mismatched MD5.\n",
      "Cartridge_MD5: 9469d18238345d87768e8965f9f4a6b2\n",
      "Cartridge_name: Ms. Pac-Man (1982) (CCE)\n",
      "\n",
      "Running ROM file...\n",
      "Random seed is 0\n",
      "Game console created:\n",
      "  ROM file:  /home/d9w/.julia/packages/ArcadeLearningEnvironment/YJh2g/src/../deps/roms/ms_pacman.bin\n",
      "  Cart Name: Ms. Pac-Man (1982) (CCE)\n",
      "  Cart MD5:  9469d18238345d87768e8965f9f4a6b2\n",
      "  Display Format:  AUTO-DETECT ==> NTSC\n",
      "  ROM Size:        8192\n",
      "  Bankswitch Type: AUTO-DETECT ==> F8\n",
      "\n",
      "\n",
      "WARNING: Possibly unsupported ROM: mismatched MD5.\n",
      "Cartridge_MD5: 9469d18238345d87768e8965f9f4a6b2\n",
      "Cartridge_name: Ms. Pac-Man (1982) (CCE)\n",
      "\n",
      "Running ROM file...\n",
      "Random seed is 0\n",
      "Game console created:\n",
      "  ROM file:  /home/d9w/.julia/packages/ArcadeLearningEnvironment/YJh2g/src/../deps/roms/ms_pacman.bin\n",
      "  Cart Name: Ms. Pac-Man (1982) (CCE)\n",
      "  Cart MD5:  9469d18238345d87768e8965f9f4a6b2\n",
      "  Display Format:  AUTO-DETECT ==> NTSC\n",
      "  ROM Size:        8192\n",
      "  Bankswitch Type: AUTO-DETECT ==> F8\n",
      "\n",
      "\n",
      "WARNING: Possibly unsupported ROM: mismatched MD5.\n",
      "Cartridge_MD5: 9469d18238345d87768e8965f9f4a6b2\n",
      "Cartridge_name: Ms. Pac-Man (1982) (CCE)\n",
      "\n",
      "Running ROM file...\n",
      "Random seed is 0\n",
      "Game console created:\n",
      "  ROM file:  /home/d9w/.julia/packages/ArcadeLearningEnvironment/YJh2g/src/../deps/roms/ms_pacman.bin\n",
      "  Cart Name: Ms. Pac-Man (1982) (CCE)\n",
      "  Cart MD5:  9469d18238345d87768e8965f9f4a6b2\n",
      "  Display Format:  AUTO-DETECT ==> NTSC\n",
      "  ROM Size:        8192\n",
      "  Bankswitch Type: AUTO-DETECT ==> F8\n",
      "\n",
      "\n",
      "WARNING: Possibly unsupported ROM: mismatched MD5.\n",
      "Cartridge_MD5: 9469d18238345d87768e8965f9f4a6b2\n",
      "Cartridge_name: Ms. Pac-Man (1982) (CCE)\n",
      "\n",
      "Running ROM file...\n",
      "Random seed is 0\n",
      "Game console created:\n",
      "  ROM file:  /home/d9w/.julia/packages/ArcadeLearningEnvironment/YJh2g/src/../deps/roms/ms_pacman.bin\n",
      "  Cart Name: Ms. Pac-Man (1982) (CCE)\n",
      "  Cart MD5:  9469d18238345d87768e8965f9f4a6b2\n",
      "  Display Format:  AUTO-DETECT ==> NTSC\n",
      "  ROM Size:        8192\n",
      "  Bankswitch Type: AUTO-DETECT ==> F8\n",
      "\n",
      "\n",
      "WARNING: Possibly unsupported ROM: mismatched MD5.\n",
      "Cartridge_MD5: 9469d18238345d87768e8965f9f4a6b2\n",
      "Cartridge_name: Ms. Pac-Man (1982) (CCE)\n",
      "\n",
      "Running ROM file...\n",
      "Random seed is 0\n",
      "Game console created:\n",
      "  ROM file:  /home/d9w/.julia/packages/ArcadeLearningEnvironment/YJh2g/src/../deps/roms/ms_pacman.bin\n",
      "  Cart Name: Ms. Pac-Man (1982) (CCE)\n",
      "  Cart MD5:  9469d18238345d87768e8965f9f4a6b2\n",
      "  Display Format:  AUTO-DETECT ==> NTSC\n",
      "  ROM Size:        8192\n",
      "  Bankswitch Type: AUTO-DETECT ==> F8\n",
      "\n",
      "\n",
      "WARNING: Possibly unsupported ROM: mismatched MD5.\n",
      "Cartridge_MD5: 9469d18238345d87768e8965f9f4a6b2\n",
      "Cartridge_name: Ms. Pac-Man (1982) (CCE)\n",
      "\n",
      "Running ROM file...\n",
      "Random seed is 0\n",
      "Game console created:\n",
      "  ROM file:  /home/d9w/.julia/packages/ArcadeLearningEnvironment/YJh2g/src/../deps/roms/ms_pacman.bin\n",
      "  Cart Name: Ms. Pac-Man (1982) (CCE)\n",
      "  Cart MD5:  9469d18238345d87768e8965f9f4a6b2\n",
      "  Display Format:  AUTO-DETECT ==> NTSC\n",
      "  ROM Size:        8192\n",
      "  Bankswitch Type: AUTO-DETECT ==> F8\n",
      "\n",
      "\n",
      "WARNING: Possibly unsupported ROM: mismatched MD5.\n",
      "Cartridge_MD5: 9469d18238345d87768e8965f9f4a6b2\n",
      "Cartridge_name: Ms. Pac-Man (1982) (CCE)\n",
      "\n",
      "Running ROM file...\n",
      "Random seed is 0\n",
      "Game console created:\n",
      "  ROM file:  /home/d9w/.julia/packages/ArcadeLearningEnvironment/YJh2g/src/../deps/roms/ms_pacman.bin\n",
      "  Cart Name: Ms. Pac-Man (1982) (CCE)\n",
      "  Cart MD5:  9469d18238345d87768e8965f9f4a6b2\n",
      "  Display Format:  AUTO-DETECT ==> NTSC\n",
      "  ROM Size:        8192\n",
      "  Bankswitch Type: AUTO-DETECT ==> F8\n",
      "\n",
      "\n",
      "WARNING: Possibly unsupported ROM: mismatched MD5.\n",
      "Cartridge_MD5: 9469d18238345d87768e8965f9f4a6b2\n",
      "Cartridge_name: Ms. Pac-Man (1982) (CCE)\n",
      "\n",
      "Running ROM file...\n",
      "Random seed is 0\n",
      "Game console created:\n",
      "  ROM file:  /home/d9w/.julia/packages/ArcadeLearningEnvironment/YJh2g/src/../deps/roms/ms_pacman.bin\n",
      "  Cart Name: Ms. Pac-Man (1982) (CCE)\n",
      "  Cart MD5:  9469d18238345d87768e8965f9f4a6b2\n",
      "  Display Format:  AUTO-DETECT ==> NTSC\n",
      "  ROM Size:        8192\n",
      "  Bankswitch Type: AUTO-DETECT ==> F8\n",
      "\n",
      "\n",
      "WARNING: Possibly unsupported ROM: mismatched MD5.\n",
      "Cartridge_MD5: 9469d18238345d87768e8965f9f4a6b2\n",
      "Cartridge_name: Ms. Pac-Man (1982) (CCE)\n",
      "\n",
      "Running ROM file...\n",
      "Random seed is 0\n",
      "Game console created:\n",
      "  ROM file:  /home/d9w/.julia/packages/ArcadeLearningEnvironment/YJh2g/src/../deps/roms/ms_pacman.bin\n",
      "  Cart Name: Ms. Pac-Man (1982) (CCE)\n",
      "  Cart MD5:  9469d18238345d87768e8965f9f4a6b2\n",
      "  Display Format:  AUTO-DETECT ==> NTSC\n",
      "  ROM Size:        8192\n",
      "  Bankswitch Type: AUTO-DETECT ==> F8\n",
      "\n",
      "\n",
      "WARNING: Possibly unsupported ROM: mismatched MD5.\n",
      "Cartridge_MD5: 9469d18238345d87768e8965f9f4a6b2\n",
      "Cartridge_name: Ms. Pac-Man (1982) (CCE)\n",
      "\n",
      "Running ROM file...\n",
      "Random seed is 0\n",
      "Game console created:\n",
      "  ROM file:  /home/d9w/.julia/packages/ArcadeLearningEnvironment/YJh2g/src/../deps/roms/ms_pacman.bin\n",
      "  Cart Name: Ms. Pac-Man (1982) (CCE)\n",
      "  Cart MD5:  9469d18238345d87768e8965f9f4a6b2\n",
      "  Display Format:  AUTO-DETECT ==> NTSC\n",
      "  ROM Size:        8192\n",
      "  Bankswitch Type: AUTO-DETECT ==> F8\n",
      "\n",
      "\n",
      "WARNING: Possibly unsupported ROM: mismatched MD5.\n",
      "Cartridge_MD5: 9469d18238345d87768e8965f9f4a6b2\n",
      "Cartridge_name: Ms. Pac-Man (1982) (CCE)\n",
      "\n",
      "Running ROM file...\n",
      "Random seed is 0\n",
      "Game console created:\n",
      "  ROM file:  /home/d9w/.julia/packages/ArcadeLearningEnvironment/YJh2g/src/../deps/roms/ms_pacman.bin\n",
      "  Cart Name: Ms. Pac-Man (1982) (CCE)\n",
      "  Cart MD5:  9469d18238345d87768e8965f9f4a6b2\n",
      "  Display Format:  AUTO-DETECT ==> NTSC\n",
      "  ROM Size:        8192\n",
      "  Bankswitch Type: AUTO-DETECT ==> F8\n",
      "\n",
      "\n",
      "WARNING: Possibly unsupported ROM: mismatched MD5.\n",
      "Cartridge_MD5: 9469d18238345d87768e8965f9f4a6b2\n",
      "Cartridge_name: Ms. Pac-Man (1982) (CCE)\n",
      "\n",
      "Running ROM file...\n",
      "Random seed is 0\n",
      "Game console created:\n",
      "  ROM file:  /home/d9w/.julia/packages/ArcadeLearningEnvironment/YJh2g/src/../deps/roms/ms_pacman.bin\n",
      "  Cart Name: Ms. Pac-Man (1982) (CCE)\n",
      "  Cart MD5:  9469d18238345d87768e8965f9f4a6b2\n",
      "  Display Format:  AUTO-DETECT ==> NTSC\n",
      "  ROM Size:        8192\n",
      "  Bankswitch Type: AUTO-DETECT ==> F8\n",
      "\n",
      "\n",
      "WARNING: Possibly unsupported ROM: mismatched MD5.\n",
      "Cartridge_MD5: 9469d18238345d87768e8965f9f4a6b2\n",
      "Cartridge_name: Ms. Pac-Man (1982) (CCE)\n",
      "\n",
      "Running ROM file...\n",
      "Random seed is 0\n",
      "Game console created:\n",
      "  ROM file:  /home/d9w/.julia/packages/ArcadeLearningEnvironment/YJh2g/src/../deps/roms/ms_pacman.bin\n",
      "  Cart Name: Ms. Pac-Man (1982) (CCE)\n",
      "  Cart MD5:  9469d18238345d87768e8965f9f4a6b2\n",
      "  Display Format:  AUTO-DETECT ==> NTSC\n",
      "  ROM Size:        8192\n",
      "  Bankswitch Type: AUTO-DETECT ==> F8\n",
      "\n",
      "\n",
      "WARNING: Possibly unsupported ROM: mismatched MD5.\n",
      "Cartridge_MD5: 9469d18238345d87768e8965f9f4a6b2\n",
      "Cartridge_name: Ms. Pac-Man (1982) (CCE)\n",
      "\n",
      "Running ROM file...\n",
      "Random seed is 0\n",
      "Game console created:\n",
      "  ROM file:  /home/d9w/.julia/packages/ArcadeLearningEnvironment/YJh2g/src/../deps/roms/ms_pacman.bin\n",
      "  Cart Name: Ms. Pac-Man (1982) (CCE)\n",
      "  Cart MD5:  9469d18238345d87768e8965f9f4a6b2\n",
      "  Display Format:  AUTO-DETECT ==> NTSC\n",
      "  ROM Size:        8192\n",
      "  Bankswitch Type: AUTO-DETECT ==> F8\n",
      "\n",
      "\n",
      "WARNING: Possibly unsupported ROM: mismatched MD5.\n",
      "Cartridge_MD5: 9469d18238345d87768e8965f9f4a6b2\n",
      "Cartridge_name: Ms. Pac-Man (1982) (CCE)\n",
      "\n",
      "Running ROM file...\n",
      "Random seed is 0\n",
      "Game console created:\n",
      "  ROM file:  /home/d9w/.julia/packages/ArcadeLearningEnvironment/YJh2g/src/../deps/roms/ms_pacman.bin\n",
      "  Cart Name: Ms. Pac-Man (1982) (CCE)\n",
      "  Cart MD5:  9469d18238345d87768e8965f9f4a6b2\n",
      "  Display Format:  AUTO-DETECT ==> NTSC\n",
      "  ROM Size:        8192\n",
      "  Bankswitch Type: AUTO-DETECT ==> F8\n",
      "\n",
      "\n",
      "WARNING: Possibly unsupported ROM: mismatched MD5.\n",
      "Cartridge_MD5: 9469d18238345d87768e8965f9f4a6b2\n",
      "Cartridge_name: Ms. Pac-Man (1982) (CCE)\n",
      "\n",
      "Running ROM file...\n",
      "Random seed is 0\n"
     ]
    },
    {
     "name": "stdout",
     "output_type": "stream",
     "text": [
      "60\n"
     ]
    },
    {
     "name": "stderr",
     "output_type": "stream",
     "text": [
      "Game console created:\n",
      "  ROM file:  /home/d9w/.julia/packages/ArcadeLearningEnvironment/YJh2g/src/../deps/roms/ms_pacman.bin\n",
      "  Cart Name: Ms. Pac-Man (1982) (CCE)\n",
      "  Cart MD5:  9469d18238345d87768e8965f9f4a6b2\n",
      "  Display Format:  AUTO-DETECT ==> NTSC\n",
      "  ROM Size:        8192\n",
      "  Bankswitch Type: AUTO-DETECT ==> F8\n",
      "\n",
      "\n",
      "WARNING: Possibly unsupported ROM: mismatched MD5.\n",
      "Cartridge_MD5: 9469d18238345d87768e8965f9f4a6b2\n",
      "Cartridge_name: Ms. Pac-Man (1982) (CCE)\n",
      "\n",
      "Running ROM file...\n",
      "Random seed is 0\n",
      "Game console created:\n",
      "  ROM file:  /home/d9w/.julia/packages/ArcadeLearningEnvironment/YJh2g/src/../deps/roms/ms_pacman.bin\n",
      "  Cart Name: Ms. Pac-Man (1982) (CCE)\n",
      "  Cart MD5:  9469d18238345d87768e8965f9f4a6b2\n",
      "  Display Format:  AUTO-DETECT ==> NTSC\n",
      "  ROM Size:        8192\n",
      "  Bankswitch Type: AUTO-DETECT ==> F8\n",
      "\n",
      "\n",
      "WARNING: Possibly unsupported ROM: mismatched MD5.\n",
      "Cartridge_MD5: 9469d18238345d87768e8965f9f4a6b2\n",
      "Cartridge_name: Ms. Pac-Man (1982) (CCE)\n",
      "\n",
      "Running ROM file...\n",
      "Random seed is 0\n",
      "Game console created:\n",
      "  ROM file:  /home/d9w/.julia/packages/ArcadeLearningEnvironment/YJh2g/src/../deps/roms/ms_pacman.bin\n",
      "  Cart Name: Ms. Pac-Man (1982) (CCE)\n",
      "  Cart MD5:  9469d18238345d87768e8965f9f4a6b2\n",
      "  Display Format:  AUTO-DETECT ==> NTSC\n",
      "  ROM Size:        8192\n",
      "  Bankswitch Type: AUTO-DETECT ==> F8\n",
      "\n",
      "\n",
      "WARNING: Possibly unsupported ROM: mismatched MD5.\n",
      "Cartridge_MD5: 9469d18238345d87768e8965f9f4a6b2\n",
      "Cartridge_name: Ms. Pac-Man (1982) (CCE)\n",
      "\n",
      "Running ROM file...\n",
      "Random seed is 0\n",
      "Game console created:\n",
      "  ROM file:  /home/d9w/.julia/packages/ArcadeLearningEnvironment/YJh2g/src/../deps/roms/ms_pacman.bin\n",
      "  Cart Name: Ms. Pac-Man (1982) (CCE)\n",
      "  Cart MD5:  9469d18238345d87768e8965f9f4a6b2\n",
      "  Display Format:  AUTO-DETECT ==> NTSC\n",
      "  ROM Size:        8192\n",
      "  Bankswitch Type: AUTO-DETECT ==> F8\n",
      "\n",
      "\n",
      "WARNING: Possibly unsupported ROM: mismatched MD5.\n",
      "Cartridge_MD5: 9469d18238345d87768e8965f9f4a6b2\n",
      "Cartridge_name: Ms. Pac-Man (1982) (CCE)\n",
      "\n",
      "Running ROM file...\n",
      "Random seed is 0\n",
      "Game console created:\n",
      "  ROM file:  /home/d9w/.julia/packages/ArcadeLearningEnvironment/YJh2g/src/../deps/roms/ms_pacman.bin\n",
      "  Cart Name: Ms. Pac-Man (1982) (CCE)\n",
      "  Cart MD5:  9469d18238345d87768e8965f9f4a6b2\n",
      "  Display Format:  AUTO-DETECT ==> NTSC\n",
      "  ROM Size:        8192\n",
      "  Bankswitch Type: AUTO-DETECT ==> F8\n",
      "\n",
      "\n",
      "WARNING: Possibly unsupported ROM: mismatched MD5.\n",
      "Cartridge_MD5: 9469d18238345d87768e8965f9f4a6b2\n",
      "Cartridge_name: Ms. Pac-Man (1982) (CCE)\n",
      "\n",
      "Running ROM file...\n",
      "Random seed is 0\n",
      "Game console created:\n",
      "  ROM file:  /home/d9w/.julia/packages/ArcadeLearningEnvironment/YJh2g/src/../deps/roms/ms_pacman.bin\n",
      "  Cart Name: Ms. Pac-Man (1982) (CCE)\n",
      "  Cart MD5:  9469d18238345d87768e8965f9f4a6b2\n",
      "  Display Format:  AUTO-DETECT ==> NTSC\n",
      "  ROM Size:        8192\n",
      "  Bankswitch Type: AUTO-DETECT ==> F8\n",
      "\n",
      "\n",
      "WARNING: Possibly unsupported ROM: mismatched MD5.\n",
      "Cartridge_MD5: 9469d18238345d87768e8965f9f4a6b2\n",
      "Cartridge_name: Ms. Pac-Man (1982) (CCE)\n",
      "\n",
      "Running ROM file...\n",
      "Random seed is 0\n",
      "Game console created:\n",
      "  ROM file:  /home/d9w/.julia/packages/ArcadeLearningEnvironment/YJh2g/src/../deps/roms/ms_pacman.bin\n",
      "  Cart Name: Ms. Pac-Man (1982) (CCE)\n",
      "  Cart MD5:  9469d18238345d87768e8965f9f4a6b2\n",
      "  Display Format:  AUTO-DETECT ==> NTSC\n",
      "  ROM Size:        8192\n",
      "  Bankswitch Type: AUTO-DETECT ==> F8\n",
      "\n",
      "\n",
      "WARNING: Possibly unsupported ROM: mismatched MD5.\n",
      "Cartridge_MD5: 9469d18238345d87768e8965f9f4a6b2\n",
      "Cartridge_name: Ms. Pac-Man (1982) (CCE)\n",
      "\n",
      "Running ROM file...\n",
      "Random seed is 0\n",
      "Game console created:\n",
      "  ROM file:  /home/d9w/.julia/packages/ArcadeLearningEnvironment/YJh2g/src/../deps/roms/ms_pacman.bin\n",
      "  Cart Name: Ms. Pac-Man (1982) (CCE)\n",
      "  Cart MD5:  9469d18238345d87768e8965f9f4a6b2\n",
      "  Display Format:  AUTO-DETECT ==> NTSC\n",
      "  ROM Size:        8192\n",
      "  Bankswitch Type: AUTO-DETECT ==> F8\n",
      "\n",
      "\n",
      "WARNING: Possibly unsupported ROM: mismatched MD5.\n",
      "Cartridge_MD5: 9469d18238345d87768e8965f9f4a6b2\n",
      "Cartridge_name: Ms. Pac-Man (1982) (CCE)\n",
      "\n",
      "Running ROM file...\n",
      "Random seed is 0\n",
      "Game console created:\n",
      "  ROM file:  /home/d9w/.julia/packages/ArcadeLearningEnvironment/YJh2g/src/../deps/roms/ms_pacman.bin\n",
      "  Cart Name: Ms. Pac-Man (1982) (CCE)\n",
      "  Cart MD5:  9469d18238345d87768e8965f9f4a6b2\n",
      "  Display Format:  AUTO-DETECT ==> NTSC\n",
      "  ROM Size:        8192\n",
      "  Bankswitch Type: AUTO-DETECT ==> F8\n",
      "\n",
      "\n",
      "WARNING: Possibly unsupported ROM: mismatched MD5.\n",
      "Cartridge_MD5: 9469d18238345d87768e8965f9f4a6b2\n",
      "Cartridge_name: Ms. Pac-Man (1982) (CCE)\n",
      "\n",
      "Running ROM file...\n",
      "Random seed is 0\n",
      "Game console created:\n",
      "  ROM file:  /home/d9w/.julia/packages/ArcadeLearningEnvironment/YJh2g/src/../deps/roms/ms_pacman.bin\n",
      "  Cart Name: Ms. Pac-Man (1982) (CCE)\n",
      "  Cart MD5:  9469d18238345d87768e8965f9f4a6b2\n",
      "  Display Format:  AUTO-DETECT ==> NTSC\n",
      "  ROM Size:        8192\n",
      "  Bankswitch Type: AUTO-DETECT ==> F8\n",
      "\n",
      "\n",
      "WARNING: Possibly unsupported ROM: mismatched MD5.\n",
      "Cartridge_MD5: 9469d18238345d87768e8965f9f4a6b2\n",
      "Cartridge_name: Ms. Pac-Man (1982) (CCE)\n",
      "\n",
      "Running ROM file...\n",
      "Random seed is 0\n",
      "Game console created:\n",
      "  ROM file:  /home/d9w/.julia/packages/ArcadeLearningEnvironment/YJh2g/src/../deps/roms/ms_pacman.bin\n",
      "  Cart Name: Ms. Pac-Man (1982) (CCE)\n",
      "  Cart MD5:  9469d18238345d87768e8965f9f4a6b2\n",
      "  Display Format:  AUTO-DETECT ==> NTSC\n",
      "  ROM Size:        8192\n",
      "  Bankswitch Type: AUTO-DETECT ==> F8\n",
      "\n",
      "\n",
      "WARNING: Possibly unsupported ROM: mismatched MD5.\n",
      "Cartridge_MD5: 9469d18238345d87768e8965f9f4a6b2\n",
      "Cartridge_name: Ms. Pac-Man (1982) (CCE)\n",
      "\n",
      "Running ROM file...\n",
      "Random seed is 0\n",
      "Game console created:\n",
      "  ROM file:  /home/d9w/.julia/packages/ArcadeLearningEnvironment/YJh2g/src/../deps/roms/ms_pacman.bin\n",
      "  Cart Name: Ms. Pac-Man (1982) (CCE)\n",
      "  Cart MD5:  9469d18238345d87768e8965f9f4a6b2\n",
      "  Display Format:  AUTO-DETECT ==> NTSC\n",
      "  ROM Size:        8192\n",
      "  Bankswitch Type: AUTO-DETECT ==> F8\n",
      "\n",
      "\n",
      "WARNING: Possibly unsupported ROM: mismatched MD5.\n",
      "Cartridge_MD5: 9469d18238345d87768e8965f9f4a6b2\n",
      "Cartridge_name: Ms. Pac-Man (1982) (CCE)\n",
      "\n",
      "Running ROM file...\n",
      "Random seed is 0\n",
      "Game console created:\n",
      "  ROM file:  /home/d9w/.julia/packages/ArcadeLearningEnvironment/YJh2g/src/../deps/roms/ms_pacman.bin\n",
      "  Cart Name: Ms. Pac-Man (1982) (CCE)\n",
      "  Cart MD5:  9469d18238345d87768e8965f9f4a6b2\n",
      "  Display Format:  AUTO-DETECT ==> NTSC\n",
      "  ROM Size:        8192\n",
      "  Bankswitch Type: AUTO-DETECT ==> F8\n",
      "\n",
      "\n",
      "WARNING: Possibly unsupported ROM: mismatched MD5.\n",
      "Cartridge_MD5: 9469d18238345d87768e8965f9f4a6b2\n",
      "Cartridge_name: Ms. Pac-Man (1982) (CCE)\n",
      "\n",
      "Running ROM file...\n",
      "Random seed is 0\n",
      "Game console created:\n",
      "  ROM file:  /home/d9w/.julia/packages/ArcadeLearningEnvironment/YJh2g/src/../deps/roms/ms_pacman.bin\n",
      "  Cart Name: Ms. Pac-Man (1982) (CCE)\n",
      "  Cart MD5:  9469d18238345d87768e8965f9f4a6b2\n",
      "  Display Format:  AUTO-DETECT ==> NTSC\n",
      "  ROM Size:        8192\n",
      "  Bankswitch Type: AUTO-DETECT ==> F8\n",
      "\n",
      "\n",
      "WARNING: Possibly unsupported ROM: mismatched MD5.\n",
      "Cartridge_MD5: 9469d18238345d87768e8965f9f4a6b2\n",
      "Cartridge_name: Ms. Pac-Man (1982) (CCE)\n",
      "\n",
      "Running ROM file...\n",
      "Random seed is 0\n",
      "Game console created:\n",
      "  ROM file:  /home/d9w/.julia/packages/ArcadeLearningEnvironment/YJh2g/src/../deps/roms/ms_pacman.bin\n",
      "  Cart Name: Ms. Pac-Man (1982) (CCE)\n",
      "  Cart MD5:  9469d18238345d87768e8965f9f4a6b2\n",
      "  Display Format:  AUTO-DETECT ==> NTSC\n",
      "  ROM Size:        8192\n",
      "  Bankswitch Type: AUTO-DETECT ==> F8\n",
      "\n",
      "\n",
      "WARNING: Possibly unsupported ROM: mismatched MD5.\n",
      "Cartridge_MD5: 9469d18238345d87768e8965f9f4a6b2\n",
      "Cartridge_name: Ms. Pac-Man (1982) (CCE)\n",
      "\n",
      "Running ROM file...\n",
      "Random seed is 0\n",
      "Game console created:\n",
      "  ROM file:  /home/d9w/.julia/packages/ArcadeLearningEnvironment/YJh2g/src/../deps/roms/ms_pacman.bin\n",
      "  Cart Name: Ms. Pac-Man (1982) (CCE)\n",
      "  Cart MD5:  9469d18238345d87768e8965f9f4a6b2\n",
      "  Display Format:  AUTO-DETECT ==> NTSC\n",
      "  ROM Size:        8192\n",
      "  Bankswitch Type: AUTO-DETECT ==> F8\n",
      "\n",
      "\n",
      "WARNING: Possibly unsupported ROM: mismatched MD5.\n",
      "Cartridge_MD5: 9469d18238345d87768e8965f9f4a6b2\n",
      "Cartridge_name: Ms. Pac-Man (1982) (CCE)\n",
      "\n",
      "Running ROM file...\n",
      "Random seed is 0\n",
      "Game console created:\n",
      "  ROM file:  /home/d9w/.julia/packages/ArcadeLearningEnvironment/YJh2g/src/../deps/roms/ms_pacman.bin\n",
      "  Cart Name: Ms. Pac-Man (1982) (CCE)\n",
      "  Cart MD5:  9469d18238345d87768e8965f9f4a6b2\n",
      "  Display Format:  AUTO-DETECT ==> NTSC\n",
      "  ROM Size:        8192\n",
      "  Bankswitch Type: AUTO-DETECT ==> F8\n",
      "\n",
      "\n",
      "WARNING: Possibly unsupported ROM: mismatched MD5.\n",
      "Cartridge_MD5: 9469d18238345d87768e8965f9f4a6b2\n",
      "Cartridge_name: Ms. Pac-Man (1982) (CCE)\n",
      "\n",
      "Running ROM file...\n",
      "Random seed is 0\n",
      "Game console created:\n",
      "  ROM file:  /home/d9w/.julia/packages/ArcadeLearningEnvironment/YJh2g/src/../deps/roms/ms_pacman.bin\n",
      "  Cart Name: Ms. Pac-Man (1982) (CCE)\n",
      "  Cart MD5:  9469d18238345d87768e8965f9f4a6b2\n",
      "  Display Format:  AUTO-DETECT ==> NTSC\n",
      "  ROM Size:        8192\n",
      "  Bankswitch Type: AUTO-DETECT ==> F8\n",
      "\n",
      "\n",
      "WARNING: Possibly unsupported ROM: mismatched MD5.\n",
      "Cartridge_MD5: 9469d18238345d87768e8965f9f4a6b2\n",
      "Cartridge_name: Ms. Pac-Man (1982) (CCE)\n",
      "\n",
      "Running ROM file...\n",
      "Random seed is 0\n",
      "Game console created:\n",
      "  ROM file:  /home/d9w/.julia/packages/ArcadeLearningEnvironment/YJh2g/src/../deps/roms/ms_pacman.bin\n",
      "  Cart Name: Ms. Pac-Man (1982) (CCE)\n",
      "  Cart MD5:  9469d18238345d87768e8965f9f4a6b2\n",
      "  Display Format:  AUTO-DETECT ==> NTSC\n",
      "  ROM Size:        8192\n",
      "  Bankswitch Type: AUTO-DETECT ==> F8\n",
      "\n",
      "\n",
      "WARNING: Possibly unsupported ROM: mismatched MD5.\n",
      "Cartridge_MD5: 9469d18238345d87768e8965f9f4a6b2\n",
      "Cartridge_name: Ms. Pac-Man (1982) (CCE)\n",
      "\n",
      "Running ROM file...\n",
      "Random seed is 0\n",
      "Game console created:\n",
      "  ROM file:  /home/d9w/.julia/packages/ArcadeLearningEnvironment/YJh2g/src/../deps/roms/ms_pacman.bin\n",
      "  Cart Name: Ms. Pac-Man (1982) (CCE)\n",
      "  Cart MD5:  9469d18238345d87768e8965f9f4a6b2\n",
      "  Display Format:  AUTO-DETECT ==> NTSC\n",
      "  ROM Size:        8192\n",
      "  Bankswitch Type: AUTO-DETECT ==> F8\n",
      "\n",
      "\n",
      "WARNING: Possibly unsupported ROM: mismatched MD5.\n",
      "Cartridge_MD5: 9469d18238345d87768e8965f9f4a6b2\n",
      "Cartridge_name: Ms. Pac-Man (1982) (CCE)\n",
      "\n",
      "Running ROM file...\n",
      "Random seed is 0\n"
     ]
    },
    {
     "name": "stdout",
     "output_type": "stream",
     "text": [
      "280.080\n",
      "280.0"
     ]
    },
    {
     "name": "stderr",
     "output_type": "stream",
     "text": [
      "Game console created:\n",
      "  ROM file:  /home/d9w/.julia/packages/ArcadeLearningEnvironment/YJh2g/src/../deps/roms/ms_pacman.bin\n",
      "  Cart Name: Ms. Pac-Man (1982) (CCE)\n",
      "  Cart MD5:  9469d18238345d87768e8965f9f4a6b2\n",
      "  Display Format:  AUTO-DETECT ==> NTSC\n",
      "  ROM Size:        8192\n",
      "  Bankswitch Type: AUTO-DETECT ==> F8\n",
      "\n",
      "\n",
      "WARNING: Possibly unsupported ROM: mismatched MD5.\n",
      "Cartridge_MD5: 9469d18238345d87768e8965f9f4a6b2\n",
      "Cartridge_name: Ms. Pac-Man (1982) (CCE)\n",
      "\n",
      "Running ROM file...\n",
      "Random seed is 0\n",
      "Game console created:\n",
      "  ROM file:  /home/d9w/.julia/packages/ArcadeLearningEnvironment/YJh2g/src/../deps/roms/ms_pacman.bin\n",
      "  Cart Name: Ms. Pac-Man (1982) (CCE)\n",
      "  Cart MD5:  9469d18238345d87768e8965f9f4a6b2\n",
      "  Display Format:  AUTO-DETECT ==> NTSC\n",
      "  ROM Size:        8192\n",
      "  Bankswitch Type: AUTO-DETECT ==> F8\n",
      "\n",
      "\n",
      "WARNING: Possibly unsupported ROM: mismatched MD5.\n",
      "Cartridge_MD5: 9469d18238345d87768e8965f9f4a6b2\n",
      "Cartridge_name: Ms. Pac-Man (1982) (CCE)\n",
      "\n",
      "Running ROM file...\n",
      "Random seed is 0\n",
      "Game console created:\n",
      "  ROM file:  /home/d9w/.julia/packages/ArcadeLearningEnvironment/YJh2g/src/../deps/roms/ms_pacman.bin\n",
      "  Cart Name: Ms. Pac-Man (1982) (CCE)\n",
      "  Cart MD5:  9469d18238345d87768e8965f9f4a6b2\n",
      "  Display Format:  AUTO-DETECT ==> NTSC\n",
      "  ROM Size:        8192\n",
      "  Bankswitch Type: AUTO-DETECT ==> F8\n",
      "\n",
      "\n",
      "WARNING: Possibly unsupported ROM: mismatched MD5.\n",
      "Cartridge_MD5: 9469d18238345d87768e8965f9f4a6b2\n",
      "Cartridge_name: Ms. Pac-Man (1982) (CCE)\n",
      "\n",
      "Running ROM file...\n",
      "Random seed is 0\n",
      "Game console created:\n",
      "  ROM file:  /home/d9w/.julia/packages/ArcadeLearningEnvironment/YJh2g/src/../deps/roms/ms_pacman.bin\n",
      "  Cart Name: Ms. Pac-Man (1982) (CCE)\n",
      "  Cart MD5:  9469d18238345d87768e8965f9f4a6b2\n",
      "  Display Format:  AUTO-DETECT ==> NTSC\n",
      "  ROM Size:        8192\n",
      "  Bankswitch Type: AUTO-DETECT ==> F8\n",
      "\n",
      "\n",
      "WARNING: Possibly unsupported ROM: mismatched MD5.\n",
      "Cartridge_MD5: 9469d18238345d87768e8965f9f4a6b2\n",
      "Cartridge_name: Ms. Pac-Man (1982) (CCE)\n",
      "\n",
      "Running ROM file...\n",
      "Random seed is 0\n",
      "Game console created:\n",
      "  ROM file:  /home/d9w/.julia/packages/ArcadeLearningEnvironment/YJh2g/src/../deps/roms/ms_pacman.bin\n",
      "  Cart Name: Ms. Pac-Man (1982) (CCE)\n",
      "  Cart MD5:  9469d18238345d87768e8965f9f4a6b2\n",
      "  Display Format:  AUTO-DETECT ==> NTSC\n",
      "  ROM Size:        8192\n",
      "  Bankswitch Type: AUTO-DETECT ==> F8\n",
      "\n",
      "\n",
      "WARNING: Possibly unsupported ROM: mismatched MD5.\n",
      "Cartridge_MD5: 9469d18238345d87768e8965f9f4a6b2\n",
      "Cartridge_name: Ms. Pac-Man (1982) (CCE)\n",
      "\n",
      "Running ROM file...\n",
      "Random seed is 0\n",
      "Game console created:\n",
      "  ROM file:  /home/d9w/.julia/packages/ArcadeLearningEnvironment/YJh2g/src/../deps/roms/ms_pacman.bin\n",
      "  Cart Name: Ms. Pac-Man (1982) (CCE)\n",
      "  Cart MD5:  9469d18238345d87768e8965f9f4a6b2\n",
      "  Display Format:  AUTO-DETECT ==> NTSC\n",
      "  ROM Size:        8192\n",
      "  Bankswitch Type: AUTO-DETECT ==> F8\n",
      "\n",
      "\n",
      "WARNING: Possibly unsupported ROM: mismatched MD5.\n",
      "Cartridge_MD5: 9469d18238345d87768e8965f9f4a6b2\n",
      "Cartridge_name: Ms. Pac-Man (1982) (CCE)\n",
      "\n",
      "Running ROM file...\n",
      "Random seed is 0\n",
      "Game console created:\n",
      "  ROM file:  /home/d9w/.julia/packages/ArcadeLearningEnvironment/YJh2g/src/../deps/roms/ms_pacman.bin\n",
      "  Cart Name: Ms. Pac-Man (1982) (CCE)\n",
      "  Cart MD5:  9469d18238345d87768e8965f9f4a6b2\n",
      "  Display Format:  AUTO-DETECT ==> NTSC\n",
      "  ROM Size:        8192\n",
      "  Bankswitch Type: AUTO-DETECT ==> F8\n",
      "\n",
      "\n",
      "WARNING: Possibly unsupported ROM: mismatched MD5.\n",
      "Cartridge_MD5: 9469d18238345d87768e8965f9f4a6b2\n",
      "Cartridge_name: Ms. Pac-Man (1982) (CCE)\n",
      "\n",
      "Running ROM file...\n",
      "Random seed is 0\n",
      "Game console created:\n",
      "  ROM file:  /home/d9w/.julia/packages/ArcadeLearningEnvironment/YJh2g/src/../deps/roms/ms_pacman.bin\n",
      "  Cart Name: Ms. Pac-Man (1982) (CCE)\n",
      "  Cart MD5:  9469d18238345d87768e8965f9f4a6b2\n",
      "  Display Format:  AUTO-DETECT ==> NTSC\n",
      "  ROM Size:        8192\n",
      "  Bankswitch Type: AUTO-DETECT ==> F8\n",
      "\n",
      "\n",
      "WARNING: Possibly unsupported ROM: mismatched MD5.\n",
      "Cartridge_MD5: 9469d18238345d87768e8965f9f4a6b2\n",
      "Cartridge_name: Ms. Pac-Man (1982) (CCE)\n",
      "\n",
      "Running ROM file...\n",
      "Random seed is 0\n",
      "Game console created:\n",
      "  ROM file:  /home/d9w/.julia/packages/ArcadeLearningEnvironment/YJh2g/src/../deps/roms/ms_pacman.bin\n",
      "  Cart Name: Ms. Pac-Man (1982) (CCE)\n",
      "  Cart MD5:  9469d18238345d87768e8965f9f4a6b2\n",
      "  Display Format:  AUTO-DETECT ==> NTSC\n",
      "  ROM Size:        8192\n",
      "  Bankswitch Type: AUTO-DETECT ==> F8\n",
      "\n",
      "\n",
      "WARNING: Possibly unsupported ROM: mismatched MD5.\n",
      "Cartridge_MD5: 9469d18238345d87768e8965f9f4a6b2\n",
      "Cartridge_name: Ms. Pac-Man (1982) (CCE)\n",
      "\n",
      "Running ROM file...\n",
      "Random seed is 0\n",
      "Game console created:\n",
      "  ROM file:  /home/d9w/.julia/packages/ArcadeLearningEnvironment/YJh2g/src/../deps/roms/ms_pacman.bin\n",
      "  Cart Name: Ms. Pac-Man (1982) (CCE)\n",
      "  Cart MD5:  9469d18238345d87768e8965f9f4a6b2\n",
      "  Display Format:  AUTO-DETECT ==> NTSC\n",
      "  ROM Size:        8192\n",
      "  Bankswitch Type: AUTO-DETECT ==> F8\n",
      "\n",
      "\n",
      "WARNING: Possibly unsupported ROM: mismatched MD5.\n",
      "Cartridge_MD5: 9469d18238345d87768e8965f9f4a6b2\n",
      "Cartridge_name: Ms. Pac-Man (1982) (CCE)\n",
      "\n",
      "Running ROM file...\n",
      "Random seed is 0\n",
      "Game console created:\n",
      "  ROM file:  /home/d9w/.julia/packages/ArcadeLearningEnvironment/YJh2g/src/../deps/roms/ms_pacman.bin\n",
      "  Cart Name: Ms. Pac-Man (1982) (CCE)\n",
      "  Cart MD5:  9469d18238345d87768e8965f9f4a6b2\n",
      "  Display Format:  AUTO-DETECT ==> NTSC\n",
      "  ROM Size:        8192\n",
      "  Bankswitch Type: AUTO-DETECT ==> F8\n",
      "\n",
      "\n",
      "WARNING: Possibly unsupported ROM: mismatched MD5.\n",
      "Cartridge_MD5: 9469d18238345d87768e8965f9f4a6b2\n",
      "Cartridge_name: Ms. Pac-Man (1982) (CCE)\n",
      "\n",
      "Running ROM file...\n",
      "Random seed is 0\n",
      "Game console created:\n",
      "  ROM file:  /home/d9w/.julia/packages/ArcadeLearningEnvironment/YJh2g/src/../deps/roms/ms_pacman.bin\n",
      "  Cart Name: Ms. Pac-Man (1982) (CCE)\n",
      "  Cart MD5:  9469d18238345d87768e8965f9f4a6b2\n",
      "  Display Format:  AUTO-DETECT ==> NTSC\n",
      "  ROM Size:        8192\n",
      "  Bankswitch Type: AUTO-DETECT ==> F8\n",
      "\n",
      "\n",
      "WARNING: Possibly unsupported ROM: mismatched MD5.\n",
      "Cartridge_MD5: 9469d18238345d87768e8965f9f4a6b2\n",
      "Cartridge_name: Ms. Pac-Man (1982) (CCE)\n",
      "\n",
      "Running ROM file...\n",
      "Random seed is 0\n",
      "Game console created:\n",
      "  ROM file:  /home/d9w/.julia/packages/ArcadeLearningEnvironment/YJh2g/src/../deps/roms/ms_pacman.bin\n",
      "  Cart Name: Ms. Pac-Man (1982) (CCE)\n",
      "  Cart MD5:  9469d18238345d87768e8965f9f4a6b2\n",
      "  Display Format:  AUTO-DETECT ==> NTSC\n",
      "  ROM Size:        8192\n",
      "  Bankswitch Type: AUTO-DETECT ==> F8\n",
      "\n",
      "\n",
      "WARNING: Possibly unsupported ROM: mismatched MD5.\n",
      "Cartridge_MD5: 9469d18238345d87768e8965f9f4a6b2\n",
      "Cartridge_name: Ms. Pac-Man (1982) (CCE)\n",
      "\n",
      "Running ROM file...\n",
      "Random seed is 0\n",
      "Game console created:\n",
      "  ROM file:  /home/d9w/.julia/packages/ArcadeLearningEnvironment/YJh2g/src/../deps/roms/ms_pacman.bin\n",
      "  Cart Name: Ms. Pac-Man (1982) (CCE)\n",
      "  Cart MD5:  9469d18238345d87768e8965f9f4a6b2\n",
      "  Display Format:  AUTO-DETECT ==> NTSC\n",
      "  ROM Size:        8192\n",
      "  Bankswitch Type: AUTO-DETECT ==> F8\n",
      "\n",
      "\n",
      "WARNING: Possibly unsupported ROM: mismatched MD5.\n",
      "Cartridge_MD5: 9469d18238345d87768e8965f9f4a6b2\n",
      "Cartridge_name: Ms. Pac-Man (1982) (CCE)\n",
      "\n",
      "Running ROM file...\n",
      "Random seed is 0\n",
      "Game console created:\n",
      "  ROM file:  /home/d9w/.julia/packages/ArcadeLearningEnvironment/YJh2g/src/../deps/roms/ms_pacman.bin\n",
      "  Cart Name: Ms. Pac-Man (1982) (CCE)\n",
      "  Cart MD5:  9469d18238345d87768e8965f9f4a6b2\n",
      "  Display Format:  AUTO-DETECT ==> NTSC\n",
      "  ROM Size:        8192\n",
      "  Bankswitch Type: AUTO-DETECT ==> F8\n",
      "\n",
      "\n",
      "WARNING: Possibly unsupported ROM: mismatched MD5.\n",
      "Cartridge_MD5: 9469d18238345d87768e8965f9f4a6b2\n",
      "Cartridge_name: Ms. Pac-Man (1982) (CCE)\n",
      "\n",
      "Running ROM file...\n",
      "Random seed is 0\n",
      "Game console created:\n",
      "  ROM file:  /home/d9w/.julia/packages/ArcadeLearningEnvironment/YJh2g/src/../deps/roms/ms_pacman.bin\n",
      "  Cart Name: Ms. Pac-Man (1982) (CCE)\n",
      "  Cart MD5:  9469d18238345d87768e8965f9f4a6b2\n",
      "  Display Format:  AUTO-DETECT ==> NTSC\n",
      "  ROM Size:        8192\n",
      "  Bankswitch Type: AUTO-DETECT ==> F8\n",
      "\n",
      "\n",
      "WARNING: Possibly unsupported ROM: mismatched MD5.\n",
      "Cartridge_MD5: 9469d18238345d87768e8965f9f4a6b2\n",
      "Cartridge_name: Ms. Pac-Man (1982) (CCE)\n",
      "\n",
      "Running ROM file...\n",
      "Random seed is 0\n",
      "Game console created:\n",
      "  ROM file:  /home/d9w/.julia/packages/ArcadeLearningEnvironment/YJh2g/src/../deps/roms/ms_pacman.bin\n",
      "  Cart Name: Ms. Pac-Man (1982) (CCE)\n",
      "  Cart MD5:  9469d18238345d87768e8965f9f4a6b2\n",
      "  Display Format:  AUTO-DETECT ==> NTSC\n",
      "  ROM Size:        8192\n",
      "  Bankswitch Type: AUTO-DETECT ==> F8\n",
      "\n",
      "\n",
      "WARNING: Possibly unsupported ROM: mismatched MD5.\n",
      "Cartridge_MD5: 9469d18238345d87768e8965f9f4a6b2\n",
      "Cartridge_name: Ms. Pac-Man (1982) (CCE)\n",
      "\n",
      "Running ROM file...\n",
      "Random seed is 0\n",
      "Game console created:\n",
      "  ROM file:  /home/d9w/.julia/packages/ArcadeLearningEnvironment/YJh2g/src/../deps/roms/ms_pacman.bin\n",
      "  Cart Name: Ms. Pac-Man (1982) (CCE)\n",
      "  Cart MD5:  9469d18238345d87768e8965f9f4a6b2\n",
      "  Display Format:  AUTO-DETECT ==> NTSC\n",
      "  ROM Size:        8192\n",
      "  Bankswitch Type: AUTO-DETECT ==> F8\n",
      "\n",
      "\n",
      "WARNING: Possibly unsupported ROM: mismatched MD5.\n",
      "Cartridge_MD5: 9469d18238345d87768e8965f9f4a6b2\n",
      "Cartridge_name: Ms. Pac-Man (1982) (CCE)\n",
      "\n",
      "Running ROM file...\n",
      "Random seed is 0\n",
      "Game console created:\n",
      "  ROM file:  /home/d9w/.julia/packages/ArcadeLearningEnvironment/YJh2g/src/../deps/roms/ms_pacman.bin\n",
      "  Cart Name: Ms. Pac-Man (1982) (CCE)\n",
      "  Cart MD5:  9469d18238345d87768e8965f9f4a6b2\n",
      "  Display Format:  AUTO-DETECT ==> NTSC\n",
      "  ROM Size:        8192\n",
      "  Bankswitch Type: AUTO-DETECT ==> F8\n",
      "\n",
      "\n",
      "WARNING: Possibly unsupported ROM: mismatched MD5.\n",
      "Cartridge_MD5: 9469d18238345d87768e8965f9f4a6b2\n",
      "Cartridge_name: Ms. Pac-Man (1982) (CCE)\n",
      "\n",
      "Running ROM file...\n",
      "Random seed is 0\n",
      "Game console created:\n",
      "  ROM file:  /home/d9w/.julia/packages/ArcadeLearningEnvironment/YJh2g/src/../deps/roms/ms_pacman.bin\n",
      "  Cart Name: Ms. Pac-Man (1982) (CCE)\n",
      "  Cart MD5:  9469d18238345d87768e8965f9f4a6b2\n",
      "  Display Format:  AUTO-DETECT ==> NTSC\n",
      "  ROM Size:        8192\n",
      "  Bankswitch Type: AUTO-DETECT ==> F8\n",
      "\n",
      "\n",
      "WARNING: Possibly unsupported ROM: mismatched MD5.\n",
      "Cartridge_MD5: 9469d18238345d87768e8965f9f4a6b2\n",
      "Cartridge_name: Ms. Pac-Man (1982) (CCE)\n",
      "\n",
      "Running ROM file...\n",
      "Random seed is 0\n"
     ]
    },
    {
     "name": "stdout",
     "output_type": "stream",
     "text": [
      "100\n"
     ]
    },
    {
     "name": "stderr",
     "output_type": "stream",
     "text": [
      "Game console created:\n",
      "  ROM file:  /home/d9w/.julia/packages/ArcadeLearningEnvironment/YJh2g/src/../deps/roms/ms_pacman.bin\n",
      "  Cart Name: Ms. Pac-Man (1982) (CCE)\n",
      "  Cart MD5:  9469d18238345d87768e8965f9f4a6b2\n",
      "  Display Format:  AUTO-DETECT ==> NTSC\n",
      "  ROM Size:        8192\n",
      "  Bankswitch Type: AUTO-DETECT ==> F8\n",
      "\n",
      "\n",
      "WARNING: Possibly unsupported ROM: mismatched MD5.\n",
      "Cartridge_MD5: 9469d18238345d87768e8965f9f4a6b2\n",
      "Cartridge_name: Ms. Pac-Man (1982) (CCE)\n",
      "\n",
      "Running ROM file...\n",
      "Random seed is 0\n",
      "Game console created:\n",
      "  ROM file:  /home/d9w/.julia/packages/ArcadeLearningEnvironment/YJh2g/src/../deps/roms/ms_pacman.bin\n",
      "  Cart Name: Ms. Pac-Man (1982) (CCE)\n",
      "  Cart MD5:  9469d18238345d87768e8965f9f4a6b2\n",
      "  Display Format:  AUTO-DETECT ==> NTSC\n",
      "  ROM Size:        8192\n",
      "  Bankswitch Type: AUTO-DETECT ==> F8\n",
      "\n",
      "\n",
      "WARNING: Possibly unsupported ROM: mismatched MD5.\n",
      "Cartridge_MD5: 9469d18238345d87768e8965f9f4a6b2\n",
      "Cartridge_name: Ms. Pac-Man (1982) (CCE)\n",
      "\n",
      "Running ROM file...\n",
      "Random seed is 0\n",
      "Game console created:\n",
      "  ROM file:  /home/d9w/.julia/packages/ArcadeLearningEnvironment/YJh2g/src/../deps/roms/ms_pacman.bin\n",
      "  Cart Name: Ms. Pac-Man (1982) (CCE)\n",
      "  Cart MD5:  9469d18238345d87768e8965f9f4a6b2\n",
      "  Display Format:  AUTO-DETECT ==> NTSC\n",
      "  ROM Size:        8192\n",
      "  Bankswitch Type: AUTO-DETECT ==> F8\n",
      "\n",
      "\n",
      "WARNING: Possibly unsupported ROM: mismatched MD5.\n",
      "Cartridge_MD5: 9469d18238345d87768e8965f9f4a6b2\n",
      "Cartridge_name: Ms. Pac-Man (1982) (CCE)\n",
      "\n",
      "Running ROM file...\n",
      "Random seed is 0\n",
      "Game console created:\n",
      "  ROM file:  /home/d9w/.julia/packages/ArcadeLearningEnvironment/YJh2g/src/../deps/roms/ms_pacman.bin\n",
      "  Cart Name: Ms. Pac-Man (1982) (CCE)\n",
      "  Cart MD5:  9469d18238345d87768e8965f9f4a6b2\n",
      "  Display Format:  AUTO-DETECT ==> NTSC\n",
      "  ROM Size:        8192\n",
      "  Bankswitch Type: AUTO-DETECT ==> F8\n",
      "\n",
      "\n",
      "WARNING: Possibly unsupported ROM: mismatched MD5.\n",
      "Cartridge_MD5: 9469d18238345d87768e8965f9f4a6b2\n",
      "Cartridge_name: Ms. Pac-Man (1982) (CCE)\n",
      "\n",
      "Running ROM file...\n",
      "Random seed is 0\n",
      "Game console created:\n",
      "  ROM file:  /home/d9w/.julia/packages/ArcadeLearningEnvironment/YJh2g/src/../deps/roms/ms_pacman.bin\n",
      "  Cart Name: Ms. Pac-Man (1982) (CCE)\n",
      "  Cart MD5:  9469d18238345d87768e8965f9f4a6b2\n",
      "  Display Format:  AUTO-DETECT ==> NTSC\n",
      "  ROM Size:        8192\n",
      "  Bankswitch Type: AUTO-DETECT ==> F8\n",
      "\n",
      "\n",
      "WARNING: Possibly unsupported ROM: mismatched MD5.\n",
      "Cartridge_MD5: 9469d18238345d87768e8965f9f4a6b2\n",
      "Cartridge_name: Ms. Pac-Man (1982) (CCE)\n",
      "\n",
      "Running ROM file...\n",
      "Random seed is 0\n",
      "Game console created:\n",
      "  ROM file:  /home/d9w/.julia/packages/ArcadeLearningEnvironment/YJh2g/src/../deps/roms/ms_pacman.bin\n",
      "  Cart Name: Ms. Pac-Man (1982) (CCE)\n",
      "  Cart MD5:  9469d18238345d87768e8965f9f4a6b2\n",
      "  Display Format:  AUTO-DETECT ==> NTSC\n",
      "  ROM Size:        8192\n",
      "  Bankswitch Type: AUTO-DETECT ==> F8\n",
      "\n",
      "\n",
      "WARNING: Possibly unsupported ROM: mismatched MD5.\n",
      "Cartridge_MD5: 9469d18238345d87768e8965f9f4a6b2\n",
      "Cartridge_name: Ms. Pac-Man (1982) (CCE)\n",
      "\n",
      "Running ROM file...\n",
      "Random seed is 0\n",
      "Game console created:\n",
      "  ROM file:  /home/d9w/.julia/packages/ArcadeLearningEnvironment/YJh2g/src/../deps/roms/ms_pacman.bin\n",
      "  Cart Name: Ms. Pac-Man (1982) (CCE)\n",
      "  Cart MD5:  9469d18238345d87768e8965f9f4a6b2\n",
      "  Display Format:  AUTO-DETECT ==> NTSC\n",
      "  ROM Size:        8192\n",
      "  Bankswitch Type: AUTO-DETECT ==> F8\n",
      "\n",
      "\n",
      "WARNING: Possibly unsupported ROM: mismatched MD5.\n",
      "Cartridge_MD5: 9469d18238345d87768e8965f9f4a6b2\n",
      "Cartridge_name: Ms. Pac-Man (1982) (CCE)\n",
      "\n",
      "Running ROM file...\n",
      "Random seed is 0\n",
      "Game console created:\n",
      "  ROM file:  /home/d9w/.julia/packages/ArcadeLearningEnvironment/YJh2g/src/../deps/roms/ms_pacman.bin\n",
      "  Cart Name: Ms. Pac-Man (1982) (CCE)\n",
      "  Cart MD5:  9469d18238345d87768e8965f9f4a6b2\n",
      "  Display Format:  AUTO-DETECT ==> NTSC\n",
      "  ROM Size:        8192\n",
      "  Bankswitch Type: AUTO-DETECT ==> F8\n",
      "\n",
      "\n",
      "WARNING: Possibly unsupported ROM: mismatched MD5.\n",
      "Cartridge_MD5: 9469d18238345d87768e8965f9f4a6b2\n",
      "Cartridge_name: Ms. Pac-Man (1982) (CCE)\n",
      "\n",
      "Running ROM file...\n",
      "Random seed is 0\n",
      "Game console created:\n",
      "  ROM file:  /home/d9w/.julia/packages/ArcadeLearningEnvironment/YJh2g/src/../deps/roms/ms_pacman.bin\n",
      "  Cart Name: Ms. Pac-Man (1982) (CCE)\n",
      "  Cart MD5:  9469d18238345d87768e8965f9f4a6b2\n",
      "  Display Format:  AUTO-DETECT ==> NTSC\n",
      "  ROM Size:        8192\n",
      "  Bankswitch Type: AUTO-DETECT ==> F8\n",
      "\n",
      "\n",
      "WARNING: Possibly unsupported ROM: mismatched MD5.\n",
      "Cartridge_MD5: 9469d18238345d87768e8965f9f4a6b2\n",
      "Cartridge_name: Ms. Pac-Man (1982) (CCE)\n",
      "\n",
      "Running ROM file...\n",
      "Random seed is 0\n",
      "Game console created:\n",
      "  ROM file:  /home/d9w/.julia/packages/ArcadeLearningEnvironment/YJh2g/src/../deps/roms/ms_pacman.bin\n",
      "  Cart Name: Ms. Pac-Man (1982) (CCE)\n",
      "  Cart MD5:  9469d18238345d87768e8965f9f4a6b2\n",
      "  Display Format:  AUTO-DETECT ==> NTSC\n",
      "  ROM Size:        8192\n",
      "  Bankswitch Type: AUTO-DETECT ==> F8\n",
      "\n",
      "\n",
      "WARNING: Possibly unsupported ROM: mismatched MD5.\n",
      "Cartridge_MD5: 9469d18238345d87768e8965f9f4a6b2\n",
      "Cartridge_name: Ms. Pac-Man (1982) (CCE)\n",
      "\n",
      "Running ROM file...\n",
      "Random seed is 0\n",
      "Game console created:\n",
      "  ROM file:  /home/d9w/.julia/packages/ArcadeLearningEnvironment/YJh2g/src/../deps/roms/ms_pacman.bin\n",
      "  Cart Name: Ms. Pac-Man (1982) (CCE)\n",
      "  Cart MD5:  9469d18238345d87768e8965f9f4a6b2\n",
      "  Display Format:  AUTO-DETECT ==> NTSC\n",
      "  ROM Size:        8192\n",
      "  Bankswitch Type: AUTO-DETECT ==> F8\n",
      "\n",
      "\n",
      "WARNING: Possibly unsupported ROM: mismatched MD5.\n",
      "Cartridge_MD5: 9469d18238345d87768e8965f9f4a6b2\n",
      "Cartridge_name: Ms. Pac-Man (1982) (CCE)\n",
      "\n",
      "Running ROM file...\n",
      "Random seed is 0\n",
      "Game console created:\n",
      "  ROM file:  /home/d9w/.julia/packages/ArcadeLearningEnvironment/YJh2g/src/../deps/roms/ms_pacman.bin\n",
      "  Cart Name: Ms. Pac-Man (1982) (CCE)\n",
      "  Cart MD5:  9469d18238345d87768e8965f9f4a6b2\n",
      "  Display Format:  AUTO-DETECT ==> NTSC\n",
      "  ROM Size:        8192\n",
      "  Bankswitch Type: AUTO-DETECT ==> F8\n",
      "\n",
      "\n",
      "WARNING: Possibly unsupported ROM: mismatched MD5.\n",
      "Cartridge_MD5: 9469d18238345d87768e8965f9f4a6b2\n",
      "Cartridge_name: Ms. Pac-Man (1982) (CCE)\n",
      "\n",
      "Running ROM file...\n",
      "Random seed is 0\n",
      "Game console created:\n",
      "  ROM file:  /home/d9w/.julia/packages/ArcadeLearningEnvironment/YJh2g/src/../deps/roms/ms_pacman.bin\n",
      "  Cart Name: Ms. Pac-Man (1982) (CCE)\n",
      "  Cart MD5:  9469d18238345d87768e8965f9f4a6b2\n",
      "  Display Format:  AUTO-DETECT ==> NTSC\n",
      "  ROM Size:        8192\n",
      "  Bankswitch Type: AUTO-DETECT ==> F8\n",
      "\n",
      "\n",
      "WARNING: Possibly unsupported ROM: mismatched MD5.\n",
      "Cartridge_MD5: 9469d18238345d87768e8965f9f4a6b2\n",
      "Cartridge_name: Ms. Pac-Man (1982) (CCE)\n",
      "\n",
      "Running ROM file...\n",
      "Random seed is 0\n",
      "Game console created:\n",
      "  ROM file:  /home/d9w/.julia/packages/ArcadeLearningEnvironment/YJh2g/src/../deps/roms/ms_pacman.bin\n",
      "  Cart Name: Ms. Pac-Man (1982) (CCE)\n",
      "  Cart MD5:  9469d18238345d87768e8965f9f4a6b2\n",
      "  Display Format:  AUTO-DETECT ==> NTSC\n",
      "  ROM Size:        8192\n",
      "  Bankswitch Type: AUTO-DETECT ==> F8\n",
      "\n",
      "\n",
      "WARNING: Possibly unsupported ROM: mismatched MD5.\n",
      "Cartridge_MD5: 9469d18238345d87768e8965f9f4a6b2\n",
      "Cartridge_name: Ms. Pac-Man (1982) (CCE)\n",
      "\n",
      "Running ROM file...\n",
      "Random seed is 0\n",
      "Game console created:\n",
      "  ROM file:  /home/d9w/.julia/packages/ArcadeLearningEnvironment/YJh2g/src/../deps/roms/ms_pacman.bin\n",
      "  Cart Name: Ms. Pac-Man (1982) (CCE)\n",
      "  Cart MD5:  9469d18238345d87768e8965f9f4a6b2\n",
      "  Display Format:  AUTO-DETECT ==> NTSC\n",
      "  ROM Size:        8192\n",
      "  Bankswitch Type: AUTO-DETECT ==> F8\n",
      "\n",
      "\n",
      "WARNING: Possibly unsupported ROM: mismatched MD5.\n",
      "Cartridge_MD5: 9469d18238345d87768e8965f9f4a6b2\n",
      "Cartridge_name: Ms. Pac-Man (1982) (CCE)\n",
      "\n",
      "Running ROM file...\n",
      "Random seed is 0\n",
      "Game console created:\n",
      "  ROM file:  /home/d9w/.julia/packages/ArcadeLearningEnvironment/YJh2g/src/../deps/roms/ms_pacman.bin\n",
      "  Cart Name: Ms. Pac-Man (1982) (CCE)\n",
      "  Cart MD5:  9469d18238345d87768e8965f9f4a6b2\n",
      "  Display Format:  AUTO-DETECT ==> NTSC\n",
      "  ROM Size:        8192\n",
      "  Bankswitch Type: AUTO-DETECT ==> F8\n",
      "\n",
      "\n",
      "WARNING: Possibly unsupported ROM: mismatched MD5.\n",
      "Cartridge_MD5: 9469d18238345d87768e8965f9f4a6b2\n",
      "Cartridge_name: Ms. Pac-Man (1982) (CCE)\n",
      "\n",
      "Running ROM file...\n",
      "Random seed is 0\n",
      "Game console created:\n",
      "  ROM file:  /home/d9w/.julia/packages/ArcadeLearningEnvironment/YJh2g/src/../deps/roms/ms_pacman.bin\n",
      "  Cart Name: Ms. Pac-Man (1982) (CCE)\n",
      "  Cart MD5:  9469d18238345d87768e8965f9f4a6b2\n",
      "  Display Format:  AUTO-DETECT ==> NTSC\n",
      "  ROM Size:        8192\n",
      "  Bankswitch Type: AUTO-DETECT ==> F8\n",
      "\n",
      "\n",
      "WARNING: Possibly unsupported ROM: mismatched MD5.\n",
      "Cartridge_MD5: 9469d18238345d87768e8965f9f4a6b2\n",
      "Cartridge_name: Ms. Pac-Man (1982) (CCE)\n",
      "\n",
      "Running ROM file...\n",
      "Random seed is 0\n",
      "Game console created:\n",
      "  ROM file:  /home/d9w/.julia/packages/ArcadeLearningEnvironment/YJh2g/src/../deps/roms/ms_pacman.bin\n",
      "  Cart Name: Ms. Pac-Man (1982) (CCE)\n",
      "  Cart MD5:  9469d18238345d87768e8965f9f4a6b2\n",
      "  Display Format:  AUTO-DETECT ==> NTSC\n",
      "  ROM Size:        8192\n",
      "  Bankswitch Type: AUTO-DETECT ==> F8\n",
      "\n",
      "\n",
      "WARNING: Possibly unsupported ROM: mismatched MD5.\n",
      "Cartridge_MD5: 9469d18238345d87768e8965f9f4a6b2\n",
      "Cartridge_name: Ms. Pac-Man (1982) (CCE)\n",
      "\n",
      "Running ROM file...\n",
      "Random seed is 0\n",
      "Game console created:\n",
      "  ROM file:  /home/d9w/.julia/packages/ArcadeLearningEnvironment/YJh2g/src/../deps/roms/ms_pacman.bin\n",
      "  Cart Name: Ms. Pac-Man (1982) (CCE)\n",
      "  Cart MD5:  9469d18238345d87768e8965f9f4a6b2\n",
      "  Display Format:  AUTO-DETECT ==> NTSC\n",
      "  ROM Size:        8192\n",
      "  Bankswitch Type: AUTO-DETECT ==> F8\n",
      "\n",
      "\n",
      "WARNING: Possibly unsupported ROM: mismatched MD5.\n",
      "Cartridge_MD5: 9469d18238345d87768e8965f9f4a6b2\n",
      "Cartridge_name: Ms. Pac-Man (1982) (CCE)\n",
      "\n",
      "Running ROM file...\n",
      "Random seed is 0\n",
      "Game console created:\n",
      "  ROM file:  /home/d9w/.julia/packages/ArcadeLearningEnvironment/YJh2g/src/../deps/roms/ms_pacman.bin\n",
      "  Cart Name: Ms. Pac-Man (1982) (CCE)\n",
      "  Cart MD5:  9469d18238345d87768e8965f9f4a6b2\n",
      "  Display Format:  AUTO-DETECT ==> NTSC\n",
      "  ROM Size:        8192\n",
      "  Bankswitch Type: AUTO-DETECT ==> F8\n",
      "\n",
      "\n",
      "WARNING: Possibly unsupported ROM: mismatched MD5.\n",
      "Cartridge_MD5: 9469d18238345d87768e8965f9f4a6b2\n",
      "Cartridge_name: Ms. Pac-Man (1982) (CCE)\n",
      "\n",
      "Running ROM file...\n",
      "Random seed is 0\n"
     ]
    }
   ],
   "source": [
    "for i in 2:5\n",
    "    x, R, P = step(x, objective)\n",
    "    append!(es_fits, R)\n",
    "    if maximum(R) > best_fit\n",
    "        best_fit = maximum(R)\n",
    "        best_ind .= P[argmax(R), :]\n",
    "    end\n",
    "    println(best_fit, length(es_fits))\n",
    "end"
   ]
  },
  {
   "cell_type": "markdown",
   "metadata": {
    "slideshow": {
     "slide_type": "slide"
    }
   },
   "source": [
    "Once that's done, let's see how our best individual does"
   ]
  },
  {
   "cell_type": "code",
   "execution_count": 61,
   "metadata": {
    "slideshow": {
     "slide_type": "fragment"
    }
   },
   "outputs": [
    {
     "name": "stderr",
     "output_type": "stream",
     "text": [
      "Game console created:\n",
      "  ROM file:  /home/d9w/.julia/packages/ArcadeLearningEnvironment/YJh2g/src/../deps/roms/ms_pacman.bin\n",
      "  Cart Name: Ms. Pac-Man (1982) (CCE)\n",
      "  Cart MD5:  9469d18238345d87768e8965f9f4a6b2\n",
      "  Display Format:  AUTO-DETECT ==> NTSC\n",
      "  ROM Size:        8192\n",
      "  Bankswitch Type: AUTO-DETECT ==> F8\n",
      "\n",
      "\n",
      "WARNING: Possibly unsupported ROM: mismatched MD5.\n",
      "Cartridge_MD5: 9469d18238345d87768e8965f9f4a6b2\n",
      "Cartridge_name: Ms. Pac-Man (1982) (CCE)\n",
      "\n",
      "Running ROM file...\n",
      "Random seed is 0\n"
     ]
    },
    {
     "data": {
      "text/plain": [
       "(280, Frames{MIME{Symbol(\"image/png\")}}(\"/tmp/jl_sIvnCR\", 0x00000000000000ce, 6.0, nothing))"
      ]
     },
     "execution_count": 61,
     "metadata": {},
     "output_type": "execute_result"
    }
   ],
   "source": [
    "model = set_weights(best_ind)\n",
    "total_reward, frames = play_atari(model, render=true)"
   ]
  },
  {
   "cell_type": "code",
   "execution_count": 62,
   "metadata": {
    "slideshow": {
     "slide_type": "slide"
    }
   },
   "outputs": [
    {
     "data": {
      "text/html": [
       "<img src=\"files/reel-16055110884614803491.gif?16458177049968965315\" />"
      ],
      "text/plain": [
       "Frames{MIME{Symbol(\"image/png\")}}(\"/tmp/jl_sIvnCR\", 0x00000000000000ce, 6.0, nothing)"
      ]
     },
     "execution_count": 62,
     "metadata": {},
     "output_type": "execute_result"
    }
   ],
   "source": [
    "frames"
   ]
  },
  {
   "cell_type": "markdown",
   "metadata": {
    "slideshow": {
     "slide_type": "slide"
    }
   },
   "source": [
    "# <a id=\"comparison\"></a> Comparison"
   ]
  },
  {
   "cell_type": "markdown",
   "metadata": {
    "slideshow": {
     "slide_type": "fragment"
    }
   },
   "source": [
    "Now that we have run two different evolutionary methods, we can compare them. Let's look at all 100 evaluations for both method."
   ]
  },
  {
   "cell_type": "code",
   "execution_count": 67,
   "metadata": {
    "slideshow": {
     "slide_type": "slide"
    }
   },
   "outputs": [],
   "source": [
    "using Plots"
   ]
  },
  {
   "cell_type": "code",
   "execution_count": 64,
   "metadata": {
    "slideshow": {
     "slide_type": "fragment"
    }
   },
   "outputs": [
    {
     "data": {
      "image/svg+xml": [
       "<?xml version=\"1.0\" encoding=\"utf-8\"?>\n",
       "<svg xmlns=\"http://www.w3.org/2000/svg\" xmlns:xlink=\"http://www.w3.org/1999/xlink\" width=\"600\" height=\"400\" viewBox=\"0 0 2400 1600\">\n",
       "<defs>\n",
       "  <clipPath id=\"clip4800\">\n",
       "    <rect x=\"0\" y=\"0\" width=\"2400\" height=\"1600\"/>\n",
       "  </clipPath>\n",
       "</defs>\n",
       "<path clip-path=\"url(#clip4800)\" d=\"\n",
       "M0 1600 L2400 1600 L2400 0 L0 0  Z\n",
       "  \" fill=\"#ffffff\" fill-rule=\"evenodd\" fill-opacity=\"1\"/>\n",
       "<defs>\n",
       "  <clipPath id=\"clip4801\">\n",
       "    <rect x=\"480\" y=\"0\" width=\"1681\" height=\"1600\"/>\n",
       "  </clipPath>\n",
       "</defs>\n",
       "<path clip-path=\"url(#clip4800)\" d=\"\n",
       "M166.205 1486.45 L2352.76 1486.45 L2352.76 47.2441 L166.205 47.2441  Z\n",
       "  \" fill=\"#ffffff\" fill-rule=\"evenodd\" fill-opacity=\"1\"/>\n",
       "<defs>\n",
       "  <clipPath id=\"clip4802\">\n",
       "    <rect x=\"166\" y=\"47\" width=\"2188\" height=\"1440\"/>\n",
       "  </clipPath>\n",
       "</defs>\n",
       "<polyline clip-path=\"url(#clip4802)\" style=\"stroke:#000000; stroke-width:2; stroke-opacity:0.1; fill:none\" points=\"\n",
       "  207.252,1486.45 207.252,47.2441 \n",
       "  \"/>\n",
       "<polyline clip-path=\"url(#clip4802)\" style=\"stroke:#000000; stroke-width:2; stroke-opacity:0.1; fill:none\" points=\"\n",
       "  728.157,1486.45 728.157,47.2441 \n",
       "  \"/>\n",
       "<polyline clip-path=\"url(#clip4802)\" style=\"stroke:#000000; stroke-width:2; stroke-opacity:0.1; fill:none\" points=\"\n",
       "  1249.06,1486.45 1249.06,47.2441 \n",
       "  \"/>\n",
       "<polyline clip-path=\"url(#clip4802)\" style=\"stroke:#000000; stroke-width:2; stroke-opacity:0.1; fill:none\" points=\"\n",
       "  1769.97,1486.45 1769.97,47.2441 \n",
       "  \"/>\n",
       "<polyline clip-path=\"url(#clip4802)\" style=\"stroke:#000000; stroke-width:2; stroke-opacity:0.1; fill:none\" points=\"\n",
       "  2290.87,1486.45 2290.87,47.2441 \n",
       "  \"/>\n",
       "<polyline clip-path=\"url(#clip4802)\" style=\"stroke:#000000; stroke-width:2; stroke-opacity:0.1; fill:none\" points=\"\n",
       "  166.205,1302.8 2352.76,1302.8 \n",
       "  \"/>\n",
       "<polyline clip-path=\"url(#clip4802)\" style=\"stroke:#000000; stroke-width:2; stroke-opacity:0.1; fill:none\" points=\"\n",
       "  166.205,945.496 2352.76,945.496 \n",
       "  \"/>\n",
       "<polyline clip-path=\"url(#clip4802)\" style=\"stroke:#000000; stroke-width:2; stroke-opacity:0.1; fill:none\" points=\"\n",
       "  166.205,588.196 2352.76,588.196 \n",
       "  \"/>\n",
       "<polyline clip-path=\"url(#clip4802)\" style=\"stroke:#000000; stroke-width:2; stroke-opacity:0.1; fill:none\" points=\"\n",
       "  166.205,230.896 2352.76,230.896 \n",
       "  \"/>\n",
       "<polyline clip-path=\"url(#clip4800)\" style=\"stroke:#000000; stroke-width:4; stroke-opacity:1; fill:none\" points=\"\n",
       "  166.205,1486.45 2352.76,1486.45 \n",
       "  \"/>\n",
       "<polyline clip-path=\"url(#clip4800)\" style=\"stroke:#000000; stroke-width:4; stroke-opacity:1; fill:none\" points=\"\n",
       "  166.205,1486.45 166.205,47.2441 \n",
       "  \"/>\n",
       "<polyline clip-path=\"url(#clip4800)\" style=\"stroke:#000000; stroke-width:4; stroke-opacity:1; fill:none\" points=\"\n",
       "  207.252,1486.45 207.252,1469.18 \n",
       "  \"/>\n",
       "<polyline clip-path=\"url(#clip4800)\" style=\"stroke:#000000; stroke-width:4; stroke-opacity:1; fill:none\" points=\"\n",
       "  728.157,1486.45 728.157,1469.18 \n",
       "  \"/>\n",
       "<polyline clip-path=\"url(#clip4800)\" style=\"stroke:#000000; stroke-width:4; stroke-opacity:1; fill:none\" points=\"\n",
       "  1249.06,1486.45 1249.06,1469.18 \n",
       "  \"/>\n",
       "<polyline clip-path=\"url(#clip4800)\" style=\"stroke:#000000; stroke-width:4; stroke-opacity:1; fill:none\" points=\"\n",
       "  1769.97,1486.45 1769.97,1469.18 \n",
       "  \"/>\n",
       "<polyline clip-path=\"url(#clip4800)\" style=\"stroke:#000000; stroke-width:4; stroke-opacity:1; fill:none\" points=\"\n",
       "  2290.87,1486.45 2290.87,1469.18 \n",
       "  \"/>\n",
       "<polyline clip-path=\"url(#clip4800)\" style=\"stroke:#000000; stroke-width:4; stroke-opacity:1; fill:none\" points=\"\n",
       "  166.205,1302.8 192.443,1302.8 \n",
       "  \"/>\n",
       "<polyline clip-path=\"url(#clip4800)\" style=\"stroke:#000000; stroke-width:4; stroke-opacity:1; fill:none\" points=\"\n",
       "  166.205,945.496 192.443,945.496 \n",
       "  \"/>\n",
       "<polyline clip-path=\"url(#clip4800)\" style=\"stroke:#000000; stroke-width:4; stroke-opacity:1; fill:none\" points=\"\n",
       "  166.205,588.196 192.443,588.196 \n",
       "  \"/>\n",
       "<polyline clip-path=\"url(#clip4800)\" style=\"stroke:#000000; stroke-width:4; stroke-opacity:1; fill:none\" points=\"\n",
       "  166.205,230.896 192.443,230.896 \n",
       "  \"/>\n",
       "<path clip-path=\"url(#clip4800)\" d=\"M 0 0 M207.252 1508.44 Q203.641 1508.44 201.812 1512 Q200.007 1515.55 200.007 1522.67 Q200.007 1529.78 201.812 1533.35 Q203.641 1536.89 207.252 1536.89 Q210.886 1536.89 212.692 1533.35 Q214.52 1529.78 214.52 1522.67 Q214.52 1515.55 212.692 1512 Q210.886 1508.44 207.252 1508.44 M207.252 1504.73 Q213.062 1504.73 216.118 1509.34 Q219.196 1513.92 219.196 1522.67 Q219.196 1531.4 216.118 1536.01 Q213.062 1540.59 207.252 1540.59 Q201.442 1540.59 198.363 1536.01 Q195.308 1531.4 195.308 1522.67 Q195.308 1513.92 198.363 1509.34 Q201.442 1504.73 207.252 1504.73 Z\" fill=\"#000000\" fill-rule=\"evenodd\" fill-opacity=\"1\" /><path clip-path=\"url(#clip4800)\" d=\"M 0 0 M709.801 1535.98 L726.12 1535.98 L726.12 1539.92 L704.176 1539.92 L704.176 1535.98 Q706.838 1533.23 711.421 1528.6 Q716.028 1523.95 717.208 1522.61 Q719.453 1520.08 720.333 1518.35 Q721.236 1516.59 721.236 1514.9 Q721.236 1512.14 719.291 1510.41 Q717.37 1508.67 714.268 1508.67 Q712.069 1508.67 709.616 1509.43 Q707.185 1510.2 704.407 1511.75 L704.407 1507.03 Q707.231 1505.89 709.685 1505.31 Q712.139 1504.73 714.176 1504.73 Q719.546 1504.73 722.74 1507.42 Q725.935 1510.11 725.935 1514.6 Q725.935 1516.73 725.125 1518.65 Q724.338 1520.54 722.231 1523.14 Q721.652 1523.81 718.551 1527.03 Q715.449 1530.22 709.801 1535.98 Z\" fill=\"#000000\" fill-rule=\"evenodd\" fill-opacity=\"1\" /><path clip-path=\"url(#clip4800)\" d=\"M 0 0 M731.236 1505.36 L749.592 1505.36 L749.592 1509.3 L735.518 1509.3 L735.518 1517.77 Q736.537 1517.42 737.555 1517.26 Q738.574 1517.07 739.592 1517.07 Q745.379 1517.07 748.759 1520.24 Q752.138 1523.42 752.138 1528.83 Q752.138 1534.41 748.666 1537.51 Q745.194 1540.59 738.875 1540.59 Q736.699 1540.59 734.43 1540.22 Q732.185 1539.85 729.777 1539.11 L729.777 1534.41 Q731.861 1535.54 734.083 1536.1 Q736.305 1536.66 738.782 1536.66 Q742.787 1536.66 745.125 1534.55 Q747.463 1532.44 747.463 1528.83 Q747.463 1525.22 745.125 1523.11 Q742.787 1521.01 738.782 1521.01 Q736.907 1521.01 735.032 1521.42 Q733.18 1521.84 731.236 1522.72 L731.236 1505.36 Z\" fill=\"#000000\" fill-rule=\"evenodd\" fill-opacity=\"1\" /><path clip-path=\"url(#clip4800)\" d=\"M 0 0 M1225.83 1505.36 L1244.19 1505.36 L1244.19 1509.3 L1230.12 1509.3 L1230.12 1517.77 Q1231.13 1517.42 1232.15 1517.26 Q1233.17 1517.07 1234.19 1517.07 Q1239.98 1517.07 1243.36 1520.24 Q1246.74 1523.42 1246.74 1528.83 Q1246.74 1534.41 1243.26 1537.51 Q1239.79 1540.59 1233.47 1540.59 Q1231.3 1540.59 1229.03 1540.22 Q1226.78 1539.85 1224.37 1539.11 L1224.37 1534.41 Q1226.46 1535.54 1228.68 1536.1 Q1230.9 1536.66 1233.38 1536.66 Q1237.38 1536.66 1239.72 1534.55 Q1242.06 1532.44 1242.06 1528.83 Q1242.06 1525.22 1239.72 1523.11 Q1237.38 1521.01 1233.38 1521.01 Q1231.5 1521.01 1229.63 1521.42 Q1227.78 1521.84 1225.83 1522.72 L1225.83 1505.36 Z\" fill=\"#000000\" fill-rule=\"evenodd\" fill-opacity=\"1\" /><path clip-path=\"url(#clip4800)\" d=\"M 0 0 M1261.81 1508.44 Q1258.19 1508.44 1256.37 1512 Q1254.56 1515.55 1254.56 1522.67 Q1254.56 1529.78 1256.37 1533.35 Q1258.19 1536.89 1261.81 1536.89 Q1265.44 1536.89 1267.24 1533.35 Q1269.07 1529.78 1269.07 1522.67 Q1269.07 1515.55 1267.24 1512 Q1265.44 1508.44 1261.81 1508.44 M1261.81 1504.73 Q1267.62 1504.73 1270.67 1509.34 Q1273.75 1513.92 1273.75 1522.67 Q1273.75 1531.4 1270.67 1536.01 Q1267.62 1540.59 1261.81 1540.59 Q1256 1540.59 1252.92 1536.01 Q1249.86 1531.4 1249.86 1522.67 Q1249.86 1513.92 1252.92 1509.34 Q1256 1504.73 1261.81 1504.73 Z\" fill=\"#000000\" fill-rule=\"evenodd\" fill-opacity=\"1\" /><path clip-path=\"url(#clip4800)\" d=\"M 0 0 M1745.85 1505.36 L1768.07 1505.36 L1768.07 1507.35 L1755.52 1539.92 L1750.64 1539.92 L1762.44 1509.3 L1745.85 1509.3 L1745.85 1505.36 Z\" fill=\"#000000\" fill-rule=\"evenodd\" fill-opacity=\"1\" /><path clip-path=\"url(#clip4800)\" d=\"M 0 0 M1773.18 1505.36 L1791.54 1505.36 L1791.54 1509.3 L1777.47 1509.3 L1777.47 1517.77 Q1778.49 1517.42 1779.5 1517.26 Q1780.52 1517.07 1781.54 1517.07 Q1787.33 1517.07 1790.71 1520.24 Q1794.09 1523.42 1794.09 1528.83 Q1794.09 1534.41 1790.62 1537.51 Q1787.14 1540.59 1780.82 1540.59 Q1778.65 1540.59 1776.38 1540.22 Q1774.13 1539.85 1771.73 1539.11 L1771.73 1534.41 Q1773.81 1535.54 1776.03 1536.1 Q1778.25 1536.66 1780.73 1536.66 Q1784.74 1536.66 1787.07 1534.55 Q1789.41 1532.44 1789.41 1528.83 Q1789.41 1525.22 1787.07 1523.11 Q1784.74 1521.01 1780.73 1521.01 Q1778.86 1521.01 1776.98 1521.42 Q1775.13 1521.84 1773.18 1522.72 L1773.18 1505.36 Z\" fill=\"#000000\" fill-rule=\"evenodd\" fill-opacity=\"1\" /><path clip-path=\"url(#clip4800)\" d=\"M 0 0 M2254.24 1535.98 L2261.88 1535.98 L2261.88 1509.62 L2253.57 1511.29 L2253.57 1507.03 L2261.83 1505.36 L2266.51 1505.36 L2266.51 1535.98 L2274.15 1535.98 L2274.15 1539.92 L2254.24 1539.92 L2254.24 1535.98 Z\" fill=\"#000000\" fill-rule=\"evenodd\" fill-opacity=\"1\" /><path clip-path=\"url(#clip4800)\" d=\"M 0 0 M2289.22 1508.44 Q2285.61 1508.44 2283.78 1512 Q2281.97 1515.55 2281.97 1522.67 Q2281.97 1529.78 2283.78 1533.35 Q2285.61 1536.89 2289.22 1536.89 Q2292.85 1536.89 2294.66 1533.35 Q2296.49 1529.78 2296.49 1522.67 Q2296.49 1515.55 2294.66 1512 Q2292.85 1508.44 2289.22 1508.44 M2289.22 1504.73 Q2295.03 1504.73 2298.08 1509.34 Q2301.16 1513.92 2301.16 1522.67 Q2301.16 1531.4 2298.08 1536.01 Q2295.03 1540.59 2289.22 1540.59 Q2283.41 1540.59 2280.33 1536.01 Q2277.27 1531.4 2277.27 1522.67 Q2277.27 1513.92 2280.33 1509.34 Q2283.41 1504.73 2289.22 1504.73 Z\" fill=\"#000000\" fill-rule=\"evenodd\" fill-opacity=\"1\" /><path clip-path=\"url(#clip4800)\" d=\"M 0 0 M2316.23 1508.44 Q2312.62 1508.44 2310.79 1512 Q2308.99 1515.55 2308.99 1522.67 Q2308.99 1529.78 2310.79 1533.35 Q2312.62 1536.89 2316.23 1536.89 Q2319.87 1536.89 2321.67 1533.35 Q2323.5 1529.78 2323.5 1522.67 Q2323.5 1515.55 2321.67 1512 Q2319.87 1508.44 2316.23 1508.44 M2316.23 1504.73 Q2322.04 1504.73 2325.1 1509.34 Q2328.18 1513.92 2328.18 1522.67 Q2328.18 1531.4 2325.1 1536.01 Q2322.04 1540.59 2316.23 1540.59 Q2310.42 1540.59 2307.34 1536.01 Q2304.29 1531.4 2304.29 1522.67 Q2304.29 1513.92 2307.34 1509.34 Q2310.42 1504.73 2316.23 1504.73 Z\" fill=\"#000000\" fill-rule=\"evenodd\" fill-opacity=\"1\" /><path clip-path=\"url(#clip4800)\" d=\"M 0 0 M68.2699 1316.14 L75.9087 1316.14 L75.9087 1289.77 L67.5986 1291.44 L67.5986 1287.18 L75.8624 1285.52 L80.5383 1285.52 L80.5383 1316.14 L88.1772 1316.14 L88.1772 1320.08 L68.2699 1320.08 L68.2699 1316.14 Z\" fill=\"#000000\" fill-rule=\"evenodd\" fill-opacity=\"1\" /><path clip-path=\"url(#clip4800)\" d=\"M 0 0 M103.247 1288.59 Q99.6354 1288.59 97.8068 1292.16 Q96.0012 1295.7 96.0012 1302.83 Q96.0012 1309.94 97.8068 1313.5 Q99.6354 1317.04 103.247 1317.04 Q106.881 1317.04 108.686 1313.5 Q110.515 1309.94 110.515 1302.83 Q110.515 1295.7 108.686 1292.16 Q106.881 1288.59 103.247 1288.59 M103.247 1284.89 Q109.057 1284.89 112.112 1289.5 Q115.191 1294.08 115.191 1302.83 Q115.191 1311.56 112.112 1316.16 Q109.057 1320.75 103.247 1320.75 Q97.4364 1320.75 94.3577 1316.16 Q91.3022 1311.56 91.3022 1302.83 Q91.3022 1294.08 94.3577 1289.5 Q97.4364 1284.89 103.247 1284.89 Z\" fill=\"#000000\" fill-rule=\"evenodd\" fill-opacity=\"1\" /><path clip-path=\"url(#clip4800)\" d=\"M 0 0 M130.26 1288.59 Q126.649 1288.59 124.82 1292.16 Q123.015 1295.7 123.015 1302.83 Q123.015 1309.94 124.82 1313.5 Q126.649 1317.04 130.26 1317.04 Q133.895 1317.04 135.7 1313.5 Q137.529 1309.94 137.529 1302.83 Q137.529 1295.7 135.7 1292.16 Q133.895 1288.59 130.26 1288.59 M130.26 1284.89 Q136.07 1284.89 139.126 1289.5 Q142.205 1294.08 142.205 1302.83 Q142.205 1311.56 139.126 1316.16 Q136.07 1320.75 130.26 1320.75 Q124.45 1320.75 121.371 1316.16 Q118.316 1311.56 118.316 1302.83 Q118.316 1294.08 121.371 1289.5 Q124.45 1284.89 130.26 1284.89 Z\" fill=\"#000000\" fill-rule=\"evenodd\" fill-opacity=\"1\" /><path clip-path=\"url(#clip4800)\" d=\"M 0 0 M71.8578 958.841 L88.1772 958.841 L88.1772 962.776 L66.2328 962.776 L66.2328 958.841 Q68.8949 956.086 73.4782 951.457 Q78.0846 946.804 79.2652 945.461 Q81.5105 942.938 82.3902 941.202 Q83.2929 939.443 83.2929 937.753 Q83.2929 934.998 81.3485 933.262 Q79.4272 931.526 76.3254 931.526 Q74.1263 931.526 71.6726 932.29 Q69.2421 933.054 66.4643 934.605 L66.4643 929.883 Q69.2884 928.748 71.7421 928.17 Q74.1958 927.591 76.2328 927.591 Q81.6031 927.591 84.7976 930.276 Q87.992 932.961 87.992 937.452 Q87.992 939.582 87.1818 941.503 Q86.3948 943.401 84.2883 945.994 Q83.7096 946.665 80.6078 949.882 Q77.5059 953.077 71.8578 958.841 Z\" fill=\"#000000\" fill-rule=\"evenodd\" fill-opacity=\"1\" /><path clip-path=\"url(#clip4800)\" d=\"M 0 0 M103.247 931.295 Q99.6354 931.295 97.8068 934.859 Q96.0012 938.401 96.0012 945.531 Q96.0012 952.637 97.8068 956.202 Q99.6354 959.744 103.247 959.744 Q106.881 959.744 108.686 956.202 Q110.515 952.637 110.515 945.531 Q110.515 938.401 108.686 934.859 Q106.881 931.295 103.247 931.295 M103.247 927.591 Q109.057 927.591 112.112 932.197 Q115.191 936.781 115.191 945.531 Q115.191 954.257 112.112 958.864 Q109.057 963.447 103.247 963.447 Q97.4364 963.447 94.3577 958.864 Q91.3022 954.257 91.3022 945.531 Q91.3022 936.781 94.3577 932.197 Q97.4364 927.591 103.247 927.591 Z\" fill=\"#000000\" fill-rule=\"evenodd\" fill-opacity=\"1\" /><path clip-path=\"url(#clip4800)\" d=\"M 0 0 M130.26 931.295 Q126.649 931.295 124.82 934.859 Q123.015 938.401 123.015 945.531 Q123.015 952.637 124.82 956.202 Q126.649 959.744 130.26 959.744 Q133.895 959.744 135.7 956.202 Q137.529 952.637 137.529 945.531 Q137.529 938.401 135.7 934.859 Q133.895 931.295 130.26 931.295 M130.26 927.591 Q136.07 927.591 139.126 932.197 Q142.205 936.781 142.205 945.531 Q142.205 954.257 139.126 958.864 Q136.07 963.447 130.26 963.447 Q124.45 963.447 121.371 958.864 Q118.316 954.257 118.316 945.531 Q118.316 936.781 121.371 932.197 Q124.45 927.591 130.26 927.591 Z\" fill=\"#000000\" fill-rule=\"evenodd\" fill-opacity=\"1\" /><path clip-path=\"url(#clip4800)\" d=\"M 0 0 M81.0476 586.842 Q84.404 587.559 86.279 589.828 Q88.1772 592.097 88.1772 595.43 Q88.1772 600.546 84.6587 603.346 Q81.1402 606.147 74.6587 606.147 Q72.4828 606.147 70.168 605.708 Q67.8764 605.291 65.4227 604.434 L65.4227 599.921 Q67.3671 601.055 69.6819 601.633 Q71.9967 602.212 74.5198 602.212 Q78.918 602.212 81.2096 600.476 Q83.5244 598.74 83.5244 595.43 Q83.5244 592.374 81.3717 590.661 Q79.242 588.925 75.4226 588.925 L71.3949 588.925 L71.3949 585.083 L75.6078 585.083 Q79.0569 585.083 80.8855 583.717 Q82.7142 582.328 82.7142 579.735 Q82.7142 577.073 80.8161 575.661 Q78.9411 574.226 75.4226 574.226 Q73.5013 574.226 71.3023 574.643 Q69.1032 575.06 66.4643 575.939 L66.4643 571.773 Q69.1264 571.032 71.4412 570.661 Q73.7791 570.291 75.8393 570.291 Q81.1633 570.291 84.2652 572.722 Q87.367 575.129 87.367 579.249 Q87.367 582.12 85.7235 584.11 Q84.08 586.078 81.0476 586.842 Z\" fill=\"#000000\" fill-rule=\"evenodd\" fill-opacity=\"1\" /><path clip-path=\"url(#clip4800)\" d=\"M 0 0 M103.247 573.995 Q99.6354 573.995 97.8068 577.56 Q96.0012 581.101 96.0012 588.231 Q96.0012 595.337 97.8068 598.902 Q99.6354 602.444 103.247 602.444 Q106.881 602.444 108.686 598.902 Q110.515 595.337 110.515 588.231 Q110.515 581.101 108.686 577.56 Q106.881 573.995 103.247 573.995 M103.247 570.291 Q109.057 570.291 112.112 574.898 Q115.191 579.481 115.191 588.231 Q115.191 596.958 112.112 601.564 Q109.057 606.147 103.247 606.147 Q97.4364 606.147 94.3577 601.564 Q91.3022 596.958 91.3022 588.231 Q91.3022 579.481 94.3577 574.898 Q97.4364 570.291 103.247 570.291 Z\" fill=\"#000000\" fill-rule=\"evenodd\" fill-opacity=\"1\" /><path clip-path=\"url(#clip4800)\" d=\"M 0 0 M130.26 573.995 Q126.649 573.995 124.82 577.56 Q123.015 581.101 123.015 588.231 Q123.015 595.337 124.82 598.902 Q126.649 602.444 130.26 602.444 Q133.895 602.444 135.7 598.902 Q137.529 595.337 137.529 588.231 Q137.529 581.101 135.7 577.56 Q133.895 573.995 130.26 573.995 M130.26 570.291 Q136.07 570.291 139.126 574.898 Q142.205 579.481 142.205 588.231 Q142.205 596.958 139.126 601.564 Q136.07 606.147 130.26 606.147 Q124.45 606.147 121.371 601.564 Q118.316 596.958 118.316 588.231 Q118.316 579.481 121.371 574.898 Q124.45 570.291 130.26 570.291 Z\" fill=\"#000000\" fill-rule=\"evenodd\" fill-opacity=\"1\" /><path clip-path=\"url(#clip4800)\" d=\"M 0 0 M78.5939 217.69 L66.7884 236.139 L78.5939 236.139 L78.5939 217.69 M77.367 213.616 L83.2466 213.616 L83.2466 236.139 L88.1772 236.139 L88.1772 240.028 L83.2466 240.028 L83.2466 248.176 L78.5939 248.176 L78.5939 240.028 L62.9921 240.028 L62.9921 235.514 L77.367 213.616 Z\" fill=\"#000000\" fill-rule=\"evenodd\" fill-opacity=\"1\" /><path clip-path=\"url(#clip4800)\" d=\"M 0 0 M103.247 216.695 Q99.6354 216.695 97.8068 220.26 Q96.0012 223.801 96.0012 230.931 Q96.0012 238.037 97.8068 241.602 Q99.6354 245.144 103.247 245.144 Q106.881 245.144 108.686 241.602 Q110.515 238.037 110.515 230.931 Q110.515 223.801 108.686 220.26 Q106.881 216.695 103.247 216.695 M103.247 212.991 Q109.057 212.991 112.112 217.598 Q115.191 222.181 115.191 230.931 Q115.191 239.658 112.112 244.264 Q109.057 248.848 103.247 248.848 Q97.4364 248.848 94.3577 244.264 Q91.3022 239.658 91.3022 230.931 Q91.3022 222.181 94.3577 217.598 Q97.4364 212.991 103.247 212.991 Z\" fill=\"#000000\" fill-rule=\"evenodd\" fill-opacity=\"1\" /><path clip-path=\"url(#clip4800)\" d=\"M 0 0 M130.26 216.695 Q126.649 216.695 124.82 220.26 Q123.015 223.801 123.015 230.931 Q123.015 238.037 124.82 241.602 Q126.649 245.144 130.26 245.144 Q133.895 245.144 135.7 241.602 Q137.529 238.037 137.529 230.931 Q137.529 223.801 135.7 220.26 Q133.895 216.695 130.26 216.695 M130.26 212.991 Q136.07 212.991 139.126 217.598 Q142.205 222.181 142.205 230.931 Q142.205 239.658 139.126 244.264 Q136.07 248.848 130.26 248.848 Q124.45 248.848 121.371 244.264 Q118.316 239.658 118.316 230.931 Q118.316 222.181 121.371 217.598 Q124.45 212.991 130.26 212.991 Z\" fill=\"#000000\" fill-rule=\"evenodd\" fill-opacity=\"1\" /><polyline clip-path=\"url(#clip4802)\" style=\"stroke:#009af9; stroke-width:4; stroke-opacity:1; fill:none\" points=\"\n",
       "  228.088,1338.53 248.924,1088.42 269.761,802.576 290.597,1159.88 311.433,909.766 332.269,802.576 353.105,1231.34 373.942,802.576 394.778,802.576 415.614,909.766 \n",
       "  436.45,802.576 457.286,909.766 478.123,1267.07 498.959,123.706 519.795,623.926 540.631,123.706 561.467,1052.69 582.304,909.766 603.14,1338.53 623.976,1445.72 \n",
       "  644.812,123.706 665.648,123.706 686.485,1231.34 707.321,1231.34 728.157,1231.34 748.993,123.706 769.829,909.766 790.666,1338.53 811.502,1445.72 832.338,1445.72 \n",
       "  853.174,123.706 874.011,1445.72 894.847,1445.72 915.683,909.766 936.519,909.766 957.355,123.706 978.192,1159.88 999.028,909.766 1019.86,909.766 1040.7,909.766 \n",
       "  1061.54,123.706 1082.37,516.736 1103.21,1409.99 1124.04,1231.34 1144.88,1409.99 1165.72,123.706 1186.55,1231.34 1207.39,1445.72 1228.23,123.706 1249.06,123.706 \n",
       "  1269.9,123.706 1290.73,909.766 1311.57,909.766 1332.41,123.706 1353.24,123.706 1374.08,123.706 1394.92,909.766 1415.75,766.846 1436.59,1088.42 1457.42,909.766 \n",
       "  1478.26,123.706 1499.1,1445.72 1519.93,123.706 1540.77,1231.34 1561.61,1445.72 1582.44,123.706 1603.28,1338.53 1624.11,838.306 1644.95,1088.42 1665.79,1445.72 \n",
       "  1686.62,123.706 1707.46,874.036 1728.29,123.706 1749.13,123.706 1769.97,838.306 1790.8,123.706 1811.64,909.766 1832.48,623.926 1853.31,1445.72 1874.15,1445.72 \n",
       "  1894.98,123.706 1915.82,1052.69 1936.66,1445.72 1957.49,481.006 1978.33,909.766 1999.17,123.706 2020,87.9763 2040.84,1338.53 2061.67,909.766 2082.51,1088.42 \n",
       "  2103.35,87.9763 2124.18,909.766 2145.02,909.766 2165.86,87.9763 2186.69,1445.72 2207.53,87.9763 2228.36,1338.53 2249.2,1338.53 2270.04,1445.72 2290.87,1088.42 \n",
       "  \n",
       "  \"/>\n",
       "<polyline clip-path=\"url(#clip4802)\" style=\"stroke:#e26f46; stroke-width:4; stroke-opacity:1; fill:none\" points=\"\n",
       "  228.088,1338.53 248.924,1445.72 269.761,1445.72 290.597,1445.72 311.433,1338.53 332.269,1445.72 353.105,1445.72 373.942,1409.99 394.778,1409.99 415.614,1409.99 \n",
       "  436.45,1445.72 457.286,1409.99 478.123,1409.99 498.959,1445.72 519.795,1445.72 540.631,1409.99 561.467,1445.72 582.304,1409.99 603.14,1445.72 623.976,1409.99 \n",
       "  644.812,1445.72 665.648,1338.53 686.485,1445.72 707.321,1445.72 728.157,909.766 748.993,659.656 769.829,1445.72 790.666,1409.99 811.502,1445.72 832.338,1338.53 \n",
       "  853.174,1445.72 874.011,1409.99 894.847,1445.72 915.683,1338.53 936.519,1445.72 957.355,1445.72 978.192,1445.72 999.028,1409.99 1019.86,1409.99 1040.7,1445.72 \n",
       "  1061.54,1338.53 1082.37,1445.72 1103.21,1409.99 1124.04,1338.53 1144.88,1445.72 1165.72,1409.99 1186.55,1338.53 1207.39,1338.53 1228.23,909.766 1249.06,1445.72 \n",
       "  1269.9,1445.72 1290.73,1445.72 1311.57,1445.72 1332.41,1445.72 1353.24,1445.72 1374.08,909.766 1394.92,1445.72 1415.75,1445.72 1436.59,1409.99 1457.42,1445.72 \n",
       "  1478.26,1338.53 1499.1,1445.72 1519.93,1409.99 1540.77,1445.72 1561.61,1445.72 1582.44,1445.72 1603.28,1338.53 1624.11,1409.99 1644.95,1445.72 1665.79,1445.72 \n",
       "  1686.62,1409.99 1707.46,1445.72 1728.29,1445.72 1749.13,1445.72 1769.97,1445.72 1790.8,1445.72 1811.64,1445.72 1832.48,909.766 1853.31,909.766 1874.15,909.766 \n",
       "  1894.98,909.766 1915.82,1445.72 1936.66,1445.72 1957.49,1409.99 1978.33,909.766 1999.17,1409.99 2020,909.766 2040.84,1445.72 2061.67,1445.72 2082.51,1338.53 \n",
       "  2103.35,1445.72 2124.18,1409.99 2145.02,909.766 2165.86,909.766 2186.69,1445.72 2207.53,1409.99 2228.36,909.766 2249.2,909.766 2270.04,1409.99 2290.87,1409.99 \n",
       "  \n",
       "  \"/>\n",
       "<path clip-path=\"url(#clip4800)\" d=\"\n",
       "M1953.07 312.204 L2280.76 312.204 L2280.76 130.764 L1953.07 130.764  Z\n",
       "  \" fill=\"#ffffff\" fill-rule=\"evenodd\" fill-opacity=\"1\"/>\n",
       "<polyline clip-path=\"url(#clip4800)\" style=\"stroke:#000000; stroke-width:4; stroke-opacity:1; fill:none\" points=\"\n",
       "  1953.07,312.204 2280.76,312.204 2280.76,130.764 1953.07,130.764 1953.07,312.204 \n",
       "  \"/>\n",
       "<polyline clip-path=\"url(#clip4800)\" style=\"stroke:#009af9; stroke-width:4; stroke-opacity:1; fill:none\" points=\"\n",
       "  1977.07,191.244 2121.07,191.244 \n",
       "  \"/>\n",
       "<path clip-path=\"url(#clip4800)\" d=\"M 0 0 M2172.94 176.626 L2172.94 181.557 Q2170.58 179.358 2167.9 178.27 Q2165.23 177.182 2162.22 177.182 Q2156.3 177.182 2153.15 180.816 Q2150 184.427 2150 191.279 Q2150 198.107 2153.15 201.742 Q2156.3 205.353 2162.22 205.353 Q2165.23 205.353 2167.9 204.265 Q2170.58 203.177 2172.94 200.978 L2172.94 205.862 Q2170.49 207.529 2167.73 208.362 Q2165 209.195 2161.95 209.195 Q2154.1 209.195 2149.59 204.404 Q2145.07 199.589 2145.07 191.279 Q2145.07 182.946 2149.59 178.154 Q2154.1 173.339 2161.95 173.339 Q2165.05 173.339 2167.78 174.172 Q2170.53 174.983 2172.94 176.626 Z\" fill=\"#000000\" fill-rule=\"evenodd\" fill-opacity=\"1\" /><path clip-path=\"url(#clip4800)\" d=\"M 0 0 M2201.16 203.594 L2201.16 194.311 L2193.52 194.311 L2193.52 190.469 L2205.79 190.469 L2205.79 205.307 Q2203.08 207.228 2199.82 208.223 Q2196.55 209.195 2192.85 209.195 Q2184.75 209.195 2180.16 204.473 Q2175.6 199.728 2175.6 191.279 Q2175.6 182.807 2180.16 178.084 Q2184.75 173.339 2192.85 173.339 Q2196.23 173.339 2199.26 174.172 Q2202.32 175.006 2204.89 176.626 L2204.89 181.603 Q2202.29 179.404 2199.38 178.293 Q2196.46 177.182 2193.24 177.182 Q2186.9 177.182 2183.71 180.723 Q2180.53 184.265 2180.53 191.279 Q2180.53 198.27 2183.71 201.811 Q2186.9 205.353 2193.24 205.353 Q2195.72 205.353 2197.66 204.936 Q2199.61 204.496 2201.16 203.594 Z\" fill=\"#000000\" fill-rule=\"evenodd\" fill-opacity=\"1\" /><path clip-path=\"url(#clip4800)\" d=\"M 0 0 M2215.12 177.807 L2215.12 190.793 L2221 190.793 Q2224.26 190.793 2226.04 189.103 Q2227.83 187.413 2227.83 184.288 Q2227.83 181.186 2226.04 179.496 Q2224.26 177.807 2221 177.807 L2215.12 177.807 M2210.44 173.964 L2221 173.964 Q2226.81 173.964 2229.77 176.603 Q2232.76 179.219 2232.76 184.288 Q2232.76 189.404 2229.77 192.02 Q2226.81 194.635 2221 194.635 L2215.12 194.635 L2215.12 208.524 L2210.44 208.524 L2210.44 173.964 Z\" fill=\"#000000\" fill-rule=\"evenodd\" fill-opacity=\"1\" /><polyline clip-path=\"url(#clip4800)\" style=\"stroke:#e26f46; stroke-width:4; stroke-opacity:1; fill:none\" points=\"\n",
       "  1977.07,251.724 2121.07,251.724 \n",
       "  \"/>\n",
       "<path clip-path=\"url(#clip4800)\" d=\"M 0 0 M2145.07 234.444 L2166.92 234.444 L2166.92 238.379 L2149.75 238.379 L2149.75 248.611 L2166.21 248.611 L2166.21 252.546 L2149.75 252.546 L2149.75 265.069 L2167.34 265.069 L2167.34 269.004 L2145.07 269.004 L2145.07 234.444 Z\" fill=\"#000000\" fill-rule=\"evenodd\" fill-opacity=\"1\" /><path clip-path=\"url(#clip4800)\" d=\"M 0 0 M2192.71 235.578 L2192.71 240.139 Q2190.05 238.865 2187.69 238.24 Q2185.33 237.615 2183.13 237.615 Q2179.31 237.615 2177.22 239.097 Q2175.16 240.578 2175.16 243.31 Q2175.16 245.601 2176.53 246.782 Q2177.92 247.939 2181.76 248.657 L2184.58 249.236 Q2189.82 250.231 2192.29 252.754 Q2194.79 255.254 2194.79 259.467 Q2194.79 264.49 2191.41 267.083 Q2188.06 269.675 2181.55 269.675 Q2179.1 269.675 2176.32 269.12 Q2173.57 268.564 2170.6 267.476 L2170.6 262.662 Q2173.45 264.259 2176.18 265.069 Q2178.91 265.879 2181.55 265.879 Q2185.56 265.879 2187.73 264.305 Q2189.91 262.731 2189.91 259.814 Q2189.91 257.268 2188.33 255.833 Q2186.78 254.398 2183.22 253.68 L2180.37 253.125 Q2175.14 252.083 2172.8 249.861 Q2170.46 247.638 2170.46 243.68 Q2170.46 239.097 2173.68 236.458 Q2176.92 233.819 2182.59 233.819 Q2185.02 233.819 2187.55 234.259 Q2190.07 234.699 2192.71 235.578 Z\" fill=\"#000000\" fill-rule=\"evenodd\" fill-opacity=\"1\" /></svg>\n"
      ]
     },
     "execution_count": 64,
     "metadata": {},
     "output_type": "execute_result"
    }
   ],
   "source": [
    "plot(cgp_fits, label=\"CGP\")\n",
    "plot!(es_fits, label=\"ES\")"
   ]
  },
  {
   "cell_type": "markdown",
   "metadata": {
    "slideshow": {
     "slide_type": "slide"
    }
   },
   "source": [
    "Seeing each individual evaluation is useful for understanding our optimization behavior. For example, with CGP, we can note that once it finds a good performing individual, it will test many other individuals which appear to have exactly the same behavior. Furthermore, most CGP mutations greatly decrease the overall fitness, bringing it down to the random action baseline of 60 or 70."
   ]
  },
  {
   "cell_type": "markdown",
   "metadata": {
    "slideshow": {
     "slide_type": "fragment"
    }
   },
   "source": [
    "For the neuroevolutionary strategy, we see that it doesn't build well off of previously observed individuals, with many sampled individuals at the random baseline. While the center of the genes is moving along the approximated gradient, the points sampled are chosen randomly and could have very low fitness values."
   ]
  },
  {
   "cell_type": "markdown",
   "metadata": {
    "slideshow": {
     "slide_type": "fragment"
    }
   },
   "source": [
    "These sort of insights are useful for improving evolutionary methods. Finally, to better compare the two methods, we'll look at only the maximum fitness found over the entire evolution."
   ]
  },
  {
   "cell_type": "code",
   "execution_count": 66,
   "metadata": {
    "slideshow": {
     "slide_type": "slide"
    }
   },
   "outputs": [
    {
     "data": {
      "image/svg+xml": [
       "<?xml version=\"1.0\" encoding=\"utf-8\"?>\n",
       "<svg xmlns=\"http://www.w3.org/2000/svg\" xmlns:xlink=\"http://www.w3.org/1999/xlink\" width=\"600\" height=\"400\" viewBox=\"0 0 2400 1600\">\n",
       "<defs>\n",
       "  <clipPath id=\"clip5200\">\n",
       "    <rect x=\"0\" y=\"0\" width=\"2400\" height=\"1600\"/>\n",
       "  </clipPath>\n",
       "</defs>\n",
       "<path clip-path=\"url(#clip5200)\" d=\"\n",
       "M0 1600 L2400 1600 L2400 0 L0 0  Z\n",
       "  \" fill=\"#ffffff\" fill-rule=\"evenodd\" fill-opacity=\"1\"/>\n",
       "<defs>\n",
       "  <clipPath id=\"clip5201\">\n",
       "    <rect x=\"480\" y=\"0\" width=\"1681\" height=\"1600\"/>\n",
       "  </clipPath>\n",
       "</defs>\n",
       "<path clip-path=\"url(#clip5200)\" d=\"\n",
       "M166.205 1486.45 L2352.76 1486.45 L2352.76 47.2441 L166.205 47.2441  Z\n",
       "  \" fill=\"#ffffff\" fill-rule=\"evenodd\" fill-opacity=\"1\"/>\n",
       "<defs>\n",
       "  <clipPath id=\"clip5202\">\n",
       "    <rect x=\"166\" y=\"47\" width=\"2188\" height=\"1440\"/>\n",
       "  </clipPath>\n",
       "</defs>\n",
       "<polyline clip-path=\"url(#clip5202)\" style=\"stroke:#000000; stroke-width:2; stroke-opacity:0.1; fill:none\" points=\"\n",
       "  207.252,1486.45 207.252,47.2441 \n",
       "  \"/>\n",
       "<polyline clip-path=\"url(#clip5202)\" style=\"stroke:#000000; stroke-width:2; stroke-opacity:0.1; fill:none\" points=\"\n",
       "  728.157,1486.45 728.157,47.2441 \n",
       "  \"/>\n",
       "<polyline clip-path=\"url(#clip5202)\" style=\"stroke:#000000; stroke-width:2; stroke-opacity:0.1; fill:none\" points=\"\n",
       "  1249.06,1486.45 1249.06,47.2441 \n",
       "  \"/>\n",
       "<polyline clip-path=\"url(#clip5202)\" style=\"stroke:#000000; stroke-width:2; stroke-opacity:0.1; fill:none\" points=\"\n",
       "  1769.97,1486.45 1769.97,47.2441 \n",
       "  \"/>\n",
       "<polyline clip-path=\"url(#clip5202)\" style=\"stroke:#000000; stroke-width:2; stroke-opacity:0.1; fill:none\" points=\"\n",
       "  2290.87,1486.45 2290.87,47.2441 \n",
       "  \"/>\n",
       "<polyline clip-path=\"url(#clip5202)\" style=\"stroke:#000000; stroke-width:2; stroke-opacity:0.1; fill:none\" points=\"\n",
       "  166.205,1406.92 2352.76,1406.92 \n",
       "  \"/>\n",
       "<polyline clip-path=\"url(#clip5202)\" style=\"stroke:#000000; stroke-width:2; stroke-opacity:0.1; fill:none\" points=\"\n",
       "  166.205,1019 2352.76,1019 \n",
       "  \"/>\n",
       "<polyline clip-path=\"url(#clip5202)\" style=\"stroke:#000000; stroke-width:2; stroke-opacity:0.1; fill:none\" points=\"\n",
       "  166.205,631.072 2352.76,631.072 \n",
       "  \"/>\n",
       "<polyline clip-path=\"url(#clip5202)\" style=\"stroke:#000000; stroke-width:2; stroke-opacity:0.1; fill:none\" points=\"\n",
       "  166.205,243.146 2352.76,243.146 \n",
       "  \"/>\n",
       "<polyline clip-path=\"url(#clip5200)\" style=\"stroke:#000000; stroke-width:4; stroke-opacity:1; fill:none\" points=\"\n",
       "  166.205,1486.45 2352.76,1486.45 \n",
       "  \"/>\n",
       "<polyline clip-path=\"url(#clip5200)\" style=\"stroke:#000000; stroke-width:4; stroke-opacity:1; fill:none\" points=\"\n",
       "  166.205,1486.45 166.205,47.2441 \n",
       "  \"/>\n",
       "<polyline clip-path=\"url(#clip5200)\" style=\"stroke:#000000; stroke-width:4; stroke-opacity:1; fill:none\" points=\"\n",
       "  207.252,1486.45 207.252,1469.18 \n",
       "  \"/>\n",
       "<polyline clip-path=\"url(#clip5200)\" style=\"stroke:#000000; stroke-width:4; stroke-opacity:1; fill:none\" points=\"\n",
       "  728.157,1486.45 728.157,1469.18 \n",
       "  \"/>\n",
       "<polyline clip-path=\"url(#clip5200)\" style=\"stroke:#000000; stroke-width:4; stroke-opacity:1; fill:none\" points=\"\n",
       "  1249.06,1486.45 1249.06,1469.18 \n",
       "  \"/>\n",
       "<polyline clip-path=\"url(#clip5200)\" style=\"stroke:#000000; stroke-width:4; stroke-opacity:1; fill:none\" points=\"\n",
       "  1769.97,1486.45 1769.97,1469.18 \n",
       "  \"/>\n",
       "<polyline clip-path=\"url(#clip5200)\" style=\"stroke:#000000; stroke-width:4; stroke-opacity:1; fill:none\" points=\"\n",
       "  2290.87,1486.45 2290.87,1469.18 \n",
       "  \"/>\n",
       "<polyline clip-path=\"url(#clip5200)\" style=\"stroke:#000000; stroke-width:4; stroke-opacity:1; fill:none\" points=\"\n",
       "  166.205,1406.92 192.443,1406.92 \n",
       "  \"/>\n",
       "<polyline clip-path=\"url(#clip5200)\" style=\"stroke:#000000; stroke-width:4; stroke-opacity:1; fill:none\" points=\"\n",
       "  166.205,1019 192.443,1019 \n",
       "  \"/>\n",
       "<polyline clip-path=\"url(#clip5200)\" style=\"stroke:#000000; stroke-width:4; stroke-opacity:1; fill:none\" points=\"\n",
       "  166.205,631.072 192.443,631.072 \n",
       "  \"/>\n",
       "<polyline clip-path=\"url(#clip5200)\" style=\"stroke:#000000; stroke-width:4; stroke-opacity:1; fill:none\" points=\"\n",
       "  166.205,243.146 192.443,243.146 \n",
       "  \"/>\n",
       "<path clip-path=\"url(#clip5200)\" d=\"M 0 0 M207.252 1508.44 Q203.641 1508.44 201.812 1512 Q200.007 1515.55 200.007 1522.67 Q200.007 1529.78 201.812 1533.35 Q203.641 1536.89 207.252 1536.89 Q210.886 1536.89 212.692 1533.35 Q214.52 1529.78 214.52 1522.67 Q214.52 1515.55 212.692 1512 Q210.886 1508.44 207.252 1508.44 M207.252 1504.73 Q213.062 1504.73 216.118 1509.34 Q219.196 1513.92 219.196 1522.67 Q219.196 1531.4 216.118 1536.01 Q213.062 1540.59 207.252 1540.59 Q201.442 1540.59 198.363 1536.01 Q195.308 1531.4 195.308 1522.67 Q195.308 1513.92 198.363 1509.34 Q201.442 1504.73 207.252 1504.73 Z\" fill=\"#000000\" fill-rule=\"evenodd\" fill-opacity=\"1\" /><path clip-path=\"url(#clip5200)\" d=\"M 0 0 M709.801 1535.98 L726.12 1535.98 L726.12 1539.92 L704.176 1539.92 L704.176 1535.98 Q706.838 1533.23 711.421 1528.6 Q716.028 1523.95 717.208 1522.61 Q719.453 1520.08 720.333 1518.35 Q721.236 1516.59 721.236 1514.9 Q721.236 1512.14 719.291 1510.41 Q717.37 1508.67 714.268 1508.67 Q712.069 1508.67 709.616 1509.43 Q707.185 1510.2 704.407 1511.75 L704.407 1507.03 Q707.231 1505.89 709.685 1505.31 Q712.139 1504.73 714.176 1504.73 Q719.546 1504.73 722.74 1507.42 Q725.935 1510.11 725.935 1514.6 Q725.935 1516.73 725.125 1518.65 Q724.338 1520.54 722.231 1523.14 Q721.652 1523.81 718.551 1527.03 Q715.449 1530.22 709.801 1535.98 Z\" fill=\"#000000\" fill-rule=\"evenodd\" fill-opacity=\"1\" /><path clip-path=\"url(#clip5200)\" d=\"M 0 0 M731.236 1505.36 L749.592 1505.36 L749.592 1509.3 L735.518 1509.3 L735.518 1517.77 Q736.537 1517.42 737.555 1517.26 Q738.574 1517.07 739.592 1517.07 Q745.379 1517.07 748.759 1520.24 Q752.138 1523.42 752.138 1528.83 Q752.138 1534.41 748.666 1537.51 Q745.194 1540.59 738.875 1540.59 Q736.699 1540.59 734.43 1540.22 Q732.185 1539.85 729.777 1539.11 L729.777 1534.41 Q731.861 1535.54 734.083 1536.1 Q736.305 1536.66 738.782 1536.66 Q742.787 1536.66 745.125 1534.55 Q747.463 1532.44 747.463 1528.83 Q747.463 1525.22 745.125 1523.11 Q742.787 1521.01 738.782 1521.01 Q736.907 1521.01 735.032 1521.42 Q733.18 1521.84 731.236 1522.72 L731.236 1505.36 Z\" fill=\"#000000\" fill-rule=\"evenodd\" fill-opacity=\"1\" /><path clip-path=\"url(#clip5200)\" d=\"M 0 0 M1225.83 1505.36 L1244.19 1505.36 L1244.19 1509.3 L1230.12 1509.3 L1230.12 1517.77 Q1231.13 1517.42 1232.15 1517.26 Q1233.17 1517.07 1234.19 1517.07 Q1239.98 1517.07 1243.36 1520.24 Q1246.74 1523.42 1246.74 1528.83 Q1246.74 1534.41 1243.26 1537.51 Q1239.79 1540.59 1233.47 1540.59 Q1231.3 1540.59 1229.03 1540.22 Q1226.78 1539.85 1224.37 1539.11 L1224.37 1534.41 Q1226.46 1535.54 1228.68 1536.1 Q1230.9 1536.66 1233.38 1536.66 Q1237.38 1536.66 1239.72 1534.55 Q1242.06 1532.44 1242.06 1528.83 Q1242.06 1525.22 1239.72 1523.11 Q1237.38 1521.01 1233.38 1521.01 Q1231.5 1521.01 1229.63 1521.42 Q1227.78 1521.84 1225.83 1522.72 L1225.83 1505.36 Z\" fill=\"#000000\" fill-rule=\"evenodd\" fill-opacity=\"1\" /><path clip-path=\"url(#clip5200)\" d=\"M 0 0 M1261.81 1508.44 Q1258.19 1508.44 1256.37 1512 Q1254.56 1515.55 1254.56 1522.67 Q1254.56 1529.78 1256.37 1533.35 Q1258.19 1536.89 1261.81 1536.89 Q1265.44 1536.89 1267.24 1533.35 Q1269.07 1529.78 1269.07 1522.67 Q1269.07 1515.55 1267.24 1512 Q1265.44 1508.44 1261.81 1508.44 M1261.81 1504.73 Q1267.62 1504.73 1270.67 1509.34 Q1273.75 1513.92 1273.75 1522.67 Q1273.75 1531.4 1270.67 1536.01 Q1267.62 1540.59 1261.81 1540.59 Q1256 1540.59 1252.92 1536.01 Q1249.86 1531.4 1249.86 1522.67 Q1249.86 1513.92 1252.92 1509.34 Q1256 1504.73 1261.81 1504.73 Z\" fill=\"#000000\" fill-rule=\"evenodd\" fill-opacity=\"1\" /><path clip-path=\"url(#clip5200)\" d=\"M 0 0 M1745.85 1505.36 L1768.07 1505.36 L1768.07 1507.35 L1755.52 1539.92 L1750.64 1539.92 L1762.44 1509.3 L1745.85 1509.3 L1745.85 1505.36 Z\" fill=\"#000000\" fill-rule=\"evenodd\" fill-opacity=\"1\" /><path clip-path=\"url(#clip5200)\" d=\"M 0 0 M1773.18 1505.36 L1791.54 1505.36 L1791.54 1509.3 L1777.47 1509.3 L1777.47 1517.77 Q1778.49 1517.42 1779.5 1517.26 Q1780.52 1517.07 1781.54 1517.07 Q1787.33 1517.07 1790.71 1520.24 Q1794.09 1523.42 1794.09 1528.83 Q1794.09 1534.41 1790.62 1537.51 Q1787.14 1540.59 1780.82 1540.59 Q1778.65 1540.59 1776.38 1540.22 Q1774.13 1539.85 1771.73 1539.11 L1771.73 1534.41 Q1773.81 1535.54 1776.03 1536.1 Q1778.25 1536.66 1780.73 1536.66 Q1784.74 1536.66 1787.07 1534.55 Q1789.41 1532.44 1789.41 1528.83 Q1789.41 1525.22 1787.07 1523.11 Q1784.74 1521.01 1780.73 1521.01 Q1778.86 1521.01 1776.98 1521.42 Q1775.13 1521.84 1773.18 1522.72 L1773.18 1505.36 Z\" fill=\"#000000\" fill-rule=\"evenodd\" fill-opacity=\"1\" /><path clip-path=\"url(#clip5200)\" d=\"M 0 0 M2254.24 1535.98 L2261.88 1535.98 L2261.88 1509.62 L2253.57 1511.29 L2253.57 1507.03 L2261.83 1505.36 L2266.51 1505.36 L2266.51 1535.98 L2274.15 1535.98 L2274.15 1539.92 L2254.24 1539.92 L2254.24 1535.98 Z\" fill=\"#000000\" fill-rule=\"evenodd\" fill-opacity=\"1\" /><path clip-path=\"url(#clip5200)\" d=\"M 0 0 M2289.22 1508.44 Q2285.61 1508.44 2283.78 1512 Q2281.97 1515.55 2281.97 1522.67 Q2281.97 1529.78 2283.78 1533.35 Q2285.61 1536.89 2289.22 1536.89 Q2292.85 1536.89 2294.66 1533.35 Q2296.49 1529.78 2296.49 1522.67 Q2296.49 1515.55 2294.66 1512 Q2292.85 1508.44 2289.22 1508.44 M2289.22 1504.73 Q2295.03 1504.73 2298.08 1509.34 Q2301.16 1513.92 2301.16 1522.67 Q2301.16 1531.4 2298.08 1536.01 Q2295.03 1540.59 2289.22 1540.59 Q2283.41 1540.59 2280.33 1536.01 Q2277.27 1531.4 2277.27 1522.67 Q2277.27 1513.92 2280.33 1509.34 Q2283.41 1504.73 2289.22 1504.73 Z\" fill=\"#000000\" fill-rule=\"evenodd\" fill-opacity=\"1\" /><path clip-path=\"url(#clip5200)\" d=\"M 0 0 M2316.23 1508.44 Q2312.62 1508.44 2310.79 1512 Q2308.99 1515.55 2308.99 1522.67 Q2308.99 1529.78 2310.79 1533.35 Q2312.62 1536.89 2316.23 1536.89 Q2319.87 1536.89 2321.67 1533.35 Q2323.5 1529.78 2323.5 1522.67 Q2323.5 1515.55 2321.67 1512 Q2319.87 1508.44 2316.23 1508.44 M2316.23 1504.73 Q2322.04 1504.73 2325.1 1509.34 Q2328.18 1513.92 2328.18 1522.67 Q2328.18 1531.4 2325.1 1536.01 Q2322.04 1540.59 2316.23 1540.59 Q2310.42 1540.59 2307.34 1536.01 Q2304.29 1531.4 2304.29 1522.67 Q2304.29 1513.92 2307.34 1509.34 Q2310.42 1504.73 2316.23 1504.73 Z\" fill=\"#000000\" fill-rule=\"evenodd\" fill-opacity=\"1\" /><path clip-path=\"url(#clip5200)\" d=\"M 0 0 M68.2699 1420.27 L75.9087 1420.27 L75.9087 1393.9 L67.5986 1395.57 L67.5986 1391.31 L75.8624 1389.64 L80.5383 1389.64 L80.5383 1420.27 L88.1772 1420.27 L88.1772 1424.2 L68.2699 1424.2 L68.2699 1420.27 Z\" fill=\"#000000\" fill-rule=\"evenodd\" fill-opacity=\"1\" /><path clip-path=\"url(#clip5200)\" d=\"M 0 0 M103.247 1392.72 Q99.6354 1392.72 97.8068 1396.29 Q96.0012 1399.83 96.0012 1406.96 Q96.0012 1414.06 97.8068 1417.63 Q99.6354 1421.17 103.247 1421.17 Q106.881 1421.17 108.686 1417.63 Q110.515 1414.06 110.515 1406.96 Q110.515 1399.83 108.686 1396.29 Q106.881 1392.72 103.247 1392.72 M103.247 1389.02 Q109.057 1389.02 112.112 1393.62 Q115.191 1398.21 115.191 1406.96 Q115.191 1415.68 112.112 1420.29 Q109.057 1424.87 103.247 1424.87 Q97.4364 1424.87 94.3577 1420.29 Q91.3022 1415.68 91.3022 1406.96 Q91.3022 1398.21 94.3577 1393.62 Q97.4364 1389.02 103.247 1389.02 Z\" fill=\"#000000\" fill-rule=\"evenodd\" fill-opacity=\"1\" /><path clip-path=\"url(#clip5200)\" d=\"M 0 0 M130.26 1392.72 Q126.649 1392.72 124.82 1396.29 Q123.015 1399.83 123.015 1406.96 Q123.015 1414.06 124.82 1417.63 Q126.649 1421.17 130.26 1421.17 Q133.895 1421.17 135.7 1417.63 Q137.529 1414.06 137.529 1406.96 Q137.529 1399.83 135.7 1396.29 Q133.895 1392.72 130.26 1392.72 M130.26 1389.02 Q136.07 1389.02 139.126 1393.62 Q142.205 1398.21 142.205 1406.96 Q142.205 1415.68 139.126 1420.29 Q136.07 1424.87 130.26 1424.87 Q124.45 1424.87 121.371 1420.29 Q118.316 1415.68 118.316 1406.96 Q118.316 1398.21 121.371 1393.62 Q124.45 1389.02 130.26 1389.02 Z\" fill=\"#000000\" fill-rule=\"evenodd\" fill-opacity=\"1\" /><path clip-path=\"url(#clip5200)\" d=\"M 0 0 M71.8578 1032.34 L88.1772 1032.34 L88.1772 1036.28 L66.2328 1036.28 L66.2328 1032.34 Q68.8949 1029.59 73.4782 1024.96 Q78.0846 1020.31 79.2652 1018.96 Q81.5105 1016.44 82.3902 1014.7 Q83.2929 1012.94 83.2929 1011.25 Q83.2929 1008.5 81.3485 1006.76 Q79.4272 1005.03 76.3254 1005.03 Q74.1263 1005.03 71.6726 1005.79 Q69.2421 1006.56 66.4643 1008.11 L66.4643 1003.38 Q69.2884 1002.25 71.7421 1001.67 Q74.1958 1001.09 76.2328 1001.09 Q81.6031 1001.09 84.7976 1003.78 Q87.992 1006.46 87.992 1010.95 Q87.992 1013.08 87.1818 1015 Q86.3948 1016.9 84.2883 1019.5 Q83.7096 1020.17 80.6078 1023.38 Q77.5059 1026.58 71.8578 1032.34 Z\" fill=\"#000000\" fill-rule=\"evenodd\" fill-opacity=\"1\" /><path clip-path=\"url(#clip5200)\" d=\"M 0 0 M103.247 1004.8 Q99.6354 1004.8 97.8068 1008.36 Q96.0012 1011.9 96.0012 1019.03 Q96.0012 1026.14 97.8068 1029.7 Q99.6354 1033.25 103.247 1033.25 Q106.881 1033.25 108.686 1029.7 Q110.515 1026.14 110.515 1019.03 Q110.515 1011.9 108.686 1008.36 Q106.881 1004.8 103.247 1004.8 M103.247 1001.09 Q109.057 1001.09 112.112 1005.7 Q115.191 1010.28 115.191 1019.03 Q115.191 1027.76 112.112 1032.37 Q109.057 1036.95 103.247 1036.95 Q97.4364 1036.95 94.3577 1032.37 Q91.3022 1027.76 91.3022 1019.03 Q91.3022 1010.28 94.3577 1005.7 Q97.4364 1001.09 103.247 1001.09 Z\" fill=\"#000000\" fill-rule=\"evenodd\" fill-opacity=\"1\" /><path clip-path=\"url(#clip5200)\" d=\"M 0 0 M130.26 1004.8 Q126.649 1004.8 124.82 1008.36 Q123.015 1011.9 123.015 1019.03 Q123.015 1026.14 124.82 1029.7 Q126.649 1033.25 130.26 1033.25 Q133.895 1033.25 135.7 1029.7 Q137.529 1026.14 137.529 1019.03 Q137.529 1011.9 135.7 1008.36 Q133.895 1004.8 130.26 1004.8 M130.26 1001.09 Q136.07 1001.09 139.126 1005.7 Q142.205 1010.28 142.205 1019.03 Q142.205 1027.76 139.126 1032.37 Q136.07 1036.95 130.26 1036.95 Q124.45 1036.95 121.371 1032.37 Q118.316 1027.76 118.316 1019.03 Q118.316 1010.28 121.371 1005.7 Q124.45 1001.09 130.26 1001.09 Z\" fill=\"#000000\" fill-rule=\"evenodd\" fill-opacity=\"1\" /><path clip-path=\"url(#clip5200)\" d=\"M 0 0 M81.0476 629.718 Q84.404 630.435 86.279 632.704 Q88.1772 634.972 88.1772 638.306 Q88.1772 643.422 84.6587 646.222 Q81.1402 649.023 74.6587 649.023 Q72.4828 649.023 70.168 648.584 Q67.8764 648.167 65.4227 647.31 L65.4227 642.797 Q67.3671 643.931 69.6819 644.509 Q71.9967 645.088 74.5198 645.088 Q78.918 645.088 81.2096 643.352 Q83.5244 641.616 83.5244 638.306 Q83.5244 635.25 81.3717 633.537 Q79.242 631.801 75.4226 631.801 L71.3949 631.801 L71.3949 627.959 L75.6078 627.959 Q79.0569 627.959 80.8855 626.593 Q82.7142 625.204 82.7142 622.611 Q82.7142 619.949 80.8161 618.537 Q78.9411 617.102 75.4226 617.102 Q73.5013 617.102 71.3023 617.519 Q69.1032 617.936 66.4643 618.815 L66.4643 614.649 Q69.1264 613.908 71.4412 613.537 Q73.7791 613.167 75.8393 613.167 Q81.1633 613.167 84.2652 615.598 Q87.367 618.005 87.367 622.125 Q87.367 624.996 85.7235 626.986 Q84.08 628.954 81.0476 629.718 Z\" fill=\"#000000\" fill-rule=\"evenodd\" fill-opacity=\"1\" /><path clip-path=\"url(#clip5200)\" d=\"M 0 0 M103.247 616.871 Q99.6354 616.871 97.8068 620.436 Q96.0012 623.977 96.0012 631.107 Q96.0012 638.213 97.8068 641.778 Q99.6354 645.32 103.247 645.32 Q106.881 645.32 108.686 641.778 Q110.515 638.213 110.515 631.107 Q110.515 623.977 108.686 620.436 Q106.881 616.871 103.247 616.871 M103.247 613.167 Q109.057 613.167 112.112 617.774 Q115.191 622.357 115.191 631.107 Q115.191 639.834 112.112 644.44 Q109.057 649.023 103.247 649.023 Q97.4364 649.023 94.3577 644.44 Q91.3022 639.834 91.3022 631.107 Q91.3022 622.357 94.3577 617.774 Q97.4364 613.167 103.247 613.167 Z\" fill=\"#000000\" fill-rule=\"evenodd\" fill-opacity=\"1\" /><path clip-path=\"url(#clip5200)\" d=\"M 0 0 M130.26 616.871 Q126.649 616.871 124.82 620.436 Q123.015 623.977 123.015 631.107 Q123.015 638.213 124.82 641.778 Q126.649 645.32 130.26 645.32 Q133.895 645.32 135.7 641.778 Q137.529 638.213 137.529 631.107 Q137.529 623.977 135.7 620.436 Q133.895 616.871 130.26 616.871 M130.26 613.167 Q136.07 613.167 139.126 617.774 Q142.205 622.357 142.205 631.107 Q142.205 639.834 139.126 644.44 Q136.07 649.023 130.26 649.023 Q124.45 649.023 121.371 644.44 Q118.316 639.834 118.316 631.107 Q118.316 622.357 121.371 617.774 Q124.45 613.167 130.26 613.167 Z\" fill=\"#000000\" fill-rule=\"evenodd\" fill-opacity=\"1\" /><path clip-path=\"url(#clip5200)\" d=\"M 0 0 M78.5939 229.941 L66.7884 248.39 L78.5939 248.39 L78.5939 229.941 M77.367 225.866 L83.2466 225.866 L83.2466 248.39 L88.1772 248.39 L88.1772 252.278 L83.2466 252.278 L83.2466 260.426 L78.5939 260.426 L78.5939 252.278 L62.9921 252.278 L62.9921 247.765 L77.367 225.866 Z\" fill=\"#000000\" fill-rule=\"evenodd\" fill-opacity=\"1\" /><path clip-path=\"url(#clip5200)\" d=\"M 0 0 M103.247 228.945 Q99.6354 228.945 97.8068 232.51 Q96.0012 236.052 96.0012 243.181 Q96.0012 250.288 97.8068 253.852 Q99.6354 257.394 103.247 257.394 Q106.881 257.394 108.686 253.852 Q110.515 250.288 110.515 243.181 Q110.515 236.052 108.686 232.51 Q106.881 228.945 103.247 228.945 M103.247 225.241 Q109.057 225.241 112.112 229.848 Q115.191 234.431 115.191 243.181 Q115.191 251.908 112.112 256.514 Q109.057 261.098 103.247 261.098 Q97.4364 261.098 94.3577 256.514 Q91.3022 251.908 91.3022 243.181 Q91.3022 234.431 94.3577 229.848 Q97.4364 225.241 103.247 225.241 Z\" fill=\"#000000\" fill-rule=\"evenodd\" fill-opacity=\"1\" /><path clip-path=\"url(#clip5200)\" d=\"M 0 0 M130.26 228.945 Q126.649 228.945 124.82 232.51 Q123.015 236.052 123.015 243.181 Q123.015 250.288 124.82 253.852 Q126.649 257.394 130.26 257.394 Q133.895 257.394 135.7 253.852 Q137.529 250.288 137.529 243.181 Q137.529 236.052 135.7 232.51 Q133.895 228.945 130.26 228.945 M130.26 225.241 Q136.07 225.241 139.126 229.848 Q142.205 234.431 142.205 243.181 Q142.205 251.908 139.126 256.514 Q136.07 261.098 130.26 261.098 Q124.45 261.098 121.371 256.514 Q118.316 251.908 118.316 243.181 Q118.316 234.431 121.371 229.848 Q124.45 225.241 130.26 225.241 Z\" fill=\"#000000\" fill-rule=\"evenodd\" fill-opacity=\"1\" /><polyline clip-path=\"url(#clip5202)\" style=\"stroke:#009af9; stroke-width:4; stroke-opacity:1; fill:none\" points=\"\n",
       "  228.088,1445.72 248.924,1174.17 269.761,863.827 290.597,863.827 311.433,863.827 332.269,863.827 353.105,863.827 373.942,863.827 394.778,863.827 415.614,863.827 \n",
       "  436.45,863.827 457.286,863.827 478.123,863.827 498.959,126.769 519.795,126.769 540.631,126.769 561.467,126.769 582.304,126.769 603.14,126.769 623.976,126.769 \n",
       "  644.812,126.769 665.648,126.769 686.485,126.769 707.321,126.769 728.157,126.769 748.993,126.769 769.829,126.769 790.666,126.769 811.502,126.769 832.338,126.769 \n",
       "  853.174,126.769 874.011,126.769 894.847,126.769 915.683,126.769 936.519,126.769 957.355,126.769 978.192,126.769 999.028,126.769 1019.86,126.769 1040.7,126.769 \n",
       "  1061.54,126.769 1082.37,126.769 1103.21,126.769 1124.04,126.769 1144.88,126.769 1165.72,126.769 1186.55,126.769 1207.39,126.769 1228.23,126.769 1249.06,126.769 \n",
       "  1269.9,126.769 1290.73,126.769 1311.57,126.769 1332.41,126.769 1353.24,126.769 1374.08,126.769 1394.92,126.769 1415.75,126.769 1436.59,126.769 1457.42,126.769 \n",
       "  1478.26,126.769 1499.1,126.769 1519.93,126.769 1540.77,126.769 1561.61,126.769 1582.44,126.769 1603.28,126.769 1624.11,126.769 1644.95,126.769 1665.79,126.769 \n",
       "  1686.62,126.769 1707.46,126.769 1728.29,126.769 1749.13,126.769 1769.97,126.769 1790.8,126.769 1811.64,126.769 1832.48,126.769 1853.31,126.769 1874.15,126.769 \n",
       "  1894.98,126.769 1915.82,126.769 1936.66,126.769 1957.49,126.769 1978.33,126.769 1999.17,126.769 2020,87.9763 2040.84,87.9763 2061.67,87.9763 2082.51,87.9763 \n",
       "  2103.35,87.9763 2124.18,87.9763 2145.02,87.9763 2165.86,87.9763 2186.69,87.9763 2207.53,87.9763 2228.36,87.9763 2249.2,87.9763 2270.04,87.9763 2290.87,87.9763 \n",
       "  \n",
       "  \"/>\n",
       "<polyline clip-path=\"url(#clip5202)\" style=\"stroke:#e26f46; stroke-width:4; stroke-opacity:1; fill:none\" points=\"\n",
       "  228.088,1445.72 248.924,1445.72 269.761,1445.72 290.597,1445.72 311.433,1445.72 332.269,1445.72 353.105,1445.72 373.942,1445.72 394.778,1445.72 415.614,1445.72 \n",
       "  436.45,1445.72 457.286,1445.72 478.123,1445.72 498.959,1445.72 519.795,1445.72 540.631,1445.72 561.467,1445.72 582.304,1445.72 603.14,1445.72 623.976,1445.72 \n",
       "  644.812,1445.72 665.648,1445.72 686.485,1445.72 707.321,1445.72 728.157,980.205 748.993,708.657 769.829,708.657 790.666,708.657 811.502,708.657 832.338,708.657 \n",
       "  853.174,708.657 874.011,708.657 894.847,708.657 915.683,708.657 936.519,708.657 957.355,708.657 978.192,708.657 999.028,708.657 1019.86,708.657 1040.7,708.657 \n",
       "  1061.54,708.657 1082.37,708.657 1103.21,708.657 1124.04,708.657 1144.88,708.657 1165.72,708.657 1186.55,708.657 1207.39,708.657 1228.23,708.657 1249.06,708.657 \n",
       "  1269.9,708.657 1290.73,708.657 1311.57,708.657 1332.41,708.657 1353.24,708.657 1374.08,708.657 1394.92,708.657 1415.75,708.657 1436.59,708.657 1457.42,708.657 \n",
       "  1478.26,708.657 1499.1,708.657 1519.93,708.657 1540.77,708.657 1561.61,708.657 1582.44,708.657 1603.28,708.657 1624.11,708.657 1644.95,708.657 1665.79,708.657 \n",
       "  1686.62,708.657 1707.46,708.657 1728.29,708.657 1749.13,708.657 1769.97,708.657 1790.8,708.657 1811.64,708.657 1832.48,708.657 1853.31,708.657 1874.15,708.657 \n",
       "  1894.98,708.657 1915.82,708.657 1936.66,708.657 1957.49,708.657 1978.33,708.657 1999.17,708.657 2020,708.657 2040.84,708.657 2061.67,708.657 2082.51,708.657 \n",
       "  2103.35,708.657 2124.18,708.657 2145.02,708.657 2165.86,708.657 2186.69,708.657 2207.53,708.657 2228.36,708.657 2249.2,708.657 2270.04,708.657 2290.87,708.657 \n",
       "  \n",
       "  \"/>\n",
       "<path clip-path=\"url(#clip5200)\" d=\"\n",
       "M1953.07 312.204 L2280.76 312.204 L2280.76 130.764 L1953.07 130.764  Z\n",
       "  \" fill=\"#ffffff\" fill-rule=\"evenodd\" fill-opacity=\"1\"/>\n",
       "<polyline clip-path=\"url(#clip5200)\" style=\"stroke:#000000; stroke-width:4; stroke-opacity:1; fill:none\" points=\"\n",
       "  1953.07,312.204 2280.76,312.204 2280.76,130.764 1953.07,130.764 1953.07,312.204 \n",
       "  \"/>\n",
       "<polyline clip-path=\"url(#clip5200)\" style=\"stroke:#009af9; stroke-width:4; stroke-opacity:1; fill:none\" points=\"\n",
       "  1977.07,191.244 2121.07,191.244 \n",
       "  \"/>\n",
       "<path clip-path=\"url(#clip5200)\" d=\"M 0 0 M2172.94 176.626 L2172.94 181.557 Q2170.58 179.358 2167.9 178.27 Q2165.23 177.182 2162.22 177.182 Q2156.3 177.182 2153.15 180.816 Q2150 184.427 2150 191.279 Q2150 198.107 2153.15 201.742 Q2156.3 205.353 2162.22 205.353 Q2165.23 205.353 2167.9 204.265 Q2170.58 203.177 2172.94 200.978 L2172.94 205.862 Q2170.49 207.529 2167.73 208.362 Q2165 209.195 2161.95 209.195 Q2154.1 209.195 2149.59 204.404 Q2145.07 199.589 2145.07 191.279 Q2145.07 182.946 2149.59 178.154 Q2154.1 173.339 2161.95 173.339 Q2165.05 173.339 2167.78 174.172 Q2170.53 174.983 2172.94 176.626 Z\" fill=\"#000000\" fill-rule=\"evenodd\" fill-opacity=\"1\" /><path clip-path=\"url(#clip5200)\" d=\"M 0 0 M2201.16 203.594 L2201.16 194.311 L2193.52 194.311 L2193.52 190.469 L2205.79 190.469 L2205.79 205.307 Q2203.08 207.228 2199.82 208.223 Q2196.55 209.195 2192.85 209.195 Q2184.75 209.195 2180.16 204.473 Q2175.6 199.728 2175.6 191.279 Q2175.6 182.807 2180.16 178.084 Q2184.75 173.339 2192.85 173.339 Q2196.23 173.339 2199.26 174.172 Q2202.32 175.006 2204.89 176.626 L2204.89 181.603 Q2202.29 179.404 2199.38 178.293 Q2196.46 177.182 2193.24 177.182 Q2186.9 177.182 2183.71 180.723 Q2180.53 184.265 2180.53 191.279 Q2180.53 198.27 2183.71 201.811 Q2186.9 205.353 2193.24 205.353 Q2195.72 205.353 2197.66 204.936 Q2199.61 204.496 2201.16 203.594 Z\" fill=\"#000000\" fill-rule=\"evenodd\" fill-opacity=\"1\" /><path clip-path=\"url(#clip5200)\" d=\"M 0 0 M2215.12 177.807 L2215.12 190.793 L2221 190.793 Q2224.26 190.793 2226.04 189.103 Q2227.83 187.413 2227.83 184.288 Q2227.83 181.186 2226.04 179.496 Q2224.26 177.807 2221 177.807 L2215.12 177.807 M2210.44 173.964 L2221 173.964 Q2226.81 173.964 2229.77 176.603 Q2232.76 179.219 2232.76 184.288 Q2232.76 189.404 2229.77 192.02 Q2226.81 194.635 2221 194.635 L2215.12 194.635 L2215.12 208.524 L2210.44 208.524 L2210.44 173.964 Z\" fill=\"#000000\" fill-rule=\"evenodd\" fill-opacity=\"1\" /><polyline clip-path=\"url(#clip5200)\" style=\"stroke:#e26f46; stroke-width:4; stroke-opacity:1; fill:none\" points=\"\n",
       "  1977.07,251.724 2121.07,251.724 \n",
       "  \"/>\n",
       "<path clip-path=\"url(#clip5200)\" d=\"M 0 0 M2145.07 234.444 L2166.92 234.444 L2166.92 238.379 L2149.75 238.379 L2149.75 248.611 L2166.21 248.611 L2166.21 252.546 L2149.75 252.546 L2149.75 265.069 L2167.34 265.069 L2167.34 269.004 L2145.07 269.004 L2145.07 234.444 Z\" fill=\"#000000\" fill-rule=\"evenodd\" fill-opacity=\"1\" /><path clip-path=\"url(#clip5200)\" d=\"M 0 0 M2192.71 235.578 L2192.71 240.139 Q2190.05 238.865 2187.69 238.24 Q2185.33 237.615 2183.13 237.615 Q2179.31 237.615 2177.22 239.097 Q2175.16 240.578 2175.16 243.31 Q2175.16 245.601 2176.53 246.782 Q2177.92 247.939 2181.76 248.657 L2184.58 249.236 Q2189.82 250.231 2192.29 252.754 Q2194.79 255.254 2194.79 259.467 Q2194.79 264.49 2191.41 267.083 Q2188.06 269.675 2181.55 269.675 Q2179.1 269.675 2176.32 269.12 Q2173.57 268.564 2170.6 267.476 L2170.6 262.662 Q2173.45 264.259 2176.18 265.069 Q2178.91 265.879 2181.55 265.879 Q2185.56 265.879 2187.73 264.305 Q2189.91 262.731 2189.91 259.814 Q2189.91 257.268 2188.33 255.833 Q2186.78 254.398 2183.22 253.68 L2180.37 253.125 Q2175.14 252.083 2172.8 249.861 Q2170.46 247.638 2170.46 243.68 Q2170.46 239.097 2173.68 236.458 Q2176.92 233.819 2182.59 233.819 Q2185.02 233.819 2187.55 234.259 Q2190.07 234.699 2192.71 235.578 Z\" fill=\"#000000\" fill-rule=\"evenodd\" fill-opacity=\"1\" /></svg>\n"
      ]
     },
     "execution_count": 66,
     "metadata": {},
     "output_type": "execute_result"
    }
   ],
   "source": [
    "plot(accumulate(max, cgp_fits), label=\"CGP\")\n",
    "plot!(accumulate(max, es_fits), label=\"ES\")"
   ]
  },
  {
   "cell_type": "markdown",
   "metadata": {
    "slideshow": {
     "slide_type": "fragment"
    }
   },
   "source": [
    "CGP is a clear winner here, but of course to do a fair comparison, we should run both algorithms multiple times and then compare the average best fitness found and the standard deviation, ideally using a statistical significance test to see if the results are truly different. For environments with a known maximum fitness, the percentage of average evolutions which reach the maximum is also a very useful metric."
   ]
  },
  {
   "cell_type": "markdown",
   "metadata": {
    "slideshow": {
     "slide_type": "slide"
    }
   },
   "source": [
    "<div class=\"alert alert-info\">\n",
    "    Using the software provided in the project page, experiment with one or multiple evolutionary methods for the evolution of a game-playing agent. In your video presentations, please show and discuss:\n",
    "    <ul>\n",
    "        <li>Which evolutionary algorithm was used, with a brief overview of the algorithm</li>\n",
    "        <li>What, if any, modifications were made to the algorithm</li>\n",
    "        <li>What algorithm parameters were used and if you experimented with the parameters</li>\n",
    "        <li>If you compared to a second method, these details about the second method</li>\n",
    "        <li>Describe the game you were using</li>\n",
    "        <li>The state, actions, and objective function for the game</li>\n",
    "        <li>If any behavior characteristic was used, describe it</li>\n",
    "        <li>The results of evolution showing multiple trials with statistical analysis</li>\n",
    "        <li>Your interpretation of the results</li>\n",
    "        <li>Video of your agent playing the game</li>\n",
    "    </ul>\n",
    "</div>"
   ]
  },
  {
   "cell_type": "markdown",
   "metadata": {
    "slideshow": {
     "slide_type": "slide"
    }
   },
   "source": [
    "As a bonus, let's see an agent that evolved for 10000 generations (to 50000 total evaluations)"
   ]
  },
  {
   "cell_type": "code",
   "execution_count": 82,
   "metadata": {
    "slideshow": {
     "slide_type": "fragment"
    }
   },
   "outputs": [
    {
     "name": "stderr",
     "output_type": "stream",
     "text": [
      "A.L.E: Arcade Learning Environment (version 0.6.0)\n",
      "[Powered by Stella]\n",
      "Use -help for help screen.\n",
      "Game console created:\n",
      "  ROM file:  /home/d9w/.julia/packages/ArcadeLearningEnvironment/YJh2g/src/../deps/roms/ms_pacman.bin\n",
      "  Cart Name: Ms. Pac-Man (1982) (CCE)\n",
      "  Cart MD5:  9469d18238345d87768e8965f9f4a6b2\n",
      "  Display Format:  AUTO-DETECT ==> NTSC\n",
      "  ROM Size:        8192\n",
      "  Bankswitch Type: AUTO-DETECT ==> F8\n",
      "\n",
      "\n",
      "WARNING: Possibly unsupported ROM: mismatched MD5.\n",
      "Cartridge_MD5: 9469d18238345d87768e8965f9f4a6b2\n",
      "Cartridge_name: Ms. Pac-Man (1982) (CCE)\n",
      "\n",
      "Running ROM file...\n",
      "Random seed is 0\n"
     ]
    },
    {
     "data": {
      "text/plain": [
       "(5320, Frames{MIME{Symbol(\"image/png\")}}(\"/tmp/jl_OTHMjQ\", 0x0000000000000197, 6.0, nothing))"
      ]
     },
     "execution_count": 82,
     "metadata": {},
     "output_type": "execute_result"
    }
   ],
   "source": [
    "using JSON\n",
    "best = JSON.parsefile(\"best.dna\")\n",
    "ind = CGPInd(cfg, Float64.(best[\"chromosome\"]));\n",
    "total_reward, frames = play_atari(ind, render=true)"
   ]
  },
  {
   "cell_type": "code",
   "execution_count": 81,
   "metadata": {
    "slideshow": {
     "slide_type": "slide"
    }
   },
   "outputs": [
    {
     "data": {
      "text/html": [
       "<img src=\"files/reel-6411126232244356161.gif?13001405169694569937\" />"
      ],
      "text/plain": [
       "Frames{MIME{Symbol(\"image/png\")}}(\"/tmp/jl_ZBvvDS\", 0x0000000000000197, 6.0, nothing)"
      ]
     },
     "execution_count": 81,
     "metadata": {},
     "output_type": "execute_result"
    }
   ],
   "source": [
    "frames"
   ]
  },
  {
   "cell_type": "markdown",
   "metadata": {
    "slideshow": {
     "slide_type": "fragment"
    }
   },
   "source": [
    "Good luck and have fun!\n",
    "\n",
    "<img src=\"../imgs/cat.gif\" width=\"30%\">"
   ]
  }
 ],
 "metadata": {
  "@webio": {
   "lastCommId": null,
   "lastKernelId": null
  },
  "celltoolbar": "Slideshow",
  "kernelspec": {
   "display_name": "Julia 1.4.1",
   "language": "julia",
   "name": "julia-1.4"
  },
  "language_info": {
   "file_extension": ".jl",
   "mimetype": "application/julia",
   "name": "julia",
   "version": "1.4.1"
  }
 },
 "nbformat": 4,
 "nbformat_minor": 2
}
