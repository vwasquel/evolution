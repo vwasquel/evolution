{
 "cells": [
  {
   "cell_type": "markdown",
   "metadata": {
    "slideshow": {
     "slide_type": "slide"
    }
   },
   "source": [
    "<img src=\"../imgs/logo.png\" width=\"20%\" align=\"right\" style=\"margin:0px 20px\">\n",
    "\n",
    "\n",
    "# Evolutionary Computation\n",
    "\n",
    "## Project: Evolution of Agents\n",
    "\n",
    "<a rel=\"license\" href=\"http://creativecommons.org/licenses/by-sa/4.0/\"><img alt=\"Creative Commons License\" align=\"left\" src=\"https://i.creativecommons.org/l/by-sa/4.0/80x15.png\" /></a>&nbsp;| Dennis G. Wilson | <a href=\"https://d9w.github.io/evolution/\">https://d9w.github.io/evolution/</a>"
   ]
  },
  {
   "cell_type": "markdown",
   "metadata": {
    "slideshow": {
     "slide_type": "slide"
    }
   },
   "source": [
    "# Outline\n",
    "\n",
    "1. [Reinforcement Learning](#rl)\n",
    "2. [Evolving Agents](#evolving)\n",
    "3. [Atari games](#atari)\n",
    "4. [CGP](#cgp)\n",
    "5. [Neuroevolution](#neuroevo)\n",
    "6. [Comparison](#comparison)"
   ]
  },
  {
   "cell_type": "markdown",
   "metadata": {
    "slideshow": {
     "slide_type": "fragment"
    }
   },
   "source": [
    "In this project, you have been asked to evolve an agent to play a video game. In this notebook, we'll see an example of that as well as a brief explanation on agent evolution."
   ]
  },
  {
   "cell_type": "markdown",
   "metadata": {
    "slideshow": {
     "slide_type": "slide"
    }
   },
   "source": [
    "# <a id=\"rl\"></a> Reinforcement Learning"
   ]
  },
  {
   "cell_type": "markdown",
   "metadata": {
    "slideshow": {
     "slide_type": "fragment"
    }
   },
   "source": [
    "The field of Reinforcement Learning provides a good framework for understanding the actions of an agent in an environment which rewards specific actions. There are many resources about RL online, including Emmanuel Rachelson's [class](https://github.com/erachelson/RLclass) which is taught in the SDD Master's program at Supaero. We'll look at a brief overview as it relates to evolution."
   ]
  },
  {
   "cell_type": "markdown",
   "metadata": {
    "slideshow": {
     "slide_type": "slide"
    }
   },
   "source": [
    "In RL, an agent acts based on a policy $\\pi$, which uses state information $S_t$ to take an action $A_t$. Based on this action, the environment rewards the agent $R_{t+1}$ and the agent moves into a new state $S_{t+1}$. "
   ]
  },
  {
   "cell_type": "markdown",
   "metadata": {
    "slideshow": {
     "slide_type": "fragment"
    }
   },
   "source": [
    "<img src=\"../imgs/erl.png\" width=\"35%\">"
   ]
  },
  {
   "cell_type": "markdown",
   "metadata": {
    "slideshow": {
     "slide_type": "slide"
    }
   },
   "source": [
    "The standard objective function for an evolutionary algorithm when applied to this problem is the sum total of the reward over all timesteps in an episode, from $t=0$ to the end of the episode $t=T$.\n",
    "\n",
    "$$\\sum_{t=0}^{t=T} R_{t}$$"
   ]
  },
  {
   "cell_type": "markdown",
   "metadata": {
    "slideshow": {
     "slide_type": "slide"
    }
   },
   "source": [
    "In other words, evolution is aiming to maximize the total reward over all states $S$ observed and actions $A$ taken  during this episode. The set of states observed and actions taken depends on the current individual $\\pi$ (or policy), where an action $a$ for a given state $s$ is determined by $a=\\pi(s)$. A different way to write the objective function is:\n",
    "\n",
    "$$\\sum_{t=0}^{t=T} r(s_t, \\pi(s_t))$$\n",
    "\n",
    "where $r$ is the reward function of the problem. The optimization of the total reward over the entire episode is very different from Reinforcement Learning algorithms, which maximize the reward over individual state, action $(S,A)$ pairs and many of which aim to approximate $r$. In most evolutionary computation, all that matters is the total reward."
   ]
  },
  {
   "cell_type": "markdown",
   "metadata": {
    "slideshow": {
     "slide_type": "slide"
    }
   },
   "source": [
    "<div class=\"alert alert-warning\">\n",
    "    <h3>Reminder</h3>\n",
    "    \n",
    "In an evolutionary algorithm, the total reward is not the only fitness objective possible. Quality diversity algorithms like MAP-Elites use behavior metrics which measure a different objective than reward over an episode. Using total reward is a good way to compare evolutionary methods to Reinforcement Learning algorithms, but it is not the only option for evolutionary fitness functions.\n",
    "</div>"
   ]
  },
  {
   "cell_type": "markdown",
   "metadata": {
    "slideshow": {
     "slide_type": "slide"
    }
   },
   "source": [
    "# <a id=\"evolving\"></a>Evolving Agents"
   ]
  },
  {
   "cell_type": "markdown",
   "metadata": {
    "slideshow": {
     "slide_type": "fragment"
    }
   },
   "source": [
    "When evolving agents, there are many options for representing the agent. The agent needs only to be able to taken an action $a$ at every step $s$, in other words the agent is $\\pi$ and we'll use the agent to compute $a=\\pi(s)$. Any representation of a function is possible: a layered artificial neural network where weights are optimized by evolution; a complex ANN where structure and weights are evolved; a genetic program; a gene regulatory network; any evolvable function representation works!"
   ]
  },
  {
   "cell_type": "markdown",
   "metadata": {
    "slideshow": {
     "slide_type": "slide"
    }
   },
   "source": [
    "<img src=\"../imgs/agent_representations.png\" width=\"50%\">"
   ]
  },
  {
   "cell_type": "markdown",
   "metadata": {
    "slideshow": {
     "slide_type": "slide"
    }
   },
   "source": [
    "The evaluation of an individual is therefore a multi-step process. Given an individual's genes $G$, a phenotype $P$ is computed. The genes can take many forms, as can the phenotypes. One example is a binary gene regulatory network, where binary genes encode protein tags which inform the weights of the final network, which is the phenotype. Another is the integer genotype used in NEAT, which encodes neurons and their connections in the phenotype which is a neural network."
   ]
  },
  {
   "cell_type": "markdown",
   "metadata": {
    "slideshow": {
     "slide_type": "fragment"
    }
   },
   "source": [
    "<img src=\"../imgs/gene_pheno_behavior.png\" width=\"70%\">"
   ]
  },
  {
   "cell_type": "markdown",
   "metadata": {
    "slideshow": {
     "slide_type": "slide"
    }
   },
   "source": [
    " For evaluation, $P$ must be capable of representing a function $\\pi$ which computes $a=\\pi(s)$ or sometimes $a_t=\\pi(s_t, r(s_{t-1}, a_{t-1}))$, where the reward from the previous step is also provided. The evaluation of the agent which informs its chances of passing on genetic information is then based on its behavior in a simulated environment."
   ]
  },
  {
   "cell_type": "markdown",
   "metadata": {
    "slideshow": {
     "slide_type": "fragment"
    }
   },
   "source": [
    "In this notebook, we'll compare Cartesian Genetic Programming, where our agent is a function graph, and neuroevolution, using a $(1, \\lambda)$ evolutionary strategy to evolve the weights of a 2 layer neural network. We'll use Atari games as the environment, specifically Ms. Pacman."
   ]
  },
  {
   "cell_type": "markdown",
   "metadata": {
    "slideshow": {
     "slide_type": "slide"
    }
   },
   "source": [
    "# <a id=\"atari\"></a> Atari games"
   ]
  },
  {
   "cell_type": "markdown",
   "metadata": {
    "slideshow": {
     "slide_type": "fragment"
    }
   },
   "source": [
    "For a game environment, we'll use the [Arcade Learning Environment](https://github.com/mgbellemare/Arcade-Learning-Environment), which allows us to emulate and manipulate Atari games. There is a [Julia wrapper](https://github.com/JuliaReinforcementLearning/ArcadeLearningEnvironment.jl) which I've only tested on Linux, although the [atari-py](https://github.com/openai/atari-py) package mentions Windows support"
   ]
  },
  {
   "cell_type": "code",
   "execution_count": 83,
   "metadata": {
    "slideshow": {
     "slide_type": "slide"
    }
   },
   "outputs": [
    {
     "name": "stderr",
     "output_type": "stream",
     "text": [
      "\u001b[32m\u001b[1m  Resolving\u001b[22m\u001b[39m package versions...\n",
      "\u001b[32m\u001b[1m   Updating\u001b[22m\u001b[39m `~/.julia/environments/v1.4/Project.toml`\n",
      "\u001b[90m [no changes]\u001b[39m\n",
      "\u001b[32m\u001b[1m   Updating\u001b[22m\u001b[39m `~/.julia/environments/v1.4/Manifest.toml`\n",
      "\u001b[90m [no changes]\u001b[39m\n"
     ]
    }
   ],
   "source": [
    "using Pkg\n",
    "pkg\"add ArcadeLearningEnvironment\""
   ]
  },
  {
   "cell_type": "markdown",
   "metadata": {
    "slideshow": {
     "slide_type": "fragment"
    }
   },
   "source": [
    "This package automatically installs a number of ROMs from the `atari-py` repository"
   ]
  },
  {
   "cell_type": "code",
   "execution_count": 84,
   "metadata": {
    "slideshow": {
     "slide_type": "fragment"
    }
   },
   "outputs": [
    {
     "name": "stderr",
     "output_type": "stream",
     "text": [
      "A.L.E: Arcade Learning Environment (version 0.6.0)\n",
      "[Powered by Stella]\n",
      "Use -help for help screen.\n"
     ]
    },
    {
     "data": {
      "text/plain": [
       "Ptr{Nothing} @0x000055d444680990"
      ]
     },
     "execution_count": 84,
     "metadata": {},
     "output_type": "execute_result"
    }
   ],
   "source": [
    "using ArcadeLearningEnvironment\n",
    "ale = ALE_new()"
   ]
  },
  {
   "cell_type": "code",
   "execution_count": 85,
   "metadata": {
    "slideshow": {
     "slide_type": "slide"
    }
   },
   "outputs": [
    {
     "data": {
      "text/plain": [
       "63-element Array{String,1}:\n",
       " \"adventure\"\n",
       " \"air_raid\"\n",
       " \"alien\"\n",
       " \"amidar\"\n",
       " \"assault\"\n",
       " \"asterix\"\n",
       " \"asteroids\"\n",
       " \"atlantis\"\n",
       " \"bank_heist\"\n",
       " \"battle_zone\"\n",
       " \"beam_rider\"\n",
       " \"berzerk\"\n",
       " \"bowling\"\n",
       " ⋮\n",
       " \"solaris\"\n",
       " \"space_invaders\"\n",
       " \"star_gunner\"\n",
       " \"tennis\"\n",
       " \"time_pilot\"\n",
       " \"tutankham\"\n",
       " \"up_n_down\"\n",
       " \"venture\"\n",
       " \"video_pinball\"\n",
       " \"wizard_of_wor\"\n",
       " \"yars_revenge\"\n",
       " \"zaxxon\""
      ]
     },
     "execution_count": 85,
     "metadata": {},
     "output_type": "execute_result"
    }
   ],
   "source": [
    "getROMList()"
   ]
  },
  {
   "cell_type": "markdown",
   "metadata": {
    "slideshow": {
     "slide_type": "slide"
    }
   },
   "source": [
    "We'll look at  Ms. Pacman as an example. Instead of using the entire action set, we'll only use the actions available in this game. Since the \"fire\" button isn't used in Ms. Pacman, the only actions are the 8 directions from the joystick and no input."
   ]
  },
  {
   "cell_type": "code",
   "execution_count": 86,
   "metadata": {
    "slideshow": {
     "slide_type": "fragment"
    }
   },
   "outputs": [
    {
     "name": "stderr",
     "output_type": "stream",
     "text": [
      "Game console created:\n",
      "  ROM file:  /home/d9w/.julia/packages/ArcadeLearningEnvironment/YJh2g/src/../deps/roms/ms_pacman.bin\n",
      "  Cart Name: Ms. Pac-Man (1982) (CCE)\n",
      "  Cart MD5:  9469d18238345d87768e8965f9f4a6b2\n",
      "  Display Format:  AUTO-DETECT ==> NTSC\n",
      "  ROM Size:        8192\n",
      "  Bankswitch Type: AUTO-DETECT ==> F8\n",
      "\n",
      "\n",
      "WARNING: Possibly unsupported ROM: mismatched MD5.\n",
      "Cartridge_MD5: 9469d18238345d87768e8965f9f4a6b2\n",
      "Cartridge_name: Ms. Pac-Man (1982) (CCE)\n",
      "\n",
      "Running ROM file...\n",
      "Random seed is 0\n"
     ]
    },
    {
     "data": {
      "text/plain": [
       "9-element Array{Int64,1}:\n",
       " 0\n",
       " 2\n",
       " 3\n",
       " 4\n",
       " 5\n",
       " 6\n",
       " 7\n",
       " 8\n",
       " 9"
      ]
     },
     "execution_count": 86,
     "metadata": {},
     "output_type": "execute_result"
    }
   ],
   "source": [
    "loadROM(ale, \"ms_pacman\")\n",
    "actions = getMinimalActionSet(ale)"
   ]
  },
  {
   "cell_type": "markdown",
   "metadata": {
    "slideshow": {
     "slide_type": "slide"
    }
   },
   "source": [
    "Let's see what the environment looks like."
   ]
  },
  {
   "cell_type": "code",
   "execution_count": 87,
   "metadata": {
    "slideshow": {
     "slide_type": "fragment"
    }
   },
   "outputs": [
    {
     "data": {
      "text/plain": [
       "get_screen (generic function with 1 method)"
      ]
     },
     "execution_count": 87,
     "metadata": {},
     "output_type": "execute_result"
    }
   ],
   "source": [
    "using Images, ImageView\n",
    "function get_screen(ale)\n",
    "    screen = reshape(getScreenRGB(ale), (3, getScreenWidth(ale), getScreenHeight(ale))) ./ 256\n",
    "    colorview(RGB, permutedims(screen, [1, 3, 2]))\n",
    "end"
   ]
  },
  {
   "cell_type": "code",
   "execution_count": 88,
   "metadata": {
    "slideshow": {
     "slide_type": "fragment"
    }
   },
   "outputs": [
    {
     "data": {
      "image/png": "[encoded data removed]",
      "text/plain": [
       "210×160 reshape(reinterpret(RGB{Float64}, ::Array{Float64,3}), 210, 160) with eltype RGB{Float64}:\n",
       " RGB{Float64}(0.0,0.0,0.0)                 …  RGB{Float64}(0.0,0.0,0.0)\n",
       " RGB{Float64}(0.890625,0.433594,0.433594)     RGB{Float64}(0.890625,0.433594,0.433594)\n",
       " RGB{Float64}(0.890625,0.433594,0.433594)     RGB{Float64}(0.890625,0.433594,0.433594)\n",
       " RGB{Float64}(0.890625,0.433594,0.433594)     RGB{Float64}(0.890625,0.433594,0.433594)\n",
       " RGB{Float64}(0.890625,0.433594,0.433594)     RGB{Float64}(0.890625,0.433594,0.433594)\n",
       " RGB{Float64}(0.890625,0.433594,0.433594)  …  RGB{Float64}(0.890625,0.433594,0.433594)\n",
       " RGB{Float64}(0.890625,0.433594,0.433594)     RGB{Float64}(0.890625,0.433594,0.433594)\n",
       " RGB{Float64}(0.890625,0.433594,0.433594)     RGB{Float64}(0.890625,0.433594,0.433594)\n",
       " RGB{Float64}(0.890625,0.433594,0.433594)     RGB{Float64}(0.890625,0.433594,0.433594)\n",
       " RGB{Float64}(0.890625,0.433594,0.433594)     RGB{Float64}(0.890625,0.433594,0.433594)\n",
       " RGB{Float64}(0.890625,0.433594,0.433594)  …  RGB{Float64}(0.890625,0.433594,0.433594)\n",
       " RGB{Float64}(0.890625,0.433594,0.433594)     RGB{Float64}(0.890625,0.433594,0.433594)\n",
       " RGB{Float64}(0.890625,0.433594,0.433594)     RGB{Float64}(0.890625,0.433594,0.433594)\n",
       " ⋮                                         ⋱  \n",
       " RGB{Float64}(0.0,0.0,0.0)                    RGB{Float64}(0.0,0.0,0.0)\n",
       " RGB{Float64}(0.0,0.0,0.0)                    RGB{Float64}(0.0,0.0,0.0)\n",
       " RGB{Float64}(0.0,0.0,0.0)                 …  RGB{Float64}(0.0,0.0,0.0)\n",
       " RGB{Float64}(0.0,0.0,0.0)                    RGB{Float64}(0.0,0.0,0.0)\n",
       " RGB{Float64}(0.0,0.0,0.0)                    RGB{Float64}(0.0,0.0,0.0)\n",
       " RGB{Float64}(0.0,0.0,0.0)                    RGB{Float64}(0.0,0.0,0.0)\n",
       " RGB{Float64}(0.0,0.0,0.0)                    RGB{Float64}(0.0,0.0,0.0)\n",
       " RGB{Float64}(0.0,0.0,0.0)                 …  RGB{Float64}(0.0,0.0,0.0)\n",
       " RGB{Float64}(0.0,0.0,0.0)                    RGB{Float64}(0.0,0.0,0.0)\n",
       " RGB{Float64}(0.0,0.0,0.0)                    RGB{Float64}(0.0,0.0,0.0)\n",
       " RGB{Float64}(0.0,0.0,0.0)                    RGB{Float64}(0.0,0.0,0.0)\n",
       " RGB{Float64}(0.0,0.0,0.0)                    RGB{Float64}(0.0,0.0,0.0)"
      ]
     },
     "execution_count": 88,
     "metadata": {},
     "output_type": "execute_result"
    }
   ],
   "source": [
    "get_screen(ale)"
   ]
  },
  {
   "cell_type": "markdown",
   "metadata": {
    "slideshow": {
     "slide_type": "slide"
    }
   },
   "source": [
    "Let's watch the environment as our agent takes random actions."
   ]
  },
  {
   "cell_type": "code",
   "execution_count": 89,
   "metadata": {
    "slideshow": {
     "slide_type": "fragment"
    }
   },
   "outputs": [],
   "source": [
    "using Reel\n",
    "Reel.set_output_type(\"gif\");"
   ]
  },
  {
   "cell_type": "code",
   "execution_count": 90,
   "metadata": {
    "slideshow": {
     "slide_type": "fragment"
    }
   },
   "outputs": [
    {
     "name": "stderr",
     "output_type": "stream",
     "text": [
      "Game console created:\n",
      "  ROM file:  /home/d9w/.julia/packages/ArcadeLearningEnvironment/YJh2g/src/../deps/roms/ms_pacman.bin\n",
      "  Cart Name: Ms. Pac-Man (1982) (CCE)\n",
      "  Cart MD5:  9469d18238345d87768e8965f9f4a6b2\n",
      "  Display Format:  AUTO-DETECT ==> NTSC\n",
      "  ROM Size:        8192\n",
      "  Bankswitch Type: AUTO-DETECT ==> F8\n",
      "\n",
      "\n",
      "WARNING: Possibly unsupported ROM: mismatched MD5.\n",
      "Cartridge_MD5: 9469d18238345d87768e8965f9f4a6b2\n",
      "Cartridge_name: Ms. Pac-Man (1982) (CCE)\n",
      "\n",
      "Running ROM file...\n",
      "Random seed is 0\n"
     ]
    }
   ],
   "source": [
    "loadROM(ale, \"ms_pacman\")\n",
    "frames = Frames(MIME(\"image/png\"), fps=60)\n",
    "total_reward = 0\n",
    "while ~game_over(ale)\n",
    "    total_reward += act(ale, rand(actions))\n",
    "    push!(frames, get_screen(ale))\n",
    "end\n",
    "reset_game(ale)"
   ]
  },
  {
   "cell_type": "code",
   "execution_count": 91,
   "metadata": {
    "slideshow": {
     "slide_type": "slide"
    }
   },
   "outputs": [
    {
     "data": {
      "text/html": [
       "<img src=\"files/reel-13602742308702038771.gif?1277900398723372877\" />"
      ],
      "text/plain": [
       "Frames{MIME{Symbol(\"image/png\")}}(\"/tmp/jl_3eqiJQ\", 0x00000000000006d9, 60.0, nothing)"
      ]
     },
     "execution_count": 91,
     "metadata": {},
     "output_type": "execute_result"
    }
   ],
   "source": [
    "frames"
   ]
  },
  {
   "cell_type": "markdown",
   "metadata": {
    "slideshow": {
     "slide_type": "slide"
    }
   },
   "source": [
    "For the state of our environment, we have two options: the pixels, as we saw in the [class on CGP](https://d9w.github.io/evolution/4_gp/2_cgp.html), and the RAM, the memory of the game. We'll use the RAM in this example since it is much smaller and evolution will be faster since we don't need to get the screen every step."
   ]
  },
  {
   "cell_type": "code",
   "execution_count": 92,
   "metadata": {
    "slideshow": {
     "slide_type": "fragment"
    }
   },
   "outputs": [
    {
     "name": "stderr",
     "output_type": "stream",
     "text": [
      "Game console created:\n",
      "  ROM file:  /home/d9w/.julia/packages/ArcadeLearningEnvironment/YJh2g/src/../deps/roms/ms_pacman.bin\n",
      "  Cart Name: Ms. Pac-Man (1982) (CCE)\n",
      "  Cart MD5:  9469d18238345d87768e8965f9f4a6b2\n",
      "  Display Format:  AUTO-DETECT ==> NTSC\n",
      "  ROM Size:        8192\n",
      "  Bankswitch Type: AUTO-DETECT ==> F8\n",
      "\n",
      "\n",
      "WARNING: Possibly unsupported ROM: mismatched MD5.\n",
      "Cartridge_MD5: 9469d18238345d87768e8965f9f4a6b2\n",
      "Cartridge_name: Ms. Pac-Man (1982) (CCE)\n",
      "\n",
      "Running ROM file...\n",
      "Random seed is 0\n"
     ]
    }
   ],
   "source": [
    "loadROM(ale, \"ms_pacman\")"
   ]
  },
  {
   "cell_type": "code",
   "execution_count": 93,
   "metadata": {
    "slideshow": {
     "slide_type": "slide"
    }
   },
   "outputs": [
    {
     "data": {
      "text/plain": [
       "128-element Array{UInt8,1}:\n",
       " 0x00\n",
       " 0x70\n",
       " 0x72\n",
       " 0x73\n",
       " 0x00\n",
       " 0x03\n",
       " 0x58\n",
       " 0x58\n",
       " 0x58\n",
       " 0x58\n",
       " 0x58\n",
       " 0x00\n",
       " 0x50\n",
       "    ⋮\n",
       " 0x00\n",
       " 0x3f\n",
       " 0x00\n",
       " 0x00\n",
       " 0x00\n",
       " 0x00\n",
       " 0x00\n",
       " 0x02\n",
       " 0x42\n",
       " 0xf0\n",
       " 0x92\n",
       " 0xd7"
      ]
     },
     "execution_count": 93,
     "metadata": {},
     "output_type": "execute_result"
    }
   ],
   "source": [
    "getRAM(ale)"
   ]
  },
  {
   "cell_type": "markdown",
   "metadata": {
    "slideshow": {
     "slide_type": "slide"
    }
   },
   "source": [
    "# <a id=\"cgp\"></a>CGP"
   ]
  },
  {
   "cell_type": "markdown",
   "metadata": {
    "slideshow": {
     "slide_type": "fragment"
    }
   },
   "source": [
    "Let's evolve our first agent. We'll use `Cambrian.jl` and `CartesianGeneticProgramming.jl` to evolve a function graph using CGP which takes in the RAM values and outputs a value per action, which we'll use the maximum of to determine the action at each step."
   ]
  },
  {
   "cell_type": "code",
   "execution_count": 94,
   "metadata": {
    "slideshow": {
     "slide_type": "slide"
    }
   },
   "outputs": [
    {
     "name": "stdout",
     "output_type": "stream",
     "text": [
      "\u001b[?25l\u001b[2K"
     ]
    },
    {
     "name": "stderr",
     "output_type": "stream",
     "text": [
      "\u001b[32m\u001b[1m   Updating\u001b[22m\u001b[39m git-repo `https://github.com/d9w/Cambrian.jl`\n"
     ]
    },
    {
     "name": "stdout",
     "output_type": "stream",
     "text": [
      "\u001b[?25h"
     ]
    },
    {
     "name": "stderr",
     "output_type": "stream",
     "text": [
      "\u001b[32m\u001b[1m  Resolving\u001b[22m\u001b[39m package versions...\n"
     ]
    },
    {
     "name": "stdout",
     "output_type": "stream",
     "text": [
      "\u001b[?25l\u001b[2K"
     ]
    },
    {
     "name": "stderr",
     "output_type": "stream",
     "text": [
      "\u001b[32m\u001b[1m   Updating\u001b[22m\u001b[39m `~/.julia/environments/v1.4/Project.toml`\n",
      "\u001b[90m [no changes]\u001b[39m\n",
      "\u001b[32m\u001b[1m   Updating\u001b[22m\u001b[39m `~/.julia/environments/v1.4/Manifest.toml`\n",
      "\u001b[90m [no changes]\u001b[39m\n",
      "\u001b[32m\u001b[1m   Updating\u001b[22m\u001b[39m git-repo `https://github.com/d9w/CartesianGeneticProgramming.jl`\n"
     ]
    },
    {
     "name": "stdout",
     "output_type": "stream",
     "text": [
      "\u001b[?25h"
     ]
    },
    {
     "name": "stderr",
     "output_type": "stream",
     "text": [
      "\u001b[32m\u001b[1m  Resolving\u001b[22m\u001b[39m package versions...\n",
      "\u001b[32m\u001b[1m   Updating\u001b[22m\u001b[39m `~/.julia/environments/v1.4/Project.toml`\n",
      "\u001b[90m [no changes]\u001b[39m\n",
      "\u001b[32m\u001b[1m   Updating\u001b[22m\u001b[39m `~/.julia/environments/v1.4/Manifest.toml`\n",
      "\u001b[90m [no changes]\u001b[39m\n"
     ]
    }
   ],
   "source": [
    "pkg\"add https://github.com/d9w/Cambrian.jl\"\n",
    "pkg\"add https://github.com/d9w/CartesianGeneticProgramming.jl\""
   ]
  },
  {
   "cell_type": "code",
   "execution_count": 95,
   "metadata": {
    "slideshow": {
     "slide_type": "slide"
    }
   },
   "outputs": [],
   "source": [
    "using Cambrian\n",
    "using CartesianGeneticProgramming"
   ]
  },
  {
   "cell_type": "markdown",
   "metadata": {
    "slideshow": {
     "slide_type": "fragment"
    }
   },
   "source": [
    "An example configuration for CGP on this problem is provided in `atari.yaml`. This specifies which functions CGP can choose from, how many rows and columns there are, and what the mutation rate is."
   ]
  },
  {
   "cell_type": "code",
   "execution_count": 96,
   "metadata": {
    "slideshow": {
     "slide_type": "fragment"
    }
   },
   "outputs": [
    {
     "data": {
      "text/plain": [
       "Dict{Any,Any} with 15 entries:\n",
       "  \"two_arity\"    => Bool[1, 1, 1, 0, 0, 0, 1, 1]\n",
       "  \"n_in\"         => 128\n",
       "  \"m_rate\"       => 0.1\n",
       "  \"functions\"    => Function[f_add, f_subtract, f_mult, f_abs, f_exp, f_sin, f_…\n",
       "  \"d_fitness\"    => 1\n",
       "  \"save_gen\"     => 10\n",
       "  \"out_m_rate\"   => 0.3\n",
       "  \"n_out\"        => 9\n",
       "  \"n_elite\"      => 1\n",
       "  \"n_population\" => 5\n",
       "  \"rows\"         => 3\n",
       "  \"n_gen\"        => 1000\n",
       "  \"seed\"         => 0\n",
       "  \"columns\"      => 100\n",
       "  \"log_gen\"      => 1"
      ]
     },
     "execution_count": 96,
     "metadata": {},
     "output_type": "execute_result"
    }
   ],
   "source": [
    "cfg = get_config(\"atari.yaml\")\n",
    "cfg[\"n_in\"] = length(getRAM(ale))\n",
    "cfg[\"n_out\"] = length(actions)\n",
    "cfg"
   ]
  },
  {
   "cell_type": "markdown",
   "metadata": {
    "slideshow": {
     "slide_type": "slide"
    }
   },
   "source": [
    "We'll define our objective function allowing us to also use this function to visualize an agent as it plays."
   ]
  },
  {
   "cell_type": "code",
   "execution_count": 97,
   "metadata": {
    "slideshow": {
     "slide_type": "fragment"
    }
   },
   "outputs": [
    {
     "data": {
      "text/plain": [
       "play_atari (generic function with 2 methods)"
      ]
     },
     "execution_count": 97,
     "metadata": {},
     "output_type": "execute_result"
    }
   ],
   "source": [
    "cgp_fits = []\n",
    "function play_atari(ind::CGPInd; render=false, seed=0)\n",
    "    ale = ALE_new()\n",
    "    loadROM(ale, \"ms_pacman\")\n",
    "    if render\n",
    "        frames = Frames(MIME(\"image/png\"), fps=6)\n",
    "    end\n",
    "    f = 0\n",
    "    total_reward = 0\n",
    "    while ~game_over(ale) && f < 18000\n",
    "        inputs = getRAM(ale) ./ typemax(UInt8)\n",
    "        output = process(ind, inputs)\n",
    "        total_reward += act(ale, actions[argmax(output)])\n",
    "        if render && mod(f, 10) == 0\n",
    "            push!(frames, get_screen(ale))\n",
    "        end\n",
    "        f += 1\n",
    "    end\n",
    "    ALE_del(ale)\n",
    "    if render\n",
    "        return total_reward, frames\n",
    "    end\n",
    "    push!(cgp_fits, total_reward)\n",
    "    [total_reward]\n",
    "end"
   ]
  },
  {
   "cell_type": "markdown",
   "metadata": {
    "slideshow": {
     "slide_type": "slide"
    }
   },
   "source": [
    "Let's see how a random individual does"
   ]
  },
  {
   "cell_type": "code",
   "execution_count": 98,
   "metadata": {
    "slideshow": {
     "slide_type": "fragment"
    }
   },
   "outputs": [
    {
     "name": "stdout",
     "output_type": "stream",
     "text": [
      "  3.457749 seconds (704.68 k allocations: 390.164 MiB, 1.52% gc time)\n",
      "elapsed time (ns): 3457749007\n",
      "gc time (ns):      52709088\n",
      "bytes allocated:   409116697\n",
      "pool allocs:       703520\n",
      "non-pool GC allocs:46\n",
      "malloc() calls:    1116\n",
      "GC pauses:         3\n"
     ]
    },
    {
     "name": "stderr",
     "output_type": "stream",
     "text": [
      "A.L.E: Arcade Learning Environment (version 0.6.0)\n",
      "[Powered by Stella]\n",
      "Use -help for help screen.\n",
      "Game console created:\n",
      "  ROM file:  /home/d9w/.julia/packages/ArcadeLearningEnvironment/YJh2g/src/../deps/roms/ms_pacman.bin\n",
      "  Cart Name: Ms. Pac-Man (1982) (CCE)\n",
      "  Cart MD5:  9469d18238345d87768e8965f9f4a6b2\n",
      "  Display Format:  AUTO-DETECT ==> NTSC\n",
      "  ROM Size:        8192\n",
      "  Bankswitch Type: AUTO-DETECT ==> F8\n",
      "\n",
      "\n",
      "WARNING: Possibly unsupported ROM: mismatched MD5.\n",
      "Cartridge_MD5: 9469d18238345d87768e8965f9f4a6b2\n",
      "Cartridge_name: Ms. Pac-Man (1982) (CCE)\n",
      "\n",
      "Running ROM file...\n",
      "Random seed is 0\n"
     ]
    },
    {
     "data": {
      "text/plain": [
       "(60, Frames{MIME{Symbol(\"image/png\")}}(\"/tmp/jl_WjE3mT\", 0x00000000000000ba, 6.0, nothing))"
      ]
     },
     "execution_count": 98,
     "metadata": {},
     "output_type": "execute_result"
    }
   ],
   "source": [
    "ind = CGPInd(cfg);\n",
    "@timev total_reward, frames = play_atari(ind; render=true)"
   ]
  },
  {
   "cell_type": "code",
   "execution_count": 99,
   "metadata": {
    "slideshow": {
     "slide_type": "slide"
    }
   },
   "outputs": [
    {
     "data": {
      "text/html": [
       "<img src=\"files/reel-1248628773579408940.gif?1247078628251904826\" />"
      ],
      "text/plain": [
       "Frames{MIME{Symbol(\"image/png\")}}(\"/tmp/jl_WjE3mT\", 0x00000000000000ba, 6.0, nothing)"
      ]
     },
     "execution_count": 99,
     "metadata": {},
     "output_type": "execute_result"
    }
   ],
   "source": [
    "frames"
   ]
  },
  {
   "cell_type": "markdown",
   "metadata": {
    "slideshow": {
     "slide_type": "slide"
    }
   },
   "source": [
    "The rendering evaluation took a while if we consider that during evolution, we'll run this function hundreds or thousands of times. Let's see how long it takes without rendering."
   ]
  },
  {
   "cell_type": "code",
   "execution_count": 100,
   "metadata": {
    "slideshow": {
     "slide_type": "fragment"
    }
   },
   "outputs": [
    {
     "name": "stdout",
     "output_type": "stream",
     "text": [
      "  0.535869 seconds (157.87 k allocations: 5.074 MiB)\n",
      "elapsed time (ns): 535869420\n",
      "bytes allocated:   5320480\n",
      "pool allocs:       157868\n"
     ]
    },
    {
     "name": "stderr",
     "output_type": "stream",
     "text": [
      "A.L.E: Arcade Learning Environment (version 0.6.0)\n",
      "[Powered by Stella]\n",
      "Use -help for help screen.\n",
      "Game console created:\n",
      "  ROM file:  /home/d9w/.julia/packages/ArcadeLearningEnvironment/YJh2g/src/../deps/roms/ms_pacman.bin\n",
      "  Cart Name: Ms. Pac-Man (1982) (CCE)\n",
      "  Cart MD5:  9469d18238345d87768e8965f9f4a6b2\n",
      "  Display Format:  AUTO-DETECT ==> NTSC\n",
      "  ROM Size:        8192\n",
      "  Bankswitch Type: AUTO-DETECT ==> F8\n",
      "\n",
      "\n",
      "WARNING: Possibly unsupported ROM: mismatched MD5.\n",
      "Cartridge_MD5: 9469d18238345d87768e8965f9f4a6b2\n",
      "Cartridge_name: Ms. Pac-Man (1982) (CCE)\n",
      "\n",
      "Running ROM file...\n",
      "Random seed is 0\n"
     ]
    },
    {
     "data": {
      "text/plain": [
       "1-element Array{Int64,1}:\n",
       " 60"
      ]
     },
     "execution_count": 100,
     "metadata": {},
     "output_type": "execute_result"
    }
   ],
   "source": [
    "@timev total_reward = play_atari(ind)"
   ]
  },
  {
   "cell_type": "markdown",
   "metadata": {
    "slideshow": {
     "slide_type": "slide"
    }
   },
   "source": [
    "That's better. Let's run the evolution for 20 generations, evaluating 5 individuals each time ($\\lambda$=5) for a total of 100 evaluations."
   ]
  },
  {
   "cell_type": "code",
   "execution_count": 101,
   "metadata": {
    "slideshow": {
     "slide_type": "fragment"
    }
   },
   "outputs": [],
   "source": [
    "cgp_fits = []\n",
    "evo = CartesianGeneticProgramming.evolution(cfg, play_atari);"
   ]
  },
  {
   "cell_type": "code",
   "execution_count": 102,
   "metadata": {
    "slideshow": {
     "slide_type": "fragment"
    }
   },
   "outputs": [
    {
     "name": "stderr",
     "output_type": "stream",
     "text": [
      "A.L.E: Arcade Learning Environment (version 0.6.0)\n",
      "[Powered by Stella]\n",
      "Use -help for help screen.\n",
      "Game console created:\n",
      "  ROM file:  /home/d9w/.julia/packages/ArcadeLearningEnvironment/YJh2g/src/../deps/roms/ms_pacman.bin\n",
      "  Cart Name: Ms. Pac-Man (1982) (CCE)\n",
      "  Cart MD5:  9469d18238345d87768e8965f9f4a6b2\n",
      "  Display Format:  AUTO-DETECT ==> NTSC\n",
      "  ROM Size:        8192\n",
      "  Bankswitch Type: AUTO-DETECT ==> F8\n",
      "\n",
      "\n",
      "WARNING: Possibly unsupported ROM: mismatched MD5.\n",
      "Cartridge_MD5: 9469d18238345d87768e8965f9f4a6b2\n",
      "Cartridge_name: Ms. Pac-Man (1982) (CCE)\n",
      "\n",
      "Running ROM file...\n",
      "Random seed is 0\n",
      "A.L.E: Arcade Learning Environment (version 0.6.0)\n",
      "[Powered by Stella]\n",
      "Use -help for help screen.\n",
      "Game console created:\n",
      "  ROM file:  /home/d9w/.julia/packages/ArcadeLearningEnvironment/YJh2g/src/../deps/roms/ms_pacman.bin\n",
      "  Cart Name: Ms. Pac-Man (1982) (CCE)\n",
      "  Cart MD5:  9469d18238345d87768e8965f9f4a6b2\n",
      "  Display Format:  AUTO-DETECT ==> NTSC\n",
      "  ROM Size:        8192\n",
      "  Bankswitch Type: AUTO-DETECT ==> F8\n",
      "\n",
      "\n",
      "WARNING: Possibly unsupported ROM: mismatched MD5.\n",
      "Cartridge_MD5: 9469d18238345d87768e8965f9f4a6b2\n",
      "Cartridge_name: Ms. Pac-Man (1982) (CCE)\n",
      "\n",
      "Running ROM file...\n",
      "Random seed is 0\n",
      "A.L.E: Arcade Learning Environment (version 0.6.0)\n",
      "[Powered by Stella]\n",
      "Use -help for help screen.\n",
      "Game console created:\n",
      "  ROM file:  /home/d9w/.julia/packages/ArcadeLearningEnvironment/YJh2g/src/../deps/roms/ms_pacman.bin\n",
      "  Cart Name: Ms. Pac-Man (1982) (CCE)\n",
      "  Cart MD5:  9469d18238345d87768e8965f9f4a6b2\n",
      "  Display Format:  AUTO-DETECT ==> NTSC\n",
      "  ROM Size:        8192\n",
      "  Bankswitch Type: AUTO-DETECT ==> F8\n",
      "\n",
      "\n",
      "WARNING: Possibly unsupported ROM: mismatched MD5.\n",
      "Cartridge_MD5: 9469d18238345d87768e8965f9f4a6b2\n",
      "Cartridge_name: Ms. Pac-Man (1982) (CCE)\n",
      "\n",
      "Running ROM file...\n",
      "Random seed is 0\n",
      "A.L.E: Arcade Learning Environment (version 0.6.0)\n",
      "[Powered by Stella]\n",
      "Use -help for help screen.\n",
      "Game console created:\n",
      "  ROM file:  /home/d9w/.julia/packages/ArcadeLearningEnvironment/YJh2g/src/../deps/roms/ms_pacman.bin\n",
      "  Cart Name: Ms. Pac-Man (1982) (CCE)\n",
      "  Cart MD5:  9469d18238345d87768e8965f9f4a6b2\n",
      "  Display Format:  AUTO-DETECT ==> NTSC\n",
      "  ROM Size:        8192\n",
      "  Bankswitch Type: AUTO-DETECT ==> F8\n",
      "\n",
      "\n",
      "WARNING: Possibly unsupported ROM: mismatched MD5.\n",
      "Cartridge_MD5: 9469d18238345d87768e8965f9f4a6b2\n",
      "Cartridge_name: Ms. Pac-Man (1982) (CCE)\n",
      "\n",
      "Running ROM file...\n",
      "Random seed is 0\n",
      "A.L.E: Arcade Learning Environment (version 0.6.0)\n",
      "[Powered by Stella]\n",
      "Use -help for help screen.\n",
      "Game console created:\n",
      "  ROM file:  /home/d9w/.julia/packages/ArcadeLearningEnvironment/YJh2g/src/../deps/roms/ms_pacman.bin\n",
      "  Cart Name: Ms. Pac-Man (1982) (CCE)\n",
      "  Cart MD5:  9469d18238345d87768e8965f9f4a6b2\n",
      "  Display Format:  AUTO-DETECT ==> NTSC\n",
      "  ROM Size:        8192\n",
      "  Bankswitch Type: AUTO-DETECT ==> F8\n",
      "\n",
      "\n",
      "WARNING: Possibly unsupported ROM: mismatched MD5.\n",
      "Cartridge_MD5: 9469d18238345d87768e8965f9f4a6b2\n",
      "Cartridge_name: Ms. Pac-Man (1982) (CCE)\n",
      "\n",
      "Running ROM file...\n",
      "Random seed is 0\n",
      "A.L.E: Arcade Learning Environment (version 0.6.0)\n",
      "[Powered by Stella]\n",
      "Use -help for help screen.\n",
      "Game console created:\n",
      "  ROM file:  /home/d9w/.julia/packages/ArcadeLearningEnvironment/YJh2g/src/../deps/roms/ms_pacman.bin\n",
      "  Cart Name: Ms. Pac-Man (1982) (CCE)\n",
      "  Cart MD5:  9469d18238345d87768e8965f9f4a6b2\n",
      "  Display Format:  AUTO-DETECT ==> NTSC\n",
      "  ROM Size:        8192\n",
      "  Bankswitch Type: AUTO-DETECT ==> F8\n",
      "\n",
      "\n",
      "WARNING: Possibly unsupported ROM: mismatched MD5.\n",
      "Cartridge_MD5: 9469d18238345d87768e8965f9f4a6b2\n",
      "Cartridge_name: Ms. Pac-Man (1982) (CCE)\n",
      "\n",
      "Running ROM file...\n",
      "Random seed is 0\n",
      "A.L.E: Arcade Learning Environment (version 0.6.0)\n",
      "[Powered by Stella]\n",
      "Use -help for help screen.\n",
      "Game console created:\n",
      "  ROM file:  /home/d9w/.julia/packages/ArcadeLearningEnvironment/YJh2g/src/../deps/roms/ms_pacman.bin\n",
      "  Cart Name: Ms. Pac-Man (1982) (CCE)\n",
      "  Cart MD5:  9469d18238345d87768e8965f9f4a6b2\n",
      "  Display Format:  AUTO-DETECT ==> NTSC\n",
      "  ROM Size:        8192\n",
      "  Bankswitch Type: AUTO-DETECT ==> F8\n",
      "\n",
      "\n",
      "WARNING: Possibly unsupported ROM: mismatched MD5.\n",
      "Cartridge_MD5: 9469d18238345d87768e8965f9f4a6b2\n",
      "Cartridge_name: Ms. Pac-Man (1982) (CCE)\n",
      "\n",
      "Running ROM file...\n",
      "Random seed is 0\n",
      "A.L.E: Arcade Learning Environment (version 0.6.0)\n",
      "[Powered by Stella]\n",
      "Use -help for help screen.\n",
      "Game console created:\n",
      "  ROM file:  /home/d9w/.julia/packages/ArcadeLearningEnvironment/YJh2g/src/../deps/roms/ms_pacman.bin\n",
      "  Cart Name: Ms. Pac-Man (1982) (CCE)\n",
      "  Cart MD5:  9469d18238345d87768e8965f9f4a6b2\n",
      "  Display Format:  AUTO-DETECT ==> NTSC\n",
      "  ROM Size:        8192\n",
      "  Bankswitch Type: AUTO-DETECT ==> F8\n",
      "\n",
      "\n",
      "WARNING: Possibly unsupported ROM: mismatched MD5.\n",
      "Cartridge_MD5: 9469d18238345d87768e8965f9f4a6b2\n",
      "Cartridge_name: Ms. Pac-Man (1982) (CCE)\n",
      "\n",
      "Running ROM file...\n",
      "Random seed is 0\n",
      "A.L.E: Arcade Learning Environment (version 0.6.0)\n",
      "[Powered by Stella]\n",
      "Use -help for help screen.\n",
      "Game console created:\n",
      "  ROM file:  /home/d9w/.julia/packages/ArcadeLearningEnvironment/YJh2g/src/../deps/roms/ms_pacman.bin\n",
      "  Cart Name: Ms. Pac-Man (1982) (CCE)\n",
      "  Cart MD5:  9469d18238345d87768e8965f9f4a6b2\n",
      "  Display Format:  AUTO-DETECT ==> NTSC\n",
      "  ROM Size:        8192\n",
      "  Bankswitch Type: AUTO-DETECT ==> F8\n",
      "\n",
      "\n",
      "WARNING: Possibly unsupported ROM: mismatched MD5.\n",
      "Cartridge_MD5: 9469d18238345d87768e8965f9f4a6b2\n",
      "Cartridge_name: Ms. Pac-Man (1982) (CCE)\n",
      "\n",
      "Running ROM file...\n",
      "Random seed is 0\n",
      "A.L.E: Arcade Learning Environment (version 0.6.0)\n",
      "[Powered by Stella]\n",
      "Use -help for help screen.\n",
      "Game console created:\n",
      "  ROM file:  /home/d9w/.julia/packages/ArcadeLearningEnvironment/YJh2g/src/../deps/roms/ms_pacman.bin\n",
      "  Cart Name: Ms. Pac-Man (1982) (CCE)\n",
      "  Cart MD5:  9469d18238345d87768e8965f9f4a6b2\n",
      "  Display Format:  AUTO-DETECT ==> NTSC\n",
      "  ROM Size:        8192\n",
      "  Bankswitch Type: AUTO-DETECT ==> F8\n",
      "\n",
      "\n",
      "WARNING: Possibly unsupported ROM: mismatched MD5.\n",
      "Cartridge_MD5: 9469d18238345d87768e8965f9f4a6b2\n",
      "Cartridge_name: Ms. Pac-Man (1982) (CCE)\n",
      "\n",
      "Running ROM file...\n",
      "Random seed is 0\n",
      "A.L.E: Arcade Learning Environment (version 0.6.0)\n",
      "[Powered by Stella]\n",
      "Use -help for help screen.\n",
      "Game console created:\n",
      "  ROM file:  /home/d9w/.julia/packages/ArcadeLearningEnvironment/YJh2g/src/../deps/roms/ms_pacman.bin\n",
      "  Cart Name: Ms. Pac-Man (1982) (CCE)\n",
      "  Cart MD5:  9469d18238345d87768e8965f9f4a6b2\n",
      "  Display Format:  AUTO-DETECT ==> NTSC\n",
      "  ROM Size:        8192\n",
      "  Bankswitch Type: AUTO-DETECT ==> F8\n",
      "\n",
      "\n",
      "WARNING: Possibly unsupported ROM: mismatched MD5.\n",
      "Cartridge_MD5: 9469d18238345d87768e8965f9f4a6b2\n",
      "Cartridge_name: Ms. Pac-Man (1982) (CCE)\n",
      "\n",
      "Running ROM file...\n",
      "Random seed is 0\n",
      "A.L.E: Arcade Learning Environment (version 0.6.0)\n",
      "[Powered by Stella]\n",
      "Use -help for help screen.\n",
      "Game console created:\n",
      "  ROM file:  /home/d9w/.julia/packages/ArcadeLearningEnvironment/YJh2g/src/../deps/roms/ms_pacman.bin\n",
      "  Cart Name: Ms. Pac-Man (1982) (CCE)\n",
      "  Cart MD5:  9469d18238345d87768e8965f9f4a6b2\n",
      "  Display Format:  AUTO-DETECT ==> NTSC\n",
      "  ROM Size:        8192\n",
      "  Bankswitch Type: AUTO-DETECT ==> F8\n",
      "\n",
      "\n",
      "WARNING: Possibly unsupported ROM: mismatched MD5.\n",
      "Cartridge_MD5: 9469d18238345d87768e8965f9f4a6b2\n",
      "Cartridge_name: Ms. Pac-Man (1982) (CCE)\n",
      "\n",
      "Running ROM file...\n",
      "Random seed is 0\n",
      "A.L.E: Arcade Learning Environment (version 0.6.0)\n",
      "[Powered by Stella]\n",
      "Use -help for help screen.\n",
      "Game console created:\n",
      "  ROM file:  /home/d9w/.julia/packages/ArcadeLearningEnvironment/YJh2g/src/../deps/roms/ms_pacman.bin\n",
      "  Cart Name: Ms. Pac-Man (1982) (CCE)\n",
      "  Cart MD5:  9469d18238345d87768e8965f9f4a6b2\n",
      "  Display Format:  AUTO-DETECT ==> NTSC\n",
      "  ROM Size:        8192\n",
      "  Bankswitch Type: AUTO-DETECT ==> F8\n",
      "\n",
      "\n",
      "WARNING: Possibly unsupported ROM: mismatched MD5.\n",
      "Cartridge_MD5: 9469d18238345d87768e8965f9f4a6b2\n",
      "Cartridge_name: Ms. Pac-Man (1982) (CCE)\n",
      "\n",
      "Running ROM file...\n",
      "Random seed is 0\n",
      "A.L.E: Arcade Learning Environment (version 0.6.0)\n",
      "[Powered by Stella]\n",
      "Use -help for help screen.\n",
      "Game console created:\n",
      "  ROM file:  /home/d9w/.julia/packages/ArcadeLearningEnvironment/YJh2g/src/../deps/roms/ms_pacman.bin\n",
      "  Cart Name: Ms. Pac-Man (1982) (CCE)\n",
      "  Cart MD5:  9469d18238345d87768e8965f9f4a6b2\n",
      "  Display Format:  AUTO-DETECT ==> NTSC\n",
      "  ROM Size:        8192\n",
      "  Bankswitch Type: AUTO-DETECT ==> F8\n",
      "\n",
      "\n",
      "WARNING: Possibly unsupported ROM: mismatched MD5.\n",
      "Cartridge_MD5: 9469d18238345d87768e8965f9f4a6b2\n",
      "Cartridge_name: Ms. Pac-Man (1982) (CCE)\n",
      "\n",
      "Running ROM file...\n",
      "Random seed is 0\n",
      "A.L.E: Arcade Learning Environment (version 0.6.0)\n",
      "[Powered by Stella]\n",
      "Use -help for help screen.\n",
      "Game console created:\n",
      "  ROM file:  /home/d9w/.julia/packages/ArcadeLearningEnvironment/YJh2g/src/../deps/roms/ms_pacman.bin\n",
      "  Cart Name: Ms. Pac-Man (1982) (CCE)\n",
      "  Cart MD5:  9469d18238345d87768e8965f9f4a6b2\n",
      "  Display Format:  AUTO-DETECT ==> NTSC\n",
      "  ROM Size:        8192\n",
      "  Bankswitch Type: AUTO-DETECT ==> F8\n",
      "\n",
      "\n",
      "WARNING: Possibly unsupported ROM: mismatched MD5.\n",
      "Cartridge_MD5: 9469d18238345d87768e8965f9f4a6b2\n",
      "Cartridge_name: Ms. Pac-Man (1982) (CCE)\n",
      "\n",
      "Running ROM file...\n",
      "Random seed is 0\n",
      "A.L.E: Arcade Learning Environment (version 0.6.0)\n",
      "[Powered by Stella]\n",
      "Use -help for help screen.\n",
      "Game console created:\n",
      "  ROM file:  /home/d9w/.julia/packages/ArcadeLearningEnvironment/YJh2g/src/../deps/roms/ms_pacman.bin\n",
      "  Cart Name: Ms. Pac-Man (1982) (CCE)\n",
      "  Cart MD5:  9469d18238345d87768e8965f9f4a6b2\n",
      "  Display Format:  AUTO-DETECT ==> NTSC\n",
      "  ROM Size:        8192\n",
      "  Bankswitch Type: AUTO-DETECT ==> F8\n",
      "\n",
      "\n",
      "WARNING: Possibly unsupported ROM: mismatched MD5.\n",
      "Cartridge_MD5: 9469d18238345d87768e8965f9f4a6b2\n",
      "Cartridge_name: Ms. Pac-Man (1982) (CCE)\n",
      "\n",
      "Running ROM file...\n",
      "Random seed is 0\n",
      "A.L.E: Arcade Learning Environment (version 0.6.0)\n",
      "[Powered by Stella]\n",
      "Use -help for help screen.\n",
      "Game console created:\n",
      "  ROM file:  /home/d9w/.julia/packages/ArcadeLearningEnvironment/YJh2g/src/../deps/roms/ms_pacman.bin\n",
      "  Cart Name: Ms. Pac-Man (1982) (CCE)\n",
      "  Cart MD5:  9469d18238345d87768e8965f9f4a6b2\n",
      "  Display Format:  AUTO-DETECT ==> NTSC\n",
      "  ROM Size:        8192\n",
      "  Bankswitch Type: AUTO-DETECT ==> F8\n",
      "\n",
      "\n",
      "WARNING: Possibly unsupported ROM: mismatched MD5.\n",
      "Cartridge_MD5: 9469d18238345d87768e8965f9f4a6b2\n",
      "Cartridge_name: Ms. Pac-Man (1982) (CCE)\n",
      "\n",
      "Running ROM file...\n",
      "Random seed is 0\n",
      "A.L.E: Arcade Learning Environment (version 0.6.0)\n",
      "[Powered by Stella]\n",
      "Use -help for help screen.\n",
      "Game console created:\n",
      "  ROM file:  /home/d9w/.julia/packages/ArcadeLearningEnvironment/YJh2g/src/../deps/roms/ms_pacman.bin\n",
      "  Cart Name: Ms. Pac-Man (1982) (CCE)\n",
      "  Cart MD5:  9469d18238345d87768e8965f9f4a6b2\n",
      "  Display Format:  AUTO-DETECT ==> NTSC\n",
      "  ROM Size:        8192\n",
      "  Bankswitch Type: AUTO-DETECT ==> F8\n",
      "\n",
      "\n",
      "WARNING: Possibly unsupported ROM: mismatched MD5.\n",
      "Cartridge_MD5: 9469d18238345d87768e8965f9f4a6b2\n",
      "Cartridge_name: Ms. Pac-Man (1982) (CCE)\n",
      "\n",
      "Running ROM file...\n",
      "Random seed is 0\n",
      "A.L.E: Arcade Learning Environment (version 0.6.0)\n",
      "[Powered by Stella]\n",
      "Use -help for help screen.\n",
      "Game console created:\n",
      "  ROM file:  /home/d9w/.julia/packages/ArcadeLearningEnvironment/YJh2g/src/../deps/roms/ms_pacman.bin\n",
      "  Cart Name: Ms. Pac-Man (1982) (CCE)\n",
      "  Cart MD5:  9469d18238345d87768e8965f9f4a6b2\n",
      "  Display Format:  AUTO-DETECT ==> NTSC\n",
      "  ROM Size:        8192\n",
      "  Bankswitch Type: AUTO-DETECT ==> F8\n",
      "\n",
      "\n",
      "WARNING: Possibly unsupported ROM: mismatched MD5.\n",
      "Cartridge_MD5: 9469d18238345d87768e8965f9f4a6b2\n",
      "Cartridge_name: Ms. Pac-Man (1982) (CCE)\n",
      "\n",
      "Running ROM file...\n",
      "Random seed is 0\n",
      "A.L.E: Arcade Learning Environment (version 0.6.0)\n",
      "[Powered by Stella]\n",
      "Use -help for help screen.\n",
      "Game console created:\n",
      "  ROM file:  /home/d9w/.julia/packages/ArcadeLearningEnvironment/YJh2g/src/../deps/roms/ms_pacman.bin\n",
      "  Cart Name: Ms. Pac-Man (1982) (CCE)\n",
      "  Cart MD5:  9469d18238345d87768e8965f9f4a6b2\n",
      "  Display Format:  AUTO-DETECT ==> NTSC\n",
      "  ROM Size:        8192\n",
      "  Bankswitch Type: AUTO-DETECT ==> F8\n",
      "\n",
      "\n",
      "WARNING: Possibly unsupported ROM: mismatched MD5.\n",
      "Cartridge_MD5: 9469d18238345d87768e8965f9f4a6b2\n",
      "Cartridge_name: Ms. Pac-Man (1982) (CCE)\n",
      "\n",
      "Running ROM file...\n",
      "Random seed is 0\n",
      "A.L.E: Arcade Learning Environment (version 0.6.0)\n",
      "[Powered by Stella]\n",
      "Use -help for help screen.\n",
      "Game console created:\n",
      "  ROM file:  /home/d9w/.julia/packages/ArcadeLearningEnvironment/YJh2g/src/../deps/roms/ms_pacman.bin\n",
      "  Cart Name: Ms. Pac-Man (1982) (CCE)\n",
      "  Cart MD5:  9469d18238345d87768e8965f9f4a6b2\n",
      "  Display Format:  AUTO-DETECT ==> NTSC\n",
      "  ROM Size:        8192\n",
      "  Bankswitch Type: AUTO-DETECT ==> F8\n",
      "\n",
      "\n",
      "WARNING: Possibly unsupported ROM: mismatched MD5.\n",
      "Cartridge_MD5: 9469d18238345d87768e8965f9f4a6b2\n",
      "Cartridge_name: Ms. Pac-Man (1982) (CCE)\n",
      "\n",
      "Running ROM file...\n",
      "Random seed is 0\n",
      "A.L.E: Arcade Learning Environment (version 0.6.0)\n",
      "[Powered by Stella]\n",
      "Use -help for help screen.\n",
      "Game console created:\n",
      "  ROM file:  /home/d9w/.julia/packages/ArcadeLearningEnvironment/YJh2g/src/../deps/roms/ms_pacman.bin\n",
      "  Cart Name: Ms. Pac-Man (1982) (CCE)\n",
      "  Cart MD5:  9469d18238345d87768e8965f9f4a6b2\n",
      "  Display Format:  AUTO-DETECT ==> NTSC\n",
      "  ROM Size:        8192\n",
      "  Bankswitch Type: AUTO-DETECT ==> F8\n",
      "\n",
      "\n",
      "WARNING: Possibly unsupported ROM: mismatched MD5.\n",
      "Cartridge_MD5: 9469d18238345d87768e8965f9f4a6b2\n",
      "Cartridge_name: Ms. Pac-Man (1982) (CCE)\n",
      "\n",
      "Running ROM file...\n",
      "Random seed is 0\n",
      "A.L.E: Arcade Learning Environment (version 0.6.0)\n",
      "[Powered by Stella]\n",
      "Use -help for help screen.\n",
      "Game console created:\n",
      "  ROM file:  /home/d9w/.julia/packages/ArcadeLearningEnvironment/YJh2g/src/../deps/roms/ms_pacman.bin\n",
      "  Cart Name: Ms. Pac-Man (1982) (CCE)\n",
      "  Cart MD5:  9469d18238345d87768e8965f9f4a6b2\n",
      "  Display Format:  AUTO-DETECT ==> NTSC\n",
      "  ROM Size:        8192\n",
      "  Bankswitch Type: AUTO-DETECT ==> F8\n",
      "\n",
      "\n",
      "WARNING: Possibly unsupported ROM: mismatched MD5.\n",
      "Cartridge_MD5: 9469d18238345d87768e8965f9f4a6b2\n",
      "Cartridge_name: Ms. Pac-Man (1982) (CCE)\n",
      "\n",
      "Running ROM file...\n",
      "Random seed is 0\n",
      "A.L.E: Arcade Learning Environment (version 0.6.0)\n",
      "[Powered by Stella]\n",
      "Use -help for help screen.\n",
      "Game console created:\n",
      "  ROM file:  /home/d9w/.julia/packages/ArcadeLearningEnvironment/YJh2g/src/../deps/roms/ms_pacman.bin\n",
      "  Cart Name: Ms. Pac-Man (1982) (CCE)\n",
      "  Cart MD5:  9469d18238345d87768e8965f9f4a6b2\n",
      "  Display Format:  AUTO-DETECT ==> NTSC\n",
      "  ROM Size:        8192\n",
      "  Bankswitch Type: AUTO-DETECT ==> F8\n",
      "\n",
      "\n",
      "WARNING: Possibly unsupported ROM: mismatched MD5.\n",
      "Cartridge_MD5: 9469d18238345d87768e8965f9f4a6b2\n",
      "Cartridge_name: Ms. Pac-Man (1982) (CCE)\n",
      "\n",
      "Running ROM file...\n",
      "Random seed is 0\n",
      "A.L.E: Arcade Learning Environment (version 0.6.0)\n",
      "[Powered by Stella]\n",
      "Use -help for help screen.\n",
      "Game console created:\n",
      "  ROM file:  /home/d9w/.julia/packages/ArcadeLearningEnvironment/YJh2g/src/../deps/roms/ms_pacman.bin\n",
      "  Cart Name: Ms. Pac-Man (1982) (CCE)\n",
      "  Cart MD5:  9469d18238345d87768e8965f9f4a6b2\n",
      "  Display Format:  AUTO-DETECT ==> NTSC\n",
      "  ROM Size:        8192\n",
      "  Bankswitch Type: AUTO-DETECT ==> F8\n",
      "\n",
      "\n",
      "WARNING: Possibly unsupported ROM: mismatched MD5.\n",
      "Cartridge_MD5: 9469d18238345d87768e8965f9f4a6b2\n",
      "Cartridge_name: Ms. Pac-Man (1982) (CCE)\n",
      "\n",
      "Running ROM file...\n",
      "Random seed is 0\n",
      "A.L.E: Arcade Learning Environment (version 0.6.0)\n",
      "[Powered by Stella]\n",
      "Use -help for help screen.\n",
      "Game console created:\n",
      "  ROM file:  /home/d9w/.julia/packages/ArcadeLearningEnvironment/YJh2g/src/../deps/roms/ms_pacman.bin\n",
      "  Cart Name: Ms. Pac-Man (1982) (CCE)\n",
      "  Cart MD5:  9469d18238345d87768e8965f9f4a6b2\n",
      "  Display Format:  AUTO-DETECT ==> NTSC\n",
      "  ROM Size:        8192\n",
      "  Bankswitch Type: AUTO-DETECT ==> F8\n",
      "\n",
      "\n",
      "WARNING: Possibly unsupported ROM: mismatched MD5.\n",
      "Cartridge_MD5: 9469d18238345d87768e8965f9f4a6b2\n",
      "Cartridge_name: Ms. Pac-Man (1982) (CCE)\n",
      "\n",
      "Running ROM file...\n",
      "Random seed is 0\n",
      "A.L.E: Arcade Learning Environment (version 0.6.0)\n",
      "[Powered by Stella]\n",
      "Use -help for help screen.\n",
      "Game console created:\n",
      "  ROM file:  /home/d9w/.julia/packages/ArcadeLearningEnvironment/YJh2g/src/../deps/roms/ms_pacman.bin\n",
      "  Cart Name: Ms. Pac-Man (1982) (CCE)\n",
      "  Cart MD5:  9469d18238345d87768e8965f9f4a6b2\n",
      "  Display Format:  AUTO-DETECT ==> NTSC\n",
      "  ROM Size:        8192\n",
      "  Bankswitch Type: AUTO-DETECT ==> F8\n",
      "\n",
      "\n",
      "WARNING: Possibly unsupported ROM: mismatched MD5.\n",
      "Cartridge_MD5: 9469d18238345d87768e8965f9f4a6b2\n",
      "Cartridge_name: Ms. Pac-Man (1982) (CCE)\n",
      "\n",
      "Running ROM file...\n",
      "Random seed is 0\n",
      "A.L.E: Arcade Learning Environment (version 0.6.0)\n",
      "[Powered by Stella]\n",
      "Use -help for help screen.\n",
      "Game console created:\n",
      "  ROM file:  /home/d9w/.julia/packages/ArcadeLearningEnvironment/YJh2g/src/../deps/roms/ms_pacman.bin\n",
      "  Cart Name: Ms. Pac-Man (1982) (CCE)\n",
      "  Cart MD5:  9469d18238345d87768e8965f9f4a6b2\n",
      "  Display Format:  AUTO-DETECT ==> NTSC\n",
      "  ROM Size:        8192\n",
      "  Bankswitch Type: AUTO-DETECT ==> F8\n",
      "\n",
      "\n",
      "WARNING: Possibly unsupported ROM: mismatched MD5.\n",
      "Cartridge_MD5: 9469d18238345d87768e8965f9f4a6b2\n",
      "Cartridge_name: Ms. Pac-Man (1982) (CCE)\n",
      "\n",
      "Running ROM file...\n",
      "Random seed is 0\n",
      "A.L.E: Arcade Learning Environment (version 0.6.0)\n",
      "[Powered by Stella]\n",
      "Use -help for help screen.\n",
      "Game console created:\n",
      "  ROM file:  /home/d9w/.julia/packages/ArcadeLearningEnvironment/YJh2g/src/../deps/roms/ms_pacman.bin\n",
      "  Cart Name: Ms. Pac-Man (1982) (CCE)\n",
      "  Cart MD5:  9469d18238345d87768e8965f9f4a6b2\n",
      "  Display Format:  AUTO-DETECT ==> NTSC\n",
      "  ROM Size:        8192\n",
      "  Bankswitch Type: AUTO-DETECT ==> F8\n",
      "\n",
      "\n",
      "WARNING: Possibly unsupported ROM: mismatched MD5.\n",
      "Cartridge_MD5: 9469d18238345d87768e8965f9f4a6b2\n",
      "Cartridge_name: Ms. Pac-Man (1982) (CCE)\n",
      "\n",
      "Running ROM file...\n",
      "Random seed is 0\n",
      "A.L.E: Arcade Learning Environment (version 0.6.0)\n",
      "[Powered by Stella]\n",
      "Use -help for help screen.\n",
      "Game console created:\n",
      "  ROM file:  /home/d9w/.julia/packages/ArcadeLearningEnvironment/YJh2g/src/../deps/roms/ms_pacman.bin\n",
      "  Cart Name: Ms. Pac-Man (1982) (CCE)\n",
      "  Cart MD5:  9469d18238345d87768e8965f9f4a6b2\n",
      "  Display Format:  AUTO-DETECT ==> NTSC\n",
      "  ROM Size:        8192\n",
      "  Bankswitch Type: AUTO-DETECT ==> F8\n",
      "\n",
      "\n",
      "WARNING: Possibly unsupported ROM: mismatched MD5.\n",
      "Cartridge_MD5: 9469d18238345d87768e8965f9f4a6b2\n",
      "Cartridge_name: Ms. Pac-Man (1982) (CCE)\n",
      "\n",
      "Running ROM file...\n",
      "Random seed is 0\n",
      "A.L.E: Arcade Learning Environment (version 0.6.0)\n",
      "[Powered by Stella]\n",
      "Use -help for help screen.\n",
      "Game console created:\n",
      "  ROM file:  /home/d9w/.julia/packages/ArcadeLearningEnvironment/YJh2g/src/../deps/roms/ms_pacman.bin\n",
      "  Cart Name: Ms. Pac-Man (1982) (CCE)\n",
      "  Cart MD5:  9469d18238345d87768e8965f9f4a6b2\n",
      "  Display Format:  AUTO-DETECT ==> NTSC\n",
      "  ROM Size:        8192\n",
      "  Bankswitch Type: AUTO-DETECT ==> F8\n",
      "\n",
      "\n",
      "WARNING: Possibly unsupported ROM: mismatched MD5.\n",
      "Cartridge_MD5: 9469d18238345d87768e8965f9f4a6b2\n",
      "Cartridge_name: Ms. Pac-Man (1982) (CCE)\n",
      "\n",
      "Running ROM file...\n",
      "Random seed is 0\n",
      "A.L.E: Arcade Learning Environment (version 0.6.0)\n",
      "[Powered by Stella]\n",
      "Use -help for help screen.\n",
      "Game console created:\n",
      "  ROM file:  /home/d9w/.julia/packages/ArcadeLearningEnvironment/YJh2g/src/../deps/roms/ms_pacman.bin\n",
      "  Cart Name: Ms. Pac-Man (1982) (CCE)\n",
      "  Cart MD5:  9469d18238345d87768e8965f9f4a6b2\n",
      "  Display Format:  AUTO-DETECT ==> NTSC\n",
      "  ROM Size:        8192\n",
      "  Bankswitch Type: AUTO-DETECT ==> F8\n",
      "\n",
      "\n",
      "WARNING: Possibly unsupported ROM: mismatched MD5.\n",
      "Cartridge_MD5: 9469d18238345d87768e8965f9f4a6b2\n",
      "Cartridge_name: Ms. Pac-Man (1982) (CCE)\n",
      "\n",
      "Running ROM file...\n",
      "Random seed is 0\n",
      "A.L.E: Arcade Learning Environment (version 0.6.0)\n",
      "[Powered by Stella]\n",
      "Use -help for help screen.\n",
      "Game console created:\n",
      "  ROM file:  /home/d9w/.julia/packages/ArcadeLearningEnvironment/YJh2g/src/../deps/roms/ms_pacman.bin\n",
      "  Cart Name: Ms. Pac-Man (1982) (CCE)\n",
      "  Cart MD5:  9469d18238345d87768e8965f9f4a6b2\n",
      "  Display Format:  AUTO-DETECT ==> NTSC\n",
      "  ROM Size:        8192\n",
      "  Bankswitch Type: AUTO-DETECT ==> F8\n",
      "\n",
      "\n",
      "WARNING: Possibly unsupported ROM: mismatched MD5.\n",
      "Cartridge_MD5: 9469d18238345d87768e8965f9f4a6b2\n",
      "Cartridge_name: Ms. Pac-Man (1982) (CCE)\n",
      "\n",
      "Running ROM file...\n",
      "Random seed is 0\n",
      "A.L.E: Arcade Learning Environment (version 0.6.0)\n",
      "[Powered by Stella]\n",
      "Use -help for help screen.\n",
      "Game console created:\n",
      "  ROM file:  /home/d9w/.julia/packages/ArcadeLearningEnvironment/YJh2g/src/../deps/roms/ms_pacman.bin\n",
      "  Cart Name: Ms. Pac-Man (1982) (CCE)\n",
      "  Cart MD5:  9469d18238345d87768e8965f9f4a6b2\n",
      "  Display Format:  AUTO-DETECT ==> NTSC\n",
      "  ROM Size:        8192\n",
      "  Bankswitch Type: AUTO-DETECT ==> F8\n",
      "\n",
      "\n",
      "WARNING: Possibly unsupported ROM: mismatched MD5.\n",
      "Cartridge_MD5: 9469d18238345d87768e8965f9f4a6b2\n",
      "Cartridge_name: Ms. Pac-Man (1982) (CCE)\n",
      "\n",
      "Running ROM file...\n",
      "Random seed is 0\n",
      "A.L.E: Arcade Learning Environment (version 0.6.0)\n",
      "[Powered by Stella]\n",
      "Use -help for help screen.\n",
      "Game console created:\n",
      "  ROM file:  /home/d9w/.julia/packages/ArcadeLearningEnvironment/YJh2g/src/../deps/roms/ms_pacman.bin\n",
      "  Cart Name: Ms. Pac-Man (1982) (CCE)\n",
      "  Cart MD5:  9469d18238345d87768e8965f9f4a6b2\n",
      "  Display Format:  AUTO-DETECT ==> NTSC\n",
      "  ROM Size:        8192\n",
      "  Bankswitch Type: AUTO-DETECT ==> F8\n",
      "\n",
      "\n",
      "WARNING: Possibly unsupported ROM: mismatched MD5.\n",
      "Cartridge_MD5: 9469d18238345d87768e8965f9f4a6b2\n",
      "Cartridge_name: Ms. Pac-Man (1982) (CCE)\n",
      "\n",
      "Running ROM file...\n",
      "Random seed is 0\n",
      "A.L.E: Arcade Learning Environment (version 0.6.0)\n",
      "[Powered by Stella]\n",
      "Use -help for help screen.\n",
      "Game console created:\n",
      "  ROM file:  /home/d9w/.julia/packages/ArcadeLearningEnvironment/YJh2g/src/../deps/roms/ms_pacman.bin\n",
      "  Cart Name: Ms. Pac-Man (1982) (CCE)\n",
      "  Cart MD5:  9469d18238345d87768e8965f9f4a6b2\n",
      "  Display Format:  AUTO-DETECT ==> NTSC\n",
      "  ROM Size:        8192\n",
      "  Bankswitch Type: AUTO-DETECT ==> F8\n",
      "\n",
      "\n",
      "WARNING: Possibly unsupported ROM: mismatched MD5.\n",
      "Cartridge_MD5: 9469d18238345d87768e8965f9f4a6b2\n",
      "Cartridge_name: Ms. Pac-Man (1982) (CCE)\n",
      "\n",
      "Running ROM file...\n",
      "Random seed is 0\n",
      "A.L.E: Arcade Learning Environment (version 0.6.0)\n",
      "[Powered by Stella]\n",
      "Use -help for help screen.\n",
      "Game console created:\n",
      "  ROM file:  /home/d9w/.julia/packages/ArcadeLearningEnvironment/YJh2g/src/../deps/roms/ms_pacman.bin\n",
      "  Cart Name: Ms. Pac-Man (1982) (CCE)\n",
      "  Cart MD5:  9469d18238345d87768e8965f9f4a6b2\n",
      "  Display Format:  AUTO-DETECT ==> NTSC\n",
      "  ROM Size:        8192\n",
      "  Bankswitch Type: AUTO-DETECT ==> F8\n",
      "\n",
      "\n",
      "WARNING: Possibly unsupported ROM: mismatched MD5.\n",
      "Cartridge_MD5: 9469d18238345d87768e8965f9f4a6b2\n",
      "Cartridge_name: Ms. Pac-Man (1982) (CCE)\n",
      "\n",
      "Running ROM file...\n",
      "Random seed is 0\n",
      "A.L.E: Arcade Learning Environment (version 0.6.0)\n",
      "[Powered by Stella]\n",
      "Use -help for help screen.\n",
      "Game console created:\n",
      "  ROM file:  /home/d9w/.julia/packages/ArcadeLearningEnvironment/YJh2g/src/../deps/roms/ms_pacman.bin\n",
      "  Cart Name: Ms. Pac-Man (1982) (CCE)\n",
      "  Cart MD5:  9469d18238345d87768e8965f9f4a6b2\n",
      "  Display Format:  AUTO-DETECT ==> NTSC\n",
      "  ROM Size:        8192\n",
      "  Bankswitch Type: AUTO-DETECT ==> F8\n",
      "\n",
      "\n",
      "WARNING: Possibly unsupported ROM: mismatched MD5.\n",
      "Cartridge_MD5: 9469d18238345d87768e8965f9f4a6b2\n",
      "Cartridge_name: Ms. Pac-Man (1982) (CCE)\n",
      "\n",
      "Running ROM file...\n",
      "Random seed is 0\n",
      "A.L.E: Arcade Learning Environment (version 0.6.0)\n",
      "[Powered by Stella]\n",
      "Use -help for help screen.\n",
      "Game console created:\n",
      "  ROM file:  /home/d9w/.julia/packages/ArcadeLearningEnvironment/YJh2g/src/../deps/roms/ms_pacman.bin\n",
      "  Cart Name: Ms. Pac-Man (1982) (CCE)\n",
      "  Cart MD5:  9469d18238345d87768e8965f9f4a6b2\n",
      "  Display Format:  AUTO-DETECT ==> NTSC\n",
      "  ROM Size:        8192\n",
      "  Bankswitch Type: AUTO-DETECT ==> F8\n",
      "\n",
      "\n",
      "WARNING: Possibly unsupported ROM: mismatched MD5.\n",
      "Cartridge_MD5: 9469d18238345d87768e8965f9f4a6b2\n",
      "Cartridge_name: Ms. Pac-Man (1982) (CCE)\n",
      "\n",
      "Running ROM file...\n",
      "Random seed is 0\n",
      "A.L.E: Arcade Learning Environment (version 0.6.0)\n",
      "[Powered by Stella]\n",
      "Use -help for help screen.\n",
      "Game console created:\n",
      "  ROM file:  /home/d9w/.julia/packages/ArcadeLearningEnvironment/YJh2g/src/../deps/roms/ms_pacman.bin\n",
      "  Cart Name: Ms. Pac-Man (1982) (CCE)\n",
      "  Cart MD5:  9469d18238345d87768e8965f9f4a6b2\n",
      "  Display Format:  AUTO-DETECT ==> NTSC\n",
      "  ROM Size:        8192\n",
      "  Bankswitch Type: AUTO-DETECT ==> F8\n",
      "\n",
      "\n",
      "WARNING: Possibly unsupported ROM: mismatched MD5.\n",
      "Cartridge_MD5: 9469d18238345d87768e8965f9f4a6b2\n",
      "Cartridge_name: Ms. Pac-Man (1982) (CCE)\n",
      "\n",
      "Running ROM file...\n",
      "Random seed is 0\n",
      "A.L.E: Arcade Learning Environment (version 0.6.0)\n",
      "[Powered by Stella]\n",
      "Use -help for help screen.\n",
      "Game console created:\n",
      "  ROM file:  /home/d9w/.julia/packages/ArcadeLearningEnvironment/YJh2g/src/../deps/roms/ms_pacman.bin\n",
      "  Cart Name: Ms. Pac-Man (1982) (CCE)\n",
      "  Cart MD5:  9469d18238345d87768e8965f9f4a6b2\n",
      "  Display Format:  AUTO-DETECT ==> NTSC\n",
      "  ROM Size:        8192\n",
      "  Bankswitch Type: AUTO-DETECT ==> F8\n",
      "\n",
      "\n",
      "WARNING: Possibly unsupported ROM: mismatched MD5.\n",
      "Cartridge_MD5: 9469d18238345d87768e8965f9f4a6b2\n",
      "Cartridge_name: Ms. Pac-Man (1982) (CCE)\n",
      "\n",
      "Running ROM file...\n",
      "Random seed is 0\n",
      "A.L.E: Arcade Learning Environment (version 0.6.0)\n",
      "[Powered by Stella]\n",
      "Use -help for help screen.\n",
      "Game console created:\n",
      "  ROM file:  /home/d9w/.julia/packages/ArcadeLearningEnvironment/YJh2g/src/../deps/roms/ms_pacman.bin\n",
      "  Cart Name: Ms. Pac-Man (1982) (CCE)\n",
      "  Cart MD5:  9469d18238345d87768e8965f9f4a6b2\n",
      "  Display Format:  AUTO-DETECT ==> NTSC\n",
      "  ROM Size:        8192\n",
      "  Bankswitch Type: AUTO-DETECT ==> F8\n",
      "\n",
      "\n",
      "WARNING: Possibly unsupported ROM: mismatched MD5.\n",
      "Cartridge_MD5: 9469d18238345d87768e8965f9f4a6b2\n",
      "Cartridge_name: Ms. Pac-Man (1982) (CCE)\n",
      "\n",
      "Running ROM file...\n",
      "Random seed is 0\n",
      "A.L.E: Arcade Learning Environment (version 0.6.0)\n",
      "[Powered by Stella]\n",
      "Use -help for help screen.\n",
      "Game console created:\n",
      "  ROM file:  /home/d9w/.julia/packages/ArcadeLearningEnvironment/YJh2g/src/../deps/roms/ms_pacman.bin\n",
      "  Cart Name: Ms. Pac-Man (1982) (CCE)\n",
      "  Cart MD5:  9469d18238345d87768e8965f9f4a6b2\n",
      "  Display Format:  AUTO-DETECT ==> NTSC\n",
      "  ROM Size:        8192\n",
      "  Bankswitch Type: AUTO-DETECT ==> F8\n",
      "\n",
      "\n",
      "WARNING: Possibly unsupported ROM: mismatched MD5.\n",
      "Cartridge_MD5: 9469d18238345d87768e8965f9f4a6b2\n",
      "Cartridge_name: Ms. Pac-Man (1982) (CCE)\n",
      "\n",
      "Running ROM file...\n",
      "Random seed is 0\n",
      "A.L.E: Arcade Learning Environment (version 0.6.0)\n",
      "[Powered by Stella]\n",
      "Use -help for help screen.\n",
      "Game console created:\n",
      "  ROM file:  /home/d9w/.julia/packages/ArcadeLearningEnvironment/YJh2g/src/../deps/roms/ms_pacman.bin\n",
      "  Cart Name: Ms. Pac-Man (1982) (CCE)\n",
      "  Cart MD5:  9469d18238345d87768e8965f9f4a6b2\n",
      "  Display Format:  AUTO-DETECT ==> NTSC\n",
      "  ROM Size:        8192\n",
      "  Bankswitch Type: AUTO-DETECT ==> F8\n",
      "\n",
      "\n",
      "WARNING: Possibly unsupported ROM: mismatched MD5.\n",
      "Cartridge_MD5: 9469d18238345d87768e8965f9f4a6b2\n",
      "Cartridge_name: Ms. Pac-Man (1982) (CCE)\n",
      "\n",
      "Running ROM file...\n",
      "Random seed is 0\n",
      "A.L.E: Arcade Learning Environment (version 0.6.0)\n",
      "[Powered by Stella]\n",
      "Use -help for help screen.\n",
      "Game console created:\n",
      "  ROM file:  /home/d9w/.julia/packages/ArcadeLearningEnvironment/YJh2g/src/../deps/roms/ms_pacman.bin\n",
      "  Cart Name: Ms. Pac-Man (1982) (CCE)\n",
      "  Cart MD5:  9469d18238345d87768e8965f9f4a6b2\n",
      "  Display Format:  AUTO-DETECT ==> NTSC\n",
      "  ROM Size:        8192\n",
      "  Bankswitch Type: AUTO-DETECT ==> F8\n",
      "\n",
      "\n",
      "WARNING: Possibly unsupported ROM: mismatched MD5.\n",
      "Cartridge_MD5: 9469d18238345d87768e8965f9f4a6b2\n",
      "Cartridge_name: Ms. Pac-Man (1982) (CCE)\n",
      "\n",
      "Running ROM file...\n",
      "Random seed is 0\n",
      "A.L.E: Arcade Learning Environment (version 0.6.0)\n",
      "[Powered by Stella]\n",
      "Use -help for help screen.\n",
      "Game console created:\n",
      "  ROM file:  /home/d9w/.julia/packages/ArcadeLearningEnvironment/YJh2g/src/../deps/roms/ms_pacman.bin\n",
      "  Cart Name: Ms. Pac-Man (1982) (CCE)\n",
      "  Cart MD5:  9469d18238345d87768e8965f9f4a6b2\n",
      "  Display Format:  AUTO-DETECT ==> NTSC\n",
      "  ROM Size:        8192\n",
      "  Bankswitch Type: AUTO-DETECT ==> F8\n",
      "\n",
      "\n",
      "WARNING: Possibly unsupported ROM: mismatched MD5.\n",
      "Cartridge_MD5: 9469d18238345d87768e8965f9f4a6b2\n",
      "Cartridge_name: Ms. Pac-Man (1982) (CCE)\n",
      "\n",
      "Running ROM file...\n",
      "Random seed is 0\n",
      "A.L.E: Arcade Learning Environment (version 0.6.0)\n",
      "[Powered by Stella]\n",
      "Use -help for help screen.\n",
      "Game console created:\n",
      "  ROM file:  /home/d9w/.julia/packages/ArcadeLearningEnvironment/YJh2g/src/../deps/roms/ms_pacman.bin\n",
      "  Cart Name: Ms. Pac-Man (1982) (CCE)\n",
      "  Cart MD5:  9469d18238345d87768e8965f9f4a6b2\n",
      "  Display Format:  AUTO-DETECT ==> NTSC\n",
      "  ROM Size:        8192\n",
      "  Bankswitch Type: AUTO-DETECT ==> F8\n",
      "\n",
      "\n",
      "WARNING: Possibly unsupported ROM: mismatched MD5.\n",
      "Cartridge_MD5: 9469d18238345d87768e8965f9f4a6b2\n",
      "Cartridge_name: Ms. Pac-Man (1982) (CCE)\n",
      "\n",
      "Running ROM file...\n",
      "Random seed is 0\n",
      "A.L.E: Arcade Learning Environment (version 0.6.0)\n",
      "[Powered by Stella]\n",
      "Use -help for help screen.\n",
      "Game console created:\n",
      "  ROM file:  /home/d9w/.julia/packages/ArcadeLearningEnvironment/YJh2g/src/../deps/roms/ms_pacman.bin\n",
      "  Cart Name: Ms. Pac-Man (1982) (CCE)\n",
      "  Cart MD5:  9469d18238345d87768e8965f9f4a6b2\n",
      "  Display Format:  AUTO-DETECT ==> NTSC\n",
      "  ROM Size:        8192\n",
      "  Bankswitch Type: AUTO-DETECT ==> F8\n",
      "\n",
      "\n",
      "WARNING: Possibly unsupported ROM: mismatched MD5.\n",
      "Cartridge_MD5: 9469d18238345d87768e8965f9f4a6b2\n",
      "Cartridge_name: Ms. Pac-Man (1982) (CCE)\n",
      "\n",
      "Running ROM file...\n",
      "Random seed is 0\n",
      "A.L.E: Arcade Learning Environment (version 0.6.0)\n",
      "[Powered by Stella]\n",
      "Use -help for help screen.\n",
      "Game console created:\n",
      "  ROM file:  /home/d9w/.julia/packages/ArcadeLearningEnvironment/YJh2g/src/../deps/roms/ms_pacman.bin\n",
      "  Cart Name: Ms. Pac-Man (1982) (CCE)\n",
      "  Cart MD5:  9469d18238345d87768e8965f9f4a6b2\n",
      "  Display Format:  AUTO-DETECT ==> NTSC\n",
      "  ROM Size:        8192\n",
      "  Bankswitch Type: AUTO-DETECT ==> F8\n",
      "\n",
      "\n",
      "WARNING: Possibly unsupported ROM: mismatched MD5.\n",
      "Cartridge_MD5: 9469d18238345d87768e8965f9f4a6b2\n",
      "Cartridge_name: Ms. Pac-Man (1982) (CCE)\n",
      "\n",
      "Running ROM file...\n",
      "Random seed is 0\n",
      "A.L.E: Arcade Learning Environment (version 0.6.0)\n",
      "[Powered by Stella]\n",
      "Use -help for help screen.\n",
      "Game console created:\n",
      "  ROM file:  /home/d9w/.julia/packages/ArcadeLearningEnvironment/YJh2g/src/../deps/roms/ms_pacman.bin\n",
      "  Cart Name: Ms. Pac-Man (1982) (CCE)\n",
      "  Cart MD5:  9469d18238345d87768e8965f9f4a6b2\n",
      "  Display Format:  AUTO-DETECT ==> NTSC\n",
      "  ROM Size:        8192\n",
      "  Bankswitch Type: AUTO-DETECT ==> F8\n",
      "\n",
      "\n",
      "WARNING: Possibly unsupported ROM: mismatched MD5.\n",
      "Cartridge_MD5: 9469d18238345d87768e8965f9f4a6b2\n",
      "Cartridge_name: Ms. Pac-Man (1982) (CCE)\n",
      "\n",
      "Running ROM file...\n",
      "Random seed is 0\n",
      "A.L.E: Arcade Learning Environment (version 0.6.0)\n",
      "[Powered by Stella]\n",
      "Use -help for help screen.\n",
      "Game console created:\n",
      "  ROM file:  /home/d9w/.julia/packages/ArcadeLearningEnvironment/YJh2g/src/../deps/roms/ms_pacman.bin\n",
      "  Cart Name: Ms. Pac-Man (1982) (CCE)\n",
      "  Cart MD5:  9469d18238345d87768e8965f9f4a6b2\n",
      "  Display Format:  AUTO-DETECT ==> NTSC\n",
      "  ROM Size:        8192\n",
      "  Bankswitch Type: AUTO-DETECT ==> F8\n",
      "\n",
      "\n",
      "WARNING: Possibly unsupported ROM: mismatched MD5.\n",
      "Cartridge_MD5: 9469d18238345d87768e8965f9f4a6b2\n",
      "Cartridge_name: Ms. Pac-Man (1982) (CCE)\n",
      "\n",
      "Running ROM file...\n",
      "Random seed is 0\n",
      "A.L.E: Arcade Learning Environment (version 0.6.0)\n",
      "[Powered by Stella]\n",
      "Use -help for help screen.\n",
      "Game console created:\n",
      "  ROM file:  /home/d9w/.julia/packages/ArcadeLearningEnvironment/YJh2g/src/../deps/roms/ms_pacman.bin\n",
      "  Cart Name: Ms. Pac-Man (1982) (CCE)\n",
      "  Cart MD5:  9469d18238345d87768e8965f9f4a6b2\n",
      "  Display Format:  AUTO-DETECT ==> NTSC\n",
      "  ROM Size:        8192\n",
      "  Bankswitch Type: AUTO-DETECT ==> F8\n",
      "\n",
      "\n",
      "WARNING: Possibly unsupported ROM: mismatched MD5.\n",
      "Cartridge_MD5: 9469d18238345d87768e8965f9f4a6b2\n",
      "Cartridge_name: Ms. Pac-Man (1982) (CCE)\n",
      "\n",
      "Running ROM file...\n",
      "Random seed is 0\n",
      "A.L.E: Arcade Learning Environment (version 0.6.0)\n",
      "[Powered by Stella]\n",
      "Use -help for help screen.\n",
      "Game console created:\n",
      "  ROM file:  /home/d9w/.julia/packages/ArcadeLearningEnvironment/YJh2g/src/../deps/roms/ms_pacman.bin\n",
      "  Cart Name: Ms. Pac-Man (1982) (CCE)\n",
      "  Cart MD5:  9469d18238345d87768e8965f9f4a6b2\n",
      "  Display Format:  AUTO-DETECT ==> NTSC\n",
      "  ROM Size:        8192\n",
      "  Bankswitch Type: AUTO-DETECT ==> F8\n",
      "\n",
      "\n",
      "WARNING: Possibly unsupported ROM: mismatched MD5.\n",
      "Cartridge_MD5: 9469d18238345d87768e8965f9f4a6b2\n",
      "Cartridge_name: Ms. Pac-Man (1982) (CCE)\n",
      "\n",
      "Running ROM file...\n",
      "Random seed is 0\n",
      "A.L.E: Arcade Learning Environment (version 0.6.0)\n",
      "[Powered by Stella]\n",
      "Use -help for help screen.\n",
      "Game console created:\n",
      "  ROM file:  /home/d9w/.julia/packages/ArcadeLearningEnvironment/YJh2g/src/../deps/roms/ms_pacman.bin\n",
      "  Cart Name: Ms. Pac-Man (1982) (CCE)\n",
      "  Cart MD5:  9469d18238345d87768e8965f9f4a6b2\n",
      "  Display Format:  AUTO-DETECT ==> NTSC\n",
      "  ROM Size:        8192\n",
      "  Bankswitch Type: AUTO-DETECT ==> F8\n",
      "\n",
      "\n",
      "WARNING: Possibly unsupported ROM: mismatched MD5.\n",
      "Cartridge_MD5: 9469d18238345d87768e8965f9f4a6b2\n",
      "Cartridge_name: Ms. Pac-Man (1982) (CCE)\n",
      "\n",
      "Running ROM file...\n",
      "Random seed is 0\n",
      "A.L.E: Arcade Learning Environment (version 0.6.0)\n",
      "[Powered by Stella]\n",
      "Use -help for help screen.\n",
      "Game console created:\n",
      "  ROM file:  /home/d9w/.julia/packages/ArcadeLearningEnvironment/YJh2g/src/../deps/roms/ms_pacman.bin\n",
      "  Cart Name: Ms. Pac-Man (1982) (CCE)\n",
      "  Cart MD5:  9469d18238345d87768e8965f9f4a6b2\n",
      "  Display Format:  AUTO-DETECT ==> NTSC\n",
      "  ROM Size:        8192\n",
      "  Bankswitch Type: AUTO-DETECT ==> F8\n",
      "\n",
      "\n",
      "WARNING: Possibly unsupported ROM: mismatched MD5.\n",
      "Cartridge_MD5: 9469d18238345d87768e8965f9f4a6b2\n",
      "Cartridge_name: Ms. Pac-Man (1982) (CCE)\n",
      "\n",
      "Running ROM file...\n",
      "Random seed is 0\n",
      "A.L.E: Arcade Learning Environment (version 0.6.0)\n",
      "[Powered by Stella]\n",
      "Use -help for help screen.\n",
      "Game console created:\n",
      "  ROM file:  /home/d9w/.julia/packages/ArcadeLearningEnvironment/YJh2g/src/../deps/roms/ms_pacman.bin\n",
      "  Cart Name: Ms. Pac-Man (1982) (CCE)\n",
      "  Cart MD5:  9469d18238345d87768e8965f9f4a6b2\n",
      "  Display Format:  AUTO-DETECT ==> NTSC\n",
      "  ROM Size:        8192\n",
      "  Bankswitch Type: AUTO-DETECT ==> F8\n",
      "\n",
      "\n",
      "WARNING: Possibly unsupported ROM: mismatched MD5.\n",
      "Cartridge_MD5: 9469d18238345d87768e8965f9f4a6b2\n",
      "Cartridge_name: Ms. Pac-Man (1982) (CCE)\n",
      "\n",
      "Running ROM file...\n",
      "Random seed is 0\n",
      "A.L.E: Arcade Learning Environment (version 0.6.0)\n",
      "[Powered by Stella]\n",
      "Use -help for help screen.\n",
      "Game console created:\n",
      "  ROM file:  /home/d9w/.julia/packages/ArcadeLearningEnvironment/YJh2g/src/../deps/roms/ms_pacman.bin\n",
      "  Cart Name: Ms. Pac-Man (1982) (CCE)\n",
      "  Cart MD5:  9469d18238345d87768e8965f9f4a6b2\n",
      "  Display Format:  AUTO-DETECT ==> NTSC\n",
      "  ROM Size:        8192\n",
      "  Bankswitch Type: AUTO-DETECT ==> F8\n",
      "\n",
      "\n",
      "WARNING: Possibly unsupported ROM: mismatched MD5.\n",
      "Cartridge_MD5: 9469d18238345d87768e8965f9f4a6b2\n",
      "Cartridge_name: Ms. Pac-Man (1982) (CCE)\n",
      "\n",
      "Running ROM file...\n",
      "Random seed is 0\n",
      "A.L.E: Arcade Learning Environment (version 0.6.0)\n",
      "[Powered by Stella]\n",
      "Use -help for help screen.\n",
      "Game console created:\n",
      "  ROM file:  /home/d9w/.julia/packages/ArcadeLearningEnvironment/YJh2g/src/../deps/roms/ms_pacman.bin\n",
      "  Cart Name: Ms. Pac-Man (1982) (CCE)\n",
      "  Cart MD5:  9469d18238345d87768e8965f9f4a6b2\n",
      "  Display Format:  AUTO-DETECT ==> NTSC\n",
      "  ROM Size:        8192\n",
      "  Bankswitch Type: AUTO-DETECT ==> F8\n",
      "\n",
      "\n",
      "WARNING: Possibly unsupported ROM: mismatched MD5.\n",
      "Cartridge_MD5: 9469d18238345d87768e8965f9f4a6b2\n",
      "Cartridge_name: Ms. Pac-Man (1982) (CCE)\n",
      "\n",
      "Running ROM file...\n",
      "Random seed is 0\n",
      "A.L.E: Arcade Learning Environment (version 0.6.0)\n",
      "[Powered by Stella]\n",
      "Use -help for help screen.\n",
      "Game console created:\n",
      "  ROM file:  /home/d9w/.julia/packages/ArcadeLearningEnvironment/YJh2g/src/../deps/roms/ms_pacman.bin\n",
      "  Cart Name: Ms. Pac-Man (1982) (CCE)\n",
      "  Cart MD5:  9469d18238345d87768e8965f9f4a6b2\n",
      "  Display Format:  AUTO-DETECT ==> NTSC\n",
      "  ROM Size:        8192\n",
      "  Bankswitch Type: AUTO-DETECT ==> F8\n",
      "\n",
      "\n",
      "WARNING: Possibly unsupported ROM: mismatched MD5.\n",
      "Cartridge_MD5: 9469d18238345d87768e8965f9f4a6b2\n",
      "Cartridge_name: Ms. Pac-Man (1982) (CCE)\n",
      "\n",
      "Running ROM file...\n",
      "Random seed is 0\n",
      "A.L.E: Arcade Learning Environment (version 0.6.0)\n",
      "[Powered by Stella]\n",
      "Use -help for help screen.\n",
      "Game console created:\n",
      "  ROM file:  /home/d9w/.julia/packages/ArcadeLearningEnvironment/YJh2g/src/../deps/roms/ms_pacman.bin\n",
      "  Cart Name: Ms. Pac-Man (1982) (CCE)\n",
      "  Cart MD5:  9469d18238345d87768e8965f9f4a6b2\n",
      "  Display Format:  AUTO-DETECT ==> NTSC\n",
      "  ROM Size:        8192\n",
      "  Bankswitch Type: AUTO-DETECT ==> F8\n",
      "\n",
      "\n",
      "WARNING: Possibly unsupported ROM: mismatched MD5.\n",
      "Cartridge_MD5: 9469d18238345d87768e8965f9f4a6b2\n",
      "Cartridge_name: Ms. Pac-Man (1982) (CCE)\n",
      "\n",
      "Running ROM file...\n",
      "Random seed is 0\n",
      "A.L.E: Arcade Learning Environment (version 0.6.0)\n",
      "[Powered by Stella]\n",
      "Use -help for help screen.\n",
      "Game console created:\n",
      "  ROM file:  /home/d9w/.julia/packages/ArcadeLearningEnvironment/YJh2g/src/../deps/roms/ms_pacman.bin\n",
      "  Cart Name: Ms. Pac-Man (1982) (CCE)\n",
      "  Cart MD5:  9469d18238345d87768e8965f9f4a6b2\n",
      "  Display Format:  AUTO-DETECT ==> NTSC\n",
      "  ROM Size:        8192\n",
      "  Bankswitch Type: AUTO-DETECT ==> F8\n",
      "\n",
      "\n",
      "WARNING: Possibly unsupported ROM: mismatched MD5.\n",
      "Cartridge_MD5: 9469d18238345d87768e8965f9f4a6b2\n",
      "Cartridge_name: Ms. Pac-Man (1982) (CCE)\n",
      "\n",
      "Running ROM file...\n",
      "Random seed is 0\n",
      "A.L.E: Arcade Learning Environment (version 0.6.0)\n",
      "[Powered by Stella]\n",
      "Use -help for help screen.\n",
      "Game console created:\n",
      "  ROM file:  /home/d9w/.julia/packages/ArcadeLearningEnvironment/YJh2g/src/../deps/roms/ms_pacman.bin\n",
      "  Cart Name: Ms. Pac-Man (1982) (CCE)\n",
      "  Cart MD5:  9469d18238345d87768e8965f9f4a6b2\n",
      "  Display Format:  AUTO-DETECT ==> NTSC\n",
      "  ROM Size:        8192\n",
      "  Bankswitch Type: AUTO-DETECT ==> F8\n",
      "\n",
      "\n",
      "WARNING: Possibly unsupported ROM: mismatched MD5.\n",
      "Cartridge_MD5: 9469d18238345d87768e8965f9f4a6b2\n",
      "Cartridge_name: Ms. Pac-Man (1982) (CCE)\n",
      "\n",
      "Running ROM file...\n",
      "Random seed is 0\n",
      "A.L.E: Arcade Learning Environment (version 0.6.0)\n",
      "[Powered by Stella]\n",
      "Use -help for help screen.\n",
      "Game console created:\n",
      "  ROM file:  /home/d9w/.julia/packages/ArcadeLearningEnvironment/YJh2g/src/../deps/roms/ms_pacman.bin\n",
      "  Cart Name: Ms. Pac-Man (1982) (CCE)\n",
      "  Cart MD5:  9469d18238345d87768e8965f9f4a6b2\n",
      "  Display Format:  AUTO-DETECT ==> NTSC\n",
      "  ROM Size:        8192\n",
      "  Bankswitch Type: AUTO-DETECT ==> F8\n",
      "\n",
      "\n",
      "WARNING: Possibly unsupported ROM: mismatched MD5.\n",
      "Cartridge_MD5: 9469d18238345d87768e8965f9f4a6b2\n",
      "Cartridge_name: Ms. Pac-Man (1982) (CCE)\n",
      "\n",
      "Running ROM file...\n",
      "Random seed is 0\n",
      "A.L.E: Arcade Learning Environment (version 0.6.0)\n",
      "[Powered by Stella]\n",
      "Use -help for help screen.\n",
      "Game console created:\n",
      "  ROM file:  /home/d9w/.julia/packages/ArcadeLearningEnvironment/YJh2g/src/../deps/roms/ms_pacman.bin\n",
      "  Cart Name: Ms. Pac-Man (1982) (CCE)\n",
      "  Cart MD5:  9469d18238345d87768e8965f9f4a6b2\n",
      "  Display Format:  AUTO-DETECT ==> NTSC\n",
      "  ROM Size:        8192\n",
      "  Bankswitch Type: AUTO-DETECT ==> F8\n",
      "\n",
      "\n",
      "WARNING: Possibly unsupported ROM: mismatched MD5.\n",
      "Cartridge_MD5: 9469d18238345d87768e8965f9f4a6b2\n",
      "Cartridge_name: Ms. Pac-Man (1982) (CCE)\n",
      "\n",
      "Running ROM file...\n",
      "Random seed is 0\n",
      "A.L.E: Arcade Learning Environment (version 0.6.0)\n",
      "[Powered by Stella]\n",
      "Use -help for help screen.\n",
      "Game console created:\n",
      "  ROM file:  /home/d9w/.julia/packages/ArcadeLearningEnvironment/YJh2g/src/../deps/roms/ms_pacman.bin\n",
      "  Cart Name: Ms. Pac-Man (1982) (CCE)\n",
      "  Cart MD5:  9469d18238345d87768e8965f9f4a6b2\n",
      "  Display Format:  AUTO-DETECT ==> NTSC\n",
      "  ROM Size:        8192\n",
      "  Bankswitch Type: AUTO-DETECT ==> F8\n",
      "\n",
      "\n",
      "WARNING: Possibly unsupported ROM: mismatched MD5.\n",
      "Cartridge_MD5: 9469d18238345d87768e8965f9f4a6b2\n",
      "Cartridge_name: Ms. Pac-Man (1982) (CCE)\n",
      "\n",
      "Running ROM file...\n",
      "Random seed is 0\n",
      "A.L.E: Arcade Learning Environment (version 0.6.0)\n",
      "[Powered by Stella]\n",
      "Use -help for help screen.\n",
      "Game console created:\n",
      "  ROM file:  /home/d9w/.julia/packages/ArcadeLearningEnvironment/YJh2g/src/../deps/roms/ms_pacman.bin\n",
      "  Cart Name: Ms. Pac-Man (1982) (CCE)\n",
      "  Cart MD5:  9469d18238345d87768e8965f9f4a6b2\n",
      "  Display Format:  AUTO-DETECT ==> NTSC\n",
      "  ROM Size:        8192\n",
      "  Bankswitch Type: AUTO-DETECT ==> F8\n",
      "\n",
      "\n",
      "WARNING: Possibly unsupported ROM: mismatched MD5.\n",
      "Cartridge_MD5: 9469d18238345d87768e8965f9f4a6b2\n",
      "Cartridge_name: Ms. Pac-Man (1982) (CCE)\n",
      "\n",
      "Running ROM file...\n",
      "Random seed is 0\n",
      "A.L.E: Arcade Learning Environment (version 0.6.0)\n",
      "[Powered by Stella]\n",
      "Use -help for help screen.\n",
      "Game console created:\n",
      "  ROM file:  /home/d9w/.julia/packages/ArcadeLearningEnvironment/YJh2g/src/../deps/roms/ms_pacman.bin\n",
      "  Cart Name: Ms. Pac-Man (1982) (CCE)\n",
      "  Cart MD5:  9469d18238345d87768e8965f9f4a6b2\n",
      "  Display Format:  AUTO-DETECT ==> NTSC\n",
      "  ROM Size:        8192\n",
      "  Bankswitch Type: AUTO-DETECT ==> F8\n",
      "\n",
      "\n",
      "WARNING: Possibly unsupported ROM: mismatched MD5.\n",
      "Cartridge_MD5: 9469d18238345d87768e8965f9f4a6b2\n",
      "Cartridge_name: Ms. Pac-Man (1982) (CCE)\n",
      "\n",
      "Running ROM file...\n",
      "Random seed is 0\n",
      "A.L.E: Arcade Learning Environment (version 0.6.0)\n",
      "[Powered by Stella]\n",
      "Use -help for help screen.\n",
      "Game console created:\n",
      "  ROM file:  /home/d9w/.julia/packages/ArcadeLearningEnvironment/YJh2g/src/../deps/roms/ms_pacman.bin\n",
      "  Cart Name: Ms. Pac-Man (1982) (CCE)\n",
      "  Cart MD5:  9469d18238345d87768e8965f9f4a6b2\n",
      "  Display Format:  AUTO-DETECT ==> NTSC\n",
      "  ROM Size:        8192\n",
      "  Bankswitch Type: AUTO-DETECT ==> F8\n",
      "\n",
      "\n",
      "WARNING: Possibly unsupported ROM: mismatched MD5.\n",
      "Cartridge_MD5: 9469d18238345d87768e8965f9f4a6b2\n",
      "Cartridge_name: Ms. Pac-Man (1982) (CCE)\n",
      "\n",
      "Running ROM file...\n",
      "Random seed is 0\n",
      "A.L.E: Arcade Learning Environment (version 0.6.0)\n",
      "[Powered by Stella]\n",
      "Use -help for help screen.\n",
      "Game console created:\n",
      "  ROM file:  /home/d9w/.julia/packages/ArcadeLearningEnvironment/YJh2g/src/../deps/roms/ms_pacman.bin\n",
      "  Cart Name: Ms. Pac-Man (1982) (CCE)\n",
      "  Cart MD5:  9469d18238345d87768e8965f9f4a6b2\n",
      "  Display Format:  AUTO-DETECT ==> NTSC\n",
      "  ROM Size:        8192\n",
      "  Bankswitch Type: AUTO-DETECT ==> F8\n",
      "\n",
      "\n",
      "WARNING: Possibly unsupported ROM: mismatched MD5.\n",
      "Cartridge_MD5: 9469d18238345d87768e8965f9f4a6b2\n",
      "Cartridge_name: Ms. Pac-Man (1982) (CCE)\n",
      "\n",
      "Running ROM file...\n",
      "Random seed is 0\n",
      "A.L.E: Arcade Learning Environment (version 0.6.0)\n",
      "[Powered by Stella]\n",
      "Use -help for help screen.\n",
      "Game console created:\n",
      "  ROM file:  /home/d9w/.julia/packages/ArcadeLearningEnvironment/YJh2g/src/../deps/roms/ms_pacman.bin\n",
      "  Cart Name: Ms. Pac-Man (1982) (CCE)\n",
      "  Cart MD5:  9469d18238345d87768e8965f9f4a6b2\n",
      "  Display Format:  AUTO-DETECT ==> NTSC\n",
      "  ROM Size:        8192\n",
      "  Bankswitch Type: AUTO-DETECT ==> F8\n",
      "\n",
      "\n",
      "WARNING: Possibly unsupported ROM: mismatched MD5.\n",
      "Cartridge_MD5: 9469d18238345d87768e8965f9f4a6b2\n",
      "Cartridge_name: Ms. Pac-Man (1982) (CCE)\n",
      "\n",
      "Running ROM file...\n",
      "Random seed is 0\n",
      "A.L.E: Arcade Learning Environment (version 0.6.0)\n",
      "[Powered by Stella]\n",
      "Use -help for help screen.\n",
      "Game console created:\n",
      "  ROM file:  /home/d9w/.julia/packages/ArcadeLearningEnvironment/YJh2g/src/../deps/roms/ms_pacman.bin\n",
      "  Cart Name: Ms. Pac-Man (1982) (CCE)\n",
      "  Cart MD5:  9469d18238345d87768e8965f9f4a6b2\n",
      "  Display Format:  AUTO-DETECT ==> NTSC\n",
      "  ROM Size:        8192\n",
      "  Bankswitch Type: AUTO-DETECT ==> F8\n",
      "\n",
      "\n",
      "WARNING: Possibly unsupported ROM: mismatched MD5.\n",
      "Cartridge_MD5: 9469d18238345d87768e8965f9f4a6b2\n",
      "Cartridge_name: Ms. Pac-Man (1982) (CCE)\n",
      "\n",
      "Running ROM file...\n",
      "Random seed is 0\n",
      "A.L.E: Arcade Learning Environment (version 0.6.0)\n",
      "[Powered by Stella]\n",
      "Use -help for help screen.\n",
      "Game console created:\n",
      "  ROM file:  /home/d9w/.julia/packages/ArcadeLearningEnvironment/YJh2g/src/../deps/roms/ms_pacman.bin\n",
      "  Cart Name: Ms. Pac-Man (1982) (CCE)\n",
      "  Cart MD5:  9469d18238345d87768e8965f9f4a6b2\n",
      "  Display Format:  AUTO-DETECT ==> NTSC\n",
      "  ROM Size:        8192\n",
      "  Bankswitch Type: AUTO-DETECT ==> F8\n",
      "\n",
      "\n",
      "WARNING: Possibly unsupported ROM: mismatched MD5.\n",
      "Cartridge_MD5: 9469d18238345d87768e8965f9f4a6b2\n",
      "Cartridge_name: Ms. Pac-Man (1982) (CCE)\n",
      "\n",
      "Running ROM file...\n",
      "Random seed is 0\n",
      "A.L.E: Arcade Learning Environment (version 0.6.0)\n",
      "[Powered by Stella]\n",
      "Use -help for help screen.\n",
      "Game console created:\n",
      "  ROM file:  /home/d9w/.julia/packages/ArcadeLearningEnvironment/YJh2g/src/../deps/roms/ms_pacman.bin\n",
      "  Cart Name: Ms. Pac-Man (1982) (CCE)\n",
      "  Cart MD5:  9469d18238345d87768e8965f9f4a6b2\n",
      "  Display Format:  AUTO-DETECT ==> NTSC\n",
      "  ROM Size:        8192\n",
      "  Bankswitch Type: AUTO-DETECT ==> F8\n",
      "\n",
      "\n",
      "WARNING: Possibly unsupported ROM: mismatched MD5.\n",
      "Cartridge_MD5: 9469d18238345d87768e8965f9f4a6b2\n",
      "Cartridge_name: Ms. Pac-Man (1982) (CCE)\n",
      "\n",
      "Running ROM file...\n",
      "Random seed is 0\n",
      "A.L.E: Arcade Learning Environment (version 0.6.0)\n",
      "[Powered by Stella]\n",
      "Use -help for help screen.\n",
      "Game console created:\n",
      "  ROM file:  /home/d9w/.julia/packages/ArcadeLearningEnvironment/YJh2g/src/../deps/roms/ms_pacman.bin\n",
      "  Cart Name: Ms. Pac-Man (1982) (CCE)\n",
      "  Cart MD5:  9469d18238345d87768e8965f9f4a6b2\n",
      "  Display Format:  AUTO-DETECT ==> NTSC\n",
      "  ROM Size:        8192\n",
      "  Bankswitch Type: AUTO-DETECT ==> F8\n",
      "\n",
      "\n",
      "WARNING: Possibly unsupported ROM: mismatched MD5.\n",
      "Cartridge_MD5: 9469d18238345d87768e8965f9f4a6b2\n",
      "Cartridge_name: Ms. Pac-Man (1982) (CCE)\n",
      "\n",
      "Running ROM file...\n",
      "Random seed is 0\n",
      "A.L.E: Arcade Learning Environment (version 0.6.0)\n",
      "[Powered by Stella]\n",
      "Use -help for help screen.\n",
      "Game console created:\n",
      "  ROM file:  /home/d9w/.julia/packages/ArcadeLearningEnvironment/YJh2g/src/../deps/roms/ms_pacman.bin\n",
      "  Cart Name: Ms. Pac-Man (1982) (CCE)\n",
      "  Cart MD5:  9469d18238345d87768e8965f9f4a6b2\n",
      "  Display Format:  AUTO-DETECT ==> NTSC\n",
      "  ROM Size:        8192\n",
      "  Bankswitch Type: AUTO-DETECT ==> F8\n",
      "\n",
      "\n",
      "WARNING: Possibly unsupported ROM: mismatched MD5.\n",
      "Cartridge_MD5: 9469d18238345d87768e8965f9f4a6b2\n",
      "Cartridge_name: Ms. Pac-Man (1982) (CCE)\n",
      "\n",
      "Running ROM file...\n",
      "Random seed is 0\n",
      "A.L.E: Arcade Learning Environment (version 0.6.0)\n",
      "[Powered by Stella]\n",
      "Use -help for help screen.\n",
      "Game console created:\n",
      "  ROM file:  /home/d9w/.julia/packages/ArcadeLearningEnvironment/YJh2g/src/../deps/roms/ms_pacman.bin\n",
      "  Cart Name: Ms. Pac-Man (1982) (CCE)\n",
      "  Cart MD5:  9469d18238345d87768e8965f9f4a6b2\n",
      "  Display Format:  AUTO-DETECT ==> NTSC\n",
      "  ROM Size:        8192\n",
      "  Bankswitch Type: AUTO-DETECT ==> F8\n",
      "\n",
      "\n",
      "WARNING: Possibly unsupported ROM: mismatched MD5.\n",
      "Cartridge_MD5: 9469d18238345d87768e8965f9f4a6b2\n",
      "Cartridge_name: Ms. Pac-Man (1982) (CCE)\n",
      "\n",
      "Running ROM file...\n",
      "Random seed is 0\n",
      "A.L.E: Arcade Learning Environment (version 0.6.0)\n",
      "[Powered by Stella]\n",
      "Use -help for help screen.\n",
      "Game console created:\n",
      "  ROM file:  /home/d9w/.julia/packages/ArcadeLearningEnvironment/YJh2g/src/../deps/roms/ms_pacman.bin\n",
      "  Cart Name: Ms. Pac-Man (1982) (CCE)\n",
      "  Cart MD5:  9469d18238345d87768e8965f9f4a6b2\n",
      "  Display Format:  AUTO-DETECT ==> NTSC\n",
      "  ROM Size:        8192\n",
      "  Bankswitch Type: AUTO-DETECT ==> F8\n",
      "\n",
      "\n",
      "WARNING: Possibly unsupported ROM: mismatched MD5.\n",
      "Cartridge_MD5: 9469d18238345d87768e8965f9f4a6b2\n",
      "Cartridge_name: Ms. Pac-Man (1982) (CCE)\n",
      "\n",
      "Running ROM file...\n",
      "Random seed is 0\n",
      "A.L.E: Arcade Learning Environment (version 0.6.0)\n",
      "[Powered by Stella]\n",
      "Use -help for help screen.\n",
      "Game console created:\n",
      "  ROM file:  /home/d9w/.julia/packages/ArcadeLearningEnvironment/YJh2g/src/../deps/roms/ms_pacman.bin\n",
      "  Cart Name: Ms. Pac-Man (1982) (CCE)\n",
      "  Cart MD5:  9469d18238345d87768e8965f9f4a6b2\n",
      "  Display Format:  AUTO-DETECT ==> NTSC\n",
      "  ROM Size:        8192\n",
      "  Bankswitch Type: AUTO-DETECT ==> F8\n",
      "\n",
      "\n",
      "WARNING: Possibly unsupported ROM: mismatched MD5.\n",
      "Cartridge_MD5: 9469d18238345d87768e8965f9f4a6b2\n",
      "Cartridge_name: Ms. Pac-Man (1982) (CCE)\n",
      "\n",
      "Running ROM file...\n",
      "Random seed is 0\n",
      "A.L.E: Arcade Learning Environment (version 0.6.0)\n",
      "[Powered by Stella]\n",
      "Use -help for help screen.\n",
      "Game console created:\n",
      "  ROM file:  /home/d9w/.julia/packages/ArcadeLearningEnvironment/YJh2g/src/../deps/roms/ms_pacman.bin\n",
      "  Cart Name: Ms. Pac-Man (1982) (CCE)\n",
      "  Cart MD5:  9469d18238345d87768e8965f9f4a6b2\n",
      "  Display Format:  AUTO-DETECT ==> NTSC\n",
      "  ROM Size:        8192\n",
      "  Bankswitch Type: AUTO-DETECT ==> F8\n",
      "\n",
      "\n",
      "WARNING: Possibly unsupported ROM: mismatched MD5.\n",
      "Cartridge_MD5: 9469d18238345d87768e8965f9f4a6b2\n",
      "Cartridge_name: Ms. Pac-Man (1982) (CCE)\n",
      "\n",
      "Running ROM file...\n",
      "Random seed is 0\n",
      "A.L.E: Arcade Learning Environment (version 0.6.0)\n",
      "[Powered by Stella]\n",
      "Use -help for help screen.\n",
      "Game console created:\n",
      "  ROM file:  /home/d9w/.julia/packages/ArcadeLearningEnvironment/YJh2g/src/../deps/roms/ms_pacman.bin\n",
      "  Cart Name: Ms. Pac-Man (1982) (CCE)\n",
      "  Cart MD5:  9469d18238345d87768e8965f9f4a6b2\n",
      "  Display Format:  AUTO-DETECT ==> NTSC\n",
      "  ROM Size:        8192\n",
      "  Bankswitch Type: AUTO-DETECT ==> F8\n",
      "\n",
      "\n",
      "WARNING: Possibly unsupported ROM: mismatched MD5.\n",
      "Cartridge_MD5: 9469d18238345d87768e8965f9f4a6b2\n",
      "Cartridge_name: Ms. Pac-Man (1982) (CCE)\n",
      "\n",
      "Running ROM file...\n",
      "Random seed is 0\n",
      "A.L.E: Arcade Learning Environment (version 0.6.0)\n",
      "[Powered by Stella]\n",
      "Use -help for help screen.\n",
      "Game console created:\n",
      "  ROM file:  /home/d9w/.julia/packages/ArcadeLearningEnvironment/YJh2g/src/../deps/roms/ms_pacman.bin\n",
      "  Cart Name: Ms. Pac-Man (1982) (CCE)\n",
      "  Cart MD5:  9469d18238345d87768e8965f9f4a6b2\n",
      "  Display Format:  AUTO-DETECT ==> NTSC\n",
      "  ROM Size:        8192\n",
      "  Bankswitch Type: AUTO-DETECT ==> F8\n",
      "\n",
      "\n",
      "WARNING: Possibly unsupported ROM: mismatched MD5.\n",
      "Cartridge_MD5: 9469d18238345d87768e8965f9f4a6b2\n",
      "Cartridge_name: Ms. Pac-Man (1982) (CCE)\n",
      "\n",
      "Running ROM file...\n",
      "Random seed is 0\n",
      "A.L.E: Arcade Learning Environment (version 0.6.0)\n",
      "[Powered by Stella]\n",
      "Use -help for help screen.\n",
      "Game console created:\n",
      "  ROM file:  /home/d9w/.julia/packages/ArcadeLearningEnvironment/YJh2g/src/../deps/roms/ms_pacman.bin\n",
      "  Cart Name: Ms. Pac-Man (1982) (CCE)\n",
      "  Cart MD5:  9469d18238345d87768e8965f9f4a6b2\n",
      "  Display Format:  AUTO-DETECT ==> NTSC\n",
      "  ROM Size:        8192\n",
      "  Bankswitch Type: AUTO-DETECT ==> F8\n",
      "\n",
      "\n",
      "WARNING: Possibly unsupported ROM: mismatched MD5.\n",
      "Cartridge_MD5: 9469d18238345d87768e8965f9f4a6b2\n",
      "Cartridge_name: Ms. Pac-Man (1982) (CCE)\n",
      "\n",
      "Running ROM file...\n",
      "Random seed is 0\n",
      "A.L.E: Arcade Learning Environment (version 0.6.0)\n",
      "[Powered by Stella]\n",
      "Use -help for help screen.\n",
      "Game console created:\n",
      "  ROM file:  /home/d9w/.julia/packages/ArcadeLearningEnvironment/YJh2g/src/../deps/roms/ms_pacman.bin\n",
      "  Cart Name: Ms. Pac-Man (1982) (CCE)\n",
      "  Cart MD5:  9469d18238345d87768e8965f9f4a6b2\n",
      "  Display Format:  AUTO-DETECT ==> NTSC\n",
      "  ROM Size:        8192\n",
      "  Bankswitch Type: AUTO-DETECT ==> F8\n",
      "\n",
      "\n",
      "WARNING: Possibly unsupported ROM: mismatched MD5.\n",
      "Cartridge_MD5: 9469d18238345d87768e8965f9f4a6b2\n",
      "Cartridge_name: Ms. Pac-Man (1982) (CCE)\n",
      "\n",
      "Running ROM file...\n",
      "Random seed is 0\n",
      "A.L.E: Arcade Learning Environment (version 0.6.0)\n",
      "[Powered by Stella]\n",
      "Use -help for help screen.\n",
      "Game console created:\n",
      "  ROM file:  /home/d9w/.julia/packages/ArcadeLearningEnvironment/YJh2g/src/../deps/roms/ms_pacman.bin\n",
      "  Cart Name: Ms. Pac-Man (1982) (CCE)\n",
      "  Cart MD5:  9469d18238345d87768e8965f9f4a6b2\n",
      "  Display Format:  AUTO-DETECT ==> NTSC\n",
      "  ROM Size:        8192\n",
      "  Bankswitch Type: AUTO-DETECT ==> F8\n",
      "\n",
      "\n",
      "WARNING: Possibly unsupported ROM: mismatched MD5.\n",
      "Cartridge_MD5: 9469d18238345d87768e8965f9f4a6b2\n",
      "Cartridge_name: Ms. Pac-Man (1982) (CCE)\n",
      "\n",
      "Running ROM file...\n",
      "Random seed is 0\n",
      "A.L.E: Arcade Learning Environment (version 0.6.0)\n",
      "[Powered by Stella]\n",
      "Use -help for help screen.\n",
      "Game console created:\n",
      "  ROM file:  /home/d9w/.julia/packages/ArcadeLearningEnvironment/YJh2g/src/../deps/roms/ms_pacman.bin\n",
      "  Cart Name: Ms. Pac-Man (1982) (CCE)\n",
      "  Cart MD5:  9469d18238345d87768e8965f9f4a6b2\n",
      "  Display Format:  AUTO-DETECT ==> NTSC\n",
      "  ROM Size:        8192\n",
      "  Bankswitch Type: AUTO-DETECT ==> F8\n",
      "\n",
      "\n",
      "WARNING: Possibly unsupported ROM: mismatched MD5.\n",
      "Cartridge_MD5: 9469d18238345d87768e8965f9f4a6b2\n",
      "Cartridge_name: Ms. Pac-Man (1982) (CCE)\n",
      "\n",
      "Running ROM file...\n",
      "Random seed is 0\n",
      "A.L.E: Arcade Learning Environment (version 0.6.0)\n",
      "[Powered by Stella]\n",
      "Use -help for help screen.\n",
      "Game console created:\n",
      "  ROM file:  /home/d9w/.julia/packages/ArcadeLearningEnvironment/YJh2g/src/../deps/roms/ms_pacman.bin\n",
      "  Cart Name: Ms. Pac-Man (1982) (CCE)\n",
      "  Cart MD5:  9469d18238345d87768e8965f9f4a6b2\n",
      "  Display Format:  AUTO-DETECT ==> NTSC\n",
      "  ROM Size:        8192\n",
      "  Bankswitch Type: AUTO-DETECT ==> F8\n",
      "\n",
      "\n",
      "WARNING: Possibly unsupported ROM: mismatched MD5.\n",
      "Cartridge_MD5: 9469d18238345d87768e8965f9f4a6b2\n",
      "Cartridge_name: Ms. Pac-Man (1982) (CCE)\n",
      "\n",
      "Running ROM file...\n",
      "Random seed is 0\n",
      "A.L.E: Arcade Learning Environment (version 0.6.0)\n",
      "[Powered by Stella]\n",
      "Use -help for help screen.\n",
      "Game console created:\n",
      "  ROM file:  /home/d9w/.julia/packages/ArcadeLearningEnvironment/YJh2g/src/../deps/roms/ms_pacman.bin\n",
      "  Cart Name: Ms. Pac-Man (1982) (CCE)\n",
      "  Cart MD5:  9469d18238345d87768e8965f9f4a6b2\n",
      "  Display Format:  AUTO-DETECT ==> NTSC\n",
      "  ROM Size:        8192\n",
      "  Bankswitch Type: AUTO-DETECT ==> F8\n",
      "\n",
      "\n",
      "WARNING: Possibly unsupported ROM: mismatched MD5.\n",
      "Cartridge_MD5: 9469d18238345d87768e8965f9f4a6b2\n",
      "Cartridge_name: Ms. Pac-Man (1982) (CCE)\n",
      "\n",
      "Running ROM file...\n",
      "Random seed is 0\n",
      "A.L.E: Arcade Learning Environment (version 0.6.0)\n",
      "[Powered by Stella]\n",
      "Use -help for help screen.\n",
      "Game console created:\n",
      "  ROM file:  /home/d9w/.julia/packages/ArcadeLearningEnvironment/YJh2g/src/../deps/roms/ms_pacman.bin\n",
      "  Cart Name: Ms. Pac-Man (1982) (CCE)\n",
      "  Cart MD5:  9469d18238345d87768e8965f9f4a6b2\n",
      "  Display Format:  AUTO-DETECT ==> NTSC\n",
      "  ROM Size:        8192\n",
      "  Bankswitch Type: AUTO-DETECT ==> F8\n",
      "\n",
      "\n",
      "WARNING: Possibly unsupported ROM: mismatched MD5.\n",
      "Cartridge_MD5: 9469d18238345d87768e8965f9f4a6b2\n",
      "Cartridge_name: Ms. Pac-Man (1982) (CCE)\n",
      "\n",
      "Running ROM file...\n",
      "Random seed is 0\n",
      "A.L.E: Arcade Learning Environment (version 0.6.0)\n",
      "[Powered by Stella]\n",
      "Use -help for help screen.\n",
      "Game console created:\n",
      "  ROM file:  /home/d9w/.julia/packages/ArcadeLearningEnvironment/YJh2g/src/../deps/roms/ms_pacman.bin\n",
      "  Cart Name: Ms. Pac-Man (1982) (CCE)\n",
      "  Cart MD5:  9469d18238345d87768e8965f9f4a6b2\n",
      "  Display Format:  AUTO-DETECT ==> NTSC\n",
      "  ROM Size:        8192\n",
      "  Bankswitch Type: AUTO-DETECT ==> F8\n",
      "\n",
      "\n",
      "WARNING: Possibly unsupported ROM: mismatched MD5.\n",
      "Cartridge_MD5: 9469d18238345d87768e8965f9f4a6b2\n",
      "Cartridge_name: Ms. Pac-Man (1982) (CCE)\n",
      "\n",
      "Running ROM file...\n",
      "Random seed is 0\n",
      "A.L.E: Arcade Learning Environment (version 0.6.0)\n",
      "[Powered by Stella]\n",
      "Use -help for help screen.\n",
      "Game console created:\n",
      "  ROM file:  /home/d9w/.julia/packages/ArcadeLearningEnvironment/YJh2g/src/../deps/roms/ms_pacman.bin\n",
      "  Cart Name: Ms. Pac-Man (1982) (CCE)\n",
      "  Cart MD5:  9469d18238345d87768e8965f9f4a6b2\n",
      "  Display Format:  AUTO-DETECT ==> NTSC\n",
      "  ROM Size:        8192\n",
      "  Bankswitch Type: AUTO-DETECT ==> F8\n",
      "\n",
      "\n",
      "WARNING: Possibly unsupported ROM: mismatched MD5.\n",
      "Cartridge_MD5: 9469d18238345d87768e8965f9f4a6b2\n",
      "Cartridge_name: Ms. Pac-Man (1982) (CCE)\n",
      "\n",
      "Running ROM file...\n",
      "Random seed is 0\n",
      "A.L.E: Arcade Learning Environment (version 0.6.0)\n",
      "[Powered by Stella]\n",
      "Use -help for help screen.\n",
      "Game console created:\n",
      "  ROM file:  /home/d9w/.julia/packages/ArcadeLearningEnvironment/YJh2g/src/../deps/roms/ms_pacman.bin\n",
      "  Cart Name: Ms. Pac-Man (1982) (CCE)\n",
      "  Cart MD5:  9469d18238345d87768e8965f9f4a6b2\n",
      "  Display Format:  AUTO-DETECT ==> NTSC\n",
      "  ROM Size:        8192\n",
      "  Bankswitch Type: AUTO-DETECT ==> F8\n",
      "\n",
      "\n",
      "WARNING: Possibly unsupported ROM: mismatched MD5.\n",
      "Cartridge_MD5: 9469d18238345d87768e8965f9f4a6b2\n",
      "Cartridge_name: Ms. Pac-Man (1982) (CCE)\n",
      "\n",
      "Running ROM file...\n",
      "Random seed is 0\n",
      "A.L.E: Arcade Learning Environment (version 0.6.0)\n",
      "[Powered by Stella]\n",
      "Use -help for help screen.\n",
      "Game console created:\n",
      "  ROM file:  /home/d9w/.julia/packages/ArcadeLearningEnvironment/YJh2g/src/../deps/roms/ms_pacman.bin\n",
      "  Cart Name: Ms. Pac-Man (1982) (CCE)\n",
      "  Cart MD5:  9469d18238345d87768e8965f9f4a6b2\n",
      "  Display Format:  AUTO-DETECT ==> NTSC\n",
      "  ROM Size:        8192\n",
      "  Bankswitch Type: AUTO-DETECT ==> F8\n",
      "\n",
      "\n",
      "WARNING: Possibly unsupported ROM: mismatched MD5.\n",
      "Cartridge_MD5: 9469d18238345d87768e8965f9f4a6b2\n",
      "Cartridge_name: Ms. Pac-Man (1982) (CCE)\n",
      "\n",
      "Running ROM file...\n",
      "Random seed is 0\n",
      "A.L.E: Arcade Learning Environment (version 0.6.0)\n",
      "[Powered by Stella]\n",
      "Use -help for help screen.\n",
      "Game console created:\n",
      "  ROM file:  /home/d9w/.julia/packages/ArcadeLearningEnvironment/YJh2g/src/../deps/roms/ms_pacman.bin\n",
      "  Cart Name: Ms. Pac-Man (1982) (CCE)\n",
      "  Cart MD5:  9469d18238345d87768e8965f9f4a6b2\n",
      "  Display Format:  AUTO-DETECT ==> NTSC\n",
      "  ROM Size:        8192\n",
      "  Bankswitch Type: AUTO-DETECT ==> F8\n",
      "\n",
      "\n",
      "WARNING: Possibly unsupported ROM: mismatched MD5.\n",
      "Cartridge_MD5: 9469d18238345d87768e8965f9f4a6b2\n",
      "Cartridge_name: Ms. Pac-Man (1982) (CCE)\n",
      "\n",
      "Running ROM file...\n",
      "Random seed is 0\n",
      "A.L.E: Arcade Learning Environment (version 0.6.0)\n",
      "[Powered by Stella]\n",
      "Use -help for help screen.\n",
      "Game console created:\n",
      "  ROM file:  /home/d9w/.julia/packages/ArcadeLearningEnvironment/YJh2g/src/../deps/roms/ms_pacman.bin\n",
      "  Cart Name: Ms. Pac-Man (1982) (CCE)\n",
      "  Cart MD5:  9469d18238345d87768e8965f9f4a6b2\n",
      "  Display Format:  AUTO-DETECT ==> NTSC\n",
      "  ROM Size:        8192\n",
      "  Bankswitch Type: AUTO-DETECT ==> F8\n",
      "\n",
      "\n",
      "WARNING: Possibly unsupported ROM: mismatched MD5.\n",
      "Cartridge_MD5: 9469d18238345d87768e8965f9f4a6b2\n",
      "Cartridge_name: Ms. Pac-Man (1982) (CCE)\n",
      "\n",
      "Running ROM file...\n",
      "Random seed is 0\n",
      "A.L.E: Arcade Learning Environment (version 0.6.0)\n",
      "[Powered by Stella]\n",
      "Use -help for help screen.\n",
      "Game console created:\n",
      "  ROM file:  /home/d9w/.julia/packages/ArcadeLearningEnvironment/YJh2g/src/../deps/roms/ms_pacman.bin\n",
      "  Cart Name: Ms. Pac-Man (1982) (CCE)\n",
      "  Cart MD5:  9469d18238345d87768e8965f9f4a6b2\n",
      "  Display Format:  AUTO-DETECT ==> NTSC\n",
      "  ROM Size:        8192\n",
      "  Bankswitch Type: AUTO-DETECT ==> F8\n",
      "\n",
      "\n",
      "WARNING: Possibly unsupported ROM: mismatched MD5.\n",
      "Cartridge_MD5: 9469d18238345d87768e8965f9f4a6b2\n",
      "Cartridge_name: Ms. Pac-Man (1982) (CCE)\n",
      "\n",
      "Running ROM file...\n",
      "Random seed is 0\n",
      "A.L.E: Arcade Learning Environment (version 0.6.0)\n",
      "[Powered by Stella]\n",
      "Use -help for help screen.\n",
      "Game console created:\n",
      "  ROM file:  /home/d9w/.julia/packages/ArcadeLearningEnvironment/YJh2g/src/../deps/roms/ms_pacman.bin\n",
      "  Cart Name: Ms. Pac-Man (1982) (CCE)\n",
      "  Cart MD5:  9469d18238345d87768e8965f9f4a6b2\n",
      "  Display Format:  AUTO-DETECT ==> NTSC\n",
      "  ROM Size:        8192\n",
      "  Bankswitch Type: AUTO-DETECT ==> F8\n",
      "\n",
      "\n",
      "WARNING: Possibly unsupported ROM: mismatched MD5.\n",
      "Cartridge_MD5: 9469d18238345d87768e8965f9f4a6b2\n",
      "Cartridge_name: Ms. Pac-Man (1982) (CCE)\n",
      "\n",
      "Running ROM file...\n",
      "Random seed is 0\n",
      "A.L.E: Arcade Learning Environment (version 0.6.0)\n",
      "[Powered by Stella]\n",
      "Use -help for help screen.\n",
      "Game console created:\n",
      "  ROM file:  /home/d9w/.julia/packages/ArcadeLearningEnvironment/YJh2g/src/../deps/roms/ms_pacman.bin\n",
      "  Cart Name: Ms. Pac-Man (1982) (CCE)\n",
      "  Cart MD5:  9469d18238345d87768e8965f9f4a6b2\n",
      "  Display Format:  AUTO-DETECT ==> NTSC\n",
      "  ROM Size:        8192\n",
      "  Bankswitch Type: AUTO-DETECT ==> F8\n",
      "\n",
      "\n",
      "WARNING: Possibly unsupported ROM: mismatched MD5.\n",
      "Cartridge_MD5: 9469d18238345d87768e8965f9f4a6b2\n",
      "Cartridge_name: Ms. Pac-Man (1982) (CCE)\n",
      "\n",
      "Running ROM file...\n",
      "Random seed is 0\n",
      "A.L.E: Arcade Learning Environment (version 0.6.0)\n",
      "[Powered by Stella]\n",
      "Use -help for help screen.\n",
      "Game console created:\n",
      "  ROM file:  /home/d9w/.julia/packages/ArcadeLearningEnvironment/YJh2g/src/../deps/roms/ms_pacman.bin\n",
      "  Cart Name: Ms. Pac-Man (1982) (CCE)\n",
      "  Cart MD5:  9469d18238345d87768e8965f9f4a6b2\n",
      "  Display Format:  AUTO-DETECT ==> NTSC\n",
      "  ROM Size:        8192\n",
      "  Bankswitch Type: AUTO-DETECT ==> F8\n",
      "\n",
      "\n",
      "WARNING: Possibly unsupported ROM: mismatched MD5.\n",
      "Cartridge_MD5: 9469d18238345d87768e8965f9f4a6b2\n",
      "Cartridge_name: Ms. Pac-Man (1982) (CCE)\n",
      "\n",
      "Running ROM file...\n",
      "Random seed is 0\n",
      "A.L.E: Arcade Learning Environment (version 0.6.0)\n",
      "[Powered by Stella]\n",
      "Use -help for help screen.\n",
      "Game console created:\n",
      "  ROM file:  /home/d9w/.julia/packages/ArcadeLearningEnvironment/YJh2g/src/../deps/roms/ms_pacman.bin\n",
      "  Cart Name: Ms. Pac-Man (1982) (CCE)\n",
      "  Cart MD5:  9469d18238345d87768e8965f9f4a6b2\n",
      "  Display Format:  AUTO-DETECT ==> NTSC\n",
      "  ROM Size:        8192\n",
      "  Bankswitch Type: AUTO-DETECT ==> F8\n",
      "\n",
      "\n",
      "WARNING: Possibly unsupported ROM: mismatched MD5.\n",
      "Cartridge_MD5: 9469d18238345d87768e8965f9f4a6b2\n",
      "Cartridge_name: Ms. Pac-Man (1982) (CCE)\n",
      "\n",
      "Running ROM file...\n",
      "Random seed is 0\n",
      "A.L.E: Arcade Learning Environment (version 0.6.0)\n",
      "[Powered by Stella]\n",
      "Use -help for help screen.\n",
      "Game console created:\n",
      "  ROM file:  /home/d9w/.julia/packages/ArcadeLearningEnvironment/YJh2g/src/../deps/roms/ms_pacman.bin\n",
      "  Cart Name: Ms. Pac-Man (1982) (CCE)\n",
      "  Cart MD5:  9469d18238345d87768e8965f9f4a6b2\n",
      "  Display Format:  AUTO-DETECT ==> NTSC\n",
      "  ROM Size:        8192\n",
      "  Bankswitch Type: AUTO-DETECT ==> F8\n",
      "\n",
      "\n",
      "WARNING: Possibly unsupported ROM: mismatched MD5.\n",
      "Cartridge_MD5: 9469d18238345d87768e8965f9f4a6b2\n",
      "Cartridge_name: Ms. Pac-Man (1982) (CCE)\n",
      "\n",
      "Running ROM file...\n",
      "Random seed is 0\n"
     ]
    }
   ],
   "source": [
    "for i in 1:20\n",
    "    Cambrian.step!(evo)\n",
    "end"
   ]
  },
  {
   "cell_type": "markdown",
   "metadata": {
    "slideshow": {
     "slide_type": "slide"
    }
   },
   "source": [
    "Let's observe the best individual from evolution and display its actions."
   ]
  },
  {
   "cell_type": "code",
   "execution_count": 103,
   "metadata": {
    "slideshow": {
     "slide_type": "fragment"
    }
   },
   "outputs": [
    {
     "name": "stderr",
     "output_type": "stream",
     "text": [
      "A.L.E: Arcade Learning Environment (version 0.6.0)\n",
      "[Powered by Stella]\n",
      "Use -help for help screen.\n",
      "Game console created:\n",
      "  ROM file:  /home/d9w/.julia/packages/ArcadeLearningEnvironment/YJh2g/src/../deps/roms/ms_pacman.bin\n",
      "  Cart Name: Ms. Pac-Man (1982) (CCE)\n",
      "  Cart MD5:  9469d18238345d87768e8965f9f4a6b2\n",
      "  Display Format:  AUTO-DETECT ==> NTSC\n",
      "  ROM Size:        8192\n",
      "  Bankswitch Type: AUTO-DETECT ==> F8\n",
      "\n",
      "\n",
      "WARNING: Possibly unsupported ROM: mismatched MD5.\n",
      "Cartridge_MD5: 9469d18238345d87768e8965f9f4a6b2\n",
      "Cartridge_name: Ms. Pac-Man (1982) (CCE)\n",
      "\n",
      "Running ROM file...\n",
      "Random seed is 0\n"
     ]
    },
    {
     "data": {
      "text/plain": [
       "(1010, Frames{MIME{Symbol(\"image/png\")}}(\"/tmp/jl_3VVwDS\", 0x00000000000000ea, 6.0, nothing))"
      ]
     },
     "execution_count": 103,
     "metadata": {},
     "output_type": "execute_result"
    }
   ],
   "source": [
    "best = sort(evo.population)[end];\n",
    "total_reward, frames = play_atari(best, render=true)"
   ]
  },
  {
   "cell_type": "code",
   "execution_count": 104,
   "metadata": {
    "slideshow": {
     "slide_type": "slide"
    }
   },
   "outputs": [
    {
     "data": {
      "text/html": [
       "<img src=\"files/reel-10042469679573141711.gif?13336390385930789406\" />"
      ],
      "text/plain": [
       "Frames{MIME{Symbol(\"image/png\")}}(\"/tmp/jl_3VVwDS\", 0x00000000000000ea, 6.0, nothing)"
      ]
     },
     "execution_count": 104,
     "metadata": {},
     "output_type": "execute_result"
    }
   ],
   "source": [
    "frames"
   ]
  },
  {
   "cell_type": "markdown",
   "metadata": {
    "slideshow": {
     "slide_type": "slide"
    }
   },
   "source": [
    "# <a id=\"neuroevo\"></a> Neuroevolution"
   ]
  },
  {
   "cell_type": "markdown",
   "metadata": {
    "slideshow": {
     "slide_type": "fragment"
    }
   },
   "source": [
    "For our second approach, we'll evolve the weights of a neural network using the $(1, \\lambda)$ evolutionary strategy we in the [evolutionary strategies tutorial](https://github.com/d9w/evolution/blob/master/5_strategies/1_ES.ipynb). For the neural network, we'll use [Flux](fluxml.ai) to define the neural network - we'll use a 2 layer network with (32, 16) neurons."
   ]
  },
  {
   "cell_type": "code",
   "execution_count": 105,
   "metadata": {
    "slideshow": {
     "slide_type": "slide"
    }
   },
   "outputs": [],
   "source": [
    "using Flux"
   ]
  },
  {
   "cell_type": "code",
   "execution_count": 106,
   "metadata": {
    "slideshow": {
     "slide_type": "fragment"
    }
   },
   "outputs": [
    {
     "data": {
      "text/plain": [
       "Chain(Dense(128, 32), Dense(32, 16), Dense(16, 9))"
      ]
     },
     "execution_count": 106,
     "metadata": {},
     "output_type": "execute_result"
    }
   ],
   "source": [
    "n_in = length(getRAM(ale))\n",
    "n_out = length(actions)\n",
    "model = Chain(\n",
    "    Dense(n_in, 32),\n",
    "    Dense(32, 16),\n",
    "    Dense(16, n_out))"
   ]
  },
  {
   "cell_type": "markdown",
   "metadata": {
    "slideshow": {
     "slide_type": "slide"
    }
   },
   "source": [
    "We can test this neural network with some game inputs"
   ]
  },
  {
   "cell_type": "code",
   "execution_count": 107,
   "metadata": {
    "slideshow": {
     "slide_type": "fragment"
    }
   },
   "outputs": [
    {
     "data": {
      "text/plain": [
       "9-element Array{Float32,1}:\n",
       "  0.2769891\n",
       " -0.43940467\n",
       "  0.8577322\n",
       " -0.22768793\n",
       "  0.017357826\n",
       "  0.18433902\n",
       " -0.11405064\n",
       " -0.73770416\n",
       "  0.49064487"
      ]
     },
     "execution_count": 107,
     "metadata": {},
     "output_type": "execute_result"
    }
   ],
   "source": [
    "model(getRAM(ale) ./ typemax(UInt8))"
   ]
  },
  {
   "cell_type": "markdown",
   "metadata": {
    "slideshow": {
     "slide_type": "slide"
    }
   },
   "source": [
    "We need to redefine our Atari function to use a neural network."
   ]
  },
  {
   "cell_type": "code",
   "execution_count": 108,
   "metadata": {
    "slideshow": {
     "slide_type": "fragment"
    }
   },
   "outputs": [
    {
     "data": {
      "text/plain": [
       "play_atari (generic function with 2 methods)"
      ]
     },
     "execution_count": 108,
     "metadata": {},
     "output_type": "execute_result"
    }
   ],
   "source": [
    "function play_atari(model::Chain; render=false, seed=0)\n",
    "    loadROM(ale, \"ms_pacman\")\n",
    "    if render\n",
    "        frames = Frames(MIME(\"image/png\"), fps=6)\n",
    "    end\n",
    "    f = 0\n",
    "    total_reward = 0\n",
    "    while ~game_over(ale) && f < 18000\n",
    "        inputs = getRAM(ale) ./ typemax(UInt8)\n",
    "        output = model(inputs)\n",
    "        total_reward += act(ale, actions[argmax(output)])\n",
    "        if render && mod(f, 10) == 0\n",
    "            push!(frames, get_screen(ale))\n",
    "        end\n",
    "        f += 1\n",
    "    end\n",
    "    reset_game(ale)\n",
    "    if render\n",
    "        return total_reward, frames\n",
    "    end\n",
    "    total_reward\n",
    "end"
   ]
  },
  {
   "cell_type": "markdown",
   "metadata": {
    "slideshow": {
     "slide_type": "slide"
    }
   },
   "source": [
    "Let's see how a random neural network plays"
   ]
  },
  {
   "cell_type": "code",
   "execution_count": 109,
   "metadata": {
    "slideshow": {
     "slide_type": "fragment"
    }
   },
   "outputs": [
    {
     "name": "stderr",
     "output_type": "stream",
     "text": [
      "Game console created:\n",
      "  ROM file:  /home/d9w/.julia/packages/ArcadeLearningEnvironment/YJh2g/src/../deps/roms/ms_pacman.bin\n",
      "  Cart Name: Ms. Pac-Man (1982) (CCE)\n",
      "  Cart MD5:  9469d18238345d87768e8965f9f4a6b2\n",
      "  Display Format:  AUTO-DETECT ==> NTSC\n",
      "  ROM Size:        8192\n",
      "  Bankswitch Type: AUTO-DETECT ==> F8\n",
      "\n",
      "\n",
      "WARNING: Possibly unsupported ROM: mismatched MD5.\n",
      "Cartridge_MD5: 9469d18238345d87768e8965f9f4a6b2\n",
      "Cartridge_name: Ms. Pac-Man (1982) (CCE)\n",
      "\n",
      "Running ROM file...\n",
      "Random seed is 0\n"
     ]
    },
    {
     "data": {
      "text/plain": [
       "60"
      ]
     },
     "execution_count": 109,
     "metadata": {},
     "output_type": "execute_result"
    }
   ],
   "source": [
    "total_reward, frames = play_atari(model, render=true)\n",
    "total_reward"
   ]
  },
  {
   "cell_type": "code",
   "execution_count": 110,
   "metadata": {
    "slideshow": {
     "slide_type": "slide"
    }
   },
   "outputs": [
    {
     "data": {
      "text/html": [
       "<img src=\"files/reel-13828045243992942427.gif?7073783006342719350\" />"
      ],
      "text/plain": [
       "Frames{MIME{Symbol(\"image/png\")}}(\"/tmp/jl_0xH50R\", 0x00000000000000ba, 6.0, nothing)"
      ]
     },
     "execution_count": 110,
     "metadata": {},
     "output_type": "execute_result"
    }
   ],
   "source": [
    "frames"
   ]
  },
  {
   "cell_type": "markdown",
   "metadata": {
    "slideshow": {
     "slide_type": "slide"
    }
   },
   "source": [
    "We're not quite ready to evolve the weights, however. To do that, we need to make a function that transforms genes into a neural network. Let's see how many parameters our network has."
   ]
  },
  {
   "cell_type": "code",
   "execution_count": 111,
   "metadata": {
    "slideshow": {
     "slide_type": "fragment"
    }
   },
   "outputs": [
    {
     "data": {
      "text/plain": [
       "6-element Array{Int64,1}:\n",
       " 4096\n",
       "   32\n",
       "  512\n",
       "   16\n",
       "  144\n",
       "    9"
      ]
     },
     "execution_count": 111,
     "metadata": {},
     "output_type": "execute_result"
    }
   ],
   "source": [
    "param_lengths = [length(p) for p in params(model)]"
   ]
  },
  {
   "cell_type": "code",
   "execution_count": 112,
   "metadata": {
    "slideshow": {
     "slide_type": "fragment"
    }
   },
   "outputs": [
    {
     "data": {
      "text/plain": [
       "4809"
      ]
     },
     "execution_count": 112,
     "metadata": {},
     "output_type": "execute_result"
    }
   ],
   "source": [
    "ndims = sum(param_lengths)"
   ]
  },
  {
   "cell_type": "markdown",
   "metadata": {
    "slideshow": {
     "slide_type": "slide"
    }
   },
   "source": [
    "So we'll optimize 4809 genes and use them as the weights and biases of our neural network (the phenotype) to evaluate them. We need to defined a function that takes in the genes and returns a neural network with those genes and weights and biases."
   ]
  },
  {
   "cell_type": "code",
   "execution_count": 113,
   "metadata": {
    "slideshow": {
     "slide_type": "fragment"
    }
   },
   "outputs": [
    {
     "data": {
      "text/plain": [
       "set_weights (generic function with 1 method)"
      ]
     },
     "execution_count": 113,
     "metadata": {},
     "output_type": "execute_result"
    }
   ],
   "source": [
    "function set_weights(x::Array{Float64})\n",
    "    model = Chain(\n",
    "        Dense(n_in, 32),\n",
    "        Dense(32, 16),\n",
    "        Dense(16, n_out))\n",
    "    start = 1\n",
    "    for p in params(model)\n",
    "        p .= reshape(x[start:(start+length(p)-1)], size(p))\n",
    "        start += length(p)\n",
    "    end\n",
    "    model\n",
    "end"
   ]
  },
  {
   "cell_type": "markdown",
   "metadata": {
    "slideshow": {
     "slide_type": "slide"
    }
   },
   "source": [
    "Let's see if that worked. If we set all weights to 0, the output should always be 0."
   ]
  },
  {
   "cell_type": "code",
   "execution_count": 118,
   "metadata": {
    "slideshow": {
     "slide_type": "fragment"
    }
   },
   "outputs": [
    {
     "data": {
      "text/plain": [
       "Chain(Dense(128, 32), Dense(32, 16), Dense(16, 9))"
      ]
     },
     "execution_count": 118,
     "metadata": {},
     "output_type": "execute_result"
    }
   ],
   "source": [
    "model = set_weights(zeros(ndims))"
   ]
  },
  {
   "cell_type": "code",
   "execution_count": 119,
   "metadata": {
    "slideshow": {
     "slide_type": "fragment"
    }
   },
   "outputs": [
    {
     "data": {
      "text/plain": [
       "9-element Array{Float32,1}:\n",
       " 0.0\n",
       " 0.0\n",
       " 0.0\n",
       " 0.0\n",
       " 0.0\n",
       " 0.0\n",
       " 0.0\n",
       " 0.0\n",
       " 0.0"
      ]
     },
     "execution_count": 119,
     "metadata": {},
     "output_type": "execute_result"
    }
   ],
   "source": [
    "model(rand(128))"
   ]
  },
  {
   "cell_type": "markdown",
   "metadata": {
    "slideshow": {
     "slide_type": "slide"
    }
   },
   "source": [
    "Now that we have our genotype to phenotype mapping function, we can create the objective function."
   ]
  },
  {
   "cell_type": "code",
   "execution_count": 120,
   "metadata": {
    "slideshow": {
     "slide_type": "fragment"
    }
   },
   "outputs": [
    {
     "data": {
      "text/plain": [
       "objective (generic function with 1 method)"
      ]
     },
     "execution_count": 120,
     "metadata": {},
     "output_type": "execute_result"
    }
   ],
   "source": [
    "function objective(x::Array{Float64})\n",
    "    model = set_weights(x)\n",
    "    play_atari(model)\n",
    "end"
   ]
  },
  {
   "cell_type": "markdown",
   "metadata": {
    "slideshow": {
     "slide_type": "slide"
    }
   },
   "source": [
    "Finally, we'll import the ES step function from the evolutionary strategies tutorial."
   ]
  },
  {
   "cell_type": "code",
   "execution_count": 122,
   "metadata": {
    "slideshow": {
     "slide_type": "fragment"
    }
   },
   "outputs": [
    {
     "data": {
      "text/plain": [
       "step (generic function with 1 method)"
      ]
     },
     "execution_count": 122,
     "metadata": {},
     "output_type": "execute_result"
    }
   ],
   "source": [
    "using Statistics\n",
    "using LinearAlgebra\n",
    "function step(x::Array{Float64}, objective::Function; npop=20, sigma=0.5, alpha=0.1)\n",
    "    N = randn(npop, length(x))\n",
    "    P = repeat(x, 1, npop)' .+ sigma .* N\n",
    "    R = zeros(npop)\n",
    "    for i in eachindex(R)\n",
    "        R[i] = objective(P[i, :])\n",
    "    end\n",
    "    A = (R .- mean(R)) ./ std(R)\n",
    "        \n",
    "    x .+ alpha/(npop * sigma) .* [dot(N[:, i], A) for i in 1:size(N, 2)], R, P\n",
    "end"
   ]
  },
  {
   "cell_type": "markdown",
   "metadata": {
    "slideshow": {
     "slide_type": "slide"
    }
   },
   "source": [
    "Let's create a random individual and see its performance."
   ]
  },
  {
   "cell_type": "code",
   "execution_count": 123,
   "metadata": {
    "slideshow": {
     "slide_type": "fragment"
    }
   },
   "outputs": [
    {
     "name": "stderr",
     "output_type": "stream",
     "text": [
      "Game console created:\n",
      "  ROM file:  /home/d9w/.julia/packages/ArcadeLearningEnvironment/YJh2g/src/../deps/roms/ms_pacman.bin\n",
      "  Cart Name: Ms. Pac-Man (1982) (CCE)\n",
      "  Cart MD5:  9469d18238345d87768e8965f9f4a6b2\n",
      "  Display Format:  AUTO-DETECT ==> NTSC\n",
      "  ROM Size:        8192\n",
      "  Bankswitch Type: AUTO-DETECT ==> F8\n",
      "\n",
      "\n",
      "WARNING: Possibly unsupported ROM: mismatched MD5.\n",
      "Cartridge_MD5: 9469d18238345d87768e8965f9f4a6b2\n",
      "Cartridge_name: Ms. Pac-Man (1982) (CCE)\n",
      "\n",
      "Running ROM file...\n",
      "Random seed is 0\n"
     ]
    },
    {
     "data": {
      "text/plain": [
       "90"
      ]
     },
     "execution_count": 123,
     "metadata": {},
     "output_type": "execute_result"
    }
   ],
   "source": [
    "x = rand(ndims);\n",
    "objective(x)"
   ]
  },
  {
   "cell_type": "markdown",
   "metadata": {
    "slideshow": {
     "slide_type": "slide"
    }
   },
   "source": [
    "Not great, but it'll do as a starting point. We'll run the first generation and get back $x$, the new center of our population, $R$, the array of all fitness values, and $P$, the population matrix."
   ]
  },
  {
   "cell_type": "code",
   "execution_count": 124,
   "metadata": {
    "slideshow": {
     "slide_type": "fragment"
    }
   },
   "outputs": [
    {
     "name": "stderr",
     "output_type": "stream",
     "text": [
      "Game console created:\n",
      "  ROM file:  /home/d9w/.julia/packages/ArcadeLearningEnvironment/YJh2g/src/../deps/roms/ms_pacman.bin\n",
      "  Cart Name: Ms. Pac-Man (1982) (CCE)\n",
      "  Cart MD5:  9469d18238345d87768e8965f9f4a6b2\n",
      "  Display Format:  AUTO-DETECT ==> NTSC\n",
      "  ROM Size:        8192\n",
      "  Bankswitch Type: AUTO-DETECT ==> F8\n",
      "\n",
      "\n",
      "WARNING: Possibly unsupported ROM: mismatched MD5.\n",
      "Cartridge_MD5: 9469d18238345d87768e8965f9f4a6b2\n",
      "Cartridge_name: Ms. Pac-Man (1982) (CCE)\n",
      "\n",
      "Running ROM file...\n",
      "Random seed is 0\n",
      "Game console created:\n",
      "  ROM file:  /home/d9w/.julia/packages/ArcadeLearningEnvironment/YJh2g/src/../deps/roms/ms_pacman.bin\n",
      "  Cart Name: Ms. Pac-Man (1982) (CCE)\n",
      "  Cart MD5:  9469d18238345d87768e8965f9f4a6b2\n",
      "  Display Format:  AUTO-DETECT ==> NTSC\n",
      "  ROM Size:        8192\n",
      "  Bankswitch Type: AUTO-DETECT ==> F8\n",
      "\n",
      "\n",
      "WARNING: Possibly unsupported ROM: mismatched MD5.\n",
      "Cartridge_MD5: 9469d18238345d87768e8965f9f4a6b2\n",
      "Cartridge_name: Ms. Pac-Man (1982) (CCE)\n",
      "\n",
      "Running ROM file...\n",
      "Random seed is 0\n",
      "Game console created:\n",
      "  ROM file:  /home/d9w/.julia/packages/ArcadeLearningEnvironment/YJh2g/src/../deps/roms/ms_pacman.bin\n",
      "  Cart Name: Ms. Pac-Man (1982) (CCE)\n",
      "  Cart MD5:  9469d18238345d87768e8965f9f4a6b2\n",
      "  Display Format:  AUTO-DETECT ==> NTSC\n",
      "  ROM Size:        8192\n",
      "  Bankswitch Type: AUTO-DETECT ==> F8\n",
      "\n",
      "\n",
      "WARNING: Possibly unsupported ROM: mismatched MD5.\n",
      "Cartridge_MD5: 9469d18238345d87768e8965f9f4a6b2\n",
      "Cartridge_name: Ms. Pac-Man (1982) (CCE)\n",
      "\n",
      "Running ROM file...\n",
      "Random seed is 0\n",
      "Game console created:\n",
      "  ROM file:  /home/d9w/.julia/packages/ArcadeLearningEnvironment/YJh2g/src/../deps/roms/ms_pacman.bin\n",
      "  Cart Name: Ms. Pac-Man (1982) (CCE)\n",
      "  Cart MD5:  9469d18238345d87768e8965f9f4a6b2\n",
      "  Display Format:  AUTO-DETECT ==> NTSC\n",
      "  ROM Size:        8192\n",
      "  Bankswitch Type: AUTO-DETECT ==> F8\n",
      "\n",
      "\n",
      "WARNING: Possibly unsupported ROM: mismatched MD5.\n",
      "Cartridge_MD5: 9469d18238345d87768e8965f9f4a6b2\n",
      "Cartridge_name: Ms. Pac-Man (1982) (CCE)\n",
      "\n",
      "Running ROM file...\n",
      "Random seed is 0\n",
      "Game console created:\n",
      "  ROM file:  /home/d9w/.julia/packages/ArcadeLearningEnvironment/YJh2g/src/../deps/roms/ms_pacman.bin\n",
      "  Cart Name: Ms. Pac-Man (1982) (CCE)\n",
      "  Cart MD5:  9469d18238345d87768e8965f9f4a6b2\n",
      "  Display Format:  AUTO-DETECT ==> NTSC\n",
      "  ROM Size:        8192\n",
      "  Bankswitch Type: AUTO-DETECT ==> F8\n",
      "\n",
      "\n",
      "WARNING: Possibly unsupported ROM: mismatched MD5.\n",
      "Cartridge_MD5: 9469d18238345d87768e8965f9f4a6b2\n",
      "Cartridge_name: Ms. Pac-Man (1982) (CCE)\n",
      "\n",
      "Running ROM file...\n",
      "Random seed is 0\n",
      "Game console created:\n",
      "  ROM file:  /home/d9w/.julia/packages/ArcadeLearningEnvironment/YJh2g/src/../deps/roms/ms_pacman.bin\n",
      "  Cart Name: Ms. Pac-Man (1982) (CCE)\n",
      "  Cart MD5:  9469d18238345d87768e8965f9f4a6b2\n",
      "  Display Format:  AUTO-DETECT ==> NTSC\n",
      "  ROM Size:        8192\n",
      "  Bankswitch Type: AUTO-DETECT ==> F8\n",
      "\n",
      "\n",
      "WARNING: Possibly unsupported ROM: mismatched MD5.\n",
      "Cartridge_MD5: 9469d18238345d87768e8965f9f4a6b2\n",
      "Cartridge_name: Ms. Pac-Man (1982) (CCE)\n",
      "\n",
      "Running ROM file...\n",
      "Random seed is 0\n",
      "Game console created:\n",
      "  ROM file:  /home/d9w/.julia/packages/ArcadeLearningEnvironment/YJh2g/src/../deps/roms/ms_pacman.bin\n",
      "  Cart Name: Ms. Pac-Man (1982) (CCE)\n",
      "  Cart MD5:  9469d18238345d87768e8965f9f4a6b2\n",
      "  Display Format:  AUTO-DETECT ==> NTSC\n",
      "  ROM Size:        8192\n",
      "  Bankswitch Type: AUTO-DETECT ==> F8\n",
      "\n",
      "\n",
      "WARNING: Possibly unsupported ROM: mismatched MD5.\n",
      "Cartridge_MD5: 9469d18238345d87768e8965f9f4a6b2\n",
      "Cartridge_name: Ms. Pac-Man (1982) (CCE)\n",
      "\n",
      "Running ROM file...\n",
      "Random seed is 0\n",
      "Game console created:\n",
      "  ROM file:  /home/d9w/.julia/packages/ArcadeLearningEnvironment/YJh2g/src/../deps/roms/ms_pacman.bin\n",
      "  Cart Name: Ms. Pac-Man (1982) (CCE)\n",
      "  Cart MD5:  9469d18238345d87768e8965f9f4a6b2\n",
      "  Display Format:  AUTO-DETECT ==> NTSC\n",
      "  ROM Size:        8192\n",
      "  Bankswitch Type: AUTO-DETECT ==> F8\n",
      "\n",
      "\n",
      "WARNING: Possibly unsupported ROM: mismatched MD5.\n",
      "Cartridge_MD5: 9469d18238345d87768e8965f9f4a6b2\n",
      "Cartridge_name: Ms. Pac-Man (1982) (CCE)\n",
      "\n",
      "Running ROM file...\n",
      "Random seed is 0\n",
      "Game console created:\n",
      "  ROM file:  /home/d9w/.julia/packages/ArcadeLearningEnvironment/YJh2g/src/../deps/roms/ms_pacman.bin\n",
      "  Cart Name: Ms. Pac-Man (1982) (CCE)\n",
      "  Cart MD5:  9469d18238345d87768e8965f9f4a6b2\n",
      "  Display Format:  AUTO-DETECT ==> NTSC\n",
      "  ROM Size:        8192\n",
      "  Bankswitch Type: AUTO-DETECT ==> F8\n",
      "\n",
      "\n",
      "WARNING: Possibly unsupported ROM: mismatched MD5.\n",
      "Cartridge_MD5: 9469d18238345d87768e8965f9f4a6b2\n",
      "Cartridge_name: Ms. Pac-Man (1982) (CCE)\n",
      "\n",
      "Running ROM file...\n",
      "Random seed is 0\n",
      "Game console created:\n",
      "  ROM file:  /home/d9w/.julia/packages/ArcadeLearningEnvironment/YJh2g/src/../deps/roms/ms_pacman.bin\n",
      "  Cart Name: Ms. Pac-Man (1982) (CCE)\n",
      "  Cart MD5:  9469d18238345d87768e8965f9f4a6b2\n",
      "  Display Format:  AUTO-DETECT ==> NTSC\n",
      "  ROM Size:        8192\n",
      "  Bankswitch Type: AUTO-DETECT ==> F8\n",
      "\n",
      "\n",
      "WARNING: Possibly unsupported ROM: mismatched MD5.\n",
      "Cartridge_MD5: 9469d18238345d87768e8965f9f4a6b2\n",
      "Cartridge_name: Ms. Pac-Man (1982) (CCE)\n",
      "\n",
      "Running ROM file...\n",
      "Random seed is 0\n",
      "Game console created:\n",
      "  ROM file:  /home/d9w/.julia/packages/ArcadeLearningEnvironment/YJh2g/src/../deps/roms/ms_pacman.bin\n",
      "  Cart Name: Ms. Pac-Man (1982) (CCE)\n",
      "  Cart MD5:  9469d18238345d87768e8965f9f4a6b2\n",
      "  Display Format:  AUTO-DETECT ==> NTSC\n",
      "  ROM Size:        8192\n",
      "  Bankswitch Type: AUTO-DETECT ==> F8\n",
      "\n",
      "\n",
      "WARNING: Possibly unsupported ROM: mismatched MD5.\n",
      "Cartridge_MD5: 9469d18238345d87768e8965f9f4a6b2\n",
      "Cartridge_name: Ms. Pac-Man (1982) (CCE)\n",
      "\n",
      "Running ROM file...\n",
      "Random seed is 0\n",
      "Game console created:\n",
      "  ROM file:  /home/d9w/.julia/packages/ArcadeLearningEnvironment/YJh2g/src/../deps/roms/ms_pacman.bin\n",
      "  Cart Name: Ms. Pac-Man (1982) (CCE)\n",
      "  Cart MD5:  9469d18238345d87768e8965f9f4a6b2\n",
      "  Display Format:  AUTO-DETECT ==> NTSC\n",
      "  ROM Size:        8192\n",
      "  Bankswitch Type: AUTO-DETECT ==> F8\n",
      "\n",
      "\n",
      "WARNING: Possibly unsupported ROM: mismatched MD5.\n",
      "Cartridge_MD5: 9469d18238345d87768e8965f9f4a6b2\n",
      "Cartridge_name: Ms. Pac-Man (1982) (CCE)\n",
      "\n",
      "Running ROM file...\n",
      "Random seed is 0\n",
      "Game console created:\n",
      "  ROM file:  /home/d9w/.julia/packages/ArcadeLearningEnvironment/YJh2g/src/../deps/roms/ms_pacman.bin\n",
      "  Cart Name: Ms. Pac-Man (1982) (CCE)\n",
      "  Cart MD5:  9469d18238345d87768e8965f9f4a6b2\n",
      "  Display Format:  AUTO-DETECT ==> NTSC\n",
      "  ROM Size:        8192\n",
      "  Bankswitch Type: AUTO-DETECT ==> F8\n",
      "\n",
      "\n",
      "WARNING: Possibly unsupported ROM: mismatched MD5.\n",
      "Cartridge_MD5: 9469d18238345d87768e8965f9f4a6b2\n",
      "Cartridge_name: Ms. Pac-Man (1982) (CCE)\n",
      "\n",
      "Running ROM file...\n",
      "Random seed is 0\n",
      "Game console created:\n",
      "  ROM file:  /home/d9w/.julia/packages/ArcadeLearningEnvironment/YJh2g/src/../deps/roms/ms_pacman.bin\n",
      "  Cart Name: Ms. Pac-Man (1982) (CCE)\n",
      "  Cart MD5:  9469d18238345d87768e8965f9f4a6b2\n",
      "  Display Format:  AUTO-DETECT ==> NTSC\n",
      "  ROM Size:        8192\n",
      "  Bankswitch Type: AUTO-DETECT ==> F8\n",
      "\n",
      "\n",
      "WARNING: Possibly unsupported ROM: mismatched MD5.\n",
      "Cartridge_MD5: 9469d18238345d87768e8965f9f4a6b2\n",
      "Cartridge_name: Ms. Pac-Man (1982) (CCE)\n",
      "\n",
      "Running ROM file...\n",
      "Random seed is 0\n",
      "Game console created:\n",
      "  ROM file:  /home/d9w/.julia/packages/ArcadeLearningEnvironment/YJh2g/src/../deps/roms/ms_pacman.bin\n",
      "  Cart Name: Ms. Pac-Man (1982) (CCE)\n",
      "  Cart MD5:  9469d18238345d87768e8965f9f4a6b2\n",
      "  Display Format:  AUTO-DETECT ==> NTSC\n",
      "  ROM Size:        8192\n",
      "  Bankswitch Type: AUTO-DETECT ==> F8\n",
      "\n",
      "\n",
      "WARNING: Possibly unsupported ROM: mismatched MD5.\n",
      "Cartridge_MD5: 9469d18238345d87768e8965f9f4a6b2\n",
      "Cartridge_name: Ms. Pac-Man (1982) (CCE)\n",
      "\n",
      "Running ROM file...\n",
      "Random seed is 0\n",
      "Game console created:\n",
      "  ROM file:  /home/d9w/.julia/packages/ArcadeLearningEnvironment/YJh2g/src/../deps/roms/ms_pacman.bin\n",
      "  Cart Name: Ms. Pac-Man (1982) (CCE)\n",
      "  Cart MD5:  9469d18238345d87768e8965f9f4a6b2\n",
      "  Display Format:  AUTO-DETECT ==> NTSC\n",
      "  ROM Size:        8192\n",
      "  Bankswitch Type: AUTO-DETECT ==> F8\n",
      "\n",
      "\n",
      "WARNING: Possibly unsupported ROM: mismatched MD5.\n",
      "Cartridge_MD5: 9469d18238345d87768e8965f9f4a6b2\n",
      "Cartridge_name: Ms. Pac-Man (1982) (CCE)\n",
      "\n",
      "Running ROM file...\n",
      "Random seed is 0\n",
      "Game console created:\n",
      "  ROM file:  /home/d9w/.julia/packages/ArcadeLearningEnvironment/YJh2g/src/../deps/roms/ms_pacman.bin\n",
      "  Cart Name: Ms. Pac-Man (1982) (CCE)\n",
      "  Cart MD5:  9469d18238345d87768e8965f9f4a6b2\n",
      "  Display Format:  AUTO-DETECT ==> NTSC\n",
      "  ROM Size:        8192\n",
      "  Bankswitch Type: AUTO-DETECT ==> F8\n",
      "\n",
      "\n",
      "WARNING: Possibly unsupported ROM: mismatched MD5.\n",
      "Cartridge_MD5: 9469d18238345d87768e8965f9f4a6b2\n",
      "Cartridge_name: Ms. Pac-Man (1982) (CCE)\n",
      "\n",
      "Running ROM file...\n",
      "Random seed is 0\n",
      "Game console created:\n",
      "  ROM file:  /home/d9w/.julia/packages/ArcadeLearningEnvironment/YJh2g/src/../deps/roms/ms_pacman.bin\n",
      "  Cart Name: Ms. Pac-Man (1982) (CCE)\n",
      "  Cart MD5:  9469d18238345d87768e8965f9f4a6b2\n",
      "  Display Format:  AUTO-DETECT ==> NTSC\n",
      "  ROM Size:        8192\n",
      "  Bankswitch Type: AUTO-DETECT ==> F8\n",
      "\n",
      "\n",
      "WARNING: Possibly unsupported ROM: mismatched MD5.\n",
      "Cartridge_MD5: 9469d18238345d87768e8965f9f4a6b2\n",
      "Cartridge_name: Ms. Pac-Man (1982) (CCE)\n",
      "\n",
      "Running ROM file...\n",
      "Random seed is 0\n",
      "Game console created:\n",
      "  ROM file:  /home/d9w/.julia/packages/ArcadeLearningEnvironment/YJh2g/src/../deps/roms/ms_pacman.bin\n",
      "  Cart Name: Ms. Pac-Man (1982) (CCE)\n",
      "  Cart MD5:  9469d18238345d87768e8965f9f4a6b2\n",
      "  Display Format:  AUTO-DETECT ==> NTSC\n",
      "  ROM Size:        8192\n",
      "  Bankswitch Type: AUTO-DETECT ==> F8\n",
      "\n",
      "\n",
      "WARNING: Possibly unsupported ROM: mismatched MD5.\n",
      "Cartridge_MD5: 9469d18238345d87768e8965f9f4a6b2\n",
      "Cartridge_name: Ms. Pac-Man (1982) (CCE)\n",
      "\n",
      "Running ROM file...\n",
      "Random seed is 0\n",
      "Game console created:\n",
      "  ROM file:  /home/d9w/.julia/packages/ArcadeLearningEnvironment/YJh2g/src/../deps/roms/ms_pacman.bin\n",
      "  Cart Name: Ms. Pac-Man (1982) (CCE)\n",
      "  Cart MD5:  9469d18238345d87768e8965f9f4a6b2\n",
      "  Display Format:  AUTO-DETECT ==> NTSC\n",
      "  ROM Size:        8192\n",
      "  Bankswitch Type: AUTO-DETECT ==> F8\n",
      "\n",
      "\n",
      "WARNING: Possibly unsupported ROM: mismatched MD5.\n",
      "Cartridge_MD5: 9469d18238345d87768e8965f9f4a6b2\n",
      "Cartridge_name: Ms. Pac-Man (1982) (CCE)\n",
      "\n",
      "Running ROM file...\n",
      "Random seed is 0\n"
     ]
    }
   ],
   "source": [
    "x, R, P = step(x, objective);"
   ]
  },
  {
   "cell_type": "markdown",
   "metadata": {
    "slideshow": {
     "slide_type": "slide"
    }
   },
   "source": [
    "Let's see what the best individual we found was. Note that this isn't our new $x$, its whichever individual we observed with the best fitness. $x$ should have moved in the direction of that individual's genes, but is also based on fitness values from the entire population."
   ]
  },
  {
   "cell_type": "code",
   "execution_count": 125,
   "metadata": {
    "scrolled": true,
    "slideshow": {
     "slide_type": "fragment"
    }
   },
   "outputs": [
    {
     "data": {
      "text/plain": [
       "(210.0, 2)"
      ]
     },
     "execution_count": 125,
     "metadata": {},
     "output_type": "execute_result"
    }
   ],
   "source": [
    "(maximum(R), argmax(R))"
   ]
  },
  {
   "cell_type": "markdown",
   "metadata": {
    "slideshow": {
     "slide_type": "slide"
    }
   },
   "source": [
    "We'll run this for 4 more generations, keeping track of the best individual each generation."
   ]
  },
  {
   "cell_type": "code",
   "execution_count": 126,
   "metadata": {
    "slideshow": {
     "slide_type": "fragment"
    }
   },
   "outputs": [
    {
     "data": {
      "text/plain": [
       "210.0"
      ]
     },
     "execution_count": 126,
     "metadata": {},
     "output_type": "execute_result"
    }
   ],
   "source": [
    "es_fits = []\n",
    "append!(es_fits, R)\n",
    "best_ind = P[argmax(R), :]\n",
    "best_fit = maximum(R)"
   ]
  },
  {
   "cell_type": "code",
   "execution_count": 127,
   "metadata": {
    "slideshow": {
     "slide_type": "fragment"
    }
   },
   "outputs": [
    {
     "name": "stdout",
     "output_type": "stream",
     "text": [
      "210.040\n",
      "210.0"
     ]
    },
    {
     "name": "stderr",
     "output_type": "stream",
     "text": [
      "Game console created:\n",
      "  ROM file:  /home/d9w/.julia/packages/ArcadeLearningEnvironment/YJh2g/src/../deps/roms/ms_pacman.bin\n",
      "  Cart Name: Ms. Pac-Man (1982) (CCE)\n",
      "  Cart MD5:  9469d18238345d87768e8965f9f4a6b2\n",
      "  Display Format:  AUTO-DETECT ==> NTSC\n",
      "  ROM Size:        8192\n",
      "  Bankswitch Type: AUTO-DETECT ==> F8\n",
      "\n",
      "\n",
      "WARNING: Possibly unsupported ROM: mismatched MD5.\n",
      "Cartridge_MD5: 9469d18238345d87768e8965f9f4a6b2\n",
      "Cartridge_name: Ms. Pac-Man (1982) (CCE)\n",
      "\n",
      "Running ROM file...\n",
      "Random seed is 0\n",
      "Game console created:\n",
      "  ROM file:  /home/d9w/.julia/packages/ArcadeLearningEnvironment/YJh2g/src/../deps/roms/ms_pacman.bin\n",
      "  Cart Name: Ms. Pac-Man (1982) (CCE)\n",
      "  Cart MD5:  9469d18238345d87768e8965f9f4a6b2\n",
      "  Display Format:  AUTO-DETECT ==> NTSC\n",
      "  ROM Size:        8192\n",
      "  Bankswitch Type: AUTO-DETECT ==> F8\n",
      "\n",
      "\n",
      "WARNING: Possibly unsupported ROM: mismatched MD5.\n",
      "Cartridge_MD5: 9469d18238345d87768e8965f9f4a6b2\n",
      "Cartridge_name: Ms. Pac-Man (1982) (CCE)\n",
      "\n",
      "Running ROM file...\n",
      "Random seed is 0\n",
      "Game console created:\n",
      "  ROM file:  /home/d9w/.julia/packages/ArcadeLearningEnvironment/YJh2g/src/../deps/roms/ms_pacman.bin\n",
      "  Cart Name: Ms. Pac-Man (1982) (CCE)\n",
      "  Cart MD5:  9469d18238345d87768e8965f9f4a6b2\n",
      "  Display Format:  AUTO-DETECT ==> NTSC\n",
      "  ROM Size:        8192\n",
      "  Bankswitch Type: AUTO-DETECT ==> F8\n",
      "\n",
      "\n",
      "WARNING: Possibly unsupported ROM: mismatched MD5.\n",
      "Cartridge_MD5: 9469d18238345d87768e8965f9f4a6b2\n",
      "Cartridge_name: Ms. Pac-Man (1982) (CCE)\n",
      "\n",
      "Running ROM file...\n",
      "Random seed is 0\n",
      "Game console created:\n",
      "  ROM file:  /home/d9w/.julia/packages/ArcadeLearningEnvironment/YJh2g/src/../deps/roms/ms_pacman.bin\n",
      "  Cart Name: Ms. Pac-Man (1982) (CCE)\n",
      "  Cart MD5:  9469d18238345d87768e8965f9f4a6b2\n",
      "  Display Format:  AUTO-DETECT ==> NTSC\n",
      "  ROM Size:        8192\n",
      "  Bankswitch Type: AUTO-DETECT ==> F8\n",
      "\n",
      "\n",
      "WARNING: Possibly unsupported ROM: mismatched MD5.\n",
      "Cartridge_MD5: 9469d18238345d87768e8965f9f4a6b2\n",
      "Cartridge_name: Ms. Pac-Man (1982) (CCE)\n",
      "\n",
      "Running ROM file...\n",
      "Random seed is 0\n",
      "Game console created:\n",
      "  ROM file:  /home/d9w/.julia/packages/ArcadeLearningEnvironment/YJh2g/src/../deps/roms/ms_pacman.bin\n",
      "  Cart Name: Ms. Pac-Man (1982) (CCE)\n",
      "  Cart MD5:  9469d18238345d87768e8965f9f4a6b2\n",
      "  Display Format:  AUTO-DETECT ==> NTSC\n",
      "  ROM Size:        8192\n",
      "  Bankswitch Type: AUTO-DETECT ==> F8\n",
      "\n",
      "\n",
      "WARNING: Possibly unsupported ROM: mismatched MD5.\n",
      "Cartridge_MD5: 9469d18238345d87768e8965f9f4a6b2\n",
      "Cartridge_name: Ms. Pac-Man (1982) (CCE)\n",
      "\n",
      "Running ROM file...\n",
      "Random seed is 0\n",
      "Game console created:\n",
      "  ROM file:  /home/d9w/.julia/packages/ArcadeLearningEnvironment/YJh2g/src/../deps/roms/ms_pacman.bin\n",
      "  Cart Name: Ms. Pac-Man (1982) (CCE)\n",
      "  Cart MD5:  9469d18238345d87768e8965f9f4a6b2\n",
      "  Display Format:  AUTO-DETECT ==> NTSC\n",
      "  ROM Size:        8192\n",
      "  Bankswitch Type: AUTO-DETECT ==> F8\n",
      "\n",
      "\n",
      "WARNING: Possibly unsupported ROM: mismatched MD5.\n",
      "Cartridge_MD5: 9469d18238345d87768e8965f9f4a6b2\n",
      "Cartridge_name: Ms. Pac-Man (1982) (CCE)\n",
      "\n",
      "Running ROM file...\n",
      "Random seed is 0\n",
      "Game console created:\n",
      "  ROM file:  /home/d9w/.julia/packages/ArcadeLearningEnvironment/YJh2g/src/../deps/roms/ms_pacman.bin\n",
      "  Cart Name: Ms. Pac-Man (1982) (CCE)\n",
      "  Cart MD5:  9469d18238345d87768e8965f9f4a6b2\n",
      "  Display Format:  AUTO-DETECT ==> NTSC\n",
      "  ROM Size:        8192\n",
      "  Bankswitch Type: AUTO-DETECT ==> F8\n",
      "\n",
      "\n",
      "WARNING: Possibly unsupported ROM: mismatched MD5.\n",
      "Cartridge_MD5: 9469d18238345d87768e8965f9f4a6b2\n",
      "Cartridge_name: Ms. Pac-Man (1982) (CCE)\n",
      "\n",
      "Running ROM file...\n",
      "Random seed is 0\n",
      "Game console created:\n",
      "  ROM file:  /home/d9w/.julia/packages/ArcadeLearningEnvironment/YJh2g/src/../deps/roms/ms_pacman.bin\n",
      "  Cart Name: Ms. Pac-Man (1982) (CCE)\n",
      "  Cart MD5:  9469d18238345d87768e8965f9f4a6b2\n",
      "  Display Format:  AUTO-DETECT ==> NTSC\n",
      "  ROM Size:        8192\n",
      "  Bankswitch Type: AUTO-DETECT ==> F8\n",
      "\n",
      "\n",
      "WARNING: Possibly unsupported ROM: mismatched MD5.\n",
      "Cartridge_MD5: 9469d18238345d87768e8965f9f4a6b2\n",
      "Cartridge_name: Ms. Pac-Man (1982) (CCE)\n",
      "\n",
      "Running ROM file...\n",
      "Random seed is 0\n",
      "Game console created:\n",
      "  ROM file:  /home/d9w/.julia/packages/ArcadeLearningEnvironment/YJh2g/src/../deps/roms/ms_pacman.bin\n",
      "  Cart Name: Ms. Pac-Man (1982) (CCE)\n",
      "  Cart MD5:  9469d18238345d87768e8965f9f4a6b2\n",
      "  Display Format:  AUTO-DETECT ==> NTSC\n",
      "  ROM Size:        8192\n",
      "  Bankswitch Type: AUTO-DETECT ==> F8\n",
      "\n",
      "\n",
      "WARNING: Possibly unsupported ROM: mismatched MD5.\n",
      "Cartridge_MD5: 9469d18238345d87768e8965f9f4a6b2\n",
      "Cartridge_name: Ms. Pac-Man (1982) (CCE)\n",
      "\n",
      "Running ROM file...\n",
      "Random seed is 0\n",
      "Game console created:\n",
      "  ROM file:  /home/d9w/.julia/packages/ArcadeLearningEnvironment/YJh2g/src/../deps/roms/ms_pacman.bin\n",
      "  Cart Name: Ms. Pac-Man (1982) (CCE)\n",
      "  Cart MD5:  9469d18238345d87768e8965f9f4a6b2\n",
      "  Display Format:  AUTO-DETECT ==> NTSC\n",
      "  ROM Size:        8192\n",
      "  Bankswitch Type: AUTO-DETECT ==> F8\n",
      "\n",
      "\n",
      "WARNING: Possibly unsupported ROM: mismatched MD5.\n",
      "Cartridge_MD5: 9469d18238345d87768e8965f9f4a6b2\n",
      "Cartridge_name: Ms. Pac-Man (1982) (CCE)\n",
      "\n",
      "Running ROM file...\n",
      "Random seed is 0\n",
      "Game console created:\n",
      "  ROM file:  /home/d9w/.julia/packages/ArcadeLearningEnvironment/YJh2g/src/../deps/roms/ms_pacman.bin\n",
      "  Cart Name: Ms. Pac-Man (1982) (CCE)\n",
      "  Cart MD5:  9469d18238345d87768e8965f9f4a6b2\n",
      "  Display Format:  AUTO-DETECT ==> NTSC\n",
      "  ROM Size:        8192\n",
      "  Bankswitch Type: AUTO-DETECT ==> F8\n",
      "\n",
      "\n",
      "WARNING: Possibly unsupported ROM: mismatched MD5.\n",
      "Cartridge_MD5: 9469d18238345d87768e8965f9f4a6b2\n",
      "Cartridge_name: Ms. Pac-Man (1982) (CCE)\n",
      "\n",
      "Running ROM file...\n",
      "Random seed is 0\n",
      "Game console created:\n",
      "  ROM file:  /home/d9w/.julia/packages/ArcadeLearningEnvironment/YJh2g/src/../deps/roms/ms_pacman.bin\n",
      "  Cart Name: Ms. Pac-Man (1982) (CCE)\n",
      "  Cart MD5:  9469d18238345d87768e8965f9f4a6b2\n",
      "  Display Format:  AUTO-DETECT ==> NTSC\n",
      "  ROM Size:        8192\n",
      "  Bankswitch Type: AUTO-DETECT ==> F8\n",
      "\n",
      "\n",
      "WARNING: Possibly unsupported ROM: mismatched MD5.\n",
      "Cartridge_MD5: 9469d18238345d87768e8965f9f4a6b2\n",
      "Cartridge_name: Ms. Pac-Man (1982) (CCE)\n",
      "\n",
      "Running ROM file...\n",
      "Random seed is 0\n",
      "Game console created:\n",
      "  ROM file:  /home/d9w/.julia/packages/ArcadeLearningEnvironment/YJh2g/src/../deps/roms/ms_pacman.bin\n",
      "  Cart Name: Ms. Pac-Man (1982) (CCE)\n",
      "  Cart MD5:  9469d18238345d87768e8965f9f4a6b2\n",
      "  Display Format:  AUTO-DETECT ==> NTSC\n",
      "  ROM Size:        8192\n",
      "  Bankswitch Type: AUTO-DETECT ==> F8\n",
      "\n",
      "\n",
      "WARNING: Possibly unsupported ROM: mismatched MD5.\n",
      "Cartridge_MD5: 9469d18238345d87768e8965f9f4a6b2\n",
      "Cartridge_name: Ms. Pac-Man (1982) (CCE)\n",
      "\n",
      "Running ROM file...\n",
      "Random seed is 0\n",
      "Game console created:\n",
      "  ROM file:  /home/d9w/.julia/packages/ArcadeLearningEnvironment/YJh2g/src/../deps/roms/ms_pacman.bin\n",
      "  Cart Name: Ms. Pac-Man (1982) (CCE)\n",
      "  Cart MD5:  9469d18238345d87768e8965f9f4a6b2\n",
      "  Display Format:  AUTO-DETECT ==> NTSC\n",
      "  ROM Size:        8192\n",
      "  Bankswitch Type: AUTO-DETECT ==> F8\n",
      "\n",
      "\n",
      "WARNING: Possibly unsupported ROM: mismatched MD5.\n",
      "Cartridge_MD5: 9469d18238345d87768e8965f9f4a6b2\n",
      "Cartridge_name: Ms. Pac-Man (1982) (CCE)\n",
      "\n",
      "Running ROM file...\n",
      "Random seed is 0\n",
      "Game console created:\n",
      "  ROM file:  /home/d9w/.julia/packages/ArcadeLearningEnvironment/YJh2g/src/../deps/roms/ms_pacman.bin\n",
      "  Cart Name: Ms. Pac-Man (1982) (CCE)\n",
      "  Cart MD5:  9469d18238345d87768e8965f9f4a6b2\n",
      "  Display Format:  AUTO-DETECT ==> NTSC\n",
      "  ROM Size:        8192\n",
      "  Bankswitch Type: AUTO-DETECT ==> F8\n",
      "\n",
      "\n",
      "WARNING: Possibly unsupported ROM: mismatched MD5.\n",
      "Cartridge_MD5: 9469d18238345d87768e8965f9f4a6b2\n",
      "Cartridge_name: Ms. Pac-Man (1982) (CCE)\n",
      "\n",
      "Running ROM file...\n",
      "Random seed is 0\n",
      "Game console created:\n",
      "  ROM file:  /home/d9w/.julia/packages/ArcadeLearningEnvironment/YJh2g/src/../deps/roms/ms_pacman.bin\n",
      "  Cart Name: Ms. Pac-Man (1982) (CCE)\n",
      "  Cart MD5:  9469d18238345d87768e8965f9f4a6b2\n",
      "  Display Format:  AUTO-DETECT ==> NTSC\n",
      "  ROM Size:        8192\n",
      "  Bankswitch Type: AUTO-DETECT ==> F8\n",
      "\n",
      "\n",
      "WARNING: Possibly unsupported ROM: mismatched MD5.\n",
      "Cartridge_MD5: 9469d18238345d87768e8965f9f4a6b2\n",
      "Cartridge_name: Ms. Pac-Man (1982) (CCE)\n",
      "\n",
      "Running ROM file...\n",
      "Random seed is 0\n",
      "Game console created:\n",
      "  ROM file:  /home/d9w/.julia/packages/ArcadeLearningEnvironment/YJh2g/src/../deps/roms/ms_pacman.bin\n",
      "  Cart Name: Ms. Pac-Man (1982) (CCE)\n",
      "  Cart MD5:  9469d18238345d87768e8965f9f4a6b2\n",
      "  Display Format:  AUTO-DETECT ==> NTSC\n",
      "  ROM Size:        8192\n",
      "  Bankswitch Type: AUTO-DETECT ==> F8\n",
      "\n",
      "\n",
      "WARNING: Possibly unsupported ROM: mismatched MD5.\n",
      "Cartridge_MD5: 9469d18238345d87768e8965f9f4a6b2\n",
      "Cartridge_name: Ms. Pac-Man (1982) (CCE)\n",
      "\n",
      "Running ROM file...\n",
      "Random seed is 0\n",
      "Game console created:\n",
      "  ROM file:  /home/d9w/.julia/packages/ArcadeLearningEnvironment/YJh2g/src/../deps/roms/ms_pacman.bin\n",
      "  Cart Name: Ms. Pac-Man (1982) (CCE)\n",
      "  Cart MD5:  9469d18238345d87768e8965f9f4a6b2\n",
      "  Display Format:  AUTO-DETECT ==> NTSC\n",
      "  ROM Size:        8192\n",
      "  Bankswitch Type: AUTO-DETECT ==> F8\n",
      "\n",
      "\n",
      "WARNING: Possibly unsupported ROM: mismatched MD5.\n",
      "Cartridge_MD5: 9469d18238345d87768e8965f9f4a6b2\n",
      "Cartridge_name: Ms. Pac-Man (1982) (CCE)\n",
      "\n",
      "Running ROM file...\n",
      "Random seed is 0\n",
      "Game console created:\n",
      "  ROM file:  /home/d9w/.julia/packages/ArcadeLearningEnvironment/YJh2g/src/../deps/roms/ms_pacman.bin\n",
      "  Cart Name: Ms. Pac-Man (1982) (CCE)\n",
      "  Cart MD5:  9469d18238345d87768e8965f9f4a6b2\n",
      "  Display Format:  AUTO-DETECT ==> NTSC\n",
      "  ROM Size:        8192\n",
      "  Bankswitch Type: AUTO-DETECT ==> F8\n",
      "\n",
      "\n",
      "WARNING: Possibly unsupported ROM: mismatched MD5.\n",
      "Cartridge_MD5: 9469d18238345d87768e8965f9f4a6b2\n",
      "Cartridge_name: Ms. Pac-Man (1982) (CCE)\n",
      "\n",
      "Running ROM file...\n",
      "Random seed is 0\n",
      "Game console created:\n",
      "  ROM file:  /home/d9w/.julia/packages/ArcadeLearningEnvironment/YJh2g/src/../deps/roms/ms_pacman.bin\n",
      "  Cart Name: Ms. Pac-Man (1982) (CCE)\n",
      "  Cart MD5:  9469d18238345d87768e8965f9f4a6b2\n",
      "  Display Format:  AUTO-DETECT ==> NTSC\n",
      "  ROM Size:        8192\n",
      "  Bankswitch Type: AUTO-DETECT ==> F8\n",
      "\n",
      "\n",
      "WARNING: Possibly unsupported ROM: mismatched MD5.\n",
      "Cartridge_MD5: 9469d18238345d87768e8965f9f4a6b2\n",
      "Cartridge_name: Ms. Pac-Man (1982) (CCE)\n",
      "\n",
      "Running ROM file...\n",
      "Random seed is 0\n"
     ]
    },
    {
     "name": "stdout",
     "output_type": "stream",
     "text": [
      "60\n"
     ]
    },
    {
     "name": "stderr",
     "output_type": "stream",
     "text": [
      "Game console created:\n",
      "  ROM file:  /home/d9w/.julia/packages/ArcadeLearningEnvironment/YJh2g/src/../deps/roms/ms_pacman.bin\n",
      "  Cart Name: Ms. Pac-Man (1982) (CCE)\n",
      "  Cart MD5:  9469d18238345d87768e8965f9f4a6b2\n",
      "  Display Format:  AUTO-DETECT ==> NTSC\n",
      "  ROM Size:        8192\n",
      "  Bankswitch Type: AUTO-DETECT ==> F8\n",
      "\n",
      "\n",
      "WARNING: Possibly unsupported ROM: mismatched MD5.\n",
      "Cartridge_MD5: 9469d18238345d87768e8965f9f4a6b2\n",
      "Cartridge_name: Ms. Pac-Man (1982) (CCE)\n",
      "\n",
      "Running ROM file...\n",
      "Random seed is 0\n",
      "Game console created:\n",
      "  ROM file:  /home/d9w/.julia/packages/ArcadeLearningEnvironment/YJh2g/src/../deps/roms/ms_pacman.bin\n",
      "  Cart Name: Ms. Pac-Man (1982) (CCE)\n",
      "  Cart MD5:  9469d18238345d87768e8965f9f4a6b2\n",
      "  Display Format:  AUTO-DETECT ==> NTSC\n",
      "  ROM Size:        8192\n",
      "  Bankswitch Type: AUTO-DETECT ==> F8\n",
      "\n",
      "\n",
      "WARNING: Possibly unsupported ROM: mismatched MD5.\n",
      "Cartridge_MD5: 9469d18238345d87768e8965f9f4a6b2\n",
      "Cartridge_name: Ms. Pac-Man (1982) (CCE)\n",
      "\n",
      "Running ROM file...\n",
      "Random seed is 0\n",
      "Game console created:\n",
      "  ROM file:  /home/d9w/.julia/packages/ArcadeLearningEnvironment/YJh2g/src/../deps/roms/ms_pacman.bin\n",
      "  Cart Name: Ms. Pac-Man (1982) (CCE)\n",
      "  Cart MD5:  9469d18238345d87768e8965f9f4a6b2\n",
      "  Display Format:  AUTO-DETECT ==> NTSC\n",
      "  ROM Size:        8192\n",
      "  Bankswitch Type: AUTO-DETECT ==> F8\n",
      "\n",
      "\n",
      "WARNING: Possibly unsupported ROM: mismatched MD5.\n",
      "Cartridge_MD5: 9469d18238345d87768e8965f9f4a6b2\n",
      "Cartridge_name: Ms. Pac-Man (1982) (CCE)\n",
      "\n",
      "Running ROM file...\n",
      "Random seed is 0\n",
      "Game console created:\n",
      "  ROM file:  /home/d9w/.julia/packages/ArcadeLearningEnvironment/YJh2g/src/../deps/roms/ms_pacman.bin\n",
      "  Cart Name: Ms. Pac-Man (1982) (CCE)\n",
      "  Cart MD5:  9469d18238345d87768e8965f9f4a6b2\n",
      "  Display Format:  AUTO-DETECT ==> NTSC\n",
      "  ROM Size:        8192\n",
      "  Bankswitch Type: AUTO-DETECT ==> F8\n",
      "\n",
      "\n",
      "WARNING: Possibly unsupported ROM: mismatched MD5.\n",
      "Cartridge_MD5: 9469d18238345d87768e8965f9f4a6b2\n",
      "Cartridge_name: Ms. Pac-Man (1982) (CCE)\n",
      "\n",
      "Running ROM file...\n",
      "Random seed is 0\n",
      "Game console created:\n",
      "  ROM file:  /home/d9w/.julia/packages/ArcadeLearningEnvironment/YJh2g/src/../deps/roms/ms_pacman.bin\n",
      "  Cart Name: Ms. Pac-Man (1982) (CCE)\n",
      "  Cart MD5:  9469d18238345d87768e8965f9f4a6b2\n",
      "  Display Format:  AUTO-DETECT ==> NTSC\n",
      "  ROM Size:        8192\n",
      "  Bankswitch Type: AUTO-DETECT ==> F8\n",
      "\n",
      "\n",
      "WARNING: Possibly unsupported ROM: mismatched MD5.\n",
      "Cartridge_MD5: 9469d18238345d87768e8965f9f4a6b2\n",
      "Cartridge_name: Ms. Pac-Man (1982) (CCE)\n",
      "\n",
      "Running ROM file...\n",
      "Random seed is 0\n",
      "Game console created:\n",
      "  ROM file:  /home/d9w/.julia/packages/ArcadeLearningEnvironment/YJh2g/src/../deps/roms/ms_pacman.bin\n",
      "  Cart Name: Ms. Pac-Man (1982) (CCE)\n",
      "  Cart MD5:  9469d18238345d87768e8965f9f4a6b2\n",
      "  Display Format:  AUTO-DETECT ==> NTSC\n",
      "  ROM Size:        8192\n",
      "  Bankswitch Type: AUTO-DETECT ==> F8\n",
      "\n",
      "\n",
      "WARNING: Possibly unsupported ROM: mismatched MD5.\n",
      "Cartridge_MD5: 9469d18238345d87768e8965f9f4a6b2\n",
      "Cartridge_name: Ms. Pac-Man (1982) (CCE)\n",
      "\n",
      "Running ROM file...\n",
      "Random seed is 0\n",
      "Game console created:\n",
      "  ROM file:  /home/d9w/.julia/packages/ArcadeLearningEnvironment/YJh2g/src/../deps/roms/ms_pacman.bin\n",
      "  Cart Name: Ms. Pac-Man (1982) (CCE)\n",
      "  Cart MD5:  9469d18238345d87768e8965f9f4a6b2\n",
      "  Display Format:  AUTO-DETECT ==> NTSC\n",
      "  ROM Size:        8192\n",
      "  Bankswitch Type: AUTO-DETECT ==> F8\n",
      "\n",
      "\n",
      "WARNING: Possibly unsupported ROM: mismatched MD5.\n",
      "Cartridge_MD5: 9469d18238345d87768e8965f9f4a6b2\n",
      "Cartridge_name: Ms. Pac-Man (1982) (CCE)\n",
      "\n",
      "Running ROM file...\n",
      "Random seed is 0\n",
      "Game console created:\n",
      "  ROM file:  /home/d9w/.julia/packages/ArcadeLearningEnvironment/YJh2g/src/../deps/roms/ms_pacman.bin\n",
      "  Cart Name: Ms. Pac-Man (1982) (CCE)\n",
      "  Cart MD5:  9469d18238345d87768e8965f9f4a6b2\n",
      "  Display Format:  AUTO-DETECT ==> NTSC\n",
      "  ROM Size:        8192\n",
      "  Bankswitch Type: AUTO-DETECT ==> F8\n",
      "\n",
      "\n",
      "WARNING: Possibly unsupported ROM: mismatched MD5.\n",
      "Cartridge_MD5: 9469d18238345d87768e8965f9f4a6b2\n",
      "Cartridge_name: Ms. Pac-Man (1982) (CCE)\n",
      "\n",
      "Running ROM file...\n",
      "Random seed is 0\n",
      "Game console created:\n",
      "  ROM file:  /home/d9w/.julia/packages/ArcadeLearningEnvironment/YJh2g/src/../deps/roms/ms_pacman.bin\n",
      "  Cart Name: Ms. Pac-Man (1982) (CCE)\n",
      "  Cart MD5:  9469d18238345d87768e8965f9f4a6b2\n",
      "  Display Format:  AUTO-DETECT ==> NTSC\n",
      "  ROM Size:        8192\n",
      "  Bankswitch Type: AUTO-DETECT ==> F8\n",
      "\n",
      "\n",
      "WARNING: Possibly unsupported ROM: mismatched MD5.\n",
      "Cartridge_MD5: 9469d18238345d87768e8965f9f4a6b2\n",
      "Cartridge_name: Ms. Pac-Man (1982) (CCE)\n",
      "\n",
      "Running ROM file...\n",
      "Random seed is 0\n",
      "Game console created:\n",
      "  ROM file:  /home/d9w/.julia/packages/ArcadeLearningEnvironment/YJh2g/src/../deps/roms/ms_pacman.bin\n",
      "  Cart Name: Ms. Pac-Man (1982) (CCE)\n",
      "  Cart MD5:  9469d18238345d87768e8965f9f4a6b2\n",
      "  Display Format:  AUTO-DETECT ==> NTSC\n",
      "  ROM Size:        8192\n",
      "  Bankswitch Type: AUTO-DETECT ==> F8\n",
      "\n",
      "\n",
      "WARNING: Possibly unsupported ROM: mismatched MD5.\n",
      "Cartridge_MD5: 9469d18238345d87768e8965f9f4a6b2\n",
      "Cartridge_name: Ms. Pac-Man (1982) (CCE)\n",
      "\n",
      "Running ROM file...\n",
      "Random seed is 0\n",
      "Game console created:\n",
      "  ROM file:  /home/d9w/.julia/packages/ArcadeLearningEnvironment/YJh2g/src/../deps/roms/ms_pacman.bin\n",
      "  Cart Name: Ms. Pac-Man (1982) (CCE)\n",
      "  Cart MD5:  9469d18238345d87768e8965f9f4a6b2\n",
      "  Display Format:  AUTO-DETECT ==> NTSC\n",
      "  ROM Size:        8192\n",
      "  Bankswitch Type: AUTO-DETECT ==> F8\n",
      "\n",
      "\n",
      "WARNING: Possibly unsupported ROM: mismatched MD5.\n",
      "Cartridge_MD5: 9469d18238345d87768e8965f9f4a6b2\n",
      "Cartridge_name: Ms. Pac-Man (1982) (CCE)\n",
      "\n",
      "Running ROM file...\n",
      "Random seed is 0\n",
      "Game console created:\n",
      "  ROM file:  /home/d9w/.julia/packages/ArcadeLearningEnvironment/YJh2g/src/../deps/roms/ms_pacman.bin\n",
      "  Cart Name: Ms. Pac-Man (1982) (CCE)\n",
      "  Cart MD5:  9469d18238345d87768e8965f9f4a6b2\n",
      "  Display Format:  AUTO-DETECT ==> NTSC\n",
      "  ROM Size:        8192\n",
      "  Bankswitch Type: AUTO-DETECT ==> F8\n",
      "\n",
      "\n",
      "WARNING: Possibly unsupported ROM: mismatched MD5.\n",
      "Cartridge_MD5: 9469d18238345d87768e8965f9f4a6b2\n",
      "Cartridge_name: Ms. Pac-Man (1982) (CCE)\n",
      "\n",
      "Running ROM file...\n",
      "Random seed is 0\n",
      "Game console created:\n",
      "  ROM file:  /home/d9w/.julia/packages/ArcadeLearningEnvironment/YJh2g/src/../deps/roms/ms_pacman.bin\n",
      "  Cart Name: Ms. Pac-Man (1982) (CCE)\n",
      "  Cart MD5:  9469d18238345d87768e8965f9f4a6b2\n",
      "  Display Format:  AUTO-DETECT ==> NTSC\n",
      "  ROM Size:        8192\n",
      "  Bankswitch Type: AUTO-DETECT ==> F8\n",
      "\n",
      "\n",
      "WARNING: Possibly unsupported ROM: mismatched MD5.\n",
      "Cartridge_MD5: 9469d18238345d87768e8965f9f4a6b2\n",
      "Cartridge_name: Ms. Pac-Man (1982) (CCE)\n",
      "\n",
      "Running ROM file...\n",
      "Random seed is 0\n",
      "Game console created:\n",
      "  ROM file:  /home/d9w/.julia/packages/ArcadeLearningEnvironment/YJh2g/src/../deps/roms/ms_pacman.bin\n",
      "  Cart Name: Ms. Pac-Man (1982) (CCE)\n",
      "  Cart MD5:  9469d18238345d87768e8965f9f4a6b2\n",
      "  Display Format:  AUTO-DETECT ==> NTSC\n",
      "  ROM Size:        8192\n",
      "  Bankswitch Type: AUTO-DETECT ==> F8\n",
      "\n",
      "\n",
      "WARNING: Possibly unsupported ROM: mismatched MD5.\n",
      "Cartridge_MD5: 9469d18238345d87768e8965f9f4a6b2\n",
      "Cartridge_name: Ms. Pac-Man (1982) (CCE)\n",
      "\n",
      "Running ROM file...\n",
      "Random seed is 0\n",
      "Game console created:\n",
      "  ROM file:  /home/d9w/.julia/packages/ArcadeLearningEnvironment/YJh2g/src/../deps/roms/ms_pacman.bin\n",
      "  Cart Name: Ms. Pac-Man (1982) (CCE)\n",
      "  Cart MD5:  9469d18238345d87768e8965f9f4a6b2\n",
      "  Display Format:  AUTO-DETECT ==> NTSC\n",
      "  ROM Size:        8192\n",
      "  Bankswitch Type: AUTO-DETECT ==> F8\n",
      "\n",
      "\n",
      "WARNING: Possibly unsupported ROM: mismatched MD5.\n",
      "Cartridge_MD5: 9469d18238345d87768e8965f9f4a6b2\n",
      "Cartridge_name: Ms. Pac-Man (1982) (CCE)\n",
      "\n",
      "Running ROM file...\n",
      "Random seed is 0\n",
      "Game console created:\n",
      "  ROM file:  /home/d9w/.julia/packages/ArcadeLearningEnvironment/YJh2g/src/../deps/roms/ms_pacman.bin\n",
      "  Cart Name: Ms. Pac-Man (1982) (CCE)\n",
      "  Cart MD5:  9469d18238345d87768e8965f9f4a6b2\n",
      "  Display Format:  AUTO-DETECT ==> NTSC\n",
      "  ROM Size:        8192\n",
      "  Bankswitch Type: AUTO-DETECT ==> F8\n",
      "\n",
      "\n",
      "WARNING: Possibly unsupported ROM: mismatched MD5.\n",
      "Cartridge_MD5: 9469d18238345d87768e8965f9f4a6b2\n",
      "Cartridge_name: Ms. Pac-Man (1982) (CCE)\n",
      "\n",
      "Running ROM file...\n",
      "Random seed is 0\n",
      "Game console created:\n",
      "  ROM file:  /home/d9w/.julia/packages/ArcadeLearningEnvironment/YJh2g/src/../deps/roms/ms_pacman.bin\n",
      "  Cart Name: Ms. Pac-Man (1982) (CCE)\n",
      "  Cart MD5:  9469d18238345d87768e8965f9f4a6b2\n",
      "  Display Format:  AUTO-DETECT ==> NTSC\n",
      "  ROM Size:        8192\n",
      "  Bankswitch Type: AUTO-DETECT ==> F8\n",
      "\n",
      "\n",
      "WARNING: Possibly unsupported ROM: mismatched MD5.\n",
      "Cartridge_MD5: 9469d18238345d87768e8965f9f4a6b2\n",
      "Cartridge_name: Ms. Pac-Man (1982) (CCE)\n",
      "\n",
      "Running ROM file...\n",
      "Random seed is 0\n",
      "Game console created:\n",
      "  ROM file:  /home/d9w/.julia/packages/ArcadeLearningEnvironment/YJh2g/src/../deps/roms/ms_pacman.bin\n",
      "  Cart Name: Ms. Pac-Man (1982) (CCE)\n",
      "  Cart MD5:  9469d18238345d87768e8965f9f4a6b2\n",
      "  Display Format:  AUTO-DETECT ==> NTSC\n",
      "  ROM Size:        8192\n",
      "  Bankswitch Type: AUTO-DETECT ==> F8\n",
      "\n",
      "\n",
      "WARNING: Possibly unsupported ROM: mismatched MD5.\n",
      "Cartridge_MD5: 9469d18238345d87768e8965f9f4a6b2\n",
      "Cartridge_name: Ms. Pac-Man (1982) (CCE)\n",
      "\n",
      "Running ROM file...\n",
      "Random seed is 0\n",
      "Game console created:\n",
      "  ROM file:  /home/d9w/.julia/packages/ArcadeLearningEnvironment/YJh2g/src/../deps/roms/ms_pacman.bin\n",
      "  Cart Name: Ms. Pac-Man (1982) (CCE)\n",
      "  Cart MD5:  9469d18238345d87768e8965f9f4a6b2\n",
      "  Display Format:  AUTO-DETECT ==> NTSC\n",
      "  ROM Size:        8192\n",
      "  Bankswitch Type: AUTO-DETECT ==> F8\n",
      "\n",
      "\n",
      "WARNING: Possibly unsupported ROM: mismatched MD5.\n",
      "Cartridge_MD5: 9469d18238345d87768e8965f9f4a6b2\n",
      "Cartridge_name: Ms. Pac-Man (1982) (CCE)\n",
      "\n",
      "Running ROM file...\n",
      "Random seed is 0\n",
      "Game console created:\n",
      "  ROM file:  /home/d9w/.julia/packages/ArcadeLearningEnvironment/YJh2g/src/../deps/roms/ms_pacman.bin\n",
      "  Cart Name: Ms. Pac-Man (1982) (CCE)\n",
      "  Cart MD5:  9469d18238345d87768e8965f9f4a6b2\n",
      "  Display Format:  AUTO-DETECT ==> NTSC\n",
      "  ROM Size:        8192\n",
      "  Bankswitch Type: AUTO-DETECT ==> F8\n",
      "\n",
      "\n",
      "WARNING: Possibly unsupported ROM: mismatched MD5.\n",
      "Cartridge_MD5: 9469d18238345d87768e8965f9f4a6b2\n",
      "Cartridge_name: Ms. Pac-Man (1982) (CCE)\n",
      "\n",
      "Running ROM file...\n",
      "Random seed is 0\n"
     ]
    },
    {
     "name": "stdout",
     "output_type": "stream",
     "text": [
      "210.080\n",
      "210.0"
     ]
    },
    {
     "name": "stderr",
     "output_type": "stream",
     "text": [
      "Game console created:\n",
      "  ROM file:  /home/d9w/.julia/packages/ArcadeLearningEnvironment/YJh2g/src/../deps/roms/ms_pacman.bin\n",
      "  Cart Name: Ms. Pac-Man (1982) (CCE)\n",
      "  Cart MD5:  9469d18238345d87768e8965f9f4a6b2\n",
      "  Display Format:  AUTO-DETECT ==> NTSC\n",
      "  ROM Size:        8192\n",
      "  Bankswitch Type: AUTO-DETECT ==> F8\n",
      "\n",
      "\n",
      "WARNING: Possibly unsupported ROM: mismatched MD5.\n",
      "Cartridge_MD5: 9469d18238345d87768e8965f9f4a6b2\n",
      "Cartridge_name: Ms. Pac-Man (1982) (CCE)\n",
      "\n",
      "Running ROM file...\n",
      "Random seed is 0\n",
      "Game console created:\n",
      "  ROM file:  /home/d9w/.julia/packages/ArcadeLearningEnvironment/YJh2g/src/../deps/roms/ms_pacman.bin\n",
      "  Cart Name: Ms. Pac-Man (1982) (CCE)\n",
      "  Cart MD5:  9469d18238345d87768e8965f9f4a6b2\n",
      "  Display Format:  AUTO-DETECT ==> NTSC\n",
      "  ROM Size:        8192\n",
      "  Bankswitch Type: AUTO-DETECT ==> F8\n",
      "\n",
      "\n",
      "WARNING: Possibly unsupported ROM: mismatched MD5.\n",
      "Cartridge_MD5: 9469d18238345d87768e8965f9f4a6b2\n",
      "Cartridge_name: Ms. Pac-Man (1982) (CCE)\n",
      "\n",
      "Running ROM file...\n",
      "Random seed is 0\n",
      "Game console created:\n",
      "  ROM file:  /home/d9w/.julia/packages/ArcadeLearningEnvironment/YJh2g/src/../deps/roms/ms_pacman.bin\n",
      "  Cart Name: Ms. Pac-Man (1982) (CCE)\n",
      "  Cart MD5:  9469d18238345d87768e8965f9f4a6b2\n",
      "  Display Format:  AUTO-DETECT ==> NTSC\n",
      "  ROM Size:        8192\n",
      "  Bankswitch Type: AUTO-DETECT ==> F8\n",
      "\n",
      "\n",
      "WARNING: Possibly unsupported ROM: mismatched MD5.\n",
      "Cartridge_MD5: 9469d18238345d87768e8965f9f4a6b2\n",
      "Cartridge_name: Ms. Pac-Man (1982) (CCE)\n",
      "\n",
      "Running ROM file...\n",
      "Random seed is 0\n",
      "Game console created:\n",
      "  ROM file:  /home/d9w/.julia/packages/ArcadeLearningEnvironment/YJh2g/src/../deps/roms/ms_pacman.bin\n",
      "  Cart Name: Ms. Pac-Man (1982) (CCE)\n",
      "  Cart MD5:  9469d18238345d87768e8965f9f4a6b2\n",
      "  Display Format:  AUTO-DETECT ==> NTSC\n",
      "  ROM Size:        8192\n",
      "  Bankswitch Type: AUTO-DETECT ==> F8\n",
      "\n",
      "\n",
      "WARNING: Possibly unsupported ROM: mismatched MD5.\n",
      "Cartridge_MD5: 9469d18238345d87768e8965f9f4a6b2\n",
      "Cartridge_name: Ms. Pac-Man (1982) (CCE)\n",
      "\n",
      "Running ROM file...\n",
      "Random seed is 0\n",
      "Game console created:\n",
      "  ROM file:  /home/d9w/.julia/packages/ArcadeLearningEnvironment/YJh2g/src/../deps/roms/ms_pacman.bin\n",
      "  Cart Name: Ms. Pac-Man (1982) (CCE)\n",
      "  Cart MD5:  9469d18238345d87768e8965f9f4a6b2\n",
      "  Display Format:  AUTO-DETECT ==> NTSC\n",
      "  ROM Size:        8192\n",
      "  Bankswitch Type: AUTO-DETECT ==> F8\n",
      "\n",
      "\n",
      "WARNING: Possibly unsupported ROM: mismatched MD5.\n",
      "Cartridge_MD5: 9469d18238345d87768e8965f9f4a6b2\n",
      "Cartridge_name: Ms. Pac-Man (1982) (CCE)\n",
      "\n",
      "Running ROM file...\n",
      "Random seed is 0\n",
      "Game console created:\n",
      "  ROM file:  /home/d9w/.julia/packages/ArcadeLearningEnvironment/YJh2g/src/../deps/roms/ms_pacman.bin\n",
      "  Cart Name: Ms. Pac-Man (1982) (CCE)\n",
      "  Cart MD5:  9469d18238345d87768e8965f9f4a6b2\n",
      "  Display Format:  AUTO-DETECT ==> NTSC\n",
      "  ROM Size:        8192\n",
      "  Bankswitch Type: AUTO-DETECT ==> F8\n",
      "\n",
      "\n",
      "WARNING: Possibly unsupported ROM: mismatched MD5.\n",
      "Cartridge_MD5: 9469d18238345d87768e8965f9f4a6b2\n",
      "Cartridge_name: Ms. Pac-Man (1982) (CCE)\n",
      "\n",
      "Running ROM file...\n",
      "Random seed is 0\n",
      "Game console created:\n",
      "  ROM file:  /home/d9w/.julia/packages/ArcadeLearningEnvironment/YJh2g/src/../deps/roms/ms_pacman.bin\n",
      "  Cart Name: Ms. Pac-Man (1982) (CCE)\n",
      "  Cart MD5:  9469d18238345d87768e8965f9f4a6b2\n",
      "  Display Format:  AUTO-DETECT ==> NTSC\n",
      "  ROM Size:        8192\n",
      "  Bankswitch Type: AUTO-DETECT ==> F8\n",
      "\n",
      "\n",
      "WARNING: Possibly unsupported ROM: mismatched MD5.\n",
      "Cartridge_MD5: 9469d18238345d87768e8965f9f4a6b2\n",
      "Cartridge_name: Ms. Pac-Man (1982) (CCE)\n",
      "\n",
      "Running ROM file...\n",
      "Random seed is 0\n",
      "Game console created:\n",
      "  ROM file:  /home/d9w/.julia/packages/ArcadeLearningEnvironment/YJh2g/src/../deps/roms/ms_pacman.bin\n",
      "  Cart Name: Ms. Pac-Man (1982) (CCE)\n",
      "  Cart MD5:  9469d18238345d87768e8965f9f4a6b2\n",
      "  Display Format:  AUTO-DETECT ==> NTSC\n",
      "  ROM Size:        8192\n",
      "  Bankswitch Type: AUTO-DETECT ==> F8\n",
      "\n",
      "\n",
      "WARNING: Possibly unsupported ROM: mismatched MD5.\n",
      "Cartridge_MD5: 9469d18238345d87768e8965f9f4a6b2\n",
      "Cartridge_name: Ms. Pac-Man (1982) (CCE)\n",
      "\n",
      "Running ROM file...\n",
      "Random seed is 0\n",
      "Game console created:\n",
      "  ROM file:  /home/d9w/.julia/packages/ArcadeLearningEnvironment/YJh2g/src/../deps/roms/ms_pacman.bin\n",
      "  Cart Name: Ms. Pac-Man (1982) (CCE)\n",
      "  Cart MD5:  9469d18238345d87768e8965f9f4a6b2\n",
      "  Display Format:  AUTO-DETECT ==> NTSC\n",
      "  ROM Size:        8192\n",
      "  Bankswitch Type: AUTO-DETECT ==> F8\n",
      "\n",
      "\n",
      "WARNING: Possibly unsupported ROM: mismatched MD5.\n",
      "Cartridge_MD5: 9469d18238345d87768e8965f9f4a6b2\n",
      "Cartridge_name: Ms. Pac-Man (1982) (CCE)\n",
      "\n",
      "Running ROM file...\n",
      "Random seed is 0\n",
      "Game console created:\n",
      "  ROM file:  /home/d9w/.julia/packages/ArcadeLearningEnvironment/YJh2g/src/../deps/roms/ms_pacman.bin\n",
      "  Cart Name: Ms. Pac-Man (1982) (CCE)\n",
      "  Cart MD5:  9469d18238345d87768e8965f9f4a6b2\n",
      "  Display Format:  AUTO-DETECT ==> NTSC\n",
      "  ROM Size:        8192\n",
      "  Bankswitch Type: AUTO-DETECT ==> F8\n",
      "\n",
      "\n",
      "WARNING: Possibly unsupported ROM: mismatched MD5.\n",
      "Cartridge_MD5: 9469d18238345d87768e8965f9f4a6b2\n",
      "Cartridge_name: Ms. Pac-Man (1982) (CCE)\n",
      "\n",
      "Running ROM file...\n",
      "Random seed is 0\n",
      "Game console created:\n",
      "  ROM file:  /home/d9w/.julia/packages/ArcadeLearningEnvironment/YJh2g/src/../deps/roms/ms_pacman.bin\n",
      "  Cart Name: Ms. Pac-Man (1982) (CCE)\n",
      "  Cart MD5:  9469d18238345d87768e8965f9f4a6b2\n",
      "  Display Format:  AUTO-DETECT ==> NTSC\n",
      "  ROM Size:        8192\n",
      "  Bankswitch Type: AUTO-DETECT ==> F8\n",
      "\n",
      "\n",
      "WARNING: Possibly unsupported ROM: mismatched MD5.\n",
      "Cartridge_MD5: 9469d18238345d87768e8965f9f4a6b2\n",
      "Cartridge_name: Ms. Pac-Man (1982) (CCE)\n",
      "\n",
      "Running ROM file...\n",
      "Random seed is 0\n",
      "Game console created:\n",
      "  ROM file:  /home/d9w/.julia/packages/ArcadeLearningEnvironment/YJh2g/src/../deps/roms/ms_pacman.bin\n",
      "  Cart Name: Ms. Pac-Man (1982) (CCE)\n",
      "  Cart MD5:  9469d18238345d87768e8965f9f4a6b2\n",
      "  Display Format:  AUTO-DETECT ==> NTSC\n",
      "  ROM Size:        8192\n",
      "  Bankswitch Type: AUTO-DETECT ==> F8\n",
      "\n",
      "\n",
      "WARNING: Possibly unsupported ROM: mismatched MD5.\n",
      "Cartridge_MD5: 9469d18238345d87768e8965f9f4a6b2\n",
      "Cartridge_name: Ms. Pac-Man (1982) (CCE)\n",
      "\n",
      "Running ROM file...\n",
      "Random seed is 0\n",
      "Game console created:\n",
      "  ROM file:  /home/d9w/.julia/packages/ArcadeLearningEnvironment/YJh2g/src/../deps/roms/ms_pacman.bin\n",
      "  Cart Name: Ms. Pac-Man (1982) (CCE)\n",
      "  Cart MD5:  9469d18238345d87768e8965f9f4a6b2\n",
      "  Display Format:  AUTO-DETECT ==> NTSC\n",
      "  ROM Size:        8192\n",
      "  Bankswitch Type: AUTO-DETECT ==> F8\n",
      "\n",
      "\n",
      "WARNING: Possibly unsupported ROM: mismatched MD5.\n",
      "Cartridge_MD5: 9469d18238345d87768e8965f9f4a6b2\n",
      "Cartridge_name: Ms. Pac-Man (1982) (CCE)\n",
      "\n",
      "Running ROM file...\n",
      "Random seed is 0\n",
      "Game console created:\n",
      "  ROM file:  /home/d9w/.julia/packages/ArcadeLearningEnvironment/YJh2g/src/../deps/roms/ms_pacman.bin\n",
      "  Cart Name: Ms. Pac-Man (1982) (CCE)\n",
      "  Cart MD5:  9469d18238345d87768e8965f9f4a6b2\n",
      "  Display Format:  AUTO-DETECT ==> NTSC\n",
      "  ROM Size:        8192\n",
      "  Bankswitch Type: AUTO-DETECT ==> F8\n",
      "\n",
      "\n",
      "WARNING: Possibly unsupported ROM: mismatched MD5.\n",
      "Cartridge_MD5: 9469d18238345d87768e8965f9f4a6b2\n",
      "Cartridge_name: Ms. Pac-Man (1982) (CCE)\n",
      "\n",
      "Running ROM file...\n",
      "Random seed is 0\n",
      "Game console created:\n",
      "  ROM file:  /home/d9w/.julia/packages/ArcadeLearningEnvironment/YJh2g/src/../deps/roms/ms_pacman.bin\n",
      "  Cart Name: Ms. Pac-Man (1982) (CCE)\n",
      "  Cart MD5:  9469d18238345d87768e8965f9f4a6b2\n",
      "  Display Format:  AUTO-DETECT ==> NTSC\n",
      "  ROM Size:        8192\n",
      "  Bankswitch Type: AUTO-DETECT ==> F8\n",
      "\n",
      "\n",
      "WARNING: Possibly unsupported ROM: mismatched MD5.\n",
      "Cartridge_MD5: 9469d18238345d87768e8965f9f4a6b2\n",
      "Cartridge_name: Ms. Pac-Man (1982) (CCE)\n",
      "\n",
      "Running ROM file...\n",
      "Random seed is 0\n",
      "Game console created:\n",
      "  ROM file:  /home/d9w/.julia/packages/ArcadeLearningEnvironment/YJh2g/src/../deps/roms/ms_pacman.bin\n",
      "  Cart Name: Ms. Pac-Man (1982) (CCE)\n",
      "  Cart MD5:  9469d18238345d87768e8965f9f4a6b2\n",
      "  Display Format:  AUTO-DETECT ==> NTSC\n",
      "  ROM Size:        8192\n",
      "  Bankswitch Type: AUTO-DETECT ==> F8\n",
      "\n",
      "\n",
      "WARNING: Possibly unsupported ROM: mismatched MD5.\n",
      "Cartridge_MD5: 9469d18238345d87768e8965f9f4a6b2\n",
      "Cartridge_name: Ms. Pac-Man (1982) (CCE)\n",
      "\n",
      "Running ROM file...\n",
      "Random seed is 0\n",
      "Game console created:\n",
      "  ROM file:  /home/d9w/.julia/packages/ArcadeLearningEnvironment/YJh2g/src/../deps/roms/ms_pacman.bin\n",
      "  Cart Name: Ms. Pac-Man (1982) (CCE)\n",
      "  Cart MD5:  9469d18238345d87768e8965f9f4a6b2\n",
      "  Display Format:  AUTO-DETECT ==> NTSC\n",
      "  ROM Size:        8192\n",
      "  Bankswitch Type: AUTO-DETECT ==> F8\n",
      "\n",
      "\n",
      "WARNING: Possibly unsupported ROM: mismatched MD5.\n",
      "Cartridge_MD5: 9469d18238345d87768e8965f9f4a6b2\n",
      "Cartridge_name: Ms. Pac-Man (1982) (CCE)\n",
      "\n",
      "Running ROM file...\n",
      "Random seed is 0\n",
      "Game console created:\n",
      "  ROM file:  /home/d9w/.julia/packages/ArcadeLearningEnvironment/YJh2g/src/../deps/roms/ms_pacman.bin\n",
      "  Cart Name: Ms. Pac-Man (1982) (CCE)\n",
      "  Cart MD5:  9469d18238345d87768e8965f9f4a6b2\n",
      "  Display Format:  AUTO-DETECT ==> NTSC\n",
      "  ROM Size:        8192\n",
      "  Bankswitch Type: AUTO-DETECT ==> F8\n",
      "\n",
      "\n",
      "WARNING: Possibly unsupported ROM: mismatched MD5.\n",
      "Cartridge_MD5: 9469d18238345d87768e8965f9f4a6b2\n",
      "Cartridge_name: Ms. Pac-Man (1982) (CCE)\n",
      "\n",
      "Running ROM file...\n",
      "Random seed is 0\n",
      "Game console created:\n",
      "  ROM file:  /home/d9w/.julia/packages/ArcadeLearningEnvironment/YJh2g/src/../deps/roms/ms_pacman.bin\n",
      "  Cart Name: Ms. Pac-Man (1982) (CCE)\n",
      "  Cart MD5:  9469d18238345d87768e8965f9f4a6b2\n",
      "  Display Format:  AUTO-DETECT ==> NTSC\n",
      "  ROM Size:        8192\n",
      "  Bankswitch Type: AUTO-DETECT ==> F8\n",
      "\n",
      "\n",
      "WARNING: Possibly unsupported ROM: mismatched MD5.\n",
      "Cartridge_MD5: 9469d18238345d87768e8965f9f4a6b2\n",
      "Cartridge_name: Ms. Pac-Man (1982) (CCE)\n",
      "\n",
      "Running ROM file...\n",
      "Random seed is 0\n",
      "Game console created:\n",
      "  ROM file:  /home/d9w/.julia/packages/ArcadeLearningEnvironment/YJh2g/src/../deps/roms/ms_pacman.bin\n",
      "  Cart Name: Ms. Pac-Man (1982) (CCE)\n",
      "  Cart MD5:  9469d18238345d87768e8965f9f4a6b2\n",
      "  Display Format:  AUTO-DETECT ==> NTSC\n",
      "  ROM Size:        8192\n",
      "  Bankswitch Type: AUTO-DETECT ==> F8\n",
      "\n",
      "\n",
      "WARNING: Possibly unsupported ROM: mismatched MD5.\n",
      "Cartridge_MD5: 9469d18238345d87768e8965f9f4a6b2\n",
      "Cartridge_name: Ms. Pac-Man (1982) (CCE)\n",
      "\n",
      "Running ROM file...\n",
      "Random seed is 0\n"
     ]
    },
    {
     "name": "stdout",
     "output_type": "stream",
     "text": [
      "100\n"
     ]
    },
    {
     "name": "stderr",
     "output_type": "stream",
     "text": [
      "Game console created:\n",
      "  ROM file:  /home/d9w/.julia/packages/ArcadeLearningEnvironment/YJh2g/src/../deps/roms/ms_pacman.bin\n",
      "  Cart Name: Ms. Pac-Man (1982) (CCE)\n",
      "  Cart MD5:  9469d18238345d87768e8965f9f4a6b2\n",
      "  Display Format:  AUTO-DETECT ==> NTSC\n",
      "  ROM Size:        8192\n",
      "  Bankswitch Type: AUTO-DETECT ==> F8\n",
      "\n",
      "\n",
      "WARNING: Possibly unsupported ROM: mismatched MD5.\n",
      "Cartridge_MD5: 9469d18238345d87768e8965f9f4a6b2\n",
      "Cartridge_name: Ms. Pac-Man (1982) (CCE)\n",
      "\n",
      "Running ROM file...\n",
      "Random seed is 0\n",
      "Game console created:\n",
      "  ROM file:  /home/d9w/.julia/packages/ArcadeLearningEnvironment/YJh2g/src/../deps/roms/ms_pacman.bin\n",
      "  Cart Name: Ms. Pac-Man (1982) (CCE)\n",
      "  Cart MD5:  9469d18238345d87768e8965f9f4a6b2\n",
      "  Display Format:  AUTO-DETECT ==> NTSC\n",
      "  ROM Size:        8192\n",
      "  Bankswitch Type: AUTO-DETECT ==> F8\n",
      "\n",
      "\n",
      "WARNING: Possibly unsupported ROM: mismatched MD5.\n",
      "Cartridge_MD5: 9469d18238345d87768e8965f9f4a6b2\n",
      "Cartridge_name: Ms. Pac-Man (1982) (CCE)\n",
      "\n",
      "Running ROM file...\n",
      "Random seed is 0\n",
      "Game console created:\n",
      "  ROM file:  /home/d9w/.julia/packages/ArcadeLearningEnvironment/YJh2g/src/../deps/roms/ms_pacman.bin\n",
      "  Cart Name: Ms. Pac-Man (1982) (CCE)\n",
      "  Cart MD5:  9469d18238345d87768e8965f9f4a6b2\n",
      "  Display Format:  AUTO-DETECT ==> NTSC\n",
      "  ROM Size:        8192\n",
      "  Bankswitch Type: AUTO-DETECT ==> F8\n",
      "\n",
      "\n",
      "WARNING: Possibly unsupported ROM: mismatched MD5.\n",
      "Cartridge_MD5: 9469d18238345d87768e8965f9f4a6b2\n",
      "Cartridge_name: Ms. Pac-Man (1982) (CCE)\n",
      "\n",
      "Running ROM file...\n",
      "Random seed is 0\n",
      "Game console created:\n",
      "  ROM file:  /home/d9w/.julia/packages/ArcadeLearningEnvironment/YJh2g/src/../deps/roms/ms_pacman.bin\n",
      "  Cart Name: Ms. Pac-Man (1982) (CCE)\n",
      "  Cart MD5:  9469d18238345d87768e8965f9f4a6b2\n",
      "  Display Format:  AUTO-DETECT ==> NTSC\n",
      "  ROM Size:        8192\n",
      "  Bankswitch Type: AUTO-DETECT ==> F8\n",
      "\n",
      "\n",
      "WARNING: Possibly unsupported ROM: mismatched MD5.\n",
      "Cartridge_MD5: 9469d18238345d87768e8965f9f4a6b2\n",
      "Cartridge_name: Ms. Pac-Man (1982) (CCE)\n",
      "\n",
      "Running ROM file...\n",
      "Random seed is 0\n",
      "Game console created:\n",
      "  ROM file:  /home/d9w/.julia/packages/ArcadeLearningEnvironment/YJh2g/src/../deps/roms/ms_pacman.bin\n",
      "  Cart Name: Ms. Pac-Man (1982) (CCE)\n",
      "  Cart MD5:  9469d18238345d87768e8965f9f4a6b2\n",
      "  Display Format:  AUTO-DETECT ==> NTSC\n",
      "  ROM Size:        8192\n",
      "  Bankswitch Type: AUTO-DETECT ==> F8\n",
      "\n",
      "\n",
      "WARNING: Possibly unsupported ROM: mismatched MD5.\n",
      "Cartridge_MD5: 9469d18238345d87768e8965f9f4a6b2\n",
      "Cartridge_name: Ms. Pac-Man (1982) (CCE)\n",
      "\n",
      "Running ROM file...\n",
      "Random seed is 0\n",
      "Game console created:\n",
      "  ROM file:  /home/d9w/.julia/packages/ArcadeLearningEnvironment/YJh2g/src/../deps/roms/ms_pacman.bin\n",
      "  Cart Name: Ms. Pac-Man (1982) (CCE)\n",
      "  Cart MD5:  9469d18238345d87768e8965f9f4a6b2\n",
      "  Display Format:  AUTO-DETECT ==> NTSC\n",
      "  ROM Size:        8192\n",
      "  Bankswitch Type: AUTO-DETECT ==> F8\n",
      "\n",
      "\n",
      "WARNING: Possibly unsupported ROM: mismatched MD5.\n",
      "Cartridge_MD5: 9469d18238345d87768e8965f9f4a6b2\n",
      "Cartridge_name: Ms. Pac-Man (1982) (CCE)\n",
      "\n",
      "Running ROM file...\n",
      "Random seed is 0\n",
      "Game console created:\n",
      "  ROM file:  /home/d9w/.julia/packages/ArcadeLearningEnvironment/YJh2g/src/../deps/roms/ms_pacman.bin\n",
      "  Cart Name: Ms. Pac-Man (1982) (CCE)\n",
      "  Cart MD5:  9469d18238345d87768e8965f9f4a6b2\n",
      "  Display Format:  AUTO-DETECT ==> NTSC\n",
      "  ROM Size:        8192\n",
      "  Bankswitch Type: AUTO-DETECT ==> F8\n",
      "\n",
      "\n",
      "WARNING: Possibly unsupported ROM: mismatched MD5.\n",
      "Cartridge_MD5: 9469d18238345d87768e8965f9f4a6b2\n",
      "Cartridge_name: Ms. Pac-Man (1982) (CCE)\n",
      "\n",
      "Running ROM file...\n",
      "Random seed is 0\n",
      "Game console created:\n",
      "  ROM file:  /home/d9w/.julia/packages/ArcadeLearningEnvironment/YJh2g/src/../deps/roms/ms_pacman.bin\n",
      "  Cart Name: Ms. Pac-Man (1982) (CCE)\n",
      "  Cart MD5:  9469d18238345d87768e8965f9f4a6b2\n",
      "  Display Format:  AUTO-DETECT ==> NTSC\n",
      "  ROM Size:        8192\n",
      "  Bankswitch Type: AUTO-DETECT ==> F8\n",
      "\n",
      "\n",
      "WARNING: Possibly unsupported ROM: mismatched MD5.\n",
      "Cartridge_MD5: 9469d18238345d87768e8965f9f4a6b2\n",
      "Cartridge_name: Ms. Pac-Man (1982) (CCE)\n",
      "\n",
      "Running ROM file...\n",
      "Random seed is 0\n",
      "Game console created:\n",
      "  ROM file:  /home/d9w/.julia/packages/ArcadeLearningEnvironment/YJh2g/src/../deps/roms/ms_pacman.bin\n",
      "  Cart Name: Ms. Pac-Man (1982) (CCE)\n",
      "  Cart MD5:  9469d18238345d87768e8965f9f4a6b2\n",
      "  Display Format:  AUTO-DETECT ==> NTSC\n",
      "  ROM Size:        8192\n",
      "  Bankswitch Type: AUTO-DETECT ==> F8\n",
      "\n",
      "\n",
      "WARNING: Possibly unsupported ROM: mismatched MD5.\n",
      "Cartridge_MD5: 9469d18238345d87768e8965f9f4a6b2\n",
      "Cartridge_name: Ms. Pac-Man (1982) (CCE)\n",
      "\n",
      "Running ROM file...\n",
      "Random seed is 0\n",
      "Game console created:\n",
      "  ROM file:  /home/d9w/.julia/packages/ArcadeLearningEnvironment/YJh2g/src/../deps/roms/ms_pacman.bin\n",
      "  Cart Name: Ms. Pac-Man (1982) (CCE)\n",
      "  Cart MD5:  9469d18238345d87768e8965f9f4a6b2\n",
      "  Display Format:  AUTO-DETECT ==> NTSC\n",
      "  ROM Size:        8192\n",
      "  Bankswitch Type: AUTO-DETECT ==> F8\n",
      "\n",
      "\n",
      "WARNING: Possibly unsupported ROM: mismatched MD5.\n",
      "Cartridge_MD5: 9469d18238345d87768e8965f9f4a6b2\n",
      "Cartridge_name: Ms. Pac-Man (1982) (CCE)\n",
      "\n",
      "Running ROM file...\n",
      "Random seed is 0\n",
      "Game console created:\n",
      "  ROM file:  /home/d9w/.julia/packages/ArcadeLearningEnvironment/YJh2g/src/../deps/roms/ms_pacman.bin\n",
      "  Cart Name: Ms. Pac-Man (1982) (CCE)\n",
      "  Cart MD5:  9469d18238345d87768e8965f9f4a6b2\n",
      "  Display Format:  AUTO-DETECT ==> NTSC\n",
      "  ROM Size:        8192\n",
      "  Bankswitch Type: AUTO-DETECT ==> F8\n",
      "\n",
      "\n",
      "WARNING: Possibly unsupported ROM: mismatched MD5.\n",
      "Cartridge_MD5: 9469d18238345d87768e8965f9f4a6b2\n",
      "Cartridge_name: Ms. Pac-Man (1982) (CCE)\n",
      "\n",
      "Running ROM file...\n",
      "Random seed is 0\n",
      "Game console created:\n",
      "  ROM file:  /home/d9w/.julia/packages/ArcadeLearningEnvironment/YJh2g/src/../deps/roms/ms_pacman.bin\n",
      "  Cart Name: Ms. Pac-Man (1982) (CCE)\n",
      "  Cart MD5:  9469d18238345d87768e8965f9f4a6b2\n",
      "  Display Format:  AUTO-DETECT ==> NTSC\n",
      "  ROM Size:        8192\n",
      "  Bankswitch Type: AUTO-DETECT ==> F8\n",
      "\n",
      "\n",
      "WARNING: Possibly unsupported ROM: mismatched MD5.\n",
      "Cartridge_MD5: 9469d18238345d87768e8965f9f4a6b2\n",
      "Cartridge_name: Ms. Pac-Man (1982) (CCE)\n",
      "\n",
      "Running ROM file...\n",
      "Random seed is 0\n",
      "Game console created:\n",
      "  ROM file:  /home/d9w/.julia/packages/ArcadeLearningEnvironment/YJh2g/src/../deps/roms/ms_pacman.bin\n",
      "  Cart Name: Ms. Pac-Man (1982) (CCE)\n",
      "  Cart MD5:  9469d18238345d87768e8965f9f4a6b2\n",
      "  Display Format:  AUTO-DETECT ==> NTSC\n",
      "  ROM Size:        8192\n",
      "  Bankswitch Type: AUTO-DETECT ==> F8\n",
      "\n",
      "\n",
      "WARNING: Possibly unsupported ROM: mismatched MD5.\n",
      "Cartridge_MD5: 9469d18238345d87768e8965f9f4a6b2\n",
      "Cartridge_name: Ms. Pac-Man (1982) (CCE)\n",
      "\n",
      "Running ROM file...\n",
      "Random seed is 0\n",
      "Game console created:\n",
      "  ROM file:  /home/d9w/.julia/packages/ArcadeLearningEnvironment/YJh2g/src/../deps/roms/ms_pacman.bin\n",
      "  Cart Name: Ms. Pac-Man (1982) (CCE)\n",
      "  Cart MD5:  9469d18238345d87768e8965f9f4a6b2\n",
      "  Display Format:  AUTO-DETECT ==> NTSC\n",
      "  ROM Size:        8192\n",
      "  Bankswitch Type: AUTO-DETECT ==> F8\n",
      "\n",
      "\n",
      "WARNING: Possibly unsupported ROM: mismatched MD5.\n",
      "Cartridge_MD5: 9469d18238345d87768e8965f9f4a6b2\n",
      "Cartridge_name: Ms. Pac-Man (1982) (CCE)\n",
      "\n",
      "Running ROM file...\n",
      "Random seed is 0\n",
      "Game console created:\n",
      "  ROM file:  /home/d9w/.julia/packages/ArcadeLearningEnvironment/YJh2g/src/../deps/roms/ms_pacman.bin\n",
      "  Cart Name: Ms. Pac-Man (1982) (CCE)\n",
      "  Cart MD5:  9469d18238345d87768e8965f9f4a6b2\n",
      "  Display Format:  AUTO-DETECT ==> NTSC\n",
      "  ROM Size:        8192\n",
      "  Bankswitch Type: AUTO-DETECT ==> F8\n",
      "\n",
      "\n",
      "WARNING: Possibly unsupported ROM: mismatched MD5.\n",
      "Cartridge_MD5: 9469d18238345d87768e8965f9f4a6b2\n",
      "Cartridge_name: Ms. Pac-Man (1982) (CCE)\n",
      "\n",
      "Running ROM file...\n",
      "Random seed is 0\n",
      "Game console created:\n",
      "  ROM file:  /home/d9w/.julia/packages/ArcadeLearningEnvironment/YJh2g/src/../deps/roms/ms_pacman.bin\n",
      "  Cart Name: Ms. Pac-Man (1982) (CCE)\n",
      "  Cart MD5:  9469d18238345d87768e8965f9f4a6b2\n",
      "  Display Format:  AUTO-DETECT ==> NTSC\n",
      "  ROM Size:        8192\n",
      "  Bankswitch Type: AUTO-DETECT ==> F8\n",
      "\n",
      "\n",
      "WARNING: Possibly unsupported ROM: mismatched MD5.\n",
      "Cartridge_MD5: 9469d18238345d87768e8965f9f4a6b2\n",
      "Cartridge_name: Ms. Pac-Man (1982) (CCE)\n",
      "\n",
      "Running ROM file...\n",
      "Random seed is 0\n",
      "Game console created:\n",
      "  ROM file:  /home/d9w/.julia/packages/ArcadeLearningEnvironment/YJh2g/src/../deps/roms/ms_pacman.bin\n",
      "  Cart Name: Ms. Pac-Man (1982) (CCE)\n",
      "  Cart MD5:  9469d18238345d87768e8965f9f4a6b2\n",
      "  Display Format:  AUTO-DETECT ==> NTSC\n",
      "  ROM Size:        8192\n",
      "  Bankswitch Type: AUTO-DETECT ==> F8\n",
      "\n",
      "\n",
      "WARNING: Possibly unsupported ROM: mismatched MD5.\n",
      "Cartridge_MD5: 9469d18238345d87768e8965f9f4a6b2\n",
      "Cartridge_name: Ms. Pac-Man (1982) (CCE)\n",
      "\n",
      "Running ROM file...\n",
      "Random seed is 0\n",
      "Game console created:\n",
      "  ROM file:  /home/d9w/.julia/packages/ArcadeLearningEnvironment/YJh2g/src/../deps/roms/ms_pacman.bin\n",
      "  Cart Name: Ms. Pac-Man (1982) (CCE)\n",
      "  Cart MD5:  9469d18238345d87768e8965f9f4a6b2\n",
      "  Display Format:  AUTO-DETECT ==> NTSC\n",
      "  ROM Size:        8192\n",
      "  Bankswitch Type: AUTO-DETECT ==> F8\n",
      "\n",
      "\n",
      "WARNING: Possibly unsupported ROM: mismatched MD5.\n",
      "Cartridge_MD5: 9469d18238345d87768e8965f9f4a6b2\n",
      "Cartridge_name: Ms. Pac-Man (1982) (CCE)\n",
      "\n",
      "Running ROM file...\n",
      "Random seed is 0\n",
      "Game console created:\n",
      "  ROM file:  /home/d9w/.julia/packages/ArcadeLearningEnvironment/YJh2g/src/../deps/roms/ms_pacman.bin\n",
      "  Cart Name: Ms. Pac-Man (1982) (CCE)\n",
      "  Cart MD5:  9469d18238345d87768e8965f9f4a6b2\n",
      "  Display Format:  AUTO-DETECT ==> NTSC\n",
      "  ROM Size:        8192\n",
      "  Bankswitch Type: AUTO-DETECT ==> F8\n",
      "\n",
      "\n",
      "WARNING: Possibly unsupported ROM: mismatched MD5.\n",
      "Cartridge_MD5: 9469d18238345d87768e8965f9f4a6b2\n",
      "Cartridge_name: Ms. Pac-Man (1982) (CCE)\n",
      "\n",
      "Running ROM file...\n",
      "Random seed is 0\n",
      "Game console created:\n",
      "  ROM file:  /home/d9w/.julia/packages/ArcadeLearningEnvironment/YJh2g/src/../deps/roms/ms_pacman.bin\n",
      "  Cart Name: Ms. Pac-Man (1982) (CCE)\n",
      "  Cart MD5:  9469d18238345d87768e8965f9f4a6b2\n",
      "  Display Format:  AUTO-DETECT ==> NTSC\n",
      "  ROM Size:        8192\n",
      "  Bankswitch Type: AUTO-DETECT ==> F8\n",
      "\n",
      "\n",
      "WARNING: Possibly unsupported ROM: mismatched MD5.\n",
      "Cartridge_MD5: 9469d18238345d87768e8965f9f4a6b2\n",
      "Cartridge_name: Ms. Pac-Man (1982) (CCE)\n",
      "\n",
      "Running ROM file...\n",
      "Random seed is 0\n"
     ]
    }
   ],
   "source": [
    "for i in 2:5\n",
    "    x, R, P = step(x, objective)\n",
    "    append!(es_fits, R)\n",
    "    if maximum(R) > best_fit\n",
    "        best_fit = maximum(R)\n",
    "        best_ind .= P[argmax(R), :]\n",
    "    end\n",
    "    println(best_fit, length(es_fits))\n",
    "end"
   ]
  },
  {
   "cell_type": "markdown",
   "metadata": {
    "slideshow": {
     "slide_type": "slide"
    }
   },
   "source": [
    "Once that's done, let's see how our best individual does"
   ]
  },
  {
   "cell_type": "code",
   "execution_count": 128,
   "metadata": {
    "slideshow": {
     "slide_type": "fragment"
    }
   },
   "outputs": [
    {
     "name": "stderr",
     "output_type": "stream",
     "text": [
      "Game console created:\n",
      "  ROM file:  /home/d9w/.julia/packages/ArcadeLearningEnvironment/YJh2g/src/../deps/roms/ms_pacman.bin\n",
      "  Cart Name: Ms. Pac-Man (1982) (CCE)\n",
      "  Cart MD5:  9469d18238345d87768e8965f9f4a6b2\n",
      "  Display Format:  AUTO-DETECT ==> NTSC\n",
      "  ROM Size:        8192\n",
      "  Bankswitch Type: AUTO-DETECT ==> F8\n",
      "\n",
      "\n",
      "WARNING: Possibly unsupported ROM: mismatched MD5.\n",
      "Cartridge_MD5: 9469d18238345d87768e8965f9f4a6b2\n",
      "Cartridge_name: Ms. Pac-Man (1982) (CCE)\n",
      "\n",
      "Running ROM file...\n",
      "Random seed is 0\n"
     ]
    },
    {
     "data": {
      "text/plain": [
       "(210, Frames{MIME{Symbol(\"image/png\")}}(\"/tmp/jl_Xf73QS\", 0x0000000000000126, 6.0, nothing))"
      ]
     },
     "execution_count": 128,
     "metadata": {},
     "output_type": "execute_result"
    }
   ],
   "source": [
    "model = set_weights(best_ind)\n",
    "total_reward, frames = play_atari(model, render=true)"
   ]
  },
  {
   "cell_type": "code",
   "execution_count": 129,
   "metadata": {
    "slideshow": {
     "slide_type": "slide"
    }
   },
   "outputs": [
    {
     "data": {
      "text/html": [
       "<img src=\"files/reel-8841249249341703205.gif?13817612232722430901\" />"
      ],
      "text/plain": [
       "Frames{MIME{Symbol(\"image/png\")}}(\"/tmp/jl_Xf73QS\", 0x0000000000000126, 6.0, nothing)"
      ]
     },
     "execution_count": 129,
     "metadata": {},
     "output_type": "execute_result"
    }
   ],
   "source": [
    "frames"
   ]
  },
  {
   "cell_type": "markdown",
   "metadata": {
    "slideshow": {
     "slide_type": "slide"
    }
   },
   "source": [
    "# <a id=\"comparison\"></a> Comparison"
   ]
  },
  {
   "cell_type": "markdown",
   "metadata": {
    "slideshow": {
     "slide_type": "fragment"
    }
   },
   "source": [
    "Now that we have run two different evolutionary methods, we can compare them. Let's look at all 100 evaluations for both method."
   ]
  },
  {
   "cell_type": "code",
   "execution_count": 130,
   "metadata": {
    "slideshow": {
     "slide_type": "slide"
    }
   },
   "outputs": [],
   "source": [
    "using Plots"
   ]
  },
  {
   "cell_type": "code",
   "execution_count": 131,
   "metadata": {
    "slideshow": {
     "slide_type": "fragment"
    }
   },
   "outputs": [
    {
     "data": {
      "image/svg+xml": [
       "<?xml version=\"1.0\" encoding=\"utf-8\"?>\n",
       "<svg xmlns=\"http://www.w3.org/2000/svg\" xmlns:xlink=\"http://www.w3.org/1999/xlink\" width=\"600\" height=\"400\" viewBox=\"0 0 2400 1600\">\n",
       "<defs>\n",
       "  <clipPath id=\"clip5600\">\n",
       "    <rect x=\"0\" y=\"0\" width=\"2400\" height=\"1600\"/>\n",
       "  </clipPath>\n",
       "</defs>\n",
       "<path clip-path=\"url(#clip5600)\" d=\"\n",
       "M0 1600 L2400 1600 L2400 0 L0 0  Z\n",
       "  \" fill=\"#ffffff\" fill-rule=\"evenodd\" fill-opacity=\"1\"/>\n",
       "<defs>\n",
       "  <clipPath id=\"clip5601\">\n",
       "    <rect x=\"480\" y=\"0\" width=\"1681\" height=\"1600\"/>\n",
       "  </clipPath>\n",
       "</defs>\n",
       "<path clip-path=\"url(#clip5600)\" d=\"\n",
       "M188.612 1486.45 L2352.76 1486.45 L2352.76 47.2441 L188.612 47.2441  Z\n",
       "  \" fill=\"#ffffff\" fill-rule=\"evenodd\" fill-opacity=\"1\"/>\n",
       "<defs>\n",
       "  <clipPath id=\"clip5602\">\n",
       "    <rect x=\"188\" y=\"47\" width=\"2165\" height=\"1440\"/>\n",
       "  </clipPath>\n",
       "</defs>\n",
       "<polyline clip-path=\"url(#clip5602)\" style=\"stroke:#000000; stroke-width:2; stroke-opacity:0.1; fill:none\" points=\"\n",
       "  229.239,1486.45 229.239,47.2441 \n",
       "  \"/>\n",
       "<polyline clip-path=\"url(#clip5602)\" style=\"stroke:#000000; stroke-width:2; stroke-opacity:0.1; fill:none\" points=\"\n",
       "  744.806,1486.45 744.806,47.2441 \n",
       "  \"/>\n",
       "<polyline clip-path=\"url(#clip5602)\" style=\"stroke:#000000; stroke-width:2; stroke-opacity:0.1; fill:none\" points=\"\n",
       "  1260.37,1486.45 1260.37,47.2441 \n",
       "  \"/>\n",
       "<polyline clip-path=\"url(#clip5602)\" style=\"stroke:#000000; stroke-width:2; stroke-opacity:0.1; fill:none\" points=\"\n",
       "  1775.94,1486.45 1775.94,47.2441 \n",
       "  \"/>\n",
       "<polyline clip-path=\"url(#clip5602)\" style=\"stroke:#000000; stroke-width:2; stroke-opacity:0.1; fill:none\" points=\"\n",
       "  2291.51,1486.45 2291.51,47.2441 \n",
       "  \"/>\n",
       "<polyline clip-path=\"url(#clip5602)\" style=\"stroke:#000000; stroke-width:2; stroke-opacity:0.1; fill:none\" points=\"\n",
       "  188.612,1245.63 2352.76,1245.63 \n",
       "  \"/>\n",
       "<polyline clip-path=\"url(#clip5602)\" style=\"stroke:#000000; stroke-width:2; stroke-opacity:0.1; fill:none\" points=\"\n",
       "  188.612,959.788 2352.76,959.788 \n",
       "  \"/>\n",
       "<polyline clip-path=\"url(#clip5602)\" style=\"stroke:#000000; stroke-width:2; stroke-opacity:0.1; fill:none\" points=\"\n",
       "  188.612,673.948 2352.76,673.948 \n",
       "  \"/>\n",
       "<polyline clip-path=\"url(#clip5602)\" style=\"stroke:#000000; stroke-width:2; stroke-opacity:0.1; fill:none\" points=\"\n",
       "  188.612,388.108 2352.76,388.108 \n",
       "  \"/>\n",
       "<polyline clip-path=\"url(#clip5602)\" style=\"stroke:#000000; stroke-width:2; stroke-opacity:0.1; fill:none\" points=\"\n",
       "  188.612,102.268 2352.76,102.268 \n",
       "  \"/>\n",
       "<polyline clip-path=\"url(#clip5600)\" style=\"stroke:#000000; stroke-width:4; stroke-opacity:1; fill:none\" points=\"\n",
       "  188.612,1486.45 2352.76,1486.45 \n",
       "  \"/>\n",
       "<polyline clip-path=\"url(#clip5600)\" style=\"stroke:#000000; stroke-width:4; stroke-opacity:1; fill:none\" points=\"\n",
       "  188.612,1486.45 188.612,47.2441 \n",
       "  \"/>\n",
       "<polyline clip-path=\"url(#clip5600)\" style=\"stroke:#000000; stroke-width:4; stroke-opacity:1; fill:none\" points=\"\n",
       "  229.239,1486.45 229.239,1469.18 \n",
       "  \"/>\n",
       "<polyline clip-path=\"url(#clip5600)\" style=\"stroke:#000000; stroke-width:4; stroke-opacity:1; fill:none\" points=\"\n",
       "  744.806,1486.45 744.806,1469.18 \n",
       "  \"/>\n",
       "<polyline clip-path=\"url(#clip5600)\" style=\"stroke:#000000; stroke-width:4; stroke-opacity:1; fill:none\" points=\"\n",
       "  1260.37,1486.45 1260.37,1469.18 \n",
       "  \"/>\n",
       "<polyline clip-path=\"url(#clip5600)\" style=\"stroke:#000000; stroke-width:4; stroke-opacity:1; fill:none\" points=\"\n",
       "  1775.94,1486.45 1775.94,1469.18 \n",
       "  \"/>\n",
       "<polyline clip-path=\"url(#clip5600)\" style=\"stroke:#000000; stroke-width:4; stroke-opacity:1; fill:none\" points=\"\n",
       "  2291.51,1486.45 2291.51,1469.18 \n",
       "  \"/>\n",
       "<polyline clip-path=\"url(#clip5600)\" style=\"stroke:#000000; stroke-width:4; stroke-opacity:1; fill:none\" points=\"\n",
       "  188.612,1245.63 214.582,1245.63 \n",
       "  \"/>\n",
       "<polyline clip-path=\"url(#clip5600)\" style=\"stroke:#000000; stroke-width:4; stroke-opacity:1; fill:none\" points=\"\n",
       "  188.612,959.788 214.582,959.788 \n",
       "  \"/>\n",
       "<polyline clip-path=\"url(#clip5600)\" style=\"stroke:#000000; stroke-width:4; stroke-opacity:1; fill:none\" points=\"\n",
       "  188.612,673.948 214.582,673.948 \n",
       "  \"/>\n",
       "<polyline clip-path=\"url(#clip5600)\" style=\"stroke:#000000; stroke-width:4; stroke-opacity:1; fill:none\" points=\"\n",
       "  188.612,388.108 214.582,388.108 \n",
       "  \"/>\n",
       "<polyline clip-path=\"url(#clip5600)\" style=\"stroke:#000000; stroke-width:4; stroke-opacity:1; fill:none\" points=\"\n",
       "  188.612,102.268 214.582,102.268 \n",
       "  \"/>\n",
       "<path clip-path=\"url(#clip5600)\" d=\"M 0 0 M229.239 1508.44 Q225.628 1508.44 223.799 1512 Q221.993 1515.55 221.993 1522.67 Q221.993 1529.78 223.799 1533.35 Q225.628 1536.89 229.239 1536.89 Q232.873 1536.89 234.678 1533.35 Q236.507 1529.78 236.507 1522.67 Q236.507 1515.55 234.678 1512 Q232.873 1508.44 229.239 1508.44 M229.239 1504.73 Q235.049 1504.73 238.104 1509.34 Q241.183 1513.92 241.183 1522.67 Q241.183 1531.4 238.104 1536.01 Q235.049 1540.59 229.239 1540.59 Q223.428 1540.59 220.35 1536.01 Q217.294 1531.4 217.294 1522.67 Q217.294 1513.92 220.35 1509.34 Q223.428 1504.73 229.239 1504.73 Z\" fill=\"#000000\" fill-rule=\"evenodd\" fill-opacity=\"1\" /><path clip-path=\"url(#clip5600)\" d=\"M 0 0 M726.449 1535.98 L742.769 1535.98 L742.769 1539.92 L720.824 1539.92 L720.824 1535.98 Q723.486 1533.23 728.07 1528.6 Q732.676 1523.95 733.857 1522.61 Q736.102 1520.08 736.982 1518.35 Q737.884 1516.59 737.884 1514.9 Q737.884 1512.14 735.94 1510.41 Q734.019 1508.67 730.917 1508.67 Q728.718 1508.67 726.264 1509.43 Q723.833 1510.2 721.056 1511.75 L721.056 1507.03 Q723.88 1505.89 726.333 1505.31 Q728.787 1504.73 730.824 1504.73 Q736.195 1504.73 739.389 1507.42 Q742.583 1510.11 742.583 1514.6 Q742.583 1516.73 741.773 1518.65 Q740.986 1520.54 738.88 1523.14 Q738.301 1523.81 735.199 1527.03 Q732.097 1530.22 726.449 1535.98 Z\" fill=\"#000000\" fill-rule=\"evenodd\" fill-opacity=\"1\" /><path clip-path=\"url(#clip5600)\" d=\"M 0 0 M747.884 1505.36 L766.241 1505.36 L766.241 1509.3 L752.167 1509.3 L752.167 1517.77 Q753.185 1517.42 754.204 1517.26 Q755.222 1517.07 756.241 1517.07 Q762.028 1517.07 765.407 1520.24 Q768.787 1523.42 768.787 1528.83 Q768.787 1534.41 765.315 1537.51 Q761.843 1540.59 755.523 1540.59 Q753.347 1540.59 751.079 1540.22 Q748.833 1539.85 746.426 1539.11 L746.426 1534.41 Q748.509 1535.54 750.732 1536.1 Q752.954 1536.66 755.431 1536.66 Q759.435 1536.66 761.773 1534.55 Q764.111 1532.44 764.111 1528.83 Q764.111 1525.22 761.773 1523.11 Q759.435 1521.01 755.431 1521.01 Q753.556 1521.01 751.681 1521.42 Q749.829 1521.84 747.884 1522.72 L747.884 1505.36 Z\" fill=\"#000000\" fill-rule=\"evenodd\" fill-opacity=\"1\" /><path clip-path=\"url(#clip5600)\" d=\"M 0 0 M1237.14 1505.36 L1255.5 1505.36 L1255.5 1509.3 L1241.43 1509.3 L1241.43 1517.77 Q1242.44 1517.42 1243.46 1517.26 Q1244.48 1517.07 1245.5 1517.07 Q1251.29 1517.07 1254.67 1520.24 Q1258.05 1523.42 1258.05 1528.83 Q1258.05 1534.41 1254.57 1537.51 Q1251.1 1540.59 1244.78 1540.59 Q1242.61 1540.59 1240.34 1540.22 Q1238.09 1539.85 1235.69 1539.11 L1235.69 1534.41 Q1237.77 1535.54 1239.99 1536.1 Q1242.21 1536.66 1244.69 1536.66 Q1248.69 1536.66 1251.03 1534.55 Q1253.37 1532.44 1253.37 1528.83 Q1253.37 1525.22 1251.03 1523.11 Q1248.69 1521.01 1244.69 1521.01 Q1242.81 1521.01 1240.94 1521.42 Q1239.09 1521.84 1237.14 1522.72 L1237.14 1505.36 Z\" fill=\"#000000\" fill-rule=\"evenodd\" fill-opacity=\"1\" /><path clip-path=\"url(#clip5600)\" d=\"M 0 0 M1273.12 1508.44 Q1269.5 1508.44 1267.68 1512 Q1265.87 1515.55 1265.87 1522.67 Q1265.87 1529.78 1267.68 1533.35 Q1269.5 1536.89 1273.12 1536.89 Q1276.75 1536.89 1278.56 1533.35 Q1280.38 1529.78 1280.38 1522.67 Q1280.38 1515.55 1278.56 1512 Q1276.75 1508.44 1273.12 1508.44 M1273.12 1504.73 Q1278.93 1504.73 1281.98 1509.34 Q1285.06 1513.92 1285.06 1522.67 Q1285.06 1531.4 1281.98 1536.01 Q1278.93 1540.59 1273.12 1540.59 Q1267.31 1540.59 1264.23 1536.01 Q1261.17 1531.4 1261.17 1522.67 Q1261.17 1513.92 1264.23 1509.34 Q1267.31 1504.73 1273.12 1504.73 Z\" fill=\"#000000\" fill-rule=\"evenodd\" fill-opacity=\"1\" /><path clip-path=\"url(#clip5600)\" d=\"M 0 0 M1751.82 1505.36 L1774.04 1505.36 L1774.04 1507.35 L1761.5 1539.92 L1756.61 1539.92 L1768.42 1509.3 L1751.82 1509.3 L1751.82 1505.36 Z\" fill=\"#000000\" fill-rule=\"evenodd\" fill-opacity=\"1\" /><path clip-path=\"url(#clip5600)\" d=\"M 0 0 M1779.16 1505.36 L1797.51 1505.36 L1797.51 1509.3 L1783.44 1509.3 L1783.44 1517.77 Q1784.46 1517.42 1785.48 1517.26 Q1786.5 1517.07 1787.51 1517.07 Q1793.3 1517.07 1796.68 1520.24 Q1800.06 1523.42 1800.06 1528.83 Q1800.06 1534.41 1796.59 1537.51 Q1793.12 1540.59 1786.8 1540.59 Q1784.62 1540.59 1782.35 1540.22 Q1780.11 1539.85 1777.7 1539.11 L1777.7 1534.41 Q1779.78 1535.54 1782 1536.1 Q1784.23 1536.66 1786.7 1536.66 Q1790.71 1536.66 1793.05 1534.55 Q1795.38 1532.44 1795.38 1528.83 Q1795.38 1525.22 1793.05 1523.11 Q1790.71 1521.01 1786.7 1521.01 Q1784.83 1521.01 1782.95 1521.42 Q1781.1 1521.84 1779.16 1522.72 L1779.16 1505.36 Z\" fill=\"#000000\" fill-rule=\"evenodd\" fill-opacity=\"1\" /><path clip-path=\"url(#clip5600)\" d=\"M 0 0 M2254.87 1535.98 L2262.51 1535.98 L2262.51 1509.62 L2254.2 1511.29 L2254.2 1507.03 L2262.47 1505.36 L2267.14 1505.36 L2267.14 1535.98 L2274.78 1535.98 L2274.78 1539.92 L2254.87 1539.92 L2254.87 1535.98 Z\" fill=\"#000000\" fill-rule=\"evenodd\" fill-opacity=\"1\" /><path clip-path=\"url(#clip5600)\" d=\"M 0 0 M2289.85 1508.44 Q2286.24 1508.44 2284.41 1512 Q2282.61 1515.55 2282.61 1522.67 Q2282.61 1529.78 2284.41 1533.35 Q2286.24 1536.89 2289.85 1536.89 Q2293.49 1536.89 2295.29 1533.35 Q2297.12 1529.78 2297.12 1522.67 Q2297.12 1515.55 2295.29 1512 Q2293.49 1508.44 2289.85 1508.44 M2289.85 1504.73 Q2295.66 1504.73 2298.72 1509.34 Q2301.8 1513.92 2301.8 1522.67 Q2301.8 1531.4 2298.72 1536.01 Q2295.66 1540.59 2289.85 1540.59 Q2284.04 1540.59 2280.96 1536.01 Q2277.91 1531.4 2277.91 1522.67 Q2277.91 1513.92 2280.96 1509.34 Q2284.04 1504.73 2289.85 1504.73 Z\" fill=\"#000000\" fill-rule=\"evenodd\" fill-opacity=\"1\" /><path clip-path=\"url(#clip5600)\" d=\"M 0 0 M2316.87 1508.44 Q2313.25 1508.44 2311.43 1512 Q2309.62 1515.55 2309.62 1522.67 Q2309.62 1529.78 2311.43 1533.35 Q2313.25 1536.89 2316.87 1536.89 Q2320.5 1536.89 2322.3 1533.35 Q2324.13 1529.78 2324.13 1522.67 Q2324.13 1515.55 2322.3 1512 Q2320.5 1508.44 2316.87 1508.44 M2316.87 1504.73 Q2322.68 1504.73 2325.73 1509.34 Q2328.81 1513.92 2328.81 1522.67 Q2328.81 1531.4 2325.73 1536.01 Q2322.68 1540.59 2316.87 1540.59 Q2311.06 1540.59 2307.98 1536.01 Q2304.92 1531.4 2304.92 1522.67 Q2304.92 1513.92 2307.98 1509.34 Q2311.06 1504.73 2316.87 1504.73 Z\" fill=\"#000000\" fill-rule=\"evenodd\" fill-opacity=\"1\" /><path clip-path=\"url(#clip5600)\" d=\"M 0 0 M94.2651 1258.97 L110.584 1258.97 L110.584 1262.91 L88.6401 1262.91 L88.6401 1258.97 Q91.3022 1256.22 95.8855 1251.59 Q100.492 1246.94 101.672 1245.59 Q103.918 1243.07 104.797 1241.33 Q105.7 1239.57 105.7 1237.88 Q105.7 1235.13 103.756 1233.39 Q101.835 1231.66 98.7327 1231.66 Q96.5336 1231.66 94.0799 1232.42 Q91.6494 1233.19 88.8716 1234.74 L88.8716 1230.01 Q91.6957 1228.88 94.1494 1228.3 Q96.6031 1227.72 98.6401 1227.72 Q104.01 1227.72 107.205 1230.41 Q110.399 1233.09 110.399 1237.58 Q110.399 1239.71 109.589 1241.63 Q108.802 1243.53 106.696 1246.13 Q106.117 1246.8 103.015 1250.01 Q99.9132 1253.21 94.2651 1258.97 Z\" fill=\"#000000\" fill-rule=\"evenodd\" fill-opacity=\"1\" /><path clip-path=\"url(#clip5600)\" d=\"M 0 0 M125.654 1231.43 Q122.043 1231.43 120.214 1234.99 Q118.408 1238.53 118.408 1245.66 Q118.408 1252.77 120.214 1256.33 Q122.043 1259.88 125.654 1259.88 Q129.288 1259.88 131.094 1256.33 Q132.922 1252.77 132.922 1245.66 Q132.922 1238.53 131.094 1234.99 Q129.288 1231.43 125.654 1231.43 M125.654 1227.72 Q131.464 1227.72 134.52 1232.33 Q137.598 1236.91 137.598 1245.66 Q137.598 1254.39 134.52 1259 Q131.464 1263.58 125.654 1263.58 Q119.844 1263.58 116.765 1259 Q113.709 1254.39 113.709 1245.66 Q113.709 1236.91 116.765 1232.33 Q119.844 1227.72 125.654 1227.72 Z\" fill=\"#000000\" fill-rule=\"evenodd\" fill-opacity=\"1\" /><path clip-path=\"url(#clip5600)\" d=\"M 0 0 M152.668 1231.43 Q149.056 1231.43 147.228 1234.99 Q145.422 1238.53 145.422 1245.66 Q145.422 1252.77 147.228 1256.33 Q149.056 1259.88 152.668 1259.88 Q156.302 1259.88 158.107 1256.33 Q159.936 1252.77 159.936 1245.66 Q159.936 1238.53 158.107 1234.99 Q156.302 1231.43 152.668 1231.43 M152.668 1227.72 Q158.478 1227.72 161.533 1232.33 Q164.612 1236.91 164.612 1245.66 Q164.612 1254.39 161.533 1259 Q158.478 1263.58 152.668 1263.58 Q146.857 1263.58 143.779 1259 Q140.723 1254.39 140.723 1245.66 Q140.723 1236.91 143.779 1232.33 Q146.857 1227.72 152.668 1227.72 Z\" fill=\"#000000\" fill-rule=\"evenodd\" fill-opacity=\"1\" /><path clip-path=\"url(#clip5600)\" d=\"M 0 0 M101.001 946.582 L89.1957 965.031 L101.001 965.031 L101.001 946.582 M99.7743 942.508 L105.654 942.508 L105.654 965.031 L110.584 965.031 L110.584 968.92 L105.654 968.92 L105.654 977.068 L101.001 977.068 L101.001 968.92 L85.3994 968.92 L85.3994 964.406 L99.7743 942.508 Z\" fill=\"#000000\" fill-rule=\"evenodd\" fill-opacity=\"1\" /><path clip-path=\"url(#clip5600)\" d=\"M 0 0 M125.654 945.587 Q122.043 945.587 120.214 949.151 Q118.408 952.693 118.408 959.823 Q118.408 966.929 120.214 970.494 Q122.043 974.036 125.654 974.036 Q129.288 974.036 131.094 970.494 Q132.922 966.929 132.922 959.823 Q132.922 952.693 131.094 949.151 Q129.288 945.587 125.654 945.587 M125.654 941.883 Q131.464 941.883 134.52 946.489 Q137.598 951.073 137.598 959.823 Q137.598 968.549 134.52 973.156 Q131.464 977.739 125.654 977.739 Q119.844 977.739 116.765 973.156 Q113.709 968.549 113.709 959.823 Q113.709 951.073 116.765 946.489 Q119.844 941.883 125.654 941.883 Z\" fill=\"#000000\" fill-rule=\"evenodd\" fill-opacity=\"1\" /><path clip-path=\"url(#clip5600)\" d=\"M 0 0 M152.668 945.587 Q149.056 945.587 147.228 949.151 Q145.422 952.693 145.422 959.823 Q145.422 966.929 147.228 970.494 Q149.056 974.036 152.668 974.036 Q156.302 974.036 158.107 970.494 Q159.936 966.929 159.936 959.823 Q159.936 952.693 158.107 949.151 Q156.302 945.587 152.668 945.587 M152.668 941.883 Q158.478 941.883 161.533 946.489 Q164.612 951.073 164.612 959.823 Q164.612 968.549 161.533 973.156 Q158.478 977.739 152.668 977.739 Q146.857 977.739 143.779 973.156 Q140.723 968.549 140.723 959.823 Q140.723 951.073 143.779 946.489 Q146.857 941.883 152.668 941.883 Z\" fill=\"#000000\" fill-rule=\"evenodd\" fill-opacity=\"1\" /><path clip-path=\"url(#clip5600)\" d=\"M 0 0 M99.0567 672.085 Q95.9086 672.085 94.0568 674.237 Q92.2281 676.39 92.2281 680.14 Q92.2281 683.867 94.0568 686.043 Q95.9086 688.196 99.0567 688.196 Q102.205 688.196 104.034 686.043 Q105.885 683.867 105.885 680.14 Q105.885 676.39 104.034 674.237 Q102.205 672.085 99.0567 672.085 M108.339 657.432 L108.339 661.691 Q106.58 660.858 104.774 660.418 Q102.992 659.978 101.233 659.978 Q96.6031 659.978 94.1494 663.103 Q91.7188 666.228 91.3716 672.548 Q92.7373 670.534 94.7975 669.469 Q96.8577 668.381 99.3345 668.381 Q104.543 668.381 107.552 671.552 Q110.584 674.7 110.584 680.14 Q110.584 685.464 107.436 688.682 Q104.288 691.899 99.0567 691.899 Q93.0614 691.899 89.8901 687.316 Q86.7189 682.71 86.7189 673.983 Q86.7189 665.788 90.6077 660.927 Q94.4966 656.043 101.047 656.043 Q102.807 656.043 104.589 656.39 Q106.395 656.737 108.339 657.432 Z\" fill=\"#000000\" fill-rule=\"evenodd\" fill-opacity=\"1\" /><path clip-path=\"url(#clip5600)\" d=\"M 0 0 M125.654 659.747 Q122.043 659.747 120.214 663.312 Q118.408 666.853 118.408 673.983 Q118.408 681.089 120.214 684.654 Q122.043 688.196 125.654 688.196 Q129.288 688.196 131.094 684.654 Q132.922 681.089 132.922 673.983 Q132.922 666.853 131.094 663.312 Q129.288 659.747 125.654 659.747 M125.654 656.043 Q131.464 656.043 134.52 660.649 Q137.598 665.233 137.598 673.983 Q137.598 682.71 134.52 687.316 Q131.464 691.899 125.654 691.899 Q119.844 691.899 116.765 687.316 Q113.709 682.71 113.709 673.983 Q113.709 665.233 116.765 660.649 Q119.844 656.043 125.654 656.043 Z\" fill=\"#000000\" fill-rule=\"evenodd\" fill-opacity=\"1\" /><path clip-path=\"url(#clip5600)\" d=\"M 0 0 M152.668 659.747 Q149.056 659.747 147.228 663.312 Q145.422 666.853 145.422 673.983 Q145.422 681.089 147.228 684.654 Q149.056 688.196 152.668 688.196 Q156.302 688.196 158.107 684.654 Q159.936 681.089 159.936 673.983 Q159.936 666.853 158.107 663.312 Q156.302 659.747 152.668 659.747 M152.668 656.043 Q158.478 656.043 161.533 660.649 Q164.612 665.233 164.612 673.983 Q164.612 682.71 161.533 687.316 Q158.478 691.899 152.668 691.899 Q146.857 691.899 143.779 687.316 Q140.723 682.71 140.723 673.983 Q140.723 665.233 143.779 660.649 Q146.857 656.043 152.668 656.043 Z\" fill=\"#000000\" fill-rule=\"evenodd\" fill-opacity=\"1\" /><path clip-path=\"url(#clip5600)\" d=\"M 0 0 M98.7327 388.976 Q95.3994 388.976 93.4781 390.759 Q91.5799 392.541 91.5799 395.666 Q91.5799 398.791 93.4781 400.573 Q95.3994 402.356 98.7327 402.356 Q102.066 402.356 103.987 400.573 Q105.909 398.768 105.909 395.666 Q105.909 392.541 103.987 390.759 Q102.089 388.976 98.7327 388.976 M94.0568 386.985 Q91.0475 386.245 89.3577 384.185 Q87.6911 382.124 87.6911 379.161 Q87.6911 375.018 90.6309 372.611 Q93.5938 370.203 98.7327 370.203 Q103.895 370.203 106.834 372.611 Q109.774 375.018 109.774 379.161 Q109.774 382.124 108.084 384.185 Q106.418 386.245 103.432 386.985 Q106.811 387.773 108.686 390.064 Q110.584 392.356 110.584 395.666 Q110.584 400.689 107.506 403.374 Q104.45 406.059 98.7327 406.059 Q93.0151 406.059 89.9364 403.374 Q86.8809 400.689 86.8809 395.666 Q86.8809 392.356 88.779 390.064 Q90.6772 387.773 94.0568 386.985 M92.3438 379.601 Q92.3438 382.286 94.0105 383.791 Q95.7003 385.296 98.7327 385.296 Q101.742 385.296 103.432 383.791 Q105.145 382.286 105.145 379.601 Q105.145 376.916 103.432 375.411 Q101.742 373.907 98.7327 373.907 Q95.7003 373.907 94.0105 375.411 Q92.3438 376.916 92.3438 379.601 Z\" fill=\"#000000\" fill-rule=\"evenodd\" fill-opacity=\"1\" /><path clip-path=\"url(#clip5600)\" d=\"M 0 0 M125.654 373.907 Q122.043 373.907 120.214 377.472 Q118.408 381.013 118.408 388.143 Q118.408 395.249 120.214 398.814 Q122.043 402.356 125.654 402.356 Q129.288 402.356 131.094 398.814 Q132.922 395.249 132.922 388.143 Q132.922 381.013 131.094 377.472 Q129.288 373.907 125.654 373.907 M125.654 370.203 Q131.464 370.203 134.52 374.81 Q137.598 379.393 137.598 388.143 Q137.598 396.87 134.52 401.476 Q131.464 406.059 125.654 406.059 Q119.844 406.059 116.765 401.476 Q113.709 396.87 113.709 388.143 Q113.709 379.393 116.765 374.81 Q119.844 370.203 125.654 370.203 Z\" fill=\"#000000\" fill-rule=\"evenodd\" fill-opacity=\"1\" /><path clip-path=\"url(#clip5600)\" d=\"M 0 0 M152.668 373.907 Q149.056 373.907 147.228 377.472 Q145.422 381.013 145.422 388.143 Q145.422 395.249 147.228 398.814 Q149.056 402.356 152.668 402.356 Q156.302 402.356 158.107 398.814 Q159.936 395.249 159.936 388.143 Q159.936 381.013 158.107 377.472 Q156.302 373.907 152.668 373.907 M152.668 370.203 Q158.478 370.203 161.533 374.81 Q164.612 379.393 164.612 388.143 Q164.612 396.87 161.533 401.476 Q158.478 406.059 152.668 406.059 Q146.857 406.059 143.779 401.476 Q140.723 396.87 140.723 388.143 Q140.723 379.393 143.779 374.81 Q146.857 370.203 152.668 370.203 Z\" fill=\"#000000\" fill-rule=\"evenodd\" fill-opacity=\"1\" /><path clip-path=\"url(#clip5600)\" d=\"M 0 0 M63.6634 115.613 L71.3023 115.613 L71.3023 89.2475 L62.9921 90.9142 L62.9921 86.6549 L71.256 84.9883 L75.9319 84.9883 L75.9319 115.613 L83.5707 115.613 L83.5707 119.548 L63.6634 119.548 L63.6634 115.613 Z\" fill=\"#000000\" fill-rule=\"evenodd\" fill-opacity=\"1\" /><path clip-path=\"url(#clip5600)\" d=\"M 0 0 M98.6401 88.067 Q95.029 88.067 93.2003 91.6318 Q91.3948 95.1734 91.3948 102.303 Q91.3948 109.409 93.2003 112.974 Q95.029 116.516 98.6401 116.516 Q102.274 116.516 104.08 112.974 Q105.909 109.409 105.909 102.303 Q105.909 95.1734 104.08 91.6318 Q102.274 88.067 98.6401 88.067 M98.6401 84.3633 Q104.45 84.3633 107.506 88.9697 Q110.584 93.553 110.584 102.303 Q110.584 111.03 107.506 115.636 Q104.45 120.22 98.6401 120.22 Q92.8299 120.22 89.7512 115.636 Q86.6957 111.03 86.6957 102.303 Q86.6957 93.553 89.7512 88.9697 Q92.8299 84.3633 98.6401 84.3633 Z\" fill=\"#000000\" fill-rule=\"evenodd\" fill-opacity=\"1\" /><path clip-path=\"url(#clip5600)\" d=\"M 0 0 M125.654 88.067 Q122.043 88.067 120.214 91.6318 Q118.408 95.1734 118.408 102.303 Q118.408 109.409 120.214 112.974 Q122.043 116.516 125.654 116.516 Q129.288 116.516 131.094 112.974 Q132.922 109.409 132.922 102.303 Q132.922 95.1734 131.094 91.6318 Q129.288 88.067 125.654 88.067 M125.654 84.3633 Q131.464 84.3633 134.52 88.9697 Q137.598 93.553 137.598 102.303 Q137.598 111.03 134.52 115.636 Q131.464 120.22 125.654 120.22 Q119.844 120.22 116.765 115.636 Q113.709 111.03 113.709 102.303 Q113.709 93.553 116.765 88.9697 Q119.844 84.3633 125.654 84.3633 Z\" fill=\"#000000\" fill-rule=\"evenodd\" fill-opacity=\"1\" /><path clip-path=\"url(#clip5600)\" d=\"M 0 0 M152.668 88.067 Q149.056 88.067 147.228 91.6318 Q145.422 95.1734 145.422 102.303 Q145.422 109.409 147.228 112.974 Q149.056 116.516 152.668 116.516 Q156.302 116.516 158.107 112.974 Q159.936 109.409 159.936 102.303 Q159.936 95.1734 158.107 91.6318 Q156.302 88.067 152.668 88.067 M152.668 84.3633 Q158.478 84.3633 161.533 88.9697 Q164.612 93.553 164.612 102.303 Q164.612 111.03 161.533 115.636 Q158.478 120.22 152.668 120.22 Q146.857 120.22 143.779 115.636 Q140.723 111.03 140.723 102.303 Q140.723 93.553 143.779 88.9697 Q146.857 84.3633 152.668 84.3633 Z\" fill=\"#000000\" fill-rule=\"evenodd\" fill-opacity=\"1\" /><polyline clip-path=\"url(#clip5602)\" style=\"stroke:#009af9; stroke-width:4; stroke-opacity:1; fill:none\" points=\"\n",
       "  249.861,1445.72 270.484,1231.34 291.107,1402.84 311.729,1445.72 332.352,1274.21 352.975,1231.34 373.597,1074.12 394.22,1445.72 414.843,102.268 435.465,816.868 \n",
       "  456.088,102.268 476.711,1445.72 497.333,1445.72 517.956,1445.72 538.579,1016.96 559.201,102.268 579.824,1345.67 600.447,1431.42 621.07,1259.92 641.692,1431.42 \n",
       "  662.315,102.268 682.938,1231.34 703.56,1431.42 724.183,1445.72 744.806,1431.42 765.428,102.268 786.051,1431.42 806.674,1231.34 827.296,102.268 847.919,1402.84 \n",
       "  868.542,102.268 889.164,1431.42 909.787,1445.72 930.41,788.284 951.032,102.268 971.655,102.268 992.278,1202.75 1012.9,1231.34 1033.52,1202.75 1054.15,1445.72 \n",
       "  1074.77,102.268 1095.39,1431.42 1116.01,1088.42 1136.64,1431.42 1157.26,102.268 1177.88,102.268 1198.5,1231.34 1219.13,1402.84 1239.75,1074.12 1260.37,102.268 \n",
       "  1281,102.268 1301.62,1431.42 1322.24,102.268 1342.86,1445.72 1363.49,1345.67 1384.11,102.268 1404.73,1231.34 1425.35,688.24 1445.98,1431.42 1466.6,1431.42 \n",
       "  1487.22,102.268 1507.84,87.9763 1528.47,1188.46 1549.09,1431.42 1569.71,1431.42 1590.34,87.9763 1610.96,1431.42 1631.58,1431.42 1652.2,1202.75 1672.83,1231.34 \n",
       "  1693.45,87.9763 1714.07,1431.42 1734.69,87.9763 1755.32,1359.96 1775.94,1288.5 1796.56,87.9763 1817.18,1431.42 1837.81,1231.34 1858.43,87.9763 1879.05,1431.42 \n",
       "  1899.68,87.9763 1920.3,1402.84 1940.92,1231.34 1961.54,1231.34 1982.17,1431.42 2002.79,87.9763 2023.41,1445.72 2044.03,87.9763 2064.66,1402.84 2085.28,1431.42 \n",
       "  2105.9,87.9763 2126.53,87.9763 2147.15,1231.34 2167.77,1445.72 2188.39,1431.42 2209.02,87.9763 2229.64,87.9763 2250.26,1445.72 2270.88,1445.72 2291.51,1431.42 \n",
       "  \n",
       "  \"/>\n",
       "<polyline clip-path=\"url(#clip5602)\" style=\"stroke:#e26f46; stroke-width:4; stroke-opacity:1; fill:none\" points=\"\n",
       "  249.861,1445.72 270.484,1231.34 291.107,1402.84 311.729,1431.42 332.352,1402.84 352.975,1445.72 373.597,1402.84 394.22,1431.42 414.843,1402.84 435.465,1231.34 \n",
       "  456.088,1231.34 476.711,1445.72 497.333,1445.72 517.956,1231.34 538.579,1402.84 559.201,1231.34 579.824,1445.72 600.447,1431.42 621.07,1402.84 641.692,1445.72 \n",
       "  662.315,1431.42 682.938,1402.84 703.56,1431.42 724.183,1431.42 744.806,1402.84 765.428,1445.72 786.051,1445.72 806.674,1445.72 827.296,1231.34 847.919,1402.84 \n",
       "  868.542,1402.84 889.164,1402.84 909.787,1431.42 930.41,1402.84 951.032,1231.34 971.655,1231.34 992.278,1402.84 1012.9,1402.84 1033.52,1402.84 1054.15,1431.42 \n",
       "  1074.77,1402.84 1095.39,1402.84 1116.01,1431.42 1136.64,1402.84 1157.26,1402.84 1177.88,1402.84 1198.5,1402.84 1219.13,1231.34 1239.75,1231.34 1260.37,1402.84 \n",
       "  1281,1402.84 1301.62,1445.72 1322.24,1431.42 1342.86,1231.34 1363.49,1402.84 1384.11,1231.34 1404.73,1402.84 1425.35,1402.84 1445.98,1445.72 1466.6,1402.84 \n",
       "  1487.22,1402.84 1507.84,1231.34 1528.47,1231.34 1549.09,1445.72 1569.71,1231.34 1590.34,1445.72 1610.96,1445.72 1631.58,1231.34 1652.2,1431.42 1672.83,1231.34 \n",
       "  1693.45,1231.34 1714.07,1231.34 1734.69,1231.34 1755.32,1231.34 1775.94,1445.72 1796.56,1231.34 1817.18,1231.34 1837.81,1402.84 1858.43,1231.34 1879.05,1231.34 \n",
       "  1899.68,1231.34 1920.3,1259.92 1940.92,1402.84 1961.54,1231.34 1982.17,1431.42 2002.79,1231.34 2023.41,1445.72 2044.03,1231.34 2064.66,1231.34 2085.28,1431.42 \n",
       "  2105.9,1402.84 2126.53,1431.42 2147.15,1231.34 2167.77,1445.72 2188.39,1231.34 2209.02,1231.34 2229.64,1231.34 2250.26,1402.84 2270.88,1402.84 2291.51,1231.34 \n",
       "  \n",
       "  \"/>\n",
       "<path clip-path=\"url(#clip5600)\" d=\"\n",
       "M1953.07 312.204 L2280.76 312.204 L2280.76 130.764 L1953.07 130.764  Z\n",
       "  \" fill=\"#ffffff\" fill-rule=\"evenodd\" fill-opacity=\"1\"/>\n",
       "<polyline clip-path=\"url(#clip5600)\" style=\"stroke:#000000; stroke-width:4; stroke-opacity:1; fill:none\" points=\"\n",
       "  1953.07,312.204 2280.76,312.204 2280.76,130.764 1953.07,130.764 1953.07,312.204 \n",
       "  \"/>\n",
       "<polyline clip-path=\"url(#clip5600)\" style=\"stroke:#009af9; stroke-width:4; stroke-opacity:1; fill:none\" points=\"\n",
       "  1977.07,191.244 2121.07,191.244 \n",
       "  \"/>\n",
       "<path clip-path=\"url(#clip5600)\" d=\"M 0 0 M2172.94 176.626 L2172.94 181.557 Q2170.58 179.358 2167.9 178.27 Q2165.23 177.182 2162.22 177.182 Q2156.3 177.182 2153.15 180.816 Q2150 184.427 2150 191.279 Q2150 198.107 2153.15 201.742 Q2156.3 205.353 2162.22 205.353 Q2165.23 205.353 2167.9 204.265 Q2170.58 203.177 2172.94 200.978 L2172.94 205.862 Q2170.49 207.529 2167.73 208.362 Q2165 209.195 2161.95 209.195 Q2154.1 209.195 2149.59 204.404 Q2145.07 199.589 2145.07 191.279 Q2145.07 182.946 2149.59 178.154 Q2154.1 173.339 2161.95 173.339 Q2165.05 173.339 2167.78 174.172 Q2170.53 174.983 2172.94 176.626 Z\" fill=\"#000000\" fill-rule=\"evenodd\" fill-opacity=\"1\" /><path clip-path=\"url(#clip5600)\" d=\"M 0 0 M2201.16 203.594 L2201.16 194.311 L2193.52 194.311 L2193.52 190.469 L2205.79 190.469 L2205.79 205.307 Q2203.08 207.228 2199.82 208.223 Q2196.55 209.195 2192.85 209.195 Q2184.75 209.195 2180.16 204.473 Q2175.6 199.728 2175.6 191.279 Q2175.6 182.807 2180.16 178.084 Q2184.75 173.339 2192.85 173.339 Q2196.23 173.339 2199.26 174.172 Q2202.32 175.006 2204.89 176.626 L2204.89 181.603 Q2202.29 179.404 2199.38 178.293 Q2196.46 177.182 2193.24 177.182 Q2186.9 177.182 2183.71 180.723 Q2180.53 184.265 2180.53 191.279 Q2180.53 198.27 2183.71 201.811 Q2186.9 205.353 2193.24 205.353 Q2195.72 205.353 2197.66 204.936 Q2199.61 204.496 2201.16 203.594 Z\" fill=\"#000000\" fill-rule=\"evenodd\" fill-opacity=\"1\" /><path clip-path=\"url(#clip5600)\" d=\"M 0 0 M2215.12 177.807 L2215.12 190.793 L2221 190.793 Q2224.26 190.793 2226.04 189.103 Q2227.83 187.413 2227.83 184.288 Q2227.83 181.186 2226.04 179.496 Q2224.26 177.807 2221 177.807 L2215.12 177.807 M2210.44 173.964 L2221 173.964 Q2226.81 173.964 2229.77 176.603 Q2232.76 179.219 2232.76 184.288 Q2232.76 189.404 2229.77 192.02 Q2226.81 194.635 2221 194.635 L2215.12 194.635 L2215.12 208.524 L2210.44 208.524 L2210.44 173.964 Z\" fill=\"#000000\" fill-rule=\"evenodd\" fill-opacity=\"1\" /><polyline clip-path=\"url(#clip5600)\" style=\"stroke:#e26f46; stroke-width:4; stroke-opacity:1; fill:none\" points=\"\n",
       "  1977.07,251.724 2121.07,251.724 \n",
       "  \"/>\n",
       "<path clip-path=\"url(#clip5600)\" d=\"M 0 0 M2145.07 234.444 L2166.92 234.444 L2166.92 238.379 L2149.75 238.379 L2149.75 248.611 L2166.21 248.611 L2166.21 252.546 L2149.75 252.546 L2149.75 265.069 L2167.34 265.069 L2167.34 269.004 L2145.07 269.004 L2145.07 234.444 Z\" fill=\"#000000\" fill-rule=\"evenodd\" fill-opacity=\"1\" /><path clip-path=\"url(#clip5600)\" d=\"M 0 0 M2192.71 235.578 L2192.71 240.139 Q2190.05 238.865 2187.69 238.24 Q2185.33 237.615 2183.13 237.615 Q2179.31 237.615 2177.22 239.097 Q2175.16 240.578 2175.16 243.31 Q2175.16 245.601 2176.53 246.782 Q2177.92 247.939 2181.76 248.657 L2184.58 249.236 Q2189.82 250.231 2192.29 252.754 Q2194.79 255.254 2194.79 259.467 Q2194.79 264.49 2191.41 267.083 Q2188.06 269.675 2181.55 269.675 Q2179.1 269.675 2176.32 269.12 Q2173.57 268.564 2170.6 267.476 L2170.6 262.662 Q2173.45 264.259 2176.18 265.069 Q2178.91 265.879 2181.55 265.879 Q2185.56 265.879 2187.73 264.305 Q2189.91 262.731 2189.91 259.814 Q2189.91 257.268 2188.33 255.833 Q2186.78 254.398 2183.22 253.68 L2180.37 253.125 Q2175.14 252.083 2172.8 249.861 Q2170.46 247.638 2170.46 243.68 Q2170.46 239.097 2173.68 236.458 Q2176.92 233.819 2182.59 233.819 Q2185.02 233.819 2187.55 234.259 Q2190.07 234.699 2192.71 235.578 Z\" fill=\"#000000\" fill-rule=\"evenodd\" fill-opacity=\"1\" /></svg>\n"
      ]
     },
     "execution_count": 131,
     "metadata": {},
     "output_type": "execute_result"
    }
   ],
   "source": [
    "plot(cgp_fits, label=\"CGP\")\n",
    "plot!(es_fits, label=\"ES\")"
   ]
  },
  {
   "cell_type": "markdown",
   "metadata": {
    "slideshow": {
     "slide_type": "slide"
    }
   },
   "source": [
    "Seeing each individual evaluation is useful for understanding our optimization behavior. For example, with CGP, we can note that once it finds a good performing individual, it will test many other individuals which appear to have exactly the same behavior. Furthermore, most CGP mutations greatly decrease the overall fitness, bringing it down to the random action baseline of 60 or 70."
   ]
  },
  {
   "cell_type": "markdown",
   "metadata": {
    "slideshow": {
     "slide_type": "fragment"
    }
   },
   "source": [
    "For the neuroevolutionary strategy, we see that it doesn't build well off of previously observed individuals, with many sampled individuals at the random baseline. While the center of the genes is moving along the approximated gradient, the points sampled are chosen randomly and could have very low fitness values."
   ]
  },
  {
   "cell_type": "markdown",
   "metadata": {
    "slideshow": {
     "slide_type": "fragment"
    }
   },
   "source": [
    "These sort of insights are useful for improving evolutionary methods. Finally, to better compare the two methods, we'll look at only the maximum fitness found over the entire evolution."
   ]
  },
  {
   "cell_type": "code",
   "execution_count": 132,
   "metadata": {
    "slideshow": {
     "slide_type": "slide"
    }
   },
   "outputs": [
    {
     "data": {
      "image/svg+xml": [
       "<?xml version=\"1.0\" encoding=\"utf-8\"?>\n",
       "<svg xmlns=\"http://www.w3.org/2000/svg\" xmlns:xlink=\"http://www.w3.org/1999/xlink\" width=\"600\" height=\"400\" viewBox=\"0 0 2400 1600\">\n",
       "<defs>\n",
       "  <clipPath id=\"clip6000\">\n",
       "    <rect x=\"0\" y=\"0\" width=\"2400\" height=\"1600\"/>\n",
       "  </clipPath>\n",
       "</defs>\n",
       "<path clip-path=\"url(#clip6000)\" d=\"\n",
       "M0 1600 L2400 1600 L2400 0 L0 0  Z\n",
       "  \" fill=\"#ffffff\" fill-rule=\"evenodd\" fill-opacity=\"1\"/>\n",
       "<defs>\n",
       "  <clipPath id=\"clip6001\">\n",
       "    <rect x=\"480\" y=\"0\" width=\"1681\" height=\"1600\"/>\n",
       "  </clipPath>\n",
       "</defs>\n",
       "<path clip-path=\"url(#clip6000)\" d=\"\n",
       "M188.612 1486.45 L2352.76 1486.45 L2352.76 47.2441 L188.612 47.2441  Z\n",
       "  \" fill=\"#ffffff\" fill-rule=\"evenodd\" fill-opacity=\"1\"/>\n",
       "<defs>\n",
       "  <clipPath id=\"clip6002\">\n",
       "    <rect x=\"188\" y=\"47\" width=\"2165\" height=\"1440\"/>\n",
       "  </clipPath>\n",
       "</defs>\n",
       "<polyline clip-path=\"url(#clip6002)\" style=\"stroke:#000000; stroke-width:2; stroke-opacity:0.1; fill:none\" points=\"\n",
       "  229.239,1486.45 229.239,47.2441 \n",
       "  \"/>\n",
       "<polyline clip-path=\"url(#clip6002)\" style=\"stroke:#000000; stroke-width:2; stroke-opacity:0.1; fill:none\" points=\"\n",
       "  744.806,1486.45 744.806,47.2441 \n",
       "  \"/>\n",
       "<polyline clip-path=\"url(#clip6002)\" style=\"stroke:#000000; stroke-width:2; stroke-opacity:0.1; fill:none\" points=\"\n",
       "  1260.37,1486.45 1260.37,47.2441 \n",
       "  \"/>\n",
       "<polyline clip-path=\"url(#clip6002)\" style=\"stroke:#000000; stroke-width:2; stroke-opacity:0.1; fill:none\" points=\"\n",
       "  1775.94,1486.45 1775.94,47.2441 \n",
       "  \"/>\n",
       "<polyline clip-path=\"url(#clip6002)\" style=\"stroke:#000000; stroke-width:2; stroke-opacity:0.1; fill:none\" points=\"\n",
       "  2291.51,1486.45 2291.51,47.2441 \n",
       "  \"/>\n",
       "<polyline clip-path=\"url(#clip6002)\" style=\"stroke:#000000; stroke-width:2; stroke-opacity:0.1; fill:none\" points=\"\n",
       "  188.612,1245.63 2352.76,1245.63 \n",
       "  \"/>\n",
       "<polyline clip-path=\"url(#clip6002)\" style=\"stroke:#000000; stroke-width:2; stroke-opacity:0.1; fill:none\" points=\"\n",
       "  188.612,959.788 2352.76,959.788 \n",
       "  \"/>\n",
       "<polyline clip-path=\"url(#clip6002)\" style=\"stroke:#000000; stroke-width:2; stroke-opacity:0.1; fill:none\" points=\"\n",
       "  188.612,673.948 2352.76,673.948 \n",
       "  \"/>\n",
       "<polyline clip-path=\"url(#clip6002)\" style=\"stroke:#000000; stroke-width:2; stroke-opacity:0.1; fill:none\" points=\"\n",
       "  188.612,388.108 2352.76,388.108 \n",
       "  \"/>\n",
       "<polyline clip-path=\"url(#clip6002)\" style=\"stroke:#000000; stroke-width:2; stroke-opacity:0.1; fill:none\" points=\"\n",
       "  188.612,102.268 2352.76,102.268 \n",
       "  \"/>\n",
       "<polyline clip-path=\"url(#clip6000)\" style=\"stroke:#000000; stroke-width:4; stroke-opacity:1; fill:none\" points=\"\n",
       "  188.612,1486.45 2352.76,1486.45 \n",
       "  \"/>\n",
       "<polyline clip-path=\"url(#clip6000)\" style=\"stroke:#000000; stroke-width:4; stroke-opacity:1; fill:none\" points=\"\n",
       "  188.612,1486.45 188.612,47.2441 \n",
       "  \"/>\n",
       "<polyline clip-path=\"url(#clip6000)\" style=\"stroke:#000000; stroke-width:4; stroke-opacity:1; fill:none\" points=\"\n",
       "  229.239,1486.45 229.239,1469.18 \n",
       "  \"/>\n",
       "<polyline clip-path=\"url(#clip6000)\" style=\"stroke:#000000; stroke-width:4; stroke-opacity:1; fill:none\" points=\"\n",
       "  744.806,1486.45 744.806,1469.18 \n",
       "  \"/>\n",
       "<polyline clip-path=\"url(#clip6000)\" style=\"stroke:#000000; stroke-width:4; stroke-opacity:1; fill:none\" points=\"\n",
       "  1260.37,1486.45 1260.37,1469.18 \n",
       "  \"/>\n",
       "<polyline clip-path=\"url(#clip6000)\" style=\"stroke:#000000; stroke-width:4; stroke-opacity:1; fill:none\" points=\"\n",
       "  1775.94,1486.45 1775.94,1469.18 \n",
       "  \"/>\n",
       "<polyline clip-path=\"url(#clip6000)\" style=\"stroke:#000000; stroke-width:4; stroke-opacity:1; fill:none\" points=\"\n",
       "  2291.51,1486.45 2291.51,1469.18 \n",
       "  \"/>\n",
       "<polyline clip-path=\"url(#clip6000)\" style=\"stroke:#000000; stroke-width:4; stroke-opacity:1; fill:none\" points=\"\n",
       "  188.612,1245.63 214.582,1245.63 \n",
       "  \"/>\n",
       "<polyline clip-path=\"url(#clip6000)\" style=\"stroke:#000000; stroke-width:4; stroke-opacity:1; fill:none\" points=\"\n",
       "  188.612,959.788 214.582,959.788 \n",
       "  \"/>\n",
       "<polyline clip-path=\"url(#clip6000)\" style=\"stroke:#000000; stroke-width:4; stroke-opacity:1; fill:none\" points=\"\n",
       "  188.612,673.948 214.582,673.948 \n",
       "  \"/>\n",
       "<polyline clip-path=\"url(#clip6000)\" style=\"stroke:#000000; stroke-width:4; stroke-opacity:1; fill:none\" points=\"\n",
       "  188.612,388.108 214.582,388.108 \n",
       "  \"/>\n",
       "<polyline clip-path=\"url(#clip6000)\" style=\"stroke:#000000; stroke-width:4; stroke-opacity:1; fill:none\" points=\"\n",
       "  188.612,102.268 214.582,102.268 \n",
       "  \"/>\n",
       "<path clip-path=\"url(#clip6000)\" d=\"M 0 0 M229.239 1508.44 Q225.628 1508.44 223.799 1512 Q221.993 1515.55 221.993 1522.67 Q221.993 1529.78 223.799 1533.35 Q225.628 1536.89 229.239 1536.89 Q232.873 1536.89 234.678 1533.35 Q236.507 1529.78 236.507 1522.67 Q236.507 1515.55 234.678 1512 Q232.873 1508.44 229.239 1508.44 M229.239 1504.73 Q235.049 1504.73 238.104 1509.34 Q241.183 1513.92 241.183 1522.67 Q241.183 1531.4 238.104 1536.01 Q235.049 1540.59 229.239 1540.59 Q223.428 1540.59 220.35 1536.01 Q217.294 1531.4 217.294 1522.67 Q217.294 1513.92 220.35 1509.34 Q223.428 1504.73 229.239 1504.73 Z\" fill=\"#000000\" fill-rule=\"evenodd\" fill-opacity=\"1\" /><path clip-path=\"url(#clip6000)\" d=\"M 0 0 M726.449 1535.98 L742.769 1535.98 L742.769 1539.92 L720.824 1539.92 L720.824 1535.98 Q723.486 1533.23 728.07 1528.6 Q732.676 1523.95 733.857 1522.61 Q736.102 1520.08 736.982 1518.35 Q737.884 1516.59 737.884 1514.9 Q737.884 1512.14 735.94 1510.41 Q734.019 1508.67 730.917 1508.67 Q728.718 1508.67 726.264 1509.43 Q723.833 1510.2 721.056 1511.75 L721.056 1507.03 Q723.88 1505.89 726.333 1505.31 Q728.787 1504.73 730.824 1504.73 Q736.195 1504.73 739.389 1507.42 Q742.583 1510.11 742.583 1514.6 Q742.583 1516.73 741.773 1518.65 Q740.986 1520.54 738.88 1523.14 Q738.301 1523.81 735.199 1527.03 Q732.097 1530.22 726.449 1535.98 Z\" fill=\"#000000\" fill-rule=\"evenodd\" fill-opacity=\"1\" /><path clip-path=\"url(#clip6000)\" d=\"M 0 0 M747.884 1505.36 L766.241 1505.36 L766.241 1509.3 L752.167 1509.3 L752.167 1517.77 Q753.185 1517.42 754.204 1517.26 Q755.222 1517.07 756.241 1517.07 Q762.028 1517.07 765.407 1520.24 Q768.787 1523.42 768.787 1528.83 Q768.787 1534.41 765.315 1537.51 Q761.843 1540.59 755.523 1540.59 Q753.347 1540.59 751.079 1540.22 Q748.833 1539.85 746.426 1539.11 L746.426 1534.41 Q748.509 1535.54 750.732 1536.1 Q752.954 1536.66 755.431 1536.66 Q759.435 1536.66 761.773 1534.55 Q764.111 1532.44 764.111 1528.83 Q764.111 1525.22 761.773 1523.11 Q759.435 1521.01 755.431 1521.01 Q753.556 1521.01 751.681 1521.42 Q749.829 1521.84 747.884 1522.72 L747.884 1505.36 Z\" fill=\"#000000\" fill-rule=\"evenodd\" fill-opacity=\"1\" /><path clip-path=\"url(#clip6000)\" d=\"M 0 0 M1237.14 1505.36 L1255.5 1505.36 L1255.5 1509.3 L1241.43 1509.3 L1241.43 1517.77 Q1242.44 1517.42 1243.46 1517.26 Q1244.48 1517.07 1245.5 1517.07 Q1251.29 1517.07 1254.67 1520.24 Q1258.05 1523.42 1258.05 1528.83 Q1258.05 1534.41 1254.57 1537.51 Q1251.1 1540.59 1244.78 1540.59 Q1242.61 1540.59 1240.34 1540.22 Q1238.09 1539.85 1235.69 1539.11 L1235.69 1534.41 Q1237.77 1535.54 1239.99 1536.1 Q1242.21 1536.66 1244.69 1536.66 Q1248.69 1536.66 1251.03 1534.55 Q1253.37 1532.44 1253.37 1528.83 Q1253.37 1525.22 1251.03 1523.11 Q1248.69 1521.01 1244.69 1521.01 Q1242.81 1521.01 1240.94 1521.42 Q1239.09 1521.84 1237.14 1522.72 L1237.14 1505.36 Z\" fill=\"#000000\" fill-rule=\"evenodd\" fill-opacity=\"1\" /><path clip-path=\"url(#clip6000)\" d=\"M 0 0 M1273.12 1508.44 Q1269.5 1508.44 1267.68 1512 Q1265.87 1515.55 1265.87 1522.67 Q1265.87 1529.78 1267.68 1533.35 Q1269.5 1536.89 1273.12 1536.89 Q1276.75 1536.89 1278.56 1533.35 Q1280.38 1529.78 1280.38 1522.67 Q1280.38 1515.55 1278.56 1512 Q1276.75 1508.44 1273.12 1508.44 M1273.12 1504.73 Q1278.93 1504.73 1281.98 1509.34 Q1285.06 1513.92 1285.06 1522.67 Q1285.06 1531.4 1281.98 1536.01 Q1278.93 1540.59 1273.12 1540.59 Q1267.31 1540.59 1264.23 1536.01 Q1261.17 1531.4 1261.17 1522.67 Q1261.17 1513.92 1264.23 1509.34 Q1267.31 1504.73 1273.12 1504.73 Z\" fill=\"#000000\" fill-rule=\"evenodd\" fill-opacity=\"1\" /><path clip-path=\"url(#clip6000)\" d=\"M 0 0 M1751.82 1505.36 L1774.04 1505.36 L1774.04 1507.35 L1761.5 1539.92 L1756.61 1539.92 L1768.42 1509.3 L1751.82 1509.3 L1751.82 1505.36 Z\" fill=\"#000000\" fill-rule=\"evenodd\" fill-opacity=\"1\" /><path clip-path=\"url(#clip6000)\" d=\"M 0 0 M1779.16 1505.36 L1797.51 1505.36 L1797.51 1509.3 L1783.44 1509.3 L1783.44 1517.77 Q1784.46 1517.42 1785.48 1517.26 Q1786.5 1517.07 1787.51 1517.07 Q1793.3 1517.07 1796.68 1520.24 Q1800.06 1523.42 1800.06 1528.83 Q1800.06 1534.41 1796.59 1537.51 Q1793.12 1540.59 1786.8 1540.59 Q1784.62 1540.59 1782.35 1540.22 Q1780.11 1539.85 1777.7 1539.11 L1777.7 1534.41 Q1779.78 1535.54 1782 1536.1 Q1784.23 1536.66 1786.7 1536.66 Q1790.71 1536.66 1793.05 1534.55 Q1795.38 1532.44 1795.38 1528.83 Q1795.38 1525.22 1793.05 1523.11 Q1790.71 1521.01 1786.7 1521.01 Q1784.83 1521.01 1782.95 1521.42 Q1781.1 1521.84 1779.16 1522.72 L1779.16 1505.36 Z\" fill=\"#000000\" fill-rule=\"evenodd\" fill-opacity=\"1\" /><path clip-path=\"url(#clip6000)\" d=\"M 0 0 M2254.87 1535.98 L2262.51 1535.98 L2262.51 1509.62 L2254.2 1511.29 L2254.2 1507.03 L2262.47 1505.36 L2267.14 1505.36 L2267.14 1535.98 L2274.78 1535.98 L2274.78 1539.92 L2254.87 1539.92 L2254.87 1535.98 Z\" fill=\"#000000\" fill-rule=\"evenodd\" fill-opacity=\"1\" /><path clip-path=\"url(#clip6000)\" d=\"M 0 0 M2289.85 1508.44 Q2286.24 1508.44 2284.41 1512 Q2282.61 1515.55 2282.61 1522.67 Q2282.61 1529.78 2284.41 1533.35 Q2286.24 1536.89 2289.85 1536.89 Q2293.49 1536.89 2295.29 1533.35 Q2297.12 1529.78 2297.12 1522.67 Q2297.12 1515.55 2295.29 1512 Q2293.49 1508.44 2289.85 1508.44 M2289.85 1504.73 Q2295.66 1504.73 2298.72 1509.34 Q2301.8 1513.92 2301.8 1522.67 Q2301.8 1531.4 2298.72 1536.01 Q2295.66 1540.59 2289.85 1540.59 Q2284.04 1540.59 2280.96 1536.01 Q2277.91 1531.4 2277.91 1522.67 Q2277.91 1513.92 2280.96 1509.34 Q2284.04 1504.73 2289.85 1504.73 Z\" fill=\"#000000\" fill-rule=\"evenodd\" fill-opacity=\"1\" /><path clip-path=\"url(#clip6000)\" d=\"M 0 0 M2316.87 1508.44 Q2313.25 1508.44 2311.43 1512 Q2309.62 1515.55 2309.62 1522.67 Q2309.62 1529.78 2311.43 1533.35 Q2313.25 1536.89 2316.87 1536.89 Q2320.5 1536.89 2322.3 1533.35 Q2324.13 1529.78 2324.13 1522.67 Q2324.13 1515.55 2322.3 1512 Q2320.5 1508.44 2316.87 1508.44 M2316.87 1504.73 Q2322.68 1504.73 2325.73 1509.34 Q2328.81 1513.92 2328.81 1522.67 Q2328.81 1531.4 2325.73 1536.01 Q2322.68 1540.59 2316.87 1540.59 Q2311.06 1540.59 2307.98 1536.01 Q2304.92 1531.4 2304.92 1522.67 Q2304.92 1513.92 2307.98 1509.34 Q2311.06 1504.73 2316.87 1504.73 Z\" fill=\"#000000\" fill-rule=\"evenodd\" fill-opacity=\"1\" /><path clip-path=\"url(#clip6000)\" d=\"M 0 0 M94.2651 1258.97 L110.584 1258.97 L110.584 1262.91 L88.6401 1262.91 L88.6401 1258.97 Q91.3022 1256.22 95.8855 1251.59 Q100.492 1246.94 101.672 1245.59 Q103.918 1243.07 104.797 1241.33 Q105.7 1239.57 105.7 1237.88 Q105.7 1235.13 103.756 1233.39 Q101.835 1231.66 98.7327 1231.66 Q96.5336 1231.66 94.0799 1232.42 Q91.6494 1233.19 88.8716 1234.74 L88.8716 1230.01 Q91.6957 1228.88 94.1494 1228.3 Q96.6031 1227.72 98.6401 1227.72 Q104.01 1227.72 107.205 1230.41 Q110.399 1233.09 110.399 1237.58 Q110.399 1239.71 109.589 1241.63 Q108.802 1243.53 106.696 1246.13 Q106.117 1246.8 103.015 1250.01 Q99.9132 1253.21 94.2651 1258.97 Z\" fill=\"#000000\" fill-rule=\"evenodd\" fill-opacity=\"1\" /><path clip-path=\"url(#clip6000)\" d=\"M 0 0 M125.654 1231.43 Q122.043 1231.43 120.214 1234.99 Q118.408 1238.53 118.408 1245.66 Q118.408 1252.77 120.214 1256.33 Q122.043 1259.88 125.654 1259.88 Q129.288 1259.88 131.094 1256.33 Q132.922 1252.77 132.922 1245.66 Q132.922 1238.53 131.094 1234.99 Q129.288 1231.43 125.654 1231.43 M125.654 1227.72 Q131.464 1227.72 134.52 1232.33 Q137.598 1236.91 137.598 1245.66 Q137.598 1254.39 134.52 1259 Q131.464 1263.58 125.654 1263.58 Q119.844 1263.58 116.765 1259 Q113.709 1254.39 113.709 1245.66 Q113.709 1236.91 116.765 1232.33 Q119.844 1227.72 125.654 1227.72 Z\" fill=\"#000000\" fill-rule=\"evenodd\" fill-opacity=\"1\" /><path clip-path=\"url(#clip6000)\" d=\"M 0 0 M152.668 1231.43 Q149.056 1231.43 147.228 1234.99 Q145.422 1238.53 145.422 1245.66 Q145.422 1252.77 147.228 1256.33 Q149.056 1259.88 152.668 1259.88 Q156.302 1259.88 158.107 1256.33 Q159.936 1252.77 159.936 1245.66 Q159.936 1238.53 158.107 1234.99 Q156.302 1231.43 152.668 1231.43 M152.668 1227.72 Q158.478 1227.72 161.533 1232.33 Q164.612 1236.91 164.612 1245.66 Q164.612 1254.39 161.533 1259 Q158.478 1263.58 152.668 1263.58 Q146.857 1263.58 143.779 1259 Q140.723 1254.39 140.723 1245.66 Q140.723 1236.91 143.779 1232.33 Q146.857 1227.72 152.668 1227.72 Z\" fill=\"#000000\" fill-rule=\"evenodd\" fill-opacity=\"1\" /><path clip-path=\"url(#clip6000)\" d=\"M 0 0 M101.001 946.582 L89.1957 965.031 L101.001 965.031 L101.001 946.582 M99.7743 942.508 L105.654 942.508 L105.654 965.031 L110.584 965.031 L110.584 968.92 L105.654 968.92 L105.654 977.068 L101.001 977.068 L101.001 968.92 L85.3994 968.92 L85.3994 964.406 L99.7743 942.508 Z\" fill=\"#000000\" fill-rule=\"evenodd\" fill-opacity=\"1\" /><path clip-path=\"url(#clip6000)\" d=\"M 0 0 M125.654 945.587 Q122.043 945.587 120.214 949.151 Q118.408 952.693 118.408 959.823 Q118.408 966.929 120.214 970.494 Q122.043 974.036 125.654 974.036 Q129.288 974.036 131.094 970.494 Q132.922 966.929 132.922 959.823 Q132.922 952.693 131.094 949.151 Q129.288 945.587 125.654 945.587 M125.654 941.883 Q131.464 941.883 134.52 946.489 Q137.598 951.073 137.598 959.823 Q137.598 968.549 134.52 973.156 Q131.464 977.739 125.654 977.739 Q119.844 977.739 116.765 973.156 Q113.709 968.549 113.709 959.823 Q113.709 951.073 116.765 946.489 Q119.844 941.883 125.654 941.883 Z\" fill=\"#000000\" fill-rule=\"evenodd\" fill-opacity=\"1\" /><path clip-path=\"url(#clip6000)\" d=\"M 0 0 M152.668 945.587 Q149.056 945.587 147.228 949.151 Q145.422 952.693 145.422 959.823 Q145.422 966.929 147.228 970.494 Q149.056 974.036 152.668 974.036 Q156.302 974.036 158.107 970.494 Q159.936 966.929 159.936 959.823 Q159.936 952.693 158.107 949.151 Q156.302 945.587 152.668 945.587 M152.668 941.883 Q158.478 941.883 161.533 946.489 Q164.612 951.073 164.612 959.823 Q164.612 968.549 161.533 973.156 Q158.478 977.739 152.668 977.739 Q146.857 977.739 143.779 973.156 Q140.723 968.549 140.723 959.823 Q140.723 951.073 143.779 946.489 Q146.857 941.883 152.668 941.883 Z\" fill=\"#000000\" fill-rule=\"evenodd\" fill-opacity=\"1\" /><path clip-path=\"url(#clip6000)\" d=\"M 0 0 M99.0567 672.085 Q95.9086 672.085 94.0568 674.237 Q92.2281 676.39 92.2281 680.14 Q92.2281 683.867 94.0568 686.043 Q95.9086 688.196 99.0567 688.196 Q102.205 688.196 104.034 686.043 Q105.885 683.867 105.885 680.14 Q105.885 676.39 104.034 674.237 Q102.205 672.085 99.0567 672.085 M108.339 657.432 L108.339 661.691 Q106.58 660.858 104.774 660.418 Q102.992 659.978 101.233 659.978 Q96.6031 659.978 94.1494 663.103 Q91.7188 666.228 91.3716 672.548 Q92.7373 670.534 94.7975 669.469 Q96.8577 668.381 99.3345 668.381 Q104.543 668.381 107.552 671.552 Q110.584 674.7 110.584 680.14 Q110.584 685.464 107.436 688.682 Q104.288 691.899 99.0567 691.899 Q93.0614 691.899 89.8901 687.316 Q86.7189 682.71 86.7189 673.983 Q86.7189 665.788 90.6077 660.927 Q94.4966 656.043 101.047 656.043 Q102.807 656.043 104.589 656.39 Q106.395 656.737 108.339 657.432 Z\" fill=\"#000000\" fill-rule=\"evenodd\" fill-opacity=\"1\" /><path clip-path=\"url(#clip6000)\" d=\"M 0 0 M125.654 659.747 Q122.043 659.747 120.214 663.312 Q118.408 666.853 118.408 673.983 Q118.408 681.089 120.214 684.654 Q122.043 688.196 125.654 688.196 Q129.288 688.196 131.094 684.654 Q132.922 681.089 132.922 673.983 Q132.922 666.853 131.094 663.312 Q129.288 659.747 125.654 659.747 M125.654 656.043 Q131.464 656.043 134.52 660.649 Q137.598 665.233 137.598 673.983 Q137.598 682.71 134.52 687.316 Q131.464 691.899 125.654 691.899 Q119.844 691.899 116.765 687.316 Q113.709 682.71 113.709 673.983 Q113.709 665.233 116.765 660.649 Q119.844 656.043 125.654 656.043 Z\" fill=\"#000000\" fill-rule=\"evenodd\" fill-opacity=\"1\" /><path clip-path=\"url(#clip6000)\" d=\"M 0 0 M152.668 659.747 Q149.056 659.747 147.228 663.312 Q145.422 666.853 145.422 673.983 Q145.422 681.089 147.228 684.654 Q149.056 688.196 152.668 688.196 Q156.302 688.196 158.107 684.654 Q159.936 681.089 159.936 673.983 Q159.936 666.853 158.107 663.312 Q156.302 659.747 152.668 659.747 M152.668 656.043 Q158.478 656.043 161.533 660.649 Q164.612 665.233 164.612 673.983 Q164.612 682.71 161.533 687.316 Q158.478 691.899 152.668 691.899 Q146.857 691.899 143.779 687.316 Q140.723 682.71 140.723 673.983 Q140.723 665.233 143.779 660.649 Q146.857 656.043 152.668 656.043 Z\" fill=\"#000000\" fill-rule=\"evenodd\" fill-opacity=\"1\" /><path clip-path=\"url(#clip6000)\" d=\"M 0 0 M98.7327 388.976 Q95.3994 388.976 93.4781 390.759 Q91.5799 392.541 91.5799 395.666 Q91.5799 398.791 93.4781 400.573 Q95.3994 402.356 98.7327 402.356 Q102.066 402.356 103.987 400.573 Q105.909 398.768 105.909 395.666 Q105.909 392.541 103.987 390.759 Q102.089 388.976 98.7327 388.976 M94.0568 386.985 Q91.0475 386.245 89.3577 384.185 Q87.6911 382.124 87.6911 379.161 Q87.6911 375.018 90.6309 372.611 Q93.5938 370.203 98.7327 370.203 Q103.895 370.203 106.834 372.611 Q109.774 375.018 109.774 379.161 Q109.774 382.124 108.084 384.185 Q106.418 386.245 103.432 386.985 Q106.811 387.773 108.686 390.064 Q110.584 392.356 110.584 395.666 Q110.584 400.689 107.506 403.374 Q104.45 406.059 98.7327 406.059 Q93.0151 406.059 89.9364 403.374 Q86.8809 400.689 86.8809 395.666 Q86.8809 392.356 88.779 390.064 Q90.6772 387.773 94.0568 386.985 M92.3438 379.601 Q92.3438 382.286 94.0105 383.791 Q95.7003 385.296 98.7327 385.296 Q101.742 385.296 103.432 383.791 Q105.145 382.286 105.145 379.601 Q105.145 376.916 103.432 375.411 Q101.742 373.907 98.7327 373.907 Q95.7003 373.907 94.0105 375.411 Q92.3438 376.916 92.3438 379.601 Z\" fill=\"#000000\" fill-rule=\"evenodd\" fill-opacity=\"1\" /><path clip-path=\"url(#clip6000)\" d=\"M 0 0 M125.654 373.907 Q122.043 373.907 120.214 377.472 Q118.408 381.013 118.408 388.143 Q118.408 395.249 120.214 398.814 Q122.043 402.356 125.654 402.356 Q129.288 402.356 131.094 398.814 Q132.922 395.249 132.922 388.143 Q132.922 381.013 131.094 377.472 Q129.288 373.907 125.654 373.907 M125.654 370.203 Q131.464 370.203 134.52 374.81 Q137.598 379.393 137.598 388.143 Q137.598 396.87 134.52 401.476 Q131.464 406.059 125.654 406.059 Q119.844 406.059 116.765 401.476 Q113.709 396.87 113.709 388.143 Q113.709 379.393 116.765 374.81 Q119.844 370.203 125.654 370.203 Z\" fill=\"#000000\" fill-rule=\"evenodd\" fill-opacity=\"1\" /><path clip-path=\"url(#clip6000)\" d=\"M 0 0 M152.668 373.907 Q149.056 373.907 147.228 377.472 Q145.422 381.013 145.422 388.143 Q145.422 395.249 147.228 398.814 Q149.056 402.356 152.668 402.356 Q156.302 402.356 158.107 398.814 Q159.936 395.249 159.936 388.143 Q159.936 381.013 158.107 377.472 Q156.302 373.907 152.668 373.907 M152.668 370.203 Q158.478 370.203 161.533 374.81 Q164.612 379.393 164.612 388.143 Q164.612 396.87 161.533 401.476 Q158.478 406.059 152.668 406.059 Q146.857 406.059 143.779 401.476 Q140.723 396.87 140.723 388.143 Q140.723 379.393 143.779 374.81 Q146.857 370.203 152.668 370.203 Z\" fill=\"#000000\" fill-rule=\"evenodd\" fill-opacity=\"1\" /><path clip-path=\"url(#clip6000)\" d=\"M 0 0 M63.6634 115.613 L71.3023 115.613 L71.3023 89.2475 L62.9921 90.9142 L62.9921 86.6549 L71.256 84.9883 L75.9319 84.9883 L75.9319 115.613 L83.5707 115.613 L83.5707 119.548 L63.6634 119.548 L63.6634 115.613 Z\" fill=\"#000000\" fill-rule=\"evenodd\" fill-opacity=\"1\" /><path clip-path=\"url(#clip6000)\" d=\"M 0 0 M98.6401 88.067 Q95.029 88.067 93.2003 91.6318 Q91.3948 95.1734 91.3948 102.303 Q91.3948 109.409 93.2003 112.974 Q95.029 116.516 98.6401 116.516 Q102.274 116.516 104.08 112.974 Q105.909 109.409 105.909 102.303 Q105.909 95.1734 104.08 91.6318 Q102.274 88.067 98.6401 88.067 M98.6401 84.3633 Q104.45 84.3633 107.506 88.9697 Q110.584 93.553 110.584 102.303 Q110.584 111.03 107.506 115.636 Q104.45 120.22 98.6401 120.22 Q92.8299 120.22 89.7512 115.636 Q86.6957 111.03 86.6957 102.303 Q86.6957 93.553 89.7512 88.9697 Q92.8299 84.3633 98.6401 84.3633 Z\" fill=\"#000000\" fill-rule=\"evenodd\" fill-opacity=\"1\" /><path clip-path=\"url(#clip6000)\" d=\"M 0 0 M125.654 88.067 Q122.043 88.067 120.214 91.6318 Q118.408 95.1734 118.408 102.303 Q118.408 109.409 120.214 112.974 Q122.043 116.516 125.654 116.516 Q129.288 116.516 131.094 112.974 Q132.922 109.409 132.922 102.303 Q132.922 95.1734 131.094 91.6318 Q129.288 88.067 125.654 88.067 M125.654 84.3633 Q131.464 84.3633 134.52 88.9697 Q137.598 93.553 137.598 102.303 Q137.598 111.03 134.52 115.636 Q131.464 120.22 125.654 120.22 Q119.844 120.22 116.765 115.636 Q113.709 111.03 113.709 102.303 Q113.709 93.553 116.765 88.9697 Q119.844 84.3633 125.654 84.3633 Z\" fill=\"#000000\" fill-rule=\"evenodd\" fill-opacity=\"1\" /><path clip-path=\"url(#clip6000)\" d=\"M 0 0 M152.668 88.067 Q149.056 88.067 147.228 91.6318 Q145.422 95.1734 145.422 102.303 Q145.422 109.409 147.228 112.974 Q149.056 116.516 152.668 116.516 Q156.302 116.516 158.107 112.974 Q159.936 109.409 159.936 102.303 Q159.936 95.1734 158.107 91.6318 Q156.302 88.067 152.668 88.067 M152.668 84.3633 Q158.478 84.3633 161.533 88.9697 Q164.612 93.553 164.612 102.303 Q164.612 111.03 161.533 115.636 Q158.478 120.22 152.668 120.22 Q146.857 120.22 143.779 115.636 Q140.723 111.03 140.723 102.303 Q140.723 93.553 143.779 88.9697 Q146.857 84.3633 152.668 84.3633 Z\" fill=\"#000000\" fill-rule=\"evenodd\" fill-opacity=\"1\" /><polyline clip-path=\"url(#clip6002)\" style=\"stroke:#009af9; stroke-width:4; stroke-opacity:1; fill:none\" points=\"\n",
       "  249.861,1445.72 270.484,1231.34 291.107,1231.34 311.729,1231.34 332.352,1231.34 352.975,1231.34 373.597,1074.12 394.22,1074.12 414.843,102.268 435.465,102.268 \n",
       "  456.088,102.268 476.711,102.268 497.333,102.268 517.956,102.268 538.579,102.268 559.201,102.268 579.824,102.268 600.447,102.268 621.07,102.268 641.692,102.268 \n",
       "  662.315,102.268 682.938,102.268 703.56,102.268 724.183,102.268 744.806,102.268 765.428,102.268 786.051,102.268 806.674,102.268 827.296,102.268 847.919,102.268 \n",
       "  868.542,102.268 889.164,102.268 909.787,102.268 930.41,102.268 951.032,102.268 971.655,102.268 992.278,102.268 1012.9,102.268 1033.52,102.268 1054.15,102.268 \n",
       "  1074.77,102.268 1095.39,102.268 1116.01,102.268 1136.64,102.268 1157.26,102.268 1177.88,102.268 1198.5,102.268 1219.13,102.268 1239.75,102.268 1260.37,102.268 \n",
       "  1281,102.268 1301.62,102.268 1322.24,102.268 1342.86,102.268 1363.49,102.268 1384.11,102.268 1404.73,102.268 1425.35,102.268 1445.98,102.268 1466.6,102.268 \n",
       "  1487.22,102.268 1507.84,87.9763 1528.47,87.9763 1549.09,87.9763 1569.71,87.9763 1590.34,87.9763 1610.96,87.9763 1631.58,87.9763 1652.2,87.9763 1672.83,87.9763 \n",
       "  1693.45,87.9763 1714.07,87.9763 1734.69,87.9763 1755.32,87.9763 1775.94,87.9763 1796.56,87.9763 1817.18,87.9763 1837.81,87.9763 1858.43,87.9763 1879.05,87.9763 \n",
       "  1899.68,87.9763 1920.3,87.9763 1940.92,87.9763 1961.54,87.9763 1982.17,87.9763 2002.79,87.9763 2023.41,87.9763 2044.03,87.9763 2064.66,87.9763 2085.28,87.9763 \n",
       "  2105.9,87.9763 2126.53,87.9763 2147.15,87.9763 2167.77,87.9763 2188.39,87.9763 2209.02,87.9763 2229.64,87.9763 2250.26,87.9763 2270.88,87.9763 2291.51,87.9763 \n",
       "  \n",
       "  \"/>\n",
       "<polyline clip-path=\"url(#clip6002)\" style=\"stroke:#e26f46; stroke-width:4; stroke-opacity:1; fill:none\" points=\"\n",
       "  249.861,1445.72 270.484,1231.34 291.107,1231.34 311.729,1231.34 332.352,1231.34 352.975,1231.34 373.597,1231.34 394.22,1231.34 414.843,1231.34 435.465,1231.34 \n",
       "  456.088,1231.34 476.711,1231.34 497.333,1231.34 517.956,1231.34 538.579,1231.34 559.201,1231.34 579.824,1231.34 600.447,1231.34 621.07,1231.34 641.692,1231.34 \n",
       "  662.315,1231.34 682.938,1231.34 703.56,1231.34 724.183,1231.34 744.806,1231.34 765.428,1231.34 786.051,1231.34 806.674,1231.34 827.296,1231.34 847.919,1231.34 \n",
       "  868.542,1231.34 889.164,1231.34 909.787,1231.34 930.41,1231.34 951.032,1231.34 971.655,1231.34 992.278,1231.34 1012.9,1231.34 1033.52,1231.34 1054.15,1231.34 \n",
       "  1074.77,1231.34 1095.39,1231.34 1116.01,1231.34 1136.64,1231.34 1157.26,1231.34 1177.88,1231.34 1198.5,1231.34 1219.13,1231.34 1239.75,1231.34 1260.37,1231.34 \n",
       "  1281,1231.34 1301.62,1231.34 1322.24,1231.34 1342.86,1231.34 1363.49,1231.34 1384.11,1231.34 1404.73,1231.34 1425.35,1231.34 1445.98,1231.34 1466.6,1231.34 \n",
       "  1487.22,1231.34 1507.84,1231.34 1528.47,1231.34 1549.09,1231.34 1569.71,1231.34 1590.34,1231.34 1610.96,1231.34 1631.58,1231.34 1652.2,1231.34 1672.83,1231.34 \n",
       "  1693.45,1231.34 1714.07,1231.34 1734.69,1231.34 1755.32,1231.34 1775.94,1231.34 1796.56,1231.34 1817.18,1231.34 1837.81,1231.34 1858.43,1231.34 1879.05,1231.34 \n",
       "  1899.68,1231.34 1920.3,1231.34 1940.92,1231.34 1961.54,1231.34 1982.17,1231.34 2002.79,1231.34 2023.41,1231.34 2044.03,1231.34 2064.66,1231.34 2085.28,1231.34 \n",
       "  2105.9,1231.34 2126.53,1231.34 2147.15,1231.34 2167.77,1231.34 2188.39,1231.34 2209.02,1231.34 2229.64,1231.34 2250.26,1231.34 2270.88,1231.34 2291.51,1231.34 \n",
       "  \n",
       "  \"/>\n",
       "<path clip-path=\"url(#clip6000)\" d=\"\n",
       "M1953.07 312.204 L2280.76 312.204 L2280.76 130.764 L1953.07 130.764  Z\n",
       "  \" fill=\"#ffffff\" fill-rule=\"evenodd\" fill-opacity=\"1\"/>\n",
       "<polyline clip-path=\"url(#clip6000)\" style=\"stroke:#000000; stroke-width:4; stroke-opacity:1; fill:none\" points=\"\n",
       "  1953.07,312.204 2280.76,312.204 2280.76,130.764 1953.07,130.764 1953.07,312.204 \n",
       "  \"/>\n",
       "<polyline clip-path=\"url(#clip6000)\" style=\"stroke:#009af9; stroke-width:4; stroke-opacity:1; fill:none\" points=\"\n",
       "  1977.07,191.244 2121.07,191.244 \n",
       "  \"/>\n",
       "<path clip-path=\"url(#clip6000)\" d=\"M 0 0 M2172.94 176.626 L2172.94 181.557 Q2170.58 179.358 2167.9 178.27 Q2165.23 177.182 2162.22 177.182 Q2156.3 177.182 2153.15 180.816 Q2150 184.427 2150 191.279 Q2150 198.107 2153.15 201.742 Q2156.3 205.353 2162.22 205.353 Q2165.23 205.353 2167.9 204.265 Q2170.58 203.177 2172.94 200.978 L2172.94 205.862 Q2170.49 207.529 2167.73 208.362 Q2165 209.195 2161.95 209.195 Q2154.1 209.195 2149.59 204.404 Q2145.07 199.589 2145.07 191.279 Q2145.07 182.946 2149.59 178.154 Q2154.1 173.339 2161.95 173.339 Q2165.05 173.339 2167.78 174.172 Q2170.53 174.983 2172.94 176.626 Z\" fill=\"#000000\" fill-rule=\"evenodd\" fill-opacity=\"1\" /><path clip-path=\"url(#clip6000)\" d=\"M 0 0 M2201.16 203.594 L2201.16 194.311 L2193.52 194.311 L2193.52 190.469 L2205.79 190.469 L2205.79 205.307 Q2203.08 207.228 2199.82 208.223 Q2196.55 209.195 2192.85 209.195 Q2184.75 209.195 2180.16 204.473 Q2175.6 199.728 2175.6 191.279 Q2175.6 182.807 2180.16 178.084 Q2184.75 173.339 2192.85 173.339 Q2196.23 173.339 2199.26 174.172 Q2202.32 175.006 2204.89 176.626 L2204.89 181.603 Q2202.29 179.404 2199.38 178.293 Q2196.46 177.182 2193.24 177.182 Q2186.9 177.182 2183.71 180.723 Q2180.53 184.265 2180.53 191.279 Q2180.53 198.27 2183.71 201.811 Q2186.9 205.353 2193.24 205.353 Q2195.72 205.353 2197.66 204.936 Q2199.61 204.496 2201.16 203.594 Z\" fill=\"#000000\" fill-rule=\"evenodd\" fill-opacity=\"1\" /><path clip-path=\"url(#clip6000)\" d=\"M 0 0 M2215.12 177.807 L2215.12 190.793 L2221 190.793 Q2224.26 190.793 2226.04 189.103 Q2227.83 187.413 2227.83 184.288 Q2227.83 181.186 2226.04 179.496 Q2224.26 177.807 2221 177.807 L2215.12 177.807 M2210.44 173.964 L2221 173.964 Q2226.81 173.964 2229.77 176.603 Q2232.76 179.219 2232.76 184.288 Q2232.76 189.404 2229.77 192.02 Q2226.81 194.635 2221 194.635 L2215.12 194.635 L2215.12 208.524 L2210.44 208.524 L2210.44 173.964 Z\" fill=\"#000000\" fill-rule=\"evenodd\" fill-opacity=\"1\" /><polyline clip-path=\"url(#clip6000)\" style=\"stroke:#e26f46; stroke-width:4; stroke-opacity:1; fill:none\" points=\"\n",
       "  1977.07,251.724 2121.07,251.724 \n",
       "  \"/>\n",
       "<path clip-path=\"url(#clip6000)\" d=\"M 0 0 M2145.07 234.444 L2166.92 234.444 L2166.92 238.379 L2149.75 238.379 L2149.75 248.611 L2166.21 248.611 L2166.21 252.546 L2149.75 252.546 L2149.75 265.069 L2167.34 265.069 L2167.34 269.004 L2145.07 269.004 L2145.07 234.444 Z\" fill=\"#000000\" fill-rule=\"evenodd\" fill-opacity=\"1\" /><path clip-path=\"url(#clip6000)\" d=\"M 0 0 M2192.71 235.578 L2192.71 240.139 Q2190.05 238.865 2187.69 238.24 Q2185.33 237.615 2183.13 237.615 Q2179.31 237.615 2177.22 239.097 Q2175.16 240.578 2175.16 243.31 Q2175.16 245.601 2176.53 246.782 Q2177.92 247.939 2181.76 248.657 L2184.58 249.236 Q2189.82 250.231 2192.29 252.754 Q2194.79 255.254 2194.79 259.467 Q2194.79 264.49 2191.41 267.083 Q2188.06 269.675 2181.55 269.675 Q2179.1 269.675 2176.32 269.12 Q2173.57 268.564 2170.6 267.476 L2170.6 262.662 Q2173.45 264.259 2176.18 265.069 Q2178.91 265.879 2181.55 265.879 Q2185.56 265.879 2187.73 264.305 Q2189.91 262.731 2189.91 259.814 Q2189.91 257.268 2188.33 255.833 Q2186.78 254.398 2183.22 253.68 L2180.37 253.125 Q2175.14 252.083 2172.8 249.861 Q2170.46 247.638 2170.46 243.68 Q2170.46 239.097 2173.68 236.458 Q2176.92 233.819 2182.59 233.819 Q2185.02 233.819 2187.55 234.259 Q2190.07 234.699 2192.71 235.578 Z\" fill=\"#000000\" fill-rule=\"evenodd\" fill-opacity=\"1\" /></svg>\n"
      ]
     },
     "execution_count": 132,
     "metadata": {},
     "output_type": "execute_result"
    }
   ],
   "source": [
    "plot(accumulate(max, cgp_fits), label=\"CGP\")\n",
    "plot!(accumulate(max, es_fits), label=\"ES\")"
   ]
  },
  {
   "cell_type": "markdown",
   "metadata": {
    "slideshow": {
     "slide_type": "fragment"
    }
   },
   "source": [
    "CGP is a clear winner here, but of course to do a fair comparison, we should run both algorithms multiple times and then compare the average best fitness found and the standard deviation, ideally using a statistical significance test to see if the results are truly different. For environments with a known maximum fitness, the percentage of average evolutions which reach the maximum is also a very useful metric."
   ]
  },
  {
   "cell_type": "markdown",
   "metadata": {
    "slideshow": {
     "slide_type": "slide"
    }
   },
   "source": [
    "<div class=\"alert alert-info\">\n",
    "    Using the software provided in the project page, experiment with one or multiple evolutionary methods for the evolution of a game-playing agent. In your video presentations, please show and discuss:\n",
    "    <ul>\n",
    "        <li>Which evolutionary algorithm was used, with a brief overview of the algorithm</li>\n",
    "        <li>What, if any, modifications were made to the algorithm</li>\n",
    "        <li>What algorithm parameters were used and if you experimented with the parameters</li>\n",
    "        <li>If you compared to a second method, these details about the second method</li>\n",
    "        <li>Describe the game you were using</li>\n",
    "        <li>The state, actions, and objective function for the game</li>\n",
    "        <li>If any behavior characteristic was used, describe it</li>\n",
    "        <li>The results of evolution showing multiple trials with statistical analysis</li>\n",
    "        <li>Your interpretation of the results</li>\n",
    "        <li>Video of your agent playing the game</li>\n",
    "    </ul>\n",
    "</div>"
   ]
  },
  {
   "cell_type": "markdown",
   "metadata": {
    "slideshow": {
     "slide_type": "slide"
    }
   },
   "source": [
    "As a bonus, let's see an agent that evolved for 10000 generations (to 50000 total evaluations)"
   ]
  },
  {
   "cell_type": "code",
   "execution_count": 133,
   "metadata": {
    "slideshow": {
     "slide_type": "fragment"
    }
   },
   "outputs": [
    {
     "name": "stderr",
     "output_type": "stream",
     "text": [
      "A.L.E: Arcade Learning Environment (version 0.6.0)\n",
      "[Powered by Stella]\n",
      "Use -help for help screen.\n",
      "Game console created:\n",
      "  ROM file:  /home/d9w/.julia/packages/ArcadeLearningEnvironment/YJh2g/src/../deps/roms/ms_pacman.bin\n",
      "  Cart Name: Ms. Pac-Man (1982) (CCE)\n",
      "  Cart MD5:  9469d18238345d87768e8965f9f4a6b2\n",
      "  Display Format:  AUTO-DETECT ==> NTSC\n",
      "  ROM Size:        8192\n",
      "  Bankswitch Type: AUTO-DETECT ==> F8\n",
      "\n",
      "\n",
      "WARNING: Possibly unsupported ROM: mismatched MD5.\n",
      "Cartridge_MD5: 9469d18238345d87768e8965f9f4a6b2\n",
      "Cartridge_name: Ms. Pac-Man (1982) (CCE)\n",
      "\n",
      "Running ROM file...\n",
      "Random seed is 0\n"
     ]
    },
    {
     "data": {
      "text/plain": [
       "(5320, Frames{MIME{Symbol(\"image/png\")}}(\"/tmp/jl_O86WoS\", 0x0000000000000197, 6.0, nothing))"
      ]
     },
     "execution_count": 133,
     "metadata": {},
     "output_type": "execute_result"
    }
   ],
   "source": [
    "using JSON\n",
    "best = JSON.parsefile(\"best.dna\")\n",
    "ind = CGPInd(cfg, Float64.(best[\"chromosome\"]));\n",
    "total_reward, frames = play_atari(ind, render=true)"
   ]
  },
  {
   "cell_type": "code",
   "execution_count": 134,
   "metadata": {
    "slideshow": {
     "slide_type": "slide"
    }
   },
   "outputs": [
    {
     "data": {
      "text/html": [
       "<img src=\"files/reel-9194819664791664464.gif?11963196656616534967\" />"
      ],
      "text/plain": [
       "Frames{MIME{Symbol(\"image/png\")}}(\"/tmp/jl_O86WoS\", 0x0000000000000197, 6.0, nothing)"
      ]
     },
     "execution_count": 134,
     "metadata": {},
     "output_type": "execute_result"
    }
   ],
   "source": [
    "frames"
   ]
  },
  {
   "cell_type": "markdown",
   "metadata": {
    "slideshow": {
     "slide_type": "fragment"
    }
   },
   "source": [
    "Good luck and have fun!\n",
    "\n",
    "<img src=\"../imgs/cat.gif\" width=\"30%\">"
   ]
  }
 ],
 "metadata": {
  "@webio": {
   "lastCommId": null,
   "lastKernelId": null
  },
  "celltoolbar": "Slideshow",
  "kernelspec": {
   "display_name": "Julia 1.4.1",
   "language": "julia",
   "name": "julia-1.4"
  },
  "language_info": {
   "file_extension": ".jl",
   "mimetype": "application/julia",
   "name": "julia",
   "version": "1.4.1"
  }
 },
 "nbformat": 4,
 "nbformat_minor": 2
}
